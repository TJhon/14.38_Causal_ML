{
 "cells": [
  {
   "cell_type": "markdown",
   "metadata": {},
   "source": [
    "# A Case Study: The Effect of Gun Ownership on Gun-Homicide Rates"
   ]
  },
  {
   "cell_type": "markdown",
   "metadata": {},
   "source": [
    "We consider the problem of estimating the effect of gun\n",
    "ownership on the homicide rate. For this purpose, we estimate the following partially\n",
    "linear model\n",
    "\n",
    "$$\n",
    " Y_{j,t} = \\beta D_{j,(t-1)} + g(Z_{j,t}) + \\epsilon_{j,t}.\n",
    "$$"
   ]
  },
  {
   "cell_type": "markdown",
   "metadata": {},
   "source": [
    "## Data"
   ]
  },
  {
   "cell_type": "markdown",
   "metadata": {},
   "source": [
    "$Y_{j,t}$ is log homicide rate in county $j$ at time $t$, $D_{j, t-1}$ is log  fraction of suicides committed with a firearm in county $j$ at time $t-1$, which we use as a proxy for gun ownership,  and  $Z_{j,t}$ is a set of demographic and economic characteristics of county $j$ at time $t$. The parameter $\\beta$ is the effect of gun ownership on the\n",
    "homicide rates, controlling for county-level demographic and economic characteristics. \n",
    "\n",
    "The sample covers 195 large United States counties between the years 1980 through 1999, giving us 3900 observations."
   ]
  },
  {
   "cell_type": "code",
   "execution_count": 5,
   "metadata": {},
   "outputs": [
    {
     "name": "stderr",
     "output_type": "stream",
     "text": [
      "\u001b[32m\u001b[1m   Resolving\u001b[22m\u001b[39m package versions...\n",
      "\u001b[32m\u001b[1m  No Changes\u001b[22m\u001b[39m to `C:\\Users\\PC\\.julia\\environments\\v1.6\\Project.toml`\n",
      "\u001b[32m\u001b[1m  No Changes\u001b[22m\u001b[39m to `C:\\Users\\PC\\.julia\\environments\\v1.6\\Manifest.toml`\n",
      "\u001b[32m\u001b[1m   Resolving\u001b[22m\u001b[39m package versions...\n",
      "\u001b[32m\u001b[1m  No Changes\u001b[22m\u001b[39m to `C:\\Users\\PC\\.julia\\environments\\v1.6\\Project.toml`\n",
      "\u001b[32m\u001b[1m  No Changes\u001b[22m\u001b[39m to `C:\\Users\\PC\\.julia\\environments\\v1.6\\Manifest.toml`\n"
     ]
    },
    {
     "data": {
      "text/plain": [
       "(nothing, nothing)"
      ]
     },
     "execution_count": 5,
     "metadata": {},
     "output_type": "execute_result"
    }
   ],
   "source": [
    "using Pkg\n",
    "Pkg.add(\"CSV\"), using CSV\n",
    "Pkg.add(\"DataFrames\"), using DataFrames"
   ]
  },
  {
   "cell_type": "code",
   "execution_count": 6,
   "metadata": {},
   "outputs": [
    {
     "data": {
      "text/html": [
       "<table class=\"data-frame\"><thead><tr><th></th><th>Column1</th><th>CountyCode</th><th>logfssl</th><th>BPS030D</th><th>BPS130D</th><th>BPS230D</th><th>BNK010D</th><th>BNK050D</th><th>AGE010D</th></tr><tr><th></th><th>Int64</th><th>Int64</th><th>Float64</th><th>Float64</th><th>Float64</th><th>Float64</th><th>Float64</th><th>Float64</th><th>Float64</th></tr></thead><tbody><p>3,900 rows × 415 columns (omitted printing of 406 columns)</p><tr><th>1</th><td>1</td><td>1073</td><td>3.57217</td><td>6.55878</td><td>10.3356</td><td>6.38017</td><td>4.05163</td><td>12.2093</td><td>10.9079</td></tr><tr><th>2</th><td>2</td><td>1073</td><td>3.54975</td><td>6.55878</td><td>10.3356</td><td>6.38017</td><td>4.05163</td><td>12.2093</td><td>10.9079</td></tr><tr><th>3</th><td>3</td><td>1073</td><td>3.55551</td><td>6.55878</td><td>10.3356</td><td>6.38017</td><td>4.05163</td><td>12.2093</td><td>10.9079</td></tr><tr><th>4</th><td>4</td><td>1073</td><td>3.57985</td><td>6.55878</td><td>10.3356</td><td>6.38017</td><td>4.05163</td><td>12.2093</td><td>10.9079</td></tr><tr><th>5</th><td>5</td><td>1073</td><td>3.53965</td><td>6.55878</td><td>10.3356</td><td>6.38017</td><td>4.05163</td><td>12.2093</td><td>10.9079</td></tr><tr><th>6</th><td>6</td><td>1073</td><td>3.48119</td><td>6.55878</td><td>10.3356</td><td>6.38017</td><td>4.04605</td><td>12.4579</td><td>10.9079</td></tr><tr><th>7</th><td>7</td><td>1073</td><td>3.57639</td><td>6.55878</td><td>10.3356</td><td>6.38017</td><td>4.07361</td><td>12.6188</td><td>10.9079</td></tr><tr><th>8</th><td>8</td><td>1073</td><td>3.3858</td><td>6.55878</td><td>10.3356</td><td>6.38017</td><td>4.07361</td><td>12.6969</td><td>10.9079</td></tr><tr><th>9</th><td>9</td><td>1073</td><td>3.46706</td><td>6.55878</td><td>10.3356</td><td>6.38017</td><td>4.095</td><td>12.7511</td><td>10.9079</td></tr><tr><th>10</th><td>10</td><td>1073</td><td>3.43092</td><td>6.55878</td><td>10.3356</td><td>6.38017</td><td>4.11585</td><td>12.826</td><td>10.9079</td></tr><tr><th>11</th><td>11</td><td>1073</td><td>3.52288</td><td>6.55878</td><td>10.3356</td><td>6.38017</td><td>4.2173</td><td>12.8568</td><td>10.8836</td></tr><tr><th>12</th><td>12</td><td>1073</td><td>3.62135</td><td>6.55878</td><td>10.3356</td><td>6.38017</td><td>4.21275</td><td>12.9526</td><td>10.8836</td></tr><tr><th>13</th><td>13</td><td>1073</td><td>3.54178</td><td>6.55878</td><td>10.3356</td><td>6.38017</td><td>4.25285</td><td>12.9811</td><td>10.8836</td></tr><tr><th>14</th><td>14</td><td>1073</td><td>3.51538</td><td>6.55878</td><td>10.3356</td><td>6.38017</td><td>4.2615</td><td>13.0065</td><td>10.8836</td></tr><tr><th>15</th><td>15</td><td>1073</td><td>3.4794</td><td>6.55878</td><td>10.3356</td><td>6.38017</td><td>4.28691</td><td>13.0235</td><td>10.8836</td></tr><tr><th>16</th><td>16</td><td>1073</td><td>3.43661</td><td>6.7692</td><td>10.4152</td><td>6.36251</td><td>4.27006</td><td>13.0495</td><td>10.8836</td></tr><tr><th>17</th><td>17</td><td>1073</td><td>3.55224</td><td>6.77567</td><td>10.4694</td><td>6.44895</td><td>4.25719</td><td>13.0827</td><td>10.8836</td></tr><tr><th>18</th><td>18</td><td>1073</td><td>3.44893</td><td>6.52095</td><td>10.4247</td><td>6.37315</td><td>4.27853</td><td>13.174</td><td>10.8836</td></tr><tr><th>19</th><td>19</td><td>1073</td><td>3.48506</td><td>6.76584</td><td>10.5317</td><td>6.46941</td><td>4.28691</td><td>13.319</td><td>10.8836</td></tr><tr><th>20</th><td>20</td><td>1073</td><td>3.48073</td><td>6.67078</td><td>10.5875</td><td>6.4565</td><td>4.27006</td><td>13.4165</td><td>10.8836</td></tr><tr><th>21</th><td>21</td><td>1097</td><td>2.6804</td><td>4.64583</td><td>6.91026</td><td>4.52458</td><td>2.58619</td><td>8.74413</td><td>7.93478</td></tr><tr><th>22</th><td>22</td><td>1097</td><td>2.74737</td><td>4.64583</td><td>6.91026</td><td>4.52458</td><td>2.58619</td><td>8.74413</td><td>7.93478</td></tr><tr><th>23</th><td>23</td><td>1097</td><td>2.63943</td><td>4.64583</td><td>6.91026</td><td>4.52458</td><td>2.58619</td><td>8.74413</td><td>7.93478</td></tr><tr><th>24</th><td>24</td><td>1097</td><td>2.70366</td><td>4.64583</td><td>6.91026</td><td>4.52458</td><td>2.58619</td><td>8.74413</td><td>7.93478</td></tr><tr><th>25</th><td>25</td><td>1097</td><td>2.67904</td><td>4.64583</td><td>6.91026</td><td>4.52458</td><td>2.58619</td><td>8.74413</td><td>7.93478</td></tr><tr><th>26</th><td>26</td><td>1097</td><td>2.72988</td><td>4.64583</td><td>6.91026</td><td>4.52458</td><td>2.6581</td><td>8.8433</td><td>7.93478</td></tr><tr><th>27</th><td>27</td><td>1097</td><td>2.64061</td><td>4.64583</td><td>6.91026</td><td>4.52458</td><td>2.64089</td><td>8.82001</td><td>7.93478</td></tr><tr><th>28</th><td>28</td><td>1097</td><td>2.67107</td><td>4.64583</td><td>6.91026</td><td>4.52458</td><td>2.6321</td><td>8.88391</td><td>7.93478</td></tr><tr><th>29</th><td>29</td><td>1097</td><td>2.70121</td><td>4.64583</td><td>6.91026</td><td>4.52458</td><td>2.6321</td><td>8.96566</td><td>7.93478</td></tr><tr><th>30</th><td>30</td><td>1097</td><td>2.58825</td><td>4.64583</td><td>6.91026</td><td>4.52458</td><td>2.64955</td><td>9.0414</td><td>7.93478</td></tr><tr><th>&vellip;</th><td>&vellip;</td><td>&vellip;</td><td>&vellip;</td><td>&vellip;</td><td>&vellip;</td><td>&vellip;</td><td>&vellip;</td><td>&vellip;</td><td>&vellip;</td></tr></tbody></table>"
      ],
      "text/latex": [
       "\\begin{tabular}{r|cccccccccc}\n",
       "\t& Column1 & CountyCode & logfssl & BPS030D & BPS130D & BPS230D & BNK010D & BNK050D & AGE010D & \\\\\n",
       "\t\\hline\n",
       "\t& Int64 & Int64 & Float64 & Float64 & Float64 & Float64 & Float64 & Float64 & Float64 & \\\\\n",
       "\t\\hline\n",
       "\t1 & 1 & 1073 & 3.57217 & 6.55878 & 10.3356 & 6.38017 & 4.05163 & 12.2093 & 10.9079 & $\\dots$ \\\\\n",
       "\t2 & 2 & 1073 & 3.54975 & 6.55878 & 10.3356 & 6.38017 & 4.05163 & 12.2093 & 10.9079 & $\\dots$ \\\\\n",
       "\t3 & 3 & 1073 & 3.55551 & 6.55878 & 10.3356 & 6.38017 & 4.05163 & 12.2093 & 10.9079 & $\\dots$ \\\\\n",
       "\t4 & 4 & 1073 & 3.57985 & 6.55878 & 10.3356 & 6.38017 & 4.05163 & 12.2093 & 10.9079 & $\\dots$ \\\\\n",
       "\t5 & 5 & 1073 & 3.53965 & 6.55878 & 10.3356 & 6.38017 & 4.05163 & 12.2093 & 10.9079 & $\\dots$ \\\\\n",
       "\t6 & 6 & 1073 & 3.48119 & 6.55878 & 10.3356 & 6.38017 & 4.04605 & 12.4579 & 10.9079 & $\\dots$ \\\\\n",
       "\t7 & 7 & 1073 & 3.57639 & 6.55878 & 10.3356 & 6.38017 & 4.07361 & 12.6188 & 10.9079 & $\\dots$ \\\\\n",
       "\t8 & 8 & 1073 & 3.3858 & 6.55878 & 10.3356 & 6.38017 & 4.07361 & 12.6969 & 10.9079 & $\\dots$ \\\\\n",
       "\t9 & 9 & 1073 & 3.46706 & 6.55878 & 10.3356 & 6.38017 & 4.095 & 12.7511 & 10.9079 & $\\dots$ \\\\\n",
       "\t10 & 10 & 1073 & 3.43092 & 6.55878 & 10.3356 & 6.38017 & 4.11585 & 12.826 & 10.9079 & $\\dots$ \\\\\n",
       "\t11 & 11 & 1073 & 3.52288 & 6.55878 & 10.3356 & 6.38017 & 4.2173 & 12.8568 & 10.8836 & $\\dots$ \\\\\n",
       "\t12 & 12 & 1073 & 3.62135 & 6.55878 & 10.3356 & 6.38017 & 4.21275 & 12.9526 & 10.8836 & $\\dots$ \\\\\n",
       "\t13 & 13 & 1073 & 3.54178 & 6.55878 & 10.3356 & 6.38017 & 4.25285 & 12.9811 & 10.8836 & $\\dots$ \\\\\n",
       "\t14 & 14 & 1073 & 3.51538 & 6.55878 & 10.3356 & 6.38017 & 4.2615 & 13.0065 & 10.8836 & $\\dots$ \\\\\n",
       "\t15 & 15 & 1073 & 3.4794 & 6.55878 & 10.3356 & 6.38017 & 4.28691 & 13.0235 & 10.8836 & $\\dots$ \\\\\n",
       "\t16 & 16 & 1073 & 3.43661 & 6.7692 & 10.4152 & 6.36251 & 4.27006 & 13.0495 & 10.8836 & $\\dots$ \\\\\n",
       "\t17 & 17 & 1073 & 3.55224 & 6.77567 & 10.4694 & 6.44895 & 4.25719 & 13.0827 & 10.8836 & $\\dots$ \\\\\n",
       "\t18 & 18 & 1073 & 3.44893 & 6.52095 & 10.4247 & 6.37315 & 4.27853 & 13.174 & 10.8836 & $\\dots$ \\\\\n",
       "\t19 & 19 & 1073 & 3.48506 & 6.76584 & 10.5317 & 6.46941 & 4.28691 & 13.319 & 10.8836 & $\\dots$ \\\\\n",
       "\t20 & 20 & 1073 & 3.48073 & 6.67078 & 10.5875 & 6.4565 & 4.27006 & 13.4165 & 10.8836 & $\\dots$ \\\\\n",
       "\t21 & 21 & 1097 & 2.6804 & 4.64583 & 6.91026 & 4.52458 & 2.58619 & 8.74413 & 7.93478 & $\\dots$ \\\\\n",
       "\t22 & 22 & 1097 & 2.74737 & 4.64583 & 6.91026 & 4.52458 & 2.58619 & 8.74413 & 7.93478 & $\\dots$ \\\\\n",
       "\t23 & 23 & 1097 & 2.63943 & 4.64583 & 6.91026 & 4.52458 & 2.58619 & 8.74413 & 7.93478 & $\\dots$ \\\\\n",
       "\t24 & 24 & 1097 & 2.70366 & 4.64583 & 6.91026 & 4.52458 & 2.58619 & 8.74413 & 7.93478 & $\\dots$ \\\\\n",
       "\t25 & 25 & 1097 & 2.67904 & 4.64583 & 6.91026 & 4.52458 & 2.58619 & 8.74413 & 7.93478 & $\\dots$ \\\\\n",
       "\t26 & 26 & 1097 & 2.72988 & 4.64583 & 6.91026 & 4.52458 & 2.6581 & 8.8433 & 7.93478 & $\\dots$ \\\\\n",
       "\t27 & 27 & 1097 & 2.64061 & 4.64583 & 6.91026 & 4.52458 & 2.64089 & 8.82001 & 7.93478 & $\\dots$ \\\\\n",
       "\t28 & 28 & 1097 & 2.67107 & 4.64583 & 6.91026 & 4.52458 & 2.6321 & 8.88391 & 7.93478 & $\\dots$ \\\\\n",
       "\t29 & 29 & 1097 & 2.70121 & 4.64583 & 6.91026 & 4.52458 & 2.6321 & 8.96566 & 7.93478 & $\\dots$ \\\\\n",
       "\t30 & 30 & 1097 & 2.58825 & 4.64583 & 6.91026 & 4.52458 & 2.64955 & 9.0414 & 7.93478 & $\\dots$ \\\\\n",
       "\t$\\dots$ & $\\dots$ & $\\dots$ & $\\dots$ & $\\dots$ & $\\dots$ & $\\dots$ & $\\dots$ & $\\dots$ & $\\dots$ &  \\\\\n",
       "\\end{tabular}\n"
      ],
      "text/plain": [
       "\u001b[1m3900×415 DataFrame\u001b[0m\n",
       "\u001b[1m  Row \u001b[0m│\u001b[1m Column1 \u001b[0m\u001b[1m CountyCode \u001b[0m\u001b[1m logfssl \u001b[0m\u001b[1m BPS030D \u001b[0m\u001b[1m BPS130D  \u001b[0m\u001b[1m BPS230D \u001b[0m\u001b[1m BNK010D \u001b[0m\u001b[1m BNK\u001b[0m ⋯\n",
       "\u001b[1m      \u001b[0m│\u001b[90m Int64   \u001b[0m\u001b[90m Int64      \u001b[0m\u001b[90m Float64 \u001b[0m\u001b[90m Float64 \u001b[0m\u001b[90m Float64  \u001b[0m\u001b[90m Float64 \u001b[0m\u001b[90m Float64 \u001b[0m\u001b[90m Flo\u001b[0m ⋯\n",
       "──────┼─────────────────────────────────────────────────────────────────────────\n",
       "    1 │       1        1073  3.57217  6.55878  10.3356   6.38017  4.05163  12. ⋯\n",
       "    2 │       2        1073  3.54975  6.55878  10.3356   6.38017  4.05163  12.\n",
       "    3 │       3        1073  3.55551  6.55878  10.3356   6.38017  4.05163  12.\n",
       "    4 │       4        1073  3.57985  6.55878  10.3356   6.38017  4.05163  12.\n",
       "    5 │       5        1073  3.53965  6.55878  10.3356   6.38017  4.05163  12. ⋯\n",
       "    6 │       6        1073  3.48119  6.55878  10.3356   6.38017  4.04605  12.\n",
       "    7 │       7        1073  3.57639  6.55878  10.3356   6.38017  4.07361  12.\n",
       "    8 │       8        1073  3.3858   6.55878  10.3356   6.38017  4.07361  12.\n",
       "    9 │       9        1073  3.46706  6.55878  10.3356   6.38017  4.095    12. ⋯\n",
       "   10 │      10        1073  3.43092  6.55878  10.3356   6.38017  4.11585  12.\n",
       "   11 │      11        1073  3.52288  6.55878  10.3356   6.38017  4.2173   12.\n",
       "  ⋮   │    ⋮         ⋮          ⋮        ⋮        ⋮         ⋮        ⋮         ⋱\n",
       " 3891 │    3891       55133  2.10734  4.54342   7.16619  4.29539  2.41556   8.\n",
       " 3892 │    3892       55133  2.2572   4.54342   7.16619  4.29539  2.48245   8. ⋯\n",
       " 3893 │    3893       55133  2.08354  4.54342   7.16619  4.29539  2.46321   8.\n",
       " 3894 │    3894       55133  2.14196  4.54342   7.16619  4.29539  2.58563   8.\n",
       " 3895 │    3895       55133  2.06408  4.54342   7.16619  4.29539  2.60617   8.\n",
       " 3896 │    3896       55133  2.15083  4.4651    7.07995  4.16048  2.61118   8. ⋯\n",
       " 3897 │    3897       55133  2.30588  4.49111   7.13281  4.21926  2.60617   8.\n",
       " 3898 │    3898       55133  2.25912  4.47817   7.11593  4.13067  2.7359    8.\n",
       " 3899 │    3899       55133  1.97887  4.46791   7.18675  4.21761  2.7555    8.\n",
       " 3900 │    3900       55133  2.34731  4.48706   7.26051  4.2684   2.78182   8. ⋯\n",
       "\u001b[36m                                               408 columns and 3879 rows omitted\u001b[0m"
      ]
     },
     "execution_count": 6,
     "metadata": {},
     "output_type": "execute_result"
    }
   ],
   "source": [
    "data = CSV.File(\"../data/gun_clean.csv\") |> DataFrame"
   ]
  }
 ],
 "metadata": {
  "kernelspec": {
   "display_name": "Julia 1.6.5",
   "language": "julia",
   "name": "julia-1.6"
  },
  "language_info": {
   "file_extension": ".jl",
   "mimetype": "application/julia",
   "name": "julia",
   "version": "1.6.5"
  },
  "orig_nbformat": 4
 },
 "nbformat": 4,
 "nbformat_minor": 2
}
