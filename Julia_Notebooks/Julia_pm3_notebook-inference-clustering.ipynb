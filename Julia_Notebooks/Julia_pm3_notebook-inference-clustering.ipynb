{
 "cells": [
  {
   "cell_type": "markdown",
   "metadata": {},
   "source": [
    "# A Case Study: The Effect of Gun Ownership on Gun-Homicide Rates"
   ]
  },
  {
   "cell_type": "markdown",
   "metadata": {},
   "source": [
    "We consider the problem of estimating the effect of gun\n",
    "ownership on the homicide rate. For this purpose, we estimate the following partially\n",
    "linear model\n",
    "\n",
    "$$\n",
    " Y_{j,t} = \\beta D_{j,(t-1)} + g(Z_{j,t}) + \\epsilon_{j,t}.\n",
    "$$"
   ]
  },
  {
   "cell_type": "markdown",
   "metadata": {},
   "source": [
    "## Data"
   ]
  },
  {
   "cell_type": "markdown",
   "metadata": {},
   "source": [
    "$Y_{j,t}$ is log homicide rate in county $j$ at time $t$, $D_{j, t-1}$ is log  fraction of suicides committed with a firearm in county $j$ at time $t-1$, which we use as a proxy for gun ownership,  and  $Z_{j,t}$ is a set of demographic and economic characteristics of county $j$ at time $t$. The parameter $\\beta$ is the effect of gun ownership on the\n",
    "homicide rates, controlling for county-level demographic and economic characteristics. \n",
    "\n",
    "The sample covers 195 large United States counties between the years 1980 through 1999, giving us 3900 observations."
   ]
  },
  {
   "cell_type": "code",
   "execution_count": 1,
   "metadata": {},
   "outputs": [
    {
     "name": "stderr",
     "output_type": "stream",
     "text": [
      "\u001b[32m\u001b[1m    Updating\u001b[22m\u001b[39m registry at `C:\\Users\\PC\\.julia\\registries\\General`\n",
      "\u001b[32m\u001b[1m    Updating\u001b[22m\u001b[39m git-repo `https://github.com/JuliaRegistries/General.git`\n",
      "\u001b[32m\u001b[1m   Resolving\u001b[22m\u001b[39m package versions...\n",
      "\u001b[32m\u001b[1m  No Changes\u001b[22m\u001b[39m to `C:\\Users\\PC\\.julia\\environments\\v1.6\\Project.toml`\n",
      "\u001b[32m\u001b[1m  No Changes\u001b[22m\u001b[39m to `C:\\Users\\PC\\.julia\\environments\\v1.6\\Manifest.toml`\n",
      "\u001b[32m\u001b[1m   Resolving\u001b[22m\u001b[39m package versions...\n",
      "\u001b[32m\u001b[1m  No Changes\u001b[22m\u001b[39m to `C:\\Users\\PC\\.julia\\environments\\v1.6\\Project.toml`\n",
      "\u001b[32m\u001b[1m  No Changes\u001b[22m\u001b[39m to `C:\\Users\\PC\\.julia\\environments\\v1.6\\Manifest.toml`\n",
      "\u001b[32m\u001b[1m   Resolving\u001b[22m\u001b[39m package versions...\n",
      "\u001b[32m\u001b[1m  No Changes\u001b[22m\u001b[39m to `C:\\Users\\PC\\.julia\\environments\\v1.6\\Project.toml`\n",
      "\u001b[32m\u001b[1m  No Changes\u001b[22m\u001b[39m to `C:\\Users\\PC\\.julia\\environments\\v1.6\\Manifest.toml`\n",
      "\u001b[32m\u001b[1m   Resolving\u001b[22m\u001b[39m package versions...\n",
      "\u001b[32m\u001b[1m  No Changes\u001b[22m\u001b[39m to `C:\\Users\\PC\\.julia\\environments\\v1.6\\Project.toml`\n",
      "\u001b[32m\u001b[1m  No Changes\u001b[22m\u001b[39m to `C:\\Users\\PC\\.julia\\environments\\v1.6\\Manifest.toml`\n",
      "\u001b[32m\u001b[1m   Resolving\u001b[22m\u001b[39m package versions...\n",
      "\u001b[32m\u001b[1m  No Changes\u001b[22m\u001b[39m to `C:\\Users\\PC\\.julia\\environments\\v1.6\\Project.toml`\n",
      "\u001b[32m\u001b[1m  No Changes\u001b[22m\u001b[39m to `C:\\Users\\PC\\.julia\\environments\\v1.6\\Manifest.toml`\n"
     ]
    },
    {
     "data": {
      "text/plain": [
       "(nothing, nothing)"
      ]
     },
     "execution_count": 1,
     "metadata": {},
     "output_type": "execute_result"
    }
   ],
   "source": [
    "using Pkg\n",
    "Pkg.add(\"CSV\"), using CSV\n",
    "Pkg.add(\"DataFrames\"), using DataFrames\n",
    "Pkg.add(\"StatsModels\"), using StatsModels\n",
    "Pkg.add(\"GLM\"), using GLM\n",
    "Pkg.add(\"Random\"), using Random"
   ]
  },
  {
   "cell_type": "code",
   "execution_count": 2,
   "metadata": {},
   "outputs": [
    {
     "name": "stdout",
     "output_type": "stream",
     "text": [
      "Number of rows: 3900\n",
      "Number of columns: 415\n"
     ]
    }
   ],
   "source": [
    "data = CSV.File(\"../data/gun_clean.csv\") |> DataFrame;\n",
    "println(\"Number of rows: \",size(data,1))\n",
    "println(\"Number of columns: \",size(data,2))"
   ]
  },
  {
   "cell_type": "markdown",
   "metadata": {},
   "source": [
    "### Preprocessing"
   ]
  },
  {
   "cell_type": "markdown",
   "metadata": {},
   "source": [
    "To account for heterogeneity across counties and time trends in  all variables, we remove from them county-specific and time-specific effects in the following preprocessing."
   ]
  },
  {
   "cell_type": "code",
   "execution_count": 3,
   "metadata": {},
   "outputs": [
    {
     "data": {
      "text/plain": [
       "varlist (generic function with 5 methods)"
      ]
     },
     "execution_count": 3,
     "metadata": {},
     "output_type": "execute_result"
    }
   ],
   "source": [
    "function varlist(df = nothing , type_dataframe = [\"numeric\",\"categorical\",\"string\"], pattern=String , exclude =  nothing)\n",
    "\n",
    "    varrs = []\n",
    "    if \"numeric\" in type_dataframe\n",
    "        append!(varrs, [i for i in names(data) if eltype(eachcol(data)[i]) <: Number])    \n",
    "    end\n",
    "    if \"categorical\" in type_dataframe\n",
    "        append!(varrs,[i for i in names(data) if eltype(eachcol(data)[i]) <: CategoricalVector])\n",
    "    end\n",
    "    if \"string\" in type_dataframe\n",
    "        append!(varrs,[i for i in names(data) if eltype(eachcol(data)[i]) <: String])\n",
    "    end\n",
    "    varrs[(!varrs in exclude) & varrs[findall(x->contains(x,pattern),names(data))]]\n",
    "end"
   ]
  },
  {
   "cell_type": "code",
   "execution_count": 4,
   "metadata": {},
   "outputs": [],
   "source": [
    "fixed = filter(x->contains(x,\"X_Jfips\"),names(data));\n",
    "year = filter(x->contains(x,\"X_Tyear\"),names(data));"
   ]
  },
  {
   "cell_type": "code",
   "execution_count": 5,
   "metadata": {},
   "outputs": [
    {
     "data": {
      "text/plain": [
       "(21,)"
      ]
     },
     "execution_count": 5,
     "metadata": {},
     "output_type": "execute_result"
    }
   ],
   "source": [
    "size(year)"
   ]
  },
  {
   "cell_type": "code",
   "execution_count": 6,
   "metadata": {},
   "outputs": [],
   "source": [
    "census = []\n",
    "census_var = [\"AGE\", \"BN\", \"BP\", \"BZ\", \"ED\", \"EL\",\"HI\", \"HS\", \"INC\", \"LF\", \"LN\", \"PI\", \"PO\", \"PP\", \"PV\", \"SPR\", \"VS\"]\n",
    "for i in 1:size(census_var,1) \n",
    "    append!(census,filter(x->contains(x,census_var[i]),names(data)))\n",
    "end"
   ]
  },
  {
   "cell_type": "code",
   "execution_count": 7,
   "metadata": {},
   "outputs": [],
   "source": [
    "d = [\"logfssl\"]\n",
    "y = [\"logghomr\"]\n",
    "X1 = [\"logrobr\", \"logburg\", \"burg_missing\", \"robrate_missing\"]\n",
    "X2 = [\"newblack\", \"newfhh\", \"newmove\", \"newdens\", \"newmal\"]\n",
    "\n",
    "variable = [y, d,X1, X2, census]\n",
    "varlis = []\n",
    "for i in variable\n",
    "    append!(varlis,i)\n",
    "end\n"
   ]
  },
  {
   "cell_type": "code",
   "execution_count": 8,
   "metadata": {},
   "outputs": [],
   "source": [
    "example = DataFrame(CountyCode = data[:,\"CountyCode\"]);\n",
    "rdata = DataFrame(CountyCode = data[:,\"CountyCode\"]);\n",
    "\n",
    "for i in 1:size(varlis,1)\n",
    "    rdata[!,varlis[i]]= residuals(lm(term(Symbol(varlis[i])) ~ sum(term.(Symbol.(year))) + sum(term.(Symbol.(fixed))), data))\n",
    "end"
   ]
  },
  {
   "cell_type": "code",
   "execution_count": 9,
   "metadata": {},
   "outputs": [
    {
     "data": {
      "text/plain": [
       "(3900, 198)"
      ]
     },
     "execution_count": 9,
     "metadata": {},
     "output_type": "execute_result"
    }
   ],
   "source": [
    "size(rdata)"
   ]
  },
  {
   "cell_type": "markdown",
   "metadata": {},
   "source": [
    "Now, we can construct the treatment variable, the outcome variable and the matrix $Z$ that includes the control variables."
   ]
  },
  {
   "cell_type": "code",
   "execution_count": 10,
   "metadata": {},
   "outputs": [
    {
     "data": {
      "text/plain": [
       "(3900, 195)"
      ]
     },
     "execution_count": 10,
     "metadata": {},
     "output_type": "execute_result"
    }
   ],
   "source": [
    "# treatment variable\n",
    "\n",
    "D = rdata[!,d]\n",
    "# Outcome variable\n",
    "Y = rdata[!,y];\n",
    "\n",
    "# Construct matrix Z\n",
    "Z = rdata[!, varlis[3:end]]\n",
    "\n",
    "size(Z)"
   ]
  },
  {
   "cell_type": "markdown",
   "metadata": {},
   "source": [
    "We have in total 195 control variables. The control variables $Z_{j,t}$ are from the U.S. Census Bureau and  contain demographic and economic characteristics of the counties such as  the age distribution, the income distribution, crime rates, federal spending, home ownership rates, house prices, educational attainment, voting paterns, employment statistics, and migration rates. "
   ]
  },
  {
   "cell_type": "code",
   "execution_count": 11,
   "metadata": {},
   "outputs": [],
   "source": [
    "clu = select(rdata,:CountyCode)\n",
    "data = hcat(Y,D,Z,clu);"
   ]
  },
  {
   "cell_type": "code",
   "execution_count": 12,
   "metadata": {},
   "outputs": [
    {
     "data": {
      "text/plain": [
       "(3900, 198)"
      ]
     },
     "execution_count": 12,
     "metadata": {},
     "output_type": "execute_result"
    }
   ],
   "source": [
    "size(data)"
   ]
  },
  {
   "cell_type": "markdown",
   "metadata": {},
   "source": [
    "## The effect of gun ownership\n"
   ]
  },
  {
   "cell_type": "markdown",
   "metadata": {},
   "source": [
    "### OLS"
   ]
  },
  {
   "cell_type": "markdown",
   "metadata": {},
   "source": [
    "After preprocessing the data, we first look at simple regression of $Y_{j,t}$ on $D_{j,t-1}$ without controls as a baseline model."
   ]
  },
  {
   "cell_type": "code",
   "execution_count": 13,
   "metadata": {},
   "outputs": [
    {
     "name": "stderr",
     "output_type": "stream",
     "text": [
      "\u001b[32m\u001b[1m   Resolving\u001b[22m\u001b[39m package versions...\n",
      "\u001b[32m\u001b[1m  No Changes\u001b[22m\u001b[39m to `C:\\Users\\PC\\.julia\\environments\\v1.6\\Project.toml`\n",
      "\u001b[32m\u001b[1m  No Changes\u001b[22m\u001b[39m to `C:\\Users\\PC\\.julia\\environments\\v1.6\\Manifest.toml`\n"
     ]
    },
    {
     "data": {
      "text/plain": [
       "(nothing, nothing)"
      ]
     },
     "execution_count": 13,
     "metadata": {},
     "output_type": "execute_result"
    }
   ],
   "source": [
    "Pkg.add(\"FixedEffectModels\"), using FixedEffectModels"
   ]
  },
  {
   "cell_type": "code",
   "execution_count": 14,
   "metadata": {},
   "outputs": [
    {
     "name": "stdout",
     "output_type": "stream",
     "text": [
      "[0.16710155204187516 0.3975073812245494]\n",
      "[0.2823044666332123]\n"
     ]
    }
   ],
   "source": [
    "baseline_ols = reg(data, @formula(logghomr ~ 1 + logfssl +fe(CountyCode)));\n",
    "est_baseline = coef(baseline_ols) ;\n",
    "println(confint(baseline_ols))\n",
    "println(est_baseline)\n"
   ]
  },
  {
   "cell_type": "markdown",
   "metadata": {},
   "source": [
    "The point estimate is $0.282$ with the confidence interval ranging from 0.167 to 0.397. This\n",
    "suggests that increases in gun ownership rates are related to gun homicide rates - if gun ownership increases by 1% relative\n",
    "to a trend then the predicted gun homicide rate goes up by 0.28%, without controlling for counties' characteristics.\n",
    "\n",
    "Since our goal is to estimate the effect of gun ownership after controlling for a rich set county characteristics we next include the controls. First, we estimate the model by ols and then by an array of the modern regression methods using the double machine learning approach."
   ]
  },
  {
   "cell_type": "code",
   "execution_count": 15,
   "metadata": {},
   "outputs": [
    {
     "name": "stdout",
     "output_type": "stream",
     "text": [
      "[0.07713994894072317, 0.30415014815530284]\n",
      "0.190645048548013\n"
     ]
    }
   ],
   "source": [
    "control_ols= reg(data,term(:logghomr) ~  term(:logfssl) + sum(term.(Symbol.(names(Z)))) + fe(:CountyCode))\n",
    "est_ols = coef(control_ols)[1]\n",
    "println(confint(control_ols)[1,1:2])\n",
    "println(est_ols[1])\n"
   ]
  },
  {
   "cell_type": "markdown",
   "metadata": {},
   "source": [
    "# DML algorithm\n",
    "\n",
    "Here we perform inference of the predictive coefficient $\\beta$ in our partially linear statistical model, \n",
    "\n",
    "$$\n",
    "Y = D\\beta + g(Z) + \\epsilon, \\quad E (\\epsilon | D, Z) = 0,\n",
    "$$\n",
    "\n",
    "using the **double machine learning** approach. \n",
    "\n",
    "For $\\tilde Y = Y- E(Y|Z)$ and $\\tilde D= D- E(D|Z)$, we can write\n",
    "$$\n",
    "\\tilde Y = \\alpha \\tilde D + \\epsilon, \\quad E (\\epsilon |\\tilde D) =0.\n",
    "$$\n",
    "\n",
    "Using cross-fitting, we employ modern regression methods\n",
    "to build estimators $\\hat \\ell(Z)$ and $\\hat m(Z)$ of $\\ell(Z):=E(Y|Z)$ and $m(Z):=E(D|Z)$ to obtain the estimates of the residualized quantities:\n",
    "\n",
    "$$\n",
    "\\tilde Y_i = Y_i  - \\hat \\ell (Z_i),   \\quad \\tilde D_i = D_i - \\hat m(Z_i), \\quad \\text{ for each } i = 1,\\dots,n.\n",
    "$$\n",
    "\n",
    "Finally, using ordinary least squares of $\\tilde Y_i$ on $\\tilde D_i$, we obtain the \n",
    "estimate of $\\beta$."
   ]
  },
  {
   "cell_type": "code",
   "execution_count": 16,
   "metadata": {},
   "outputs": [
    {
     "name": "stderr",
     "output_type": "stream",
     "text": [
      "\u001b[32m\u001b[1m   Resolving\u001b[22m\u001b[39m package versions...\n",
      "\u001b[32m\u001b[1m  No Changes\u001b[22m\u001b[39m to `C:\\Users\\PC\\.julia\\environments\\v1.6\\Project.toml`\n",
      "\u001b[32m\u001b[1m  No Changes\u001b[22m\u001b[39m to `C:\\Users\\PC\\.julia\\environments\\v1.6\\Manifest.toml`\n",
      "\u001b[32m\u001b[1m   Resolving\u001b[22m\u001b[39m package versions...\n",
      "\u001b[32m\u001b[1m  No Changes\u001b[22m\u001b[39m to `C:\\Users\\PC\\.julia\\environments\\v1.6\\Project.toml`\n",
      "\u001b[32m\u001b[1m  No Changes\u001b[22m\u001b[39m to `C:\\Users\\PC\\.julia\\environments\\v1.6\\Manifest.toml`\n"
     ]
    },
    {
     "data": {
      "text/plain": [
       "(nothing, nothing)"
      ]
     },
     "execution_count": 16,
     "metadata": {},
     "output_type": "execute_result"
    }
   ],
   "source": [
    "Pkg.add(\"MLDataUtils\"), using  MLDataUtils\n",
    "Pkg.add(\"MLBase\"), using  MLBase \n"
   ]
  },
  {
   "cell_type": "code",
   "execution_count": 17,
   "metadata": {},
   "outputs": [
    {
     "data": {
      "text/plain": [
       "DML2_for_PLM (generic function with 1 method)"
      ]
     },
     "execution_count": 17,
     "metadata": {},
     "output_type": "execute_result"
    }
   ],
   "source": [
    "function DML2_for_PLM(z , d , y, dreg , yreg , nfold, clu)\n",
    "    nobser = size(z,1) #number of observations\n",
    "    foldid = collect(Kfold(size(z)[1], nfold))\n",
    "    ytil = ones(nobser)\n",
    "    dtil = ones(nobser)\n",
    "    println(\"Folds: \" )\n",
    "    for i in 1:nfold\n",
    "        dfit = dreg(z[foldid[i],:], d[foldid[i]])\n",
    "        yfit = yreg(z[foldid[i],:], y[foldid[i]])\n",
    "        dhat = predict(dfit, z[Not(foldid[i]),:])\n",
    "        yhat = predict(yfit, z[Not(foldid[i]),:])\n",
    "        dtil[Not(foldid[i])]   = (d[Not(foldid[i])] - dhat)\n",
    "        ytil[Not(foldid[i])]   = (y[Not(foldid[i])] - yhat)\n",
    "        println(i)\n",
    "    end\n",
    "    \n",
    "    data = DataFrame(ytil = ytil, dtil = dtil, clu=clu)\n",
    "    rfit = reg(data, @formula(ytil ~ dtil +fe(clu)))\n",
    "    coef_est = coef(rfit)[1]\n",
    "    se = FixedEffectModels.coeftable(rfit).cols[2]\n",
    "\n",
    "    println(\" coef (se) = \", coef_est ,\"(\",se,\")\")\n",
    "    \n",
    "end"
   ]
  },
  {
   "cell_type": "markdown",
   "metadata": {},
   "source": [
    "Now, we apply the Double Machine Learning (DML) approach with different machine learning methods. First, we load the relevant libraries."
   ]
  },
  {
   "cell_type": "markdown",
   "metadata": {},
   "source": [
    "Let us, construct the input matrices."
   ]
  },
  {
   "cell_type": "code",
   "execution_count": 18,
   "metadata": {},
   "outputs": [
    {
     "data": {
      "text/html": [
       "<table class=\"data-frame\"><thead><tr><th></th><th>logghomr</th><th>logfssl</th><th>CountyCode</th></tr><tr><th></th><th>Float64</th><th>Float64</th><th>Int64</th></tr></thead><tbody><p>6 rows × 3 columns</p><tr><th>1</th><td>-0.134778</td><td>0.0961271</td><td>1073</td></tr><tr><th>2</th><td>-0.239622</td><td>0.0808094</td><td>1073</td></tr><tr><th>3</th><td>-0.0786772</td><td>0.0573399</td><td>1073</td></tr><tr><th>4</th><td>-0.331465</td><td>0.0816945</td><td>1073</td></tr><tr><th>5</th><td>-0.31664</td><td>0.0253655</td><td>1073</td></tr><tr><th>6</th><td>0.105132</td><td>-0.00677726</td><td>1073</td></tr></tbody></table>"
      ],
      "text/latex": [
       "\\begin{tabular}{r|ccc}\n",
       "\t& logghomr & logfssl & CountyCode\\\\\n",
       "\t\\hline\n",
       "\t& Float64 & Float64 & Int64\\\\\n",
       "\t\\hline\n",
       "\t1 & -0.134778 & 0.0961271 & 1073 \\\\\n",
       "\t2 & -0.239622 & 0.0808094 & 1073 \\\\\n",
       "\t3 & -0.0786772 & 0.0573399 & 1073 \\\\\n",
       "\t4 & -0.331465 & 0.0816945 & 1073 \\\\\n",
       "\t5 & -0.31664 & 0.0253655 & 1073 \\\\\n",
       "\t6 & 0.105132 & -0.00677726 & 1073 \\\\\n",
       "\\end{tabular}\n"
      ],
      "text/plain": [
       "\u001b[1m6×3 DataFrame\u001b[0m\n",
       "\u001b[1m Row \u001b[0m│\u001b[1m logghomr   \u001b[0m\u001b[1m logfssl     \u001b[0m\u001b[1m CountyCode \u001b[0m\n",
       "\u001b[1m     \u001b[0m│\u001b[90m Float64    \u001b[0m\u001b[90m Float64     \u001b[0m\u001b[90m Int64      \u001b[0m\n",
       "─────┼─────────────────────────────────────\n",
       "   1 │ -0.134778    0.0961271         1073\n",
       "   2 │ -0.239622    0.0808094         1073\n",
       "   3 │ -0.0786772   0.0573399         1073\n",
       "   4 │ -0.331465    0.0816945         1073\n",
       "   5 │ -0.31664     0.0253655         1073\n",
       "   6 │  0.105132   -0.00677726        1073"
      ]
     },
     "execution_count": 18,
     "metadata": {},
     "output_type": "execute_result"
    }
   ],
   "source": [
    "z = Matrix(Z);\n",
    "d = D[!,1];\n",
    "y = Y[!,1];\n",
    "clu = rdata[!, :CountyCode];\n",
    "first(DataFrame(logghomr = y,logfssl = d,CountyCode = clu ),6)"
   ]
  },
  {
   "cell_type": "markdown",
   "metadata": {},
   "source": [
    "In the following, we apply the DML approach with the differnt versions of lasso.\n"
   ]
  },
  {
   "cell_type": "markdown",
   "metadata": {},
   "source": [
    "## Lasso"
   ]
  },
  {
   "cell_type": "code",
   "execution_count": 27,
   "metadata": {},
   "outputs": [
    {
     "name": "stderr",
     "output_type": "stream",
     "text": [
      "\u001b[32m\u001b[1m   Resolving\u001b[22m\u001b[39m package versions...\n",
      "\u001b[32m\u001b[1m  No Changes\u001b[22m\u001b[39m to `C:\\Users\\PC\\.julia\\environments\\v1.6\\Project.toml`\n",
      "\u001b[32m\u001b[1m  No Changes\u001b[22m\u001b[39m to `C:\\Users\\PC\\.julia\\environments\\v1.6\\Manifest.toml`\n"
     ]
    }
   ],
   "source": [
    "Pkg.add(\"Lasso\")\n",
    "using Lasso"
   ]
  },
  {
   "cell_type": "code",
   "execution_count": 28,
   "metadata": {},
   "outputs": [
    {
     "data": {
      "text/plain": [
       "yreg (generic function with 1 method)"
      ]
     },
     "execution_count": 28,
     "metadata": {},
     "output_type": "execute_result"
    }
   ],
   "source": [
    "Random.seed!(123)\n",
    "function dreg(z,d)\n",
    "    fit(LassoModel,z,d)\n",
    "end\n",
    "############################\n",
    "function yreg(z,y)\n",
    "    fit(LassoModel,z,y)\n",
    "end"
   ]
  },
  {
   "cell_type": "code",
   "execution_count": 29,
   "metadata": {},
   "outputs": [
    {
     "name": "stdout",
     "output_type": "stream",
     "text": [
      "Folds: \n",
      "1\n",
      "2\n",
      "3\n",
      "4\n",
      "5\n",
      "6\n",
      "7\n",
      "8\n",
      "9\n",
      "10\n",
      " coef (se) = 0.21746777340792475([0.05684513522721778])\n"
     ]
    }
   ],
   "source": [
    "DML2_for_PLM(z,d,y,dreg,yreg,10, clu)"
   ]
  },
  {
   "cell_type": "code",
   "execution_count": 30,
   "metadata": {},
   "outputs": [
    {
     "data": {
      "text/plain": [
       "yreg (generic function with 1 method)"
      ]
     },
     "execution_count": 30,
     "metadata": {},
     "output_type": "execute_result"
    }
   ],
   "source": [
    "Random.seed!(123)\n",
    "function dreg(z,d)\n",
    "    lm(z,d)\n",
    "end\n",
    "############################\n",
    "function yreg(z,y)\n",
    "    lm(z,y)\n",
    "end"
   ]
  },
  {
   "cell_type": "code",
   "execution_count": 31,
   "metadata": {},
   "outputs": [
    {
     "name": "stdout",
     "output_type": "stream",
     "text": [
      "Folds: \n",
      "1\n",
      "2\n",
      "3\n",
      "4\n",
      "5\n",
      "6\n",
      "7\n",
      "8\n",
      "9\n",
      "10\n",
      " coef (se) = 0.19238646740846427([0.055910609508539474])\n"
     ]
    }
   ],
   "source": [
    "DML2_for_PLM(z,d,y,dreg,yreg,10, clu)"
   ]
  },
  {
   "cell_type": "code",
   "execution_count": 35,
   "metadata": {},
   "outputs": [
    {
     "name": "stderr",
     "output_type": "stream",
     "text": [
      "\u001b[32m\u001b[1m   Resolving\u001b[22m\u001b[39m package versions...\n",
      "\u001b[32m\u001b[1m  No Changes\u001b[22m\u001b[39m to `C:\\Users\\PC\\.julia\\environments\\v1.6\\Project.toml`\n",
      "\u001b[32m\u001b[1m  No Changes\u001b[22m\u001b[39m to `C:\\Users\\PC\\.julia\\environments\\v1.6\\Manifest.toml`\n",
      "WARNING: using GLMNet.predict in module Main conflicts with an existing identifier.\n",
      "WARNING: using GLMNet.coef in module Main conflicts with an existing identifier.\n"
     ]
    },
    {
     "data": {
      "text/plain": [
       "(nothing, nothing)"
      ]
     },
     "execution_count": 35,
     "metadata": {},
     "output_type": "execute_result"
    }
   ],
   "source": [
    "Pkg.add( \"GLMNet\" ), using GLMNet"
   ]
  },
  {
   "cell_type": "code",
   "execution_count": 58,
   "metadata": {},
   "outputs": [
    {
     "data": {
      "text/plain": [
       "yreg (generic function with 1 method)"
      ]
     },
     "execution_count": 58,
     "metadata": {},
     "output_type": "execute_result"
    }
   ],
   "source": [
    "function dreg(z,d)\n",
    "    glmnetcv(z,d, alpha = 1)    \n",
    "end\n",
    "function yreg(z,y)\n",
    "    glmnetcv(z,y, alpha = 1)    \n",
    "end\n"
   ]
  },
  {
   "cell_type": "code",
   "execution_count": 60,
   "metadata": {},
   "outputs": [
    {
     "data": {
      "text/plain": [
       "DML2_lasso_cv (generic function with 1 method)"
      ]
     },
     "execution_count": 60,
     "metadata": {},
     "output_type": "execute_result"
    }
   ],
   "source": [
    "function DML2_lasso_cv(z , d , y, dreg , yreg , nfold, clu)\n",
    "    nobser = size(z,1) #number of observations\n",
    "    foldid = collect(Kfold(size(z)[1], nfold))\n",
    "    ytil = ones(nobser)\n",
    "    dtil = ones(nobser)\n",
    "    println(\"Folds: \" )\n",
    "    for i in 1:nfold\n",
    "        dfit = dreg(z[foldid[i],:], d[foldid[i]])\n",
    "        yfit = yreg(z[foldid[i],:], y[foldid[i]])\n",
    "        dhat = GLMNet.predict(dfit, z[Not(foldid[i]),:])\n",
    "        yhat = GLMNet.predict(yfit, z[Not(foldid[i]),:])\n",
    "        dtil[Not(foldid[i])]   = (d[Not(foldid[i])] - dhat)\n",
    "        ytil[Not(foldid[i])]   = (y[Not(foldid[i])] - yhat)\n",
    "        println(i)\n",
    "    end\n",
    "    \n",
    "    data = DataFrame(ytil = ytil, dtil = dtil, clu=clu)\n",
    "    rfit = reg(data, @formula(ytil ~ dtil +fe(clu)))\n",
    "    coef_est = coef(rfit)[1]\n",
    "    se = FixedEffectModels.coeftable(rfit).cols[2]\n",
    "\n",
    "    println(\" coef (se) = \", coef_est ,\"(\",se,\")\")\n",
    "    \n",
    "end"
   ]
  },
  {
   "cell_type": "code",
   "execution_count": 61,
   "metadata": {},
   "outputs": [
    {
     "name": "stdout",
     "output_type": "stream",
     "text": [
      "Folds: \n",
      "1\n",
      "2\n",
      "3\n",
      "4\n",
      "5\n",
      " coef (se) = 0.22175788331938862([0.05714541408824094])\n"
     ]
    }
   ],
   "source": [
    "##ML method = lasso from glmnet \n",
    "DML2_lasso_cv(z,d,y,dreg,yreg,5,clu)"
   ]
  },
  {
   "cell_type": "code",
   "execution_count": 70,
   "metadata": {},
   "outputs": [
    {
     "name": "stdout",
     "output_type": "stream",
     "text": [
      "Folds: \n",
      "1\n",
      "2\n",
      "3\n",
      "4\n",
      "5\n",
      " coef (se) = 0.21292842026679842([0.05656523719231371])\n"
     ]
    }
   ],
   "source": [
    "##ML method = elastic net from glmnet \n",
    "dreg(z,d) = glmnetcv(z,d, alpha = 0.5) \n",
    "yreg(z,y) = glmnetcv(z,y, alpha = 0.5)\n",
    "\n",
    "DML2_elnet = DML2_lasso_cv(z, d, y, dreg, yreg, 5, clu)"
   ]
  },
  {
   "cell_type": "code",
   "execution_count": 71,
   "metadata": {},
   "outputs": [
    {
     "name": "stdout",
     "output_type": "stream",
     "text": [
      "Folds: \n",
      "1\n",
      "2\n",
      "3\n",
      "4\n",
      "5\n",
      " coef (se) = 0.22828803395887365([0.057269274961695094])\n"
     ]
    }
   ],
   "source": [
    "##ML method = elastic net from glmnet \n",
    "dreg(z,d) = glmnetcv(z,d, alpha = 0) \n",
    "yreg(z,y) = glmnetcv(z,y, alpha = 0)\n",
    "\n",
    "DML2_ridge = DML2_lasso_cv(z, d, y, dreg, yreg, 5, clu)"
   ]
  },
  {
   "cell_type": "markdown",
   "metadata": {},
   "source": [
    "Here we also compute DML with OLS used as the ML method"
   ]
  },
  {
   "cell_type": "code",
   "execution_count": 76,
   "metadata": {},
   "outputs": [
    {
     "name": "stdout",
     "output_type": "stream",
     "text": [
      "Folds: \n",
      "1\n",
      "2\n",
      "3\n",
      "4\n",
      "5\n",
      " coef (se) = 0.2096631583681068([0.057092144355492556])\n"
     ]
    }
   ],
   "source": [
    "dreg(z,d) = glmnetcv(z,d, lambda = [0.0]) \n",
    "yreg(z,y) = glmnetcv(z,y, lambda = [0.0])\n",
    "\n",
    "DML2_OLS = DML2_lasso_cv(z, d, y, dreg, yreg, 5, clu)"
   ]
  },
  {
   "cell_type": "markdown",
   "metadata": {},
   "source": [
    "Next, we also apply Random Forest for comparison purposes."
   ]
  },
  {
   "cell_type": "markdown",
   "metadata": {},
   "source": [
    "### Random Forest\n"
   ]
  },
  {
   "cell_type": "code",
   "execution_count": 88,
   "metadata": {},
   "outputs": [
    {
     "name": "stderr",
     "output_type": "stream",
     "text": [
      "\u001b[32m\u001b[1m   Resolving\u001b[22m\u001b[39m package versions...\n",
      "\u001b[32m\u001b[1m  No Changes\u001b[22m\u001b[39m to `C:\\Users\\PC\\.julia\\environments\\v1.6\\Project.toml`\n",
      "\u001b[32m\u001b[1m  No Changes\u001b[22m\u001b[39m to `C:\\Users\\PC\\.julia\\environments\\v1.6\\Manifest.toml`\n",
      "\u001b[32m\u001b[1m   Resolving\u001b[22m\u001b[39m package versions...\n",
      "\u001b[32m\u001b[1m  No Changes\u001b[22m\u001b[39m to `C:\\Users\\PC\\.julia\\environments\\v1.6\\Project.toml`\n",
      "\u001b[32m\u001b[1m  No Changes\u001b[22m\u001b[39m to `C:\\Users\\PC\\.julia\\environments\\v1.6\\Manifest.toml`\n",
      "WARNING: using MLJ.predict in module Main conflicts with an existing identifier.\n"
     ]
    },
    {
     "data": {
      "text/plain": [
       "(nothing, nothing)"
      ]
     },
     "execution_count": 88,
     "metadata": {},
     "output_type": "execute_result"
    }
   ],
   "source": [
    "Pkg.add(\"DecisionTree\"), using DecisionTree\n",
    "Pkg.add(\"MLJ\"), using MLJ"
   ]
  },
  {
   "cell_type": "code",
   "execution_count": 90,
   "metadata": {},
   "outputs": [
    {
     "name": "stderr",
     "output_type": "stream",
     "text": [
      "┌ Info: For silent loading, specify `verbosity=0`. \n",
      "└ @ Main C:\\Users\\PC\\.julia\\packages\\MLJModels\\w0uSt\\src\\loading.jl:168\n"
     ]
    },
    {
     "name": "stdout",
     "output_type": "stream",
     "text": [
      "import MLJDecisionTreeInterface"
     ]
    },
    {
     "ename": "LoadError",
     "evalue": "ArgumentError: Package MLJDecisionTreeInterface not found in current path:\n- Run `import Pkg; Pkg.add(\"MLJDecisionTreeInterface\")` to install the MLJDecisionTreeInterface package.\n",
     "output_type": "error",
     "traceback": [
      "ArgumentError: Package MLJDecisionTreeInterface not found in current path:\n- Run `import Pkg; Pkg.add(\"MLJDecisionTreeInterface\")` to install the MLJDecisionTreeInterface package.\n",
      "",
      "Stacktrace:",
      " [1] require(into::Module, mod::Symbol)",
      "   @ Base .\\loading.jl:893",
      " [2] eval",
      "   @ .\\boot.jl:360 [inlined]",
      " [3] eval(x::Expr)",
      "   @ Base.MainInclude .\\client.jl:446",
      " [4] _import(modl::Module, api_pkg::Symbol, pkg::Symbol, doprint::Bool)",
      "   @ MLJModels C:\\Users\\PC\\.julia\\packages\\MLJModels\\w0uSt\\src\\loading.jl:34",
      " [5] top-level scope",
      "   @ C:\\Users\\PC\\.julia\\packages\\MLJModels\\w0uSt\\src\\loading.jl:206",
      " [6] eval",
      "   @ .\\boot.jl:360 [inlined]",
      " [7] include_string(mapexpr::typeof(REPL.softscope), mod::Module, code::String, filename::String)",
      "   @ Base .\\loading.jl:1116"
     ]
    }
   ],
   "source": [
    "random_forest = @load RandomForestRegressor pkg = \"DecisionTree\""
   ]
  },
  {
   "cell_type": "code",
   "execution_count": 89,
   "metadata": {},
   "outputs": [
    {
     "ename": "LoadError",
     "evalue": "MethodError: no method matching machine(::Type{RandomForestRegressor}, ::Matrix{Float64}, ::Vector{Float64})\n\u001b[0mClosest candidates are:\n\u001b[0m  machine(\u001b[91m::Type{var\"#s39\"} where var\"#s39\"<:MLJModelInterface.Model\u001b[39m, ::Any...; kwargs...) at C:\\Users\\PC\\.julia\\packages\\MLJBase\\KWyqX\\src\\machines.jl:220\n\u001b[0m  machine(\u001b[91m::Static\u001b[39m, ::Any...; kwargs...) at C:\\Users\\PC\\.julia\\packages\\MLJBase\\KWyqX\\src\\machines.jl:229\n\u001b[0m  machine(\u001b[91m::MLJModelInterface.Model\u001b[39m, ::Any, ::Any...; kwargs...) at C:\\Users\\PC\\.julia\\packages\\MLJBase\\KWyqX\\src\\machines.jl:248\n\u001b[0m  ...",
     "output_type": "error",
     "traceback": [
      "MethodError: no method matching machine(::Type{RandomForestRegressor}, ::Matrix{Float64}, ::Vector{Float64})\n\u001b[0mClosest candidates are:\n\u001b[0m  machine(\u001b[91m::Type{var\"#s39\"} where var\"#s39\"<:MLJModelInterface.Model\u001b[39m, ::Any...; kwargs...) at C:\\Users\\PC\\.julia\\packages\\MLJBase\\KWyqX\\src\\machines.jl:220\n\u001b[0m  machine(\u001b[91m::Static\u001b[39m, ::Any...; kwargs...) at C:\\Users\\PC\\.julia\\packages\\MLJBase\\KWyqX\\src\\machines.jl:229\n\u001b[0m  machine(\u001b[91m::MLJModelInterface.Model\u001b[39m, ::Any, ::Any...; kwargs...) at C:\\Users\\PC\\.julia\\packages\\MLJBase\\KWyqX\\src\\machines.jl:248\n\u001b[0m  ...",
      "",
      "Stacktrace:",
      " [1] top-level scope",
      "   @ In[89]:1",
      " [2] eval",
      "   @ .\\boot.jl:360 [inlined]",
      " [3] include_string(mapexpr::typeof(REPL.softscope), mod::Module, code::String, filename::String)",
      "   @ Base .\\loading.jl:1116"
     ]
    }
   ],
   "source": [
    "model = MLJ.machine(RandomForestRegressor , z, y)"
   ]
  },
  {
   "cell_type": "code",
   "execution_count": 91,
   "metadata": {},
   "outputs": [
    {
     "data": {
      "text/plain": [
       "Ensemble of Decision Trees\n",
       "Trees:      10\n",
       "Avg Leaves: 437.0\n",
       "Avg Depth:  22.2"
      ]
     },
     "execution_count": 91,
     "metadata": {},
     "output_type": "execute_result"
    }
   ],
   "source": [
    "RFmodel = build_forest(y, z)"
   ]
  }
 ],
 "metadata": {
  "kernelspec": {
   "display_name": "Julia 1.6.5",
   "language": "julia",
   "name": "julia-1.6"
  },
  "language_info": {
   "file_extension": ".jl",
   "mimetype": "application/julia",
   "name": "julia",
   "version": "1.6.5"
  },
  "orig_nbformat": 4
 },
 "nbformat": 4,
 "nbformat_minor": 2
}
