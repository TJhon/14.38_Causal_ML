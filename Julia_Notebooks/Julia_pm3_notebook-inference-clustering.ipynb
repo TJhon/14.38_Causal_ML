{
 "cells": [
  {
   "cell_type": "markdown",
   "metadata": {},
   "source": [
    "# A Case Study: The Effect of Gun Ownership on Gun-Homicide Rates"
   ]
  },
  {
   "cell_type": "markdown",
   "metadata": {},
   "source": [
    "We consider the problem of estimating the effect of gun\n",
    "ownership on the homicide rate. For this purpose, we estimate the following partially\n",
    "linear model\n",
    "\n",
    "$$\n",
    " Y_{j,t} = \\beta D_{j,(t-1)} + g(Z_{j,t}) + \\epsilon_{j,t}.\n",
    "$$"
   ]
  },
  {
   "cell_type": "markdown",
   "metadata": {},
   "source": [
    "## Data"
   ]
  },
  {
   "cell_type": "markdown",
   "metadata": {},
   "source": [
    "$Y_{j,t}$ is log homicide rate in county $j$ at time $t$, $D_{j, t-1}$ is log  fraction of suicides committed with a firearm in county $j$ at time $t-1$, which we use as a proxy for gun ownership,  and  $Z_{j,t}$ is a set of demographic and economic characteristics of county $j$ at time $t$. The parameter $\\beta$ is the effect of gun ownership on the\n",
    "homicide rates, controlling for county-level demographic and economic characteristics. \n",
    "\n",
    "The sample covers 195 large United States counties between the years 1980 through 1999, giving us 3900 observations."
   ]
  },
  {
   "cell_type": "code",
   "execution_count": 3,
   "metadata": {},
   "outputs": [],
   "source": [
    "# import Pkg; Pkg.add(\"StatsModels\")"
   ]
  },
  {
   "cell_type": "code",
   "execution_count": 1,
   "metadata": {},
   "outputs": [],
   "source": [
    "using Pkg, CSV, DataFrames, StatsModels, GLM, Random"
   ]
  },
  {
   "cell_type": "code",
   "execution_count": 79,
   "metadata": {},
   "outputs": [
    {
     "name": "stdout",
     "output_type": "stream",
     "text": [
      "Number of rows: 3900\n",
      "Number of columns: 415\n"
     ]
    }
   ],
   "source": [
    "data = CSV.File(\"../data/gun_clean.csv\") |> DataFrame;\n",
    "println(\"Number of rows: \", size(data, 1))\n",
    "println(\"Number of columns: \", size(data, 2))"
   ]
  },
  {
   "cell_type": "markdown",
   "metadata": {},
   "source": [
    "### Preprocessing"
   ]
  },
  {
   "cell_type": "markdown",
   "metadata": {},
   "source": [
    "To account for heterogeneity across counties and time trends in  all variables, we remove from them county-specific and time-specific effects in the following preprocessing."
   ]
  },
  {
   "cell_type": "code",
   "execution_count": null,
   "metadata": {},
   "outputs": [],
   "source": [
    "#################################  Find Variable Names from Dataset ########################\n",
    "\n",
    "\n",
    "function varlist(df = nothing , type_dataframe = [\"numeric\",\"categorical\",\"string\"], pattern=String , exclude =  nothing)\n",
    "\n",
    "    varrs = []\n",
    "    if \"numeric\" in type_dataframe\n",
    "        append!(varrs, [i for i in names(data) if eltype(eachcol(data)[i]) <: Number])    \n",
    "    end\n",
    "    if \"categorical\" in type_dataframe\n",
    "        append!(varrs,[i for i in names(data) if eltype(eachcol(data)[i]) <: CategoricalVector])\n",
    "    end\n",
    "    if \"string\" in type_dataframe\n",
    "        append!(varrs,[i for i in names(data) if eltype(eachcol(data)[i]) <: String])\n",
    "    end\n",
    "    varrs[(!varrs in exclude) & varrs[findall(x->contains(x,pattern),names(data))]]\n",
    "end"
   ]
  },
  {
   "cell_type": "code",
   "execution_count": 80,
   "metadata": {},
   "outputs": [
    {
     "name": "stdout",
     "output_type": "stream",
     "text": [
      "Variable: <<Fixed>> has 195 features\n",
      "Variable: <<Year>> has 21 outcomes\n"
     ]
    }
   ],
   "source": [
    "################################# Create Variables ###############################\n",
    "\n",
    "# Dummy Variables for Year and County Fixed Effects\n",
    "fixed = filter(x -> contains(x, \"X_Jfips\"), names(data))\n",
    "year = filter(x -> contains(x, \"X_Tyear\"), names(data))\n",
    "println(\"Variable: <<Fixed>> has \", length(fixed), \" features\")\n",
    "println(\"Variable: <<Year>> has \", length(year), \" outcomes\")"
   ]
  },
  {
   "cell_type": "code",
   "execution_count": 81,
   "metadata": {},
   "outputs": [
    {
     "name": "stdout",
     "output_type": "stream",
     "text": [
      "Variable: <<Census>> has 186 features\n"
     ]
    }
   ],
   "source": [
    "# Census Control Variables\n",
    "census = []\n",
    "census_var = [\"AGE\", \"BN\", \"BP\", \"BZ\", \"ED\", \"EL\", \"HI\", \"HS\", \"INC\", \"LF\", \"LN\", \"PI\", \"PO\", \"PP\", \"PV\", \"SPR\", \"VS\"]\n",
    "\n",
    "for i in 1:size(census_var, 1) \n",
    "    append!(census, filter(x -> contains(x, census_var[i]), names(data)))\n",
    "end\n",
    "\n",
    "println(\"Variable: <<Census>> has \", length(census), \" features\")"
   ]
  },
  {
   "cell_type": "code",
   "execution_count": 82,
   "metadata": {},
   "outputs": [],
   "source": [
    "################################ Variables ##################################\n",
    "\n",
    "# Treatment Variable\n",
    "d = [\"logfssl\"]\n",
    "\n",
    "# Outcome Variable\n",
    "y = [\"logghomr\"]\n",
    "\n",
    "# Other Control Variables\n",
    "X1 = [\"logrobr\", \"logburg\", \"burg_missing\", \"robrate_missing\"]\n",
    "X2 = [\"newblack\", \"newfhh\", \"newmove\", \"newdens\", \"newmal\"]\n",
    "\n",
    "variable = [y, d, X1, X2, census]\n",
    "varlis = []\n",
    "\n",
    "for i in variable\n",
    "    append!(varlis, i)\n",
    "end"
   ]
  },
  {
   "cell_type": "code",
   "execution_count": 3,
   "metadata": {},
   "outputs": [
    {
     "name": "stdout",
     "output_type": "stream",
     "text": [
      "Variable: <<Fixed>> has 195 features\n",
      "Variable: <<Year>> has 21 outcomes\n",
      "Variable: <<Census>> has 186 features\n"
     ]
    },
    {
     "data": {
      "text/html": [
       "<div class=\"data-frame\"><p>6 rows × 198 columns (omitted printing of 191 columns)</p><table class=\"data-frame\"><thead><tr><th></th><th>CountyCode</th><th>logghomr</th><th>logfssl</th><th>logrobr</th><th>logburg</th><th>burg_missing</th><th>robrate_missing</th></tr><tr><th></th><th title=\"Int64\">Int64</th><th title=\"Float64\">Float64</th><th title=\"Float64\">Float64</th><th title=\"Float64\">Float64</th><th title=\"Float64\">Float64</th><th title=\"Float64\">Float64</th><th title=\"Float64\">Float64</th></tr></thead><tbody><tr><th>1</th><td>1073</td><td>-0.134778</td><td>0.0961271</td><td>0.150893</td><td>-0.124395</td><td>0.0104613</td><td>-0.021229</td></tr><tr><th>2</th><td>1073</td><td>-0.239622</td><td>0.0808094</td><td>0.0401683</td><td>-0.134781</td><td>0.0104613</td><td>-0.0194181</td></tr><tr><th>3</th><td>1073</td><td>-0.0786772</td><td>0.0573399</td><td>-0.017679</td><td>-0.167909</td><td>0.0104613</td><td>-0.0220374</td></tr><tr><th>4</th><td>1073</td><td>-0.331465</td><td>0.0816945</td><td>-0.00963344</td><td>-0.22925</td><td>0.0104613</td><td>-0.0194181</td></tr><tr><th>5</th><td>1073</td><td>-0.31664</td><td>0.0253655</td><td>-0.0267151</td><td>-0.176635</td><td>0.00324793</td><td>-0.0208037</td></tr><tr><th>6</th><td>1073</td><td>0.105132</td><td>-0.00677726</td><td>-0.151487</td><td>-0.189069</td><td>0.0104613</td><td>0.016953</td></tr></tbody></table></div>"
      ],
      "text/latex": [
       "\\begin{tabular}{r|cccccccc}\n",
       "\t& CountyCode & logghomr & logfssl & logrobr & logburg & burg\\_missing & robrate\\_missing & \\\\\n",
       "\t\\hline\n",
       "\t& Int64 & Float64 & Float64 & Float64 & Float64 & Float64 & Float64 & \\\\\n",
       "\t\\hline\n",
       "\t1 & 1073 & -0.134778 & 0.0961271 & 0.150893 & -0.124395 & 0.0104613 & -0.021229 & $\\dots$ \\\\\n",
       "\t2 & 1073 & -0.239622 & 0.0808094 & 0.0401683 & -0.134781 & 0.0104613 & -0.0194181 & $\\dots$ \\\\\n",
       "\t3 & 1073 & -0.0786772 & 0.0573399 & -0.017679 & -0.167909 & 0.0104613 & -0.0220374 & $\\dots$ \\\\\n",
       "\t4 & 1073 & -0.331465 & 0.0816945 & -0.00963344 & -0.22925 & 0.0104613 & -0.0194181 & $\\dots$ \\\\\n",
       "\t5 & 1073 & -0.31664 & 0.0253655 & -0.0267151 & -0.176635 & 0.00324793 & -0.0208037 & $\\dots$ \\\\\n",
       "\t6 & 1073 & 0.105132 & -0.00677726 & -0.151487 & -0.189069 & 0.0104613 & 0.016953 & $\\dots$ \\\\\n",
       "\\end{tabular}\n"
      ],
      "text/plain": [
       "\u001b[1m6×198 DataFrame\u001b[0m\n",
       "\u001b[1m Row \u001b[0m│\u001b[1m CountyCode \u001b[0m\u001b[1m logghomr   \u001b[0m\u001b[1m logfssl     \u001b[0m\u001b[1m logrobr     \u001b[0m\u001b[1m logburg   \u001b[0m\u001b[1m burg_missi\u001b[0m ⋯\n",
       "\u001b[1m     \u001b[0m│\u001b[90m Int64      \u001b[0m\u001b[90m Float64    \u001b[0m\u001b[90m Float64     \u001b[0m\u001b[90m Float64     \u001b[0m\u001b[90m Float64   \u001b[0m\u001b[90m Float64   \u001b[0m ⋯\n",
       "─────┼──────────────────────────────────────────────────────────────────────────\n",
       "   1 │       1073  -0.134778    0.0961271    0.150893    -0.124395    0.010461 ⋯\n",
       "   2 │       1073  -0.239622    0.0808094    0.0401683   -0.134781    0.010461\n",
       "   3 │       1073  -0.0786772   0.0573399   -0.017679    -0.167909    0.010461\n",
       "   4 │       1073  -0.331465    0.0816945   -0.00963344  -0.22925     0.010461\n",
       "   5 │       1073  -0.31664     0.0253655   -0.0267151   -0.176635    0.003247 ⋯\n",
       "   6 │       1073   0.105132   -0.00677726  -0.151487    -0.189069    0.010461\n",
       "\u001b[36m                                                             193 columns omitted\u001b[0m"
      ]
     },
     "execution_count": 3,
     "metadata": {},
     "output_type": "execute_result"
    }
   ],
   "source": [
    "#################################  Partial out Fixed Effects ########################\n",
    "\n",
    "# Running the following lines takes aprox. 10 minutes (depends on your CPU)\n",
    "\n",
    "rdata = DataFrame(CountyCode = data[:, \"CountyCode\"]);\n",
    "\n",
    "for i in 1:size(varlis, 1)\n",
    "    rdata[!, varlis[i]] = residuals(lm(term(Symbol(varlis[i])) ~ sum(term.(Symbol.(year))) + sum(term.(Symbol.(fixed))), data))\n",
    "end\n",
    "\n",
    "first(rdata, 6)"
   ]
  },
  {
   "cell_type": "code",
   "execution_count": 83,
   "metadata": {},
   "outputs": [
    {
     "data": {
      "text/plain": [
       "3900"
      ]
     },
     "execution_count": 83,
     "metadata": {},
     "output_type": "execute_result"
    }
   ],
   "source": [
    "# load dataset\n",
    "rdata_read = CSV.File(\"../data/gun_clean2.csv\") |> DataFrame\n",
    "data = rdata_read[!, names(rdata)]\n",
    "n = size(data,1)"
   ]
  },
  {
   "cell_type": "markdown",
   "metadata": {},
   "source": [
    "## We check that our results are equal to R results at 6 decimals"
   ]
  },
  {
   "cell_type": "code",
   "execution_count": 84,
   "metadata": {},
   "outputs": [
    {
     "name": "stdout",
     "output_type": "stream",
     "text": [
      "Column CountyCode are equal at 6 decimals\n",
      "Column logghomr are equal at 6 decimals\n",
      "Column logfssl are equal at 6 decimals\n",
      "Column logrobr are equal at 6 decimals\n",
      "Column logburg are equal at 6 decimals\n",
      "Column burg_missing are equal at 6 decimals\n",
      "Column robrate_missing are equal at 6 decimals\n",
      "Column newblack are equal at 6 decimals\n",
      "Column newfhh are equal at 6 decimals\n",
      "Column newmove are equal at 6 decimals\n",
      "Column newdens are equal at 6 decimals\n",
      "Column newmal are equal at 6 decimals\n",
      "Column AGE010D are equal at 6 decimals\n",
      "Column AGE050D are equal at 6 decimals\n",
      "Column AGE110D are equal at 6 decimals\n",
      "Column AGE170D are equal at 6 decimals\n",
      "Column AGE180D are equal at 6 decimals\n",
      "Column AGE270D are equal at 6 decimals\n",
      "Column AGE310D are equal at 6 decimals\n",
      "Column AGE320D are equal at 6 decimals\n",
      "Column AGE350D are equal at 6 decimals\n",
      "Column AGE380D are equal at 6 decimals\n",
      "Column AGE410D are equal at 6 decimals\n",
      "Column AGE470D are equal at 6 decimals\n",
      "Column AGE570D are equal at 6 decimals\n",
      "Column AGE640D are equal at 6 decimals\n",
      "Column AGE670D are equal at 6 decimals\n",
      "Column AGE760D are equal at 6 decimals\n",
      "Column BNK010D are equal at 6 decimals\n",
      "Column BNK050D are equal at 6 decimals\n",
      "Column BPS030D are equal at 6 decimals\n",
      "Column BPS130D are equal at 6 decimals\n",
      "Column BPS230D are equal at 6 decimals\n",
      "Column BPS020D are equal at 6 decimals\n",
      "Column BPS120D are equal at 6 decimals\n",
      "Column BPS220D are equal at 6 decimals\n",
      "Column BPS820D are equal at 6 decimals\n",
      "Column BZA010D are equal at 6 decimals\n",
      "Column BZA110D are equal at 6 decimals\n",
      "Column BZA210D are equal at 6 decimals\n",
      "Column EDU100D are equal at 6 decimals\n",
      "Column EDU200D are equal at 6 decimals\n",
      "Column EDU600D are equal at 6 decimals\n",
      "Column EDU610D are equal at 6 decimals\n",
      "Column EDU620D are equal at 6 decimals\n",
      "Column EDU630D are equal at 6 decimals\n",
      "Column EDU635D are equal at 6 decimals\n",
      "Column EDU640D are equal at 6 decimals\n",
      "Column EDU650D are equal at 6 decimals\n",
      "Column EDU680D are equal at 6 decimals\n",
      "Column EDU685D are equal at 6 decimals\n",
      "Column ELE010D are equal at 6 decimals\n",
      "Column ELE020D are equal at 6 decimals\n",
      "Column ELE025D are equal at 6 decimals\n",
      "Column ELE030D are equal at 6 decimals\n",
      "Column ELE035D are equal at 6 decimals\n",
      "Column ELE060D are equal at 6 decimals\n",
      "Column ELE065D are equal at 6 decimals\n",
      "Column ELE210D are equal at 6 decimals\n",
      "Column ELE220D are equal at 6 decimals\n",
      "Column HIS010D are equal at 6 decimals\n",
      "Column HIS020D are equal at 6 decimals\n",
      "Column HIS030D are equal at 6 decimals\n",
      "Column HIS040D are equal at 6 decimals\n",
      "Column HIS110D are equal at 6 decimals\n",
      "Column HIS120D are equal at 6 decimals\n",
      "Column HIS130D are equal at 6 decimals\n",
      "Column HIS140D are equal at 6 decimals\n",
      "Column HIS200D are equal at 6 decimals\n",
      "Column HIS300D are equal at 6 decimals\n",
      "Column HIS500D are equal at 6 decimals\n",
      "Column HIS700D are equal at 6 decimals\n",
      "Column HSD010D are equal at 6 decimals\n",
      "Column HSD020D are equal at 6 decimals\n",
      "Column HSD030D are equal at 6 decimals\n",
      "Column HSD110D are equal at 6 decimals\n",
      "Column HSD120D are equal at 6 decimals\n",
      "Column HSD130D are equal at 6 decimals\n",
      "Column HSD140D are equal at 6 decimals\n",
      "Column HSD150D are equal at 6 decimals\n",
      "Column HSD170D are equal at 6 decimals\n",
      "Column HSD200D are equal at 6 decimals\n",
      "Column HSD210D are equal at 6 decimals\n",
      "Column HSD230D are equal at 6 decimals\n",
      "Column HSD300D are equal at 6 decimals\n",
      "Column HSD310D are equal at 6 decimals\n",
      "Column HSG030D are equal at 6 decimals\n",
      "Column HSG195D are equal at 6 decimals\n",
      "Column HSG200D are equal at 6 decimals\n",
      "Column HSG220D are equal at 6 decimals\n",
      "Column HSG440D are equal at 6 decimals\n",
      "Column HSG445D are equal at 6 decimals\n",
      "Column HSG460D are equal at 6 decimals\n",
      "Column HSG680D are equal at 6 decimals\n",
      "Column HSG700D are equal at 6 decimals\n",
      "Column HSD410D are equal at 6 decimals\n",
      "Column HSD500D are equal at 6 decimals\n",
      "Column HSD510D are equal at 6 decimals\n",
      "Column HSD520D are equal at 6 decimals\n",
      "Column HSD530D are equal at 6 decimals\n",
      "Column HSD540D are equal at 6 decimals\n",
      "Column HSD550D are equal at 6 decimals\n",
      "Column HSD560D are equal at 6 decimals\n",
      "Column HSD570D are equal at 6 decimals\n",
      "Column HSD580D are equal at 6 decimals\n",
      "Column HSD590D are equal at 6 decimals\n",
      "Column HSD610D are equal at 6 decimals\n",
      "Column HSD620D are equal at 6 decimals\n",
      "Column HSD710D are equal at 6 decimals\n",
      "Column HSD720D are equal at 6 decimals\n",
      "Column HSD730D are equal at 6 decimals\n",
      "Column HSD740D are equal at 6 decimals\n",
      "Column HSD750D are equal at 6 decimals\n",
      "Column HSD760D are equal at 6 decimals\n",
      "Column HSD770D are equal at 6 decimals\n",
      "Column HSD780D are equal at 6 decimals\n",
      "Column HSG040D are equal at 6 decimals\n",
      "Column HSG045D are equal at 6 decimals\n",
      "Column HSG050D are equal at 6 decimals\n",
      "Column HSG182D are equal at 6 decimals\n",
      "Column HSG210D are equal at 6 decimals\n",
      "Column HSG230D are equal at 6 decimals\n",
      "Column HSG240D are equal at 6 decimals\n",
      "Column HSG250D are equal at 6 decimals\n",
      "Column HSG310D are equal at 6 decimals\n",
      "Column HSG315D are equal at 6 decimals\n",
      "Column HSG320D are equal at 6 decimals\n",
      "Column HSG325D are equal at 6 decimals\n",
      "Column HSG335D are equal at 6 decimals\n",
      "Column HSG350D are equal at 6 decimals\n",
      "Column HSG370D are equal at 6 decimals\n",
      "Column HSG375D are equal at 6 decimals\n",
      "Column HSG380D are equal at 6 decimals\n",
      "Column HSG450D are equal at 6 decimals\n",
      "Column HSG490D are equal at 6 decimals\n",
      "Column HSG500D are equal at 6 decimals\n",
      "Column HSG510D are equal at 6 decimals\n",
      "Column HSG520D are equal at 6 decimals\n",
      "Column HSG530D are equal at 6 decimals\n",
      "Column HSG540D are equal at 6 decimals\n",
      "Column HSG550D are equal at 6 decimals\n",
      "Column HSG560D are equal at 6 decimals\n",
      "Column HSG570D are equal at 6 decimals\n",
      "Column HSG650D are equal at 6 decimals\n",
      "Column HSG690D are equal at 6 decimals\n",
      "Column HSG710D are equal at 6 decimals\n",
      "Column HSG730D are equal at 6 decimals\n",
      "Column INC110D are equal at 6 decimals\n",
      "Column INC650D are equal at 6 decimals\n",
      "Column INC670D are equal at 6 decimals\n",
      "Column INC680D are equal at 6 decimals\n",
      "Column INC690D are equal at 6 decimals\n",
      "Column INC700D are equal at 6 decimals\n",
      "Column INC710D are equal at 6 decimals\n",
      "Column INC720D are equal at 6 decimals\n",
      "Column INC730D are equal at 6 decimals\n",
      "Column INC760D are equal at 6 decimals\n",
      "Column INC790D are equal at 6 decimals\n",
      "Column LFE020D are equal at 6 decimals\n",
      "Column LFE023D are equal at 6 decimals\n",
      "Column LFE030D are equal at 6 decimals\n",
      "Column LFE080D are equal at 6 decimals\n",
      "Column LFE090D are equal at 6 decimals\n",
      "Column LFE210D are equal at 6 decimals\n",
      "Column LFE220D are equal at 6 decimals\n",
      "Column LND110D are equal at 6 decimals\n",
      "Column PIN020D are equal at 6 decimals\n",
      "Column POP110D are equal at 6 decimals\n",
      "Column POP210D are equal at 6 decimals\n",
      "Column POP240D are equal at 6 decimals\n",
      "Column POP440D are equal at 6 decimals\n",
      "Column POP450D are equal at 6 decimals\n",
      "Column POP470D are equal at 6 decimals\n",
      "Column POP480D are equal at 6 decimals\n",
      "Column POP540D are equal at 6 decimals\n",
      "Column POP550D are equal at 6 decimals\n",
      "Column POP570D are equal at 6 decimals\n",
      "Column POP580D are equal at 6 decimals\n",
      "Column POP700D are equal at 6 decimals\n",
      "Column POP710D are equal at 6 decimals\n",
      "Column POP720D are equal at 6 decimals\n",
      "Column POP740D are equal at 6 decimals\n",
      "Column PPQ010D are equal at 6 decimals\n",
      "Column PPQ100D are equal at 6 decimals\n",
      "Column PPQ110D are equal at 6 decimals\n",
      "Column PPQ120D are equal at 6 decimals\n",
      "Column PVY020D are equal at 6 decimals\n",
      "Column PVY120D are equal at 6 decimals\n",
      "Column PVY210D are equal at 6 decimals\n",
      "Column PVY310D are equal at 6 decimals\n",
      "Column PVY420D are equal at 6 decimals\n",
      "Column PVY520D are equal at 6 decimals\n",
      "Column SPR030D are equal at 6 decimals\n",
      "Column SPR130D are equal at 6 decimals\n",
      "Column SPR230D are equal at 6 decimals\n",
      "Column SPR330D are equal at 6 decimals\n",
      "Column SPR440D are equal at 6 decimals\n",
      "Column VST020D are equal at 6 decimals\n"
     ]
    }
   ],
   "source": [
    "column_names = names(data)\n",
    "result = []\n",
    "\n",
    "for i in 1:size(data,1)\n",
    "    for j in 1:size(data,2)\n",
    "        data[i,j] = round(data[i,j], digits=6)\n",
    "        rdata[i,j] = round(rdata[i,j], digits=6)\n",
    "    end\n",
    "end\n",
    "\n",
    "for col in column_names\n",
    "    result = sum(data[!,col] .== rdata[!,col])\n",
    "\n",
    "    if result .== 3900\n",
    "        println(\"Column \", col,  \" are equal at 6 decimals\")\n",
    "    else\n",
    "        println(\"Column \", col,  \" are not equal at 6 decimals\")\n",
    "    end\n",
    "\n",
    "end"
   ]
  },
  {
   "cell_type": "markdown",
   "metadata": {},
   "source": [
    "Now, we can construct the treatment variable, the outcome variable and the matrix $Z$ that includes the control variables."
   ]
  },
  {
   "cell_type": "code",
   "execution_count": 91,
   "metadata": {},
   "outputs": [
    {
     "name": "stdout",
     "output_type": "stream",
     "text": [
      "Variable: <<D>> has (3900, 1) outcomes\n",
      "Variable: <<Y>> has (3900, 1) outcomes\n",
      "Variable: <<Z>> has (3900, 195) outcomes\n"
     ]
    }
   ],
   "source": [
    "# Treatment Variable\n",
    "D = rdata[!, d]\n",
    "println(\"Variable: <<D>> has \", size(D), \" outcomes\")\n",
    "\n",
    "# Treatment Variable\n",
    "D = rdata[!, d]\n",
    "\n",
    "# Outcome Variable\n",
    "Y = rdata[!, y]\n",
    "println(\"Variable: <<Y>> has \", size(Y), \" outcomes\")\n",
    "\n",
    "# Construct matrix Z\n",
    "Z = rdata[!, varlis[3:end]]\n",
    "println(\"Variable: <<Z>> has \", size(Z), \" outcomes\")"
   ]
  },
  {
   "cell_type": "markdown",
   "metadata": {},
   "source": [
    "We have in total 195 control variables. The control variables $Z_{j,t}$ are from the U.S. Census Bureau and  contain demographic and economic characteristics of the counties such as  the age distribution, the income distribution, crime rates, federal spending, home ownership rates, house prices, educational attainment, voting paterns, employment statistics, and migration rates. "
   ]
  },
  {
   "cell_type": "code",
   "execution_count": 86,
   "metadata": {},
   "outputs": [
    {
     "data": {
      "text/html": [
       "<div class=\"data-frame\"><p>6 rows × 198 columns (omitted printing of 191 columns)</p><table class=\"data-frame\"><thead><tr><th></th><th>CountyCode</th><th>logghomr</th><th>logfssl</th><th>logrobr</th><th>logburg</th><th>burg_missing</th><th>robrate_missing</th></tr><tr><th></th><th title=\"Int64\">Int64</th><th title=\"Float64\">Float64</th><th title=\"Float64\">Float64</th><th title=\"Float64\">Float64</th><th title=\"Float64\">Float64</th><th title=\"Float64\">Float64</th><th title=\"Float64\">Float64</th></tr></thead><tbody><tr><th>1</th><td>1073</td><td>-0.134778</td><td>0.096127</td><td>0.150893</td><td>-0.124395</td><td>0.010461</td><td>-0.021229</td></tr><tr><th>2</th><td>1073</td><td>-0.239622</td><td>0.080809</td><td>0.040168</td><td>-0.134781</td><td>0.010461</td><td>-0.019418</td></tr><tr><th>3</th><td>1073</td><td>-0.078677</td><td>0.05734</td><td>-0.017679</td><td>-0.167909</td><td>0.010461</td><td>-0.022037</td></tr><tr><th>4</th><td>1073</td><td>-0.331465</td><td>0.081694</td><td>-0.009633</td><td>-0.22925</td><td>0.010461</td><td>-0.019418</td></tr><tr><th>5</th><td>1073</td><td>-0.31664</td><td>0.025366</td><td>-0.026715</td><td>-0.176635</td><td>0.003248</td><td>-0.020804</td></tr><tr><th>6</th><td>1073</td><td>0.105132</td><td>-0.006777</td><td>-0.151487</td><td>-0.189069</td><td>0.010461</td><td>0.016953</td></tr></tbody></table></div>"
      ],
      "text/latex": [
       "\\begin{tabular}{r|cccccccc}\n",
       "\t& CountyCode & logghomr & logfssl & logrobr & logburg & burg\\_missing & robrate\\_missing & \\\\\n",
       "\t\\hline\n",
       "\t& Int64 & Float64 & Float64 & Float64 & Float64 & Float64 & Float64 & \\\\\n",
       "\t\\hline\n",
       "\t1 & 1073 & -0.134778 & 0.096127 & 0.150893 & -0.124395 & 0.010461 & -0.021229 & $\\dots$ \\\\\n",
       "\t2 & 1073 & -0.239622 & 0.080809 & 0.040168 & -0.134781 & 0.010461 & -0.019418 & $\\dots$ \\\\\n",
       "\t3 & 1073 & -0.078677 & 0.05734 & -0.017679 & -0.167909 & 0.010461 & -0.022037 & $\\dots$ \\\\\n",
       "\t4 & 1073 & -0.331465 & 0.081694 & -0.009633 & -0.22925 & 0.010461 & -0.019418 & $\\dots$ \\\\\n",
       "\t5 & 1073 & -0.31664 & 0.025366 & -0.026715 & -0.176635 & 0.003248 & -0.020804 & $\\dots$ \\\\\n",
       "\t6 & 1073 & 0.105132 & -0.006777 & -0.151487 & -0.189069 & 0.010461 & 0.016953 & $\\dots$ \\\\\n",
       "\\end{tabular}\n"
      ],
      "text/plain": [
       "\u001b[1m6×198 DataFrame\u001b[0m\n",
       "\u001b[1m Row \u001b[0m│\u001b[1m CountyCode \u001b[0m\u001b[1m logghomr  \u001b[0m\u001b[1m logfssl   \u001b[0m\u001b[1m logrobr   \u001b[0m\u001b[1m logburg   \u001b[0m\u001b[1m burg_missing \u001b[0m\u001b[1m r\u001b[0m ⋯\n",
       "\u001b[1m     \u001b[0m│\u001b[90m Int64      \u001b[0m\u001b[90m Float64   \u001b[0m\u001b[90m Float64   \u001b[0m\u001b[90m Float64   \u001b[0m\u001b[90m Float64   \u001b[0m\u001b[90m Float64      \u001b[0m\u001b[90m F\u001b[0m ⋯\n",
       "─────┼──────────────────────────────────────────────────────────────────────────\n",
       "   1 │       1073  -0.134778   0.096127   0.150893  -0.124395      0.010461    ⋯\n",
       "   2 │       1073  -0.239622   0.080809   0.040168  -0.134781      0.010461\n",
       "   3 │       1073  -0.078677   0.05734   -0.017679  -0.167909      0.010461\n",
       "   4 │       1073  -0.331465   0.081694  -0.009633  -0.22925       0.010461\n",
       "   5 │       1073  -0.31664    0.025366  -0.026715  -0.176635      0.003248    ⋯\n",
       "   6 │       1073   0.105132  -0.006777  -0.151487  -0.189069      0.010461\n",
       "\u001b[36m                                                             192 columns omitted\u001b[0m"
      ]
     },
     "execution_count": 86,
     "metadata": {},
     "output_type": "execute_result"
    }
   ],
   "source": [
    "clu = select(rdata, :CountyCode) # for clustering the standard errors\n",
    "data = hcat(clu, Y, D, Z)\n",
    "first(data, 6)"
   ]
  },
  {
   "cell_type": "code",
   "execution_count": 87,
   "metadata": {},
   "outputs": [
    {
     "data": {
      "text/plain": [
       "((3900, 198), (3900, 198))"
      ]
     },
     "execution_count": 87,
     "metadata": {},
     "output_type": "execute_result"
    }
   ],
   "source": [
    "size(data), size(rdata)"
   ]
  },
  {
   "cell_type": "code",
   "execution_count": 25,
   "metadata": {},
   "outputs": [],
   "source": [
    "# CSV.write(\"../data/gun_clean2.csv\", data)"
   ]
  },
  {
   "cell_type": "markdown",
   "metadata": {},
   "source": [
    "## The effect of gun ownership\n"
   ]
  },
  {
   "cell_type": "markdown",
   "metadata": {},
   "source": [
    "### OLS"
   ]
  },
  {
   "cell_type": "markdown",
   "metadata": {},
   "source": [
    "After preprocessing the data, we first look at simple regression of $Y_{j,t}$ on $D_{j,t-1}$ without controls as a baseline model."
   ]
  },
  {
   "cell_type": "code",
   "execution_count": 28,
   "metadata": {},
   "outputs": [],
   "source": [
    "# Run this line to avoid all the lines of code above\n",
    "# data = CSV.File(\"../data/gun_clean2.csv\") |> DataFrame"
   ]
  },
  {
   "cell_type": "code",
   "execution_count": 10,
   "metadata": {},
   "outputs": [],
   "source": [
    "using FixedEffectModels"
   ]
  },
  {
   "cell_type": "code",
   "execution_count": 11,
   "metadata": {
    "scrolled": true
   },
   "outputs": [
    {
     "data": {
      "text/plain": [
       "                        Fixed Effect Model                        \n",
       "==================================================================\n",
       "Number of obs:              3900  Degrees of freedom:            2\n",
       "R2:                        0.006  R2 Adjusted:               0.006\n",
       "F-Stat:                  18.9732  p-value:                   0.000\n",
       "R2 within:                 0.006  Iterations:                    1\n",
       "==================================================================\n",
       "logghomr | Estimate Std.Error t value Pr(>|t|) Lower 95% Upper 95%\n",
       "------------------------------------------------------------------\n",
       "logfssl  | 0.282304 0.0648108 4.35582    0.000  0.155238   0.40937\n",
       "==================================================================\n"
      ]
     },
     "execution_count": 11,
     "metadata": {},
     "output_type": "execute_result"
    }
   ],
   "source": [
    "# OLS clustering at the County level\n",
    "\n",
    "fm_1 = @formula(logghomr ~ 0 + logfssl + fe(CountyCode))\n",
    "baseline_ols = reg(data, fm_1, Vcov.cluster(:CountyCode))"
   ]
  },
  {
   "cell_type": "code",
   "execution_count": 12,
   "metadata": {},
   "outputs": [
    {
     "name": "stdout",
     "output_type": "stream",
     "text": [
      "2.5% : [0.15523789539597105]\n",
      "97.5% : [0.4093704387686366]\n",
      "Estimate: [0.2823041670823038]\n",
      "Cluster s.e. : 0.006193251272214595\n",
      "T-value : [4.355820406592104]\n",
      "Pr(>|t|) : [1.3597928318408193e-5]\n"
     ]
    }
   ],
   "source": [
    "println(\"2.5% : \", coeftable(baseline_ols).cols[5])\n",
    "println(\"97.5% : \" , coeftable(baseline_ols).cols[6])\n",
    "println(\"Estimate: \", coeftable(baseline_ols).cols[1])\n",
    "println(\"Cluster s.e. : \" , r2(baseline_ols))\n",
    "println(\"T-value : \", coeftable(baseline_ols).cols[3])\n",
    "println(\"Pr(>|t|) : \" , coeftable(baseline_ols).cols[4])"
   ]
  },
  {
   "cell_type": "markdown",
   "metadata": {},
   "source": [
    "The point estimate is $0.282$ with the confidence interval ranging from 0.167 to 0.397. This\n",
    "suggests that increases in gun ownership rates are related to gun homicide rates - if gun ownership increases by 1% relative\n",
    "to a trend then the predicted gun homicide rate goes up by 0.28%, without controlling for counties' characteristics.\n",
    "\n",
    "Since our goal is to estimate the effect of gun ownership after controlling for a rich set county characteristics we next include the controls. First, we estimate the model by ols and then by an array of the modern regression methods using the double machine learning approach."
   ]
  },
  {
   "cell_type": "code",
   "execution_count": 92,
   "metadata": {},
   "outputs": [
    {
     "name": "stderr",
     "output_type": "stream",
     "text": [
      "┌ Warning: estimated covariance matrix of moment conditions not of full rank.\n",
      "│                  model tests should be interpreted with caution.\n",
      "└ @ Vcov C:\\Users\\sandr\\.julia\\packages\\Vcov\\8Fkqk\\src\\utils.jl:5\n"
     ]
    },
    {
     "data": {
      "text/plain": [
       "                                   Linear Model                                   \n",
       "===================================================================================\n",
       "Number of obs:                      3900   Degrees of freedom:                  181\n",
       "R2:                                0.203   R2 Adjusted:                       0.164\n",
       "F-Stat:                       2.71826e18   p-value:                           0.000\n",
       "===================================================================================\n",
       "logghomr        |    Estimate   Std.Error      t value Pr(>|t|) Lower 95% Upper 95%\n",
       "-----------------------------------------------------------------------------------\n",
       "logfssl         |    0.190671 0.000214096      890.584    0.000  0.190251   0.19109\n",
       "logrobr         |     0.18903     9.74947    0.0193888    0.985  -18.9258   19.3039\n",
       "logburg         |    0.219294     4.47891    0.0489614    0.961  -8.56206   9.00065\n",
       "burg_missing    |      1.5298     7.52835     0.203205    0.839  -13.2303   16.2899\n",
       "robrate_missing |     1.13297     7.26053     0.156044    0.876  -13.1021    15.368\n",
       "newblack        |    -4.34682     6.62062    -0.656558    0.512  -17.3272   8.63359\n",
       "newfhh          |     7.80009     13.0739     0.596614    0.551  -17.8327   33.4329\n",
       "newmove         |     42.2304     9.63096      4.38486    0.000   23.3479   61.1129\n",
       "newdens         |    -2.40914     6.17962    -0.389853    0.697  -14.5249   9.70663\n",
       "newmal          |    0.612434     11.4751    0.0533708    0.957  -21.8856   23.1105\n",
       "AGE010D         |    -31.0129     6.62327     -4.68242    0.000  -43.9985  -18.0273\n",
       "AGE050D         |      10.436     16.0935     0.648461    0.517   -21.117    41.989\n",
       "AGE110D         |    -6.47538      11.045    -0.586274    0.558  -28.1302   15.1794\n",
       "AGE170D         |    -6.46665     15.2532    -0.423952    0.672  -36.3722   23.4389\n",
       "AGE180D         |    -11.5616     9.75542     -1.18515    0.236  -30.6881    7.5649\n",
       "AGE270D         |     35.7176     6.39689      5.58359    0.000   23.1758   48.2593\n",
       "AGE310D         |     19.3671     26.5513      0.72942    0.466  -32.6895   71.4237\n",
       "AGE320D         |     1.58143     19.4842    0.0811649    0.935  -36.6193   39.7821\n",
       "AGE350D         |     -9.2839     15.6737    -0.592324    0.554  -40.0137   21.4459\n",
       "AGE380D         |     27.0533      33.048     0.818607    0.413  -37.7406   91.8473\n",
       "AGE410D         |    -9.22949     18.4743    -0.499584    0.617  -45.4503   26.9913\n",
       "AGE470D         |     5.17333     9.77121     0.529446    0.597  -13.9841   24.3308\n",
       "AGE570D         |     3.81493     9.60652     0.397119    0.691  -15.0196   22.6495\n",
       "AGE640D         |     1.96683     31.9771    0.0615074    0.951  -60.7275   64.6611\n",
       "AGE670D         |    -1.73173     70.8358   -0.0244471    0.980  -140.613   137.149\n",
       "AGE760D         |     0.81316     16.3585    0.0497087    0.960  -31.2594   32.8857\n",
       "BNK010D         |  -0.0757231     18.9656  -0.00399266    0.997  -37.2597   37.1083\n",
       "BNK050D         |    0.018521      28.166  0.000657565    0.999  -55.2039   55.2409\n",
       "BPS030D         |   -0.066928      33.439  -0.00200149    0.998  -65.6275   65.4936\n",
       "BPS130D         |   0.0280607     23.6935   0.00118432    0.999  -46.4254   46.4816\n",
       "BPS230D         |  -0.0730004     22.4671  -0.00324921    0.997   -44.122    43.976\n",
       "BPS020D         |  -0.0832063     21.0792  -0.00394731    0.997  -41.4112   41.2448\n",
       "BPS120D         |    0.035453     27.9521   0.00126835    0.999  -54.7674   54.8383\n",
       "BPS220D         |   0.0676791     17.9183    0.0037771    0.997  -35.0629   35.1983\n",
       "BPS820D         |    0.031421     35.7467  0.000878988    0.999  -70.0537   70.1165\n",
       "BZA010D         |    0.341567     20.1161    0.0169798    0.986   -39.098   39.7812\n",
       "BZA110D         |   -0.135707     29.4969  -0.00460073    0.996  -57.9674    57.696\n",
       "BZA210D         |  -0.0975973     39.4977  -0.00247096    0.998  -77.5368   77.3416\n",
       "EDU100D         |         0.0         NaN          NaN      NaN       NaN       NaN\n",
       "EDU200D         |         0.0         NaN          NaN      NaN       NaN       NaN\n",
       "EDU600D         |    -51.0255     20.6684     -2.46877    0.014   -91.548   -10.503\n",
       "EDU610D         |   -0.428712     22.4278   -0.0191152    0.985  -44.4008   43.5433\n",
       "EDU620D         |     1.09965     47.5008    0.0231501    0.982  -92.0306   94.2298\n",
       "EDU630D         |     28.8101     48.8008     0.590361    0.555  -66.8688   124.489\n",
       "EDU635D         |    -23.0591     29.6519    -0.777659    0.437  -81.1947   35.0765\n",
       "EDU640D         |    -1.00045     22.8867   -0.0437131    0.965  -45.8722   43.8713\n",
       "EDU650D         |     -2.0153     26.3831   -0.0763858    0.939  -53.7422   49.7116\n",
       "EDU680D         |    -8.01946     25.7158     -0.31185    0.755  -58.4378   42.3989\n",
       "EDU685D         |     7.19363     27.8687     0.258126    0.796  -47.4457    61.833\n",
       "ELE010D         |     16.0876     33.4329     0.481189    0.630  -49.4611   81.6363\n",
       "ELE020D         |       2.217     41.5456    0.0533629    0.957  -79.2375   83.6715\n",
       "ELE025D         |    -2.54703     102.971   -0.0247355    0.980  -204.431   199.337\n",
       "ELE030D         |    -18.6818     56.3919    -0.331286    0.740  -129.244   91.8803\n",
       "ELE035D         |      18.695     20.0371      0.93302    0.351  -20.5898   57.9798\n",
       "ELE060D         |  0.00555918     21.1584  0.000262741    1.000  -41.4776   41.4887\n",
       "ELE065D         |  -0.0142989     51.2883 -0.000278794    1.000   -100.57   100.542\n",
       "ELE210D         |   -0.329741     23.1815   -0.0142243    0.989  -45.7795     45.12\n",
       "ELE220D         |  -0.0028114     67.0818  -4.19099e-5    1.000  -131.524   131.518\n",
       "HIS010D         |         0.0         NaN          NaN      NaN       NaN       NaN\n",
       "HIS020D         |     18.9964     61.7135     0.307817    0.758  -101.999   139.992\n",
       "HIS030D         |    -9.14996     112.974   -0.0809917    0.935  -230.647   212.347\n",
       "HIS040D         |    -9.47229     38.5549    -0.245683    0.806  -85.0632   66.1186\n",
       "HIS110D         |   -0.834092     40.6227   -0.0205327    0.984  -80.4789   78.8108\n",
       "HIS120D         |   0.0635037     56.3278   0.00112739    0.999  -110.373     110.5\n",
       "HIS130D         |  -0.0266082     40.5374 -0.000656386    0.999  -79.5043   79.4511\n",
       "HIS140D         |   -0.143874     64.4741   -0.0022315    0.998  -126.552   126.264\n",
       "HIS200D         |         0.0         NaN          NaN      NaN       NaN       NaN\n",
       "HIS300D         |         0.0         NaN          NaN      NaN       NaN       NaN\n",
       "HIS500D         |         0.0         NaN          NaN      NaN       NaN       NaN\n",
       "HIS700D         |         0.0         NaN          NaN      NaN       NaN       NaN\n",
       "HSD010D         |     74.7136     23.6437      3.15997    0.002   28.3576    121.07\n",
       "HSD020D         |   -0.153163     34.7658  -0.00440556    0.996  -68.3151   68.0087\n",
       "HSD030D         |     5.62845     47.8234     0.117692    0.906  -88.1342   99.3911\n",
       "HSD110D         |     77.9393     40.8245      1.90913    0.056  -2.10121    157.98\n",
       "HSD120D         |    -17.7825     37.3449    -0.476168    0.634   -91.001   55.4361\n",
       "HSD130D         |    -78.6351     55.8223     -1.40867    0.159   -188.08   30.8101\n",
       "HSD140D         |     12.5451     56.1625     0.223372    0.823  -97.5672   122.657\n",
       "HSD150D         |    -2.98228     29.6002    -0.100752    0.920  -61.0164   55.0519\n",
       "HSD170D         |    -6.87859     53.7638    -0.127941    0.898  -112.288   98.5309\n",
       "HSD200D         |    -58.7677      43.671     -1.34569    0.178  -144.389   26.8537\n",
       "HSD210D         |     33.4792     77.2607     0.433327    0.665  -117.998   184.957\n",
       "HSD230D         |    -3.21019     56.7019   -0.0566152    0.955   -114.38    107.96\n",
       "HSD300D         |     12.9237     33.5919     0.384727    0.700  -52.9367   78.7841\n",
       "HSD310D         |    -20.5243      58.665    -0.349856    0.726  -135.543   94.4944\n",
       "HSG030D         |    -66.4703     37.8977     -1.75394    0.080  -140.773   7.83204\n",
       "HSG195D         |  -0.0669171     76.6731 -0.000872758    0.999  -150.392   150.259\n",
       "HSG200D         |         0.0         NaN          NaN      NaN       NaN       NaN\n",
       "HSG220D         |    -1.34903     73.1982   -0.0184298    0.985  -144.862   142.163\n",
       "HSG440D         |     -395.28     64.5812     -6.12067    0.000  -521.898  -268.662\n",
       "HSG445D         |     63.9775     40.5805      1.57656    0.115  -15.5847    143.54\n",
       "HSG460D         |    0.387424     61.5724   0.00629217    0.995  -120.331   121.106\n",
       "HSG680D         |     -80.298     52.4362     -1.53135    0.126  -183.104   22.5085\n",
       "HSG700D         |     1.19125     58.2251    0.0204594    0.984  -112.965   115.347\n",
       "HSD410D         |    -32.8443     67.9369    -0.483452    0.629  -166.042   100.353\n",
       "HSD500D         |    -87.7911     47.1387      -1.8624    0.063  -180.211   4.62906\n",
       "HSD510D         |     97.0692     63.9917       1.5169    0.129  -28.3932   222.531\n",
       "HSD520D         |    -8.15462     42.3201    -0.192689    0.847  -91.1275   74.8183\n",
       "HSD530D         |    -0.76657     36.0432   -0.0212681    0.983  -71.4329   69.8997\n",
       "HSD540D         |     4.75311     22.3637     0.212537    0.832  -39.0932   48.5995\n",
       "HSD550D         |   -0.831879     55.1121   -0.0150943    0.988  -108.885   107.221\n",
       "HSD560D         |   -0.336192     39.8481  -0.00843684    0.993  -78.4625   77.7901\n",
       "HSD570D         |         0.0         NaN          NaN      NaN       NaN       NaN\n",
       "HSD580D         |     2.33012     41.3347    0.0563721    0.955  -78.7108    83.371\n",
       "HSD590D         |     2.70812     52.8678    0.0512244    0.959  -100.945   106.361\n",
       "HSD610D         |     28.0312     73.0452     0.383751    0.701  -115.181   171.244\n",
       "HSD620D         |     -31.376     60.8209    -0.515875    0.606  -150.622   87.8696\n",
       "HSD710D         |     40.5412     46.2607     0.876363    0.381  -50.1577    131.24\n",
       "HSD720D         |         0.0         NaN          NaN      NaN       NaN       NaN\n",
       "HSD730D         |    -7.48619     43.9602    -0.170295    0.865  -93.6746   78.7022\n",
       "HSD740D         |    -14.6966     51.2588    -0.286713    0.774  -115.195   85.8015\n",
       "HSD750D         |    0.864033     26.2398    0.0329284    0.974  -50.5817   52.3098\n",
       "HSD760D         |     12.9187     50.4934     0.255848    0.798  -86.0789   111.916\n",
       "HSD770D         |     14.3445     44.9934     0.318813    0.750  -73.8697   102.559\n",
       "HSD780D         |     -2.0194     27.5663    -0.073256    0.942   -56.066   52.0272\n",
       "HSG040D         |     60.4532     33.5345      1.80272    0.072  -5.29454   126.201\n",
       "HSG045D         |    0.225893     29.7109   0.00760303    0.994  -58.0253   58.4771\n",
       "HSG050D         |         0.0         NaN          NaN      NaN       NaN       NaN\n",
       "HSG182D         |     329.057     46.6127      7.05938    0.000   237.668   420.446\n",
       "HSG210D         |     5.42263     41.3462     0.131152    0.896  -75.6408   86.4861\n",
       "HSG230D         |         0.0         NaN          NaN      NaN       NaN       NaN\n",
       "HSG240D         |     13.3743     34.0665     0.392593    0.695  -53.4166   80.1651\n",
       "HSG250D         |    0.116296      27.281   0.00426289    0.997  -53.3709   53.6034\n",
       "HSG310D         |    0.182972     25.8291   0.00708395    0.994  -50.4575   50.8235\n",
       "HSG315D         |   0.0783068      14.086   0.00555918    0.996  -27.5388   27.6954\n",
       "HSG320D         |    0.179122     16.9822    0.0105476    0.992  -33.1163   33.4746\n",
       "HSG325D         |  -0.0160598     25.0279 -0.000641677    0.999  -49.0858   49.0537\n",
       "HSG335D         |   0.0767097     17.4276   0.00440162    0.996  -34.0919   34.2453\n",
       "HSG350D         |   0.0525682     15.4804    0.0033958    0.997  -30.2983   30.4034\n",
       "HSG370D         |     -1.0667     27.5813   -0.0386746    0.969  -55.1426   53.0092\n",
       "HSG375D         |   -0.840496     35.1387   -0.0239194    0.981  -69.7334   68.0524\n",
       "HSG380D         |    -2.11185     42.9202    -0.049204    0.961  -86.2613   82.0376\n",
       "HSG450D         |    0.204103     12.6328    0.0161566    0.987  -24.5638    24.972\n",
       "HSG490D         |    0.713268     49.0652    0.0145371    0.988  -95.4841   96.9107\n",
       "HSG500D         |   0.0763035     46.4996   0.00164095    0.999  -91.0909   91.2435\n",
       "HSG510D         |  -0.0543293     17.4683  -0.00311017    0.998  -34.3027    34.194\n",
       "HSG520D         |    0.338498     27.0793    0.0125003    0.990  -52.7532   53.4302\n",
       "HSG530D         |   -0.488831     8.73493   -0.0559628    0.955  -17.6146   16.6369\n",
       "HSG540D         |    0.390977     21.2081    0.0184352    0.985  -41.1897   41.9717\n",
       "HSG550D         |   -0.177963     18.7648  -0.00948388    0.992  -36.9683   36.6123\n",
       "HSG560D         |   0.0427851     18.1363   0.00235908    0.998  -35.5154   35.6009\n",
       "HSG570D         |  -0.0291685     17.6112  -0.00165625    0.999  -34.5576   34.4993\n",
       "HSG650D         |     0.67878     15.2931    0.0443848    0.965  -29.3048   30.6624\n",
       "HSG690D         |   -0.449311     28.6457   -0.0156851    0.987  -56.6122   55.7135\n",
       "HSG710D         |     78.9608     20.7325      3.80855    0.000   38.3126   119.609\n",
       "HSG730D         |   -0.924762     16.4187   -0.0563237    0.955  -33.1153   31.2658\n",
       "INC110D         |    -1.23486     31.8027   -0.0388289    0.969  -63.5873   61.1176\n",
       "INC650D         |   -0.644575     15.2188   -0.0423539    0.966  -30.4826   29.1934\n",
       "INC670D         |   -0.170094     12.1891   -0.0139547    0.989   -24.068   23.7278\n",
       "INC680D         |   -0.592061     10.3888   -0.0569904    0.955  -20.9603   19.7762\n",
       "INC690D         |     0.58468     12.8054    0.0456588    0.964  -24.5216    25.691\n",
       "INC700D         |    0.116918      9.0499    0.0129193    0.990  -17.6263   17.8602\n",
       "INC710D         |    0.347385     14.7361    0.0235737    0.981  -28.5443   29.2391\n",
       "INC720D         |    -1.70833     7.16143    -0.238547    0.811   -15.749   12.3324\n",
       "INC730D         |    0.148578     11.3087    0.0131384    0.990  -22.0233   22.3205\n",
       "INC760D         |     1.01708       7.038     0.144513    0.885  -12.7816   14.8158\n",
       "INC790D         |   -0.665111     27.0275   -0.0246087    0.980  -53.6553   52.3251\n",
       "LFE020D         |    -11.1075     9.82446      -1.1306    0.258  -30.3694   8.15433\n",
       "LFE023D         |     5.51498     6.48105     0.850938    0.395  -7.19179   18.2217\n",
       "LFE030D         |    0.192547     6.22749    0.0309188    0.975  -12.0171   12.4022\n",
       "LFE080D         |   -0.190895     4.65034   -0.0410496    0.967  -9.30837   8.92658\n",
       "LFE090D         |    0.991377     5.03544      0.19688    0.844  -8.88112   10.8639\n",
       "LFE210D         |       2.536     7.95795     0.318675    0.750  -13.0664   18.1384\n",
       "LFE220D         |    0.194703     5.10593    0.0381327    0.970  -9.81599   10.2054\n",
       "LND110D         |   -0.957567     4.80606    -0.199242    0.842  -10.3803    8.4652\n",
       "PIN020D         |    0.238782     5.02133    0.0475534    0.962  -9.60605   10.0836\n",
       "POP110D         |         0.0         NaN          NaN      NaN       NaN       NaN\n",
       "POP210D         |   -0.973626     6.01445    -0.161881    0.871  -12.7656   10.8183\n",
       "POP240D         |         0.0         NaN          NaN      NaN       NaN       NaN\n",
       "POP440D         |    -3.88742     4.05933    -0.957651    0.338  -11.8462   4.07131\n",
       "POP450D         |     11.6002     4.89479       2.3699    0.018   2.00343   21.1969\n",
       "POP470D         |    -3.54817     2.73121     -1.29912    0.194  -8.90298   1.80665\n",
       "POP480D         |    -1.77516      2.8413    -0.624772    0.532  -7.34583    3.7955\n",
       "POP540D         |    -1.49392     3.59838    -0.415166    0.678  -8.54892   5.56107\n",
       "POP550D         |    -28.2174     3.40836     -8.27887    0.000  -34.8998  -21.5349\n",
       "POP570D         |    0.166053     5.84647    0.0284022    0.977  -11.2966   11.6287\n",
       "POP580D         |      2.2468     2.83125     0.793572    0.427  -3.30415   7.79774\n",
       "POP700D         |     44.3309     5.35979      8.27101    0.000   33.8225   54.8393\n",
       "POP710D         |    -13.1519     4.58404     -2.86907    0.004  -22.1394  -4.16445\n",
       "POP720D         |     0.89423     2.04728     0.436788    0.662  -3.11968   4.90814\n",
       "POP740D         |    0.408881     1.18831     0.344086    0.731  -1.92092   2.73869\n",
       "PPQ010D         |   -0.313905     4.31414   -0.0727619    0.942  -8.77222   8.14441\n",
       "PPQ100D         |     0.49144     2.23937     0.219454    0.826  -3.89908   4.88196\n",
       "PPQ110D         |         0.0         NaN          NaN      NaN       NaN       NaN\n",
       "PPQ120D         |         0.0         NaN          NaN      NaN       NaN       NaN\n",
       "PVY020D         |    -1.14767     1.52342    -0.753353    0.451  -4.13448   1.83914\n",
       "PVY120D         |     2.03167     3.28006     0.619401    0.536  -4.39922   8.46257\n",
       "PVY210D         |    0.307108     6.07648    0.0505404    0.960  -11.6065   12.2207\n",
       "PVY310D         |   -0.428608     2.26751    -0.189021    0.850   -4.8743   4.01708\n",
       "PVY420D         |    0.612425     7.16864    0.0854311    0.932  -13.4424   14.6673\n",
       "PVY520D         |   -0.326862     2.40232    -0.136061    0.892  -5.03686   4.38313\n",
       "SPR030D         |   -0.500299     1.35536    -0.369127    0.712  -3.15762   2.15702\n",
       "SPR130D         |    -1.65654    0.554668     -2.98655    0.003  -2.74403 -0.569061\n",
       "SPR230D         |     1.44786     1.40932      1.02734    0.304  -1.31526   4.21098\n",
       "SPR330D         |  -0.0339982    0.658178    -0.051655    0.959  -1.32442   1.25643\n",
       "SPR440D         |   -0.431514    0.422872     -1.02044    0.308   -1.2606   0.39757\n",
       "VST020D         |    0.532223     0.59105     0.900471    0.368  -0.62659   1.69104\n",
       "(Intercept)     | -3.47047e-7     15.4392  -2.24783e-8    1.000  -30.2702   30.2702\n",
       "===================================================================================\n"
      ]
     },
     "execution_count": 92,
     "metadata": {},
     "output_type": "execute_result"
    }
   ],
   "source": [
    "# define the variables\n",
    "y = [\"logghomr\"]\n",
    "\n",
    "data_columns = names(data)\n",
    "no_relev_col = [\"logfssl\", \"CountyCode\", \"logghomr\"]\n",
    "\n",
    "# This gives us: new_list = ['carrot' , 'lemon']\n",
    "z = data[!, Not(no_relev_col)]\n",
    "\n",
    "control_formula = term(:logghomr) ~ term(:logfssl) + sum(term.(names(z)[1:end]))\n",
    "control_ols = reg(data, control_formula, Vcov.cluster(:CountyCode))"
   ]
  },
  {
   "cell_type": "code",
   "execution_count": 51,
   "metadata": {},
   "outputs": [],
   "source": [
    "# control_ols= reg(data,term(:logghomr) ~  term(:logfssl) + sum(term.(Symbol.(names(Z)))) + fe(:CountyCode))\n",
    "# est_ols = coef(control_ols)[1]\n",
    "# println(confint(control_ols)[1,1:2])\n",
    "# println(est_ols[1])"
   ]
  },
  {
   "cell_type": "code",
   "execution_count": 14,
   "metadata": {},
   "outputs": [
    {
     "name": "stdout",
     "output_type": "stream",
     "text": [
      "For <<logfssl>> variable: \n",
      "2.5% : 0.19025077455652542\n",
      "97.5% : 0.19109028864460129\n",
      "Estimate: 0.19067053160056335\n",
      "Cluster s.e. : 0.20296178713656843\n",
      "T-value : 890.5843124451466\n",
      "Pr(>|t|) : 0.0\n"
     ]
    }
   ],
   "source": [
    "println(\"For <<logfssl>> variable: \")\n",
    "println(\"2.5% : \", coeftable(control_ols).cols[5][1])\n",
    "println(\"97.5% : \" , coeftable(control_ols).cols[6][1])\n",
    "println(\"Estimate: \", coeftable(control_ols).cols[1][1])\n",
    "println(\"Cluster s.e. : \" , r2(control_ols))\n",
    "println(\"T-value : \", coeftable(control_ols).cols[3][1])\n",
    "println(\"Pr(>|t|) : \" , coeftable(control_ols).cols[4][1])"
   ]
  },
  {
   "cell_type": "markdown",
   "metadata": {},
   "source": [
    "# DML algorithm\n",
    "\n",
    "Here we perform inference of the predictive coefficient $\\beta$ in our partially linear statistical model, \n",
    "\n",
    "$$\n",
    "Y = D\\beta + g(Z) + \\epsilon, \\quad E (\\epsilon | D, Z) = 0,\n",
    "$$\n",
    "\n",
    "using the **double machine learning** approach. \n",
    "\n",
    "For $\\tilde Y = Y- E(Y|Z)$ and $\\tilde D= D- E(D|Z)$, we can write\n",
    "$$\n",
    "\\tilde Y = \\alpha \\tilde D + \\epsilon, \\quad E (\\epsilon |\\tilde D) =0.\n",
    "$$\n",
    "\n",
    "Using cross-fitting, we employ modern regression methods\n",
    "to build estimators $\\hat \\ell(Z)$ and $\\hat m(Z)$ of $\\ell(Z):=E(Y|Z)$ and $m(Z):=E(D|Z)$ to obtain the estimates of the residualized quantities:\n",
    "\n",
    "$$\n",
    "\\tilde Y_i = Y_i  - \\hat \\ell (Z_i),   \\quad \\tilde D_i = D_i - \\hat m(Z_i), \\quad \\text{ for each } i = 1,\\dots,n.\n",
    "$$\n",
    "\n",
    "Finally, using ordinary least squares of $\\tilde Y_i$ on $\\tilde D_i$, we obtain the \n",
    "estimate of $\\beta$."
   ]
  },
  {
   "cell_type": "code",
   "execution_count": 52,
   "metadata": {},
   "outputs": [],
   "source": [
    "# import Pkg; Pkg.add(\"MLDataUtils\")\n",
    "# import Pkg; Pkg.add(\"MLBase\")"
   ]
  },
  {
   "cell_type": "code",
   "execution_count": 15,
   "metadata": {},
   "outputs": [],
   "source": [
    "using  MLDataUtils, MLBase"
   ]
  },
  {
   "cell_type": "code",
   "execution_count": 16,
   "metadata": {},
   "outputs": [
    {
     "data": {
      "text/plain": [
       "DML2_for_PLM (generic function with 1 method)"
      ]
     },
     "execution_count": 16,
     "metadata": {},
     "output_type": "execute_result"
    }
   ],
   "source": [
    "function DML2_for_PLM(z, d, y, dreg, yreg, nfold, clu)\n",
    "    \n",
    "    # Number of observations\n",
    "    nobser = size(z, 1) \n",
    "    \n",
    "    # Define folds indices \n",
    "    foldid = collect(Kfold(size(z)[1], nfold))\n",
    "    \n",
    "    # Create array to save errors \n",
    "    ytil = ones(nobser)\n",
    "    dtil = ones(nobser)\n",
    "    println(\"Folds: \" )\n",
    "    \n",
    "    # loop to save results\n",
    "    for i in 1:nfold\n",
    "        \n",
    "        # Lasso regression, excluding folds selected \n",
    "        dfit = dreg(z[foldid[i],:], d[foldid[i]])\n",
    "        yfit = yreg(z[foldid[i],:], y[foldid[i]])\n",
    "        \n",
    "        # predict estimates using the \n",
    "        dhat = Lasso.predict(dfit, z[Not(foldid[i]),:])\n",
    "        yhat = Lasso.predict(yfit, z[Not(foldid[i]),:])\n",
    "        \n",
    "        # save errors \n",
    "        dtil[Not(foldid[i])]   = (d[Not(foldid[i])] - dhat)\n",
    "        ytil[Not(foldid[i])]   = (y[Not(foldid[i])] - yhat)\n",
    "        println(i)\n",
    "    end\n",
    "    \n",
    "    # Create dataframe\n",
    "    data = DataFrame(ytil = ytil, dtil = dtil, clu = clu)\n",
    "    \n",
    "    # OLS clustering at the County level\n",
    "    rfit = reg(data, @formula(ytil ~ dtil + fe(clu)))\n",
    "    coef_est = coef(rfit)[1]\n",
    "    se = FixedEffectModels.coeftable(rfit).cols[2]\n",
    "\n",
    "    println(\" coef (se) = \", coef_est ,\"(\",se,\")\")\n",
    "    \n",
    "    return rfit;\n",
    "    \n",
    "end"
   ]
  },
  {
   "cell_type": "markdown",
   "metadata": {},
   "source": [
    "Now, we apply the Double Machine Learning (DML) approach with different machine learning methods. First, we load the relevant libraries."
   ]
  },
  {
   "cell_type": "markdown",
   "metadata": {},
   "source": [
    "Let us, construct the input matrices."
   ]
  },
  {
   "cell_type": "code",
   "execution_count": 93,
   "metadata": {},
   "outputs": [
    {
     "data": {
      "text/html": [
       "<div class=\"data-frame\"><p>6 rows × 3 columns</p><table class=\"data-frame\"><thead><tr><th></th><th>logghomr</th><th>logfssl</th><th>CountyCode</th></tr><tr><th></th><th title=\"Float64\">Float64</th><th title=\"Float64\">Float64</th><th title=\"Int64\">Int64</th></tr></thead><tbody><tr><th>1</th><td>-0.134778</td><td>0.096127</td><td>1073</td></tr><tr><th>2</th><td>-0.239622</td><td>0.080809</td><td>1073</td></tr><tr><th>3</th><td>-0.078677</td><td>0.05734</td><td>1073</td></tr><tr><th>4</th><td>-0.331465</td><td>0.081694</td><td>1073</td></tr><tr><th>5</th><td>-0.31664</td><td>0.025366</td><td>1073</td></tr><tr><th>6</th><td>0.105132</td><td>-0.006777</td><td>1073</td></tr></tbody></table></div>"
      ],
      "text/latex": [
       "\\begin{tabular}{r|ccc}\n",
       "\t& logghomr & logfssl & CountyCode\\\\\n",
       "\t\\hline\n",
       "\t& Float64 & Float64 & Int64\\\\\n",
       "\t\\hline\n",
       "\t1 & -0.134778 & 0.096127 & 1073 \\\\\n",
       "\t2 & -0.239622 & 0.080809 & 1073 \\\\\n",
       "\t3 & -0.078677 & 0.05734 & 1073 \\\\\n",
       "\t4 & -0.331465 & 0.081694 & 1073 \\\\\n",
       "\t5 & -0.31664 & 0.025366 & 1073 \\\\\n",
       "\t6 & 0.105132 & -0.006777 & 1073 \\\\\n",
       "\\end{tabular}\n"
      ],
      "text/plain": [
       "\u001b[1m6×3 DataFrame\u001b[0m\n",
       "\u001b[1m Row \u001b[0m│\u001b[1m logghomr  \u001b[0m\u001b[1m logfssl   \u001b[0m\u001b[1m CountyCode \u001b[0m\n",
       "\u001b[1m     \u001b[0m│\u001b[90m Float64   \u001b[0m\u001b[90m Float64   \u001b[0m\u001b[90m Int64      \u001b[0m\n",
       "─────┼──────────────────────────────────\n",
       "   1 │ -0.134778   0.096127        1073\n",
       "   2 │ -0.239622   0.080809        1073\n",
       "   3 │ -0.078677   0.05734         1073\n",
       "   4 │ -0.331465   0.081694        1073\n",
       "   5 │ -0.31664    0.025366        1073\n",
       "   6 │  0.105132  -0.006777        1073"
      ]
     },
     "execution_count": 93,
     "metadata": {},
     "output_type": "execute_result"
    }
   ],
   "source": [
    "z = Matrix(Z);\n",
    "d = D[!, 1];\n",
    "y = Y[!, 1];\n",
    "clu = rdata[!, :CountyCode];\n",
    "first(DataFrame(logghomr = y, logfssl = d, CountyCode = clu ), 6)"
   ]
  },
  {
   "cell_type": "markdown",
   "metadata": {},
   "source": [
    "In the following, we apply the DML approach with the differnt versions of lasso.\n"
   ]
  },
  {
   "cell_type": "markdown",
   "metadata": {},
   "source": [
    "## Lasso"
   ]
  },
  {
   "cell_type": "code",
   "execution_count": 18,
   "metadata": {},
   "outputs": [
    {
     "name": "stderr",
     "output_type": "stream",
     "text": [
      "WARNING: using Lasso.coeftable in module Main conflicts with an existing identifier.\n"
     ]
    }
   ],
   "source": [
    "using Lasso"
   ]
  },
  {
   "cell_type": "code",
   "execution_count": 19,
   "metadata": {},
   "outputs": [
    {
     "name": "stdout",
     "output_type": "stream",
     "text": [
      "Folds: \n",
      "1\n",
      "2\n",
      "3\n",
      "4\n",
      "5\n",
      "6\n",
      "7\n",
      "8\n",
      "9\n",
      "10\n",
      " coef (se) = 0.21585868256187365([0.05692379809111925])\n"
     ]
    },
    {
     "data": {
      "text/plain": [
       "                      Fixed Effect Model                      \n",
       "==============================================================\n",
       "Number of obs:            3900  Degrees of freedom:        196\n",
       "R2:                      0.004  R2 Adjusted:            -0.048\n",
       "F-Stat:                14.3797  p-value:                 0.000\n",
       "R2 within:               0.004  Iterations:                  1\n",
       "==============================================================\n",
       "ytil | Estimate Std.Error t value Pr(>|t|) Lower 95% Upper 95%\n",
       "--------------------------------------------------------------\n",
       "dtil | 0.215859 0.0569238 3.79206    0.000  0.104254  0.327464\n",
       "==============================================================\n"
      ]
     },
     "execution_count": 19,
     "metadata": {},
     "output_type": "execute_result"
    }
   ],
   "source": [
    "Random.seed!(123)\n",
    "\n",
    "function dreg(z, d)\n",
    "    fit(LassoModel, z, d, standardize = false)\n",
    "end\n",
    "\n",
    "############################\n",
    "\n",
    "function yreg(z, y)\n",
    "    fit(LassoModel, z, y,  standardize = false)\n",
    "end\n",
    "\n",
    "DML2_lasso = DML2_for_PLM(z, d, y, dreg, yreg, 10, clu)"
   ]
  },
  {
   "cell_type": "markdown",
   "metadata": {},
   "source": [
    "## GLMnet"
   ]
  },
  {
   "cell_type": "code",
   "execution_count": 20,
   "metadata": {
    "scrolled": true
   },
   "outputs": [
    {
     "name": "stderr",
     "output_type": "stream",
     "text": [
      "WARNING: using GLMNet.coef in module Main conflicts with an existing identifier.\n"
     ]
    }
   ],
   "source": [
    "using GLMNet"
   ]
  },
  {
   "cell_type": "code",
   "execution_count": 21,
   "metadata": {},
   "outputs": [
    {
     "data": {
      "text/plain": [
       "DML2_lasso_cv (generic function with 1 method)"
      ]
     },
     "execution_count": 21,
     "metadata": {},
     "output_type": "execute_result"
    }
   ],
   "source": [
    "function DML2_lasso_cv(z , d , y, dreg , yreg , nfold, clu)\n",
    "    # Number of observations\n",
    "    nobser = size(z, 1) \n",
    "    \n",
    "    # Define folds indices \n",
    "    foldid = collect(Kfold(size(z)[1], nfold))\n",
    "    \n",
    "    # Create array to save errors \n",
    "    ytil = ones(nobser)\n",
    "    dtil = ones(nobser)\n",
    "    println(\"Folds: \" )\n",
    "    \n",
    "    # loop to save results\n",
    "    for i in 1:nfold\n",
    "        \n",
    "        # Lasso regression, excluding folds selected \n",
    "        dfit = dreg(z[foldid[i],:], d[foldid[i]])\n",
    "        yfit = yreg(z[foldid[i],:], y[foldid[i]])\n",
    "        \n",
    "        # predict estimates using the \n",
    "        dhat = GLMNet.predict(dfit, z[Not(foldid[i]),:])\n",
    "        yhat = GLMNet.predict(yfit, z[Not(foldid[i]),:])\n",
    "        \n",
    "        # save errors \n",
    "        dtil[Not(foldid[i])]   = (d[Not(foldid[i])] - dhat)\n",
    "        ytil[Not(foldid[i])]   = (y[Not(foldid[i])] - yhat)\n",
    "        println(i)\n",
    "    end\n",
    "    \n",
    "    # Create dataframe\n",
    "    data = DataFrame(ytil = ytil, dtil = dtil, clu = clu)\n",
    "    \n",
    "    # OLS clustering at the County level\n",
    "    rfit = reg(data, @formula(ytil ~ dtil + fe(clu)))\n",
    "    coef_est = coef(rfit)[1]\n",
    "    se = FixedEffectModels.coeftable(rfit).cols[2]\n",
    "\n",
    "    println(\" coef (se) = \", coef_est ,\"(\",se,\")\")\n",
    "    \n",
    "    return rfit;\n",
    "    \n",
    "end"
   ]
  },
  {
   "cell_type": "markdown",
   "metadata": {},
   "source": [
    "### ML method = Cross-Validated Lasso from glmnet "
   ]
  },
  {
   "cell_type": "code",
   "execution_count": 22,
   "metadata": {},
   "outputs": [
    {
     "name": "stdout",
     "output_type": "stream",
     "text": [
      "Folds: \n",
      "1\n",
      "2\n",
      " coef (se) = 0.20275011053055503([0.057294865710519595])\n"
     ]
    },
    {
     "data": {
      "text/plain": [
       "                      Fixed Effect Model                      \n",
       "==============================================================\n",
       "Number of obs:            3900  Degrees of freedom:        196\n",
       "R2:                      0.005  R2 Adjusted:            -0.048\n",
       "F-Stat:                12.5225  p-value:                 0.000\n",
       "R2 within:               0.003  Iterations:                  1\n",
       "==============================================================\n",
       "ytil | Estimate Std.Error t value Pr(>|t|) Lower 95% Upper 95%\n",
       "--------------------------------------------------------------\n",
       "dtil |  0.20275 0.0572949 3.53871    0.000 0.0904175  0.315083\n",
       "==============================================================\n"
      ]
     },
     "execution_count": 22,
     "metadata": {},
     "output_type": "execute_result"
    }
   ],
   "source": [
    "dreg(z, d) = glmnetcv(z, d, alpha = 1)    \n",
    "yreg(z, y) = glmnetcv(z, y, alpha = 1)    \n",
    "\n",
    "DML2_lasso_cv_1 = DML2_lasso_cv(z, d, y, dreg, yreg, 2,clu)"
   ]
  },
  {
   "cell_type": "markdown",
   "metadata": {},
   "source": [
    "### ML method = Elastic net from glmnet "
   ]
  },
  {
   "cell_type": "code",
   "execution_count": 23,
   "metadata": {},
   "outputs": [
    {
     "name": "stdout",
     "output_type": "stream",
     "text": [
      "Folds: \n",
      "1\n",
      "2\n",
      "3\n",
      "4\n",
      "5\n",
      "6\n",
      "7\n",
      "8\n",
      "9\n",
      "10\n",
      " coef (se) = 0.2172461515632935([0.05691865677555617])\n"
     ]
    },
    {
     "data": {
      "text/plain": [
       "                      Fixed Effect Model                      \n",
       "==============================================================\n",
       "Number of obs:            3900  Degrees of freedom:        196\n",
       "R2:                      0.005  R2 Adjusted:            -0.048\n",
       "F-Stat:                14.5678  p-value:                 0.000\n",
       "R2 within:               0.004  Iterations:                  1\n",
       "==============================================================\n",
       "ytil | Estimate Std.Error t value Pr(>|t|) Lower 95% Upper 95%\n",
       "--------------------------------------------------------------\n",
       "dtil | 0.217246 0.0569187 3.81678    0.000  0.105651  0.328841\n",
       "==============================================================\n"
      ]
     },
     "execution_count": 23,
     "metadata": {},
     "output_type": "execute_result"
    }
   ],
   "source": [
    "dreg(z,d) = glmnetcv(z,d, alpha = 0.5) \n",
    "yreg(z,y) = glmnetcv(z,y, alpha = 0.5)\n",
    "\n",
    "DML2_elnet = DML2_lasso_cv(z, d, y, dreg, yreg, 10, clu)"
   ]
  },
  {
   "cell_type": "markdown",
   "metadata": {},
   "source": [
    "### ML method = Ridge from glmnet "
   ]
  },
  {
   "cell_type": "code",
   "execution_count": 24,
   "metadata": {},
   "outputs": [
    {
     "name": "stdout",
     "output_type": "stream",
     "text": [
      "Folds: \n",
      "1\n",
      "2\n",
      "3\n",
      "4\n",
      "5\n",
      "6\n",
      "7\n",
      "8\n",
      "9\n",
      "10\n",
      " coef (se) = 0.2149895024571906([0.05709057028411709])\n"
     ]
    },
    {
     "data": {
      "text/plain": [
       "                      Fixed Effect Model                      \n",
       "==============================================================\n",
       "Number of obs:            3900  Degrees of freedom:        196\n",
       "R2:                      0.004  R2 Adjusted:            -0.048\n",
       "F-Stat:                 14.181  p-value:                 0.000\n",
       "R2 within:               0.004  Iterations:                  1\n",
       "==============================================================\n",
       "ytil | Estimate Std.Error t value Pr(>|t|) Lower 95% Upper 95%\n",
       "--------------------------------------------------------------\n",
       "dtil |  0.21499 0.0570906 3.76576    0.000  0.103057  0.326922\n",
       "==============================================================\n"
      ]
     },
     "execution_count": 24,
     "metadata": {},
     "output_type": "execute_result"
    }
   ],
   "source": [
    "dreg(z,d) = glmnetcv(z,d, alpha = 0) \n",
    "yreg(z,y) = glmnetcv(z,y, alpha = 0)\n",
    "\n",
    "DML2_ridge = DML2_lasso_cv(z, d, y, dreg, yreg, 10, clu)"
   ]
  },
  {
   "cell_type": "markdown",
   "metadata": {},
   "source": [
    "Here we also compute DML with OLS used as the ML method"
   ]
  },
  {
   "cell_type": "code",
   "execution_count": 26,
   "metadata": {},
   "outputs": [
    {
     "name": "stdout",
     "output_type": "stream",
     "text": [
      "Folds: \n",
      "1\n",
      "2\n",
      "3\n",
      "4\n",
      "5\n",
      "6\n",
      "7\n",
      "8\n",
      "9\n",
      "10\n",
      " coef (se) = 0.19028171422895446([0.05593504593523386])\n"
     ]
    },
    {
     "data": {
      "text/plain": [
       "                      Fixed Effect Model                      \n",
       "==============================================================\n",
       "Number of obs:            3900  Degrees of freedom:        196\n",
       "R2:                      0.004  R2 Adjusted:            -0.049\n",
       "F-Stat:                11.5725  p-value:                 0.001\n",
       "R2 within:               0.003  Iterations:                  1\n",
       "==============================================================\n",
       "ytil | Estimate Std.Error t value Pr(>|t|) Lower 95% Upper 95%\n",
       "--------------------------------------------------------------\n",
       "dtil | 0.190282  0.055935 3.40183    0.001 0.0806152  0.299948\n",
       "==============================================================\n"
      ]
     },
     "execution_count": 26,
     "metadata": {},
     "output_type": "execute_result"
    }
   ],
   "source": [
    "Random.seed!(123)\n",
    "function dreg(z,d)\n",
    "    lm(z,d)\n",
    "end\n",
    "\n",
    "function yreg(z,y)\n",
    "    lm(z,y)\n",
    "end\n",
    "\n",
    "DML2_ols = DML2_for_PLM(z, d, y, dreg, yreg, 10, clu)"
   ]
  },
  {
   "cell_type": "markdown",
   "metadata": {},
   "source": [
    "Next, we also apply Random Forest for comparison purposes."
   ]
  },
  {
   "cell_type": "markdown",
   "metadata": {},
   "source": [
    "### Random Forest\n"
   ]
  },
  {
   "cell_type": "code",
   "execution_count": 162,
   "metadata": {},
   "outputs": [],
   "source": [
    "# import Pkg; Pkg.add(\"MLJ\")"
   ]
  },
  {
   "cell_type": "code",
   "execution_count": 27,
   "metadata": {},
   "outputs": [],
   "source": [
    "using DecisionTree, MLJ"
   ]
  },
  {
   "cell_type": "code",
   "execution_count": 89,
   "metadata": {},
   "outputs": [
    {
     "data": {
      "text/plain": [
       "DML2_RF (generic function with 1 method)"
      ]
     },
     "execution_count": 89,
     "metadata": {},
     "output_type": "execute_result"
    }
   ],
   "source": [
    "function DML2_RF(z , d , y, dreg , yreg , nfold, clu)\n",
    "    \n",
    "    # Number of observations\n",
    "    nobser = size(z, 1) \n",
    "    \n",
    "    # Define folds indices \n",
    "    foldid = collect(Kfold(size(z)[1], nfold))\n",
    "    \n",
    "    # Create array to save errors \n",
    "    ytil = ones(nobser)\n",
    "    dtil = ones(nobser)\n",
    "    println(\"Folds: \" )\n",
    "    \n",
    "    # loop to save results\n",
    "    for i in 1:nfold\n",
    "        \n",
    "        # Lasso regression, excluding folds selected \n",
    "        dfit = dreg(z[foldid[i],:], d[foldid[i]])\n",
    "        yfit = yreg(z[foldid[i],:], y[foldid[i]])\n",
    "        \n",
    "        # predict estimates using the \n",
    "        dhat = apply_forest(dfit, z[Not(foldid[i]),:])\n",
    "        yhat = apply_forest(yfit, z[Not(foldid[i]),:])\n",
    "        \n",
    "        # save errors \n",
    "        dtil[Not(foldid[i])]   = (d[Not(foldid[i])] - dhat)\n",
    "        ytil[Not(foldid[i])]   = (y[Not(foldid[i])] - yhat)\n",
    "        \n",
    "        println(i)\n",
    "        \n",
    "    end\n",
    "    \n",
    "    # Create dataframe\n",
    "    data = DataFrame(ytil = ytil, dtil = dtil, clu = clu)\n",
    "    \n",
    "    # OLS clustering at the County level\n",
    "    rfit = reg(data, @formula(ytil ~ dtil + fe(clu)))\n",
    "    coef_est = coef(rfit)[1]\n",
    "    se = FixedEffectModels.coeftable(rfit).cols[2]\n",
    "\n",
    "    println(\" coef (se) = \", coef_est ,\"(\",se,\")\")\n",
    "    \n",
    "    return rfit;\n",
    "  \n",
    "end"
   ]
  },
  {
   "cell_type": "code",
   "execution_count": 94,
   "metadata": {},
   "outputs": [
    {
     "name": "stdout",
     "output_type": "stream",
     "text": [
      "Folds: \n",
      "1\n",
      "2\n"
     ]
    },
    {
     "ename": "LoadError",
     "evalue": "\"Some observations for the dependent variable are infinite\"",
     "output_type": "error",
     "traceback": [
      "\"Some observations for the dependent variable are infinite\"",
      "",
      "Stacktrace:",
      " [1] reg(df::Any, formula::FormulaTerm, vcov::CovarianceEstimator; contrasts::Dict, weights::Union{Nothing, Symbol}, save::Union{Bool, Symbol}, method::Symbol, nthreads::Integer, double_precision::Bool, tol::Real, maxiter::Integer, drop_singletons::Bool, progress_bar::Bool, dof_add::Integer, subset::Union{Nothing, AbstractVector{T} where T}, first_stage::Bool)",
      "   @ FixedEffectModels C:\\Users\\sandr\\.julia\\packages\\FixedEffectModels\\nFZJx\\src\\fit.jl:176",
      " [2] reg (repeats 2 times)",
      "   @ C:\\Users\\sandr\\.julia\\packages\\FixedEffectModels\\nFZJx\\src\\fit.jl:61 [inlined]",
      " [3] DML2_RF(z::Matrix{Float64}, d::Vector{Float64}, y::Vector{Float64}, dreg::typeof(dreg), yreg::typeof(yreg), nfold::Int64, clu::Vector{Int64})",
      "   @ Main .\\In[89]:37",
      " [4] top-level scope",
      "   @ In[94]:9",
      " [5] eval",
      "   @ .\\boot.jl:360 [inlined]",
      " [6] include_string(mapexpr::typeof(REPL.softscope), mod::Module, code::String, filename::String)",
      "   @ Base .\\loading.jl:1116"
     ]
    }
   ],
   "source": [
    "function dreg(z,d)\n",
    "    RFmodel = build_forest(d,z)\n",
    "end\n",
    "\n",
    "function yreg(z,y)\n",
    "    RFmodel = build_forest(y,z)\n",
    "end\n",
    "\n",
    "DML2_RF_1 = DML2_RF(z, d, y, dreg, yreg, 2, clu)"
   ]
  },
  {
   "cell_type": "markdown",
   "metadata": {},
   "source": [
    "We conclude that the gun ownership rates are related to gun homicide rates - if gun ownership increases by 1% relative\n",
    "to a trend then the predicted gun homicide rate goes up by about 0.20% controlling for counties' characteristics."
   ]
  },
  {
   "cell_type": "markdown",
   "metadata": {},
   "source": [
    "Finally, let's see which method is actually better. We compute RMSE for predicting D and Y, and see which\n",
    "of the methods works better."
   ]
  },
  {
   "cell_type": "code",
   "execution_count": 117,
   "metadata": {},
   "outputs": [
    {
     "ename": "LoadError",
     "evalue": "\"Some observations for the dependent variable are infinite\"",
     "output_type": "error",
     "traceback": [
      "\"Some observations for the dependent variable are infinite\"",
      "",
      "Stacktrace:",
      " [1] reg(df::Any, formula::FormulaTerm, vcov::CovarianceEstimator; contrasts::Dict, weights::Union{Nothing, Symbol}, save::Union{Bool, Symbol}, method::Symbol, nthreads::Integer, double_precision::Bool, tol::Real, maxiter::Integer, drop_singletons::Bool, progress_bar::Bool, dof_add::Integer, subset::Union{Nothing, AbstractVector{T} where T}, first_stage::Bool)",
      "   @ FixedEffectModels C:\\Users\\sandr\\.julia\\packages\\FixedEffectModels\\nFZJx\\src\\fit.jl:176",
      " [2] reg (repeats 2 times)",
      "   @ C:\\Users\\sandr\\.julia\\packages\\FixedEffectModels\\nFZJx\\src\\fit.jl:61 [inlined]",
      " [3] top-level scope",
      "   @ In[117]:5",
      " [4] eval",
      "   @ .\\boot.jl:360 [inlined]",
      " [5] include_string(mapexpr::typeof(REPL.softscope), mod::Module, code::String, filename::String)",
      "   @ Base .\\loading.jl:1116"
     ]
    }
   ],
   "source": [
    "    coef_est = coef(rfit)[1]\n",
    "    se = FixedEffectModels.coeftable(rfit).cols[2]"
   ]
  },
  {
   "cell_type": "code",
   "execution_count": 295,
   "metadata": {},
   "outputs": [
    {
     "ename": "LoadError",
     "evalue": "syntax: incomplete: premature end of input",
     "output_type": "error",
     "traceback": [
      "syntax: incomplete: premature end of input",
      "",
      "Stacktrace:",
      " [1] top-level scope",
      "   @ In[295]:4",
      " [2] eval",
      "   @ .\\boot.jl:360 [inlined]",
      " [3] include_string(mapexpr::typeof(REPL.softscope), mod::Module, code::String, filename::String)",
      "   @ Base .\\loading.jl:1116"
     ]
    }
   ],
   "source": [
    "mods = [DML2_ols, DML2_lasso, DML2_lasso_cv_1, DML2_ridge, DML2_elnet]\n",
    "mods_name = [\"DML2_ols\", \"DML2_lasso\", \"DML2_lasso_cv\", \"DML2_ridge}\", \"DML2_elnet\"]\n",
    "\n",
    "function mdl(model, model_name)\n",
    "    RMSEY = "
   ]
  },
  {
   "cell_type": "code",
   "execution_count": 298,
   "metadata": {},
   "outputs": [
    {
     "ename": "LoadError",
     "evalue": "MethodError: no method matching names(::Nothing)\n\u001b[0mClosest candidates are:\n\u001b[0m  names(\u001b[91m::Union{DataFrames.DataFrameColumns, DataFrames.DataFrameRows}\u001b[39m) at C:\\Users\\sandr\\.julia\\packages\\DataFrames\\MA4YO\\src\\abstractdataframe\\iteration.jl:261\n\u001b[0m  names(\u001b[91m::Union{DataFrames.DataFrameColumns, DataFrames.DataFrameRows}\u001b[39m, \u001b[91m::Any\u001b[39m) at C:\\Users\\sandr\\.julia\\packages\\DataFrames\\MA4YO\\src\\abstractdataframe\\iteration.jl:262\n\u001b[0m  names(\u001b[91m::DataFrames.SubIndex\u001b[39m) at C:\\Users\\sandr\\.julia\\packages\\DataFrames\\MA4YO\\src\\other\\index.jl:529\n\u001b[0m  ...",
     "output_type": "error",
     "traceback": [
      "MethodError: no method matching names(::Nothing)\n\u001b[0mClosest candidates are:\n\u001b[0m  names(\u001b[91m::Union{DataFrames.DataFrameColumns, DataFrames.DataFrameRows}\u001b[39m) at C:\\Users\\sandr\\.julia\\packages\\DataFrames\\MA4YO\\src\\abstractdataframe\\iteration.jl:261\n\u001b[0m  names(\u001b[91m::Union{DataFrames.DataFrameColumns, DataFrames.DataFrameRows}\u001b[39m, \u001b[91m::Any\u001b[39m) at C:\\Users\\sandr\\.julia\\packages\\DataFrames\\MA4YO\\src\\abstractdataframe\\iteration.jl:262\n\u001b[0m  names(\u001b[91m::DataFrames.SubIndex\u001b[39m) at C:\\Users\\sandr\\.julia\\packages\\DataFrames\\MA4YO\\src\\other\\index.jl:529\n\u001b[0m  ...",
      "",
      "Stacktrace:",
      " [1] top-level scope",
      "   @ In[298]:1",
      " [2] eval",
      "   @ .\\boot.jl:360 [inlined]",
      " [3] include_string(mapexpr::typeof(REPL.softscope), mod::Module, code::String, filename::String)",
      "   @ Base .\\loading.jl:1116"
     ]
    }
   ],
   "source": [
    "names(DML2_ols)"
   ]
  },
  {
   "cell_type": "code",
   "execution_count": null,
   "metadata": {},
   "outputs": [],
   "source": []
  },
  {
   "cell_type": "code",
   "execution_count": null,
   "metadata": {},
   "outputs": [],
   "source": []
  },
  {
   "cell_type": "code",
   "execution_count": null,
   "metadata": {},
   "outputs": [],
   "source": []
  },
  {
   "cell_type": "code",
   "execution_count": null,
   "metadata": {},
   "outputs": [],
   "source": []
  },
  {
   "cell_type": "code",
   "execution_count": null,
   "metadata": {},
   "outputs": [],
   "source": []
  }
 ],
 "metadata": {
  "kernelspec": {
   "display_name": "Julia 1.6.5",
   "language": "julia",
   "name": "julia-1.6"
  },
  "language_info": {
   "file_extension": ".jl",
   "mimetype": "application/julia",
   "name": "julia",
   "version": "1.6.5"
  }
 },
 "nbformat": 4,
 "nbformat_minor": 2
}
