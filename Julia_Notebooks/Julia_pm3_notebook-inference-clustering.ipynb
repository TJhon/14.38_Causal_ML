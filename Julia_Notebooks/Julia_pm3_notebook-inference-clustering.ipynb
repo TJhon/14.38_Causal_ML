{
 "cells": [
  {
   "cell_type": "markdown",
   "metadata": {},
   "source": [
    "# A Case Study: The Effect of Gun Ownership on Gun-Homicide Rates"
   ]
  },
  {
   "cell_type": "markdown",
   "metadata": {},
   "source": [
    "We consider the problem of estimating the effect of gun\n",
    "ownership on the homicide rate. For this purpose, we estimate the following partially\n",
    "linear model\n",
    "\n",
    "$$\n",
    " Y_{j,t} = \\beta D_{j,(t-1)} + g(Z_{j,t}) + \\epsilon_{j,t}.\n",
    "$$"
   ]
  },
  {
   "cell_type": "markdown",
   "metadata": {},
   "source": [
    "## Data"
   ]
  },
  {
   "cell_type": "markdown",
   "metadata": {},
   "source": [
    "$Y_{j,t}$ is log homicide rate in county $j$ at time $t$, $D_{j, t-1}$ is log  fraction of suicides committed with a firearm in county $j$ at time $t-1$, which we use as a proxy for gun ownership,  and  $Z_{j,t}$ is a set of demographic and economic characteristics of county $j$ at time $t$. The parameter $\\beta$ is the effect of gun ownership on the\n",
    "homicide rates, controlling for county-level demographic and economic characteristics. \n",
    "\n",
    "The sample covers 195 large United States counties between the years 1980 through 1999, giving us 3900 observations."
   ]
  },
  {
   "cell_type": "code",
   "execution_count": 145,
   "metadata": {},
   "outputs": [
    {
     "name": "stderr",
     "output_type": "stream",
     "text": [
      "\u001b[32m\u001b[1m   Resolving\u001b[22m\u001b[39m package versions...\n",
      "\u001b[32m\u001b[1m  No Changes\u001b[22m\u001b[39m to `C:\\Users\\PC\\.julia\\environments\\v1.6\\Project.toml`\n",
      "\u001b[32m\u001b[1m  No Changes\u001b[22m\u001b[39m to `C:\\Users\\PC\\.julia\\environments\\v1.6\\Manifest.toml`\n",
      "\u001b[32m\u001b[1m   Resolving\u001b[22m\u001b[39m package versions...\n",
      "\u001b[32m\u001b[1m  No Changes\u001b[22m\u001b[39m to `C:\\Users\\PC\\.julia\\environments\\v1.6\\Project.toml`\n",
      "\u001b[32m\u001b[1m  No Changes\u001b[22m\u001b[39m to `C:\\Users\\PC\\.julia\\environments\\v1.6\\Manifest.toml`\n",
      "\u001b[32m\u001b[1m   Resolving\u001b[22m\u001b[39m package versions...\n",
      "\u001b[32m\u001b[1m  No Changes\u001b[22m\u001b[39m to `C:\\Users\\PC\\.julia\\environments\\v1.6\\Project.toml`\n",
      "\u001b[32m\u001b[1m  No Changes\u001b[22m\u001b[39m to `C:\\Users\\PC\\.julia\\environments\\v1.6\\Manifest.toml`\n",
      "\u001b[32m\u001b[1m   Resolving\u001b[22m\u001b[39m package versions...\n",
      "\u001b[32m\u001b[1m  No Changes\u001b[22m\u001b[39m to `C:\\Users\\PC\\.julia\\environments\\v1.6\\Project.toml`\n",
      "\u001b[32m\u001b[1m  No Changes\u001b[22m\u001b[39m to `C:\\Users\\PC\\.julia\\environments\\v1.6\\Manifest.toml`\n"
     ]
    },
    {
     "data": {
      "text/plain": [
       "(nothing, nothing)"
      ]
     },
     "execution_count": 145,
     "metadata": {},
     "output_type": "execute_result"
    }
   ],
   "source": [
    "using Pkg\n",
    "Pkg.add(\"CSV\"), using CSV\n",
    "Pkg.add(\"DataFrames\"), using DataFrames\n",
    "Pkg.add(\"StatsModels\"), using StatsModels\n",
    "Pkg.add(\"GLM\"), using GLM\n"
   ]
  },
  {
   "cell_type": "code",
   "execution_count": 2,
   "metadata": {},
   "outputs": [
    {
     "name": "stdout",
     "output_type": "stream",
     "text": [
      "Number of rows: 3900\n",
      "Number of columns: 415\n"
     ]
    }
   ],
   "source": [
    "data = CSV.File(\"../data/gun_clean.csv\") |> DataFrame;\n",
    "println(\"Number of rows: \",size(data,1))\n",
    "println(\"Number of columns: \",size(data,2))"
   ]
  },
  {
   "cell_type": "markdown",
   "metadata": {},
   "source": [
    "### Preprocessing"
   ]
  },
  {
   "cell_type": "markdown",
   "metadata": {},
   "source": [
    "To account for heterogeneity across counties and time trends in  all variables, we remove from them county-specific and time-specific effects in the following preprocessing."
   ]
  },
  {
   "cell_type": "code",
   "execution_count": 50,
   "metadata": {},
   "outputs": [
    {
     "data": {
      "text/plain": [
       "varlist (generic function with 5 methods)"
      ]
     },
     "execution_count": 50,
     "metadata": {},
     "output_type": "execute_result"
    }
   ],
   "source": [
    "function varlist(df = nothing , type_dataframe = [\"numeric\",\"categorical\",\"string\"], pattern=String , exclude =  nothing)\n",
    "\n",
    "    varrs = []\n",
    "    if \"numeric\" in type_dataframe\n",
    "        append!(varrs, [i for i in names(data) if eltype(eachcol(data)[i]) <: Number])    \n",
    "    end\n",
    "    if \"categorical\" in type_dataframe\n",
    "        append!(varrs,[i for i in names(data) if eltype(eachcol(data)[i]) <: CategoricalVector])\n",
    "    end\n",
    "    if \"string\" in type_dataframe\n",
    "        append!(varrs,[i for i in names(data) if eltype(eachcol(data)[i]) <: String])\n",
    "    end\n",
    "    varrs[(!varrs in exclude) & varrs[findall(x->contains(x,pattern),names(data))]]\n",
    "end"
   ]
  },
  {
   "cell_type": "code",
   "execution_count": 54,
   "metadata": {},
   "outputs": [],
   "source": [
    "fixed = filter(x->contains(x,\"X_Jfips\"),names(data));\n",
    "year = filter(x->contains(x,\"X_Tyear\"),names(data));"
   ]
  },
  {
   "cell_type": "code",
   "execution_count": 56,
   "metadata": {},
   "outputs": [
    {
     "data": {
      "text/plain": [
       "(21,)"
      ]
     },
     "execution_count": 56,
     "metadata": {},
     "output_type": "execute_result"
    }
   ],
   "source": [
    "size(year)"
   ]
  },
  {
   "cell_type": "code",
   "execution_count": 66,
   "metadata": {},
   "outputs": [],
   "source": [
    "census = []\n",
    "census_var = [\"AGE\", \"BN\", \"BP\", \"BZ\", \"ED\", \"EL\",\"HI\", \"HS\", \"INC\", \"LF\", \"LN\", \"PI\", \"PO\", \"PP\", \"PV\", \"SPR\", \"VS\"]\n",
    "for i in 1:size(census_var,1) \n",
    "    append!(census,filter(x->contains(x,census_var[i]),names(data)))\n",
    "end"
   ]
  },
  {
   "cell_type": "code",
   "execution_count": 90,
   "metadata": {},
   "outputs": [
    {
     "data": {
      "text/plain": [
       "Any[]"
      ]
     },
     "execution_count": 90,
     "metadata": {},
     "output_type": "execute_result"
    }
   ],
   "source": [
    "d = [\"logfssl\"]\n",
    "y = [\"logghomr\"]\n",
    "X1 = [\"logrobr\", \"logburg\", \"burg_missing\", \"robrate_missing\"]\n",
    "X2 = [\"newblack\", \"newfhh\", \"newmove\", \"newdens\", \"newmal\"]\n",
    "\n",
    "variable = [y, d,X1, X2, census]\n",
    "varlis = []\n",
    "for i in variable\n",
    "    append!(varlis,i)\n",
    "end\n"
   ]
  },
  {
   "cell_type": "code",
   "execution_count": 98,
   "metadata": {},
   "outputs": [],
   "source": [
    "example = DataFrame(CountyCode = data[:,\"CountyCode\"]);"
   ]
  },
  {
   "cell_type": "code",
   "execution_count": 156,
   "metadata": {},
   "outputs": [],
   "source": [
    "rdata = DataFrame(CountyCode = data[:,\"CountyCode\"]);"
   ]
  },
  {
   "cell_type": "code",
   "execution_count": null,
   "metadata": {},
   "outputs": [],
   "source": [
    "@formula(varlis[1]),~,year,+,fixed]"
   ]
  },
  {
   "cell_type": "code",
   "execution_count": 158,
   "metadata": {},
   "outputs": [],
   "source": [
    "for i in 1:size(varlis,1)\n",
    "    rdata[!,varlis[i]]= residuals(lm(term(Symbol(varlis[i])) ~ sum(term.(Symbol.(year))) + sum(term.(Symbol.(fixed))), data))\n",
    "end\n"
   ]
  },
  {
   "cell_type": "code",
   "execution_count": 157,
   "metadata": {},
   "outputs": [
    {
     "data": {
      "text/html": [
       "<table class=\"data-frame\"><thead><tr><th></th><th>CountyCode</th></tr><tr><th></th><th>Int64</th></tr></thead><tbody><p>3,900 rows × 1 columns</p><tr><th>1</th><td>1073</td></tr><tr><th>2</th><td>1073</td></tr><tr><th>3</th><td>1073</td></tr><tr><th>4</th><td>1073</td></tr><tr><th>5</th><td>1073</td></tr><tr><th>6</th><td>1073</td></tr><tr><th>7</th><td>1073</td></tr><tr><th>8</th><td>1073</td></tr><tr><th>9</th><td>1073</td></tr><tr><th>10</th><td>1073</td></tr><tr><th>11</th><td>1073</td></tr><tr><th>12</th><td>1073</td></tr><tr><th>13</th><td>1073</td></tr><tr><th>14</th><td>1073</td></tr><tr><th>15</th><td>1073</td></tr><tr><th>16</th><td>1073</td></tr><tr><th>17</th><td>1073</td></tr><tr><th>18</th><td>1073</td></tr><tr><th>19</th><td>1073</td></tr><tr><th>20</th><td>1073</td></tr><tr><th>21</th><td>1097</td></tr><tr><th>22</th><td>1097</td></tr><tr><th>23</th><td>1097</td></tr><tr><th>24</th><td>1097</td></tr><tr><th>25</th><td>1097</td></tr><tr><th>26</th><td>1097</td></tr><tr><th>27</th><td>1097</td></tr><tr><th>28</th><td>1097</td></tr><tr><th>29</th><td>1097</td></tr><tr><th>30</th><td>1097</td></tr><tr><th>&vellip;</th><td>&vellip;</td></tr></tbody></table>"
      ],
      "text/latex": [
       "\\begin{tabular}{r|c}\n",
       "\t& CountyCode\\\\\n",
       "\t\\hline\n",
       "\t& Int64\\\\\n",
       "\t\\hline\n",
       "\t1 & 1073 \\\\\n",
       "\t2 & 1073 \\\\\n",
       "\t3 & 1073 \\\\\n",
       "\t4 & 1073 \\\\\n",
       "\t5 & 1073 \\\\\n",
       "\t6 & 1073 \\\\\n",
       "\t7 & 1073 \\\\\n",
       "\t8 & 1073 \\\\\n",
       "\t9 & 1073 \\\\\n",
       "\t10 & 1073 \\\\\n",
       "\t11 & 1073 \\\\\n",
       "\t12 & 1073 \\\\\n",
       "\t13 & 1073 \\\\\n",
       "\t14 & 1073 \\\\\n",
       "\t15 & 1073 \\\\\n",
       "\t16 & 1073 \\\\\n",
       "\t17 & 1073 \\\\\n",
       "\t18 & 1073 \\\\\n",
       "\t19 & 1073 \\\\\n",
       "\t20 & 1073 \\\\\n",
       "\t21 & 1097 \\\\\n",
       "\t22 & 1097 \\\\\n",
       "\t23 & 1097 \\\\\n",
       "\t24 & 1097 \\\\\n",
       "\t25 & 1097 \\\\\n",
       "\t26 & 1097 \\\\\n",
       "\t27 & 1097 \\\\\n",
       "\t28 & 1097 \\\\\n",
       "\t29 & 1097 \\\\\n",
       "\t30 & 1097 \\\\\n",
       "\t$\\dots$ & $\\dots$ \\\\\n",
       "\\end{tabular}\n"
      ],
      "text/plain": [
       "\u001b[1m3900×1 DataFrame\u001b[0m\n",
       "\u001b[1m  Row \u001b[0m│\u001b[1m CountyCode \u001b[0m\n",
       "\u001b[1m      \u001b[0m│\u001b[90m Int64      \u001b[0m\n",
       "──────┼────────────\n",
       "    1 │       1073\n",
       "    2 │       1073\n",
       "    3 │       1073\n",
       "    4 │       1073\n",
       "    5 │       1073\n",
       "    6 │       1073\n",
       "    7 │       1073\n",
       "    8 │       1073\n",
       "    9 │       1073\n",
       "   10 │       1073\n",
       "   11 │       1073\n",
       "  ⋮   │     ⋮\n",
       " 3891 │      55133\n",
       " 3892 │      55133\n",
       " 3893 │      55133\n",
       " 3894 │      55133\n",
       " 3895 │      55133\n",
       " 3896 │      55133\n",
       " 3897 │      55133\n",
       " 3898 │      55133\n",
       " 3899 │      55133\n",
       " 3900 │      55133\n",
       "\u001b[36m  3879 rows omitted\u001b[0m"
      ]
     },
     "execution_count": 157,
     "metadata": {},
     "output_type": "execute_result"
    }
   ],
   "source": [
    "rdata"
   ]
  },
  {
   "cell_type": "code",
   "execution_count": 152,
   "metadata": {},
   "outputs": [
    {
     "data": {
      "text/plain": [
       "3900-element Vector{Float64}:\n",
       " -0.1347775242285678\n",
       " -0.23962152489688604\n",
       " -0.0786771589928561\n",
       " -0.3314654607497185\n",
       " -0.3166398021047705\n",
       "  0.10513189826268476\n",
       " -0.03734007187753763\n",
       " -0.052060902249581265\n",
       "  0.05470066749138924\n",
       "  0.12209372827735177\n",
       "  0.11031407805814997\n",
       "  0.2562675062474984\n",
       "  0.07905702835656303\n",
       "  ⋮\n",
       "  0.21493612083267194\n",
       " -0.4903412114754312\n",
       " -0.5494199456711729\n",
       " -0.6604078122019494\n",
       " -0.6765248029790694\n",
       " -0.6975246915205633\n",
       " -0.03840950930937048\n",
       "  0.028096226715491168\n",
       "  0.08014469325480622\n",
       "  0.4979872093044617\n",
       "  0.5685415516403597\n",
       "  0.6090223022158114"
      ]
     },
     "execution_count": 152,
     "metadata": {},
     "output_type": "execute_result"
    }
   ],
   "source": [
    "residuals(lm(term(Symbol(varlis[1])) ~ sum(term.(Symbol.(year))) + sum(term.(Symbol.(fixed))), data))"
   ]
  }
 ],
 "metadata": {
  "kernelspec": {
   "display_name": "Julia 1.6.5",
   "language": "julia",
   "name": "julia-1.6"
  },
  "language_info": {
   "file_extension": ".jl",
   "mimetype": "application/julia",
   "name": "julia",
   "version": "1.6.5"
  },
  "orig_nbformat": 4
 },
 "nbformat": 4,
 "nbformat_minor": 2
}
