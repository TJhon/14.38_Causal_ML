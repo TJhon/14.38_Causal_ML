{
 "cells": [
  {
   "cell_type": "markdown",
   "metadata": {},
   "source": [
    "# A Case Study: The Effect of Gun Ownership on Gun-Homicide Rates"
   ]
  },
  {
   "cell_type": "markdown",
   "metadata": {},
   "source": [
    "We consider the problem of estimating the effect of gun\n",
    "ownership on the homicide rate. For this purpose, we estimate the following partially\n",
    "linear model\n",
    "\n",
    "$$\n",
    " Y_{j,t} = \\beta D_{j,(t-1)} + g(Z_{j,t}) + \\epsilon_{j,t}.\n",
    "$$"
   ]
  },
  {
   "cell_type": "markdown",
   "metadata": {},
   "source": [
    "## Data"
   ]
  },
  {
   "cell_type": "markdown",
   "metadata": {},
   "source": [
    "$Y_{j,t}$ is log homicide rate in county $j$ at time $t$, $D_{j, t-1}$ is log  fraction of suicides committed with a firearm in county $j$ at time $t-1$, which we use as a proxy for gun ownership,  and  $Z_{j,t}$ is a set of demographic and economic characteristics of county $j$ at time $t$. The parameter $\\beta$ is the effect of gun ownership on the\n",
    "homicide rates, controlling for county-level demographic and economic characteristics. \n",
    "\n",
    "The sample covers 195 large United States counties between the years 1980 through 1999, giving us 3900 observations."
   ]
  },
  {
   "cell_type": "code",
   "execution_count": 1,
   "metadata": {},
   "outputs": [
    {
     "name": "stderr",
     "output_type": "stream",
     "text": [
      "\u001b[32m\u001b[1m    Updating\u001b[22m\u001b[39m registry at `C:\\Users\\PC\\.julia\\registries\\General`\n",
      "\u001b[32m\u001b[1m    Updating\u001b[22m\u001b[39m git-repo `https://github.com/JuliaRegistries/General.git`\n",
      "\u001b[32m\u001b[1m   Resolving\u001b[22m\u001b[39m package versions...\n",
      "\u001b[32m\u001b[1m  No Changes\u001b[22m\u001b[39m to `C:\\Users\\PC\\.julia\\environments\\v1.6\\Project.toml`\n",
      "\u001b[32m\u001b[1m  No Changes\u001b[22m\u001b[39m to `C:\\Users\\PC\\.julia\\environments\\v1.6\\Manifest.toml`\n",
      "\u001b[32m\u001b[1m   Resolving\u001b[22m\u001b[39m package versions...\n",
      "\u001b[32m\u001b[1m  No Changes\u001b[22m\u001b[39m to `C:\\Users\\PC\\.julia\\environments\\v1.6\\Project.toml`\n",
      "\u001b[32m\u001b[1m  No Changes\u001b[22m\u001b[39m to `C:\\Users\\PC\\.julia\\environments\\v1.6\\Manifest.toml`\n",
      "\u001b[32m\u001b[1m   Resolving\u001b[22m\u001b[39m package versions...\n",
      "\u001b[32m\u001b[1m  No Changes\u001b[22m\u001b[39m to `C:\\Users\\PC\\.julia\\environments\\v1.6\\Project.toml`\n",
      "\u001b[32m\u001b[1m  No Changes\u001b[22m\u001b[39m to `C:\\Users\\PC\\.julia\\environments\\v1.6\\Manifest.toml`\n",
      "\u001b[32m\u001b[1m   Resolving\u001b[22m\u001b[39m package versions...\n",
      "\u001b[32m\u001b[1m  No Changes\u001b[22m\u001b[39m to `C:\\Users\\PC\\.julia\\environments\\v1.6\\Project.toml`\n",
      "\u001b[32m\u001b[1m  No Changes\u001b[22m\u001b[39m to `C:\\Users\\PC\\.julia\\environments\\v1.6\\Manifest.toml`\n"
     ]
    },
    {
     "data": {
      "text/plain": [
       "(nothing, nothing)"
      ]
     },
     "execution_count": 1,
     "metadata": {},
     "output_type": "execute_result"
    }
   ],
   "source": [
    "using Pkg\n",
    "Pkg.add(\"CSV\"), using CSV\n",
    "Pkg.add(\"DataFrames\"), using DataFrames\n",
    "Pkg.add(\"StatsModels\"), using StatsModels\n",
    "Pkg.add(\"GLM\"), using GLM\n"
   ]
  },
  {
   "cell_type": "code",
   "execution_count": 2,
   "metadata": {},
   "outputs": [
    {
     "name": "stdout",
     "output_type": "stream",
     "text": [
      "Number of rows: 3900\n",
      "Number of columns: 415\n"
     ]
    }
   ],
   "source": [
    "data = CSV.File(\"../data/gun_clean.csv\") |> DataFrame;\n",
    "println(\"Number of rows: \",size(data,1))\n",
    "println(\"Number of columns: \",size(data,2))"
   ]
  },
  {
   "cell_type": "markdown",
   "metadata": {},
   "source": [
    "### Preprocessing"
   ]
  },
  {
   "cell_type": "markdown",
   "metadata": {},
   "source": [
    "To account for heterogeneity across counties and time trends in  all variables, we remove from them county-specific and time-specific effects in the following preprocessing."
   ]
  },
  {
   "cell_type": "code",
   "execution_count": 3,
   "metadata": {},
   "outputs": [
    {
     "data": {
      "text/plain": [
       "varlist (generic function with 5 methods)"
      ]
     },
     "execution_count": 3,
     "metadata": {},
     "output_type": "execute_result"
    }
   ],
   "source": [
    "function varlist(df = nothing , type_dataframe = [\"numeric\",\"categorical\",\"string\"], pattern=String , exclude =  nothing)\n",
    "\n",
    "    varrs = []\n",
    "    if \"numeric\" in type_dataframe\n",
    "        append!(varrs, [i for i in names(data) if eltype(eachcol(data)[i]) <: Number])    \n",
    "    end\n",
    "    if \"categorical\" in type_dataframe\n",
    "        append!(varrs,[i for i in names(data) if eltype(eachcol(data)[i]) <: CategoricalVector])\n",
    "    end\n",
    "    if \"string\" in type_dataframe\n",
    "        append!(varrs,[i for i in names(data) if eltype(eachcol(data)[i]) <: String])\n",
    "    end\n",
    "    varrs[(!varrs in exclude) & varrs[findall(x->contains(x,pattern),names(data))]]\n",
    "end"
   ]
  },
  {
   "cell_type": "code",
   "execution_count": 4,
   "metadata": {},
   "outputs": [],
   "source": [
    "fixed = filter(x->contains(x,\"X_Jfips\"),names(data));\n",
    "year = filter(x->contains(x,\"X_Tyear\"),names(data));"
   ]
  },
  {
   "cell_type": "code",
   "execution_count": 5,
   "metadata": {},
   "outputs": [
    {
     "data": {
      "text/plain": [
       "(21,)"
      ]
     },
     "execution_count": 5,
     "metadata": {},
     "output_type": "execute_result"
    }
   ],
   "source": [
    "size(year)"
   ]
  },
  {
   "cell_type": "code",
   "execution_count": 6,
   "metadata": {},
   "outputs": [],
   "source": [
    "census = []\n",
    "census_var = [\"AGE\", \"BN\", \"BP\", \"BZ\", \"ED\", \"EL\",\"HI\", \"HS\", \"INC\", \"LF\", \"LN\", \"PI\", \"PO\", \"PP\", \"PV\", \"SPR\", \"VS\"]\n",
    "for i in 1:size(census_var,1) \n",
    "    append!(census,filter(x->contains(x,census_var[i]),names(data)))\n",
    "end"
   ]
  },
  {
   "cell_type": "code",
   "execution_count": 7,
   "metadata": {},
   "outputs": [],
   "source": [
    "d = [\"logfssl\"]\n",
    "y = [\"logghomr\"]\n",
    "X1 = [\"logrobr\", \"logburg\", \"burg_missing\", \"robrate_missing\"]\n",
    "X2 = [\"newblack\", \"newfhh\", \"newmove\", \"newdens\", \"newmal\"]\n",
    "\n",
    "variable = [y, d,X1, X2, census]\n",
    "varlis = []\n",
    "for i in variable\n",
    "    append!(varlis,i)\n",
    "end\n"
   ]
  },
  {
   "cell_type": "code",
   "execution_count": 8,
   "metadata": {},
   "outputs": [],
   "source": [
    "example = DataFrame(CountyCode = data[:,\"CountyCode\"]);\n",
    "rdata = DataFrame(CountyCode = data[:,\"CountyCode\"]);\n",
    "\n",
    "for i in 1:size(varlis,1)\n",
    "    rdata[!,varlis[i]]= residuals(lm(term(Symbol(varlis[i])) ~ sum(term.(Symbol.(year))) + sum(term.(Symbol.(fixed))), data))\n",
    "end"
   ]
  },
  {
   "cell_type": "code",
   "execution_count": 9,
   "metadata": {},
   "outputs": [
    {
     "data": {
      "text/plain": [
       "(3900, 198)"
      ]
     },
     "execution_count": 9,
     "metadata": {},
     "output_type": "execute_result"
    }
   ],
   "source": [
    "size(rdata)"
   ]
  },
  {
   "cell_type": "markdown",
   "metadata": {},
   "source": [
    "Now, we can construct the treatment variable, the outcome variable and the matrix $Z$ that includes the control variables."
   ]
  },
  {
   "cell_type": "code",
   "execution_count": 10,
   "metadata": {},
   "outputs": [
    {
     "data": {
      "text/plain": [
       "(3900, 195)"
      ]
     },
     "execution_count": 10,
     "metadata": {},
     "output_type": "execute_result"
    }
   ],
   "source": [
    "# treatment variable\n",
    "\n",
    "D = rdata[!,d]\n",
    "# Outcome variable\n",
    "Y = rdata[!,y];\n",
    "\n",
    "# Construct matrix Z\n",
    "Z = rdata[!, varlis[3:end]]\n",
    "\n",
    "size(Z)"
   ]
  },
  {
   "cell_type": "markdown",
   "metadata": {},
   "source": [
    "We have in total 195 control variables. The control variables $Z_{j,t}$ are from the U.S. Census Bureau and  contain demographic and economic characteristics of the counties such as  the age distribution, the income distribution, crime rates, federal spending, home ownership rates, house prices, educational attainment, voting paterns, employment statistics, and migration rates. "
   ]
  },
  {
   "cell_type": "code",
   "execution_count": 12,
   "metadata": {},
   "outputs": [],
   "source": [
    "clu = select(rdata,:CountyCode)\n",
    "data = hcat(Y,D,Z,clu);"
   ]
  },
  {
   "cell_type": "code",
   "execution_count": 13,
   "metadata": {},
   "outputs": [
    {
     "data": {
      "text/plain": [
       "(3900, 198)"
      ]
     },
     "execution_count": 13,
     "metadata": {},
     "output_type": "execute_result"
    }
   ],
   "source": [
    "size(data)"
   ]
  },
  {
   "cell_type": "markdown",
   "metadata": {},
   "source": [
    "## The effect of gun ownership\n"
   ]
  },
  {
   "cell_type": "markdown",
   "metadata": {},
   "source": [
    "### OLS"
   ]
  },
  {
   "cell_type": "markdown",
   "metadata": {},
   "source": [
    "After preprocessing the data, we first look at simple regression of $Y_{j,t}$ on $D_{j,t-1}$ without controls as a baseline model."
   ]
  },
  {
   "cell_type": "code",
   "execution_count": 14,
   "metadata": {},
   "outputs": [
    {
     "name": "stderr",
     "output_type": "stream",
     "text": [
      "\u001b[32m\u001b[1m   Resolving\u001b[22m\u001b[39m package versions...\n",
      "\u001b[32m\u001b[1m  No Changes\u001b[22m\u001b[39m to `C:\\Users\\PC\\.julia\\environments\\v1.6\\Project.toml`\n",
      "\u001b[32m\u001b[1m  No Changes\u001b[22m\u001b[39m to `C:\\Users\\PC\\.julia\\environments\\v1.6\\Manifest.toml`\n"
     ]
    },
    {
     "data": {
      "text/plain": [
       "(nothing, nothing)"
      ]
     },
     "execution_count": 14,
     "metadata": {},
     "output_type": "execute_result"
    }
   ],
   "source": [
    "Pkg.add(\"FixedEffectModels\"), using FixedEffectModels"
   ]
  },
  {
   "cell_type": "code",
   "execution_count": 130,
   "metadata": {},
   "outputs": [
    {
     "name": "stdout",
     "output_type": "stream",
     "text": [
      "[0.16710155204187516 0.3975073812245494]\n",
      "[0.2823044666332123]\n"
     ]
    }
   ],
   "source": [
    "baseline_ols = reg(data, @formula(logghomr ~ 1 + logfssl +fe(CountyCode)));\n",
    "est_baseline = coef(baseline_ols) ;\n",
    "println(confint(baseline_ols))\n",
    "println(est_baseline)\n"
   ]
  },
  {
   "cell_type": "markdown",
   "metadata": {},
   "source": [
    "The point estimate is $0.282$ with the confidence interval ranging from 0.167 to 0.397. This\n",
    "suggests that increases in gun ownership rates are related to gun homicide rates - if gun ownership increases by 1% relative\n",
    "to a trend then the predicted gun homicide rate goes up by 0.28%, without controlling for counties' characteristics.\n",
    "\n",
    "Since our goal is to estimate the effect of gun ownership after controlling for a rich set county characteristics we next include the controls. First, we estimate the model by ols and then by an array of the modern regression methods using the double machine learning approach."
   ]
  },
  {
   "cell_type": "code",
   "execution_count": 145,
   "metadata": {},
   "outputs": [
    {
     "data": {
      "text/plain": [
       "2-element Vector{Float64}:\n",
       " 0.07713994894072317\n",
       " 0.30415014815530284"
      ]
     },
     "execution_count": 145,
     "metadata": {},
     "output_type": "execute_result"
    }
   ],
   "source": [
    "confint(control_ols)[1,1:2]"
   ]
  },
  {
   "cell_type": "code",
   "execution_count": 149,
   "metadata": {},
   "outputs": [
    {
     "name": "stdout",
     "output_type": "stream",
     "text": [
      "[0.07713994894072317, 0.30415014815530284]\n",
      "0.190645048548013\n"
     ]
    }
   ],
   "source": [
    "control_ols= reg(data,term(:logghomr) ~  term(:logfssl) + sum(term.(Symbol.(names(Z)))) + fe(:CountyCode))\n",
    "est_ols = coef(control_ols)[1]\n",
    "println(confint(control_ols)[1,1:2])\n",
    "println(est_ols[1])\n"
   ]
  },
  {
   "cell_type": "code",
   "execution_count": 44,
   "metadata": {},
   "outputs": [
    {
     "data": {
      "text/html": [
       "21-element Vector{Method}:<ul><li> adjr2(x::<b>FixedEffectModel</b>) in FixedEffectModels at <a href=\"file://C:/Users/PC/.julia/packages/FixedEffectModels/MmEdK/src/FixedEffectModel.jl\" target=\"_blank\">C:\\Users\\PC\\.julia\\packages\\FixedEffectModels\\MmEdK\\src\\FixedEffectModel.jl:60</a><li> coef(x::<b>FixedEffectModel</b>) in FixedEffectModels at <a href=\"file://C:/Users/PC/.julia/packages/FixedEffectModels/MmEdK/src/FixedEffectModel.jl\" target=\"_blank\">C:\\Users\\PC\\.julia\\packages\\FixedEffectModels\\MmEdK\\src\\FixedEffectModel.jl:53</a><li> coefnames(x::<b>FixedEffectModel</b>) in FixedEffectModels at <a href=\"file://C:/Users/PC/.julia/packages/FixedEffectModels/MmEdK/src/FixedEffectModel.jl\" target=\"_blank\">C:\\Users\\PC\\.julia\\packages\\FixedEffectModels\\MmEdK\\src\\FixedEffectModel.jl:54</a><li> coeftable(x::<b>FixedEffectModel</b>; <i>level</i>) in FixedEffectModels at <a href=\"file://C:/Users/PC/.julia/packages/FixedEffectModels/MmEdK/src/FixedEffectModel.jl\" target=\"_blank\">C:\\Users\\PC\\.julia\\packages\\FixedEffectModels\\MmEdK\\src\\FixedEffectModel.jl:132</a><li> confint(x::<b>FixedEffectModel</b>; <i>level</i>) in FixedEffectModels at <a href=\"file://C:/Users/PC/.julia/packages/FixedEffectModels/MmEdK/src/FixedEffectModel.jl\" target=\"_blank\">C:\\Users\\PC\\.julia\\packages\\FixedEffectModels\\MmEdK\\src\\FixedEffectModel.jl:67</a><li> deviance(x::<b>FixedEffectModel</b>) in FixedEffectModels at <a href=\"file://C:/Users/PC/.julia/packages/FixedEffectModels/MmEdK/src/FixedEffectModel.jl\" target=\"_blank\">C:\\Users\\PC\\.julia\\packages\\FixedEffectModels\\MmEdK\\src\\FixedEffectModel.jl:62</a><li> dof_residual(x::<b>FixedEffectModel</b>) in FixedEffectModels at <a href=\"file://C:/Users/PC/.julia/packages/FixedEffectModels/MmEdK/src/FixedEffectModel.jl\" target=\"_blank\">C:\\Users\\PC\\.julia\\packages\\FixedEffectModels\\MmEdK\\src\\FixedEffectModel.jl:58</a><li> fe(x::<b>FixedEffectModel</b>; <i>keepkeys</i>) in FixedEffectModels at <a href=\"file://C:/Users/PC/.julia/packages/FixedEffectModels/MmEdK/src/FixedEffectModel.jl\" target=\"_blank\">C:\\Users\\PC\\.julia\\packages\\FixedEffectModels\\MmEdK\\src\\FixedEffectModel.jl:122</a><li> has_fe(x::<b>FixedEffectModel</b>) in FixedEffectModels at <a href=\"file://C:/Users/PC/.julia/packages/FixedEffectModels/MmEdK/src/FixedEffectModel.jl\" target=\"_blank\">C:\\Users\\PC\\.julia\\packages\\FixedEffectModels\\MmEdK\\src\\FixedEffectModel.jl:48</a><li> has_iv(x::<b>FixedEffectModel</b>) in FixedEffectModels at <a href=\"file://C:/Users/PC/.julia/packages/FixedEffectModels/MmEdK/src/FixedEffectModel.jl\" target=\"_blank\">C:\\Users\\PC\\.julia\\packages\\FixedEffectModels\\MmEdK\\src\\FixedEffectModel.jl:47</a><li> islinear(x::<b>FixedEffectModel</b>) in FixedEffectModels at <a href=\"file://C:/Users/PC/.julia/packages/FixedEffectModels/MmEdK/src/FixedEffectModel.jl\" target=\"_blank\">C:\\Users\\PC\\.julia\\packages\\FixedEffectModels\\MmEdK\\src\\FixedEffectModel.jl:61</a><li> mss(x::<b>FixedEffectModel</b>) in FixedEffectModels at <a href=\"file://C:/Users/PC/.julia/packages/FixedEffectModels/MmEdK/src/FixedEffectModel.jl\" target=\"_blank\">C:\\Users\\PC\\.julia\\packages\\FixedEffectModels\\MmEdK\\src\\FixedEffectModel.jl:64</a><li> nobs(x::<b>FixedEffectModel</b>) in FixedEffectModels at <a href=\"file://C:/Users/PC/.julia/packages/FixedEffectModels/MmEdK/src/FixedEffectModel.jl\" target=\"_blank\">C:\\Users\\PC\\.julia\\packages\\FixedEffectModels\\MmEdK\\src\\FixedEffectModel.jl:57</a><li> predict(x::<b>FixedEffectModel</b>, df) in FixedEffectModels at <a href=\"file://C:/Users/PC/.julia/packages/FixedEffectModels/MmEdK/src/FixedEffectModel.jl\" target=\"_blank\">C:\\Users\\PC\\.julia\\packages\\FixedEffectModels\\MmEdK\\src\\FixedEffectModel.jl:74</a><li> r2(x::<b>FixedEffectModel</b>) in FixedEffectModels at <a href=\"file://C:/Users/PC/.julia/packages/FixedEffectModels/MmEdK/src/FixedEffectModel.jl\" target=\"_blank\">C:\\Users\\PC\\.julia\\packages\\FixedEffectModels\\MmEdK\\src\\FixedEffectModel.jl:59</a><li> residuals(x::<b>FixedEffectModel</b>) in FixedEffectModels at <a href=\"file://C:/Users/PC/.julia/packages/FixedEffectModels/MmEdK/src/FixedEffectModel.jl\" target=\"_blank\">C:\\Users\\PC\\.julia\\packages\\FixedEffectModels\\MmEdK\\src\\FixedEffectModel.jl:106</a><li> residuals(x::<b>FixedEffectModel</b>, df) in FixedEffectModels at <a href=\"file://C:/Users/PC/.julia/packages/FixedEffectModels/MmEdK/src/FixedEffectModel.jl\" target=\"_blank\">C:\\Users\\PC\\.julia\\packages\\FixedEffectModels\\MmEdK\\src\\FixedEffectModel.jl:85</a><li> responsename(x::<b>FixedEffectModel</b>) in FixedEffectModels at <a href=\"file://C:/Users/PC/.julia/packages/FixedEffectModels/MmEdK/src/FixedEffectModel.jl\" target=\"_blank\">C:\\Users\\PC\\.julia\\packages\\FixedEffectModels\\MmEdK\\src\\FixedEffectModel.jl:55</a><li> rss(x::<b>FixedEffectModel</b>) in FixedEffectModels at <a href=\"file://C:/Users/PC/.julia/packages/FixedEffectModels/MmEdK/src/FixedEffectModel.jl\" target=\"_blank\">C:\\Users\\PC\\.julia\\packages\\FixedEffectModels\\MmEdK\\src\\FixedEffectModel.jl:63</a><li> vcov(x::<b>FixedEffectModel</b>) in FixedEffectModels at <a href=\"file://C:/Users/PC/.julia/packages/FixedEffectModels/MmEdK/src/FixedEffectModel.jl\" target=\"_blank\">C:\\Users\\PC\\.julia\\packages\\FixedEffectModels\\MmEdK\\src\\FixedEffectModel.jl:56</a><li> show(io::<b>IO</b>, x::<b>FixedEffectModel</b>) in FixedEffectModels at <a href=\"file://C:/Users/PC/.julia/packages/FixedEffectModels/MmEdK/src/FixedEffectModel.jl\" target=\"_blank\">C:\\Users\\PC\\.julia\\packages\\FixedEffectModels\\MmEdK\\src\\FixedEffectModel.jl:200</a></ul>"
      ],
      "text/plain": [
       "[1] adjr2(x::FixedEffectModel) in FixedEffectModels at C:\\Users\\PC\\.julia\\packages\\FixedEffectModels\\MmEdK\\src\\FixedEffectModel.jl:60\n",
       "[2] coef(x::FixedEffectModel) in FixedEffectModels at C:\\Users\\PC\\.julia\\packages\\FixedEffectModels\\MmEdK\\src\\FixedEffectModel.jl:53\n",
       "[3] coefnames(x::FixedEffectModel) in FixedEffectModels at C:\\Users\\PC\\.julia\\packages\\FixedEffectModels\\MmEdK\\src\\FixedEffectModel.jl:54\n",
       "[4] coeftable(x::FixedEffectModel; level) in FixedEffectModels at C:\\Users\\PC\\.julia\\packages\\FixedEffectModels\\MmEdK\\src\\FixedEffectModel.jl:132\n",
       "[5] confint(x::FixedEffectModel; level) in FixedEffectModels at C:\\Users\\PC\\.julia\\packages\\FixedEffectModels\\MmEdK\\src\\FixedEffectModel.jl:67\n",
       "[6] deviance(x::FixedEffectModel) in FixedEffectModels at C:\\Users\\PC\\.julia\\packages\\FixedEffectModels\\MmEdK\\src\\FixedEffectModel.jl:62\n",
       "[7] dof_residual(x::FixedEffectModel) in FixedEffectModels at C:\\Users\\PC\\.julia\\packages\\FixedEffectModels\\MmEdK\\src\\FixedEffectModel.jl:58\n",
       "[8] fe(x::FixedEffectModel; keepkeys) in FixedEffectModels at C:\\Users\\PC\\.julia\\packages\\FixedEffectModels\\MmEdK\\src\\FixedEffectModel.jl:122\n",
       "[9] has_fe(x::FixedEffectModel) in FixedEffectModels at C:\\Users\\PC\\.julia\\packages\\FixedEffectModels\\MmEdK\\src\\FixedEffectModel.jl:48\n",
       "[10] has_iv(x::FixedEffectModel) in FixedEffectModels at C:\\Users\\PC\\.julia\\packages\\FixedEffectModels\\MmEdK\\src\\FixedEffectModel.jl:47\n",
       "[11] islinear(x::FixedEffectModel) in FixedEffectModels at C:\\Users\\PC\\.julia\\packages\\FixedEffectModels\\MmEdK\\src\\FixedEffectModel.jl:61\n",
       "[12] mss(x::FixedEffectModel) in FixedEffectModels at C:\\Users\\PC\\.julia\\packages\\FixedEffectModels\\MmEdK\\src\\FixedEffectModel.jl:64\n",
       "[13] nobs(x::FixedEffectModel) in FixedEffectModels at C:\\Users\\PC\\.julia\\packages\\FixedEffectModels\\MmEdK\\src\\FixedEffectModel.jl:57\n",
       "[14] predict(x::FixedEffectModel, df) in FixedEffectModels at C:\\Users\\PC\\.julia\\packages\\FixedEffectModels\\MmEdK\\src\\FixedEffectModel.jl:74\n",
       "[15] r2(x::FixedEffectModel) in FixedEffectModels at C:\\Users\\PC\\.julia\\packages\\FixedEffectModels\\MmEdK\\src\\FixedEffectModel.jl:59\n",
       "[16] residuals(x::FixedEffectModel) in FixedEffectModels at C:\\Users\\PC\\.julia\\packages\\FixedEffectModels\\MmEdK\\src\\FixedEffectModel.jl:106\n",
       "[17] residuals(x::FixedEffectModel, df) in FixedEffectModels at C:\\Users\\PC\\.julia\\packages\\FixedEffectModels\\MmEdK\\src\\FixedEffectModel.jl:85\n",
       "[18] responsename(x::FixedEffectModel) in FixedEffectModels at C:\\Users\\PC\\.julia\\packages\\FixedEffectModels\\MmEdK\\src\\FixedEffectModel.jl:55\n",
       "[19] rss(x::FixedEffectModel) in FixedEffectModels at C:\\Users\\PC\\.julia\\packages\\FixedEffectModels\\MmEdK\\src\\FixedEffectModel.jl:63\n",
       "[20] vcov(x::FixedEffectModel) in FixedEffectModels at C:\\Users\\PC\\.julia\\packages\\FixedEffectModels\\MmEdK\\src\\FixedEffectModel.jl:56\n",
       "[21] show(io::IO, x::FixedEffectModel) in FixedEffectModels at C:\\Users\\PC\\.julia\\packages\\FixedEffectModels\\MmEdK\\src\\FixedEffectModel.jl:200"
      ]
     },
     "execution_count": 44,
     "metadata": {},
     "output_type": "execute_result"
    }
   ],
   "source": [
    "methodswith(FixedEffectModel)"
   ]
  },
  {
   "cell_type": "code",
   "execution_count": null,
   "metadata": {},
   "outputs": [],
   "source": []
  },
  {
   "cell_type": "markdown",
   "metadata": {},
   "source": [
    "# DML algorithm\n",
    "\n",
    "Here we perform inference of the predictive coefficient $\\beta$ in our partially linear statistical model, \n",
    "\n",
    "$$\n",
    "Y = D\\beta + g(Z) + \\epsilon, \\quad E (\\epsilon | D, Z) = 0,\n",
    "$$\n",
    "\n",
    "using the **double machine learning** approach. \n",
    "\n",
    "For $\\tilde Y = Y- E(Y|Z)$ and $\\tilde D= D- E(D|Z)$, we can write\n",
    "$$\n",
    "\\tilde Y = \\alpha \\tilde D + \\epsilon, \\quad E (\\epsilon |\\tilde D) =0.\n",
    "$$\n",
    "\n",
    "Using cross-fitting, we employ modern regression methods\n",
    "to build estimators $\\hat \\ell(Z)$ and $\\hat m(Z)$ of $\\ell(Z):=E(Y|Z)$ and $m(Z):=E(D|Z)$ to obtain the estimates of the residualized quantities:\n",
    "\n",
    "$$\n",
    "\\tilde Y_i = Y_i  - \\hat \\ell (Z_i),   \\quad \\tilde D_i = D_i - \\hat m(Z_i), \\quad \\text{ for each } i = 1,\\dots,n.\n",
    "$$\n",
    "\n",
    "Finally, using ordinary least squares of $\\tilde Y_i$ on $\\tilde D_i$, we obtain the \n",
    "estimate of $\\beta$."
   ]
  },
  {
   "cell_type": "code",
   "execution_count": null,
   "metadata": {},
   "outputs": [],
   "source": []
  }
 ],
 "metadata": {
  "kernelspec": {
   "display_name": "Julia 1.6.5",
   "language": "julia",
   "name": "julia-1.6"
  },
  "language_info": {
   "file_extension": ".jl",
   "mimetype": "application/julia",
   "name": "julia",
   "version": "1.6.5"
  },
  "orig_nbformat": 4
 },
 "nbformat": 4,
 "nbformat_minor": 2
}
