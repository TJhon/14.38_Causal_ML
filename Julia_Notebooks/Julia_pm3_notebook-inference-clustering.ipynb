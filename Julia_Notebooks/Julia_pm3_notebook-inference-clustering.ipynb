{
 "cells": [
  {
   "cell_type": "markdown",
   "metadata": {},
   "source": [
    "# A Case Study: The Effect of Gun Ownership on Gun-Homicide Rates"
   ]
  },
  {
   "cell_type": "markdown",
   "metadata": {},
   "source": [
    "We consider the problem of estimating the effect of gun\n",
    "ownership on the homicide rate. For this purpose, we estimate the following partially\n",
    "linear model\n",
    "\n",
    "$$\n",
    " Y_{j,t} = \\beta D_{j,(t-1)} + g(Z_{j,t}) + \\epsilon_{j,t}.\n",
    "$$"
   ]
  },
  {
   "cell_type": "markdown",
   "metadata": {},
   "source": [
    "## Data"
   ]
  },
  {
   "cell_type": "markdown",
   "metadata": {},
   "source": [
    "$Y_{j,t}$ is log homicide rate in county $j$ at time $t$, $D_{j, t-1}$ is log  fraction of suicides committed with a firearm in county $j$ at time $t-1$, which we use as a proxy for gun ownership,  and  $Z_{j,t}$ is a set of demographic and economic characteristics of county $j$ at time $t$. The parameter $\\beta$ is the effect of gun ownership on the\n",
    "homicide rates, controlling for county-level demographic and economic characteristics. \n",
    "\n",
    "The sample covers 195 large United States counties between the years 1980 through 1999, giving us 3900 observations."
   ]
  },
  {
   "cell_type": "code",
   "execution_count": 145,
   "metadata": {},
   "outputs": [
    {
     "name": "stderr",
     "output_type": "stream",
     "text": [
      "\u001b[32m\u001b[1m   Resolving\u001b[22m\u001b[39m package versions...\n",
      "\u001b[32m\u001b[1m  No Changes\u001b[22m\u001b[39m to `C:\\Users\\PC\\.julia\\environments\\v1.6\\Project.toml`\n",
      "\u001b[32m\u001b[1m  No Changes\u001b[22m\u001b[39m to `C:\\Users\\PC\\.julia\\environments\\v1.6\\Manifest.toml`\n",
      "\u001b[32m\u001b[1m   Resolving\u001b[22m\u001b[39m package versions...\n",
      "\u001b[32m\u001b[1m  No Changes\u001b[22m\u001b[39m to `C:\\Users\\PC\\.julia\\environments\\v1.6\\Project.toml`\n",
      "\u001b[32m\u001b[1m  No Changes\u001b[22m\u001b[39m to `C:\\Users\\PC\\.julia\\environments\\v1.6\\Manifest.toml`\n",
      "\u001b[32m\u001b[1m   Resolving\u001b[22m\u001b[39m package versions...\n",
      "\u001b[32m\u001b[1m  No Changes\u001b[22m\u001b[39m to `C:\\Users\\PC\\.julia\\environments\\v1.6\\Project.toml`\n",
      "\u001b[32m\u001b[1m  No Changes\u001b[22m\u001b[39m to `C:\\Users\\PC\\.julia\\environments\\v1.6\\Manifest.toml`\n",
      "\u001b[32m\u001b[1m   Resolving\u001b[22m\u001b[39m package versions...\n",
      "\u001b[32m\u001b[1m  No Changes\u001b[22m\u001b[39m to `C:\\Users\\PC\\.julia\\environments\\v1.6\\Project.toml`\n",
      "\u001b[32m\u001b[1m  No Changes\u001b[22m\u001b[39m to `C:\\Users\\PC\\.julia\\environments\\v1.6\\Manifest.toml`\n"
     ]
    },
    {
     "data": {
      "text/plain": [
       "(nothing, nothing)"
      ]
     },
     "execution_count": 145,
     "metadata": {},
     "output_type": "execute_result"
    }
   ],
   "source": [
    "using Pkg\n",
    "Pkg.add(\"CSV\"), using CSV\n",
    "Pkg.add(\"DataFrames\"), using DataFrames\n",
    "Pkg.add(\"StatsModels\"), using StatsModels\n",
    "Pkg.add(\"GLM\"), using GLM\n"
   ]
  },
  {
   "cell_type": "code",
   "execution_count": 2,
   "metadata": {},
   "outputs": [
    {
     "name": "stdout",
     "output_type": "stream",
     "text": [
      "Number of rows: 3900\n",
      "Number of columns: 415\n"
     ]
    }
   ],
   "source": [
    "data = CSV.File(\"../data/gun_clean.csv\") |> DataFrame;\n",
    "println(\"Number of rows: \",size(data,1))\n",
    "println(\"Number of columns: \",size(data,2))"
   ]
  },
  {
   "cell_type": "markdown",
   "metadata": {},
   "source": [
    "### Preprocessing"
   ]
  },
  {
   "cell_type": "markdown",
   "metadata": {},
   "source": [
    "To account for heterogeneity across counties and time trends in  all variables, we remove from them county-specific and time-specific effects in the following preprocessing."
   ]
  },
  {
   "cell_type": "code",
   "execution_count": 50,
   "metadata": {},
   "outputs": [
    {
     "data": {
      "text/plain": [
       "varlist (generic function with 5 methods)"
      ]
     },
     "execution_count": 50,
     "metadata": {},
     "output_type": "execute_result"
    }
   ],
   "source": [
    "function varlist(df = nothing , type_dataframe = [\"numeric\",\"categorical\",\"string\"], pattern=String , exclude =  nothing)\n",
    "\n",
    "    varrs = []\n",
    "    if \"numeric\" in type_dataframe\n",
    "        append!(varrs, [i for i in names(data) if eltype(eachcol(data)[i]) <: Number])    \n",
    "    end\n",
    "    if \"categorical\" in type_dataframe\n",
    "        append!(varrs,[i for i in names(data) if eltype(eachcol(data)[i]) <: CategoricalVector])\n",
    "    end\n",
    "    if \"string\" in type_dataframe\n",
    "        append!(varrs,[i for i in names(data) if eltype(eachcol(data)[i]) <: String])\n",
    "    end\n",
    "    varrs[(!varrs in exclude) & varrs[findall(x->contains(x,pattern),names(data))]]\n",
    "end"
   ]
  },
  {
   "cell_type": "code",
   "execution_count": 54,
   "metadata": {},
   "outputs": [],
   "source": [
    "fixed = filter(x->contains(x,\"X_Jfips\"),names(data));\n",
    "year = filter(x->contains(x,\"X_Tyear\"),names(data));"
   ]
  },
  {
   "cell_type": "code",
   "execution_count": 56,
   "metadata": {},
   "outputs": [
    {
     "data": {
      "text/plain": [
       "(21,)"
      ]
     },
     "execution_count": 56,
     "metadata": {},
     "output_type": "execute_result"
    }
   ],
   "source": [
    "size(year)"
   ]
  },
  {
   "cell_type": "code",
   "execution_count": 66,
   "metadata": {},
   "outputs": [],
   "source": [
    "census = []\n",
    "census_var = [\"AGE\", \"BN\", \"BP\", \"BZ\", \"ED\", \"EL\",\"HI\", \"HS\", \"INC\", \"LF\", \"LN\", \"PI\", \"PO\", \"PP\", \"PV\", \"SPR\", \"VS\"]\n",
    "for i in 1:size(census_var,1) \n",
    "    append!(census,filter(x->contains(x,census_var[i]),names(data)))\n",
    "end"
   ]
  },
  {
   "cell_type": "code",
   "execution_count": 90,
   "metadata": {},
   "outputs": [
    {
     "data": {
      "text/plain": [
       "Any[]"
      ]
     },
     "execution_count": 90,
     "metadata": {},
     "output_type": "execute_result"
    }
   ],
   "source": [
    "d = [\"logfssl\"]\n",
    "y = [\"logghomr\"]\n",
    "X1 = [\"logrobr\", \"logburg\", \"burg_missing\", \"robrate_missing\"]\n",
    "X2 = [\"newblack\", \"newfhh\", \"newmove\", \"newdens\", \"newmal\"]\n",
    "\n",
    "variable = [y, d,X1, X2, census]\n",
    "varlis = []\n",
    "for i in variable\n",
    "    append!(varlis,i)\n",
    "end\n"
   ]
  },
  {
   "cell_type": "code",
   "execution_count": 98,
   "metadata": {},
   "outputs": [],
   "source": [
    "example = DataFrame(CountyCode = data[:,\"CountyCode\"]);"
   ]
  },
  {
   "cell_type": "code",
   "execution_count": 156,
   "metadata": {},
   "outputs": [],
   "source": [
    "rdata = DataFrame(CountyCode = data[:,\"CountyCode\"]);"
   ]
  },
  {
   "cell_type": "code",
   "execution_count": 158,
   "metadata": {},
   "outputs": [],
   "source": [
    "for i in 1:size(varlis,1)\n",
    "    rdata[!,varlis[i]]= residuals(lm(term(Symbol(varlis[i])) ~ sum(term.(Symbol.(year))) + sum(term.(Symbol.(fixed))), data))\n",
    "end\n"
   ]
  },
  {
   "cell_type": "code",
   "execution_count": 159,
   "metadata": {},
   "outputs": [
    {
     "data": {
      "text/html": [
       "<table class=\"data-frame\"><thead><tr><th></th><th>CountyCode</th><th>logghomr</th><th>logfssl</th><th>logrobr</th><th>logburg</th><th>burg_missing</th><th>robrate_missing</th></tr><tr><th></th><th>Int64</th><th>Float64</th><th>Float64</th><th>Float64</th><th>Float64</th><th>Float64</th><th>Float64</th></tr></thead><tbody><p>3,900 rows × 198 columns (omitted printing of 191 columns)</p><tr><th>1</th><td>1073</td><td>-0.134778</td><td>0.0961271</td><td>0.150893</td><td>-0.124395</td><td>0.0104613</td><td>-0.021229</td></tr><tr><th>2</th><td>1073</td><td>-0.239622</td><td>0.0808094</td><td>0.0401683</td><td>-0.134781</td><td>0.0104613</td><td>-0.0194181</td></tr><tr><th>3</th><td>1073</td><td>-0.0786772</td><td>0.0573399</td><td>-0.017679</td><td>-0.167909</td><td>0.0104613</td><td>-0.0220374</td></tr><tr><th>4</th><td>1073</td><td>-0.331465</td><td>0.0816945</td><td>-0.00963344</td><td>-0.22925</td><td>0.0104613</td><td>-0.0194181</td></tr><tr><th>5</th><td>1073</td><td>-0.31664</td><td>0.0253655</td><td>-0.0267151</td><td>-0.176635</td><td>0.00324793</td><td>-0.0208037</td></tr><tr><th>6</th><td>1073</td><td>0.105132</td><td>-0.00677726</td><td>-0.151487</td><td>-0.189069</td><td>0.0104613</td><td>0.016953</td></tr><tr><th>7</th><td>1073</td><td>-0.0373401</td><td>0.0773061</td><td>-0.166729</td><td>-0.117739</td><td>0.0104613</td><td>0.0245505</td></tr><tr><th>8</th><td>1073</td><td>-0.0520609</td><td>-0.108433</td><td>-0.0996453</td><td>-0.0833094</td><td>0.00448964</td><td>0.021457</td></tr><tr><th>9</th><td>1073</td><td>0.0547007</td><td>-0.0340988</td><td>0.151557</td><td>0.319282</td><td>-0.0448348</td><td>-0.0366629</td></tr><tr><th>10</th><td>1073</td><td>0.122094</td><td>-0.0824292</td><td>0.0476034</td><td>-0.0144728</td><td>-0.00233214</td><td>0.00765442</td></tr><tr><th>11</th><td>1073</td><td>0.110314</td><td>-0.0243444</td><td>0.00814297</td><td>-0.0349694</td><td>0.0104613</td><td>0.0101673</td></tr><tr><th>12</th><td>1073</td><td>0.256268</td><td>0.0634195</td><td>-0.0811847</td><td>0.0441466</td><td>0.00848568</td><td>0.0169169</td></tr><tr><th>13</th><td>1073</td><td>0.079057</td><td>0.00661864</td><td>-0.153504</td><td>0.393015</td><td>-0.0484441</td><td>0.0230577</td></tr><tr><th>14</th><td>1073</td><td>-0.0133902</td><td>-0.0132008</td><td>-0.148069</td><td>-0.0146316</td><td>0.00886135</td><td>0.0161103</td></tr><tr><th>15</th><td>1073</td><td>0.0277005</td><td>-0.0806736</td><td>0.0247091</td><td>0.0531618</td><td>0.00677168</td><td>0.0155368</td></tr><tr><th>16</th><td>1073</td><td>0.0707179</td><td>-0.104579</td><td>0.235093</td><td>0.178299</td><td>-0.00374318</td><td>0.000594213</td></tr><tr><th>17</th><td>1073</td><td>0.22407</td><td>0.0292543</td><td>0.294984</td><td>0.146047</td><td>-0.00460173</td><td>-0.0205562</td></tr><tr><th>18</th><td>1073</td><td>0.154477</td><td>-0.0506763</td><td>0.0237644</td><td>0.0162414</td><td>0.00588019</td><td>0.00584345</td></tr><tr><th>19</th><td>1073</td><td>0.0420251</td><td>-0.00620195</td><td>-0.116843</td><td>-0.0173146</td><td>0.00543154</td><td>0.0053948</td></tr><tr><th>20</th><td>1073</td><td>-0.0425827</td><td>-0.00652045</td><td>-0.00542654</td><td>0.154285</td><td>-0.0124411</td><td>-0.00411101</td></tr><tr><th>21</th><td>1097</td><td>0.267062</td><td>0.0433706</td><td>0.106903</td><td>-0.117615</td><td>0.00797198</td><td>-0.0161775</td></tr><tr><th>22</th><td>1097</td><td>0.286461</td><td>0.115747</td><td>0.0906478</td><td>-0.0953381</td><td>0.00797198</td><td>-0.0147974</td></tr><tr><th>23</th><td>1097</td><td>0.0824029</td><td>-0.0144649</td><td>0.0844482</td><td>-0.115481</td><td>0.00797198</td><td>-0.0167935</td></tr><tr><th>24</th><td>1097</td><td>-0.248465</td><td>0.0497808</td><td>0.0297359</td><td>-0.187202</td><td>0.00797198</td><td>-0.0147974</td></tr><tr><th>25</th><td>1097</td><td>-0.0636725</td><td>0.0128667</td><td>-0.0270093</td><td>-0.187794</td><td>0.00247507</td><td>-0.0158534</td></tr><tr><th>26</th><td>1097</td><td>-0.284223</td><td>0.0837605</td><td>-0.220044</td><td>-0.148477</td><td>0.00797198</td><td>0.0129189</td></tr><tr><th>27</th><td>1097</td><td>-0.143405</td><td>-0.0139795</td><td>-0.2442</td><td>-0.0289042</td><td>0.00797198</td><td>0.0187086</td></tr><tr><th>28</th><td>1097</td><td>-0.217032</td><td>0.02018</td><td>-0.217045</td><td>0.127496</td><td>0.00342131</td><td>0.0163512</td></tr><tr><th>29</th><td>1097</td><td>0.139978</td><td>0.0450422</td><td>0.10424</td><td>0.393619</td><td>-0.0341662</td><td>-0.0279388</td></tr><tr><th>30</th><td>1097</td><td>-0.0775231</td><td>-0.077206</td><td>-0.172381</td><td>-0.00919521</td><td>-0.0017772</td><td>0.00583301</td></tr><tr><th>&vellip;</th><td>&vellip;</td><td>&vellip;</td><td>&vellip;</td><td>&vellip;</td><td>&vellip;</td><td>&vellip;</td><td>&vellip;</td></tr></tbody></table>"
      ],
      "text/latex": [
       "\\begin{tabular}{r|cccccccc}\n",
       "\t& CountyCode & logghomr & logfssl & logrobr & logburg & burg\\_missing & robrate\\_missing & \\\\\n",
       "\t\\hline\n",
       "\t& Int64 & Float64 & Float64 & Float64 & Float64 & Float64 & Float64 & \\\\\n",
       "\t\\hline\n",
       "\t1 & 1073 & -0.134778 & 0.0961271 & 0.150893 & -0.124395 & 0.0104613 & -0.021229 & $\\dots$ \\\\\n",
       "\t2 & 1073 & -0.239622 & 0.0808094 & 0.0401683 & -0.134781 & 0.0104613 & -0.0194181 & $\\dots$ \\\\\n",
       "\t3 & 1073 & -0.0786772 & 0.0573399 & -0.017679 & -0.167909 & 0.0104613 & -0.0220374 & $\\dots$ \\\\\n",
       "\t4 & 1073 & -0.331465 & 0.0816945 & -0.00963344 & -0.22925 & 0.0104613 & -0.0194181 & $\\dots$ \\\\\n",
       "\t5 & 1073 & -0.31664 & 0.0253655 & -0.0267151 & -0.176635 & 0.00324793 & -0.0208037 & $\\dots$ \\\\\n",
       "\t6 & 1073 & 0.105132 & -0.00677726 & -0.151487 & -0.189069 & 0.0104613 & 0.016953 & $\\dots$ \\\\\n",
       "\t7 & 1073 & -0.0373401 & 0.0773061 & -0.166729 & -0.117739 & 0.0104613 & 0.0245505 & $\\dots$ \\\\\n",
       "\t8 & 1073 & -0.0520609 & -0.108433 & -0.0996453 & -0.0833094 & 0.00448964 & 0.021457 & $\\dots$ \\\\\n",
       "\t9 & 1073 & 0.0547007 & -0.0340988 & 0.151557 & 0.319282 & -0.0448348 & -0.0366629 & $\\dots$ \\\\\n",
       "\t10 & 1073 & 0.122094 & -0.0824292 & 0.0476034 & -0.0144728 & -0.00233214 & 0.00765442 & $\\dots$ \\\\\n",
       "\t11 & 1073 & 0.110314 & -0.0243444 & 0.00814297 & -0.0349694 & 0.0104613 & 0.0101673 & $\\dots$ \\\\\n",
       "\t12 & 1073 & 0.256268 & 0.0634195 & -0.0811847 & 0.0441466 & 0.00848568 & 0.0169169 & $\\dots$ \\\\\n",
       "\t13 & 1073 & 0.079057 & 0.00661864 & -0.153504 & 0.393015 & -0.0484441 & 0.0230577 & $\\dots$ \\\\\n",
       "\t14 & 1073 & -0.0133902 & -0.0132008 & -0.148069 & -0.0146316 & 0.00886135 & 0.0161103 & $\\dots$ \\\\\n",
       "\t15 & 1073 & 0.0277005 & -0.0806736 & 0.0247091 & 0.0531618 & 0.00677168 & 0.0155368 & $\\dots$ \\\\\n",
       "\t16 & 1073 & 0.0707179 & -0.104579 & 0.235093 & 0.178299 & -0.00374318 & 0.000594213 & $\\dots$ \\\\\n",
       "\t17 & 1073 & 0.22407 & 0.0292543 & 0.294984 & 0.146047 & -0.00460173 & -0.0205562 & $\\dots$ \\\\\n",
       "\t18 & 1073 & 0.154477 & -0.0506763 & 0.0237644 & 0.0162414 & 0.00588019 & 0.00584345 & $\\dots$ \\\\\n",
       "\t19 & 1073 & 0.0420251 & -0.00620195 & -0.116843 & -0.0173146 & 0.00543154 & 0.0053948 & $\\dots$ \\\\\n",
       "\t20 & 1073 & -0.0425827 & -0.00652045 & -0.00542654 & 0.154285 & -0.0124411 & -0.00411101 & $\\dots$ \\\\\n",
       "\t21 & 1097 & 0.267062 & 0.0433706 & 0.106903 & -0.117615 & 0.00797198 & -0.0161775 & $\\dots$ \\\\\n",
       "\t22 & 1097 & 0.286461 & 0.115747 & 0.0906478 & -0.0953381 & 0.00797198 & -0.0147974 & $\\dots$ \\\\\n",
       "\t23 & 1097 & 0.0824029 & -0.0144649 & 0.0844482 & -0.115481 & 0.00797198 & -0.0167935 & $\\dots$ \\\\\n",
       "\t24 & 1097 & -0.248465 & 0.0497808 & 0.0297359 & -0.187202 & 0.00797198 & -0.0147974 & $\\dots$ \\\\\n",
       "\t25 & 1097 & -0.0636725 & 0.0128667 & -0.0270093 & -0.187794 & 0.00247507 & -0.0158534 & $\\dots$ \\\\\n",
       "\t26 & 1097 & -0.284223 & 0.0837605 & -0.220044 & -0.148477 & 0.00797198 & 0.0129189 & $\\dots$ \\\\\n",
       "\t27 & 1097 & -0.143405 & -0.0139795 & -0.2442 & -0.0289042 & 0.00797198 & 0.0187086 & $\\dots$ \\\\\n",
       "\t28 & 1097 & -0.217032 & 0.02018 & -0.217045 & 0.127496 & 0.00342131 & 0.0163512 & $\\dots$ \\\\\n",
       "\t29 & 1097 & 0.139978 & 0.0450422 & 0.10424 & 0.393619 & -0.0341662 & -0.0279388 & $\\dots$ \\\\\n",
       "\t30 & 1097 & -0.0775231 & -0.077206 & -0.172381 & -0.00919521 & -0.0017772 & 0.00583301 & $\\dots$ \\\\\n",
       "\t$\\dots$ & $\\dots$ & $\\dots$ & $\\dots$ & $\\dots$ & $\\dots$ & $\\dots$ & $\\dots$ &  \\\\\n",
       "\\end{tabular}\n"
      ],
      "text/plain": [
       "\u001b[1m3900×198 DataFrame\u001b[0m\n",
       "\u001b[1m  Row \u001b[0m│\u001b[1m CountyCode \u001b[0m\u001b[1m logghomr   \u001b[0m\u001b[1m logfssl     \u001b[0m\u001b[1m logrobr     \u001b[0m\u001b[1m logburg     \u001b[0m\u001b[1m burg_mi\u001b[0m ⋯\n",
       "\u001b[1m      \u001b[0m│\u001b[90m Int64      \u001b[0m\u001b[90m Float64    \u001b[0m\u001b[90m Float64     \u001b[0m\u001b[90m Float64     \u001b[0m\u001b[90m Float64     \u001b[0m\u001b[90m Float64\u001b[0m ⋯\n",
       "──────┼─────────────────────────────────────────────────────────────────────────\n",
       "    1 │       1073  -0.134778    0.0961271    0.150893    -0.124395      0.010 ⋯\n",
       "    2 │       1073  -0.239622    0.0808094    0.0401683   -0.134781      0.010\n",
       "    3 │       1073  -0.0786772   0.0573399   -0.017679    -0.167909      0.010\n",
       "    4 │       1073  -0.331465    0.0816945   -0.00963344  -0.22925       0.010\n",
       "    5 │       1073  -0.31664     0.0253655   -0.0267151   -0.176635      0.003 ⋯\n",
       "    6 │       1073   0.105132   -0.00677726  -0.151487    -0.189069      0.010\n",
       "    7 │       1073  -0.0373401   0.0773061   -0.166729    -0.117739      0.010\n",
       "    8 │       1073  -0.0520609  -0.108433    -0.0996453   -0.0833094     0.004\n",
       "    9 │       1073   0.0547007  -0.0340988    0.151557     0.319282     -0.044 ⋯\n",
       "   10 │       1073   0.122094   -0.0824292    0.0476034   -0.0144728    -0.002\n",
       "   11 │       1073   0.110314   -0.0243444    0.00814297  -0.0349694     0.010\n",
       "  ⋮   │     ⋮           ⋮            ⋮            ⋮            ⋮            ⋮  ⋱\n",
       " 3891 │      55133  -0.54942    -0.00681523   0.0786474    0.13458      -0.020\n",
       " 3892 │      55133  -0.660408    0.135748     0.0561803    0.134567     -0.021 ⋯\n",
       " 3893 │      55133  -0.676525   -0.0223923    0.209323     0.390146     -0.060\n",
       " 3894 │      55133  -0.697525    0.0405164   -0.0858534    0.15756      -0.021\n",
       " 3895 │      55133  -0.0384095  -0.058838    -0.0983204    0.126737     -0.023\n",
       " 3896 │      55133   0.0280962   0.0407888    0.0182247    0.107714     -0.030 ⋯\n",
       " 3897 │      55133   0.0801447   0.208251     0.251402     0.151313     -0.030\n",
       " 3898 │      55133   0.497987    0.177444     0.179985     0.116497     -0.023\n",
       " 3899 │      55133   0.568542   -0.0971269   -1.3754      -3.02227       0.530\n",
       " 3900 │      55133   0.609022    0.274062     0.336788     0.171876     -0.036 ⋯\n",
       "\u001b[36m                                               193 columns and 3879 rows omitted\u001b[0m"
      ]
     },
     "execution_count": 159,
     "metadata": {},
     "output_type": "execute_result"
    }
   ],
   "source": [
    "rdata"
   ]
  },
  {
   "cell_type": "code",
   "execution_count": 152,
   "metadata": {},
   "outputs": [
    {
     "data": {
      "text/plain": [
       "3900-element Vector{Float64}:\n",
       " -0.1347775242285678\n",
       " -0.23962152489688604\n",
       " -0.0786771589928561\n",
       " -0.3314654607497185\n",
       " -0.3166398021047705\n",
       "  0.10513189826268476\n",
       " -0.03734007187753763\n",
       " -0.052060902249581265\n",
       "  0.05470066749138924\n",
       "  0.12209372827735177\n",
       "  0.11031407805814997\n",
       "  0.2562675062474984\n",
       "  0.07905702835656303\n",
       "  ⋮\n",
       "  0.21493612083267194\n",
       " -0.4903412114754312\n",
       " -0.5494199456711729\n",
       " -0.6604078122019494\n",
       " -0.6765248029790694\n",
       " -0.6975246915205633\n",
       " -0.03840950930937048\n",
       "  0.028096226715491168\n",
       "  0.08014469325480622\n",
       "  0.4979872093044617\n",
       "  0.5685415516403597\n",
       "  0.6090223022158114"
      ]
     },
     "execution_count": 152,
     "metadata": {},
     "output_type": "execute_result"
    }
   ],
   "source": [
    "residuals(lm(term(Symbol(varlis[1])) ~ sum(term.(Symbol.(year))) + sum(term.(Symbol.(fixed))), data))"
   ]
  }
 ],
 "metadata": {
  "kernelspec": {
   "display_name": "Julia 1.6.5",
   "language": "julia",
   "name": "julia-1.6"
  },
  "language_info": {
   "file_extension": ".jl",
   "mimetype": "application/julia",
   "name": "julia",
   "version": "1.6.5"
  },
  "orig_nbformat": 4
 },
 "nbformat": 4,
 "nbformat_minor": 2
}
