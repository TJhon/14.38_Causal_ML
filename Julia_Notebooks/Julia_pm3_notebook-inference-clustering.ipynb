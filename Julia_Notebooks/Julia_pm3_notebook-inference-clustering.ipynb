{
 "cells": [
  {
   "cell_type": "markdown",
   "metadata": {},
   "source": [
    "# A Case Study: The Effect of Gun Ownership on Gun-Homicide Rates"
   ]
  },
  {
   "cell_type": "markdown",
   "metadata": {},
   "source": [
    "We consider the problem of estimating the effect of gun\n",
    "ownership on the homicide rate. For this purpose, we estimate the following partially\n",
    "linear model\n",
    "\n",
    "$$\n",
    " Y_{j,t} = \\beta D_{j,(t-1)} + g(Z_{j,t}) + \\epsilon_{j,t}.\n",
    "$$"
   ]
  },
  {
   "cell_type": "markdown",
   "metadata": {},
   "source": [
    "## Data"
   ]
  },
  {
   "cell_type": "markdown",
   "metadata": {},
   "source": [
    "$Y_{j,t}$ is log homicide rate in county $j$ at time $t$, $D_{j, t-1}$ is log  fraction of suicides committed with a firearm in county $j$ at time $t-1$, which we use as a proxy for gun ownership,  and  $Z_{j,t}$ is a set of demographic and economic characteristics of county $j$ at time $t$. The parameter $\\beta$ is the effect of gun ownership on the\n",
    "homicide rates, controlling for county-level demographic and economic characteristics. \n",
    "\n",
    "The sample covers 195 large United States counties between the years 1980 through 1999, giving us 3900 observations."
   ]
  },
  {
   "cell_type": "code",
   "execution_count": 8,
   "metadata": {},
   "outputs": [
    {
     "name": "stderr",
     "output_type": "stream",
     "text": [
      "\u001b[32m\u001b[1m   Resolving\u001b[22m\u001b[39m package versions...\n",
      "\u001b[32m\u001b[1m  No Changes\u001b[22m\u001b[39m to `C:\\Users\\PC\\.julia\\environments\\v1.6\\Project.toml`\n",
      "\u001b[32m\u001b[1m  No Changes\u001b[22m\u001b[39m to `C:\\Users\\PC\\.julia\\environments\\v1.6\\Manifest.toml`\n",
      "\u001b[32m\u001b[1m   Resolving\u001b[22m\u001b[39m package versions...\n",
      "\u001b[32m\u001b[1m  No Changes\u001b[22m\u001b[39m to `C:\\Users\\PC\\.julia\\environments\\v1.6\\Project.toml`\n",
      "\u001b[32m\u001b[1m  No Changes\u001b[22m\u001b[39m to `C:\\Users\\PC\\.julia\\environments\\v1.6\\Manifest.toml`\n"
     ]
    },
    {
     "data": {
      "text/plain": [
       "(nothing, nothing)"
      ]
     },
     "execution_count": 8,
     "metadata": {},
     "output_type": "execute_result"
    }
   ],
   "source": [
    "using Pkg\n",
    "Pkg.add(\"CSV\"), using CSV\n",
    "Pkg.add(\"DataFrames\"), using DataFrames"
   ]
  },
  {
   "cell_type": "code",
   "execution_count": 9,
   "metadata": {},
   "outputs": [
    {
     "name": "stdout",
     "output_type": "stream",
     "text": [
      "Number of rows: 3900\n",
      "Number of columns: 415\n"
     ]
    }
   ],
   "source": [
    "data = CSV.File(\"../data/gun_clean.csv\") |> DataFrame;\n",
    "println(\"Number of rows: \",size(data,1))\n",
    "println(\"Number of columns: \",size(data,2))"
   ]
  },
  {
   "cell_type": "markdown",
   "metadata": {},
   "source": [
    "### Preprocessing"
   ]
  },
  {
   "cell_type": "markdown",
   "metadata": {},
   "source": [
    "To account for heterogeneity across counties and time trends in  all variables, we remove from them county-specific and time-specific effects in the following preprocessing."
   ]
  },
  {
   "cell_type": "code",
   "execution_count": null,
   "metadata": {},
   "outputs": [],
   "source": [
    "eltype.(eachcol(data))"
   ]
  },
  {
   "cell_type": "code",
   "execution_count": 64,
   "metadata": {},
   "outputs": [
    {
     "data": {
      "text/plain": [
       "varlist (generic function with 5 methods)"
      ]
     },
     "execution_count": 64,
     "metadata": {},
     "output_type": "execute_result"
    }
   ],
   "source": [
    "function varlist(df = nothing , type_dataframe = [\"numeric\",\"categorical\",\"string\"], pattern = \"\", exclude =  nothing)\n",
    "\n",
    "    varrs = []\n",
    "    if \"numeric\" in type_dataframe\n",
    "        append!(varrs, [i for i in names(data) if eltype(eachcol(data)[i]) <: Number])    \n",
    "    end\n",
    "    if \"categorical\" in type_dataframe\n",
    "        append!(varlist,[i for i in names(data) if eltype(eachcol(data)[i]) <: CategoricalVector])\n",
    "    end\n",
    "    if \"string\" in type_dataframe\n",
    "        append!(varlist,[i for i in names(data) if eltype(eachcol(data)[i]) <: String])\n",
    "    end\n",
    "    \n",
    "end"
   ]
  }
 ],
 "metadata": {
  "kernelspec": {
   "display_name": "Julia 1.6.5",
   "language": "julia",
   "name": "julia-1.6"
  },
  "language_info": {
   "file_extension": ".jl",
   "mimetype": "application/julia",
   "name": "julia",
   "version": "1.6.5"
  },
  "orig_nbformat": 4
 },
 "nbformat": 4,
 "nbformat_minor": 2
}
