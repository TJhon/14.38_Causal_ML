{
 "cells": [
  {
   "cell_type": "markdown",
   "metadata": {},
   "source": [
    "# A Case Study: The Effect of Gun Ownership on Gun-Homicide Rates"
   ]
  },
  {
   "cell_type": "markdown",
   "metadata": {},
   "source": [
    "We consider the problem of estimating the effect of gun\n",
    "ownership on the homicide rate. For this purpose, we estimate the following partially\n",
    "linear model\n",
    "\n",
    "$$\n",
    " Y_{j,t} = \\beta D_{j,(t-1)} + g(Z_{j,t}) + \\epsilon_{j,t}.\n",
    "$$"
   ]
  },
  {
   "cell_type": "markdown",
   "metadata": {},
   "source": [
    "## Data"
   ]
  },
  {
   "cell_type": "markdown",
   "metadata": {},
   "source": [
    "$Y_{j,t}$ is log homicide rate in county $j$ at time $t$, $D_{j, t-1}$ is log  fraction of suicides committed with a firearm in county $j$ at time $t-1$, which we use as a proxy for gun ownership,  and  $Z_{j,t}$ is a set of demographic and economic characteristics of county $j$ at time $t$. The parameter $\\beta$ is the effect of gun ownership on the\n",
    "homicide rates, controlling for county-level demographic and economic characteristics. \n",
    "\n",
    "The sample covers 195 large United States counties between the years 1980 through 1999, giving us 3900 observations."
   ]
  },
  {
   "cell_type": "code",
   "execution_count": 150,
   "metadata": {},
   "outputs": [
    {
     "name": "stderr",
     "output_type": "stream",
     "text": [
      "\u001b[32m\u001b[1m   Resolving\u001b[22m\u001b[39m package versions...\n",
      "\u001b[32m\u001b[1m  No Changes\u001b[22m\u001b[39m to `C:\\Users\\PC\\.julia\\environments\\v1.6\\Project.toml`\n",
      "\u001b[32m\u001b[1m  No Changes\u001b[22m\u001b[39m to `C:\\Users\\PC\\.julia\\environments\\v1.6\\Manifest.toml`\n",
      "\u001b[32m\u001b[1m   Resolving\u001b[22m\u001b[39m package versions...\n",
      "\u001b[32m\u001b[1m  No Changes\u001b[22m\u001b[39m to `C:\\Users\\PC\\.julia\\environments\\v1.6\\Project.toml`\n",
      "\u001b[32m\u001b[1m  No Changes\u001b[22m\u001b[39m to `C:\\Users\\PC\\.julia\\environments\\v1.6\\Manifest.toml`\n",
      "\u001b[32m\u001b[1m   Resolving\u001b[22m\u001b[39m package versions...\n",
      "\u001b[32m\u001b[1m  No Changes\u001b[22m\u001b[39m to `C:\\Users\\PC\\.julia\\environments\\v1.6\\Project.toml`\n",
      "\u001b[32m\u001b[1m  No Changes\u001b[22m\u001b[39m to `C:\\Users\\PC\\.julia\\environments\\v1.6\\Manifest.toml`\n",
      "\u001b[32m\u001b[1m   Resolving\u001b[22m\u001b[39m package versions...\n",
      "\u001b[32m\u001b[1m  No Changes\u001b[22m\u001b[39m to `C:\\Users\\PC\\.julia\\environments\\v1.6\\Project.toml`\n",
      "\u001b[32m\u001b[1m  No Changes\u001b[22m\u001b[39m to `C:\\Users\\PC\\.julia\\environments\\v1.6\\Manifest.toml`\n",
      "\u001b[32m\u001b[1m   Resolving\u001b[22m\u001b[39m package versions...\n",
      "\u001b[32m\u001b[1m  No Changes\u001b[22m\u001b[39m to `C:\\Users\\PC\\.julia\\environments\\v1.6\\Project.toml`\n",
      "\u001b[32m\u001b[1m  No Changes\u001b[22m\u001b[39m to `C:\\Users\\PC\\.julia\\environments\\v1.6\\Manifest.toml`\n"
     ]
    },
    {
     "data": {
      "text/plain": [
       "(nothing, nothing)"
      ]
     },
     "execution_count": 150,
     "metadata": {},
     "output_type": "execute_result"
    }
   ],
   "source": [
    "using Pkg\n",
    "Pkg.add(\"CSV\"), using CSV\n",
    "Pkg.add(\"DataFrames\"), using DataFrames\n",
    "Pkg.add(\"StatsModels\"), using StatsModels\n",
    "Pkg.add(\"GLM\"), using GLM\n",
    "Pkg.add(\"Random\"), using Random"
   ]
  },
  {
   "cell_type": "code",
   "execution_count": 2,
   "metadata": {},
   "outputs": [
    {
     "name": "stdout",
     "output_type": "stream",
     "text": [
      "Number of rows: 3900\n",
      "Number of columns: 415\n"
     ]
    }
   ],
   "source": [
    "data = CSV.File(\"../data/gun_clean.csv\") |> DataFrame;\n",
    "println(\"Number of rows: \",size(data,1))\n",
    "println(\"Number of columns: \",size(data,2))"
   ]
  },
  {
   "cell_type": "markdown",
   "metadata": {},
   "source": [
    "### Preprocessing"
   ]
  },
  {
   "cell_type": "markdown",
   "metadata": {},
   "source": [
    "To account for heterogeneity across counties and time trends in  all variables, we remove from them county-specific and time-specific effects in the following preprocessing."
   ]
  },
  {
   "cell_type": "code",
   "execution_count": 3,
   "metadata": {},
   "outputs": [
    {
     "data": {
      "text/plain": [
       "varlist (generic function with 5 methods)"
      ]
     },
     "execution_count": 3,
     "metadata": {},
     "output_type": "execute_result"
    }
   ],
   "source": [
    "function varlist(df = nothing , type_dataframe = [\"numeric\",\"categorical\",\"string\"], pattern=String , exclude =  nothing)\n",
    "\n",
    "    varrs = []\n",
    "    if \"numeric\" in type_dataframe\n",
    "        append!(varrs, [i for i in names(data) if eltype(eachcol(data)[i]) <: Number])    \n",
    "    end\n",
    "    if \"categorical\" in type_dataframe\n",
    "        append!(varrs,[i for i in names(data) if eltype(eachcol(data)[i]) <: CategoricalVector])\n",
    "    end\n",
    "    if \"string\" in type_dataframe\n",
    "        append!(varrs,[i for i in names(data) if eltype(eachcol(data)[i]) <: String])\n",
    "    end\n",
    "    varrs[(!varrs in exclude) & varrs[findall(x->contains(x,pattern),names(data))]]\n",
    "end"
   ]
  },
  {
   "cell_type": "code",
   "execution_count": 4,
   "metadata": {},
   "outputs": [],
   "source": [
    "fixed = filter(x->contains(x,\"X_Jfips\"),names(data));\n",
    "year = filter(x->contains(x,\"X_Tyear\"),names(data));"
   ]
  },
  {
   "cell_type": "code",
   "execution_count": 5,
   "metadata": {},
   "outputs": [
    {
     "data": {
      "text/plain": [
       "(21,)"
      ]
     },
     "execution_count": 5,
     "metadata": {},
     "output_type": "execute_result"
    }
   ],
   "source": [
    "size(year)"
   ]
  },
  {
   "cell_type": "code",
   "execution_count": 6,
   "metadata": {},
   "outputs": [],
   "source": [
    "census = []\n",
    "census_var = [\"AGE\", \"BN\", \"BP\", \"BZ\", \"ED\", \"EL\",\"HI\", \"HS\", \"INC\", \"LF\", \"LN\", \"PI\", \"PO\", \"PP\", \"PV\", \"SPR\", \"VS\"]\n",
    "for i in 1:size(census_var,1) \n",
    "    append!(census,filter(x->contains(x,census_var[i]),names(data)))\n",
    "end"
   ]
  },
  {
   "cell_type": "code",
   "execution_count": 7,
   "metadata": {},
   "outputs": [],
   "source": [
    "d = [\"logfssl\"]\n",
    "y = [\"logghomr\"]\n",
    "X1 = [\"logrobr\", \"logburg\", \"burg_missing\", \"robrate_missing\"]\n",
    "X2 = [\"newblack\", \"newfhh\", \"newmove\", \"newdens\", \"newmal\"]\n",
    "\n",
    "variable = [y, d,X1, X2, census]\n",
    "varlis = []\n",
    "for i in variable\n",
    "    append!(varlis,i)\n",
    "end\n"
   ]
  },
  {
   "cell_type": "code",
   "execution_count": 8,
   "metadata": {},
   "outputs": [],
   "source": [
    "example = DataFrame(CountyCode = data[:,\"CountyCode\"]);\n",
    "rdata = DataFrame(CountyCode = data[:,\"CountyCode\"]);\n",
    "\n",
    "for i in 1:size(varlis,1)\n",
    "    rdata[!,varlis[i]]= residuals(lm(term(Symbol(varlis[i])) ~ sum(term.(Symbol.(year))) + sum(term.(Symbol.(fixed))), data))\n",
    "end"
   ]
  },
  {
   "cell_type": "code",
   "execution_count": 9,
   "metadata": {},
   "outputs": [
    {
     "data": {
      "text/plain": [
       "(3900, 198)"
      ]
     },
     "execution_count": 9,
     "metadata": {},
     "output_type": "execute_result"
    }
   ],
   "source": [
    "size(rdata)"
   ]
  },
  {
   "cell_type": "markdown",
   "metadata": {},
   "source": [
    "Now, we can construct the treatment variable, the outcome variable and the matrix $Z$ that includes the control variables."
   ]
  },
  {
   "cell_type": "code",
   "execution_count": 10,
   "metadata": {},
   "outputs": [
    {
     "data": {
      "text/plain": [
       "(3900, 195)"
      ]
     },
     "execution_count": 10,
     "metadata": {},
     "output_type": "execute_result"
    }
   ],
   "source": [
    "# treatment variable\n",
    "\n",
    "D = rdata[!,d]\n",
    "# Outcome variable\n",
    "Y = rdata[!,y];\n",
    "\n",
    "# Construct matrix Z\n",
    "Z = rdata[!, varlis[3:end]]\n",
    "\n",
    "size(Z)"
   ]
  },
  {
   "cell_type": "markdown",
   "metadata": {},
   "source": [
    "We have in total 195 control variables. The control variables $Z_{j,t}$ are from the U.S. Census Bureau and  contain demographic and economic characteristics of the counties such as  the age distribution, the income distribution, crime rates, federal spending, home ownership rates, house prices, educational attainment, voting paterns, employment statistics, and migration rates. "
   ]
  },
  {
   "cell_type": "code",
   "execution_count": 12,
   "metadata": {},
   "outputs": [],
   "source": [
    "clu = select(rdata,:CountyCode)\n",
    "data = hcat(Y,D,Z,clu);"
   ]
  },
  {
   "cell_type": "code",
   "execution_count": 13,
   "metadata": {},
   "outputs": [
    {
     "data": {
      "text/plain": [
       "(3900, 198)"
      ]
     },
     "execution_count": 13,
     "metadata": {},
     "output_type": "execute_result"
    }
   ],
   "source": [
    "size(data)"
   ]
  },
  {
   "cell_type": "markdown",
   "metadata": {},
   "source": [
    "## The effect of gun ownership\n"
   ]
  },
  {
   "cell_type": "markdown",
   "metadata": {},
   "source": [
    "### OLS"
   ]
  },
  {
   "cell_type": "markdown",
   "metadata": {},
   "source": [
    "After preprocessing the data, we first look at simple regression of $Y_{j,t}$ on $D_{j,t-1}$ without controls as a baseline model."
   ]
  },
  {
   "cell_type": "code",
   "execution_count": 14,
   "metadata": {},
   "outputs": [
    {
     "name": "stderr",
     "output_type": "stream",
     "text": [
      "\u001b[32m\u001b[1m   Resolving\u001b[22m\u001b[39m package versions...\n",
      "\u001b[32m\u001b[1m  No Changes\u001b[22m\u001b[39m to `C:\\Users\\PC\\.julia\\environments\\v1.6\\Project.toml`\n",
      "\u001b[32m\u001b[1m  No Changes\u001b[22m\u001b[39m to `C:\\Users\\PC\\.julia\\environments\\v1.6\\Manifest.toml`\n"
     ]
    },
    {
     "data": {
      "text/plain": [
       "(nothing, nothing)"
      ]
     },
     "execution_count": 14,
     "metadata": {},
     "output_type": "execute_result"
    }
   ],
   "source": [
    "Pkg.add(\"FixedEffectModels\"), using FixedEffectModels"
   ]
  },
  {
   "cell_type": "code",
   "execution_count": 130,
   "metadata": {},
   "outputs": [
    {
     "name": "stdout",
     "output_type": "stream",
     "text": [
      "[0.16710155204187516 0.3975073812245494]\n",
      "[0.2823044666332123]\n"
     ]
    }
   ],
   "source": [
    "baseline_ols = reg(data, @formula(logghomr ~ 1 + logfssl +fe(CountyCode)));\n",
    "est_baseline = coef(baseline_ols) ;\n",
    "println(confint(baseline_ols))\n",
    "println(est_baseline)\n"
   ]
  },
  {
   "cell_type": "markdown",
   "metadata": {},
   "source": [
    "The point estimate is $0.282$ with the confidence interval ranging from 0.167 to 0.397. This\n",
    "suggests that increases in gun ownership rates are related to gun homicide rates - if gun ownership increases by 1% relative\n",
    "to a trend then the predicted gun homicide rate goes up by 0.28%, without controlling for counties' characteristics.\n",
    "\n",
    "Since our goal is to estimate the effect of gun ownership after controlling for a rich set county characteristics we next include the controls. First, we estimate the model by ols and then by an array of the modern regression methods using the double machine learning approach."
   ]
  },
  {
   "cell_type": "code",
   "execution_count": 145,
   "metadata": {},
   "outputs": [
    {
     "data": {
      "text/plain": [
       "2-element Vector{Float64}:\n",
       " 0.07713994894072317\n",
       " 0.30415014815530284"
      ]
     },
     "execution_count": 145,
     "metadata": {},
     "output_type": "execute_result"
    }
   ],
   "source": [
    "confint(control_ols)[1,1:2]"
   ]
  },
  {
   "cell_type": "code",
   "execution_count": 149,
   "metadata": {},
   "outputs": [
    {
     "name": "stdout",
     "output_type": "stream",
     "text": [
      "[0.07713994894072317, 0.30415014815530284]\n",
      "0.190645048548013\n"
     ]
    }
   ],
   "source": [
    "control_ols= reg(data,term(:logghomr) ~  term(:logfssl) + sum(term.(Symbol.(names(Z)))) + fe(:CountyCode))\n",
    "est_ols = coef(control_ols)[1]\n",
    "println(confint(control_ols)[1,1:2])\n",
    "println(est_ols[1])\n"
   ]
  },
  {
   "cell_type": "markdown",
   "metadata": {},
   "source": [
    "# DML algorithm\n",
    "\n",
    "Here we perform inference of the predictive coefficient $\\beta$ in our partially linear statistical model, \n",
    "\n",
    "$$\n",
    "Y = D\\beta + g(Z) + \\epsilon, \\quad E (\\epsilon | D, Z) = 0,\n",
    "$$\n",
    "\n",
    "using the **double machine learning** approach. \n",
    "\n",
    "For $\\tilde Y = Y- E(Y|Z)$ and $\\tilde D= D- E(D|Z)$, we can write\n",
    "$$\n",
    "\\tilde Y = \\alpha \\tilde D + \\epsilon, \\quad E (\\epsilon |\\tilde D) =0.\n",
    "$$\n",
    "\n",
    "Using cross-fitting, we employ modern regression methods\n",
    "to build estimators $\\hat \\ell(Z)$ and $\\hat m(Z)$ of $\\ell(Z):=E(Y|Z)$ and $m(Z):=E(D|Z)$ to obtain the estimates of the residualized quantities:\n",
    "\n",
    "$$\n",
    "\\tilde Y_i = Y_i  - \\hat \\ell (Z_i),   \\quad \\tilde D_i = D_i - \\hat m(Z_i), \\quad \\text{ for each } i = 1,\\dots,n.\n",
    "$$\n",
    "\n",
    "Finally, using ordinary least squares of $\\tilde Y_i$ on $\\tilde D_i$, we obtain the \n",
    "estimate of $\\beta$."
   ]
  },
  {
   "cell_type": "code",
   "execution_count": 187,
   "metadata": {},
   "outputs": [
    {
     "name": "stderr",
     "output_type": "stream",
     "text": [
      "\u001b[32m\u001b[1m   Resolving\u001b[22m\u001b[39m package versions...\n",
      "\u001b[32m\u001b[1m  No Changes\u001b[22m\u001b[39m to `C:\\Users\\PC\\.julia\\environments\\v1.6\\Project.toml`\n",
      "\u001b[32m\u001b[1m  No Changes\u001b[22m\u001b[39m to `C:\\Users\\PC\\.julia\\environments\\v1.6\\Manifest.toml`\n",
      "\u001b[32m\u001b[1mPrecompiling\u001b[22m\u001b[39m project...\n",
      "\u001b[32m  ✓ \u001b[39m\u001b[90mDistances\u001b[39m\n",
      "\u001b[32m  ✓ \u001b[39mLinearRegression\n",
      "\u001b[33m  ✓ \u001b[39m\u001b[90mFilePathsBase\u001b[39m\n",
      "\u001b[33m  ✓ \u001b[39m\u001b[90mChainRulesCore\u001b[39m\n",
      "\u001b[33m  ✓ \u001b[39m\u001b[90mWeakRefStrings\u001b[39m\n",
      "\u001b[32m  ✓ \u001b[39m\u001b[90mPersistenceDiagramsBase\u001b[39m\n",
      "\u001b[32m  ✓ \u001b[39m\u001b[90mJSON3\u001b[39m\n",
      "\u001b[32m  ✓ \u001b[39m\u001b[90mLoess\u001b[39m\n",
      "\u001b[33m  ✓ \u001b[39mDataStructures\n",
      "\u001b[33m  ✓ \u001b[39m\u001b[90mAbstractFFTs\u001b[39m\n",
      "\u001b[33m  ✓ \u001b[39m\u001b[90mChangesOfVariables\u001b[39m\n",
      "\u001b[32m  ✓ \u001b[39m\u001b[90mNearestNeighbors\u001b[39m\n",
      "\u001b[32m  ✓ \u001b[39m\u001b[90mJLSO\u001b[39m\n",
      "\u001b[33m  ✓ \u001b[39m\u001b[90mJSON\u001b[39m\n",
      "\u001b[32m  ✓ \u001b[39m\u001b[90mHDF5\u001b[39m\n",
      "\u001b[33m  ✓ \u001b[39m\u001b[90mTimeZones\u001b[39m\n",
      "\u001b[33m  ✓ \u001b[39m\u001b[90mSortingAlgorithms\u001b[39m\n",
      "\u001b[33m  ✓ \u001b[39m\u001b[90mQuadGK\u001b[39m\n",
      "\u001b[32m  ✓ \u001b[39mNamedArrays\n",
      "\u001b[32m  ✓ \u001b[39m\u001b[90mNNlib\u001b[39m\n",
      "\u001b[32m  ✓ \u001b[39m\u001b[90mInterpolations\u001b[39m\n",
      "\u001b[32m  ✓ \u001b[39m\u001b[90mPickle\u001b[39m\n",
      "\u001b[32m  ✓ \u001b[39m\u001b[90mMLJOpenML\u001b[39m\n",
      "\u001b[32m  ✓ \u001b[39m\u001b[90mTableShowUtils\u001b[39m\n",
      "\u001b[33m  ✓ \u001b[39m\u001b[90mLogExpFunctions\u001b[39m\n",
      "\u001b[33m  ✓ \u001b[39mCSV\n",
      "\u001b[33m  ✓ \u001b[39mConda\n",
      "\u001b[32m  ✓ \u001b[39m\u001b[90mGPUArrays\u001b[39m\n",
      "\u001b[32m  ✓ \u001b[39m\u001b[90mAssetRegistry\u001b[39m\n",
      "\u001b[33m  ✓ \u001b[39mCategoricalArrays\n",
      "\u001b[32m  ✓ \u001b[39m\u001b[90mChainRules\u001b[39m\n",
      "\u001b[32m  ✓ \u001b[39m\u001b[90mGPUCompiler\u001b[39m\n",
      "\u001b[33m  ✓ \u001b[39m\u001b[90mFFTW\u001b[39m\n",
      "\u001b[32m  ✓ \u001b[39m\u001b[90mMAT\u001b[39m\n",
      "\u001b[32m  ✓ \u001b[39mDataTables\n",
      "\u001b[33m  ✓ \u001b[39m\u001b[90mIntervals\u001b[39m\n",
      "\u001b[32m  ✓ \u001b[39m\u001b[90mPlotlyBase\u001b[39m\n",
      "\u001b[33m  ✓ \u001b[39mStatsBase\n",
      "\u001b[32m  ✓ \u001b[39m\u001b[90mGR\u001b[39m\n",
      "\u001b[32m  ✓ \u001b[39m\u001b[90mMLJScientificTypes\u001b[39m\n",
      "\u001b[33m  ✓ \u001b[39mIJulia\n",
      "\u001b[32m  ✓ \u001b[39m\u001b[90mCompose\u001b[39m\n",
      "\u001b[33m  ✓ \u001b[39m\u001b[90mSpecialFunctions\u001b[39m\n",
      "\u001b[32m  ✓ \u001b[39m\u001b[90mMux\u001b[39m\n",
      "\u001b[32m  ✓ \u001b[39mPyCall\n",
      "\u001b[32m  ✓ \u001b[39m\u001b[90mWebIO\u001b[39m\n",
      "\u001b[32m  ✓ \u001b[39m\u001b[90mCoupledFields\u001b[39m\n",
      "\u001b[33m  ✓ \u001b[39m\u001b[90mPolynomials\u001b[39m\n",
      "\u001b[32m  ✓ \u001b[39m\u001b[90mSortingLab\u001b[39m\n",
      "\u001b[32m  ✓ \u001b[39m\u001b[90mMultivariateStats\u001b[39m\n",
      "\u001b[32m  ✓ \u001b[39m\u001b[90mLatinHypercubeSampling\u001b[39m\n",
      "\u001b[33m  ✓ \u001b[39m\u001b[90mLearnBase\u001b[39m\n",
      "\u001b[32m  ✓ \u001b[39mMLDatasets\n",
      "\u001b[33m  ✓ \u001b[39m\u001b[90mFixedEffects\u001b[39m\n",
      "\u001b[33m  ✓ \u001b[39mMLBase\n",
      "\u001b[32m  ✓ \u001b[39m\u001b[90mDiffRules\u001b[39m\n",
      "\u001b[33m  ✓ \u001b[39m\u001b[90mStatsFuns\u001b[39m\n",
      "\u001b[32m  ✓ \u001b[39m\u001b[90mClustering\u001b[39m\n",
      "\u001b[32m  ✓ \u001b[39mPyPlot\n",
      "\u001b[32m  ✓ \u001b[39m\u001b[90mJSExpr\u001b[39m\n",
      "\u001b[33m  ✓ \u001b[39m\u001b[90mMLLabelUtils\u001b[39m\n",
      "\u001b[33m  ✓ \u001b[39m\u001b[90mVcov\u001b[39m\n",
      "\u001b[33m  ✓ \u001b[39m\u001b[90mDSP\u001b[39m\n",
      "\u001b[32m  ✓ \u001b[39m\u001b[90mLossFunctions\u001b[39m\n",
      "\u001b[33m  ✓ \u001b[39mStatsModels\n",
      "\u001b[33m  ✓ \u001b[39m\u001b[90mMLDataPattern\u001b[39m\n",
      "\u001b[32m  ✓ \u001b[39m\u001b[90mForwardDiff\u001b[39m\n",
      "\u001b[32m  ✓ \u001b[39m\u001b[90mBlink\u001b[39m\n",
      "\u001b[33m  ✓ \u001b[39mDistributions\n",
      "\u001b[32m  ✓ \u001b[39m\u001b[90mKernelDensity\u001b[39m\n",
      "\u001b[33m  ✓ \u001b[39mGLM\n",
      "\u001b[32m  ✓ \u001b[39mPlotlyJS\n",
      "\u001b[32m  ✓ \u001b[39mMLJBase\n",
      "\u001b[32m  ✓ \u001b[39m\u001b[90mZygote\u001b[39m\n",
      "\u001b[33m  ✓ \u001b[39mLasso\n",
      "\u001b[32m  ✓ \u001b[39m\u001b[90mMLJIteration\u001b[39m\n",
      "\u001b[32m  ✓ \u001b[39m\u001b[90mMLJSerialization\u001b[39m\n",
      "\u001b[33m  ✓ \u001b[39mDataFrames\n",
      "\u001b[32m  ✓ \u001b[39m\u001b[90mMLJTuning\u001b[39m\n",
      "\u001b[32m  ✓ \u001b[39m\u001b[90mMLJEnsembles\u001b[39m\n",
      "\u001b[32m  ✓ \u001b[39mGadfly\n",
      "\u001b[32m  ✓ \u001b[39mMLJModels\n",
      "\u001b[33m  ✓ \u001b[39mMLDataUtils\n",
      "\u001b[32m  ✓ \u001b[39mRData\n",
      "\u001b[32m  ✓ \u001b[39mJLBoost\n",
      "\u001b[32m  ✓ \u001b[39mScikitLearn\n",
      "\u001b[33m  ✓ \u001b[39mFixedEffectModels\n",
      "\u001b[32m  ✓ \u001b[39mGLMNet\n",
      "\u001b[32m  ✓ \u001b[39mCUDA\n",
      "\u001b[32m  ✓ \u001b[39mMLJ\n",
      "\u001b[32m  ✓ \u001b[39mRCall\n",
      "\u001b[32m  ✓ \u001b[39mRDatasets\n",
      "\u001b[32m  ✓ \u001b[39mRegressionTables\n",
      "\u001b[32m  ✓ \u001b[39mLathe\n",
      "\u001b[32m  ✓ \u001b[39mPlots\n",
      "\u001b[32m  ✓ \u001b[39mEvoTrees\n",
      "\u001b[32m  ✓ \u001b[39mFlux\n",
      "\u001b[32m  ✓ \u001b[39mStatsPlots\n",
      "  98 dependencies successfully precompiled in 55 seconds (224 already precompiled, 1 skipped during auto due to previous errors)\n",
      "  \u001b[33m35\u001b[39m dependencies precompiled but different versions are currently loaded. Restart julia to access the new versions\n",
      "\u001b[32m\u001b[1m   Resolving\u001b[22m\u001b[39m package versions...\n",
      "\u001b[32m\u001b[1m  No Changes\u001b[22m\u001b[39m to `C:\\Users\\PC\\.julia\\environments\\v1.6\\Project.toml`\n",
      "\u001b[32m\u001b[1m  No Changes\u001b[22m\u001b[39m to `C:\\Users\\PC\\.julia\\environments\\v1.6\\Manifest.toml`\n",
      "\u001b[32m\u001b[1mPrecompiling\u001b[22m\u001b[39m project...\n",
      "\u001b[32m  ✓ \u001b[39m\u001b[90mDistances\u001b[39m\n",
      "\u001b[32m  ✓ \u001b[39mLinearRegression\n",
      "\u001b[33m  ✓ \u001b[39m\u001b[90mChainRulesCore\u001b[39m\n",
      "\u001b[33m  ✓ \u001b[39m\u001b[90mFilePathsBase\u001b[39m\n",
      "\u001b[32m  ✓ \u001b[39m\u001b[90mPersistenceDiagramsBase\u001b[39m\n",
      "\u001b[33m  ✓ \u001b[39m\u001b[90mWeakRefStrings\u001b[39m\n",
      "\u001b[32m  ✓ \u001b[39m\u001b[90mLoess\u001b[39m\n",
      "\u001b[32m  ✓ \u001b[39m\u001b[90mJSON3\u001b[39m\n",
      "\u001b[33m  ✓ \u001b[39mDataStructures\n",
      "\u001b[33m  ✓ \u001b[39m\u001b[90mAbstractFFTs\u001b[39m\n",
      "\u001b[33m  ✓ \u001b[39m\u001b[90mChangesOfVariables\u001b[39m\n",
      "\u001b[32m  ✓ \u001b[39m\u001b[90mNearestNeighbors\u001b[39m\n",
      "\u001b[33m  ✓ \u001b[39m\u001b[90mJSON\u001b[39m\n",
      "\u001b[32m  ✓ \u001b[39m\u001b[90mHDF5\u001b[39m\n",
      "\u001b[33m  ✓ \u001b[39m\u001b[90mTimeZones\u001b[39m\n",
      "\u001b[32m  ✓ \u001b[39m\u001b[90mJLSO\u001b[39m\n",
      "\u001b[33m  ✓ \u001b[39m\u001b[90mSortingAlgorithms\u001b[39m\n",
      "\u001b[33m  ✓ \u001b[39m\u001b[90mQuadGK\u001b[39m\n",
      "\u001b[32m  ✓ \u001b[39m\u001b[90mNNlib\u001b[39m\n",
      "\u001b[32m  ✓ \u001b[39m\u001b[90mInterpolations\u001b[39m\n",
      "\u001b[32m  ✓ \u001b[39mNamedArrays\n",
      "\u001b[32m  ✓ \u001b[39m\u001b[90mPickle\u001b[39m\n",
      "\u001b[32m  ✓ \u001b[39m\u001b[90mMLJOpenML\u001b[39m\n",
      "\u001b[33m  ✓ \u001b[39m\u001b[90mLogExpFunctions\u001b[39m\n",
      "\u001b[32m  ✓ \u001b[39m\u001b[90mGPUArrays\u001b[39m\n",
      "\u001b[32m  ✓ \u001b[39m\u001b[90mTableShowUtils\u001b[39m\n",
      "\u001b[32m  ✓ \u001b[39m\u001b[90mChainRules\u001b[39m\n",
      "\u001b[32m  ✓ \u001b[39m\u001b[90mAssetRegistry\u001b[39m\n",
      "\u001b[33m  ✓ \u001b[39mConda\n",
      "\u001b[33m  ✓ \u001b[39mCSV\n",
      "\u001b[33m  ✓ \u001b[39mCategoricalArrays\n",
      "\u001b[32m  ✓ \u001b[39m\u001b[90mGPUCompiler\u001b[39m\n",
      "\u001b[32m  ✓ \u001b[39m\u001b[90mMAT\u001b[39m\n",
      "\u001b[33m  ✓ \u001b[39m\u001b[90mFFTW\u001b[39m\n",
      "\u001b[32m  ✓ \u001b[39mDataTables\n",
      "\u001b[33m  ✓ \u001b[39mStatsBase\n",
      "\u001b[33m  ✓ \u001b[39m\u001b[90mIntervals\u001b[39m\n",
      "\u001b[32m  ✓ \u001b[39m\u001b[90mPlotlyBase\u001b[39m\n",
      "\u001b[32m  ✓ \u001b[39m\u001b[90mGR\u001b[39m\n",
      "\u001b[32m  ✓ \u001b[39m\u001b[90mMLJScientificTypes\u001b[39m\n",
      "\u001b[33m  ✓ \u001b[39mIJulia\n",
      "\u001b[32m  ✓ \u001b[39m\u001b[90mWebIO\u001b[39m\n",
      "\u001b[32m  ✓ \u001b[39m\u001b[90mMux\u001b[39m\n",
      "\u001b[32m  ✓ \u001b[39m\u001b[90mCompose\u001b[39m\n",
      "\u001b[33m  ✓ \u001b[39m\u001b[90mSpecialFunctions\u001b[39m\n",
      "\u001b[32m  ✓ \u001b[39m\u001b[90mCoupledFields\u001b[39m\n",
      "\u001b[32m  ✓ \u001b[39m\u001b[90mSortingLab\u001b[39m\n",
      "\u001b[32m  ✓ \u001b[39m\u001b[90mLatinHypercubeSampling\u001b[39m\n",
      "\u001b[32m  ✓ \u001b[39m\u001b[90mMultivariateStats\u001b[39m\n",
      "\u001b[32m  ✓ \u001b[39mPyCall\n",
      "\u001b[33m  ✓ \u001b[39m\u001b[90mLearnBase\u001b[39m\n",
      "\u001b[33m  ✓ \u001b[39m\u001b[90mFixedEffects\u001b[39m\n",
      "\u001b[32m  ✓ \u001b[39mMLDatasets\n",
      "\u001b[33m  ✓ \u001b[39mMLBase\n",
      "\u001b[32m  ✓ \u001b[39m\u001b[90mClustering\u001b[39m\n",
      "\u001b[33m  ✓ \u001b[39m\u001b[90mPolynomials\u001b[39m\n",
      "\u001b[32m  ✓ \u001b[39m\u001b[90mDiffRules\u001b[39m\n",
      "\u001b[33m  ✓ \u001b[39m\u001b[90mStatsFuns\u001b[39m\n",
      "\u001b[33m  ✓ \u001b[39m\u001b[90mMLLabelUtils\u001b[39m\n",
      "\u001b[32m  ✓ \u001b[39m\u001b[90mJSExpr\u001b[39m\n",
      "\u001b[32m  ✓ \u001b[39m\u001b[90mLossFunctions\u001b[39m\n",
      "\u001b[33m  ✓ \u001b[39m\u001b[90mVcov\u001b[39m\n",
      "\u001b[32m  ✓ \u001b[39mPyPlot\n",
      "\u001b[33m  ✓ \u001b[39mStatsModels\n",
      "\u001b[33m  ✓ \u001b[39m\u001b[90mDSP\u001b[39m\n",
      "\u001b[33m  ✓ \u001b[39m\u001b[90mMLDataPattern\u001b[39m\n",
      "\u001b[32m  ✓ \u001b[39m\u001b[90mForwardDiff\u001b[39m\n",
      "\u001b[33m  ✓ \u001b[39mDistributions\n",
      "\u001b[32m  ✓ \u001b[39m\u001b[90mBlink\u001b[39m\n",
      "\u001b[32m  ✓ \u001b[39m\u001b[90mKernelDensity\u001b[39m\n",
      "\u001b[33m  ✓ \u001b[39mGLM\n",
      "\u001b[32m  ✓ \u001b[39mMLJBase\n",
      "\u001b[32m  ✓ \u001b[39m\u001b[90mZygote\u001b[39m\n",
      "\u001b[32m  ✓ \u001b[39mPlotlyJS\n",
      "\u001b[32m  ✓ \u001b[39m\u001b[90mMLJIteration\u001b[39m\n",
      "\u001b[33m  ✓ \u001b[39mLasso\n",
      "\u001b[32m  ✓ \u001b[39m\u001b[90mMLJSerialization\u001b[39m\n",
      "\u001b[32m  ✓ \u001b[39mGadfly\n",
      "\u001b[33m  ✓ \u001b[39mDataFrames\n",
      "\u001b[32m  ✓ \u001b[39m\u001b[90mMLJTuning\u001b[39m\n",
      "\u001b[32m  ✓ \u001b[39m\u001b[90mMLJEnsembles\u001b[39m\n",
      "\u001b[33m  ✓ \u001b[39mMLDataUtils\n",
      "\u001b[32m  ✓ \u001b[39mRData\n",
      "\u001b[32m  ✓ \u001b[39mMLJModels\n",
      "\u001b[32m  ✓ \u001b[39mJLBoost\n",
      "\u001b[32m  ✓ \u001b[39mScikitLearn\n",
      "\u001b[33m  ✓ \u001b[39mFixedEffectModels\n",
      "\u001b[32m  ✓ \u001b[39mCUDA\n",
      "\u001b[32m  ✓ \u001b[39mGLMNet\n",
      "\u001b[32m  ✓ \u001b[39mRCall\n",
      "\u001b[32m  ✓ \u001b[39mMLJ\n",
      "\u001b[32m  ✓ \u001b[39mRDatasets\n",
      "\u001b[32m  ✓ \u001b[39mRegressionTables\n",
      "\u001b[32m  ✓ \u001b[39mLathe\n",
      "\u001b[32m  ✓ \u001b[39mPlots\n",
      "\u001b[32m  ✓ \u001b[39mEvoTrees\n",
      "\u001b[32m  ✓ \u001b[39mFlux\n",
      "\u001b[32m  ✓ \u001b[39mStatsPlots\n",
      "  98 dependencies successfully precompiled in 56 seconds (224 already precompiled, 1 skipped during auto due to previous errors)\n",
      "  \u001b[33m35\u001b[39m dependencies precompiled but different versions are currently loaded. Restart julia to access the new versions\n"
     ]
    },
    {
     "data": {
      "text/plain": [
       "(nothing, nothing)"
      ]
     },
     "execution_count": 187,
     "metadata": {},
     "output_type": "execute_result"
    }
   ],
   "source": [
    "Pkg.add(\"MLDataUtils\"), using  MLDataUtils\n",
    "Pkg.add(\"MLBase\"), using  MLBase \n"
   ]
  },
  {
   "cell_type": "code",
   "execution_count": 277,
   "metadata": {},
   "outputs": [
    {
     "data": {
      "text/plain": [
       "3900"
      ]
     },
     "execution_count": 277,
     "metadata": {},
     "output_type": "execute_result"
    }
   ],
   "source": [
    "size(z,1)"
   ]
  },
  {
   "cell_type": "code",
   "execution_count": 307,
   "metadata": {},
   "outputs": [
    {
     "name": "stdout",
     "output_type": "stream",
     "text": [
      "folds: \n",
      "1\n",
      "2\n",
      "3\n",
      "4\n",
      "5\n",
      "6\n",
      "7\n",
      "8\n",
      "9\n",
      "10\n"
     ]
    }
   ],
   "source": [
    "nfold  = 10\n",
    "nobser = size(z,1) #number of observations\n",
    "foldid = collect(Kfold(size(z)[1], nfold))\n",
    "ytil = ones(nobser)\n",
    "dtil = ones(nobser)\n",
    "println(\"folds: \" )\n",
    "for i in 1:nfold\n",
    "    dfit = dreg(z[foldid[i],:], d[foldid[i]])\n",
    "    yfit = yreg(z[foldid[i],:], d[foldid[i]])\n",
    "    dhat = predict(dfit, z[Not(foldid[i]),:])\n",
    "    yhat = predict(yfit, z[Not(foldid[i]),:])\n",
    "    dtil[Not(foldid[i])]   = (d[Not(foldid[i])] - dhat) \n",
    "    ytil[Not(foldid[i])]   = (y[Not(foldid[i])] - yhat)\n",
    "    println(i )\n",
    "end"
   ]
  },
  {
   "cell_type": "code",
   "execution_count": 319,
   "metadata": {},
   "outputs": [
    {
     "ename": "LoadError",
     "evalue": "UndefVarError: FixedEffect not defined",
     "output_type": "error",
     "traceback": [
      "UndefVarError: FixedEffect not defined",
      "",
      "Stacktrace:",
      " [1] top-level scope",
      "   @ In[319]:1",
      " [2] eval",
      "   @ .\\boot.jl:360 [inlined]",
      " [3] include_string(mapexpr::typeof(REPL.softscope), mod::Module, code::String, filename::String)",
      "   @ Base .\\loading.jl:1116"
     ]
    }
   ],
   "source": [
    "methodswith()"
   ]
  },
  {
   "cell_type": "code",
   "execution_count": 317,
   "metadata": {},
   "outputs": [
    {
     "data": {
      "text/plain": [
       "                      Fixed Effect Model                      \n",
       "==============================================================\n",
       "Number of obs:            3900  Degrees of freedom:        196\n",
       "R2:                      0.004  R2 Adjusted:            -0.049\n",
       "F-Stat:                14.5105  p-value:                 0.000\n",
       "R2 within:               0.004  Iterations:                  1\n",
       "==============================================================\n",
       "ytil | Estimate Std.Error t value Pr(>|t|) Lower 95% Upper 95%\n",
       "--------------------------------------------------------------\n",
       "dtil | 0.227822 0.0598072 3.80927    0.000  0.110563   0.34508\n",
       "==============================================================\n"
      ]
     },
     "execution_count": 317,
     "metadata": {},
     "output_type": "execute_result"
    }
   ],
   "source": [
    "reg(data, @formula(ytil ~ dtil +fe(clu)))"
   ]
  },
  {
   "cell_type": "code",
   "execution_count": 315,
   "metadata": {},
   "outputs": [
    {
     "data": {
      "text/plain": [
       "0.22782154722416945"
      ]
     },
     "execution_count": 315,
     "metadata": {},
     "output_type": "execute_result"
    }
   ],
   "source": [
    "rfit = reg(data, @formula(ytil ~ dtil +fe(clu)))\n",
    "coef_est = coef(rfit)[1]"
   ]
  },
  {
   "cell_type": "code",
   "execution_count": null,
   "metadata": {},
   "outputs": [],
   "source": [
    "function DML_for_PLM(z , d , y , dreg , yreg , nfold = 2, clu)\n",
    "    nobser = size(z,1) #number of observations\n",
    "    foldid = collect(Kfold(size(z)[1], nfold))\n",
    "    ytil = dtil = ones(nobser)\n",
    "    println(\"folds: \" )\n",
    "    for i in 1:nfolds\n",
    "        dfit = dreg(z[foldid[i],:], d[folid[i]])\n",
    "        yfit = yreg(z[foldid[i],:], y[folid[i]])\n",
    "        dhat = predict(dfit, z[Not(foldid[i]),:])\n",
    "        yhat = predict(yfit, z[Not(foldid[i]),:])\n",
    "        dtil[Not(foldid[i])]   = (d[Not(foldid[i])] - dhat)\n",
    "        ytil[Not(foldid[i])]   = (y[Not(foldid[i])] - yhat)\n",
    "        println(i )\n",
    "    end\n",
    "    data = DataFrame(ytil = ytil, dtil = dtil, clu)\n",
    "    rfit = reg(data, @formula(ytil ~ dtil +fe(clu)))\n",
    "    coef_est = coef(rfit)[1]\n",
    "    se = \n",
    "    \n",
    "end"
   ]
  },
  {
   "cell_type": "code",
   "execution_count": null,
   "metadata": {},
   "outputs": [],
   "source": []
  },
  {
   "cell_type": "code",
   "execution_count": 176,
   "metadata": {},
   "outputs": [
    {
     "data": {
      "text/html": [
       "<table class=\"data-frame\"><thead><tr><th></th><th>logghomr</th><th>logfssl</th><th>CountyCode</th></tr><tr><th></th><th>Float64</th><th>Float64</th><th>Int64</th></tr></thead><tbody><p>6 rows × 3 columns</p><tr><th>1</th><td>-0.134778</td><td>0.0961271</td><td>1073</td></tr><tr><th>2</th><td>-0.239622</td><td>0.0808094</td><td>1073</td></tr><tr><th>3</th><td>-0.0786772</td><td>0.0573399</td><td>1073</td></tr><tr><th>4</th><td>-0.331465</td><td>0.0816945</td><td>1073</td></tr><tr><th>5</th><td>-0.31664</td><td>0.0253655</td><td>1073</td></tr><tr><th>6</th><td>0.105132</td><td>-0.00677726</td><td>1073</td></tr></tbody></table>"
      ],
      "text/latex": [
       "\\begin{tabular}{r|ccc}\n",
       "\t& logghomr & logfssl & CountyCode\\\\\n",
       "\t\\hline\n",
       "\t& Float64 & Float64 & Int64\\\\\n",
       "\t\\hline\n",
       "\t1 & -0.134778 & 0.0961271 & 1073 \\\\\n",
       "\t2 & -0.239622 & 0.0808094 & 1073 \\\\\n",
       "\t3 & -0.0786772 & 0.0573399 & 1073 \\\\\n",
       "\t4 & -0.331465 & 0.0816945 & 1073 \\\\\n",
       "\t5 & -0.31664 & 0.0253655 & 1073 \\\\\n",
       "\t6 & 0.105132 & -0.00677726 & 1073 \\\\\n",
       "\\end{tabular}\n"
      ],
      "text/plain": [
       "\u001b[1m6×3 DataFrame\u001b[0m\n",
       "\u001b[1m Row \u001b[0m│\u001b[1m logghomr   \u001b[0m\u001b[1m logfssl     \u001b[0m\u001b[1m CountyCode \u001b[0m\n",
       "\u001b[1m     \u001b[0m│\u001b[90m Float64    \u001b[0m\u001b[90m Float64     \u001b[0m\u001b[90m Int64      \u001b[0m\n",
       "─────┼─────────────────────────────────────\n",
       "   1 │ -0.134778    0.0961271         1073\n",
       "   2 │ -0.239622    0.0808094         1073\n",
       "   3 │ -0.0786772   0.0573399         1073\n",
       "   4 │ -0.331465    0.0816945         1073\n",
       "   5 │ -0.31664     0.0253655         1073\n",
       "   6 │  0.105132   -0.00677726        1073"
      ]
     },
     "execution_count": 176,
     "metadata": {},
     "output_type": "execute_result"
    }
   ],
   "source": [
    "z = Matrix(Z);\n",
    "d = D[!,1];\n",
    "y = Y[!,1];\n",
    "clu = rdata[!, :CountyCode];\n",
    "first(DataFrame(logghomr = y,logfssl = d,CountyCode = clu ),6)"
   ]
  },
  {
   "cell_type": "markdown",
   "metadata": {},
   "source": [
    "In the following, we apply the DML approach with the differnt versions of lasso.\n"
   ]
  },
  {
   "cell_type": "markdown",
   "metadata": {},
   "source": [
    "## Lasso"
   ]
  },
  {
   "cell_type": "code",
   "execution_count": 151,
   "metadata": {},
   "outputs": [
    {
     "name": "stderr",
     "output_type": "stream",
     "text": [
      "\u001b[32m\u001b[1m   Resolving\u001b[22m\u001b[39m package versions...\n",
      "\u001b[32m\u001b[1m  No Changes\u001b[22m\u001b[39m to `C:\\Users\\PC\\.julia\\environments\\v1.6\\Project.toml`\n",
      "\u001b[32m\u001b[1m  No Changes\u001b[22m\u001b[39m to `C:\\Users\\PC\\.julia\\environments\\v1.6\\Manifest.toml`\n",
      "WARNING: using Lasso.coeftable in module Main conflicts with an existing identifier.\n"
     ]
    }
   ],
   "source": [
    "Pkg.add(\"Lasso\")\n",
    "using Lasso"
   ]
  },
  {
   "cell_type": "code",
   "execution_count": 219,
   "metadata": {},
   "outputs": [
    {
     "data": {
      "text/plain": [
       "yreg (generic function with 1 method)"
      ]
     },
     "execution_count": 219,
     "metadata": {},
     "output_type": "execute_result"
    }
   ],
   "source": [
    "Random.seed!(123)\n",
    "function dreg(z,d)\n",
    "    fit(LassoModel,z,d)\n",
    "end\n",
    "############################\n",
    "function yreg(z,y)\n",
    "    fit(LassoModel,z,y)\n",
    "end"
   ]
  },
  {
   "cell_type": "code",
   "execution_count": 253,
   "metadata": {},
   "outputs": [],
   "source": [
    "uwu = fit(LassoModel,z,y);"
   ]
  },
  {
   "cell_type": "code",
   "execution_count": 259,
   "metadata": {},
   "outputs": [],
   "source": [
    "ddd = fill(missing, size(z,1));"
   ]
  },
  {
   "cell_type": "code",
   "execution_count": 258,
   "metadata": {},
   "outputs": [
    {
     "data": {
      "text/plain": [
       "390-element Vector{Missing}:\n",
       " missing\n",
       " missing\n",
       " missing\n",
       " missing\n",
       " missing\n",
       " missing\n",
       " missing\n",
       " missing\n",
       " missing\n",
       " missing\n",
       " missing\n",
       " missing\n",
       " missing\n",
       " ⋮\n",
       " missing\n",
       " missing\n",
       " missing\n",
       " missing\n",
       " missing\n",
       " missing\n",
       " missing\n",
       " missing\n",
       " missing\n",
       " missing\n",
       " missing\n",
       " missing"
      ]
     },
     "execution_count": 258,
     "metadata": {},
     "output_type": "execute_result"
    }
   ],
   "source": [
    "ddd[Not(a[1])] = ()"
   ]
  },
  {
   "cell_type": "code",
   "execution_count": 251,
   "metadata": {},
   "outputs": [
    {
     "data": {
      "text/html": [
       "11-element Vector{Method}:<ul><li> coef(a::<b>LassoModel</b>, args...; <i>kwargs...</i>) in Lasso at <a href=\"file://C:/Users/PC/.julia/packages/StatsModels/57Kc9/src/statsmodel.jl\" target=\"_blank\">C:\\Users\\PC\\.julia\\packages\\StatsModels\\57Kc9\\src\\statsmodel.jl:28</a><li> confint(a::<b>LassoModel</b>, args...; <i>kwargs...</i>) in Lasso at <a href=\"file://C:/Users/PC/.julia/packages/StatsModels/57Kc9/src/statsmodel.jl\" target=\"_blank\">C:\\Users\\PC\\.julia\\packages\\StatsModels\\57Kc9\\src\\statsmodel.jl:28</a><li> deviance(a::<b>LassoModel</b>, args...; <i>kwargs...</i>) in Lasso at <a href=\"file://C:/Users/PC/.julia/packages/StatsModels/57Kc9/src/statsmodel.jl\" target=\"_blank\">C:\\Users\\PC\\.julia\\packages\\StatsModels\\57Kc9\\src\\statsmodel.jl:28</a><li> dof_residual(a::<b>LassoModel</b>, args...; <i>kwargs...</i>) in Lasso at <a href=\"file://C:/Users/PC/.julia/packages/StatsModels/57Kc9/src/statsmodel.jl\" target=\"_blank\">C:\\Users\\PC\\.julia\\packages\\StatsModels\\57Kc9\\src\\statsmodel.jl:28</a><li> nobs(a::<b>LassoModel</b>, args...; <i>kwargs...</i>) in Lasso at <a href=\"file://C:/Users/PC/.julia/packages/StatsModels/57Kc9/src/statsmodel.jl\" target=\"_blank\">C:\\Users\\PC\\.julia\\packages\\StatsModels\\57Kc9\\src\\statsmodel.jl:28</a><li> residuals(a::<b>LassoModel</b>, args...; <i>kwargs...</i>) in Lasso at <a href=\"file://C:/Users/PC/.julia/packages/StatsModels/57Kc9/src/statsmodel.jl\" target=\"_blank\">C:\\Users\\PC\\.julia\\packages\\StatsModels\\57Kc9\\src\\statsmodel.jl:28</a><li> response(a::<b>LassoModel</b>, args...; <i>kwargs...</i>) in Lasso at <a href=\"file://C:/Users/PC/.julia/packages/StatsModels/57Kc9/src/statsmodel.jl\" target=\"_blank\">C:\\Users\\PC\\.julia\\packages\\StatsModels\\57Kc9\\src\\statsmodel.jl:28</a><li> dof(a::<b>LassoModel</b>, args...; <i>kwargs...</i>) in Lasso at <a href=\"file://C:/Users/PC/.julia/packages/StatsModels/57Kc9/src/statsmodel.jl\" target=\"_blank\">C:\\Users\\PC\\.julia\\packages\\StatsModels\\57Kc9\\src\\statsmodel.jl:28</a><li> loglikelihood(a::<b>LassoModel</b>, args...; <i>kwargs...</i>) in Lasso at <a href=\"file://C:/Users/PC/.julia/packages/StatsModels/57Kc9/src/statsmodel.jl\" target=\"_blank\">C:\\Users\\PC\\.julia\\packages\\StatsModels\\57Kc9\\src\\statsmodel.jl:28</a><li> nulldeviance(a::<b>LassoModel</b>, args...; <i>kwargs...</i>) in Lasso at <a href=\"file://C:/Users/PC/.julia/packages/StatsModels/57Kc9/src/statsmodel.jl\" target=\"_blank\">C:\\Users\\PC\\.julia\\packages\\StatsModels\\57Kc9\\src\\statsmodel.jl:28</a><li> nullloglikelihood(a::<b>LassoModel</b>, args...; <i>kwargs...</i>) in Lasso at <a href=\"file://C:/Users/PC/.julia/packages/StatsModels/57Kc9/src/statsmodel.jl\" target=\"_blank\">C:\\Users\\PC\\.julia\\packages\\StatsModels\\57Kc9\\src\\statsmodel.jl:28</a></ul>"
      ],
      "text/plain": [
       "[1] coef(a::LassoModel, args...; kwargs...) in Lasso at C:\\Users\\PC\\.julia\\packages\\StatsModels\\57Kc9\\src\\statsmodel.jl:28\n",
       "[2] confint(a::LassoModel, args...; kwargs...) in Lasso at C:\\Users\\PC\\.julia\\packages\\StatsModels\\57Kc9\\src\\statsmodel.jl:28\n",
       "[3] deviance(a::LassoModel, args...; kwargs...) in Lasso at C:\\Users\\PC\\.julia\\packages\\StatsModels\\57Kc9\\src\\statsmodel.jl:28\n",
       "[4] dof_residual(a::LassoModel, args...; kwargs...) in Lasso at C:\\Users\\PC\\.julia\\packages\\StatsModels\\57Kc9\\src\\statsmodel.jl:28\n",
       "[5] nobs(a::LassoModel, args...; kwargs...) in Lasso at C:\\Users\\PC\\.julia\\packages\\StatsModels\\57Kc9\\src\\statsmodel.jl:28\n",
       "[6] residuals(a::LassoModel, args...; kwargs...) in Lasso at C:\\Users\\PC\\.julia\\packages\\StatsModels\\57Kc9\\src\\statsmodel.jl:28\n",
       "[7] response(a::LassoModel, args...; kwargs...) in Lasso at C:\\Users\\PC\\.julia\\packages\\StatsModels\\57Kc9\\src\\statsmodel.jl:28\n",
       "[8] dof(a::LassoModel, args...; kwargs...) in Lasso at C:\\Users\\PC\\.julia\\packages\\StatsModels\\57Kc9\\src\\statsmodel.jl:28\n",
       "[9] loglikelihood(a::LassoModel, args...; kwargs...) in Lasso at C:\\Users\\PC\\.julia\\packages\\StatsModels\\57Kc9\\src\\statsmodel.jl:28\n",
       "[10] nulldeviance(a::LassoModel, args...; kwargs...) in Lasso at C:\\Users\\PC\\.julia\\packages\\StatsModels\\57Kc9\\src\\statsmodel.jl:28\n",
       "[11] nullloglikelihood(a::LassoModel, args...; kwargs...) in Lasso at C:\\Users\\PC\\.julia\\packages\\StatsModels\\57Kc9\\src\\statsmodel.jl:28"
      ]
     },
     "execution_count": 251,
     "metadata": {},
     "output_type": "execute_result"
    }
   ],
   "source": [
    "methodswith(LassoModel)"
   ]
  }
 ],
 "metadata": {
  "kernelspec": {
   "display_name": "Julia 1.6.5",
   "language": "julia",
   "name": "julia-1.6"
  },
  "language_info": {
   "file_extension": ".jl",
   "mimetype": "application/julia",
   "name": "julia",
   "version": "1.6.5"
  },
  "orig_nbformat": 4
 },
 "nbformat": 4,
 "nbformat_minor": 2
}
