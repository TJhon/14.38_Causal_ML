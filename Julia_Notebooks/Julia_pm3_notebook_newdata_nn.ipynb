{
 "cells": [
  {
   "cell_type": "markdown",
   "id": "f57d9028",
   "metadata": {
    "papermill": {
     "duration": 0.010003,
     "end_time": "2021-03-28T13:27:45.376868",
     "exception": false,
     "start_time": "2021-03-28T13:27:45.366865",
     "status": "completed"
    },
    "tags": []
   },
   "source": [
    "\n",
    "\n",
    "This notebook contains an example for teaching.\n"
   ]
  },
  {
   "cell_type": "markdown",
   "id": "10db46a3",
   "metadata": {
    "_execution_state": "idle",
    "_uuid": "051d70d956493feee0c6d64651c6a088724dca2a",
    "papermill": {
     "duration": 0.008782,
     "end_time": "2021-03-28T13:27:45.395504",
     "exception": false,
     "start_time": "2021-03-28T13:27:45.386722",
     "status": "completed"
    },
    "tags": []
   },
   "source": [
    "# A Simple Case Study using Wage Data from 2015 - proceeding"
   ]
  },
  {
   "cell_type": "markdown",
   "id": "8d5e4c1e",
   "metadata": {
    "papermill": {
     "duration": 0.008735,
     "end_time": "2021-03-28T13:27:45.413302",
     "exception": false,
     "start_time": "2021-03-28T13:27:45.404567",
     "status": "completed"
    },
    "tags": []
   },
   "source": [
    "So far we considered many machine learning method, e.g Lasso and Random Forests, to build a predictive model. In this lab, we extend our toolbox by predicting wages by a neural network."
   ]
  },
  {
   "cell_type": "markdown",
   "id": "088f49a5",
   "metadata": {
    "papermill": {
     "duration": 0.009256,
     "end_time": "2021-03-28T13:27:45.431663",
     "exception": false,
     "start_time": "2021-03-28T13:27:45.422407",
     "status": "completed"
    },
    "tags": []
   },
   "source": [
    "## Data preparation"
   ]
  },
  {
   "cell_type": "markdown",
   "id": "cef412f8",
   "metadata": {
    "papermill": {
     "duration": 0.0088,
     "end_time": "2021-03-28T13:27:45.449606",
     "exception": false,
     "start_time": "2021-03-28T13:27:45.440806",
     "status": "completed"
    },
    "tags": []
   },
   "source": [
    "Again, we consider data from the U.S. March Supplement of the Current Population Survey (CPS) in 2015."
   ]
  },
  {
   "cell_type": "code",
   "execution_count": 1,
   "id": "e859d8f3",
   "metadata": {},
   "outputs": [
    {
     "name": "stderr",
     "output_type": "stream",
     "text": [
      "\u001b[32m\u001b[1m    Updating\u001b[22m\u001b[39m registry at `C:\\Users\\sandr\\.julia\\registries\\General`\n",
      "\u001b[32m\u001b[1m    Updating\u001b[22m\u001b[39m git-repo `https://github.com/JuliaRegistries/General.git`\n",
      "\u001b[32m\u001b[1m   Resolving\u001b[22m\u001b[39m package versions...\n",
      "\u001b[32m\u001b[1m  No Changes\u001b[22m\u001b[39m to `C:\\Users\\sandr\\.julia\\environments\\v1.6\\Project.toml`\n",
      "\u001b[32m\u001b[1m  No Changes\u001b[22m\u001b[39m to `C:\\Users\\sandr\\.julia\\environments\\v1.6\\Manifest.toml`\n"
     ]
    }
   ],
   "source": [
    "# import Pkg; Pkg.add(\"Flux\")"
   ]
  },
  {
   "cell_type": "code",
   "execution_count": 2,
   "id": "84cdac67",
   "metadata": {},
   "outputs": [],
   "source": [
    "using RData, LinearAlgebra, GLM, DataFrames, Statistics, Random, Distributions, DataStructures, NamedArrays, PrettyTables, Plots\n",
    "import CodecBzip2"
   ]
  },
  {
   "cell_type": "code",
   "execution_count": 3,
   "id": "b8abb590",
   "metadata": {},
   "outputs": [
    {
     "data": {
      "text/plain": [
       "Dict{String, Any} with 1 entry:\n",
       "  \"data\" => \u001b[1m5150×20 DataFrame\u001b[0m…"
      ]
     },
     "execution_count": 3,
     "metadata": {},
     "output_type": "execute_result"
    }
   ],
   "source": [
    "# Importing .Rdata file\n",
    "rdata_read = load(\"../data/wage2015_subsample_inference.RData\")"
   ]
  },
  {
   "cell_type": "code",
   "execution_count": 4,
   "id": "13a06cdc",
   "metadata": {},
   "outputs": [
    {
     "data": {
      "text/plain": [
       "true"
      ]
     },
     "execution_count": 4,
     "metadata": {},
     "output_type": "execute_result"
    }
   ],
   "source": [
    "# Since rdata_read is a dictionary, we check if there is a key called \"data\", the one we need for our analyze\n",
    "haskey(rdata_read, \"data\")"
   ]
  },
  {
   "cell_type": "code",
   "execution_count": 5,
   "id": "2071cb1c",
   "metadata": {},
   "outputs": [
    {
     "data": {
      "text/plain": [
       "20-element Vector{String}:\n",
       " \"wage\"\n",
       " \"lwage\"\n",
       " \"sex\"\n",
       " \"shs\"\n",
       " \"hsg\"\n",
       " \"scl\"\n",
       " \"clg\"\n",
       " \"ad\"\n",
       " \"mw\"\n",
       " \"so\"\n",
       " \"we\"\n",
       " \"ne\"\n",
       " \"exp1\"\n",
       " \"exp2\"\n",
       " \"exp3\"\n",
       " \"exp4\"\n",
       " \"occ\"\n",
       " \"occ2\"\n",
       " \"ind\"\n",
       " \"ind2\""
      ]
     },
     "execution_count": 5,
     "metadata": {},
     "output_type": "execute_result"
    }
   ],
   "source": [
    "# Now we save that dataframe with a new name\n",
    "data = rdata_read[\"data\"]\n",
    "names(data)"
   ]
  },
  {
   "cell_type": "code",
   "execution_count": 6,
   "id": "d322cb6a",
   "metadata": {},
   "outputs": [
    {
     "data": {
      "text/plain": [
       "(DataFrame, (5150, 20))"
      ]
     },
     "execution_count": 6,
     "metadata": {},
     "output_type": "execute_result"
    }
   ],
   "source": [
    "typeof(data), size(data)"
   ]
  },
  {
   "cell_type": "code",
   "execution_count": 7,
   "id": "fe335568",
   "metadata": {
    "execution": {
     "iopub.execute_input": "2021-03-28T13:27:45.495647Z",
     "iopub.status.busy": "2021-03-28T13:27:45.493470Z",
     "iopub.status.idle": "2021-03-28T13:27:45.621680Z",
     "shell.execute_reply": "2021-03-28T13:27:45.620630Z"
    },
    "papermill": {
     "duration": 0.163436,
     "end_time": "2021-03-28T13:27:45.621858",
     "exception": false,
     "start_time": "2021-03-28T13:27:45.458422",
     "status": "completed"
    },
    "tags": []
   },
   "outputs": [
    {
     "data": {
      "text/html": [
       "<div class=\"data-frame\"><p>5,150 rows × 2 columns</p><table class=\"data-frame\"><thead><tr><th></th><th>lwage</th><th>wage</th></tr><tr><th></th><th title=\"Float64\">Float64</th><th title=\"Float64\">Float64</th></tr></thead><tbody><tr><th>1</th><td>2.26336</td><td>9.61538</td></tr><tr><th>2</th><td>3.8728</td><td>48.0769</td></tr><tr><th>3</th><td>2.40313</td><td>11.0577</td></tr><tr><th>4</th><td>2.63493</td><td>13.9423</td></tr><tr><th>5</th><td>3.36198</td><td>28.8462</td></tr><tr><th>6</th><td>2.46222</td><td>11.7308</td></tr><tr><th>7</th><td>2.95651</td><td>19.2308</td></tr><tr><th>8</th><td>2.95651</td><td>19.2308</td></tr><tr><th>9</th><td>2.48491</td><td>12.0</td></tr><tr><th>10</th><td>2.95651</td><td>19.2308</td></tr><tr><th>11</th><td>2.85115</td><td>17.3077</td></tr><tr><th>12</th><td>2.48651</td><td>12.0192</td></tr><tr><th>13</th><td>2.48651</td><td>12.0192</td></tr><tr><th>14</th><td>2.59984</td><td>13.4615</td></tr><tr><th>15</th><td>2.79399</td><td>16.3462</td></tr><tr><th>16</th><td>3.32808</td><td>27.8846</td></tr><tr><th>17</th><td>3.07269</td><td>21.6</td></tr><tr><th>18</th><td>2.158</td><td>8.65385</td></tr><tr><th>19</th><td>2.95651</td><td>19.2308</td></tr><tr><th>20</th><td>2.57922</td><td>13.1868</td></tr><tr><th>21</th><td>2.36872</td><td>10.6838</td></tr><tr><th>22</th><td>2.44569</td><td>11.5385</td></tr><tr><th>23</th><td>2.87855</td><td>17.7885</td></tr><tr><th>24</th><td>2.95651</td><td>19.2308</td></tr><tr><th>25</th><td>2.79143</td><td>16.3043</td></tr><tr><th>26</th><td>2.95651</td><td>19.2308</td></tr><tr><th>27</th><td>2.66883</td><td>14.4231</td></tr><tr><th>28</th><td>2.48491</td><td>12.0</td></tr><tr><th>29</th><td>2.82298</td><td>16.8269</td></tr><tr><th>30</th><td>2.97911</td><td>19.6703</td></tr><tr><th>&vellip;</th><td>&vellip;</td><td>&vellip;</td></tr></tbody></table></div>"
      ],
      "text/latex": [
       "\\begin{tabular}{r|cc}\n",
       "\t& lwage & wage\\\\\n",
       "\t\\hline\n",
       "\t& Float64 & Float64\\\\\n",
       "\t\\hline\n",
       "\t1 & 2.26336 & 9.61538 \\\\\n",
       "\t2 & 3.8728 & 48.0769 \\\\\n",
       "\t3 & 2.40313 & 11.0577 \\\\\n",
       "\t4 & 2.63493 & 13.9423 \\\\\n",
       "\t5 & 3.36198 & 28.8462 \\\\\n",
       "\t6 & 2.46222 & 11.7308 \\\\\n",
       "\t7 & 2.95651 & 19.2308 \\\\\n",
       "\t8 & 2.95651 & 19.2308 \\\\\n",
       "\t9 & 2.48491 & 12.0 \\\\\n",
       "\t10 & 2.95651 & 19.2308 \\\\\n",
       "\t11 & 2.85115 & 17.3077 \\\\\n",
       "\t12 & 2.48651 & 12.0192 \\\\\n",
       "\t13 & 2.48651 & 12.0192 \\\\\n",
       "\t14 & 2.59984 & 13.4615 \\\\\n",
       "\t15 & 2.79399 & 16.3462 \\\\\n",
       "\t16 & 3.32808 & 27.8846 \\\\\n",
       "\t17 & 3.07269 & 21.6 \\\\\n",
       "\t18 & 2.158 & 8.65385 \\\\\n",
       "\t19 & 2.95651 & 19.2308 \\\\\n",
       "\t20 & 2.57922 & 13.1868 \\\\\n",
       "\t21 & 2.36872 & 10.6838 \\\\\n",
       "\t22 & 2.44569 & 11.5385 \\\\\n",
       "\t23 & 2.87855 & 17.7885 \\\\\n",
       "\t24 & 2.95651 & 19.2308 \\\\\n",
       "\t25 & 2.79143 & 16.3043 \\\\\n",
       "\t26 & 2.95651 & 19.2308 \\\\\n",
       "\t27 & 2.66883 & 14.4231 \\\\\n",
       "\t28 & 2.48491 & 12.0 \\\\\n",
       "\t29 & 2.82298 & 16.8269 \\\\\n",
       "\t30 & 2.97911 & 19.6703 \\\\\n",
       "\t$\\dots$ & $\\dots$ & $\\dots$ \\\\\n",
       "\\end{tabular}\n"
      ],
      "text/plain": [
       "\u001b[1m5150×2 DataFrame\u001b[0m\n",
       "\u001b[1m  Row \u001b[0m│\u001b[1m lwage   \u001b[0m\u001b[1m wage     \u001b[0m\n",
       "\u001b[1m      \u001b[0m│\u001b[90m Float64 \u001b[0m\u001b[90m Float64  \u001b[0m\n",
       "──────┼───────────────────\n",
       "    1 │ 2.26336   9.61538\n",
       "    2 │ 3.8728   48.0769\n",
       "    3 │ 2.40313  11.0577\n",
       "    4 │ 2.63493  13.9423\n",
       "    5 │ 3.36198  28.8462\n",
       "    6 │ 2.46222  11.7308\n",
       "    7 │ 2.95651  19.2308\n",
       "    8 │ 2.95651  19.2308\n",
       "    9 │ 2.48491  12.0\n",
       "   10 │ 2.95651  19.2308\n",
       "   11 │ 2.85115  17.3077\n",
       "  ⋮   │    ⋮        ⋮\n",
       " 5141 │ 3.81874  45.5466\n",
       " 5142 │ 3.11778  22.5962\n",
       " 5143 │ 2.82298  16.8269\n",
       " 5144 │ 3.17966  24.0385\n",
       " 5145 │ 2.62801  13.8462\n",
       " 5146 │ 2.69255  14.7692\n",
       " 5147 │ 3.13883  23.0769\n",
       " 5148 │ 3.64966  38.4615\n",
       " 5149 │ 3.49551  32.967\n",
       " 5150 │ 2.85115  17.3077\n",
       "\u001b[36m         5129 rows omitted\u001b[0m"
      ]
     },
     "execution_count": 7,
     "metadata": {},
     "output_type": "execute_result"
    }
   ],
   "source": [
    "Z =  select(data, [\"lwage\", \"wage\"])     # regressors"
   ]
  },
  {
   "cell_type": "markdown",
   "id": "e10eb0dd",
   "metadata": {
    "papermill": {
     "duration": 0.010064,
     "end_time": "2021-03-28T13:27:45.641711",
     "exception": false,
     "start_time": "2021-03-28T13:27:45.631647",
     "status": "completed"
    },
    "tags": []
   },
   "source": [
    "Firt, we split the data first and normalize it."
   ]
  },
  {
   "cell_type": "code",
   "execution_count": 8,
   "id": "afb4e504",
   "metadata": {},
   "outputs": [
    {
     "data": {
      "text/plain": [
       "3862-element Vector{Int64}:\n",
       " 2455\n",
       " 3109\n",
       " 4807\n",
       " 3107\n",
       "  617\n",
       " 2230\n",
       " 4697\n",
       "  755\n",
       "  771\n",
       " 3729\n",
       " 2063\n",
       "  528\n",
       " 3238\n",
       "    ⋮\n",
       " 4057\n",
       "  973\n",
       " 4183\n",
       " 1230\n",
       " 3228\n",
       " 3687\n",
       " 4789\n",
       " 4060\n",
       " 2723\n",
       " 3610\n",
       "  899\n",
       " 1273"
      ]
     },
     "execution_count": 8,
     "metadata": {},
     "output_type": "execute_result"
    }
   ],
   "source": [
    "Random.seed!(1234) \n",
    "training = sample(1:nrow(data), Int(floor(nrow(data)*(3/4))), replace = false)"
   ]
  },
  {
   "cell_type": "code",
   "execution_count": 9,
   "id": "21e42da2",
   "metadata": {
    "execution": {
     "iopub.execute_input": "2021-03-28T13:27:45.690724Z",
     "iopub.status.busy": "2021-03-28T13:27:45.666767Z",
     "iopub.status.idle": "2021-03-28T13:27:45.705719Z",
     "shell.execute_reply": "2021-03-28T13:27:45.704555Z"
    },
    "papermill": {
     "duration": 0.055147,
     "end_time": "2021-03-28T13:27:45.705827",
     "exception": false,
     "start_time": "2021-03-28T13:27:45.650680",
     "status": "completed"
    },
    "tags": []
   },
   "outputs": [
    {
     "data": {
      "text/html": [
       "<div class=\"data-frame\"><p>3,862 rows × 16 columns (omitted printing of 7 columns)</p><table class=\"data-frame\"><thead><tr><th></th><th>wage</th><th>lwage</th><th>sex</th><th>shs</th><th>hsg</th><th>scl</th><th>clg</th><th>ad</th><th>mw</th></tr><tr><th></th><th title=\"Float64\">Float64</th><th title=\"Float64\">Float64</th><th title=\"Float64\">Float64</th><th title=\"Float64\">Float64</th><th title=\"Float64\">Float64</th><th title=\"Float64\">Float64</th><th title=\"Float64\">Float64</th><th title=\"Float64\">Float64</th><th title=\"Float64\">Float64</th></tr></thead><tbody><tr><th>1</th><td>12.0192</td><td>2.48651</td><td>0.0</td><td>0.0</td><td>0.0</td><td>0.0</td><td>1.0</td><td>0.0</td><td>1.0</td></tr><tr><th>2</th><td>10.2857</td><td>2.33076</td><td>0.0</td><td>0.0</td><td>1.0</td><td>0.0</td><td>0.0</td><td>0.0</td><td>0.0</td></tr><tr><th>3</th><td>10.5769</td><td>2.35867</td><td>0.0</td><td>0.0</td><td>0.0</td><td>1.0</td><td>0.0</td><td>0.0</td><td>0.0</td></tr><tr><th>4</th><td>17.3077</td><td>2.85115</td><td>1.0</td><td>0.0</td><td>0.0</td><td>1.0</td><td>0.0</td><td>0.0</td><td>0.0</td></tr><tr><th>5</th><td>25.641</td><td>3.24419</td><td>0.0</td><td>0.0</td><td>0.0</td><td>1.0</td><td>0.0</td><td>0.0</td><td>0.0</td></tr><tr><th>6</th><td>42.3077</td><td>3.74497</td><td>0.0</td><td>0.0</td><td>0.0</td><td>0.0</td><td>1.0</td><td>0.0</td><td>1.0</td></tr><tr><th>7</th><td>15.8654</td><td>2.76414</td><td>0.0</td><td>1.0</td><td>0.0</td><td>0.0</td><td>0.0</td><td>0.0</td><td>0.0</td></tr><tr><th>8</th><td>72.1154</td><td>4.27827</td><td>1.0</td><td>0.0</td><td>0.0</td><td>0.0</td><td>1.0</td><td>0.0</td><td>0.0</td></tr><tr><th>9</th><td>35.7143</td><td>3.57555</td><td>1.0</td><td>0.0</td><td>0.0</td><td>0.0</td><td>0.0</td><td>1.0</td><td>0.0</td></tr><tr><th>10</th><td>15.3846</td><td>2.73337</td><td>1.0</td><td>0.0</td><td>1.0</td><td>0.0</td><td>0.0</td><td>0.0</td><td>0.0</td></tr><tr><th>11</th><td>16.5385</td><td>2.80569</td><td>0.0</td><td>0.0</td><td>0.0</td><td>1.0</td><td>0.0</td><td>0.0</td><td>1.0</td></tr><tr><th>12</th><td>16.8269</td><td>2.82298</td><td>1.0</td><td>0.0</td><td>0.0</td><td>0.0</td><td>1.0</td><td>0.0</td><td>0.0</td></tr><tr><th>13</th><td>36.0577</td><td>3.58512</td><td>0.0</td><td>0.0</td><td>0.0</td><td>0.0</td><td>0.0</td><td>1.0</td><td>0.0</td></tr><tr><th>14</th><td>19.2308</td><td>2.95651</td><td>1.0</td><td>0.0</td><td>0.0</td><td>0.0</td><td>1.0</td><td>0.0</td><td>0.0</td></tr><tr><th>15</th><td>36.0577</td><td>3.58512</td><td>0.0</td><td>0.0</td><td>1.0</td><td>0.0</td><td>0.0</td><td>0.0</td><td>1.0</td></tr><tr><th>16</th><td>26.4423</td><td>3.27497</td><td>0.0</td><td>0.0</td><td>0.0</td><td>0.0</td><td>1.0</td><td>0.0</td><td>0.0</td></tr><tr><th>17</th><td>14.4231</td><td>2.66883</td><td>0.0</td><td>0.0</td><td>0.0</td><td>1.0</td><td>0.0</td><td>0.0</td><td>0.0</td></tr><tr><th>18</th><td>45.1923</td><td>3.81093</td><td>0.0</td><td>0.0</td><td>0.0</td><td>0.0</td><td>1.0</td><td>0.0</td><td>0.0</td></tr><tr><th>19</th><td>30.7692</td><td>3.42652</td><td>0.0</td><td>0.0</td><td>0.0</td><td>0.0</td><td>0.0</td><td>1.0</td><td>0.0</td></tr><tr><th>20</th><td>25.0</td><td>3.21888</td><td>0.0</td><td>0.0</td><td>0.0</td><td>0.0</td><td>1.0</td><td>0.0</td><td>0.0</td></tr><tr><th>21</th><td>18.4615</td><td>2.91569</td><td>1.0</td><td>0.0</td><td>0.0</td><td>0.0</td><td>1.0</td><td>0.0</td><td>0.0</td></tr><tr><th>22</th><td>8.71795</td><td>2.16538</td><td>1.0</td><td>0.0</td><td>0.0</td><td>1.0</td><td>0.0</td><td>0.0</td><td>1.0</td></tr><tr><th>23</th><td>19.2308</td><td>2.95651</td><td>0.0</td><td>0.0</td><td>1.0</td><td>0.0</td><td>0.0</td><td>0.0</td><td>0.0</td></tr><tr><th>24</th><td>13.4615</td><td>2.59984</td><td>0.0</td><td>0.0</td><td>1.0</td><td>0.0</td><td>0.0</td><td>0.0</td><td>1.0</td></tr><tr><th>25</th><td>22.5962</td><td>3.11778</td><td>0.0</td><td>0.0</td><td>1.0</td><td>0.0</td><td>0.0</td><td>0.0</td><td>1.0</td></tr><tr><th>26</th><td>10.6838</td><td>2.36872</td><td>1.0</td><td>0.0</td><td>1.0</td><td>0.0</td><td>0.0</td><td>0.0</td><td>0.0</td></tr><tr><th>27</th><td>48.0769</td><td>3.8728</td><td>0.0</td><td>0.0</td><td>0.0</td><td>0.0</td><td>1.0</td><td>0.0</td><td>0.0</td></tr><tr><th>28</th><td>23.5577</td><td>3.15945</td><td>0.0</td><td>0.0</td><td>0.0</td><td>1.0</td><td>0.0</td><td>0.0</td><td>0.0</td></tr><tr><th>29</th><td>48.7179</td><td>3.88605</td><td>0.0</td><td>0.0</td><td>0.0</td><td>0.0</td><td>0.0</td><td>1.0</td><td>0.0</td></tr><tr><th>30</th><td>14.4712</td><td>2.67216</td><td>0.0</td><td>0.0</td><td>0.0</td><td>0.0</td><td>1.0</td><td>0.0</td><td>0.0</td></tr><tr><th>&vellip;</th><td>&vellip;</td><td>&vellip;</td><td>&vellip;</td><td>&vellip;</td><td>&vellip;</td><td>&vellip;</td><td>&vellip;</td><td>&vellip;</td><td>&vellip;</td></tr></tbody></table></div>"
      ],
      "text/latex": [
       "\\begin{tabular}{r|cccccccccc}\n",
       "\t& wage & lwage & sex & shs & hsg & scl & clg & ad & mw & \\\\\n",
       "\t\\hline\n",
       "\t& Float64 & Float64 & Float64 & Float64 & Float64 & Float64 & Float64 & Float64 & Float64 & \\\\\n",
       "\t\\hline\n",
       "\t1 & 12.0192 & 2.48651 & 0.0 & 0.0 & 0.0 & 0.0 & 1.0 & 0.0 & 1.0 & $\\dots$ \\\\\n",
       "\t2 & 10.2857 & 2.33076 & 0.0 & 0.0 & 1.0 & 0.0 & 0.0 & 0.0 & 0.0 & $\\dots$ \\\\\n",
       "\t3 & 10.5769 & 2.35867 & 0.0 & 0.0 & 0.0 & 1.0 & 0.0 & 0.0 & 0.0 & $\\dots$ \\\\\n",
       "\t4 & 17.3077 & 2.85115 & 1.0 & 0.0 & 0.0 & 1.0 & 0.0 & 0.0 & 0.0 & $\\dots$ \\\\\n",
       "\t5 & 25.641 & 3.24419 & 0.0 & 0.0 & 0.0 & 1.0 & 0.0 & 0.0 & 0.0 & $\\dots$ \\\\\n",
       "\t6 & 42.3077 & 3.74497 & 0.0 & 0.0 & 0.0 & 0.0 & 1.0 & 0.0 & 1.0 & $\\dots$ \\\\\n",
       "\t7 & 15.8654 & 2.76414 & 0.0 & 1.0 & 0.0 & 0.0 & 0.0 & 0.0 & 0.0 & $\\dots$ \\\\\n",
       "\t8 & 72.1154 & 4.27827 & 1.0 & 0.0 & 0.0 & 0.0 & 1.0 & 0.0 & 0.0 & $\\dots$ \\\\\n",
       "\t9 & 35.7143 & 3.57555 & 1.0 & 0.0 & 0.0 & 0.0 & 0.0 & 1.0 & 0.0 & $\\dots$ \\\\\n",
       "\t10 & 15.3846 & 2.73337 & 1.0 & 0.0 & 1.0 & 0.0 & 0.0 & 0.0 & 0.0 & $\\dots$ \\\\\n",
       "\t11 & 16.5385 & 2.80569 & 0.0 & 0.0 & 0.0 & 1.0 & 0.0 & 0.0 & 1.0 & $\\dots$ \\\\\n",
       "\t12 & 16.8269 & 2.82298 & 1.0 & 0.0 & 0.0 & 0.0 & 1.0 & 0.0 & 0.0 & $\\dots$ \\\\\n",
       "\t13 & 36.0577 & 3.58512 & 0.0 & 0.0 & 0.0 & 0.0 & 0.0 & 1.0 & 0.0 & $\\dots$ \\\\\n",
       "\t14 & 19.2308 & 2.95651 & 1.0 & 0.0 & 0.0 & 0.0 & 1.0 & 0.0 & 0.0 & $\\dots$ \\\\\n",
       "\t15 & 36.0577 & 3.58512 & 0.0 & 0.0 & 1.0 & 0.0 & 0.0 & 0.0 & 1.0 & $\\dots$ \\\\\n",
       "\t16 & 26.4423 & 3.27497 & 0.0 & 0.0 & 0.0 & 0.0 & 1.0 & 0.0 & 0.0 & $\\dots$ \\\\\n",
       "\t17 & 14.4231 & 2.66883 & 0.0 & 0.0 & 0.0 & 1.0 & 0.0 & 0.0 & 0.0 & $\\dots$ \\\\\n",
       "\t18 & 45.1923 & 3.81093 & 0.0 & 0.0 & 0.0 & 0.0 & 1.0 & 0.0 & 0.0 & $\\dots$ \\\\\n",
       "\t19 & 30.7692 & 3.42652 & 0.0 & 0.0 & 0.0 & 0.0 & 0.0 & 1.0 & 0.0 & $\\dots$ \\\\\n",
       "\t20 & 25.0 & 3.21888 & 0.0 & 0.0 & 0.0 & 0.0 & 1.0 & 0.0 & 0.0 & $\\dots$ \\\\\n",
       "\t21 & 18.4615 & 2.91569 & 1.0 & 0.0 & 0.0 & 0.0 & 1.0 & 0.0 & 0.0 & $\\dots$ \\\\\n",
       "\t22 & 8.71795 & 2.16538 & 1.0 & 0.0 & 0.0 & 1.0 & 0.0 & 0.0 & 1.0 & $\\dots$ \\\\\n",
       "\t23 & 19.2308 & 2.95651 & 0.0 & 0.0 & 1.0 & 0.0 & 0.0 & 0.0 & 0.0 & $\\dots$ \\\\\n",
       "\t24 & 13.4615 & 2.59984 & 0.0 & 0.0 & 1.0 & 0.0 & 0.0 & 0.0 & 1.0 & $\\dots$ \\\\\n",
       "\t25 & 22.5962 & 3.11778 & 0.0 & 0.0 & 1.0 & 0.0 & 0.0 & 0.0 & 1.0 & $\\dots$ \\\\\n",
       "\t26 & 10.6838 & 2.36872 & 1.0 & 0.0 & 1.0 & 0.0 & 0.0 & 0.0 & 0.0 & $\\dots$ \\\\\n",
       "\t27 & 48.0769 & 3.8728 & 0.0 & 0.0 & 0.0 & 0.0 & 1.0 & 0.0 & 0.0 & $\\dots$ \\\\\n",
       "\t28 & 23.5577 & 3.15945 & 0.0 & 0.0 & 0.0 & 1.0 & 0.0 & 0.0 & 0.0 & $\\dots$ \\\\\n",
       "\t29 & 48.7179 & 3.88605 & 0.0 & 0.0 & 0.0 & 0.0 & 0.0 & 1.0 & 0.0 & $\\dots$ \\\\\n",
       "\t30 & 14.4712 & 2.67216 & 0.0 & 0.0 & 0.0 & 0.0 & 1.0 & 0.0 & 0.0 & $\\dots$ \\\\\n",
       "\t$\\dots$ & $\\dots$ & $\\dots$ & $\\dots$ & $\\dots$ & $\\dots$ & $\\dots$ & $\\dots$ & $\\dots$ & $\\dots$ &  \\\\\n",
       "\\end{tabular}\n"
      ],
      "text/plain": [
       "\u001b[1m3862×16 DataFrame\u001b[0m\n",
       "\u001b[1m  Row \u001b[0m│\u001b[1m wage     \u001b[0m\u001b[1m lwage   \u001b[0m\u001b[1m sex     \u001b[0m\u001b[1m shs     \u001b[0m\u001b[1m hsg     \u001b[0m\u001b[1m scl     \u001b[0m\u001b[1m clg     \u001b[0m\u001b[1m ad    \u001b[0m ⋯\n",
       "\u001b[1m      \u001b[0m│\u001b[90m Float64  \u001b[0m\u001b[90m Float64 \u001b[0m\u001b[90m Float64 \u001b[0m\u001b[90m Float64 \u001b[0m\u001b[90m Float64 \u001b[0m\u001b[90m Float64 \u001b[0m\u001b[90m Float64 \u001b[0m\u001b[90m Float6\u001b[0m ⋯\n",
       "──────┼─────────────────────────────────────────────────────────────────────────\n",
       "    1 │ 12.0192   2.48651      0.0      0.0      0.0      0.0      1.0      0. ⋯\n",
       "    2 │ 10.2857   2.33076      0.0      0.0      1.0      0.0      0.0      0.\n",
       "    3 │ 10.5769   2.35867      0.0      0.0      0.0      1.0      0.0      0.\n",
       "    4 │ 17.3077   2.85115      1.0      0.0      0.0      1.0      0.0      0.\n",
       "    5 │ 25.641    3.24419      0.0      0.0      0.0      1.0      0.0      0. ⋯\n",
       "    6 │ 42.3077   3.74497      0.0      0.0      0.0      0.0      1.0      0.\n",
       "    7 │ 15.8654   2.76414      0.0      1.0      0.0      0.0      0.0      0.\n",
       "    8 │ 72.1154   4.27827      1.0      0.0      0.0      0.0      1.0      0.\n",
       "    9 │ 35.7143   3.57555      1.0      0.0      0.0      0.0      0.0      1. ⋯\n",
       "   10 │ 15.3846   2.73337      1.0      0.0      1.0      0.0      0.0      0.\n",
       "   11 │ 16.5385   2.80569      0.0      0.0      0.0      1.0      0.0      0.\n",
       "  ⋮   │    ⋮         ⋮        ⋮        ⋮        ⋮        ⋮        ⋮        ⋮   ⋱\n",
       " 3853 │ 24.0385   3.17966      0.0      0.0      0.0      0.0      1.0      0.\n",
       " 3854 │ 12.9808   2.56347      1.0      0.0      1.0      0.0      0.0      0. ⋯\n",
       " 3855 │ 13.4615   2.59984      0.0      0.0      0.0      0.0      1.0      0.\n",
       " 3856 │  7.69231  2.04022      0.0      0.0      0.0      1.0      0.0      0.\n",
       " 3857 │ 16.8269   2.82298      0.0      0.0      0.0      0.0      1.0      0.\n",
       " 3858 │ 28.8462   3.36198      0.0      0.0      0.0      0.0      1.0      0. ⋯\n",
       " 3859 │ 62.5      4.13517      0.0      0.0      0.0      0.0      0.0      1.\n",
       " 3860 │ 20.6731   3.02883      0.0      0.0      1.0      0.0      0.0      0.\n",
       " 3861 │ 19.2308   2.95651      1.0      0.0      0.0      0.0      0.0      1.\n",
       " 3862 │  5.97756  1.78801      1.0      0.0      1.0      0.0      0.0      0. ⋯\n",
       "\u001b[36m                                                 9 columns and 3841 rows omitted\u001b[0m"
      ]
     },
     "execution_count": 9,
     "metadata": {},
     "output_type": "execute_result"
    }
   ],
   "source": [
    "data_train = data[training,1:16]\n",
    "data_test = data[Not(training),1:16]\n",
    "data_train"
   ]
  },
  {
   "cell_type": "code",
   "execution_count": 10,
   "id": "40f72bca",
   "metadata": {},
   "outputs": [
    {
     "data": {
      "text/plain": [
       "((3862, 16), (1288, 16))"
      ]
     },
     "execution_count": 10,
     "metadata": {},
     "output_type": "execute_result"
    }
   ],
   "source": [
    "size(data_train), size(data_test)"
   ]
  },
  {
   "cell_type": "code",
   "execution_count": 11,
   "id": "77eebee2",
   "metadata": {},
   "outputs": [
    {
     "data": {
      "text/plain": [
       "16×2 Matrix{Any}:\n",
       " \"wage\"   23.3849\n",
       " \"lwage\"   2.97164\n",
       " \"sex\"     0.44407\n",
       " \"shs\"     0.0222683\n",
       " \"hsg\"     0.24754\n",
       " \"scl\"     0.283014\n",
       " \"clg\"     0.310979\n",
       " \"ad\"      0.136199\n",
       " \"mw\"      0.262558\n",
       " \"so\"      0.296737\n",
       " \"we\"      0.215691\n",
       " \"ne\"      0.225013\n",
       " \"exp1\"   13.6699\n",
       " \"exp2\"    2.97307\n",
       " \"exp3\"    8.05316\n",
       " \"exp4\"   24.4216"
      ]
     },
     "execution_count": 11,
     "metadata": {},
     "output_type": "execute_result"
    }
   ],
   "source": [
    "# normalize the data\n",
    "\n",
    "mean_1 = mean.(eachcol(data_train))\n",
    "mean_1 = [names(data_train) mean_1]"
   ]
  },
  {
   "cell_type": "code",
   "execution_count": 12,
   "id": "7253fe8b",
   "metadata": {
    "execution": {
     "iopub.execute_input": "2021-03-28T13:27:45.728578Z",
     "iopub.status.busy": "2021-03-28T13:27:45.727077Z",
     "iopub.status.idle": "2021-03-28T13:27:45.755489Z",
     "shell.execute_reply": "2021-03-28T13:27:45.754247Z"
    },
    "papermill": {
     "duration": 0.040664,
     "end_time": "2021-03-28T13:27:45.755600",
     "exception": false,
     "start_time": "2021-03-28T13:27:45.714936",
     "status": "completed"
    },
    "tags": []
   },
   "outputs": [
    {
     "data": {
      "text/plain": [
       "16×2 Matrix{Any}:\n",
       " \"wage\"   20.445\n",
       " \"lwage\"   0.566839\n",
       " \"sex\"     0.496926\n",
       " \"shs\"     0.147574\n",
       " \"hsg\"     0.431639\n",
       " \"scl\"     0.450522\n",
       " \"clg\"     0.462954\n",
       " \"ad\"      0.343044\n",
       " \"mw\"      0.440081\n",
       " \"so\"      0.456879\n",
       " \"we\"      0.411354\n",
       " \"ne\"      0.417645\n",
       " \"exp1\"   10.5105\n",
       " \"exp2\"    3.94797\n",
       " \"exp3\"   14.2448\n",
       " \"exp4\"   52.4952"
      ]
     },
     "execution_count": 12,
     "metadata": {},
     "output_type": "execute_result"
    }
   ],
   "source": [
    "std_1 = std.(eachcol(data_train))\n",
    "std_1 = [names(data_train) std_1]"
   ]
  },
  {
   "cell_type": "code",
   "execution_count": 13,
   "id": "0874361d",
   "metadata": {},
   "outputs": [
    {
     "data": {
      "text/html": [
       "<div class=\"data-frame\"><p>3,862 rows × 16 columns (omitted printing of 8 columns)</p><table class=\"data-frame\"><thead><tr><th></th><th>wage</th><th>lwage</th><th>sex</th><th>shs</th><th>hsg</th><th>scl</th><th>clg</th><th>ad</th></tr><tr><th></th><th title=\"Float64\">Float64</th><th title=\"Float64\">Float64</th><th title=\"Float64\">Float64</th><th title=\"Float64\">Float64</th><th title=\"Float64\">Float64</th><th title=\"Float64\">Float64</th><th title=\"Float64\">Float64</th><th title=\"Float64\">Float64</th></tr></thead><tbody><tr><th>1</th><td>-0.555914</td><td>-0.855849</td><td>-0.893634</td><td>-0.150896</td><td>-0.573489</td><td>-0.628192</td><td>1.48831</td><td>-0.39703</td></tr><tr><th>2</th><td>-0.640703</td><td>-1.13062</td><td>-0.893634</td><td>-0.150896</td><td>1.74326</td><td>-0.628192</td><td>-0.671727</td><td>-0.39703</td></tr><tr><th>3</th><td>-0.62646</td><td>-1.08137</td><td>-0.893634</td><td>-0.150896</td><td>-0.573489</td><td>1.59146</td><td>-0.671727</td><td>-0.39703</td></tr><tr><th>4</th><td>-0.297246</td><td>-0.212557</td><td>1.11874</td><td>-0.150896</td><td>-0.573489</td><td>1.59146</td><td>-0.671727</td><td>-0.39703</td></tr><tr><th>5</th><td>0.110351</td><td>0.480836</td><td>-0.893634</td><td>-0.150896</td><td>-0.573489</td><td>1.59146</td><td>-0.671727</td><td>-0.39703</td></tr><tr><th>6</th><td>0.925545</td><td>1.36429</td><td>-0.893634</td><td>-0.150896</td><td>-0.573489</td><td>-0.628192</td><td>1.48831</td><td>-0.39703</td></tr><tr><th>7</th><td>-0.367792</td><td>-0.36606</td><td>-0.893634</td><td>6.62538</td><td>-0.573489</td><td>-0.628192</td><td>-0.671727</td><td>-0.39703</td></tr><tr><th>8</th><td>2.38349</td><td>2.30512</td><td>1.11874</td><td>-0.150896</td><td>-0.573489</td><td>-0.628192</td><td>1.48831</td><td>-0.39703</td></tr><tr><th>9</th><td>0.603051</td><td>1.06541</td><td>1.11874</td><td>-0.150896</td><td>-0.573489</td><td>-0.628192</td><td>-0.671727</td><td>2.51805</td></tr><tr><th>10</th><td>-0.391307</td><td>-0.420346</td><td>1.11874</td><td>-0.150896</td><td>1.74326</td><td>-0.628192</td><td>-0.671727</td><td>-0.39703</td></tr><tr><th>11</th><td>-0.334871</td><td>-0.292761</td><td>-0.893634</td><td>-0.150896</td><td>-0.573489</td><td>1.59146</td><td>-0.671727</td><td>-0.39703</td></tr><tr><th>12</th><td>-0.320762</td><td>-0.262255</td><td>1.11874</td><td>-0.150896</td><td>-0.573489</td><td>-0.628192</td><td>1.48831</td><td>-0.39703</td></tr><tr><th>13</th><td>0.619847</td><td>1.08229</td><td>-0.893634</td><td>-0.150896</td><td>-0.573489</td><td>-0.628192</td><td>-0.671727</td><td>2.51805</td></tr><tr><th>14</th><td>-0.203185</td><td>-0.0266836</td><td>1.11874</td><td>-0.150896</td><td>-0.573489</td><td>-0.628192</td><td>1.48831</td><td>-0.39703</td></tr><tr><th>15</th><td>0.619847</td><td>1.08229</td><td>-0.893634</td><td>-0.150896</td><td>1.74326</td><td>-0.628192</td><td>-0.671727</td><td>-0.39703</td></tr><tr><th>16</th><td>0.149543</td><td>0.535122</td><td>-0.893634</td><td>-0.150896</td><td>-0.573489</td><td>-0.628192</td><td>1.48831</td><td>-0.39703</td></tr><tr><th>17</th><td>-0.438338</td><td>-0.534203</td><td>-0.893634</td><td>-0.150896</td><td>-0.573489</td><td>1.59146</td><td>-0.671727</td><td>-0.39703</td></tr><tr><th>18</th><td>1.06664</td><td>1.48065</td><td>-0.893634</td><td>-0.150896</td><td>-0.573489</td><td>-0.628192</td><td>1.48831</td><td>-0.39703</td></tr><tr><th>19</th><td>0.36118</td><td>0.802482</td><td>-0.893634</td><td>-0.150896</td><td>-0.573489</td><td>-0.628192</td><td>-0.671727</td><td>2.51805</td></tr><tr><th>20</th><td>0.0789973</td><td>0.436171</td><td>-0.893634</td><td>-0.150896</td><td>-0.573489</td><td>-0.628192</td><td>1.48831</td><td>-0.39703</td></tr><tr><th>21</th><td>-0.24081</td><td>-0.0987005</td><td>1.11874</td><td>-0.150896</td><td>-0.573489</td><td>-0.628192</td><td>1.48831</td><td>-0.39703</td></tr><tr><th>22</th><td>-0.717385</td><td>-1.42237</td><td>1.11874</td><td>-0.150896</td><td>-0.573489</td><td>1.59146</td><td>-0.671727</td><td>-0.39703</td></tr><tr><th>23</th><td>-0.203185</td><td>-0.0266836</td><td>-0.893634</td><td>-0.150896</td><td>1.74326</td><td>-0.628192</td><td>-0.671727</td><td>-0.39703</td></tr><tr><th>24</th><td>-0.485368</td><td>-0.655918</td><td>-0.893634</td><td>-0.150896</td><td>1.74326</td><td>-0.628192</td><td>-0.671727</td><td>-0.39703</td></tr><tr><th>25</th><td>-0.0385788</td><td>0.257821</td><td>-0.893634</td><td>-0.150896</td><td>1.74326</td><td>-0.628192</td><td>-0.671727</td><td>-0.39703</td></tr><tr><th>26</th><td>-0.621234</td><td>-1.06364</td><td>1.11874</td><td>-0.150896</td><td>1.74326</td><td>-0.628192</td><td>-0.671727</td><td>-0.39703</td></tr><tr><th>27</th><td>1.20773</td><td>1.58981</td><td>-0.893634</td><td>-0.150896</td><td>-0.573489</td><td>-0.628192</td><td>1.48831</td><td>-0.39703</td></tr><tr><th>28</th><td>0.00845161</td><td>0.331338</td><td>-0.893634</td><td>-0.150896</td><td>-0.573489</td><td>1.59146</td><td>-0.671727</td><td>-0.39703</td></tr><tr><th>29</th><td>1.23908</td><td>1.61317</td><td>-0.893634</td><td>-0.150896</td><td>-0.573489</td><td>-0.628192</td><td>-0.671727</td><td>2.51805</td></tr><tr><th>30</th><td>-0.435986</td><td>-0.528332</td><td>-0.893634</td><td>-0.150896</td><td>-0.573489</td><td>-0.628192</td><td>1.48831</td><td>-0.39703</td></tr><tr><th>&vellip;</th><td>&vellip;</td><td>&vellip;</td><td>&vellip;</td><td>&vellip;</td><td>&vellip;</td><td>&vellip;</td><td>&vellip;</td><td>&vellip;</td></tr></tbody></table></div>"
      ],
      "text/latex": [
       "\\begin{tabular}{r|ccccccccc}\n",
       "\t& wage & lwage & sex & shs & hsg & scl & clg & ad & \\\\\n",
       "\t\\hline\n",
       "\t& Float64 & Float64 & Float64 & Float64 & Float64 & Float64 & Float64 & Float64 & \\\\\n",
       "\t\\hline\n",
       "\t1 & -0.555914 & -0.855849 & -0.893634 & -0.150896 & -0.573489 & -0.628192 & 1.48831 & -0.39703 & $\\dots$ \\\\\n",
       "\t2 & -0.640703 & -1.13062 & -0.893634 & -0.150896 & 1.74326 & -0.628192 & -0.671727 & -0.39703 & $\\dots$ \\\\\n",
       "\t3 & -0.62646 & -1.08137 & -0.893634 & -0.150896 & -0.573489 & 1.59146 & -0.671727 & -0.39703 & $\\dots$ \\\\\n",
       "\t4 & -0.297246 & -0.212557 & 1.11874 & -0.150896 & -0.573489 & 1.59146 & -0.671727 & -0.39703 & $\\dots$ \\\\\n",
       "\t5 & 0.110351 & 0.480836 & -0.893634 & -0.150896 & -0.573489 & 1.59146 & -0.671727 & -0.39703 & $\\dots$ \\\\\n",
       "\t6 & 0.925545 & 1.36429 & -0.893634 & -0.150896 & -0.573489 & -0.628192 & 1.48831 & -0.39703 & $\\dots$ \\\\\n",
       "\t7 & -0.367792 & -0.36606 & -0.893634 & 6.62538 & -0.573489 & -0.628192 & -0.671727 & -0.39703 & $\\dots$ \\\\\n",
       "\t8 & 2.38349 & 2.30512 & 1.11874 & -0.150896 & -0.573489 & -0.628192 & 1.48831 & -0.39703 & $\\dots$ \\\\\n",
       "\t9 & 0.603051 & 1.06541 & 1.11874 & -0.150896 & -0.573489 & -0.628192 & -0.671727 & 2.51805 & $\\dots$ \\\\\n",
       "\t10 & -0.391307 & -0.420346 & 1.11874 & -0.150896 & 1.74326 & -0.628192 & -0.671727 & -0.39703 & $\\dots$ \\\\\n",
       "\t11 & -0.334871 & -0.292761 & -0.893634 & -0.150896 & -0.573489 & 1.59146 & -0.671727 & -0.39703 & $\\dots$ \\\\\n",
       "\t12 & -0.320762 & -0.262255 & 1.11874 & -0.150896 & -0.573489 & -0.628192 & 1.48831 & -0.39703 & $\\dots$ \\\\\n",
       "\t13 & 0.619847 & 1.08229 & -0.893634 & -0.150896 & -0.573489 & -0.628192 & -0.671727 & 2.51805 & $\\dots$ \\\\\n",
       "\t14 & -0.203185 & -0.0266836 & 1.11874 & -0.150896 & -0.573489 & -0.628192 & 1.48831 & -0.39703 & $\\dots$ \\\\\n",
       "\t15 & 0.619847 & 1.08229 & -0.893634 & -0.150896 & 1.74326 & -0.628192 & -0.671727 & -0.39703 & $\\dots$ \\\\\n",
       "\t16 & 0.149543 & 0.535122 & -0.893634 & -0.150896 & -0.573489 & -0.628192 & 1.48831 & -0.39703 & $\\dots$ \\\\\n",
       "\t17 & -0.438338 & -0.534203 & -0.893634 & -0.150896 & -0.573489 & 1.59146 & -0.671727 & -0.39703 & $\\dots$ \\\\\n",
       "\t18 & 1.06664 & 1.48065 & -0.893634 & -0.150896 & -0.573489 & -0.628192 & 1.48831 & -0.39703 & $\\dots$ \\\\\n",
       "\t19 & 0.36118 & 0.802482 & -0.893634 & -0.150896 & -0.573489 & -0.628192 & -0.671727 & 2.51805 & $\\dots$ \\\\\n",
       "\t20 & 0.0789973 & 0.436171 & -0.893634 & -0.150896 & -0.573489 & -0.628192 & 1.48831 & -0.39703 & $\\dots$ \\\\\n",
       "\t21 & -0.24081 & -0.0987005 & 1.11874 & -0.150896 & -0.573489 & -0.628192 & 1.48831 & -0.39703 & $\\dots$ \\\\\n",
       "\t22 & -0.717385 & -1.42237 & 1.11874 & -0.150896 & -0.573489 & 1.59146 & -0.671727 & -0.39703 & $\\dots$ \\\\\n",
       "\t23 & -0.203185 & -0.0266836 & -0.893634 & -0.150896 & 1.74326 & -0.628192 & -0.671727 & -0.39703 & $\\dots$ \\\\\n",
       "\t24 & -0.485368 & -0.655918 & -0.893634 & -0.150896 & 1.74326 & -0.628192 & -0.671727 & -0.39703 & $\\dots$ \\\\\n",
       "\t25 & -0.0385788 & 0.257821 & -0.893634 & -0.150896 & 1.74326 & -0.628192 & -0.671727 & -0.39703 & $\\dots$ \\\\\n",
       "\t26 & -0.621234 & -1.06364 & 1.11874 & -0.150896 & 1.74326 & -0.628192 & -0.671727 & -0.39703 & $\\dots$ \\\\\n",
       "\t27 & 1.20773 & 1.58981 & -0.893634 & -0.150896 & -0.573489 & -0.628192 & 1.48831 & -0.39703 & $\\dots$ \\\\\n",
       "\t28 & 0.00845161 & 0.331338 & -0.893634 & -0.150896 & -0.573489 & 1.59146 & -0.671727 & -0.39703 & $\\dots$ \\\\\n",
       "\t29 & 1.23908 & 1.61317 & -0.893634 & -0.150896 & -0.573489 & -0.628192 & -0.671727 & 2.51805 & $\\dots$ \\\\\n",
       "\t30 & -0.435986 & -0.528332 & -0.893634 & -0.150896 & -0.573489 & -0.628192 & 1.48831 & -0.39703 & $\\dots$ \\\\\n",
       "\t$\\dots$ & $\\dots$ & $\\dots$ & $\\dots$ & $\\dots$ & $\\dots$ & $\\dots$ & $\\dots$ & $\\dots$ &  \\\\\n",
       "\\end{tabular}\n"
      ],
      "text/plain": [
       "\u001b[1m3862×16 DataFrame\u001b[0m\n",
       "\u001b[1m  Row \u001b[0m│\u001b[1m wage       \u001b[0m\u001b[1m lwage      \u001b[0m\u001b[1m sex       \u001b[0m\u001b[1m shs       \u001b[0m\u001b[1m hsg       \u001b[0m\u001b[1m scl       \u001b[0m\u001b[1m cl\u001b[0m ⋯\n",
       "\u001b[1m      \u001b[0m│\u001b[90m Float64    \u001b[0m\u001b[90m Float64    \u001b[0m\u001b[90m Float64   \u001b[0m\u001b[90m Float64   \u001b[0m\u001b[90m Float64   \u001b[0m\u001b[90m Float64   \u001b[0m\u001b[90m Fl\u001b[0m ⋯\n",
       "──────┼─────────────────────────────────────────────────────────────────────────\n",
       "    1 │ -0.555914   -0.855849   -0.893634  -0.150896  -0.573489  -0.628192   1 ⋯\n",
       "    2 │ -0.640703   -1.13062    -0.893634  -0.150896   1.74326   -0.628192  -0\n",
       "    3 │ -0.62646    -1.08137    -0.893634  -0.150896  -0.573489   1.59146   -0\n",
       "    4 │ -0.297246   -0.212557    1.11874   -0.150896  -0.573489   1.59146   -0\n",
       "    5 │  0.110351    0.480836   -0.893634  -0.150896  -0.573489   1.59146   -0 ⋯\n",
       "    6 │  0.925545    1.36429    -0.893634  -0.150896  -0.573489  -0.628192   1\n",
       "    7 │ -0.367792   -0.36606    -0.893634   6.62538   -0.573489  -0.628192  -0\n",
       "    8 │  2.38349     2.30512     1.11874   -0.150896  -0.573489  -0.628192   1\n",
       "    9 │  0.603051    1.06541     1.11874   -0.150896  -0.573489  -0.628192  -0 ⋯\n",
       "   10 │ -0.391307   -0.420346    1.11874   -0.150896   1.74326   -0.628192  -0\n",
       "   11 │ -0.334871   -0.292761   -0.893634  -0.150896  -0.573489   1.59146   -0\n",
       "  ⋮   │     ⋮           ⋮           ⋮          ⋮          ⋮          ⋮         ⋱\n",
       " 3853 │  0.0319668   0.366979   -0.893634  -0.150896  -0.573489  -0.628192   1\n",
       " 3854 │ -0.508883   -0.720077    1.11874   -0.150896   1.74326   -0.628192  -0 ⋯\n",
       " 3855 │ -0.485368   -0.655918   -0.893634  -0.150896  -0.573489  -0.628192   1\n",
       " 3856 │ -0.767551   -1.64317    -0.893634  -0.150896  -0.573489   1.59146   -0\n",
       " 3857 │ -0.320762   -0.262255   -0.893634  -0.150896  -0.573489  -0.628192   1\n",
       " 3858 │  0.267119    0.688625   -0.893634  -0.150896  -0.573489  -0.628192   1 ⋯\n",
       " 3859 │  1.91318     2.05266    -0.893634  -0.150896  -0.573489  -0.628192  -0\n",
       " 3860 │ -0.13264     0.100902   -0.893634  -0.150896   1.74326   -0.628192  -0\n",
       " 3861 │ -0.203185   -0.0266836   1.11874   -0.150896  -0.573489  -0.628192  -0\n",
       " 3862 │ -0.851422   -2.08811     1.11874   -0.150896   1.74326   -0.628192  -0 ⋯\n",
       "\u001b[36m                                                10 columns and 3841 rows omitted\u001b[0m"
      ]
     },
     "execution_count": 13,
     "metadata": {},
     "output_type": "execute_result"
    }
   ],
   "source": [
    "df = DataFrame()\n",
    "for i in 1:size(data_train)[2]\n",
    "     p = (data_train[!, i] .- mean_1[i,2]) / std_1[i,2]\n",
    "     colname = names(data_train)[i]\n",
    "     df[!,colname] = p\n",
    "end\n",
    "data_train = df\n",
    "data_train"
   ]
  },
  {
   "cell_type": "code",
   "execution_count": 14,
   "id": "890fd8e9",
   "metadata": {},
   "outputs": [
    {
     "data": {
      "text/html": [
       "<div class=\"data-frame\"><p>1,288 rows × 16 columns (omitted printing of 9 columns)</p><table class=\"data-frame\"><thead><tr><th></th><th>wage</th><th>lwage</th><th>sex</th><th>shs</th><th>hsg</th><th>scl</th><th>clg</th></tr><tr><th></th><th title=\"Float64\">Float64</th><th title=\"Float64\">Float64</th><th title=\"Float64\">Float64</th><th title=\"Float64\">Float64</th><th title=\"Float64\">Float64</th><th title=\"Float64\">Float64</th><th title=\"Float64\">Float64</th></tr></thead><tbody><tr><th>1</th><td>-0.67349</td><td>-1.24951</td><td>1.11874</td><td>-0.150896</td><td>-0.573489</td><td>-0.628192</td><td>1.48831</td></tr><tr><th>2</th><td>-0.461853</td><td>-0.594011</td><td>1.11874</td><td>-0.150896</td><td>-0.573489</td><td>-0.628192</td><td>-0.671727</td></tr><tr><th>3</th><td>-0.555914</td><td>-0.855849</td><td>1.11874</td><td>-0.150896</td><td>-0.573489</td><td>1.59146</td><td>-0.671727</td></tr><tr><th>4</th><td>-0.498805</td><td>-0.692294</td><td>-0.893634</td><td>-0.150896</td><td>1.74326</td><td>-0.628192</td><td>-0.671727</td></tr><tr><th>5</th><td>-0.273731</td><td>-0.164221</td><td>1.11874</td><td>-0.150896</td><td>-0.573489</td><td>-0.628192</td><td>-0.671727</td></tr><tr><th>6</th><td>-0.346322</td><td>-0.317912</td><td>1.11874</td><td>-0.150896</td><td>-0.573489</td><td>1.59146</td><td>-0.671727</td></tr><tr><th>7</th><td>-0.556854</td><td>-0.858674</td><td>-0.893634</td><td>-0.150896</td><td>-0.573489</td><td>1.59146</td><td>-0.671727</td></tr><tr><th>8</th><td>-0.181686</td><td>0.0131863</td><td>-0.893634</td><td>-0.150896</td><td>-0.573489</td><td>-0.628192</td><td>1.48831</td></tr><tr><th>9</th><td>-0.558527</td><td>-0.863707</td><td>1.11874</td><td>-0.150896</td><td>1.74326</td><td>-0.628192</td><td>-0.671727</td></tr><tr><th>10</th><td>0.0319668</td><td>0.366979</td><td>1.11874</td><td>-0.150896</td><td>-0.573489</td><td>-0.628192</td><td>1.48831</td></tr><tr><th>11</th><td>0.871796</td><td>1.31786</td><td>1.11874</td><td>-0.150896</td><td>-0.573489</td><td>-0.628192</td><td>1.48831</td></tr><tr><th>12</th><td>-0.649975</td><td>-1.16344</td><td>-0.893634</td><td>-0.150896</td><td>1.74326</td><td>-0.628192</td><td>-0.671727</td></tr><tr><th>13</th><td>-0.791066</td><td>-1.75703</td><td>1.11874</td><td>-0.150896</td><td>-0.573489</td><td>1.59146</td><td>-0.671727</td></tr><tr><th>14</th><td>-0.511021</td><td>-0.726027</td><td>-0.893634</td><td>-0.150896</td><td>-0.573489</td><td>1.59146</td><td>-0.671727</td></tr><tr><th>15</th><td>-0.0432819</td><td>0.250297</td><td>1.11874</td><td>-0.150896</td><td>-0.573489</td><td>-0.628192</td><td>-0.671727</td></tr><tr><th>16</th><td>0.518677</td><td>0.978069</td><td>-0.893634</td><td>-0.150896</td><td>-0.573489</td><td>-0.628192</td><td>1.48831</td></tr><tr><th>17</th><td>-0.00249603</td><td>0.314496</td><td>-0.893634</td><td>-0.150896</td><td>-0.573489</td><td>-0.628192</td><td>1.48831</td></tr><tr><th>18</th><td>-0.848174</td><td>-2.06862</td><td>-0.893634</td><td>-0.150896</td><td>-0.573489</td><td>-0.628192</td><td>1.48831</td></tr><tr><th>19</th><td>-0.67349</td><td>-1.24951</td><td>-0.893634</td><td>-0.150896</td><td>1.74326</td><td>-0.628192</td><td>-0.671727</td></tr><tr><th>20</th><td>-0.725746</td><td>-1.4573</td><td>-0.893634</td><td>6.62538</td><td>-0.573489</td><td>-0.628192</td><td>-0.671727</td></tr><tr><th>21</th><td>-0.555914</td><td>-0.855849</td><td>1.11874</td><td>-0.150896</td><td>1.74326</td><td>-0.628192</td><td>-0.671727</td></tr><tr><th>22</th><td>-0.320762</td><td>-0.262255</td><td>-0.893634</td><td>-0.150896</td><td>-0.573489</td><td>1.59146</td><td>-0.671727</td></tr><tr><th>23</th><td>-0.0856093</td><td>0.181105</td><td>-0.893634</td><td>-0.150896</td><td>-0.573489</td><td>-0.628192</td><td>1.48831</td></tr><tr><th>24</th><td>-0.979188</td><td>-3.10157</td><td>-0.893634</td><td>-0.150896</td><td>-0.573489</td><td>-0.628192</td><td>1.48831</td></tr><tr><th>25</th><td>-0.203185</td><td>-0.0266836</td><td>-0.893634</td><td>-0.150896</td><td>-0.573489</td><td>1.59146</td><td>-0.671727</td></tr><tr><th>26</th><td>-0.256935</td><td>-0.130488</td><td>-0.893634</td><td>-0.150896</td><td>-0.573489</td><td>-0.628192</td><td>1.48831</td></tr><tr><th>27</th><td>-0.67349</td><td>-1.24951</td><td>1.11874</td><td>-0.150896</td><td>-0.573489</td><td>1.59146</td><td>-0.671727</td></tr><tr><th>28</th><td>-0.0620941</td><td>0.21988</td><td>1.11874</td><td>-0.150896</td><td>-0.573489</td><td>-0.628192</td><td>1.48831</td></tr><tr><th>29</th><td>-0.41221</td><td>-0.470044</td><td>1.11874</td><td>-0.150896</td><td>-0.573489</td><td>-0.628192</td><td>1.48831</td></tr><tr><th>30</th><td>-0.602944</td><td>-1.00295</td><td>-0.893634</td><td>-0.150896</td><td>-0.573489</td><td>-0.628192</td><td>1.48831</td></tr><tr><th>&vellip;</th><td>&vellip;</td><td>&vellip;</td><td>&vellip;</td><td>&vellip;</td><td>&vellip;</td><td>&vellip;</td><td>&vellip;</td></tr></tbody></table></div>"
      ],
      "text/latex": [
       "\\begin{tabular}{r|cccccccc}\n",
       "\t& wage & lwage & sex & shs & hsg & scl & clg & \\\\\n",
       "\t\\hline\n",
       "\t& Float64 & Float64 & Float64 & Float64 & Float64 & Float64 & Float64 & \\\\\n",
       "\t\\hline\n",
       "\t1 & -0.67349 & -1.24951 & 1.11874 & -0.150896 & -0.573489 & -0.628192 & 1.48831 & $\\dots$ \\\\\n",
       "\t2 & -0.461853 & -0.594011 & 1.11874 & -0.150896 & -0.573489 & -0.628192 & -0.671727 & $\\dots$ \\\\\n",
       "\t3 & -0.555914 & -0.855849 & 1.11874 & -0.150896 & -0.573489 & 1.59146 & -0.671727 & $\\dots$ \\\\\n",
       "\t4 & -0.498805 & -0.692294 & -0.893634 & -0.150896 & 1.74326 & -0.628192 & -0.671727 & $\\dots$ \\\\\n",
       "\t5 & -0.273731 & -0.164221 & 1.11874 & -0.150896 & -0.573489 & -0.628192 & -0.671727 & $\\dots$ \\\\\n",
       "\t6 & -0.346322 & -0.317912 & 1.11874 & -0.150896 & -0.573489 & 1.59146 & -0.671727 & $\\dots$ \\\\\n",
       "\t7 & -0.556854 & -0.858674 & -0.893634 & -0.150896 & -0.573489 & 1.59146 & -0.671727 & $\\dots$ \\\\\n",
       "\t8 & -0.181686 & 0.0131863 & -0.893634 & -0.150896 & -0.573489 & -0.628192 & 1.48831 & $\\dots$ \\\\\n",
       "\t9 & -0.558527 & -0.863707 & 1.11874 & -0.150896 & 1.74326 & -0.628192 & -0.671727 & $\\dots$ \\\\\n",
       "\t10 & 0.0319668 & 0.366979 & 1.11874 & -0.150896 & -0.573489 & -0.628192 & 1.48831 & $\\dots$ \\\\\n",
       "\t11 & 0.871796 & 1.31786 & 1.11874 & -0.150896 & -0.573489 & -0.628192 & 1.48831 & $\\dots$ \\\\\n",
       "\t12 & -0.649975 & -1.16344 & -0.893634 & -0.150896 & 1.74326 & -0.628192 & -0.671727 & $\\dots$ \\\\\n",
       "\t13 & -0.791066 & -1.75703 & 1.11874 & -0.150896 & -0.573489 & 1.59146 & -0.671727 & $\\dots$ \\\\\n",
       "\t14 & -0.511021 & -0.726027 & -0.893634 & -0.150896 & -0.573489 & 1.59146 & -0.671727 & $\\dots$ \\\\\n",
       "\t15 & -0.0432819 & 0.250297 & 1.11874 & -0.150896 & -0.573489 & -0.628192 & -0.671727 & $\\dots$ \\\\\n",
       "\t16 & 0.518677 & 0.978069 & -0.893634 & -0.150896 & -0.573489 & -0.628192 & 1.48831 & $\\dots$ \\\\\n",
       "\t17 & -0.00249603 & 0.314496 & -0.893634 & -0.150896 & -0.573489 & -0.628192 & 1.48831 & $\\dots$ \\\\\n",
       "\t18 & -0.848174 & -2.06862 & -0.893634 & -0.150896 & -0.573489 & -0.628192 & 1.48831 & $\\dots$ \\\\\n",
       "\t19 & -0.67349 & -1.24951 & -0.893634 & -0.150896 & 1.74326 & -0.628192 & -0.671727 & $\\dots$ \\\\\n",
       "\t20 & -0.725746 & -1.4573 & -0.893634 & 6.62538 & -0.573489 & -0.628192 & -0.671727 & $\\dots$ \\\\\n",
       "\t21 & -0.555914 & -0.855849 & 1.11874 & -0.150896 & 1.74326 & -0.628192 & -0.671727 & $\\dots$ \\\\\n",
       "\t22 & -0.320762 & -0.262255 & -0.893634 & -0.150896 & -0.573489 & 1.59146 & -0.671727 & $\\dots$ \\\\\n",
       "\t23 & -0.0856093 & 0.181105 & -0.893634 & -0.150896 & -0.573489 & -0.628192 & 1.48831 & $\\dots$ \\\\\n",
       "\t24 & -0.979188 & -3.10157 & -0.893634 & -0.150896 & -0.573489 & -0.628192 & 1.48831 & $\\dots$ \\\\\n",
       "\t25 & -0.203185 & -0.0266836 & -0.893634 & -0.150896 & -0.573489 & 1.59146 & -0.671727 & $\\dots$ \\\\\n",
       "\t26 & -0.256935 & -0.130488 & -0.893634 & -0.150896 & -0.573489 & -0.628192 & 1.48831 & $\\dots$ \\\\\n",
       "\t27 & -0.67349 & -1.24951 & 1.11874 & -0.150896 & -0.573489 & 1.59146 & -0.671727 & $\\dots$ \\\\\n",
       "\t28 & -0.0620941 & 0.21988 & 1.11874 & -0.150896 & -0.573489 & -0.628192 & 1.48831 & $\\dots$ \\\\\n",
       "\t29 & -0.41221 & -0.470044 & 1.11874 & -0.150896 & -0.573489 & -0.628192 & 1.48831 & $\\dots$ \\\\\n",
       "\t30 & -0.602944 & -1.00295 & -0.893634 & -0.150896 & -0.573489 & -0.628192 & 1.48831 & $\\dots$ \\\\\n",
       "\t$\\dots$ & $\\dots$ & $\\dots$ & $\\dots$ & $\\dots$ & $\\dots$ & $\\dots$ & $\\dots$ &  \\\\\n",
       "\\end{tabular}\n"
      ],
      "text/plain": [
       "\u001b[1m1288×16 DataFrame\u001b[0m\n",
       "\u001b[1m  Row \u001b[0m│\u001b[1m wage       \u001b[0m\u001b[1m lwage      \u001b[0m\u001b[1m sex       \u001b[0m\u001b[1m shs       \u001b[0m\u001b[1m hsg       \u001b[0m\u001b[1m scl       \u001b[0m\u001b[1m cl\u001b[0m ⋯\n",
       "\u001b[1m      \u001b[0m│\u001b[90m Float64    \u001b[0m\u001b[90m Float64    \u001b[0m\u001b[90m Float64   \u001b[0m\u001b[90m Float64   \u001b[0m\u001b[90m Float64   \u001b[0m\u001b[90m Float64   \u001b[0m\u001b[90m Fl\u001b[0m ⋯\n",
       "──────┼─────────────────────────────────────────────────────────────────────────\n",
       "    1 │ -0.67349    -1.24951     1.11874   -0.150896  -0.573489  -0.628192   1 ⋯\n",
       "    2 │ -0.461853   -0.594011    1.11874   -0.150896  -0.573489  -0.628192  -0\n",
       "    3 │ -0.555914   -0.855849    1.11874   -0.150896  -0.573489   1.59146   -0\n",
       "    4 │ -0.498805   -0.692294   -0.893634  -0.150896   1.74326   -0.628192  -0\n",
       "    5 │ -0.273731   -0.164221    1.11874   -0.150896  -0.573489  -0.628192  -0 ⋯\n",
       "    6 │ -0.346322   -0.317912    1.11874   -0.150896  -0.573489   1.59146   -0\n",
       "    7 │ -0.556854   -0.858674   -0.893634  -0.150896  -0.573489   1.59146   -0\n",
       "    8 │ -0.181686    0.0131863  -0.893634  -0.150896  -0.573489  -0.628192   1\n",
       "    9 │ -0.558527   -0.863707    1.11874   -0.150896   1.74326   -0.628192  -0 ⋯\n",
       "   10 │  0.0319668   0.366979    1.11874   -0.150896  -0.573489  -0.628192   1\n",
       "   11 │  0.871796    1.31786     1.11874   -0.150896  -0.573489  -0.628192   1\n",
       "  ⋮   │     ⋮           ⋮           ⋮          ⋮          ⋮          ⋮         ⋱\n",
       " 1279 │ -0.226701   -0.0713485   1.11874   -0.150896  -0.573489  -0.628192   1\n",
       " 1280 │ -0.375986   -0.384787    1.11874   -0.150896   1.74326   -0.628192  -0 ⋯\n",
       " 1281 │ -0.67349    -1.24951    -0.893634  -0.150896   1.74326   -0.628192  -0\n",
       " 1282 │ -0.555914   -0.855849   -0.893634  -0.150896  -0.573489   1.59146   -0\n",
       " 1283 │  0.149543    0.535122    1.11874   -0.150896  -0.573489  -0.628192   1\n",
       " 1284 │ -0.0385788   0.257821   -0.893634  -0.150896   1.74326   -0.628192  -0 ⋯\n",
       " 1285 │ -0.466556   -0.60622    -0.893634  -0.150896  -0.573489  -0.628192   1\n",
       " 1286 │ -0.421407   -0.492363   -0.893634  -0.150896  -0.573489  -0.628192   1\n",
       " 1287 │  0.737424    1.19614    -0.893634  -0.150896  -0.573489  -0.628192  -0\n",
       " 1288 │  0.468678    0.924197   -0.893634  -0.150896   1.74326   -0.628192  -0 ⋯\n",
       "\u001b[36m                                                10 columns and 1267 rows omitted\u001b[0m"
      ]
     },
     "execution_count": 14,
     "metadata": {},
     "output_type": "execute_result"
    }
   ],
   "source": [
    "df = DataFrame()\n",
    "for i in 1:size(data_test)[2]\n",
    "     p = (data_test[!, i] .- mean_1[i,2]) / std_1[i,2]\n",
    "     colname = names(data_test)[i]\n",
    "     df[!,colname] = p\n",
    "end\n",
    "data_test = df\n",
    "data_test"
   ]
  },
  {
   "cell_type": "code",
   "execution_count": 15,
   "id": "c5b3bb4b",
   "metadata": {},
   "outputs": [
    {
     "data": {
      "text/plain": [
       "(DataFrame, DataFrame)"
      ]
     },
     "execution_count": 15,
     "metadata": {},
     "output_type": "execute_result"
    }
   ],
   "source": [
    "typeof(data_train), typeof(data_test)"
   ]
  },
  {
   "cell_type": "markdown",
   "id": "7c18f2ed",
   "metadata": {
    "papermill": {
     "duration": 0.009183,
     "end_time": "2021-03-28T13:27:45.774239",
     "exception": false,
     "start_time": "2021-03-28T13:27:45.765056",
     "status": "completed"
    },
    "tags": []
   },
   "source": [
    "Then, we construct the inputs for our network."
   ]
  },
  {
   "cell_type": "code",
   "execution_count": 16,
   "id": "05c4cdb4",
   "metadata": {
    "execution": {
     "iopub.execute_input": "2021-03-28T13:27:45.796900Z",
     "iopub.status.busy": "2021-03-28T13:27:45.795499Z",
     "iopub.status.idle": "2021-03-28T13:27:45.816633Z",
     "shell.execute_reply": "2021-03-28T13:27:45.815366Z"
    },
    "papermill": {
     "duration": 0.033096,
     "end_time": "2021-03-28T13:27:45.816740",
     "exception": false,
     "start_time": "2021-03-28T13:27:45.783644",
     "status": "completed"
    },
    "tags": []
   },
   "outputs": [
    {
     "name": "stdout",
     "output_type": "stream",
     "text": [
      "lwage ~ sex + exp1 + shs + hsg + scl + clg + mw + so + we\n"
     ]
    }
   ],
   "source": [
    "formula_basic = @formula(lwage ~ sex + exp1 + shs + hsg+ scl + clg + mw + so + we)\n",
    "println(formula_basic)"
   ]
  },
  {
   "cell_type": "code",
   "execution_count": 17,
   "id": "400c4047",
   "metadata": {},
   "outputs": [
    {
     "data": {
      "text/plain": [
       "1288×10 Matrix{Float64}:\n",
       " 1.0   1.11874   -0.634592   -0.150896  …  -0.596613  -0.649488  -0.524344\n",
       " 1.0   1.11874    1.07799    -0.150896     -0.596613  -0.649488  -0.524344\n",
       " 1.0   1.11874   -0.777306   -0.150896     -0.596613  -0.649488  -0.524344\n",
       " 1.0  -0.893634  -0.539448   -0.150896     -0.596613  -0.649488  -0.524344\n",
       " 1.0   1.11874   -0.254019   -0.150896     -0.596613  -0.649488  -0.524344\n",
       " 1.0   1.11874    1.03041    -0.150896  …  -0.596613  -0.649488  -0.524344\n",
       " 1.0  -0.893634  -0.87245    -0.150896     -0.596613  -0.649488  -0.524344\n",
       " 1.0  -0.893634   1.17313    -0.150896     -0.596613  -0.649488  -0.524344\n",
       " 1.0   1.11874    0.0314105  -0.150896     -0.596613  -0.649488  -0.524344\n",
       " 1.0   1.11874    1.64884    -0.150896     -0.596613  -0.649488  -0.524344\n",
       " 1.0   1.11874   -0.254019   -0.150896  …  -0.596613  -0.649488  -0.524344\n",
       " 1.0  -0.893634   1.26827    -0.150896     -0.596613  -0.649488  -0.524344\n",
       " 1.0   1.11874    0.364412   -0.150896     -0.596613  -0.649488  -0.524344\n",
       " ⋮                                      ⋱                        \n",
       " 1.0  -0.893634   0.792556   -0.150896     -0.596613  -0.649488   1.90665\n",
       " 1.0  -0.893634  -0.349162   -0.150896     -0.596613  -0.649488   1.90665\n",
       " 1.0   1.11874   -1.11031    -0.150896     -0.596613  -0.649488   1.90665\n",
       " 1.0   1.11874    2.50513    -0.150896     -0.596613  -0.649488   1.90665\n",
       " 1.0  -0.893634   0.60227    -0.150896  …  -0.596613  -0.649488   1.90665\n",
       " 1.0  -0.893634   1.69642    -0.150896     -0.596613  -0.649488   1.90665\n",
       " 1.0   1.11874    1.93427    -0.150896     -0.596613  -0.649488   1.90665\n",
       " 1.0  -0.893634   0.126554   -0.150896     -0.596613  -0.649488   1.90665\n",
       " 1.0  -0.893634  -0.349162   -0.150896     -0.596613  -0.649488   1.90665\n",
       " 1.0  -0.893634  -0.444305   -0.150896  …  -0.596613  -0.649488   1.90665\n",
       " 1.0  -0.893634  -0.254019   -0.150896     -0.596613  -0.649488   1.90665\n",
       " 1.0  -0.893634  -0.349162   -0.150896     -0.596613  -0.649488   1.90665"
      ]
     },
     "execution_count": 17,
     "metadata": {},
     "output_type": "execute_result"
    }
   ],
   "source": [
    "model_X_basic_train = ModelMatrix(ModelFrame(formula_basic, data_train)).m\n",
    "model_X_basic_test = ModelMatrix(ModelFrame(formula_basic, data_test)).m"
   ]
  },
  {
   "cell_type": "code",
   "execution_count": 255,
   "id": "4beb9413",
   "metadata": {
    "execution": {
     "iopub.execute_input": "2021-03-28T13:27:45.796900Z",
     "iopub.status.busy": "2021-03-28T13:27:45.795499Z",
     "iopub.status.idle": "2021-03-28T13:27:45.816633Z",
     "shell.execute_reply": "2021-03-28T13:27:45.815366Z"
    },
    "papermill": {
     "duration": 0.033096,
     "end_time": "2021-03-28T13:27:45.816740",
     "exception": false,
     "start_time": "2021-03-28T13:27:45.783644",
     "status": "completed"
    },
    "tags": []
   },
   "outputs": [
    {
     "data": {
      "text/plain": [
       "1288-element Vector{Float64}:\n",
       " -1.2495116701816313\n",
       " -0.5940111369079969\n",
       " -0.8558489593188235\n",
       " -0.6922940066202594\n",
       " -0.16422085652454593\n",
       " -0.3179120121732921\n",
       " -0.8586738886527183\n",
       "  0.013186299642166738\n",
       " -0.8637071816306149\n",
       "  0.36697911041067455\n",
       "  1.3178594848348544\n",
       " -1.1634376242266362\n",
       " -1.7570311742901377\n",
       "  ⋮\n",
       " -1.2495116701816313\n",
       "  0.43617103718140365\n",
       " -0.07134846692710259\n",
       " -0.3847866913343217\n",
       " -1.2495116701816313\n",
       " -0.8558489593188235\n",
       "  0.5351222789388115\n",
       "  0.25782050367552267\n",
       " -0.6062199606652643\n",
       " -0.4923631674195659\n",
       "  1.1961444692773646\n",
       "  0.9241967739720466"
      ]
     },
     "execution_count": 255,
     "metadata": {},
     "output_type": "execute_result"
    }
   ],
   "source": [
    "Y_train = data_train[!,\"lwage\"]\n",
    "Y_test = data_test[!,\"lwage\"]"
   ]
  },
  {
   "cell_type": "code",
   "execution_count": 19,
   "id": "ce44819e",
   "metadata": {
    "scrolled": true
   },
   "outputs": [],
   "source": [
    "# df = DataFrame()\n",
    "# for i in 1:size(data_train)[2]\n",
    "#      p = normalize(data_train[!,i])\n",
    "#      colname = names(data_train)[i]\n",
    "#      df[!,colname] = p\n",
    "# end\n",
    "# df\n",
    "# # data_test = df\n",
    "# # data_test\n"
   ]
  },
  {
   "cell_type": "code",
   "execution_count": 20,
   "id": "b00c68fc",
   "metadata": {},
   "outputs": [],
   "source": [
    "# normalize(data_train[!,])"
   ]
  },
  {
   "cell_type": "code",
   "execution_count": 19,
   "id": "5ccdb936",
   "metadata": {},
   "outputs": [
    {
     "data": {
      "text/plain": [
       "(3862,)"
      ]
     },
     "execution_count": 19,
     "metadata": {},
     "output_type": "execute_result"
    }
   ],
   "source": [
    "size(Y_train)"
   ]
  },
  {
   "cell_type": "code",
   "execution_count": 20,
   "id": "e0866842",
   "metadata": {},
   "outputs": [
    {
     "data": {
      "text/plain": [
       "3862×10 Matrix{Float64}:\n",
       " 1.0  -0.893634   1.07799    -0.150896  …   1.67569   -0.649488  -0.524344\n",
       " 1.0  -0.893634  -0.444305   -0.150896     -0.596613   1.53928   -0.524344\n",
       " 1.0  -0.893634   1.12556    -0.150896     -0.596613  -0.649488   1.90665\n",
       " 1.0   1.11874   -0.920021   -0.150896     -0.596613   1.53928   -0.524344\n",
       " 1.0  -0.893634   2.17213    -0.150896     -0.596613  -0.649488  -0.524344\n",
       " 1.0  -0.893634  -0.158876   -0.150896  …   1.67569   -0.649488  -0.524344\n",
       " 1.0  -0.893634   0.411983    6.62538      -0.596613  -0.649488   1.90665\n",
       " 1.0   1.11874   -0.444305   -0.150896     -0.596613  -0.649488  -0.524344\n",
       " 1.0   1.11874   -1.20545    -0.150896     -0.596613  -0.649488  -0.524344\n",
       " 1.0   1.11874   -0.349162   -0.150896     -0.596613   1.53928   -0.524344\n",
       " 1.0  -0.893634   0.935271   -0.150896  …   1.67569   -0.649488  -0.524344\n",
       " 1.0   1.11874    0.507126   -0.150896     -0.596613  -0.649488  -0.524344\n",
       " 1.0  -0.893634   0.697413   -0.150896     -0.596613   1.53928   -0.524344\n",
       " ⋮                                      ⋱                        \n",
       " 1.0   1.11874   -0.444305   -0.150896  …  -0.596613  -0.649488   1.90665\n",
       " 1.0  -0.893634   0.697413   -0.150896     -0.596613  -0.649488  -0.524344\n",
       " 1.0  -0.893634  -0.920021   -0.150896     -0.596613  -0.649488   1.90665\n",
       " 1.0   1.11874   -0.824878   -0.150896      1.67569   -0.649488  -0.524344\n",
       " 1.0  -0.893634  -0.824878   -0.150896     -0.596613   1.53928   -0.524344\n",
       " 1.0  -0.893634  -0.87245    -0.150896  …  -0.596613   1.53928   -0.524344\n",
       " 1.0  -0.893634  -0.539448   -0.150896     -0.596613  -0.649488   1.90665\n",
       " 1.0  -0.893634  -1.01516    -0.150896     -0.596613  -0.649488   1.90665\n",
       " 1.0  -0.893634  -0.444305   -0.150896     -0.596613   1.53928   -0.524344\n",
       " 1.0  -0.893634  -0.0637326  -0.150896     -0.596613   1.53928   -0.524344\n",
       " 1.0   1.11874   -1.20545    -0.150896  …  -0.596613  -0.649488  -0.524344\n",
       " 1.0   1.11874   -0.254019   -0.150896      1.67569   -0.649488  -0.524344"
      ]
     },
     "execution_count": 20,
     "metadata": {},
     "output_type": "execute_result"
    }
   ],
   "source": [
    "model_X_basic_train"
   ]
  },
  {
   "cell_type": "markdown",
   "id": "280dfd18",
   "metadata": {
    "papermill": {
     "duration": 0.009282,
     "end_time": "2021-03-28T13:27:45.835468",
     "exception": false,
     "start_time": "2021-03-28T13:27:45.826186",
     "status": "completed"
    },
    "tags": []
   },
   "source": [
    "### Neural Networks"
   ]
  },
  {
   "cell_type": "markdown",
   "id": "20aa3214",
   "metadata": {
    "papermill": {
     "duration": 0.00955,
     "end_time": "2021-03-28T13:27:45.854659",
     "exception": false,
     "start_time": "2021-03-28T13:27:45.845109",
     "status": "completed"
    },
    "tags": []
   },
   "source": [
    "First, we need to determine the structure of our network. We are using the R package *keras* to build a simple sequential neural network with three dense layers."
   ]
  },
  {
   "cell_type": "code",
   "execution_count": 245,
   "id": "ce75852f",
   "metadata": {},
   "outputs": [
    {
     "data": {
      "text/plain": [
       "(3862, 10)"
      ]
     },
     "execution_count": 245,
     "metadata": {},
     "output_type": "execute_result"
    }
   ],
   "source": [
    "size(model_X_basic_train)"
   ]
  },
  {
   "cell_type": "code",
   "execution_count": 22,
   "id": "2b0fd813",
   "metadata": {
    "scrolled": true
   },
   "outputs": [],
   "source": [
    "using Flux\n",
    "using Flux: crossentropy, @epochs\n",
    "using Flux.Data: DataLoader\n",
    "using Flux: throttle\n",
    "using Flux: onehotbatch, onecold, @epochs\n",
    "using Flux.Losses: logitcrossentropy"
   ]
  },
  {
   "cell_type": "code",
   "execution_count": 440,
   "id": "d6354e70",
   "metadata": {},
   "outputs": [
    {
     "data": {
      "text/plain": [
       "Chain(\n",
       "  Dense(10, 20, relu),                  \u001b[90m# 220 parameters\u001b[39m\n",
       "  Dense(20, 10, relu),                  \u001b[90m# 210 parameters\u001b[39m\n",
       "  Dense(10, 1),                         \u001b[90m# 11 parameters\u001b[39m\n",
       ")\u001b[90m                   # Total: 6 arrays, \u001b[39m441 parameters, 2.098 KiB."
      ]
     },
     "execution_count": 440,
     "metadata": {},
     "output_type": "execute_result"
    }
   ],
   "source": [
    "model_nn = Chain(Dense(size(model_X_basic_train,2), 20, relu), \n",
    "              Dense(20, size(model_X_basic_train,2), relu),\n",
    "              Dense(10, 1))"
   ]
  },
  {
   "cell_type": "code",
   "execution_count": 441,
   "id": "c2535e3c",
   "metadata": {},
   "outputs": [
    {
     "data": {
      "text/plain": [
       "metrics (generic function with 1 method)"
      ]
     },
     "execution_count": 441,
     "metadata": {},
     "output_type": "execute_result"
    }
   ],
   "source": [
    "# compile the Flux model\n",
    "model = model_nn\n",
    "opt(x, y) = Descent(0.005)\n",
    "loss(x, y) = Flux.mse(model(x), y)\n",
    "metrics(x, y) = Flux.mae(model(x), y)"
   ]
  },
  {
   "cell_type": "code",
   "execution_count": 442,
   "id": "bf28ad71",
   "metadata": {},
   "outputs": [
    {
     "data": {
      "text/plain": [
       "Params([Float32[-0.25111067 -0.3757823 … -0.1473076 0.3521537; 0.42798513 0.3700503 … 0.3036116 0.19931784; … ; 0.036239695 -0.30873626 … 0.28635088 -0.19830182; -0.14650546 0.34841874 … 0.39160222 0.24425294], Float32[0.0, 0.0, 0.0, 0.0, 0.0, 0.0, 0.0, 0.0, 0.0, 0.0, 0.0, 0.0, 0.0, 0.0, 0.0, 0.0, 0.0, 0.0, 0.0, 0.0], Float32[0.13819562 -0.3400847 … 0.37363726 0.14196904; -0.31572184 0.019194778 … -0.27546597 -0.35728145; … ; 0.106541075 0.18728927 … -0.33954594 -0.12612492; 0.16880514 -0.29279855 … 0.31470498 0.23400776], Float32[0.0, 0.0, 0.0, 0.0, 0.0, 0.0, 0.0, 0.0, 0.0, 0.0], Float32[0.10326645 -0.65172416 … -0.0044566807 0.23394632], Float32[0.0]])"
      ]
     },
     "execution_count": 442,
     "metadata": {},
     "output_type": "execute_result"
    }
   ],
   "source": [
    "ps = Flux.params(model)"
   ]
  },
  {
   "cell_type": "markdown",
   "id": "fa50e0d2",
   "metadata": {
    "papermill": {
     "duration": 0.009512,
     "end_time": "2021-03-28T13:27:46.843449",
     "exception": false,
     "start_time": "2021-03-28T13:27:46.833937",
     "status": "completed"
    },
    "tags": []
   },
   "source": [
    "Let us have a look at the structure of our network in detail."
   ]
  },
  {
   "cell_type": "code",
   "execution_count": 443,
   "id": "67041385",
   "metadata": {},
   "outputs": [
    {
     "data": {
      "text/plain": [
       "Chain(\n",
       "  Dense(10, 20, relu),                  \u001b[90m# 220 parameters\u001b[39m\n",
       "  Dense(20, 10, relu),                  \u001b[90m# 210 parameters\u001b[39m\n",
       "  Dense(10, 1),                         \u001b[90m# 11 parameters\u001b[39m\n",
       ")\u001b[90m                   # Total: 6 arrays, \u001b[39m441 parameters, 2.098 KiB."
      ]
     },
     "execution_count": 443,
     "metadata": {},
     "output_type": "execute_result"
    }
   ],
   "source": [
    "model"
   ]
  },
  {
   "cell_type": "markdown",
   "id": "46d24251",
   "metadata": {
    "papermill": {
     "duration": 0.009881,
     "end_time": "2021-03-28T13:27:55.891253",
     "exception": false,
     "start_time": "2021-03-28T13:27:55.881372",
     "status": "completed"
    },
    "tags": []
   },
   "source": [
    "It is worth to notice that we have in total $441$ trainable parameters."
   ]
  },
  {
   "cell_type": "markdown",
   "id": "56f6067a",
   "metadata": {
    "papermill": {
     "duration": 0.009739,
     "end_time": "2021-03-28T13:27:55.910957",
     "exception": false,
     "start_time": "2021-03-28T13:27:55.901218",
     "status": "completed"
    },
    "tags": []
   },
   "source": [
    "Now, let us train the network. Note that this takes some computation time. Thus, we are using gpu to speed up. The exact speed-up varies based on a number of factors including model architecture, batch-size, input pipeline complexity, etc."
   ]
  },
  {
   "cell_type": "code",
   "execution_count": 425,
   "id": "b1052cbf",
   "metadata": {},
   "outputs": [],
   "source": [
    "# m1 = zeros(size(model_X_basic_train, 1), size(model_X_basic_train, 2) - 1 )\n",
    "# Y_train = hcat(Y_train, m1)"
   ]
  },
  {
   "cell_type": "code",
   "execution_count": 445,
   "id": "67fafed0",
   "metadata": {
    "scrolled": true
   },
   "outputs": [
    {
     "data": {
      "text/plain": [
       "1.2804131600906046"
      ]
     },
     "execution_count": 445,
     "metadata": {},
     "output_type": "execute_result"
    }
   ],
   "source": [
    "loss(model_X_basic_train', Y_train)"
   ]
  },
  {
   "cell_type": "code",
   "execution_count": 446,
   "id": "efcf8607",
   "metadata": {},
   "outputs": [
    {
     "data": {
      "text/plain": [
       "Descent(0.005)"
      ]
     },
     "execution_count": 446,
     "metadata": {},
     "output_type": "execute_result"
    }
   ],
   "source": [
    "opt(model_X_basic_train', Y_train)"
   ]
  },
  {
   "cell_type": "code",
   "execution_count": 447,
   "id": "0f9a8970",
   "metadata": {
    "scrolled": true
   },
   "outputs": [
    {
     "data": {
      "text/plain": [
       "DataLoader{Tuple{Adjoint{Float64, Matrix{Float64}}, Vector{Float64}}, Random._GLOBAL_RNG}(([1.0 1.0 … 1.0 1.0; -0.8936342512056518 -0.8936342512056518 … 1.1187362899933146 1.1187362899933146; … ; -0.6494880907521049 1.5392754402117947 … -0.6494880907521049 -0.6494880907521049; -0.5243443952053061 -0.5243443952053061 … -0.5243443952053061 -0.5243443952053061], [-0.8558489593188235, -1.1306215839580365, -1.0813685016534944, -0.21255724980245638, 0.4808359036563729, 1.3642876378055016, -0.36605993603250264, 2.3051157457611646, 1.0654055568474003, -0.4203463113149412  …  0.36697911041067455, -0.7200767539109626, -0.65591812011813, -1.6431743810444392, -0.2622554092553222, 0.6886249651688577, 2.05266181777371, 0.10090219587114307, -0.026683600452133343, -2.0881111049638306]), 1, 3862, true, 3862, [1, 2, 3, 4, 5, 6, 7, 8, 9, 10  …  3853, 3854, 3855, 3856, 3857, 3858, 3859, 3860, 3861, 3862], false, Random._GLOBAL_RNG())"
      ]
     },
     "execution_count": 447,
     "metadata": {},
     "output_type": "execute_result"
    }
   ],
   "source": [
    "data = DataLoader((model_X_basic_train', Y_train))"
   ]
  },
  {
   "cell_type": "code",
   "execution_count": 448,
   "id": "56fa1e5f",
   "metadata": {
    "scrolled": true
   },
   "outputs": [
    {
     "name": "stderr",
     "output_type": "stream",
     "text": [
      "┌ Info: Epoch 1\n",
      "└ @ Main C:\\Users\\sandr\\.julia\\packages\\Flux\\qAdFM\\src\\optimise\\train.jl:143\n"
     ]
    },
    {
     "ename": "LoadError",
     "evalue": "MethodError: no method matching apply!(::typeof(opt), ::Matrix{Float32}, ::Matrix{Float64})\n\u001b[0mClosest candidates are:\n\u001b[0m  apply!(\u001b[91m::ClipNorm\u001b[39m, ::Any, ::Any) at C:\\Users\\sandr\\.julia\\packages\\Flux\\qAdFM\\src\\optimise\\optimisers.jl:700\n\u001b[0m  apply!(\u001b[91m::ClipValue\u001b[39m, ::Any, ::Any) at C:\\Users\\sandr\\.julia\\packages\\Flux\\qAdFM\\src\\optimise\\optimisers.jl:689\n\u001b[0m  apply!(\u001b[91m::Nesterov\u001b[39m, ::Any, ::Any) at C:\\Users\\sandr\\.julia\\packages\\Flux\\qAdFM\\src\\optimise\\optimisers.jl:104\n\u001b[0m  ...",
     "output_type": "error",
     "traceback": [
      "MethodError: no method matching apply!(::typeof(opt), ::Matrix{Float32}, ::Matrix{Float64})\n\u001b[0mClosest candidates are:\n\u001b[0m  apply!(\u001b[91m::ClipNorm\u001b[39m, ::Any, ::Any) at C:\\Users\\sandr\\.julia\\packages\\Flux\\qAdFM\\src\\optimise\\optimisers.jl:700\n\u001b[0m  apply!(\u001b[91m::ClipValue\u001b[39m, ::Any, ::Any) at C:\\Users\\sandr\\.julia\\packages\\Flux\\qAdFM\\src\\optimise\\optimisers.jl:689\n\u001b[0m  apply!(\u001b[91m::Nesterov\u001b[39m, ::Any, ::Any) at C:\\Users\\sandr\\.julia\\packages\\Flux\\qAdFM\\src\\optimise\\optimisers.jl:104\n\u001b[0m  ...",
      "",
      "Stacktrace:",
      "  [1] update!(opt::Function, x::Matrix{Float32}, x̄::Matrix{Float64})",
      "    @ Flux.Optimise C:\\Users\\sandr\\.julia\\packages\\Flux\\qAdFM\\src\\optimise\\train.jl:26",
      "  [2] update!(opt::Function, xs::Zygote.Params, gs::Zygote.Grads)",
      "    @ Flux.Optimise C:\\Users\\sandr\\.julia\\packages\\Flux\\qAdFM\\src\\optimise\\train.jl:32",
      "  [3] macro expansion",
      "    @ C:\\Users\\sandr\\.julia\\packages\\Flux\\qAdFM\\src\\optimise\\train.jl:112 [inlined]",
      "  [4] macro expansion",
      "    @ C:\\Users\\sandr\\.julia\\packages\\Juno\\n6wyj\\src\\progress.jl:134 [inlined]",
      "  [5] train!(loss::Function, ps::Zygote.Params, data::DataLoader{Tuple{Adjoint{Float64, Matrix{Float64}}, Vector{Float64}}, Random._GLOBAL_RNG}, opt::Function; cb::Flux.Optimise.var\"#40#46\")",
      "    @ Flux.Optimise C:\\Users\\sandr\\.julia\\packages\\Flux\\qAdFM\\src\\optimise\\train.jl:107",
      "  [6] train!(loss::Function, ps::Zygote.Params, data::DataLoader{Tuple{Adjoint{Float64, Matrix{Float64}}, Vector{Float64}}, Random._GLOBAL_RNG}, opt::Function)",
      "    @ Flux.Optimise C:\\Users\\sandr\\.julia\\packages\\Flux\\qAdFM\\src\\optimise\\train.jl:105",
      "  [7] macro expansion",
      "    @ C:\\Users\\sandr\\.julia\\packages\\Flux\\qAdFM\\src\\optimise\\train.jl:144 [inlined]",
      "  [8] top-level scope",
      "    @ C:\\Users\\sandr\\.julia\\packages\\Juno\\n6wyj\\src\\progress.jl:134",
      "  [9] eval",
      "    @ .\\boot.jl:360 [inlined]",
      " [10] include_string(mapexpr::typeof(REPL.softscope), mod::Module, code::String, filename::String)",
      "    @ Base .\\loading.jl:1116"
     ]
    }
   ],
   "source": [
    "# training the network \n",
    "\n",
    "# @epochs 1000 Flux.train!(loss, ps, data, opt, cb = throttle(() -> println(\"training\"), 10))\n",
    "@epochs 1000 Flux.train!(loss, ps, data, opt)"
   ]
  },
  {
   "cell_type": "markdown",
   "id": "aa1deb53",
   "metadata": {},
   "source": [
    "After training the neural network, we can evaluate the performance of our model on the test sample."
   ]
  },
  {
   "cell_type": "code",
   "execution_count": null,
   "id": "4c010e0e",
   "metadata": {
    "execution": {
     "iopub.execute_input": "2021-03-28T13:29:15.427188Z",
     "iopub.status.busy": "2021-03-28T13:29:15.425758Z",
     "iopub.status.idle": "2021-03-28T13:29:15.613538Z",
     "shell.execute_reply": "2021-03-28T13:29:15.612330Z"
    },
    "papermill": {
     "duration": 0.201132,
     "end_time": "2021-03-28T13:29:15.613661",
     "exception": false,
     "start_time": "2021-03-28T13:29:15.412529",
     "status": "completed"
    },
    "tags": []
   },
   "outputs": [],
   "source": [
    "# # evaluating the performnace\n",
    "# model %>% evaluate(model_X_basic_test, Y_test, verbose = 0)"
   ]
  },
  {
   "cell_type": "code",
   "execution_count": 462,
   "id": "43f04957",
   "metadata": {},
   "outputs": [
    {
     "name": "stdout",
     "output_type": "stream",
     "text": [
      "coef(MSE_nn_basic) = [1.429630112674031]\n",
      "stderror(MSE_nn_basic) = [0.07172290266319534]\n",
      "The R^2 using NN is equal to [-0.3603180228906624]\n"
     ]
    }
   ],
   "source": [
    "# Calculating the performance measures \n",
    "\n",
    "pred_nn = model(model_X_basic_test')'\n",
    "# We change the type of this variable in order to make numeric operations\n",
    "pred_nn = vec(pred_nn)\n",
    "\n",
    "resid_basic = (Y_test .- pred_nn).^2\n",
    "\n",
    "one = vec(ones(size(Y_test,1),1))\n",
    "\n",
    "resid_basic = DataFrame([resid_basic], [:resid_basic])\n",
    "\n",
    "one = DataFrame([one], [:one])\n",
    "data_aux = [resid_basic one]\n",
    "\n",
    "fm = @formula(resid_basic ~ 0 + one)\n",
    "\n",
    "MSE_nn_basic = lm(fm, data_aux, dropcollinear=false)\n",
    "\n",
    "@show coef(MSE_nn_basic)\n",
    "@show stderror(MSE_nn_basic)\n",
    "\n",
    "R2_nn_basic = 1 .- (coef(MSE_nn_basic) / var(Y_test))\n",
    "println(\"The R^2 using NN is equal to \", R2_nn_basic) # MSE NN (basic model) "
   ]
  },
  {
   "cell_type": "code",
   "execution_count": 463,
   "id": "4b8ddf7c",
   "metadata": {},
   "outputs": [
    {
     "data": {
      "image/svg+xml": [
       "<?xml version=\"1.0\" encoding=\"utf-8\"?>\n",
       "<svg xmlns=\"http://www.w3.org/2000/svg\" xmlns:xlink=\"http://www.w3.org/1999/xlink\" width=\"950\" height=\"600\" viewBox=\"0 0 3800 2400\">\n",
       "<defs>\n",
       "  <clipPath id=\"clip060\">\n",
       "    <rect x=\"0\" y=\"0\" width=\"3800\" height=\"2400\"/>\n",
       "  </clipPath>\n",
       "</defs>\n",
       "<path clip-path=\"url(#clip060)\" d=\"\n",
       "M0 2400 L3800 2400 L3800 0 L0 0  Z\n",
       "  \" fill=\"#ffffff\" fill-rule=\"evenodd\" fill-opacity=\"1\"/>\n",
       "<defs>\n",
       "  <clipPath id=\"clip061\">\n",
       "    <rect x=\"760\" y=\"0\" width=\"2661\" height=\"2400\"/>\n",
       "  </clipPath>\n",
       "</defs>\n",
       "<path clip-path=\"url(#clip060)\" d=\"\n",
       "M161.108 2280.27 L3752.76 2280.27 L3752.76 47.2441 L161.108 47.2441  Z\n",
       "  \" fill=\"#ffffff\" fill-rule=\"evenodd\" fill-opacity=\"1\"/>\n",
       "<defs>\n",
       "  <clipPath id=\"clip062\">\n",
       "    <rect x=\"161\" y=\"47\" width=\"3593\" height=\"2234\"/>\n",
       "  </clipPath>\n",
       "</defs>\n",
       "<polyline clip-path=\"url(#clip062)\" style=\"stroke:#000000; stroke-linecap:butt; stroke-linejoin:round; stroke-width:2; stroke-opacity:0.1; fill:none\" points=\"\n",
       "  260.125,2280.27 260.125,47.2441 \n",
       "  \"/>\n",
       "<polyline clip-path=\"url(#clip062)\" style=\"stroke:#000000; stroke-linecap:butt; stroke-linejoin:round; stroke-width:2; stroke-opacity:0.1; fill:none\" points=\"\n",
       "  786.675,2280.27 786.675,47.2441 \n",
       "  \"/>\n",
       "<polyline clip-path=\"url(#clip062)\" style=\"stroke:#000000; stroke-linecap:butt; stroke-linejoin:round; stroke-width:2; stroke-opacity:0.1; fill:none\" points=\"\n",
       "  1313.22,2280.27 1313.22,47.2441 \n",
       "  \"/>\n",
       "<polyline clip-path=\"url(#clip062)\" style=\"stroke:#000000; stroke-linecap:butt; stroke-linejoin:round; stroke-width:2; stroke-opacity:0.1; fill:none\" points=\"\n",
       "  1839.77,2280.27 1839.77,47.2441 \n",
       "  \"/>\n",
       "<polyline clip-path=\"url(#clip062)\" style=\"stroke:#000000; stroke-linecap:butt; stroke-linejoin:round; stroke-width:2; stroke-opacity:0.1; fill:none\" points=\"\n",
       "  2366.32,2280.27 2366.32,47.2441 \n",
       "  \"/>\n",
       "<polyline clip-path=\"url(#clip062)\" style=\"stroke:#000000; stroke-linecap:butt; stroke-linejoin:round; stroke-width:2; stroke-opacity:0.1; fill:none\" points=\"\n",
       "  2892.87,2280.27 2892.87,47.2441 \n",
       "  \"/>\n",
       "<polyline clip-path=\"url(#clip062)\" style=\"stroke:#000000; stroke-linecap:butt; stroke-linejoin:round; stroke-width:2; stroke-opacity:0.1; fill:none\" points=\"\n",
       "  3419.42,2280.27 3419.42,47.2441 \n",
       "  \"/>\n",
       "<polyline clip-path=\"url(#clip060)\" style=\"stroke:#000000; stroke-linecap:butt; stroke-linejoin:round; stroke-width:4; stroke-opacity:1; fill:none\" points=\"\n",
       "  161.108,2280.27 3752.76,2280.27 \n",
       "  \"/>\n",
       "<polyline clip-path=\"url(#clip060)\" style=\"stroke:#000000; stroke-linecap:butt; stroke-linejoin:round; stroke-width:4; stroke-opacity:1; fill:none\" points=\"\n",
       "  260.125,2280.27 260.125,2261.37 \n",
       "  \"/>\n",
       "<polyline clip-path=\"url(#clip060)\" style=\"stroke:#000000; stroke-linecap:butt; stroke-linejoin:round; stroke-width:4; stroke-opacity:1; fill:none\" points=\"\n",
       "  786.675,2280.27 786.675,2261.37 \n",
       "  \"/>\n",
       "<polyline clip-path=\"url(#clip060)\" style=\"stroke:#000000; stroke-linecap:butt; stroke-linejoin:round; stroke-width:4; stroke-opacity:1; fill:none\" points=\"\n",
       "  1313.22,2280.27 1313.22,2261.37 \n",
       "  \"/>\n",
       "<polyline clip-path=\"url(#clip060)\" style=\"stroke:#000000; stroke-linecap:butt; stroke-linejoin:round; stroke-width:4; stroke-opacity:1; fill:none\" points=\"\n",
       "  1839.77,2280.27 1839.77,2261.37 \n",
       "  \"/>\n",
       "<polyline clip-path=\"url(#clip060)\" style=\"stroke:#000000; stroke-linecap:butt; stroke-linejoin:round; stroke-width:4; stroke-opacity:1; fill:none\" points=\"\n",
       "  2366.32,2280.27 2366.32,2261.37 \n",
       "  \"/>\n",
       "<polyline clip-path=\"url(#clip060)\" style=\"stroke:#000000; stroke-linecap:butt; stroke-linejoin:round; stroke-width:4; stroke-opacity:1; fill:none\" points=\"\n",
       "  2892.87,2280.27 2892.87,2261.37 \n",
       "  \"/>\n",
       "<polyline clip-path=\"url(#clip060)\" style=\"stroke:#000000; stroke-linecap:butt; stroke-linejoin:round; stroke-width:4; stroke-opacity:1; fill:none\" points=\"\n",
       "  3419.42,2280.27 3419.42,2261.37 \n",
       "  \"/>\n",
       "<path clip-path=\"url(#clip060)\" d=\"M260.125 2322.39 Q256.514 2322.39 254.685 2325.95 Q252.88 2329.49 252.88 2336.62 Q252.88 2343.73 254.685 2347.29 Q256.514 2350.83 260.125 2350.83 Q263.759 2350.83 265.565 2347.29 Q267.394 2343.73 267.394 2336.62 Q267.394 2329.49 265.565 2325.95 Q263.759 2322.39 260.125 2322.39 M260.125 2318.68 Q265.935 2318.68 268.991 2323.29 Q272.07 2327.87 272.07 2336.62 Q272.07 2345.35 268.991 2349.95 Q265.935 2354.54 260.125 2354.54 Q254.315 2354.54 251.236 2349.95 Q248.181 2345.35 248.181 2336.62 Q248.181 2327.87 251.236 2323.29 Q254.315 2318.68 260.125 2318.68 Z\" fill=\"#000000\" fill-rule=\"evenodd\" fill-opacity=\"1\" /><path clip-path=\"url(#clip060)\" d=\"M750.367 2349.93 L766.687 2349.93 L766.687 2353.87 L744.742 2353.87 L744.742 2349.93 Q747.404 2347.18 751.988 2342.55 Q756.594 2337.89 757.775 2336.55 Q760.02 2334.03 760.9 2332.29 Q761.802 2330.53 761.802 2328.84 Q761.802 2326.09 759.858 2324.35 Q757.937 2322.62 754.835 2322.62 Q752.636 2322.62 750.182 2323.38 Q747.752 2324.14 744.974 2325.7 L744.974 2320.97 Q747.798 2319.84 750.252 2319.26 Q752.705 2318.68 754.742 2318.68 Q760.113 2318.68 763.307 2321.37 Q766.501 2324.05 766.501 2328.54 Q766.501 2330.67 765.691 2332.59 Q764.904 2334.49 762.798 2337.08 Q762.219 2337.76 759.117 2340.97 Q756.015 2344.17 750.367 2349.93 Z\" fill=\"#000000\" fill-rule=\"evenodd\" fill-opacity=\"1\" /><path clip-path=\"url(#clip060)\" d=\"M786.501 2322.39 Q782.89 2322.39 781.062 2325.95 Q779.256 2329.49 779.256 2336.62 Q779.256 2343.73 781.062 2347.29 Q782.89 2350.83 786.501 2350.83 Q790.136 2350.83 791.941 2347.29 Q793.77 2343.73 793.77 2336.62 Q793.77 2329.49 791.941 2325.95 Q790.136 2322.39 786.501 2322.39 M786.501 2318.68 Q792.311 2318.68 795.367 2323.29 Q798.446 2327.87 798.446 2336.62 Q798.446 2345.35 795.367 2349.95 Q792.311 2354.54 786.501 2354.54 Q780.691 2354.54 777.612 2349.95 Q774.557 2345.35 774.557 2336.62 Q774.557 2327.87 777.612 2323.29 Q780.691 2318.68 786.501 2318.68 Z\" fill=\"#000000\" fill-rule=\"evenodd\" fill-opacity=\"1\" /><path clip-path=\"url(#clip060)\" d=\"M816.663 2322.39 Q813.052 2322.39 811.223 2325.95 Q809.418 2329.49 809.418 2336.62 Q809.418 2343.73 811.223 2347.29 Q813.052 2350.83 816.663 2350.83 Q820.297 2350.83 822.103 2347.29 Q823.932 2343.73 823.932 2336.62 Q823.932 2329.49 822.103 2325.95 Q820.297 2322.39 816.663 2322.39 M816.663 2318.68 Q822.473 2318.68 825.529 2323.29 Q828.608 2327.87 828.608 2336.62 Q828.608 2345.35 825.529 2349.95 Q822.473 2354.54 816.663 2354.54 Q810.853 2354.54 807.774 2349.95 Q804.719 2345.35 804.719 2336.62 Q804.719 2327.87 807.774 2323.29 Q810.853 2318.68 816.663 2318.68 Z\" fill=\"#000000\" fill-rule=\"evenodd\" fill-opacity=\"1\" /><path clip-path=\"url(#clip060)\" d=\"M1286.32 2323.38 L1274.51 2341.83 L1286.32 2341.83 L1286.32 2323.38 M1285.09 2319.31 L1290.97 2319.31 L1290.97 2341.83 L1295.9 2341.83 L1295.9 2345.72 L1290.97 2345.72 L1290.97 2353.87 L1286.32 2353.87 L1286.32 2345.72 L1270.71 2345.72 L1270.71 2341.2 L1285.09 2319.31 Z\" fill=\"#000000\" fill-rule=\"evenodd\" fill-opacity=\"1\" /><path clip-path=\"url(#clip060)\" d=\"M1313.63 2322.39 Q1310.02 2322.39 1308.19 2325.95 Q1306.38 2329.49 1306.38 2336.62 Q1306.38 2343.73 1308.19 2347.29 Q1310.02 2350.83 1313.63 2350.83 Q1317.26 2350.83 1319.07 2347.29 Q1320.9 2343.73 1320.9 2336.62 Q1320.9 2329.49 1319.07 2325.95 Q1317.26 2322.39 1313.63 2322.39 M1313.63 2318.68 Q1319.44 2318.68 1322.5 2323.29 Q1325.57 2327.87 1325.57 2336.62 Q1325.57 2345.35 1322.5 2349.95 Q1319.44 2354.54 1313.63 2354.54 Q1307.82 2354.54 1304.74 2349.95 Q1301.69 2345.35 1301.69 2336.62 Q1301.69 2327.87 1304.74 2323.29 Q1307.82 2318.68 1313.63 2318.68 Z\" fill=\"#000000\" fill-rule=\"evenodd\" fill-opacity=\"1\" /><path clip-path=\"url(#clip060)\" d=\"M1343.79 2322.39 Q1340.18 2322.39 1338.35 2325.95 Q1336.55 2329.49 1336.55 2336.62 Q1336.55 2343.73 1338.35 2347.29 Q1340.18 2350.83 1343.79 2350.83 Q1347.43 2350.83 1349.23 2347.29 Q1351.06 2343.73 1351.06 2336.62 Q1351.06 2329.49 1349.23 2325.95 Q1347.43 2322.39 1343.79 2322.39 M1343.79 2318.68 Q1349.6 2318.68 1352.66 2323.29 Q1355.74 2327.87 1355.74 2336.62 Q1355.74 2345.35 1352.66 2349.95 Q1349.6 2354.54 1343.79 2354.54 Q1337.98 2354.54 1334.9 2349.95 Q1331.85 2345.35 1331.85 2336.62 Q1331.85 2327.87 1334.9 2323.29 Q1337.98 2318.68 1343.79 2318.68 Z\" fill=\"#000000\" fill-rule=\"evenodd\" fill-opacity=\"1\" /><path clip-path=\"url(#clip060)\" d=\"M1810.1 2334.72 Q1806.95 2334.72 1805.1 2336.88 Q1803.27 2339.03 1803.27 2342.78 Q1803.27 2346.51 1805.1 2348.68 Q1806.95 2350.83 1810.1 2350.83 Q1813.25 2350.83 1815.08 2348.68 Q1816.93 2346.51 1816.93 2342.78 Q1816.93 2339.03 1815.08 2336.88 Q1813.25 2334.72 1810.1 2334.72 M1819.38 2320.07 L1819.38 2324.33 Q1817.62 2323.5 1815.82 2323.06 Q1814.03 2322.62 1812.27 2322.62 Q1807.64 2322.62 1805.19 2325.74 Q1802.76 2328.87 1802.41 2335.19 Q1803.78 2333.17 1805.84 2332.11 Q1807.9 2331.02 1810.38 2331.02 Q1815.58 2331.02 1818.59 2334.19 Q1821.63 2337.34 1821.63 2342.78 Q1821.63 2348.1 1818.48 2351.32 Q1815.33 2354.54 1810.1 2354.54 Q1804.1 2354.54 1800.93 2349.95 Q1797.76 2345.35 1797.76 2336.62 Q1797.76 2328.43 1801.65 2323.57 Q1805.54 2318.68 1812.09 2318.68 Q1813.85 2318.68 1815.63 2319.03 Q1817.44 2319.38 1819.38 2320.07 Z\" fill=\"#000000\" fill-rule=\"evenodd\" fill-opacity=\"1\" /><path clip-path=\"url(#clip060)\" d=\"M1839.68 2322.39 Q1836.07 2322.39 1834.24 2325.95 Q1832.44 2329.49 1832.44 2336.62 Q1832.44 2343.73 1834.24 2347.29 Q1836.07 2350.83 1839.68 2350.83 Q1843.32 2350.83 1845.12 2347.29 Q1846.95 2343.73 1846.95 2336.62 Q1846.95 2329.49 1845.12 2325.95 Q1843.32 2322.39 1839.68 2322.39 M1839.68 2318.68 Q1845.49 2318.68 1848.55 2323.29 Q1851.63 2327.87 1851.63 2336.62 Q1851.63 2345.35 1848.55 2349.95 Q1845.49 2354.54 1839.68 2354.54 Q1833.87 2354.54 1830.79 2349.95 Q1827.74 2345.35 1827.74 2336.62 Q1827.74 2327.87 1830.79 2323.29 Q1833.87 2318.68 1839.68 2318.68 Z\" fill=\"#000000\" fill-rule=\"evenodd\" fill-opacity=\"1\" /><path clip-path=\"url(#clip060)\" d=\"M1869.84 2322.39 Q1866.23 2322.39 1864.4 2325.95 Q1862.6 2329.49 1862.6 2336.62 Q1862.6 2343.73 1864.4 2347.29 Q1866.23 2350.83 1869.84 2350.83 Q1873.48 2350.83 1875.28 2347.29 Q1877.11 2343.73 1877.11 2336.62 Q1877.11 2329.49 1875.28 2325.95 Q1873.48 2322.39 1869.84 2322.39 M1869.84 2318.68 Q1875.65 2318.68 1878.71 2323.29 Q1881.79 2327.87 1881.79 2336.62 Q1881.79 2345.35 1878.71 2349.95 Q1875.65 2354.54 1869.84 2354.54 Q1864.03 2354.54 1860.95 2349.95 Q1857.9 2345.35 1857.9 2336.62 Q1857.9 2327.87 1860.95 2323.29 Q1864.03 2318.68 1869.84 2318.68 Z\" fill=\"#000000\" fill-rule=\"evenodd\" fill-opacity=\"1\" /><path clip-path=\"url(#clip060)\" d=\"M2336.12 2337.45 Q2332.78 2337.45 2330.86 2339.24 Q2328.96 2341.02 2328.96 2344.14 Q2328.96 2347.27 2330.86 2349.05 Q2332.78 2350.83 2336.12 2350.83 Q2339.45 2350.83 2341.37 2349.05 Q2343.29 2347.25 2343.29 2344.14 Q2343.29 2341.02 2341.37 2339.24 Q2339.47 2337.45 2336.12 2337.45 M2331.44 2335.46 Q2328.43 2334.72 2326.74 2332.66 Q2325.07 2330.6 2325.07 2327.64 Q2325.07 2323.5 2328.01 2321.09 Q2330.98 2318.68 2336.12 2318.68 Q2341.28 2318.68 2344.22 2321.09 Q2347.16 2323.5 2347.16 2327.64 Q2347.16 2330.6 2345.47 2332.66 Q2343.8 2334.72 2340.82 2335.46 Q2344.19 2336.25 2346.07 2338.54 Q2347.97 2340.83 2347.97 2344.14 Q2347.97 2349.17 2344.89 2351.85 Q2341.83 2354.54 2336.12 2354.54 Q2330.4 2354.54 2327.32 2351.85 Q2324.26 2349.17 2324.26 2344.14 Q2324.26 2340.83 2326.16 2338.54 Q2328.06 2336.25 2331.44 2335.46 M2329.73 2328.08 Q2329.73 2330.77 2331.39 2332.27 Q2333.08 2333.77 2336.12 2333.77 Q2339.13 2333.77 2340.82 2332.27 Q2342.53 2330.77 2342.53 2328.08 Q2342.53 2325.39 2340.82 2323.89 Q2339.13 2322.39 2336.12 2322.39 Q2333.08 2322.39 2331.39 2323.89 Q2329.73 2325.39 2329.73 2328.08 Z\" fill=\"#000000\" fill-rule=\"evenodd\" fill-opacity=\"1\" /><path clip-path=\"url(#clip060)\" d=\"M2366.28 2322.39 Q2362.67 2322.39 2360.84 2325.95 Q2359.03 2329.49 2359.03 2336.62 Q2359.03 2343.73 2360.84 2347.29 Q2362.67 2350.83 2366.28 2350.83 Q2369.91 2350.83 2371.72 2347.29 Q2373.55 2343.73 2373.55 2336.62 Q2373.55 2329.49 2371.72 2325.95 Q2369.91 2322.39 2366.28 2322.39 M2366.28 2318.68 Q2372.09 2318.68 2375.14 2323.29 Q2378.22 2327.87 2378.22 2336.62 Q2378.22 2345.35 2375.14 2349.95 Q2372.09 2354.54 2366.28 2354.54 Q2360.47 2354.54 2357.39 2349.95 Q2354.33 2345.35 2354.33 2336.62 Q2354.33 2327.87 2357.39 2323.29 Q2360.47 2318.68 2366.28 2318.68 Z\" fill=\"#000000\" fill-rule=\"evenodd\" fill-opacity=\"1\" /><path clip-path=\"url(#clip060)\" d=\"M2396.44 2322.39 Q2392.83 2322.39 2391 2325.95 Q2389.19 2329.49 2389.19 2336.62 Q2389.19 2343.73 2391 2347.29 Q2392.83 2350.83 2396.44 2350.83 Q2400.07 2350.83 2401.88 2347.29 Q2403.71 2343.73 2403.71 2336.62 Q2403.71 2329.49 2401.88 2325.95 Q2400.07 2322.39 2396.44 2322.39 M2396.44 2318.68 Q2402.25 2318.68 2405.31 2323.29 Q2408.38 2327.87 2408.38 2336.62 Q2408.38 2345.35 2405.31 2349.95 Q2402.25 2354.54 2396.44 2354.54 Q2390.63 2354.54 2387.55 2349.95 Q2384.5 2345.35 2384.5 2336.62 Q2384.5 2327.87 2387.55 2323.29 Q2390.63 2318.68 2396.44 2318.68 Z\" fill=\"#000000\" fill-rule=\"evenodd\" fill-opacity=\"1\" /><path clip-path=\"url(#clip060)\" d=\"M2837.4 2349.93 L2845.04 2349.93 L2845.04 2323.57 L2836.73 2325.23 L2836.73 2320.97 L2844.99 2319.31 L2849.67 2319.31 L2849.67 2349.93 L2857.31 2349.93 L2857.31 2353.87 L2837.4 2353.87 L2837.4 2349.93 Z\" fill=\"#000000\" fill-rule=\"evenodd\" fill-opacity=\"1\" /><path clip-path=\"url(#clip060)\" d=\"M2876.75 2322.39 Q2873.14 2322.39 2871.31 2325.95 Q2869.51 2329.49 2869.51 2336.62 Q2869.51 2343.73 2871.31 2347.29 Q2873.14 2350.83 2876.75 2350.83 Q2880.39 2350.83 2882.19 2347.29 Q2884.02 2343.73 2884.02 2336.62 Q2884.02 2329.49 2882.19 2325.95 Q2880.39 2322.39 2876.75 2322.39 M2876.75 2318.68 Q2882.56 2318.68 2885.62 2323.29 Q2888.7 2327.87 2888.7 2336.62 Q2888.7 2345.35 2885.62 2349.95 Q2882.56 2354.54 2876.75 2354.54 Q2870.94 2354.54 2867.86 2349.95 Q2864.81 2345.35 2864.81 2336.62 Q2864.81 2327.87 2867.86 2323.29 Q2870.94 2318.68 2876.75 2318.68 Z\" fill=\"#000000\" fill-rule=\"evenodd\" fill-opacity=\"1\" /><path clip-path=\"url(#clip060)\" d=\"M2906.91 2322.39 Q2903.3 2322.39 2901.47 2325.95 Q2899.67 2329.49 2899.67 2336.62 Q2899.67 2343.73 2901.47 2347.29 Q2903.3 2350.83 2906.91 2350.83 Q2910.55 2350.83 2912.35 2347.29 Q2914.18 2343.73 2914.18 2336.62 Q2914.18 2329.49 2912.35 2325.95 Q2910.55 2322.39 2906.91 2322.39 M2906.91 2318.68 Q2912.72 2318.68 2915.78 2323.29 Q2918.86 2327.87 2918.86 2336.62 Q2918.86 2345.35 2915.78 2349.95 Q2912.72 2354.54 2906.91 2354.54 Q2901.1 2354.54 2898.02 2349.95 Q2894.97 2345.35 2894.97 2336.62 Q2894.97 2327.87 2898.02 2323.29 Q2901.1 2318.68 2906.91 2318.68 Z\" fill=\"#000000\" fill-rule=\"evenodd\" fill-opacity=\"1\" /><path clip-path=\"url(#clip060)\" d=\"M2937.08 2322.39 Q2933.46 2322.39 2931.64 2325.95 Q2929.83 2329.49 2929.83 2336.62 Q2929.83 2343.73 2931.64 2347.29 Q2933.46 2350.83 2937.08 2350.83 Q2940.71 2350.83 2942.51 2347.29 Q2944.34 2343.73 2944.34 2336.62 Q2944.34 2329.49 2942.51 2325.95 Q2940.71 2322.39 2937.08 2322.39 M2937.08 2318.68 Q2942.89 2318.68 2945.94 2323.29 Q2949.02 2327.87 2949.02 2336.62 Q2949.02 2345.35 2945.94 2349.95 Q2942.89 2354.54 2937.08 2354.54 Q2931.26 2354.54 2928.19 2349.95 Q2925.13 2345.35 2925.13 2336.62 Q2925.13 2327.87 2928.19 2323.29 Q2931.26 2318.68 2937.08 2318.68 Z\" fill=\"#000000\" fill-rule=\"evenodd\" fill-opacity=\"1\" /><path clip-path=\"url(#clip060)\" d=\"M3363.95 2349.93 L3371.59 2349.93 L3371.59 2323.57 L3363.28 2325.23 L3363.28 2320.97 L3371.54 2319.31 L3376.22 2319.31 L3376.22 2349.93 L3383.86 2349.93 L3383.86 2353.87 L3363.95 2353.87 L3363.95 2349.93 Z\" fill=\"#000000\" fill-rule=\"evenodd\" fill-opacity=\"1\" /><path clip-path=\"url(#clip060)\" d=\"M3397.33 2349.93 L3413.65 2349.93 L3413.65 2353.87 L3391.7 2353.87 L3391.7 2349.93 Q3394.37 2347.18 3398.95 2342.55 Q3403.56 2337.89 3404.74 2336.55 Q3406.98 2334.03 3407.86 2332.29 Q3408.76 2330.53 3408.76 2328.84 Q3408.76 2326.09 3406.82 2324.35 Q3404.9 2322.62 3401.8 2322.62 Q3399.6 2322.62 3397.14 2323.38 Q3394.71 2324.14 3391.94 2325.7 L3391.94 2320.97 Q3394.76 2319.84 3397.21 2319.26 Q3399.67 2318.68 3401.7 2318.68 Q3407.07 2318.68 3410.27 2321.37 Q3413.46 2324.05 3413.46 2328.54 Q3413.46 2330.67 3412.65 2332.59 Q3411.87 2334.49 3409.76 2337.08 Q3409.18 2337.76 3406.08 2340.97 Q3402.98 2344.17 3397.33 2349.93 Z\" fill=\"#000000\" fill-rule=\"evenodd\" fill-opacity=\"1\" /><path clip-path=\"url(#clip060)\" d=\"M3433.46 2322.39 Q3429.85 2322.39 3428.02 2325.95 Q3426.22 2329.49 3426.22 2336.62 Q3426.22 2343.73 3428.02 2347.29 Q3429.85 2350.83 3433.46 2350.83 Q3437.1 2350.83 3438.9 2347.29 Q3440.73 2343.73 3440.73 2336.62 Q3440.73 2329.49 3438.9 2325.95 Q3437.1 2322.39 3433.46 2322.39 M3433.46 2318.68 Q3439.27 2318.68 3442.33 2323.29 Q3445.41 2327.87 3445.41 2336.62 Q3445.41 2345.35 3442.33 2349.95 Q3439.27 2354.54 3433.46 2354.54 Q3427.65 2354.54 3424.57 2349.95 Q3421.52 2345.35 3421.52 2336.62 Q3421.52 2327.87 3424.57 2323.29 Q3427.65 2318.68 3433.46 2318.68 Z\" fill=\"#000000\" fill-rule=\"evenodd\" fill-opacity=\"1\" /><path clip-path=\"url(#clip060)\" d=\"M3463.62 2322.39 Q3460.01 2322.39 3458.18 2325.95 Q3456.38 2329.49 3456.38 2336.62 Q3456.38 2343.73 3458.18 2347.29 Q3460.01 2350.83 3463.62 2350.83 Q3467.26 2350.83 3469.06 2347.29 Q3470.89 2343.73 3470.89 2336.62 Q3470.89 2329.49 3469.06 2325.95 Q3467.26 2322.39 3463.62 2322.39 M3463.62 2318.68 Q3469.43 2318.68 3472.49 2323.29 Q3475.57 2327.87 3475.57 2336.62 Q3475.57 2345.35 3472.49 2349.95 Q3469.43 2354.54 3463.62 2354.54 Q3457.81 2354.54 3454.74 2349.95 Q3451.68 2345.35 3451.68 2336.62 Q3451.68 2327.87 3454.74 2323.29 Q3457.81 2318.68 3463.62 2318.68 Z\" fill=\"#000000\" fill-rule=\"evenodd\" fill-opacity=\"1\" /><polyline clip-path=\"url(#clip062)\" style=\"stroke:#000000; stroke-linecap:butt; stroke-linejoin:round; stroke-width:2; stroke-opacity:0.1; fill:none\" points=\"\n",
       "  161.108,1956.96 3752.76,1956.96 \n",
       "  \"/>\n",
       "<polyline clip-path=\"url(#clip062)\" style=\"stroke:#000000; stroke-linecap:butt; stroke-linejoin:round; stroke-width:2; stroke-opacity:0.1; fill:none\" points=\"\n",
       "  161.108,1484.71 3752.76,1484.71 \n",
       "  \"/>\n",
       "<polyline clip-path=\"url(#clip062)\" style=\"stroke:#000000; stroke-linecap:butt; stroke-linejoin:round; stroke-width:2; stroke-opacity:0.1; fill:none\" points=\"\n",
       "  161.108,1012.46 3752.76,1012.46 \n",
       "  \"/>\n",
       "<polyline clip-path=\"url(#clip062)\" style=\"stroke:#000000; stroke-linecap:butt; stroke-linejoin:round; stroke-width:2; stroke-opacity:0.1; fill:none\" points=\"\n",
       "  161.108,540.212 3752.76,540.212 \n",
       "  \"/>\n",
       "<polyline clip-path=\"url(#clip062)\" style=\"stroke:#000000; stroke-linecap:butt; stroke-linejoin:round; stroke-width:2; stroke-opacity:0.1; fill:none\" points=\"\n",
       "  161.108,67.963 3752.76,67.963 \n",
       "  \"/>\n",
       "<polyline clip-path=\"url(#clip060)\" style=\"stroke:#000000; stroke-linecap:butt; stroke-linejoin:round; stroke-width:4; stroke-opacity:1; fill:none\" points=\"\n",
       "  161.108,2280.27 161.108,47.2441 \n",
       "  \"/>\n",
       "<polyline clip-path=\"url(#clip060)\" style=\"stroke:#000000; stroke-linecap:butt; stroke-linejoin:round; stroke-width:4; stroke-opacity:1; fill:none\" points=\"\n",
       "  161.108,1956.96 180.005,1956.96 \n",
       "  \"/>\n",
       "<polyline clip-path=\"url(#clip060)\" style=\"stroke:#000000; stroke-linecap:butt; stroke-linejoin:round; stroke-width:4; stroke-opacity:1; fill:none\" points=\"\n",
       "  161.108,1484.71 180.005,1484.71 \n",
       "  \"/>\n",
       "<polyline clip-path=\"url(#clip060)\" style=\"stroke:#000000; stroke-linecap:butt; stroke-linejoin:round; stroke-width:4; stroke-opacity:1; fill:none\" points=\"\n",
       "  161.108,1012.46 180.005,1012.46 \n",
       "  \"/>\n",
       "<polyline clip-path=\"url(#clip060)\" style=\"stroke:#000000; stroke-linecap:butt; stroke-linejoin:round; stroke-width:4; stroke-opacity:1; fill:none\" points=\"\n",
       "  161.108,540.212 180.005,540.212 \n",
       "  \"/>\n",
       "<polyline clip-path=\"url(#clip060)\" style=\"stroke:#000000; stroke-linecap:butt; stroke-linejoin:round; stroke-width:4; stroke-opacity:1; fill:none\" points=\"\n",
       "  161.108,67.963 180.005,67.963 \n",
       "  \"/>\n",
       "<path clip-path=\"url(#clip060)\" d=\"M43.9921 1957.41 L73.6679 1957.41 L73.6679 1961.35 L43.9921 1961.35 L43.9921 1957.41 Z\" fill=\"#000000\" fill-rule=\"evenodd\" fill-opacity=\"1\" /><path clip-path=\"url(#clip060)\" d=\"M87.7882 1970.3 L104.108 1970.3 L104.108 1974.24 L82.1632 1974.24 L82.1632 1970.3 Q84.8252 1967.55 89.4085 1962.92 Q94.015 1958.27 95.1956 1956.92 Q97.4409 1954.4 98.3205 1952.67 Q99.2233 1950.91 99.2233 1949.22 Q99.2233 1946.46 97.2789 1944.73 Q95.3576 1942.99 92.2558 1942.99 Q90.0567 1942.99 87.603 1943.75 Q85.1725 1944.52 82.3947 1946.07 L82.3947 1941.35 Q85.2188 1940.21 87.6724 1939.63 Q90.1261 1939.05 92.1632 1939.05 Q97.5335 1939.05 100.728 1941.74 Q103.922 1944.42 103.922 1948.92 Q103.922 1951.05 103.112 1952.97 Q102.325 1954.86 100.219 1957.46 Q99.64 1958.13 96.5381 1961.35 Q93.4363 1964.54 87.7882 1970.3 Z\" fill=\"#000000\" fill-rule=\"evenodd\" fill-opacity=\"1\" /><path clip-path=\"url(#clip060)\" d=\"M92.1632 1470.51 Q88.5521 1470.51 86.7234 1474.07 Q84.9178 1477.62 84.9178 1484.74 Q84.9178 1491.85 86.7234 1495.42 Q88.5521 1498.96 92.1632 1498.96 Q95.7974 1498.96 97.6029 1495.42 Q99.4316 1491.85 99.4316 1484.74 Q99.4316 1477.62 97.6029 1474.07 Q95.7974 1470.51 92.1632 1470.51 M92.1632 1466.81 Q97.9733 1466.81 101.029 1471.41 Q104.108 1476 104.108 1484.74 Q104.108 1493.47 101.029 1498.08 Q97.9733 1502.66 92.1632 1502.66 Q86.353 1502.66 83.2743 1498.08 Q80.2188 1493.47 80.2188 1484.74 Q80.2188 1476 83.2743 1471.41 Q86.353 1466.81 92.1632 1466.81 Z\" fill=\"#000000\" fill-rule=\"evenodd\" fill-opacity=\"1\" /><path clip-path=\"url(#clip060)\" d=\"M87.7882 1025.81 L104.108 1025.81 L104.108 1029.74 L82.1632 1029.74 L82.1632 1025.81 Q84.8252 1023.05 89.4085 1018.42 Q94.015 1013.77 95.1956 1012.43 Q97.4409 1009.9 98.3205 1008.17 Q99.2233 1006.41 99.2233 1004.72 Q99.2233 1001.96 97.2789 1000.23 Q95.3576 998.491 92.2558 998.491 Q90.0567 998.491 87.603 999.255 Q85.1725 1000.02 82.3947 1001.57 L82.3947 996.848 Q85.2188 995.714 87.6724 995.135 Q90.1261 994.556 92.1632 994.556 Q97.5335 994.556 100.728 997.241 Q103.922 999.927 103.922 1004.42 Q103.922 1006.55 103.112 1008.47 Q102.325 1010.37 100.219 1012.96 Q99.64 1013.63 96.5381 1016.85 Q93.4363 1020.04 87.7882 1025.81 Z\" fill=\"#000000\" fill-rule=\"evenodd\" fill-opacity=\"1\" /><path clip-path=\"url(#clip060)\" d=\"M94.5243 527.006 L82.7188 545.455 L94.5243 545.455 L94.5243 527.006 M93.2974 522.932 L99.177 522.932 L99.177 545.455 L104.108 545.455 L104.108 549.344 L99.177 549.344 L99.177 557.492 L94.5243 557.492 L94.5243 549.344 L78.9225 549.344 L78.9225 544.83 L93.2974 522.932 Z\" fill=\"#000000\" fill-rule=\"evenodd\" fill-opacity=\"1\" /><path clip-path=\"url(#clip060)\" d=\"M92.5798 66.0996 Q89.4317 66.0996 87.5799 68.2524 Q85.7512 70.4051 85.7512 74.1551 Q85.7512 77.882 87.5799 80.0579 Q89.4317 82.2106 92.5798 82.2106 Q95.728 82.2106 97.5567 80.0579 Q99.4085 77.882 99.4085 74.1551 Q99.4085 70.4051 97.5567 68.2524 Q95.728 66.0996 92.5798 66.0996 M101.862 51.4469 L101.862 55.7061 Q100.103 54.8728 98.2974 54.433 Q96.515 53.9932 94.7557 53.9932 Q90.1261 53.9932 87.6724 57.1182 Q85.2419 60.2432 84.8947 66.5626 Q86.2604 64.5487 88.3206 63.4839 Q90.3808 62.3959 92.8576 62.3959 Q98.0659 62.3959 101.075 65.5672 Q104.108 68.7153 104.108 74.1551 Q104.108 79.4792 100.959 82.6967 Q97.8113 85.9143 92.5798 85.9143 Q86.5845 85.9143 83.4132 81.331 Q80.2419 76.7245 80.2419 67.9977 Q80.2419 59.8033 84.1308 54.9423 Q88.0197 50.058 94.5706 50.058 Q96.3298 50.058 98.1122 50.4052 Q99.9178 50.7525 101.862 51.4469 Z\" fill=\"#000000\" fill-rule=\"evenodd\" fill-opacity=\"1\" /><polyline clip-path=\"url(#clip062)\" style=\"stroke:#009af9; stroke-linecap:butt; stroke-linejoin:round; stroke-width:4; stroke-opacity:1; fill:none\" points=\"\n",
       "  262.758,1779.75 265.391,1624.97 268.023,1686.8 270.656,1648.18 273.289,1523.49 275.922,1559.78 278.554,1687.46 281.187,1481.6 283.82,1688.65 286.453,1398.06 \n",
       "  289.085,1173.53 291.718,1759.43 294.351,1899.59 296.984,1656.14 299.616,1425.61 302.249,1253.76 304.882,1410.45 307.515,1973.16 310.147,1779.75 312.78,1828.81 \n",
       "  315.413,1686.8 318.046,1546.64 320.678,1441.95 323.311,2217.07 325.944,1491.01 328.577,1515.52 331.209,1779.75 333.842,1432.79 336.475,1595.7 339.108,1721.53 \n",
       "  341.74,1322.11 344.373,1779.75 347.006,1309.76 349.639,1577.51 352.271,1542.37 354.904,1721.53 357.537,1546.64 360.17,1229.16 362.802,1425.61 365.435,1595.7 \n",
       "  368.068,1610.85 370.701,1407.42 373.333,1250.81 375.966,1246.16 378.599,1202.27 381.232,1654.74 383.864,1383.94 386.497,1404.78 389.13,1715.54 391.763,1491.01 \n",
       "  394.395,1408.18 397.028,1411.61 399.661,1349.66 402.294,1401.4 404.926,1474.67 407.559,1992.54 410.192,1708.14 412.825,1527.78 415.457,1597.19 418.09,1525.74 \n",
       "  420.723,1573.68 423.356,1633.03 425.988,1398.06 428.621,1610.85 431.254,1460.88 433.887,1779.75 436.519,1288.77 439.152,1288.77 441.785,1441.95 444.418,1153.21 \n",
       "  447.05,1415.06 449.683,1654.74 452.316,1480.72 454.949,1762.37 457.581,2028.79 460.214,1257.9 462.847,1441.95 465.48,1779.75 468.112,1476.68 470.745,1069.62 \n",
       "  473.378,1693.52 476.011,1322.11 478.643,727.625 481.276,1423.83 483.909,1454.35 486.542,1707.57 489.174,1728.07 491.807,1686.8 494.44,1534.9 497.073,1295.22 \n",
       "  499.705,1686.8 502.338,1322.11 504.971,1322.11 507.604,1423.83 510.236,820.578 512.869,1229.16 515.502,1449.32 518.135,812.329 520.767,1779.75 523.4,1358.35 \n",
       "  526.033,1256.29 528.666,1555.22 531.298,1721.53 533.931,1157.08 536.564,1214.01 539.197,1162.57 541.829,1583.96 544.462,1491.01 547.095,1398.06 549.728,1943.09 \n",
       "  552.36,1322.11 554.993,1656.14 557.626,1583.96 560.259,1546.64 562.891,1371.17 565.524,1350.85 568.157,1319.03 570.79,243.099 573.422,1953.68 576.055,1288.57 \n",
       "  578.688,1109.32 581.321,1358.35 583.953,1257.9 586.586,1508.02 589.219,1202.27 591.852,1642.91 594.484,1246.16 597.117,1627.85 599.75,1278.22 602.383,1474.67 \n",
       "  605.015,1688.65 607.648,1336.23 610.281,1415.06 612.914,2012.87 615.546,1491.01 618.179,1491.01 620.812,1583.96 623.445,1336.23 626.077,1519.75 628.71,1727.17 \n",
       "  631.343,1288.77 633.976,1558.71 636.608,1610.85 639.241,1512.38 641.874,1491.01 644.507,1508.02 647.139,1491.01 649.772,1703.8 652.405,1358.35 655.038,1491.01 \n",
       "  657.67,1398.06 660.303,1700.16 662.936,1647.09 665.569,1594.51 668.201,1684.42 670.834,1398.06 673.467,1295.22 676.1,1322.12 678.732,1371.17 681.365,1257.9 \n",
       "  683.998,1269.97 686.631,2012.87 689.263,1618.22 691.896,1381.72 694.529,1620.21 697.161,1534.9 699.794,1105.17 702.427,1306.96 705.06,1823.64 707.692,1779.75 \n",
       "  710.325,1563.99 712.958,1833 715.591,1229.16 718.223,1322.11 720.856,1441.95 723.489,820.578 726.122,1092.98 728.754,1447.79 731.387,1146.65 734.02,845.089 \n",
       "  736.653,1451.31 739.285,1337.83 741.918,1515.52 744.551,864.467 747.184,1654.32 749.816,1491.01 752.449,1358.35 755.082,1278.22 757.715,1491.01 760.347,1912.41 \n",
       "  762.98,1109.32 765.613,893.207 768.246,1212.82 770.878,1146.65 773.511,1441.95 776.144,1322.11 778.777,1503.09 781.409,1246.16 784.042,1336.23 786.675,1654.74 \n",
       "  789.308,975.15 791.94,1386.32 794.573,1288.77 797.206,1899.59 799.839,1530.3 802.471,1398.06 805.104,1212.82 807.737,1740.05 810.37,1088.99 813.002,1455.11 \n",
       "  815.635,1430.98 818.268,1823.64 820.901,1631.17 823.533,1153.21 826.166,1610.85 828.799,1534.9 831.432,1639.59 834.064,1202.27 836.697,1069.62 839.33,1441.95 \n",
       "  841.963,1301.78 844.595,1470.69 847.228,1322.11 849.861,1620.21 852.494,1373.78 855.126,1358.35 857.759,1229.16 860.392,1558.71 863.025,1779.75 865.657,1241.56 \n",
       "  868.29,1358.35 870.923,1435.39 873.556,1322.11 876.188,1261.88 878.821,1583.96 881.454,2068.45 884.087,1801.12 886.719,1673.68 889.352,1546.64 891.985,1758.38 \n",
       "  894.618,1654.74 897.25,1670.46 899.883,1686.8 902.516,1491.01 905.149,1540.08 907.781,1491.01 910.414,1571.15 913.047,1541.57 915.68,1534.9 918.312,1567.63 \n",
       "  920.945,1773.92 923.578,1153.21 926.211,1583.96 928.843,1558.71 931.476,1823.64 934.109,1759.43 936.742,1779.75 939.374,1689.06 942.007,1948.65 944.64,1278.22 \n",
       "  947.273,1269.97 949.905,2085.5 952.538,1433.18 955.171,1959.2 957.804,1401.4 960.436,1616.88 963.069,1721.53 965.702,1322.11 968.335,1491.01 970.967,1872.7 \n",
       "  973.6,1686.8 976.233,1703.8 978.866,1715.54 981.498,1610.85 984.131,1398.06 986.764,1572.55 989.397,896.527 992.029,1358.35 994.662,1639.59 997.295,1092.98 \n",
       "  999.928,1639.59 1002.56,1727.61 1005.19,1546.64 1007.83,1022.82 1010.46,1831.11 1013.09,1546.64 1015.72,1472.68 1018.36,1555.22 1020.99,1296.63 1023.62,1496.25 \n",
       "  1026.26,1406.47 1028.89,1740.05 1031.52,1288.77 1034.15,1546.64 1036.79,1676.92 1039.42,1721.53 1042.05,1399.91 1044.68,1707.79 1047.32,1899.59 1049.95,1624.97 \n",
       "  1052.58,1398.06 1055.22,1455.98 1057.85,1779.75 1060.48,1420.09 1063.11,1546.64 1065.75,1670.46 1068.38,1740.05 1071.01,1703.8 1073.64,1686.8 1076.28,1690.24 \n",
       "  1078.91,1692.37 1081.54,1491.01 1084.18,1633.03 1086.81,1401.4 1089.44,1479.73 1092.07,1415.06 1094.71,1343.48 1097.34,1013.99 1099.97,1219.96 1102.6,1078.98 \n",
       "  1105.24,1415.06 1107.87,1686.8 1110.5,1398.06 1113.14,1358.35 1115.77,1703.8 1118.4,1088.99 1121.03,1523.49 1123.67,1092.98 1126.3,1491.01 1128.93,1740.05 \n",
       "  1131.57,1526.81 1134.2,1743.09 1136.83,1595.7 1139.46,1499.43 1142.1,1125.66 1144.73,1537.22 1147.36,1491.01 1149.99,1350.85 1152.63,1571.15 1155.26,1540.08 \n",
       "  1157.89,1686.8 1160.53,1858.04 1163.16,1959.2 1165.79,1398.06 1168.42,1398.06 1171.06,1491.01 1173.69,1654.74 1176.32,1128.26 1178.95,1583.96 1181.59,1144.05 \n",
       "  1184.22,1331.94 1186.85,1563.64 1189.49,818.5 1192.12,1648.18 1194.75,1229.16 1197.38,1639.59 1200.02,1435.39 1202.65,1671.74 1205.28,1856.37 1207.91,1779.75 \n",
       "  1210.55,1441.95 1213.18,1202.27 1215.81,1843.96 1218.45,1501.56 1221.08,1415.06 1223.71,1696.16 1226.34,1558.69 1228.98,1470.69 1231.61,1474.67 1234.24,1256.58 \n",
       "  1236.87,1447.12 1239.51,1398.06 1242.14,834.7 1244.77,1210.69 1247.41,1109.32 1250.04,1322.11 1252.67,1306.96 1255.3,1457.67 1257.94,1373.78 1260.57,1670.46 \n",
       "  1263.2,1646.25 1265.84,1735.86 1268.47,1481.86 1271.1,1202.27 1273.73,1872.7 1276.37,1703.8 1279,1464.13 1281.63,1546.64 1284.26,1796.76 1286.9,1491.01 \n",
       "  1289.53,1670.46 1292.16,1561.44 1294.8,1415.06 1297.43,1546.64 1300.06,1325.21 1302.69,1288.77 1305.33,1779.75 1307.96,1524.35 1310.59,1350.85 1313.22,900.713 \n",
       "  1315.86,1558.71 1318.49,2112.38 1321.12,1779.75 1323.76,1181.95 1326.39,1890.43 1329.02,1610.85 1331.65,1398.72 1334.29,1899.59 1336.92,1398.06 1339.55,1976.2 \n",
       "  1342.18,1779.75 1344.82,1398.06 1347.45,1610.85 1350.08,1336.23 1352.72,1610.85 1355.35,1251.99 1357.98,1381.72 1360.61,1703.8 1363.25,1639.59 1365.88,1546.64 \n",
       "  1368.51,1607.77 1371.15,1899.59 1373.78,1441.95 1376.41,1415.06 1379.04,1752.87 1381.68,1371.17 1384.31,1572.55 1386.94,1495.2 1389.57,1558.71 1392.21,1109.32 \n",
       "  1394.84,1305.1 1397.47,1670.46 1400.11,1322.11 1402.74,1658.72 1405.37,1759.43 1408,1610.85 1410.64,1622.26 1413.27,1253.53 1415.9,1301.05 1418.53,1604.65 \n",
       "  1421.17,1393.83 1423.8,1257.9 1426.43,1381.72 1429.07,1229.16 1431.7,1899.59 1434.33,1721.53 1436.96,1415.06 1439.6,1384.94 1442.23,1501.56 1444.86,1301.78 \n",
       "  1447.49,1546.64 1450.13,1740.05 1452.76,1779.75 1455.39,1659.91 1458.03,1847.43 1460.66,758.752 1463.29,1675.55 1465.92,1519.75 1468.56,1549.78 1471.19,1269.97 \n",
       "  1473.82,864.467 1476.46,1899.59 1479.09,1583.96 1481.72,1186.14 1484.35,988.96 1486.99,1491.01 1489.62,1703.8 1492.25,1197.22 1494.88,1389.81 1497.52,1344.94 \n",
       "  1500.15,1583.96 1502.78,1890.43 1505.42,1398.06 1508.05,1823.64 1510.68,1622.58 1513.31,1606.25 1515.95,1288.77 1518.58,1948.65 1521.21,1633.37 1523.84,1899.59 \n",
       "  1526.48,1670.46 1529.11,1036.86 1531.74,1470.69 1534.38,1407.42 1537.01,1534.9 1539.64,1358.35 1542.27,1679.29 1544.91,1446.09 1547.54,1610.85 1550.17,1197.1 \n",
       "  1552.8,1410.75 1555.44,1257.9 1558.07,1322.11 1560.7,1523.49 1563.34,1282.41 1565.97,1597.19 1568.6,1491.01 1571.23,1647.09 1573.87,1610.85 1576.5,1779.75 \n",
       "  1579.13,1595.7 1581.77,1398.06 1584.4,1451.31 1587.03,1686.8 1589.66,1546.64 1592.3,1441.95 1594.93,1401.4 1597.56,1490.99 1600.19,1552.63 1602.83,1491.01 \n",
       "  1605.46,1398.06 1608.09,1610.85 1610.73,1621.48 1613.36,1673.89 1615.99,1532.7 1618.62,1322.11 1621.26,1496.25 1623.89,1491.01 1626.52,1491.01 1629.15,1670.46 \n",
       "  1631.79,1558.71 1634.42,1549.78 1637.05,1139.55 1639.69,1583.96 1642.32,1329.11 1644.95,1512.38 1647.58,1202.27 1650.22,1322.11 1652.85,1419.72 1655.48,1295.22 \n",
       "  1658.11,1322.11 1660.75,1398.06 1663.38,1583.96 1666.01,1646.25 1668.65,1735.86 1671.28,1594.25 1673.91,1624.97 1676.54,1642.91 1679.18,1426.8 1681.81,1972.22 \n",
       "  1684.44,1823.64 1687.07,1631.17 1689.71,1804.14 1692.34,1512.38 1694.97,1610.85 1697.61,1493.62 1700.24,1289.48 1702.87,1281.44 1705.5,1465.76 1708.14,1398.06 \n",
       "  1710.77,1342.86 1713.4,1534.9 1716.04,1322.11 1718.67,1202.27 1721.3,1358.35 1723.93,1501.56 1726.57,1491.01 1729.2,1206.46 1731.83,1745.49 1734.46,1818.35 \n",
       "  1737.1,1496.04 1739.73,1358.35 1742.36,1381.72 1745,1278.22 1747.63,1583.96 1750.26,907.329 1752.89,1049.09 1755.53,1664.1 1758.16,1583.96 1760.79,1441.95 \n",
       "  1763.42,1610.85 1766.06,1594.51 1768.69,1358.35 1771.32,1358.35 1773.96,1583.96 1776.59,1763.41 1779.22,1257.9 1781.85,1583.96 1784.49,1721.53 1787.12,1948.65 \n",
       "  1789.75,1441.95 1792.38,1654.74 1795.02,2012.87 1797.65,1963.8 1800.28,1109.32 1802.92,1700.92 1805.55,1610.85 1808.18,1608.63 1810.81,1630.76 1813.45,1546.64 \n",
       "  1816.08,1583.96 1818.71,1690.14 1821.35,1501.56 1823.98,1167.33 1826.61,1491.01 1829.24,1779.75 1831.88,1434.97 1834.51,1583.96 1837.14,1394.11 1839.77,1721.53 \n",
       "  1842.41,1441.95 1845.04,1839.36 1847.67,1624.97 1850.31,1202.27 1852.94,1202.27 1855.57,1847.45 1858.2,1610.85 1860.84,1261.88 1863.47,1703.8 1866.1,1703.8 \n",
       "  1868.73,1814.77 1871.37,1687.46 1874,1525.74 1876.63,1491.01 1879.27,1639.59 1881.9,1398.06 1884.53,1006.48 1887.16,1227.31 1889.8,1610.85 1892.43,1470.69 \n",
       "  1895.06,1779.75 1897.69,1686.8 1900.33,1828.81 1902.96,1670.46 1905.59,1639.59 1908.23,1467.65 1910.86,1512.38 1913.49,1385.74 1916.12,1512.38 1918.76,1381.72 \n",
       "  1921.39,1322.11 1924.02,1686.8 1926.66,1491.01 1929.29,1764.03 1931.92,1288.77 1934.55,1288.77 1937.19,1389.81 1939.82,1322.11 1942.45,1162.57 1945.08,1480.72 \n",
       "  1947.72,1610.85 1950.35,1491.01 1952.98,1441.95 1955.62,1441.95 1958.25,1899.59 1960.88,1703.8 1963.51,1381.72 1966.15,1594.51 1968.78,1779.75 1971.41,1069.62 \n",
       "  1974.04,869.642 1976.68,1654.74 1979.31,940.416 1981.94,1202.27 1984.58,1593.18 1987.21,1398.06 1989.84,1633.37 1992.47,1534.9 1995.11,1308.45 1997.74,1610.85 \n",
       "  2000.37,1546.64 2003,1398.06 2005.64,1491.01 2008.27,1441.95 2010.9,1308.45 2013.54,1607.02 2016.17,1295.22 2018.8,1322.11 2021.43,1687.46 2024.07,1583.96 \n",
       "  2026.7,1322.11 2029.33,1371.17 2031.97,1109.32 2034.6,1292.63 2037.23,1234.75 2039.86,1333.52 2042.5,1263.89 2045.13,1279.89 2047.76,1069.62 2050.39,1130.68 \n",
       "  2053.03,1333.37 2055.66,1006.48 2058.29,1257.9 2060.93,1553.15 2063.56,1546.64 2066.19,1202.27 2068.82,1197.35 2071.46,1139.55 2074.09,1301.05 2076.72,1229.16 \n",
       "  2079.35,1389.81 2081.99,1301.05 2084.62,1185.93 2087.25,1109.32 2089.89,1398.06 2092.52,1375.63 2095.15,1153.21 2097.78,1028.08 2100.42,1441.95 2103.05,1509.95 \n",
       "  2105.68,1238.52 2108.31,948.832 2110.95,1186.94 2113.58,1155.06 2116.21,1269.97 2118.85,1373.78 2121.48,1306.96 2124.11,1350.85 2126.74,1381.72 2129.38,1523.49 \n",
       "  2132.01,1375.36 2134.64,918.52 2137.28,1159.14 2139.91,1202.27 2142.54,1308.45 2145.17,1109.32 2147.81,1373.78 2150.44,1278.22 2153.07,1364.71 2155.7,1301.05 \n",
       "  2158.34,1295.22 2160.97,1457.67 2163.6,1491.01 2166.24,1288.77 2168.87,1654.74 2171.5,1654.74 2174.13,1779.75 2176.77,1644.38 2179.4,1491.01 2182.03,2102.14 \n",
       "  2184.66,1218.19 2187.3,2068.49 2189.93,2125.2 2192.56,1430.78 2195.2,1020.93 2197.83,1624.97 2200.46,1109.32 2203.09,1415.06 2205.73,1130.68 2208.36,1402.47 \n",
       "  2210.99,1546.61 2213.62,1530.3 2216.26,1407.42 2218.89,1408.18 2221.52,1288.77 2224.16,1358.35 2226.79,1288.77 2229.42,1546.64 2232.05,1516.79 2234.69,1583.96 \n",
       "  2237.32,1706.48 2239.95,1646.73 2242.58,1269.97 2245.22,1740.05 2247.85,1686.8 2250.48,1202.27 2253.12,1796.76 2255.75,1399.91 2258.38,1723.71 2261.01,1371.17 \n",
       "  2263.65,1662.52 2266.28,1711.59 2268.91,1567.63 2271.55,1398.06 2274.18,1720.14 2276.81,1113.97 2279.44,1470.69 2282.08,1202.27 2284.71,1081.13 2287.34,1109.32 \n",
       "  2289.97,1546.64 2292.61,1322.11 2295.24,1670.46 2297.87,1758.38 2300.51,1686.8 2303.14,940.416 2305.77,1572.55 2308.4,1343.48 2311.04,1703.8 2313.67,1441.95 \n",
       "  2316.3,2008.26 2318.93,1583.96 2321.57,1389.81 2324.2,1779.75 2326.83,1732.83 2329.47,1371.17 2332.1,1251.34 2334.73,1546.64 2337.36,1202.27 2340,1626.57 \n",
       "  2342.63,1441.95 2345.26,1381.72 2347.89,1257.9 2350.53,1725.17 2353.16,1703.8 2355.79,1527.26 2358.43,1207.3 2361.06,1485.84 2363.69,1202.27 2366.32,1639.59 \n",
       "  2368.96,981.231 2371.59,1779.75 2374.22,1198.13 2376.86,1401.4 2379.49,1322.11 2382.12,1246.16 2384.75,1177.02 2387.39,864.467 2390.02,1358.35 2392.65,1283.81 \n",
       "  2395.28,1350.85 2397.92,1703.8 2400.55,1847.45 2403.18,1867.69 2405.82,1546.64 2408.45,1085.05 2411.08,1703.8 2413.71,1491.01 2416.35,1470.69 2418.98,1177.02 \n",
       "  2421.61,1322.11 2424.24,1518.56 2426.88,1284.94 2429.51,1386.32 2432.14,2217.07 2434.78,1610.85 2437.41,1603.34 2440.04,1534.9 2442.67,1566.96 2445.31,1624.97 \n",
       "  2447.94,1724.13 2450.57,1491.01 2453.2,1512.38 2455.84,1162.57 2458.47,1872.7 2461.1,1244.88 2463.74,1823.64 2466.37,1319.59 2469,1322.11 2471.63,1301.78 \n",
       "  2474.27,1610.85 2476.9,1518.56 2479.53,1398.04 2482.17,1597.19 2484.8,1624.97 2487.43,1257.9 2490.06,1779.75 2492.7,1752.87 2495.33,1779.75 2497.96,1703.8 \n",
       "  2500.59,1659.91 2503.23,1009.75 2505.86,1288.77 2508.49,1885.93 2511.13,1828.81 2513.76,1149.02 2516.39,1229.16 2519.02,1752.87 2521.66,1610.85 2524.29,1276.14 \n",
       "  2526.92,1766.09 2529.55,820.578 2532.19,1146.07 2534.82,1202.27 2537.45,1389.81 2540.09,1448.9 2542.72,1676.92 2545.35,1246.16 2547.98,1779.75 2550.62,1501.56 \n",
       "  2553.25,1805.53 2555.88,1517.9 2558.51,1415.06 2561.15,1398.06 2563.78,1555.89 2566.41,1432.79 2569.05,1703.8 2571.68,1546.61 2574.31,1731.61 2576.94,1257.9 \n",
       "  2579.58,1631.17 2582.21,1109.32 2584.84,1546.64 2587.48,1322.11 2590.11,1740.05 2592.74,1534.9 2595.37,1686.8 2598.01,1470.69 2600.64,1546.64 2603.27,1301.78 \n",
       "  2605.9,1431.4 2608.54,1543.41 2611.17,1251.99 2613.8,1153.21 2616.44,1373.78 2619.07,1423.83 2621.7,1808.49 2624.33,1686.8 2626.97,1801.12 2629.6,1723.35 \n",
       "  2632.23,1415.06 2634.86,1491.01 2637.5,2042.65 2640.13,1491.01 2642.76,2119.85 2645.4,1872.7 2648.03,1759.43 2650.66,1686.8 2653.29,1491.01 2655.93,1441.95 \n",
       "  2658.56,1441.95 2661.19,1603.6 2663.82,1684.42 2666.46,1490.99 2669.09,1760.22 2671.72,1381.72 2674.36,1558.71 2676.99,1610.85 2679.62,1686.8 2682.25,1322.11 \n",
       "  2684.89,1109.32 2687.52,1757.23 2690.15,1779.75 2692.78,1546.64 2695.42,1322.11 2698.05,1786.87 2700.68,2094.53 2703.32,1029.91 2705.95,1069.62 2708.58,1278.22 \n",
       "  2711.21,1546.01 2713.85,1577.2 2716.48,1670.46 2719.11,1823.64 2721.75,1457.67 2724.38,1959.2 2727.01,1624.97 2729.64,1322.11 2732.28,845.089 2734.91,1336.23 \n",
       "  2737.54,1555.22 2740.17,1389.81 2742.81,1779.75 2745.44,1109.32 2748.07,1470.69 2750.71,1491.01 2753.34,1789.11 2755.97,1470.69 2758.6,1447.12 2761.24,2126.5 \n",
       "  2763.87,1833 2766.5,1251.99 2769.13,1720.14 2771.77,1501.56 2774.4,1610.85 2777.03,1735.86 2779.67,1610.85 2782.3,1610.85 2784.93,1670.46 2787.56,1546.64 \n",
       "  2790.2,1540.08 2792.83,1398.06 2795.46,1571.15 2798.09,1171.18 2800.73,820.578 2803.36,1779.75 2805.99,1814.48 2808.63,1706.59 2811.26,1779.75 2813.89,1639.59 \n",
       "  2816.52,1426.8 2819.16,1779.75 2821.79,1779.75 2824.42,1779.75 2827.06,1358.35 2829.69,1491.01 2832.32,1162.57 2834.95,1129 2837.59,1197.1 2840.22,1088.99 \n",
       "  2842.85,1181.95 2845.48,1441.95 2848.12,1684.42 2850.75,1336.23 2853.38,1257.9 2856.02,1567.38 2858.65,1703.8 2861.28,1344.94 2863.91,1415.06 2866.55,1109.32 \n",
       "  2869.18,1398.06 2871.81,1670.46 2874.44,1823.64 2877.08,1288.77 2879.71,1631.17 2882.34,1992.54 2884.98,1508.02 2887.61,1322.11 2890.24,1322.11 2892.87,1269.31 \n",
       "  2895.51,1610.85 2898.14,2112.38 2900.77,1681.28 2903.4,1415.06 2906.04,1534.9 2908.67,1721.53 2911.3,1595.7 2913.94,1672.72 2916.57,1358.35 2919.2,2021.28 \n",
       "  2921.83,1610.85 2924.47,1743.5 2927.1,1415.06 2929.73,1512.38 2932.37,1847.45 2935,1709.8 2937.63,1899.59 2940.26,1470.69 2942.9,1823.64 2945.53,1398.06 \n",
       "  2948.16,1686.8 2950.79,1398.06 2953.43,1546.64 2956.06,1740.05 2958.69,1610.85 2961.33,1721.53 2963.96,1899.59 2966.59,1441.95 2969.22,1412.9 2971.86,1322.11 \n",
       "  2974.49,1470.69 2977.12,1639.56 2979.75,1315.84 2982.39,1770.6 2985.02,1779.75 2987.65,1659.91 2990.29,1558.71 2992.92,1791.83 2995.55,1261.37 2998.18,1447.12 \n",
       "  3000.82,1470.69 3003.45,1257.9 3006.08,1451.31 3008.71,1465.24 3011.35,1348.15 3013.98,1558.71 3016.61,1451.31 3019.25,1583.96 3021.88,1381.72 3024.51,1838.03 \n",
       "  3027.14,1437.76 3029.78,1398.06 3032.41,1605.33 3035.04,1648.18 3037.68,1759.39 3040.31,1202.27 3042.94,1491.01 3045.57,1491.01 3048.21,1687.46 3050.84,1670.46 \n",
       "  3053.47,1343.48 3056.1,1779.75 3058.74,1546.64 3061.37,1401.4 3064,1398.06 3066.64,1385.74 3069.27,1354.17 3071.9,1177.02 3074.53,1610.85 3077.17,1703.8 \n",
       "  3079.8,1441.95 3082.43,1610.85 3085.06,1583.96 3087.7,1406.47 3090.33,1451.31 3092.96,1721.53 3095.6,1491.01 3098.23,1381.72 3100.86,1740.05 3103.49,1999.54 \n",
       "  3106.13,1490.99 3108.76,1371.17 3111.39,1212.82 3114.02,1740.05 3116.66,1373.78 3119.29,1336.23 3121.92,1343.48 3124.56,1301.05 3127.19,1401.4 3129.82,1491.01 \n",
       "  3132.45,1167.33 3135.09,1542.08 3137.72,1899.59 3140.35,1470.69 3142.98,1240.41 3145.62,1261.88 3148.25,1525.74 3150.88,1415.06 3153.52,1654.12 3156.15,1470.69 \n",
       "  3158.78,1030.71 3161.41,1631.17 3164.05,1686.8 3166.68,1686.8 3169.31,1703.8 3171.95,1115.17 3174.58,1571.15 3177.21,1546.64 3179.84,1337.83 3182.48,1823.64 \n",
       "  3185.11,1288.77 3187.74,1229.16 3190.37,1389.81 3193.01,1705.19 3195.64,1479.28 3198.27,1727.61 3200.91,1315.7 3203.54,1491.01 3206.17,1322.11 3208.8,1491.01 \n",
       "  3211.44,1202.27 3214.07,1381.72 3216.7,1506.44 3219.33,1992.54 3221.97,1703.8 3224.6,2019.39 3227.23,1177.02 3229.87,1381.72 3232.5,1523.49 3235.13,1333.84 \n",
       "  3237.76,1823.64 3240.4,1715.54 3243.03,1936.92 3245.66,1721.53 3248.29,1257.9 3250.93,1109.32 3253.56,1288.77 3256.19,1398.06 3258.83,1367.19 3261.46,1447.12 \n",
       "  3264.09,1441.95 3266.72,1546.64 3269.36,1415.06 3271.99,1707.57 3274.62,1229.16 3277.26,1251.34 3279.89,1528.34 3282.52,1623.67 3285.15,1571.15 3287.79,1639.59 \n",
       "  3290.42,1671.33 3293.05,1724.13 3295.68,1342.43 3298.32,110.443 3300.95,1322.11 3303.58,1406.47 3306.22,1928.33 3308.85,1717.92 3311.48,1801.12 3314.11,1322.11 \n",
       "  3316.75,1342.43 3319.38,1470.69 3322.01,1614.09 3324.64,1546.64 3327.28,1624.97 3329.91,2028.79 3332.54,1534.9 3335.18,1447.12 3337.81,1358.35 3340.44,1620.68 \n",
       "  3343.07,1928.33 3345.71,1371.17 3348.34,1715.54 3350.97,1441.95 3353.6,1779.75 3356.24,1069.62 3358.87,1470.69 3361.5,1571.15 3364.14,1135.09 3366.77,1686.8 \n",
       "  3369.4,1491.01 3372.03,1457.67 3374.67,2068.49 3377.3,1146.65 3379.93,1779.75 3382.57,1202.27 3385.2,1175.39 3387.83,1583.96 3390.46,1654.74 3393.1,1534.9 \n",
       "  3395.73,1491.01 3398.36,1540.08 3400.99,1491.01 3403.63,1358.35 3406.26,1016.36 3408.89,1362.92 3411.53,1571.15 3414.16,1703.8 3416.79,1109.32 3419.42,1229.16 \n",
       "  3422.06,1381.72 3424.69,1257.9 3427.32,1610.85 3429.95,1081.13 3432.59,1202.27 3435.22,1916.59 3437.85,1603.96 3440.49,1460.88 3443.12,1066 3445.75,1398.06 \n",
       "  3448.38,1312.95 3451.02,1109.32 3453.65,1173.53 3456.28,1248.2 3458.91,1636.89 3461.55,1431.4 3464.18,1693.26 3466.81,1033.37 3469.45,1546.64 3472.08,1639.59 \n",
       "  3474.71,1703.8 3477.34,1389.97 3479.98,1406.47 3482.61,1501.56 3485.24,1558.71 3487.88,1218.19 3490.51,1153.21 3493.14,1534.9 3495.77,1638.4 3498.41,2068.49 \n",
       "  3501.04,1415.06 3503.67,1423.83 3506.3,1491.01 3508.94,1720.14 3511.57,1177.02 3514.2,1138.06 3516.84,1385.74 3519.47,1491.01 3522.1,1546.64 3524.73,1441.95 \n",
       "  3527.37,1491.01 3530,1257.9 3532.63,1501.56 3535.26,1597.19 3537.9,1441.95 3540.53,1088.99 3543.16,1549.02 3545.8,1358.35 3548.43,1326.1 3551.06,1269.97 \n",
       "  3553.69,1415.06 3556.33,1202.27 3558.96,1686.8 3561.59,1181.95 3564.22,1366 3566.86,1126.32 3569.49,1771.5 3572.12,1322.11 3574.76,1336.23 3577.39,1069.62 \n",
       "  3580.02,1251.34 3582.65,1308.45 3585.29,1703.8 3587.92,1441.95 3590.55,1470.69 3593.19,1153.21 3595.82,1842.88 3598.45,1248.2 3601.08,1599.89 3603.72,1703.8 \n",
       "  3606.35,1109.32 3608.98,1257.9 3611.61,1109.32 3614.25,1303.76 3616.88,1686.8 3619.51,1667.42 3622.15,1779.75 3624.78,1381.72 3627.41,1501.56 3630.04,1575.57 \n",
       "  3632.68,1779.75 3635.31,1686.8 3637.94,1358.35 3640.57,1423.83 3643.21,1627.85 3645.84,1600.97 3648.47,1202.27 3651.11,1266.48 \n",
       "  \"/>\n",
       "<polyline clip-path=\"url(#clip062)\" style=\"stroke:#e26f46; stroke-linecap:butt; stroke-linejoin:round; stroke-width:4; stroke-opacity:1; fill:none\" points=\"\n",
       "  262.758,1605.74 265.391,1426.71 268.023,1567.15 270.656,1333.14 273.289,1512.83 275.922,1431.13 278.554,1511.82 281.187,1551.89 283.82,1389.77 286.453,1573.18 \n",
       "  289.085,1611.83 291.718,1341.36 294.351,1447.9 296.984,1382.29 299.616,1348.57 302.249,1561.15 304.882,1550.04 307.515,1575.41 310.147,1328.9 312.78,1614.53 \n",
       "  315.413,1412.93 318.046,1515.73 320.678,1577.52 323.311,1576.46 325.944,1488.38 328.577,1577.52 331.209,1594.17 333.842,1611.89 336.475,1601.65 339.108,1564.86 \n",
       "  341.74,1486.99 344.373,1723.6 347.006,1333.14 349.639,1455.44 352.271,1369.94 354.904,1573.29 357.537,1603.69 360.17,1570.57 362.802,1572.24 365.435,1519.96 \n",
       "  368.068,1576.46 370.701,1541.57 373.333,1566.71 375.966,1611.89 378.599,1546.33 381.232,1492.29 383.864,1537.22 386.497,1523.17 389.13,1477.3 391.763,1572.24 \n",
       "  394.395,1326.14 397.028,1333.53 399.661,1458.01 402.294,1333.53 404.926,1339.18 407.559,1597.44 410.192,1538.5 412.825,1337.39 415.457,1576.46 418.09,1575.41 \n",
       "  420.723,1597.44 423.356,1467.58 425.988,1359.52 428.621,1344.73 431.254,1556.08 433.887,1389.77 436.519,1611.89 439.152,1479.66 441.785,1609.43 444.418,1572.08 \n",
       "  447.05,1574.35 449.683,1324.65 452.316,1559.99 454.949,1556.08 457.581,1452.8 460.214,1496.2 462.847,1485.72 465.48,1581.48 468.112,1453.57 470.745,1570.57 \n",
       "  473.378,1460.15 476.011,1576.46 478.643,1357.22 481.276,1545.81 483.909,1412.93 486.542,1608.36 489.174,1331.05 491.807,1572.08 494.44,1312.37 497.073,1597.59 \n",
       "  499.705,1378.45 502.338,1549.6 504.971,1597.59 507.604,1574.35 510.236,1366.47 512.869,1554.37 515.502,1411.46 518.135,1613.6 520.767,1570.57 523.4,1574.35 \n",
       "  526.033,1599.6 528.666,1572.24 531.298,1571.8 533.931,1573.29 536.564,1588.64 539.197,1479.66 541.829,1496.2 544.462,1601.65 547.095,1723.6 549.728,1524.48 \n",
       "  552.36,1435.66 554.993,1327.93 557.626,1816.55 560.259,1510.65 562.891,1393.07 565.524,1457.68 568.157,1545.81 570.79,1424.98 573.422,1577.52 576.055,1505.46 \n",
       "  578.688,1460.61 581.321,1507.92 583.953,1615.73 586.586,1432.8 589.219,1447.9 591.852,1484.44 594.484,1422.48 597.117,1443 599.75,1528.11 602.383,1597.44 \n",
       "  605.015,1340.18 607.648,1427.44 610.281,1534.32 612.914,1455.24 615.546,1353.41 618.179,1598.43 620.812,1551.98 623.445,1597.59 626.077,1416.38 628.71,1460.15 \n",
       "  631.343,1570.38 633.976,1511.22 636.608,1344.73 639.241,1380.76 641.874,1569.87 644.507,1576.46 647.139,1385.36 649.772,1337.39 652.405,1386.89 655.038,1333.66 \n",
       "  657.67,1321.22 660.303,1387.65 662.936,1344.73 665.569,1483.81 668.201,1452.93 670.834,1545.81 673.467,1340.23 676.1,1548.34 678.732,1327.33 681.365,1333.44 \n",
       "  683.998,1421.29 686.631,1597.98 689.263,1424.98 691.896,1393.07 694.529,1551.98 697.161,1574.35 699.794,1544.74 702.427,1523.17 705.06,1486.35 707.692,1324.65 \n",
       "  710.325,1335.06 712.958,1598.89 715.591,1521.91 718.223,1496.73 720.856,1577.52 723.489,1611.89 726.122,1603.69 728.754,1556.08 731.387,1577.52 734.02,1423.75 \n",
       "  736.653,1597.59 739.285,1606.12 741.918,1572.24 744.551,1577.52 747.184,1616.34 749.816,1554.37 752.449,1528.11 755.082,1398.18 757.715,1601.65 760.347,1394.6 \n",
       "  762.98,1572.08 765.613,1489.79 768.246,1385.92 770.878,1571.18 773.511,1432.66 776.144,1469.74 778.777,1445.47 781.409,1597.44 784.042,1575.41 786.675,1373.24 \n",
       "  789.308,1537.22 791.94,1335.06 794.573,1467.58 797.206,1353.41 799.839,1576.46 802.471,1389.77 805.104,1356.04 807.737,1555.59 810.37,1344.73 813.002,1385.44 \n",
       "  815.635,1504.01 818.268,1505.39 820.901,1567.15 823.533,1467.22 826.166,1328.9 828.799,1479.66 831.432,1573.29 834.064,1573.29 836.697,1603.69 839.33,1581.48 \n",
       "  841.963,1551.98 844.595,1476.48 847.228,1576.46 849.861,1556.08 852.494,1340.18 855.126,1576.46 857.759,1597.44 860.392,1597.98 863.025,1603.69 865.657,1577.52 \n",
       "  868.29,1573.29 870.923,1390.04 873.556,1388.84 876.188,1614.97 878.821,1373.09 881.454,1573.03 884.087,1418.07 886.719,1323.64 889.352,1577.52 891.985,1492.35 \n",
       "  894.618,1350.43 897.25,1335.06 899.883,1394.99 902.516,1412.93 905.149,1527.7 907.781,1597.98 910.414,1324.65 913.047,1406.29 915.68,1575.41 918.312,1597.59 \n",
       "  920.945,1321.27 923.578,1533.1 926.211,1399.68 928.843,1328.65 931.476,1323.64 934.109,1406.29 936.742,1333.14 939.374,1327.72 942.007,1338.67 944.64,1551.89 \n",
       "  947.273,1473.55 949.905,1337.39 952.538,1609.43 955.171,1327.33 957.804,1492.35 960.436,1328.9 963.069,1588.64 965.702,1353.41 968.335,1492.29 970.967,1574.31 \n",
       "  973.6,1341.18 976.233,1338.55 978.866,1344.73 981.498,1594.17 984.131,1452.93 986.764,1575.41 989.397,1550.04 992.029,1570.38 994.662,1393.03 997.295,1404.66 \n",
       "  999.928,1598.43 1002.56,1333.66 1005.19,1574.31 1007.83,1597.98 1010.46,1411.21 1013.09,1556.08 1015.72,1576.46 1018.36,1344.73 1020.99,1370.98 1023.62,1338.55 \n",
       "  1026.26,1538.5 1028.89,1576.46 1031.52,1521.91 1034.15,1567.15 1036.79,1597.59 1039.42,1517.01 1042.05,1500.1 1044.68,1343.68 1047.32,1699.34 1049.95,1477.22 \n",
       "  1052.58,1340.18 1055.22,1506.15 1057.85,1337.39 1060.48,1597.44 1063.11,1514.35 1065.75,1494.44 1068.38,1550.21 1071.01,1507.08 1073.64,1512.84 1076.28,1488.99 \n",
       "  1078.91,1513.93 1081.54,1492.5 1084.18,1477.37 1086.81,1490.4 1089.44,1464.51 1092.07,1456.19 1094.71,1470.54 1097.34,1550.21 1099.97,1503.15 1102.6,1482.89 \n",
       "  1105.24,1447.02 1107.87,1428.27 1110.5,1550.21 1113.14,1447.02 1115.77,1553.72 1118.4,1489.3 1121.03,1550.98 1123.67,1646.57 1126.3,1545.16 1128.93,1458.42 \n",
       "  1131.57,1521.48 1134.2,1522.99 1136.83,1458.64 1139.46,1483.89 1142.1,1464.17 1144.73,1621.89 1147.36,1543.94 1149.99,1625.24 1152.63,1618.87 1155.26,1515.38 \n",
       "  1157.89,1480.59 1160.53,1556.19 1163.16,1675.11 1165.79,1632.5 1168.42,1516.18 1171.06,1446.82 1173.69,1494.44 1176.32,1509.21 1178.95,1541.85 1181.59,1537.67 \n",
       "  1184.22,1646.97 1186.85,1539.76 1189.49,1594.02 1192.12,1432.46 1194.75,1466.6 1197.38,1642.32 1200.02,1535.06 1202.65,1494.44 1205.28,1508.04 1207.91,1428.27 \n",
       "  1210.55,1620.38 1213.18,1618.87 1215.81,1542.55 1218.45,1491.87 1221.08,1647.62 1223.71,1425.51 1226.34,1453.94 1228.98,1548.41 1231.61,1491.5 1234.24,1600.64 \n",
       "  1236.87,1550.14 1239.51,1635.16 1242.14,1492.5 1244.77,1468.55 1247.41,1620.38 1250.04,1456.77 1252.67,1541.85 1255.3,1590.44 1257.94,1543.94 1260.57,1451.03 \n",
       "  1263.2,1432.46 1265.84,1516.45 1268.47,1550.21 1271.1,1542.55 1273.73,1512.84 1276.37,1491.87 1279,1545.34 1281.63,1620.38 1284.26,1417.52 1286.9,1620.38 \n",
       "  1289.53,1505.43 1292.16,1483.67 1294.8,1550.21 1297.43,1529.02 1300.06,1545.34 1302.69,1544.88 1305.33,1533.55 1307.96,1465.39 1310.59,1515.65 1313.22,1456.22 \n",
       "  1315.86,1503.15 1318.49,1514.85 1321.12,1464.96 1323.76,1543.25 1326.39,1548.79 1329.02,1492.12 1331.65,1468.77 1334.29,1551.25 1336.92,1514.85 1339.55,1621.89 \n",
       "  1342.18,1494.44 1344.82,1556.29 1347.45,1491.13 1350.08,1600.64 1352.72,1447.93 1355.35,1454.68 1357.98,1618.87 1360.61,1492.24 1363.25,1462.62 1365.88,1480.55 \n",
       "  1368.51,1657.19 1371.15,1454.68 1373.78,1600.64 1376.41,1530.58 1379.04,1544.64 1381.68,1543.94 1384.31,1618.87 1386.94,1506.26 1389.57,1428.27 1392.21,1643.38 \n",
       "  1394.84,1483.89 1397.47,1497.38 1400.11,1447.02 1402.74,1552.33 1405.37,1638.32 1408,1507.08 1410.64,1436.76 1413.27,1514.69 1415.9,1647.62 1418.53,1638.26 \n",
       "  1421.17,1547.48 1423.8,1541.85 1426.43,1543.86 1429.07,1550.98 1431.7,1514.46 1434.33,1514.54 1436.96,1492.12 1439.6,1618.87 1442.23,1515.91 1444.86,1472.93 \n",
       "  1447.49,1473.48 1450.13,1496.14 1452.76,1511.23 1455.39,1490.03 1458.03,1591.7 1460.66,1477.34 1463.29,1617.99 1465.92,1491.5 1468.56,1493.22 1471.19,1462.01 \n",
       "  1473.82,1465.08 1476.46,1491.87 1479.09,1460.52 1481.72,1521.48 1484.35,1543.25 1486.99,1497.23 1489.62,1563.27 1492.25,1542.55 1494.88,1421.3 1497.52,1537.67 \n",
       "  1500.15,1484.38 1502.78,1542.55 1505.42,1570.76 1508.05,1493.22 1510.68,1483.32 1513.31,1644.44 1515.95,1478.9 1518.58,1475.83 1521.21,1546.32 1523.84,1490.77 \n",
       "  1526.48,1471.22 1529.11,1477.59 1531.74,1475.83 1534.38,1628.98 1537.01,1445.51 1539.64,1515.38 1542.27,1516.2 1544.91,1538.36 1547.54,1509.21 1550.17,1490.03 \n",
       "  1552.8,1610.74 1555.44,1565.34 1558.07,1535.23 1560.7,1430.05 1563.34,1480.55 1565.97,1563.27 1568.6,1452.06 1571.23,1621.89 1573.87,1607.11 1576.5,1492.24 \n",
       "  1579.13,1618.87 1581.77,1490.03 1584.4,1464.51 1587.03,1500.82 1589.66,1508.72 1592.3,1547.33 1594.93,1515.65 1597.56,1490.03 1600.19,1501.49 1602.83,1475.35 \n",
       "  1605.46,1533.55 1608.09,1470.16 1610.73,1502.98 1613.36,1457.32 1615.99,1515.44 1618.62,1492.67 1621.26,1496.61 1623.89,1519.97 1626.52,1603.72 1629.15,1641.35 \n",
       "  1631.79,1638.26 1634.42,1514.46 1637.05,1545.34 1639.69,1548.17 1642.32,1538.36 1644.95,1435.14 1647.58,1553.72 1650.22,1475.35 1652.85,1484.38 1655.48,1497.38 \n",
       "  1658.11,1628.87 1660.75,1553.72 1663.38,1540.46 1666.01,1496.61 1668.65,1490.03 1671.28,1470.16 1673.91,1440.33 1676.54,1497.38 1679.18,1550.92 1681.81,1537.16 \n",
       "  1684.44,1480.59 1687.07,1458.64 1689.71,1492.12 1692.34,1550.21 1694.97,1538.28 1697.61,1437.89 1700.24,1535.06 1702.87,1515.91 1705.5,1537.67 1708.14,1543.43 \n",
       "  1710.77,1497.38 1713.4,1458.42 1716.04,1489.67 1718.67,1538.93 1721.3,1514.35 1723.93,1475.52 1726.57,1632.07 1729.2,1490.77 1731.83,1514.85 1734.46,1501.36 \n",
       "  1737.1,1484.31 1739.73,1539.97 1742.36,1455.99 1745,1544.88 1747.63,1514.35 1750.26,1586.86 1752.89,1537.67 1755.53,1514.46 1758.16,1639.75 1760.79,1484.02 \n",
       "  1763.42,1542.55 1766.06,1486.75 1768.69,1494.44 1771.32,1496.61 1773.96,1514.69 1776.59,1501.36 1779.22,1492.24 1781.85,1464.96 1784.49,1505.43 1787.12,1496 \n",
       "  1789.75,1490.77 1792.38,1491.13 1795.02,1448.32 1797.65,1442.95 1800.28,1550.98 1802.92,1530.53 1805.55,1491.87 1808.18,1635.16 1810.81,1454.68 1813.45,1515.38 \n",
       "  1816.08,1543.86 1818.71,1514.85 1821.35,1494.44 1823.98,1492.67 1826.61,1494.44 1829.24,1494.44 1831.88,1501.36 1834.51,1477.59 1837.14,1544.64 1839.77,1546.32 \n",
       "  1842.41,1449.73 1845.04,1641.35 1847.67,1501.52 1850.31,1541.7 1852.94,1548.41 1855.57,1545.34 1858.2,1550.21 1860.84,1470.57 1863.47,1556.19 1866.1,1536.57 \n",
       "  1868.73,1620.38 1871.37,1491.5 1874,1546.32 1876.63,1638.26 1879.27,1543.85 1881.9,1496.14 1884.53,1459.59 1887.16,1441.93 1889.8,1515.12 1892.43,1646.97 \n",
       "  1895.06,1519.97 1897.69,1501.52 1900.33,1428.27 1902.96,1514.35 1905.59,1472.14 1908.23,1578.42 1910.86,1464.17 1913.49,1409.68 1916.12,1534.09 1918.76,1473.14 \n",
       "  1921.39,1473.79 1924.02,1581.58 1926.66,1479.61 1929.29,1271.55 1931.92,1606.54 1934.55,1334.88 1937.19,1476.61 1939.82,1379.61 1942.45,1128.82 1945.08,1473.6 \n",
       "  1947.72,1114.19 1950.35,1169.89 1952.98,1187.46 1955.62,1254.69 1958.25,1572.63 1960.88,1123.13 1963.51,1165.59 1966.15,1149.1 1968.78,1114.19 1971.41,1255.98 \n",
       "  1974.04,1590.55 1976.68,1151.98 1979.31,1249.5 1981.94,1590.55 1984.58,1298.75 1987.21,1536.73 1989.84,1416.87 1992.47,1539.52 1995.11,1481.11 1997.74,1381.29 \n",
       "  2000.37,1336.42 2003,1117.61 2005.64,1149.32 2008.27,1344.89 2010.9,1595.46 2013.54,1296.54 2016.17,1473.14 2018.8,1473.6 2021.43,1116.76 2024.07,1292.11 \n",
       "  2026.7,1402.79 2029.33,1604.71 2031.97,1473.39 2034.6,1473.6 2037.23,1536.73 2039.86,1536.73 2042.5,1543.11 2045.13,1534.09 2047.76,1556.84 2050.39,1478.11 \n",
       "  2053.03,1547.75 2055.66,1280.32 2058.29,1337.96 2060.93,1396.86 2063.56,1406.29 2066.19,1359.27 2068.82,1279.53 2071.46,1287.68 2074.09,1536.73 2076.72,1476.61 \n",
       "  2079.35,1407.99 2081.99,1475.1 2084.62,1262.46 2087.25,1475.1 2089.89,1536.73 2092.52,1402.79 2095.15,1400.81 2097.78,1480.26 2100.42,1473.64 2103.05,1289.9 \n",
       "  2105.68,1289.9 2108.31,1402.79 2110.95,1377.65 2113.58,1292.11 2116.21,1404.59 2118.85,1400.81 2121.48,1473.51 2124.11,1476.61 2126.74,1547.75 2129.38,1536.73 \n",
       "  2132.01,1396.86 2134.64,1368.62 2137.28,1281.1 2139.91,1400.81 2142.54,1565.72 2145.17,1396.86 2147.81,1262.46 2150.44,1277.35 2153.07,1473.27 2155.7,1473.51 \n",
       "  2158.34,1252.74 2160.97,1480.8 2163.6,1361.01 2166.24,1400.08 2168.87,1536.73 2171.5,1473.51 2174.13,1149.1 2176.77,1294.32 2179.4,1473.39 2182.03,1473.14 \n",
       "  2184.66,1367.18 2187.3,1635.95 2189.93,1259.35 2192.56,1402.79 2195.2,1264.08 2197.83,1379.57 2200.46,1579.3 2203.09,1407.99 2205.73,1377.65 2208.36,1398.16 \n",
       "  2210.99,1117.61 2213.62,1121.23 2216.26,1400.81 2218.89,1371.77 2221.52,1479.22 2224.16,1334.88 2226.79,1607.26 2229.42,1556.84 2232.05,1400.19 2234.69,1226.85 \n",
       "  2237.32,1118.46 2239.95,1128.82 2242.58,1268.26 2245.22,1416.87 2247.85,1385.08 2250.48,1595.46 2253.12,1115.05 2255.75,1481.08 2258.38,1383.19 2261.01,1434.93 \n",
       "  2263.65,1401.04 2266.28,1398.11 2268.91,1556.84 2271.55,1473.14 2274.18,1402.26 2276.81,1409.68 2279.44,1601.74 2282.08,1565.72 2284.71,1602.17 2287.34,1478.11 \n",
       "  2289.97,1372.67 2292.61,1603.99 2295.24,1250.05 2297.87,1442.73 2300.51,1114.39 2303.14,1459.67 2305.77,1423.88 2308.4,1483.1 2311.04,1172.4 2313.67,1149.1 \n",
       "  2316.3,1259.35 2318.93,1391.16 2321.57,1473.39 2324.2,1115.9 2326.83,1602.17 2329.47,1573.81 2332.1,1478.11 2334.73,1393.85 2337.36,1481.21 2340,1275.37 \n",
       "  2342.63,1402.79 2345.26,1121.23 2347.89,1175.81 2350.53,1536.73 2353.16,1352.04 2355.79,1534.09 2358.43,1344.89 2361.06,1473.51 2363.69,1473.39 2366.32,1262.46 \n",
       "  2368.96,1264.08 2371.59,1274.17 2374.22,1599.34 2376.86,1534.09 2379.49,1536.73 2382.12,1336.11 2384.75,1473.51 2387.39,1277.35 2390.02,1379.62 2392.65,1476.61 \n",
       "  2395.28,1182.63 2397.92,1355.49 2400.55,1460.63 2403.18,1565.72 2405.82,1689.36 2408.45,1481.21 2411.08,1386.98 2413.71,1561.28 2416.35,1165.59 2418.98,1442.73 \n",
       "  2421.61,1476.47 2424.24,1433.66 2426.88,1480.8 2429.51,1408.53 2432.14,1236.13 2434.78,1119.34 2437.41,1379.59 2440.04,1278.82 2442.67,1188.73 2445.31,1387.24 \n",
       "  2447.94,1440.02 2450.57,1473.64 2453.2,1534.09 2455.84,1347.18 2458.47,1389.14 2461.1,1473.6 2463.74,1118.46 2466.37,1279.67 2469,1473.27 2471.63,1476.61 \n",
       "  2474.27,1479.61 2476.9,1404.34 2479.53,1172.4 2482.17,1116.33 2484.8,1116.33 2487.43,1386.98 2490.06,1391.16 2492.7,1473.64 2495.33,1259.35 2497.96,1436.2 \n",
       "  2500.59,1736.59 2503.23,1271.85 2505.86,1364.33 2508.49,1125.03 2511.13,1155.36 2513.76,1666.05 2516.39,1149.32 2519.02,1115.9 2521.66,1149.77 2524.29,1125.03 \n",
       "  2526.92,1275.37 2529.55,1407.99 2532.19,1473.79 2534.82,1379.58 2537.45,1364.33 2540.09,1536.73 2542.72,1536.73 2545.35,1116.33 2547.98,1210.49 2550.62,1427.3 \n",
       "  2553.25,1729.05 2555.88,1379.59 2558.51,1605.69 2561.15,1473.64 2563.78,1118.46 2566.41,1132.62 2569.05,1267.72 2571.68,1412.7 2574.31,1216.41 2576.94,1547.75 \n",
       "  2579.58,1604.84 2582.21,1146.35 2584.84,1556.84 2587.48,1119.34 2590.11,1468.5 2592.74,1394.5 2595.37,1275.37 2598.01,1427.3 2600.64,1460.63 2603.27,1271.85 \n",
       "  2605.9,1428.57 2608.54,1240.77 2611.17,1379.57 2613.8,1473.27 2616.44,1579.3 2619.07,1244.64 2621.7,1115.9 2624.33,1379.59 2626.97,1436.2 2629.6,1364.16 \n",
       "  2632.23,1433.66 2634.86,1404.34 2637.5,1473.64 2640.13,1552.39 2642.76,1409.68 2645.4,1389.49 2648.03,1440.02 2650.66,1402.26 2653.29,1114.19 2655.93,1400.19 \n",
       "  2658.56,1552.39 2661.19,1736.4 2663.82,1240.77 2666.46,1115.05 2669.09,1569.92 2671.72,1146.35 2674.36,1392.83 2676.99,1388.87 2679.62,1473.39 2682.25,1479.61 \n",
       "  2684.89,1475.1 2687.52,1394.5 2690.15,1436.2 2692.78,1483.44 2695.42,1148.99 2698.05,1478.11 2700.68,1149.77 2703.32,1151.98 2705.95,1402.26 2708.58,1426.02 \n",
       "  2711.21,1539.52 2713.85,1116.76 2716.48,1153.94 2719.11,1389.14 2721.75,1282.72 2724.38,1271.55 2727.01,1381.29 2729.64,1392.25 2732.28,1398.16 2734.91,1475.1 \n",
       "  2737.54,1267.72 2740.17,1379.61 2742.81,1382.44 2745.44,1473.64 2748.07,1480.8 2750.71,1194.2 2753.34,1240.77 2755.97,1263.9 2758.6,1379.58 2761.24,1275.37 \n",
       "  2763.87,1115.9 2766.5,1379.64 2769.13,1437.47 2771.77,1178.6 2774.4,1398.11 2777.03,1389.04 2779.67,1409.92 2782.3,1379.57 2784.93,1117.61 2787.56,1344.1 \n",
       "  2790.2,1136.95 2792.83,1361.01 2795.46,1483.44 2798.09,1552.39 2800.73,1257.6 2803.36,1275.37 2805.99,1433.66 2808.63,1565.72 2811.26,1473.51 2813.89,1436.2 \n",
       "  2816.52,1547.75 2819.16,1478.11 2821.79,1473.14 2824.42,1123.13 2827.06,1483.1 2829.69,1569.92 2832.32,1466.73 2834.95,1483.44 2837.59,1116.33 2840.22,1254.36 \n",
       "  2842.85,1389.04 2845.48,1552.39 2848.12,1478.11 2850.75,1475.1 2853.38,1473.27 2856.02,1565.72 2858.65,1396.86 2861.28,1121.23 2863.91,1169.89 2866.55,1473.79 \n",
       "  2869.18,1438.74 2871.81,1629.76 2874.44,1440.02 2877.08,1565.72 2879.71,1398.11 2882.34,1436.2 2884.98,1364.33 2887.61,1539.52 2890.24,1539.52 2892.87,1404.59 \n",
       "  2895.51,1116.33 2898.14,1116.33 2900.77,1569.92 2903.4,1415.48 2906.04,1409.68 2908.67,1116.76 2911.3,1379.63 2913.94,1475.7 2916.57,1594.24 2919.2,1441.31 \n",
       "  2921.83,1444.41 2924.47,1514.22 2927.1,1568.29 2929.73,1439.97 2932.37,1877.54 2935,1440.83 2937.63,1393.91 2940.26,1586.66 2942.9,1449.59 2945.53,1390.77 \n",
       "  2948.16,1393.65 2950.79,1475.19 2953.43,1601.06 2956.06,1391.66 2958.69,1404.08 2961.33,1577.12 2963.96,1393.78 2966.59,1600.54 2969.22,1503.47 2971.86,1509.67 \n",
       "  2974.49,1617.85 2977.12,1454.06 2979.75,1568.17 2982.39,1391.66 2985.02,1592.33 2987.65,1416.44 2990.29,1443.62 2992.92,1392.43 2995.55,1447.77 2998.18,1560.3 \n",
       "  3000.82,1530.2 3003.45,1409.26 3006.08,1620.98 3008.71,1612.47 3011.35,1450.54 3013.98,1590.42 3016.61,1509.67 3019.25,1399.4 3021.88,1527.64 3024.51,1459.86 \n",
       "  3027.14,1581.73 3029.78,1599.54 3032.41,1502.84 3035.04,1599.98 3037.68,1419.44 3040.31,1445.11 3042.94,1447.67 3045.57,1395.65 3048.21,1506.09 3050.84,1534.91 \n",
       "  3053.47,1435.04 3056.1,1401.92 3058.74,1453.68 3061.37,1576.48 3064,1582.56 3066.64,1601.06 3069.27,1599.98 3071.9,1487.06 3074.53,1599.98 3077.17,1450.06 \n",
       "  3079.8,1435.26 3082.43,1559.4 3085.06,1459.86 3087.7,1449.59 3090.33,1401.48 3092.96,1443.62 3095.6,1435.11 3098.23,1441.43 3100.86,1444.41 3103.49,1532.71 \n",
       "  3106.13,1443.62 3108.76,1448.2 3111.39,1406.61 3114.02,1475.73 3116.66,1548.98 3119.29,1464.21 3121.92,1560.2 3124.56,1471.89 3127.19,1560.2 3129.82,1560.99 \n",
       "  3132.45,1593.23 3135.09,1438.05 3137.72,1396.53 3140.35,1598.06 3142.98,1709.97 3145.62,1399.06 3148.25,1521.15 3150.88,1514.22 3153.52,1394.03 3156.15,1519.97 \n",
       "  3158.78,1601.06 3161.41,1572.1 3164.05,1481.99 3166.68,1591.13 3169.31,1390.92 3171.95,1586.07 3174.58,1435.35 3177.21,1583.09 3179.84,1562.79 3182.48,1515.85 \n",
       "  3185.11,1561.94 3187.74,1583.09 3190.37,1435.25 3193.01,1430.49 3195.64,1580.11 3198.27,1438.22 3200.91,1540.39 3203.54,1402.28 3206.17,1571.16 3208.8,1560.99 \n",
       "  3211.44,1475.73 3214.07,1393.78 3216.7,1475.16 3219.33,1510.97 3221.97,1387.9 3224.6,1389.22 3227.23,1598.06 3229.87,1551.75 3232.5,1560.3 3235.13,1432.27 \n",
       "  3237.76,1435.26 3240.4,1432.77 3243.03,1912.65 3245.66,1450.06 3248.29,1437.72 3250.93,1548.77 3253.56,1620.98 3256.19,1599.98 3258.83,1620.98 3261.46,1445.81 \n",
       "  3264.09,1574.14 3266.72,1404.04 3269.36,1518.41 3271.99,1532.76 3274.62,1562.79 3277.26,1439.81 3279.89,1515.85 3282.52,1873.54 3285.15,1565.38 3287.79,1435.26 \n",
       "  3290.42,1912.65 3293.05,1522.53 3295.68,1440.83 3298.32,1857.27 3300.95,1560.6 3303.58,1509.67 3306.22,1459.86 3308.85,1409.18 3311.48,1459.86 3314.11,1560.3 \n",
       "  3316.75,1526.65 3319.38,1436.66 3322.01,1562.79 3324.64,1459.86 3327.28,1429.94 3329.91,1435.25 3332.54,1462.29 3335.18,1582.56 3337.81,1583.39 3340.44,1510.97 \n",
       "  3343.07,1392.43 3345.71,1601.64 3348.34,1578.3 3350.97,1450.06 3353.6,1395.4 3356.24,1435.07 3358.87,1601.06 3361.5,1447.15 3364.14,1474.03 3366.77,1553.21 \n",
       "  3369.4,1448.52 3372.03,1576.48 3374.67,1506.87 3377.3,1562.16 3379.93,1589.03 3382.57,1518.41 3385.2,1441.43 3387.83,1565.75 3390.46,1440.83 3393.1,1600.54 \n",
       "  3395.73,1431 3398.36,1621.27 3400.99,1607.94 3403.63,1424.58 3406.26,1442.54 3408.89,1567.02 3411.53,1435.35 3414.16,1432.77 3416.79,1612.14 3419.42,1560.99 \n",
       "  3422.06,1565.38 3424.69,1584.95 3427.32,1448.52 3429.95,1588.51 3432.59,1434.97 3435.22,1475.73 3437.85,1571.16 3440.49,1438.05 3443.12,1586.66 3445.75,1560.2 \n",
       "  3448.38,1594.24 3451.02,1570.83 3453.65,1598.06 3456.28,1576.48 3458.91,1560.2 3461.55,1447.77 3464.18,1447.15 3466.81,1582.98 3469.45,1396.53 3472.08,1772.71 \n",
       "  3474.71,1401.48 3477.34,1440.83 3479.98,1436.66 3482.61,1419.44 3485.24,1438.22 3487.88,1414.31 3490.51,1509.65 3493.14,1583.39 3495.77,1434.97 3498.41,1399.4 \n",
       "  3501.04,1580.11 3503.67,1444.99 3506.3,1576.48 3508.94,1596.15 3511.57,1560.67 3514.2,1616.06 3516.84,1553.21 3519.47,1561.5 3522.1,1398.91 3524.73,1532.76 \n",
       "  3527.37,1610.04 3530,1515.66 3532.63,1503.15 3535.26,1390.77 3537.9,1560.2 3540.53,1545.97 3543.16,1589.03 3545.8,1477.6 3548.43,1402.28 3551.06,1447.5 \n",
       "  3553.69,1560.99 3556.33,1588.51 3558.96,1560.3 3561.59,1577.12 3564.22,1560.3 3566.86,1475.16 3569.49,1448.52 3572.12,1599.98 3574.76,1448.52 3577.39,1570.83 \n",
       "  3580.02,1592.33 3582.65,1601.06 3585.29,1396.53 3587.92,1435.07 3590.55,1456.77 3593.19,1803.44 3595.82,1601.06 3598.45,1445.81 3601.08,1592.33 3603.72,1532.76 \n",
       "  3606.35,1568.29 3608.98,1506.09 3611.61,1503.15 3614.25,1593.23 3616.88,1507.72 3619.51,1395.65 3622.15,1398.91 3624.78,1588.51 3627.41,1560.3 3630.04,1411.62 \n",
       "  3632.68,1393.78 3635.31,1449.23 3637.94,1622.16 3640.57,1394.65 3643.21,1588.51 3645.84,1590.42 3648.47,1484.98 3651.11,1387.9 \n",
       "  \"/>\n",
       "<path clip-path=\"url(#clip060)\" d=\"\n",
       "M3050.7 277.198 L3633.03 277.198 L3633.03 121.678 L3050.7 121.678  Z\n",
       "  \" fill=\"#ffffff\" fill-rule=\"evenodd\" fill-opacity=\"1\"/>\n",
       "<polyline clip-path=\"url(#clip060)\" style=\"stroke:#000000; stroke-linecap:butt; stroke-linejoin:round; stroke-width:4; stroke-opacity:1; fill:none\" points=\"\n",
       "  3050.7,277.198 3633.03,277.198 3633.03,121.678 3050.7,121.678 3050.7,277.198 \n",
       "  \"/>\n",
       "<polyline clip-path=\"url(#clip060)\" style=\"stroke:#009af9; stroke-linecap:butt; stroke-linejoin:round; stroke-width:4; stroke-opacity:1; fill:none\" points=\"\n",
       "  3090.61,173.518 3330.05,173.518 \n",
       "  \"/>\n",
       "<path clip-path=\"url(#clip060)\" d=\"M3369.96 156.238 L3374.98 156.238 L3384.56 170.451 L3394.08 156.238 L3399.1 156.238 L3386.88 174.34 L3386.88 190.798 L3382.18 190.798 L3382.18 174.34 L3369.96 156.238 Z\" fill=\"#000000\" fill-rule=\"evenodd\" fill-opacity=\"1\" /><path clip-path=\"url(#clip060)\" d=\"M3423.17 198.669 L3423.17 201.979 L3398.54 201.979 L3398.54 198.669 L3423.17 198.669 Z\" fill=\"#000000\" fill-rule=\"evenodd\" fill-opacity=\"1\" /><path clip-path=\"url(#clip060)\" d=\"M3431.39 157.511 L3431.39 164.872 L3440.16 164.872 L3440.16 168.183 L3431.39 168.183 L3431.39 182.257 Q3431.39 185.428 3432.25 186.331 Q3433.13 187.233 3435.79 187.233 L3440.16 187.233 L3440.16 190.798 L3435.79 190.798 Q3430.86 190.798 3428.98 188.969 Q3427.11 187.118 3427.11 182.257 L3427.11 168.183 L3423.98 168.183 L3423.98 164.872 L3427.11 164.872 L3427.11 157.511 L3431.39 157.511 Z\" fill=\"#000000\" fill-rule=\"evenodd\" fill-opacity=\"1\" /><path clip-path=\"url(#clip060)\" d=\"M3467.94 176.77 L3467.94 178.854 L3448.36 178.854 Q3448.64 183.252 3451 185.567 Q3453.38 187.858 3457.62 187.858 Q3460.07 187.858 3462.36 187.257 Q3464.68 186.655 3466.95 185.451 L3466.95 189.479 Q3464.66 190.451 3462.25 190.96 Q3459.84 191.469 3457.36 191.469 Q3451.16 191.469 3447.53 187.858 Q3443.91 184.247 3443.91 178.09 Q3443.91 171.724 3447.34 167.997 Q3450.79 164.247 3456.62 164.247 Q3461.85 164.247 3464.89 167.627 Q3467.94 170.983 3467.94 176.77 M3463.68 175.52 Q3463.64 172.025 3461.72 169.942 Q3459.82 167.858 3456.67 167.858 Q3453.1 167.858 3450.95 169.872 Q3448.82 171.886 3448.5 175.544 L3463.68 175.52 Z\" fill=\"#000000\" fill-rule=\"evenodd\" fill-opacity=\"1\" /><path clip-path=\"url(#clip060)\" d=\"M3491.46 165.636 L3491.46 169.664 Q3489.66 168.738 3487.71 168.275 Q3485.77 167.812 3483.68 167.812 Q3480.51 167.812 3478.91 168.784 Q3477.34 169.757 3477.34 171.701 Q3477.34 173.183 3478.47 174.039 Q3479.61 174.872 3483.04 175.636 L3484.49 175.96 Q3489.03 176.933 3490.93 178.715 Q3492.85 180.474 3492.85 183.645 Q3492.85 187.257 3489.98 189.363 Q3487.13 191.469 3482.13 191.469 Q3480.05 191.469 3477.78 191.053 Q3475.54 190.659 3473.04 189.849 L3473.04 185.451 Q3475.4 186.678 3477.69 187.303 Q3479.98 187.905 3482.22 187.905 Q3485.23 187.905 3486.85 186.886 Q3488.47 185.845 3488.47 183.97 Q3488.47 182.233 3487.29 181.307 Q3486.14 180.382 3482.18 179.525 L3480.7 179.178 Q3476.74 178.345 3474.98 176.632 Q3473.22 174.895 3473.22 171.886 Q3473.22 168.229 3475.81 166.238 Q3478.41 164.247 3483.17 164.247 Q3485.54 164.247 3487.62 164.595 Q3489.7 164.942 3491.46 165.636 Z\" fill=\"#000000\" fill-rule=\"evenodd\" fill-opacity=\"1\" /><path clip-path=\"url(#clip060)\" d=\"M3503.85 157.511 L3503.85 164.872 L3512.62 164.872 L3512.62 168.183 L3503.85 168.183 L3503.85 182.257 Q3503.85 185.428 3504.7 186.331 Q3505.58 187.233 3508.24 187.233 L3512.62 187.233 L3512.62 190.798 L3508.24 190.798 Q3503.31 190.798 3501.44 188.969 Q3499.56 187.118 3499.56 182.257 L3499.56 168.183 L3496.44 168.183 L3496.44 164.872 L3499.56 164.872 L3499.56 157.511 L3503.85 157.511 Z\" fill=\"#000000\" fill-rule=\"evenodd\" fill-opacity=\"1\" /><polyline clip-path=\"url(#clip060)\" style=\"stroke:#e26f46; stroke-linecap:butt; stroke-linejoin:round; stroke-width:4; stroke-opacity:1; fill:none\" points=\"\n",
       "  3090.61,225.358 3330.05,225.358 \n",
       "  \"/>\n",
       "<path clip-path=\"url(#clip060)\" d=\"M3374.24 238.749 L3374.24 252.499 L3369.96 252.499 L3369.96 216.712 L3374.24 216.712 L3374.24 220.648 Q3375.58 218.333 3377.62 217.222 Q3379.68 216.087 3382.53 216.087 Q3387.25 216.087 3390.19 219.837 Q3393.15 223.587 3393.15 229.698 Q3393.15 235.81 3390.19 239.559 Q3387.25 243.309 3382.53 243.309 Q3379.68 243.309 3377.62 242.198 Q3375.58 241.064 3374.24 238.749 M3388.73 229.698 Q3388.73 224.999 3386.79 222.337 Q3384.86 219.652 3381.48 219.652 Q3378.11 219.652 3376.16 222.337 Q3374.24 224.999 3374.24 229.698 Q3374.24 234.397 3376.16 237.083 Q3378.11 239.745 3381.48 239.745 Q3384.86 239.745 3386.79 237.083 Q3388.73 234.397 3388.73 229.698 Z\" fill=\"#000000\" fill-rule=\"evenodd\" fill-opacity=\"1\" /><path clip-path=\"url(#clip060)\" d=\"M3415.23 220.694 Q3414.52 220.277 3413.66 220.092 Q3412.83 219.884 3411.81 219.884 Q3408.2 219.884 3406.25 222.245 Q3404.33 224.583 3404.33 228.981 L3404.33 242.638 L3400.05 242.638 L3400.05 216.712 L3404.33 216.712 L3404.33 220.74 Q3405.67 218.379 3407.83 217.245 Q3409.98 216.087 3413.06 216.087 Q3413.5 216.087 3414.03 216.157 Q3414.56 216.203 3415.21 216.319 L3415.23 220.694 Z\" fill=\"#000000\" fill-rule=\"evenodd\" fill-opacity=\"1\" /><path clip-path=\"url(#clip060)\" d=\"M3440.84 228.61 L3440.84 230.694 L3421.25 230.694 Q3421.53 235.092 3423.89 237.407 Q3426.28 239.698 3430.51 239.698 Q3432.97 239.698 3435.26 239.097 Q3437.57 238.495 3439.84 237.291 L3439.84 241.319 Q3437.55 242.291 3435.14 242.8 Q3432.73 243.309 3430.26 243.309 Q3424.05 243.309 3420.42 239.698 Q3416.81 236.087 3416.81 229.93 Q3416.81 223.564 3420.23 219.837 Q3423.68 216.087 3429.52 216.087 Q3434.75 216.087 3437.78 219.467 Q3440.84 222.823 3440.84 228.61 M3436.58 227.36 Q3436.53 223.865 3434.61 221.782 Q3432.71 219.698 3429.56 219.698 Q3426 219.698 3423.85 221.712 Q3421.72 223.726 3421.39 227.384 L3436.58 227.36 Z\" fill=\"#000000\" fill-rule=\"evenodd\" fill-opacity=\"1\" /><path clip-path=\"url(#clip060)\" d=\"M3464.89 220.648 L3464.89 206.62 L3469.15 206.62 L3469.15 242.638 L3464.89 242.638 L3464.89 238.749 Q3463.54 241.064 3461.48 242.198 Q3459.45 243.309 3456.58 243.309 Q3451.88 243.309 3448.91 239.559 Q3445.98 235.81 3445.98 229.698 Q3445.98 223.587 3448.91 219.837 Q3451.88 216.087 3456.58 216.087 Q3459.45 216.087 3461.48 217.222 Q3463.54 218.333 3464.89 220.648 M3450.37 229.698 Q3450.37 234.397 3452.29 237.083 Q3454.24 239.745 3457.62 239.745 Q3461 239.745 3462.94 237.083 Q3464.89 234.397 3464.89 229.698 Q3464.89 224.999 3462.94 222.337 Q3461 219.652 3457.62 219.652 Q3454.24 219.652 3452.29 222.337 Q3450.37 224.999 3450.37 229.698 Z\" fill=\"#000000\" fill-rule=\"evenodd\" fill-opacity=\"1\" /><path clip-path=\"url(#clip060)\" d=\"M3497.62 250.509 L3497.62 253.819 L3472.99 253.819 L3472.99 250.509 L3497.62 250.509 Z\" fill=\"#000000\" fill-rule=\"evenodd\" fill-opacity=\"1\" /><path clip-path=\"url(#clip060)\" d=\"M3523.17 226.99 L3523.17 242.638 L3518.91 242.638 L3518.91 227.129 Q3518.91 223.448 3517.48 221.62 Q3516.04 219.791 3513.17 219.791 Q3509.72 219.791 3507.73 221.99 Q3505.74 224.189 3505.74 227.985 L3505.74 242.638 L3501.46 242.638 L3501.46 216.712 L3505.74 216.712 L3505.74 220.74 Q3507.27 218.402 3509.33 217.245 Q3511.41 216.087 3514.12 216.087 Q3518.59 216.087 3520.88 218.865 Q3523.17 221.62 3523.17 226.99 Z\" fill=\"#000000\" fill-rule=\"evenodd\" fill-opacity=\"1\" /><path clip-path=\"url(#clip060)\" d=\"M3553.22 226.99 L3553.22 242.638 L3548.96 242.638 L3548.96 227.129 Q3548.96 223.448 3547.53 221.62 Q3546.09 219.791 3543.22 219.791 Q3539.77 219.791 3537.78 221.99 Q3535.79 224.189 3535.79 227.985 L3535.79 242.638 L3531.51 242.638 L3531.51 216.712 L3535.79 216.712 L3535.79 220.74 Q3537.32 218.402 3539.38 217.245 Q3541.46 216.087 3544.17 216.087 Q3548.64 216.087 3550.93 218.865 Q3553.22 221.62 3553.22 226.99 Z\" fill=\"#000000\" fill-rule=\"evenodd\" fill-opacity=\"1\" /></svg>\n"
      ]
     },
     "execution_count": 463,
     "metadata": {},
     "output_type": "execute_result"
    }
   ],
   "source": [
    "plot(Y_test, label = \"Y_test\")\n",
    "plot!(pred_nn, label = \"pred_nn\")\n",
    "plot!(size=(950,600))"
   ]
  }
 ],
 "metadata": {
  "kernelspec": {
   "display_name": "Julia 1.6.5",
   "language": "julia",
   "name": "julia-1.6"
  },
  "language_info": {
   "file_extension": ".jl",
   "mimetype": "application/julia",
   "name": "julia",
   "version": "1.6.5"
  }
 },
 "nbformat": 4,
 "nbformat_minor": 5
}
