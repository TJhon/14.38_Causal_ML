{
 "cells": [
  {
   "cell_type": "markdown",
   "id": "f57d9028",
   "metadata": {
    "papermill": {
     "duration": 0.010003,
     "end_time": "2021-03-28T13:27:45.376868",
     "exception": false,
     "start_time": "2021-03-28T13:27:45.366865",
     "status": "completed"
    },
    "tags": []
   },
   "source": [
    "\n",
    "\n",
    "This notebook contains an example for teaching.\n"
   ]
  },
  {
   "cell_type": "markdown",
   "id": "10db46a3",
   "metadata": {
    "_execution_state": "idle",
    "_uuid": "051d70d956493feee0c6d64651c6a088724dca2a",
    "papermill": {
     "duration": 0.008782,
     "end_time": "2021-03-28T13:27:45.395504",
     "exception": false,
     "start_time": "2021-03-28T13:27:45.386722",
     "status": "completed"
    },
    "tags": []
   },
   "source": [
    "# A Simple Case Study using Wage Data from 2015 - proceeding"
   ]
  },
  {
   "cell_type": "markdown",
   "id": "8d5e4c1e",
   "metadata": {
    "papermill": {
     "duration": 0.008735,
     "end_time": "2021-03-28T13:27:45.413302",
     "exception": false,
     "start_time": "2021-03-28T13:27:45.404567",
     "status": "completed"
    },
    "tags": []
   },
   "source": [
    "So far we considered many machine learning method, e.g Lasso and Random Forests, to build a predictive model. In this lab, we extend our toolbox by predicting wages by a neural network."
   ]
  },
  {
   "cell_type": "markdown",
   "id": "088f49a5",
   "metadata": {
    "papermill": {
     "duration": 0.009256,
     "end_time": "2021-03-28T13:27:45.431663",
     "exception": false,
     "start_time": "2021-03-28T13:27:45.422407",
     "status": "completed"
    },
    "tags": []
   },
   "source": [
    "## Data preparation"
   ]
  },
  {
   "cell_type": "markdown",
   "id": "cef412f8",
   "metadata": {
    "papermill": {
     "duration": 0.0088,
     "end_time": "2021-03-28T13:27:45.449606",
     "exception": false,
     "start_time": "2021-03-28T13:27:45.440806",
     "status": "completed"
    },
    "tags": []
   },
   "source": [
    "Again, we consider data from the U.S. March Supplement of the Current Population Survey (CPS) in 2015."
   ]
  },
  {
   "cell_type": "code",
   "execution_count": 359,
   "id": "84cdac67",
   "metadata": {},
   "outputs": [],
   "source": [
    "using RData, LinearAlgebra, GLM, DataFrames, Statistics, Random, Distributions, DataStructures, NamedArrays, PrettyTables\n",
    "import CodecBzip2"
   ]
  },
  {
   "cell_type": "code",
   "execution_count": 360,
   "id": "b8abb590",
   "metadata": {},
   "outputs": [
    {
     "data": {
      "text/plain": [
       "Dict{String, Any} with 1 entry:\n",
       "  \"data\" => \u001b[1m5150×20 DataFrame\u001b[0m…"
      ]
     },
     "execution_count": 360,
     "metadata": {},
     "output_type": "execute_result"
    }
   ],
   "source": [
    "# Importing .Rdata file\n",
    "rdata_read = load(\"../data/wage2015_subsample_inference.RData\")"
   ]
  },
  {
   "cell_type": "code",
   "execution_count": 361,
   "id": "13a06cdc",
   "metadata": {},
   "outputs": [
    {
     "data": {
      "text/plain": [
       "true"
      ]
     },
     "execution_count": 361,
     "metadata": {},
     "output_type": "execute_result"
    }
   ],
   "source": [
    "# Since rdata_read is a dictionary, we check if there is a key called \"data\", the one we need for our analyze\n",
    "haskey(rdata_read, \"data\")"
   ]
  },
  {
   "cell_type": "code",
   "execution_count": 362,
   "id": "2071cb1c",
   "metadata": {},
   "outputs": [
    {
     "data": {
      "text/plain": [
       "20-element Vector{String}:\n",
       " \"wage\"\n",
       " \"lwage\"\n",
       " \"sex\"\n",
       " \"shs\"\n",
       " \"hsg\"\n",
       " \"scl\"\n",
       " \"clg\"\n",
       " \"ad\"\n",
       " \"mw\"\n",
       " \"so\"\n",
       " \"we\"\n",
       " \"ne\"\n",
       " \"exp1\"\n",
       " \"exp2\"\n",
       " \"exp3\"\n",
       " \"exp4\"\n",
       " \"occ\"\n",
       " \"occ2\"\n",
       " \"ind\"\n",
       " \"ind2\""
      ]
     },
     "execution_count": 362,
     "metadata": {},
     "output_type": "execute_result"
    }
   ],
   "source": [
    "# Now we save that dataframe with a new name\n",
    "data = rdata_read[\"data\"]\n",
    "names(data)"
   ]
  },
  {
   "cell_type": "code",
   "execution_count": 363,
   "id": "d322cb6a",
   "metadata": {},
   "outputs": [
    {
     "data": {
      "text/plain": [
       "(DataFrame, (5150, 20))"
      ]
     },
     "execution_count": 363,
     "metadata": {},
     "output_type": "execute_result"
    }
   ],
   "source": [
    "typeof(data), size(data)"
   ]
  },
  {
   "cell_type": "code",
   "execution_count": 364,
   "id": "fe335568",
   "metadata": {
    "execution": {
     "iopub.execute_input": "2021-03-28T13:27:45.495647Z",
     "iopub.status.busy": "2021-03-28T13:27:45.493470Z",
     "iopub.status.idle": "2021-03-28T13:27:45.621680Z",
     "shell.execute_reply": "2021-03-28T13:27:45.620630Z"
    },
    "papermill": {
     "duration": 0.163436,
     "end_time": "2021-03-28T13:27:45.621858",
     "exception": false,
     "start_time": "2021-03-28T13:27:45.458422",
     "status": "completed"
    },
    "tags": []
   },
   "outputs": [
    {
     "data": {
      "text/html": [
       "<div class=\"data-frame\"><p>5,150 rows × 2 columns</p><table class=\"data-frame\"><thead><tr><th></th><th>lwage</th><th>wage</th></tr><tr><th></th><th title=\"Float64\">Float64</th><th title=\"Float64\">Float64</th></tr></thead><tbody><tr><th>1</th><td>2.26336</td><td>9.61538</td></tr><tr><th>2</th><td>3.8728</td><td>48.0769</td></tr><tr><th>3</th><td>2.40313</td><td>11.0577</td></tr><tr><th>4</th><td>2.63493</td><td>13.9423</td></tr><tr><th>5</th><td>3.36198</td><td>28.8462</td></tr><tr><th>6</th><td>2.46222</td><td>11.7308</td></tr><tr><th>7</th><td>2.95651</td><td>19.2308</td></tr><tr><th>8</th><td>2.95651</td><td>19.2308</td></tr><tr><th>9</th><td>2.48491</td><td>12.0</td></tr><tr><th>10</th><td>2.95651</td><td>19.2308</td></tr><tr><th>11</th><td>2.85115</td><td>17.3077</td></tr><tr><th>12</th><td>2.48651</td><td>12.0192</td></tr><tr><th>13</th><td>2.48651</td><td>12.0192</td></tr><tr><th>14</th><td>2.59984</td><td>13.4615</td></tr><tr><th>15</th><td>2.79399</td><td>16.3462</td></tr><tr><th>16</th><td>3.32808</td><td>27.8846</td></tr><tr><th>17</th><td>3.07269</td><td>21.6</td></tr><tr><th>18</th><td>2.158</td><td>8.65385</td></tr><tr><th>19</th><td>2.95651</td><td>19.2308</td></tr><tr><th>20</th><td>2.57922</td><td>13.1868</td></tr><tr><th>21</th><td>2.36872</td><td>10.6838</td></tr><tr><th>22</th><td>2.44569</td><td>11.5385</td></tr><tr><th>23</th><td>2.87855</td><td>17.7885</td></tr><tr><th>24</th><td>2.95651</td><td>19.2308</td></tr><tr><th>25</th><td>2.79143</td><td>16.3043</td></tr><tr><th>26</th><td>2.95651</td><td>19.2308</td></tr><tr><th>27</th><td>2.66883</td><td>14.4231</td></tr><tr><th>28</th><td>2.48491</td><td>12.0</td></tr><tr><th>29</th><td>2.82298</td><td>16.8269</td></tr><tr><th>30</th><td>2.97911</td><td>19.6703</td></tr><tr><th>&vellip;</th><td>&vellip;</td><td>&vellip;</td></tr></tbody></table></div>"
      ],
      "text/latex": [
       "\\begin{tabular}{r|cc}\n",
       "\t& lwage & wage\\\\\n",
       "\t\\hline\n",
       "\t& Float64 & Float64\\\\\n",
       "\t\\hline\n",
       "\t1 & 2.26336 & 9.61538 \\\\\n",
       "\t2 & 3.8728 & 48.0769 \\\\\n",
       "\t3 & 2.40313 & 11.0577 \\\\\n",
       "\t4 & 2.63493 & 13.9423 \\\\\n",
       "\t5 & 3.36198 & 28.8462 \\\\\n",
       "\t6 & 2.46222 & 11.7308 \\\\\n",
       "\t7 & 2.95651 & 19.2308 \\\\\n",
       "\t8 & 2.95651 & 19.2308 \\\\\n",
       "\t9 & 2.48491 & 12.0 \\\\\n",
       "\t10 & 2.95651 & 19.2308 \\\\\n",
       "\t11 & 2.85115 & 17.3077 \\\\\n",
       "\t12 & 2.48651 & 12.0192 \\\\\n",
       "\t13 & 2.48651 & 12.0192 \\\\\n",
       "\t14 & 2.59984 & 13.4615 \\\\\n",
       "\t15 & 2.79399 & 16.3462 \\\\\n",
       "\t16 & 3.32808 & 27.8846 \\\\\n",
       "\t17 & 3.07269 & 21.6 \\\\\n",
       "\t18 & 2.158 & 8.65385 \\\\\n",
       "\t19 & 2.95651 & 19.2308 \\\\\n",
       "\t20 & 2.57922 & 13.1868 \\\\\n",
       "\t21 & 2.36872 & 10.6838 \\\\\n",
       "\t22 & 2.44569 & 11.5385 \\\\\n",
       "\t23 & 2.87855 & 17.7885 \\\\\n",
       "\t24 & 2.95651 & 19.2308 \\\\\n",
       "\t25 & 2.79143 & 16.3043 \\\\\n",
       "\t26 & 2.95651 & 19.2308 \\\\\n",
       "\t27 & 2.66883 & 14.4231 \\\\\n",
       "\t28 & 2.48491 & 12.0 \\\\\n",
       "\t29 & 2.82298 & 16.8269 \\\\\n",
       "\t30 & 2.97911 & 19.6703 \\\\\n",
       "\t$\\dots$ & $\\dots$ & $\\dots$ \\\\\n",
       "\\end{tabular}\n"
      ],
      "text/plain": [
       "\u001b[1m5150×2 DataFrame\u001b[0m\n",
       "\u001b[1m  Row \u001b[0m│\u001b[1m lwage   \u001b[0m\u001b[1m wage     \u001b[0m\n",
       "\u001b[1m      \u001b[0m│\u001b[90m Float64 \u001b[0m\u001b[90m Float64  \u001b[0m\n",
       "──────┼───────────────────\n",
       "    1 │ 2.26336   9.61538\n",
       "    2 │ 3.8728   48.0769\n",
       "    3 │ 2.40313  11.0577\n",
       "    4 │ 2.63493  13.9423\n",
       "    5 │ 3.36198  28.8462\n",
       "    6 │ 2.46222  11.7308\n",
       "    7 │ 2.95651  19.2308\n",
       "    8 │ 2.95651  19.2308\n",
       "    9 │ 2.48491  12.0\n",
       "   10 │ 2.95651  19.2308\n",
       "   11 │ 2.85115  17.3077\n",
       "  ⋮   │    ⋮        ⋮\n",
       " 5141 │ 3.81874  45.5466\n",
       " 5142 │ 3.11778  22.5962\n",
       " 5143 │ 2.82298  16.8269\n",
       " 5144 │ 3.17966  24.0385\n",
       " 5145 │ 2.62801  13.8462\n",
       " 5146 │ 2.69255  14.7692\n",
       " 5147 │ 3.13883  23.0769\n",
       " 5148 │ 3.64966  38.4615\n",
       " 5149 │ 3.49551  32.967\n",
       " 5150 │ 2.85115  17.3077\n",
       "\u001b[36m         5129 rows omitted\u001b[0m"
      ]
     },
     "execution_count": 364,
     "metadata": {},
     "output_type": "execute_result"
    }
   ],
   "source": [
    "Z =  select(data, [\"lwage\", \"wage\"])     # regressors"
   ]
  },
  {
   "cell_type": "markdown",
   "id": "e10eb0dd",
   "metadata": {
    "papermill": {
     "duration": 0.010064,
     "end_time": "2021-03-28T13:27:45.641711",
     "exception": false,
     "start_time": "2021-03-28T13:27:45.631647",
     "status": "completed"
    },
    "tags": []
   },
   "source": [
    "Firt, we split the data first and normalize it."
   ]
  },
  {
   "cell_type": "code",
   "execution_count": 379,
   "id": "afb4e504",
   "metadata": {},
   "outputs": [
    {
     "data": {
      "text/plain": [
       "3862-element Vector{Int64}:\n",
       " 2455\n",
       " 3109\n",
       " 4807\n",
       " 3107\n",
       "  617\n",
       " 2230\n",
       " 4697\n",
       "  755\n",
       "  771\n",
       " 3729\n",
       " 2063\n",
       "  528\n",
       " 3238\n",
       "    ⋮\n",
       " 4057\n",
       "  973\n",
       " 4183\n",
       " 1230\n",
       " 3228\n",
       " 3687\n",
       " 4789\n",
       " 4060\n",
       " 2723\n",
       " 3610\n",
       "  899\n",
       " 1273"
      ]
     },
     "execution_count": 379,
     "metadata": {},
     "output_type": "execute_result"
    }
   ],
   "source": [
    "Random.seed!(1234) \n",
    "training = sample(1:nrow(data), Int(floor(nrow(data)*(3/4))), replace = false)"
   ]
  },
  {
   "cell_type": "code",
   "execution_count": 380,
   "id": "21e42da2",
   "metadata": {
    "execution": {
     "iopub.execute_input": "2021-03-28T13:27:45.690724Z",
     "iopub.status.busy": "2021-03-28T13:27:45.666767Z",
     "iopub.status.idle": "2021-03-28T13:27:45.705719Z",
     "shell.execute_reply": "2021-03-28T13:27:45.704555Z"
    },
    "papermill": {
     "duration": 0.055147,
     "end_time": "2021-03-28T13:27:45.705827",
     "exception": false,
     "start_time": "2021-03-28T13:27:45.650680",
     "status": "completed"
    },
    "tags": []
   },
   "outputs": [
    {
     "data": {
      "text/html": [
       "<div class=\"data-frame\"><p>3,862 rows × 16 columns (omitted printing of 7 columns)</p><table class=\"data-frame\"><thead><tr><th></th><th>wage</th><th>lwage</th><th>sex</th><th>shs</th><th>hsg</th><th>scl</th><th>clg</th><th>ad</th><th>mw</th></tr><tr><th></th><th title=\"Float64\">Float64</th><th title=\"Float64\">Float64</th><th title=\"Float64\">Float64</th><th title=\"Float64\">Float64</th><th title=\"Float64\">Float64</th><th title=\"Float64\">Float64</th><th title=\"Float64\">Float64</th><th title=\"Float64\">Float64</th><th title=\"Float64\">Float64</th></tr></thead><tbody><tr><th>1</th><td>12.0192</td><td>2.48651</td><td>0.0</td><td>0.0</td><td>0.0</td><td>0.0</td><td>1.0</td><td>0.0</td><td>1.0</td></tr><tr><th>2</th><td>10.2857</td><td>2.33076</td><td>0.0</td><td>0.0</td><td>1.0</td><td>0.0</td><td>0.0</td><td>0.0</td><td>0.0</td></tr><tr><th>3</th><td>10.5769</td><td>2.35867</td><td>0.0</td><td>0.0</td><td>0.0</td><td>1.0</td><td>0.0</td><td>0.0</td><td>0.0</td></tr><tr><th>4</th><td>17.3077</td><td>2.85115</td><td>1.0</td><td>0.0</td><td>0.0</td><td>1.0</td><td>0.0</td><td>0.0</td><td>0.0</td></tr><tr><th>5</th><td>25.641</td><td>3.24419</td><td>0.0</td><td>0.0</td><td>0.0</td><td>1.0</td><td>0.0</td><td>0.0</td><td>0.0</td></tr><tr><th>6</th><td>42.3077</td><td>3.74497</td><td>0.0</td><td>0.0</td><td>0.0</td><td>0.0</td><td>1.0</td><td>0.0</td><td>1.0</td></tr><tr><th>7</th><td>15.8654</td><td>2.76414</td><td>0.0</td><td>1.0</td><td>0.0</td><td>0.0</td><td>0.0</td><td>0.0</td><td>0.0</td></tr><tr><th>8</th><td>72.1154</td><td>4.27827</td><td>1.0</td><td>0.0</td><td>0.0</td><td>0.0</td><td>1.0</td><td>0.0</td><td>0.0</td></tr><tr><th>9</th><td>35.7143</td><td>3.57555</td><td>1.0</td><td>0.0</td><td>0.0</td><td>0.0</td><td>0.0</td><td>1.0</td><td>0.0</td></tr><tr><th>10</th><td>15.3846</td><td>2.73337</td><td>1.0</td><td>0.0</td><td>1.0</td><td>0.0</td><td>0.0</td><td>0.0</td><td>0.0</td></tr><tr><th>11</th><td>16.5385</td><td>2.80569</td><td>0.0</td><td>0.0</td><td>0.0</td><td>1.0</td><td>0.0</td><td>0.0</td><td>1.0</td></tr><tr><th>12</th><td>16.8269</td><td>2.82298</td><td>1.0</td><td>0.0</td><td>0.0</td><td>0.0</td><td>1.0</td><td>0.0</td><td>0.0</td></tr><tr><th>13</th><td>36.0577</td><td>3.58512</td><td>0.0</td><td>0.0</td><td>0.0</td><td>0.0</td><td>0.0</td><td>1.0</td><td>0.0</td></tr><tr><th>14</th><td>19.2308</td><td>2.95651</td><td>1.0</td><td>0.0</td><td>0.0</td><td>0.0</td><td>1.0</td><td>0.0</td><td>0.0</td></tr><tr><th>15</th><td>36.0577</td><td>3.58512</td><td>0.0</td><td>0.0</td><td>1.0</td><td>0.0</td><td>0.0</td><td>0.0</td><td>1.0</td></tr><tr><th>16</th><td>26.4423</td><td>3.27497</td><td>0.0</td><td>0.0</td><td>0.0</td><td>0.0</td><td>1.0</td><td>0.0</td><td>0.0</td></tr><tr><th>17</th><td>14.4231</td><td>2.66883</td><td>0.0</td><td>0.0</td><td>0.0</td><td>1.0</td><td>0.0</td><td>0.0</td><td>0.0</td></tr><tr><th>18</th><td>45.1923</td><td>3.81093</td><td>0.0</td><td>0.0</td><td>0.0</td><td>0.0</td><td>1.0</td><td>0.0</td><td>0.0</td></tr><tr><th>19</th><td>30.7692</td><td>3.42652</td><td>0.0</td><td>0.0</td><td>0.0</td><td>0.0</td><td>0.0</td><td>1.0</td><td>0.0</td></tr><tr><th>20</th><td>25.0</td><td>3.21888</td><td>0.0</td><td>0.0</td><td>0.0</td><td>0.0</td><td>1.0</td><td>0.0</td><td>0.0</td></tr><tr><th>21</th><td>18.4615</td><td>2.91569</td><td>1.0</td><td>0.0</td><td>0.0</td><td>0.0</td><td>1.0</td><td>0.0</td><td>0.0</td></tr><tr><th>22</th><td>8.71795</td><td>2.16538</td><td>1.0</td><td>0.0</td><td>0.0</td><td>1.0</td><td>0.0</td><td>0.0</td><td>1.0</td></tr><tr><th>23</th><td>19.2308</td><td>2.95651</td><td>0.0</td><td>0.0</td><td>1.0</td><td>0.0</td><td>0.0</td><td>0.0</td><td>0.0</td></tr><tr><th>24</th><td>13.4615</td><td>2.59984</td><td>0.0</td><td>0.0</td><td>1.0</td><td>0.0</td><td>0.0</td><td>0.0</td><td>1.0</td></tr><tr><th>25</th><td>22.5962</td><td>3.11778</td><td>0.0</td><td>0.0</td><td>1.0</td><td>0.0</td><td>0.0</td><td>0.0</td><td>1.0</td></tr><tr><th>26</th><td>10.6838</td><td>2.36872</td><td>1.0</td><td>0.0</td><td>1.0</td><td>0.0</td><td>0.0</td><td>0.0</td><td>0.0</td></tr><tr><th>27</th><td>48.0769</td><td>3.8728</td><td>0.0</td><td>0.0</td><td>0.0</td><td>0.0</td><td>1.0</td><td>0.0</td><td>0.0</td></tr><tr><th>28</th><td>23.5577</td><td>3.15945</td><td>0.0</td><td>0.0</td><td>0.0</td><td>1.0</td><td>0.0</td><td>0.0</td><td>0.0</td></tr><tr><th>29</th><td>48.7179</td><td>3.88605</td><td>0.0</td><td>0.0</td><td>0.0</td><td>0.0</td><td>0.0</td><td>1.0</td><td>0.0</td></tr><tr><th>30</th><td>14.4712</td><td>2.67216</td><td>0.0</td><td>0.0</td><td>0.0</td><td>0.0</td><td>1.0</td><td>0.0</td><td>0.0</td></tr><tr><th>&vellip;</th><td>&vellip;</td><td>&vellip;</td><td>&vellip;</td><td>&vellip;</td><td>&vellip;</td><td>&vellip;</td><td>&vellip;</td><td>&vellip;</td><td>&vellip;</td></tr></tbody></table></div>"
      ],
      "text/latex": [
       "\\begin{tabular}{r|cccccccccc}\n",
       "\t& wage & lwage & sex & shs & hsg & scl & clg & ad & mw & \\\\\n",
       "\t\\hline\n",
       "\t& Float64 & Float64 & Float64 & Float64 & Float64 & Float64 & Float64 & Float64 & Float64 & \\\\\n",
       "\t\\hline\n",
       "\t1 & 12.0192 & 2.48651 & 0.0 & 0.0 & 0.0 & 0.0 & 1.0 & 0.0 & 1.0 & $\\dots$ \\\\\n",
       "\t2 & 10.2857 & 2.33076 & 0.0 & 0.0 & 1.0 & 0.0 & 0.0 & 0.0 & 0.0 & $\\dots$ \\\\\n",
       "\t3 & 10.5769 & 2.35867 & 0.0 & 0.0 & 0.0 & 1.0 & 0.0 & 0.0 & 0.0 & $\\dots$ \\\\\n",
       "\t4 & 17.3077 & 2.85115 & 1.0 & 0.0 & 0.0 & 1.0 & 0.0 & 0.0 & 0.0 & $\\dots$ \\\\\n",
       "\t5 & 25.641 & 3.24419 & 0.0 & 0.0 & 0.0 & 1.0 & 0.0 & 0.0 & 0.0 & $\\dots$ \\\\\n",
       "\t6 & 42.3077 & 3.74497 & 0.0 & 0.0 & 0.0 & 0.0 & 1.0 & 0.0 & 1.0 & $\\dots$ \\\\\n",
       "\t7 & 15.8654 & 2.76414 & 0.0 & 1.0 & 0.0 & 0.0 & 0.0 & 0.0 & 0.0 & $\\dots$ \\\\\n",
       "\t8 & 72.1154 & 4.27827 & 1.0 & 0.0 & 0.0 & 0.0 & 1.0 & 0.0 & 0.0 & $\\dots$ \\\\\n",
       "\t9 & 35.7143 & 3.57555 & 1.0 & 0.0 & 0.0 & 0.0 & 0.0 & 1.0 & 0.0 & $\\dots$ \\\\\n",
       "\t10 & 15.3846 & 2.73337 & 1.0 & 0.0 & 1.0 & 0.0 & 0.0 & 0.0 & 0.0 & $\\dots$ \\\\\n",
       "\t11 & 16.5385 & 2.80569 & 0.0 & 0.0 & 0.0 & 1.0 & 0.0 & 0.0 & 1.0 & $\\dots$ \\\\\n",
       "\t12 & 16.8269 & 2.82298 & 1.0 & 0.0 & 0.0 & 0.0 & 1.0 & 0.0 & 0.0 & $\\dots$ \\\\\n",
       "\t13 & 36.0577 & 3.58512 & 0.0 & 0.0 & 0.0 & 0.0 & 0.0 & 1.0 & 0.0 & $\\dots$ \\\\\n",
       "\t14 & 19.2308 & 2.95651 & 1.0 & 0.0 & 0.0 & 0.0 & 1.0 & 0.0 & 0.0 & $\\dots$ \\\\\n",
       "\t15 & 36.0577 & 3.58512 & 0.0 & 0.0 & 1.0 & 0.0 & 0.0 & 0.0 & 1.0 & $\\dots$ \\\\\n",
       "\t16 & 26.4423 & 3.27497 & 0.0 & 0.0 & 0.0 & 0.0 & 1.0 & 0.0 & 0.0 & $\\dots$ \\\\\n",
       "\t17 & 14.4231 & 2.66883 & 0.0 & 0.0 & 0.0 & 1.0 & 0.0 & 0.0 & 0.0 & $\\dots$ \\\\\n",
       "\t18 & 45.1923 & 3.81093 & 0.0 & 0.0 & 0.0 & 0.0 & 1.0 & 0.0 & 0.0 & $\\dots$ \\\\\n",
       "\t19 & 30.7692 & 3.42652 & 0.0 & 0.0 & 0.0 & 0.0 & 0.0 & 1.0 & 0.0 & $\\dots$ \\\\\n",
       "\t20 & 25.0 & 3.21888 & 0.0 & 0.0 & 0.0 & 0.0 & 1.0 & 0.0 & 0.0 & $\\dots$ \\\\\n",
       "\t21 & 18.4615 & 2.91569 & 1.0 & 0.0 & 0.0 & 0.0 & 1.0 & 0.0 & 0.0 & $\\dots$ \\\\\n",
       "\t22 & 8.71795 & 2.16538 & 1.0 & 0.0 & 0.0 & 1.0 & 0.0 & 0.0 & 1.0 & $\\dots$ \\\\\n",
       "\t23 & 19.2308 & 2.95651 & 0.0 & 0.0 & 1.0 & 0.0 & 0.0 & 0.0 & 0.0 & $\\dots$ \\\\\n",
       "\t24 & 13.4615 & 2.59984 & 0.0 & 0.0 & 1.0 & 0.0 & 0.0 & 0.0 & 1.0 & $\\dots$ \\\\\n",
       "\t25 & 22.5962 & 3.11778 & 0.0 & 0.0 & 1.0 & 0.0 & 0.0 & 0.0 & 1.0 & $\\dots$ \\\\\n",
       "\t26 & 10.6838 & 2.36872 & 1.0 & 0.0 & 1.0 & 0.0 & 0.0 & 0.0 & 0.0 & $\\dots$ \\\\\n",
       "\t27 & 48.0769 & 3.8728 & 0.0 & 0.0 & 0.0 & 0.0 & 1.0 & 0.0 & 0.0 & $\\dots$ \\\\\n",
       "\t28 & 23.5577 & 3.15945 & 0.0 & 0.0 & 0.0 & 1.0 & 0.0 & 0.0 & 0.0 & $\\dots$ \\\\\n",
       "\t29 & 48.7179 & 3.88605 & 0.0 & 0.0 & 0.0 & 0.0 & 0.0 & 1.0 & 0.0 & $\\dots$ \\\\\n",
       "\t30 & 14.4712 & 2.67216 & 0.0 & 0.0 & 0.0 & 0.0 & 1.0 & 0.0 & 0.0 & $\\dots$ \\\\\n",
       "\t$\\dots$ & $\\dots$ & $\\dots$ & $\\dots$ & $\\dots$ & $\\dots$ & $\\dots$ & $\\dots$ & $\\dots$ & $\\dots$ &  \\\\\n",
       "\\end{tabular}\n"
      ],
      "text/plain": [
       "\u001b[1m3862×16 DataFrame\u001b[0m\n",
       "\u001b[1m  Row \u001b[0m│\u001b[1m wage     \u001b[0m\u001b[1m lwage   \u001b[0m\u001b[1m sex     \u001b[0m\u001b[1m shs     \u001b[0m\u001b[1m hsg     \u001b[0m\u001b[1m scl     \u001b[0m\u001b[1m clg     \u001b[0m\u001b[1m ad    \u001b[0m ⋯\n",
       "\u001b[1m      \u001b[0m│\u001b[90m Float64  \u001b[0m\u001b[90m Float64 \u001b[0m\u001b[90m Float64 \u001b[0m\u001b[90m Float64 \u001b[0m\u001b[90m Float64 \u001b[0m\u001b[90m Float64 \u001b[0m\u001b[90m Float64 \u001b[0m\u001b[90m Float6\u001b[0m ⋯\n",
       "──────┼─────────────────────────────────────────────────────────────────────────\n",
       "    1 │ 12.0192   2.48651      0.0      0.0      0.0      0.0      1.0      0. ⋯\n",
       "    2 │ 10.2857   2.33076      0.0      0.0      1.0      0.0      0.0      0.\n",
       "    3 │ 10.5769   2.35867      0.0      0.0      0.0      1.0      0.0      0.\n",
       "    4 │ 17.3077   2.85115      1.0      0.0      0.0      1.0      0.0      0.\n",
       "    5 │ 25.641    3.24419      0.0      0.0      0.0      1.0      0.0      0. ⋯\n",
       "    6 │ 42.3077   3.74497      0.0      0.0      0.0      0.0      1.0      0.\n",
       "    7 │ 15.8654   2.76414      0.0      1.0      0.0      0.0      0.0      0.\n",
       "    8 │ 72.1154   4.27827      1.0      0.0      0.0      0.0      1.0      0.\n",
       "    9 │ 35.7143   3.57555      1.0      0.0      0.0      0.0      0.0      1. ⋯\n",
       "   10 │ 15.3846   2.73337      1.0      0.0      1.0      0.0      0.0      0.\n",
       "   11 │ 16.5385   2.80569      0.0      0.0      0.0      1.0      0.0      0.\n",
       "  ⋮   │    ⋮         ⋮        ⋮        ⋮        ⋮        ⋮        ⋮        ⋮   ⋱\n",
       " 3853 │ 24.0385   3.17966      0.0      0.0      0.0      0.0      1.0      0.\n",
       " 3854 │ 12.9808   2.56347      1.0      0.0      1.0      0.0      0.0      0. ⋯\n",
       " 3855 │ 13.4615   2.59984      0.0      0.0      0.0      0.0      1.0      0.\n",
       " 3856 │  7.69231  2.04022      0.0      0.0      0.0      1.0      0.0      0.\n",
       " 3857 │ 16.8269   2.82298      0.0      0.0      0.0      0.0      1.0      0.\n",
       " 3858 │ 28.8462   3.36198      0.0      0.0      0.0      0.0      1.0      0. ⋯\n",
       " 3859 │ 62.5      4.13517      0.0      0.0      0.0      0.0      0.0      1.\n",
       " 3860 │ 20.6731   3.02883      0.0      0.0      1.0      0.0      0.0      0.\n",
       " 3861 │ 19.2308   2.95651      1.0      0.0      0.0      0.0      0.0      1.\n",
       " 3862 │  5.97756  1.78801      1.0      0.0      1.0      0.0      0.0      0. ⋯\n",
       "\u001b[36m                                                 9 columns and 3841 rows omitted\u001b[0m"
      ]
     },
     "execution_count": 380,
     "metadata": {},
     "output_type": "execute_result"
    }
   ],
   "source": [
    "data_train = data[training,1:16]\n",
    "data_test = data[Not(training),1:16]\n",
    "data_train"
   ]
  },
  {
   "cell_type": "code",
   "execution_count": 381,
   "id": "87dc71dd",
   "metadata": {},
   "outputs": [
    {
     "data": {
      "text/plain": [
       "((3862, 16), (1288, 16))"
      ]
     },
     "execution_count": 381,
     "metadata": {},
     "output_type": "execute_result"
    }
   ],
   "source": [
    "size(data_train), size(data_test)"
   ]
  },
  {
   "cell_type": "code",
   "execution_count": 382,
   "id": "77eebee2",
   "metadata": {},
   "outputs": [
    {
     "data": {
      "text/plain": [
       "16×2 Matrix{Any}:\n",
       " \"wage\"   23.3849\n",
       " \"lwage\"   2.97164\n",
       " \"sex\"     0.44407\n",
       " \"shs\"     0.0222683\n",
       " \"hsg\"     0.24754\n",
       " \"scl\"     0.283014\n",
       " \"clg\"     0.310979\n",
       " \"ad\"      0.136199\n",
       " \"mw\"      0.262558\n",
       " \"so\"      0.296737\n",
       " \"we\"      0.215691\n",
       " \"ne\"      0.225013\n",
       " \"exp1\"   13.6699\n",
       " \"exp2\"    2.97307\n",
       " \"exp3\"    8.05316\n",
       " \"exp4\"   24.4216"
      ]
     },
     "execution_count": 382,
     "metadata": {},
     "output_type": "execute_result"
    }
   ],
   "source": [
    "# normalize the data\n",
    "\n",
    "mean_1 = mean.(eachcol(data_train))\n",
    "mean_1 = [names(data_train) mean_1]"
   ]
  },
  {
   "cell_type": "code",
   "execution_count": 383,
   "id": "7253fe8b",
   "metadata": {
    "execution": {
     "iopub.execute_input": "2021-03-28T13:27:45.728578Z",
     "iopub.status.busy": "2021-03-28T13:27:45.727077Z",
     "iopub.status.idle": "2021-03-28T13:27:45.755489Z",
     "shell.execute_reply": "2021-03-28T13:27:45.754247Z"
    },
    "papermill": {
     "duration": 0.040664,
     "end_time": "2021-03-28T13:27:45.755600",
     "exception": false,
     "start_time": "2021-03-28T13:27:45.714936",
     "status": "completed"
    },
    "tags": []
   },
   "outputs": [
    {
     "data": {
      "text/plain": [
       "16×2 Matrix{Any}:\n",
       " \"wage\"   20.445\n",
       " \"lwage\"   0.566839\n",
       " \"sex\"     0.496926\n",
       " \"shs\"     0.147574\n",
       " \"hsg\"     0.431639\n",
       " \"scl\"     0.450522\n",
       " \"clg\"     0.462954\n",
       " \"ad\"      0.343044\n",
       " \"mw\"      0.440081\n",
       " \"so\"      0.456879\n",
       " \"we\"      0.411354\n",
       " \"ne\"      0.417645\n",
       " \"exp1\"   10.5105\n",
       " \"exp2\"    3.94797\n",
       " \"exp3\"   14.2448\n",
       " \"exp4\"   52.4952"
      ]
     },
     "execution_count": 383,
     "metadata": {},
     "output_type": "execute_result"
    }
   ],
   "source": [
    "std_1 = std.(eachcol(data_train))\n",
    "std_1 = [names(data_train) std_1]"
   ]
  },
  {
   "cell_type": "code",
   "execution_count": 388,
   "id": "0874361d",
   "metadata": {},
   "outputs": [
    {
     "data": {
      "text/html": [
       "<div class=\"data-frame\"><p>3,862 rows × 16 columns (omitted printing of 8 columns)</p><table class=\"data-frame\"><thead><tr><th></th><th>wage</th><th>lwage</th><th>sex</th><th>shs</th><th>hsg</th><th>scl</th><th>clg</th><th>ad</th></tr><tr><th></th><th title=\"Float64\">Float64</th><th title=\"Float64\">Float64</th><th title=\"Float64\">Float64</th><th title=\"Float64\">Float64</th><th title=\"Float64\">Float64</th><th title=\"Float64\">Float64</th><th title=\"Float64\">Float64</th><th title=\"Float64\">Float64</th></tr></thead><tbody><tr><th>1</th><td>-0.555914</td><td>-0.855849</td><td>-0.893634</td><td>-0.150896</td><td>-0.573489</td><td>-0.628192</td><td>1.48831</td><td>-0.39703</td></tr><tr><th>2</th><td>-0.640703</td><td>-1.13062</td><td>-0.893634</td><td>-0.150896</td><td>1.74326</td><td>-0.628192</td><td>-0.671727</td><td>-0.39703</td></tr><tr><th>3</th><td>-0.62646</td><td>-1.08137</td><td>-0.893634</td><td>-0.150896</td><td>-0.573489</td><td>1.59146</td><td>-0.671727</td><td>-0.39703</td></tr><tr><th>4</th><td>-0.297246</td><td>-0.212557</td><td>1.11874</td><td>-0.150896</td><td>-0.573489</td><td>1.59146</td><td>-0.671727</td><td>-0.39703</td></tr><tr><th>5</th><td>0.110351</td><td>0.480836</td><td>-0.893634</td><td>-0.150896</td><td>-0.573489</td><td>1.59146</td><td>-0.671727</td><td>-0.39703</td></tr><tr><th>6</th><td>0.925545</td><td>1.36429</td><td>-0.893634</td><td>-0.150896</td><td>-0.573489</td><td>-0.628192</td><td>1.48831</td><td>-0.39703</td></tr><tr><th>7</th><td>-0.367792</td><td>-0.36606</td><td>-0.893634</td><td>6.62538</td><td>-0.573489</td><td>-0.628192</td><td>-0.671727</td><td>-0.39703</td></tr><tr><th>8</th><td>2.38349</td><td>2.30512</td><td>1.11874</td><td>-0.150896</td><td>-0.573489</td><td>-0.628192</td><td>1.48831</td><td>-0.39703</td></tr><tr><th>9</th><td>0.603051</td><td>1.06541</td><td>1.11874</td><td>-0.150896</td><td>-0.573489</td><td>-0.628192</td><td>-0.671727</td><td>2.51805</td></tr><tr><th>10</th><td>-0.391307</td><td>-0.420346</td><td>1.11874</td><td>-0.150896</td><td>1.74326</td><td>-0.628192</td><td>-0.671727</td><td>-0.39703</td></tr><tr><th>11</th><td>-0.334871</td><td>-0.292761</td><td>-0.893634</td><td>-0.150896</td><td>-0.573489</td><td>1.59146</td><td>-0.671727</td><td>-0.39703</td></tr><tr><th>12</th><td>-0.320762</td><td>-0.262255</td><td>1.11874</td><td>-0.150896</td><td>-0.573489</td><td>-0.628192</td><td>1.48831</td><td>-0.39703</td></tr><tr><th>13</th><td>0.619847</td><td>1.08229</td><td>-0.893634</td><td>-0.150896</td><td>-0.573489</td><td>-0.628192</td><td>-0.671727</td><td>2.51805</td></tr><tr><th>14</th><td>-0.203185</td><td>-0.0266836</td><td>1.11874</td><td>-0.150896</td><td>-0.573489</td><td>-0.628192</td><td>1.48831</td><td>-0.39703</td></tr><tr><th>15</th><td>0.619847</td><td>1.08229</td><td>-0.893634</td><td>-0.150896</td><td>1.74326</td><td>-0.628192</td><td>-0.671727</td><td>-0.39703</td></tr><tr><th>16</th><td>0.149543</td><td>0.535122</td><td>-0.893634</td><td>-0.150896</td><td>-0.573489</td><td>-0.628192</td><td>1.48831</td><td>-0.39703</td></tr><tr><th>17</th><td>-0.438338</td><td>-0.534203</td><td>-0.893634</td><td>-0.150896</td><td>-0.573489</td><td>1.59146</td><td>-0.671727</td><td>-0.39703</td></tr><tr><th>18</th><td>1.06664</td><td>1.48065</td><td>-0.893634</td><td>-0.150896</td><td>-0.573489</td><td>-0.628192</td><td>1.48831</td><td>-0.39703</td></tr><tr><th>19</th><td>0.36118</td><td>0.802482</td><td>-0.893634</td><td>-0.150896</td><td>-0.573489</td><td>-0.628192</td><td>-0.671727</td><td>2.51805</td></tr><tr><th>20</th><td>0.0789973</td><td>0.436171</td><td>-0.893634</td><td>-0.150896</td><td>-0.573489</td><td>-0.628192</td><td>1.48831</td><td>-0.39703</td></tr><tr><th>21</th><td>-0.24081</td><td>-0.0987005</td><td>1.11874</td><td>-0.150896</td><td>-0.573489</td><td>-0.628192</td><td>1.48831</td><td>-0.39703</td></tr><tr><th>22</th><td>-0.717385</td><td>-1.42237</td><td>1.11874</td><td>-0.150896</td><td>-0.573489</td><td>1.59146</td><td>-0.671727</td><td>-0.39703</td></tr><tr><th>23</th><td>-0.203185</td><td>-0.0266836</td><td>-0.893634</td><td>-0.150896</td><td>1.74326</td><td>-0.628192</td><td>-0.671727</td><td>-0.39703</td></tr><tr><th>24</th><td>-0.485368</td><td>-0.655918</td><td>-0.893634</td><td>-0.150896</td><td>1.74326</td><td>-0.628192</td><td>-0.671727</td><td>-0.39703</td></tr><tr><th>25</th><td>-0.0385788</td><td>0.257821</td><td>-0.893634</td><td>-0.150896</td><td>1.74326</td><td>-0.628192</td><td>-0.671727</td><td>-0.39703</td></tr><tr><th>26</th><td>-0.621234</td><td>-1.06364</td><td>1.11874</td><td>-0.150896</td><td>1.74326</td><td>-0.628192</td><td>-0.671727</td><td>-0.39703</td></tr><tr><th>27</th><td>1.20773</td><td>1.58981</td><td>-0.893634</td><td>-0.150896</td><td>-0.573489</td><td>-0.628192</td><td>1.48831</td><td>-0.39703</td></tr><tr><th>28</th><td>0.00845161</td><td>0.331338</td><td>-0.893634</td><td>-0.150896</td><td>-0.573489</td><td>1.59146</td><td>-0.671727</td><td>-0.39703</td></tr><tr><th>29</th><td>1.23908</td><td>1.61317</td><td>-0.893634</td><td>-0.150896</td><td>-0.573489</td><td>-0.628192</td><td>-0.671727</td><td>2.51805</td></tr><tr><th>30</th><td>-0.435986</td><td>-0.528332</td><td>-0.893634</td><td>-0.150896</td><td>-0.573489</td><td>-0.628192</td><td>1.48831</td><td>-0.39703</td></tr><tr><th>&vellip;</th><td>&vellip;</td><td>&vellip;</td><td>&vellip;</td><td>&vellip;</td><td>&vellip;</td><td>&vellip;</td><td>&vellip;</td><td>&vellip;</td></tr></tbody></table></div>"
      ],
      "text/latex": [
       "\\begin{tabular}{r|ccccccccc}\n",
       "\t& wage & lwage & sex & shs & hsg & scl & clg & ad & \\\\\n",
       "\t\\hline\n",
       "\t& Float64 & Float64 & Float64 & Float64 & Float64 & Float64 & Float64 & Float64 & \\\\\n",
       "\t\\hline\n",
       "\t1 & -0.555914 & -0.855849 & -0.893634 & -0.150896 & -0.573489 & -0.628192 & 1.48831 & -0.39703 & $\\dots$ \\\\\n",
       "\t2 & -0.640703 & -1.13062 & -0.893634 & -0.150896 & 1.74326 & -0.628192 & -0.671727 & -0.39703 & $\\dots$ \\\\\n",
       "\t3 & -0.62646 & -1.08137 & -0.893634 & -0.150896 & -0.573489 & 1.59146 & -0.671727 & -0.39703 & $\\dots$ \\\\\n",
       "\t4 & -0.297246 & -0.212557 & 1.11874 & -0.150896 & -0.573489 & 1.59146 & -0.671727 & -0.39703 & $\\dots$ \\\\\n",
       "\t5 & 0.110351 & 0.480836 & -0.893634 & -0.150896 & -0.573489 & 1.59146 & -0.671727 & -0.39703 & $\\dots$ \\\\\n",
       "\t6 & 0.925545 & 1.36429 & -0.893634 & -0.150896 & -0.573489 & -0.628192 & 1.48831 & -0.39703 & $\\dots$ \\\\\n",
       "\t7 & -0.367792 & -0.36606 & -0.893634 & 6.62538 & -0.573489 & -0.628192 & -0.671727 & -0.39703 & $\\dots$ \\\\\n",
       "\t8 & 2.38349 & 2.30512 & 1.11874 & -0.150896 & -0.573489 & -0.628192 & 1.48831 & -0.39703 & $\\dots$ \\\\\n",
       "\t9 & 0.603051 & 1.06541 & 1.11874 & -0.150896 & -0.573489 & -0.628192 & -0.671727 & 2.51805 & $\\dots$ \\\\\n",
       "\t10 & -0.391307 & -0.420346 & 1.11874 & -0.150896 & 1.74326 & -0.628192 & -0.671727 & -0.39703 & $\\dots$ \\\\\n",
       "\t11 & -0.334871 & -0.292761 & -0.893634 & -0.150896 & -0.573489 & 1.59146 & -0.671727 & -0.39703 & $\\dots$ \\\\\n",
       "\t12 & -0.320762 & -0.262255 & 1.11874 & -0.150896 & -0.573489 & -0.628192 & 1.48831 & -0.39703 & $\\dots$ \\\\\n",
       "\t13 & 0.619847 & 1.08229 & -0.893634 & -0.150896 & -0.573489 & -0.628192 & -0.671727 & 2.51805 & $\\dots$ \\\\\n",
       "\t14 & -0.203185 & -0.0266836 & 1.11874 & -0.150896 & -0.573489 & -0.628192 & 1.48831 & -0.39703 & $\\dots$ \\\\\n",
       "\t15 & 0.619847 & 1.08229 & -0.893634 & -0.150896 & 1.74326 & -0.628192 & -0.671727 & -0.39703 & $\\dots$ \\\\\n",
       "\t16 & 0.149543 & 0.535122 & -0.893634 & -0.150896 & -0.573489 & -0.628192 & 1.48831 & -0.39703 & $\\dots$ \\\\\n",
       "\t17 & -0.438338 & -0.534203 & -0.893634 & -0.150896 & -0.573489 & 1.59146 & -0.671727 & -0.39703 & $\\dots$ \\\\\n",
       "\t18 & 1.06664 & 1.48065 & -0.893634 & -0.150896 & -0.573489 & -0.628192 & 1.48831 & -0.39703 & $\\dots$ \\\\\n",
       "\t19 & 0.36118 & 0.802482 & -0.893634 & -0.150896 & -0.573489 & -0.628192 & -0.671727 & 2.51805 & $\\dots$ \\\\\n",
       "\t20 & 0.0789973 & 0.436171 & -0.893634 & -0.150896 & -0.573489 & -0.628192 & 1.48831 & -0.39703 & $\\dots$ \\\\\n",
       "\t21 & -0.24081 & -0.0987005 & 1.11874 & -0.150896 & -0.573489 & -0.628192 & 1.48831 & -0.39703 & $\\dots$ \\\\\n",
       "\t22 & -0.717385 & -1.42237 & 1.11874 & -0.150896 & -0.573489 & 1.59146 & -0.671727 & -0.39703 & $\\dots$ \\\\\n",
       "\t23 & -0.203185 & -0.0266836 & -0.893634 & -0.150896 & 1.74326 & -0.628192 & -0.671727 & -0.39703 & $\\dots$ \\\\\n",
       "\t24 & -0.485368 & -0.655918 & -0.893634 & -0.150896 & 1.74326 & -0.628192 & -0.671727 & -0.39703 & $\\dots$ \\\\\n",
       "\t25 & -0.0385788 & 0.257821 & -0.893634 & -0.150896 & 1.74326 & -0.628192 & -0.671727 & -0.39703 & $\\dots$ \\\\\n",
       "\t26 & -0.621234 & -1.06364 & 1.11874 & -0.150896 & 1.74326 & -0.628192 & -0.671727 & -0.39703 & $\\dots$ \\\\\n",
       "\t27 & 1.20773 & 1.58981 & -0.893634 & -0.150896 & -0.573489 & -0.628192 & 1.48831 & -0.39703 & $\\dots$ \\\\\n",
       "\t28 & 0.00845161 & 0.331338 & -0.893634 & -0.150896 & -0.573489 & 1.59146 & -0.671727 & -0.39703 & $\\dots$ \\\\\n",
       "\t29 & 1.23908 & 1.61317 & -0.893634 & -0.150896 & -0.573489 & -0.628192 & -0.671727 & 2.51805 & $\\dots$ \\\\\n",
       "\t30 & -0.435986 & -0.528332 & -0.893634 & -0.150896 & -0.573489 & -0.628192 & 1.48831 & -0.39703 & $\\dots$ \\\\\n",
       "\t$\\dots$ & $\\dots$ & $\\dots$ & $\\dots$ & $\\dots$ & $\\dots$ & $\\dots$ & $\\dots$ & $\\dots$ &  \\\\\n",
       "\\end{tabular}\n"
      ],
      "text/plain": [
       "\u001b[1m3862×16 DataFrame\u001b[0m\n",
       "\u001b[1m  Row \u001b[0m│\u001b[1m wage       \u001b[0m\u001b[1m lwage      \u001b[0m\u001b[1m sex       \u001b[0m\u001b[1m shs       \u001b[0m\u001b[1m hsg       \u001b[0m\u001b[1m scl       \u001b[0m\u001b[1m cl\u001b[0m ⋯\n",
       "\u001b[1m      \u001b[0m│\u001b[90m Float64    \u001b[0m\u001b[90m Float64    \u001b[0m\u001b[90m Float64   \u001b[0m\u001b[90m Float64   \u001b[0m\u001b[90m Float64   \u001b[0m\u001b[90m Float64   \u001b[0m\u001b[90m Fl\u001b[0m ⋯\n",
       "──────┼─────────────────────────────────────────────────────────────────────────\n",
       "    1 │ -0.555914   -0.855849   -0.893634  -0.150896  -0.573489  -0.628192   1 ⋯\n",
       "    2 │ -0.640703   -1.13062    -0.893634  -0.150896   1.74326   -0.628192  -0\n",
       "    3 │ -0.62646    -1.08137    -0.893634  -0.150896  -0.573489   1.59146   -0\n",
       "    4 │ -0.297246   -0.212557    1.11874   -0.150896  -0.573489   1.59146   -0\n",
       "    5 │  0.110351    0.480836   -0.893634  -0.150896  -0.573489   1.59146   -0 ⋯\n",
       "    6 │  0.925545    1.36429    -0.893634  -0.150896  -0.573489  -0.628192   1\n",
       "    7 │ -0.367792   -0.36606    -0.893634   6.62538   -0.573489  -0.628192  -0\n",
       "    8 │  2.38349     2.30512     1.11874   -0.150896  -0.573489  -0.628192   1\n",
       "    9 │  0.603051    1.06541     1.11874   -0.150896  -0.573489  -0.628192  -0 ⋯\n",
       "   10 │ -0.391307   -0.420346    1.11874   -0.150896   1.74326   -0.628192  -0\n",
       "   11 │ -0.334871   -0.292761   -0.893634  -0.150896  -0.573489   1.59146   -0\n",
       "  ⋮   │     ⋮           ⋮           ⋮          ⋮          ⋮          ⋮         ⋱\n",
       " 3853 │  0.0319668   0.366979   -0.893634  -0.150896  -0.573489  -0.628192   1\n",
       " 3854 │ -0.508883   -0.720077    1.11874   -0.150896   1.74326   -0.628192  -0 ⋯\n",
       " 3855 │ -0.485368   -0.655918   -0.893634  -0.150896  -0.573489  -0.628192   1\n",
       " 3856 │ -0.767551   -1.64317    -0.893634  -0.150896  -0.573489   1.59146   -0\n",
       " 3857 │ -0.320762   -0.262255   -0.893634  -0.150896  -0.573489  -0.628192   1\n",
       " 3858 │  0.267119    0.688625   -0.893634  -0.150896  -0.573489  -0.628192   1 ⋯\n",
       " 3859 │  1.91318     2.05266    -0.893634  -0.150896  -0.573489  -0.628192  -0\n",
       " 3860 │ -0.13264     0.100902   -0.893634  -0.150896   1.74326   -0.628192  -0\n",
       " 3861 │ -0.203185   -0.0266836   1.11874   -0.150896  -0.573489  -0.628192  -0\n",
       " 3862 │ -0.851422   -2.08811     1.11874   -0.150896   1.74326   -0.628192  -0 ⋯\n",
       "\u001b[36m                                                10 columns and 3841 rows omitted\u001b[0m"
      ]
     },
     "execution_count": 388,
     "metadata": {},
     "output_type": "execute_result"
    }
   ],
   "source": [
    "df = DataFrame()\n",
    "for i in 1:size(data_train)[2]\n",
    "     p = (data_train[!, i] .- mean_1[i,2]) / std_1[i,2]\n",
    "     colname = names(data_train)[i]\n",
    "     df[!,colname] = p\n",
    "end\n",
    "data_train = df\n",
    "data_train"
   ]
  },
  {
   "cell_type": "code",
   "execution_count": 389,
   "id": "40070f86",
   "metadata": {},
   "outputs": [
    {
     "data": {
      "text/html": [
       "<div class=\"data-frame\"><p>1,288 rows × 16 columns (omitted printing of 9 columns)</p><table class=\"data-frame\"><thead><tr><th></th><th>wage</th><th>lwage</th><th>sex</th><th>shs</th><th>hsg</th><th>scl</th><th>clg</th></tr><tr><th></th><th title=\"Float64\">Float64</th><th title=\"Float64\">Float64</th><th title=\"Float64\">Float64</th><th title=\"Float64\">Float64</th><th title=\"Float64\">Float64</th><th title=\"Float64\">Float64</th><th title=\"Float64\">Float64</th></tr></thead><tbody><tr><th>1</th><td>-0.67349</td><td>-1.24951</td><td>1.11874</td><td>-0.150896</td><td>-0.573489</td><td>-0.628192</td><td>1.48831</td></tr><tr><th>2</th><td>-0.461853</td><td>-0.594011</td><td>1.11874</td><td>-0.150896</td><td>-0.573489</td><td>-0.628192</td><td>-0.671727</td></tr><tr><th>3</th><td>-0.555914</td><td>-0.855849</td><td>1.11874</td><td>-0.150896</td><td>-0.573489</td><td>1.59146</td><td>-0.671727</td></tr><tr><th>4</th><td>-0.498805</td><td>-0.692294</td><td>-0.893634</td><td>-0.150896</td><td>1.74326</td><td>-0.628192</td><td>-0.671727</td></tr><tr><th>5</th><td>-0.273731</td><td>-0.164221</td><td>1.11874</td><td>-0.150896</td><td>-0.573489</td><td>-0.628192</td><td>-0.671727</td></tr><tr><th>6</th><td>-0.346322</td><td>-0.317912</td><td>1.11874</td><td>-0.150896</td><td>-0.573489</td><td>1.59146</td><td>-0.671727</td></tr><tr><th>7</th><td>-0.556854</td><td>-0.858674</td><td>-0.893634</td><td>-0.150896</td><td>-0.573489</td><td>1.59146</td><td>-0.671727</td></tr><tr><th>8</th><td>-0.181686</td><td>0.0131863</td><td>-0.893634</td><td>-0.150896</td><td>-0.573489</td><td>-0.628192</td><td>1.48831</td></tr><tr><th>9</th><td>-0.558527</td><td>-0.863707</td><td>1.11874</td><td>-0.150896</td><td>1.74326</td><td>-0.628192</td><td>-0.671727</td></tr><tr><th>10</th><td>0.0319668</td><td>0.366979</td><td>1.11874</td><td>-0.150896</td><td>-0.573489</td><td>-0.628192</td><td>1.48831</td></tr><tr><th>11</th><td>0.871796</td><td>1.31786</td><td>1.11874</td><td>-0.150896</td><td>-0.573489</td><td>-0.628192</td><td>1.48831</td></tr><tr><th>12</th><td>-0.649975</td><td>-1.16344</td><td>-0.893634</td><td>-0.150896</td><td>1.74326</td><td>-0.628192</td><td>-0.671727</td></tr><tr><th>13</th><td>-0.791066</td><td>-1.75703</td><td>1.11874</td><td>-0.150896</td><td>-0.573489</td><td>1.59146</td><td>-0.671727</td></tr><tr><th>14</th><td>-0.511021</td><td>-0.726027</td><td>-0.893634</td><td>-0.150896</td><td>-0.573489</td><td>1.59146</td><td>-0.671727</td></tr><tr><th>15</th><td>-0.0432819</td><td>0.250297</td><td>1.11874</td><td>-0.150896</td><td>-0.573489</td><td>-0.628192</td><td>-0.671727</td></tr><tr><th>16</th><td>0.518677</td><td>0.978069</td><td>-0.893634</td><td>-0.150896</td><td>-0.573489</td><td>-0.628192</td><td>1.48831</td></tr><tr><th>17</th><td>-0.00249603</td><td>0.314496</td><td>-0.893634</td><td>-0.150896</td><td>-0.573489</td><td>-0.628192</td><td>1.48831</td></tr><tr><th>18</th><td>-0.848174</td><td>-2.06862</td><td>-0.893634</td><td>-0.150896</td><td>-0.573489</td><td>-0.628192</td><td>1.48831</td></tr><tr><th>19</th><td>-0.67349</td><td>-1.24951</td><td>-0.893634</td><td>-0.150896</td><td>1.74326</td><td>-0.628192</td><td>-0.671727</td></tr><tr><th>20</th><td>-0.725746</td><td>-1.4573</td><td>-0.893634</td><td>6.62538</td><td>-0.573489</td><td>-0.628192</td><td>-0.671727</td></tr><tr><th>21</th><td>-0.555914</td><td>-0.855849</td><td>1.11874</td><td>-0.150896</td><td>1.74326</td><td>-0.628192</td><td>-0.671727</td></tr><tr><th>22</th><td>-0.320762</td><td>-0.262255</td><td>-0.893634</td><td>-0.150896</td><td>-0.573489</td><td>1.59146</td><td>-0.671727</td></tr><tr><th>23</th><td>-0.0856093</td><td>0.181105</td><td>-0.893634</td><td>-0.150896</td><td>-0.573489</td><td>-0.628192</td><td>1.48831</td></tr><tr><th>24</th><td>-0.979188</td><td>-3.10157</td><td>-0.893634</td><td>-0.150896</td><td>-0.573489</td><td>-0.628192</td><td>1.48831</td></tr><tr><th>25</th><td>-0.203185</td><td>-0.0266836</td><td>-0.893634</td><td>-0.150896</td><td>-0.573489</td><td>1.59146</td><td>-0.671727</td></tr><tr><th>26</th><td>-0.256935</td><td>-0.130488</td><td>-0.893634</td><td>-0.150896</td><td>-0.573489</td><td>-0.628192</td><td>1.48831</td></tr><tr><th>27</th><td>-0.67349</td><td>-1.24951</td><td>1.11874</td><td>-0.150896</td><td>-0.573489</td><td>1.59146</td><td>-0.671727</td></tr><tr><th>28</th><td>-0.0620941</td><td>0.21988</td><td>1.11874</td><td>-0.150896</td><td>-0.573489</td><td>-0.628192</td><td>1.48831</td></tr><tr><th>29</th><td>-0.41221</td><td>-0.470044</td><td>1.11874</td><td>-0.150896</td><td>-0.573489</td><td>-0.628192</td><td>1.48831</td></tr><tr><th>30</th><td>-0.602944</td><td>-1.00295</td><td>-0.893634</td><td>-0.150896</td><td>-0.573489</td><td>-0.628192</td><td>1.48831</td></tr><tr><th>&vellip;</th><td>&vellip;</td><td>&vellip;</td><td>&vellip;</td><td>&vellip;</td><td>&vellip;</td><td>&vellip;</td><td>&vellip;</td></tr></tbody></table></div>"
      ],
      "text/latex": [
       "\\begin{tabular}{r|cccccccc}\n",
       "\t& wage & lwage & sex & shs & hsg & scl & clg & \\\\\n",
       "\t\\hline\n",
       "\t& Float64 & Float64 & Float64 & Float64 & Float64 & Float64 & Float64 & \\\\\n",
       "\t\\hline\n",
       "\t1 & -0.67349 & -1.24951 & 1.11874 & -0.150896 & -0.573489 & -0.628192 & 1.48831 & $\\dots$ \\\\\n",
       "\t2 & -0.461853 & -0.594011 & 1.11874 & -0.150896 & -0.573489 & -0.628192 & -0.671727 & $\\dots$ \\\\\n",
       "\t3 & -0.555914 & -0.855849 & 1.11874 & -0.150896 & -0.573489 & 1.59146 & -0.671727 & $\\dots$ \\\\\n",
       "\t4 & -0.498805 & -0.692294 & -0.893634 & -0.150896 & 1.74326 & -0.628192 & -0.671727 & $\\dots$ \\\\\n",
       "\t5 & -0.273731 & -0.164221 & 1.11874 & -0.150896 & -0.573489 & -0.628192 & -0.671727 & $\\dots$ \\\\\n",
       "\t6 & -0.346322 & -0.317912 & 1.11874 & -0.150896 & -0.573489 & 1.59146 & -0.671727 & $\\dots$ \\\\\n",
       "\t7 & -0.556854 & -0.858674 & -0.893634 & -0.150896 & -0.573489 & 1.59146 & -0.671727 & $\\dots$ \\\\\n",
       "\t8 & -0.181686 & 0.0131863 & -0.893634 & -0.150896 & -0.573489 & -0.628192 & 1.48831 & $\\dots$ \\\\\n",
       "\t9 & -0.558527 & -0.863707 & 1.11874 & -0.150896 & 1.74326 & -0.628192 & -0.671727 & $\\dots$ \\\\\n",
       "\t10 & 0.0319668 & 0.366979 & 1.11874 & -0.150896 & -0.573489 & -0.628192 & 1.48831 & $\\dots$ \\\\\n",
       "\t11 & 0.871796 & 1.31786 & 1.11874 & -0.150896 & -0.573489 & -0.628192 & 1.48831 & $\\dots$ \\\\\n",
       "\t12 & -0.649975 & -1.16344 & -0.893634 & -0.150896 & 1.74326 & -0.628192 & -0.671727 & $\\dots$ \\\\\n",
       "\t13 & -0.791066 & -1.75703 & 1.11874 & -0.150896 & -0.573489 & 1.59146 & -0.671727 & $\\dots$ \\\\\n",
       "\t14 & -0.511021 & -0.726027 & -0.893634 & -0.150896 & -0.573489 & 1.59146 & -0.671727 & $\\dots$ \\\\\n",
       "\t15 & -0.0432819 & 0.250297 & 1.11874 & -0.150896 & -0.573489 & -0.628192 & -0.671727 & $\\dots$ \\\\\n",
       "\t16 & 0.518677 & 0.978069 & -0.893634 & -0.150896 & -0.573489 & -0.628192 & 1.48831 & $\\dots$ \\\\\n",
       "\t17 & -0.00249603 & 0.314496 & -0.893634 & -0.150896 & -0.573489 & -0.628192 & 1.48831 & $\\dots$ \\\\\n",
       "\t18 & -0.848174 & -2.06862 & -0.893634 & -0.150896 & -0.573489 & -0.628192 & 1.48831 & $\\dots$ \\\\\n",
       "\t19 & -0.67349 & -1.24951 & -0.893634 & -0.150896 & 1.74326 & -0.628192 & -0.671727 & $\\dots$ \\\\\n",
       "\t20 & -0.725746 & -1.4573 & -0.893634 & 6.62538 & -0.573489 & -0.628192 & -0.671727 & $\\dots$ \\\\\n",
       "\t21 & -0.555914 & -0.855849 & 1.11874 & -0.150896 & 1.74326 & -0.628192 & -0.671727 & $\\dots$ \\\\\n",
       "\t22 & -0.320762 & -0.262255 & -0.893634 & -0.150896 & -0.573489 & 1.59146 & -0.671727 & $\\dots$ \\\\\n",
       "\t23 & -0.0856093 & 0.181105 & -0.893634 & -0.150896 & -0.573489 & -0.628192 & 1.48831 & $\\dots$ \\\\\n",
       "\t24 & -0.979188 & -3.10157 & -0.893634 & -0.150896 & -0.573489 & -0.628192 & 1.48831 & $\\dots$ \\\\\n",
       "\t25 & -0.203185 & -0.0266836 & -0.893634 & -0.150896 & -0.573489 & 1.59146 & -0.671727 & $\\dots$ \\\\\n",
       "\t26 & -0.256935 & -0.130488 & -0.893634 & -0.150896 & -0.573489 & -0.628192 & 1.48831 & $\\dots$ \\\\\n",
       "\t27 & -0.67349 & -1.24951 & 1.11874 & -0.150896 & -0.573489 & 1.59146 & -0.671727 & $\\dots$ \\\\\n",
       "\t28 & -0.0620941 & 0.21988 & 1.11874 & -0.150896 & -0.573489 & -0.628192 & 1.48831 & $\\dots$ \\\\\n",
       "\t29 & -0.41221 & -0.470044 & 1.11874 & -0.150896 & -0.573489 & -0.628192 & 1.48831 & $\\dots$ \\\\\n",
       "\t30 & -0.602944 & -1.00295 & -0.893634 & -0.150896 & -0.573489 & -0.628192 & 1.48831 & $\\dots$ \\\\\n",
       "\t$\\dots$ & $\\dots$ & $\\dots$ & $\\dots$ & $\\dots$ & $\\dots$ & $\\dots$ & $\\dots$ &  \\\\\n",
       "\\end{tabular}\n"
      ],
      "text/plain": [
       "\u001b[1m1288×16 DataFrame\u001b[0m\n",
       "\u001b[1m  Row \u001b[0m│\u001b[1m wage       \u001b[0m\u001b[1m lwage      \u001b[0m\u001b[1m sex       \u001b[0m\u001b[1m shs       \u001b[0m\u001b[1m hsg       \u001b[0m\u001b[1m scl       \u001b[0m\u001b[1m cl\u001b[0m ⋯\n",
       "\u001b[1m      \u001b[0m│\u001b[90m Float64    \u001b[0m\u001b[90m Float64    \u001b[0m\u001b[90m Float64   \u001b[0m\u001b[90m Float64   \u001b[0m\u001b[90m Float64   \u001b[0m\u001b[90m Float64   \u001b[0m\u001b[90m Fl\u001b[0m ⋯\n",
       "──────┼─────────────────────────────────────────────────────────────────────────\n",
       "    1 │ -0.67349    -1.24951     1.11874   -0.150896  -0.573489  -0.628192   1 ⋯\n",
       "    2 │ -0.461853   -0.594011    1.11874   -0.150896  -0.573489  -0.628192  -0\n",
       "    3 │ -0.555914   -0.855849    1.11874   -0.150896  -0.573489   1.59146   -0\n",
       "    4 │ -0.498805   -0.692294   -0.893634  -0.150896   1.74326   -0.628192  -0\n",
       "    5 │ -0.273731   -0.164221    1.11874   -0.150896  -0.573489  -0.628192  -0 ⋯\n",
       "    6 │ -0.346322   -0.317912    1.11874   -0.150896  -0.573489   1.59146   -0\n",
       "    7 │ -0.556854   -0.858674   -0.893634  -0.150896  -0.573489   1.59146   -0\n",
       "    8 │ -0.181686    0.0131863  -0.893634  -0.150896  -0.573489  -0.628192   1\n",
       "    9 │ -0.558527   -0.863707    1.11874   -0.150896   1.74326   -0.628192  -0 ⋯\n",
       "   10 │  0.0319668   0.366979    1.11874   -0.150896  -0.573489  -0.628192   1\n",
       "   11 │  0.871796    1.31786     1.11874   -0.150896  -0.573489  -0.628192   1\n",
       "  ⋮   │     ⋮           ⋮           ⋮          ⋮          ⋮          ⋮         ⋱\n",
       " 1279 │ -0.226701   -0.0713485   1.11874   -0.150896  -0.573489  -0.628192   1\n",
       " 1280 │ -0.375986   -0.384787    1.11874   -0.150896   1.74326   -0.628192  -0 ⋯\n",
       " 1281 │ -0.67349    -1.24951    -0.893634  -0.150896   1.74326   -0.628192  -0\n",
       " 1282 │ -0.555914   -0.855849   -0.893634  -0.150896  -0.573489   1.59146   -0\n",
       " 1283 │  0.149543    0.535122    1.11874   -0.150896  -0.573489  -0.628192   1\n",
       " 1284 │ -0.0385788   0.257821   -0.893634  -0.150896   1.74326   -0.628192  -0 ⋯\n",
       " 1285 │ -0.466556   -0.60622    -0.893634  -0.150896  -0.573489  -0.628192   1\n",
       " 1286 │ -0.421407   -0.492363   -0.893634  -0.150896  -0.573489  -0.628192   1\n",
       " 1287 │  0.737424    1.19614    -0.893634  -0.150896  -0.573489  -0.628192  -0\n",
       " 1288 │  0.468678    0.924197   -0.893634  -0.150896   1.74326   -0.628192  -0 ⋯\n",
       "\u001b[36m                                                10 columns and 1267 rows omitted\u001b[0m"
      ]
     },
     "execution_count": 389,
     "metadata": {},
     "output_type": "execute_result"
    }
   ],
   "source": [
    "df = DataFrame()\n",
    "for i in 1:size(data_test)[2]\n",
    "     p = (data_test[!, i] .- mean_1[i,2]) / std_1[i,2]\n",
    "     colname = names(data_test)[i]\n",
    "     df[!,colname] = p\n",
    "end\n",
    "data_test = df\n",
    "data_test"
   ]
  },
  {
   "cell_type": "code",
   "execution_count": 392,
   "id": "c5b3bb4b",
   "metadata": {},
   "outputs": [
    {
     "data": {
      "text/plain": [
       "(DataFrame, DataFrame)"
      ]
     },
     "execution_count": 392,
     "metadata": {},
     "output_type": "execute_result"
    }
   ],
   "source": [
    "typeof(data_train), typeof(data_test)"
   ]
  },
  {
   "cell_type": "markdown",
   "id": "7c18f2ed",
   "metadata": {
    "papermill": {
     "duration": 0.009183,
     "end_time": "2021-03-28T13:27:45.774239",
     "exception": false,
     "start_time": "2021-03-28T13:27:45.765056",
     "status": "completed"
    },
    "tags": []
   },
   "source": [
    "Then, we construct the inputs for our network."
   ]
  },
  {
   "cell_type": "code",
   "execution_count": 401,
   "id": "05c4cdb4",
   "metadata": {
    "execution": {
     "iopub.execute_input": "2021-03-28T13:27:45.796900Z",
     "iopub.status.busy": "2021-03-28T13:27:45.795499Z",
     "iopub.status.idle": "2021-03-28T13:27:45.816633Z",
     "shell.execute_reply": "2021-03-28T13:27:45.815366Z"
    },
    "papermill": {
     "duration": 0.033096,
     "end_time": "2021-03-28T13:27:45.816740",
     "exception": false,
     "start_time": "2021-03-28T13:27:45.783644",
     "status": "completed"
    },
    "tags": []
   },
   "outputs": [
    {
     "name": "stdout",
     "output_type": "stream",
     "text": [
      "lwage ~ sex + exp1 + shs + hsg + scl + clg + mw + so + we\n"
     ]
    }
   ],
   "source": [
    "formula_basic = @formula(lwage ~ sex + exp1 + shs + hsg+ scl + clg + mw + so + we)\n",
    "println(formula_basic)"
   ]
  },
  {
   "cell_type": "code",
   "execution_count": 403,
   "id": "8fae391d",
   "metadata": {},
   "outputs": [
    {
     "data": {
      "text/plain": [
       "1288×10 Matrix{Float64}:\n",
       " 1.0   1.11874   -0.634592   -0.150896  …  -0.596613  -0.649488  -0.524344\n",
       " 1.0   1.11874    1.07799    -0.150896     -0.596613  -0.649488  -0.524344\n",
       " 1.0   1.11874   -0.777306   -0.150896     -0.596613  -0.649488  -0.524344\n",
       " 1.0  -0.893634  -0.539448   -0.150896     -0.596613  -0.649488  -0.524344\n",
       " 1.0   1.11874   -0.254019   -0.150896     -0.596613  -0.649488  -0.524344\n",
       " 1.0   1.11874    1.03041    -0.150896  …  -0.596613  -0.649488  -0.524344\n",
       " 1.0  -0.893634  -0.87245    -0.150896     -0.596613  -0.649488  -0.524344\n",
       " 1.0  -0.893634   1.17313    -0.150896     -0.596613  -0.649488  -0.524344\n",
       " 1.0   1.11874    0.0314105  -0.150896     -0.596613  -0.649488  -0.524344\n",
       " 1.0   1.11874    1.64884    -0.150896     -0.596613  -0.649488  -0.524344\n",
       " 1.0   1.11874   -0.254019   -0.150896  …  -0.596613  -0.649488  -0.524344\n",
       " 1.0  -0.893634   1.26827    -0.150896     -0.596613  -0.649488  -0.524344\n",
       " 1.0   1.11874    0.364412   -0.150896     -0.596613  -0.649488  -0.524344\n",
       " ⋮                                      ⋱                        \n",
       " 1.0  -0.893634   0.792556   -0.150896     -0.596613  -0.649488   1.90665\n",
       " 1.0  -0.893634  -0.349162   -0.150896     -0.596613  -0.649488   1.90665\n",
       " 1.0   1.11874   -1.11031    -0.150896     -0.596613  -0.649488   1.90665\n",
       " 1.0   1.11874    2.50513    -0.150896     -0.596613  -0.649488   1.90665\n",
       " 1.0  -0.893634   0.60227    -0.150896  …  -0.596613  -0.649488   1.90665\n",
       " 1.0  -0.893634   1.69642    -0.150896     -0.596613  -0.649488   1.90665\n",
       " 1.0   1.11874    1.93427    -0.150896     -0.596613  -0.649488   1.90665\n",
       " 1.0  -0.893634   0.126554   -0.150896     -0.596613  -0.649488   1.90665\n",
       " 1.0  -0.893634  -0.349162   -0.150896     -0.596613  -0.649488   1.90665\n",
       " 1.0  -0.893634  -0.444305   -0.150896  …  -0.596613  -0.649488   1.90665\n",
       " 1.0  -0.893634  -0.254019   -0.150896     -0.596613  -0.649488   1.90665\n",
       " 1.0  -0.893634  -0.349162   -0.150896     -0.596613  -0.649488   1.90665"
      ]
     },
     "execution_count": 403,
     "metadata": {},
     "output_type": "execute_result"
    }
   ],
   "source": [
    "model_X_basic_train = ModelMatrix(ModelFrame(formula_basic,data_train)).m\n",
    "model_X_basic_test = ModelMatrix(ModelFrame(formula_basic,data_test)).m"
   ]
  },
  {
   "cell_type": "code",
   "execution_count": 407,
   "id": "640d812a",
   "metadata": {
    "execution": {
     "iopub.execute_input": "2021-03-28T13:27:45.796900Z",
     "iopub.status.busy": "2021-03-28T13:27:45.795499Z",
     "iopub.status.idle": "2021-03-28T13:27:45.816633Z",
     "shell.execute_reply": "2021-03-28T13:27:45.815366Z"
    },
    "papermill": {
     "duration": 0.033096,
     "end_time": "2021-03-28T13:27:45.816740",
     "exception": false,
     "start_time": "2021-03-28T13:27:45.783644",
     "status": "completed"
    },
    "tags": []
   },
   "outputs": [
    {
     "data": {
      "text/plain": [
       "1288-element Vector{Float64}:\n",
       " -1.2495116701816313\n",
       " -0.5940111369079969\n",
       " -0.8558489593188235\n",
       " -0.6922940066202594\n",
       " -0.16422085652454593\n",
       " -0.3179120121732921\n",
       " -0.8586738886527183\n",
       "  0.013186299642166738\n",
       " -0.8637071816306149\n",
       "  0.36697911041067455\n",
       "  1.3178594848348544\n",
       " -1.1634376242266362\n",
       " -1.7570311742901377\n",
       "  ⋮\n",
       " -1.2495116701816313\n",
       "  0.43617103718140365\n",
       " -0.07134846692710259\n",
       " -0.3847866913343217\n",
       " -1.2495116701816313\n",
       " -0.8558489593188235\n",
       "  0.5351222789388115\n",
       "  0.25782050367552267\n",
       " -0.6062199606652643\n",
       " -0.4923631674195659\n",
       "  1.1961444692773646\n",
       "  0.9241967739720466"
      ]
     },
     "execution_count": 407,
     "metadata": {},
     "output_type": "execute_result"
    }
   ],
   "source": [
    "Y_train = data_train[!,\"lwage\"]\n",
    "Y_test = data_test[!,\"lwage\"]"
   ]
  },
  {
   "cell_type": "code",
   "execution_count": 408,
   "id": "e0866842",
   "metadata": {},
   "outputs": [
    {
     "data": {
      "text/plain": [
       "3862×10 Matrix{Float64}:\n",
       " 1.0  -0.893634   1.07799    -0.150896  …   1.67569   -0.649488  -0.524344\n",
       " 1.0  -0.893634  -0.444305   -0.150896     -0.596613   1.53928   -0.524344\n",
       " 1.0  -0.893634   1.12556    -0.150896     -0.596613  -0.649488   1.90665\n",
       " 1.0   1.11874   -0.920021   -0.150896     -0.596613   1.53928   -0.524344\n",
       " 1.0  -0.893634   2.17213    -0.150896     -0.596613  -0.649488  -0.524344\n",
       " 1.0  -0.893634  -0.158876   -0.150896  …   1.67569   -0.649488  -0.524344\n",
       " 1.0  -0.893634   0.411983    6.62538      -0.596613  -0.649488   1.90665\n",
       " 1.0   1.11874   -0.444305   -0.150896     -0.596613  -0.649488  -0.524344\n",
       " 1.0   1.11874   -1.20545    -0.150896     -0.596613  -0.649488  -0.524344\n",
       " 1.0   1.11874   -0.349162   -0.150896     -0.596613   1.53928   -0.524344\n",
       " 1.0  -0.893634   0.935271   -0.150896  …   1.67569   -0.649488  -0.524344\n",
       " 1.0   1.11874    0.507126   -0.150896     -0.596613  -0.649488  -0.524344\n",
       " 1.0  -0.893634   0.697413   -0.150896     -0.596613   1.53928   -0.524344\n",
       " ⋮                                      ⋱                        \n",
       " 1.0   1.11874   -0.444305   -0.150896  …  -0.596613  -0.649488   1.90665\n",
       " 1.0  -0.893634   0.697413   -0.150896     -0.596613  -0.649488  -0.524344\n",
       " 1.0  -0.893634  -0.920021   -0.150896     -0.596613  -0.649488   1.90665\n",
       " 1.0   1.11874   -0.824878   -0.150896      1.67569   -0.649488  -0.524344\n",
       " 1.0  -0.893634  -0.824878   -0.150896     -0.596613   1.53928   -0.524344\n",
       " 1.0  -0.893634  -0.87245    -0.150896  …  -0.596613   1.53928   -0.524344\n",
       " 1.0  -0.893634  -0.539448   -0.150896     -0.596613  -0.649488   1.90665\n",
       " 1.0  -0.893634  -1.01516    -0.150896     -0.596613  -0.649488   1.90665\n",
       " 1.0  -0.893634  -0.444305   -0.150896     -0.596613   1.53928   -0.524344\n",
       " 1.0  -0.893634  -0.0637326  -0.150896     -0.596613   1.53928   -0.524344\n",
       " 1.0   1.11874   -1.20545    -0.150896  …  -0.596613  -0.649488  -0.524344\n",
       " 1.0   1.11874   -0.254019   -0.150896      1.67569   -0.649488  -0.524344"
      ]
     },
     "execution_count": 408,
     "metadata": {},
     "output_type": "execute_result"
    }
   ],
   "source": [
    "model_X_basic_train"
   ]
  },
  {
   "cell_type": "markdown",
   "id": "280dfd18",
   "metadata": {
    "papermill": {
     "duration": 0.009282,
     "end_time": "2021-03-28T13:27:45.835468",
     "exception": false,
     "start_time": "2021-03-28T13:27:45.826186",
     "status": "completed"
    },
    "tags": []
   },
   "source": [
    "### Neural Networks"
   ]
  },
  {
   "cell_type": "markdown",
   "id": "20aa3214",
   "metadata": {
    "papermill": {
     "duration": 0.00955,
     "end_time": "2021-03-28T13:27:45.854659",
     "exception": false,
     "start_time": "2021-03-28T13:27:45.845109",
     "status": "completed"
    },
    "tags": []
   },
   "source": [
    "First, we need to determine the structure of our network. We are using the R package *keras* to build a simple sequential neural network with three dense layers."
   ]
  },
  {
   "cell_type": "code",
   "execution_count": 13,
   "id": "ce75852f",
   "metadata": {},
   "outputs": [
    {
     "data": {
      "text/html": [
       "10"
      ],
      "text/latex": [
       "10"
      ],
      "text/markdown": [
       "10"
      ],
      "text/plain": [
       "[1] 10"
      ]
     },
     "metadata": {},
     "output_type": "display_data"
    }
   ],
   "source": [
    "dim(model_X_basic_train)[2]"
   ]
  },
  {
   "cell_type": "code",
   "execution_count": 14,
   "id": "cf5ef614",
   "metadata": {
    "execution": {
     "iopub.execute_input": "2021-03-28T13:27:45.878170Z",
     "iopub.status.busy": "2021-03-28T13:27:45.876629Z",
     "iopub.status.idle": "2021-03-28T13:27:46.824194Z",
     "shell.execute_reply": "2021-03-28T13:27:46.822854Z"
    },
    "papermill": {
     "duration": 0.960182,
     "end_time": "2021-03-28T13:27:46.824333",
     "exception": false,
     "start_time": "2021-03-28T13:27:45.864151",
     "status": "completed"
    },
    "tags": []
   },
   "outputs": [
    {
     "name": "stderr",
     "output_type": "stream",
     "text": [
      "Warning message:\n",
      "\"package 'keras' was built under R version 4.0.5\"\n"
     ]
    }
   ],
   "source": [
    "library(keras)\n",
    "\n",
    "build_model <- function() {\n",
    "  model <- keras_model_sequential() %>% \n",
    "    layer_dense(units = 20, activation = \"relu\", \n",
    "                input_shape = dim(model_X_basic_train)[2])%>% \n",
    "    layer_dense(units = 10, activation = \"relu\") %>% \n",
    "    layer_dense(units = 1) \n",
    "  \n",
    "  model %>% compile(\n",
    "    optimizer = optimizer_adam(lr = 0.005),\n",
    "    loss = \"mse\", \n",
    "    metrics = c(\"mae\")\n",
    "  )\n",
    "}"
   ]
  },
  {
   "cell_type": "markdown",
   "id": "fa50e0d2",
   "metadata": {
    "papermill": {
     "duration": 0.009512,
     "end_time": "2021-03-28T13:27:46.843449",
     "exception": false,
     "start_time": "2021-03-28T13:27:46.833937",
     "status": "completed"
    },
    "tags": []
   },
   "source": [
    "Let us have a look at the structure of our network in detail."
   ]
  },
  {
   "cell_type": "code",
   "execution_count": 15,
   "id": "e1dab240",
   "metadata": {
    "execution": {
     "iopub.execute_input": "2021-03-28T13:27:46.866740Z",
     "iopub.status.busy": "2021-03-28T13:27:46.865161Z",
     "iopub.status.idle": "2021-03-28T13:27:55.869560Z",
     "shell.execute_reply": "2021-03-28T13:27:55.867969Z"
    },
    "papermill": {
     "duration": 9.016871,
     "end_time": "2021-03-28T13:27:55.869751",
     "exception": false,
     "start_time": "2021-03-28T13:27:46.852880",
     "status": "completed"
    },
    "tags": []
   },
   "outputs": [
    {
     "name": "stderr",
     "output_type": "stream",
     "text": [
      "Loaded Tensorflow version 2.7.0\n",
      "\n"
     ]
    },
    {
     "ename": "ERROR",
     "evalue": "Error: \n",
     "output_type": "error",
     "traceback": [
      "Error: \nTraceback:\n",
      "1. build_model()",
      "2. keras_model_sequential() %>% layer_dense(units = 20, activation = \"relu\", \n .     input_shape = dim(model_X_basic_train)[2]) %>% layer_dense(units = 10, \n .     activation = \"relu\") %>% layer_dense(units = 1)   # at line 4-8 of file <text>",
      "3. layer_dense(., units = 1)",
      "4. create_layer(keras$layers$Dense, object, list(units = as.integer(units), \n .     activation = activation, use_bias = use_bias, kernel_initializer = kernel_initializer, \n .     bias_initializer = bias_initializer, kernel_regularizer = kernel_regularizer, \n .     bias_regularizer = bias_regularizer, activity_regularizer = activity_regularizer, \n .     kernel_constraint = kernel_constraint, bias_constraint = bias_constraint, \n .     input_shape = normalize_shape(input_shape), batch_input_shape = normalize_shape(batch_input_shape), \n .     batch_size = as_nullable_integer(batch_size), dtype = dtype, \n .     name = name, trainable = trainable, weights = weights))",
      "5. keras$layers",
      "6. `$.python.builtin.module`(keras, \"layers\")",
      "7. py_resolve_module_proxy(x)",
      "8. on_error(result)",
      "9. stop(tf_config()$error_message, call. = FALSE)"
     ]
    }
   ],
   "source": [
    "model <- build_model()"
   ]
  },
  {
   "cell_type": "markdown",
   "id": "46d24251",
   "metadata": {
    "papermill": {
     "duration": 0.009881,
     "end_time": "2021-03-28T13:27:55.891253",
     "exception": false,
     "start_time": "2021-03-28T13:27:55.881372",
     "status": "completed"
    },
    "tags": []
   },
   "source": [
    "It is worth to notice that we have in total $441$ trainable parameters."
   ]
  },
  {
   "cell_type": "markdown",
   "id": "56f6067a",
   "metadata": {
    "papermill": {
     "duration": 0.009739,
     "end_time": "2021-03-28T13:27:55.910957",
     "exception": false,
     "start_time": "2021-03-28T13:27:55.901218",
     "status": "completed"
    },
    "tags": []
   },
   "source": [
    "Now, let us train the network. Note that this takes some computation time. Thus, we are using gpu to speed up. The exact speed-up varies based on a number of factors including model architecture, batch-size, input pipeline complexity, etc."
   ]
  },
  {
   "cell_type": "code",
   "execution_count": null,
   "id": "9ebcaf84",
   "metadata": {
    "execution": {
     "iopub.execute_input": "2021-03-28T13:27:55.936063Z",
     "iopub.status.busy": "2021-03-28T13:27:55.933984Z",
     "iopub.status.idle": "2021-03-28T13:29:15.376683Z",
     "shell.execute_reply": "2021-03-28T13:29:15.375385Z"
    },
    "papermill": {
     "duration": 79.455983,
     "end_time": "2021-03-28T13:29:15.376885",
     "exception": false,
     "start_time": "2021-03-28T13:27:55.920902",
     "status": "completed"
    },
    "tags": []
   },
   "outputs": [],
   "source": [
    "# training the network \n",
    "num_epochs <- 1000\n",
    "model %>% fit(model_X_basic_train, Y_train,\n",
    "                    epochs = num_epochs, batch_size = 100, verbose = 0)"
   ]
  },
  {
   "cell_type": "markdown",
   "id": "da29e387",
   "metadata": {
    "papermill": {
     "duration": 0.010088,
     "end_time": "2021-03-28T13:29:15.402597",
     "exception": false,
     "start_time": "2021-03-28T13:29:15.392509",
     "status": "completed"
    },
    "tags": []
   },
   "source": [
    "After training the neural network, we can evaluate the performance of our model on the test sample."
   ]
  },
  {
   "cell_type": "code",
   "execution_count": null,
   "id": "4c010e0e",
   "metadata": {
    "execution": {
     "iopub.execute_input": "2021-03-28T13:29:15.427188Z",
     "iopub.status.busy": "2021-03-28T13:29:15.425758Z",
     "iopub.status.idle": "2021-03-28T13:29:15.613538Z",
     "shell.execute_reply": "2021-03-28T13:29:15.612330Z"
    },
    "papermill": {
     "duration": 0.201132,
     "end_time": "2021-03-28T13:29:15.613661",
     "exception": false,
     "start_time": "2021-03-28T13:29:15.412529",
     "status": "completed"
    },
    "tags": []
   },
   "outputs": [],
   "source": [
    "# evaluating the performnace\n",
    "model %>% evaluate(model_X_basic_test, Y_test, verbose = 0)"
   ]
  },
  {
   "cell_type": "code",
   "execution_count": null,
   "id": "30a414ab",
   "metadata": {
    "execution": {
     "iopub.execute_input": "2021-03-28T13:29:15.640259Z",
     "iopub.status.busy": "2021-03-28T13:29:15.638781Z",
     "iopub.status.idle": "2021-03-28T13:29:15.788149Z",
     "shell.execute_reply": "2021-03-28T13:29:15.786726Z"
    },
    "papermill": {
     "duration": 0.163629,
     "end_time": "2021-03-28T13:29:15.788272",
     "exception": false,
     "start_time": "2021-03-28T13:29:15.624643",
     "status": "completed"
    },
    "tags": []
   },
   "outputs": [],
   "source": [
    "# Calculating the performance measures\n",
    "pred.nn <- model %>% predict(model_X_basic_test)\n",
    "MSE.nn = summary(lm((Y_test-pred.nn)^2~1))$coef[1:2]\n",
    "R2.nn <- 1-MSE.nn[1]/var(Y_test)\n",
    "# printing R^2\n",
    "cat(\"R^2 of the neural network:\",R2.nn)"
   ]
  },
  {
   "cell_type": "code",
   "execution_count": null,
   "id": "d9a621c4",
   "metadata": {},
   "outputs": [],
   "source": [
    "MSE.nn = summary(lm((Y_test-pred.nn)^2~1))$coef[1:2]\n",
    "MSE.nn"
   ]
  },
  {
   "cell_type": "code",
   "execution_count": null,
   "id": "633f6ee4",
   "metadata": {},
   "outputs": [],
   "source": []
  },
  {
   "cell_type": "code",
   "execution_count": null,
   "id": "43ce3eae",
   "metadata": {},
   "outputs": [],
   "source": []
  },
  {
   "cell_type": "code",
   "execution_count": null,
   "id": "45c897ba",
   "metadata": {},
   "outputs": [],
   "source": []
  },
  {
   "cell_type": "code",
   "execution_count": null,
   "id": "7417c117",
   "metadata": {},
   "outputs": [],
   "source": []
  },
  {
   "cell_type": "code",
   "execution_count": null,
   "id": "7615a6a9",
   "metadata": {},
   "outputs": [],
   "source": []
  },
  {
   "cell_type": "code",
   "execution_count": null,
   "id": "faea493c",
   "metadata": {},
   "outputs": [],
   "source": []
  },
  {
   "cell_type": "code",
   "execution_count": null,
   "id": "4e69c25e",
   "metadata": {},
   "outputs": [],
   "source": []
  },
  {
   "cell_type": "code",
   "execution_count": null,
   "id": "1e49a085",
   "metadata": {},
   "outputs": [],
   "source": []
  },
  {
   "cell_type": "code",
   "execution_count": null,
   "id": "28012cc8",
   "metadata": {},
   "outputs": [],
   "source": []
  },
  {
   "cell_type": "code",
   "execution_count": null,
   "id": "0e4bda2e",
   "metadata": {},
   "outputs": [],
   "source": []
  },
  {
   "cell_type": "code",
   "execution_count": null,
   "id": "7e03f9e3",
   "metadata": {},
   "outputs": [],
   "source": []
  },
  {
   "cell_type": "code",
   "execution_count": null,
   "id": "dec22163",
   "metadata": {},
   "outputs": [],
   "source": []
  },
  {
   "cell_type": "code",
   "execution_count": null,
   "id": "4b4f5398",
   "metadata": {},
   "outputs": [],
   "source": []
  },
  {
   "cell_type": "code",
   "execution_count": null,
   "id": "20934870",
   "metadata": {},
   "outputs": [],
   "source": []
  },
  {
   "cell_type": "code",
   "execution_count": null,
   "id": "07a53978",
   "metadata": {},
   "outputs": [],
   "source": []
  },
  {
   "cell_type": "code",
   "execution_count": null,
   "id": "78bb9961",
   "metadata": {},
   "outputs": [],
   "source": []
  },
  {
   "cell_type": "code",
   "execution_count": null,
   "id": "e1b8645e",
   "metadata": {},
   "outputs": [],
   "source": []
  },
  {
   "cell_type": "code",
   "execution_count": null,
   "id": "a642e065",
   "metadata": {},
   "outputs": [],
   "source": []
  },
  {
   "cell_type": "code",
   "execution_count": null,
   "id": "b3c13d74",
   "metadata": {},
   "outputs": [],
   "source": []
  },
  {
   "cell_type": "code",
   "execution_count": null,
   "id": "e0c2f111",
   "metadata": {},
   "outputs": [],
   "source": []
  },
  {
   "cell_type": "code",
   "execution_count": null,
   "id": "e45ee9d9",
   "metadata": {},
   "outputs": [],
   "source": []
  },
  {
   "cell_type": "code",
   "execution_count": null,
   "id": "4b638215",
   "metadata": {},
   "outputs": [],
   "source": []
  },
  {
   "cell_type": "code",
   "execution_count": null,
   "id": "1e7ad96f",
   "metadata": {},
   "outputs": [],
   "source": []
  },
  {
   "cell_type": "code",
   "execution_count": null,
   "id": "05b916e2",
   "metadata": {},
   "outputs": [],
   "source": []
  },
  {
   "cell_type": "code",
   "execution_count": null,
   "id": "e7b0ce1d",
   "metadata": {},
   "outputs": [],
   "source": []
  },
  {
   "cell_type": "code",
   "execution_count": null,
   "id": "9d2df79e",
   "metadata": {},
   "outputs": [],
   "source": []
  },
  {
   "cell_type": "code",
   "execution_count": null,
   "id": "77d04624",
   "metadata": {},
   "outputs": [],
   "source": []
  },
  {
   "cell_type": "code",
   "execution_count": null,
   "id": "cd7869eb",
   "metadata": {},
   "outputs": [],
   "source": []
  },
  {
   "cell_type": "code",
   "execution_count": null,
   "id": "a547ce47",
   "metadata": {},
   "outputs": [],
   "source": []
  },
  {
   "cell_type": "code",
   "execution_count": null,
   "id": "4b278be0",
   "metadata": {},
   "outputs": [],
   "source": []
  },
  {
   "cell_type": "code",
   "execution_count": null,
   "id": "97f44e91",
   "metadata": {},
   "outputs": [],
   "source": []
  },
  {
   "cell_type": "code",
   "execution_count": null,
   "id": "405dc884",
   "metadata": {},
   "outputs": [],
   "source": []
  },
  {
   "cell_type": "code",
   "execution_count": null,
   "id": "60cfb027",
   "metadata": {},
   "outputs": [],
   "source": []
  },
  {
   "cell_type": "code",
   "execution_count": null,
   "id": "683f2cd1",
   "metadata": {},
   "outputs": [],
   "source": []
  },
  {
   "cell_type": "code",
   "execution_count": null,
   "id": "d700ae9e",
   "metadata": {},
   "outputs": [],
   "source": []
  },
  {
   "cell_type": "code",
   "execution_count": null,
   "id": "130f2c0a",
   "metadata": {},
   "outputs": [],
   "source": []
  },
  {
   "cell_type": "code",
   "execution_count": null,
   "id": "72417092",
   "metadata": {},
   "outputs": [],
   "source": []
  },
  {
   "cell_type": "code",
   "execution_count": null,
   "id": "9333fad6",
   "metadata": {},
   "outputs": [],
   "source": []
  },
  {
   "cell_type": "code",
   "execution_count": null,
   "id": "e2507c22",
   "metadata": {},
   "outputs": [],
   "source": []
  },
  {
   "cell_type": "code",
   "execution_count": null,
   "id": "11ed6630",
   "metadata": {},
   "outputs": [],
   "source": []
  },
  {
   "cell_type": "code",
   "execution_count": null,
   "id": "821c4f9b",
   "metadata": {},
   "outputs": [],
   "source": []
  },
  {
   "cell_type": "code",
   "execution_count": null,
   "id": "c59ff311",
   "metadata": {},
   "outputs": [],
   "source": []
  },
  {
   "cell_type": "code",
   "execution_count": null,
   "id": "09a859e9",
   "metadata": {},
   "outputs": [],
   "source": []
  },
  {
   "cell_type": "code",
   "execution_count": null,
   "id": "86293077",
   "metadata": {},
   "outputs": [],
   "source": []
  },
  {
   "cell_type": "code",
   "execution_count": null,
   "id": "220223bb",
   "metadata": {},
   "outputs": [],
   "source": []
  },
  {
   "cell_type": "code",
   "execution_count": null,
   "id": "2caf704d",
   "metadata": {},
   "outputs": [],
   "source": []
  },
  {
   "cell_type": "code",
   "execution_count": null,
   "id": "a0858942",
   "metadata": {},
   "outputs": [],
   "source": []
  },
  {
   "cell_type": "code",
   "execution_count": null,
   "id": "6753c32e",
   "metadata": {},
   "outputs": [],
   "source": []
  },
  {
   "cell_type": "code",
   "execution_count": null,
   "id": "e0de4672",
   "metadata": {},
   "outputs": [],
   "source": []
  },
  {
   "cell_type": "code",
   "execution_count": null,
   "id": "db15395d",
   "metadata": {},
   "outputs": [],
   "source": []
  },
  {
   "cell_type": "code",
   "execution_count": null,
   "id": "458a7ef9",
   "metadata": {},
   "outputs": [],
   "source": []
  },
  {
   "cell_type": "code",
   "execution_count": null,
   "id": "64bd3d74",
   "metadata": {},
   "outputs": [],
   "source": []
  },
  {
   "cell_type": "code",
   "execution_count": null,
   "id": "26a97a09",
   "metadata": {},
   "outputs": [],
   "source": []
  },
  {
   "cell_type": "code",
   "execution_count": null,
   "id": "89d04790",
   "metadata": {},
   "outputs": [],
   "source": []
  },
  {
   "cell_type": "code",
   "execution_count": null,
   "id": "41ffffd5",
   "metadata": {},
   "outputs": [],
   "source": []
  },
  {
   "cell_type": "code",
   "execution_count": null,
   "id": "56efee23",
   "metadata": {},
   "outputs": [],
   "source": []
  },
  {
   "cell_type": "code",
   "execution_count": null,
   "id": "9142302c",
   "metadata": {},
   "outputs": [],
   "source": []
  },
  {
   "cell_type": "code",
   "execution_count": null,
   "id": "5dbca7a7",
   "metadata": {},
   "outputs": [],
   "source": []
  },
  {
   "cell_type": "code",
   "execution_count": null,
   "id": "ab34b613",
   "metadata": {},
   "outputs": [],
   "source": []
  },
  {
   "cell_type": "code",
   "execution_count": null,
   "id": "e119c6b6",
   "metadata": {},
   "outputs": [],
   "source": []
  },
  {
   "cell_type": "code",
   "execution_count": null,
   "id": "148c2178",
   "metadata": {},
   "outputs": [],
   "source": []
  },
  {
   "cell_type": "code",
   "execution_count": null,
   "id": "832f4ed6",
   "metadata": {},
   "outputs": [],
   "source": []
  },
  {
   "cell_type": "code",
   "execution_count": null,
   "id": "0b269b5e",
   "metadata": {},
   "outputs": [],
   "source": []
  },
  {
   "cell_type": "code",
   "execution_count": null,
   "id": "9778e0c8",
   "metadata": {},
   "outputs": [],
   "source": []
  },
  {
   "cell_type": "code",
   "execution_count": null,
   "id": "e73137da",
   "metadata": {},
   "outputs": [],
   "source": []
  },
  {
   "cell_type": "code",
   "execution_count": null,
   "id": "680b9392",
   "metadata": {},
   "outputs": [],
   "source": []
  },
  {
   "cell_type": "code",
   "execution_count": null,
   "id": "987861d2",
   "metadata": {},
   "outputs": [],
   "source": []
  },
  {
   "cell_type": "code",
   "execution_count": null,
   "id": "7a821452",
   "metadata": {},
   "outputs": [],
   "source": []
  },
  {
   "cell_type": "code",
   "execution_count": null,
   "id": "c5787168",
   "metadata": {},
   "outputs": [],
   "source": []
  },
  {
   "cell_type": "code",
   "execution_count": null,
   "id": "5e6942ae",
   "metadata": {},
   "outputs": [],
   "source": []
  },
  {
   "cell_type": "code",
   "execution_count": null,
   "id": "783deb10",
   "metadata": {},
   "outputs": [],
   "source": []
  },
  {
   "cell_type": "code",
   "execution_count": null,
   "id": "11b742f7",
   "metadata": {},
   "outputs": [],
   "source": []
  },
  {
   "cell_type": "code",
   "execution_count": null,
   "id": "9d6df1ab",
   "metadata": {},
   "outputs": [],
   "source": []
  },
  {
   "cell_type": "code",
   "execution_count": null,
   "id": "f9baf1e1",
   "metadata": {},
   "outputs": [],
   "source": []
  },
  {
   "cell_type": "code",
   "execution_count": null,
   "id": "0d296a56",
   "metadata": {},
   "outputs": [],
   "source": []
  },
  {
   "cell_type": "code",
   "execution_count": null,
   "id": "dc7b9177",
   "metadata": {},
   "outputs": [],
   "source": []
  },
  {
   "cell_type": "code",
   "execution_count": null,
   "id": "36846cfe",
   "metadata": {},
   "outputs": [],
   "source": []
  },
  {
   "cell_type": "code",
   "execution_count": null,
   "id": "1cf6cce0",
   "metadata": {},
   "outputs": [],
   "source": []
  },
  {
   "cell_type": "code",
   "execution_count": null,
   "id": "d8150e36",
   "metadata": {},
   "outputs": [],
   "source": []
  },
  {
   "cell_type": "code",
   "execution_count": null,
   "id": "5df09e7a",
   "metadata": {},
   "outputs": [],
   "source": []
  },
  {
   "cell_type": "code",
   "execution_count": null,
   "id": "fa270c13",
   "metadata": {},
   "outputs": [],
   "source": []
  },
  {
   "cell_type": "code",
   "execution_count": null,
   "id": "ad0aa35f",
   "metadata": {},
   "outputs": [],
   "source": []
  },
  {
   "cell_type": "code",
   "execution_count": null,
   "id": "00549349",
   "metadata": {},
   "outputs": [],
   "source": []
  },
  {
   "cell_type": "code",
   "execution_count": null,
   "id": "7cf9e645",
   "metadata": {},
   "outputs": [],
   "source": []
  },
  {
   "cell_type": "code",
   "execution_count": null,
   "id": "421d1c82",
   "metadata": {},
   "outputs": [],
   "source": []
  },
  {
   "cell_type": "code",
   "execution_count": null,
   "id": "7bb39395",
   "metadata": {},
   "outputs": [],
   "source": []
  },
  {
   "cell_type": "code",
   "execution_count": null,
   "id": "52ec8390",
   "metadata": {},
   "outputs": [],
   "source": []
  },
  {
   "cell_type": "code",
   "execution_count": null,
   "id": "922a20a9",
   "metadata": {},
   "outputs": [],
   "source": []
  },
  {
   "cell_type": "code",
   "execution_count": null,
   "id": "191d92e8",
   "metadata": {},
   "outputs": [],
   "source": []
  },
  {
   "cell_type": "code",
   "execution_count": null,
   "id": "1a8eeee8",
   "metadata": {},
   "outputs": [],
   "source": []
  },
  {
   "cell_type": "code",
   "execution_count": null,
   "id": "476b2be7",
   "metadata": {},
   "outputs": [],
   "source": []
  },
  {
   "cell_type": "code",
   "execution_count": null,
   "id": "96aee862",
   "metadata": {},
   "outputs": [],
   "source": []
  },
  {
   "cell_type": "code",
   "execution_count": null,
   "id": "63c289e1",
   "metadata": {},
   "outputs": [],
   "source": []
  },
  {
   "cell_type": "code",
   "execution_count": null,
   "id": "c77158b7",
   "metadata": {},
   "outputs": [],
   "source": []
  },
  {
   "cell_type": "code",
   "execution_count": null,
   "id": "932a50a1",
   "metadata": {},
   "outputs": [],
   "source": []
  },
  {
   "cell_type": "code",
   "execution_count": null,
   "id": "aadfb5d6",
   "metadata": {},
   "outputs": [],
   "source": []
  },
  {
   "cell_type": "code",
   "execution_count": null,
   "id": "371d1811",
   "metadata": {},
   "outputs": [],
   "source": []
  },
  {
   "cell_type": "code",
   "execution_count": null,
   "id": "3c5358a5",
   "metadata": {},
   "outputs": [],
   "source": []
  },
  {
   "cell_type": "code",
   "execution_count": null,
   "id": "10330fd7",
   "metadata": {},
   "outputs": [],
   "source": []
  },
  {
   "cell_type": "code",
   "execution_count": null,
   "id": "efff8877",
   "metadata": {},
   "outputs": [],
   "source": []
  },
  {
   "cell_type": "code",
   "execution_count": null,
   "id": "27c87e64",
   "metadata": {},
   "outputs": [],
   "source": []
  },
  {
   "cell_type": "code",
   "execution_count": null,
   "id": "7d9d7e9c",
   "metadata": {},
   "outputs": [],
   "source": []
  },
  {
   "cell_type": "code",
   "execution_count": null,
   "id": "dd5d918b",
   "metadata": {},
   "outputs": [],
   "source": []
  },
  {
   "cell_type": "code",
   "execution_count": null,
   "id": "74508f31",
   "metadata": {},
   "outputs": [],
   "source": []
  },
  {
   "cell_type": "code",
   "execution_count": null,
   "id": "47c59cd7",
   "metadata": {},
   "outputs": [],
   "source": []
  },
  {
   "cell_type": "code",
   "execution_count": null,
   "id": "8771d3d4",
   "metadata": {},
   "outputs": [],
   "source": []
  },
  {
   "cell_type": "code",
   "execution_count": null,
   "id": "f98494f3",
   "metadata": {},
   "outputs": [],
   "source": []
  },
  {
   "cell_type": "code",
   "execution_count": null,
   "id": "dbf22e01",
   "metadata": {},
   "outputs": [],
   "source": []
  }
 ],
 "metadata": {
  "kernelspec": {
   "display_name": "Julia 1.6.5",
   "language": "julia",
   "name": "julia-1.6"
  },
  "language_info": {
   "file_extension": ".jl",
   "mimetype": "application/julia",
   "name": "julia",
   "version": "1.6.5"
  }
 },
 "nbformat": 4,
 "nbformat_minor": 5
}
