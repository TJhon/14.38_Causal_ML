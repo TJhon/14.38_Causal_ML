{
 "cells": [
  {
   "cell_type": "markdown",
   "metadata": {},
   "source": [
    "#### Author: Roberto Menzoa\n",
    "#### Date: 04/03/2022\n",
    "#### Topic: Analyzing RCT data with Precision Adjustment"
   ]
  },
  {
   "cell_type": "code",
   "execution_count": 203,
   "metadata": {},
   "outputs": [],
   "source": [
    "#import Pkg; Pkg.add(\"DataFrames\")\n",
    "#import Pkg; Pkg.add(\"FilePaths\")\n",
    "#import Pkg; Pkg.add(\"Queryverse\")\n",
    "#import Pkg; Pkg.add(\"GLM\")\n",
    "#import Pkg; Pkg.add(\"StatsModels\")\n",
    "#import Pkg; Pkg.add(\"Combinatorics\")\n",
    "#import Pkg; Pkg.add(\"Iterators\")\n",
    "using GLM\n",
    "using DelimitedFiles, DataFrames\n",
    "using FilePaths\n",
    "using Queryverse\n",
    "using StatsModels, Combinatorics"
   ]
  },
  {
   "cell_type": "code",
   "execution_count": 2,
   "metadata": {
    "scrolled": true
   },
   "outputs": [
    {
     "data": {
      "text/plain": [
       "\"C:\\\\Users\\\\Roberto Carlos\\\\Documents\\\\GitHub\\\\14.38_Causal_ML\\\\Julia_Notebooks\""
      ]
     },
     "execution_count": 2,
     "metadata": {},
     "output_type": "execute_result"
    }
   ],
   "source": [
    "pwd()"
   ]
  },
  {
   "cell_type": "code",
   "execution_count": 176,
   "metadata": {
    "scrolled": false
   },
   "outputs": [
    {
     "data": {
      "text/html": [
       "<div class=\"data-frame\"><p>13,913 rows × 23 columns (omitted printing of 13 columns)</p><table class=\"data-frame\"><thead><tr><th></th><th>abdt</th><th>tg</th><th>inuidur1</th><th>inuidur2</th><th>female</th><th>black</th><th>hispanic</th><th>othrace</th><th>dep</th><th>q1</th></tr><tr><th></th><th title=\"Int16\">Int16</th><th title=\"Int16\">Int16</th><th title=\"Int16\">Int16</th><th title=\"Int16\">Int16</th><th title=\"Int16\">Int16</th><th title=\"Int16\">Int16</th><th title=\"Int16\">Int16</th><th title=\"Int16\">Int16</th><th title=\"Int16\">Int16</th><th title=\"Int16\">Int16</th></tr></thead><tbody><tr><th>1</th><td>10824</td><td>0</td><td>18</td><td>18</td><td>0</td><td>0</td><td>0</td><td>0</td><td>2</td><td>0</td></tr><tr><th>2</th><td>10635</td><td>2</td><td>7</td><td>3</td><td>0</td><td>0</td><td>0</td><td>0</td><td>0</td><td>0</td></tr><tr><th>3</th><td>10551</td><td>5</td><td>18</td><td>6</td><td>1</td><td>0</td><td>0</td><td>0</td><td>0</td><td>0</td></tr><tr><th>4</th><td>10824</td><td>0</td><td>1</td><td>1</td><td>0</td><td>0</td><td>0</td><td>0</td><td>0</td><td>0</td></tr><tr><th>5</th><td>10747</td><td>0</td><td>27</td><td>27</td><td>0</td><td>0</td><td>0</td><td>0</td><td>0</td><td>0</td></tr><tr><th>6</th><td>10544</td><td>6</td><td>7</td><td>7</td><td>0</td><td>0</td><td>0</td><td>0</td><td>0</td><td>0</td></tr><tr><th>7</th><td>10845</td><td>1</td><td>1</td><td>1</td><td>0</td><td>0</td><td>0</td><td>0</td><td>0</td><td>0</td></tr><tr><th>8</th><td>10670</td><td>3</td><td>3</td><td>3</td><td>1</td><td>0</td><td>0</td><td>0</td><td>2</td><td>0</td></tr><tr><th>9</th><td>10768</td><td>3</td><td>28</td><td>11</td><td>1</td><td>0</td><td>0</td><td>0</td><td>0</td><td>0</td></tr><tr><th>10</th><td>10754</td><td>2</td><td>20</td><td>20</td><td>1</td><td>0</td><td>0</td><td>0</td><td>0</td><td>0</td></tr><tr><th>11</th><td>10712</td><td>3</td><td>6</td><td>6</td><td>0</td><td>0</td><td>0</td><td>0</td><td>2</td><td>0</td></tr><tr><th>12</th><td>10607</td><td>4</td><td>9</td><td>9</td><td>0</td><td>0</td><td>0</td><td>0</td><td>0</td><td>0</td></tr><tr><th>13</th><td>10831</td><td>0</td><td>27</td><td>27</td><td>0</td><td>0</td><td>0</td><td>0</td><td>1</td><td>0</td></tr><tr><th>14</th><td>10845</td><td>0</td><td>27</td><td>27</td><td>1</td><td>0</td><td>0</td><td>0</td><td>0</td><td>0</td></tr><tr><th>15</th><td>10831</td><td>0</td><td>9</td><td>9</td><td>1</td><td>0</td><td>0</td><td>0</td><td>1</td><td>0</td></tr><tr><th>16</th><td>10551</td><td>3</td><td>27</td><td>27</td><td>1</td><td>0</td><td>0</td><td>0</td><td>0</td><td>0</td></tr><tr><th>17</th><td>10859</td><td>0</td><td>27</td><td>27</td><td>1</td><td>0</td><td>0</td><td>0</td><td>1</td><td>0</td></tr><tr><th>18</th><td>10740</td><td>1</td><td>15</td><td>15</td><td>1</td><td>0</td><td>0</td><td>0</td><td>2</td><td>0</td></tr><tr><th>19</th><td>10537</td><td>1</td><td>1</td><td>1</td><td>0</td><td>1</td><td>0</td><td>0</td><td>0</td><td>0</td></tr><tr><th>20</th><td>10663</td><td>6</td><td>26</td><td>26</td><td>1</td><td>0</td><td>0</td><td>0</td><td>0</td><td>0</td></tr><tr><th>21</th><td>10656</td><td>5</td><td>30</td><td>9</td><td>0</td><td>0</td><td>0</td><td>0</td><td>1</td><td>0</td></tr><tr><th>22</th><td>10628</td><td>2</td><td>27</td><td>27</td><td>0</td><td>0</td><td>0</td><td>0</td><td>0</td><td>0</td></tr><tr><th>23</th><td>10516</td><td>0</td><td>15</td><td>15</td><td>1</td><td>0</td><td>0</td><td>0</td><td>0</td><td>0</td></tr><tr><th>24</th><td>10803</td><td>2</td><td>3</td><td>3</td><td>1</td><td>0</td><td>0</td><td>0</td><td>0</td><td>0</td></tr><tr><th>25</th><td>10663</td><td>0</td><td>28</td><td>11</td><td>1</td><td>0</td><td>0</td><td>0</td><td>0</td><td>0</td></tr><tr><th>26</th><td>10747</td><td>0</td><td>12</td><td>12</td><td>1</td><td>0</td><td>0</td><td>0</td><td>2</td><td>0</td></tr><tr><th>27</th><td>10551</td><td>4</td><td>22</td><td>22</td><td>1</td><td>0</td><td>1</td><td>0</td><td>2</td><td>0</td></tr><tr><th>28</th><td>10635</td><td>2</td><td>17</td><td>10</td><td>1</td><td>0</td><td>0</td><td>0</td><td>0</td><td>0</td></tr><tr><th>29</th><td>10761</td><td>2</td><td>13</td><td>13</td><td>0</td><td>0</td><td>0</td><td>0</td><td>0</td><td>0</td></tr><tr><th>30</th><td>10586</td><td>1</td><td>8</td><td>8</td><td>1</td><td>0</td><td>0</td><td>0</td><td>1</td><td>0</td></tr><tr><th>&vellip;</th><td>&vellip;</td><td>&vellip;</td><td>&vellip;</td><td>&vellip;</td><td>&vellip;</td><td>&vellip;</td><td>&vellip;</td><td>&vellip;</td><td>&vellip;</td><td>&vellip;</td></tr></tbody></table></div>"
      ],
      "text/latex": [
       "\\begin{tabular}{r|ccccccccccc}\n",
       "\t& abdt & tg & inuidur1 & inuidur2 & female & black & hispanic & othrace & dep & q1 & \\\\\n",
       "\t\\hline\n",
       "\t& Int16 & Int16 & Int16 & Int16 & Int16 & Int16 & Int16 & Int16 & Int16 & Int16 & \\\\\n",
       "\t\\hline\n",
       "\t1 & 10824 & 0 & 18 & 18 & 0 & 0 & 0 & 0 & 2 & 0 & $\\dots$ \\\\\n",
       "\t2 & 10635 & 2 & 7 & 3 & 0 & 0 & 0 & 0 & 0 & 0 & $\\dots$ \\\\\n",
       "\t3 & 10551 & 5 & 18 & 6 & 1 & 0 & 0 & 0 & 0 & 0 & $\\dots$ \\\\\n",
       "\t4 & 10824 & 0 & 1 & 1 & 0 & 0 & 0 & 0 & 0 & 0 & $\\dots$ \\\\\n",
       "\t5 & 10747 & 0 & 27 & 27 & 0 & 0 & 0 & 0 & 0 & 0 & $\\dots$ \\\\\n",
       "\t6 & 10544 & 6 & 7 & 7 & 0 & 0 & 0 & 0 & 0 & 0 & $\\dots$ \\\\\n",
       "\t7 & 10845 & 1 & 1 & 1 & 0 & 0 & 0 & 0 & 0 & 0 & $\\dots$ \\\\\n",
       "\t8 & 10670 & 3 & 3 & 3 & 1 & 0 & 0 & 0 & 2 & 0 & $\\dots$ \\\\\n",
       "\t9 & 10768 & 3 & 28 & 11 & 1 & 0 & 0 & 0 & 0 & 0 & $\\dots$ \\\\\n",
       "\t10 & 10754 & 2 & 20 & 20 & 1 & 0 & 0 & 0 & 0 & 0 & $\\dots$ \\\\\n",
       "\t11 & 10712 & 3 & 6 & 6 & 0 & 0 & 0 & 0 & 2 & 0 & $\\dots$ \\\\\n",
       "\t12 & 10607 & 4 & 9 & 9 & 0 & 0 & 0 & 0 & 0 & 0 & $\\dots$ \\\\\n",
       "\t13 & 10831 & 0 & 27 & 27 & 0 & 0 & 0 & 0 & 1 & 0 & $\\dots$ \\\\\n",
       "\t14 & 10845 & 0 & 27 & 27 & 1 & 0 & 0 & 0 & 0 & 0 & $\\dots$ \\\\\n",
       "\t15 & 10831 & 0 & 9 & 9 & 1 & 0 & 0 & 0 & 1 & 0 & $\\dots$ \\\\\n",
       "\t16 & 10551 & 3 & 27 & 27 & 1 & 0 & 0 & 0 & 0 & 0 & $\\dots$ \\\\\n",
       "\t17 & 10859 & 0 & 27 & 27 & 1 & 0 & 0 & 0 & 1 & 0 & $\\dots$ \\\\\n",
       "\t18 & 10740 & 1 & 15 & 15 & 1 & 0 & 0 & 0 & 2 & 0 & $\\dots$ \\\\\n",
       "\t19 & 10537 & 1 & 1 & 1 & 0 & 1 & 0 & 0 & 0 & 0 & $\\dots$ \\\\\n",
       "\t20 & 10663 & 6 & 26 & 26 & 1 & 0 & 0 & 0 & 0 & 0 & $\\dots$ \\\\\n",
       "\t21 & 10656 & 5 & 30 & 9 & 0 & 0 & 0 & 0 & 1 & 0 & $\\dots$ \\\\\n",
       "\t22 & 10628 & 2 & 27 & 27 & 0 & 0 & 0 & 0 & 0 & 0 & $\\dots$ \\\\\n",
       "\t23 & 10516 & 0 & 15 & 15 & 1 & 0 & 0 & 0 & 0 & 0 & $\\dots$ \\\\\n",
       "\t24 & 10803 & 2 & 3 & 3 & 1 & 0 & 0 & 0 & 0 & 0 & $\\dots$ \\\\\n",
       "\t25 & 10663 & 0 & 28 & 11 & 1 & 0 & 0 & 0 & 0 & 0 & $\\dots$ \\\\\n",
       "\t26 & 10747 & 0 & 12 & 12 & 1 & 0 & 0 & 0 & 2 & 0 & $\\dots$ \\\\\n",
       "\t27 & 10551 & 4 & 22 & 22 & 1 & 0 & 1 & 0 & 2 & 0 & $\\dots$ \\\\\n",
       "\t28 & 10635 & 2 & 17 & 10 & 1 & 0 & 0 & 0 & 0 & 0 & $\\dots$ \\\\\n",
       "\t29 & 10761 & 2 & 13 & 13 & 0 & 0 & 0 & 0 & 0 & 0 & $\\dots$ \\\\\n",
       "\t30 & 10586 & 1 & 8 & 8 & 1 & 0 & 0 & 0 & 1 & 0 & $\\dots$ \\\\\n",
       "\t$\\dots$ & $\\dots$ & $\\dots$ & $\\dots$ & $\\dots$ & $\\dots$ & $\\dots$ & $\\dots$ & $\\dots$ & $\\dots$ & $\\dots$ &  \\\\\n",
       "\\end{tabular}\n"
      ],
      "text/plain": [
       "\u001b[1m13913×23 DataFrame\u001b[0m\n",
       "\u001b[1m   Row \u001b[0m│\u001b[1m abdt  \u001b[0m\u001b[1m tg    \u001b[0m\u001b[1m inuidur1 \u001b[0m\u001b[1m inuidur2 \u001b[0m\u001b[1m female \u001b[0m\u001b[1m black \u001b[0m\u001b[1m hispanic \u001b[0m\u001b[1m othrace \u001b[0m\u001b[1m d\u001b[0m ⋯\n",
       "\u001b[1m       \u001b[0m│\u001b[90m Int16 \u001b[0m\u001b[90m Int16 \u001b[0m\u001b[90m Int16    \u001b[0m\u001b[90m Int16    \u001b[0m\u001b[90m Int16  \u001b[0m\u001b[90m Int16 \u001b[0m\u001b[90m Int16    \u001b[0m\u001b[90m Int16   \u001b[0m\u001b[90m I\u001b[0m ⋯\n",
       "───────┼────────────────────────────────────────────────────────────────────────\n",
       "     1 │ 10824      0        18        18       0      0         0        0    ⋯\n",
       "     2 │ 10635      2         7         3       0      0         0        0\n",
       "     3 │ 10551      5        18         6       1      0         0        0\n",
       "     4 │ 10824      0         1         1       0      0         0        0\n",
       "     5 │ 10747      0        27        27       0      0         0        0    ⋯\n",
       "     6 │ 10544      6         7         7       0      0         0        0\n",
       "     7 │ 10845      1         1         1       0      0         0        0\n",
       "     8 │ 10670      3         3         3       1      0         0        0\n",
       "     9 │ 10768      3        28        11       1      0         0        0    ⋯\n",
       "    10 │ 10754      2        20        20       1      0         0        0\n",
       "    11 │ 10712      3         6         6       0      0         0        0\n",
       "   ⋮   │   ⋮      ⋮       ⋮         ⋮        ⋮       ⋮       ⋮         ⋮       ⋱\n",
       " 13904 │ 10747      3        15        15       1      0         1        0\n",
       " 13905 │ 10628      4        10        10       0      0         1        0    ⋯\n",
       " 13906 │ 10523      4         4         4       0      0         1        0\n",
       " 13907 │ 10558      0         9         9       0      0         0        0\n",
       " 13908 │ 10621      1         1         1       0      0         0        0\n",
       " 13909 │ 10831      5        27        27       0      0         0        0    ⋯\n",
       " 13910 │ 10677      2         4         4       1      0         0        0\n",
       " 13911 │ 10817      4         4         4       0      0         0        0\n",
       " 13912 │ 10691      0        27        27       0      0         0        0\n",
       " 13913 │ 10677      5        25        25       0      0         0        0    ⋯\n",
       "\u001b[36m                                               15 columns and 13892 rows omitted\u001b[0m"
      ]
     },
     "execution_count": 176,
     "metadata": {},
     "output_type": "execute_result"
    }
   ],
   "source": [
    "# Loading data\n",
    "\n",
    "mat, head = readdlm(\"../data/penn_jae.dat\", header=true, Int16)\n",
    "mat\n",
    "df =DataFrame(mat, vec(head))\n",
    "\n",
    "# describe(df)"
   ]
  },
  {
   "cell_type": "code",
   "execution_count": 177,
   "metadata": {},
   "outputs": [
    {
     "data": {
      "text/plain": [
       "23"
      ]
     },
     "execution_count": 177,
     "metadata": {},
     "output_type": "execute_result"
    }
   ],
   "source": [
    "#dimenntions of dataframe \n",
    "\n",
    "a = size(df,1)\n",
    "b =  size(df,2)"
   ]
  },
  {
   "cell_type": "code",
   "execution_count": 178,
   "metadata": {
    "scrolled": false
   },
   "outputs": [
    {
     "data": {
      "text/html": [
       "<div class=\"data-frame\"><p>20 rows × 23 columns (omitted printing of 13 columns)</p><table class=\"data-frame\"><thead><tr><th></th><th>abdt</th><th>tg</th><th>inuidur1</th><th>inuidur2</th><th>female</th><th>black</th><th>hispanic</th><th>othrace</th><th>dep</th><th>q1</th></tr><tr><th></th><th title=\"Int16\">Int16</th><th title=\"Int16\">Int16</th><th title=\"Int16\">Int16</th><th title=\"Int16\">Int16</th><th title=\"Int16\">Int16</th><th title=\"Int16\">Int16</th><th title=\"Int16\">Int16</th><th title=\"Int16\">Int16</th><th title=\"Int16\">Int16</th><th title=\"Int16\">Int16</th></tr></thead><tbody><tr><th>1</th><td>10824</td><td>0</td><td>18</td><td>18</td><td>0</td><td>0</td><td>0</td><td>0</td><td>2</td><td>0</td></tr><tr><th>2</th><td>10824</td><td>0</td><td>1</td><td>1</td><td>0</td><td>0</td><td>0</td><td>0</td><td>0</td><td>0</td></tr><tr><th>3</th><td>10747</td><td>0</td><td>27</td><td>27</td><td>0</td><td>0</td><td>0</td><td>0</td><td>0</td><td>0</td></tr><tr><th>4</th><td>10607</td><td>4</td><td>9</td><td>9</td><td>0</td><td>0</td><td>0</td><td>0</td><td>0</td><td>0</td></tr><tr><th>5</th><td>10831</td><td>0</td><td>27</td><td>27</td><td>0</td><td>0</td><td>0</td><td>0</td><td>1</td><td>0</td></tr><tr><th>6</th><td>10845</td><td>0</td><td>27</td><td>27</td><td>1</td><td>0</td><td>0</td><td>0</td><td>0</td><td>0</td></tr><tr><th>7</th><td>10831</td><td>0</td><td>9</td><td>9</td><td>1</td><td>0</td><td>0</td><td>0</td><td>1</td><td>0</td></tr><tr><th>8</th><td>10859</td><td>0</td><td>27</td><td>27</td><td>1</td><td>0</td><td>0</td><td>0</td><td>1</td><td>0</td></tr><tr><th>9</th><td>10516</td><td>0</td><td>15</td><td>15</td><td>1</td><td>0</td><td>0</td><td>0</td><td>0</td><td>0</td></tr><tr><th>10</th><td>10663</td><td>0</td><td>28</td><td>11</td><td>1</td><td>0</td><td>0</td><td>0</td><td>0</td><td>0</td></tr><tr><th>11</th><td>10747</td><td>0</td><td>12</td><td>12</td><td>1</td><td>0</td><td>0</td><td>0</td><td>2</td><td>0</td></tr><tr><th>12</th><td>10551</td><td>4</td><td>22</td><td>22</td><td>1</td><td>0</td><td>1</td><td>0</td><td>2</td><td>0</td></tr><tr><th>13</th><td>10768</td><td>0</td><td>18</td><td>18</td><td>1</td><td>0</td><td>0</td><td>0</td><td>0</td><td>0</td></tr><tr><th>14</th><td>10537</td><td>0</td><td>1</td><td>1</td><td>1</td><td>0</td><td>0</td><td>0</td><td>2</td><td>0</td></tr><tr><th>15</th><td>10600</td><td>4</td><td>7</td><td>7</td><td>1</td><td>0</td><td>0</td><td>0</td><td>0</td><td>0</td></tr><tr><th>16</th><td>10866</td><td>0</td><td>18</td><td>18</td><td>0</td><td>0</td><td>0</td><td>0</td><td>0</td><td>0</td></tr><tr><th>17</th><td>10572</td><td>0</td><td>14</td><td>14</td><td>0</td><td>0</td><td>0</td><td>0</td><td>2</td><td>0</td></tr><tr><th>18</th><td>10663</td><td>0</td><td>5</td><td>5</td><td>0</td><td>0</td><td>0</td><td>0</td><td>0</td><td>0</td></tr><tr><th>19</th><td>10789</td><td>0</td><td>9</td><td>9</td><td>0</td><td>0</td><td>0</td><td>0</td><td>0</td><td>0</td></tr><tr><th>20</th><td>10768</td><td>0</td><td>3</td><td>3</td><td>0</td><td>1</td><td>0</td><td>0</td><td>0</td><td>0</td></tr></tbody></table></div>"
      ],
      "text/latex": [
       "\\begin{tabular}{r|ccccccccccc}\n",
       "\t& abdt & tg & inuidur1 & inuidur2 & female & black & hispanic & othrace & dep & q1 & \\\\\n",
       "\t\\hline\n",
       "\t& Int16 & Int16 & Int16 & Int16 & Int16 & Int16 & Int16 & Int16 & Int16 & Int16 & \\\\\n",
       "\t\\hline\n",
       "\t1 & 10824 & 0 & 18 & 18 & 0 & 0 & 0 & 0 & 2 & 0 & $\\dots$ \\\\\n",
       "\t2 & 10824 & 0 & 1 & 1 & 0 & 0 & 0 & 0 & 0 & 0 & $\\dots$ \\\\\n",
       "\t3 & 10747 & 0 & 27 & 27 & 0 & 0 & 0 & 0 & 0 & 0 & $\\dots$ \\\\\n",
       "\t4 & 10607 & 4 & 9 & 9 & 0 & 0 & 0 & 0 & 0 & 0 & $\\dots$ \\\\\n",
       "\t5 & 10831 & 0 & 27 & 27 & 0 & 0 & 0 & 0 & 1 & 0 & $\\dots$ \\\\\n",
       "\t6 & 10845 & 0 & 27 & 27 & 1 & 0 & 0 & 0 & 0 & 0 & $\\dots$ \\\\\n",
       "\t7 & 10831 & 0 & 9 & 9 & 1 & 0 & 0 & 0 & 1 & 0 & $\\dots$ \\\\\n",
       "\t8 & 10859 & 0 & 27 & 27 & 1 & 0 & 0 & 0 & 1 & 0 & $\\dots$ \\\\\n",
       "\t9 & 10516 & 0 & 15 & 15 & 1 & 0 & 0 & 0 & 0 & 0 & $\\dots$ \\\\\n",
       "\t10 & 10663 & 0 & 28 & 11 & 1 & 0 & 0 & 0 & 0 & 0 & $\\dots$ \\\\\n",
       "\t11 & 10747 & 0 & 12 & 12 & 1 & 0 & 0 & 0 & 2 & 0 & $\\dots$ \\\\\n",
       "\t12 & 10551 & 4 & 22 & 22 & 1 & 0 & 1 & 0 & 2 & 0 & $\\dots$ \\\\\n",
       "\t13 & 10768 & 0 & 18 & 18 & 1 & 0 & 0 & 0 & 0 & 0 & $\\dots$ \\\\\n",
       "\t14 & 10537 & 0 & 1 & 1 & 1 & 0 & 0 & 0 & 2 & 0 & $\\dots$ \\\\\n",
       "\t15 & 10600 & 4 & 7 & 7 & 1 & 0 & 0 & 0 & 0 & 0 & $\\dots$ \\\\\n",
       "\t16 & 10866 & 0 & 18 & 18 & 0 & 0 & 0 & 0 & 0 & 0 & $\\dots$ \\\\\n",
       "\t17 & 10572 & 0 & 14 & 14 & 0 & 0 & 0 & 0 & 2 & 0 & $\\dots$ \\\\\n",
       "\t18 & 10663 & 0 & 5 & 5 & 0 & 0 & 0 & 0 & 0 & 0 & $\\dots$ \\\\\n",
       "\t19 & 10789 & 0 & 9 & 9 & 0 & 0 & 0 & 0 & 0 & 0 & $\\dots$ \\\\\n",
       "\t20 & 10768 & 0 & 3 & 3 & 0 & 1 & 0 & 0 & 0 & 0 & $\\dots$ \\\\\n",
       "\\end{tabular}\n"
      ],
      "text/plain": [
       "\u001b[1m20×23 DataFrame\u001b[0m\n",
       "\u001b[1m Row \u001b[0m│\u001b[1m abdt  \u001b[0m\u001b[1m tg    \u001b[0m\u001b[1m inuidur1 \u001b[0m\u001b[1m inuidur2 \u001b[0m\u001b[1m female \u001b[0m\u001b[1m black \u001b[0m\u001b[1m hispanic \u001b[0m\u001b[1m othrace \u001b[0m\u001b[1m dep\u001b[0m ⋯\n",
       "\u001b[1m     \u001b[0m│\u001b[90m Int16 \u001b[0m\u001b[90m Int16 \u001b[0m\u001b[90m Int16    \u001b[0m\u001b[90m Int16    \u001b[0m\u001b[90m Int16  \u001b[0m\u001b[90m Int16 \u001b[0m\u001b[90m Int16    \u001b[0m\u001b[90m Int16   \u001b[0m\u001b[90m Int\u001b[0m ⋯\n",
       "─────┼──────────────────────────────────────────────────────────────────────────\n",
       "   1 │ 10824      0        18        18       0      0         0        0      ⋯\n",
       "   2 │ 10824      0         1         1       0      0         0        0\n",
       "   3 │ 10747      0        27        27       0      0         0        0\n",
       "   4 │ 10607      4         9         9       0      0         0        0\n",
       "   5 │ 10831      0        27        27       0      0         0        0      ⋯\n",
       "   6 │ 10845      0        27        27       1      0         0        0\n",
       "   7 │ 10831      0         9         9       1      0         0        0\n",
       "   8 │ 10859      0        27        27       1      0         0        0\n",
       "   9 │ 10516      0        15        15       1      0         0        0      ⋯\n",
       "  10 │ 10663      0        28        11       1      0         0        0\n",
       "  11 │ 10747      0        12        12       1      0         0        0\n",
       "  12 │ 10551      4        22        22       1      0         1        0\n",
       "  13 │ 10768      0        18        18       1      0         0        0      ⋯\n",
       "  14 │ 10537      0         1         1       1      0         0        0\n",
       "  15 │ 10600      4         7         7       1      0         0        0\n",
       "  16 │ 10866      0        18        18       0      0         0        0\n",
       "  17 │ 10572      0        14        14       0      0         0        0      ⋯\n",
       "  18 │ 10663      0         5         5       0      0         0        0\n",
       "  19 │ 10789      0         9         9       0      0         0        0\n",
       "  20 │ 10768      0         3         3       0      1         0        0\n",
       "\u001b[36m                                                              15 columns omitted\u001b[0m"
      ]
     },
     "execution_count": 178,
     "metadata": {},
     "output_type": "execute_result"
    }
   ],
   "source": [
    "# Filter control group and just treatment group number 4\n",
    "\n",
    "penn = filter(row -> row[:tg] in [4,0], df)\n",
    "\n",
    "first(penn,20)"
   ]
  },
  {
   "cell_type": "code",
   "execution_count": 179,
   "metadata": {
    "scrolled": false
   },
   "outputs": [
    {
     "data": {
      "text/html": [
       "<div class=\"data-frame\"><p>5,099 rows × 23 columns (omitted printing of 13 columns)</p><table class=\"data-frame\"><thead><tr><th></th><th>abdt</th><th>tg</th><th>inuidur1</th><th>inuidur2</th><th>female</th><th>black</th><th>hispanic</th><th>othrace</th><th>dep</th><th>q1</th></tr><tr><th></th><th title=\"Int16\">Int16</th><th title=\"Int16\">Int16</th><th title=\"Int16\">Int16</th><th title=\"Int16\">Int16</th><th title=\"Int16\">Int16</th><th title=\"Int16\">Int16</th><th title=\"Int16\">Int16</th><th title=\"Int16\">Int16</th><th title=\"Int16\">Int16</th><th title=\"Int16\">Int16</th></tr></thead><tbody><tr><th>1</th><td>10824</td><td>0</td><td>18</td><td>18</td><td>0</td><td>0</td><td>0</td><td>0</td><td>2</td><td>0</td></tr><tr><th>2</th><td>10824</td><td>0</td><td>1</td><td>1</td><td>0</td><td>0</td><td>0</td><td>0</td><td>0</td><td>0</td></tr><tr><th>3</th><td>10747</td><td>0</td><td>27</td><td>27</td><td>0</td><td>0</td><td>0</td><td>0</td><td>0</td><td>0</td></tr><tr><th>4</th><td>10607</td><td>1</td><td>9</td><td>9</td><td>0</td><td>0</td><td>0</td><td>0</td><td>0</td><td>0</td></tr><tr><th>5</th><td>10831</td><td>0</td><td>27</td><td>27</td><td>0</td><td>0</td><td>0</td><td>0</td><td>1</td><td>0</td></tr><tr><th>6</th><td>10845</td><td>0</td><td>27</td><td>27</td><td>1</td><td>0</td><td>0</td><td>0</td><td>0</td><td>0</td></tr><tr><th>7</th><td>10831</td><td>0</td><td>9</td><td>9</td><td>1</td><td>0</td><td>0</td><td>0</td><td>1</td><td>0</td></tr><tr><th>8</th><td>10859</td><td>0</td><td>27</td><td>27</td><td>1</td><td>0</td><td>0</td><td>0</td><td>1</td><td>0</td></tr><tr><th>9</th><td>10516</td><td>0</td><td>15</td><td>15</td><td>1</td><td>0</td><td>0</td><td>0</td><td>0</td><td>0</td></tr><tr><th>10</th><td>10663</td><td>0</td><td>28</td><td>11</td><td>1</td><td>0</td><td>0</td><td>0</td><td>0</td><td>0</td></tr><tr><th>11</th><td>10747</td><td>0</td><td>12</td><td>12</td><td>1</td><td>0</td><td>0</td><td>0</td><td>2</td><td>0</td></tr><tr><th>12</th><td>10551</td><td>1</td><td>22</td><td>22</td><td>1</td><td>0</td><td>1</td><td>0</td><td>2</td><td>0</td></tr><tr><th>13</th><td>10768</td><td>0</td><td>18</td><td>18</td><td>1</td><td>0</td><td>0</td><td>0</td><td>0</td><td>0</td></tr><tr><th>14</th><td>10537</td><td>0</td><td>1</td><td>1</td><td>1</td><td>0</td><td>0</td><td>0</td><td>2</td><td>0</td></tr><tr><th>15</th><td>10600</td><td>1</td><td>7</td><td>7</td><td>1</td><td>0</td><td>0</td><td>0</td><td>0</td><td>0</td></tr><tr><th>16</th><td>10866</td><td>0</td><td>18</td><td>18</td><td>0</td><td>0</td><td>0</td><td>0</td><td>0</td><td>0</td></tr><tr><th>17</th><td>10572</td><td>0</td><td>14</td><td>14</td><td>0</td><td>0</td><td>0</td><td>0</td><td>2</td><td>0</td></tr><tr><th>18</th><td>10663</td><td>0</td><td>5</td><td>5</td><td>0</td><td>0</td><td>0</td><td>0</td><td>0</td><td>0</td></tr><tr><th>19</th><td>10789</td><td>0</td><td>9</td><td>9</td><td>0</td><td>0</td><td>0</td><td>0</td><td>0</td><td>0</td></tr><tr><th>20</th><td>10768</td><td>0</td><td>3</td><td>3</td><td>0</td><td>1</td><td>0</td><td>0</td><td>0</td><td>0</td></tr><tr><th>21</th><td>10649</td><td>0</td><td>27</td><td>27</td><td>0</td><td>0</td><td>0</td><td>0</td><td>1</td><td>0</td></tr><tr><th>22</th><td>10670</td><td>1</td><td>27</td><td>27</td><td>1</td><td>0</td><td>0</td><td>0</td><td>2</td><td>0</td></tr><tr><th>23</th><td>10796</td><td>0</td><td>10</td><td>10</td><td>0</td><td>0</td><td>0</td><td>0</td><td>0</td><td>0</td></tr><tr><th>24</th><td>10558</td><td>0</td><td>25</td><td>25</td><td>0</td><td>0</td><td>1</td><td>0</td><td>2</td><td>0</td></tr><tr><th>25</th><td>10831</td><td>1</td><td>1</td><td>1</td><td>0</td><td>0</td><td>0</td><td>0</td><td>0</td><td>0</td></tr><tr><th>26</th><td>10810</td><td>1</td><td>3</td><td>3</td><td>0</td><td>0</td><td>0</td><td>0</td><td>0</td><td>0</td></tr><tr><th>27</th><td>10551</td><td>1</td><td>13</td><td>13</td><td>0</td><td>0</td><td>0</td><td>0</td><td>2</td><td>0</td></tr><tr><th>28</th><td>10796</td><td>0</td><td>1</td><td>1</td><td>0</td><td>0</td><td>0</td><td>0</td><td>0</td><td>0</td></tr><tr><th>29</th><td>10719</td><td>0</td><td>27</td><td>27</td><td>0</td><td>0</td><td>0</td><td>0</td><td>0</td><td>0</td></tr><tr><th>30</th><td>10726</td><td>1</td><td>14</td><td>14</td><td>0</td><td>0</td><td>0</td><td>0</td><td>2</td><td>0</td></tr><tr><th>&vellip;</th><td>&vellip;</td><td>&vellip;</td><td>&vellip;</td><td>&vellip;</td><td>&vellip;</td><td>&vellip;</td><td>&vellip;</td><td>&vellip;</td><td>&vellip;</td><td>&vellip;</td></tr></tbody></table></div>"
      ],
      "text/latex": [
       "\\begin{tabular}{r|ccccccccccc}\n",
       "\t& abdt & tg & inuidur1 & inuidur2 & female & black & hispanic & othrace & dep & q1 & \\\\\n",
       "\t\\hline\n",
       "\t& Int16 & Int16 & Int16 & Int16 & Int16 & Int16 & Int16 & Int16 & Int16 & Int16 & \\\\\n",
       "\t\\hline\n",
       "\t1 & 10824 & 0 & 18 & 18 & 0 & 0 & 0 & 0 & 2 & 0 & $\\dots$ \\\\\n",
       "\t2 & 10824 & 0 & 1 & 1 & 0 & 0 & 0 & 0 & 0 & 0 & $\\dots$ \\\\\n",
       "\t3 & 10747 & 0 & 27 & 27 & 0 & 0 & 0 & 0 & 0 & 0 & $\\dots$ \\\\\n",
       "\t4 & 10607 & 1 & 9 & 9 & 0 & 0 & 0 & 0 & 0 & 0 & $\\dots$ \\\\\n",
       "\t5 & 10831 & 0 & 27 & 27 & 0 & 0 & 0 & 0 & 1 & 0 & $\\dots$ \\\\\n",
       "\t6 & 10845 & 0 & 27 & 27 & 1 & 0 & 0 & 0 & 0 & 0 & $\\dots$ \\\\\n",
       "\t7 & 10831 & 0 & 9 & 9 & 1 & 0 & 0 & 0 & 1 & 0 & $\\dots$ \\\\\n",
       "\t8 & 10859 & 0 & 27 & 27 & 1 & 0 & 0 & 0 & 1 & 0 & $\\dots$ \\\\\n",
       "\t9 & 10516 & 0 & 15 & 15 & 1 & 0 & 0 & 0 & 0 & 0 & $\\dots$ \\\\\n",
       "\t10 & 10663 & 0 & 28 & 11 & 1 & 0 & 0 & 0 & 0 & 0 & $\\dots$ \\\\\n",
       "\t11 & 10747 & 0 & 12 & 12 & 1 & 0 & 0 & 0 & 2 & 0 & $\\dots$ \\\\\n",
       "\t12 & 10551 & 1 & 22 & 22 & 1 & 0 & 1 & 0 & 2 & 0 & $\\dots$ \\\\\n",
       "\t13 & 10768 & 0 & 18 & 18 & 1 & 0 & 0 & 0 & 0 & 0 & $\\dots$ \\\\\n",
       "\t14 & 10537 & 0 & 1 & 1 & 1 & 0 & 0 & 0 & 2 & 0 & $\\dots$ \\\\\n",
       "\t15 & 10600 & 1 & 7 & 7 & 1 & 0 & 0 & 0 & 0 & 0 & $\\dots$ \\\\\n",
       "\t16 & 10866 & 0 & 18 & 18 & 0 & 0 & 0 & 0 & 0 & 0 & $\\dots$ \\\\\n",
       "\t17 & 10572 & 0 & 14 & 14 & 0 & 0 & 0 & 0 & 2 & 0 & $\\dots$ \\\\\n",
       "\t18 & 10663 & 0 & 5 & 5 & 0 & 0 & 0 & 0 & 0 & 0 & $\\dots$ \\\\\n",
       "\t19 & 10789 & 0 & 9 & 9 & 0 & 0 & 0 & 0 & 0 & 0 & $\\dots$ \\\\\n",
       "\t20 & 10768 & 0 & 3 & 3 & 0 & 1 & 0 & 0 & 0 & 0 & $\\dots$ \\\\\n",
       "\t21 & 10649 & 0 & 27 & 27 & 0 & 0 & 0 & 0 & 1 & 0 & $\\dots$ \\\\\n",
       "\t22 & 10670 & 1 & 27 & 27 & 1 & 0 & 0 & 0 & 2 & 0 & $\\dots$ \\\\\n",
       "\t23 & 10796 & 0 & 10 & 10 & 0 & 0 & 0 & 0 & 0 & 0 & $\\dots$ \\\\\n",
       "\t24 & 10558 & 0 & 25 & 25 & 0 & 0 & 1 & 0 & 2 & 0 & $\\dots$ \\\\\n",
       "\t25 & 10831 & 1 & 1 & 1 & 0 & 0 & 0 & 0 & 0 & 0 & $\\dots$ \\\\\n",
       "\t26 & 10810 & 1 & 3 & 3 & 0 & 0 & 0 & 0 & 0 & 0 & $\\dots$ \\\\\n",
       "\t27 & 10551 & 1 & 13 & 13 & 0 & 0 & 0 & 0 & 2 & 0 & $\\dots$ \\\\\n",
       "\t28 & 10796 & 0 & 1 & 1 & 0 & 0 & 0 & 0 & 0 & 0 & $\\dots$ \\\\\n",
       "\t29 & 10719 & 0 & 27 & 27 & 0 & 0 & 0 & 0 & 0 & 0 & $\\dots$ \\\\\n",
       "\t30 & 10726 & 1 & 14 & 14 & 0 & 0 & 0 & 0 & 2 & 0 & $\\dots$ \\\\\n",
       "\t$\\dots$ & $\\dots$ & $\\dots$ & $\\dots$ & $\\dots$ & $\\dots$ & $\\dots$ & $\\dots$ & $\\dots$ & $\\dots$ & $\\dots$ &  \\\\\n",
       "\\end{tabular}\n"
      ],
      "text/plain": [
       "\u001b[1m5099×23 DataFrame\u001b[0m\n",
       "\u001b[1m  Row \u001b[0m│\u001b[1m abdt  \u001b[0m\u001b[1m tg    \u001b[0m\u001b[1m inuidur1 \u001b[0m\u001b[1m inuidur2 \u001b[0m\u001b[1m female \u001b[0m\u001b[1m black \u001b[0m\u001b[1m hispanic \u001b[0m\u001b[1m othrace \u001b[0m\u001b[1m de\u001b[0m ⋯\n",
       "\u001b[1m      \u001b[0m│\u001b[90m Int16 \u001b[0m\u001b[90m Int16 \u001b[0m\u001b[90m Int16    \u001b[0m\u001b[90m Int16    \u001b[0m\u001b[90m Int16  \u001b[0m\u001b[90m Int16 \u001b[0m\u001b[90m Int16    \u001b[0m\u001b[90m Int16   \u001b[0m\u001b[90m In\u001b[0m ⋯\n",
       "──────┼─────────────────────────────────────────────────────────────────────────\n",
       "    1 │ 10824      0        18        18       0      0         0        0     ⋯\n",
       "    2 │ 10824      0         1         1       0      0         0        0\n",
       "    3 │ 10747      0        27        27       0      0         0        0\n",
       "    4 │ 10607      1         9         9       0      0         0        0\n",
       "    5 │ 10831      0        27        27       0      0         0        0     ⋯\n",
       "    6 │ 10845      0        27        27       1      0         0        0\n",
       "    7 │ 10831      0         9         9       1      0         0        0\n",
       "    8 │ 10859      0        27        27       1      0         0        0\n",
       "    9 │ 10516      0        15        15       1      0         0        0     ⋯\n",
       "   10 │ 10663      0        28        11       1      0         0        0\n",
       "   11 │ 10747      0        12        12       1      0         0        0\n",
       "  ⋮   │   ⋮      ⋮       ⋮         ⋮        ⋮       ⋮       ⋮         ⋮        ⋱\n",
       " 5090 │ 10635      1        20        20       0      0         0        1\n",
       " 5091 │ 10859      0         1         1       1      0         0        1     ⋯\n",
       " 5092 │ 10796      0        23        23       0      1         0        0\n",
       " 5093 │ 10740      1        13        13       1      1         0        0\n",
       " 5094 │ 10845      0         6         6       1      0         0        1\n",
       " 5095 │ 10628      1        10        10       0      0         1        0     ⋯\n",
       " 5096 │ 10523      1         4         4       0      0         1        0\n",
       " 5097 │ 10558      0         9         9       0      0         0        0\n",
       " 5098 │ 10817      1         4         4       0      0         0        0\n",
       " 5099 │ 10691      0        27        27       0      0         0        0     ⋯\n",
       "\u001b[36m                                                15 columns and 5078 rows omitted\u001b[0m"
      ]
     },
     "execution_count": 179,
     "metadata": {},
     "output_type": "execute_result"
    }
   ],
   "source": [
    "# Treatment group n°4\n",
    "replace!(penn.tg, 4 => 1)\n",
    "penn"
   ]
  },
  {
   "cell_type": "code",
   "execution_count": 180,
   "metadata": {
    "scrolled": false
   },
   "outputs": [
    {
     "data": {
      "text/html": [
       "<div class=\"data-frame\"><p>23 rows × 7 columns</p><table class=\"data-frame\"><thead><tr><th></th><th>variable</th><th>mean</th><th>min</th><th>median</th><th>max</th><th>nmissing</th><th>eltype</th></tr><tr><th></th><th title=\"Symbol\">Symbol</th><th title=\"Float64\">Float64</th><th title=\"Int16\">Int16</th><th title=\"Float64\">Float64</th><th title=\"Int16\">Int16</th><th title=\"Int64\">Int64</th><th title=\"DataType\">DataType</th></tr></thead><tbody><tr><th>1</th><td>abdt</td><td>10695.4</td><td>10404</td><td>10698.0</td><td>10880</td><td>0</td><td>Int16</td></tr><tr><th>2</th><td>tg</td><td>0.342224</td><td>0</td><td>0.0</td><td>1</td><td>0</td><td>Int16</td></tr><tr><th>3</th><td>inuidur1</td><td>13.053</td><td>1</td><td>11.0</td><td>52</td><td>0</td><td>Int16</td></tr><tr><th>4</th><td>inuidur2</td><td>12.2812</td><td>0</td><td>10.0</td><td>52</td><td>0</td><td>Int16</td></tr><tr><th>5</th><td>female</td><td>0.404001</td><td>0</td><td>0.0</td><td>1</td><td>0</td><td>Int16</td></tr><tr><th>6</th><td>black</td><td>0.121985</td><td>0</td><td>0.0</td><td>1</td><td>0</td><td>Int16</td></tr><tr><th>7</th><td>hispanic</td><td>0.0325554</td><td>0</td><td>0.0</td><td>1</td><td>0</td><td>Int16</td></tr><tr><th>8</th><td>othrace</td><td>0.00725632</td><td>0</td><td>0.0</td><td>1</td><td>0</td><td>Int16</td></tr><tr><th>9</th><td>dep</td><td>0.439694</td><td>0</td><td>0.0</td><td>2</td><td>0</td><td>Int16</td></tr><tr><th>10</th><td>q1</td><td>0.0127476</td><td>0</td><td>0.0</td><td>1</td><td>0</td><td>Int16</td></tr><tr><th>11</th><td>q2</td><td>0.203765</td><td>0</td><td>0.0</td><td>1</td><td>0</td><td>Int16</td></tr><tr><th>12</th><td>q3</td><td>0.235536</td><td>0</td><td>0.0</td><td>1</td><td>0</td><td>Int16</td></tr><tr><th>13</th><td>q4</td><td>0.225927</td><td>0</td><td>0.0</td><td>1</td><td>0</td><td>Int16</td></tr><tr><th>14</th><td>q5</td><td>0.25907</td><td>0</td><td>0.0</td><td>1</td><td>0</td><td>Int16</td></tr><tr><th>15</th><td>q6</td><td>0.0629535</td><td>0</td><td>0.0</td><td>1</td><td>0</td><td>Int16</td></tr><tr><th>16</th><td>recall</td><td>0.110414</td><td>0</td><td>0.0</td><td>1</td><td>0</td><td>Int16</td></tr><tr><th>17</th><td>agelt35</td><td>0.545009</td><td>0</td><td>1.0</td><td>1</td><td>0</td><td>Int16</td></tr><tr><th>18</th><td>agegt54</td><td>0.109433</td><td>0</td><td>0.0</td><td>1</td><td>0</td><td>Int16</td></tr><tr><th>19</th><td>durable</td><td>0.148068</td><td>0</td><td>0.0</td><td>1</td><td>0</td><td>Int16</td></tr><tr><th>20</th><td>nondurable</td><td>0.109237</td><td>0</td><td>0.0</td><td>1</td><td>0</td><td>Int16</td></tr><tr><th>21</th><td>lusd</td><td>0.261032</td><td>0</td><td>0.0</td><td>1</td><td>0</td><td>Int16</td></tr><tr><th>22</th><td>husd</td><td>0.21867</td><td>0</td><td>0.0</td><td>1</td><td>0</td><td>Int16</td></tr><tr><th>23</th><td>muld</td><td>0.444205</td><td>0</td><td>0.0</td><td>1</td><td>0</td><td>Int16</td></tr></tbody></table></div>"
      ],
      "text/latex": [
       "\\begin{tabular}{r|ccccccc}\n",
       "\t& variable & mean & min & median & max & nmissing & eltype\\\\\n",
       "\t\\hline\n",
       "\t& Symbol & Float64 & Int16 & Float64 & Int16 & Int64 & DataType\\\\\n",
       "\t\\hline\n",
       "\t1 & abdt & 10695.4 & 10404 & 10698.0 & 10880 & 0 & Int16 \\\\\n",
       "\t2 & tg & 0.342224 & 0 & 0.0 & 1 & 0 & Int16 \\\\\n",
       "\t3 & inuidur1 & 13.053 & 1 & 11.0 & 52 & 0 & Int16 \\\\\n",
       "\t4 & inuidur2 & 12.2812 & 0 & 10.0 & 52 & 0 & Int16 \\\\\n",
       "\t5 & female & 0.404001 & 0 & 0.0 & 1 & 0 & Int16 \\\\\n",
       "\t6 & black & 0.121985 & 0 & 0.0 & 1 & 0 & Int16 \\\\\n",
       "\t7 & hispanic & 0.0325554 & 0 & 0.0 & 1 & 0 & Int16 \\\\\n",
       "\t8 & othrace & 0.00725632 & 0 & 0.0 & 1 & 0 & Int16 \\\\\n",
       "\t9 & dep & 0.439694 & 0 & 0.0 & 2 & 0 & Int16 \\\\\n",
       "\t10 & q1 & 0.0127476 & 0 & 0.0 & 1 & 0 & Int16 \\\\\n",
       "\t11 & q2 & 0.203765 & 0 & 0.0 & 1 & 0 & Int16 \\\\\n",
       "\t12 & q3 & 0.235536 & 0 & 0.0 & 1 & 0 & Int16 \\\\\n",
       "\t13 & q4 & 0.225927 & 0 & 0.0 & 1 & 0 & Int16 \\\\\n",
       "\t14 & q5 & 0.25907 & 0 & 0.0 & 1 & 0 & Int16 \\\\\n",
       "\t15 & q6 & 0.0629535 & 0 & 0.0 & 1 & 0 & Int16 \\\\\n",
       "\t16 & recall & 0.110414 & 0 & 0.0 & 1 & 0 & Int16 \\\\\n",
       "\t17 & agelt35 & 0.545009 & 0 & 1.0 & 1 & 0 & Int16 \\\\\n",
       "\t18 & agegt54 & 0.109433 & 0 & 0.0 & 1 & 0 & Int16 \\\\\n",
       "\t19 & durable & 0.148068 & 0 & 0.0 & 1 & 0 & Int16 \\\\\n",
       "\t20 & nondurable & 0.109237 & 0 & 0.0 & 1 & 0 & Int16 \\\\\n",
       "\t21 & lusd & 0.261032 & 0 & 0.0 & 1 & 0 & Int16 \\\\\n",
       "\t22 & husd & 0.21867 & 0 & 0.0 & 1 & 0 & Int16 \\\\\n",
       "\t23 & muld & 0.444205 & 0 & 0.0 & 1 & 0 & Int16 \\\\\n",
       "\\end{tabular}\n"
      ],
      "text/plain": [
       "\u001b[1m23×7 DataFrame\u001b[0m\n",
       "\u001b[1m Row \u001b[0m│\u001b[1m variable   \u001b[0m\u001b[1m mean           \u001b[0m\u001b[1m min   \u001b[0m\u001b[1m median  \u001b[0m\u001b[1m max   \u001b[0m\u001b[1m nmissing \u001b[0m\u001b[1m eltype   \u001b[0m\n",
       "\u001b[1m     \u001b[0m│\u001b[90m Symbol     \u001b[0m\u001b[90m Float64        \u001b[0m\u001b[90m Int16 \u001b[0m\u001b[90m Float64 \u001b[0m\u001b[90m Int16 \u001b[0m\u001b[90m Int64    \u001b[0m\u001b[90m DataType \u001b[0m\n",
       "─────┼───────────────────────────────────────────────────────────────────────\n",
       "   1 │ abdt        10695.4         10404  10698.0  10880         0  Int16\n",
       "   2 │ tg              0.342224        0      0.0      1         0  Int16\n",
       "   3 │ inuidur1       13.053           1     11.0     52         0  Int16\n",
       "   4 │ inuidur2       12.2812          0     10.0     52         0  Int16\n",
       "   5 │ female          0.404001        0      0.0      1         0  Int16\n",
       "   6 │ black           0.121985        0      0.0      1         0  Int16\n",
       "   7 │ hispanic        0.0325554       0      0.0      1         0  Int16\n",
       "   8 │ othrace         0.00725632      0      0.0      1         0  Int16\n",
       "   9 │ dep             0.439694        0      0.0      2         0  Int16\n",
       "  10 │ q1              0.0127476       0      0.0      1         0  Int16\n",
       "  11 │ q2              0.203765        0      0.0      1         0  Int16\n",
       "  12 │ q3              0.235536        0      0.0      1         0  Int16\n",
       "  13 │ q4              0.225927        0      0.0      1         0  Int16\n",
       "  14 │ q5              0.25907         0      0.0      1         0  Int16\n",
       "  15 │ q6              0.0629535       0      0.0      1         0  Int16\n",
       "  16 │ recall          0.110414        0      0.0      1         0  Int16\n",
       "  17 │ agelt35         0.545009        0      1.0      1         0  Int16\n",
       "  18 │ agegt54         0.109433        0      0.0      1         0  Int16\n",
       "  19 │ durable         0.148068        0      0.0      1         0  Int16\n",
       "  20 │ nondurable      0.109237        0      0.0      1         0  Int16\n",
       "  21 │ lusd            0.261032        0      0.0      1         0  Int16\n",
       "  22 │ husd            0.21867         0      0.0      1         0  Int16\n",
       "  23 │ muld            0.444205        0      0.0      1         0  Int16"
      ]
     },
     "execution_count": 180,
     "metadata": {},
     "output_type": "execute_result"
    }
   ],
   "source": [
    "describe(penn)"
   ]
  },
  {
   "cell_type": "code",
   "execution_count": 195,
   "metadata": {
    "scrolled": true
   },
   "outputs": [
    {
     "data": {
      "text/plain": [
       "StatsModels.TableRegressionModel{LinearModel{GLM.LmResp{Vector{Float64}}, GLM.DensePredChol{Float64, LinearAlgebra.CholeskyPivoted{Float64, Matrix{Float64}}}}, Matrix{Float64}}\n",
       "\n",
       "tg ~ 1 + :((female + black + othrace + q2 + q3 + q4 + q5 + q6 + agelt35 + agegt54 + durable + lusd + husd) ^ 2)\n",
       "\n",
       "Coefficients:\n",
       "──────────────────────────────────────────────────────────────────────────────────────────────────────────────────────────────────────────────────────────────────────\n",
       "                                                                                                          Coef.  Std. Error      t  Pr(>|t|)     Lower 95%   Upper 95%\n",
       "──────────────────────────────────────────────────────────────────────────────────────────────────────────────────────────────────────────────────────────────────────\n",
       "(Intercept)                                                                                          0.326244     0.0126419  25.81    <1e-99   0.30146      0.351027\n",
       "(female + black + othrace + q2 + q3 + q4 + q5 + q6 + agelt35 + agegt54 + durable + lusd + husd) ^ 2  0.00183573   0.0012355   1.49    0.1374  -0.000586375  0.00425784\n",
       "──────────────────────────────────────────────────────────────────────────────────────────────────────────────────────────────────────────────────────────────────────"
      ]
     },
     "execution_count": 195,
     "metadata": {},
     "output_type": "execute_result"
    }
   ],
   "source": [
    "# linear regression\n",
    "m = lm(@formula(tg ~ (female+black+othrace+q2+q3+q4+q5+q6+agelt35+agegt54+durable+lusd+husd)^2), penn)"
   ]
  },
  {
   "cell_type": "code",
   "execution_count": 204,
   "metadata": {},
   "outputs": [],
   "source": [
    "combinations_upto(x, n) = Iterators.flatten(combinations(x, i) for i in 1:n)\n",
    "expand_exp(args, deg::ConstantTerm) =\n",
    "    tuple(((&)(terms...) for terms in combinations_upto(args, deg.n))...)\n",
    "\n",
    "StatsModels.apply_schema(t::FunctionTerm{typeof(^)}, sch::StatsModels.Schema, ctx::Type) =\n",
    "    apply_schema.(expand_exp(t.args_parsed...), Ref(sch), ctx)\n",
    "\n",
    "StatsModels.apply_schema(t::FunctionTerm{typeof(^)}, sch::StatsModels.FullRank, ctx::Type) =\n",
    "    apply_schema.(expand_exp(t.args_parsed...), Ref(sch), ctx)"
   ]
  },
  {
   "cell_type": "code",
   "execution_count": 205,
   "metadata": {},
   "outputs": [
    {
     "ename": "LoadError",
     "evalue": "UndefVarError: husd not defined",
     "output_type": "error",
     "traceback": [
      "UndefVarError: husd not defined",
      "",
      "Stacktrace:",
      " [1] top-level scope",
      "   @ In[205]:3",
      " [2] eval",
      "   @ .\\boot.jl:373 [inlined]",
      " [3] include_string(mapexpr::typeof(REPL.softscope), mod::Module, code::String, filename::String)",
      "   @ Base .\\loading.jl:1196"
     ]
    }
   ],
   "source": [
    "# linear regression\n",
    "m1 = lm(@formula(tg ~ (female+black+othrace+q2+q3+q4+q5+q6+agelt35+agegt54+durable+lusd+husd)^2), penn)\n",
    "m2 = apply_schema(m1, schema(m1, husd))"
   ]
  },
  {
   "cell_type": "code",
   "execution_count": null,
   "metadata": {},
   "outputs": [],
   "source": [
    "m = apply_schema(@formula(y ~  (a+b+c+d)^2), sch, StatisticalModel)"
   ]
  }
 ],
 "metadata": {
  "kernelspec": {
   "display_name": "Julia 1.7.2",
   "language": "julia",
   "name": "julia-1.7"
  },
  "language_info": {
   "file_extension": ".jl",
   "mimetype": "application/julia",
   "name": "julia",
   "version": "1.7.2"
  }
 },
 "nbformat": 4,
 "nbformat_minor": 4
}
