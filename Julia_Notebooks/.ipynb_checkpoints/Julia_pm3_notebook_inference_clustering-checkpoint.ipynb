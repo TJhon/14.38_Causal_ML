{
 "cells": [
  {
   "cell_type": "code",
   "execution_count": 24,
   "id": "a91ee55a",
   "metadata": {},
   "outputs": [
    {
     "name": "stderr",
     "output_type": "stream",
     "text": [
      "\u001b[32m\u001b[1m   Resolving\u001b[22m\u001b[39m package versions...\n",
      "\u001b[32m\u001b[1m   Installed\u001b[22m\u001b[39m Grep ─ v0.2.0\n",
      "\u001b[32m\u001b[1m    Updating\u001b[22m\u001b[39m `C:\\Users\\sandr\\.julia\\environments\\v1.6\\Project.toml`\n",
      " \u001b[90m [775960c6] \u001b[39m\u001b[92m+ Grep v0.2.0\u001b[39m\n",
      "\u001b[32m\u001b[1m    Updating\u001b[22m\u001b[39m `C:\\Users\\sandr\\.julia\\environments\\v1.6\\Manifest.toml`\n",
      " \u001b[90m [775960c6] \u001b[39m\u001b[92m+ Grep v0.2.0\u001b[39m\n",
      "\u001b[32m\u001b[1mPrecompiling\u001b[22m\u001b[39m project...\n",
      "\u001b[32m  ✓ \u001b[39mGrep\n",
      "  1 dependency successfully precompiled in 6 seconds (202 already precompiled, 28 skipped during auto due to previous errors)\n"
     ]
    }
   ],
   "source": [
    "# import Pkg; Pkg.add(\"CSV\")\n",
    "# import Pkg; Pkg.add(\"Grep\")"
   ]
  },
  {
   "cell_type": "code",
   "execution_count": 222,
   "id": "71ba78e9",
   "metadata": {},
   "outputs": [],
   "source": [
    "using CSV, DataFrames, Grep\n",
    "using RData, LinearAlgebra, GLM, DataFrames, Statistics, Random, Distributions, DataStructures, NamedArrays, PrettyTables\n",
    "import CodecBzip2\n"
   ]
  },
  {
   "cell_type": "markdown",
   "id": "d5a9019a",
   "metadata": {
    "papermill": {
     "duration": 0.018414,
     "end_time": "2021-02-13T17:30:13.212232",
     "exception": false,
     "start_time": "2021-02-13T17:30:13.193818",
     "status": "completed"
    },
    "tags": []
   },
   "source": [
    "This notebook contains an example for teaching."
   ]
  },
  {
   "cell_type": "markdown",
   "id": "014f8774",
   "metadata": {
    "papermill": {
     "duration": 0.016442,
     "end_time": "2021-02-13T17:30:13.246048",
     "exception": false,
     "start_time": "2021-02-13T17:30:13.229606",
     "status": "completed"
    },
    "tags": []
   },
   "source": [
    "# A Case Study: The Effect of Gun Ownership on Gun-Homicide Rates"
   ]
  },
  {
   "cell_type": "markdown",
   "id": "93683e92",
   "metadata": {
    "papermill": {
     "duration": 0.017996,
     "end_time": "2021-02-13T17:30:13.281738",
     "exception": false,
     "start_time": "2021-02-13T17:30:13.263742",
     "status": "completed"
    },
    "tags": []
   },
   "source": [
    "We consider the problem of estimating the effect of gun\n",
    "ownership on the homicide rate. For this purpose, we estimate the following partially\n",
    "linear model\n",
    "\n",
    "$$\n",
    " Y_{j,t} = \\beta D_{j,(t-1)} + g(Z_{j,t}) + \\epsilon_{j,t}.\n",
    "$$"
   ]
  },
  {
   "cell_type": "markdown",
   "id": "74c82719",
   "metadata": {
    "papermill": {
     "duration": 0.016649,
     "end_time": "2021-02-13T17:30:13.315270",
     "exception": false,
     "start_time": "2021-02-13T17:30:13.298621",
     "status": "completed"
    },
    "tags": []
   },
   "source": [
    "## Data"
   ]
  },
  {
   "cell_type": "markdown",
   "id": "d508d891",
   "metadata": {
    "papermill": {
     "duration": 0.018756,
     "end_time": "2021-02-13T17:30:13.351290",
     "exception": false,
     "start_time": "2021-02-13T17:30:13.332534",
     "status": "completed"
    },
    "tags": []
   },
   "source": [
    "$Y_{j,t}$ is log homicide rate in county $j$ at time $t$, $D_{j, t-1}$ is log  fraction of suicides committed with a firearm in county $j$ at time $t-1$, which we use as a proxy for gun ownership,  and  $Z_{j,t}$ is a set of demographic and economic characteristics of county $j$ at time $t$. The parameter $\\beta$ is the effect of gun ownership on the\n",
    "homicide rates, controlling for county-level demographic and economic characteristics. \n",
    "\n",
    "The sample covers 195 large United States counties between the years 1980 through 1999, giving us 3900 observations."
   ]
  },
  {
   "cell_type": "code",
   "execution_count": 10,
   "id": "9f67a6d2",
   "metadata": {
    "execution": {
     "iopub.execute_input": "2021-02-13T17:30:13.420018Z",
     "iopub.status.busy": "2021-02-13T17:30:13.417784Z",
     "iopub.status.idle": "2021-02-13T17:30:14.397557Z",
     "shell.execute_reply": "2021-02-13T17:30:14.396020Z"
    },
    "papermill": {
     "duration": 1.027605,
     "end_time": "2021-02-13T17:30:14.397806",
     "exception": false,
     "start_time": "2021-02-13T17:30:13.370201",
     "status": "completed"
    },
    "tags": []
   },
   "outputs": [
    {
     "data": {
      "text/plain": [
       "(3900, 415)"
      ]
     },
     "execution_count": 10,
     "metadata": {},
     "output_type": "execute_result"
    }
   ],
   "source": [
    "data = CSV.File(\"../data/gun_clean.csv\") |> DataFrame\n",
    "size(data)"
   ]
  },
  {
   "cell_type": "markdown",
   "id": "8d60316c",
   "metadata": {
    "papermill": {
     "duration": 0.017216,
     "end_time": "2021-02-13T17:30:14.432656",
     "exception": false,
     "start_time": "2021-02-13T17:30:14.415440",
     "status": "completed"
    },
    "tags": []
   },
   "source": [
    "### Preprocessing"
   ]
  },
  {
   "cell_type": "markdown",
   "id": "7168761a",
   "metadata": {
    "papermill": {
     "duration": 0.017212,
     "end_time": "2021-02-13T17:30:14.467075",
     "exception": false,
     "start_time": "2021-02-13T17:30:14.449863",
     "status": "completed"
    },
    "tags": []
   },
   "source": [
    "To account for heterogeneity across counties and time trends in  all variables, we remove from them county-specific and time-specific effects in the following preprocessing."
   ]
  },
  {
   "cell_type": "code",
   "execution_count": null,
   "id": "906e37eb",
   "metadata": {
    "execution": {
     "iopub.execute_input": "2021-02-13T17:30:14.549368Z",
     "iopub.status.busy": "2021-02-13T17:30:14.504714Z",
     "iopub.status.idle": "2021-02-13T17:30:38.894116Z",
     "shell.execute_reply": "2021-02-13T17:30:38.893545Z"
    },
    "papermill": {
     "duration": 24.410531,
     "end_time": "2021-02-13T17:30:38.894264",
     "exception": false,
     "start_time": "2021-02-13T17:30:14.483733",
     "status": "completed"
    },
    "tags": []
   },
   "outputs": [],
   "source": [
    "#################################  Find Variable Names from Dataset ########################\n",
    "\n",
    "varlist <- function (df=NULL,type=c(\"numeric\",\"factor\",\"character\"), pattern=\"\", exclude=NULL) {\n",
    "  vars <- character(0)\n",
    "  if (any(type %in% \"numeric\")) {\n",
    "    vars <- c(vars,names(df)[sapply(df,is.numeric)])\n",
    "  }\n",
    "  if (any(type %in% \"factor\")) {\n",
    "    vars <- c(vars,names(df)[sapply(df,is.factor)])\n",
    "  }  \n",
    "  if (any(type %in% \"character\")) {\n",
    "    vars <- c(vars,names(df)[sapply(df,is.character)])\n",
    "  }  \n",
    "  vars[(!vars %in% exclude) & grepl(vars,pattern=pattern)]\n",
    "}"
   ]
  },
  {
   "cell_type": "code",
   "execution_count": 61,
   "id": "eb776019",
   "metadata": {},
   "outputs": [
    {
     "name": "stdout",
     "output_type": "stream",
     "text": [
      "Variable: <<Fixed>> has 195 features\n",
      "Variable: <<Year>> has 21 outcomes\n",
      "Variable: <<Census>> has 186 features\n"
     ]
    }
   ],
   "source": [
    "################################# Create Variables ###############################\n",
    "\n",
    "\n",
    "# Dummy Variables for Year and County Fixed Effects\n",
    "R = r\"X_Jfips\"\n",
    "fixed = grep(R, names(data))\n",
    "year = grep(\"X_Tyear\", names(data))\n",
    "println(\"Variable: <<Fixed>> has \", length(fixed), \" features\")\n",
    "println(\"Variable: <<Year>> has \", length(year), \" outcomes\")\n",
    "\n",
    "# Census Control Variables\n",
    "\n",
    "census = []\n",
    "census_var = [\"AGE\", \"BN\", \"BP\", \"BZ\", \"ED\", \"EL\", \"HI\", \"HS\", \"INC\", \"LF\", \"LN\", \"PI\", \"PO\", \"PP\", \"PV\", \"SPR\", \"VS\"]\n",
    "\n",
    "for i in 1:size(census_var, 1) \n",
    "    append!(census, grep(census_var[i], names(data)))\n",
    "end\n",
    "\n",
    "println(\"Variable: <<Census>> has \", length(census), \" features\")\n"
   ]
  },
  {
   "cell_type": "code",
   "execution_count": 220,
   "id": "f3405966",
   "metadata": {
    "execution": {
     "iopub.execute_input": "2021-02-13T17:30:14.549368Z",
     "iopub.status.busy": "2021-02-13T17:30:14.504714Z",
     "iopub.status.idle": "2021-02-13T17:30:38.894116Z",
     "shell.execute_reply": "2021-02-13T17:30:38.893545Z"
    },
    "papermill": {
     "duration": 24.410531,
     "end_time": "2021-02-13T17:30:38.894264",
     "exception": false,
     "start_time": "2021-02-13T17:30:14.483733",
     "status": "completed"
    },
    "scrolled": true,
    "tags": []
   },
   "outputs": [
    {
     "name": "stdout",
     "output_type": "stream",
     "text": [
      "Variable: <<varlist>> has 197 features\n"
     ]
    },
    {
     "data": {
      "text/html": [
       "<div class=\"data-frame\"><p>3,900 rows × 198 columns (omitted printing of 191 columns)</p><table class=\"data-frame\"><thead><tr><th></th><th>CountyCode</th><th>logghomr</th><th>logfssl</th><th>logrobr</th><th>logburg</th><th>burg_missing</th><th>robrate_missing</th></tr><tr><th></th><th title=\"Int64\">Int64</th><th title=\"Float64\">Float64</th><th title=\"Float64\">Float64</th><th title=\"Float64\">Float64</th><th title=\"Float64\">Float64</th><th title=\"Float64\">Float64</th><th title=\"Float64\">Float64</th></tr></thead><tbody><tr><th>1</th><td>1073</td><td>-0.134778</td><td>0.0961271</td><td>0.150893</td><td>-0.124395</td><td>0.0104613</td><td>-0.021229</td></tr><tr><th>2</th><td>1073</td><td>-0.239622</td><td>0.0808094</td><td>0.0401683</td><td>-0.134781</td><td>0.0104613</td><td>-0.0194181</td></tr><tr><th>3</th><td>1073</td><td>-0.0786772</td><td>0.0573399</td><td>-0.017679</td><td>-0.167909</td><td>0.0104613</td><td>-0.0220374</td></tr><tr><th>4</th><td>1073</td><td>-0.331465</td><td>0.0816945</td><td>-0.00963344</td><td>-0.22925</td><td>0.0104613</td><td>-0.0194181</td></tr><tr><th>5</th><td>1073</td><td>-0.31664</td><td>0.0253655</td><td>-0.0267151</td><td>-0.176635</td><td>0.00324793</td><td>-0.0208037</td></tr><tr><th>6</th><td>1073</td><td>0.105132</td><td>-0.00677726</td><td>-0.151487</td><td>-0.189069</td><td>0.0104613</td><td>0.016953</td></tr><tr><th>7</th><td>1073</td><td>-0.0373401</td><td>0.0773061</td><td>-0.166729</td><td>-0.117739</td><td>0.0104613</td><td>0.0245505</td></tr><tr><th>8</th><td>1073</td><td>-0.0520609</td><td>-0.108433</td><td>-0.0996453</td><td>-0.0833094</td><td>0.00448964</td><td>0.021457</td></tr><tr><th>9</th><td>1073</td><td>0.0547007</td><td>-0.0340988</td><td>0.151557</td><td>0.319282</td><td>-0.0448348</td><td>-0.0366629</td></tr><tr><th>10</th><td>1073</td><td>0.122094</td><td>-0.0824292</td><td>0.0476034</td><td>-0.0144728</td><td>-0.00233214</td><td>0.00765442</td></tr><tr><th>11</th><td>1073</td><td>0.110314</td><td>-0.0243444</td><td>0.00814297</td><td>-0.0349694</td><td>0.0104613</td><td>0.0101673</td></tr><tr><th>12</th><td>1073</td><td>0.256268</td><td>0.0634195</td><td>-0.0811847</td><td>0.0441466</td><td>0.00848568</td><td>0.0169169</td></tr><tr><th>13</th><td>1073</td><td>0.079057</td><td>0.00661864</td><td>-0.153504</td><td>0.393015</td><td>-0.0484441</td><td>0.0230577</td></tr><tr><th>14</th><td>1073</td><td>-0.0133902</td><td>-0.0132008</td><td>-0.148069</td><td>-0.0146316</td><td>0.00886135</td><td>0.0161103</td></tr><tr><th>15</th><td>1073</td><td>0.0277005</td><td>-0.0806736</td><td>0.0247091</td><td>0.0531618</td><td>0.00677168</td><td>0.0155368</td></tr><tr><th>16</th><td>1073</td><td>0.0707179</td><td>-0.104579</td><td>0.235093</td><td>0.178299</td><td>-0.00374318</td><td>0.000594213</td></tr><tr><th>17</th><td>1073</td><td>0.22407</td><td>0.0292543</td><td>0.294984</td><td>0.146047</td><td>-0.00460173</td><td>-0.0205562</td></tr><tr><th>18</th><td>1073</td><td>0.154477</td><td>-0.0506763</td><td>0.0237644</td><td>0.0162414</td><td>0.00588019</td><td>0.00584345</td></tr><tr><th>19</th><td>1073</td><td>0.0420251</td><td>-0.00620195</td><td>-0.116843</td><td>-0.0173146</td><td>0.00543154</td><td>0.0053948</td></tr><tr><th>20</th><td>1073</td><td>-0.0425827</td><td>-0.00652045</td><td>-0.00542654</td><td>0.154285</td><td>-0.0124411</td><td>-0.00411101</td></tr><tr><th>21</th><td>1097</td><td>0.267062</td><td>0.0433706</td><td>0.106903</td><td>-0.117615</td><td>0.00797198</td><td>-0.0161775</td></tr><tr><th>22</th><td>1097</td><td>0.286461</td><td>0.115747</td><td>0.0906478</td><td>-0.0953381</td><td>0.00797198</td><td>-0.0147974</td></tr><tr><th>23</th><td>1097</td><td>0.0824029</td><td>-0.0144649</td><td>0.0844482</td><td>-0.115481</td><td>0.00797198</td><td>-0.0167935</td></tr><tr><th>24</th><td>1097</td><td>-0.248465</td><td>0.0497808</td><td>0.0297359</td><td>-0.187202</td><td>0.00797198</td><td>-0.0147974</td></tr><tr><th>25</th><td>1097</td><td>-0.0636725</td><td>0.0128667</td><td>-0.0270093</td><td>-0.187794</td><td>0.00247507</td><td>-0.0158534</td></tr><tr><th>26</th><td>1097</td><td>-0.284223</td><td>0.0837605</td><td>-0.220044</td><td>-0.148477</td><td>0.00797198</td><td>0.0129189</td></tr><tr><th>27</th><td>1097</td><td>-0.143405</td><td>-0.0139795</td><td>-0.2442</td><td>-0.0289042</td><td>0.00797198</td><td>0.0187086</td></tr><tr><th>28</th><td>1097</td><td>-0.217032</td><td>0.02018</td><td>-0.217045</td><td>0.127496</td><td>0.00342131</td><td>0.0163512</td></tr><tr><th>29</th><td>1097</td><td>0.139978</td><td>0.0450422</td><td>0.10424</td><td>0.393619</td><td>-0.0341662</td><td>-0.0279388</td></tr><tr><th>30</th><td>1097</td><td>-0.0775231</td><td>-0.077206</td><td>-0.172381</td><td>-0.00919521</td><td>-0.0017772</td><td>0.00583301</td></tr><tr><th>&vellip;</th><td>&vellip;</td><td>&vellip;</td><td>&vellip;</td><td>&vellip;</td><td>&vellip;</td><td>&vellip;</td><td>&vellip;</td></tr></tbody></table></div>"
      ],
      "text/latex": [
       "\\begin{tabular}{r|cccccccc}\n",
       "\t& CountyCode & logghomr & logfssl & logrobr & logburg & burg\\_missing & robrate\\_missing & \\\\\n",
       "\t\\hline\n",
       "\t& Int64 & Float64 & Float64 & Float64 & Float64 & Float64 & Float64 & \\\\\n",
       "\t\\hline\n",
       "\t1 & 1073 & -0.134778 & 0.0961271 & 0.150893 & -0.124395 & 0.0104613 & -0.021229 & $\\dots$ \\\\\n",
       "\t2 & 1073 & -0.239622 & 0.0808094 & 0.0401683 & -0.134781 & 0.0104613 & -0.0194181 & $\\dots$ \\\\\n",
       "\t3 & 1073 & -0.0786772 & 0.0573399 & -0.017679 & -0.167909 & 0.0104613 & -0.0220374 & $\\dots$ \\\\\n",
       "\t4 & 1073 & -0.331465 & 0.0816945 & -0.00963344 & -0.22925 & 0.0104613 & -0.0194181 & $\\dots$ \\\\\n",
       "\t5 & 1073 & -0.31664 & 0.0253655 & -0.0267151 & -0.176635 & 0.00324793 & -0.0208037 & $\\dots$ \\\\\n",
       "\t6 & 1073 & 0.105132 & -0.00677726 & -0.151487 & -0.189069 & 0.0104613 & 0.016953 & $\\dots$ \\\\\n",
       "\t7 & 1073 & -0.0373401 & 0.0773061 & -0.166729 & -0.117739 & 0.0104613 & 0.0245505 & $\\dots$ \\\\\n",
       "\t8 & 1073 & -0.0520609 & -0.108433 & -0.0996453 & -0.0833094 & 0.00448964 & 0.021457 & $\\dots$ \\\\\n",
       "\t9 & 1073 & 0.0547007 & -0.0340988 & 0.151557 & 0.319282 & -0.0448348 & -0.0366629 & $\\dots$ \\\\\n",
       "\t10 & 1073 & 0.122094 & -0.0824292 & 0.0476034 & -0.0144728 & -0.00233214 & 0.00765442 & $\\dots$ \\\\\n",
       "\t11 & 1073 & 0.110314 & -0.0243444 & 0.00814297 & -0.0349694 & 0.0104613 & 0.0101673 & $\\dots$ \\\\\n",
       "\t12 & 1073 & 0.256268 & 0.0634195 & -0.0811847 & 0.0441466 & 0.00848568 & 0.0169169 & $\\dots$ \\\\\n",
       "\t13 & 1073 & 0.079057 & 0.00661864 & -0.153504 & 0.393015 & -0.0484441 & 0.0230577 & $\\dots$ \\\\\n",
       "\t14 & 1073 & -0.0133902 & -0.0132008 & -0.148069 & -0.0146316 & 0.00886135 & 0.0161103 & $\\dots$ \\\\\n",
       "\t15 & 1073 & 0.0277005 & -0.0806736 & 0.0247091 & 0.0531618 & 0.00677168 & 0.0155368 & $\\dots$ \\\\\n",
       "\t16 & 1073 & 0.0707179 & -0.104579 & 0.235093 & 0.178299 & -0.00374318 & 0.000594213 & $\\dots$ \\\\\n",
       "\t17 & 1073 & 0.22407 & 0.0292543 & 0.294984 & 0.146047 & -0.00460173 & -0.0205562 & $\\dots$ \\\\\n",
       "\t18 & 1073 & 0.154477 & -0.0506763 & 0.0237644 & 0.0162414 & 0.00588019 & 0.00584345 & $\\dots$ \\\\\n",
       "\t19 & 1073 & 0.0420251 & -0.00620195 & -0.116843 & -0.0173146 & 0.00543154 & 0.0053948 & $\\dots$ \\\\\n",
       "\t20 & 1073 & -0.0425827 & -0.00652045 & -0.00542654 & 0.154285 & -0.0124411 & -0.00411101 & $\\dots$ \\\\\n",
       "\t21 & 1097 & 0.267062 & 0.0433706 & 0.106903 & -0.117615 & 0.00797198 & -0.0161775 & $\\dots$ \\\\\n",
       "\t22 & 1097 & 0.286461 & 0.115747 & 0.0906478 & -0.0953381 & 0.00797198 & -0.0147974 & $\\dots$ \\\\\n",
       "\t23 & 1097 & 0.0824029 & -0.0144649 & 0.0844482 & -0.115481 & 0.00797198 & -0.0167935 & $\\dots$ \\\\\n",
       "\t24 & 1097 & -0.248465 & 0.0497808 & 0.0297359 & -0.187202 & 0.00797198 & -0.0147974 & $\\dots$ \\\\\n",
       "\t25 & 1097 & -0.0636725 & 0.0128667 & -0.0270093 & -0.187794 & 0.00247507 & -0.0158534 & $\\dots$ \\\\\n",
       "\t26 & 1097 & -0.284223 & 0.0837605 & -0.220044 & -0.148477 & 0.00797198 & 0.0129189 & $\\dots$ \\\\\n",
       "\t27 & 1097 & -0.143405 & -0.0139795 & -0.2442 & -0.0289042 & 0.00797198 & 0.0187086 & $\\dots$ \\\\\n",
       "\t28 & 1097 & -0.217032 & 0.02018 & -0.217045 & 0.127496 & 0.00342131 & 0.0163512 & $\\dots$ \\\\\n",
       "\t29 & 1097 & 0.139978 & 0.0450422 & 0.10424 & 0.393619 & -0.0341662 & -0.0279388 & $\\dots$ \\\\\n",
       "\t30 & 1097 & -0.0775231 & -0.077206 & -0.172381 & -0.00919521 & -0.0017772 & 0.00583301 & $\\dots$ \\\\\n",
       "\t$\\dots$ & $\\dots$ & $\\dots$ & $\\dots$ & $\\dots$ & $\\dots$ & $\\dots$ & $\\dots$ &  \\\\\n",
       "\\end{tabular}\n"
      ],
      "text/plain": [
       "\u001b[1m3900×198 DataFrame\u001b[0m\n",
       "\u001b[1m  Row \u001b[0m│\u001b[1m CountyCode \u001b[0m\u001b[1m logghomr   \u001b[0m\u001b[1m logfssl     \u001b[0m\u001b[1m logrobr     \u001b[0m\u001b[1m logburg     \u001b[0m\u001b[1m burg_mi\u001b[0m ⋯\n",
       "\u001b[1m      \u001b[0m│\u001b[90m Int64      \u001b[0m\u001b[90m Float64    \u001b[0m\u001b[90m Float64     \u001b[0m\u001b[90m Float64     \u001b[0m\u001b[90m Float64     \u001b[0m\u001b[90m Float64\u001b[0m ⋯\n",
       "──────┼─────────────────────────────────────────────────────────────────────────\n",
       "    1 │       1073  -0.134778    0.0961271    0.150893    -0.124395      0.010 ⋯\n",
       "    2 │       1073  -0.239622    0.0808094    0.0401683   -0.134781      0.010\n",
       "    3 │       1073  -0.0786772   0.0573399   -0.017679    -0.167909      0.010\n",
       "    4 │       1073  -0.331465    0.0816945   -0.00963344  -0.22925       0.010\n",
       "    5 │       1073  -0.31664     0.0253655   -0.0267151   -0.176635      0.003 ⋯\n",
       "    6 │       1073   0.105132   -0.00677726  -0.151487    -0.189069      0.010\n",
       "    7 │       1073  -0.0373401   0.0773061   -0.166729    -0.117739      0.010\n",
       "    8 │       1073  -0.0520609  -0.108433    -0.0996453   -0.0833094     0.004\n",
       "    9 │       1073   0.0547007  -0.0340988    0.151557     0.319282     -0.044 ⋯\n",
       "   10 │       1073   0.122094   -0.0824292    0.0476034   -0.0144728    -0.002\n",
       "   11 │       1073   0.110314   -0.0243444    0.00814297  -0.0349694     0.010\n",
       "  ⋮   │     ⋮           ⋮            ⋮            ⋮            ⋮            ⋮  ⋱\n",
       " 3891 │      55133  -0.54942    -0.00681523   0.0786474    0.13458      -0.020\n",
       " 3892 │      55133  -0.660408    0.135748     0.0561803    0.134567     -0.021 ⋯\n",
       " 3893 │      55133  -0.676525   -0.0223923    0.209323     0.390146     -0.060\n",
       " 3894 │      55133  -0.697525    0.0405164   -0.0858534    0.15756      -0.021\n",
       " 3895 │      55133  -0.0384095  -0.058838    -0.0983204    0.126737     -0.023\n",
       " 3896 │      55133   0.0280962   0.0407888    0.0182247    0.107714     -0.030 ⋯\n",
       " 3897 │      55133   0.0801447   0.208251     0.251402     0.151313     -0.030\n",
       " 3898 │      55133   0.497987    0.177444     0.179985     0.116497     -0.023\n",
       " 3899 │      55133   0.568542   -0.0971269   -1.3754      -3.02227       0.530\n",
       " 3900 │      55133   0.609022    0.274062     0.336788     0.171876     -0.036 ⋯\n",
       "\u001b[36m                                               193 columns and 3879 rows omitted\u001b[0m"
      ]
     },
     "execution_count": 220,
     "metadata": {},
     "output_type": "execute_result"
    }
   ],
   "source": [
    "################################ Variables ##################################\n",
    "# Treatment Variable\n",
    "d = \"logfssl\"\n",
    "\n",
    "# Outcome Variable\n",
    "y = \"logghomr\"\n",
    "\n",
    "# Other Control Variables\n",
    "X1 = [\"logrobr\", \"logburg\", \"burg_missing\", \"robrate_missing\"]\n",
    "X2 = [\"newblack\", \"newfhh\", \"newmove\", \"newdens\", \"newmal\"]\n",
    "\n",
    "\n",
    "\n",
    "#################################  Partial out Fixed Effects ########################\n",
    "\n",
    "# New Dataset for Partiled-out Variables\n",
    "rdata = DataFrame(CountyCode = data[:,\"CountyCode\"])\n",
    "\n",
    "# Variables to be Partialled-out\n",
    "varlist = vcat(y, d, X1, X2, census)\n",
    "println(\"Variable: <<varlist>> has \", length(varlist), \" features\")\n",
    "\n",
    "form = []\n",
    "\n",
    "# Partial out Variables in varlist from year and county fixed effect\n",
    "for i in 1:size(varlist, 1)\n",
    "    append!(form, [term.(varlist[i]) ~ sum(term.(vcat(year, fixed)))])\n",
    "    rdata[!, varlist[i]] = residuals(lm(form[i], data))\n",
    "end\n",
    "\n",
    "rdata"
   ]
  },
  {
   "cell_type": "code",
   "execution_count": 223,
   "id": "93ed7cfb",
   "metadata": {},
   "outputs": [
    {
     "name": "stderr",
     "output_type": "stream",
     "text": [
      "┌ Warning: 0xd element in a 0x2 list, assuming it's the last element\n",
      "└ @ RData C:\\Users\\sandr\\.julia\\packages\\RData\\OT7M6\\src\\readers.jl:138\n",
      "┌ Warning: 0xd element in a 0x2 list, assuming it's the last element\n",
      "└ @ RData C:\\Users\\sandr\\.julia\\packages\\RData\\OT7M6\\src\\readers.jl:138\n",
      "┌ Warning: 0xd element in a 0x2 list, assuming it's the last element\n",
      "└ @ RData C:\\Users\\sandr\\.julia\\packages\\RData\\OT7M6\\src\\readers.jl:138\n",
      "┌ Warning: 0xd element in a 0x2 list, assuming it's the last element\n",
      "└ @ RData C:\\Users\\sandr\\.julia\\packages\\RData\\OT7M6\\src\\readers.jl:138\n",
      "┌ Warning: 0xd element in a 0x2 list, assuming it's the last element\n",
      "└ @ RData C:\\Users\\sandr\\.julia\\packages\\RData\\OT7M6\\src\\readers.jl:138\n",
      "┌ Warning: 0xd element in a 0x2 list, assuming it's the last element\n",
      "└ @ RData C:\\Users\\sandr\\.julia\\packages\\RData\\OT7M6\\src\\readers.jl:138\n",
      "┌ Warning: 0xd element in a 0x2 list, assuming it's the last element\n",
      "└ @ RData C:\\Users\\sandr\\.julia\\packages\\RData\\OT7M6\\src\\readers.jl:138\n",
      "┌ Warning: 0xd element in a 0x2 list, assuming it's the last element\n",
      "└ @ RData C:\\Users\\sandr\\.julia\\packages\\RData\\OT7M6\\src\\readers.jl:138\n",
      "┌ Warning: 0xd element in a 0x2 list, assuming it's the last element\n",
      "└ @ RData C:\\Users\\sandr\\.julia\\packages\\RData\\OT7M6\\src\\readers.jl:138\n",
      "┌ Warning: 0xd element in a 0x2 list, assuming it's the last element\n",
      "└ @ RData C:\\Users\\sandr\\.julia\\packages\\RData\\OT7M6\\src\\readers.jl:138\n",
      "┌ Warning: 0xd element in a 0x2 list, assuming it's the last element\n",
      "└ @ RData C:\\Users\\sandr\\.julia\\packages\\RData\\OT7M6\\src\\readers.jl:138\n",
      "┌ Warning: 0xd element in a 0x2 list, assuming it's the last element\n",
      "└ @ RData C:\\Users\\sandr\\.julia\\packages\\RData\\OT7M6\\src\\readers.jl:138\n",
      "┌ Warning: 0xd element in a 0x2 list, assuming it's the last element\n",
      "└ @ RData C:\\Users\\sandr\\.julia\\packages\\RData\\OT7M6\\src\\readers.jl:138\n",
      "┌ Warning: 0xd element in a 0x2 list, assuming it's the last element\n",
      "└ @ RData C:\\Users\\sandr\\.julia\\packages\\RData\\OT7M6\\src\\readers.jl:138\n",
      "┌ Warning: 0xd element in a 0x2 list, assuming it's the last element\n",
      "└ @ RData C:\\Users\\sandr\\.julia\\packages\\RData\\OT7M6\\src\\readers.jl:138\n",
      "┌ Warning: 0xd element in a 0x2 list, assuming it's the last element\n",
      "└ @ RData C:\\Users\\sandr\\.julia\\packages\\RData\\OT7M6\\src\\readers.jl:138\n",
      "┌ Warning: 0xd element in a 0x2 list, assuming it's the last element\n",
      "└ @ RData C:\\Users\\sandr\\.julia\\packages\\RData\\OT7M6\\src\\readers.jl:138\n",
      "┌ Warning: 0xd element in a 0x2 list, assuming it's the last element\n",
      "└ @ RData C:\\Users\\sandr\\.julia\\packages\\RData\\OT7M6\\src\\readers.jl:138\n",
      "┌ Warning: 0xd element in a 0x2 list, assuming it's the last element\n",
      "└ @ RData C:\\Users\\sandr\\.julia\\packages\\RData\\OT7M6\\src\\readers.jl:138\n",
      "┌ Warning: 0xd element in a 0x2 list, assuming it's the last element\n",
      "└ @ RData C:\\Users\\sandr\\.julia\\packages\\RData\\OT7M6\\src\\readers.jl:138\n",
      "┌ Warning: 0xd element in a 0x2 list, assuming it's the last element\n",
      "└ @ RData C:\\Users\\sandr\\.julia\\packages\\RData\\OT7M6\\src\\readers.jl:138\n",
      "┌ Warning: 0xd element in a 0x2 list, assuming it's the last element\n",
      "└ @ RData C:\\Users\\sandr\\.julia\\packages\\RData\\OT7M6\\src\\readers.jl:138\n",
      "┌ Warning: 0xd element in a 0x2 list, assuming it's the last element\n",
      "└ @ RData C:\\Users\\sandr\\.julia\\packages\\RData\\OT7M6\\src\\readers.jl:138\n",
      "┌ Warning: 0xd element in a 0x2 list, assuming it's the last element\n",
      "└ @ RData C:\\Users\\sandr\\.julia\\packages\\RData\\OT7M6\\src\\readers.jl:138\n",
      "┌ Warning: 0xd element in a 0x2 list, assuming it's the last element\n",
      "└ @ RData C:\\Users\\sandr\\.julia\\packages\\RData\\OT7M6\\src\\readers.jl:138\n",
      "┌ Warning: 0xd element in a 0x2 list, assuming it's the last element\n",
      "└ @ RData C:\\Users\\sandr\\.julia\\packages\\RData\\OT7M6\\src\\readers.jl:138\n",
      "┌ Warning: 0xd element in a 0x2 list, assuming it's the last element\n",
      "└ @ RData C:\\Users\\sandr\\.julia\\packages\\RData\\OT7M6\\src\\readers.jl:138\n",
      "┌ Warning: 0xd element in a 0x2 list, assuming it's the last element\n",
      "└ @ RData C:\\Users\\sandr\\.julia\\packages\\RData\\OT7M6\\src\\readers.jl:138\n",
      "┌ Warning: 0xd element in a 0x2 list, assuming it's the last element\n",
      "└ @ RData C:\\Users\\sandr\\.julia\\packages\\RData\\OT7M6\\src\\readers.jl:138\n",
      "┌ Warning: 0xd element in a 0x2 list, assuming it's the last element\n",
      "└ @ RData C:\\Users\\sandr\\.julia\\packages\\RData\\OT7M6\\src\\readers.jl:138\n",
      "┌ Warning: 0xd element in a 0x2 list, assuming it's the last element\n",
      "└ @ RData C:\\Users\\sandr\\.julia\\packages\\RData\\OT7M6\\src\\readers.jl:138\n",
      "┌ Warning: 0xd element in a 0x2 list, assuming it's the last element\n",
      "└ @ RData C:\\Users\\sandr\\.julia\\packages\\RData\\OT7M6\\src\\readers.jl:138\n",
      "┌ Warning: 0xd element in a 0x2 list, assuming it's the last element\n",
      "└ @ RData C:\\Users\\sandr\\.julia\\packages\\RData\\OT7M6\\src\\readers.jl:138\n",
      "┌ Warning: 0xd element in a 0x2 list, assuming it's the last element\n",
      "└ @ RData C:\\Users\\sandr\\.julia\\packages\\RData\\OT7M6\\src\\readers.jl:138\n",
      "┌ Warning: 0xd element in a 0x2 list, assuming it's the last element\n",
      "└ @ RData C:\\Users\\sandr\\.julia\\packages\\RData\\OT7M6\\src\\readers.jl:138\n",
      "┌ Warning: 0xd element in a 0x2 list, assuming it's the last element\n",
      "└ @ RData C:\\Users\\sandr\\.julia\\packages\\RData\\OT7M6\\src\\readers.jl:138\n",
      "┌ Warning: 0xd element in a 0x2 list, assuming it's the last element\n",
      "└ @ RData C:\\Users\\sandr\\.julia\\packages\\RData\\OT7M6\\src\\readers.jl:138\n",
      "┌ Warning: 0xd element in a 0x2 list, assuming it's the last element\n",
      "└ @ RData C:\\Users\\sandr\\.julia\\packages\\RData\\OT7M6\\src\\readers.jl:138\n",
      "┌ Warning: 0xd element in a 0x2 list, assuming it's the last element\n",
      "└ @ RData C:\\Users\\sandr\\.julia\\packages\\RData\\OT7M6\\src\\readers.jl:138\n",
      "┌ Warning: 0xd element in a 0x2 list, assuming it's the last element\n",
      "└ @ RData C:\\Users\\sandr\\.julia\\packages\\RData\\OT7M6\\src\\readers.jl:138\n",
      "┌ Warning: 0xd element in a 0x2 list, assuming it's the last element\n",
      "└ @ RData C:\\Users\\sandr\\.julia\\packages\\RData\\OT7M6\\src\\readers.jl:138\n",
      "┌ Warning: 0xd element in a 0x2 list, assuming it's the last element\n",
      "└ @ RData C:\\Users\\sandr\\.julia\\packages\\RData\\OT7M6\\src\\readers.jl:138\n",
      "┌ Warning: 0xd element in a 0x2 list, assuming it's the last element\n",
      "└ @ RData C:\\Users\\sandr\\.julia\\packages\\RData\\OT7M6\\src\\readers.jl:138\n",
      "┌ Warning: 0xd element in a 0x2 list, assuming it's the last element\n",
      "└ @ RData C:\\Users\\sandr\\.julia\\packages\\RData\\OT7M6\\src\\readers.jl:138\n",
      "┌ Warning: 0xd element in a 0x2 list, assuming it's the last element\n",
      "└ @ RData C:\\Users\\sandr\\.julia\\packages\\RData\\OT7M6\\src\\readers.jl:138\n",
      "┌ Warning: 0xd element in a 0x2 list, assuming it's the last element\n",
      "└ @ RData C:\\Users\\sandr\\.julia\\packages\\RData\\OT7M6\\src\\readers.jl:138\n",
      "┌ Warning: 0xd element in a 0x2 list, assuming it's the last element\n",
      "└ @ RData C:\\Users\\sandr\\.julia\\packages\\RData\\OT7M6\\src\\readers.jl:138\n",
      "┌ Warning: 0xd element in a 0x2 list, assuming it's the last element\n",
      "└ @ RData C:\\Users\\sandr\\.julia\\packages\\RData\\OT7M6\\src\\readers.jl:138\n",
      "┌ Warning: 0xd element in a 0x2 list, assuming it's the last element\n",
      "└ @ RData C:\\Users\\sandr\\.julia\\packages\\RData\\OT7M6\\src\\readers.jl:138\n",
      "┌ Warning: 0xd element in a 0x2 list, assuming it's the last element\n",
      "└ @ RData C:\\Users\\sandr\\.julia\\packages\\RData\\OT7M6\\src\\readers.jl:138\n",
      "┌ Warning: 0xd element in a 0x2 list, assuming it's the last element\n",
      "└ @ RData C:\\Users\\sandr\\.julia\\packages\\RData\\OT7M6\\src\\readers.jl:138\n",
      "┌ Warning: 0xd element in a 0x2 list, assuming it's the last element\n",
      "└ @ RData C:\\Users\\sandr\\.julia\\packages\\RData\\OT7M6\\src\\readers.jl:138\n",
      "┌ Warning: 0xd element in a 0x2 list, assuming it's the last element\n",
      "└ @ RData C:\\Users\\sandr\\.julia\\packages\\RData\\OT7M6\\src\\readers.jl:138\n",
      "┌ Warning: 0xd element in a 0x2 list, assuming it's the last element\n",
      "└ @ RData C:\\Users\\sandr\\.julia\\packages\\RData\\OT7M6\\src\\readers.jl:138\n",
      "┌ Warning: 0xd element in a 0x2 list, assuming it's the last element\n",
      "└ @ RData C:\\Users\\sandr\\.julia\\packages\\RData\\OT7M6\\src\\readers.jl:138\n",
      "┌ Warning: 0xd element in a 0x2 list, assuming it's the last element\n",
      "└ @ RData C:\\Users\\sandr\\.julia\\packages\\RData\\OT7M6\\src\\readers.jl:138\n",
      "┌ Warning: 0xd element in a 0x2 list, assuming it's the last element\n",
      "└ @ RData C:\\Users\\sandr\\.julia\\packages\\RData\\OT7M6\\src\\readers.jl:138\n",
      "┌ Warning: 0xd element in a 0x2 list, assuming it's the last element\n",
      "└ @ RData C:\\Users\\sandr\\.julia\\packages\\RData\\OT7M6\\src\\readers.jl:138\n",
      "┌ Warning: 0xd element in a 0x2 list, assuming it's the last element\n",
      "└ @ RData C:\\Users\\sandr\\.julia\\packages\\RData\\OT7M6\\src\\readers.jl:138\n",
      "┌ Warning: 0xd element in a 0x2 list, assuming it's the last element\n",
      "└ @ RData C:\\Users\\sandr\\.julia\\packages\\RData\\OT7M6\\src\\readers.jl:138\n",
      "┌ Warning: 0xd element in a 0x2 list, assuming it's the last element\n",
      "└ @ RData C:\\Users\\sandr\\.julia\\packages\\RData\\OT7M6\\src\\readers.jl:138\n",
      "┌ Warning: 0xd element in a 0x2 list, assuming it's the last element\n",
      "└ @ RData C:\\Users\\sandr\\.julia\\packages\\RData\\OT7M6\\src\\readers.jl:138\n",
      "┌ Warning: 0xd element in a 0x2 list, assuming it's the last element\n",
      "└ @ RData C:\\Users\\sandr\\.julia\\packages\\RData\\OT7M6\\src\\readers.jl:138\n",
      "┌ Warning: 0xd element in a 0x2 list, assuming it's the last element\n",
      "└ @ RData C:\\Users\\sandr\\.julia\\packages\\RData\\OT7M6\\src\\readers.jl:138\n",
      "┌ Warning: 0xd element in a 0x2 list, assuming it's the last element\n",
      "└ @ RData C:\\Users\\sandr\\.julia\\packages\\RData\\OT7M6\\src\\readers.jl:138\n",
      "┌ Warning: 0xd element in a 0x2 list, assuming it's the last element\n",
      "└ @ RData C:\\Users\\sandr\\.julia\\packages\\RData\\OT7M6\\src\\readers.jl:138\n",
      "┌ Warning: 0xd element in a 0x2 list, assuming it's the last element\n",
      "└ @ RData C:\\Users\\sandr\\.julia\\packages\\RData\\OT7M6\\src\\readers.jl:138\n",
      "┌ Warning: 0xd element in a 0x2 list, assuming it's the last element\n",
      "└ @ RData C:\\Users\\sandr\\.julia\\packages\\RData\\OT7M6\\src\\readers.jl:138\n",
      "┌ Warning: 0xd element in a 0x2 list, assuming it's the last element\n",
      "└ @ RData C:\\Users\\sandr\\.julia\\packages\\RData\\OT7M6\\src\\readers.jl:138\n",
      "┌ Warning: 0xd element in a 0x2 list, assuming it's the last element\n",
      "└ @ RData C:\\Users\\sandr\\.julia\\packages\\RData\\OT7M6\\src\\readers.jl:138\n",
      "┌ Warning: 0xd element in a 0x2 list, assuming it's the last element\n",
      "└ @ RData C:\\Users\\sandr\\.julia\\packages\\RData\\OT7M6\\src\\readers.jl:138\n"
     ]
    },
    {
     "name": "stderr",
     "output_type": "stream",
     "text": [
      "┌ Warning: 0xd element in a 0x2 list, assuming it's the last element\n",
      "└ @ RData C:\\Users\\sandr\\.julia\\packages\\RData\\OT7M6\\src\\readers.jl:138\n",
      "┌ Warning: 0xd element in a 0x2 list, assuming it's the last element\n",
      "└ @ RData C:\\Users\\sandr\\.julia\\packages\\RData\\OT7M6\\src\\readers.jl:138\n",
      "┌ Warning: 0xd element in a 0x2 list, assuming it's the last element\n",
      "└ @ RData C:\\Users\\sandr\\.julia\\packages\\RData\\OT7M6\\src\\readers.jl:138\n",
      "┌ Warning: 0xd element in a 0x2 list, assuming it's the last element\n",
      "└ @ RData C:\\Users\\sandr\\.julia\\packages\\RData\\OT7M6\\src\\readers.jl:138\n",
      "┌ Warning: 0xd element in a 0x2 list, assuming it's the last element\n",
      "└ @ RData C:\\Users\\sandr\\.julia\\packages\\RData\\OT7M6\\src\\readers.jl:138\n",
      "┌ Warning: 0xd element in a 0x2 list, assuming it's the last element\n",
      "└ @ RData C:\\Users\\sandr\\.julia\\packages\\RData\\OT7M6\\src\\readers.jl:138\n",
      "┌ Warning: 0xd element in a 0x2 list, assuming it's the last element\n",
      "└ @ RData C:\\Users\\sandr\\.julia\\packages\\RData\\OT7M6\\src\\readers.jl:138\n",
      "┌ Warning: 0xd element in a 0x2 list, assuming it's the last element\n",
      "└ @ RData C:\\Users\\sandr\\.julia\\packages\\RData\\OT7M6\\src\\readers.jl:138\n",
      "┌ Warning: 0xd element in a 0x2 list, assuming it's the last element\n",
      "└ @ RData C:\\Users\\sandr\\.julia\\packages\\RData\\OT7M6\\src\\readers.jl:138\n",
      "┌ Warning: 0xd element in a 0x2 list, assuming it's the last element\n",
      "└ @ RData C:\\Users\\sandr\\.julia\\packages\\RData\\OT7M6\\src\\readers.jl:138\n",
      "┌ Warning: 0xd element in a 0x2 list, assuming it's the last element\n",
      "└ @ RData C:\\Users\\sandr\\.julia\\packages\\RData\\OT7M6\\src\\readers.jl:138\n",
      "┌ Warning: 0xd element in a 0x2 list, assuming it's the last element\n",
      "└ @ RData C:\\Users\\sandr\\.julia\\packages\\RData\\OT7M6\\src\\readers.jl:138\n",
      "┌ Warning: 0xd element in a 0x2 list, assuming it's the last element\n",
      "└ @ RData C:\\Users\\sandr\\.julia\\packages\\RData\\OT7M6\\src\\readers.jl:138\n",
      "┌ Warning: 0xd element in a 0x2 list, assuming it's the last element\n",
      "└ @ RData C:\\Users\\sandr\\.julia\\packages\\RData\\OT7M6\\src\\readers.jl:138\n",
      "┌ Warning: 0xd element in a 0x2 list, assuming it's the last element\n",
      "└ @ RData C:\\Users\\sandr\\.julia\\packages\\RData\\OT7M6\\src\\readers.jl:138\n",
      "┌ Warning: 0xd element in a 0x2 list, assuming it's the last element\n",
      "└ @ RData C:\\Users\\sandr\\.julia\\packages\\RData\\OT7M6\\src\\readers.jl:138\n",
      "┌ Warning: 0xd element in a 0x2 list, assuming it's the last element\n",
      "└ @ RData C:\\Users\\sandr\\.julia\\packages\\RData\\OT7M6\\src\\readers.jl:138\n",
      "┌ Warning: 0xd element in a 0x2 list, assuming it's the last element\n",
      "└ @ RData C:\\Users\\sandr\\.julia\\packages\\RData\\OT7M6\\src\\readers.jl:138\n",
      "┌ Warning: 0xd element in a 0x2 list, assuming it's the last element\n",
      "└ @ RData C:\\Users\\sandr\\.julia\\packages\\RData\\OT7M6\\src\\readers.jl:138\n",
      "┌ Warning: 0xd element in a 0x2 list, assuming it's the last element\n",
      "└ @ RData C:\\Users\\sandr\\.julia\\packages\\RData\\OT7M6\\src\\readers.jl:138\n",
      "┌ Warning: 0xd element in a 0x2 list, assuming it's the last element\n",
      "└ @ RData C:\\Users\\sandr\\.julia\\packages\\RData\\OT7M6\\src\\readers.jl:138\n",
      "┌ Warning: 0xd element in a 0x2 list, assuming it's the last element\n",
      "└ @ RData C:\\Users\\sandr\\.julia\\packages\\RData\\OT7M6\\src\\readers.jl:138\n",
      "┌ Warning: 0xd element in a 0x2 list, assuming it's the last element\n",
      "└ @ RData C:\\Users\\sandr\\.julia\\packages\\RData\\OT7M6\\src\\readers.jl:138\n",
      "┌ Warning: 0xd element in a 0x2 list, assuming it's the last element\n",
      "└ @ RData C:\\Users\\sandr\\.julia\\packages\\RData\\OT7M6\\src\\readers.jl:138\n",
      "┌ Warning: 0xd element in a 0x2 list, assuming it's the last element\n",
      "└ @ RData C:\\Users\\sandr\\.julia\\packages\\RData\\OT7M6\\src\\readers.jl:138\n",
      "┌ Warning: 0xd element in a 0x2 list, assuming it's the last element\n",
      "└ @ RData C:\\Users\\sandr\\.julia\\packages\\RData\\OT7M6\\src\\readers.jl:138\n",
      "┌ Warning: 0xd element in a 0x2 list, assuming it's the last element\n",
      "└ @ RData C:\\Users\\sandr\\.julia\\packages\\RData\\OT7M6\\src\\readers.jl:138\n",
      "┌ Warning: 0xd element in a 0x2 list, assuming it's the last element\n",
      "└ @ RData C:\\Users\\sandr\\.julia\\packages\\RData\\OT7M6\\src\\readers.jl:138\n",
      "┌ Warning: 0xd element in a 0x2 list, assuming it's the last element\n",
      "└ @ RData C:\\Users\\sandr\\.julia\\packages\\RData\\OT7M6\\src\\readers.jl:138\n",
      "┌ Warning: 0xd element in a 0x2 list, assuming it's the last element\n",
      "└ @ RData C:\\Users\\sandr\\.julia\\packages\\RData\\OT7M6\\src\\readers.jl:138\n",
      "┌ Warning: 0xd element in a 0x2 list, assuming it's the last element\n",
      "└ @ RData C:\\Users\\sandr\\.julia\\packages\\RData\\OT7M6\\src\\readers.jl:138\n",
      "┌ Warning: 0xd element in a 0x2 list, assuming it's the last element\n",
      "└ @ RData C:\\Users\\sandr\\.julia\\packages\\RData\\OT7M6\\src\\readers.jl:138\n",
      "┌ Warning: 0xd element in a 0x2 list, assuming it's the last element\n",
      "└ @ RData C:\\Users\\sandr\\.julia\\packages\\RData\\OT7M6\\src\\readers.jl:138\n",
      "┌ Warning: 0xd element in a 0x2 list, assuming it's the last element\n",
      "└ @ RData C:\\Users\\sandr\\.julia\\packages\\RData\\OT7M6\\src\\readers.jl:138\n",
      "┌ Warning: 0xd element in a 0x2 list, assuming it's the last element\n",
      "└ @ RData C:\\Users\\sandr\\.julia\\packages\\RData\\OT7M6\\src\\readers.jl:138\n",
      "┌ Warning: 0xd element in a 0x2 list, assuming it's the last element\n",
      "└ @ RData C:\\Users\\sandr\\.julia\\packages\\RData\\OT7M6\\src\\readers.jl:138\n",
      "┌ Warning: 0xd element in a 0x2 list, assuming it's the last element\n",
      "└ @ RData C:\\Users\\sandr\\.julia\\packages\\RData\\OT7M6\\src\\readers.jl:138\n",
      "┌ Warning: 0xd element in a 0x2 list, assuming it's the last element\n",
      "└ @ RData C:\\Users\\sandr\\.julia\\packages\\RData\\OT7M6\\src\\readers.jl:138\n",
      "┌ Warning: 0xd element in a 0x2 list, assuming it's the last element\n",
      "└ @ RData C:\\Users\\sandr\\.julia\\packages\\RData\\OT7M6\\src\\readers.jl:138\n",
      "┌ Warning: 0xd element in a 0x2 list, assuming it's the last element\n",
      "└ @ RData C:\\Users\\sandr\\.julia\\packages\\RData\\OT7M6\\src\\readers.jl:138\n",
      "┌ Warning: 0xd element in a 0x2 list, assuming it's the last element\n",
      "└ @ RData C:\\Users\\sandr\\.julia\\packages\\RData\\OT7M6\\src\\readers.jl:138\n",
      "┌ Warning: 0xd element in a 0x2 list, assuming it's the last element\n",
      "└ @ RData C:\\Users\\sandr\\.julia\\packages\\RData\\OT7M6\\src\\readers.jl:138\n",
      "┌ Warning: 0xd element in a 0x2 list, assuming it's the last element\n",
      "└ @ RData C:\\Users\\sandr\\.julia\\packages\\RData\\OT7M6\\src\\readers.jl:138\n",
      "┌ Warning: 0xd element in a 0x2 list, assuming it's the last element\n",
      "└ @ RData C:\\Users\\sandr\\.julia\\packages\\RData\\OT7M6\\src\\readers.jl:138\n",
      "┌ Warning: 0xd element in a 0x2 list, assuming it's the last element\n",
      "└ @ RData C:\\Users\\sandr\\.julia\\packages\\RData\\OT7M6\\src\\readers.jl:138\n",
      "┌ Warning: 0xd element in a 0x2 list, assuming it's the last element\n",
      "└ @ RData C:\\Users\\sandr\\.julia\\packages\\RData\\OT7M6\\src\\readers.jl:138\n",
      "┌ Warning: 0xd element in a 0x2 list, assuming it's the last element\n",
      "└ @ RData C:\\Users\\sandr\\.julia\\packages\\RData\\OT7M6\\src\\readers.jl:138\n",
      "┌ Warning: 0xd element in a 0x2 list, assuming it's the last element\n",
      "└ @ RData C:\\Users\\sandr\\.julia\\packages\\RData\\OT7M6\\src\\readers.jl:138\n",
      "┌ Warning: 0xd element in a 0x2 list, assuming it's the last element\n",
      "└ @ RData C:\\Users\\sandr\\.julia\\packages\\RData\\OT7M6\\src\\readers.jl:138\n",
      "┌ Warning: 0xd element in a 0x2 list, assuming it's the last element\n",
      "└ @ RData C:\\Users\\sandr\\.julia\\packages\\RData\\OT7M6\\src\\readers.jl:138\n",
      "┌ Warning: 0xd element in a 0x2 list, assuming it's the last element\n",
      "└ @ RData C:\\Users\\sandr\\.julia\\packages\\RData\\OT7M6\\src\\readers.jl:138\n",
      "┌ Warning: 0xd element in a 0x2 list, assuming it's the last element\n",
      "└ @ RData C:\\Users\\sandr\\.julia\\packages\\RData\\OT7M6\\src\\readers.jl:138\n",
      "┌ Warning: 0xd element in a 0x2 list, assuming it's the last element\n",
      "└ @ RData C:\\Users\\sandr\\.julia\\packages\\RData\\OT7M6\\src\\readers.jl:138\n",
      "┌ Warning: 0xd element in a 0x2 list, assuming it's the last element\n",
      "└ @ RData C:\\Users\\sandr\\.julia\\packages\\RData\\OT7M6\\src\\readers.jl:138\n",
      "┌ Warning: 0xd element in a 0x2 list, assuming it's the last element\n",
      "└ @ RData C:\\Users\\sandr\\.julia\\packages\\RData\\OT7M6\\src\\readers.jl:138\n",
      "┌ Warning: 0xd element in a 0x2 list, assuming it's the last element\n",
      "└ @ RData C:\\Users\\sandr\\.julia\\packages\\RData\\OT7M6\\src\\readers.jl:138\n",
      "┌ Warning: 0xd element in a 0x2 list, assuming it's the last element\n",
      "└ @ RData C:\\Users\\sandr\\.julia\\packages\\RData\\OT7M6\\src\\readers.jl:138\n",
      "┌ Warning: 0xd element in a 0x2 list, assuming it's the last element\n",
      "└ @ RData C:\\Users\\sandr\\.julia\\packages\\RData\\OT7M6\\src\\readers.jl:138\n",
      "┌ Warning: 0xd element in a 0x2 list, assuming it's the last element\n",
      "└ @ RData C:\\Users\\sandr\\.julia\\packages\\RData\\OT7M6\\src\\readers.jl:138\n",
      "┌ Warning: 0xd element in a 0x2 list, assuming it's the last element\n",
      "└ @ RData C:\\Users\\sandr\\.julia\\packages\\RData\\OT7M6\\src\\readers.jl:138\n",
      "┌ Warning: 0xd element in a 0x2 list, assuming it's the last element\n",
      "└ @ RData C:\\Users\\sandr\\.julia\\packages\\RData\\OT7M6\\src\\readers.jl:138\n",
      "┌ Warning: 0xd element in a 0x2 list, assuming it's the last element\n",
      "└ @ RData C:\\Users\\sandr\\.julia\\packages\\RData\\OT7M6\\src\\readers.jl:138\n",
      "┌ Warning: 0xd element in a 0x2 list, assuming it's the last element\n",
      "└ @ RData C:\\Users\\sandr\\.julia\\packages\\RData\\OT7M6\\src\\readers.jl:138\n",
      "┌ Warning: 0xd element in a 0x2 list, assuming it's the last element\n",
      "└ @ RData C:\\Users\\sandr\\.julia\\packages\\RData\\OT7M6\\src\\readers.jl:138\n",
      "┌ Warning: 0xd element in a 0x2 list, assuming it's the last element\n",
      "└ @ RData C:\\Users\\sandr\\.julia\\packages\\RData\\OT7M6\\src\\readers.jl:138\n",
      "┌ Warning: 0xd element in a 0x2 list, assuming it's the last element\n",
      "└ @ RData C:\\Users\\sandr\\.julia\\packages\\RData\\OT7M6\\src\\readers.jl:138\n",
      "┌ Warning: 0xd element in a 0x2 list, assuming it's the last element\n",
      "└ @ RData C:\\Users\\sandr\\.julia\\packages\\RData\\OT7M6\\src\\readers.jl:138\n",
      "┌ Warning: 0xd element in a 0x2 list, assuming it's the last element\n",
      "└ @ RData C:\\Users\\sandr\\.julia\\packages\\RData\\OT7M6\\src\\readers.jl:138\n",
      "┌ Warning: 0xd element in a 0x2 list, assuming it's the last element\n",
      "└ @ RData C:\\Users\\sandr\\.julia\\packages\\RData\\OT7M6\\src\\readers.jl:138\n",
      "┌ Warning: 0xd element in a 0x2 list, assuming it's the last element\n",
      "└ @ RData C:\\Users\\sandr\\.julia\\packages\\RData\\OT7M6\\src\\readers.jl:138\n",
      "┌ Warning: 0xd element in a 0x2 list, assuming it's the last element\n",
      "└ @ RData C:\\Users\\sandr\\.julia\\packages\\RData\\OT7M6\\src\\readers.jl:138\n",
      "┌ Warning: 0xd element in a 0x2 list, assuming it's the last element\n",
      "└ @ RData C:\\Users\\sandr\\.julia\\packages\\RData\\OT7M6\\src\\readers.jl:138\n",
      "┌ Warning: 0xd element in a 0x2 list, assuming it's the last element\n",
      "└ @ RData C:\\Users\\sandr\\.julia\\packages\\RData\\OT7M6\\src\\readers.jl:138\n",
      "┌ Warning: 0xd element in a 0x2 list, assuming it's the last element\n",
      "└ @ RData C:\\Users\\sandr\\.julia\\packages\\RData\\OT7M6\\src\\readers.jl:138\n",
      "┌ Warning: 0xd element in a 0x2 list, assuming it's the last element\n",
      "└ @ RData C:\\Users\\sandr\\.julia\\packages\\RData\\OT7M6\\src\\readers.jl:138\n",
      "┌ Warning: 0xd element in a 0x2 list, assuming it's the last element\n",
      "└ @ RData C:\\Users\\sandr\\.julia\\packages\\RData\\OT7M6\\src\\readers.jl:138\n",
      "┌ Warning: 0xd element in a 0x2 list, assuming it's the last element\n",
      "└ @ RData C:\\Users\\sandr\\.julia\\packages\\RData\\OT7M6\\src\\readers.jl:138\n"
     ]
    },
    {
     "name": "stderr",
     "output_type": "stream",
     "text": [
      "┌ Warning: 0xd element in a 0x2 list, assuming it's the last element\n",
      "└ @ RData C:\\Users\\sandr\\.julia\\packages\\RData\\OT7M6\\src\\readers.jl:138\n",
      "┌ Warning: 0xd element in a 0x2 list, assuming it's the last element\n",
      "└ @ RData C:\\Users\\sandr\\.julia\\packages\\RData\\OT7M6\\src\\readers.jl:138\n",
      "┌ Warning: 0xd element in a 0x2 list, assuming it's the last element\n",
      "└ @ RData C:\\Users\\sandr\\.julia\\packages\\RData\\OT7M6\\src\\readers.jl:138\n",
      "┌ Warning: 0xd element in a 0x2 list, assuming it's the last element\n",
      "└ @ RData C:\\Users\\sandr\\.julia\\packages\\RData\\OT7M6\\src\\readers.jl:138\n",
      "┌ Warning: 0xd element in a 0x2 list, assuming it's the last element\n",
      "└ @ RData C:\\Users\\sandr\\.julia\\packages\\RData\\OT7M6\\src\\readers.jl:138\n",
      "┌ Warning: 0xd element in a 0x2 list, assuming it's the last element\n",
      "└ @ RData C:\\Users\\sandr\\.julia\\packages\\RData\\OT7M6\\src\\readers.jl:138\n",
      "┌ Warning: 0xd element in a 0x2 list, assuming it's the last element\n",
      "└ @ RData C:\\Users\\sandr\\.julia\\packages\\RData\\OT7M6\\src\\readers.jl:138\n",
      "┌ Warning: 0xd element in a 0x2 list, assuming it's the last element\n",
      "└ @ RData C:\\Users\\sandr\\.julia\\packages\\RData\\OT7M6\\src\\readers.jl:138\n",
      "┌ Warning: 0xd element in a 0x2 list, assuming it's the last element\n",
      "└ @ RData C:\\Users\\sandr\\.julia\\packages\\RData\\OT7M6\\src\\readers.jl:138\n",
      "┌ Warning: 0xd element in a 0x2 list, assuming it's the last element\n",
      "└ @ RData C:\\Users\\sandr\\.julia\\packages\\RData\\OT7M6\\src\\readers.jl:138\n",
      "┌ Warning: 0xd element in a 0x2 list, assuming it's the last element\n",
      "└ @ RData C:\\Users\\sandr\\.julia\\packages\\RData\\OT7M6\\src\\readers.jl:138\n",
      "┌ Warning: 0xd element in a 0x2 list, assuming it's the last element\n",
      "└ @ RData C:\\Users\\sandr\\.julia\\packages\\RData\\OT7M6\\src\\readers.jl:138\n",
      "┌ Warning: 0xd element in a 0x2 list, assuming it's the last element\n",
      "└ @ RData C:\\Users\\sandr\\.julia\\packages\\RData\\OT7M6\\src\\readers.jl:138\n",
      "┌ Warning: 0xd element in a 0x2 list, assuming it's the last element\n",
      "└ @ RData C:\\Users\\sandr\\.julia\\packages\\RData\\OT7M6\\src\\readers.jl:138\n",
      "┌ Warning: 0xd element in a 0x2 list, assuming it's the last element\n",
      "└ @ RData C:\\Users\\sandr\\.julia\\packages\\RData\\OT7M6\\src\\readers.jl:138\n",
      "┌ Warning: 0xd element in a 0x2 list, assuming it's the last element\n",
      "└ @ RData C:\\Users\\sandr\\.julia\\packages\\RData\\OT7M6\\src\\readers.jl:138\n",
      "┌ Warning: 0xd element in a 0x2 list, assuming it's the last element\n",
      "└ @ RData C:\\Users\\sandr\\.julia\\packages\\RData\\OT7M6\\src\\readers.jl:138\n",
      "┌ Warning: 0xd element in a 0x2 list, assuming it's the last element\n",
      "└ @ RData C:\\Users\\sandr\\.julia\\packages\\RData\\OT7M6\\src\\readers.jl:138\n",
      "┌ Warning: 0xd element in a 0x2 list, assuming it's the last element\n",
      "└ @ RData C:\\Users\\sandr\\.julia\\packages\\RData\\OT7M6\\src\\readers.jl:138\n",
      "┌ Warning: 0xd element in a 0x2 list, assuming it's the last element\n",
      "└ @ RData C:\\Users\\sandr\\.julia\\packages\\RData\\OT7M6\\src\\readers.jl:138\n",
      "┌ Warning: 0xd element in a 0x2 list, assuming it's the last element\n",
      "└ @ RData C:\\Users\\sandr\\.julia\\packages\\RData\\OT7M6\\src\\readers.jl:138\n",
      "┌ Warning: 0xd element in a 0x2 list, assuming it's the last element\n",
      "└ @ RData C:\\Users\\sandr\\.julia\\packages\\RData\\OT7M6\\src\\readers.jl:138\n",
      "┌ Warning: 0xd element in a 0x2 list, assuming it's the last element\n",
      "└ @ RData C:\\Users\\sandr\\.julia\\packages\\RData\\OT7M6\\src\\readers.jl:138\n",
      "┌ Warning: 0xd element in a 0x2 list, assuming it's the last element\n",
      "└ @ RData C:\\Users\\sandr\\.julia\\packages\\RData\\OT7M6\\src\\readers.jl:138\n",
      "┌ Warning: 0xd element in a 0x2 list, assuming it's the last element\n",
      "└ @ RData C:\\Users\\sandr\\.julia\\packages\\RData\\OT7M6\\src\\readers.jl:138\n",
      "┌ Warning: 0xd element in a 0x2 list, assuming it's the last element\n",
      "└ @ RData C:\\Users\\sandr\\.julia\\packages\\RData\\OT7M6\\src\\readers.jl:138\n",
      "┌ Warning: 0xd element in a 0x2 list, assuming it's the last element\n",
      "└ @ RData C:\\Users\\sandr\\.julia\\packages\\RData\\OT7M6\\src\\readers.jl:138\n",
      "┌ Warning: 0xd element in a 0x2 list, assuming it's the last element\n",
      "└ @ RData C:\\Users\\sandr\\.julia\\packages\\RData\\OT7M6\\src\\readers.jl:138\n",
      "┌ Warning: 0xd element in a 0x2 list, assuming it's the last element\n",
      "└ @ RData C:\\Users\\sandr\\.julia\\packages\\RData\\OT7M6\\src\\readers.jl:138\n",
      "┌ Warning: 0xd element in a 0x2 list, assuming it's the last element\n",
      "└ @ RData C:\\Users\\sandr\\.julia\\packages\\RData\\OT7M6\\src\\readers.jl:138\n",
      "┌ Warning: 0xd element in a 0x2 list, assuming it's the last element\n",
      "└ @ RData C:\\Users\\sandr\\.julia\\packages\\RData\\OT7M6\\src\\readers.jl:138\n",
      "┌ Warning: 0xd element in a 0x2 list, assuming it's the last element\n",
      "└ @ RData C:\\Users\\sandr\\.julia\\packages\\RData\\OT7M6\\src\\readers.jl:138\n",
      "┌ Warning: 0xd element in a 0x2 list, assuming it's the last element\n",
      "└ @ RData C:\\Users\\sandr\\.julia\\packages\\RData\\OT7M6\\src\\readers.jl:138\n",
      "┌ Warning: 0xd element in a 0x2 list, assuming it's the last element\n",
      "└ @ RData C:\\Users\\sandr\\.julia\\packages\\RData\\OT7M6\\src\\readers.jl:138\n",
      "┌ Warning: 0xd element in a 0x2 list, assuming it's the last element\n",
      "└ @ RData C:\\Users\\sandr\\.julia\\packages\\RData\\OT7M6\\src\\readers.jl:138\n",
      "┌ Warning: 0xd element in a 0x2 list, assuming it's the last element\n",
      "└ @ RData C:\\Users\\sandr\\.julia\\packages\\RData\\OT7M6\\src\\readers.jl:138\n",
      "┌ Warning: 0xd element in a 0x2 list, assuming it's the last element\n",
      "└ @ RData C:\\Users\\sandr\\.julia\\packages\\RData\\OT7M6\\src\\readers.jl:138\n",
      "┌ Warning: 0xd element in a 0x2 list, assuming it's the last element\n",
      "└ @ RData C:\\Users\\sandr\\.julia\\packages\\RData\\OT7M6\\src\\readers.jl:138\n",
      "┌ Warning: 0xd element in a 0x2 list, assuming it's the last element\n",
      "└ @ RData C:\\Users\\sandr\\.julia\\packages\\RData\\OT7M6\\src\\readers.jl:138\n",
      "┌ Warning: 0xd element in a 0x2 list, assuming it's the last element\n",
      "└ @ RData C:\\Users\\sandr\\.julia\\packages\\RData\\OT7M6\\src\\readers.jl:138\n",
      "┌ Warning: 0xd element in a 0x2 list, assuming it's the last element\n",
      "└ @ RData C:\\Users\\sandr\\.julia\\packages\\RData\\OT7M6\\src\\readers.jl:138\n",
      "┌ Warning: 0xd element in a 0x2 list, assuming it's the last element\n",
      "└ @ RData C:\\Users\\sandr\\.julia\\packages\\RData\\OT7M6\\src\\readers.jl:138\n",
      "┌ Warning: 0xd element in a 0x2 list, assuming it's the last element\n",
      "└ @ RData C:\\Users\\sandr\\.julia\\packages\\RData\\OT7M6\\src\\readers.jl:138\n",
      "┌ Warning: 0xd element in a 0x2 list, assuming it's the last element\n",
      "└ @ RData C:\\Users\\sandr\\.julia\\packages\\RData\\OT7M6\\src\\readers.jl:138\n",
      "┌ Warning: 0xd element in a 0x2 list, assuming it's the last element\n",
      "└ @ RData C:\\Users\\sandr\\.julia\\packages\\RData\\OT7M6\\src\\readers.jl:138\n",
      "┌ Warning: 0xd element in a 0x2 list, assuming it's the last element\n",
      "└ @ RData C:\\Users\\sandr\\.julia\\packages\\RData\\OT7M6\\src\\readers.jl:138\n",
      "┌ Warning: 0xd element in a 0x2 list, assuming it's the last element\n",
      "└ @ RData C:\\Users\\sandr\\.julia\\packages\\RData\\OT7M6\\src\\readers.jl:138\n",
      "┌ Warning: 0xd element in a 0x2 list, assuming it's the last element\n",
      "└ @ RData C:\\Users\\sandr\\.julia\\packages\\RData\\OT7M6\\src\\readers.jl:138\n",
      "┌ Warning: 0xd element in a 0x2 list, assuming it's the last element\n",
      "└ @ RData C:\\Users\\sandr\\.julia\\packages\\RData\\OT7M6\\src\\readers.jl:138\n",
      "┌ Warning: 0xd element in a 0x2 list, assuming it's the last element\n",
      "└ @ RData C:\\Users\\sandr\\.julia\\packages\\RData\\OT7M6\\src\\readers.jl:138\n",
      "┌ Warning: 0xd element in a 0x2 list, assuming it's the last element\n",
      "└ @ RData C:\\Users\\sandr\\.julia\\packages\\RData\\OT7M6\\src\\readers.jl:138\n",
      "┌ Warning: 0xd element in a 0x2 list, assuming it's the last element\n",
      "└ @ RData C:\\Users\\sandr\\.julia\\packages\\RData\\OT7M6\\src\\readers.jl:138\n",
      "┌ Warning: 0xd element in a 0x2 list, assuming it's the last element\n",
      "└ @ RData C:\\Users\\sandr\\.julia\\packages\\RData\\OT7M6\\src\\readers.jl:138\n",
      "┌ Warning: 0xd element in a 0x2 list, assuming it's the last element\n",
      "└ @ RData C:\\Users\\sandr\\.julia\\packages\\RData\\OT7M6\\src\\readers.jl:138\n",
      "┌ Warning: 0xd element in a 0x2 list, assuming it's the last element\n",
      "└ @ RData C:\\Users\\sandr\\.julia\\packages\\RData\\OT7M6\\src\\readers.jl:138\n",
      "┌ Warning: 0xd element in a 0x2 list, assuming it's the last element\n",
      "└ @ RData C:\\Users\\sandr\\.julia\\packages\\RData\\OT7M6\\src\\readers.jl:138\n",
      "┌ Warning: 0xd element in a 0x2 list, assuming it's the last element\n",
      "└ @ RData C:\\Users\\sandr\\.julia\\packages\\RData\\OT7M6\\src\\readers.jl:138\n",
      "┌ Warning: 0xd element in a 0x2 list, assuming it's the last element\n",
      "└ @ RData C:\\Users\\sandr\\.julia\\packages\\RData\\OT7M6\\src\\readers.jl:138\n",
      "┌ Warning: 0xd element in a 0x2 list, assuming it's the last element\n",
      "└ @ RData C:\\Users\\sandr\\.julia\\packages\\RData\\OT7M6\\src\\readers.jl:138\n",
      "┌ Warning: 0xd element in a 0x2 list, assuming it's the last element\n",
      "└ @ RData C:\\Users\\sandr\\.julia\\packages\\RData\\OT7M6\\src\\readers.jl:138\n",
      "┌ Warning: 0xd element in a 0x2 list, assuming it's the last element\n",
      "└ @ RData C:\\Users\\sandr\\.julia\\packages\\RData\\OT7M6\\src\\readers.jl:138\n",
      "┌ Warning: 0xd element in a 0x2 list, assuming it's the last element\n",
      "└ @ RData C:\\Users\\sandr\\.julia\\packages\\RData\\OT7M6\\src\\readers.jl:138\n",
      "┌ Warning: 0xd element in a 0x2 list, assuming it's the last element\n",
      "└ @ RData C:\\Users\\sandr\\.julia\\packages\\RData\\OT7M6\\src\\readers.jl:138\n",
      "┌ Warning: 0xd element in a 0x2 list, assuming it's the last element\n",
      "└ @ RData C:\\Users\\sandr\\.julia\\packages\\RData\\OT7M6\\src\\readers.jl:138\n",
      "┌ Warning: 0xd element in a 0x2 list, assuming it's the last element\n",
      "└ @ RData C:\\Users\\sandr\\.julia\\packages\\RData\\OT7M6\\src\\readers.jl:138\n",
      "┌ Warning: 0xd element in a 0x2 list, assuming it's the last element\n",
      "└ @ RData C:\\Users\\sandr\\.julia\\packages\\RData\\OT7M6\\src\\readers.jl:138\n",
      "┌ Warning: 0xd element in a 0x2 list, assuming it's the last element\n",
      "└ @ RData C:\\Users\\sandr\\.julia\\packages\\RData\\OT7M6\\src\\readers.jl:138\n",
      "┌ Warning: 0xd element in a 0x2 list, assuming it's the last element\n",
      "└ @ RData C:\\Users\\sandr\\.julia\\packages\\RData\\OT7M6\\src\\readers.jl:138\n",
      "┌ Warning: 0xd element in a 0x2 list, assuming it's the last element\n",
      "└ @ RData C:\\Users\\sandr\\.julia\\packages\\RData\\OT7M6\\src\\readers.jl:138\n",
      "┌ Warning: 0xd element in a 0x2 list, assuming it's the last element\n",
      "└ @ RData C:\\Users\\sandr\\.julia\\packages\\RData\\OT7M6\\src\\readers.jl:138\n",
      "┌ Warning: 0xd element in a 0x2 list, assuming it's the last element\n",
      "└ @ RData C:\\Users\\sandr\\.julia\\packages\\RData\\OT7M6\\src\\readers.jl:138\n",
      "┌ Warning: 0xd element in a 0x2 list, assuming it's the last element\n",
      "└ @ RData C:\\Users\\sandr\\.julia\\packages\\RData\\OT7M6\\src\\readers.jl:138\n",
      "┌ Warning: 0xd element in a 0x2 list, assuming it's the last element\n",
      "└ @ RData C:\\Users\\sandr\\.julia\\packages\\RData\\OT7M6\\src\\readers.jl:138\n"
     ]
    },
    {
     "name": "stderr",
     "output_type": "stream",
     "text": [
      "┌ Warning: 0xd element in a 0x2 list, assuming it's the last element\n",
      "└ @ RData C:\\Users\\sandr\\.julia\\packages\\RData\\OT7M6\\src\\readers.jl:138\n",
      "┌ Warning: 0xd element in a 0x2 list, assuming it's the last element\n",
      "└ @ RData C:\\Users\\sandr\\.julia\\packages\\RData\\OT7M6\\src\\readers.jl:138\n",
      "┌ Warning: 0xd element in a 0x2 list, assuming it's the last element\n",
      "└ @ RData C:\\Users\\sandr\\.julia\\packages\\RData\\OT7M6\\src\\readers.jl:138\n",
      "┌ Warning: 0xd element in a 0x2 list, assuming it's the last element\n",
      "└ @ RData C:\\Users\\sandr\\.julia\\packages\\RData\\OT7M6\\src\\readers.jl:138\n",
      "┌ Warning: 0xd element in a 0x2 list, assuming it's the last element\n",
      "└ @ RData C:\\Users\\sandr\\.julia\\packages\\RData\\OT7M6\\src\\readers.jl:138\n",
      "┌ Warning: 0xd element in a 0x2 list, assuming it's the last element\n",
      "└ @ RData C:\\Users\\sandr\\.julia\\packages\\RData\\OT7M6\\src\\readers.jl:138\n",
      "┌ Warning: 0xd element in a 0x2 list, assuming it's the last element\n",
      "└ @ RData C:\\Users\\sandr\\.julia\\packages\\RData\\OT7M6\\src\\readers.jl:138\n",
      "┌ Warning: 0xd element in a 0x2 list, assuming it's the last element\n",
      "└ @ RData C:\\Users\\sandr\\.julia\\packages\\RData\\OT7M6\\src\\readers.jl:138\n",
      "┌ Warning: 0xd element in a 0x2 list, assuming it's the last element\n",
      "└ @ RData C:\\Users\\sandr\\.julia\\packages\\RData\\OT7M6\\src\\readers.jl:138\n",
      "┌ Warning: 0xd element in a 0x2 list, assuming it's the last element\n",
      "└ @ RData C:\\Users\\sandr\\.julia\\packages\\RData\\OT7M6\\src\\readers.jl:138\n",
      "┌ Warning: 0xd element in a 0x2 list, assuming it's the last element\n",
      "└ @ RData C:\\Users\\sandr\\.julia\\packages\\RData\\OT7M6\\src\\readers.jl:138\n",
      "┌ Warning: 0xd element in a 0x2 list, assuming it's the last element\n",
      "└ @ RData C:\\Users\\sandr\\.julia\\packages\\RData\\OT7M6\\src\\readers.jl:138\n",
      "┌ Warning: 0xd element in a 0x2 list, assuming it's the last element\n",
      "└ @ RData C:\\Users\\sandr\\.julia\\packages\\RData\\OT7M6\\src\\readers.jl:138\n",
      "┌ Warning: 0xd element in a 0x2 list, assuming it's the last element\n",
      "└ @ RData C:\\Users\\sandr\\.julia\\packages\\RData\\OT7M6\\src\\readers.jl:138\n",
      "┌ Warning: 0xd element in a 0x2 list, assuming it's the last element\n",
      "└ @ RData C:\\Users\\sandr\\.julia\\packages\\RData\\OT7M6\\src\\readers.jl:138\n",
      "┌ Warning: 0xd element in a 0x2 list, assuming it's the last element\n",
      "└ @ RData C:\\Users\\sandr\\.julia\\packages\\RData\\OT7M6\\src\\readers.jl:138\n",
      "┌ Warning: 0xd element in a 0x2 list, assuming it's the last element\n",
      "└ @ RData C:\\Users\\sandr\\.julia\\packages\\RData\\OT7M6\\src\\readers.jl:138\n",
      "┌ Warning: 0xd element in a 0x2 list, assuming it's the last element\n",
      "└ @ RData C:\\Users\\sandr\\.julia\\packages\\RData\\OT7M6\\src\\readers.jl:138\n",
      "┌ Warning: 0xd element in a 0x2 list, assuming it's the last element\n",
      "└ @ RData C:\\Users\\sandr\\.julia\\packages\\RData\\OT7M6\\src\\readers.jl:138\n",
      "┌ Warning: 0xd element in a 0x2 list, assuming it's the last element\n",
      "└ @ RData C:\\Users\\sandr\\.julia\\packages\\RData\\OT7M6\\src\\readers.jl:138\n",
      "┌ Warning: 0xd element in a 0x2 list, assuming it's the last element\n",
      "└ @ RData C:\\Users\\sandr\\.julia\\packages\\RData\\OT7M6\\src\\readers.jl:138\n",
      "┌ Warning: 0xd element in a 0x2 list, assuming it's the last element\n",
      "└ @ RData C:\\Users\\sandr\\.julia\\packages\\RData\\OT7M6\\src\\readers.jl:138\n",
      "┌ Warning: 0xd element in a 0x2 list, assuming it's the last element\n",
      "└ @ RData C:\\Users\\sandr\\.julia\\packages\\RData\\OT7M6\\src\\readers.jl:138\n",
      "┌ Warning: 0xd element in a 0x2 list, assuming it's the last element\n",
      "└ @ RData C:\\Users\\sandr\\.julia\\packages\\RData\\OT7M6\\src\\readers.jl:138\n",
      "┌ Warning: 0xd element in a 0x2 list, assuming it's the last element\n",
      "└ @ RData C:\\Users\\sandr\\.julia\\packages\\RData\\OT7M6\\src\\readers.jl:138\n",
      "┌ Warning: 0xd element in a 0x2 list, assuming it's the last element\n",
      "└ @ RData C:\\Users\\sandr\\.julia\\packages\\RData\\OT7M6\\src\\readers.jl:138\n",
      "┌ Warning: 0xd element in a 0x2 list, assuming it's the last element\n",
      "└ @ RData C:\\Users\\sandr\\.julia\\packages\\RData\\OT7M6\\src\\readers.jl:138\n",
      "┌ Warning: 0xd element in a 0x2 list, assuming it's the last element\n",
      "└ @ RData C:\\Users\\sandr\\.julia\\packages\\RData\\OT7M6\\src\\readers.jl:138\n",
      "┌ Warning: 0xd element in a 0x2 list, assuming it's the last element\n",
      "└ @ RData C:\\Users\\sandr\\.julia\\packages\\RData\\OT7M6\\src\\readers.jl:138\n",
      "┌ Warning: 0xd element in a 0x2 list, assuming it's the last element\n",
      "└ @ RData C:\\Users\\sandr\\.julia\\packages\\RData\\OT7M6\\src\\readers.jl:138\n",
      "┌ Warning: 0xd element in a 0x2 list, assuming it's the last element\n",
      "└ @ RData C:\\Users\\sandr\\.julia\\packages\\RData\\OT7M6\\src\\readers.jl:138\n",
      "┌ Warning: 0xd element in a 0x2 list, assuming it's the last element\n",
      "└ @ RData C:\\Users\\sandr\\.julia\\packages\\RData\\OT7M6\\src\\readers.jl:138\n",
      "┌ Warning: 0xd element in a 0x2 list, assuming it's the last element\n",
      "└ @ RData C:\\Users\\sandr\\.julia\\packages\\RData\\OT7M6\\src\\readers.jl:138\n",
      "┌ Warning: 0xd element in a 0x2 list, assuming it's the last element\n",
      "└ @ RData C:\\Users\\sandr\\.julia\\packages\\RData\\OT7M6\\src\\readers.jl:138\n",
      "┌ Warning: 0xd element in a 0x2 list, assuming it's the last element\n",
      "└ @ RData C:\\Users\\sandr\\.julia\\packages\\RData\\OT7M6\\src\\readers.jl:138\n",
      "┌ Warning: 0xd element in a 0x2 list, assuming it's the last element\n",
      "└ @ RData C:\\Users\\sandr\\.julia\\packages\\RData\\OT7M6\\src\\readers.jl:138\n",
      "┌ Warning: 0xd element in a 0x2 list, assuming it's the last element\n",
      "└ @ RData C:\\Users\\sandr\\.julia\\packages\\RData\\OT7M6\\src\\readers.jl:138\n",
      "┌ Warning: 0xd element in a 0x2 list, assuming it's the last element\n",
      "└ @ RData C:\\Users\\sandr\\.julia\\packages\\RData\\OT7M6\\src\\readers.jl:138\n",
      "┌ Warning: 0xd element in a 0x2 list, assuming it's the last element\n",
      "└ @ RData C:\\Users\\sandr\\.julia\\packages\\RData\\OT7M6\\src\\readers.jl:138\n",
      "┌ Warning: 0xd element in a 0x2 list, assuming it's the last element\n",
      "└ @ RData C:\\Users\\sandr\\.julia\\packages\\RData\\OT7M6\\src\\readers.jl:138\n",
      "┌ Warning: 0xd element in a 0x2 list, assuming it's the last element\n",
      "└ @ RData C:\\Users\\sandr\\.julia\\packages\\RData\\OT7M6\\src\\readers.jl:138\n",
      "┌ Warning: 0xd element in a 0x2 list, assuming it's the last element\n",
      "└ @ RData C:\\Users\\sandr\\.julia\\packages\\RData\\OT7M6\\src\\readers.jl:138\n",
      "┌ Warning: 0xd element in a 0x2 list, assuming it's the last element\n",
      "└ @ RData C:\\Users\\sandr\\.julia\\packages\\RData\\OT7M6\\src\\readers.jl:138\n",
      "┌ Warning: 0xd element in a 0x2 list, assuming it's the last element\n",
      "└ @ RData C:\\Users\\sandr\\.julia\\packages\\RData\\OT7M6\\src\\readers.jl:138\n",
      "┌ Warning: 0xd element in a 0x2 list, assuming it's the last element\n",
      "└ @ RData C:\\Users\\sandr\\.julia\\packages\\RData\\OT7M6\\src\\readers.jl:138\n",
      "┌ Warning: 0xd element in a 0x2 list, assuming it's the last element\n",
      "└ @ RData C:\\Users\\sandr\\.julia\\packages\\RData\\OT7M6\\src\\readers.jl:138\n",
      "┌ Warning: 0xd element in a 0x2 list, assuming it's the last element\n",
      "└ @ RData C:\\Users\\sandr\\.julia\\packages\\RData\\OT7M6\\src\\readers.jl:138\n",
      "┌ Warning: 0xd element in a 0x2 list, assuming it's the last element\n",
      "└ @ RData C:\\Users\\sandr\\.julia\\packages\\RData\\OT7M6\\src\\readers.jl:138\n",
      "┌ Warning: 0xd element in a 0x2 list, assuming it's the last element\n",
      "└ @ RData C:\\Users\\sandr\\.julia\\packages\\RData\\OT7M6\\src\\readers.jl:138\n",
      "┌ Warning: 0xd element in a 0x2 list, assuming it's the last element\n",
      "└ @ RData C:\\Users\\sandr\\.julia\\packages\\RData\\OT7M6\\src\\readers.jl:138\n",
      "┌ Warning: 0xd element in a 0x2 list, assuming it's the last element\n",
      "└ @ RData C:\\Users\\sandr\\.julia\\packages\\RData\\OT7M6\\src\\readers.jl:138\n",
      "┌ Warning: 0xd element in a 0x2 list, assuming it's the last element\n",
      "└ @ RData C:\\Users\\sandr\\.julia\\packages\\RData\\OT7M6\\src\\readers.jl:138\n",
      "┌ Warning: 0xd element in a 0x2 list, assuming it's the last element\n",
      "└ @ RData C:\\Users\\sandr\\.julia\\packages\\RData\\OT7M6\\src\\readers.jl:138\n",
      "┌ Warning: 0xd element in a 0x2 list, assuming it's the last element\n",
      "└ @ RData C:\\Users\\sandr\\.julia\\packages\\RData\\OT7M6\\src\\readers.jl:138\n",
      "┌ Warning: 0xd element in a 0x2 list, assuming it's the last element\n",
      "└ @ RData C:\\Users\\sandr\\.julia\\packages\\RData\\OT7M6\\src\\readers.jl:138\n",
      "┌ Warning: 0xd element in a 0x2 list, assuming it's the last element\n",
      "└ @ RData C:\\Users\\sandr\\.julia\\packages\\RData\\OT7M6\\src\\readers.jl:138\n",
      "┌ Warning: 0xd element in a 0x2 list, assuming it's the last element\n",
      "└ @ RData C:\\Users\\sandr\\.julia\\packages\\RData\\OT7M6\\src\\readers.jl:138\n",
      "┌ Warning: 0xd element in a 0x2 list, assuming it's the last element\n",
      "└ @ RData C:\\Users\\sandr\\.julia\\packages\\RData\\OT7M6\\src\\readers.jl:138\n",
      "┌ Warning: 0xd element in a 0x2 list, assuming it's the last element\n",
      "└ @ RData C:\\Users\\sandr\\.julia\\packages\\RData\\OT7M6\\src\\readers.jl:138\n",
      "┌ Warning: 0xd element in a 0x2 list, assuming it's the last element\n",
      "└ @ RData C:\\Users\\sandr\\.julia\\packages\\RData\\OT7M6\\src\\readers.jl:138\n",
      "┌ Warning: 0xd element in a 0x2 list, assuming it's the last element\n",
      "└ @ RData C:\\Users\\sandr\\.julia\\packages\\RData\\OT7M6\\src\\readers.jl:138\n",
      "┌ Warning: 0xd element in a 0x2 list, assuming it's the last element\n",
      "└ @ RData C:\\Users\\sandr\\.julia\\packages\\RData\\OT7M6\\src\\readers.jl:138\n",
      "┌ Warning: 0xd element in a 0x2 list, assuming it's the last element\n",
      "└ @ RData C:\\Users\\sandr\\.julia\\packages\\RData\\OT7M6\\src\\readers.jl:138\n",
      "┌ Warning: 0xd element in a 0x2 list, assuming it's the last element\n",
      "└ @ RData C:\\Users\\sandr\\.julia\\packages\\RData\\OT7M6\\src\\readers.jl:138\n",
      "┌ Warning: 0xd element in a 0x2 list, assuming it's the last element\n",
      "└ @ RData C:\\Users\\sandr\\.julia\\packages\\RData\\OT7M6\\src\\readers.jl:138\n",
      "┌ Warning: 0xd element in a 0x2 list, assuming it's the last element\n",
      "└ @ RData C:\\Users\\sandr\\.julia\\packages\\RData\\OT7M6\\src\\readers.jl:138\n",
      "┌ Warning: 0xd element in a 0x2 list, assuming it's the last element\n",
      "└ @ RData C:\\Users\\sandr\\.julia\\packages\\RData\\OT7M6\\src\\readers.jl:138\n",
      "┌ Warning: 0xd element in a 0x2 list, assuming it's the last element\n",
      "└ @ RData C:\\Users\\sandr\\.julia\\packages\\RData\\OT7M6\\src\\readers.jl:138\n",
      "┌ Warning: 0xd element in a 0x2 list, assuming it's the last element\n",
      "└ @ RData C:\\Users\\sandr\\.julia\\packages\\RData\\OT7M6\\src\\readers.jl:138\n",
      "┌ Warning: 0xd element in a 0x2 list, assuming it's the last element\n",
      "└ @ RData C:\\Users\\sandr\\.julia\\packages\\RData\\OT7M6\\src\\readers.jl:138\n",
      "┌ Warning: 0xd element in a 0x2 list, assuming it's the last element\n",
      "└ @ RData C:\\Users\\sandr\\.julia\\packages\\RData\\OT7M6\\src\\readers.jl:138\n"
     ]
    },
    {
     "name": "stderr",
     "output_type": "stream",
     "text": [
      "┌ Warning: 0xd element in a 0x2 list, assuming it's the last element\n",
      "└ @ RData C:\\Users\\sandr\\.julia\\packages\\RData\\OT7M6\\src\\readers.jl:138\n",
      "┌ Warning: 0xd element in a 0x2 list, assuming it's the last element\n",
      "└ @ RData C:\\Users\\sandr\\.julia\\packages\\RData\\OT7M6\\src\\readers.jl:138\n",
      "┌ Warning: 0xd element in a 0x2 list, assuming it's the last element\n",
      "└ @ RData C:\\Users\\sandr\\.julia\\packages\\RData\\OT7M6\\src\\readers.jl:138\n",
      "┌ Warning: 0xd element in a 0x2 list, assuming it's the last element\n",
      "└ @ RData C:\\Users\\sandr\\.julia\\packages\\RData\\OT7M6\\src\\readers.jl:138\n",
      "┌ Warning: 0xd element in a 0x2 list, assuming it's the last element\n",
      "└ @ RData C:\\Users\\sandr\\.julia\\packages\\RData\\OT7M6\\src\\readers.jl:138\n",
      "┌ Warning: 0xd element in a 0x2 list, assuming it's the last element\n",
      "└ @ RData C:\\Users\\sandr\\.julia\\packages\\RData\\OT7M6\\src\\readers.jl:138\n",
      "┌ Warning: 0xd element in a 0x2 list, assuming it's the last element\n",
      "└ @ RData C:\\Users\\sandr\\.julia\\packages\\RData\\OT7M6\\src\\readers.jl:138\n",
      "┌ Warning: 0xd element in a 0x2 list, assuming it's the last element\n",
      "└ @ RData C:\\Users\\sandr\\.julia\\packages\\RData\\OT7M6\\src\\readers.jl:138\n",
      "┌ Warning: 0xd element in a 0x2 list, assuming it's the last element\n",
      "└ @ RData C:\\Users\\sandr\\.julia\\packages\\RData\\OT7M6\\src\\readers.jl:138\n",
      "┌ Warning: 0xd element in a 0x2 list, assuming it's the last element\n",
      "└ @ RData C:\\Users\\sandr\\.julia\\packages\\RData\\OT7M6\\src\\readers.jl:138\n",
      "┌ Warning: 0xd element in a 0x2 list, assuming it's the last element\n",
      "└ @ RData C:\\Users\\sandr\\.julia\\packages\\RData\\OT7M6\\src\\readers.jl:138\n",
      "┌ Warning: 0xd element in a 0x2 list, assuming it's the last element\n",
      "└ @ RData C:\\Users\\sandr\\.julia\\packages\\RData\\OT7M6\\src\\readers.jl:138\n",
      "┌ Warning: 0xd element in a 0x2 list, assuming it's the last element\n",
      "└ @ RData C:\\Users\\sandr\\.julia\\packages\\RData\\OT7M6\\src\\readers.jl:138\n",
      "┌ Warning: 0xd element in a 0x2 list, assuming it's the last element\n",
      "└ @ RData C:\\Users\\sandr\\.julia\\packages\\RData\\OT7M6\\src\\readers.jl:138\n",
      "┌ Warning: 0xd element in a 0x2 list, assuming it's the last element\n",
      "└ @ RData C:\\Users\\sandr\\.julia\\packages\\RData\\OT7M6\\src\\readers.jl:138\n",
      "┌ Warning: 0xd element in a 0x2 list, assuming it's the last element\n",
      "└ @ RData C:\\Users\\sandr\\.julia\\packages\\RData\\OT7M6\\src\\readers.jl:138\n",
      "┌ Warning: 0xd element in a 0x2 list, assuming it's the last element\n",
      "└ @ RData C:\\Users\\sandr\\.julia\\packages\\RData\\OT7M6\\src\\readers.jl:138\n",
      "┌ Warning: 0xd element in a 0x2 list, assuming it's the last element\n",
      "└ @ RData C:\\Users\\sandr\\.julia\\packages\\RData\\OT7M6\\src\\readers.jl:138\n",
      "┌ Warning: 0xd element in a 0x2 list, assuming it's the last element\n",
      "└ @ RData C:\\Users\\sandr\\.julia\\packages\\RData\\OT7M6\\src\\readers.jl:138\n",
      "┌ Warning: 0xd element in a 0x2 list, assuming it's the last element\n",
      "└ @ RData C:\\Users\\sandr\\.julia\\packages\\RData\\OT7M6\\src\\readers.jl:138\n",
      "┌ Warning: 0xd element in a 0x2 list, assuming it's the last element\n",
      "└ @ RData C:\\Users\\sandr\\.julia\\packages\\RData\\OT7M6\\src\\readers.jl:138\n",
      "┌ Warning: 0xd element in a 0x2 list, assuming it's the last element\n",
      "└ @ RData C:\\Users\\sandr\\.julia\\packages\\RData\\OT7M6\\src\\readers.jl:138\n",
      "┌ Warning: 0xd element in a 0x2 list, assuming it's the last element\n",
      "└ @ RData C:\\Users\\sandr\\.julia\\packages\\RData\\OT7M6\\src\\readers.jl:138\n",
      "┌ Warning: 0xd element in a 0x2 list, assuming it's the last element\n",
      "└ @ RData C:\\Users\\sandr\\.julia\\packages\\RData\\OT7M6\\src\\readers.jl:138\n",
      "┌ Warning: 0xd element in a 0x2 list, assuming it's the last element\n",
      "└ @ RData C:\\Users\\sandr\\.julia\\packages\\RData\\OT7M6\\src\\readers.jl:138\n",
      "┌ Warning: 0xd element in a 0x2 list, assuming it's the last element\n",
      "└ @ RData C:\\Users\\sandr\\.julia\\packages\\RData\\OT7M6\\src\\readers.jl:138\n",
      "┌ Warning: 0xd element in a 0x2 list, assuming it's the last element\n",
      "└ @ RData C:\\Users\\sandr\\.julia\\packages\\RData\\OT7M6\\src\\readers.jl:138\n",
      "┌ Warning: 0xd element in a 0x2 list, assuming it's the last element\n",
      "└ @ RData C:\\Users\\sandr\\.julia\\packages\\RData\\OT7M6\\src\\readers.jl:138\n",
      "┌ Warning: 0xd element in a 0x2 list, assuming it's the last element\n",
      "└ @ RData C:\\Users\\sandr\\.julia\\packages\\RData\\OT7M6\\src\\readers.jl:138\n",
      "┌ Warning: 0xd element in a 0x2 list, assuming it's the last element\n",
      "└ @ RData C:\\Users\\sandr\\.julia\\packages\\RData\\OT7M6\\src\\readers.jl:138\n",
      "┌ Warning: 0xd element in a 0x2 list, assuming it's the last element\n",
      "└ @ RData C:\\Users\\sandr\\.julia\\packages\\RData\\OT7M6\\src\\readers.jl:138\n",
      "┌ Warning: 0xd element in a 0x2 list, assuming it's the last element\n",
      "└ @ RData C:\\Users\\sandr\\.julia\\packages\\RData\\OT7M6\\src\\readers.jl:138\n",
      "┌ Warning: 0xd element in a 0x2 list, assuming it's the last element\n",
      "└ @ RData C:\\Users\\sandr\\.julia\\packages\\RData\\OT7M6\\src\\readers.jl:138\n",
      "┌ Warning: 0xd element in a 0x2 list, assuming it's the last element\n",
      "└ @ RData C:\\Users\\sandr\\.julia\\packages\\RData\\OT7M6\\src\\readers.jl:138\n",
      "┌ Warning: 0xd element in a 0x2 list, assuming it's the last element\n",
      "└ @ RData C:\\Users\\sandr\\.julia\\packages\\RData\\OT7M6\\src\\readers.jl:138\n",
      "┌ Warning: 0xd element in a 0x2 list, assuming it's the last element\n",
      "└ @ RData C:\\Users\\sandr\\.julia\\packages\\RData\\OT7M6\\src\\readers.jl:138\n",
      "┌ Warning: 0xd element in a 0x2 list, assuming it's the last element\n",
      "└ @ RData C:\\Users\\sandr\\.julia\\packages\\RData\\OT7M6\\src\\readers.jl:138\n",
      "┌ Warning: 0xd element in a 0x2 list, assuming it's the last element\n",
      "└ @ RData C:\\Users\\sandr\\.julia\\packages\\RData\\OT7M6\\src\\readers.jl:138\n",
      "┌ Warning: 0xd element in a 0x2 list, assuming it's the last element\n",
      "└ @ RData C:\\Users\\sandr\\.julia\\packages\\RData\\OT7M6\\src\\readers.jl:138\n",
      "┌ Warning: 0xd element in a 0x2 list, assuming it's the last element\n",
      "└ @ RData C:\\Users\\sandr\\.julia\\packages\\RData\\OT7M6\\src\\readers.jl:138\n",
      "┌ Warning: 0xd element in a 0x2 list, assuming it's the last element\n",
      "└ @ RData C:\\Users\\sandr\\.julia\\packages\\RData\\OT7M6\\src\\readers.jl:138\n",
      "┌ Warning: 0xd element in a 0x2 list, assuming it's the last element\n",
      "└ @ RData C:\\Users\\sandr\\.julia\\packages\\RData\\OT7M6\\src\\readers.jl:138\n",
      "┌ Warning: 0xd element in a 0x2 list, assuming it's the last element\n",
      "└ @ RData C:\\Users\\sandr\\.julia\\packages\\RData\\OT7M6\\src\\readers.jl:138\n",
      "┌ Warning: 0xd element in a 0x2 list, assuming it's the last element\n",
      "└ @ RData C:\\Users\\sandr\\.julia\\packages\\RData\\OT7M6\\src\\readers.jl:138\n",
      "┌ Warning: 0xd element in a 0x2 list, assuming it's the last element\n",
      "└ @ RData C:\\Users\\sandr\\.julia\\packages\\RData\\OT7M6\\src\\readers.jl:138\n",
      "┌ Warning: 0xd element in a 0x2 list, assuming it's the last element\n",
      "└ @ RData C:\\Users\\sandr\\.julia\\packages\\RData\\OT7M6\\src\\readers.jl:138\n",
      "┌ Warning: 0xd element in a 0x2 list, assuming it's the last element\n",
      "└ @ RData C:\\Users\\sandr\\.julia\\packages\\RData\\OT7M6\\src\\readers.jl:138\n",
      "┌ Warning: 0xd element in a 0x2 list, assuming it's the last element\n",
      "└ @ RData C:\\Users\\sandr\\.julia\\packages\\RData\\OT7M6\\src\\readers.jl:138\n",
      "┌ Warning: 0xd element in a 0x2 list, assuming it's the last element\n",
      "└ @ RData C:\\Users\\sandr\\.julia\\packages\\RData\\OT7M6\\src\\readers.jl:138\n",
      "┌ Warning: 0xd element in a 0x2 list, assuming it's the last element\n",
      "└ @ RData C:\\Users\\sandr\\.julia\\packages\\RData\\OT7M6\\src\\readers.jl:138\n",
      "┌ Warning: 0xd element in a 0x2 list, assuming it's the last element\n",
      "└ @ RData C:\\Users\\sandr\\.julia\\packages\\RData\\OT7M6\\src\\readers.jl:138\n",
      "┌ Warning: 0xd element in a 0x2 list, assuming it's the last element\n",
      "└ @ RData C:\\Users\\sandr\\.julia\\packages\\RData\\OT7M6\\src\\readers.jl:138\n",
      "┌ Warning: 0xd element in a 0x2 list, assuming it's the last element\n",
      "└ @ RData C:\\Users\\sandr\\.julia\\packages\\RData\\OT7M6\\src\\readers.jl:138\n",
      "┌ Warning: 0xd element in a 0x2 list, assuming it's the last element\n",
      "└ @ RData C:\\Users\\sandr\\.julia\\packages\\RData\\OT7M6\\src\\readers.jl:138\n",
      "┌ Warning: 0xd element in a 0x2 list, assuming it's the last element\n",
      "└ @ RData C:\\Users\\sandr\\.julia\\packages\\RData\\OT7M6\\src\\readers.jl:138\n",
      "┌ Warning: 0xd element in a 0x2 list, assuming it's the last element\n",
      "└ @ RData C:\\Users\\sandr\\.julia\\packages\\RData\\OT7M6\\src\\readers.jl:138\n",
      "┌ Warning: 0xd element in a 0x2 list, assuming it's the last element\n",
      "└ @ RData C:\\Users\\sandr\\.julia\\packages\\RData\\OT7M6\\src\\readers.jl:138\n",
      "┌ Warning: 0xd element in a 0x2 list, assuming it's the last element\n",
      "└ @ RData C:\\Users\\sandr\\.julia\\packages\\RData\\OT7M6\\src\\readers.jl:138\n",
      "┌ Warning: 0xd element in a 0x2 list, assuming it's the last element\n",
      "└ @ RData C:\\Users\\sandr\\.julia\\packages\\RData\\OT7M6\\src\\readers.jl:138\n",
      "┌ Warning: 0xd element in a 0x2 list, assuming it's the last element\n",
      "└ @ RData C:\\Users\\sandr\\.julia\\packages\\RData\\OT7M6\\src\\readers.jl:138\n",
      "┌ Warning: 0xd element in a 0x2 list, assuming it's the last element\n",
      "└ @ RData C:\\Users\\sandr\\.julia\\packages\\RData\\OT7M6\\src\\readers.jl:138\n",
      "┌ Warning: 0xd element in a 0x2 list, assuming it's the last element\n",
      "└ @ RData C:\\Users\\sandr\\.julia\\packages\\RData\\OT7M6\\src\\readers.jl:138\n",
      "┌ Warning: 0xd element in a 0x2 list, assuming it's the last element\n",
      "└ @ RData C:\\Users\\sandr\\.julia\\packages\\RData\\OT7M6\\src\\readers.jl:138\n",
      "┌ Warning: 0xd element in a 0x2 list, assuming it's the last element\n",
      "└ @ RData C:\\Users\\sandr\\.julia\\packages\\RData\\OT7M6\\src\\readers.jl:138\n",
      "┌ Warning: 0xd element in a 0x2 list, assuming it's the last element\n",
      "└ @ RData C:\\Users\\sandr\\.julia\\packages\\RData\\OT7M6\\src\\readers.jl:138\n",
      "┌ Warning: 0xd element in a 0x2 list, assuming it's the last element\n",
      "└ @ RData C:\\Users\\sandr\\.julia\\packages\\RData\\OT7M6\\src\\readers.jl:138\n",
      "┌ Warning: 0xd element in a 0x2 list, assuming it's the last element\n",
      "└ @ RData C:\\Users\\sandr\\.julia\\packages\\RData\\OT7M6\\src\\readers.jl:138\n",
      "┌ Warning: 0xd element in a 0x2 list, assuming it's the last element\n",
      "└ @ RData C:\\Users\\sandr\\.julia\\packages\\RData\\OT7M6\\src\\readers.jl:138\n",
      "┌ Warning: 0xd element in a 0x2 list, assuming it's the last element\n",
      "└ @ RData C:\\Users\\sandr\\.julia\\packages\\RData\\OT7M6\\src\\readers.jl:138\n",
      "┌ Warning: 0xd element in a 0x2 list, assuming it's the last element\n",
      "└ @ RData C:\\Users\\sandr\\.julia\\packages\\RData\\OT7M6\\src\\readers.jl:138\n",
      "┌ Warning: 0xd element in a 0x2 list, assuming it's the last element\n",
      "└ @ RData C:\\Users\\sandr\\.julia\\packages\\RData\\OT7M6\\src\\readers.jl:138\n",
      "┌ Warning: 0xd element in a 0x2 list, assuming it's the last element\n",
      "└ @ RData C:\\Users\\sandr\\.julia\\packages\\RData\\OT7M6\\src\\readers.jl:138\n",
      "┌ Warning: 0xd element in a 0x2 list, assuming it's the last element\n",
      "└ @ RData C:\\Users\\sandr\\.julia\\packages\\RData\\OT7M6\\src\\readers.jl:138\n",
      "┌ Warning: 0xd element in a 0x2 list, assuming it's the last element\n",
      "└ @ RData C:\\Users\\sandr\\.julia\\packages\\RData\\OT7M6\\src\\readers.jl:138\n"
     ]
    },
    {
     "name": "stderr",
     "output_type": "stream",
     "text": [
      "┌ Warning: 0xd element in a 0x2 list, assuming it's the last element\n",
      "└ @ RData C:\\Users\\sandr\\.julia\\packages\\RData\\OT7M6\\src\\readers.jl:138\n",
      "┌ Warning: 0xd element in a 0x2 list, assuming it's the last element\n",
      "└ @ RData C:\\Users\\sandr\\.julia\\packages\\RData\\OT7M6\\src\\readers.jl:138\n",
      "┌ Warning: 0xd element in a 0x2 list, assuming it's the last element\n",
      "└ @ RData C:\\Users\\sandr\\.julia\\packages\\RData\\OT7M6\\src\\readers.jl:138\n",
      "┌ Warning: 0xd element in a 0x2 list, assuming it's the last element\n",
      "└ @ RData C:\\Users\\sandr\\.julia\\packages\\RData\\OT7M6\\src\\readers.jl:138\n",
      "┌ Warning: 0xd element in a 0x2 list, assuming it's the last element\n",
      "└ @ RData C:\\Users\\sandr\\.julia\\packages\\RData\\OT7M6\\src\\readers.jl:138\n",
      "┌ Warning: 0xd element in a 0x2 list, assuming it's the last element\n",
      "└ @ RData C:\\Users\\sandr\\.julia\\packages\\RData\\OT7M6\\src\\readers.jl:138\n",
      "┌ Warning: 0xd element in a 0x2 list, assuming it's the last element\n",
      "└ @ RData C:\\Users\\sandr\\.julia\\packages\\RData\\OT7M6\\src\\readers.jl:138\n",
      "┌ Warning: 0xd element in a 0x2 list, assuming it's the last element\n",
      "└ @ RData C:\\Users\\sandr\\.julia\\packages\\RData\\OT7M6\\src\\readers.jl:138\n",
      "┌ Warning: 0xd element in a 0x2 list, assuming it's the last element\n",
      "└ @ RData C:\\Users\\sandr\\.julia\\packages\\RData\\OT7M6\\src\\readers.jl:138\n",
      "┌ Warning: 0xd element in a 0x2 list, assuming it's the last element\n",
      "└ @ RData C:\\Users\\sandr\\.julia\\packages\\RData\\OT7M6\\src\\readers.jl:138\n",
      "┌ Warning: 0xd element in a 0x2 list, assuming it's the last element\n",
      "└ @ RData C:\\Users\\sandr\\.julia\\packages\\RData\\OT7M6\\src\\readers.jl:138\n",
      "┌ Warning: 0xd element in a 0x2 list, assuming it's the last element\n",
      "└ @ RData C:\\Users\\sandr\\.julia\\packages\\RData\\OT7M6\\src\\readers.jl:138\n",
      "┌ Warning: 0xd element in a 0x2 list, assuming it's the last element\n",
      "└ @ RData C:\\Users\\sandr\\.julia\\packages\\RData\\OT7M6\\src\\readers.jl:138\n",
      "┌ Warning: 0xd element in a 0x2 list, assuming it's the last element\n",
      "└ @ RData C:\\Users\\sandr\\.julia\\packages\\RData\\OT7M6\\src\\readers.jl:138\n",
      "┌ Warning: 0xd element in a 0x2 list, assuming it's the last element\n",
      "└ @ RData C:\\Users\\sandr\\.julia\\packages\\RData\\OT7M6\\src\\readers.jl:138\n",
      "┌ Warning: 0xd element in a 0x2 list, assuming it's the last element\n",
      "└ @ RData C:\\Users\\sandr\\.julia\\packages\\RData\\OT7M6\\src\\readers.jl:138\n",
      "┌ Warning: 0xd element in a 0x2 list, assuming it's the last element\n",
      "└ @ RData C:\\Users\\sandr\\.julia\\packages\\RData\\OT7M6\\src\\readers.jl:138\n",
      "┌ Warning: 0xd element in a 0x2 list, assuming it's the last element\n",
      "└ @ RData C:\\Users\\sandr\\.julia\\packages\\RData\\OT7M6\\src\\readers.jl:138\n",
      "┌ Warning: 0xd element in a 0x2 list, assuming it's the last element\n",
      "└ @ RData C:\\Users\\sandr\\.julia\\packages\\RData\\OT7M6\\src\\readers.jl:138\n",
      "┌ Warning: 0xd element in a 0x2 list, assuming it's the last element\n",
      "└ @ RData C:\\Users\\sandr\\.julia\\packages\\RData\\OT7M6\\src\\readers.jl:138\n",
      "┌ Warning: 0xd element in a 0x2 list, assuming it's the last element\n",
      "└ @ RData C:\\Users\\sandr\\.julia\\packages\\RData\\OT7M6\\src\\readers.jl:138\n",
      "┌ Warning: 0xd element in a 0x2 list, assuming it's the last element\n",
      "└ @ RData C:\\Users\\sandr\\.julia\\packages\\RData\\OT7M6\\src\\readers.jl:138\n",
      "┌ Warning: 0xd element in a 0x2 list, assuming it's the last element\n",
      "└ @ RData C:\\Users\\sandr\\.julia\\packages\\RData\\OT7M6\\src\\readers.jl:138\n",
      "┌ Warning: 0xd element in a 0x2 list, assuming it's the last element\n",
      "└ @ RData C:\\Users\\sandr\\.julia\\packages\\RData\\OT7M6\\src\\readers.jl:138\n",
      "┌ Warning: 0xd element in a 0x2 list, assuming it's the last element\n",
      "└ @ RData C:\\Users\\sandr\\.julia\\packages\\RData\\OT7M6\\src\\readers.jl:138\n",
      "┌ Warning: 0xd element in a 0x2 list, assuming it's the last element\n",
      "└ @ RData C:\\Users\\sandr\\.julia\\packages\\RData\\OT7M6\\src\\readers.jl:138\n",
      "┌ Warning: 0xd element in a 0x2 list, assuming it's the last element\n",
      "└ @ RData C:\\Users\\sandr\\.julia\\packages\\RData\\OT7M6\\src\\readers.jl:138\n",
      "┌ Warning: 0xd element in a 0x2 list, assuming it's the last element\n",
      "└ @ RData C:\\Users\\sandr\\.julia\\packages\\RData\\OT7M6\\src\\readers.jl:138\n",
      "┌ Warning: Unsupported AltRep SEXP variant (deferred_string)\n",
      "└ @ RData C:\\Users\\sandr\\.julia\\packages\\RData\\OT7M6\\src\\sxtypes.jl:355\n",
      "Error encountered while load FileIO.File{FileIO.DataFormat{:RData}, String}(\"../data/gun_clean.RData\").\n",
      "\n",
      "Fatal error:\n"
     ]
    },
    {
     "ename": "LoadError",
     "evalue": "MethodError: no method matching DictoVec(::Vector{Float64}, ::Nothing)\n\u001b[0mClosest candidates are:\n\u001b[0m  DictoVec(::AbstractVector{T}) where T at C:\\Users\\sandr\\.julia\\packages\\RData\\OT7M6\\src\\DictoVec.jl:11\n\u001b[0m  DictoVec(::AbstractVector{T}, \u001b[91m::AbstractVector{var\"#s21\"} where var\"#s21\"<:AbstractString\u001b[39m) where T at C:\\Users\\sandr\\.julia\\packages\\RData\\OT7M6\\src\\DictoVec.jl:11\nStacktrace:\n  [1] \u001b[0m\u001b[1msexp2julia\u001b[22m\u001b[0m\u001b[1m(\u001b[22m\u001b[90mrv\u001b[39m::\u001b[0mRData.RVector\u001b[90m{Float64, 0x0e}\u001b[39m\u001b[0m\u001b[1m)\u001b[22m\n\u001b[90m    @ \u001b[39m\u001b[35mRData\u001b[39m \u001b[90mC:\\Users\\sandr\\.julia\\packages\\RData\\OT7M6\\src\\\u001b[39m\u001b[90;4mconvert.jl:208\u001b[0m\n  [2] \u001b[0m\u001b[1msexp2julia\u001b[22m\u001b[0m\u001b[1m(\u001b[22m\u001b[90mar\u001b[39m::\u001b[0mRData.RAltRep\u001b[0m\u001b[1m)\u001b[22m\n\u001b[90m    @ \u001b[39m\u001b[35mRData\u001b[39m \u001b[90mC:\\Users\\sandr\\.julia\\packages\\RData\\OT7M6\\src\\\u001b[39m\u001b[90;4mconvert.jl:240\u001b[0m\n  [3] \u001b[0m\u001b[1msexp2julia\u001b[22m\u001b[0m\u001b[1m(\u001b[22m\u001b[90mrl\u001b[39m::\u001b[0mRData.RVector\u001b[90m{RData.RSEXPREC, 0x13}\u001b[39m\u001b[0m\u001b[1m)\u001b[22m\n\u001b[90m    @ \u001b[39m\u001b[35mRData\u001b[39m \u001b[90mC:\\Users\\sandr\\.julia\\packages\\RData\\OT7M6\\src\\\u001b[39m\u001b[90;4mconvert.jl:228\u001b[0m\n  [4] \u001b[0m\u001b[1mfileio_load\u001b[22m\u001b[0m\u001b[1m(\u001b[22m\u001b[90ms\u001b[39m::\u001b[0mFileIO.Stream\u001b[90m{FileIO.DataFormat{:RData}, TranscodingStreams.TranscodingStream{CodecZlib.GzipDecompressor, IOStream}, String}\u001b[39m; \u001b[90mkwoptions\u001b[39m::\u001b[0mBase.Iterators.Pairs\u001b[90m{Union{}, Union{}, Tuple{}, NamedTuple{(), Tuple{}}}\u001b[39m\u001b[0m\u001b[1m)\u001b[22m\n\u001b[90m    @ \u001b[39m\u001b[35mRData\u001b[39m \u001b[90mC:\\Users\\sandr\\.julia\\packages\\RData\\OT7M6\\src\\\u001b[39m\u001b[90;4mRData.jl:73\u001b[0m\n  [5] \u001b[0m\u001b[1mfileio_load\u001b[22m\u001b[0m\u001b[1m(\u001b[22m\u001b[90ms\u001b[39m::\u001b[0mFileIO.Stream\u001b[90m{FileIO.DataFormat{:RData}, TranscodingStreams.TranscodingStream{CodecZlib.GzipDecompressor, IOStream}, String}\u001b[39m\u001b[0m\u001b[1m)\u001b[22m\n\u001b[90m    @ \u001b[39m\u001b[35mRData\u001b[39m \u001b[90mC:\\Users\\sandr\\.julia\\packages\\RData\\OT7M6\\src\\\u001b[39m\u001b[90;4mRData.jl:52\u001b[0m\n  [6] \u001b[0m\u001b[1mfileio_load\u001b[22m\u001b[0m\u001b[1m(\u001b[22m\u001b[90mf\u001b[39m::\u001b[0mFileIO.File\u001b[90m{FileIO.DataFormat{:RData}, String}\u001b[39m; \u001b[90mkwoptions\u001b[39m::\u001b[0mBase.Iterators.Pairs\u001b[90m{Union{}, Union{}, Tuple{}, NamedTuple{(), Tuple{}}}\u001b[39m\u001b[0m\u001b[1m)\u001b[22m\n\u001b[90m    @ \u001b[39m\u001b[35mRData\u001b[39m \u001b[90mC:\\Users\\sandr\\.julia\\packages\\RData\\OT7M6\\src\\\u001b[39m\u001b[90;4mRData.jl:95\u001b[0m\n  [7] \u001b[0m\u001b[1mfileio_load\u001b[22m\u001b[0m\u001b[1m(\u001b[22m\u001b[90mf\u001b[39m::\u001b[0mFileIO.File\u001b[90m{FileIO.DataFormat{:RData}, String}\u001b[39m\u001b[0m\u001b[1m)\u001b[22m\n\u001b[90m    @ \u001b[39m\u001b[35mRData\u001b[39m \u001b[90mC:\\Users\\sandr\\.julia\\packages\\RData\\OT7M6\\src\\\u001b[39m\u001b[90;4mRData.jl:92\u001b[0m\n  [8] \u001b[0m\u001b[1m#invokelatest#2\u001b[22m\n\u001b[90m    @ \u001b[39m\u001b[90m.\\\u001b[39m\u001b[90;4messentials.jl:708\u001b[0m\u001b[90m [inlined]\u001b[39m\n  [9] \u001b[0m\u001b[1minvokelatest\u001b[22m\n\u001b[90m    @ \u001b[39m\u001b[90m.\\\u001b[39m\u001b[90;4messentials.jl:706\u001b[0m\u001b[90m [inlined]\u001b[39m\n [10] \u001b[0m\u001b[1maction\u001b[22m\u001b[0m\u001b[1m(\u001b[22m::\u001b[0mSymbol, ::\u001b[0mVector\u001b[90m{Union{Base.PkgId, Module}}\u001b[39m, ::\u001b[0mFileIO.Formatted; \u001b[90moptions\u001b[39m::\u001b[0mBase.Iterators.Pairs\u001b[90m{Union{}, Union{}, Tuple{}, NamedTuple{(), Tuple{}}}\u001b[39m\u001b[0m\u001b[1m)\u001b[22m\n\u001b[90m    @ \u001b[39m\u001b[36mFileIO\u001b[39m \u001b[90mC:\\Users\\sandr\\.julia\\packages\\FileIO\\u9YLx\\src\\\u001b[39m\u001b[90;4mloadsave.jl:219\u001b[0m\n [11] \u001b[0m\u001b[1maction\u001b[22m\n\u001b[90m    @ \u001b[39m\u001b[90mC:\\Users\\sandr\\.julia\\packages\\FileIO\\u9YLx\\src\\\u001b[39m\u001b[90;4mloadsave.jl:197\u001b[0m\u001b[90m [inlined]\u001b[39m\n [12] \u001b[0m\u001b[1maction\u001b[22m\u001b[0m\u001b[1m(\u001b[22m::\u001b[0mSymbol, ::\u001b[0mVector\u001b[90m{Union{Base.PkgId, Module}}\u001b[39m, ::\u001b[0mSymbol, ::\u001b[0mString; \u001b[90moptions\u001b[39m::\u001b[0mBase.Iterators.Pairs\u001b[90m{Union{}, Union{}, Tuple{}, NamedTuple{(), Tuple{}}}\u001b[39m\u001b[0m\u001b[1m)\u001b[22m\n\u001b[90m    @ \u001b[39m\u001b[36mFileIO\u001b[39m \u001b[90mC:\\Users\\sandr\\.julia\\packages\\FileIO\\u9YLx\\src\\\u001b[39m\u001b[90;4mloadsave.jl:185\u001b[0m\n [13] \u001b[0m\u001b[1maction\u001b[22m\n\u001b[90m    @ \u001b[39m\u001b[90mC:\\Users\\sandr\\.julia\\packages\\FileIO\\u9YLx\\src\\\u001b[39m\u001b[90;4mloadsave.jl:185\u001b[0m\u001b[90m [inlined]\u001b[39m\n [14] \u001b[0m\u001b[1mload\u001b[22m\u001b[0m\u001b[1m(\u001b[22m::\u001b[0mString; \u001b[90moptions\u001b[39m::\u001b[0mBase.Iterators.Pairs\u001b[90m{Union{}, Union{}, Tuple{}, NamedTuple{(), Tuple{}}}\u001b[39m\u001b[0m\u001b[1m)\u001b[22m\n\u001b[90m    @ \u001b[39m\u001b[36mFileIO\u001b[39m \u001b[90mC:\\Users\\sandr\\.julia\\packages\\FileIO\\u9YLx\\src\\\u001b[39m\u001b[90;4mloadsave.jl:113\u001b[0m\n [15] \u001b[0m\u001b[1mload\u001b[22m\u001b[0m\u001b[1m(\u001b[22m::\u001b[0mString\u001b[0m\u001b[1m)\u001b[22m\n\u001b[90m    @ \u001b[39m\u001b[36mFileIO\u001b[39m \u001b[90mC:\\Users\\sandr\\.julia\\packages\\FileIO\\u9YLx\\src\\\u001b[39m\u001b[90;4mloadsave.jl:110\u001b[0m\n [16] top-level scope\n\u001b[90m    @ \u001b[39m\u001b[90;4mIn[223]:2\u001b[0m",
     "output_type": "error",
     "traceback": [
      "MethodError: no method matching DictoVec(::Vector{Float64}, ::Nothing)\n\u001b[0mClosest candidates are:\n\u001b[0m  DictoVec(::AbstractVector{T}) where T at C:\\Users\\sandr\\.julia\\packages\\RData\\OT7M6\\src\\DictoVec.jl:11\n\u001b[0m  DictoVec(::AbstractVector{T}, \u001b[91m::AbstractVector{var\"#s21\"} where var\"#s21\"<:AbstractString\u001b[39m) where T at C:\\Users\\sandr\\.julia\\packages\\RData\\OT7M6\\src\\DictoVec.jl:11\nStacktrace:\n  [1] \u001b[0m\u001b[1msexp2julia\u001b[22m\u001b[0m\u001b[1m(\u001b[22m\u001b[90mrv\u001b[39m::\u001b[0mRData.RVector\u001b[90m{Float64, 0x0e}\u001b[39m\u001b[0m\u001b[1m)\u001b[22m\n\u001b[90m    @ \u001b[39m\u001b[35mRData\u001b[39m \u001b[90mC:\\Users\\sandr\\.julia\\packages\\RData\\OT7M6\\src\\\u001b[39m\u001b[90;4mconvert.jl:208\u001b[0m\n  [2] \u001b[0m\u001b[1msexp2julia\u001b[22m\u001b[0m\u001b[1m(\u001b[22m\u001b[90mar\u001b[39m::\u001b[0mRData.RAltRep\u001b[0m\u001b[1m)\u001b[22m\n\u001b[90m    @ \u001b[39m\u001b[35mRData\u001b[39m \u001b[90mC:\\Users\\sandr\\.julia\\packages\\RData\\OT7M6\\src\\\u001b[39m\u001b[90;4mconvert.jl:240\u001b[0m\n  [3] \u001b[0m\u001b[1msexp2julia\u001b[22m\u001b[0m\u001b[1m(\u001b[22m\u001b[90mrl\u001b[39m::\u001b[0mRData.RVector\u001b[90m{RData.RSEXPREC, 0x13}\u001b[39m\u001b[0m\u001b[1m)\u001b[22m\n\u001b[90m    @ \u001b[39m\u001b[35mRData\u001b[39m \u001b[90mC:\\Users\\sandr\\.julia\\packages\\RData\\OT7M6\\src\\\u001b[39m\u001b[90;4mconvert.jl:228\u001b[0m\n  [4] \u001b[0m\u001b[1mfileio_load\u001b[22m\u001b[0m\u001b[1m(\u001b[22m\u001b[90ms\u001b[39m::\u001b[0mFileIO.Stream\u001b[90m{FileIO.DataFormat{:RData}, TranscodingStreams.TranscodingStream{CodecZlib.GzipDecompressor, IOStream}, String}\u001b[39m; \u001b[90mkwoptions\u001b[39m::\u001b[0mBase.Iterators.Pairs\u001b[90m{Union{}, Union{}, Tuple{}, NamedTuple{(), Tuple{}}}\u001b[39m\u001b[0m\u001b[1m)\u001b[22m\n\u001b[90m    @ \u001b[39m\u001b[35mRData\u001b[39m \u001b[90mC:\\Users\\sandr\\.julia\\packages\\RData\\OT7M6\\src\\\u001b[39m\u001b[90;4mRData.jl:73\u001b[0m\n  [5] \u001b[0m\u001b[1mfileio_load\u001b[22m\u001b[0m\u001b[1m(\u001b[22m\u001b[90ms\u001b[39m::\u001b[0mFileIO.Stream\u001b[90m{FileIO.DataFormat{:RData}, TranscodingStreams.TranscodingStream{CodecZlib.GzipDecompressor, IOStream}, String}\u001b[39m\u001b[0m\u001b[1m)\u001b[22m\n\u001b[90m    @ \u001b[39m\u001b[35mRData\u001b[39m \u001b[90mC:\\Users\\sandr\\.julia\\packages\\RData\\OT7M6\\src\\\u001b[39m\u001b[90;4mRData.jl:52\u001b[0m\n  [6] \u001b[0m\u001b[1mfileio_load\u001b[22m\u001b[0m\u001b[1m(\u001b[22m\u001b[90mf\u001b[39m::\u001b[0mFileIO.File\u001b[90m{FileIO.DataFormat{:RData}, String}\u001b[39m; \u001b[90mkwoptions\u001b[39m::\u001b[0mBase.Iterators.Pairs\u001b[90m{Union{}, Union{}, Tuple{}, NamedTuple{(), Tuple{}}}\u001b[39m\u001b[0m\u001b[1m)\u001b[22m\n\u001b[90m    @ \u001b[39m\u001b[35mRData\u001b[39m \u001b[90mC:\\Users\\sandr\\.julia\\packages\\RData\\OT7M6\\src\\\u001b[39m\u001b[90;4mRData.jl:95\u001b[0m\n  [7] \u001b[0m\u001b[1mfileio_load\u001b[22m\u001b[0m\u001b[1m(\u001b[22m\u001b[90mf\u001b[39m::\u001b[0mFileIO.File\u001b[90m{FileIO.DataFormat{:RData}, String}\u001b[39m\u001b[0m\u001b[1m)\u001b[22m\n\u001b[90m    @ \u001b[39m\u001b[35mRData\u001b[39m \u001b[90mC:\\Users\\sandr\\.julia\\packages\\RData\\OT7M6\\src\\\u001b[39m\u001b[90;4mRData.jl:92\u001b[0m\n  [8] \u001b[0m\u001b[1m#invokelatest#2\u001b[22m\n\u001b[90m    @ \u001b[39m\u001b[90m.\\\u001b[39m\u001b[90;4messentials.jl:708\u001b[0m\u001b[90m [inlined]\u001b[39m\n  [9] \u001b[0m\u001b[1minvokelatest\u001b[22m\n\u001b[90m    @ \u001b[39m\u001b[90m.\\\u001b[39m\u001b[90;4messentials.jl:706\u001b[0m\u001b[90m [inlined]\u001b[39m\n [10] \u001b[0m\u001b[1maction\u001b[22m\u001b[0m\u001b[1m(\u001b[22m::\u001b[0mSymbol, ::\u001b[0mVector\u001b[90m{Union{Base.PkgId, Module}}\u001b[39m, ::\u001b[0mFileIO.Formatted; \u001b[90moptions\u001b[39m::\u001b[0mBase.Iterators.Pairs\u001b[90m{Union{}, Union{}, Tuple{}, NamedTuple{(), Tuple{}}}\u001b[39m\u001b[0m\u001b[1m)\u001b[22m\n\u001b[90m    @ \u001b[39m\u001b[36mFileIO\u001b[39m \u001b[90mC:\\Users\\sandr\\.julia\\packages\\FileIO\\u9YLx\\src\\\u001b[39m\u001b[90;4mloadsave.jl:219\u001b[0m\n [11] \u001b[0m\u001b[1maction\u001b[22m\n\u001b[90m    @ \u001b[39m\u001b[90mC:\\Users\\sandr\\.julia\\packages\\FileIO\\u9YLx\\src\\\u001b[39m\u001b[90;4mloadsave.jl:197\u001b[0m\u001b[90m [inlined]\u001b[39m\n [12] \u001b[0m\u001b[1maction\u001b[22m\u001b[0m\u001b[1m(\u001b[22m::\u001b[0mSymbol, ::\u001b[0mVector\u001b[90m{Union{Base.PkgId, Module}}\u001b[39m, ::\u001b[0mSymbol, ::\u001b[0mString; \u001b[90moptions\u001b[39m::\u001b[0mBase.Iterators.Pairs\u001b[90m{Union{}, Union{}, Tuple{}, NamedTuple{(), Tuple{}}}\u001b[39m\u001b[0m\u001b[1m)\u001b[22m\n\u001b[90m    @ \u001b[39m\u001b[36mFileIO\u001b[39m \u001b[90mC:\\Users\\sandr\\.julia\\packages\\FileIO\\u9YLx\\src\\\u001b[39m\u001b[90;4mloadsave.jl:185\u001b[0m\n [13] \u001b[0m\u001b[1maction\u001b[22m\n\u001b[90m    @ \u001b[39m\u001b[90mC:\\Users\\sandr\\.julia\\packages\\FileIO\\u9YLx\\src\\\u001b[39m\u001b[90;4mloadsave.jl:185\u001b[0m\u001b[90m [inlined]\u001b[39m\n [14] \u001b[0m\u001b[1mload\u001b[22m\u001b[0m\u001b[1m(\u001b[22m::\u001b[0mString; \u001b[90moptions\u001b[39m::\u001b[0mBase.Iterators.Pairs\u001b[90m{Union{}, Union{}, Tuple{}, NamedTuple{(), Tuple{}}}\u001b[39m\u001b[0m\u001b[1m)\u001b[22m\n\u001b[90m    @ \u001b[39m\u001b[36mFileIO\u001b[39m \u001b[90mC:\\Users\\sandr\\.julia\\packages\\FileIO\\u9YLx\\src\\\u001b[39m\u001b[90;4mloadsave.jl:113\u001b[0m\n [15] \u001b[0m\u001b[1mload\u001b[22m\u001b[0m\u001b[1m(\u001b[22m::\u001b[0mString\u001b[0m\u001b[1m)\u001b[22m\n\u001b[90m    @ \u001b[39m\u001b[36mFileIO\u001b[39m \u001b[90mC:\\Users\\sandr\\.julia\\packages\\FileIO\\u9YLx\\src\\\u001b[39m\u001b[90;4mloadsave.jl:110\u001b[0m\n [16] top-level scope\n\u001b[90m    @ \u001b[39m\u001b[90;4mIn[223]:2\u001b[0m",
      "",
      "Stacktrace:",
      "  [1] handle_error(e::MethodError, q::Base.PkgId, bt::Vector{Union{Ptr{Nothing}, Base.InterpreterIP}})",
      "    @ FileIO C:\\Users\\sandr\\.julia\\packages\\FileIO\\u9YLx\\src\\error_handling.jl:61",
      "  [2] handle_exceptions(exceptions::Vector{Tuple{Any, Union{Base.PkgId, Module}, Vector{T} where T}}, action::String)",
      "    @ FileIO C:\\Users\\sandr\\.julia\\packages\\FileIO\\u9YLx\\src\\error_handling.jl:56",
      "  [3] action(::Symbol, ::Vector{Union{Base.PkgId, Module}}, ::FileIO.Formatted; options::Base.Iterators.Pairs{Union{}, Union{}, Tuple{}, NamedTuple{(), Tuple{}}})",
      "    @ FileIO C:\\Users\\sandr\\.julia\\packages\\FileIO\\u9YLx\\src\\loadsave.jl:228",
      "  [4] action",
      "    @ C:\\Users\\sandr\\.julia\\packages\\FileIO\\u9YLx\\src\\loadsave.jl:197 [inlined]",
      "  [5] action(::Symbol, ::Vector{Union{Base.PkgId, Module}}, ::Symbol, ::String; options::Base.Iterators.Pairs{Union{}, Union{}, Tuple{}, NamedTuple{(), Tuple{}}})",
      "    @ FileIO C:\\Users\\sandr\\.julia\\packages\\FileIO\\u9YLx\\src\\loadsave.jl:185",
      "  [6] action",
      "    @ C:\\Users\\sandr\\.julia\\packages\\FileIO\\u9YLx\\src\\loadsave.jl:185 [inlined]",
      "  [7] load(::String; options::Base.Iterators.Pairs{Union{}, Union{}, Tuple{}, NamedTuple{(), Tuple{}}})",
      "    @ FileIO C:\\Users\\sandr\\.julia\\packages\\FileIO\\u9YLx\\src\\loadsave.jl:113",
      "  [8] load(::String)",
      "    @ FileIO C:\\Users\\sandr\\.julia\\packages\\FileIO\\u9YLx\\src\\loadsave.jl:110",
      "  [9] top-level scope",
      "    @ In[223]:2",
      " [10] eval",
      "    @ .\\boot.jl:360 [inlined]",
      " [11] include_string(mapexpr::typeof(REPL.softscope), mod::Module, code::String, filename::String)",
      "    @ Base .\\loading.jl:1116"
     ]
    }
   ],
   "source": [
    "# load dataset\n",
    "rdata_read = load(\"../data/gun_clean.RData\")"
   ]
  },
  {
   "cell_type": "code",
   "execution_count": 203,
   "id": "2b90ea48",
   "metadata": {},
   "outputs": [
    {
     "data": {
      "text/html": [
       "<div class=\"data-frame\"><p>3,900 rows × 1 columns</p><table class=\"data-frame\"><thead><tr><th></th><th>CountyCode</th></tr><tr><th></th><th title=\"Int64\">Int64</th></tr></thead><tbody><tr><th>1</th><td>1073</td></tr><tr><th>2</th><td>1073</td></tr><tr><th>3</th><td>1073</td></tr><tr><th>4</th><td>1073</td></tr><tr><th>5</th><td>1073</td></tr><tr><th>6</th><td>1073</td></tr><tr><th>7</th><td>1073</td></tr><tr><th>8</th><td>1073</td></tr><tr><th>9</th><td>1073</td></tr><tr><th>10</th><td>1073</td></tr><tr><th>11</th><td>1073</td></tr><tr><th>12</th><td>1073</td></tr><tr><th>13</th><td>1073</td></tr><tr><th>14</th><td>1073</td></tr><tr><th>15</th><td>1073</td></tr><tr><th>16</th><td>1073</td></tr><tr><th>17</th><td>1073</td></tr><tr><th>18</th><td>1073</td></tr><tr><th>19</th><td>1073</td></tr><tr><th>20</th><td>1073</td></tr><tr><th>21</th><td>1097</td></tr><tr><th>22</th><td>1097</td></tr><tr><th>23</th><td>1097</td></tr><tr><th>24</th><td>1097</td></tr><tr><th>25</th><td>1097</td></tr><tr><th>26</th><td>1097</td></tr><tr><th>27</th><td>1097</td></tr><tr><th>28</th><td>1097</td></tr><tr><th>29</th><td>1097</td></tr><tr><th>30</th><td>1097</td></tr><tr><th>&vellip;</th><td>&vellip;</td></tr></tbody></table></div>"
      ],
      "text/latex": [
       "\\begin{tabular}{r|c}\n",
       "\t& CountyCode\\\\\n",
       "\t\\hline\n",
       "\t& Int64\\\\\n",
       "\t\\hline\n",
       "\t1 & 1073 \\\\\n",
       "\t2 & 1073 \\\\\n",
       "\t3 & 1073 \\\\\n",
       "\t4 & 1073 \\\\\n",
       "\t5 & 1073 \\\\\n",
       "\t6 & 1073 \\\\\n",
       "\t7 & 1073 \\\\\n",
       "\t8 & 1073 \\\\\n",
       "\t9 & 1073 \\\\\n",
       "\t10 & 1073 \\\\\n",
       "\t11 & 1073 \\\\\n",
       "\t12 & 1073 \\\\\n",
       "\t13 & 1073 \\\\\n",
       "\t14 & 1073 \\\\\n",
       "\t15 & 1073 \\\\\n",
       "\t16 & 1073 \\\\\n",
       "\t17 & 1073 \\\\\n",
       "\t18 & 1073 \\\\\n",
       "\t19 & 1073 \\\\\n",
       "\t20 & 1073 \\\\\n",
       "\t21 & 1097 \\\\\n",
       "\t22 & 1097 \\\\\n",
       "\t23 & 1097 \\\\\n",
       "\t24 & 1097 \\\\\n",
       "\t25 & 1097 \\\\\n",
       "\t26 & 1097 \\\\\n",
       "\t27 & 1097 \\\\\n",
       "\t28 & 1097 \\\\\n",
       "\t29 & 1097 \\\\\n",
       "\t30 & 1097 \\\\\n",
       "\t$\\dots$ & $\\dots$ \\\\\n",
       "\\end{tabular}\n"
      ],
      "text/plain": [
       "\u001b[1m3900×1 DataFrame\u001b[0m\n",
       "\u001b[1m  Row \u001b[0m│\u001b[1m CountyCode \u001b[0m\n",
       "\u001b[1m      \u001b[0m│\u001b[90m Int64      \u001b[0m\n",
       "──────┼────────────\n",
       "    1 │       1073\n",
       "    2 │       1073\n",
       "    3 │       1073\n",
       "    4 │       1073\n",
       "    5 │       1073\n",
       "    6 │       1073\n",
       "    7 │       1073\n",
       "    8 │       1073\n",
       "    9 │       1073\n",
       "   10 │       1073\n",
       "   11 │       1073\n",
       "  ⋮   │     ⋮\n",
       " 3891 │      55133\n",
       " 3892 │      55133\n",
       " 3893 │      55133\n",
       " 3894 │      55133\n",
       " 3895 │      55133\n",
       " 3896 │      55133\n",
       " 3897 │      55133\n",
       " 3898 │      55133\n",
       " 3899 │      55133\n",
       " 3900 │      55133\n",
       "\u001b[36m  3879 rows omitted\u001b[0m"
      ]
     },
     "execution_count": 203,
     "metadata": {},
     "output_type": "execute_result"
    }
   ],
   "source": [
    "data = rdata_read[ 'data' ]\n",
    "n = data.shape[0]"
   ]
  },
  {
   "cell_type": "code",
   "execution_count": 211,
   "id": "b88041dc",
   "metadata": {
    "execution": {
     "iopub.execute_input": "2021-02-13T17:30:14.549368Z",
     "iopub.status.busy": "2021-02-13T17:30:14.504714Z",
     "iopub.status.idle": "2021-02-13T17:30:38.894116Z",
     "shell.execute_reply": "2021-02-13T17:30:38.893545Z"
    },
    "papermill": {
     "duration": 24.410531,
     "end_time": "2021-02-13T17:30:38.894264",
     "exception": false,
     "start_time": "2021-02-13T17:30:14.483733",
     "status": "completed"
    },
    "tags": []
   },
   "outputs": [],
   "source": [
    "# Partial out Variables in varlist from year and county fixed effect\n",
    "for i in 1:size(varlist, 1)\n",
    "    append!(form, [term.(varlist[i]) ~ sum(term.(vcat(year, fixed)))])\n",
    "#     rdata[!, i] = lm(term.(varlist[i]) ~ sum(term.(vcat(year, fixed))), data, dropcollinear=false)\n",
    "    rdata[!, varlist[i]] = residuals(lm(form[i], data))\n",
    "end"
   ]
  },
  {
   "cell_type": "code",
   "execution_count": 212,
   "id": "7772e21a",
   "metadata": {
    "execution": {
     "iopub.execute_input": "2021-02-13T17:30:14.549368Z",
     "iopub.status.busy": "2021-02-13T17:30:14.504714Z",
     "iopub.status.idle": "2021-02-13T17:30:38.894116Z",
     "shell.execute_reply": "2021-02-13T17:30:38.893545Z"
    },
    "papermill": {
     "duration": 24.410531,
     "end_time": "2021-02-13T17:30:38.894264",
     "exception": false,
     "start_time": "2021-02-13T17:30:14.483733",
     "status": "completed"
    },
    "tags": []
   },
   "outputs": [
    {
     "data": {
      "text/html": [
       "<div class=\"data-frame\"><p>3,900 rows × 198 columns (omitted printing of 191 columns)</p><table class=\"data-frame\"><thead><tr><th></th><th>CountyCode</th><th>logghomr</th><th>logfssl</th><th>logrobr</th><th>logburg</th><th>burg_missing</th><th>robrate_missing</th></tr><tr><th></th><th title=\"Int64\">Int64</th><th title=\"Float64\">Float64</th><th title=\"Float64\">Float64</th><th title=\"Float64\">Float64</th><th title=\"Float64\">Float64</th><th title=\"Float64\">Float64</th><th title=\"Float64\">Float64</th></tr></thead><tbody><tr><th>1</th><td>1073</td><td>-0.134778</td><td>-0.134778</td><td>0.0961271</td><td>0.150893</td><td>-0.124395</td><td>0.0104613</td></tr><tr><th>2</th><td>1073</td><td>-0.239622</td><td>-0.239622</td><td>0.0808094</td><td>0.0401683</td><td>-0.134781</td><td>0.0104613</td></tr><tr><th>3</th><td>1073</td><td>-0.0786772</td><td>-0.0786772</td><td>0.0573399</td><td>-0.017679</td><td>-0.167909</td><td>0.0104613</td></tr><tr><th>4</th><td>1073</td><td>-0.331465</td><td>-0.331465</td><td>0.0816945</td><td>-0.00963344</td><td>-0.22925</td><td>0.0104613</td></tr><tr><th>5</th><td>1073</td><td>-0.31664</td><td>-0.31664</td><td>0.0253655</td><td>-0.0267151</td><td>-0.176635</td><td>0.00324793</td></tr><tr><th>6</th><td>1073</td><td>0.105132</td><td>0.105132</td><td>-0.00677726</td><td>-0.151487</td><td>-0.189069</td><td>0.0104613</td></tr><tr><th>7</th><td>1073</td><td>-0.0373401</td><td>-0.0373401</td><td>0.0773061</td><td>-0.166729</td><td>-0.117739</td><td>0.0104613</td></tr><tr><th>8</th><td>1073</td><td>-0.0520609</td><td>-0.0520609</td><td>-0.108433</td><td>-0.0996453</td><td>-0.0833094</td><td>0.00448964</td></tr><tr><th>9</th><td>1073</td><td>0.0547007</td><td>0.0547007</td><td>-0.0340988</td><td>0.151557</td><td>0.319282</td><td>-0.0448348</td></tr><tr><th>10</th><td>1073</td><td>0.122094</td><td>0.122094</td><td>-0.0824292</td><td>0.0476034</td><td>-0.0144728</td><td>-0.00233214</td></tr><tr><th>11</th><td>1073</td><td>0.110314</td><td>0.110314</td><td>-0.0243444</td><td>0.00814297</td><td>-0.0349694</td><td>0.0104613</td></tr><tr><th>12</th><td>1073</td><td>0.256268</td><td>0.256268</td><td>0.0634195</td><td>-0.0811847</td><td>0.0441466</td><td>0.00848568</td></tr><tr><th>13</th><td>1073</td><td>0.079057</td><td>0.079057</td><td>0.00661864</td><td>-0.153504</td><td>0.393015</td><td>-0.0484441</td></tr><tr><th>14</th><td>1073</td><td>-0.0133902</td><td>-0.0133902</td><td>-0.0132008</td><td>-0.148069</td><td>-0.0146316</td><td>0.00886135</td></tr><tr><th>15</th><td>1073</td><td>0.0277005</td><td>0.0277005</td><td>-0.0806736</td><td>0.0247091</td><td>0.0531618</td><td>0.00677168</td></tr><tr><th>16</th><td>1073</td><td>0.0707179</td><td>0.0707179</td><td>-0.104579</td><td>0.235093</td><td>0.178299</td><td>-0.00374318</td></tr><tr><th>17</th><td>1073</td><td>0.22407</td><td>0.22407</td><td>0.0292543</td><td>0.294984</td><td>0.146047</td><td>-0.00460173</td></tr><tr><th>18</th><td>1073</td><td>0.154477</td><td>0.154477</td><td>-0.0506763</td><td>0.0237644</td><td>0.0162414</td><td>0.00588019</td></tr><tr><th>19</th><td>1073</td><td>0.0420251</td><td>0.0420251</td><td>-0.00620195</td><td>-0.116843</td><td>-0.0173146</td><td>0.00543154</td></tr><tr><th>20</th><td>1073</td><td>-0.0425827</td><td>-0.0425827</td><td>-0.00652045</td><td>-0.00542654</td><td>0.154285</td><td>-0.0124411</td></tr><tr><th>21</th><td>1097</td><td>0.267062</td><td>0.267062</td><td>0.0433706</td><td>0.106903</td><td>-0.117615</td><td>0.00797198</td></tr><tr><th>22</th><td>1097</td><td>0.286461</td><td>0.286461</td><td>0.115747</td><td>0.0906478</td><td>-0.0953381</td><td>0.00797198</td></tr><tr><th>23</th><td>1097</td><td>0.0824029</td><td>0.0824029</td><td>-0.0144649</td><td>0.0844482</td><td>-0.115481</td><td>0.00797198</td></tr><tr><th>24</th><td>1097</td><td>-0.248465</td><td>-0.248465</td><td>0.0497808</td><td>0.0297359</td><td>-0.187202</td><td>0.00797198</td></tr><tr><th>25</th><td>1097</td><td>-0.0636725</td><td>-0.0636725</td><td>0.0128667</td><td>-0.0270093</td><td>-0.187794</td><td>0.00247507</td></tr><tr><th>26</th><td>1097</td><td>-0.284223</td><td>-0.284223</td><td>0.0837605</td><td>-0.220044</td><td>-0.148477</td><td>0.00797198</td></tr><tr><th>27</th><td>1097</td><td>-0.143405</td><td>-0.143405</td><td>-0.0139795</td><td>-0.2442</td><td>-0.0289042</td><td>0.00797198</td></tr><tr><th>28</th><td>1097</td><td>-0.217032</td><td>-0.217032</td><td>0.02018</td><td>-0.217045</td><td>0.127496</td><td>0.00342131</td></tr><tr><th>29</th><td>1097</td><td>0.139978</td><td>0.139978</td><td>0.0450422</td><td>0.10424</td><td>0.393619</td><td>-0.0341662</td></tr><tr><th>30</th><td>1097</td><td>-0.0775231</td><td>-0.0775231</td><td>-0.077206</td><td>-0.172381</td><td>-0.00919521</td><td>-0.0017772</td></tr><tr><th>&vellip;</th><td>&vellip;</td><td>&vellip;</td><td>&vellip;</td><td>&vellip;</td><td>&vellip;</td><td>&vellip;</td><td>&vellip;</td></tr></tbody></table></div>"
      ],
      "text/latex": [
       "\\begin{tabular}{r|cccccccc}\n",
       "\t& CountyCode & logghomr & logfssl & logrobr & logburg & burg\\_missing & robrate\\_missing & \\\\\n",
       "\t\\hline\n",
       "\t& Int64 & Float64 & Float64 & Float64 & Float64 & Float64 & Float64 & \\\\\n",
       "\t\\hline\n",
       "\t1 & 1073 & -0.134778 & -0.134778 & 0.0961271 & 0.150893 & -0.124395 & 0.0104613 & $\\dots$ \\\\\n",
       "\t2 & 1073 & -0.239622 & -0.239622 & 0.0808094 & 0.0401683 & -0.134781 & 0.0104613 & $\\dots$ \\\\\n",
       "\t3 & 1073 & -0.0786772 & -0.0786772 & 0.0573399 & -0.017679 & -0.167909 & 0.0104613 & $\\dots$ \\\\\n",
       "\t4 & 1073 & -0.331465 & -0.331465 & 0.0816945 & -0.00963344 & -0.22925 & 0.0104613 & $\\dots$ \\\\\n",
       "\t5 & 1073 & -0.31664 & -0.31664 & 0.0253655 & -0.0267151 & -0.176635 & 0.00324793 & $\\dots$ \\\\\n",
       "\t6 & 1073 & 0.105132 & 0.105132 & -0.00677726 & -0.151487 & -0.189069 & 0.0104613 & $\\dots$ \\\\\n",
       "\t7 & 1073 & -0.0373401 & -0.0373401 & 0.0773061 & -0.166729 & -0.117739 & 0.0104613 & $\\dots$ \\\\\n",
       "\t8 & 1073 & -0.0520609 & -0.0520609 & -0.108433 & -0.0996453 & -0.0833094 & 0.00448964 & $\\dots$ \\\\\n",
       "\t9 & 1073 & 0.0547007 & 0.0547007 & -0.0340988 & 0.151557 & 0.319282 & -0.0448348 & $\\dots$ \\\\\n",
       "\t10 & 1073 & 0.122094 & 0.122094 & -0.0824292 & 0.0476034 & -0.0144728 & -0.00233214 & $\\dots$ \\\\\n",
       "\t11 & 1073 & 0.110314 & 0.110314 & -0.0243444 & 0.00814297 & -0.0349694 & 0.0104613 & $\\dots$ \\\\\n",
       "\t12 & 1073 & 0.256268 & 0.256268 & 0.0634195 & -0.0811847 & 0.0441466 & 0.00848568 & $\\dots$ \\\\\n",
       "\t13 & 1073 & 0.079057 & 0.079057 & 0.00661864 & -0.153504 & 0.393015 & -0.0484441 & $\\dots$ \\\\\n",
       "\t14 & 1073 & -0.0133902 & -0.0133902 & -0.0132008 & -0.148069 & -0.0146316 & 0.00886135 & $\\dots$ \\\\\n",
       "\t15 & 1073 & 0.0277005 & 0.0277005 & -0.0806736 & 0.0247091 & 0.0531618 & 0.00677168 & $\\dots$ \\\\\n",
       "\t16 & 1073 & 0.0707179 & 0.0707179 & -0.104579 & 0.235093 & 0.178299 & -0.00374318 & $\\dots$ \\\\\n",
       "\t17 & 1073 & 0.22407 & 0.22407 & 0.0292543 & 0.294984 & 0.146047 & -0.00460173 & $\\dots$ \\\\\n",
       "\t18 & 1073 & 0.154477 & 0.154477 & -0.0506763 & 0.0237644 & 0.0162414 & 0.00588019 & $\\dots$ \\\\\n",
       "\t19 & 1073 & 0.0420251 & 0.0420251 & -0.00620195 & -0.116843 & -0.0173146 & 0.00543154 & $\\dots$ \\\\\n",
       "\t20 & 1073 & -0.0425827 & -0.0425827 & -0.00652045 & -0.00542654 & 0.154285 & -0.0124411 & $\\dots$ \\\\\n",
       "\t21 & 1097 & 0.267062 & 0.267062 & 0.0433706 & 0.106903 & -0.117615 & 0.00797198 & $\\dots$ \\\\\n",
       "\t22 & 1097 & 0.286461 & 0.286461 & 0.115747 & 0.0906478 & -0.0953381 & 0.00797198 & $\\dots$ \\\\\n",
       "\t23 & 1097 & 0.0824029 & 0.0824029 & -0.0144649 & 0.0844482 & -0.115481 & 0.00797198 & $\\dots$ \\\\\n",
       "\t24 & 1097 & -0.248465 & -0.248465 & 0.0497808 & 0.0297359 & -0.187202 & 0.00797198 & $\\dots$ \\\\\n",
       "\t25 & 1097 & -0.0636725 & -0.0636725 & 0.0128667 & -0.0270093 & -0.187794 & 0.00247507 & $\\dots$ \\\\\n",
       "\t26 & 1097 & -0.284223 & -0.284223 & 0.0837605 & -0.220044 & -0.148477 & 0.00797198 & $\\dots$ \\\\\n",
       "\t27 & 1097 & -0.143405 & -0.143405 & -0.0139795 & -0.2442 & -0.0289042 & 0.00797198 & $\\dots$ \\\\\n",
       "\t28 & 1097 & -0.217032 & -0.217032 & 0.02018 & -0.217045 & 0.127496 & 0.00342131 & $\\dots$ \\\\\n",
       "\t29 & 1097 & 0.139978 & 0.139978 & 0.0450422 & 0.10424 & 0.393619 & -0.0341662 & $\\dots$ \\\\\n",
       "\t30 & 1097 & -0.0775231 & -0.0775231 & -0.077206 & -0.172381 & -0.00919521 & -0.0017772 & $\\dots$ \\\\\n",
       "\t$\\dots$ & $\\dots$ & $\\dots$ & $\\dots$ & $\\dots$ & $\\dots$ & $\\dots$ & $\\dots$ &  \\\\\n",
       "\\end{tabular}\n"
      ],
      "text/plain": [
       "\u001b[1m3900×198 DataFrame\u001b[0m\n",
       "\u001b[1m  Row \u001b[0m│\u001b[1m CountyCode \u001b[0m\u001b[1m logghomr   \u001b[0m\u001b[1m logfssl    \u001b[0m\u001b[1m logrobr     \u001b[0m\u001b[1m logburg     \u001b[0m\u001b[1m burg_mis\u001b[0m ⋯\n",
       "\u001b[1m      \u001b[0m│\u001b[90m Int64      \u001b[0m\u001b[90m Float64    \u001b[0m\u001b[90m Float64    \u001b[0m\u001b[90m Float64     \u001b[0m\u001b[90m Float64     \u001b[0m\u001b[90m Float64 \u001b[0m ⋯\n",
       "──────┼─────────────────────────────────────────────────────────────────────────\n",
       "    1 │       1073  -0.134778   -0.134778    0.0961271    0.150893     -0.1243 ⋯\n",
       "    2 │       1073  -0.239622   -0.239622    0.0808094    0.0401683    -0.1347\n",
       "    3 │       1073  -0.0786772  -0.0786772   0.0573399   -0.017679     -0.1679\n",
       "    4 │       1073  -0.331465   -0.331465    0.0816945   -0.00963344   -0.2292\n",
       "    5 │       1073  -0.31664    -0.31664     0.0253655   -0.0267151    -0.1766 ⋯\n",
       "    6 │       1073   0.105132    0.105132   -0.00677726  -0.151487     -0.1890\n",
       "    7 │       1073  -0.0373401  -0.0373401   0.0773061   -0.166729     -0.1177\n",
       "    8 │       1073  -0.0520609  -0.0520609  -0.108433    -0.0996453    -0.0833\n",
       "    9 │       1073   0.0547007   0.0547007  -0.0340988    0.151557      0.3192 ⋯\n",
       "   10 │       1073   0.122094    0.122094   -0.0824292    0.0476034    -0.0144\n",
       "   11 │       1073   0.110314    0.110314   -0.0243444    0.00814297   -0.0349\n",
       "  ⋮   │     ⋮           ⋮           ⋮            ⋮            ⋮            ⋮   ⋱\n",
       " 3891 │      55133  -0.54942    -0.54942    -0.00681523   0.0786474     0.1345\n",
       " 3892 │      55133  -0.660408   -0.660408    0.135748     0.0561803     0.1345 ⋯\n",
       " 3893 │      55133  -0.676525   -0.676525   -0.0223923    0.209323      0.3901\n",
       " 3894 │      55133  -0.697525   -0.697525    0.0405164   -0.0858534     0.1575\n",
       " 3895 │      55133  -0.0384095  -0.0384095  -0.058838    -0.0983204     0.1267\n",
       " 3896 │      55133   0.0280962   0.0280962   0.0407888    0.0182247     0.1077 ⋯\n",
       " 3897 │      55133   0.0801447   0.0801447   0.208251     0.251402      0.1513\n",
       " 3898 │      55133   0.497987    0.497987    0.177444     0.179985      0.1164\n",
       " 3899 │      55133   0.568542    0.568542   -0.0971269   -1.3754       -3.0222\n",
       " 3900 │      55133   0.609022    0.609022    0.274062     0.336788      0.1718 ⋯\n",
       "\u001b[36m                                               193 columns and 3879 rows omitted\u001b[0m"
      ]
     },
     "execution_count": 212,
     "metadata": {},
     "output_type": "execute_result"
    }
   ],
   "source": [
    "rdata"
   ]
  },
  {
   "cell_type": "code",
   "execution_count": 205,
   "id": "10ef4f5f",
   "metadata": {},
   "outputs": [
    {
     "data": {
      "text/plain": [
       "Any[]"
      ]
     },
     "execution_count": 205,
     "metadata": {},
     "output_type": "execute_result"
    }
   ],
   "source": [
    "for i in 1:size(varlist, 1)\n",
    "#     append!(form, [term.(varlist[i]) ~ sum(term.(vcat(year, fixed)))])\n",
    "    rdata[!, i] = lm(term.(varlist[i]) ~ sum(term.(vcat(year, fixed))), data, dropcollinear=false)\n",
    "#     rdata[!, varlist[i]] = residuals(lm(form[i,1] ~ form[i,2], data))\n",
    "end"
   ]
  },
  {
   "cell_type": "code",
   "execution_count": 169,
   "id": "4343ab6f",
   "metadata": {
    "scrolled": true
   },
   "outputs": [
    {
     "data": {
      "text/plain": [
       "3900-element Vector{Float64}:\n",
       " -0.13477752422856915\n",
       " -0.23962152489688693\n",
       " -0.07867715899285699\n",
       " -0.3314654607497176\n",
       " -0.3166398021047696\n",
       "  0.10513189826268476\n",
       " -0.03734007187753674\n",
       " -0.05206090224957949\n",
       "  0.054700667491390575\n",
       "  0.12209372827735265\n",
       "  0.11031407805815086\n",
       "  0.25626750624749794\n",
       "  0.07905702835656436\n",
       "  ⋮\n",
       "  0.21493612083267283\n",
       " -0.49034121147543086\n",
       " -0.5494199456711724\n",
       " -0.6604078122019499\n",
       " -0.6765248029790685\n",
       " -0.6975246915205631\n",
       " -0.03840950930937054\n",
       "  0.02809622671549139\n",
       "  0.08014469325480689\n",
       "  0.4979872093044624\n",
       "  0.5685415516403598\n",
       "  0.6090223022158112"
      ]
     },
     "execution_count": 169,
     "metadata": {},
     "output_type": "execute_result"
    }
   ],
   "source": [
    "a = residuals(lm(form[1,1] ~ form[1,2], data))"
   ]
  },
  {
   "cell_type": "code",
   "execution_count": null,
   "id": "4d2fcc2a",
   "metadata": {
    "execution": {
     "iopub.execute_input": "2021-02-13T17:30:14.549368Z",
     "iopub.status.busy": "2021-02-13T17:30:14.504714Z",
     "iopub.status.idle": "2021-02-13T17:30:38.894116Z",
     "shell.execute_reply": "2021-02-13T17:30:38.893545Z"
    },
    "papermill": {
     "duration": 24.410531,
     "end_time": "2021-02-13T17:30:38.894264",
     "exception": false,
     "start_time": "2021-02-13T17:30:14.483733",
     "status": "completed"
    },
    "tags": []
   },
   "outputs": [],
   "source": [
    "    \n",
    "reg_ols  = lm(term(:y) ~ sum(term.(names(data[!, Not([\"y\", \"intercept\"])]))), data, dropcollinear=false)"
   ]
  },
  {
   "cell_type": "code",
   "execution_count": 68,
   "id": "1fa5c902",
   "metadata": {
    "execution": {
     "iopub.execute_input": "2021-02-13T17:30:14.549368Z",
     "iopub.status.busy": "2021-02-13T17:30:14.504714Z",
     "iopub.status.idle": "2021-02-13T17:30:38.894116Z",
     "shell.execute_reply": "2021-02-13T17:30:38.893545Z"
    },
    "papermill": {
     "duration": 24.410531,
     "end_time": "2021-02-13T17:30:38.894264",
     "exception": false,
     "start_time": "2021-02-13T17:30:14.483733",
     "status": "completed"
    },
    "tags": []
   },
   "outputs": [],
   "source": [
    "  form = as.formula(paste(varlist[i], \"~\", paste(paste(year,collapse=\"+\"),  paste(fixed,collapse=\"+\"), sep=\"+\")))\n",
    "  rdata[, varlist[i]] <- lm(form, data)$residuals\n",
    "}"
   ]
  },
  {
   "cell_type": "markdown",
   "id": "fd6557ff",
   "metadata": {
    "papermill": {
     "duration": 0.016789,
     "end_time": "2021-02-13T17:30:38.928857",
     "exception": false,
     "start_time": "2021-02-13T17:30:38.912068",
     "status": "completed"
    },
    "tags": []
   },
   "source": [
    "Now, we can construct the treatment variable, the outcome variable and the matrix $Z$ that includes the control variables."
   ]
  },
  {
   "cell_type": "code",
   "execution_count": 69,
   "id": "34076d85",
   "metadata": {
    "execution": {
     "iopub.execute_input": "2021-02-13T17:30:38.968895Z",
     "iopub.status.busy": "2021-02-13T17:30:38.967511Z",
     "iopub.status.idle": "2021-02-13T17:30:38.988737Z",
     "shell.execute_reply": "2021-02-13T17:30:38.987198Z"
    },
    "papermill": {
     "duration": 0.042922,
     "end_time": "2021-02-13T17:30:38.988875",
     "exception": false,
     "start_time": "2021-02-13T17:30:38.945953",
     "status": "completed"
    },
    "tags": []
   },
   "outputs": [],
   "source": [
    "# Treatment Variable\n",
    "D     <- rdata[which(colnames(rdata) == d)]\n",
    "\n",
    "# Outcome Variable\n",
    "Y     <- rdata[which(colnames(rdata) == y)]\n",
    "\n",
    "# Construct matrix Z\n",
    "\n",
    "Z <- rdata[which(colnames(rdata) %in% c(X1,X2,census))]"
   ]
  },
  {
   "cell_type": "markdown",
   "id": "cd5a8e0c",
   "metadata": {
    "papermill": {
     "duration": 0.01807,
     "end_time": "2021-02-13T17:30:39.025018",
     "exception": false,
     "start_time": "2021-02-13T17:30:39.006948",
     "status": "completed"
    },
    "tags": []
   },
   "source": [
    "We have in total 195 control variables. The control variables $Z_{j,t}$ are from the U.S. Census Bureau and  contain demographic and economic characteristics of the counties such as  the age distribution, the income distribution, crime rates, federal spending, home ownership rates, house prices, educational attainment, voting paterns, employment statistics, and migration rates. "
   ]
  },
  {
   "cell_type": "code",
   "execution_count": 72,
   "id": "3a5ff6aa",
   "metadata": {
    "execution": {
     "iopub.execute_input": "2021-02-13T17:30:39.065511Z",
     "iopub.status.busy": "2021-02-13T17:30:39.064293Z",
     "iopub.status.idle": "2021-02-13T17:30:39.078277Z",
     "shell.execute_reply": "2021-02-13T17:30:39.077071Z"
    },
    "papermill": {
     "duration": 0.035747,
     "end_time": "2021-02-13T17:30:39.078439",
     "exception": false,
     "start_time": "2021-02-13T17:30:39.042692",
     "status": "completed"
    },
    "tags": []
   },
   "outputs": [],
   "source": [
    "clu <- rdata[which(colnames(rdata) == \"CountyCode\")] #for clustering the standard errors\n",
    "data <- data.frame(cbind(Y, D, Z,as.matrix(clu)))"
   ]
  },
  {
   "cell_type": "code",
   "execution_count": 74,
   "id": "ce35ed68",
   "metadata": {},
   "outputs": [],
   "source": [
    "# To use in Python\n",
    "save(data, file = \"../data/gun_clean.RData\")"
   ]
  },
  {
   "cell_type": "code",
   "execution_count": 76,
   "id": "dfdd1476",
   "metadata": {
    "execution": {
     "iopub.execute_input": "2021-02-13T17:30:39.119837Z",
     "iopub.status.busy": "2021-02-13T17:30:39.119341Z",
     "iopub.status.idle": "2021-02-13T17:30:40.222653Z",
     "shell.execute_reply": "2021-02-13T17:30:40.221044Z"
    },
    "papermill": {
     "duration": 1.126576,
     "end_time": "2021-02-13T17:30:40.222803",
     "exception": false,
     "start_time": "2021-02-13T17:30:39.096227",
     "status": "completed"
    },
    "scrolled": true,
    "tags": []
   },
   "outputs": [],
   "source": [
    "library(lfe)"
   ]
  },
  {
   "cell_type": "markdown",
   "id": "6899157b",
   "metadata": {
    "papermill": {
     "duration": 0.01855,
     "end_time": "2021-02-13T17:30:40.260049",
     "exception": false,
     "start_time": "2021-02-13T17:30:40.241499",
     "status": "completed"
    },
    "tags": []
   },
   "source": [
    "## The effect of gun ownership"
   ]
  },
  {
   "cell_type": "markdown",
   "id": "2d83c14d",
   "metadata": {
    "papermill": {
     "duration": 0.018478,
     "end_time": "2021-02-13T17:30:40.297035",
     "exception": false,
     "start_time": "2021-02-13T17:30:40.278557",
     "status": "completed"
    },
    "tags": []
   },
   "source": [
    "### OLS"
   ]
  },
  {
   "cell_type": "markdown",
   "id": "04da83d9",
   "metadata": {
    "papermill": {
     "duration": 0.018386,
     "end_time": "2021-02-13T17:30:40.333613",
     "exception": false,
     "start_time": "2021-02-13T17:30:40.315227",
     "status": "completed"
    },
    "tags": []
   },
   "source": [
    "After preprocessing the data, we first look at simple regression of $Y_{j,t}$ on $D_{j,t-1}$ without controls as a baseline model."
   ]
  },
  {
   "cell_type": "code",
   "execution_count": 77,
   "id": "bdfc3a84",
   "metadata": {
    "execution": {
     "iopub.execute_input": "2021-02-13T17:30:40.378059Z",
     "iopub.status.busy": "2021-02-13T17:30:40.375375Z",
     "iopub.status.idle": "2021-02-13T17:30:40.488189Z",
     "shell.execute_reply": "2021-02-13T17:30:40.485758Z"
    },
    "papermill": {
     "duration": 0.136101,
     "end_time": "2021-02-13T17:30:40.488367",
     "exception": false,
     "start_time": "2021-02-13T17:30:40.352266",
     "status": "completed"
    },
    "scrolled": true,
    "tags": []
   },
   "outputs": [
    {
     "data": {
      "text/html": [
       "<style>\n",
       ".dl-inline {width: auto; margin:0; padding: 0}\n",
       ".dl-inline>dt, .dl-inline>dd {float: none; width: auto; display: inline-block}\n",
       ".dl-inline>dt::after {content: \":\\0020\"; padding-right: .5ex}\n",
       ".dl-inline>dt:not(:first-of-type) {padding-left: .5ex}\n",
       "</style><dl class=dl-inline><dt>2.5 %</dt><dd>0.155238182025439</dd><dt>97.5 %</dt><dd>0.40937075124097</dd></dl>\n"
      ],
      "text/latex": [
       "\\begin{description*}\n",
       "\\item[2.5 \\textbackslash{}\\%] 0.155238182025439\n",
       "\\item[97.5 \\textbackslash{}\\%] 0.40937075124097\n",
       "\\end{description*}\n"
      ],
      "text/markdown": [
       "2.5 %\n",
       ":   0.15523818202543997.5 %\n",
       ":   0.40937075124097\n",
       "\n"
      ],
      "text/plain": [
       "    2.5 %    97.5 % \n",
       "0.1552382 0.4093708 "
      ]
     },
     "metadata": {},
     "output_type": "display_data"
    },
    {
     "data": {
      "text/html": [
       "<style>\n",
       ".dl-inline {width: auto; margin:0; padding: 0}\n",
       ".dl-inline>dt, .dl-inline>dd {float: none; width: auto; display: inline-block}\n",
       ".dl-inline>dt::after {content: \":\\0020\"; padding-right: .5ex}\n",
       ".dl-inline>dt:not(:first-of-type) {padding-left: .5ex}\n",
       "</style><dl class=dl-inline><dt>Estimate</dt><dd>0.282304466633205</dd><dt>Cluster s.e.</dt><dd>0.0648107978379264</dd><dt>t value</dt><dd>4.35582458557552</dd><dt>Pr(&gt;|t|)</dt><dd>1.35976701238427e-05</dd></dl>\n"
      ],
      "text/latex": [
       "\\begin{description*}\n",
       "\\item[Estimate] 0.282304466633205\n",
       "\\item[Cluster s.e.] 0.0648107978379264\n",
       "\\item[t value] 4.35582458557552\n",
       "\\item[Pr(>\\textbackslash{}textbar\\{\\}t\\textbackslash{}textbar\\{\\})] 1.35976701238427e-05\n",
       "\\end{description*}\n"
      ],
      "text/markdown": [
       "Estimate\n",
       ":   0.282304466633205Cluster s.e.\n",
       ":   0.0648107978379264t value\n",
       ":   4.35582458557552Pr(&amp;gt;|t|)\n",
       ":   1.35976701238427e-05\n",
       "\n"
      ],
      "text/plain": [
       "    Estimate Cluster s.e.      t value     Pr(>|t|) \n",
       "2.823045e-01 6.481080e-02 4.355825e+00 1.359767e-05 "
      ]
     },
     "metadata": {},
     "output_type": "display_data"
    }
   ],
   "source": [
    "#baseline_formula <- as.formula(paste(y, \"~\", d ))\n",
    "#baseline.ols <- lm(baseline_formula,data=rdata)\n",
    "\n",
    "baseline.ols <- felm(logghomr ~ logfssl |0|0| CountyCode,data=data) # ols with clustered standard errors\n",
    "est_baseline <- summary(baseline.ols)$coef[2,]\n",
    "confint(baseline.ols)[2,]\n",
    "est_baseline"
   ]
  },
  {
   "cell_type": "code",
   "execution_count": 78,
   "id": "36dfdc2b",
   "metadata": {},
   "outputs": [
    {
     "data": {
      "text/plain": [
       "\n",
       "Call:\n",
       "   felm(formula = logghomr ~ logfssl | 0 | 0 | CountyCode, data = data) \n",
       "\n",
       "Residuals:\n",
       "    Min      1Q  Median      3Q     Max \n",
       "-4.0162 -0.2253  0.0189  0.2561  1.5753 \n",
       "\n",
       "Coefficients:\n",
       "             Estimate Cluster s.e. t value Pr(>|t|)    \n",
       "(Intercept) 5.189e-18    2.895e-16   0.018    0.986    \n",
       "logfssl     2.823e-01    6.481e-02   4.356 1.36e-05 ***\n",
       "---\n",
       "Signif. codes:  0 '***' 0.001 '**' 0.01 '*' 0.05 '.' 0.1 ' ' 1\n",
       "\n",
       "Residual standard error: 0.4199 on 3898 degrees of freedom\n",
       "Multiple R-squared(full model): 0.006193   Adjusted R-squared: 0.005938 \n",
       "Multiple R-squared(proj model): 0.006193   Adjusted R-squared: 0.005938 \n",
       "F-statistic(full model, *iid*):24.29 on 1 and 3898 DF, p-value: 8.623e-07 \n",
       "F-statistic(proj model): 18.97 on 1 and 194 DF, p-value: 2.146e-05 \n",
       "\n"
      ]
     },
     "metadata": {},
     "output_type": "display_data"
    }
   ],
   "source": [
    "summary(baseline.ols)"
   ]
  },
  {
   "cell_type": "code",
   "execution_count": 79,
   "id": "ac2069bb",
   "metadata": {},
   "outputs": [
    {
     "data": {
      "text/html": [
       "<style>\n",
       ".dl-inline {width: auto; margin:0; padding: 0}\n",
       ".dl-inline>dt, .dl-inline>dd {float: none; width: auto; display: inline-block}\n",
       ".dl-inline>dt::after {content: \":\\0020\"; padding-right: .5ex}\n",
       ".dl-inline>dt:not(:first-of-type) {padding-left: .5ex}\n",
       "</style><dl class=dl-inline><dt>2.5 %</dt><dd>0.155238182025439</dd><dt>97.5 %</dt><dd>0.40937075124097</dd></dl>\n"
      ],
      "text/latex": [
       "\\begin{description*}\n",
       "\\item[2.5 \\textbackslash{}\\%] 0.155238182025439\n",
       "\\item[97.5 \\textbackslash{}\\%] 0.40937075124097\n",
       "\\end{description*}\n"
      ],
      "text/markdown": [
       "2.5 %\n",
       ":   0.15523818202543997.5 %\n",
       ":   0.40937075124097\n",
       "\n"
      ],
      "text/plain": [
       "    2.5 %    97.5 % \n",
       "0.1552382 0.4093708 "
      ]
     },
     "metadata": {},
     "output_type": "display_data"
    }
   ],
   "source": [
    "confint(baseline.ols)[2,]"
   ]
  },
  {
   "cell_type": "markdown",
   "id": "7fb5d8bb",
   "metadata": {
    "papermill": {
     "duration": 0.019514,
     "end_time": "2021-02-13T17:30:40.528479",
     "exception": false,
     "start_time": "2021-02-13T17:30:40.508965",
     "status": "completed"
    },
    "tags": []
   },
   "source": [
    "The point estimate is $0.282$ with the confidence interval ranging from 0.155 to 0.41. This\n",
    "suggests that increases in gun ownership rates are related to gun homicide rates - if gun ownership increases by 1% relative\n",
    "to a trend then the predicted gun homicide rate goes up by 0.28%, without controlling for counties' characteristics.\n",
    "\n",
    "Since our goal is to estimate the effect of gun ownership after controlling for a rich set county characteristics we next include the controls. First, we estimate the model by ols and then by an array of the modern regression methods using the double machine learning approach."
   ]
  },
  {
   "cell_type": "code",
   "execution_count": 81,
   "id": "4abf31ea",
   "metadata": {
    "execution": {
     "iopub.execute_input": "2021-02-13T17:30:40.575465Z",
     "iopub.status.busy": "2021-02-13T17:30:40.573798Z",
     "iopub.status.idle": "2021-02-13T17:30:40.777165Z",
     "shell.execute_reply": "2021-02-13T17:30:40.774926Z"
    },
    "papermill": {
     "duration": 0.229579,
     "end_time": "2021-02-13T17:30:40.777425",
     "exception": false,
     "start_time": "2021-02-13T17:30:40.547846",
     "status": "completed"
    },
    "tags": []
   },
   "outputs": [
    {
     "data": {
      "text/plain": [
       "logghomr ~ logfssl + logrobr + logburg + burg_missing + robrate_missing + \n",
       "    newblack + newfhh + newmove + newdens + newmal + AGE010D + \n",
       "    AGE050D + AGE110D + AGE170D + AGE180D + AGE270D + AGE310D + \n",
       "    AGE320D + AGE350D + AGE380D + AGE410D + AGE470D + AGE570D + \n",
       "    AGE640D + AGE670D + AGE760D + BNK010D + BNK050D + BPS030D + \n",
       "    BPS130D + BPS230D + BPS020D + BPS120D + BPS220D + BPS820D + \n",
       "    BZA010D + BZA110D + BZA210D + EDU100D + EDU200D + EDU600D + \n",
       "    EDU610D + EDU620D + EDU630D + EDU635D + EDU640D + EDU650D + \n",
       "    EDU680D + EDU685D + ELE010D + ELE020D + ELE025D + ELE030D + \n",
       "    ELE035D + ELE060D + ELE065D + ELE210D + ELE220D + HIS010D + \n",
       "    HIS020D + HIS030D + HIS040D + HIS110D + HIS120D + HIS130D + \n",
       "    HIS140D + HIS200D + HIS300D + HIS500D + HIS700D + HSD010D + \n",
       "    HSD020D + HSD030D + HSD110D + HSD120D + HSD130D + HSD140D + \n",
       "    HSD150D + HSD170D + HSD200D + HSD210D + HSD230D + HSD300D + \n",
       "    HSD310D + HSG030D + HSG195D + HSG200D + HSG220D + HSG440D + \n",
       "    HSG445D + HSG460D + HSG680D + HSG700D + HSD410D + HSD500D + \n",
       "    HSD510D + HSD520D + HSD530D + HSD540D + HSD550D + HSD560D + \n",
       "    HSD570D + HSD580D + HSD590D + HSD610D + HSD620D + HSD710D + \n",
       "    HSD720D + HSD730D + HSD740D + HSD750D + HSD760D + HSD770D + \n",
       "    HSD780D + HSG040D + HSG045D + HSG050D + HSG182D + HSG210D + \n",
       "    HSG230D + HSG240D + HSG250D + HSG310D + HSG315D + HSG320D + \n",
       "    HSG325D + HSG335D + HSG350D + HSG370D + HSG375D + HSG380D + \n",
       "    HSG450D + HSG490D + HSG500D + HSG510D + HSG520D + HSG530D + \n",
       "    HSG540D + HSG550D + HSG560D + HSG570D + HSG650D + HSG690D + \n",
       "    HSG710D + HSG730D + INC110D + INC650D + INC670D + INC680D + \n",
       "    INC690D + INC700D + INC710D + INC720D + INC730D + INC760D + \n",
       "    INC790D + LFE020D + LFE023D + LFE030D + LFE080D + LFE090D + \n",
       "    LFE210D + LFE220D + LND110D + PIN020D + POP110D + POP210D + \n",
       "    POP240D + POP440D + POP450D + POP470D + POP480D + POP540D + \n",
       "    POP550D + POP570D + POP580D + POP700D + POP710D + POP720D + \n",
       "    POP740D + PPQ010D + PPQ100D + PPQ110D + PPQ120D + PVY020D + \n",
       "    PVY120D + PVY210D + PVY310D + PVY420D + PVY520D + SPR030D + \n",
       "    SPR130D + SPR230D + SPR330D + SPR440D + VST020D | 0 | 0 | \n",
       "    CountyCode"
      ]
     },
     "metadata": {},
     "output_type": "display_data"
    }
   ],
   "source": [
    "control_formula <- as.formula(paste(\"logghomr\", \"~\", paste(\"logfssl\",paste(colnames(Z),collapse=\"+\"),\n",
    "                                                          sep=\"+\"),\"|0|0| CountyCode\"))\n",
    "control_formula"
   ]
  },
  {
   "cell_type": "code",
   "execution_count": 82,
   "id": "3389a941",
   "metadata": {
    "execution": {
     "iopub.execute_input": "2021-02-13T17:30:40.575465Z",
     "iopub.status.busy": "2021-02-13T17:30:40.573798Z",
     "iopub.status.idle": "2021-02-13T17:30:40.777165Z",
     "shell.execute_reply": "2021-02-13T17:30:40.774926Z"
    },
    "papermill": {
     "duration": 0.229579,
     "end_time": "2021-02-13T17:30:40.777425",
     "exception": false,
     "start_time": "2021-02-13T17:30:40.547846",
     "status": "completed"
    },
    "tags": []
   },
   "outputs": [
    {
     "name": "stderr",
     "output_type": "stream",
     "text": [
      "Warning message in chol.default(mat, pivot = TRUE, tol = tol):\n",
      "\"the matrix is either rank-deficient or indefinite\"\n",
      "Warning message in chol.default(mat, pivot = TRUE, tol = tol):\n",
      "\"the matrix is either rank-deficient or indefinite\"\n"
     ]
    },
    {
     "data": {
      "text/html": [
       "<style>\n",
       ".dl-inline {width: auto; margin:0; padding: 0}\n",
       ".dl-inline>dt, .dl-inline>dd {float: none; width: auto; display: inline-block}\n",
       ".dl-inline>dt::after {content: \":\\0020\"; padding-right: .5ex}\n",
       ".dl-inline>dt:not(:first-of-type) {padding-left: .5ex}\n",
       "</style><dl class=dl-inline><dt>2.5 %</dt><dd>0.087815935618714</dd><dt>97.5 %</dt><dd>0.293473517537939</dd></dl>\n"
      ],
      "text/latex": [
       "\\begin{description*}\n",
       "\\item[2.5 \\textbackslash{}\\%] 0.087815935618714\n",
       "\\item[97.5 \\textbackslash{}\\%] 0.293473517537939\n",
       "\\end{description*}\n"
      ],
      "text/markdown": [
       "2.5 %\n",
       ":   0.08781593561871497.5 %\n",
       ":   0.293473517537939\n",
       "\n"
      ],
      "text/plain": [
       "     2.5 %     97.5 % \n",
       "0.08781594 0.29347352 "
      ]
     },
     "metadata": {},
     "output_type": "display_data"
    },
    {
     "data": {
      "text/html": [
       "<style>\n",
       ".dl-inline {width: auto; margin:0; padding: 0}\n",
       ".dl-inline>dt, .dl-inline>dd {float: none; width: auto; display: inline-block}\n",
       ".dl-inline>dt::after {content: \":\\0020\"; padding-right: .5ex}\n",
       ".dl-inline>dt:not(:first-of-type) {padding-left: .5ex}\n",
       "</style><dl class=dl-inline><dt>Estimate</dt><dd>0.190644726578327</dd><dt>Cluster s.e.</dt><dd>0.0524475581590951</dd><dt>t value</dt><dd>3.63495905757943</dd><dt>Pr(&gt;|t|)</dt><dd>0.000281786721253425</dd></dl>\n"
      ],
      "text/latex": [
       "\\begin{description*}\n",
       "\\item[Estimate] 0.190644726578327\n",
       "\\item[Cluster s.e.] 0.0524475581590951\n",
       "\\item[t value] 3.63495905757943\n",
       "\\item[Pr(>\\textbackslash{}textbar\\{\\}t\\textbackslash{}textbar\\{\\})] 0.000281786721253425\n",
       "\\end{description*}\n"
      ],
      "text/markdown": [
       "Estimate\n",
       ":   0.190644726578327Cluster s.e.\n",
       ":   0.0524475581590951t value\n",
       ":   3.63495905757943Pr(&amp;gt;|t|)\n",
       ":   0.000281786721253425\n",
       "\n"
      ],
      "text/plain": [
       "    Estimate Cluster s.e.      t value     Pr(>|t|) \n",
       "0.1906447266 0.0524475582 3.6349590576 0.0002817867 "
      ]
     },
     "metadata": {},
     "output_type": "display_data"
    }
   ],
   "source": [
    "control.ols <- felm(control_formula,data=data)\n",
    "est_ols <- summary(control.ols)$coef[2,]\n",
    "confint(control.ols)[2,]\n",
    "est_ols"
   ]
  },
  {
   "cell_type": "code",
   "execution_count": 83,
   "id": "7059e2c1",
   "metadata": {
    "scrolled": true
   },
   "outputs": [
    {
     "name": "stderr",
     "output_type": "stream",
     "text": [
      "Warning message in chol.default(mat, pivot = TRUE, tol = tol):\n",
      "\"the matrix is either rank-deficient or indefinite\"\n"
     ]
    },
    {
     "data": {
      "text/html": [
       "<table class=\"dataframe\">\n",
       "<caption>A matrix: 197 × 4 of type dbl</caption>\n",
       "<thead>\n",
       "\t<tr><th></th><th scope=col>Estimate</th><th scope=col>Cluster s.e.</th><th scope=col>t value</th><th scope=col>Pr(&gt;|t|)</th></tr>\n",
       "</thead>\n",
       "<tbody>\n",
       "\t<tr><th scope=row>(Intercept)</th><td> 1.675988e-15</td><td>1.659040e-15</td><td> 1.0102155</td><td>0.3124577934</td></tr>\n",
       "\t<tr><th scope=row>logfssl</th><td> 1.906447e-01</td><td>5.244756e-02</td><td> 3.6349591</td><td>0.0002817867</td></tr>\n",
       "\t<tr><th scope=row>logrobr</th><td> 1.890471e-01</td><td>5.385086e-02</td><td> 3.5105680</td><td>0.0004524588</td></tr>\n",
       "\t<tr><th scope=row>logburg</th><td> 2.192630e-01</td><td>6.282510e-02</td><td> 3.4900546</td><td>0.0004885304</td></tr>\n",
       "\t<tr><th scope=row>burg_missing</th><td> 1.529614e+00</td><td>4.443831e-01</td><td> 3.4421076</td><td>0.0005835660</td></tr>\n",
       "\t<tr><th scope=row>robrate_missing</th><td> 1.133081e+00</td><td>3.047595e-01</td><td> 3.7179522</td><td>0.0002038034</td></tr>\n",
       "\t<tr><th scope=row>newblack</th><td> 2.434718e+01</td><td>4.480200e+01</td><td> 0.5434397</td><td>0.5868597027</td></tr>\n",
       "\t<tr><th scope=row>newfhh</th><td>-6.875928e+01</td><td>1.146440e+02</td><td>-0.5997632</td><td>0.5487006184</td></tr>\n",
       "\t<tr><th scope=row>newmove</th><td> 4.211082e+01</td><td>2.869630e+01</td><td> 1.4674649</td><td>0.1423341971</td></tr>\n",
       "\t<tr><th scope=row>newdens</th><td>          NaN</td><td>0.000000e+00</td><td>       NaN</td><td>         NaN</td></tr>\n",
       "\t<tr><th scope=row>newmal</th><td> 6.116798e-01</td><td>2.747573e-01</td><td> 2.2262549</td><td>0.0260568012</td></tr>\n",
       "\t<tr><th scope=row>AGE010D</th><td>          NaN</td><td>0.000000e+00</td><td>       NaN</td><td>         NaN</td></tr>\n",
       "\t<tr><th scope=row>AGE050D</th><td> 1.042682e+01</td><td>6.123894e+00</td><td> 1.7026455</td><td>0.0887179971</td></tr>\n",
       "\t<tr><th scope=row>AGE110D</th><td>-6.459149e+00</td><td>4.079379e+00</td><td>-1.5833657</td><td>0.1134231550</td></tr>\n",
       "\t<tr><th scope=row>AGE170D</th><td>-6.446777e+00</td><td>4.865130e+00</td><td>-1.3250986</td><td>0.1852198433</td></tr>\n",
       "\t<tr><th scope=row>AGE180D</th><td>-1.153232e+01</td><td>1.387809e+01</td><td>-0.8309731</td><td>0.4060421653</td></tr>\n",
       "\t<tr><th scope=row>AGE270D</th><td> 3.565629e+01</td><td>1.975098e+01</td><td> 1.8052917</td><td>0.0711098841</td></tr>\n",
       "\t<tr><th scope=row>AGE310D</th><td> 1.938343e+01</td><td>2.660572e+01</td><td> 0.7285436</td><td>0.4663267705</td></tr>\n",
       "\t<tr><th scope=row>AGE320D</th><td> 1.588112e+00</td><td>1.533212e+00</td><td> 1.0358074</td><td>0.3003593274</td></tr>\n",
       "\t<tr><th scope=row>AGE350D</th><td>-9.330175e+00</td><td>1.308344e+01</td><td>-0.7131288</td><td>0.4758107752</td></tr>\n",
       "\t<tr><th scope=row>AGE380D</th><td> 2.713707e+01</td><td>2.716928e+01</td><td> 0.9988143</td><td>0.3179496313</td></tr>\n",
       "\t<tr><th scope=row>AGE410D</th><td>-9.263883e+00</td><td>1.254796e+01</td><td>-0.7382778</td><td>0.4603922507</td></tr>\n",
       "\t<tr><th scope=row>AGE470D</th><td> 5.171539e+00</td><td>2.509152e+00</td><td> 2.0610704</td><td>0.0393656944</td></tr>\n",
       "\t<tr><th scope=row>AGE570D</th><td> 3.818025e+00</td><td>1.956870e+00</td><td> 1.9510873</td><td>0.0511216497</td></tr>\n",
       "\t<tr><th scope=row>AGE640D</th><td> 1.965092e+00</td><td>1.301353e+00</td><td> 1.5100375</td><td>0.1311188123</td></tr>\n",
       "\t<tr><th scope=row>AGE670D</th><td>-1.729271e+00</td><td>1.281977e+00</td><td>-1.3489093</td><td>0.1774482404</td></tr>\n",
       "\t<tr><th scope=row>AGE760D</th><td> 8.113869e-01</td><td>3.211334e+00</td><td> 0.2526635</td><td>0.8005421838</td></tr>\n",
       "\t<tr><th scope=row>BNK010D</th><td>-7.570156e-02</td><td>8.044091e-02</td><td>-0.9410828</td><td>0.3467235766</td></tr>\n",
       "\t<tr><th scope=row>BNK050D</th><td> 1.852136e-02</td><td>6.938743e-02</td><td> 0.2669267</td><td>0.7895403658</td></tr>\n",
       "\t<tr><th scope=row>BPS030D</th><td>-6.704976e-02</td><td>1.089697e-01</td><td>-0.6153063</td><td>0.5383901048</td></tr>\n",
       "\t<tr><th scope=row>...</th><td>...</td><td>...</td><td>...</td><td>...</td></tr>\n",
       "\t<tr><th scope=row>POP210D</th><td> -0.97209645</td><td> 0.7998094</td><td>-1.21541015</td><td>0.224286848</td></tr>\n",
       "\t<tr><th scope=row>POP240D</th><td>-28.69339007</td><td>44.6041742</td><td>-0.64328935</td><td>0.520076029</td></tr>\n",
       "\t<tr><th scope=row>POP440D</th><td> -3.88112370</td><td> 2.2646538</td><td>-1.71378237</td><td>0.086652034</td></tr>\n",
       "\t<tr><th scope=row>POP450D</th><td> 11.63617966</td><td> 7.3858170</td><td> 1.57547630</td><td>0.115231602</td></tr>\n",
       "\t<tr><th scope=row>POP470D</th><td> -3.53764116</td><td> 1.2980421</td><td>-2.72536703</td><td>0.006453076</td></tr>\n",
       "\t<tr><th scope=row>POP480D</th><td> -1.77257985</td><td> 1.3831761</td><td>-1.28152871</td><td>0.200087916</td></tr>\n",
       "\t<tr><th scope=row>POP540D</th><td> -1.48084629</td><td> 2.1780103</td><td>-0.67990786</td><td>0.496605124</td></tr>\n",
       "\t<tr><th scope=row>POP550D</th><td>-28.19151761</td><td> 9.8025783</td><td>-2.87592884</td><td>0.004051311</td></tr>\n",
       "\t<tr><th scope=row>POP570D</th><td>  0.16646361</td><td> 1.8156766</td><td> 0.09168131</td><td>0.926956183</td></tr>\n",
       "\t<tr><th scope=row>POP580D</th><td>  2.25065499</td><td> 1.8055245</td><td> 1.24653803</td><td>0.212645443</td></tr>\n",
       "\t<tr><th scope=row>POP700D</th><td> 44.31693658</td><td>32.9945036</td><td> 1.34316119</td><td>0.179301745</td></tr>\n",
       "\t<tr><th scope=row>POP710D</th><td>-13.12781956</td><td> 8.5494594</td><td>-1.53551458</td><td>0.124742543</td></tr>\n",
       "\t<tr><th scope=row>POP720D</th><td>  0.89198580</td><td> 0.8173148</td><td> 1.09136132</td><td>0.275184625</td></tr>\n",
       "\t<tr><th scope=row>POP740D</th><td>  0.40686412</td><td> 0.4012353</td><td> 1.01402872</td><td>0.310635014</td></tr>\n",
       "\t<tr><th scope=row>PPQ010D</th><td> -0.31433106</td><td> 0.4125242</td><td>-0.76196997</td><td>0.446126247</td></tr>\n",
       "\t<tr><th scope=row>PPQ100D</th><td>  0.49054324</td><td> 0.2543427</td><td> 1.92867065</td><td>0.053847782</td></tr>\n",
       "\t<tr><th scope=row>PPQ110D</th><td>         NaN</td><td> 0.0000000</td><td>        NaN</td><td>        NaN</td></tr>\n",
       "\t<tr><th scope=row>PPQ120D</th><td>         NaN</td><td> 0.0000000</td><td>        NaN</td><td>        NaN</td></tr>\n",
       "\t<tr><th scope=row>PVY020D</th><td> -1.14717088</td><td> 2.6420324</td><td>-0.43420016</td><td>0.664168287</td></tr>\n",
       "\t<tr><th scope=row>PVY120D</th><td>  2.03161358</td><td> 1.9353901</td><td> 1.04971787</td><td>0.293916055</td></tr>\n",
       "\t<tr><th scope=row>PVY210D</th><td>  0.30728204</td><td> 0.4854728</td><td> 0.63295424</td><td>0.526802444</td></tr>\n",
       "\t<tr><th scope=row>PVY310D</th><td> -0.42834313</td><td> 0.7508571</td><td>-0.57047226</td><td>0.568391896</td></tr>\n",
       "\t<tr><th scope=row>PVY420D</th><td>  0.61149837</td><td> 1.7874181</td><td> 0.34211267</td><td>0.732285434</td></tr>\n",
       "\t<tr><th scope=row>PVY520D</th><td> -0.32686293</td><td> 0.8053323</td><td>-0.40587336</td><td>0.684859006</td></tr>\n",
       "\t<tr><th scope=row>SPR030D</th><td> -0.50017289</td><td> 0.4806889</td><td>-1.04053346</td><td>0.298159768</td></tr>\n",
       "\t<tr><th scope=row>SPR130D</th><td> -1.65749967</td><td> 0.8607775</td><td>-1.92558437</td><td>0.054232451</td></tr>\n",
       "\t<tr><th scope=row>SPR230D</th><td>  1.44840169</td><td> 0.8382389</td><td> 1.72791032</td><td>0.084087316</td></tr>\n",
       "\t<tr><th scope=row>SPR330D</th><td> -0.03365234</td><td> 0.4012711</td><td>-0.08386435</td><td>0.933168796</td></tr>\n",
       "\t<tr><th scope=row>SPR440D</th><td> -0.43182707</td><td> 0.2718852</td><td>-1.58826958</td><td>0.112310400</td></tr>\n",
       "\t<tr><th scope=row>VST020D</th><td>  0.53220207</td><td> 0.2990330</td><td> 1.77974346</td><td>0.075199591</td></tr>\n",
       "</tbody>\n",
       "</table>\n"
      ],
      "text/latex": [
       "A matrix: 197 × 4 of type dbl\n",
       "\\begin{tabular}{r|llll}\n",
       "  & Estimate & Cluster s.e. & t value & Pr(>\\textbar{}t\\textbar{})\\\\\n",
       "\\hline\n",
       "\t(Intercept) &  1.675988e-15 & 1.659040e-15 &  1.0102155 & 0.3124577934\\\\\n",
       "\tlogfssl &  1.906447e-01 & 5.244756e-02 &  3.6349591 & 0.0002817867\\\\\n",
       "\tlogrobr &  1.890471e-01 & 5.385086e-02 &  3.5105680 & 0.0004524588\\\\\n",
       "\tlogburg &  2.192630e-01 & 6.282510e-02 &  3.4900546 & 0.0004885304\\\\\n",
       "\tburg\\_missing &  1.529614e+00 & 4.443831e-01 &  3.4421076 & 0.0005835660\\\\\n",
       "\trobrate\\_missing &  1.133081e+00 & 3.047595e-01 &  3.7179522 & 0.0002038034\\\\\n",
       "\tnewblack &  2.434718e+01 & 4.480200e+01 &  0.5434397 & 0.5868597027\\\\\n",
       "\tnewfhh & -6.875928e+01 & 1.146440e+02 & -0.5997632 & 0.5487006184\\\\\n",
       "\tnewmove &  4.211082e+01 & 2.869630e+01 &  1.4674649 & 0.1423341971\\\\\n",
       "\tnewdens &           NaN & 0.000000e+00 &        NaN &          NaN\\\\\n",
       "\tnewmal &  6.116798e-01 & 2.747573e-01 &  2.2262549 & 0.0260568012\\\\\n",
       "\tAGE010D &           NaN & 0.000000e+00 &        NaN &          NaN\\\\\n",
       "\tAGE050D &  1.042682e+01 & 6.123894e+00 &  1.7026455 & 0.0887179971\\\\\n",
       "\tAGE110D & -6.459149e+00 & 4.079379e+00 & -1.5833657 & 0.1134231550\\\\\n",
       "\tAGE170D & -6.446777e+00 & 4.865130e+00 & -1.3250986 & 0.1852198433\\\\\n",
       "\tAGE180D & -1.153232e+01 & 1.387809e+01 & -0.8309731 & 0.4060421653\\\\\n",
       "\tAGE270D &  3.565629e+01 & 1.975098e+01 &  1.8052917 & 0.0711098841\\\\\n",
       "\tAGE310D &  1.938343e+01 & 2.660572e+01 &  0.7285436 & 0.4663267705\\\\\n",
       "\tAGE320D &  1.588112e+00 & 1.533212e+00 &  1.0358074 & 0.3003593274\\\\\n",
       "\tAGE350D & -9.330175e+00 & 1.308344e+01 & -0.7131288 & 0.4758107752\\\\\n",
       "\tAGE380D &  2.713707e+01 & 2.716928e+01 &  0.9988143 & 0.3179496313\\\\\n",
       "\tAGE410D & -9.263883e+00 & 1.254796e+01 & -0.7382778 & 0.4603922507\\\\\n",
       "\tAGE470D &  5.171539e+00 & 2.509152e+00 &  2.0610704 & 0.0393656944\\\\\n",
       "\tAGE570D &  3.818025e+00 & 1.956870e+00 &  1.9510873 & 0.0511216497\\\\\n",
       "\tAGE640D &  1.965092e+00 & 1.301353e+00 &  1.5100375 & 0.1311188123\\\\\n",
       "\tAGE670D & -1.729271e+00 & 1.281977e+00 & -1.3489093 & 0.1774482404\\\\\n",
       "\tAGE760D &  8.113869e-01 & 3.211334e+00 &  0.2526635 & 0.8005421838\\\\\n",
       "\tBNK010D & -7.570156e-02 & 8.044091e-02 & -0.9410828 & 0.3467235766\\\\\n",
       "\tBNK050D &  1.852136e-02 & 6.938743e-02 &  0.2669267 & 0.7895403658\\\\\n",
       "\tBPS030D & -6.704976e-02 & 1.089697e-01 & -0.6153063 & 0.5383901048\\\\\n",
       "\t... & ... & ... & ... & ...\\\\\n",
       "\tPOP210D &  -0.97209645 &  0.7998094 & -1.21541015 & 0.224286848\\\\\n",
       "\tPOP240D & -28.69339007 & 44.6041742 & -0.64328935 & 0.520076029\\\\\n",
       "\tPOP440D &  -3.88112370 &  2.2646538 & -1.71378237 & 0.086652034\\\\\n",
       "\tPOP450D &  11.63617966 &  7.3858170 &  1.57547630 & 0.115231602\\\\\n",
       "\tPOP470D &  -3.53764116 &  1.2980421 & -2.72536703 & 0.006453076\\\\\n",
       "\tPOP480D &  -1.77257985 &  1.3831761 & -1.28152871 & 0.200087916\\\\\n",
       "\tPOP540D &  -1.48084629 &  2.1780103 & -0.67990786 & 0.496605124\\\\\n",
       "\tPOP550D & -28.19151761 &  9.8025783 & -2.87592884 & 0.004051311\\\\\n",
       "\tPOP570D &   0.16646361 &  1.8156766 &  0.09168131 & 0.926956183\\\\\n",
       "\tPOP580D &   2.25065499 &  1.8055245 &  1.24653803 & 0.212645443\\\\\n",
       "\tPOP700D &  44.31693658 & 32.9945036 &  1.34316119 & 0.179301745\\\\\n",
       "\tPOP710D & -13.12781956 &  8.5494594 & -1.53551458 & 0.124742543\\\\\n",
       "\tPOP720D &   0.89198580 &  0.8173148 &  1.09136132 & 0.275184625\\\\\n",
       "\tPOP740D &   0.40686412 &  0.4012353 &  1.01402872 & 0.310635014\\\\\n",
       "\tPPQ010D &  -0.31433106 &  0.4125242 & -0.76196997 & 0.446126247\\\\\n",
       "\tPPQ100D &   0.49054324 &  0.2543427 &  1.92867065 & 0.053847782\\\\\n",
       "\tPPQ110D &          NaN &  0.0000000 &         NaN &         NaN\\\\\n",
       "\tPPQ120D &          NaN &  0.0000000 &         NaN &         NaN\\\\\n",
       "\tPVY020D &  -1.14717088 &  2.6420324 & -0.43420016 & 0.664168287\\\\\n",
       "\tPVY120D &   2.03161358 &  1.9353901 &  1.04971787 & 0.293916055\\\\\n",
       "\tPVY210D &   0.30728204 &  0.4854728 &  0.63295424 & 0.526802444\\\\\n",
       "\tPVY310D &  -0.42834313 &  0.7508571 & -0.57047226 & 0.568391896\\\\\n",
       "\tPVY420D &   0.61149837 &  1.7874181 &  0.34211267 & 0.732285434\\\\\n",
       "\tPVY520D &  -0.32686293 &  0.8053323 & -0.40587336 & 0.684859006\\\\\n",
       "\tSPR030D &  -0.50017289 &  0.4806889 & -1.04053346 & 0.298159768\\\\\n",
       "\tSPR130D &  -1.65749967 &  0.8607775 & -1.92558437 & 0.054232451\\\\\n",
       "\tSPR230D &   1.44840169 &  0.8382389 &  1.72791032 & 0.084087316\\\\\n",
       "\tSPR330D &  -0.03365234 &  0.4012711 & -0.08386435 & 0.933168796\\\\\n",
       "\tSPR440D &  -0.43182707 &  0.2718852 & -1.58826958 & 0.112310400\\\\\n",
       "\tVST020D &   0.53220207 &  0.2990330 &  1.77974346 & 0.075199591\\\\\n",
       "\\end{tabular}\n"
      ],
      "text/markdown": [
       "\n",
       "A matrix: 197 × 4 of type dbl\n",
       "\n",
       "| <!--/--> | Estimate | Cluster s.e. | t value | Pr(&gt;|t|) |\n",
       "|---|---|---|---|---|\n",
       "| (Intercept) |  1.675988e-15 | 1.659040e-15 |  1.0102155 | 0.3124577934 |\n",
       "| logfssl |  1.906447e-01 | 5.244756e-02 |  3.6349591 | 0.0002817867 |\n",
       "| logrobr |  1.890471e-01 | 5.385086e-02 |  3.5105680 | 0.0004524588 |\n",
       "| logburg |  2.192630e-01 | 6.282510e-02 |  3.4900546 | 0.0004885304 |\n",
       "| burg_missing |  1.529614e+00 | 4.443831e-01 |  3.4421076 | 0.0005835660 |\n",
       "| robrate_missing |  1.133081e+00 | 3.047595e-01 |  3.7179522 | 0.0002038034 |\n",
       "| newblack |  2.434718e+01 | 4.480200e+01 |  0.5434397 | 0.5868597027 |\n",
       "| newfhh | -6.875928e+01 | 1.146440e+02 | -0.5997632 | 0.5487006184 |\n",
       "| newmove |  4.211082e+01 | 2.869630e+01 |  1.4674649 | 0.1423341971 |\n",
       "| newdens |           NaN | 0.000000e+00 |        NaN |          NaN |\n",
       "| newmal |  6.116798e-01 | 2.747573e-01 |  2.2262549 | 0.0260568012 |\n",
       "| AGE010D |           NaN | 0.000000e+00 |        NaN |          NaN |\n",
       "| AGE050D |  1.042682e+01 | 6.123894e+00 |  1.7026455 | 0.0887179971 |\n",
       "| AGE110D | -6.459149e+00 | 4.079379e+00 | -1.5833657 | 0.1134231550 |\n",
       "| AGE170D | -6.446777e+00 | 4.865130e+00 | -1.3250986 | 0.1852198433 |\n",
       "| AGE180D | -1.153232e+01 | 1.387809e+01 | -0.8309731 | 0.4060421653 |\n",
       "| AGE270D |  3.565629e+01 | 1.975098e+01 |  1.8052917 | 0.0711098841 |\n",
       "| AGE310D |  1.938343e+01 | 2.660572e+01 |  0.7285436 | 0.4663267705 |\n",
       "| AGE320D |  1.588112e+00 | 1.533212e+00 |  1.0358074 | 0.3003593274 |\n",
       "| AGE350D | -9.330175e+00 | 1.308344e+01 | -0.7131288 | 0.4758107752 |\n",
       "| AGE380D |  2.713707e+01 | 2.716928e+01 |  0.9988143 | 0.3179496313 |\n",
       "| AGE410D | -9.263883e+00 | 1.254796e+01 | -0.7382778 | 0.4603922507 |\n",
       "| AGE470D |  5.171539e+00 | 2.509152e+00 |  2.0610704 | 0.0393656944 |\n",
       "| AGE570D |  3.818025e+00 | 1.956870e+00 |  1.9510873 | 0.0511216497 |\n",
       "| AGE640D |  1.965092e+00 | 1.301353e+00 |  1.5100375 | 0.1311188123 |\n",
       "| AGE670D | -1.729271e+00 | 1.281977e+00 | -1.3489093 | 0.1774482404 |\n",
       "| AGE760D |  8.113869e-01 | 3.211334e+00 |  0.2526635 | 0.8005421838 |\n",
       "| BNK010D | -7.570156e-02 | 8.044091e-02 | -0.9410828 | 0.3467235766 |\n",
       "| BNK050D |  1.852136e-02 | 6.938743e-02 |  0.2669267 | 0.7895403658 |\n",
       "| BPS030D | -6.704976e-02 | 1.089697e-01 | -0.6153063 | 0.5383901048 |\n",
       "| ... | ... | ... | ... | ... |\n",
       "| POP210D |  -0.97209645 |  0.7998094 | -1.21541015 | 0.224286848 |\n",
       "| POP240D | -28.69339007 | 44.6041742 | -0.64328935 | 0.520076029 |\n",
       "| POP440D |  -3.88112370 |  2.2646538 | -1.71378237 | 0.086652034 |\n",
       "| POP450D |  11.63617966 |  7.3858170 |  1.57547630 | 0.115231602 |\n",
       "| POP470D |  -3.53764116 |  1.2980421 | -2.72536703 | 0.006453076 |\n",
       "| POP480D |  -1.77257985 |  1.3831761 | -1.28152871 | 0.200087916 |\n",
       "| POP540D |  -1.48084629 |  2.1780103 | -0.67990786 | 0.496605124 |\n",
       "| POP550D | -28.19151761 |  9.8025783 | -2.87592884 | 0.004051311 |\n",
       "| POP570D |   0.16646361 |  1.8156766 |  0.09168131 | 0.926956183 |\n",
       "| POP580D |   2.25065499 |  1.8055245 |  1.24653803 | 0.212645443 |\n",
       "| POP700D |  44.31693658 | 32.9945036 |  1.34316119 | 0.179301745 |\n",
       "| POP710D | -13.12781956 |  8.5494594 | -1.53551458 | 0.124742543 |\n",
       "| POP720D |   0.89198580 |  0.8173148 |  1.09136132 | 0.275184625 |\n",
       "| POP740D |   0.40686412 |  0.4012353 |  1.01402872 | 0.310635014 |\n",
       "| PPQ010D |  -0.31433106 |  0.4125242 | -0.76196997 | 0.446126247 |\n",
       "| PPQ100D |   0.49054324 |  0.2543427 |  1.92867065 | 0.053847782 |\n",
       "| PPQ110D |          NaN |  0.0000000 |         NaN |         NaN |\n",
       "| PPQ120D |          NaN |  0.0000000 |         NaN |         NaN |\n",
       "| PVY020D |  -1.14717088 |  2.6420324 | -0.43420016 | 0.664168287 |\n",
       "| PVY120D |   2.03161358 |  1.9353901 |  1.04971787 | 0.293916055 |\n",
       "| PVY210D |   0.30728204 |  0.4854728 |  0.63295424 | 0.526802444 |\n",
       "| PVY310D |  -0.42834313 |  0.7508571 | -0.57047226 | 0.568391896 |\n",
       "| PVY420D |   0.61149837 |  1.7874181 |  0.34211267 | 0.732285434 |\n",
       "| PVY520D |  -0.32686293 |  0.8053323 | -0.40587336 | 0.684859006 |\n",
       "| SPR030D |  -0.50017289 |  0.4806889 | -1.04053346 | 0.298159768 |\n",
       "| SPR130D |  -1.65749967 |  0.8607775 | -1.92558437 | 0.054232451 |\n",
       "| SPR230D |   1.44840169 |  0.8382389 |  1.72791032 | 0.084087316 |\n",
       "| SPR330D |  -0.03365234 |  0.4012711 | -0.08386435 | 0.933168796 |\n",
       "| SPR440D |  -0.43182707 |  0.2718852 | -1.58826958 | 0.112310400 |\n",
       "| VST020D |   0.53220207 |  0.2990330 |  1.77974346 | 0.075199591 |\n",
       "\n"
      ],
      "text/plain": [
       "                Estimate      Cluster s.e. t value     Pr(>|t|)    \n",
       "(Intercept)      1.675988e-15 1.659040e-15  1.0102155  0.3124577934\n",
       "logfssl          1.906447e-01 5.244756e-02  3.6349591  0.0002817867\n",
       "logrobr          1.890471e-01 5.385086e-02  3.5105680  0.0004524588\n",
       "logburg          2.192630e-01 6.282510e-02  3.4900546  0.0004885304\n",
       "burg_missing     1.529614e+00 4.443831e-01  3.4421076  0.0005835660\n",
       "robrate_missing  1.133081e+00 3.047595e-01  3.7179522  0.0002038034\n",
       "newblack         2.434718e+01 4.480200e+01  0.5434397  0.5868597027\n",
       "newfhh          -6.875928e+01 1.146440e+02 -0.5997632  0.5487006184\n",
       "newmove          4.211082e+01 2.869630e+01  1.4674649  0.1423341971\n",
       "newdens                   NaN 0.000000e+00        NaN           NaN\n",
       "newmal           6.116798e-01 2.747573e-01  2.2262549  0.0260568012\n",
       "AGE010D                   NaN 0.000000e+00        NaN           NaN\n",
       "AGE050D          1.042682e+01 6.123894e+00  1.7026455  0.0887179971\n",
       "AGE110D         -6.459149e+00 4.079379e+00 -1.5833657  0.1134231550\n",
       "AGE170D         -6.446777e+00 4.865130e+00 -1.3250986  0.1852198433\n",
       "AGE180D         -1.153232e+01 1.387809e+01 -0.8309731  0.4060421653\n",
       "AGE270D          3.565629e+01 1.975098e+01  1.8052917  0.0711098841\n",
       "AGE310D          1.938343e+01 2.660572e+01  0.7285436  0.4663267705\n",
       "AGE320D          1.588112e+00 1.533212e+00  1.0358074  0.3003593274\n",
       "AGE350D         -9.330175e+00 1.308344e+01 -0.7131288  0.4758107752\n",
       "AGE380D          2.713707e+01 2.716928e+01  0.9988143  0.3179496313\n",
       "AGE410D         -9.263883e+00 1.254796e+01 -0.7382778  0.4603922507\n",
       "AGE470D          5.171539e+00 2.509152e+00  2.0610704  0.0393656944\n",
       "AGE570D          3.818025e+00 1.956870e+00  1.9510873  0.0511216497\n",
       "AGE640D          1.965092e+00 1.301353e+00  1.5100375  0.1311188123\n",
       "AGE670D         -1.729271e+00 1.281977e+00 -1.3489093  0.1774482404\n",
       "AGE760D          8.113869e-01 3.211334e+00  0.2526635  0.8005421838\n",
       "BNK010D         -7.570156e-02 8.044091e-02 -0.9410828  0.3467235766\n",
       "BNK050D          1.852136e-02 6.938743e-02  0.2669267  0.7895403658\n",
       "BPS030D         -6.704976e-02 1.089697e-01 -0.6153063  0.5383901048\n",
       "...             ...           ...          ...         ...         \n",
       "POP210D          -0.97209645   0.7998094   -1.21541015 0.224286848 \n",
       "POP240D         -28.69339007  44.6041742   -0.64328935 0.520076029 \n",
       "POP440D          -3.88112370   2.2646538   -1.71378237 0.086652034 \n",
       "POP450D          11.63617966   7.3858170    1.57547630 0.115231602 \n",
       "POP470D          -3.53764116   1.2980421   -2.72536703 0.006453076 \n",
       "POP480D          -1.77257985   1.3831761   -1.28152871 0.200087916 \n",
       "POP540D          -1.48084629   2.1780103   -0.67990786 0.496605124 \n",
       "POP550D         -28.19151761   9.8025783   -2.87592884 0.004051311 \n",
       "POP570D           0.16646361   1.8156766    0.09168131 0.926956183 \n",
       "POP580D           2.25065499   1.8055245    1.24653803 0.212645443 \n",
       "POP700D          44.31693658  32.9945036    1.34316119 0.179301745 \n",
       "POP710D         -13.12781956   8.5494594   -1.53551458 0.124742543 \n",
       "POP720D           0.89198580   0.8173148    1.09136132 0.275184625 \n",
       "POP740D           0.40686412   0.4012353    1.01402872 0.310635014 \n",
       "PPQ010D          -0.31433106   0.4125242   -0.76196997 0.446126247 \n",
       "PPQ100D           0.49054324   0.2543427    1.92867065 0.053847782 \n",
       "PPQ110D                  NaN   0.0000000           NaN         NaN \n",
       "PPQ120D                  NaN   0.0000000           NaN         NaN \n",
       "PVY020D          -1.14717088   2.6420324   -0.43420016 0.664168287 \n",
       "PVY120D           2.03161358   1.9353901    1.04971787 0.293916055 \n",
       "PVY210D           0.30728204   0.4854728    0.63295424 0.526802444 \n",
       "PVY310D          -0.42834313   0.7508571   -0.57047226 0.568391896 \n",
       "PVY420D           0.61149837   1.7874181    0.34211267 0.732285434 \n",
       "PVY520D          -0.32686293   0.8053323   -0.40587336 0.684859006 \n",
       "SPR030D          -0.50017289   0.4806889   -1.04053346 0.298159768 \n",
       "SPR130D          -1.65749967   0.8607775   -1.92558437 0.054232451 \n",
       "SPR230D           1.44840169   0.8382389    1.72791032 0.084087316 \n",
       "SPR330D          -0.03365234   0.4012711   -0.08386435 0.933168796 \n",
       "SPR440D          -0.43182707   0.2718852   -1.58826958 0.112310400 \n",
       "VST020D           0.53220207   0.2990330    1.77974346 0.075199591 "
      ]
     },
     "metadata": {},
     "output_type": "display_data"
    }
   ],
   "source": [
    "summary(control.ols)$coef"
   ]
  },
  {
   "cell_type": "markdown",
   "id": "09318c93",
   "metadata": {
    "papermill": {
     "duration": 0.039309,
     "end_time": "2021-02-13T17:30:40.858783",
     "exception": false,
     "start_time": "2021-02-13T17:30:40.819474",
     "status": "completed"
    },
    "tags": []
   },
   "source": [
    "After controlling for a rich set of characteristics, the point estimate of gun ownership reduces to $0.19$."
   ]
  },
  {
   "cell_type": "markdown",
   "id": "c396769c",
   "metadata": {
    "papermill": {
     "duration": 0.022083,
     "end_time": "2021-02-13T17:30:40.902070",
     "exception": false,
     "start_time": "2021-02-13T17:30:40.879987",
     "status": "completed"
    },
    "tags": []
   },
   "source": [
    "# DML algorithm\n",
    "\n",
    "Here we perform inference of the predictive coefficient $\\beta$ in our partially linear statistical model, \n",
    "\n",
    "$$\n",
    "Y = D\\beta + g(Z) + \\epsilon, \\quad E (\\epsilon | D, Z) = 0,\n",
    "$$\n",
    "\n",
    "using the **double machine learning** approach. \n",
    "\n",
    "For $\\tilde Y = Y- E(Y|Z)$ and $\\tilde D= D- E(D|Z)$, we can write\n",
    "$$\n",
    "\\tilde Y = \\alpha \\tilde D + \\epsilon, \\quad E (\\epsilon |\\tilde D) =0.\n",
    "$$\n",
    "\n",
    "Using cross-fitting, we employ modern regression methods\n",
    "to build estimators $\\hat \\ell(Z)$ and $\\hat m(Z)$ of $\\ell(Z):=E(Y|Z)$ and $m(Z):=E(D|Z)$ to obtain the estimates of the residualized quantities:\n",
    "\n",
    "$$\n",
    "\\tilde Y_i = Y_i  - \\hat \\ell (Z_i),   \\quad \\tilde D_i = D_i - \\hat m(Z_i), \\quad \\text{ for each } i = 1,\\dots,n.\n",
    "$$\n",
    "\n",
    "Finally, using ordinary least squares of $\\tilde Y_i$ on $\\tilde D_i$, we obtain the \n",
    "estimate of $\\beta$."
   ]
  },
  {
   "cell_type": "markdown",
   "id": "b5472f12",
   "metadata": {
    "papermill": {
     "duration": 0.021101,
     "end_time": "2021-02-13T17:30:40.944373",
     "exception": false,
     "start_time": "2021-02-13T17:30:40.923272",
     "status": "completed"
    },
    "tags": []
   },
   "source": [
    "The following algorithm comsumes $Y, D, Z$, and a machine learning method for learning the residuals $\\tilde Y$ and $\\tilde D$, where the residuals are obtained by cross-validation (cross-fitting). Then, it prints the estimated coefficient $\\beta$ and the corresponding standard error from the final OLS regression."
   ]
  },
  {
   "cell_type": "code",
   "execution_count": 86,
   "id": "d13444d3",
   "metadata": {},
   "outputs": [
    {
     "data": {
      "text/html": [
       "<style>\n",
       ".list-inline {list-style: none; margin:0; padding: 0}\n",
       ".list-inline>li {display: inline-block}\n",
       ".list-inline>li:not(:last-child)::after {content: \"\\00b7\"; padding: 0 .5ex}\n",
       "</style>\n",
       "<ol class=list-inline><li>1</li><li>2</li><li>3</li><li>4</li><li>5</li><li>6</li><li>7</li><li>8</li><li>9</li><li>10</li><li>11</li><li>12</li><li>13</li><li>14</li><li>15</li><li>16</li><li>17</li><li>18</li><li>19</li><li>20</li></ol>\n"
      ],
      "text/latex": [
       "\\begin{enumerate*}\n",
       "\\item 1\n",
       "\\item 2\n",
       "\\item 3\n",
       "\\item 4\n",
       "\\item 5\n",
       "\\item 6\n",
       "\\item 7\n",
       "\\item 8\n",
       "\\item 9\n",
       "\\item 10\n",
       "\\item 11\n",
       "\\item 12\n",
       "\\item 13\n",
       "\\item 14\n",
       "\\item 15\n",
       "\\item 16\n",
       "\\item 17\n",
       "\\item 18\n",
       "\\item 19\n",
       "\\item 20\n",
       "\\end{enumerate*}\n"
      ],
      "text/markdown": [
       "1. 1\n",
       "2. 2\n",
       "3. 3\n",
       "4. 4\n",
       "5. 5\n",
       "6. 6\n",
       "7. 7\n",
       "8. 8\n",
       "9. 9\n",
       "10. 10\n",
       "11. 11\n",
       "12. 12\n",
       "13. 13\n",
       "14. 14\n",
       "15. 15\n",
       "16. 16\n",
       "17. 17\n",
       "18. 18\n",
       "19. 19\n",
       "20. 20\n",
       "\n",
       "\n"
      ],
      "text/plain": [
       " [1]  1  2  3  4  5  6  7  8  9 10 11 12 13 14 15 16 17 18 19 20"
      ]
     },
     "metadata": {},
     "output_type": "display_data"
    }
   ],
   "source": [
    "I_1 <- c(1,2,3,4,5,6,7,8,9,10)\n",
    "I_2 <- c(11,12,13,14,15,16,17,18,19,20)\n",
    "I = c(I_1, I_2)\n",
    "I"
   ]
  },
  {
   "cell_type": "code",
   "execution_count": 87,
   "id": "4cb19d77",
   "metadata": {
    "execution": {
     "iopub.execute_input": "2021-02-13T17:30:41.049917Z",
     "iopub.status.busy": "2021-02-13T17:30:41.048343Z",
     "iopub.status.idle": "2021-02-13T17:30:41.060452Z",
     "shell.execute_reply": "2021-02-13T17:30:41.059555Z"
    },
    "papermill": {
     "duration": 0.095479,
     "end_time": "2021-02-13T17:30:41.060587",
     "exception": false,
     "start_time": "2021-02-13T17:30:40.965108",
     "status": "completed"
    },
    "tags": []
   },
   "outputs": [],
   "source": [
    "DML2.for.PLM <- function(z, d, y, dreg, yreg, nfold=2, clu) {\n",
    "  nobs <- nrow(z) #number of observations\n",
    "  foldid <- rep.int(1:nfold,times = ceiling(nobs/nfold))[sample.int(nobs)] #define folds indices\n",
    "  I <- split(1:nobs, foldid)  #split observation indices into folds  \n",
    "  ytil <- dtil <- rep(NA, nobs)\n",
    "  cat(\"fold: \")\n",
    "  for(b in 1:length(I)){\n",
    "    dfit <- dreg(z[-I[[b]],], d[-I[[b]]]) #take a fold out\n",
    "    yfit <- yreg(z[-I[[b]],], y[-I[[b]]]) # take a foldt out\n",
    "    dhat <- predict(dfit, z[I[[b]],], type=\"response\") #predict the left-out fold \n",
    "    yhat <- predict(yfit, z[I[[b]],], type=\"response\") #predict the left-out fold  \n",
    "    dtil[I[[b]]] <- (d[I[[b]]] - dhat) #record residual for the left-out fold\n",
    "    ytil[I[[b]]] <- (y[I[[b]]] - yhat) #record residial for the left-out fold\n",
    "    cat(b,\" \")\n",
    "        }\n",
    "  #rfit <- lm(ytil ~ dtil)    #estimate the main parameter by regressing one residual on the other\n",
    "  data <- data.frame(cbind(ytil, dtil, as.matrix(clu)))\n",
    "  rfit <- felm(ytil ~ dtil|0|0|CountyCode,data=data) \n",
    "  coef.est <- coef(rfit)[2]  #extract coefficient\n",
    "  #HC <- vcovHC(rfit)\n",
    "  se    <- summary(rfit,robust=T)$coefficients[2,2] #record robust standard error by County\n",
    "  cat(sprintf(\"\\ncoef (se) = %g (%g)\\n\", coef.est , se))  #printing output\n",
    "  return( list(coef.est =coef.est , se=se, dtil=dtil, ytil=ytil, rfit=rfit) ) #save output and residuals \n",
    "}"
   ]
  },
  {
   "cell_type": "markdown",
   "id": "3428361b",
   "metadata": {
    "papermill": {
     "duration": 0.020604,
     "end_time": "2021-02-13T17:30:41.102146",
     "exception": false,
     "start_time": "2021-02-13T17:30:41.081542",
     "status": "completed"
    },
    "tags": []
   },
   "source": [
    "Now, we apply the Double Machine Learning (DML) approach with different machine learning methods. First, we load the relevant libraries."
   ]
  },
  {
   "cell_type": "code",
   "execution_count": 88,
   "id": "75a1f547",
   "metadata": {
    "execution": {
     "iopub.execute_input": "2021-02-13T17:30:41.148547Z",
     "iopub.status.busy": "2021-02-13T17:30:41.147436Z",
     "iopub.status.idle": "2021-02-13T17:30:41.609900Z",
     "shell.execute_reply": "2021-02-13T17:30:41.609227Z"
    },
    "papermill": {
     "duration": 0.486944,
     "end_time": "2021-02-13T17:30:41.610047",
     "exception": false,
     "start_time": "2021-02-13T17:30:41.123103",
     "status": "completed"
    },
    "tags": []
   },
   "outputs": [],
   "source": [
    "library(hdm)\n",
    "library(glmnet)\n",
    "library(sandwich)\n",
    "library(randomForest)"
   ]
  },
  {
   "cell_type": "markdown",
   "id": "cb5e503e",
   "metadata": {
    "papermill": {
     "duration": 0.022531,
     "end_time": "2021-02-13T17:30:41.655799",
     "exception": false,
     "start_time": "2021-02-13T17:30:41.633268",
     "status": "completed"
    },
    "tags": []
   },
   "source": [
    "Let us, construct the input matrices."
   ]
  },
  {
   "cell_type": "code",
   "execution_count": 89,
   "id": "14c72404",
   "metadata": {
    "execution": {
     "iopub.execute_input": "2021-02-13T17:30:41.706539Z",
     "iopub.status.busy": "2021-02-13T17:30:41.705289Z",
     "iopub.status.idle": "2021-02-13T17:30:41.750368Z",
     "shell.execute_reply": "2021-02-13T17:30:41.749361Z"
    },
    "papermill": {
     "duration": 0.071827,
     "end_time": "2021-02-13T17:30:41.750537",
     "exception": false,
     "start_time": "2021-02-13T17:30:41.678710",
     "status": "completed"
    },
    "tags": []
   },
   "outputs": [
    {
     "data": {
      "text/html": [
       "<table class=\"dataframe\">\n",
       "<caption>A data.frame: 6 × 3</caption>\n",
       "<thead>\n",
       "\t<tr><th></th><th scope=col>logghomr</th><th scope=col>logfssl</th><th scope=col>CountyCode</th></tr>\n",
       "\t<tr><th></th><th scope=col>&lt;dbl&gt;</th><th scope=col>&lt;dbl&gt;</th><th scope=col>&lt;dbl&gt;</th></tr>\n",
       "</thead>\n",
       "<tbody>\n",
       "\t<tr><th scope=row>1</th><td>-0.13477752</td><td> 0.096127077</td><td>1073</td></tr>\n",
       "\t<tr><th scope=row>2</th><td>-0.23962152</td><td> 0.080809373</td><td>1073</td></tr>\n",
       "\t<tr><th scope=row>3</th><td>-0.07867716</td><td> 0.057339916</td><td>1073</td></tr>\n",
       "\t<tr><th scope=row>4</th><td>-0.33146546</td><td> 0.081694483</td><td>1073</td></tr>\n",
       "\t<tr><th scope=row>5</th><td>-0.31663980</td><td> 0.025365514</td><td>1073</td></tr>\n",
       "\t<tr><th scope=row>6</th><td> 0.10513190</td><td>-0.006777264</td><td>1073</td></tr>\n",
       "</tbody>\n",
       "</table>\n"
      ],
      "text/latex": [
       "A data.frame: 6 × 3\n",
       "\\begin{tabular}{r|lll}\n",
       "  & logghomr & logfssl & CountyCode\\\\\n",
       "  & <dbl> & <dbl> & <dbl>\\\\\n",
       "\\hline\n",
       "\t1 & -0.13477752 &  0.096127077 & 1073\\\\\n",
       "\t2 & -0.23962152 &  0.080809373 & 1073\\\\\n",
       "\t3 & -0.07867716 &  0.057339916 & 1073\\\\\n",
       "\t4 & -0.33146546 &  0.081694483 & 1073\\\\\n",
       "\t5 & -0.31663980 &  0.025365514 & 1073\\\\\n",
       "\t6 &  0.10513190 & -0.006777264 & 1073\\\\\n",
       "\\end{tabular}\n"
      ],
      "text/markdown": [
       "\n",
       "A data.frame: 6 × 3\n",
       "\n",
       "| <!--/--> | logghomr &lt;dbl&gt; | logfssl &lt;dbl&gt; | CountyCode &lt;dbl&gt; |\n",
       "|---|---|---|---|\n",
       "| 1 | -0.13477752 |  0.096127077 | 1073 |\n",
       "| 2 | -0.23962152 |  0.080809373 | 1073 |\n",
       "| 3 | -0.07867716 |  0.057339916 | 1073 |\n",
       "| 4 | -0.33146546 |  0.081694483 | 1073 |\n",
       "| 5 | -0.31663980 |  0.025365514 | 1073 |\n",
       "| 6 |  0.10513190 | -0.006777264 | 1073 |\n",
       "\n"
      ],
      "text/plain": [
       "  logghomr    logfssl      CountyCode\n",
       "1 -0.13477752  0.096127077 1073      \n",
       "2 -0.23962152  0.080809373 1073      \n",
       "3 -0.07867716  0.057339916 1073      \n",
       "4 -0.33146546  0.081694483 1073      \n",
       "5 -0.31663980  0.025365514 1073      \n",
       "6  0.10513190 -0.006777264 1073      "
      ]
     },
     "metadata": {},
     "output_type": "display_data"
    }
   ],
   "source": [
    "y <- as.matrix(Y)\n",
    "d <- as.matrix(D)\n",
    "z <- as.matrix(Z)\n",
    "clu <- rdata[which(colnames(rdata) == \"CountyCode\")]\n",
    "head(data.frame(cbind(y,d,as.matrix(clu))))"
   ]
  },
  {
   "cell_type": "markdown",
   "id": "8d63b332",
   "metadata": {
    "papermill": {
     "duration": 0.022813,
     "end_time": "2021-02-13T17:30:41.796577",
     "exception": false,
     "start_time": "2021-02-13T17:30:41.773764",
     "status": "completed"
    },
    "tags": []
   },
   "source": [
    "In the following, we apply the DML approach with the differnt versions of lasso.\n"
   ]
  },
  {
   "cell_type": "markdown",
   "id": "bd5bd389",
   "metadata": {
    "papermill": {
     "duration": 0.02306,
     "end_time": "2021-02-13T17:30:41.843131",
     "exception": false,
     "start_time": "2021-02-13T17:30:41.820071",
     "status": "completed"
    },
    "tags": []
   },
   "source": [
    "## Lasso"
   ]
  },
  {
   "cell_type": "code",
   "execution_count": 91,
   "id": "9d1cae89",
   "metadata": {
    "execution": {
     "iopub.execute_input": "2021-02-13T17:30:41.892634Z",
     "iopub.status.busy": "2021-02-13T17:30:41.891453Z",
     "iopub.status.idle": "2021-02-13T17:31:07.362797Z",
     "shell.execute_reply": "2021-02-13T17:31:07.360728Z"
    },
    "papermill": {
     "duration": 25.497739,
     "end_time": "2021-02-13T17:31:07.363059",
     "exception": false,
     "start_time": "2021-02-13T17:30:41.865320",
     "status": "completed"
    },
    "tags": []
   },
   "outputs": [],
   "source": [
    "#DML with Lasso:\n",
    "set.seed(123)\n",
    "dreg <- function(z,d){ rlasso(z,d, post=FALSE) } #ML method= lasso from hdm \n",
    "yreg <- function(z,y){ rlasso(z,y, post=FALSE) } #ML method = lasso from hdm"
   ]
  },
  {
   "cell_type": "code",
   "execution_count": 92,
   "id": "568f51fa",
   "metadata": {
    "execution": {
     "iopub.execute_input": "2021-02-13T17:30:41.892634Z",
     "iopub.status.busy": "2021-02-13T17:30:41.891453Z",
     "iopub.status.idle": "2021-02-13T17:31:07.362797Z",
     "shell.execute_reply": "2021-02-13T17:31:07.360728Z"
    },
    "papermill": {
     "duration": 25.497739,
     "end_time": "2021-02-13T17:31:07.363059",
     "exception": false,
     "start_time": "2021-02-13T17:30:41.865320",
     "status": "completed"
    },
    "tags": []
   },
   "outputs": [
    {
     "name": "stdout",
     "output_type": "stream",
     "text": [
      "fold: 1  2  3  4  5  6  7  8  9  10  \n",
      "coef (se) = 0.222959 (0.0570325)\n"
     ]
    }
   ],
   "source": [
    "DML2.lasso = DML2.for.PLM(z, d, y, dreg, yreg, nfold=10, clu)"
   ]
  },
  {
   "cell_type": "code",
   "execution_count": 93,
   "id": "caaaef6d",
   "metadata": {
    "execution": {
     "iopub.execute_input": "2021-02-13T17:31:07.450047Z",
     "iopub.status.busy": "2021-02-13T17:31:07.449335Z",
     "iopub.status.idle": "2021-02-13T17:31:33.296006Z",
     "shell.execute_reply": "2021-02-13T17:31:33.294119Z"
    },
    "papermill": {
     "duration": 25.88845,
     "end_time": "2021-02-13T17:31:33.296252",
     "exception": false,
     "start_time": "2021-02-13T17:31:07.407802",
     "status": "completed"
    },
    "tags": []
   },
   "outputs": [
    {
     "name": "stdout",
     "output_type": "stream",
     "text": [
      "fold: 1  2  3  4  5  6  7  8  9  10  \n",
      "coef (se) = 0.226934 (0.0561918)\n"
     ]
    }
   ],
   "source": [
    "#DML with Post-Lasso:\n",
    "dreg <- function(z,d){ rlasso(z,d, post=T) } #ML method= lasso from hdm \n",
    "yreg <- function(z,y){ rlasso(z,y, post=T) } #ML method = lasso from hdm\n",
    "DML2.post = DML2.for.PLM(z, d, y, dreg, yreg, nfold=10, clu)"
   ]
  },
  {
   "cell_type": "code",
   "execution_count": 94,
   "id": "b35464fb",
   "metadata": {
    "execution": {
     "iopub.execute_input": "2021-02-13T17:31:33.387359Z",
     "iopub.status.busy": "2021-02-13T17:31:33.386570Z",
     "iopub.status.idle": "2021-02-13T17:35:07.561791Z",
     "shell.execute_reply": "2021-02-13T17:35:07.562608Z"
    },
    "papermill": {
     "duration": 214.221131,
     "end_time": "2021-02-13T17:35:07.562866",
     "exception": false,
     "start_time": "2021-02-13T17:31:33.341735",
     "status": "completed"
    },
    "tags": []
   },
   "outputs": [
    {
     "name": "stdout",
     "output_type": "stream",
     "text": [
      "fold: 1  2  3  4  5  \n",
      "coef (se) = 0.194926 (0.0569378)\n",
      "fold: 1  2  3  4  5  \n",
      "coef (se) = 0.208474 (0.0600804)\n",
      "fold: 1  2  3  4  5  \n",
      "coef (se) = 0.200234 (0.0598422)\n"
     ]
    }
   ],
   "source": [
    "#DML with cross-validated Lasso:\n",
    "dreg <- function(z,d){ cv.glmnet(z,d,family=\"gaussian\", alpha=1) } #ML method = lasso from glmnet \n",
    "yreg <- function(z,y){ cv.glmnet(z,y,family=\"gaussian\", alpha=1) }  #ML method = lasso from glmnet \n",
    "DML2.lasso.cv = DML2.for.PLM(z, d, y, dreg, yreg, nfold=5, clu)\n",
    "\n",
    "dreg <- function(z,d){ cv.glmnet(z,d,family=\"gaussian\", alpha=0.5) } #ML method = elastic net from glmnet \n",
    "yreg <- function(z,y){ cv.glmnet(z,y,family=\"gaussian\", alpha=0.5) }  #ML method = elastic net from glmnet \n",
    "DML2.elnet = DML2.for.PLM(z, d, y, dreg, yreg, nfold=5, clu)\n",
    "\n",
    "dreg <- function(z,d){ cv.glmnet(z,d,family=\"gaussian\", alpha=0) } #ML method = ridge from glmnet \n",
    "yreg <- function(z,y){ cv.glmnet(z,y,family=\"gaussian\", alpha=0) }  #ML method = ridge from glmnet \n",
    "DML2.ridge = DML2.for.PLM(z, d, y, dreg, yreg, nfold=5, clu)"
   ]
  },
  {
   "cell_type": "markdown",
   "id": "d01f7054",
   "metadata": {
    "papermill": {
     "duration": 0.025906,
     "end_time": "2021-02-13T17:35:07.615290",
     "exception": false,
     "start_time": "2021-02-13T17:35:07.589384",
     "status": "completed"
    },
    "tags": []
   },
   "source": [
    "Here we also compute DML with OLS used as the ML method"
   ]
  },
  {
   "cell_type": "code",
   "execution_count": 95,
   "id": "81bfe06c",
   "metadata": {
    "execution": {
     "iopub.execute_input": "2021-02-13T17:35:07.679348Z",
     "iopub.status.busy": "2021-02-13T17:35:07.678603Z",
     "iopub.status.idle": "2021-02-13T17:35:14.164446Z",
     "shell.execute_reply": "2021-02-13T17:35:14.163551Z"
    },
    "papermill": {
     "duration": 6.523989,
     "end_time": "2021-02-13T17:35:14.164734",
     "exception": false,
     "start_time": "2021-02-13T17:35:07.640745",
     "status": "completed"
    },
    "tags": []
   },
   "outputs": [
    {
     "name": "stdout",
     "output_type": "stream",
     "text": [
      "fold: 1  2  3  4  5  6  7  8  9  10  \n",
      "coef (se) = 0.203079 (0.051136)\n"
     ]
    }
   ],
   "source": [
    "dreg <- function(z,d){  glmnet(z,d,family=\"gaussian\", lambda=0) } #ML method = ols from glmnet \n",
    "yreg <- function(z,y){  glmnet(z,y,family=\"gaussian\", lambda=0) }  #ML method = ols from glmnet \n",
    "DML2.ols = DML2.for.PLM(z, d, y, dreg, yreg, nfold=10, clu)"
   ]
  },
  {
   "cell_type": "markdown",
   "id": "10dcb91a",
   "metadata": {
    "papermill": {
     "duration": 0.024512,
     "end_time": "2021-02-13T17:35:14.215612",
     "exception": false,
     "start_time": "2021-02-13T17:35:14.191100",
     "status": "completed"
    },
    "tags": []
   },
   "source": [
    "Next, we also apply Random Forest for comparison purposes."
   ]
  },
  {
   "cell_type": "markdown",
   "id": "5b2b0da5",
   "metadata": {
    "papermill": {
     "duration": 0.025256,
     "end_time": "2021-02-13T17:35:14.266042",
     "exception": false,
     "start_time": "2021-02-13T17:35:14.240786",
     "status": "completed"
    },
    "tags": []
   },
   "source": [
    "### Random Forest\n"
   ]
  },
  {
   "cell_type": "code",
   "execution_count": 66,
   "id": "46d6cd87",
   "metadata": {
    "execution": {
     "iopub.execute_input": "2021-02-13T17:35:14.320437Z",
     "iopub.status.busy": "2021-02-13T17:35:14.319294Z",
     "iopub.status.idle": "2021-02-13T17:40:48.550498Z",
     "shell.execute_reply": "2021-02-13T17:40:48.551323Z"
    },
    "papermill": {
     "duration": 334.261061,
     "end_time": "2021-02-13T17:40:48.551591",
     "exception": false,
     "start_time": "2021-02-13T17:35:14.290530",
     "status": "completed"
    },
    "scrolled": false,
    "tags": []
   },
   "outputs": [
    {
     "name": "stdout",
     "output_type": "stream",
     "text": [
      "fold: 1  2  \n",
      "coef (se) = 0.153017 (0.0605311)\n"
     ]
    }
   ],
   "source": [
    "#DML with Random Forest:\n",
    "dreg <- function(z,d){ randomForest(z, d) } #ML method=Forest \n",
    "yreg <- function(z,y){ randomForest(z, y) } #ML method=Forest\n",
    "set.seed(1)\n",
    "DML2.RF = DML2.for.PLM(z, d, y, dreg, yreg, nfold=2, clu) # set to 2 due to computation time"
   ]
  },
  {
   "cell_type": "code",
   "execution_count": 91,
   "id": "06e5607a",
   "metadata": {},
   "outputs": [
    {
     "data": {
      "text/html": [
       "65"
      ],
      "text/latex": [
       "65"
      ],
      "text/markdown": [
       "65"
      ],
      "text/plain": [
       "[1] 65"
      ]
     },
     "metadata": {},
     "output_type": "display_data"
    }
   ],
   "source": [
    "if (!is.null(d) && !is.factor(d))\n",
    "             max(floor(ncol(z)/3), 1) else floor(sqrt(ncol(z)))"
   ]
  },
  {
   "cell_type": "code",
   "execution_count": 92,
   "id": "56ed7cc7",
   "metadata": {},
   "outputs": [
    {
     "data": {
      "text/html": [
       "5"
      ],
      "text/latex": [
       "5"
      ],
      "text/markdown": [
       "5"
      ],
      "text/plain": [
       "[1] 5"
      ]
     },
     "metadata": {},
     "output_type": "display_data"
    }
   ],
   "source": [
    "if (!is.null(d) && !is.factor(d)) 5 else 1"
   ]
  },
  {
   "cell_type": "markdown",
   "id": "0b3a5a93",
   "metadata": {
    "papermill": {
     "duration": 0.024871,
     "end_time": "2021-02-13T17:40:48.605021",
     "exception": false,
     "start_time": "2021-02-13T17:40:48.580150",
     "status": "completed"
    },
    "tags": []
   },
   "source": [
    "We conclude that the gun ownership rates are related to gun homicide rates - if gun ownership increases by 1% relative\n",
    "to a trend then the predicted gun homicide rate goes up by about 0.20% controlling for counties' characteristics."
   ]
  },
  {
   "cell_type": "markdown",
   "id": "9e77b714",
   "metadata": {
    "papermill": {
     "duration": 0.027238,
     "end_time": "2021-02-13T17:40:48.657096",
     "exception": false,
     "start_time": "2021-02-13T17:40:48.629858",
     "status": "completed"
    },
    "tags": []
   },
   "source": [
    "Finally, let's see which method is actually better. We compute RMSE for predicting D and Y, and see which\n",
    "of the methods works better.\n"
   ]
  },
  {
   "cell_type": "code",
   "execution_count": 96,
   "id": "d34c2d53",
   "metadata": {
    "execution": {
     "iopub.execute_input": "2021-02-13T17:40:48.735660Z",
     "iopub.status.busy": "2021-02-13T17:40:48.733563Z",
     "iopub.status.idle": "2021-02-13T17:40:48.775290Z",
     "shell.execute_reply": "2021-02-13T17:40:48.773348Z"
    },
    "papermill": {
     "duration": 0.087953,
     "end_time": "2021-02-13T17:40:48.775469",
     "exception": false,
     "start_time": "2021-02-13T17:40:48.687516",
     "status": "completed"
    },
    "tags": []
   },
   "outputs": [
    {
     "name": "stdout",
     "output_type": "stream",
     "text": [
      "               OLS       Lasso  Post-Lasso    CV Lasso    CV Ridge    CV Elnet\n",
      "RMSE D 0.000407561 3.25471e-05 1.32656e-04 0.000376929 7.24337e-04 9.66559e-04\n",
      "RMSE Y 0.000134575 3.35791e-05 6.89649e-05 0.000044933 8.41741e-05 5.80479e-19\n",
      "               RF\n",
      "RMSE D 0.01086246\n",
      "RMSE Y 0.00152755\n"
     ]
    }
   ],
   "source": [
    "mods<- list(DML2.ols, DML2.lasso, DML2.post, DML2.lasso.cv, DML2.ridge, DML2.elnet, DML2.RF)\n",
    "\n",
    "RMSE.mdl<- function(mdl) {\n",
    "RMSEY <- sqrt(mean(mdl$ytil)^2) \n",
    "RMSED <- sqrt(mean(mdl$dtil)^2) \n",
    "return( list(RMSEY=RMSEY, RMSED=RMSED))\n",
    "}\n",
    "\n",
    "#RMSE.mdl(DML2.lasso)\n",
    "\n",
    "#DML2.lasso$ytil\n",
    "\n",
    "Res<- lapply(mods, RMSE.mdl)\n",
    "\n",
    "\n",
    "prRes.Y<- c( Res[[1]]$RMSEY,Res[[2]]$RMSEY, Res[[3]]$RMSEY, Res[[4]]$RMSEY, Res[[5]]$RMSEY,  Res[[6]]$RMSEY, Res[[7]]$RMSEY)\n",
    "prRes.D<- c( Res[[1]]$RMSED,Res[[2]]$RMSED, Res[[3]]$RMSED, Res[[4]]$RMSED, Res[[5]]$RMSED, Res[[6]]$RMSED, Res[[7]]$RMSED)\n",
    "\n",
    "prRes<- rbind(prRes.Y, prRes.D); \n",
    "rownames(prRes)<- c(\"RMSE D\", \"RMSE Y\");\n",
    "colnames(prRes)<- c(\"OLS\", \"Lasso\", \"Post-Lasso\", \"CV Lasso\", \"CV Ridge\", \"CV Elnet\", \"RF\")\n",
    "print(prRes,digit=6)"
   ]
  },
  {
   "cell_type": "markdown",
   "id": "8a350f0d",
   "metadata": {
    "papermill": {
     "duration": 0.027155,
     "end_time": "2021-02-13T17:40:48.832101",
     "exception": false,
     "start_time": "2021-02-13T17:40:48.804946",
     "status": "completed"
    },
    "tags": []
   },
   "source": [
    "It looks like the best method for predicting D is Lasso, and the best method for predicting Y is CV Ridge.\n"
   ]
  },
  {
   "cell_type": "code",
   "execution_count": 97,
   "id": "87e3ea49",
   "metadata": {
    "execution": {
     "iopub.execute_input": "2021-02-13T17:40:48.887079Z",
     "iopub.status.busy": "2021-02-13T17:40:48.885820Z",
     "iopub.status.idle": "2021-02-13T17:41:18.806979Z",
     "shell.execute_reply": "2021-02-13T17:41:18.805624Z"
    },
    "papermill": {
     "duration": 29.950099,
     "end_time": "2021-02-13T17:41:18.807192",
     "exception": false,
     "start_time": "2021-02-13T17:40:48.857093",
     "status": "completed"
    },
    "tags": []
   },
   "outputs": [
    {
     "name": "stdout",
     "output_type": "stream",
     "text": [
      "fold: 1  2  3  4  5  6  7  8  9  10  \n",
      "coef (se) = 0.222066 (0.0565614)\n"
     ]
    }
   ],
   "source": [
    "dreg <- function(z,d){ rlasso(z,d, post=T) } #ML method= lasso from hdm \n",
    "yreg <- function(z,y){ cv.glmnet(z,y,family=\"gaussian\", alpha=0) }  #ML method = ridge from glmnet \n",
    "DML2.best= DML2.for.PLM(z, d, y, dreg, yreg, nfold=10, clu)"
   ]
  },
  {
   "cell_type": "markdown",
   "id": "237204cc",
   "metadata": {
    "papermill": {
     "duration": 0.034891,
     "end_time": "2021-02-13T17:41:18.892429",
     "exception": false,
     "start_time": "2021-02-13T17:41:18.857538",
     "status": "completed"
    },
    "tags": []
   },
   "source": [
    "Let's organize the results in a table."
   ]
  },
  {
   "cell_type": "code",
   "execution_count": 84,
   "id": "cdc1a64e",
   "metadata": {},
   "outputs": [
    {
     "data": {
      "text/html": [
       "<style>\n",
       ".dl-inline {width: auto; margin:0; padding: 0}\n",
       ".dl-inline>dt, .dl-inline>dd {float: none; width: auto; display: inline-block}\n",
       ".dl-inline>dt::after {content: \":\\0020\"; padding-right: .5ex}\n",
       ".dl-inline>dt:not(:first-of-type) {padding-left: .5ex}\n",
       "</style><dl class=dl-inline><dt>Estimate</dt><dd>0.282304466633205</dd><dt>Cluster s.e.</dt><dd>0.0648107978379264</dd><dt>t value</dt><dd>4.35582458557552</dd><dt>Pr(&gt;|t|)</dt><dd>1.35976701238427e-05</dd></dl>\n"
      ],
      "text/latex": [
       "\\begin{description*}\n",
       "\\item[Estimate] 0.282304466633205\n",
       "\\item[Cluster s.e.] 0.0648107978379264\n",
       "\\item[t value] 4.35582458557552\n",
       "\\item[Pr(>\\textbackslash{}textbar\\{\\}t\\textbackslash{}textbar\\{\\})] 1.35976701238427e-05\n",
       "\\end{description*}\n"
      ],
      "text/markdown": [
       "Estimate\n",
       ":   0.282304466633205Cluster s.e.\n",
       ":   0.0648107978379264t value\n",
       ":   4.35582458557552Pr(&amp;gt;|t|)\n",
       ":   1.35976701238427e-05\n",
       "\n"
      ],
      "text/plain": [
       "    Estimate Cluster s.e.      t value     Pr(>|t|) \n",
       "2.823045e-01 6.481080e-02 4.355825e+00 1.359767e-05 "
      ]
     },
     "metadata": {},
     "output_type": "display_data"
    }
   ],
   "source": [
    "est_baseline"
   ]
  },
  {
   "cell_type": "code",
   "execution_count": 18,
   "id": "1078e698",
   "metadata": {
    "execution": {
     "iopub.execute_input": "2021-02-13T17:41:18.948154Z",
     "iopub.status.busy": "2021-02-13T17:41:18.946908Z",
     "iopub.status.idle": "2021-02-13T17:41:19.006359Z",
     "shell.execute_reply": "2021-02-13T17:41:19.005308Z"
    },
    "papermill": {
     "duration": 0.088669,
     "end_time": "2021-02-13T17:41:19.006521",
     "exception": false,
     "start_time": "2021-02-13T17:41:18.917852",
     "status": "completed"
    },
    "tags": []
   },
   "outputs": [
    {
     "data": {
      "text/html": [
       "<table class=\"dataframe\">\n",
       "<caption>A matrix: 9 × 2 of type dbl</caption>\n",
       "<thead>\n",
       "\t<tr><th></th><th scope=col>Estimate</th><th scope=col>Standard Error</th></tr>\n",
       "</thead>\n",
       "<tbody>\n",
       "\t<tr><th scope=row>Baseline OLS</th><td>0.2823045</td><td>0.06481080</td></tr>\n",
       "\t<tr><th scope=row>Least Squares with controls</th><td>0.1906447</td><td>0.05244756</td></tr>\n",
       "\t<tr><th scope=row>Lasso</th><td>0.2228074</td><td>0.05702673</td></tr>\n",
       "\t<tr><th scope=row>Post-Lasso</th><td>0.2269338</td><td>0.05619181</td></tr>\n",
       "\t<tr><th scope=row>CV Lasso</th><td>0.2004742</td><td>0.05764115</td></tr>\n",
       "\t<tr><th scope=row>CV Elnet</th><td>0.2061170</td><td>0.05746222</td></tr>\n",
       "\t<tr><th scope=row>CV Ridge</th><td>0.2013789</td><td>0.05790663</td></tr>\n",
       "\t<tr><th scope=row>Random Forest</th><td>0.1921739</td><td>0.05814101</td></tr>\n",
       "\t<tr><th scope=row>Best</th><td>0.2190048</td><td>0.05721956</td></tr>\n",
       "</tbody>\n",
       "</table>\n"
      ],
      "text/latex": [
       "A matrix: 9 × 2 of type dbl\n",
       "\\begin{tabular}{r|ll}\n",
       "  & Estimate & Standard Error\\\\\n",
       "\\hline\n",
       "\tBaseline OLS & 0.2823045 & 0.06481080\\\\\n",
       "\tLeast Squares with controls & 0.1906447 & 0.05244756\\\\\n",
       "\tLasso & 0.2228074 & 0.05702673\\\\\n",
       "\tPost-Lasso & 0.2269338 & 0.05619181\\\\\n",
       "\tCV Lasso & 0.2004742 & 0.05764115\\\\\n",
       "\tCV Elnet & 0.2061170 & 0.05746222\\\\\n",
       "\tCV Ridge & 0.2013789 & 0.05790663\\\\\n",
       "\tRandom Forest & 0.1921739 & 0.05814101\\\\\n",
       "\tBest & 0.2190048 & 0.05721956\\\\\n",
       "\\end{tabular}\n"
      ],
      "text/markdown": [
       "\n",
       "A matrix: 9 × 2 of type dbl\n",
       "\n",
       "| <!--/--> | Estimate | Standard Error |\n",
       "|---|---|---|\n",
       "| Baseline OLS | 0.2823045 | 0.06481080 |\n",
       "| Least Squares with controls | 0.1906447 | 0.05244756 |\n",
       "| Lasso | 0.2228074 | 0.05702673 |\n",
       "| Post-Lasso | 0.2269338 | 0.05619181 |\n",
       "| CV Lasso | 0.2004742 | 0.05764115 |\n",
       "| CV Elnet | 0.2061170 | 0.05746222 |\n",
       "| CV Ridge | 0.2013789 | 0.05790663 |\n",
       "| Random Forest | 0.1921739 | 0.05814101 |\n",
       "| Best | 0.2190048 | 0.05721956 |\n",
       "\n"
      ],
      "text/plain": [
       "                            Estimate  Standard Error\n",
       "Baseline OLS                0.2823045 0.06481080    \n",
       "Least Squares with controls 0.1906447 0.05244756    \n",
       "Lasso                       0.2228074 0.05702673    \n",
       "Post-Lasso                  0.2269338 0.05619181    \n",
       "CV Lasso                    0.2004742 0.05764115    \n",
       "CV Elnet                    0.2061170 0.05746222    \n",
       "CV Ridge                    0.2013789 0.05790663    \n",
       "Random Forest               0.1921739 0.05814101    \n",
       "Best                        0.2190048 0.05721956    "
      ]
     },
     "metadata": {},
     "output_type": "display_data"
    }
   ],
   "source": [
    "library(xtable)\n",
    "\n",
    "table <- matrix(0,9,2)\n",
    "table[1,1] <- as.numeric(est_baseline[1])\n",
    "table[2,1] <- as.numeric(est_ols[1])\n",
    "table[3,1]   <- as.numeric(DML2.lasso$coef.est)\n",
    "table[4,1]   <- as.numeric(DML2.post$coef.est)\n",
    "table[5,1]  <-as.numeric(DML2.lasso.cv$coef.est)\n",
    "table[6,1] <-as.numeric(DML2.elnet$coef.est)\n",
    "table[7,1] <-as.numeric(DML2.ridge$coef.est)\n",
    "table[8,1] <-as.numeric(DML2.RF$coef.est)\n",
    "table[9,1] <-as.numeric(DML2.best$coef.est)\n",
    "table[1,2] <- as.numeric(est_baseline[2])\n",
    "table[2,2] <- as.numeric(est_ols[2])\n",
    "table[3,2]   <- as.numeric(DML2.lasso$se)\n",
    "table[4,2]   <- as.numeric(DML2.post$se)\n",
    "table[5,2]  <-as.numeric(DML2.lasso.cv$se)\n",
    "table[6,2] <-as.numeric(DML2.elnet$se)\n",
    "table[7,2] <-as.numeric(DML2.ridge$se)\n",
    "table[8,2] <-as.numeric(DML2.RF$se)\n",
    "table[9,2] <-as.numeric(DML2.best$se)\n",
    "\n",
    "\n",
    "\n",
    "\n",
    "################################# Print Results #################################\n",
    "\n",
    "colnames(table) <- c(\"Estimate\",\"Standard Error\")\n",
    "rownames(table) <- c(\"Baseline OLS\", \"Least Squares with controls\", \"Lasso\", \"Post-Lasso\", \"CV Lasso\",\"CV Elnet\", \"CV Ridge\", \"Random Forest\", \n",
    "                     \"Best\")\n",
    "\n",
    "table"
   ]
  },
  {
   "cell_type": "code",
   "execution_count": 19,
   "id": "556978a3",
   "metadata": {
    "execution": {
     "iopub.execute_input": "2021-02-13T17:41:19.063047Z",
     "iopub.status.busy": "2021-02-13T17:41:19.062074Z",
     "iopub.status.idle": "2021-02-13T17:41:19.075566Z",
     "shell.execute_reply": "2021-02-13T17:41:19.074278Z"
    },
    "papermill": {
     "duration": 0.043017,
     "end_time": "2021-02-13T17:41:19.075707",
     "exception": false,
     "start_time": "2021-02-13T17:41:19.032690",
     "status": "completed"
    },
    "tags": []
   },
   "outputs": [
    {
     "name": "stdout",
     "output_type": "stream",
     "text": [
      "                            Estimate Standard Error\n",
      "Baseline OLS                   0.282         0.0648\n",
      "Least Squares with controls    0.191         0.0524\n",
      "Lasso                          0.223         0.0570\n",
      "Post-Lasso                     0.227         0.0562\n",
      "CV Lasso                       0.200         0.0576\n",
      "CV Elnet                       0.206         0.0575\n",
      "CV Ridge                       0.201         0.0579\n",
      "Random Forest                  0.192         0.0581\n",
      "Best                           0.219         0.0572\n"
     ]
    }
   ],
   "source": [
    "print(table, digit=3)\n"
   ]
  },
  {
   "cell_type": "code",
   "execution_count": 20,
   "id": "076a1652",
   "metadata": {
    "execution": {
     "iopub.execute_input": "2021-02-13T17:41:19.135002Z",
     "iopub.status.busy": "2021-02-13T17:41:19.134319Z",
     "iopub.status.idle": "2021-02-13T17:41:19.154458Z",
     "shell.execute_reply": "2021-02-13T17:41:19.152712Z"
    },
    "papermill": {
     "duration": 0.052331,
     "end_time": "2021-02-13T17:41:19.154690",
     "exception": false,
     "start_time": "2021-02-13T17:41:19.102359",
     "status": "completed"
    },
    "tags": []
   },
   "outputs": [
    {
     "name": "stdout",
     "output_type": "stream",
     "text": [
      "% latex table generated in R 3.6.3 by xtable 1.8-4 package\n",
      "% Sat Feb 13 17:41:19 2021\n",
      "\\begin{table}[ht]\n",
      "\\centering\n",
      "\\begin{tabular}{rrr}\n",
      "  \\hline\n",
      " & Estimate & Standard Error \\\\ \n",
      "  \\hline\n",
      "Baseline OLS & 0.282 & 0.065 \\\\ \n",
      "  Least Squares with controls & 0.191 & 0.052 \\\\ \n",
      "  Lasso & 0.223 & 0.057 \\\\ \n",
      "  Post-Lasso & 0.227 & 0.056 \\\\ \n",
      "  CV Lasso & 0.200 & 0.058 \\\\ \n",
      "  CV Elnet & 0.206 & 0.057 \\\\ \n",
      "  CV Ridge & 0.201 & 0.058 \\\\ \n",
      "  Random Forest & 0.192 & 0.058 \\\\ \n",
      "  Best & 0.219 & 0.057 \\\\ \n",
      "   \\hline\n",
      "\\end{tabular}\n",
      "\\end{table}\n"
     ]
    }
   ],
   "source": [
    "tab<- xtable(table, digits=3)\n",
    "print(tab, type=\"latex\")"
   ]
  },
  {
   "cell_type": "code",
   "execution_count": null,
   "id": "bd247f61",
   "metadata": {},
   "outputs": [],
   "source": []
  }
 ],
 "metadata": {
  "kernelspec": {
   "display_name": "Julia 1.6.5",
   "language": "julia",
   "name": "julia-1.6"
  },
  "language_info": {
   "file_extension": ".jl",
   "mimetype": "application/julia",
   "name": "julia",
   "version": "1.6.5"
  }
 },
 "nbformat": 4,
 "nbformat_minor": 5
}
