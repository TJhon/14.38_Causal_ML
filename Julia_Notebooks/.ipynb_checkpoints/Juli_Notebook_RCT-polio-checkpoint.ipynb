{
 "cells": [
  {
   "cell_type": "markdown",
   "metadata": {},
   "source": [
    "#### Author: Roberto Mendoza\n",
    "#### Date: 03/03/2020\n",
    "#### RCT application Polio  vaccination \n"
   ]
  },
  {
   "cell_type": "code",
   "execution_count": 26,
   "metadata": {},
   "outputs": [
    {
     "name": "stderr",
     "output_type": "stream",
     "text": [
      "\u001b[32m\u001b[1m   Resolving\u001b[22m\u001b[39m package versions...\n",
      "\u001b[32m\u001b[1m  No Changes\u001b[22m\u001b[39m to `C:\\Users\\Roberto Carlos\\.julia\\environments\\v1.7\\Project.toml`\n",
      "\u001b[32m\u001b[1m  No Changes\u001b[22m\u001b[39m to `C:\\Users\\Roberto Carlos\\.julia\\environments\\v1.7\\Manifest.toml`\n"
     ]
    }
   ],
   "source": [
    "## Install package \n",
    "\n",
    "using Random   # for random seeds\n",
    "\n",
    "import Pkg; Pkg.add(\"CairoMakie\")\n",
    "using     # for density plot \n",
    "\n",
    "using Statistics "
   ]
  },
  {
   "cell_type": "code",
   "execution_count": 12,
   "metadata": {},
   "outputs": [
    {
     "data": {
      "text/plain": [
       "0.7123516206478694"
      ]
     },
     "execution_count": 12,
     "metadata": {},
     "output_type": "execute_result"
    }
   ],
   "source": [
    "NV = 200745 # number of vaccinated (treated)\n",
    "NU = 201229 # number of unvaccinated (control)\n",
    "RV= 33/NV  # average outcome for vaccinated\n",
    "RU =115/NU  # average outcome for unvaccinated\n",
    "VE = (RU - RV)/RU # vaccine efficacy"
   ]
  },
  {
   "cell_type": "code",
   "execution_count": 13,
   "metadata": {},
   "outputs": [
    {
     "name": "stdout",
     "output_type": "stream",
     "text": [
      "Incidence per 100000 among treated: 16.4388\n",
      "Incidence per 100000 among untreated: 57.1488\n",
      "Estimated ATE of occurances per 100,000 is: -40.7101\n"
     ]
    }
   ],
   "source": [
    "## Incidence per 100000\n",
    "\n",
    "n = 100000\n",
    "\n",
    "IncidenceRV = RV*n\n",
    "IncidenceRU = RU*n\n",
    "\n",
    "#Treatment effect - estimated reduction in incidence of polio per 100000 people\n",
    "\n",
    "ATE_hat = n*(RV-RU)\n",
    "\n",
    "println(\"Incidence per 100000 among treated: \", round(IncidenceRV; digits =4))\n",
    "\n",
    "println(\"Incidence per 100000 among untreated: \", round(IncidenceRU; digits =4))\n",
    "\n",
    "println(\"Estimated ATE of occurances per 100,000 is: \", round(ATE_hat; digits =4))"
   ]
  },
  {
   "cell_type": "code",
   "execution_count": 14,
   "metadata": {
    "scrolled": true
   },
   "outputs": [
    {
     "name": "stdout",
     "output_type": "stream",
     "text": [
      "Standard deviation for ATE is:  6.0474\n"
     ]
    }
   ],
   "source": [
    "# outcomes (RV, RU) are Bernoulli\n",
    "# variance, standard deviation and confidence interval of ATE \n",
    "\n",
    "var_RV = RV*(1-RV)/NV\n",
    "var_RU = RU*(1-RU)/NU\n",
    "\n",
    "var_ATE_hat  = n^2*(var_RV+var_RU)\n",
    "\n",
    "std_ATE_hat = sqrt(var_ATE_hat)\n",
    "\n",
    "println(\"Standard deviation for ATE is:  \", round(std_ATE_hat; digits =4))\n",
    "\n"
   ]
  },
  {
   "cell_type": "code",
   "execution_count": 22,
   "metadata": {
    "scrolled": true
   },
   "outputs": [
    {
     "name": "stdout",
     "output_type": "stream",
     "text": [
      "95% confidence interval of ATE is [-52.563, -28.8571]\n",
      "Overall VE is: 0.7124\n"
     ]
    }
   ],
   "source": [
    "# Confidence interval \n",
    "\n",
    "CI_ATE_hat =[ round(ATE_hat - 1.96*std_ATE_hat; digits = 4), round(ATE_hat + 1.96*std_ATE_hat; digits = 4)]\n",
    "\n",
    "println(\"95% confidence interval of ATE is $CI_ATE_hat\")\n",
    "\n",
    "println(\"Overall VE is: \" , round(VE; digits =4))"
   ]
  },
  {
   "cell_type": "code",
   "execution_count": 27,
   "metadata": {
    "scrolled": false
   },
   "outputs": [
    {
     "data": {
      "text/plain": [
       "10000-element Vector{Float64}:\n",
       " 0.6817224261974857\n",
       " 0.6953664347250816\n",
       " 0.7531459258609844\n",
       " 0.6867222213078893\n",
       " 0.6165362111226124\n",
       " 0.7817779666902431\n",
       " 0.6333934469608703\n",
       " 0.6556843828007883\n",
       " 0.8379647737634552\n",
       " 0.8132928763558297\n",
       " 0.6864550692620768\n",
       " 0.729847409124033\n",
       " 0.6893974356034072\n",
       " ⋮\n",
       " 0.7124512490775646\n",
       " 0.743478827635636\n",
       " 0.6243684604532374\n",
       " 0.7093989620521691\n",
       " 0.7272183082401089\n",
       " 0.588658896827336\n",
       " 0.6917235071731522\n",
       " 0.7243046193192478\n",
       " 0.7552945654793395\n",
       " 0.753296520825968\n",
       " 0.727182181643485\n",
       " 0.8022899199587447"
      ]
     },
     "execution_count": 27,
     "metadata": {},
     "output_type": "execute_result"
    }
   ],
   "source": [
    "# Confidence interval based on approximate bootstrap\n",
    "\n",
    "# Monte Carlo draws\n",
    "\n",
    "Random.seed!(1)\n",
    "\n",
    "B = 10000 #  number of boostraps\n",
    "RVs = RV*ones(Float16, B)  + randn(B)*sqrt(var_RV)\n",
    "RUs = RU*ones(Float16, B)  + randn(B)*sqrt(var_RU)\n",
    "VEs= (RUs - RVs)./RUs\n"
   ]
  },
  {
   "cell_type": "code",
   "execution_count": 69,
   "metadata": {
    "scrolled": false
   },
   "outputs": [
    {
     "name": "stdout",
     "output_type": "stream",
     "text": [
      "95% confidence interval of VE is [0.59, 0.8179]\n"
     ]
    },
    {
     "data": {
      "image/png": "[encoded data removed]",
      "text/plain": [
       "Figure()"
      ]
     },
     "execution_count": 69,
     "metadata": {},
     "output_type": "execute_result"
    }
   ],
   "source": [
    "## Confidence interval of VEs\n",
    "\n",
    "CI_VE = [round(quantile!(VEs, 0.025); digits = 4 ), round(quantile!(VEs, 0.975); digits = 4)]\n",
    "\n",
    "println(\"95% confidence interval of VE is $CI_VE\")\n",
    "\n",
    "## Approximate distribution of VEs estimates \n",
    "\n",
    "f = Figure(resolution = (600, 400))\n",
    "Axis(f[1,1], title = \"Approximate distribution of VEs estimates \")\n",
    "    \n",
    "density!(VEs, color = (:red, 0.1), strokecolor = :red, strokewidth = 1, strokearound = true) \n",
    "\n",
    "f"
   ]
  }
 ],
 "metadata": {
  "kernelspec": {
   "display_name": "Julia 1.7.2",
   "language": "julia",
   "name": "julia-1.7"
  },
  "language_info": {
   "file_extension": ".jl",
   "mimetype": "application/julia",
   "name": "julia",
   "version": "1.7.2"
  }
 },
 "nbformat": 4,
 "nbformat_minor": 4
}
