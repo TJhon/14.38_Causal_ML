{
 "cells": [
  {
   "cell_type": "markdown",
   "metadata": {},
   "source": [
    "### Author: Roberto Mendoza\n",
    "### Date: 03/03/2020\n"
   ]
  },
  {
   "cell_type": "code",
   "execution_count": 1,
   "metadata": {},
   "outputs": [
    {
     "name": "stderr",
     "output_type": "stream",
     "text": [
      "\n",
      "(process:20300): GLib-GIO-WARNING **: 14:13:56.107: Unexpectedly, UWP app `Evernote.Evernote_10.31.6.0_x86__q4d96b2w5wcc2' (AUMId `Evernote.Evernote_q4d96b2w5wcc2!Evernote') supports 1 extensions but has no verbs\n"
     ]
    }
   ],
   "source": [
    "## Install package \n",
    "\n",
    "using Random   # for random seeds\n",
    "\n",
    "#import Pkg; Pkg.add(\"CairoMakie\")\n",
    "using CairoMakie  # for density plot \n",
    "\n",
    "using Statistics \n",
    "#import Pkg; Pkg.add(\"Plots\")\n",
    "#import Pkg; Pkg.add(\"Distributions\")\n",
    "using Distributions"
   ]
  },
  {
   "cell_type": "markdown",
   "metadata": {},
   "source": [
    "## 1.0 RCT application Polio  vaccination "
   ]
  },
  {
   "cell_type": "code",
   "execution_count": 2,
   "metadata": {},
   "outputs": [
    {
     "data": {
      "text/plain": [
       "0.7123516206478694"
      ]
     },
     "execution_count": 2,
     "metadata": {},
     "output_type": "execute_result"
    }
   ],
   "source": [
    "NV = 200745 # number of vaccinated (treated)\n",
    "NU = 201229 # number of unvaccinated (control)\n",
    "RV= 33/NV  # average outcome for vaccinated\n",
    "RU =115/NU  # average outcome for unvaccinated\n",
    "VE = (RU - RV)/RU # vaccine efficacy"
   ]
  },
  {
   "cell_type": "code",
   "execution_count": 3,
   "metadata": {},
   "outputs": [
    {
     "name": "stdout",
     "output_type": "stream",
     "text": [
      "Incidence per 100000 among treated: 16.4388\n",
      "Incidence per 100000 among untreated: 57.1488\n",
      "Estimated ATE of occurances per 100,000 is: -40.7101\n"
     ]
    }
   ],
   "source": [
    "## Incidence per 100000\n",
    "\n",
    "n = 100000\n",
    "\n",
    "IncidenceRV = RV*n\n",
    "IncidenceRU = RU*n\n",
    "\n",
    "#Treatment effect - estimated reduction in incidence of polio per 100000 people\n",
    "\n",
    "ATE_hat = n*(RV-RU)\n",
    "\n",
    "println(\"Incidence per 100000 among treated: \", round(IncidenceRV; digits =4))\n",
    "\n",
    "println(\"Incidence per 100000 among untreated: \", round(IncidenceRU; digits =4))\n",
    "\n",
    "println(\"Estimated ATE of occurances per 100,000 is: \", round(ATE_hat; digits =4))"
   ]
  },
  {
   "cell_type": "code",
   "execution_count": 4,
   "metadata": {
    "scrolled": true
   },
   "outputs": [
    {
     "name": "stdout",
     "output_type": "stream",
     "text": [
      "Standard deviation for ATE is:  6.0474\n"
     ]
    }
   ],
   "source": [
    "# outcomes (RV, RU) are Bernoulli\n",
    "# variance, standard deviation and confidence interval of ATE \n",
    "\n",
    "var_RV = RV*(1-RV)/NV\n",
    "var_RU = RU*(1-RU)/NU\n",
    "\n",
    "var_ATE_hat  = n^2*(var_RV+var_RU)\n",
    "\n",
    "std_ATE_hat = sqrt(var_ATE_hat)\n",
    "\n",
    "println(\"Standard deviation for ATE is:  \", round(std_ATE_hat; digits =4))\n",
    "\n"
   ]
  },
  {
   "cell_type": "code",
   "execution_count": 5,
   "metadata": {
    "scrolled": false
   },
   "outputs": [
    {
     "name": "stdout",
     "output_type": "stream",
     "text": [
      "95% confidence interval of ATE is [-52.563, -28.8571]\n",
      "Overall VE is: 0.7124\n"
     ]
    }
   ],
   "source": [
    "# Confidence interval \n",
    "\n",
    "CI_ATE_hat =[ round(ATE_hat - 1.96*std_ATE_hat; digits = 4), round(ATE_hat + 1.96*std_ATE_hat; digits = 4)]\n",
    "\n",
    "println(\"95% confidence interval of ATE is $CI_ATE_hat\")\n",
    "\n",
    "println(\"Overall VE is: \" , round(VE; digits =4))"
   ]
  },
  {
   "cell_type": "code",
   "execution_count": 6,
   "metadata": {
    "scrolled": false
   },
   "outputs": [
    {
     "data": {
      "text/plain": [
       "10000-element Vector{Float64}:\n",
       " 0.6817224261974857\n",
       " 0.6953664347250816\n",
       " 0.7531459258609844\n",
       " 0.6867222213078893\n",
       " 0.6165362111226124\n",
       " 0.7817779666902431\n",
       " 0.6333934469608703\n",
       " 0.6556843828007883\n",
       " 0.8379647737634552\n",
       " 0.8132928763558297\n",
       " 0.6864550692620768\n",
       " 0.729847409124033\n",
       " 0.6893974356034072\n",
       " ⋮\n",
       " 0.7124512490775646\n",
       " 0.743478827635636\n",
       " 0.6243684604532374\n",
       " 0.7093989620521691\n",
       " 0.7272183082401089\n",
       " 0.588658896827336\n",
       " 0.6917235071731522\n",
       " 0.7243046193192478\n",
       " 0.7552945654793395\n",
       " 0.753296520825968\n",
       " 0.727182181643485\n",
       " 0.8022899199587447"
      ]
     },
     "execution_count": 6,
     "metadata": {},
     "output_type": "execute_result"
    }
   ],
   "source": [
    "# Confidence interval based on approximate bootstrap\n",
    "\n",
    "# Monte Carlo draws\n",
    "\n",
    "Random.seed!(1)\n",
    "\n",
    "B = 10000 #  number of boostraps\n",
    "RVs = RV*ones(Float16, B)  + randn(B)*sqrt(var_RV)\n",
    "RUs = RU*ones(Float16, B)  + randn(B)*sqrt(var_RU)\n",
    "VEs= (RUs - RVs)./RUs\n"
   ]
  },
  {
   "cell_type": "code",
   "execution_count": 7,
   "metadata": {
    "scrolled": false
   },
   "outputs": [
    {
     "name": "stdout",
     "output_type": "stream",
     "text": [
      "two-sided 95% confidence interval of VE is [0.59, 0.8179]\n"
     ]
    },
    {
     "data": {
      "image/png": "[encoded data removed]",
      "text/plain": [
       "Figure()"
      ]
     },
     "execution_count": 7,
     "metadata": {},
     "output_type": "execute_result"
    }
   ],
   "source": [
    "## Confidence interval of VEs\n",
    "\n",
    "CI_VE = [round(quantile!(VEs, 0.025); digits = 4 ), round(quantile!(VEs, 0.975); digits = 4)]\n",
    "\n",
    "println(\"two-sided 95% confidence interval of VE is $CI_VE\")\n",
    "\n",
    "## Approximate distribution of VEs estimates \n",
    "\n",
    "f = Figure(resolution = (600, 400))\n",
    "Axis(f[1,1], title = \"Approximate distribution of VEs estimates \")\n",
    "    \n",
    "density!(VEs, color = (:red, 0.1), strokecolor = :red, strokewidth = 1, strokearound = true, bandwidth = 0.008257) \n",
    "\n",
    "f\n"
   ]
  },
  {
   "cell_type": "markdown",
   "metadata": {},
   "source": [
    "## 2.0 Pfizer/BNTX Covid-19 RCT application"
   ]
  },
  {
   "cell_type": "code",
   "execution_count": 9,
   "metadata": {},
   "outputs": [],
   "source": [
    "# define inputs \n",
    "\n",
    "NV =  19965; # number vaccinated\n",
    "NU =  20172; # number unvaccinated\n",
    "RV = 9/NV; # average outcome for vaccinated\n",
    "RU = 169/NU; # average outcome for unvaccinated\n",
    "VE = (RU - RV)/RU; # vaccine efficacy\n"
   ]
  },
  {
   "cell_type": "code",
   "execution_count": 10,
   "metadata": {},
   "outputs": [
    {
     "name": "stdout",
     "output_type": "stream",
     "text": [
      "Incidence per 100000 among treated: 45.0789\n",
      "Incidence per 100000 among untreated: 837.795\n",
      "Estimated ATE of occurances per 100 000 is: -792.7161\n"
     ]
    }
   ],
   "source": [
    "## Incidence per 100000\n",
    "\n",
    "n = 100000\n",
    "\n",
    "IncidenceRV = RV*n\n",
    "IncidenceRU = RU*n\n",
    "\n",
    "#Treatment effect - estimated reduction in incidence of polio per 100000 people\n",
    "\n",
    "ATE_hat = n*(RV-RU)\n",
    "\n",
    "println(\"Incidence per 100000 among treated: \", round(IncidenceRV; digits =4))\n",
    "\n",
    "println(\"Incidence per 100000 among untreated: \", round(IncidenceRU; digits =4))\n",
    "\n",
    "println(\"Estimated ATE of occurances per 100 000 is: \", round(ATE_hat; digits =4))"
   ]
  },
  {
   "cell_type": "code",
   "execution_count": 11,
   "metadata": {},
   "outputs": [
    {
     "name": "stdout",
     "output_type": "stream",
     "text": [
      "Standard deviation for ATE is:  65.9102\n"
     ]
    }
   ],
   "source": [
    "# outcomes (RV, RU) are Bernoulli\n",
    "# variance, standard deviation and confidence interval of ATE \n",
    "\n",
    "var_RV = RV*(1-RV)/NV\n",
    "var_RU = RU*(1-RU)/NU\n",
    "\n",
    "var_ATE_hat  = n^2*(var_RV+var_RU)\n",
    "\n",
    "std_ATE_hat = sqrt(var_ATE_hat)\n",
    "\n",
    "println(\"Standard deviation for ATE is:  \", round(std_ATE_hat; digits =4))\n"
   ]
  },
  {
   "cell_type": "code",
   "execution_count": 12,
   "metadata": {},
   "outputs": [
    {
     "name": "stdout",
     "output_type": "stream",
     "text": [
      "95% confidence interval of ATE is [-921.9, -663.5322]\n",
      "Overall VE is: 0.9462\n"
     ]
    }
   ],
   "source": [
    "# Confidence interval \n",
    "\n",
    "CI_ATE_hat =[ round(ATE_hat - 1.96*std_ATE_hat; digits = 4), round(ATE_hat + 1.96*std_ATE_hat; digits = 4)]\n",
    "\n",
    "println(\"95% confidence interval of ATE is $CI_ATE_hat\")\n",
    "\n",
    "println(\"Overall VE is: \" , round(VE; digits =4))"
   ]
  },
  {
   "cell_type": "markdown",
   "metadata": {},
   "source": [
    "### 2.1 Approximate bootstrap to find the VE confidence interval"
   ]
  },
  {
   "cell_type": "code",
   "execution_count": 13,
   "metadata": {},
   "outputs": [
    {
     "data": {
      "text/plain": [
       "10000-element Vector{Float64}:\n",
       " 0.9408814093514811\n",
       " 0.9407141481447149\n",
       " 0.9583954955606354\n",
       " 0.9418011045721292\n",
       " 0.9195806666751577\n",
       " 0.9735151090522808\n",
       " 0.9324119521198911\n",
       " 0.9283966354436475\n",
       " 0.9959369160363154\n",
       " 0.9806489086264251\n",
       " 0.9399270593044702\n",
       " 0.9558969100456748\n",
       " 0.9398759241059838\n",
       " ⋮\n",
       " 0.9572265468704411\n",
       " 0.9589555046200413\n",
       " 0.9254816573864182\n",
       " 0.9433292399034574\n",
       " 0.9494612927672281\n",
       " 0.9006061197052284\n",
       " 0.9342904269034605\n",
       " 0.9500620084283901\n",
       " 0.9592797266834576\n",
       " 0.9541960000272378\n",
       " 0.9499975261585338\n",
       " 0.9728994198085604"
      ]
     },
     "execution_count": 13,
     "metadata": {},
     "output_type": "execute_result"
    }
   ],
   "source": [
    "Random.seed!(1)\n",
    "\n",
    "B = 10000 #  number of boostraps\n",
    "RVs = RV*ones(Float16, B)  + randn(B)*sqrt(var_RV)\n",
    "RUs = RU*ones(Float16, B)  + randn(B)*sqrt(var_RU)\n",
    "VEs= (RUs - RVs)./RUs\n"
   ]
  },
  {
   "cell_type": "code",
   "execution_count": 14,
   "metadata": {},
   "outputs": [
    {
     "name": "stdout",
     "output_type": "stream",
     "text": [
      "two-sided 95% confidence interval of VE is [0.9081, 0.9817]\n"
     ]
    },
    {
     "data": {
      "image/png": "[encoded data removed]",
      "text/plain": [
       "Figure()"
      ]
     },
     "execution_count": 14,
     "metadata": {},
     "output_type": "execute_result"
    }
   ],
   "source": [
    "## Confidence interval of VEs\n",
    "\n",
    "CI_VE = [round(quantile!(VEs, 0.025); digits = 4 ), round(quantile!(VEs, 0.975); digits = 4)]\n",
    "\n",
    "println(\"two-sided 95% confidence interval of VE is $CI_VE\")\n",
    "\n",
    "## Approximate distribution of VEs estimates \n",
    "\n",
    "f = Figure(resolution = (500, 400))\n",
    "Axis(f[1,1], title = \"Approximate distribution of VEs estimates \")\n",
    "    \n",
    "density!(VEs, color = (:blue, 0.1), strokecolor = :blue, strokewidth = 1, strokearound = true) \n",
    "\n",
    "f"
   ]
  },
  {
   "cell_type": "markdown",
   "metadata": {},
   "source": [
    "## 3.0 Overall effectiveness of the vaccine for the two groups (treatment and control) that are 65 or older"
   ]
  },
  {
   "cell_type": "code",
   "execution_count": 15,
   "metadata": {},
   "outputs": [
    {
     "name": "stdout",
     "output_type": "stream",
     "text": [
      "Overall VE is: 0.9471\n"
     ]
    },
    {
     "data": {
      "text/plain": [
       "1.1433299694990984e-6"
      ]
     },
     "execution_count": 15,
     "metadata": {},
     "output_type": "execute_result"
    }
   ],
   "source": [
    "NV =  3239+805;\n",
    "NU =  3255+812;\n",
    "RV = 1/NV;\n",
    "RU = (14+5)/NU;\n",
    "VE = (RU - RV)/RU;\n",
    "\n",
    "println(\"Overall VE is: \" , round(VE; digits =4))\n",
    "\n",
    "var_RV = RV*(1-RV)/NV\n",
    "var_RU = RU*(1-RU)/NU"
   ]
  },
  {
   "cell_type": "markdown",
   "metadata": {},
   "source": [
    "### 3.1  Approximate bootstrap to find the VE confidence interval"
   ]
  },
  {
   "cell_type": "code",
   "execution_count": 17,
   "metadata": {},
   "outputs": [
    {
     "data": {
      "text/plain": [
       "10000-element Vector{Float64}:\n",
       " 0.9286374701019094\n",
       " 0.9306318821603504\n",
       " 0.9807062047067295\n",
       " 0.932227928439073\n",
       " 0.8497213956232972\n",
       " 1.0341633458705015\n",
       " 0.8826086276184276\n",
       " 0.8908920202231071\n",
       " 1.1204683874016654\n",
       " 1.0436392904285337\n",
       " 0.9269669930323389\n",
       " 0.978832510418485\n",
       " 0.9274269094457963\n",
       " ⋮\n",
       " 0.9941031787120717\n",
       " 0.9865853448694472\n",
       " 0.8630160479950865\n",
       " 0.939002630393595\n",
       " 0.9561668577648301\n",
       " 0.8166249965881008\n",
       " 0.9157406832836444\n",
       " 0.9583524341261762\n",
       " 0.983253521851282\n",
       " 0.9668034744043027\n",
       " 0.9578251425652174\n",
       " 1.0144231014448826"
      ]
     },
     "execution_count": 17,
     "metadata": {},
     "output_type": "execute_result"
    }
   ],
   "source": [
    "Random.seed!(1)\n",
    "\n",
    "B = 10000 #  number of boostraps\n",
    "\n",
    "RVs = RV*ones(Float16, B)  + randn(B)*sqrt(var_RV) + 10^(-10)*ones(Float16, B) \n",
    "RUs = RU*ones(Float16, B)  + randn(B)*sqrt(var_RU) + 10^(-10)*ones(Float16, B) \n",
    "VEs= (RUs - RVs)./RUs\n",
    "\n"
   ]
  },
  {
   "cell_type": "code",
   "execution_count": 18,
   "metadata": {},
   "outputs": [
    {
     "name": "stdout",
     "output_type": "stream",
     "text": [
      "two-sided  95% confidence interval of VE is [0.8162, 1.0532]\n",
      "one side 95% confidence interval of VE is [0.8422, 1.0]\n"
     ]
    },
    {
     "data": {
      "image/png": "[encoded data removed]",
      "text/plain": [
       "Figure()"
      ]
     },
     "execution_count": 18,
     "metadata": {},
     "output_type": "execute_result"
    }
   ],
   "source": [
    "## Confidence interval of VEs\n",
    "\n",
    "CI_VE = [round(quantile!(VEs, 0.025); digits = 4 ), round(quantile!(VEs, 0.975); digits = 4)]\n",
    "\n",
    "OneSidedCI_VE = [round(quantile!(VEs, 0.05); digits = 4 ), 1]\n",
    "\n",
    "println(\"two-sided  95% confidence interval of VE is $CI_VE\")\n",
    "\n",
    "println(\"one side 95% confidence interval of VE is $OneSidedCI_VE\")\n",
    "\n",
    "## Approximate distribution of VEs estimates \n",
    "\n",
    "f = Figure(resolution = (500, 400))\n",
    "Axis(f[1,1], title = \"Approximate distribution of VEs estimates \")\n",
    "    \n",
    "density!(VEs, color = (:gray, 0.1), strokewidth = 1, strokearound = true) \n",
    "\n",
    "f"
   ]
  },
  {
   "cell_type": "markdown",
   "metadata": {},
   "source": [
    "### Let's try the parametric boostrap next, using the fact that the outcome is Bernouli."
   ]
  },
  {
   "cell_type": "code",
   "execution_count": 19,
   "metadata": {},
   "outputs": [
    {
     "name": "stdout",
     "output_type": "stream",
     "text": [
      "Overall VE is: 0.9471\n"
     ]
    }
   ],
   "source": [
    "NV =  3239+805;\n",
    "NU =  3255+812;\n",
    "RV = 1/NV;\n",
    "RU = (14+5)/NU;\n",
    "VE = (RU - RV)/RU;\n",
    "\n",
    "println(\"Overall VE is: \" , round(VE; digits =4))"
   ]
  },
  {
   "cell_type": "code",
   "execution_count": 21,
   "metadata": {},
   "outputs": [
    {
     "data": {
      "text/plain": [
       "10000-element Vector{Float64}:\n",
       " 0.95\n",
       " 1.0\n",
       " 1.0\n",
       " 1.0\n",
       " 0.9375\n",
       " 1.0\n",
       " 0.8333333333333334\n",
       " 0.8666666666666667\n",
       " 0.9473684210526315\n",
       " 0.8235294117647058\n",
       " 1.0\n",
       " 0.9375\n",
       " 0.95\n",
       " ⋮\n",
       " 0.7857142857142857\n",
       " 0.9\n",
       " 0.95\n",
       " 0.9444444444444444\n",
       " 0.9230769230769231\n",
       " 1.0\n",
       " 0.9333333333333333\n",
       " 0.8947368421052632\n",
       " 0.8888888888888888\n",
       " 1.0\n",
       " 0.9473684210526315\n",
       " 0.8888888888888888"
      ]
     },
     "execution_count": 21,
     "metadata": {},
     "output_type": "execute_result"
    }
   ],
   "source": [
    "Random.seed!(1)\n",
    "\n",
    "B = 10000 #  number of boostraps\n",
    "VEs= (RUs - RVs)./RUs\n",
    "\n",
    "RVs = rand(Binomial(NV,RV), B)\n",
    "RUs = rand(Binomial(NU,RU), B)\n",
    "VEs= (RUs - RVs)./RUs"
   ]
  },
  {
   "cell_type": "code",
   "execution_count": 22,
   "metadata": {},
   "outputs": [
    {
     "name": "stdout",
     "output_type": "stream",
     "text": [
      "two-sided 95% confidence interval of VE is [0.8, 1.0]\n",
      "one sided 95% confidence interval of VE is [0.8333, 1.0]\n"
     ]
    },
    {
     "data": {
      "image/png": "[encoded data removed]",
      "text/plain": [
       "Figure()"
      ]
     },
     "execution_count": 22,
     "metadata": {},
     "output_type": "execute_result"
    }
   ],
   "source": [
    "## Confidence interval of VEs\n",
    "\n",
    "CI_VE = [round(quantile!(VEs, 0.025); digits = 4 ), round(quantile!(VEs, 0.975); digits = 4)]\n",
    "\n",
    "OneSidedCI_VE = [round(quantile!(VEs, 0.05); digits = 4 ), 1]\n",
    "\n",
    "println(\"two-sided 95% confidence interval of VE is $CI_VE\")\n",
    "\n",
    "println(\"one sided 95% confidence interval of VE is $OneSidedCI_VE\")\n",
    "\n",
    "## Approximate distribution of VEs estimates \n",
    "\n",
    "f = Figure(resolution = (500, 400))\n",
    "Axis(f[1,1], title = \"Approximate distribution of VEs estimates \")\n",
    "    \n",
    "density!(VEs, color = (:gray, 0.1), strokewidth = 1, strokearound = true) \n",
    "\n",
    "f"
   ]
  },
  {
   "cell_type": "markdown",
   "metadata": {},
   "source": [
    "## 4.0 Exact Binomial Test Inversion"
   ]
  },
  {
   "cell_type": "code",
   "execution_count": null,
   "metadata": {},
   "outputs": [],
   "source": []
  },
  {
   "cell_type": "code",
   "execution_count": null,
   "metadata": {},
   "outputs": [],
   "source": []
  },
  {
   "cell_type": "code",
   "execution_count": null,
   "metadata": {},
   "outputs": [],
   "source": []
  },
  {
   "cell_type": "code",
   "execution_count": null,
   "metadata": {},
   "outputs": [],
   "source": []
  },
  {
   "cell_type": "code",
   "execution_count": null,
   "metadata": {},
   "outputs": [],
   "source": []
  },
  {
   "cell_type": "code",
   "execution_count": null,
   "metadata": {},
   "outputs": [],
   "source": []
  },
  {
   "cell_type": "code",
   "execution_count": null,
   "metadata": {},
   "outputs": [],
   "source": []
  },
  {
   "cell_type": "code",
   "execution_count": null,
   "metadata": {},
   "outputs": [],
   "source": []
  },
  {
   "cell_type": "code",
   "execution_count": null,
   "metadata": {},
   "outputs": [],
   "source": []
  },
  {
   "cell_type": "code",
   "execution_count": null,
   "metadata": {},
   "outputs": [],
   "source": []
  },
  {
   "cell_type": "code",
   "execution_count": null,
   "metadata": {},
   "outputs": [],
   "source": []
  }
 ],
 "metadata": {
  "kernelspec": {
   "display_name": "Julia 1.7.2",
   "language": "julia",
   "name": "julia-1.7"
  },
  "language_info": {
   "file_extension": ".jl",
   "mimetype": "application/julia",
   "name": "julia",
   "version": "1.7.2"
  }
 },
 "nbformat": 4,
 "nbformat_minor": 4
}
