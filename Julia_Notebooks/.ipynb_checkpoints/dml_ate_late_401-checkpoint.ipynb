{
 "cells": [
  {
   "cell_type": "markdown",
   "id": "0cf0f1e7",
   "metadata": {},
   "source": [
    "# Inference on Predictive and Causal Effects in High-Dimensional Nonlinear Models"
   ]
  },
  {
   "cell_type": "markdown",
   "id": "195cfe48",
   "metadata": {},
   "source": [
    "## Impact of 401(k) on Financial Wealth"
   ]
  },
  {
   "cell_type": "markdown",
   "id": "a6e1028f",
   "metadata": {},
   "source": [
    "As a practical illustration of the methods developed in this lecture, we consider estimation of the effect of 401(k) eligibility and participation on accumulated assets. 401(k) plans are pension accounts sponsored by employers. The key problem in determining the effect of participation in 401(k) plans on accumulated assets is saver heterogeneity coupled with the fact that the decision to enroll in a 401(k) is non-random. It is generally recognized that some people have a higher preference for saving than others. It also seems likely that those individuals with high unobserved preference for saving would be most likely to choose to participate in tax-advantaged retirement savings plans and would tend to have otherwise high amounts of accumulated assets. The presence of unobserved savings preferences with these properties then implies that conventional estimates that do not account for saver heterogeneity and endogeneity of participation will be biased upward, tending to overstate the savings effects of 401(k) participation.\n",
    "\n",
    "One can argue that eligibility for enrolling in a 401(k) plan in this data can be taken as exogenous after conditioning on a few observables of which the most important for their argument is income. The basic idea is that, at least around the time 401(k)’s initially became available, people were unlikely to be basing their employment decisions on whether an employer offered a 401(k) but would instead focus on income and other aspects of the job."
   ]
  },
  {
   "cell_type": "markdown",
   "id": "73a74326",
   "metadata": {},
   "source": [
    "### Data"
   ]
  },
  {
   "cell_type": "markdown",
   "id": "fdb5a12a",
   "metadata": {},
   "source": [
    "The data set comes from the `hdm` R package, and is loaded in Julia using the `RData` package"
   ]
  },
  {
   "cell_type": "code",
   "execution_count": 31,
   "id": "2bb7bef3",
   "metadata": {
    "scrolled": true
   },
   "outputs": [
    {
     "name": "stdout",
     "output_type": "stream",
     "text": [
      "\n",
      "## Package Plan ##\n",
      "\n",
      "  environment location: C:\\Users\\Work\\.julia\\conda\\3\n",
      "\n",
      "  added / updated specs:\n",
      "    - seaborn\n",
      "\n",
      "\n",
      "The following packages will be downloaded:\n",
      "\n",
      "    package                    |            build\n",
      "    ---------------------------|-----------------\n",
      "    patsy-0.5.2                |     pyhd8ed1ab_0         188 KB  conda-forge\n",
      "    scipy-1.8.1                |   py39hc0c34ad_0        27.2 MB  conda-forge\n",
      "    seaborn-0.11.2             |       hd8ed1ab_0           4 KB  conda-forge\n",
      "    seaborn-base-0.11.2        |     pyhd8ed1ab_0         223 KB  conda-forge\n",
      "    statsmodels-0.13.2         |   py39h5d4886f_0        10.3 MB  conda-forge\n",
      "    ------------------------------------------------------------\n",
      "                                           Total:        37.9 MB\n",
      "\n",
      "The following NEW packages will be INSTALLED:\n",
      "\n",
      "  patsy              conda-forge/noarch::patsy-0.5.2-pyhd8ed1ab_0\n",
      "  scipy              conda-forge/win-64::scipy-1.8.1-py39hc0c34ad_0\n",
      "  seaborn            conda-forge/noarch::seaborn-0.11.2-hd8ed1ab_0\n",
      "  seaborn-base       conda-forge/noarch::seaborn-base-0.11.2-pyhd8ed1ab_0\n",
      "  statsmodels        conda-forge/win-64::statsmodels-0.13.2-py39h5d4886f_0\n",
      "\n",
      "\n",
      "\n",
      "Downloading and Extracting Packages\n",
      "seaborn-0.11.2       | 4 KB      | ########## | 100% \n",
      "statsmodels-0.13.2   | 10.3 MB   | ########## | 100% \n",
      "seaborn-base-0.11.2  | 223 KB    | ########## | 100% \n",
      "scipy-1.8.1          | 27.2 MB   | ########## | 100% \n",
      "patsy-0.5.2          | 188 KB    | ########## | 100% \n",
      "Preparing transaction: ...working... done\n",
      "Verifying transaction: ...working... done\n",
      "Executing transaction: ...working... done\n"
     ]
    }
   ],
   "source": [
    "using RData, CSV, DataFrames, StatsPlots, StatsBase, Seaborn"
   ]
  },
  {
   "cell_type": "code",
   "execution_count": 3,
   "id": "1707eb6a",
   "metadata": {},
   "outputs": [],
   "source": [
    "rdata = load(\"../data/pension.RData\", convert = true);"
   ]
  },
  {
   "cell_type": "code",
   "execution_count": 4,
   "id": "d9803434",
   "metadata": {},
   "outputs": [],
   "source": [
    "pension = DataFrame(rdata[\"pension\"]);"
   ]
  },
  {
   "cell_type": "markdown",
   "id": "fad21801",
   "metadata": {},
   "source": [
    "The data consist of 9,915 observations at the household level drawn from the 1991 Survey of Income and Program Participation (SIPP).  All the variables are referred to 1990. We use net financial assets (*net\\_tfa*) as the outcome variable, $Y$,  in our analysis. The net financial assets are computed as the sum of IRA balances, 401(k) balances, checking accounts, saving bonds, other interest-earning accounts, other interest-earning assets, stocks, and mutual funds less non mortgage debts. "
   ]
  },
  {
   "cell_type": "markdown",
   "id": "4294a363",
   "metadata": {},
   "source": [
    "Among the $9915$ individuals, $3682$ are eligible to participate in the program. The variable *e401* indicates eligibility and *p401* indicates participation, respectively."
   ]
  },
  {
   "cell_type": "code",
   "execution_count": 28,
   "id": "fb3aaa12",
   "metadata": {
    "scrolled": true
   },
   "outputs": [
    {
     "data": {
      "image/png": "[encoded data removed]",
      "text/plain": [
       "FigureGrid()"
      ]
     },
     "execution_count": 28,
     "metadata": {},
     "output_type": "execute_result"
    }
   ],
   "source": [
    "axis = (width = 225, height = 225)\n",
    "\n",
    "count_e401 = data(pension) * frequency() * mapping(:e401)\n",
    "\n",
    "draw(count_e401; axis)"
   ]
  },
  {
   "cell_type": "code",
   "execution_count": 41,
   "id": "fe4ca9d5",
   "metadata": {},
   "outputs": [
    {
     "ename": "LoadError",
     "evalue": "PyError ($(Expr(:escape, :(ccall(#= C:\\Users\\Work\\.julia\\packages\\PyCall\\7a7w0\\src\\pyfncall.jl:43 =# @pysym(:PyObject_Call), PyPtr, (PyPtr, PyPtr, PyPtr), o, pyargsptr, kw))))) <class 'TypeError'>\nTypeError(\"bar() missing 1 required positional argument: 'height'\")\n",
     "output_type": "error",
     "traceback": [
      "PyError ($(Expr(:escape, :(ccall(#= C:\\Users\\Work\\.julia\\packages\\PyCall\\7a7w0\\src\\pyfncall.jl:43 =# @pysym(:PyObject_Call), PyPtr, (PyPtr, PyPtr, PyPtr), o, pyargsptr, kw))))) <class 'TypeError'>\nTypeError(\"bar() missing 1 required positional argument: 'height'\")\n",
      "",
      "Stacktrace:",
      "  [1] pyerr_check",
      "    @ C:\\Users\\Work\\.julia\\packages\\PyCall\\7a7w0\\src\\exception.jl:62 [inlined]",
      "  [2] pyerr_check",
      "    @ C:\\Users\\Work\\.julia\\packages\\PyCall\\7a7w0\\src\\exception.jl:66 [inlined]",
      "  [3] _handle_error(msg::String)",
      "    @ PyCall C:\\Users\\Work\\.julia\\packages\\PyCall\\7a7w0\\src\\exception.jl:83",
      "  [4] macro expansion",
      "    @ C:\\Users\\Work\\.julia\\packages\\PyCall\\7a7w0\\src\\exception.jl:97 [inlined]",
      "  [5] #107",
      "    @ C:\\Users\\Work\\.julia\\packages\\PyCall\\7a7w0\\src\\pyfncall.jl:43 [inlined]",
      "  [6] disable_sigint",
      "    @ .\\c.jl:458 [inlined]",
      "  [7] __pycall!",
      "    @ C:\\Users\\Work\\.julia\\packages\\PyCall\\7a7w0\\src\\pyfncall.jl:42 [inlined]",
      "  [8] _pycall!(ret::PyCall.PyObject, o::PyCall.PyObject, args::Tuple{DataFrame}, nargs::Int64, kw::Ptr{Nothing})",
      "    @ PyCall C:\\Users\\Work\\.julia\\packages\\PyCall\\7a7w0\\src\\pyfncall.jl:29",
      "  [9] _pycall!",
      "    @ C:\\Users\\Work\\.julia\\packages\\PyCall\\7a7w0\\src\\pyfncall.jl:11 [inlined]",
      " [10] #pycall#113",
      "    @ C:\\Users\\Work\\.julia\\packages\\PyCall\\7a7w0\\src\\pyfncall.jl:83 [inlined]",
      " [11] pycall",
      "    @ C:\\Users\\Work\\.julia\\packages\\PyCall\\7a7w0\\src\\pyfncall.jl:83 [inlined]",
      " [12] bar(args::DataFrame; kws::Base.Pairs{Symbol, Union{}, Tuple{}, NamedTuple{(), Tuple{}}})",
      "    @ PyPlot C:\\Users\\Work\\.julia\\packages\\PyPlot\\XaELc\\src\\PyPlot.jl:177",
      " [13] bar(args::DataFrame)",
      "    @ PyPlot C:\\Users\\Work\\.julia\\packages\\PyPlot\\XaELc\\src\\PyPlot.jl:174",
      " [14] top-level scope",
      "    @ In[41]:1",
      " [15] eval",
      "    @ .\\boot.jl:373 [inlined]",
      " [16] include_string(mapexpr::typeof(REPL.softscope), mod::Module, code::String, filename::String)",
      "    @ Base .\\loading.jl:1196"
     ]
    }
   ],
   "source": []
  }
 ],
 "metadata": {
  "kernelspec": {
   "display_name": "Julia 1.7.3",
   "language": "julia",
   "name": "julia-1.7"
  },
  "language_info": {
   "file_extension": ".jl",
   "mimetype": "application/julia",
   "name": "julia",
   "version": "1.7.3"
  }
 },
 "nbformat": 4,
 "nbformat_minor": 5
}
