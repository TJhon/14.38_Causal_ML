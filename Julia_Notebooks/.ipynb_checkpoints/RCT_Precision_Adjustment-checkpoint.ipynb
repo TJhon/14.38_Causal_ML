{
 "cells": [
  {
   "cell_type": "markdown",
   "metadata": {},
   "source": [
    "#### Author: Roberto Menzoa\n",
    "#### Date: 05/03/2022\n",
    "#### Topic: Analyzing RCT data with Precision Adjustment"
   ]
  },
  {
   "cell_type": "code",
   "execution_count": 492,
   "metadata": {},
   "outputs": [],
   "source": [
    "#import Pkg; Pkg.add(\"DataFrames\")\n",
    "#import Pkg; Pkg.add(\"FilePaths\")\n",
    "#import Pkg; Pkg.add(\"Queryverse\")\n",
    "#import Pkg; Pkg.add(\"GLM\")\n",
    "#import Pkg; Pkg.add(\"StatsModels\")\n",
    "#import Pkg; Pkg.add(\"Combinatorics\")\n",
    "#import Pkg; Pkg.add(\"Iterators\")\n",
    "#import Pkg; Pkg.add(\"CategoricalArrays\")\n",
    "#import Pkg; Pkg.add(\"StatsBase\")\n",
    "#import Pkg; Pkg.add(\"Lasso\")\n",
    "#import Pkg; Pkg.add(\"TypedTables\")\n",
    "#import Pkg; Pkg.add(\"MacroTools\")\n",
    "using GLM\n",
    "using DelimitedFiles, DataFrames, Lasso\n",
    "using FilePaths\n",
    "using Queryverse\n",
    "using StatsModels, Combinatorics\n",
    "using CategoricalArrays\n",
    "using StatsBase, Statistics\n",
    "using TypedTables\n",
    "using MacroTools"
   ]
  },
  {
   "cell_type": "code",
   "execution_count": 367,
   "metadata": {
    "scrolled": true
   },
   "outputs": [
    {
     "data": {
      "text/plain": [
       "\"C:\\\\Users\\\\Roberto Carlos\\\\Documents\\\\GitHub\\\\14.38_Causal_ML\\\\Julia_Notebooks\""
      ]
     },
     "execution_count": 367,
     "metadata": {},
     "output_type": "execute_result"
    }
   ],
   "source": [
    "pwd()"
   ]
  },
  {
   "cell_type": "code",
   "execution_count": 499,
   "metadata": {
    "scrolled": false
   },
   "outputs": [
    {
     "data": {
      "text/html": [
       "<div class=\"data-frame\"><p>23 rows × 7 columns</p><table class=\"data-frame\"><thead><tr><th></th><th>variable</th><th>mean</th><th>min</th><th>median</th><th>max</th><th>nmissing</th><th>eltype</th></tr><tr><th></th><th title=\"Symbol\">Symbol</th><th title=\"Float64\">Float64</th><th title=\"Float64\">Float64</th><th title=\"Float64\">Float64</th><th title=\"Float64\">Float64</th><th title=\"Int64\">Int64</th><th title=\"DataType\">DataType</th></tr></thead><tbody><tr><th>1</th><td>abdt</td><td>10693.6</td><td>10404.0</td><td>10691.0</td><td>10880.0</td><td>0</td><td>Float64</td></tr><tr><th>2</th><td>tg</td><td>2.56889</td><td>0.0</td><td>2.0</td><td>6.0</td><td>0</td><td>Float64</td></tr><tr><th>3</th><td>inuidur1</td><td>12.9148</td><td>1.0</td><td>10.0</td><td>52.0</td><td>0</td><td>Float64</td></tr><tr><th>4</th><td>inuidur2</td><td>12.1938</td><td>0.0</td><td>9.0</td><td>52.0</td><td>0</td><td>Float64</td></tr><tr><th>5</th><td>female</td><td>0.402142</td><td>0.0</td><td>0.0</td><td>1.0</td><td>0</td><td>Float64</td></tr><tr><th>6</th><td>black</td><td>0.116653</td><td>0.0</td><td>0.0</td><td>1.0</td><td>0</td><td>Float64</td></tr><tr><th>7</th><td>hispanic</td><td>0.0363689</td><td>0.0</td><td>0.0</td><td>1.0</td><td>0</td><td>Float64</td></tr><tr><th>8</th><td>othrace</td><td>0.00575002</td><td>0.0</td><td>0.0</td><td>1.0</td><td>0</td><td>Float64</td></tr><tr><th>9</th><td>dep</td><td>0.444045</td><td>0.0</td><td>0.0</td><td>2.0</td><td>0</td><td>Float64</td></tr><tr><th>10</th><td>q1</td><td>0.0136563</td><td>0.0</td><td>0.0</td><td>1.0</td><td>0</td><td>Float64</td></tr><tr><th>11</th><td>q2</td><td>0.206498</td><td>0.0</td><td>0.0</td><td>1.0</td><td>0</td><td>Float64</td></tr><tr><th>12</th><td>q3</td><td>0.237691</td><td>0.0</td><td>0.0</td><td>1.0</td><td>0</td><td>Float64</td></tr><tr><th>13</th><td>q4</td><td>0.232229</td><td>0.0</td><td>0.0</td><td>1.0</td><td>0</td><td>Float64</td></tr><tr><th>14</th><td>q5</td><td>0.232948</td><td>0.0</td><td>0.0</td><td>1.0</td><td>0</td><td>Float64</td></tr><tr><th>15</th><td>q6</td><td>0.0769784</td><td>0.0</td><td>0.0</td><td>1.0</td><td>0</td><td>Float64</td></tr><tr><th>16</th><td>recall</td><td>0.108675</td><td>0.0</td><td>0.0</td><td>1.0</td><td>0</td><td>Float64</td></tr><tr><th>17</th><td>agelt35</td><td>0.543089</td><td>0.0</td><td>1.0</td><td>1.0</td><td>0</td><td>Float64</td></tr><tr><th>18</th><td>agegt54</td><td>0.106735</td><td>0.0</td><td>0.0</td><td>1.0</td><td>0</td><td>Float64</td></tr><tr><th>19</th><td>durable</td><td>0.148638</td><td>0.0</td><td>0.0</td><td>1.0</td><td>0</td><td>Float64</td></tr><tr><th>20</th><td>nondurable</td><td>0.10961</td><td>0.0</td><td>0.0</td><td>1.0</td><td>0</td><td>Float64</td></tr><tr><th>21</th><td>lusd</td><td>0.265435</td><td>0.0</td><td>0.0</td><td>1.0</td><td>0</td><td>Float64</td></tr><tr><th>22</th><td>husd</td><td>0.221807</td><td>0.0</td><td>0.0</td><td>1.0</td><td>0</td><td>Float64</td></tr><tr><th>23</th><td>muld</td><td>0.438008</td><td>0.0</td><td>0.0</td><td>1.0</td><td>0</td><td>Float64</td></tr></tbody></table></div>"
      ],
      "text/latex": [
       "\\begin{tabular}{r|ccccccc}\n",
       "\t& variable & mean & min & median & max & nmissing & eltype\\\\\n",
       "\t\\hline\n",
       "\t& Symbol & Float64 & Float64 & Float64 & Float64 & Int64 & DataType\\\\\n",
       "\t\\hline\n",
       "\t1 & abdt & 10693.6 & 10404.0 & 10691.0 & 10880.0 & 0 & Float64 \\\\\n",
       "\t2 & tg & 2.56889 & 0.0 & 2.0 & 6.0 & 0 & Float64 \\\\\n",
       "\t3 & inuidur1 & 12.9148 & 1.0 & 10.0 & 52.0 & 0 & Float64 \\\\\n",
       "\t4 & inuidur2 & 12.1938 & 0.0 & 9.0 & 52.0 & 0 & Float64 \\\\\n",
       "\t5 & female & 0.402142 & 0.0 & 0.0 & 1.0 & 0 & Float64 \\\\\n",
       "\t6 & black & 0.116653 & 0.0 & 0.0 & 1.0 & 0 & Float64 \\\\\n",
       "\t7 & hispanic & 0.0363689 & 0.0 & 0.0 & 1.0 & 0 & Float64 \\\\\n",
       "\t8 & othrace & 0.00575002 & 0.0 & 0.0 & 1.0 & 0 & Float64 \\\\\n",
       "\t9 & dep & 0.444045 & 0.0 & 0.0 & 2.0 & 0 & Float64 \\\\\n",
       "\t10 & q1 & 0.0136563 & 0.0 & 0.0 & 1.0 & 0 & Float64 \\\\\n",
       "\t11 & q2 & 0.206498 & 0.0 & 0.0 & 1.0 & 0 & Float64 \\\\\n",
       "\t12 & q3 & 0.237691 & 0.0 & 0.0 & 1.0 & 0 & Float64 \\\\\n",
       "\t13 & q4 & 0.232229 & 0.0 & 0.0 & 1.0 & 0 & Float64 \\\\\n",
       "\t14 & q5 & 0.232948 & 0.0 & 0.0 & 1.0 & 0 & Float64 \\\\\n",
       "\t15 & q6 & 0.0769784 & 0.0 & 0.0 & 1.0 & 0 & Float64 \\\\\n",
       "\t16 & recall & 0.108675 & 0.0 & 0.0 & 1.0 & 0 & Float64 \\\\\n",
       "\t17 & agelt35 & 0.543089 & 0.0 & 1.0 & 1.0 & 0 & Float64 \\\\\n",
       "\t18 & agegt54 & 0.106735 & 0.0 & 0.0 & 1.0 & 0 & Float64 \\\\\n",
       "\t19 & durable & 0.148638 & 0.0 & 0.0 & 1.0 & 0 & Float64 \\\\\n",
       "\t20 & nondurable & 0.10961 & 0.0 & 0.0 & 1.0 & 0 & Float64 \\\\\n",
       "\t21 & lusd & 0.265435 & 0.0 & 0.0 & 1.0 & 0 & Float64 \\\\\n",
       "\t22 & husd & 0.221807 & 0.0 & 0.0 & 1.0 & 0 & Float64 \\\\\n",
       "\t23 & muld & 0.438008 & 0.0 & 0.0 & 1.0 & 0 & Float64 \\\\\n",
       "\\end{tabular}\n"
      ],
      "text/plain": [
       "\u001b[1m23×7 DataFrame\u001b[0m\n",
       "\u001b[1m Row \u001b[0m│\u001b[1m variable   \u001b[0m\u001b[1m mean           \u001b[0m\u001b[1m min     \u001b[0m\u001b[1m median  \u001b[0m\u001b[1m max     \u001b[0m\u001b[1m nmissing \u001b[0m\u001b[1m eltype\u001b[0m ⋯\n",
       "\u001b[1m     \u001b[0m│\u001b[90m Symbol     \u001b[0m\u001b[90m Float64        \u001b[0m\u001b[90m Float64 \u001b[0m\u001b[90m Float64 \u001b[0m\u001b[90m Float64 \u001b[0m\u001b[90m Int64    \u001b[0m\u001b[90m DataTy\u001b[0m ⋯\n",
       "─────┼──────────────────────────────────────────────────────────────────────────\n",
       "   1 │ abdt        10693.6         10404.0  10691.0  10880.0         0  Float6 ⋯\n",
       "   2 │ tg              2.56889         0.0      2.0      6.0         0  Float6\n",
       "   3 │ inuidur1       12.9148          1.0     10.0     52.0         0  Float6\n",
       "   4 │ inuidur2       12.1938          0.0      9.0     52.0         0  Float6\n",
       "   5 │ female          0.402142        0.0      0.0      1.0         0  Float6 ⋯\n",
       "   6 │ black           0.116653        0.0      0.0      1.0         0  Float6\n",
       "   7 │ hispanic        0.0363689       0.0      0.0      1.0         0  Float6\n",
       "   8 │ othrace         0.00575002      0.0      0.0      1.0         0  Float6\n",
       "   9 │ dep             0.444045        0.0      0.0      2.0         0  Float6 ⋯\n",
       "  10 │ q1              0.0136563       0.0      0.0      1.0         0  Float6\n",
       "  11 │ q2              0.206498        0.0      0.0      1.0         0  Float6\n",
       "  ⋮  │     ⋮             ⋮            ⋮        ⋮        ⋮        ⋮         ⋮   ⋱\n",
       "  14 │ q5              0.232948        0.0      0.0      1.0         0  Float6\n",
       "  15 │ q6              0.0769784       0.0      0.0      1.0         0  Float6 ⋯\n",
       "  16 │ recall          0.108675        0.0      0.0      1.0         0  Float6\n",
       "  17 │ agelt35         0.543089        0.0      1.0      1.0         0  Float6\n",
       "  18 │ agegt54         0.106735        0.0      0.0      1.0         0  Float6\n",
       "  19 │ durable         0.148638        0.0      0.0      1.0         0  Float6 ⋯\n",
       "  20 │ nondurable      0.10961         0.0      0.0      1.0         0  Float6\n",
       "  21 │ lusd            0.265435        0.0      0.0      1.0         0  Float6\n",
       "  22 │ husd            0.221807        0.0      0.0      1.0         0  Float6\n",
       "  23 │ muld            0.438008        0.0      0.0      1.0         0  Float6 ⋯\n",
       "\u001b[36m                                                     1 column and 2 rows omitted\u001b[0m"
      ]
     },
     "execution_count": 499,
     "metadata": {},
     "output_type": "execute_result"
    }
   ],
   "source": [
    "# Loading data\n",
    "\n",
    "mat, head = readdlm(\"../data/penn_jae.dat\", header=true, Float64)\n",
    "mat\n",
    "df =DataFrame(mat, vec(head))\n",
    "describe(df)"
   ]
  },
  {
   "cell_type": "code",
   "execution_count": 369,
   "metadata": {},
   "outputs": [
    {
     "data": {
      "text/plain": [
       "23"
      ]
     },
     "execution_count": 369,
     "metadata": {},
     "output_type": "execute_result"
    }
   ],
   "source": [
    "#dimenntions of dataframe \n",
    "\n",
    "a = size(df,1)\n",
    "b =  size(df,2)"
   ]
  },
  {
   "cell_type": "code",
   "execution_count": 370,
   "metadata": {
    "scrolled": false
   },
   "outputs": [
    {
     "data": {
      "text/html": [
       "<div class=\"data-frame\"><p>20 rows × 23 columns (omitted printing of 14 columns)</p><table class=\"data-frame\"><thead><tr><th></th><th>abdt</th><th>tg</th><th>inuidur1</th><th>inuidur2</th><th>female</th><th>black</th><th>hispanic</th><th>othrace</th><th>dep</th></tr><tr><th></th><th title=\"Float64\">Float64</th><th title=\"Float64\">Float64</th><th title=\"Float64\">Float64</th><th title=\"Float64\">Float64</th><th title=\"Float64\">Float64</th><th title=\"Float64\">Float64</th><th title=\"Float64\">Float64</th><th title=\"Float64\">Float64</th><th title=\"Float64\">Float64</th></tr></thead><tbody><tr><th>1</th><td>10824.0</td><td>0.0</td><td>18.0</td><td>18.0</td><td>0.0</td><td>0.0</td><td>0.0</td><td>0.0</td><td>2.0</td></tr><tr><th>2</th><td>10824.0</td><td>0.0</td><td>1.0</td><td>1.0</td><td>0.0</td><td>0.0</td><td>0.0</td><td>0.0</td><td>0.0</td></tr><tr><th>3</th><td>10747.0</td><td>0.0</td><td>27.0</td><td>27.0</td><td>0.0</td><td>0.0</td><td>0.0</td><td>0.0</td><td>0.0</td></tr><tr><th>4</th><td>10607.0</td><td>4.0</td><td>9.0</td><td>9.0</td><td>0.0</td><td>0.0</td><td>0.0</td><td>0.0</td><td>0.0</td></tr><tr><th>5</th><td>10831.0</td><td>0.0</td><td>27.0</td><td>27.0</td><td>0.0</td><td>0.0</td><td>0.0</td><td>0.0</td><td>1.0</td></tr><tr><th>6</th><td>10845.0</td><td>0.0</td><td>27.0</td><td>27.0</td><td>1.0</td><td>0.0</td><td>0.0</td><td>0.0</td><td>0.0</td></tr><tr><th>7</th><td>10831.0</td><td>0.0</td><td>9.0</td><td>9.0</td><td>1.0</td><td>0.0</td><td>0.0</td><td>0.0</td><td>1.0</td></tr><tr><th>8</th><td>10859.0</td><td>0.0</td><td>27.0</td><td>27.0</td><td>1.0</td><td>0.0</td><td>0.0</td><td>0.0</td><td>1.0</td></tr><tr><th>9</th><td>10516.0</td><td>0.0</td><td>15.0</td><td>15.0</td><td>1.0</td><td>0.0</td><td>0.0</td><td>0.0</td><td>0.0</td></tr><tr><th>10</th><td>10663.0</td><td>0.0</td><td>28.0</td><td>11.0</td><td>1.0</td><td>0.0</td><td>0.0</td><td>0.0</td><td>0.0</td></tr><tr><th>11</th><td>10747.0</td><td>0.0</td><td>12.0</td><td>12.0</td><td>1.0</td><td>0.0</td><td>0.0</td><td>0.0</td><td>2.0</td></tr><tr><th>12</th><td>10551.0</td><td>4.0</td><td>22.0</td><td>22.0</td><td>1.0</td><td>0.0</td><td>1.0</td><td>0.0</td><td>2.0</td></tr><tr><th>13</th><td>10768.0</td><td>0.0</td><td>18.0</td><td>18.0</td><td>1.0</td><td>0.0</td><td>0.0</td><td>0.0</td><td>0.0</td></tr><tr><th>14</th><td>10537.0</td><td>0.0</td><td>1.0</td><td>1.0</td><td>1.0</td><td>0.0</td><td>0.0</td><td>0.0</td><td>2.0</td></tr><tr><th>15</th><td>10600.0</td><td>4.0</td><td>7.0</td><td>7.0</td><td>1.0</td><td>0.0</td><td>0.0</td><td>0.0</td><td>0.0</td></tr><tr><th>16</th><td>10866.0</td><td>0.0</td><td>18.0</td><td>18.0</td><td>0.0</td><td>0.0</td><td>0.0</td><td>0.0</td><td>0.0</td></tr><tr><th>17</th><td>10572.0</td><td>0.0</td><td>14.0</td><td>14.0</td><td>0.0</td><td>0.0</td><td>0.0</td><td>0.0</td><td>2.0</td></tr><tr><th>18</th><td>10663.0</td><td>0.0</td><td>5.0</td><td>5.0</td><td>0.0</td><td>0.0</td><td>0.0</td><td>0.0</td><td>0.0</td></tr><tr><th>19</th><td>10789.0</td><td>0.0</td><td>9.0</td><td>9.0</td><td>0.0</td><td>0.0</td><td>0.0</td><td>0.0</td><td>0.0</td></tr><tr><th>20</th><td>10768.0</td><td>0.0</td><td>3.0</td><td>3.0</td><td>0.0</td><td>1.0</td><td>0.0</td><td>0.0</td><td>0.0</td></tr></tbody></table></div>"
      ],
      "text/latex": [
       "\\begin{tabular}{r|cccccccccc}\n",
       "\t& abdt & tg & inuidur1 & inuidur2 & female & black & hispanic & othrace & dep & \\\\\n",
       "\t\\hline\n",
       "\t& Float64 & Float64 & Float64 & Float64 & Float64 & Float64 & Float64 & Float64 & Float64 & \\\\\n",
       "\t\\hline\n",
       "\t1 & 10824.0 & 0.0 & 18.0 & 18.0 & 0.0 & 0.0 & 0.0 & 0.0 & 2.0 & $\\dots$ \\\\\n",
       "\t2 & 10824.0 & 0.0 & 1.0 & 1.0 & 0.0 & 0.0 & 0.0 & 0.0 & 0.0 & $\\dots$ \\\\\n",
       "\t3 & 10747.0 & 0.0 & 27.0 & 27.0 & 0.0 & 0.0 & 0.0 & 0.0 & 0.0 & $\\dots$ \\\\\n",
       "\t4 & 10607.0 & 4.0 & 9.0 & 9.0 & 0.0 & 0.0 & 0.0 & 0.0 & 0.0 & $\\dots$ \\\\\n",
       "\t5 & 10831.0 & 0.0 & 27.0 & 27.0 & 0.0 & 0.0 & 0.0 & 0.0 & 1.0 & $\\dots$ \\\\\n",
       "\t6 & 10845.0 & 0.0 & 27.0 & 27.0 & 1.0 & 0.0 & 0.0 & 0.0 & 0.0 & $\\dots$ \\\\\n",
       "\t7 & 10831.0 & 0.0 & 9.0 & 9.0 & 1.0 & 0.0 & 0.0 & 0.0 & 1.0 & $\\dots$ \\\\\n",
       "\t8 & 10859.0 & 0.0 & 27.0 & 27.0 & 1.0 & 0.0 & 0.0 & 0.0 & 1.0 & $\\dots$ \\\\\n",
       "\t9 & 10516.0 & 0.0 & 15.0 & 15.0 & 1.0 & 0.0 & 0.0 & 0.0 & 0.0 & $\\dots$ \\\\\n",
       "\t10 & 10663.0 & 0.0 & 28.0 & 11.0 & 1.0 & 0.0 & 0.0 & 0.0 & 0.0 & $\\dots$ \\\\\n",
       "\t11 & 10747.0 & 0.0 & 12.0 & 12.0 & 1.0 & 0.0 & 0.0 & 0.0 & 2.0 & $\\dots$ \\\\\n",
       "\t12 & 10551.0 & 4.0 & 22.0 & 22.0 & 1.0 & 0.0 & 1.0 & 0.0 & 2.0 & $\\dots$ \\\\\n",
       "\t13 & 10768.0 & 0.0 & 18.0 & 18.0 & 1.0 & 0.0 & 0.0 & 0.0 & 0.0 & $\\dots$ \\\\\n",
       "\t14 & 10537.0 & 0.0 & 1.0 & 1.0 & 1.0 & 0.0 & 0.0 & 0.0 & 2.0 & $\\dots$ \\\\\n",
       "\t15 & 10600.0 & 4.0 & 7.0 & 7.0 & 1.0 & 0.0 & 0.0 & 0.0 & 0.0 & $\\dots$ \\\\\n",
       "\t16 & 10866.0 & 0.0 & 18.0 & 18.0 & 0.0 & 0.0 & 0.0 & 0.0 & 0.0 & $\\dots$ \\\\\n",
       "\t17 & 10572.0 & 0.0 & 14.0 & 14.0 & 0.0 & 0.0 & 0.0 & 0.0 & 2.0 & $\\dots$ \\\\\n",
       "\t18 & 10663.0 & 0.0 & 5.0 & 5.0 & 0.0 & 0.0 & 0.0 & 0.0 & 0.0 & $\\dots$ \\\\\n",
       "\t19 & 10789.0 & 0.0 & 9.0 & 9.0 & 0.0 & 0.0 & 0.0 & 0.0 & 0.0 & $\\dots$ \\\\\n",
       "\t20 & 10768.0 & 0.0 & 3.0 & 3.0 & 0.0 & 1.0 & 0.0 & 0.0 & 0.0 & $\\dots$ \\\\\n",
       "\\end{tabular}\n"
      ],
      "text/plain": [
       "\u001b[1m20×23 DataFrame\u001b[0m\n",
       "\u001b[1m Row \u001b[0m│\u001b[1m abdt    \u001b[0m\u001b[1m tg      \u001b[0m\u001b[1m inuidur1 \u001b[0m\u001b[1m inuidur2 \u001b[0m\u001b[1m female  \u001b[0m\u001b[1m black   \u001b[0m\u001b[1m hispanic \u001b[0m\u001b[1m othra\u001b[0m ⋯\n",
       "\u001b[1m     \u001b[0m│\u001b[90m Float64 \u001b[0m\u001b[90m Float64 \u001b[0m\u001b[90m Float64  \u001b[0m\u001b[90m Float64  \u001b[0m\u001b[90m Float64 \u001b[0m\u001b[90m Float64 \u001b[0m\u001b[90m Float64  \u001b[0m\u001b[90m Float\u001b[0m ⋯\n",
       "─────┼──────────────────────────────────────────────────────────────────────────\n",
       "   1 │ 10824.0      0.0      18.0      18.0      0.0      0.0       0.0      0 ⋯\n",
       "   2 │ 10824.0      0.0       1.0       1.0      0.0      0.0       0.0      0\n",
       "   3 │ 10747.0      0.0      27.0      27.0      0.0      0.0       0.0      0\n",
       "   4 │ 10607.0      4.0       9.0       9.0      0.0      0.0       0.0      0\n",
       "   5 │ 10831.0      0.0      27.0      27.0      0.0      0.0       0.0      0 ⋯\n",
       "   6 │ 10845.0      0.0      27.0      27.0      1.0      0.0       0.0      0\n",
       "   7 │ 10831.0      0.0       9.0       9.0      1.0      0.0       0.0      0\n",
       "   8 │ 10859.0      0.0      27.0      27.0      1.0      0.0       0.0      0\n",
       "   9 │ 10516.0      0.0      15.0      15.0      1.0      0.0       0.0      0 ⋯\n",
       "  10 │ 10663.0      0.0      28.0      11.0      1.0      0.0       0.0      0\n",
       "  11 │ 10747.0      0.0      12.0      12.0      1.0      0.0       0.0      0\n",
       "  12 │ 10551.0      4.0      22.0      22.0      1.0      0.0       1.0      0\n",
       "  13 │ 10768.0      0.0      18.0      18.0      1.0      0.0       0.0      0 ⋯\n",
       "  14 │ 10537.0      0.0       1.0       1.0      1.0      0.0       0.0      0\n",
       "  15 │ 10600.0      4.0       7.0       7.0      1.0      0.0       0.0      0\n",
       "  16 │ 10866.0      0.0      18.0      18.0      0.0      0.0       0.0      0\n",
       "  17 │ 10572.0      0.0      14.0      14.0      0.0      0.0       0.0      0 ⋯\n",
       "  18 │ 10663.0      0.0       5.0       5.0      0.0      0.0       0.0      0\n",
       "  19 │ 10789.0      0.0       9.0       9.0      0.0      0.0       0.0      0\n",
       "  20 │ 10768.0      0.0       3.0       3.0      0.0      1.0       0.0      0\n",
       "\u001b[36m                                                              16 columns omitted\u001b[0m"
      ]
     },
     "execution_count": 370,
     "metadata": {},
     "output_type": "execute_result"
    }
   ],
   "source": [
    "# Filter control group and just treatment group number 4\n",
    "\n",
    "penn = filter(row -> row[:tg] in [4,0], df)\n",
    "\n",
    "first(penn,20)"
   ]
  },
  {
   "cell_type": "code",
   "execution_count": 371,
   "metadata": {
    "scrolled": false
   },
   "outputs": [
    {
     "data": {
      "text/html": [
       "<div class=\"data-frame\"><p>23 rows × 7 columns</p><table class=\"data-frame\"><thead><tr><th></th><th>variable</th><th>mean</th><th>min</th><th>median</th><th>max</th><th>nmissing</th><th>eltype</th></tr><tr><th></th><th title=\"Symbol\">Symbol</th><th title=\"Union{Nothing, Float64}\">Union…</th><th title=\"Any\">Any</th><th title=\"Union{Nothing, Float64}\">Union…</th><th title=\"Any\">Any</th><th title=\"Int64\">Int64</th><th title=\"DataType\">DataType</th></tr></thead><tbody><tr><th>1</th><td>abdt</td><td>10695.4</td><td>10404.0</td><td>10698.0</td><td>10880.0</td><td>0</td><td>Float64</td></tr><tr><th>2</th><td>T4</td><td>0.342224</td><td>0.0</td><td>0.0</td><td>1.0</td><td>0</td><td>Float64</td></tr><tr><th>3</th><td>inuidur1</td><td>13.053</td><td>1.0</td><td>11.0</td><td>52.0</td><td>0</td><td>Float64</td></tr><tr><th>4</th><td>inuidur2</td><td>12.2812</td><td>0.0</td><td>10.0</td><td>52.0</td><td>0</td><td>Float64</td></tr><tr><th>5</th><td>female</td><td>0.404001</td><td>0.0</td><td>0.0</td><td>1.0</td><td>0</td><td>Float64</td></tr><tr><th>6</th><td>black</td><td>0.121985</td><td>0.0</td><td>0.0</td><td>1.0</td><td>0</td><td>Float64</td></tr><tr><th>7</th><td>hispanic</td><td>0.0325554</td><td>0.0</td><td>0.0</td><td>1.0</td><td>0</td><td>Float64</td></tr><tr><th>8</th><td>othrace</td><td>0.00725632</td><td>0.0</td><td>0.0</td><td>1.0</td><td>0</td><td>Float64</td></tr><tr><th>9</th><td>dep</td><td></td><td>0.0</td><td></td><td>2.0</td><td>0</td><td>CategoricalValue{String, UInt32}</td></tr><tr><th>10</th><td>q1</td><td>0.0127476</td><td>0.0</td><td>0.0</td><td>1.0</td><td>0</td><td>Float64</td></tr><tr><th>11</th><td>q2</td><td>0.203765</td><td>0.0</td><td>0.0</td><td>1.0</td><td>0</td><td>Float64</td></tr><tr><th>12</th><td>q3</td><td>0.235536</td><td>0.0</td><td>0.0</td><td>1.0</td><td>0</td><td>Float64</td></tr><tr><th>13</th><td>q4</td><td>0.225927</td><td>0.0</td><td>0.0</td><td>1.0</td><td>0</td><td>Float64</td></tr><tr><th>14</th><td>q5</td><td>0.25907</td><td>0.0</td><td>0.0</td><td>1.0</td><td>0</td><td>Float64</td></tr><tr><th>15</th><td>q6</td><td>0.0629535</td><td>0.0</td><td>0.0</td><td>1.0</td><td>0</td><td>Float64</td></tr><tr><th>16</th><td>recall</td><td>0.110414</td><td>0.0</td><td>0.0</td><td>1.0</td><td>0</td><td>Float64</td></tr><tr><th>17</th><td>agelt35</td><td>0.545009</td><td>0.0</td><td>1.0</td><td>1.0</td><td>0</td><td>Float64</td></tr><tr><th>18</th><td>agegt54</td><td>0.109433</td><td>0.0</td><td>0.0</td><td>1.0</td><td>0</td><td>Float64</td></tr><tr><th>19</th><td>durable</td><td>0.148068</td><td>0.0</td><td>0.0</td><td>1.0</td><td>0</td><td>Float64</td></tr><tr><th>20</th><td>nondurable</td><td>0.109237</td><td>0.0</td><td>0.0</td><td>1.0</td><td>0</td><td>Float64</td></tr><tr><th>21</th><td>lusd</td><td>0.261032</td><td>0.0</td><td>0.0</td><td>1.0</td><td>0</td><td>Float64</td></tr><tr><th>22</th><td>husd</td><td>0.21867</td><td>0.0</td><td>0.0</td><td>1.0</td><td>0</td><td>Float64</td></tr><tr><th>23</th><td>muld</td><td>0.444205</td><td>0.0</td><td>0.0</td><td>1.0</td><td>0</td><td>Float64</td></tr></tbody></table></div>"
      ],
      "text/latex": [
       "\\begin{tabular}{r|ccccccc}\n",
       "\t& variable & mean & min & median & max & nmissing & eltype\\\\\n",
       "\t\\hline\n",
       "\t& Symbol & Union… & Any & Union… & Any & Int64 & DataType\\\\\n",
       "\t\\hline\n",
       "\t1 & abdt & 10695.4 & 10404.0 & 10698.0 & 10880.0 & 0 & Float64 \\\\\n",
       "\t2 & T4 & 0.342224 & 0.0 & 0.0 & 1.0 & 0 & Float64 \\\\\n",
       "\t3 & inuidur1 & 13.053 & 1.0 & 11.0 & 52.0 & 0 & Float64 \\\\\n",
       "\t4 & inuidur2 & 12.2812 & 0.0 & 10.0 & 52.0 & 0 & Float64 \\\\\n",
       "\t5 & female & 0.404001 & 0.0 & 0.0 & 1.0 & 0 & Float64 \\\\\n",
       "\t6 & black & 0.121985 & 0.0 & 0.0 & 1.0 & 0 & Float64 \\\\\n",
       "\t7 & hispanic & 0.0325554 & 0.0 & 0.0 & 1.0 & 0 & Float64 \\\\\n",
       "\t8 & othrace & 0.00725632 & 0.0 & 0.0 & 1.0 & 0 & Float64 \\\\\n",
       "\t9 & dep &  & 0.0 &  & 2.0 & 0 & CategoricalValue\\{String, UInt32\\} \\\\\n",
       "\t10 & q1 & 0.0127476 & 0.0 & 0.0 & 1.0 & 0 & Float64 \\\\\n",
       "\t11 & q2 & 0.203765 & 0.0 & 0.0 & 1.0 & 0 & Float64 \\\\\n",
       "\t12 & q3 & 0.235536 & 0.0 & 0.0 & 1.0 & 0 & Float64 \\\\\n",
       "\t13 & q4 & 0.225927 & 0.0 & 0.0 & 1.0 & 0 & Float64 \\\\\n",
       "\t14 & q5 & 0.25907 & 0.0 & 0.0 & 1.0 & 0 & Float64 \\\\\n",
       "\t15 & q6 & 0.0629535 & 0.0 & 0.0 & 1.0 & 0 & Float64 \\\\\n",
       "\t16 & recall & 0.110414 & 0.0 & 0.0 & 1.0 & 0 & Float64 \\\\\n",
       "\t17 & agelt35 & 0.545009 & 0.0 & 1.0 & 1.0 & 0 & Float64 \\\\\n",
       "\t18 & agegt54 & 0.109433 & 0.0 & 0.0 & 1.0 & 0 & Float64 \\\\\n",
       "\t19 & durable & 0.148068 & 0.0 & 0.0 & 1.0 & 0 & Float64 \\\\\n",
       "\t20 & nondurable & 0.109237 & 0.0 & 0.0 & 1.0 & 0 & Float64 \\\\\n",
       "\t21 & lusd & 0.261032 & 0.0 & 0.0 & 1.0 & 0 & Float64 \\\\\n",
       "\t22 & husd & 0.21867 & 0.0 & 0.0 & 1.0 & 0 & Float64 \\\\\n",
       "\t23 & muld & 0.444205 & 0.0 & 0.0 & 1.0 & 0 & Float64 \\\\\n",
       "\\end{tabular}\n"
      ],
      "text/plain": [
       "\u001b[1m23×7 DataFrame\u001b[0m\n",
       "\u001b[1m Row \u001b[0m│\u001b[1m variable   \u001b[0m\u001b[1m mean       \u001b[0m\u001b[1m min     \u001b[0m\u001b[1m median  \u001b[0m\u001b[1m max     \u001b[0m\u001b[1m nmissing \u001b[0m\u001b[1m eltype    \u001b[0m ⋯\n",
       "\u001b[1m     \u001b[0m│\u001b[90m Symbol     \u001b[0m\u001b[90m Union…     \u001b[0m\u001b[90m Any     \u001b[0m\u001b[90m Union…  \u001b[0m\u001b[90m Any     \u001b[0m\u001b[90m Int64    \u001b[0m\u001b[90m DataType  \u001b[0m ⋯\n",
       "─────┼──────────────────────────────────────────────────────────────────────────\n",
       "   1 │ abdt        10695.4     10404.0  10698.0  10880.0         0  Float64    ⋯\n",
       "   2 │ T4          0.342224    0.0      0.0      1.0             0  Float64\n",
       "   3 │ inuidur1    13.053      1.0      11.0     52.0            0  Float64\n",
       "   4 │ inuidur2    12.2812     0.0      10.0     52.0            0  Float64\n",
       "   5 │ female      0.404001    0.0      0.0      1.0             0  Float64    ⋯\n",
       "   6 │ black       0.121985    0.0      0.0      1.0             0  Float64\n",
       "   7 │ hispanic    0.0325554   0.0      0.0      1.0             0  Float64\n",
       "   8 │ othrace     0.00725632  0.0      0.0      1.0             0  Float64\n",
       "   9 │ dep        \u001b[90m            \u001b[0m 0.0     \u001b[90m         \u001b[0m 2.0             0  Categorica ⋯\n",
       "  10 │ q1          0.0127476   0.0      0.0      1.0             0  Float64\n",
       "  11 │ q2          0.203765    0.0      0.0      1.0             0  Float64\n",
       "  ⋮  │     ⋮           ⋮          ⋮        ⋮        ⋮        ⋮                 ⋱\n",
       "  14 │ q5          0.25907     0.0      0.0      1.0             0  Float64\n",
       "  15 │ q6          0.0629535   0.0      0.0      1.0             0  Float64    ⋯\n",
       "  16 │ recall      0.110414    0.0      0.0      1.0             0  Float64\n",
       "  17 │ agelt35     0.545009    0.0      1.0      1.0             0  Float64\n",
       "  18 │ agegt54     0.109433    0.0      0.0      1.0             0  Float64\n",
       "  19 │ durable     0.148068    0.0      0.0      1.0             0  Float64    ⋯\n",
       "  20 │ nondurable  0.109237    0.0      0.0      1.0             0  Float64\n",
       "  21 │ lusd        0.261032    0.0      0.0      1.0             0  Float64\n",
       "  22 │ husd        0.21867     0.0      0.0      1.0             0  Float64\n",
       "  23 │ muld        0.444205    0.0      0.0      1.0             0  Float64    ⋯\n",
       "\u001b[36m                                                     1 column and 2 rows omitted\u001b[0m"
      ]
     },
     "execution_count": 371,
     "metadata": {},
     "output_type": "execute_result"
    }
   ],
   "source": [
    "# Treatment group n°4\n",
    "replace!(penn.tg, 4 => 1)\n",
    "rename!(penn, \"tg\" => \"T4\")\n",
    "\n",
    "\n",
    "# from float to string\n",
    "penn[!,:dep] = string.(penn[!,:dep]) \n",
    "\n",
    "# dep varaible in categorical format \n",
    "penn[!,:dep] = categorical(penn[!,:dep])\n",
    "\n",
    "describe(penn)"
   ]
  },
  {
   "cell_type": "markdown",
   "metadata": {},
   "source": [
    "### 2.0 Carry out covariate balance check"
   ]
  },
  {
   "cell_type": "code",
   "execution_count": 372,
   "metadata": {},
   "outputs": [],
   "source": [
    "# couples variables combinations \n",
    "combinations_upto(x, n) = Iterators.flatten(combinations(x, i) for i in 1:n)\n",
    "\n",
    "# combinations without same couple\n",
    "expand_exp(args, deg::ConstantTerm) =\n",
    "    tuple(((&)(terms...) for terms in combinations_upto(args, deg.n))...)\n",
    "\n",
    "StatsModels.apply_schema(t::FunctionTerm{typeof(^)}, sch::StatsModels.Schema, ctx::Type) =\n",
    "    apply_schema.(expand_exp(t.args_parsed...), Ref(sch), ctx)"
   ]
  },
  {
   "cell_type": "code",
   "execution_count": 373,
   "metadata": {
    "scrolled": true
   },
   "outputs": [
    {
     "data": {
      "text/plain": [
       "FormulaTerm\n",
       "Response:\n",
       "  T4(continuous)\n",
       "Predictors:\n",
       "  female(continuous)\n",
       "  black(continuous)\n",
       "  othrace(continuous)\n",
       "  dep(DummyCoding:3→2)\n",
       "  q2(continuous)\n",
       "  q3(continuous)\n",
       "  q4(continuous)\n",
       "  q5(continuous)\n",
       "  q6(continuous)\n",
       "  agelt35(continuous)\n",
       "  agegt54(continuous)\n",
       "  durable(continuous)\n",
       "  lusd(continuous)\n",
       "  husd(continuous)\n",
       "  female(continuous) & black(continuous)\n",
       "  female(continuous) & othrace(continuous)\n",
       "  female(continuous) & dep(DummyCoding:3→2)\n",
       "  female(continuous) & q2(continuous)\n",
       "  female(continuous) & q3(continuous)\n",
       "  female(continuous) & q4(continuous)\n",
       "  female(continuous) & q5(continuous)\n",
       "  female(continuous) & q6(continuous)\n",
       "  female(continuous) & agelt35(continuous)\n",
       "  female(continuous) & agegt54(continuous)\n",
       "  female(continuous) & durable(continuous)\n",
       "  female(continuous) & lusd(continuous)\n",
       "  female(continuous) & husd(continuous)\n",
       "  black(continuous) & othrace(continuous)\n",
       "  black(continuous) & dep(DummyCoding:3→2)\n",
       "  black(continuous) & q2(continuous)\n",
       "  black(continuous) & q3(continuous)\n",
       "  black(continuous) & q4(continuous)\n",
       "  black(continuous) & q5(continuous)\n",
       "  black(continuous) & q6(continuous)\n",
       "  black(continuous) & agelt35(continuous)\n",
       "  black(continuous) & agegt54(continuous)\n",
       "  black(continuous) & durable(continuous)\n",
       "  black(continuous) & lusd(continuous)\n",
       "  black(continuous) & husd(continuous)\n",
       "  othrace(continuous) & dep(DummyCoding:3→2)\n",
       "  othrace(continuous) & q2(continuous)\n",
       "  othrace(continuous) & q3(continuous)\n",
       "  othrace(continuous) & q4(continuous)\n",
       "  othrace(continuous) & q5(continuous)\n",
       "  othrace(continuous) & q6(continuous)\n",
       "  othrace(continuous) & agelt35(continuous)\n",
       "  othrace(continuous) & agegt54(continuous)\n",
       "  othrace(continuous) & durable(continuous)\n",
       "  othrace(continuous) & lusd(continuous)\n",
       "  othrace(continuous) & husd(continuous)\n",
       "  dep(DummyCoding:3→2) & q2(continuous)\n",
       "  dep(DummyCoding:3→2) & q3(continuous)\n",
       "  dep(DummyCoding:3→2) & q4(continuous)\n",
       "  dep(DummyCoding:3→2) & q5(continuous)\n",
       "  dep(DummyCoding:3→2) & q6(continuous)\n",
       "  dep(DummyCoding:3→2) & agelt35(continuous)\n",
       "  dep(DummyCoding:3→2) & agegt54(continuous)\n",
       "  dep(DummyCoding:3→2) & durable(continuous)\n",
       "  dep(DummyCoding:3→2) & lusd(continuous)\n",
       "  dep(DummyCoding:3→2) & husd(continuous)\n",
       "  q2(continuous) & q3(continuous)\n",
       "  q2(continuous) & q4(continuous)\n",
       "  q2(continuous) & q5(continuous)\n",
       "  q2(continuous) & q6(continuous)\n",
       "  q2(continuous) & agelt35(continuous)\n",
       "  q2(continuous) & agegt54(continuous)\n",
       "  q2(continuous) & durable(continuous)\n",
       "  q2(continuous) & lusd(continuous)\n",
       "  q2(continuous) & husd(continuous)\n",
       "  q3(continuous) & q4(continuous)\n",
       "  q3(continuous) & q5(continuous)\n",
       "  q3(continuous) & q6(continuous)\n",
       "  q3(continuous) & agelt35(continuous)\n",
       "  q3(continuous) & agegt54(continuous)\n",
       "  q3(continuous) & durable(continuous)\n",
       "  q3(continuous) & lusd(continuous)\n",
       "  q3(continuous) & husd(continuous)\n",
       "  q4(continuous) & q5(continuous)\n",
       "  q4(continuous) & q6(continuous)\n",
       "  q4(continuous) & agelt35(continuous)\n",
       "  q4(continuous) & agegt54(continuous)\n",
       "  q4(continuous) & durable(continuous)\n",
       "  q4(continuous) & lusd(continuous)\n",
       "  q4(continuous) & husd(continuous)\n",
       "  q5(continuous) & q6(continuous)\n",
       "  q5(continuous) & agelt35(continuous)\n",
       "  q5(continuous) & agegt54(continuous)\n",
       "  q5(continuous) & durable(continuous)\n",
       "  q5(continuous) & lusd(continuous)\n",
       "  q5(continuous) & husd(continuous)\n",
       "  q6(continuous) & agelt35(continuous)\n",
       "  q6(continuous) & agegt54(continuous)\n",
       "  q6(continuous) & durable(continuous)\n",
       "  q6(continuous) & lusd(continuous)\n",
       "  q6(continuous) & husd(continuous)\n",
       "  agelt35(continuous) & agegt54(continuous)\n",
       "  agelt35(continuous) & durable(continuous)\n",
       "  agelt35(continuous) & lusd(continuous)\n",
       "  agelt35(continuous) & husd(continuous)\n",
       "  agegt54(continuous) & durable(continuous)\n",
       "  agegt54(continuous) & lusd(continuous)\n",
       "  agegt54(continuous) & husd(continuous)\n",
       "  durable(continuous) & lusd(continuous)\n",
       "  durable(continuous) & husd(continuous)\n",
       "  lusd(continuous) & husd(continuous)"
      ]
     },
     "execution_count": 373,
     "metadata": {},
     "output_type": "execute_result"
    }
   ],
   "source": [
    "# linear regression\n",
    "\n",
    "reg1 = @formula(T4 ~ (female+black+othrace+dep+q2+q3+q4+q5+q6+agelt35+agegt54+durable+lusd+husd)^2)\n",
    "reg1 = apply_schema(reg1, schema(reg1, penn))"
   ]
  },
  {
   "cell_type": "code",
   "execution_count": 374,
   "metadata": {
    "scrolled": true
   },
   "outputs": [
    {
     "data": {
      "text/plain": [
       "StatsModels.TableRegressionModel{LinearModel{GLM.LmResp{Vector{Float64}}, GLM.DensePredChol{Float64, LinearAlgebra.CholeskyPivoted{Float64, Matrix{Float64}}}}, Matrix{Float64}}\n",
       "\n",
       "T4 ~ 1 + female + black + othrace + dep + q2 + q3 + q4 + q5 + q6 + agelt35 + agegt54 + durable + lusd + husd + female & black + female & othrace + female & dep + female & q2 + female & q3 + female & q4 + female & q5 + female & q6 + female & agelt35 + female & agegt54 + female & durable + female & lusd + female & husd + black & othrace + black & dep + black & q2 + black & q3 + black & q4 + black & q5 + black & q6 + black & agelt35 + black & agegt54 + black & durable + black & lusd + black & husd + othrace & dep + othrace & q2 + othrace & q3 + othrace & q4 + othrace & q5 + othrace & q6 + othrace & agelt35 + othrace & agegt54 + othrace & durable + othrace & lusd + othrace & husd + dep & q2 + dep & q3 + dep & q4 + dep & q5 + dep & q6 + dep & agelt35 + dep & agegt54 + dep & durable + dep & lusd + dep & husd + q2 & q3 + q2 & q4 + q2 & q5 + q2 & q6 + q2 & agelt35 + q2 & agegt54 + q2 & durable + q2 & lusd + q2 & husd + q3 & q4 + q3 & q5 + q3 & q6 + q3 & agelt35 + q3 & agegt54 + q3 & durable + q3 & lusd + q3 & husd + q4 & q5 + q4 & q6 + q4 & agelt35 + q4 & agegt54 + q4 & durable + q4 & lusd + q4 & husd + q5 & q6 + q5 & agelt35 + q5 & agegt54 + q5 & durable + q5 & lusd + q5 & husd + q6 & agelt35 + q6 & agegt54 + q6 & durable + q6 & lusd + q6 & husd + agelt35 & agegt54 + agelt35 & durable + agelt35 & lusd + agelt35 & husd + agegt54 & durable + agegt54 & lusd + agegt54 & husd + durable & lusd + durable & husd + lusd & husd\n",
       "\n",
       "Coefficients:\n",
       "───────────────────────────────────────────────────────────────────────────────────────────\n",
       "                           Coef.   Std. Error       t  Pr(>|t|)     Lower 95%     Upper 95%\n",
       "───────────────────────────────────────────────────────────────────────────────────────────\n",
       "(Intercept)          0.321457       0.166591     1.93    0.0537   -0.00513425    0.648049\n",
       "female               0.104233       0.13769      0.76    0.4491   -0.1657        0.374167\n",
       "black                0.0381541      0.0626588    0.61    0.5426   -0.0846847     0.160993\n",
       "othrace             -0.345415       0.294295    -1.17    0.2406   -0.922363      0.231533\n",
       "dep: 1.0            -0.0736334      0.218348    -0.34    0.7360   -0.501692      0.354425\n",
       "dep: 2.0            -0.108541       0.165314    -0.66    0.5115   -0.432628      0.215546\n",
       "q2                  -0.0266794      0.167853    -0.16    0.8737   -0.355745      0.302386\n",
       "q3                  -0.00567387     0.167483    -0.03    0.9730   -0.334014      0.322666\n",
       "q4                   0.0433442      0.167588     0.26    0.7959   -0.285201      0.37189\n",
       "q5                   0.0938646      0.166699     0.56    0.5734   -0.232939      0.420669\n",
       "q6                  -0.221564       0.166861    -1.33    0.1843   -0.548686      0.105557\n",
       "agelt35             -0.10924        0.135053    -0.81    0.4186   -0.374003      0.155523\n",
       "agegt54             -0.436686       0.301652    -1.45    0.1478   -1.02806       0.154684\n",
       "durable             -0.12501        0.191728    -0.65    0.5144   -0.500881      0.250862\n",
       "lusd                 0.0381088      0.0467859    0.81    0.4154   -0.0536122     0.12983\n",
       "husd                 0.09468        0.0796911    1.19    0.2349   -0.0615496     0.25091\n",
       "female & black       0.088866       0.0439698    2.02    0.0433    0.00266579    0.175066\n",
       "female & othrace    -0.413509       0.201125    -2.06    0.0398   -0.807804     -0.0192154\n",
       "female & dep: 1.0    0.0554752      0.0466923    1.19    0.2348   -0.0360622     0.147013\n",
       "female & dep: 2.0    0.045448       0.040837     1.11    0.2658   -0.0346104     0.125506\n",
       "female & q2         -0.18881        0.137252    -1.38    0.1690   -0.457883      0.0802637\n",
       "female & q3         -0.165264       0.13702     -1.21    0.2278   -0.433883      0.103355\n",
       "female & q4         -0.176329       0.136874    -1.29    0.1977   -0.444662      0.0920042\n",
       "female & q5         -0.203217       0.136388    -1.49    0.1363   -0.470597      0.0641638\n",
       "female & q6         -0.042716       0.145265    -0.29    0.7687   -0.327499      0.242067\n",
       "female & agelt35     0.0734218      0.0303387    2.42    0.0156    0.0139446     0.132899\n",
       "female & agegt54     0.0261287      0.0509224    0.51    0.6079   -0.0737016     0.125959\n",
       "female & durable     0.0197569      0.0442904    0.45    0.6556   -0.0670717     0.106585\n",
       "female & lusd        0.00206955     0.0336378    0.06    0.9509   -0.0638753     0.0680144\n",
       "female & husd        0.0117885      0.0374957    0.31    0.7532   -0.0617194     0.0852965\n",
       "black & othrace      0.0          NaN          NaN       NaN     NaN           NaN\n",
       "black & dep: 1.0    -0.117263       0.0713503   -1.64    0.1003   -0.257141      0.0226146\n",
       "black & dep: 2.0    -0.0222243      0.0634052   -0.35    0.7260   -0.146526      0.102078\n",
       "black & q2           0.0          NaN          NaN       NaN     NaN           NaN\n",
       "black & q3          -0.163073       0.0664863   -2.45    0.0142   -0.293415     -0.0327308\n",
       "black & q4          -0.0914418      0.0656251   -1.39    0.1636   -0.220096      0.0372122\n",
       "black & q5          -0.176394       0.0642048   -2.75    0.0060   -0.302263     -0.0505245\n",
       "black & q6           0.033494       0.0923702    0.36    0.7169   -0.147592      0.21458\n",
       "black & agelt35      0.0622641      0.0456729    1.36    0.1729   -0.0272747     0.151803\n",
       "black & agegt54      0.0512632      0.0822507    0.62    0.5331   -0.109984      0.212511\n",
       "black & durable      0.104751       0.0667795    1.57    0.1168   -0.0261662     0.235668\n",
       "black & lusd        -0.0210387      0.0552608   -0.38    0.7034   -0.129374      0.0872967\n",
       "black & husd         0.249642       0.173224     1.44    0.1496   -0.0899518     0.589237\n",
       "othrace & dep: 1.0  -0.858077       0.614583    -1.40    0.1627   -2.06293       0.346777\n",
       "othrace & dep: 2.0   0.241537       0.211604     1.14    0.2537   -0.173299      0.656373\n",
       "othrace & q2         0.810603       0.370867     2.19    0.0289    0.08354       1.53767\n",
       "othrace & q3         0.0          NaN          NaN       NaN     NaN           NaN\n",
       "othrace & q4         0.789321       0.29584      2.67    0.0077    0.209344      1.3693\n",
       "othrace & q5         0.379484       0.286257     1.33    0.1850   -0.181706      0.940674\n",
       "othrace & q6         0.37343        0.353136     1.06    0.2903   -0.318872      1.06573\n",
       "othrace & agelt35    0.316479       0.216889     1.46    0.1446   -0.108719      0.741677\n",
       "othrace & agegt54    0.309164       0.253936     1.22    0.2235   -0.188663      0.80699\n",
       "othrace & durable   -0.190777       0.229801    -0.83    0.4065   -0.641288      0.259735\n",
       "othrace & lusd      -0.0910898      0.214763    -0.42    0.6715   -0.51212       0.329941\n",
       "othrace & husd       0.00516356     0.329225     0.02    0.9875   -0.640262      0.650589\n",
       "dep: 1.0 & q2        0.165756       0.217294     0.76    0.4456   -0.260235      0.591746\n",
       "dep: 2.0 & q2        0.0874936      0.164826     0.53    0.5956   -0.235638      0.410625\n",
       "dep: 1.0 & q3        0.120985       0.216654     0.56    0.5766   -0.303752      0.545722\n",
       "dep: 2.0 & q3        0.139642       0.164692     0.85    0.3965   -0.183226      0.46251\n",
       "dep: 1.0 & q4        0.0847695      0.215929     0.39    0.6946   -0.338546      0.508085\n",
       "dep: 2.0 & q4        0.0909981      0.165622     0.55    0.5827   -0.233693      0.415689\n",
       "dep: 1.0 & q5        0.110454       0.215259     0.51    0.6079   -0.311549      0.532457\n",
       "dep: 2.0 & q5        0.095995       0.164026     0.59    0.5584   -0.225568      0.417558\n",
       "dep: 1.0 & q6        0.100697       0.229336     0.44    0.6606   -0.348902      0.550295\n",
       "dep: 2.0 & q6        0.0484028      0.175173     0.28    0.7823   -0.295013      0.391818\n",
       "dep: 1.0 & agelt35  -0.0737299      0.0483076   -1.53    0.1270   -0.168434      0.0209743\n",
       "dep: 2.0 & agelt35  -0.0243896      0.0379101   -0.64    0.5200   -0.09871       0.0499308\n",
       "dep: 1.0 & agegt54  -0.0805889      0.0695192   -1.16    0.2464   -0.216877      0.0556993\n",
       "dep: 2.0 & agegt54   0.028049       0.143651     0.20    0.8452   -0.25357       0.309668\n",
       "dep: 1.0 & durable  -0.0602756      0.0627033   -0.96    0.3365   -0.183202      0.0626504\n",
       "dep: 2.0 & durable   0.124665       0.0501459    2.49    0.0129    0.0263565     0.222973\n",
       "dep: 1.0 & lusd      0.0589698      0.0518624    1.14    0.2556   -0.0427034     0.160643\n",
       "dep: 2.0 & lusd      0.0515751      0.0461771    1.12    0.2641   -0.0389521     0.142102\n",
       "dep: 1.0 & husd     -0.0433257      0.0567444   -0.76    0.4452   -0.15457       0.0679183\n",
       "dep: 2.0 & husd     -0.0882032      0.0495385   -1.78    0.0751   -0.18532       0.00891391\n",
       "q2 & q3              0.0          NaN          NaN       NaN     NaN           NaN\n",
       "q2 & q4              0.0          NaN          NaN       NaN     NaN           NaN\n",
       "q2 & q5              0.0          NaN          NaN       NaN     NaN           NaN\n",
       "q2 & q6              0.0          NaN          NaN       NaN     NaN           NaN\n",
       "q2 & agelt35         0.127541       0.134945     0.95    0.3446   -0.13701       0.392092\n",
       "q2 & agegt54         0.529557       0.302241     1.75    0.0798   -0.0629684     1.12208\n",
       "q2 & durable         0.12612        0.189992     0.66    0.5068   -0.246348      0.498588\n",
       "q2 & lusd            0.0          NaN          NaN       NaN     NaN           NaN\n",
       "q2 & husd           -0.0188267      0.0800419   -0.24    0.8141   -0.175744      0.138091\n",
       "q3 & q4              0.0          NaN          NaN       NaN     NaN           NaN\n",
       "q3 & q5              0.0          NaN          NaN       NaN     NaN           NaN\n",
       "q3 & q6              0.0          NaN          NaN       NaN     NaN           NaN\n",
       "q3 & agelt35         0.130592       0.134765     0.97    0.3326   -0.133607      0.394791\n",
       "q3 & agegt54         0.478202       0.301322     1.59    0.1126   -0.112522      1.06893\n",
       "q3 & durable         0.0542057      0.190137     0.29    0.7756   -0.318546      0.426958\n",
       "q3 & lusd            0.022384       0.048376     0.46    0.6436   -0.0724541     0.117222\n",
       "q3 & husd           -0.0600798      0.0794947   -0.76    0.4498   -0.215924      0.0957647\n",
       "q4 & q5              0.0          NaN          NaN       NaN     NaN           NaN\n",
       "q4 & q6              0.0          NaN          NaN       NaN     NaN           NaN\n",
       "q4 & agelt35         0.131009       0.134668     0.97    0.3307   -0.132999      0.395017\n",
       "q4 & agegt54         0.54033        0.300212     1.80    0.0719   -0.0482176     1.12888\n",
       "q4 & durable         0.0962517      0.190751     0.50    0.6139   -0.277705      0.470208\n",
       "q4 & lusd           -0.0272426      0.0490973   -0.55    0.5790   -0.123495      0.0690096\n",
       "q4 & husd           -0.171919       0.0798953   -2.15    0.0315   -0.328549     -0.0152889\n",
       "q5 & q6              0.0          NaN          NaN       NaN     NaN           NaN\n",
       "q5 & agelt35         0.0707747      0.133916     0.53    0.5972   -0.19176       0.33331\n",
       "q5 & agegt54         0.443779       0.299699     1.48    0.1387   -0.143762      1.03132\n",
       "q5 & durable         0.0746657      0.18912      0.39    0.6930   -0.296092      0.445424\n",
       "q5 & lusd            5.90558e-5     0.0483251    0.00    0.9990   -0.0946793     0.0947975\n",
       "q5 & husd           -0.161624       0.0781248   -2.07    0.0386   -0.314783     -0.00846506\n",
       "q6 & agelt35         0.170302       0.143244     1.19    0.2345   -0.110518      0.451122\n",
       "q6 & agegt54         0.565523       0.310632     1.82    0.0687   -0.0434522     1.1745\n",
       "q6 & durable         0.255787       0.199425     1.28    0.1997   -0.135174      0.646748\n",
       "q6 & lusd            0.0761777      0.0753736    1.01    0.3122   -0.0715875     0.223943\n",
       "q6 & husd            0.0          NaN          NaN       NaN     NaN           NaN\n",
       "agelt35 & agegt54    0.0          NaN          NaN       NaN     NaN           NaN\n",
       "agelt35 & durable    0.00948986     0.0413158    0.23    0.8183   -0.0715072     0.0904869\n",
       "agelt35 & lusd      -0.0258615      0.0352543   -0.73    0.4632   -0.0949755     0.0432524\n",
       "agelt35 & husd       0.0354876      0.0406361    0.87    0.3825   -0.0441769     0.115152\n",
       "agegt54 & durable   -0.0623142      0.0675775   -0.92    0.3565   -0.194796      0.0701675\n",
       "agegt54 & lusd      -0.0366289      0.0569102   -0.64    0.5198   -0.148198      0.0749401\n",
       "agegt54 & husd      -0.0742179      0.0626634   -1.18    0.2363   -0.197066      0.0486298\n",
       "durable & lusd      -0.0551736      0.0437856   -1.26    0.2077   -0.141013      0.0306655\n",
       "durable & husd      -0.000169184    0.0537899   -0.00    0.9975   -0.105621      0.105283\n",
       "lusd & husd          0.0          NaN          NaN       NaN     NaN           NaN\n",
       "───────────────────────────────────────────────────────────────────────────────────────────"
      ]
     },
     "execution_count": 374,
     "metadata": {},
     "output_type": "execute_result"
    }
   ],
   "source": [
    "m1 = lm(reg1, penn)"
   ]
  },
  {
   "cell_type": "markdown",
   "metadata": {},
   "source": [
    "### 3.0 Model specification"
   ]
  },
  {
   "cell_type": "code",
   "execution_count": 375,
   "metadata": {
    "scrolled": true
   },
   "outputs": [
    {
     "data": {
      "text/plain": [
       "StatsModels.TableRegressionModel{LinearModel{GLM.LmResp{Vector{Float64}}, GLM.DensePredChol{Float64, LinearAlgebra.CholeskyPivoted{Float64, Matrix{Float64}}}}, Matrix{Float64}}\n",
       "\n",
       ":(log(inuidur1)) ~ 1 + T4 + female + black + othrace + dep + q2 + q3 + q4 + q5 + q6 + agelt35 + agegt54 + durable + lusd + husd + female & black + female & othrace + female & dep + female & q2 + female & q3 + female & q4 + female & q5 + female & q6 + female & agelt35 + female & agegt54 + female & durable + female & lusd + female & husd + black & othrace + black & dep + black & q2 + black & q3 + black & q4 + black & q5 + black & q6 + black & agelt35 + black & agegt54 + black & durable + black & lusd + black & husd + othrace & dep + othrace & q2 + othrace & q3 + othrace & q4 + othrace & q5 + othrace & q6 + othrace & agelt35 + othrace & agegt54 + othrace & durable + othrace & lusd + othrace & husd + dep & q2 + dep & q3 + dep & q4 + dep & q5 + dep & q6 + dep & agelt35 + dep & agegt54 + dep & durable + dep & lusd + dep & husd + q2 & q3 + q2 & q4 + q2 & q5 + q2 & q6 + q2 & agelt35 + q2 & agegt54 + q2 & durable + q2 & lusd + q2 & husd + q3 & q4 + q3 & q5 + q3 & q6 + q3 & agelt35 + q3 & agegt54 + q3 & durable + q3 & lusd + q3 & husd + q4 & q5 + q4 & q6 + q4 & agelt35 + q4 & agegt54 + q4 & durable + q4 & lusd + q4 & husd + q5 & q6 + q5 & agelt35 + q5 & agegt54 + q5 & durable + q5 & lusd + q5 & husd + q6 & agelt35 + q6 & agegt54 + q6 & durable + q6 & lusd + q6 & husd + agelt35 & agegt54 + agelt35 & durable + agelt35 & lusd + agelt35 & husd + agegt54 & durable + agegt54 & lusd + agegt54 & husd + durable & lusd + durable & husd + lusd & husd\n",
       "\n",
       "Coefficients:\n",
       "─────────────────────────────────────────────────────────────────────────────────────────\n",
       "                          Coef.   Std. Error       t  Pr(>|t|)    Lower 95%     Upper 95%\n",
       "─────────────────────────────────────────────────────────────────────────────────────────\n",
       "(Intercept)          2.63308       0.419898     6.27    <1e-09    1.8099       3.45627\n",
       "T4                  -0.0796801     0.0356467   -2.24    0.0254   -0.149563    -0.00979691\n",
       "female              -0.114609      0.346944    -0.33    0.7412   -0.794772     0.565553\n",
       "black               -0.440502      0.157881    -2.79    0.0053   -0.750017    -0.130986\n",
       "othrace             -0.882865      0.903283    -0.98    0.3284   -2.6537       0.887967\n",
       "dep: 1.0            -0.719698      0.550155    -1.31    0.1909   -1.79824      0.358848\n",
       "dep: 2.0            -0.0405584     0.416541    -0.10    0.9224   -0.857162     0.776045\n",
       "q2                  -0.15967       0.422923    -0.38    0.7058   -0.988785     0.669445\n",
       "q3                  -0.539891      0.421989    -1.28    0.2008   -1.36717      0.287394\n",
       "q4                  -0.433354      0.422256    -1.03    0.3048   -1.26116      0.394453\n",
       "q5                  -0.345241      0.420028    -0.82    0.4111   -1.16868      0.478199\n",
       "q6                  -0.493677      0.420497    -1.17    0.2404   -1.31804      0.330682\n",
       "agelt35             -0.625862      0.340301    -1.84    0.0660   -1.293        0.0412766\n",
       "agegt54             -0.361373      0.760201    -0.48    0.6345   -1.8517       1.12895\n",
       "durable             -0.279229      0.483098    -0.58    0.5633   -1.22631      0.667855\n",
       "lusd                -0.22287       0.183856    -1.21    0.2255   -0.583308     0.137568\n",
       "husd                -0.170185      0.200818    -0.85    0.3968   -0.563876     0.223506\n",
       "female & black      -0.154951      0.110831    -1.40    0.1622   -0.372229     0.0623276\n",
       "female & othrace     0.310207      0.506969     0.61    0.5406   -0.683674     1.30409\n",
       "female & dep: 1.0   -0.0278778     0.117662    -0.24    0.8127   -0.258548     0.202792\n",
       "female & dep: 2.0    0.14815       0.102905     1.44    0.1500   -0.0535896    0.34989\n",
       "female & q2         -0.0874102     0.345884    -0.25    0.8005   -0.765494     0.590674\n",
       "female & q3          0.204877      0.345285     0.59    0.5530   -0.472033     0.881786\n",
       "female & q4          0.273193      0.344924     0.79    0.4284   -0.40301      0.949396\n",
       "female & q5          0.061148      0.343719     0.18    0.8588   -0.612692     0.734988\n",
       "female & q6          0.28722       0.366012     0.78    0.4327   -0.430325     1.00476\n",
       "female & agelt35     0.126386      0.0764861    1.65    0.0985   -0.0235602    0.276333\n",
       "female & agegt54     0.0399664     0.128307     0.31    0.7554   -0.211572     0.291505\n",
       "female & durable     0.0680019     0.111596     0.61    0.5423   -0.150775     0.286779\n",
       "female & lusd        0.0837401     0.0847536    0.99    0.3232   -0.0824142    0.249894\n",
       "female & husd        0.0623186     0.0944748    0.66    0.5095   -0.122893     0.247531\n",
       "black & othrace      0.0         NaN          NaN       NaN     NaN          NaN\n",
       "black & dep: 1.0     0.157495      0.179822     0.88    0.3812   -0.195036     0.510026\n",
       "black & dep: 2.0    -0.103847      0.159757    -0.65    0.5157   -0.417042     0.209347\n",
       "black & q2           0.0         NaN          NaN       NaN     NaN          NaN\n",
       "black & q3          -0.0419398     0.167619    -0.25    0.8024   -0.370547     0.286668\n",
       "black & q4           0.0899291     0.165381     0.54    0.5866   -0.23429      0.414148\n",
       "black & q5           0.27608       0.161892     1.71    0.0882   -0.0413001    0.593459\n",
       "black & q6          -0.458525      0.232738    -1.97    0.0489   -0.914795    -0.00225539\n",
       "black & agelt35      0.0150577     0.115099     0.13    0.8959   -0.210586     0.240701\n",
       "black & agegt54      0.443824      0.207246     2.14    0.0323    0.0375295    0.850118\n",
       "black & durable      0.243643      0.168299     1.45    0.1478   -0.086296     0.573582\n",
       "black & lusd         0.290974      0.139237     2.09    0.0367    0.0180084    0.563939\n",
       "black & husd         1.31489       0.436544     3.01    0.0026    0.459072     2.17071\n",
       "othrace & dep: 1.0   1.07357       1.5488       0.69    0.4882   -1.96277      4.1099\n",
       "othrace & dep: 2.0   0.00698639    0.533225     0.01    0.9895   -1.03837      1.05234\n",
       "othrace & q2         0.0         NaN          NaN       NaN     NaN          NaN\n",
       "othrace & q3        -0.386554      0.934882    -0.41    0.6793   -2.21933      1.44623\n",
       "othrace & q4        -0.300747      0.789327    -0.38    0.7032   -1.84817      1.24668\n",
       "othrace & q5        -0.318815      0.75139     -0.42    0.6714   -1.79187      1.15424\n",
       "othrace & q6        -1.74406       0.929271    -1.88    0.0606   -3.56583      0.0777215\n",
       "othrace & agelt35    1.18455       0.546589     2.17    0.0303    0.112993     2.2561\n",
       "othrace & agegt54   -0.221931      0.639912    -0.35    0.7287   -1.47644      1.03258\n",
       "othrace & durable    1.62797       0.579046     2.81    0.0050    0.492788     2.76316\n",
       "othrace & lusd      -0.0706857     0.541127    -0.13    0.8961   -1.13153      0.99016\n",
       "othrace & husd      -0.771421      0.829513    -0.93    0.3524   -2.39763      0.854789\n",
       "dep: 1.0 & q2        0.639816      0.547524     1.17    0.2426   -0.433571     1.7132\n",
       "dep: 2.0 & q2       -0.0444763     0.415306    -0.11    0.9147   -0.858659     0.769706\n",
       "dep: 1.0 & q3        0.69844       0.545897     1.28    0.2008   -0.371758     1.76864\n",
       "dep: 2.0 & q3       -0.029537      0.414986    -0.07    0.9433   -0.843092     0.784018\n",
       "dep: 1.0 & q4        0.504139      0.544062     0.93    0.3542   -0.562461     1.57074\n",
       "dep: 2.0 & q4        0.139048      0.417312     0.33    0.7390   -0.679067     0.957162\n",
       "dep: 1.0 & q5        0.527765      0.542381     0.97    0.3306   -0.53554      1.59107\n",
       "dep: 2.0 & q5       -0.169688      0.413294    -0.41    0.6814   -0.979925     0.64055\n",
       "dep: 1.0 & q6        1.095         0.577845     1.89    0.0582   -0.0378283    2.22783\n",
       "dep: 2.0 & q6        0.340868      0.441368     0.77    0.4400   -0.524407     1.20614\n",
       "dep: 1.0 & agelt35   0.0745954     0.121744     0.61    0.5401   -0.164076     0.313267\n",
       "dep: 2.0 & agelt35   0.0332783     0.095522     0.35    0.7276   -0.153987     0.220543\n",
       "dep: 1.0 & agegt54   0.0724984     0.175184     0.41    0.6790   -0.270939     0.415936\n",
       "dep: 2.0 & agegt54   0.156688      0.361944     0.43    0.6651   -0.552881     0.866257\n",
       "dep: 1.0 & durable   0.294569      0.158002     1.86    0.0623   -0.0151832    0.604322\n",
       "dep: 2.0 & durable   0.0454331     0.126425     0.36    0.7193   -0.202416     0.293283\n",
       "dep: 1.0 & lusd      0.150011      0.130689     1.15    0.2511   -0.106197     0.40622\n",
       "dep: 2.0 & lusd      0.182559      0.116362     1.57    0.1167   -0.0455613    0.41068\n",
       "dep: 1.0 & husd      0.0813778     0.142981     0.57    0.5693   -0.198928     0.361684\n",
       "dep: 2.0 & husd      0.152233      0.124856     1.22    0.2228   -0.0925406    0.397006\n",
       "q2 & q3              0.0         NaN          NaN       NaN     NaN          NaN\n",
       "q2 & q4              0.0         NaN          NaN       NaN     NaN          NaN\n",
       "q2 & q5              0.0         NaN          NaN       NaN     NaN          NaN\n",
       "q2 & q6              0.0         NaN          NaN       NaN     NaN          NaN\n",
       "q2 & agelt35         0.43022       0.340037     1.27    0.2059   -0.236401     1.09684\n",
       "q2 & agegt54         0.671219      0.76176      0.88    0.3783   -0.822165     2.1646\n",
       "q2 & durable        -0.106413      0.478724    -0.22    0.8241   -1.04492      0.832097\n",
       "q2 & lusd           -0.0427925     0.18993     -0.23    0.8218   -0.415139     0.329554\n",
       "q2 & husd           -0.0416684     0.201674    -0.21    0.8363   -0.437039     0.353702\n",
       "q3 & q4              0.0         NaN          NaN       NaN     NaN          NaN\n",
       "q3 & q5              0.0         NaN          NaN       NaN     NaN          NaN\n",
       "q3 & q6              0.0         NaN          NaN       NaN     NaN          NaN\n",
       "q3 & agelt35         0.454498      0.339586     1.34    0.1808   -0.211239     1.12023\n",
       "q3 & agegt54         0.866008      0.759402     1.14    0.2542   -0.622752     2.35477\n",
       "q3 & durable         0.244999      0.479072     0.51    0.6091   -0.694193     1.18419\n",
       "q3 & lusd            0.0858674     0.186527     0.46    0.6453   -0.279808     0.451543\n",
       "q3 & husd            0.170304      0.200306     0.85    0.3952   -0.222384     0.562991\n",
       "q4 & q5              0.0         NaN          NaN       NaN     NaN          NaN\n",
       "q4 & q6              0.0         NaN          NaN       NaN     NaN          NaN\n",
       "q4 & agelt35         0.388223      0.33934      1.14    0.2527   -0.277032     1.05348\n",
       "q4 & agegt54         0.555334      0.756658     0.73    0.4630   -0.928048     2.03872\n",
       "q4 & durable         0.217338      0.480628     0.45    0.6511   -0.724904     1.15958\n",
       "q4 & lusd           -0.0950058     0.18751     -0.51    0.6124   -0.462607     0.272595\n",
       "q4 & husd           -0.120608      0.201397    -0.60    0.5493   -0.515435     0.274218\n",
       "q5 & q6              0.0         NaN          NaN       NaN     NaN          NaN\n",
       "q5 & agelt35         0.277959      0.337425     0.82    0.4101   -0.383542     0.939459\n",
       "q5 & agegt54         0.451452      0.755285     0.60    0.5501   -1.02924      1.93214\n",
       "q5 & durable         0.288129      0.476513     0.60    0.5454   -0.646046     1.2223\n",
       "q5 & lusd           -0.104022      0.185917    -0.56    0.5758   -0.468501     0.260457\n",
       "q5 & husd           -0.152336      0.196927    -0.77    0.4392   -0.5384       0.233728\n",
       "q6 & agelt35         0.338111      0.360967     0.94    0.3490   -0.369543     1.04576\n",
       "q6 & agegt54         0.949347      0.782927     1.21    0.2254   -0.585534     2.48423\n",
       "q6 & durable         0.409167      0.502554     0.81    0.4156   -0.576059     1.39439\n",
       "q6 & lusd            0.0         NaN          NaN       NaN     NaN          NaN\n",
       "q6 & husd            0.0         NaN          NaN       NaN     NaN          NaN\n",
       "agelt35 & agegt54    0.0         NaN          NaN       NaN     NaN          NaN\n",
       "agelt35 & durable    0.0252788     0.1041       0.24    0.8081   -0.178802     0.22936\n",
       "agelt35 & lusd      -0.0652757     0.0888314   -0.73    0.4625   -0.239424     0.108873\n",
       "agelt35 & husd       0.0577119     0.102394     0.56    0.5730   -0.143026     0.25845\n",
       "agegt54 & durable    0.0319891     0.170283     0.19    0.8510   -0.301839     0.365818\n",
       "agegt54 & lusd      -0.148162      0.143397    -1.03    0.3015   -0.429283     0.132958\n",
       "agegt54 & husd      -0.301547      0.157909    -1.91    0.0562   -0.611117     0.00802338\n",
       "durable & lusd       0.115783      0.11034      1.05    0.2941   -0.100531     0.332097\n",
       "durable & husd       0.237641      0.135529     1.75    0.0796   -0.0280547    0.503337\n",
       "lusd & husd          0.0         NaN          NaN       NaN     NaN          NaN\n",
       "─────────────────────────────────────────────────────────────────────────────────────────"
      ]
     },
     "execution_count": 375,
     "metadata": {},
     "output_type": "execute_result"
    }
   ],
   "source": [
    "# No adjustment (2-sample approach)\n",
    "\n",
    "ols_cl = lm(@formula(log(inuidur1) ~ T4), penn)\n",
    "\n",
    "# adding controls\n",
    "# Omitted dummies: q1, nondurable, muld\n",
    "\n",
    "reg2 = @formula(log(inuidur1) ~ T4 + (female+black+othrace+dep+q2+q3+q4+q5+q6+agelt35+agegt54+durable+lusd+husd)^2)\n",
    "reg2 = apply_schema(reg2, schema(reg2, penn))\n",
    "\n",
    "ols_cra = lm(reg2, penn)\n"
   ]
  },
  {
   "cell_type": "code",
   "execution_count": 493,
   "metadata": {
    "scrolled": true
   },
   "outputs": [
    {
     "data": {
      "text/html": [
       "<div class=\"data-frame\"><p>5,099 rows × 119 columns (omitted printing of 111 columns)</p><table class=\"data-frame\"><thead><tr><th></th><th>x1</th><th>x2</th><th>x3</th><th>x4</th><th>x5</th><th>x6</th><th>x7</th><th>x8</th></tr><tr><th></th><th title=\"Float64\">Float64</th><th title=\"Float64\">Float64</th><th title=\"Float64\">Float64</th><th title=\"Float64\">Float64</th><th title=\"Float64\">Float64</th><th title=\"Float64\">Float64</th><th title=\"Float64\">Float64</th><th title=\"Float64\">Float64</th></tr></thead><tbody><tr><th>1</th><td>-0.404001</td><td>-0.121985</td><td>-0.00725632</td><td>-0.112179</td><td>0.836242</td><td>-0.203765</td><td>-0.235536</td><td>-0.225927</td></tr><tr><th>2</th><td>-0.404001</td><td>-0.121985</td><td>-0.00725632</td><td>-0.112179</td><td>-0.163758</td><td>-0.203765</td><td>-0.235536</td><td>-0.225927</td></tr><tr><th>3</th><td>-0.404001</td><td>-0.121985</td><td>-0.00725632</td><td>-0.112179</td><td>-0.163758</td><td>-0.203765</td><td>-0.235536</td><td>0.774073</td></tr><tr><th>4</th><td>-0.404001</td><td>-0.121985</td><td>-0.00725632</td><td>-0.112179</td><td>-0.163758</td><td>-0.203765</td><td>0.764464</td><td>-0.225927</td></tr><tr><th>5</th><td>-0.404001</td><td>-0.121985</td><td>-0.00725632</td><td>0.887821</td><td>-0.163758</td><td>-0.203765</td><td>-0.235536</td><td>-0.225927</td></tr><tr><th>6</th><td>0.595999</td><td>-0.121985</td><td>-0.00725632</td><td>-0.112179</td><td>-0.163758</td><td>-0.203765</td><td>-0.235536</td><td>-0.225927</td></tr><tr><th>7</th><td>0.595999</td><td>-0.121985</td><td>-0.00725632</td><td>0.887821</td><td>-0.163758</td><td>-0.203765</td><td>-0.235536</td><td>-0.225927</td></tr><tr><th>8</th><td>0.595999</td><td>-0.121985</td><td>-0.00725632</td><td>0.887821</td><td>-0.163758</td><td>-0.203765</td><td>-0.235536</td><td>-0.225927</td></tr><tr><th>9</th><td>0.595999</td><td>-0.121985</td><td>-0.00725632</td><td>-0.112179</td><td>-0.163758</td><td>0.796235</td><td>-0.235536</td><td>-0.225927</td></tr><tr><th>10</th><td>0.595999</td><td>-0.121985</td><td>-0.00725632</td><td>-0.112179</td><td>-0.163758</td><td>-0.203765</td><td>0.764464</td><td>-0.225927</td></tr><tr><th>11</th><td>0.595999</td><td>-0.121985</td><td>-0.00725632</td><td>-0.112179</td><td>0.836242</td><td>-0.203765</td><td>-0.235536</td><td>0.774073</td></tr><tr><th>12</th><td>0.595999</td><td>-0.121985</td><td>-0.00725632</td><td>-0.112179</td><td>0.836242</td><td>0.796235</td><td>-0.235536</td><td>-0.225927</td></tr><tr><th>13</th><td>0.595999</td><td>-0.121985</td><td>-0.00725632</td><td>-0.112179</td><td>-0.163758</td><td>-0.203765</td><td>-0.235536</td><td>-0.225927</td></tr><tr><th>14</th><td>0.595999</td><td>-0.121985</td><td>-0.00725632</td><td>-0.112179</td><td>0.836242</td><td>0.796235</td><td>-0.235536</td><td>-0.225927</td></tr><tr><th>15</th><td>0.595999</td><td>-0.121985</td><td>-0.00725632</td><td>-0.112179</td><td>-0.163758</td><td>-0.203765</td><td>0.764464</td><td>-0.225927</td></tr><tr><th>16</th><td>-0.404001</td><td>-0.121985</td><td>-0.00725632</td><td>-0.112179</td><td>-0.163758</td><td>-0.203765</td><td>-0.235536</td><td>-0.225927</td></tr><tr><th>17</th><td>-0.404001</td><td>-0.121985</td><td>-0.00725632</td><td>-0.112179</td><td>0.836242</td><td>0.796235</td><td>-0.235536</td><td>-0.225927</td></tr><tr><th>18</th><td>-0.404001</td><td>-0.121985</td><td>-0.00725632</td><td>-0.112179</td><td>-0.163758</td><td>-0.203765</td><td>0.764464</td><td>-0.225927</td></tr><tr><th>19</th><td>-0.404001</td><td>-0.121985</td><td>-0.00725632</td><td>-0.112179</td><td>-0.163758</td><td>-0.203765</td><td>-0.235536</td><td>-0.225927</td></tr><tr><th>20</th><td>-0.404001</td><td>0.878015</td><td>-0.00725632</td><td>-0.112179</td><td>-0.163758</td><td>-0.203765</td><td>-0.235536</td><td>0.774073</td></tr><tr><th>21</th><td>-0.404001</td><td>-0.121985</td><td>-0.00725632</td><td>0.887821</td><td>-0.163758</td><td>-0.203765</td><td>0.764464</td><td>-0.225927</td></tr><tr><th>22</th><td>0.595999</td><td>-0.121985</td><td>-0.00725632</td><td>-0.112179</td><td>0.836242</td><td>-0.203765</td><td>0.764464</td><td>-0.225927</td></tr><tr><th>23</th><td>-0.404001</td><td>-0.121985</td><td>-0.00725632</td><td>-0.112179</td><td>-0.163758</td><td>-0.203765</td><td>-0.235536</td><td>-0.225927</td></tr><tr><th>24</th><td>-0.404001</td><td>-0.121985</td><td>-0.00725632</td><td>-0.112179</td><td>0.836242</td><td>0.796235</td><td>-0.235536</td><td>-0.225927</td></tr><tr><th>25</th><td>-0.404001</td><td>-0.121985</td><td>-0.00725632</td><td>-0.112179</td><td>-0.163758</td><td>-0.203765</td><td>-0.235536</td><td>-0.225927</td></tr><tr><th>26</th><td>-0.404001</td><td>-0.121985</td><td>-0.00725632</td><td>-0.112179</td><td>-0.163758</td><td>-0.203765</td><td>-0.235536</td><td>-0.225927</td></tr><tr><th>27</th><td>-0.404001</td><td>-0.121985</td><td>-0.00725632</td><td>-0.112179</td><td>0.836242</td><td>0.796235</td><td>-0.235536</td><td>-0.225927</td></tr><tr><th>28</th><td>-0.404001</td><td>-0.121985</td><td>-0.00725632</td><td>-0.112179</td><td>-0.163758</td><td>-0.203765</td><td>-0.235536</td><td>-0.225927</td></tr><tr><th>29</th><td>-0.404001</td><td>-0.121985</td><td>-0.00725632</td><td>-0.112179</td><td>-0.163758</td><td>-0.203765</td><td>-0.235536</td><td>0.774073</td></tr><tr><th>30</th><td>-0.404001</td><td>-0.121985</td><td>-0.00725632</td><td>-0.112179</td><td>0.836242</td><td>-0.203765</td><td>-0.235536</td><td>0.774073</td></tr><tr><th>&vellip;</th><td>&vellip;</td><td>&vellip;</td><td>&vellip;</td><td>&vellip;</td><td>&vellip;</td><td>&vellip;</td><td>&vellip;</td><td>&vellip;</td></tr></tbody></table></div>"
      ],
      "text/latex": [
       "\\begin{tabular}{r|ccccccccc}\n",
       "\t& x1 & x2 & x3 & x4 & x5 & x6 & x7 & x8 & \\\\\n",
       "\t\\hline\n",
       "\t& Float64 & Float64 & Float64 & Float64 & Float64 & Float64 & Float64 & Float64 & \\\\\n",
       "\t\\hline\n",
       "\t1 & -0.404001 & -0.121985 & -0.00725632 & -0.112179 & 0.836242 & -0.203765 & -0.235536 & -0.225927 & $\\dots$ \\\\\n",
       "\t2 & -0.404001 & -0.121985 & -0.00725632 & -0.112179 & -0.163758 & -0.203765 & -0.235536 & -0.225927 & $\\dots$ \\\\\n",
       "\t3 & -0.404001 & -0.121985 & -0.00725632 & -0.112179 & -0.163758 & -0.203765 & -0.235536 & 0.774073 & $\\dots$ \\\\\n",
       "\t4 & -0.404001 & -0.121985 & -0.00725632 & -0.112179 & -0.163758 & -0.203765 & 0.764464 & -0.225927 & $\\dots$ \\\\\n",
       "\t5 & -0.404001 & -0.121985 & -0.00725632 & 0.887821 & -0.163758 & -0.203765 & -0.235536 & -0.225927 & $\\dots$ \\\\\n",
       "\t6 & 0.595999 & -0.121985 & -0.00725632 & -0.112179 & -0.163758 & -0.203765 & -0.235536 & -0.225927 & $\\dots$ \\\\\n",
       "\t7 & 0.595999 & -0.121985 & -0.00725632 & 0.887821 & -0.163758 & -0.203765 & -0.235536 & -0.225927 & $\\dots$ \\\\\n",
       "\t8 & 0.595999 & -0.121985 & -0.00725632 & 0.887821 & -0.163758 & -0.203765 & -0.235536 & -0.225927 & $\\dots$ \\\\\n",
       "\t9 & 0.595999 & -0.121985 & -0.00725632 & -0.112179 & -0.163758 & 0.796235 & -0.235536 & -0.225927 & $\\dots$ \\\\\n",
       "\t10 & 0.595999 & -0.121985 & -0.00725632 & -0.112179 & -0.163758 & -0.203765 & 0.764464 & -0.225927 & $\\dots$ \\\\\n",
       "\t11 & 0.595999 & -0.121985 & -0.00725632 & -0.112179 & 0.836242 & -0.203765 & -0.235536 & 0.774073 & $\\dots$ \\\\\n",
       "\t12 & 0.595999 & -0.121985 & -0.00725632 & -0.112179 & 0.836242 & 0.796235 & -0.235536 & -0.225927 & $\\dots$ \\\\\n",
       "\t13 & 0.595999 & -0.121985 & -0.00725632 & -0.112179 & -0.163758 & -0.203765 & -0.235536 & -0.225927 & $\\dots$ \\\\\n",
       "\t14 & 0.595999 & -0.121985 & -0.00725632 & -0.112179 & 0.836242 & 0.796235 & -0.235536 & -0.225927 & $\\dots$ \\\\\n",
       "\t15 & 0.595999 & -0.121985 & -0.00725632 & -0.112179 & -0.163758 & -0.203765 & 0.764464 & -0.225927 & $\\dots$ \\\\\n",
       "\t16 & -0.404001 & -0.121985 & -0.00725632 & -0.112179 & -0.163758 & -0.203765 & -0.235536 & -0.225927 & $\\dots$ \\\\\n",
       "\t17 & -0.404001 & -0.121985 & -0.00725632 & -0.112179 & 0.836242 & 0.796235 & -0.235536 & -0.225927 & $\\dots$ \\\\\n",
       "\t18 & -0.404001 & -0.121985 & -0.00725632 & -0.112179 & -0.163758 & -0.203765 & 0.764464 & -0.225927 & $\\dots$ \\\\\n",
       "\t19 & -0.404001 & -0.121985 & -0.00725632 & -0.112179 & -0.163758 & -0.203765 & -0.235536 & -0.225927 & $\\dots$ \\\\\n",
       "\t20 & -0.404001 & 0.878015 & -0.00725632 & -0.112179 & -0.163758 & -0.203765 & -0.235536 & 0.774073 & $\\dots$ \\\\\n",
       "\t21 & -0.404001 & -0.121985 & -0.00725632 & 0.887821 & -0.163758 & -0.203765 & 0.764464 & -0.225927 & $\\dots$ \\\\\n",
       "\t22 & 0.595999 & -0.121985 & -0.00725632 & -0.112179 & 0.836242 & -0.203765 & 0.764464 & -0.225927 & $\\dots$ \\\\\n",
       "\t23 & -0.404001 & -0.121985 & -0.00725632 & -0.112179 & -0.163758 & -0.203765 & -0.235536 & -0.225927 & $\\dots$ \\\\\n",
       "\t24 & -0.404001 & -0.121985 & -0.00725632 & -0.112179 & 0.836242 & 0.796235 & -0.235536 & -0.225927 & $\\dots$ \\\\\n",
       "\t25 & -0.404001 & -0.121985 & -0.00725632 & -0.112179 & -0.163758 & -0.203765 & -0.235536 & -0.225927 & $\\dots$ \\\\\n",
       "\t26 & -0.404001 & -0.121985 & -0.00725632 & -0.112179 & -0.163758 & -0.203765 & -0.235536 & -0.225927 & $\\dots$ \\\\\n",
       "\t27 & -0.404001 & -0.121985 & -0.00725632 & -0.112179 & 0.836242 & 0.796235 & -0.235536 & -0.225927 & $\\dots$ \\\\\n",
       "\t28 & -0.404001 & -0.121985 & -0.00725632 & -0.112179 & -0.163758 & -0.203765 & -0.235536 & -0.225927 & $\\dots$ \\\\\n",
       "\t29 & -0.404001 & -0.121985 & -0.00725632 & -0.112179 & -0.163758 & -0.203765 & -0.235536 & 0.774073 & $\\dots$ \\\\\n",
       "\t30 & -0.404001 & -0.121985 & -0.00725632 & -0.112179 & 0.836242 & -0.203765 & -0.235536 & 0.774073 & $\\dots$ \\\\\n",
       "\t$\\dots$ & $\\dots$ & $\\dots$ & $\\dots$ & $\\dots$ & $\\dots$ & $\\dots$ & $\\dots$ & $\\dots$ &  \\\\\n",
       "\\end{tabular}\n"
      ],
      "text/plain": [
       "\u001b[1m5099×119 DataFrame\u001b[0m\n",
       "\u001b[1m  Row \u001b[0m│\u001b[1m x1        \u001b[0m\u001b[1m x2        \u001b[0m\u001b[1m x3          \u001b[0m\u001b[1m x4        \u001b[0m\u001b[1m x5        \u001b[0m\u001b[1m x6        \u001b[0m\u001b[1m x7\u001b[0m ⋯\n",
       "\u001b[1m      \u001b[0m│\u001b[90m Float64   \u001b[0m\u001b[90m Float64   \u001b[0m\u001b[90m Float64     \u001b[0m\u001b[90m Float64   \u001b[0m\u001b[90m Float64   \u001b[0m\u001b[90m Float64   \u001b[0m\u001b[90m Fl\u001b[0m ⋯\n",
       "──────┼─────────────────────────────────────────────────────────────────────────\n",
       "    1 │ -0.404001  -0.121985  -0.00725632  -0.112179   0.836242  -0.203765  -0 ⋯\n",
       "    2 │ -0.404001  -0.121985  -0.00725632  -0.112179  -0.163758  -0.203765  -0\n",
       "    3 │ -0.404001  -0.121985  -0.00725632  -0.112179  -0.163758  -0.203765  -0\n",
       "    4 │ -0.404001  -0.121985  -0.00725632  -0.112179  -0.163758  -0.203765   0\n",
       "    5 │ -0.404001  -0.121985  -0.00725632   0.887821  -0.163758  -0.203765  -0 ⋯\n",
       "    6 │  0.595999  -0.121985  -0.00725632  -0.112179  -0.163758  -0.203765  -0\n",
       "    7 │  0.595999  -0.121985  -0.00725632   0.887821  -0.163758  -0.203765  -0\n",
       "    8 │  0.595999  -0.121985  -0.00725632   0.887821  -0.163758  -0.203765  -0\n",
       "    9 │  0.595999  -0.121985  -0.00725632  -0.112179  -0.163758   0.796235  -0 ⋯\n",
       "   10 │  0.595999  -0.121985  -0.00725632  -0.112179  -0.163758  -0.203765   0\n",
       "   11 │  0.595999  -0.121985  -0.00725632  -0.112179   0.836242  -0.203765  -0\n",
       "  ⋮   │     ⋮          ⋮           ⋮           ⋮          ⋮          ⋮         ⋱\n",
       " 5090 │ -0.404001  -0.121985   0.992744    -0.112179  -0.163758  -0.203765   0\n",
       " 5091 │  0.595999  -0.121985   0.992744    -0.112179  -0.163758  -0.203765  -0 ⋯\n",
       " 5092 │ -0.404001   0.878015  -0.00725632  -0.112179  -0.163758  -0.203765  -0\n",
       " 5093 │  0.595999   0.878015  -0.00725632  -0.112179  -0.163758  -0.203765  -0\n",
       " 5094 │  0.595999  -0.121985   0.992744    -0.112179   0.836242  -0.203765  -0\n",
       " 5095 │ -0.404001  -0.121985  -0.00725632  -0.112179  -0.163758  -0.203765   0 ⋯\n",
       " 5096 │ -0.404001  -0.121985  -0.00725632  -0.112179   0.836242   0.796235  -0\n",
       " 5097 │ -0.404001  -0.121985  -0.00725632  -0.112179   0.836242   0.796235  -0\n",
       " 5098 │ -0.404001  -0.121985  -0.00725632  -0.112179  -0.163758  -0.203765  -0\n",
       " 5099 │ -0.404001  -0.121985  -0.00725632  -0.112179  -0.163758  -0.203765  -0 ⋯\n",
       "\u001b[36m                                               113 columns and 5078 rows omitted\u001b[0m"
      ]
     },
     "execution_count": 493,
     "metadata": {},
     "output_type": "execute_result"
    }
   ],
   "source": [
    "\n",
    "function desv_mean(a)\n",
    "    A = mean(a, dims = 1)\n",
    "    M = zeros(Float64, size(X,1), size(X,2))\n",
    "    for i in 1:size(a,2)\n",
    "          M[:,i] = a[:,i] .- A[i]\n",
    "    end\n",
    "    return M\n",
    "end    \n",
    "\n",
    "X = StatsModels.modelmatrix(reg1.rhs,penn)\n",
    "X = desv_mean(X)\n",
    "\n",
    "X = DataFrame(X, :auto)"
   ]
  },
  {
   "cell_type": "code",
   "execution_count": 464,
   "metadata": {},
   "outputs": [
    {
     "data": {
      "text/plain": [
       "Symbol(\"[\\\"x1\\\", \\\"x2\\\", \\\"x3\\\", \\\"x4\\\", \\\"x5\\\", \\\"x6\\\", \\\"x7\\\", \\\"x8\\\", \\\"x9\\\", \\\"x10\\\", \\\"x11\\\", \\\"x12\\\", \\\"x13\\\", \\\"x14\\\", \\\"x15\\\", \\\"x16\\\", \\\"x17\\\", \\\"x18\\\", \\\"x19\\\", \\\"x20\\\", \\\"x21\\\", \\\"x22\\\", \\\"x23\\\", \\\"x24\\\", \\\"x25\\\", \\\"x26\\\", \\\"x27\\\", \\\"x28\\\", \\\"x29\\\", \\\"x30\\\", \\\"x31\\\", \\\"x32\\\", \\\"x33\\\", \\\"x34\\\", \\\"x35\\\", \\\"x36\\\", \\\"x37\\\", \\\"x38\\\", \\\"x39\\\", \\\"x40\\\", \\\"x41\\\", \\\"x42\\\", \\\"x43\\\", \\\"x44\\\", \\\"x45\\\", \\\"x46\\\", \\\"x47\\\", \\\"x48\\\", \\\"x49\\\", \\\"x50\\\", \\\"x51\\\", \\\"x52\\\", \\\"x53\\\", \\\"x54\\\", \\\"x55\\\", \\\"x56\\\", \\\"x57\\\", \\\"x58\\\", \\\"x59\\\", \\\"x60\\\", \\\"x61\\\", \\\"x62\\\", \\\"x63\\\", \\\"x64\\\", \\\"x65\\\", \\\"x66\\\", \\\"x67\\\", \\\"x68\\\", \\\"x69\\\", \\\"x70\\\", \\\"x71\\\", \\\"x72\\\", \\\"x73\\\", \\\"x74\\\", \\\"x75\\\", \\\"x76\\\", \\\"x77\\\", \\\"x78\\\", \\\"x79\\\", \\\"x80\\\", \\\"x81\\\", \\\"x82\\\", \\\"x83\\\", \\\"x84\\\", \\\"x85\\\", \\\"x86\\\", \\\"x87\\\", \\\"x88\\\", \\\"x89\\\", \\\"x90\\\", \\\"x91\\\", \\\"x92\\\", \\\"x93\\\", \\\"x94\\\", \\\"x95\\\", \\\"x96\\\", \\\"x97\\\", \\\"x98\\\", \\\"x99\\\", \\\"x100\\\", \\\"x101\\\", \\\"x102\\\", \\\"x103\\\", \\\"x104\\\", \\\"x105\\\", \\\"x106\\\", \\\"x107\\\", \\\"x108\\\", \\\"x109\\\", \\\"x110\\\", \\\"x111\\\", \\\"x112\\\", \\\"x113\\\", \\\"x114\\\", \\\"x115\\\", \\\"x116\\\", \\\"x117\\\", \\\"x118\\\", \\\"x119\\\"]\")"
      ]
     },
     "execution_count": 464,
     "metadata": {},
     "output_type": "execute_result"
    }
   ],
   "source": [
    "var = Symbol(var)"
   ]
  },
  {
   "cell_type": "code",
   "execution_count": 498,
   "metadata": {
    "scrolled": true
   },
   "outputs": [
    {
     "ename": "LoadError",
     "evalue": "MethodError: no method matching |(::Float64, ::Float64)\n\u001b[0mClosest candidates are:\n\u001b[0m  |(::Any, ::Any, \u001b[91m::Any\u001b[39m, \u001b[91m::Any...\u001b[39m) at C:\\Users\\Roberto Carlos\\AppData\\Local\\Programs\\Julia-1.7.2\\share\\julia\\base\\operators.jl:655\n\u001b[0m  |(::T1, \u001b[91m::DataValue{T2}\u001b[39m) where {T1<:Number, T2<:Number} at C:\\Users\\Roberto Carlos\\.julia\\packages\\DataValues\\N7oeL\\src\\scalar\\core.jl:213\n\u001b[0m  |(\u001b[91m::DataValue{T1}\u001b[39m, ::T2) where {T1<:Number, T2<:Number} at C:\\Users\\Roberto Carlos\\.julia\\packages\\DataValues\\N7oeL\\src\\scalar\\core.jl:212\n\u001b[0m  ...",
     "output_type": "error",
     "traceback": [
      "MethodError: no method matching |(::Float64, ::Float64)\n\u001b[0mClosest candidates are:\n\u001b[0m  |(::Any, ::Any, \u001b[91m::Any\u001b[39m, \u001b[91m::Any...\u001b[39m) at C:\\Users\\Roberto Carlos\\AppData\\Local\\Programs\\Julia-1.7.2\\share\\julia\\base\\operators.jl:655\n\u001b[0m  |(::T1, \u001b[91m::DataValue{T2}\u001b[39m) where {T1<:Number, T2<:Number} at C:\\Users\\Roberto Carlos\\.julia\\packages\\DataValues\\N7oeL\\src\\scalar\\core.jl:213\n\u001b[0m  |(\u001b[91m::DataValue{T1}\u001b[39m, ::T2) where {T1<:Number, T2<:Number} at C:\\Users\\Roberto Carlos\\.julia\\packages\\DataValues\\N7oeL\\src\\scalar\\core.jl:212\n\u001b[0m  ...",
      "",
      "Stacktrace:",
      "  [1] (::var\"#500#503\")(x1::Float64, x119::Float64)",
      "    @ Main .\\none:0",
      "  [2] _broadcast_getindex_evalf",
      "    @ .\\broadcast.jl:670 [inlined]",
      "  [3] _broadcast_getindex",
      "    @ .\\broadcast.jl:643 [inlined]",
      "  [4] getindex",
      "    @ .\\broadcast.jl:597 [inlined]",
      "  [5] copy",
      "    @ .\\broadcast.jl:899 [inlined]",
      "  [6] materialize",
      "    @ .\\broadcast.jl:860 [inlined]",
      "  [7] modelcols(ft::FunctionTerm{typeof(|), var\"#500#503\", (:x1, :x119)}, d::NamedTuple{(:inuidur1, :T4, :x1, :x119), NTuple{4, Vector{Float64}}})",
      "    @ StatsModels C:\\Users\\Roberto Carlos\\.julia\\packages\\StatsModels\\57Kc9\\src\\terms.jl:491",
      "  [8] (::StatsModels.var\"#38#39\"{NamedTuple{(:inuidur1, :T4, :x1, :x119), NTuple{4, Vector{Float64}}}})(tt::FunctionTerm{typeof(|), var\"#500#503\", (:x1, :x119)})",
      "    @ StatsModels .\\none:0",
      "  [9] iterate",
      "    @ .\\generator.jl:47 [inlined]",
      " [10] collect_to!(dest::Vector{Vector{Float64}}, itr::Base.Generator{Tuple{InterceptTerm{true}, ContinuousTerm{Float64}, FunctionTerm{typeof(|), var\"#500#503\", (:x1, :x119)}, InteractionTerm{Tuple{ContinuousTerm{Float64}, FunctionTerm{typeof(|), var\"#501#504\", (:x1, :x119)}}}}, StatsModels.var\"#38#39\"{NamedTuple{(:inuidur1, :T4, :x1, :x119), NTuple{4, Vector{Float64}}}}}, offs::Int64, st::Int64)",
      "    @ Base .\\array.jl:782",
      " [11] collect_to_with_first!",
      "    @ .\\array.jl:760 [inlined]",
      " [12] collect(itr::Base.Generator{Tuple{InterceptTerm{true}, ContinuousTerm{Float64}, FunctionTerm{typeof(|), var\"#500#503\", (:x1, :x119)}, InteractionTerm{Tuple{ContinuousTerm{Float64}, FunctionTerm{typeof(|), var\"#501#504\", (:x1, :x119)}}}}, StatsModels.var\"#38#39\"{NamedTuple{(:inuidur1, :T4, :x1, :x119), NTuple{4, Vector{Float64}}}}})",
      "    @ Base .\\array.jl:734",
      " [13] modelcols(t::MatrixTerm{Tuple{InterceptTerm{true}, ContinuousTerm{Float64}, FunctionTerm{typeof(|), var\"#500#503\", (:x1, :x119)}, InteractionTerm{Tuple{ContinuousTerm{Float64}, FunctionTerm{typeof(|), var\"#501#504\", (:x1, :x119)}}}}}, d::NamedTuple{(:inuidur1, :T4, :x1, :x119), NTuple{4, Vector{Float64}}})",
      "    @ StatsModels C:\\Users\\Roberto Carlos\\.julia\\packages\\StatsModels\\57Kc9\\src\\terms.jl:541",
      " [14] modelmatrix(mf::ModelFrame{NamedTuple{(:inuidur1, :T4, :x1, :x119), NTuple{4, Vector{Float64}}}, LinearModel}; data::NamedTuple{(:inuidur1, :T4, :x1, :x119), NTuple{4, Vector{Float64}}})",
      "    @ StatsModels C:\\Users\\Roberto Carlos\\.julia\\packages\\StatsModels\\57Kc9\\src\\modelframe.jl:152",
      " [15] modelmatrix",
      "    @ C:\\Users\\Roberto Carlos\\.julia\\packages\\StatsModels\\57Kc9\\src\\modelframe.jl:152 [inlined]",
      " [16] ModelMatrix{Matrix{Float64}}(mf::ModelFrame{NamedTuple{(:inuidur1, :T4, :x1, :x119), NTuple{4, Vector{Float64}}}, LinearModel})",
      "    @ StatsModels C:\\Users\\Roberto Carlos\\.julia\\packages\\StatsModels\\57Kc9\\src\\modelframe.jl:223",
      " [17] ModelMatrix(mf::ModelFrame{NamedTuple{(:inuidur1, :T4, :x1, :x119), NTuple{4, Vector{Float64}}}, LinearModel})",
      "    @ StatsModels C:\\Users\\Roberto Carlos\\.julia\\packages\\StatsModels\\57Kc9\\src\\modelframe.jl:227",
      " [18] fit(::Type{LinearModel}, f::FormulaTerm{FunctionTerm{typeof(log), var\"#499#502\", (:inuidur1,)}, Tuple{Term, FunctionTerm{typeof(|), var\"#500#503\", (:x1, :x119)}, InteractionTerm{Tuple{Term, FunctionTerm{typeof(|), var\"#501#504\", (:x1, :x119)}}}}}, data::DataFrame, args::Nothing; contrasts::Dict{Symbol, Any}, kwargs::Base.Pairs{Symbol, Union{}, Tuple{}, NamedTuple{(), Tuple{}}})",
      "    @ StatsModels C:\\Users\\Roberto Carlos\\.julia\\packages\\StatsModels\\57Kc9\\src\\statsmodel.jl:86",
      " [19] fit",
      "    @ C:\\Users\\Roberto Carlos\\.julia\\packages\\StatsModels\\57Kc9\\src\\statsmodel.jl:82 [inlined]",
      " [20] #lm#5",
      "    @ C:\\Users\\Roberto Carlos\\.julia\\packages\\GLM\\gt3bb\\src\\lm.jl:184 [inlined]",
      " [21] lm (repeats 2 times)",
      "    @ C:\\Users\\Roberto Carlos\\.julia\\packages\\GLM\\gt3bb\\src\\lm.jl:184 [inlined]",
      " [22] top-level scope",
      "    @ In[498]:7",
      " [23] eval",
      "    @ .\\boot.jl:373 [inlined]",
      " [24] include_string(mapexpr::typeof(REPL.softscope), mod::Module, code::String, filename::String)",
      "    @ Base .\\loading.jl:1196"
     ]
    }
   ],
   "source": [
    "Y = select(penn, [:inuidur1,:T4])\n",
    "\n",
    "base = hcat(Y, X)\n",
    "var = names(base[:,3:121])\n",
    "\n",
    "#interactive regression model\n",
    "\n",
    "reg3 = @formula(log(inuidur1) ~ T4*(x1+x2+x4+x5+x6+x7+x8+x9+x10+x119))\n",
    "ols_ira = lm(reg3, base)"
   ]
  },
  {
   "cell_type": "code",
   "execution_count": 484,
   "metadata": {
    "scrolled": false
   },
   "outputs": [
    {
     "data": {
      "text/plain": [
       "-0.06693920714769246"
      ]
     },
     "execution_count": 484,
     "metadata": {},
     "output_type": "execute_result"
    }
   ],
   "source": [
    "#Lasso Regression HDM library from R\n",
    "\n",
    "X = StatsModels.modelmatrix(reg2.rhs,penn)\n",
    "X = desv_mean(X)\n",
    "X = DataFrame(X, :auto)\n",
    "\n",
    "Y = select(penn, [:inuidur1])\n",
    "\n",
    "base = hcat(Y, X)\n",
    "rename!(base, Dict(:x1 => :T4))\n",
    "\n",
    "# Se debe incluir 119 varaibles, pero no he podido encontrar un shortcase\n",
    "\n",
    "lasso = fit(LassoModel, @formula(log(inuidur1) ~ T4*(x2+x4+x5+x6+x7+x8+x9+x10+x119)), base)\n",
    "coef(lasso)[2]"
   ]
  },
  {
   "cell_type": "code",
   "execution_count": 485,
   "metadata": {},
   "outputs": [
    {
     "data": {
      "text/plain": [
       "Table with 5 columns and 2 rows:\n",
       "     outcome         CL          CRA         IRA         IRA_w_Lasso\n",
       "   ┌────────────────────────────────────────────────────────────────\n",
       " 1 │ Estimate        -0.0854554  -0.0796801  -0.0807984  -0.0669392\n",
       " 2 │ Standard error  0.0358387   0.0356467   0.0357938   0.0"
      ]
     },
     "execution_count": 485,
     "metadata": {},
     "output_type": "execute_result"
    }
   ],
   "source": [
    "# Comparative ATE estimation\n",
    "\n",
    "t = Table(outcome = [\"Estimate\", \"Standard error\"], \n",
    "    CL = [GLM.coeftable(ols_cl).cols[1][2],GLM.coeftable(ols_cl).cols[2][2]], \n",
    "    CRA = [GLM.coeftable(ols_cra).cols[1][2],GLM.coeftable(ols_cra).cols[2][2]], \n",
    "    IRA = [GLM.coeftable(ols_ira).cols[1][2],GLM.coeftable(ols_ira).cols[2][2]], \n",
    "    IRA_w_Lasso = [coef(lasso)[2],0])\n",
    "\n",
    "#ols_cl\n",
    "#GLM.coeftable(ols_cl).cols[1][2]\n",
    "#[2]"
   ]
  }
 ],
 "metadata": {
  "kernelspec": {
   "display_name": "Julia 1.7.2",
   "language": "julia",
   "name": "julia-1.7"
  },
  "language_info": {
   "file_extension": ".jl",
   "mimetype": "application/julia",
   "name": "julia",
   "version": "1.7.2"
  }
 },
 "nbformat": 4,
 "nbformat_minor": 4
}
