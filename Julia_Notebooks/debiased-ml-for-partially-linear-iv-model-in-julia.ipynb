{
 "cells": [
  {
   "cell_type": "markdown",
   "id": "d9aea813",
   "metadata": {},
   "source": [
    "# Double/Debiased ML for Partially Linear IV Model\n",
    "\n",
    "References: \n",
    "\n",
    "https://arxiv.org/abs/1608.00060\n",
    "\n",
    "\n",
    "https://www.amazon.com/Business-Data-Science-Combining-Accelerate/dp/1260452778\n",
    "\n",
    "The code is based on the book.\n"
   ]
  },
  {
   "cell_type": "markdown",
   "id": "13f3046c",
   "metadata": {},
   "source": [
    "\n",
    "# Partially Linear IV Model\n",
    "\n",
    "We consider the partially linear structural equation model:\n",
    "\\begin{eqnarray}\n",
    " &  Y - D\\theta_0 = g_0(X) + \\zeta,  & E[\\zeta \\mid Z,X]= 0,\\\\\n",
    "  & Z = m_0(X) +  V,   &  E[V \\mid X] = 0. \n",
    "\\end{eqnarray}\n",
    "\n",
    "\n",
    "Note that this model is not a regression model unless $Z=D$.  The model  is a canonical\n",
    "model in causal inference, going back to P. Wright's work on IV methods for estimaing demand/supply equations, with the modern difference being that $g_0$ and $m_0$ are nonlinear, potentially complicated functions of high-dimensional $X$.  \n",
    "\n",
    "\n",
    "The idea of this model is that there is a structural or causal relation between $Y$ and $D$, captured by $\\theta_0$, and $g_0(X) + \\zeta$ is the stochastic error, partly explained by covariates $X$.  $V$ and $\\zeta$ are stochastic errors that are not explained by $X$. Since $Y$ and $D$ are jointly determined, we need an external factor, commonly referred to as an instrument, $Z$ to create exogenous variation\n",
    "in $D$.   Note that $Z$ should affect $D$.  The $X$ here serve again as confounding factors, so we can think of variation in $Z$ as being exogenous only conditional on $X$. \n",
    "\n",
    "\n",
    "The causal DAG this model corresponds to is given by:\n",
    "$$\n",
    "Z \\to D,  X \\to (Y, Z, D),  L \\to (Y,D),\n",
    "$$\n",
    "where $L$ is the latent confounder affecting both $Y$ and $D$, but not $Z$.\n",
    "\n",
    "\n",
    "\n",
    "---\n",
    "\n",
    "# Example\n",
    "\n",
    "A simple contextual example is from biostatistics, where $Y$ is a health outcome and $D$ is indicator of smoking.  Thus, $\\theta_0$ is captures the effect of smoking on health.  Health outcome $Y$ and smoking behavior $D$ are treated as being jointly determined.  $X$ represents patient characteristics, and $Z$ could be a doctor's advice not to smoke (or another behavioral treatment) that may affect the outcome $Y$ only through shifting the behavior $D$, conditional on characteristics $X$.   \n",
    "\n",
    "----\n",
    "\n",
    "\n",
    "\n",
    "# PLIVM in Residualized Form\n",
    "\n",
    "The PLIV model above can be rewritten in the following residualized form:\n",
    "$$\n",
    "  \\tilde Y = \\tilde D \\theta_0 + \\zeta,   \\quad  E[\\zeta \\mid V,X]= 0,\n",
    "$$\n",
    "where\n",
    "$$\n",
    " \\tilde Y = (Y- \\ell_0(X)),  \\quad \\ell_0(X) = E[Y \\mid X] \\\\\n",
    "   \\tilde D = (D - r_0(X)), \\quad r_0(X) = E[D \\mid X] \\\\\n",
    "   \\tilde Z = (Z- m_0(X)), \\quad m_0(X) = E[Z \\mid X].\n",
    "$$\n",
    "   The tilded variables above represent original variables after taking out or \"partialling out\"\n",
    "  the effect of $X$.  Note that $\\theta_0$ is identified from this equation if $V$ \n",
    "  and $U$ have non-zero correlation, which automatically means that $U$ and $V$\n",
    "  must have non-zero variation.\n",
    "\n",
    "  \n",
    "\n",
    "-----\n",
    "\n",
    "# DML for PLIV Model\n",
    "\n",
    "Given identification, DML  proceeds as follows\n",
    "\n",
    "Compute the estimates $\\hat \\ell_0$, $\\hat r_0$, and $\\hat m_0$ , which amounts\n",
    "to solving the three problems of predicting $Y$, $D$, and $Z$ using\n",
    "$X$, using any generic  ML method, giving us estimated residuals \n",
    "$$\n",
    "\\tilde Y = Y - \\hat \\ell_0(X), \\\\ \\tilde D= D - \\hat r_0(X), \\\\ \\tilde Z = Z- \\hat m_0(X).\n",
    "$$ \n",
    "The estimates should be of a cross-validated form, as detailed in the algorithm below. \n",
    "\n",
    "Estimate $\\theta_0$ by the the intstrumental\n",
    "variable regression of $\\tilde Y$ on $\\tilde D$ using $\\tilde Z$ as an instrument.\n",
    "Use the conventional inference for the IV regression estimator, ignoring\n",
    "the estimation error in these residuals. \n",
    "\n",
    "The reason we work with this residualized form is that it eliminates the bias\n",
    "arising when solving the prediction problem in stage 1. The role of cross-validation\n",
    "is to avoid another source of bias due to potential overfitting.\n",
    "\n",
    "The estimator is adaptive,\n",
    "in the sense that the first stage estimation errors do not affect the second \n",
    "stage errors."
   ]
  },
  {
   "cell_type": "code",
   "execution_count": 1,
   "id": "0628a078",
   "metadata": {},
   "outputs": [
    {
     "name": "stderr",
     "output_type": "stream",
     "text": [
      "\u001b[32m\u001b[1m    Updating\u001b[22m\u001b[39m registry at `C:\\Users\\User\\.julia\\registries\\General`\n",
      "\u001b[32m\u001b[1m    Updating\u001b[22m\u001b[39m git-repo `https://github.com/JuliaRegistries/General.git`\n",
      "\u001b[32m\u001b[1m   Resolving\u001b[22m\u001b[39m package versions...\n",
      "\u001b[32m\u001b[1m  No Changes\u001b[22m\u001b[39m to `C:\\Users\\User\\.julia\\environments\\v1.6\\Project.toml`\n",
      "\u001b[32m\u001b[1m  No Changes\u001b[22m\u001b[39m to `C:\\Users\\User\\.julia\\environments\\v1.6\\Manifest.toml`\n",
      "\u001b[32m\u001b[1mPrecompiling\u001b[22m\u001b[39m project...\n",
      "\u001b[32m  ✓ \u001b[39mCovarianceMatrices\n",
      "  1 dependency successfully precompiled in 15 seconds (215 already precompiled)\n",
      "\u001b[32m\u001b[1m   Resolving\u001b[22m\u001b[39m package versions...\n",
      "\u001b[32m\u001b[1m  No Changes\u001b[22m\u001b[39m to `C:\\Users\\User\\.julia\\environments\\v1.6\\Project.toml`\n",
      "\u001b[32m\u001b[1m  No Changes\u001b[22m\u001b[39m to `C:\\Users\\User\\.julia\\environments\\v1.6\\Manifest.toml`\n",
      "\u001b[32m\u001b[1mPrecompiling\u001b[22m\u001b[39m project...\n",
      "\u001b[32m  ✓ \u001b[39mCovarianceMatrices\n",
      "  1 dependency successfully precompiled in 12 seconds (215 already precompiled)\n",
      "\u001b[32m\u001b[1m   Resolving\u001b[22m\u001b[39m package versions...\n",
      "\u001b[32m\u001b[1m  No Changes\u001b[22m\u001b[39m to `C:\\Users\\User\\.julia\\environments\\v1.6\\Project.toml`\n",
      "\u001b[32m\u001b[1m  No Changes\u001b[22m\u001b[39m to `C:\\Users\\User\\.julia\\environments\\v1.6\\Manifest.toml`\n",
      "\u001b[32m\u001b[1mPrecompiling\u001b[22m\u001b[39m project...\n",
      "\u001b[32m  ✓ \u001b[39mCovarianceMatrices\n",
      "  1 dependency successfully precompiled in 13 seconds (215 already precompiled)\n",
      "\u001b[32m\u001b[1m   Resolving\u001b[22m\u001b[39m package versions...\n",
      "\u001b[32m\u001b[1m  No Changes\u001b[22m\u001b[39m to `C:\\Users\\User\\.julia\\environments\\v1.6\\Project.toml`\n",
      "\u001b[32m\u001b[1m  No Changes\u001b[22m\u001b[39m to `C:\\Users\\User\\.julia\\environments\\v1.6\\Manifest.toml`\n",
      "\u001b[32m\u001b[1mPrecompiling\u001b[22m\u001b[39m project...\n",
      "\u001b[32m  ✓ \u001b[39mCovarianceMatrices\n",
      "  1 dependency successfully precompiled in 13 seconds (215 already precompiled)\n",
      "\u001b[32m\u001b[1m   Resolving\u001b[22m\u001b[39m package versions...\n",
      "\u001b[32m\u001b[1m  No Changes\u001b[22m\u001b[39m to `C:\\Users\\User\\.julia\\environments\\v1.6\\Project.toml`\n",
      "\u001b[32m\u001b[1m  No Changes\u001b[22m\u001b[39m to `C:\\Users\\User\\.julia\\environments\\v1.6\\Manifest.toml`\n",
      "\u001b[32m\u001b[1mPrecompiling\u001b[22m\u001b[39m project...\n",
      "\u001b[32m  ✓ \u001b[39mCovarianceMatrices\n",
      "  1 dependency successfully precompiled in 10 seconds (215 already precompiled)\n",
      "\u001b[32m\u001b[1m   Resolving\u001b[22m\u001b[39m package versions...\n",
      "\u001b[32m\u001b[1m  No Changes\u001b[22m\u001b[39m to `C:\\Users\\User\\.julia\\environments\\v1.6\\Project.toml`\n",
      "\u001b[32m\u001b[1m  No Changes\u001b[22m\u001b[39m to `C:\\Users\\User\\.julia\\environments\\v1.6\\Manifest.toml`\n",
      "\u001b[32m\u001b[1mPrecompiling\u001b[22m\u001b[39m project...\n",
      "\u001b[32m  ✓ \u001b[39mCovarianceMatrices\n",
      "  1 dependency successfully precompiled in 10 seconds (215 already precompiled)\n",
      "\u001b[32m\u001b[1m   Resolving\u001b[22m\u001b[39m package versions...\n",
      "\u001b[32m\u001b[1m  No Changes\u001b[22m\u001b[39m to `C:\\Users\\User\\.julia\\environments\\v1.6\\Project.toml`\n",
      "\u001b[32m\u001b[1m  No Changes\u001b[22m\u001b[39m to `C:\\Users\\User\\.julia\\environments\\v1.6\\Manifest.toml`\n",
      "\u001b[32m\u001b[1mPrecompiling\u001b[22m\u001b[39m project...\n",
      "\u001b[32m  ✓ \u001b[39mCovarianceMatrices\n",
      "  1 dependency successfully precompiled in 10 seconds (215 already precompiled)\n",
      "\u001b[32m\u001b[1m   Resolving\u001b[22m\u001b[39m package versions...\n",
      "\u001b[32m\u001b[1m  No Changes\u001b[22m\u001b[39m to `C:\\Users\\User\\.julia\\environments\\v1.6\\Project.toml`\n",
      "\u001b[32m\u001b[1m  No Changes\u001b[22m\u001b[39m to `C:\\Users\\User\\.julia\\environments\\v1.6\\Manifest.toml`\n",
      "\u001b[32m\u001b[1mPrecompiling\u001b[22m\u001b[39m project...\n",
      "\u001b[32m  ✓ \u001b[39mCovarianceMatrices\n",
      "  1 dependency successfully precompiled in 10 seconds (215 already precompiled)\n",
      "\u001b[32m\u001b[1m   Resolving\u001b[22m\u001b[39m package versions...\n",
      "\u001b[32m\u001b[1m  No Changes\u001b[22m\u001b[39m to `C:\\Users\\User\\.julia\\environments\\v1.6\\Project.toml`\n",
      "\u001b[32m\u001b[1m  No Changes\u001b[22m\u001b[39m to `C:\\Users\\User\\.julia\\environments\\v1.6\\Manifest.toml`\n",
      "\u001b[32m\u001b[1mPrecompiling\u001b[22m\u001b[39m project...\n",
      "\u001b[32m  ✓ \u001b[39mCovarianceMatrices\n",
      "  1 dependency successfully precompiled in 10 seconds (215 already precompiled)\n",
      "\u001b[32m\u001b[1m   Resolving\u001b[22m\u001b[39m package versions...\n",
      "\u001b[32m\u001b[1m  No Changes\u001b[22m\u001b[39m to `C:\\Users\\User\\.julia\\environments\\v1.6\\Project.toml`\n",
      "\u001b[32m\u001b[1m  No Changes\u001b[22m\u001b[39m to `C:\\Users\\User\\.julia\\environments\\v1.6\\Manifest.toml`\n",
      "\u001b[32m\u001b[1mPrecompiling\u001b[22m\u001b[39m project...\n",
      "\u001b[32m  ✓ \u001b[39mCovarianceMatrices\n",
      "  1 dependency successfully precompiled in 11 seconds (215 already precompiled)\n",
      "\u001b[32m\u001b[1m   Resolving\u001b[22m\u001b[39m package versions...\n",
      "\u001b[32m\u001b[1m  No Changes\u001b[22m\u001b[39m to `C:\\Users\\User\\.julia\\environments\\v1.6\\Project.toml`\n",
      "\u001b[32m\u001b[1m  No Changes\u001b[22m\u001b[39m to `C:\\Users\\User\\.julia\\environments\\v1.6\\Manifest.toml`\n",
      "\u001b[32m\u001b[1mPrecompiling\u001b[22m\u001b[39m project...\n",
      "\u001b[32m  ✓ \u001b[39mCovarianceMatrices\n",
      "  1 dependency successfully precompiled in 9 seconds (215 already precompiled)\n",
      "\u001b[32m\u001b[1m   Resolving\u001b[22m\u001b[39m package versions...\n",
      "\u001b[32m\u001b[1m  No Changes\u001b[22m\u001b[39m to `C:\\Users\\User\\.julia\\environments\\v1.6\\Project.toml`\n",
      "\u001b[32m\u001b[1m  No Changes\u001b[22m\u001b[39m to `C:\\Users\\User\\.julia\\environments\\v1.6\\Manifest.toml`\n",
      "\u001b[32m\u001b[1mPrecompiling\u001b[22m\u001b[39m project...\n",
      "\u001b[32m  ✓ \u001b[39mCovarianceMatrices\n",
      "  1 dependency successfully precompiled in 10 seconds (215 already precompiled)\n",
      "\u001b[32m\u001b[1m   Resolving\u001b[22m\u001b[39m package versions...\n",
      "\u001b[32m\u001b[1m  No Changes\u001b[22m\u001b[39m to `C:\\Users\\User\\.julia\\environments\\v1.6\\Project.toml`\n",
      "\u001b[32m\u001b[1m  No Changes\u001b[22m\u001b[39m to `C:\\Users\\User\\.julia\\environments\\v1.6\\Manifest.toml`\n",
      "\u001b[32m\u001b[1mPrecompiling\u001b[22m\u001b[39m project...\n",
      "\u001b[32m  ✓ \u001b[39mCovarianceMatrices\n",
      "  1 dependency successfully precompiled in 8 seconds (215 already precompiled)\n",
      "\u001b[32m\u001b[1m   Resolving\u001b[22m\u001b[39m package versions...\n",
      "\u001b[32m\u001b[1m  No Changes\u001b[22m\u001b[39m to `C:\\Users\\User\\.julia\\environments\\v1.6\\Project.toml`\n",
      "\u001b[32m\u001b[1m  No Changes\u001b[22m\u001b[39m to `C:\\Users\\User\\.julia\\environments\\v1.6\\Manifest.toml`\n",
      "\u001b[32m\u001b[1mPrecompiling\u001b[22m\u001b[39m project...\n",
      "\u001b[32m  ✓ \u001b[39mCovarianceMatrices\n",
      "  1 dependency successfully precompiled in 11 seconds (215 already precompiled)\n",
      "\u001b[32m\u001b[1m   Resolving\u001b[22m\u001b[39m package versions...\n",
      "\u001b[32m\u001b[1m  No Changes\u001b[22m\u001b[39m to `C:\\Users\\User\\.julia\\environments\\v1.6\\Project.toml`\n",
      "\u001b[32m\u001b[1m  No Changes\u001b[22m\u001b[39m to `C:\\Users\\User\\.julia\\environments\\v1.6\\Manifest.toml`\n",
      "\u001b[32m\u001b[1mPrecompiling\u001b[22m\u001b[39m project...\n",
      "\u001b[32m  ✓ \u001b[39mCovarianceMatrices\n",
      "  1 dependency successfully precompiled in 9 seconds (215 already precompiled)\n",
      "\u001b[32m\u001b[1m   Resolving\u001b[22m\u001b[39m package versions...\n",
      "\u001b[32m\u001b[1m  No Changes\u001b[22m\u001b[39m to `C:\\Users\\User\\.julia\\environments\\v1.6\\Project.toml`\n",
      "\u001b[32m\u001b[1m  No Changes\u001b[22m\u001b[39m to `C:\\Users\\User\\.julia\\environments\\v1.6\\Manifest.toml`\n",
      "\u001b[32m\u001b[1mPrecompiling\u001b[22m\u001b[39m project...\n",
      "\u001b[32m  ✓ \u001b[39mCovarianceMatrices\n",
      "  1 dependency successfully precompiled in 9 seconds (215 already precompiled)\n",
      "\u001b[32m\u001b[1m   Resolving\u001b[22m\u001b[39m package versions...\n",
      "\u001b[32m\u001b[1m  No Changes\u001b[22m\u001b[39m to `C:\\Users\\User\\.julia\\environments\\v1.6\\Project.toml`\n",
      "\u001b[32m\u001b[1m  No Changes\u001b[22m\u001b[39m to `C:\\Users\\User\\.julia\\environments\\v1.6\\Manifest.toml`\n",
      "\u001b[32m\u001b[1mPrecompiling\u001b[22m\u001b[39m project...\n",
      "\u001b[32m  ✓ \u001b[39mCovarianceMatrices\n",
      "  1 dependency successfully precompiled in 9 seconds (215 already precompiled)\n",
      "\u001b[32m\u001b[1m   Resolving\u001b[22m\u001b[39m package versions...\n",
      "\u001b[32m\u001b[1m  No Changes\u001b[22m\u001b[39m to `C:\\Users\\User\\.julia\\environments\\v1.6\\Project.toml`\n",
      "\u001b[32m\u001b[1m  No Changes\u001b[22m\u001b[39m to `C:\\Users\\User\\.julia\\environments\\v1.6\\Manifest.toml`\n",
      "\u001b[32m\u001b[1mPrecompiling\u001b[22m\u001b[39m project...\n",
      "\u001b[32m  ✓ \u001b[39mCovarianceMatrices\n",
      "  1 dependency successfully precompiled in 8 seconds (215 already precompiled)\n",
      "┌ Info: Precompiling CovarianceMatrices [60f91f6f-d783-54cb-84f9-544141854719]\n",
      "└ @ Base loading.jl:1342\n",
      "\u001b[33m\u001b[1m┌ \u001b[22m\u001b[39m\u001b[33m\u001b[1mWarning: \u001b[22m\u001b[39mPackage CovarianceMatrices does not have DataFrames in its dependencies:\n",
      "\u001b[33m\u001b[1m│ \u001b[22m\u001b[39m- If you have CovarianceMatrices checked out for development and have\n",
      "\u001b[33m\u001b[1m│ \u001b[22m\u001b[39m  added DataFrames as a dependency but haven't updated your primary\n",
      "\u001b[33m\u001b[1m│ \u001b[22m\u001b[39m  environment's manifest file, try `Pkg.resolve()`.\n",
      "\u001b[33m\u001b[1m│ \u001b[22m\u001b[39m- Otherwise you may need to report an issue with CovarianceMatrices\n",
      "\u001b[33m\u001b[1m└ \u001b[22m\u001b[39mLoading DataFrames into CovarianceMatrices from project dependency, future warnings for CovarianceMatrices are suppressed.\n",
      "\u001b[32m\u001b[1m   Resolving\u001b[22m\u001b[39m package versions...\n",
      "\u001b[32m\u001b[1m  No Changes\u001b[22m\u001b[39m to `C:\\Users\\User\\.julia\\environments\\v1.6\\Project.toml`\n",
      "\u001b[32m\u001b[1m  No Changes\u001b[22m\u001b[39m to `C:\\Users\\User\\.julia\\environments\\v1.6\\Manifest.toml`\n",
      "\u001b[32m\u001b[1mPrecompiling\u001b[22m\u001b[39m project...\n",
      "\u001b[33m  ✓ \u001b[39mCovarianceMatrices\n",
      "  1 dependency successfully precompiled in 8 seconds (215 already precompiled)\n"
     ]
    },
    {
     "name": "stderr",
     "output_type": "stream",
     "text": [
      "  \u001b[33m1\u001b[39m dependency precompiled but a different version is currently loaded. Restart julia to access the new version\n",
      "\u001b[32m\u001b[1m   Resolving\u001b[22m\u001b[39m package versions...\n",
      "\u001b[32m\u001b[1m  No Changes\u001b[22m\u001b[39m to `C:\\Users\\User\\.julia\\environments\\v1.6\\Project.toml`\n",
      "\u001b[32m\u001b[1m  No Changes\u001b[22m\u001b[39m to `C:\\Users\\User\\.julia\\environments\\v1.6\\Manifest.toml`\n",
      "\u001b[32m\u001b[1mPrecompiling\u001b[22m\u001b[39m project...\n",
      "\u001b[33m  ✓ \u001b[39mCovarianceMatrices\n",
      "  1 dependency successfully precompiled in 8 seconds (215 already precompiled)\n",
      "  \u001b[33m1\u001b[39m dependency precompiled but a different version is currently loaded. Restart julia to access the new version\n"
     ]
    },
    {
     "data": {
      "text/plain": [
       "(nothing, nothing)"
      ]
     },
     "execution_count": 1,
     "metadata": {},
     "output_type": "execute_result"
    }
   ],
   "source": [
    "# Import relevant packages\n",
    "using Pkg\n",
    "Pkg.add(\"CSV\"), using CSV\n",
    "Pkg.add(Pkg.PackageSpec(;name=\"DataFrames\", version=\"1.3.4\")), using DataFrames\n",
    "Pkg.add(\"GLM\"), using GLM\n",
    "Pkg.add(\"Random\"), using Random\n",
    "Pkg.add(\"MLDataUtils\"), using MLDataUtils\n",
    "Pkg.add(\"MLBase\"), using MLBase\n",
    "Pkg.add(\"FixedEffectModels\"), using FixedEffectModels\n",
    "Pkg.add(\"Lasso\"), using Lasso\n",
    "Pkg.add(\"MLJ\"), using MLJ\n",
    "Pkg.add(\"DecisionTree\"), using DecisionTree\n",
    "Pkg.add(\"RData\"), using RData\n",
    "Pkg.add(\"GLMNet\"), using GLMNet\n",
    "Pkg.add(\"PrettyTables\"), using PrettyTables\n",
    "Pkg.add(\"DataConvenience\"), using DataConvenience\n",
    "Pkg.add(\"Econometrics\"), using Econometrics\n",
    "Pkg.add(\"Vcov\"), using Vcov\n",
    "Pkg.add(\"CovarianceMatrices\"), using CovarianceMatrices\n",
    "Pkg.add(\"RegressionTables\"), using RegressionTables\n",
    "Pkg.add(\"StatsFuns\"), using StatsFuns\n",
    "Pkg.add(\"PyPlot\"), using PyPlot\n",
    "Pkg.add(\"Plots\"), using Plots"
   ]
  },
  {
   "cell_type": "code",
   "execution_count": 2,
   "id": "7d066033",
   "metadata": {},
   "outputs": [],
   "source": [
    "using Pkg, CSV, DataFrames, StatsModels, GLM, Random, RData, MLDataUtils, MLBase, FixedEffectModels, Lasso, MLJ, DecisionTree, GLMNet, PrettyTables"
   ]
  },
  {
   "cell_type": "code",
   "execution_count": 437,
   "id": "12864245",
   "metadata": {},
   "outputs": [
    {
     "name": "stdout",
     "output_type": "stream",
     "text": [
      "Number of Rows : 64\n",
      "Number of Columns : 11\n"
     ]
    }
   ],
   "source": [
    "# load data\n",
    "rdata_read = RData.load(\"../data/ajr.RData\")\n",
    "AJR = rdata_read[\"AJR\"]\n",
    "names(AJR)\n",
    "println(\"Number of Rows : \", size(AJR)[1],\"\\n\",\"Number of Columns : \", size(AJR)[2],) #rows and columns"
   ]
  },
  {
   "cell_type": "code",
   "execution_count": 438,
   "id": "3e3d7d96",
   "metadata": {},
   "outputs": [
    {
     "data": {
      "text/html": [
       "<table class=\"data-frame\"><thead><tr><th></th><th>GDP</th><th>Exprop</th><th>Mort</th><th>Latitude</th><th>Neo</th><th>Africa</th><th>Asia</th><th>Namer</th><th>Samer</th><th>logMort</th></tr><tr><th></th><th>Float64</th><th>Float64</th><th>Float64</th><th>Float64</th><th>Int32</th><th>Int32</th><th>Int32</th><th>Int32</th><th>Int32</th><th>Float64</th></tr></thead><tbody><p>5 rows × 11 columns (omitted printing of 1 columns)</p><tr><th>1</th><td>8.39</td><td>6.5</td><td>78.2</td><td>0.3111</td><td>0</td><td>1</td><td>0</td><td>0</td><td>0</td><td>4.35927</td></tr><tr><th>2</th><td>7.77</td><td>5.36</td><td>280.0</td><td>0.1367</td><td>0</td><td>1</td><td>0</td><td>0</td><td>0</td><td>5.63479</td></tr><tr><th>3</th><td>9.13</td><td>6.39</td><td>68.9</td><td>0.3778</td><td>0</td><td>0</td><td>0</td><td>0</td><td>1</td><td>4.23266</td></tr><tr><th>4</th><td>9.9</td><td>9.32</td><td>8.55</td><td>0.3</td><td>1</td><td>0</td><td>0</td><td>0</td><td>0</td><td>2.14593</td></tr><tr><th>5</th><td>9.29</td><td>7.5</td><td>85.0</td><td>0.2683</td><td>0</td><td>0</td><td>0</td><td>1</td><td>0</td><td>4.44265</td></tr></tbody></table>"
      ],
      "text/latex": [
       "\\begin{tabular}{r|ccccccccccc}\n",
       "\t& GDP & Exprop & Mort & Latitude & Neo & Africa & Asia & Namer & Samer & logMort & \\\\\n",
       "\t\\hline\n",
       "\t& Float64 & Float64 & Float64 & Float64 & Int32 & Int32 & Int32 & Int32 & Int32 & Float64 & \\\\\n",
       "\t\\hline\n",
       "\t1 & 8.39 & 6.5 & 78.2 & 0.3111 & 0 & 1 & 0 & 0 & 0 & 4.35927 & $\\dots$ \\\\\n",
       "\t2 & 7.77 & 5.36 & 280.0 & 0.1367 & 0 & 1 & 0 & 0 & 0 & 5.63479 & $\\dots$ \\\\\n",
       "\t3 & 9.13 & 6.39 & 68.9 & 0.3778 & 0 & 0 & 0 & 0 & 1 & 4.23266 & $\\dots$ \\\\\n",
       "\t4 & 9.9 & 9.32 & 8.55 & 0.3 & 1 & 0 & 0 & 0 & 0 & 2.14593 & $\\dots$ \\\\\n",
       "\t5 & 9.29 & 7.5 & 85.0 & 0.2683 & 0 & 0 & 0 & 1 & 0 & 4.44265 & $\\dots$ \\\\\n",
       "\\end{tabular}\n"
      ],
      "text/plain": [
       "5×11 DataFrame. Omitted printing of 4 columns\n",
       "│ Row │ GDP     │ Exprop  │ Mort    │ Latitude │ Neo   │ Africa │ Asia  │\n",
       "│     │ \u001b[90mFloat64\u001b[39m │ \u001b[90mFloat64\u001b[39m │ \u001b[90mFloat64\u001b[39m │ \u001b[90mFloat64\u001b[39m  │ \u001b[90mInt32\u001b[39m │ \u001b[90mInt32\u001b[39m  │ \u001b[90mInt32\u001b[39m │\n",
       "├─────┼─────────┼─────────┼─────────┼──────────┼───────┼────────┼───────┤\n",
       "│ 1   │ 8.39    │ 6.5     │ 78.2    │ 0.3111   │ 0     │ 1      │ 0     │\n",
       "│ 2   │ 7.77    │ 5.36    │ 280.0   │ 0.1367   │ 0     │ 1      │ 0     │\n",
       "│ 3   │ 9.13    │ 6.39    │ 68.9    │ 0.3778   │ 0     │ 0      │ 0     │\n",
       "│ 4   │ 9.9     │ 9.32    │ 8.55    │ 0.3      │ 1     │ 0      │ 0     │\n",
       "│ 5   │ 9.29    │ 7.5     │ 85.0    │ 0.2683   │ 0     │ 0      │ 0     │"
      ]
     },
     "execution_count": 438,
     "metadata": {},
     "output_type": "execute_result"
    }
   ],
   "source": [
    "first(AJR, 5)"
   ]
  },
  {
   "cell_type": "code",
   "execution_count": 439,
   "id": "3aadd884",
   "metadata": {},
   "outputs": [
    {
     "data": {
      "text/plain": [
       "DML2_for_PLIVM (generic function with 1 method)"
      ]
     },
     "execution_count": 439,
     "metadata": {},
     "output_type": "execute_result"
    }
   ],
   "source": [
    "function DML2_for_PLIVM(x , d , z, y, dreg , yreg , zreg, nfold)\n",
    "     # Num ob observations\n",
    "    nobser = size(x,1)\n",
    "    \n",
    "    # Define folds indices \n",
    "    foldid = collect(Kfold(size(x)[1], nfold))\n",
    "    \n",
    "    # Create array to save errors \n",
    "    ytil = ones(nobser)\n",
    "    dtil = ones(nobser)\n",
    "    ztil = ones(nobser);\n",
    "\n",
    "    println(\"Folds: \" )\n",
    "\n",
    "    for i in 1:nfold\n",
    "        \n",
    "        # Lasso regression, excluding folds selected \n",
    "        dfit = dreg(x[foldid[i],:], d[foldid[i]])\n",
    "        zfit = zreg(x[foldid[i],:], z[foldid[i]])\n",
    "        yfit = yreg(x[foldid[i],:], y[foldid[i]])\n",
    "        \n",
    "        # Predict estimates using the \n",
    "        dhat = apply_forest(dfit,x[Not(foldid[i]),:])\n",
    "        zhat = apply_forest(zfit,x[Not(foldid[i]),:])\n",
    "        yhat = apply_forest(yfit,x[Not(foldid[i]),:])\n",
    "\n",
    "        # Save errors \n",
    "        dtil[Not(foldid[i])] = (d[Not(foldid[i])] - dhat)\n",
    "        ztil[Not(foldid[i])] = (z[Not(foldid[i])] - zhat)\n",
    "        ytil[Not(foldid[i])] = (y[Not(foldid[i])] - yhat)\n",
    "        println(i)\n",
    "\n",
    "    end\n",
    "\n",
    "    data = DataFrame(ytil = ytil, dtil = dtil, ztil = ztil)\n",
    "    ivfit = reg(data, @formula(ytil ~  + (dtil ~ ztil)))\n",
    "    # OLS clustering at the County level\n",
    "    coef_est =  ivfit.coef[2]\n",
    "    se = FixedEffectModels.coeftable(ivfit).mat[1,2]\n",
    "    println( \"\\n Coefficient (se) =\", coef_est, \"(\",se,\")\" )\n",
    "    \n",
    "    Final_result = (\"coef_est\" => coef_est , \"se\" => se , \"dtil\" => dtil , \"ytil\" => ytil , \"ztil\" => ztil);\n",
    "       \n",
    "end"
   ]
  },
  {
   "cell_type": "markdown",
   "id": "e9041704",
   "metadata": {},
   "source": [
    "-----\n",
    "\n",
    "# Emprical Example:  Acemoglu, Jonsohn, Robinson (AER).\n",
    "\n",
    "\n",
    "* Y is log GDP;\n",
    "* D is a measure of Protection from Expropriation, a proxy for \n",
    "quality of insitutions;\n",
    "* Z is the log of Settler's mortality;\n",
    "* W are geographical variables (latitude, latitude squared, continent dummies as well as interactions)\n"
   ]
  },
  {
   "cell_type": "code",
   "execution_count": 440,
   "id": "ccb8d970",
   "metadata": {},
   "outputs": [],
   "source": [
    "y = AJR[!,\"GDP\"]\n",
    "d = AJR[!,\"Exprop\"]\n",
    "z = AJR[!,\"logMort\"];"
   ]
  },
  {
   "cell_type": "code",
   "execution_count": 441,
   "id": "df9a3338",
   "metadata": {},
   "outputs": [],
   "source": [
    "Y = DataFrame(GDP = y)\n",
    "D = DataFrame(Exprop = d)\n",
    "Z = DataFrame(logMort = z);"
   ]
  },
  {
   "cell_type": "code",
   "execution_count": 442,
   "id": "2fa15c62",
   "metadata": {},
   "outputs": [
    {
     "data": {
      "text/plain": [
       "(64, 6)"
      ]
     },
     "execution_count": 442,
     "metadata": {},
     "output_type": "execute_result"
    }
   ],
   "source": [
    "xraw_formula = @formula(GDP ~ Latitude+ Africa+Asia + Namer + Samer)\n",
    "xraw_dframe = ModelFrame(xraw_formula, AJR)\n",
    "xraw1  = ModelMatrix(xraw_dframe)\n",
    "xraw = xraw1.m\n",
    "size(xraw)"
   ]
  },
  {
   "cell_type": "code",
   "execution_count": 443,
   "id": "00a11077",
   "metadata": {},
   "outputs": [
    {
     "data": {
      "text/plain": [
       "(64, 21)"
      ]
     },
     "execution_count": 443,
     "metadata": {},
     "output_type": "execute_result"
    }
   ],
   "source": [
    "x_formula = @formula(GDP ~ -1 + Latitude + Latitude2 + Africa + Asia + Namer + Samer\n",
    "    + Latitude*Latitude2 + Latitude*Africa + Latitude*Asia + Latitude*Namer + Latitude*Samer\n",
    "    + Latitude2*Africa + Latitude2*Asia + Latitude2*Namer + Latitude2*Samer\n",
    "    + Africa*Asia + Africa*Namer + Africa*Samer\n",
    "    + Asia*Namer + Asia*Samer\n",
    "    + Namer*Samer)\n",
    "x_dframe = ModelFrame( x_formula, AJR)\n",
    "x1 = ModelMatrix(x_dframe)\n",
    "x = x1.m\n",
    "size(x1)"
   ]
  },
  {
   "cell_type": "code",
   "execution_count": 102,
   "id": "b2fe1c7b",
   "metadata": {},
   "outputs": [],
   "source": [
    "Africa = x_dframe;"
   ]
  },
  {
   "cell_type": "code",
   "execution_count": 445,
   "id": "99e68e5b",
   "metadata": {},
   "outputs": [
    {
     "data": {
      "text/plain": [
       "(64, 6)"
      ]
     },
     "execution_count": 445,
     "metadata": {},
     "output_type": "execute_result"
    }
   ],
   "source": [
    "X = DataFrame(Latitude = x_dframe.data[2], Latitude2 = x_dframe.data[3], Africa = x_dframe.data[4],\n",
    "    Asia = Africa = x_dframe.data[5], Namer = Africa = x_dframe.data[6], Samer = Africa = x_dframe.data[7])\n",
    "size(X)"
   ]
  },
  {
   "cell_type": "markdown",
   "id": "3759ff8a",
   "metadata": {},
   "source": [
    "Information from random Forest [link1](https://stackoverflow.com/questions/35578041/why-do-i-get-different-randomforest-outcomes-between-r-and-python), [link2](https://stackoverflow.com/questions/45612922/random-forest-in-r-and-sklearn)"
   ]
  },
  {
   "cell_type": "code",
   "execution_count": 446,
   "id": "9b0c651a",
   "metadata": {},
   "outputs": [],
   "source": [
    "y_model = DataFrame(y_model = y);"
   ]
  },
  {
   "cell_type": "code",
   "execution_count": 448,
   "id": "cff4c5cb",
   "metadata": {},
   "outputs": [
    {
     "name": "stdout",
     "output_type": "stream",
     "text": [
      "Folds: \n",
      "1\n",
      "2\n",
      "3\n",
      "4\n",
      "5\n",
      "6\n",
      "7\n",
      "8\n",
      "9\n",
      "10\n",
      "11\n",
      "12\n",
      "13\n",
      "14\n",
      "15\n",
      "16\n",
      "17\n",
      "18\n",
      "19\n",
      "20\n",
      "\n",
      " Coefficient (se) =0.7524130698167707(0.23630541190311558)\n"
     ]
    },
    {
     "data": {
      "text/plain": [
       "(\"coef_est\" => 0.7524130698167707, \"se\" => 0.23630541190311558, \"dtil\" => [0.15565634920634874, -0.2791861111111107, -0.9777500000000012, 2.29963852813853, -0.31843055555555644, -2.6909138888888897, -1.139750000000002, 1.1712214285714273, -1.5625142857142862, -0.36003214285714336  …  0.797359523809523, 0.9724035714285719, 1.1681678571428575, -0.18468412698412617, -1.2077369047619042, -0.4859154761904758, 2.753840151515152, 0.2909972222222228, -0.30180833333333457, -2.4970499999999998], \"ytil\" => [0.2812396825396828, 0.8693749999999998, 0.12426785714285771, 1.230942424242425, 0.20469837662337653, -2.2161714646464654, -0.4307873015873014, 0.2022126984126995, -0.3882476190476183, -1.2033507936507934  …  -1.0349730158730157, 0.18190039682539627, 0.5981027777777772, 0.20425714285714314, -0.0898416666666666, -0.04134920634920647, 1.2455204545454546, 0.6519388888888891, -0.9406249999999998, -0.2312666666666674], \"ztil\" => [-0.04162269159816123, -0.47678027991012506, 0.5216786273234608, -1.6768161192286897, 0.84380642810238, 0.8852341028025945, -0.030204424243000183, 0.10552145021519266, -0.6319344143374961, 1.7776519182284276  …  -0.9613266827204523, 0.7370634824889502, -0.04842881237565244, -0.24884581462637723, 0.3457469675255931, 0.5720750978085158, -1.0069785997445133, 0.01417775285878431, 0.8127966969644644, -0.3488015282100294])"
      ]
     },
     "execution_count": 448,
     "metadata": {},
     "output_type": "execute_result"
    }
   ],
   "source": [
    "function dreg( x_1 , d_1 )\n",
    "    \n",
    "    if d_1 != nothing && ( typeof(d_1) != String )\n",
    "        mtry1 = convert(Int64,findmax(round( ( size(x_1)[ 2 ]/3 ), digits = 0))[1])\n",
    "    else\n",
    "        mtry1 = convert(Int64,round(sqrt( size(x)[ 2 ] ), digits = 0))\n",
    "    end\n",
    "    \n",
    "    if d_1 != nothing && ( typeof(d_1) != String )\n",
    "        nodesize1 = 5\n",
    "    else\n",
    "        nodesize1 = 1\n",
    "    end\n",
    "    n_subfeatures=-1; n_trees=10; partial_sampling=0.7; max_depth=-1\n",
    "    min_samples_leaf= nodesize1; min_samples_split=2; min_purity_increase=0.0; seed=0\n",
    "    \n",
    "    RFmodel =  build_forest(d_1, x_1, n_subfeatures, n_trees, partial_sampling, max_depth, min_samples_leaf, min_samples_split, min_purity_increase; rng = seed)\n",
    "end\n",
    "\n",
    "function yreg( x_1, y_1 )\n",
    "    \n",
    "    if y_1 != nothing && ( typeof(y_1) != String )\n",
    "        mtry1 = convert(Int64,findmax(round( ( size(x_1)[ 2 ]/3 ), digits = 0))[1])\n",
    "    else\n",
    "        mtry1 = convert(Int64,round(sqrt( size(x_1)[ 2 ] ), digits = 0))\n",
    "    end\n",
    "    \n",
    "    if y_1 != nothing && ( typeof(y_1) != String )\n",
    "        nodesize1 = 5\n",
    "    else\n",
    "        nodesize1 = 1\n",
    "    end\n",
    "    n_subfeatures=-1; n_trees=10; partial_sampling=0.7; max_depth=-1\n",
    "    min_samples_leaf= nodesize1; min_samples_split=2; min_purity_increase=0.0; seed=0\n",
    "    \n",
    "    RFmodel =  build_forest(y_1, x_1, n_subfeatures, n_trees, partial_sampling, max_depth, min_samples_leaf, min_samples_split, min_purity_increase; rng = seed)\n",
    "end\n",
    "                \n",
    "function zreg( x_1, z_1 )\n",
    "    \n",
    "    if z_1 != nothing && ( typeof(z_1) != String )\n",
    "        mtry1 = convert(Int64,findmax(round( ( size(x_1)[ 2 ]/3 ), digits = 0))[1])\n",
    "    else\n",
    "        mtry1 = convert(Int64,round(sqrt( size(x_1)[ 2 ] ), digits = 0))\n",
    "    end\n",
    "    \n",
    "    if z_1 != nothing && ( typeof(z_1) != String )\n",
    "        nodesize1 = 5\n",
    "    else\n",
    "        nodesize1 = 1\n",
    "    end\n",
    "    n_subfeatures=-1; n_trees=10; partial_sampling=0.7; max_depth=-1\n",
    "    min_samples_leaf= nodesize1; min_samples_split=2; min_purity_increase=0.0; seed=0\n",
    "    \n",
    "    RFmodel =  build_forest(z_1, x_1, n_subfeatures, n_trees, partial_sampling, max_depth, min_samples_leaf, min_samples_split, min_purity_increase; rng = seed)\n",
    "end\n",
    "\n",
    "DML2_RF = DML2_for_PLIVM(xraw, d, z, y, dreg, yreg, zreg, 20)"
   ]
  },
  {
   "cell_type": "code",
   "execution_count": 18,
   "id": "c114c24e",
   "metadata": {},
   "outputs": [
    {
     "name": "stdout",
     "output_type": "stream",
     "text": [
      "\n",
      " DML with Post-Lasso \n"
     ]
    }
   ],
   "source": [
    "print( \"\\n DML with Post-Lasso \\n\" )"
   ]
  },
  {
   "cell_type": "code",
   "execution_count": 473,
   "id": "5ccc1da1",
   "metadata": {},
   "outputs": [],
   "source": [
    "include(\"E:/causal_ml/hdmjl/hdmjl.jl\")"
   ]
  },
  {
   "cell_type": "code",
   "execution_count": 20,
   "id": "587907ee",
   "metadata": {},
   "outputs": [],
   "source": [
    "include(\"hdmjl/hdmjl.jl\")"
   ]
  },
  {
   "cell_type": "code",
   "execution_count": 520,
   "id": "535b2211",
   "metadata": {},
   "outputs": [
    {
     "data": {
      "text/plain": [
       "DML2_lasso_cv (generic function with 1 method)"
      ]
     },
     "execution_count": 520,
     "metadata": {},
     "output_type": "execute_result"
    }
   ],
   "source": [
    "function DML2_lasso_cv(x , d , z, y, dreg , yreg , zreg, nfold)\n",
    "     # Num ob observations\n",
    "    nobser = size(x,1)\n",
    "    \n",
    "    # Define folds indices \n",
    "    foldid = collect(Kfold(size(x)[1], nfold))\n",
    "    \n",
    "    # Create array to save errors \n",
    "    ytil = ones(nobser)\n",
    "    dtil = ones(nobser)\n",
    "    ztil = ones(nobser);\n",
    "\n",
    "    println(\"Folds: \" )\n",
    "\n",
    "    for i in 1:nfold\n",
    "\n",
    "        # Save errors \n",
    "        # Lasso regression, excluding folds selected \n",
    "        dtil= dreg(X[foldid[i],:], D[foldid[i],:])\n",
    "        ztil= dreg(X[foldid[i],:], Z[foldid[i],:])\n",
    "        ytil= dreg(X[foldid[i],:], Y[foldid[i],:])\n",
    "        println(i)\n",
    "\n",
    "    end\n",
    "\n",
    "    data = DataFrame(ytil = ytil, dtil = dtil, ztil = ztil)\n",
    "    \n",
    "    ivfit = reg(data, @formula(ytil ~  + (dtil ~ ztil)))\n",
    "    # OLS clustering at the County level\n",
    "    coef_est =  ivfit.coef[2]\n",
    "    se = FixedEffectModels.coeftable(ivfit).mat[1,2]\n",
    "    println( \"\\n Coefficient (se) =\", coef_est, \"(\",se,\")\" )\n",
    "    \n",
    "    Final_result = (\"coef_est\" => coef_est , \"se\" => se , \"dtil\" => dtil , \"ytil\" => ytil , \"ztil\" => ztil);\n",
    "       \n",
    "end"
   ]
  },
  {
   "cell_type": "code",
   "execution_count": 708,
   "id": "86af1767",
   "metadata": {},
   "outputs": [
    {
     "name": "stdout",
     "output_type": "stream",
     "text": [
      "Folds: \n",
      "1\n",
      "2\n",
      "3\n",
      "4\n",
      "5\n",
      "6\n",
      "7\n",
      "8\n",
      "9\n",
      "10\n",
      "11\n",
      "12\n",
      "13\n",
      "14\n",
      "15\n",
      "16\n",
      "17\n",
      "18\n",
      "19\n",
      "20\n",
      "\n",
      " Coefficient (se) =0.7782511656099669(0.2437254403283589)\n"
     ]
    },
    {
     "data": {
      "text/plain": [
       "(\"coef_est\" => 0.7782511656099669, \"se\" => 0.2437254403283589, \"dtil\" => [0.42430581177259696, -0.24666234450727587, -1.0583282867651111, 2.188375255345433, -1.8782883990195196, -1.1654082960605885, 1.2447673643601305, -1.169661745180405, -1.7139492578947118, 0.4693814992375751  …  -1.6613272485839419, 1.118848411836776, 1.3681024140945102, 0.7692145325051474, -1.04517236576525, -0.39869655373452806, 2.3383452583015596, 0.5014331712267962, -0.3709624176155717, -1.9944323896247003], \"ytil\" => [0.9689353107994076, 0.6447321854257281, 0.2570539922513273, 1.226784392636004, -1.7217395716336379, -0.5374858531100929, 0.35091650763851084, -0.2834659404427178, -1.2380313968997498, -0.025874336376500384  …  0.15025753728803382, -0.8213401019633628, 0.13557634864584367, 0.3811080498207977, -0.0849561977712886, 0.18835445022512276, 1.2125187800066666, 0.7077334091690932, -1.1720689586319308, -0.18448952875381464], \"ztil\" => [-0.8572705491233079, 0.013523939115180128, 0.6239965679679942, -1.6432767294087112, 0.40195147393909025, 0.21564503311362582, 0.03509663080786446, 0.031393125461637306, 1.2434809214037856, -0.1593977490363372  …  -1.0720384944966854, -0.8069790702376505, 0.7720943137214529, 0.24082748667838172, -0.2779526589517045, 0.6282607905681807, -0.7975715032633444, 0.07888785776915708, 0.8688481022600981, -0.45786281520047867])"
      ]
     },
     "execution_count": 708,
     "metadata": {},
     "output_type": "execute_result"
    }
   ],
   "source": [
    "function dreg(x_1, d_1)\n",
    "    res_Y_0 = rlasso_arg( x_1, d_1, nothing, true, true, true, false, false, \n",
    "                    nothing, 1.1, nothing, 5000, 15, 10^(-5), -Inf, true, Inf, true )\n",
    "    res_Y = rlasso(res_Y_0)[\"residuals\"]\n",
    "end\n",
    "\n",
    "function yreg(x_1, y_1)\n",
    "    res_D_0 = rlasso_arg( x_1, y_1, nothing, true, true, true, false, false, \n",
    "                        nothing, 1.1, nothing, 5000, 15, 10^(-5), -Inf, true, Inf, true )\n",
    "    res_D = rlasso(res_D_0)[\"residuals\"]\n",
    "end\n",
    "\n",
    "function yreg(x_1, z_1)\n",
    "    res_D_0 = rlasso_arg( x_1, z_1, nothing, true, true, true, false, false, \n",
    "                        nothing, 1.1, nothing, 5000, 15, 10^(-5), -Inf, true, Inf, true )\n",
    "    res_D = rlasso(res_D_0)[\"residuals\"]\n",
    "end\n",
    "\n",
    "DML2_lasso = DML2_lasso_cv(x, d, z, y, dreg, yreg, zreg, 20)"
   ]
  },
  {
   "cell_type": "code",
   "execution_count": 275,
   "id": "3fd5359a",
   "metadata": {},
   "outputs": [],
   "source": [
    "# Compare Forest vs Lasso"
   ]
  },
  {
   "cell_type": "code",
   "execution_count": 522,
   "id": "f21dcf07",
   "metadata": {},
   "outputs": [],
   "source": [
    "mods = [DML2_RF, DML2_lasso];\n",
    "mods_name = [\"DML2_RF\", \"DML2_lasso\"];"
   ]
  },
  {
   "cell_type": "code",
   "execution_count": 523,
   "id": "c9439324",
   "metadata": {},
   "outputs": [
    {
     "name": "stdout",
     "output_type": "stream",
     "text": [
      "┌────────────┬──────────────┬──────────────┬──────────────┐\n",
      "│\u001b[1m     Models \u001b[0m│\u001b[1m       RMSE_Y \u001b[0m│\u001b[1m       RMSE_D \u001b[0m│\u001b[1m       RMSE_Z \u001b[0m│\n",
      "│\u001b[90m        Any \u001b[0m│\u001b[90m          Any \u001b[0m│\u001b[90m          Any \u001b[0m│\u001b[90m          Any \u001b[0m│\n",
      "├────────────┼──────────────┼──────────────┼──────────────┤\n",
      "│    DML2_RF │ 0.8072244996 │ 1.2993424184 │ 0.9519269381 │\n",
      "│ DML2_lasso │ 0.8225635548 │ 1.2708855149 │ 0.9498346380 │\n",
      "└────────────┴──────────────┴──────────────┴──────────────┘\n"
     ]
    }
   ],
   "source": [
    "RMSE_Y = []\n",
    "RMSE_D = []\n",
    "RMSE_Z = []\n",
    "\n",
    "for i in mods\n",
    "    push!(RMSE_Y, sqrt(sum(i[4][2].^2)/length(i[4][2])))\n",
    "    push!(RMSE_D, sqrt(sum(i[3][2].^2)/length(i[3][2])))\n",
    "    push!(RMSE_Z, sqrt(sum(i[5][2].^2)/length(i[5][2])))\n",
    "end\n",
    "\n",
    "result = DataFrame([mods_name RMSE_Y RMSE_D RMSE_Z], [:Models, :RMSE_Y, :RMSE_D, :RMSE_Z])\n",
    "pretty_table(result; formatters = ft_printf(\"%5.10f\"))"
   ]
  },
  {
   "cell_type": "markdown",
   "id": "a269620e",
   "metadata": {},
   "source": [
    "# Examine if we have weak instruments"
   ]
  },
  {
   "cell_type": "code",
   "execution_count": 820,
   "id": "af170b30",
   "metadata": {},
   "outputs": [],
   "source": [
    "data1 = DataFrame(ytil = DML2_lasso[4][2], dtil = DML2_lasso[3][2], ztil = DML2_lasso[5][2]);"
   ]
  },
  {
   "cell_type": "code",
   "execution_count": 848,
   "id": "e601972c",
   "metadata": {},
   "outputs": [
    {
     "data": {
      "text/plain": [
       "                         Linear Model                         \n",
       "===============================================================\n",
       "Number of obs:              61   Degrees of freedom:          1\n",
       "R2:                      0.111   R2 Adjusted:             0.096\n",
       "F Statistic:           6.23798   p-value:                 0.015\n",
       "===============================================================\n",
       "       Estimate Std.Error t value Pr(>|t|) Lower 95%  Upper 95%\n",
       "---------------------------------------------------------------\n",
       "ztil  -0.438198  0.175448 -2.4976    0.015 -0.789146 -0.0872497\n",
       "===============================================================\n"
      ]
     },
     "execution_count": 848,
     "metadata": {},
     "output_type": "execute_result"
    }
   ],
   "source": [
    "ols = reg(data1, @formula(dtil ~ 0 + ztil),Vcov.robust())"
   ]
  },
  {
   "cell_type": "code",
   "execution_count": 822,
   "id": "99716c1e",
   "metadata": {},
   "outputs": [],
   "source": [
    "data2 = DataFrame(ytil = DML2_RF[4][2], dtil = DML2_RF[3][2], ztil = DML2_RF[5][2]);"
   ]
  },
  {
   "cell_type": "code",
   "execution_count": 823,
   "id": "0e53e8cc",
   "metadata": {},
   "outputs": [
    {
     "data": {
      "text/plain": [
       "                         Linear Model                         \n",
       "===============================================================\n",
       "Number of obs:              64   Degrees of freedom:          1\n",
       "R2:                      0.094   R2 Adjusted:             0.080\n",
       "F Statistic:            5.0997   p-value:                 0.027\n",
       "===============================================================\n",
       "      Estimate Std.Error  t value Pr(>|t|) Lower 95%  Upper 95%\n",
       "---------------------------------------------------------------\n",
       "ztil  -0.41886  0.185479 -2.25825    0.027 -0.789511 -0.0482083\n",
       "===============================================================\n"
      ]
     },
     "execution_count": 823,
     "metadata": {},
     "output_type": "execute_result"
    }
   ],
   "source": [
    "reg(data2, @formula(dtil ~ 0 + ztil),Vcov.robust())"
   ]
  },
  {
   "cell_type": "markdown",
   "id": "92791e2a",
   "metadata": {},
   "source": [
    "#  We do have weak instruments, because t-stats in regression $\\tilde D \\sim \\tilde Z$ are less than 4 in absolute value"
   ]
  },
  {
   "cell_type": "code",
   "execution_count": 824,
   "id": "9d777b38",
   "metadata": {},
   "outputs": [
    {
     "data": {
      "text/plain": [
       "DML_AR_PLIV (generic function with 2 methods)"
      ]
     },
     "execution_count": 824,
     "metadata": {},
     "output_type": "execute_result"
    }
   ],
   "source": [
    "function DML_AR_PLIV(rY, rD, rZ, grid, alpha)\n",
    "    n = size(rY)[1]\n",
    "    Cstat = zeros(size(grid))\n",
    "    \n",
    "    for i in 1:length(grid)\n",
    "        Cstat[i] = n * ((mean((rY - grid[i] * rD).* rZ))^2) / var((rY - grid[i] * rD).* rZ)\n",
    "    end\n",
    "    \n",
    "    data_ar = DataFrame(grid = grid, Cstat = Cstat)\n",
    "    \n",
    "    LB = minimum(data_ar[data_ar[:,2] .< chisqinvcdf(1, 1 - alpha), :][1])\n",
    "    UB = maximum(data_ar[data_ar[:,2] .< chisqinvcdf(1, 1 - alpha), :][1])\n",
    "    \n",
    "    println( \"UB =\" , UB, \"LB =\"  ,LB)\n",
    "\n",
    "    plot(grid, Cstat, color=:black)\n",
    "    xlabel!(\"Effect of institutions\")\n",
    "    ylabel!(\"Statistic\")\n",
    "    vline!([LB], color=:red, label=\"1\", linestyle=:dash)\n",
    "    vline!([UB], color=:red, label=\"2\", linestyle=:dash)\n",
    "    hline!([chisqinvcdf(1, 1 - alpha)], color=:skyblue, linestyle=:dash)\n",
    "end"
   ]
  },
  {
   "cell_type": "code",
   "execution_count": 825,
   "id": "da275a3d",
   "metadata": {},
   "outputs": [
    {
     "name": "stdout",
     "output_type": "stream",
     "text": [
      "UB =2.0LB =0.37\n"
     ]
    },
    {
     "data": {
      "image/png": "[encoded data removed]"
     },
     "execution_count": 825,
     "metadata": {},
     "output_type": "execute_result"
    }
   ],
   "source": [
    "DML_AR_PLIV(data1[1], data1[2], data1[3], collect(range( -2, 2.001, step = 0.01 )), 0.05 )"
   ]
  },
  {
   "cell_type": "code",
   "execution_count": 826,
   "id": "f235b9e8",
   "metadata": {},
   "outputs": [
    {
     "name": "stdout",
     "output_type": "stream",
     "text": [
      "UB =2.0LB =0.34\n"
     ]
    },
    {
     "data": {
      "image/png": "[encoded data removed]"
     },
     "execution_count": 826,
     "metadata": {},
     "output_type": "execute_result"
    }
   ],
   "source": [
    "DML_AR_PLIV(data2[1], data2[2], data2[3], collect(range( -2, 2.001, step = 0.01 )), 0.05 )"
   ]
  },
  {
   "cell_type": "code",
   "execution_count": null,
   "id": "4c40fb4b",
   "metadata": {},
   "outputs": [],
   "source": []
  }
 ],
 "metadata": {
  "kernelspec": {
   "display_name": "Julia 1.6.6",
   "language": "julia",
   "name": "julia-1.6"
  },
  "language_info": {
   "file_extension": ".jl",
   "mimetype": "application/julia",
   "name": "julia",
   "version": "1.6.6"
  }
 },
 "nbformat": 4,
 "nbformat_minor": 5
}
