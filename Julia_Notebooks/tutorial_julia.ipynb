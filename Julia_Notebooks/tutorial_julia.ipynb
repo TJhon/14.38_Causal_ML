{
 "cells": [
  {
   "cell_type": "markdown",
   "metadata": {},
   "source": [
    "# Julia Basic Tutorial"
   ]
  },
  {
   "cell_type": "markdown",
   "metadata": {},
   "source": [
    "### Assignment"
   ]
  },
  {
   "cell_type": "markdown",
   "metadata": {},
   "source": [
    "Use =, not <-, for assignment  "
   ]
  },
  {
   "cell_type": "code",
   "execution_count": 10,
   "metadata": {},
   "outputs": [
    {
     "data": {
      "text/plain": [
       "3"
      ]
     },
     "execution_count": 10,
     "metadata": {},
     "output_type": "execute_result"
    }
   ],
   "source": [
    "x = 2\n",
    "y = 3"
   ]
  },
  {
   "cell_type": "code",
   "execution_count": 11,
   "metadata": {},
   "outputs": [
    {
     "data": {
      "text/plain": [
       "5"
      ]
     },
     "execution_count": 11,
     "metadata": {},
     "output_type": "execute_result"
    }
   ],
   "source": [
    "x+y"
   ]
  },
  {
   "cell_type": "markdown",
   "metadata": {},
   "source": [
    "we can use sintax from latex to writte variables and assing as a variables"
   ]
  },
  {
   "cell_type": "code",
   "execution_count": 34,
   "metadata": {},
   "outputs": [
    {
     "data": {
      "text/plain": [
       "3.14"
      ]
     },
     "execution_count": 34,
     "metadata": {},
     "output_type": "execute_result"
    }
   ],
   "source": [
    "π = 3.14 #we use \\pi and Tab to call that symbol"
   ]
  },
  {
   "cell_type": "markdown",
   "metadata": {},
   "source": [
    "### Aritmetic Operators"
   ]
  },
  {
   "cell_type": "code",
   "execution_count": 24,
   "metadata": {},
   "outputs": [
    {
     "data": {
      "text/plain": [
       "8"
      ]
     },
     "execution_count": 24,
     "metadata": {},
     "output_type": "execute_result"
    }
   ],
   "source": [
    "#addition\n",
    "3+5"
   ]
  },
  {
   "cell_type": "code",
   "execution_count": 13,
   "metadata": {},
   "outputs": [
    {
     "data": {
      "text/plain": [
       "3"
      ]
     },
     "execution_count": 13,
     "metadata": {},
     "output_type": "execute_result"
    }
   ],
   "source": [
    "#difference\n",
    "5-2"
   ]
  },
  {
   "cell_type": "code",
   "execution_count": 14,
   "metadata": {},
   "outputs": [
    {
     "data": {
      "text/plain": [
       "10"
      ]
     },
     "execution_count": 14,
     "metadata": {},
     "output_type": "execute_result"
    }
   ],
   "source": [
    "#product    \n",
    "5*2"
   ]
  },
  {
   "cell_type": "code",
   "execution_count": 22,
   "metadata": {},
   "outputs": [
    {
     "name": "stdout",
     "output_type": "stream",
     "text": [
      "2.5\n",
      "2\n"
     ]
    }
   ],
   "source": [
    "####there is two types of division in julia\n",
    "#first with the symbol \" / \"\n",
    "println(5/2) \n",
    "\n",
    "#the second is for integer divide \n",
    "println(5÷2) \n"
   ]
  },
  {
   "cell_type": "code",
   "execution_count": 16,
   "metadata": {},
   "outputs": [
    {
     "data": {
      "text/plain": [
       "9"
      ]
     },
     "execution_count": 16,
     "metadata": {},
     "output_type": "execute_result"
    }
   ],
   "source": [
    "#power\n",
    "3^2"
   ]
  },
  {
   "cell_type": "code",
   "execution_count": 25,
   "metadata": {},
   "outputs": [
    {
     "data": {
      "text/plain": [
       "1"
      ]
     },
     "execution_count": 25,
     "metadata": {},
     "output_type": "execute_result"
    }
   ],
   "source": [
    "#remainder\n",
    "5%2"
   ]
  },
  {
   "cell_type": "markdown",
   "metadata": {},
   "source": [
    "### Data Types and variables"
   ]
  },
  {
   "cell_type": "markdown",
   "metadata": {},
   "source": [
    "We can know the data type with the command **\"typeof()\"**"
   ]
  },
  {
   "cell_type": "code",
   "execution_count": 27,
   "metadata": {},
   "outputs": [
    {
     "data": {
      "text/plain": [
       "Int64"
      ]
     },
     "execution_count": 27,
     "metadata": {},
     "output_type": "execute_result"
    }
   ],
   "source": [
    "a = 3 #int data type\n",
    "typeof(a)"
   ]
  },
  {
   "cell_type": "code",
   "execution_count": 29,
   "metadata": {},
   "outputs": [
    {
     "data": {
      "text/plain": [
       "Float64"
      ]
     },
     "execution_count": 29,
     "metadata": {},
     "output_type": "execute_result"
    }
   ],
   "source": [
    "b = 3.2 #float data type\n",
    "typeof(b)"
   ]
  },
  {
   "cell_type": "code",
   "execution_count": 30,
   "metadata": {},
   "outputs": [
    {
     "data": {
      "text/plain": [
       "String"
      ]
     },
     "execution_count": 30,
     "metadata": {},
     "output_type": "execute_result"
    }
   ],
   "source": [
    "c = \"hola mundo\" #string data types\n",
    "typeof(c)"
   ]
  },
  {
   "cell_type": "markdown",
   "metadata": {},
   "source": [
    "its important to know that in Julia to declare a string variable we use the \" \" not the ' '. If we use  ' ' , Julia detect an error"
   ]
  },
  {
   "cell_type": "code",
   "execution_count": 32,
   "metadata": {},
   "outputs": [
    {
     "ename": "LoadError",
     "evalue": "syntax: character literal contains multiple characters",
     "output_type": "error",
     "traceback": [
      "syntax: character literal contains multiple characters",
      "",
      "Stacktrace:",
      " [1] top-level scope",
      "   @ In[32]:1",
      " [2] eval",
      "   @ .\\boot.jl:360 [inlined]",
      " [3] include_string(mapexpr::typeof(REPL.softscope), mod::Module, code::String, filename::String)",
      "   @ Base .\\loading.jl:1116"
     ]
    }
   ],
   "source": [
    "c = 'hola mundo' #string data types\n",
    "typeof(c)"
   ]
  },
  {
   "cell_type": "code",
   "execution_count": 3,
   "metadata": {},
   "outputs": [
    {
     "data": {
      "text/plain": [
       "Float64"
      ]
     },
     "execution_count": 3,
     "metadata": {},
     "output_type": "execute_result"
    }
   ],
   "source": [
    "y = true #boolean data type true or false \n",
    "typeof(20.5)"
   ]
  },
  {
   "cell_type": "markdown",
   "metadata": {},
   "source": [
    "### Vectors and matrix"
   ]
  },
  {
   "cell_type": "code",
   "execution_count": 4,
   "metadata": {},
   "outputs": [
    {
     "data": {
      "text/plain": [
       "Vector{Int64} (alias for Array{Int64, 1})"
      ]
     },
     "execution_count": 4,
     "metadata": {},
     "output_type": "execute_result"
    }
   ],
   "source": [
    "f = [1,2,3,3,4]\n",
    "typeof(f)"
   ]
  },
  {
   "cell_type": "markdown",
   "metadata": {},
   "source": [
    "---"
   ]
  },
  {
   "cell_type": "markdown",
   "metadata": {},
   "source": [
    "### Packages"
   ]
  },
  {
   "cell_type": "markdown",
   "metadata": {},
   "source": [
    "To use packages in Julia, first we need to call the module to import Packages. we can do that with the following code"
   ]
  },
  {
   "cell_type": "code",
   "execution_count": 17,
   "metadata": {},
   "outputs": [],
   "source": [
    "using Pkg #with this code we now able to call other packages like GLM, Plots"
   ]
  },
  {
   "cell_type": "markdown",
   "metadata": {},
   "source": [
    "We can install a package in our instance. We can do this with **Pkg.add()**. Inside the parenthesis with quotation marks me call the packege"
   ]
  },
  {
   "cell_type": "code",
   "execution_count": 7,
   "metadata": {},
   "outputs": [
    {
     "name": "stderr",
     "output_type": "stream",
     "text": [
      "\u001b[32m\u001b[1m    Updating\u001b[22m\u001b[39m registry at `C:\\Users\\PC\\.julia\\registries\\General`\n",
      "\u001b[32m\u001b[1m    Updating\u001b[22m\u001b[39m git-repo `https://github.com/JuliaRegistries/General.git`\n",
      "\u001b[32m\u001b[1m   Resolving\u001b[22m\u001b[39m package versions...\n",
      "\u001b[32m\u001b[1m  No Changes\u001b[22m\u001b[39m to `C:\\Users\\PC\\.julia\\environments\\v1.6\\Project.toml`\n",
      "\u001b[32m\u001b[1m  No Changes\u001b[22m\u001b[39m to `C:\\Users\\PC\\.julia\\environments\\v1.6\\Manifest.toml`\n"
     ]
    }
   ],
   "source": [
    "Pkg.add(\"GLM\")"
   ]
  },
  {
   "cell_type": "markdown",
   "metadata": {},
   "source": [
    "after that we have to load the package into our environment with the word **using**"
   ]
  },
  {
   "cell_type": "code",
   "execution_count": 11,
   "metadata": {},
   "outputs": [],
   "source": [
    "using GLM"
   ]
  },
  {
   "cell_type": "markdown",
   "metadata": {},
   "source": [
    "Now we can use all the functions from that package"
   ]
  },
  {
   "cell_type": "markdown",
   "metadata": {},
   "source": [
    "#### Note"
   ]
  },
  {
   "cell_type": "markdown",
   "metadata": {},
   "source": [
    "The Base and Core modules are always available in Julia. There is a set of standard (or stdlib) modules that are installed with Julia but are not all loaded at the start of a Julia session.\n",
    "\n",
    "If a stdlib module is not already loaded, load them in the usual way, with using or import."
   ]
  },
  {
   "cell_type": "markdown",
   "metadata": {},
   "source": [
    "---"
   ]
  },
  {
   "cell_type": "markdown",
   "metadata": {},
   "source": [
    "### Dataframe"
   ]
  },
  {
   "cell_type": "markdown",
   "metadata": {},
   "source": [
    "This data structure does not require that all members be of the same data type."
   ]
  },
  {
   "cell_type": "code",
   "execution_count": 20,
   "metadata": {},
   "outputs": [],
   "source": [
    "#first we load the module DataFrames to start using this data structure and take advantage of their functions\n",
    "using DataFrames"
   ]
  },
  {
   "cell_type": "code",
   "execution_count": 22,
   "metadata": {},
   "outputs": [
    {
     "data": {
      "text/html": [
       "<table class=\"data-frame\"><thead><tr><th></th><th>students</th><th>Age</th><th>Gender</th><th>GPA</th></tr><tr><th></th><th>String</th><th>Int64</th><th>String</th><th>Float64</th></tr></thead><tbody><p>8 rows × 4 columns</p><tr><th>1</th><td>Amy</td><td>27</td><td>F</td><td>3.26</td></tr><tr><th>2</th><td>Bob</td><td>55</td><td>M</td><td>3.75</td></tr><tr><th>3</th><td>Chuck</td><td>34</td><td>M</td><td>2.98</td></tr><tr><th>4</th><td>Daisy</td><td>42</td><td>F</td><td>3.4</td></tr><tr><th>5</th><td>Ellie</td><td>20</td><td>F</td><td>2.75</td></tr><tr><th>6</th><td>Frank</td><td>27</td><td>M</td><td>3.32</td></tr><tr><th>7</th><td>George</td><td>34</td><td>M</td><td>3.68</td></tr><tr><th>8</th><td>Helen</td><td>42</td><td>F</td><td>3.97</td></tr></tbody></table>"
      ],
      "text/latex": [
       "\\begin{tabular}{r|cccc}\n",
       "\t& students & Age & Gender & GPA\\\\\n",
       "\t\\hline\n",
       "\t& String & Int64 & String & Float64\\\\\n",
       "\t\\hline\n",
       "\t1 & Amy & 27 & F & 3.26 \\\\\n",
       "\t2 & Bob & 55 & M & 3.75 \\\\\n",
       "\t3 & Chuck & 34 & M & 2.98 \\\\\n",
       "\t4 & Daisy & 42 & F & 3.4 \\\\\n",
       "\t5 & Ellie & 20 & F & 2.75 \\\\\n",
       "\t6 & Frank & 27 & M & 3.32 \\\\\n",
       "\t7 & George & 34 & M & 3.68 \\\\\n",
       "\t8 & Helen & 42 & F & 3.97 \\\\\n",
       "\\end{tabular}\n"
      ],
      "text/plain": [
       "\u001b[1m8×4 DataFrame\u001b[0m\n",
       "\u001b[1m Row \u001b[0m│\u001b[1m students \u001b[0m\u001b[1m Age   \u001b[0m\u001b[1m Gender \u001b[0m\u001b[1m GPA     \u001b[0m\n",
       "\u001b[1m     \u001b[0m│\u001b[90m String   \u001b[0m\u001b[90m Int64 \u001b[0m\u001b[90m String \u001b[0m\u001b[90m Float64 \u001b[0m\n",
       "─────┼──────────────────────────────────\n",
       "   1 │ Amy          27  F          3.26\n",
       "   2 │ Bob          55  M          3.75\n",
       "   3 │ Chuck        34  M          2.98\n",
       "   4 │ Daisy        42  F          3.4\n",
       "   5 │ Ellie        20  F          2.75\n",
       "   6 │ Frank        27  M          3.32\n",
       "   7 │ George       34  M          3.68\n",
       "   8 │ Helen        42  F          3.97"
      ]
     },
     "execution_count": 22,
     "metadata": {},
     "output_type": "execute_result"
    }
   ],
   "source": [
    "Student_Name = [\"Amy\", \"Bob\", \"Chuck\", \"Daisy\", \"Ellie\", \"Frank\", \"George\", \"Helen\"]\n",
    "\n",
    "Age = [27, 55, 34, 42, 20, 27, 34, 42]\n",
    "\n",
    "Gender = [\"F\", \"M\", \"M\", \"F\", \"F\", \"M\", \"M\", \"F\"]\n",
    "\n",
    "GPA = [3.26, 3.75, 2.98, 3.40, 2.75, 3.32, 3.68, 3.97]\n",
    "\n",
    "nsc = DataFrame(students = Student_Name, Age = Age, Gender = Gender, GPA = GPA)   # Naming the data frame\n",
    "nsc # Generates the data frame"
   ]
  },
  {
   "cell_type": "code",
   "execution_count": 24,
   "metadata": {},
   "outputs": [
    {
     "data": {
      "text/plain": [
       "4-element Vector{String}:\n",
       " \"students\"\n",
       " \"Age\"\n",
       " \"Gender\"\n",
       " \"GPA\""
      ]
     },
     "execution_count": 24,
     "metadata": {},
     "output_type": "execute_result"
    }
   ],
   "source": [
    "# Lists variables\n",
    "names(nsc)"
   ]
  },
  {
   "cell_type": "code",
   "execution_count": 27,
   "metadata": {},
   "outputs": [
    {
     "data": {
      "text/html": [
       "<table class=\"data-frame\"><thead><tr><th></th><th>students</th><th>Age</th></tr><tr><th></th><th>String</th><th>Int64</th></tr></thead><tbody><p>3 rows × 2 columns</p><tr><th>1</th><td>Amy</td><td>27</td></tr><tr><th>2</th><td>Bob</td><td>55</td></tr><tr><th>3</th><td>Chuck</td><td>34</td></tr></tbody></table>"
      ],
      "text/latex": [
       "\\begin{tabular}{r|cc}\n",
       "\t& students & Age\\\\\n",
       "\t\\hline\n",
       "\t& String & Int64\\\\\n",
       "\t\\hline\n",
       "\t1 & Amy & 27 \\\\\n",
       "\t2 & Bob & 55 \\\\\n",
       "\t3 & Chuck & 34 \\\\\n",
       "\\end{tabular}\n"
      ],
      "text/plain": [
       "\u001b[1m3×2 DataFrame\u001b[0m\n",
       "\u001b[1m Row \u001b[0m│\u001b[1m students \u001b[0m\u001b[1m Age   \u001b[0m\n",
       "\u001b[1m     \u001b[0m│\u001b[90m String   \u001b[0m\u001b[90m Int64 \u001b[0m\n",
       "─────┼─────────────────\n",
       "   1 │ Amy          27\n",
       "   2 │ Bob          55\n",
       "   3 │ Chuck        34"
      ]
     },
     "execution_count": 27,
     "metadata": {},
     "output_type": "execute_result"
    }
   ],
   "source": [
    "nsc[1:3,1:2]"
   ]
  },
  {
   "cell_type": "code",
   "execution_count": 28,
   "metadata": {},
   "outputs": [
    {
     "data": {
      "text/html": [
       "<table class=\"data-frame\"><thead><tr><th></th><th>students</th><th>Gender</th><th>GPA</th></tr><tr><th></th><th>String</th><th>String</th><th>Float64</th></tr></thead><tbody><p>3 rows × 3 columns</p><tr><th>1</th><td>Amy</td><td>F</td><td>3.26</td></tr><tr><th>2</th><td>Bob</td><td>M</td><td>3.75</td></tr><tr><th>3</th><td>Daisy</td><td>F</td><td>3.4</td></tr></tbody></table>"
      ],
      "text/latex": [
       "\\begin{tabular}{r|ccc}\n",
       "\t& students & Gender & GPA\\\\\n",
       "\t\\hline\n",
       "\t& String & String & Float64\\\\\n",
       "\t\\hline\n",
       "\t1 & Amy & F & 3.26 \\\\\n",
       "\t2 & Bob & M & 3.75 \\\\\n",
       "\t3 & Daisy & F & 3.4 \\\\\n",
       "\\end{tabular}\n"
      ],
      "text/plain": [
       "\u001b[1m3×3 DataFrame\u001b[0m\n",
       "\u001b[1m Row \u001b[0m│\u001b[1m students \u001b[0m\u001b[1m Gender \u001b[0m\u001b[1m GPA     \u001b[0m\n",
       "\u001b[1m     \u001b[0m│\u001b[90m String   \u001b[0m\u001b[90m String \u001b[0m\u001b[90m Float64 \u001b[0m\n",
       "─────┼───────────────────────────\n",
       "   1 │ Amy       F          3.26\n",
       "   2 │ Bob       M          3.75\n",
       "   3 │ Daisy     F          3.4"
      ]
     },
     "execution_count": 28,
     "metadata": {},
     "output_type": "execute_result"
    }
   ],
   "source": [
    "nsc[[1,2,4],[1,3,4]]"
   ]
  },
  {
   "cell_type": "code",
   "execution_count": 29,
   "metadata": {},
   "outputs": [
    {
     "data": {
      "text/plain": [
       "8-element Vector{String}:\n",
       " \"F\"\n",
       " \"M\"\n",
       " \"M\"\n",
       " \"F\"\n",
       " \"F\"\n",
       " \"M\"\n",
       " \"M\"\n",
       " \"F\""
      ]
     },
     "execution_count": 29,
     "metadata": {},
     "output_type": "execute_result"
    }
   ],
   "source": [
    "nsc.Gender"
   ]
  },
  {
   "cell_type": "code",
   "execution_count": 35,
   "metadata": {},
   "outputs": [
    {
     "name": "stdout",
     "output_type": "stream",
     "text": [
      "[\"F\", \"M\", \"M\", \"F\", \"F\", \"M\", \"M\", \"F\"]\n",
      "[\"F\", \"M\", \"M\", \"F\", \"F\", \"M\", \"M\", \"F\"]\n"
     ]
    }
   ],
   "source": [
    "#two forms to call a column\n",
    "println(nsc[:,:Gender]) \n",
    "println(nsc[:,\"Gender\"])\n"
   ]
  },
  {
   "cell_type": "markdown",
   "metadata": {},
   "source": [
    "### Working with DataFrames"
   ]
  },
  {
   "cell_type": "code",
   "execution_count": 5,
   "metadata": {},
   "outputs": [
    {
     "data": {
      "text/plain": [
       "\"c:\\\\Users\\\\PC\\\\Documents\\\\GitHub\\\\14.38_Causal_ML\\\\Julia_Notebooks\""
      ]
     },
     "execution_count": 5,
     "metadata": {},
     "output_type": "execute_result"
    }
   ],
   "source": [
    "using DataFrames, DelimitedFiles\n",
    "pwd()"
   ]
  },
  {
   "cell_type": "code",
   "execution_count": 6,
   "metadata": {},
   "outputs": [
    {
     "data": {
      "text/html": [
       "<table class=\"data-frame\"><thead><tr><th></th><th>variable</th><th>mean</th><th>min</th><th>median</th><th>max</th><th>nmissing</th><th>eltype</th></tr><tr><th></th><th>Symbol</th><th>Float64</th><th>Float64</th><th>Float64</th><th>Float64</th><th>Int64</th><th>DataType</th></tr></thead><tbody><p>23 rows × 7 columns</p><tr><th>1</th><td>abdt</td><td>10693.6</td><td>10404.0</td><td>10691.0</td><td>10880.0</td><td>0</td><td>Float64</td></tr><tr><th>2</th><td>tg</td><td>2.56889</td><td>0.0</td><td>2.0</td><td>6.0</td><td>0</td><td>Float64</td></tr><tr><th>3</th><td>inuidur1</td><td>12.9148</td><td>1.0</td><td>10.0</td><td>52.0</td><td>0</td><td>Float64</td></tr><tr><th>4</th><td>inuidur2</td><td>12.1938</td><td>0.0</td><td>9.0</td><td>52.0</td><td>0</td><td>Float64</td></tr><tr><th>5</th><td>female</td><td>0.402142</td><td>0.0</td><td>0.0</td><td>1.0</td><td>0</td><td>Float64</td></tr><tr><th>6</th><td>black</td><td>0.116653</td><td>0.0</td><td>0.0</td><td>1.0</td><td>0</td><td>Float64</td></tr><tr><th>7</th><td>hispanic</td><td>0.0363689</td><td>0.0</td><td>0.0</td><td>1.0</td><td>0</td><td>Float64</td></tr><tr><th>8</th><td>othrace</td><td>0.00575002</td><td>0.0</td><td>0.0</td><td>1.0</td><td>0</td><td>Float64</td></tr><tr><th>9</th><td>dep</td><td>0.444045</td><td>0.0</td><td>0.0</td><td>2.0</td><td>0</td><td>Float64</td></tr><tr><th>10</th><td>q1</td><td>0.0136563</td><td>0.0</td><td>0.0</td><td>1.0</td><td>0</td><td>Float64</td></tr><tr><th>11</th><td>q2</td><td>0.206498</td><td>0.0</td><td>0.0</td><td>1.0</td><td>0</td><td>Float64</td></tr><tr><th>12</th><td>q3</td><td>0.237691</td><td>0.0</td><td>0.0</td><td>1.0</td><td>0</td><td>Float64</td></tr><tr><th>13</th><td>q4</td><td>0.232229</td><td>0.0</td><td>0.0</td><td>1.0</td><td>0</td><td>Float64</td></tr><tr><th>14</th><td>q5</td><td>0.232948</td><td>0.0</td><td>0.0</td><td>1.0</td><td>0</td><td>Float64</td></tr><tr><th>15</th><td>q6</td><td>0.0769784</td><td>0.0</td><td>0.0</td><td>1.0</td><td>0</td><td>Float64</td></tr><tr><th>16</th><td>recall</td><td>0.108675</td><td>0.0</td><td>0.0</td><td>1.0</td><td>0</td><td>Float64</td></tr><tr><th>17</th><td>agelt35</td><td>0.543089</td><td>0.0</td><td>1.0</td><td>1.0</td><td>0</td><td>Float64</td></tr><tr><th>18</th><td>agegt54</td><td>0.106735</td><td>0.0</td><td>0.0</td><td>1.0</td><td>0</td><td>Float64</td></tr><tr><th>19</th><td>durable</td><td>0.148638</td><td>0.0</td><td>0.0</td><td>1.0</td><td>0</td><td>Float64</td></tr><tr><th>20</th><td>nondurable</td><td>0.10961</td><td>0.0</td><td>0.0</td><td>1.0</td><td>0</td><td>Float64</td></tr><tr><th>21</th><td>lusd</td><td>0.265435</td><td>0.0</td><td>0.0</td><td>1.0</td><td>0</td><td>Float64</td></tr><tr><th>22</th><td>husd</td><td>0.221807</td><td>0.0</td><td>0.0</td><td>1.0</td><td>0</td><td>Float64</td></tr><tr><th>23</th><td>muld</td><td>0.438008</td><td>0.0</td><td>0.0</td><td>1.0</td><td>0</td><td>Float64</td></tr></tbody></table>"
      ],
      "text/latex": [
       "\\begin{tabular}{r|ccccccc}\n",
       "\t& variable & mean & min & median & max & nmissing & eltype\\\\\n",
       "\t\\hline\n",
       "\t& Symbol & Float64 & Float64 & Float64 & Float64 & Int64 & DataType\\\\\n",
       "\t\\hline\n",
       "\t1 & abdt & 10693.6 & 10404.0 & 10691.0 & 10880.0 & 0 & Float64 \\\\\n",
       "\t2 & tg & 2.56889 & 0.0 & 2.0 & 6.0 & 0 & Float64 \\\\\n",
       "\t3 & inuidur1 & 12.9148 & 1.0 & 10.0 & 52.0 & 0 & Float64 \\\\\n",
       "\t4 & inuidur2 & 12.1938 & 0.0 & 9.0 & 52.0 & 0 & Float64 \\\\\n",
       "\t5 & female & 0.402142 & 0.0 & 0.0 & 1.0 & 0 & Float64 \\\\\n",
       "\t6 & black & 0.116653 & 0.0 & 0.0 & 1.0 & 0 & Float64 \\\\\n",
       "\t7 & hispanic & 0.0363689 & 0.0 & 0.0 & 1.0 & 0 & Float64 \\\\\n",
       "\t8 & othrace & 0.00575002 & 0.0 & 0.0 & 1.0 & 0 & Float64 \\\\\n",
       "\t9 & dep & 0.444045 & 0.0 & 0.0 & 2.0 & 0 & Float64 \\\\\n",
       "\t10 & q1 & 0.0136563 & 0.0 & 0.0 & 1.0 & 0 & Float64 \\\\\n",
       "\t11 & q2 & 0.206498 & 0.0 & 0.0 & 1.0 & 0 & Float64 \\\\\n",
       "\t12 & q3 & 0.237691 & 0.0 & 0.0 & 1.0 & 0 & Float64 \\\\\n",
       "\t13 & q4 & 0.232229 & 0.0 & 0.0 & 1.0 & 0 & Float64 \\\\\n",
       "\t14 & q5 & 0.232948 & 0.0 & 0.0 & 1.0 & 0 & Float64 \\\\\n",
       "\t15 & q6 & 0.0769784 & 0.0 & 0.0 & 1.0 & 0 & Float64 \\\\\n",
       "\t16 & recall & 0.108675 & 0.0 & 0.0 & 1.0 & 0 & Float64 \\\\\n",
       "\t17 & agelt35 & 0.543089 & 0.0 & 1.0 & 1.0 & 0 & Float64 \\\\\n",
       "\t18 & agegt54 & 0.106735 & 0.0 & 0.0 & 1.0 & 0 & Float64 \\\\\n",
       "\t19 & durable & 0.148638 & 0.0 & 0.0 & 1.0 & 0 & Float64 \\\\\n",
       "\t20 & nondurable & 0.10961 & 0.0 & 0.0 & 1.0 & 0 & Float64 \\\\\n",
       "\t21 & lusd & 0.265435 & 0.0 & 0.0 & 1.0 & 0 & Float64 \\\\\n",
       "\t22 & husd & 0.221807 & 0.0 & 0.0 & 1.0 & 0 & Float64 \\\\\n",
       "\t23 & muld & 0.438008 & 0.0 & 0.0 & 1.0 & 0 & Float64 \\\\\n",
       "\\end{tabular}\n"
      ],
      "text/plain": [
       "\u001b[1m23×7 DataFrame\u001b[0m\n",
       "\u001b[1m Row \u001b[0m│\u001b[1m variable   \u001b[0m\u001b[1m mean           \u001b[0m\u001b[1m min     \u001b[0m\u001b[1m median  \u001b[0m\u001b[1m max     \u001b[0m\u001b[1m nmissing \u001b[0m\u001b[1m eltype\u001b[0m ⋯\n",
       "\u001b[1m     \u001b[0m│\u001b[90m Symbol     \u001b[0m\u001b[90m Float64        \u001b[0m\u001b[90m Float64 \u001b[0m\u001b[90m Float64 \u001b[0m\u001b[90m Float64 \u001b[0m\u001b[90m Int64    \u001b[0m\u001b[90m DataTy\u001b[0m ⋯\n",
       "─────┼──────────────────────────────────────────────────────────────────────────\n",
       "   1 │ abdt        10693.6         10404.0  10691.0  10880.0         0  Float6 ⋯\n",
       "   2 │ tg              2.56889         0.0      2.0      6.0         0  Float6\n",
       "   3 │ inuidur1       12.9148          1.0     10.0     52.0         0  Float6\n",
       "   4 │ inuidur2       12.1938          0.0      9.0     52.0         0  Float6\n",
       "   5 │ female          0.402142        0.0      0.0      1.0         0  Float6 ⋯\n",
       "   6 │ black           0.116653        0.0      0.0      1.0         0  Float6\n",
       "   7 │ hispanic        0.0363689       0.0      0.0      1.0         0  Float6\n",
       "   8 │ othrace         0.00575002      0.0      0.0      1.0         0  Float6\n",
       "   9 │ dep             0.444045        0.0      0.0      2.0         0  Float6 ⋯\n",
       "  10 │ q1              0.0136563       0.0      0.0      1.0         0  Float6\n",
       "  11 │ q2              0.206498        0.0      0.0      1.0         0  Float6\n",
       "  ⋮  │     ⋮             ⋮            ⋮        ⋮        ⋮        ⋮         ⋮   ⋱\n",
       "  14 │ q5              0.232948        0.0      0.0      1.0         0  Float6\n",
       "  15 │ q6              0.0769784       0.0      0.0      1.0         0  Float6 ⋯\n",
       "  16 │ recall          0.108675        0.0      0.0      1.0         0  Float6\n",
       "  17 │ agelt35         0.543089        0.0      1.0      1.0         0  Float6\n",
       "  18 │ agegt54         0.106735        0.0      0.0      1.0         0  Float6\n",
       "  19 │ durable         0.148638        0.0      0.0      1.0         0  Float6 ⋯\n",
       "  20 │ nondurable      0.10961         0.0      0.0      1.0         0  Float6\n",
       "  21 │ lusd            0.265435        0.0      0.0      1.0         0  Float6\n",
       "  22 │ husd            0.221807        0.0      0.0      1.0         0  Float6\n",
       "  23 │ muld            0.438008        0.0      0.0      1.0         0  Float6 ⋯\n",
       "\u001b[36m                                                     1 column and 2 rows omitted\u001b[0m"
      ]
     },
     "execution_count": 6,
     "metadata": {},
     "output_type": "execute_result"
    }
   ],
   "source": [
    "mat, head = readdlm(\"../data/penn_jae.dat\", header=true, Float64)\n",
    "mat\n",
    "df =DataFrame(mat, vec(head))\n",
    "describe(df)"
   ]
  },
  {
   "cell_type": "code",
   "execution_count": 7,
   "metadata": {},
   "outputs": [
    {
     "name": "stdout",
     "output_type": "stream",
     "text": [
      "Number of rows 13913\n",
      "Number of columns 23\n"
     ]
    }
   ],
   "source": [
    "println(\"Number of rows \", size(df,1))\n",
    "println(\"Number of columns \", size(df,2))"
   ]
  },
  {
   "cell_type": "code",
   "execution_count": 8,
   "metadata": {},
   "outputs": [
    {
     "data": {
      "text/html": [
       "<table class=\"data-frame\"><thead><tr><th></th><th>abdt</th><th>tg</th><th>inuidur1</th><th>inuidur2</th><th>female</th><th>black</th><th>hispanic</th><th>othrace</th><th>dep</th></tr><tr><th></th><th>Float64</th><th>Float64</th><th>Float64</th><th>Float64</th><th>Float64</th><th>Float64</th><th>Float64</th><th>Float64</th><th>Float64</th></tr></thead><tbody><p>20 rows × 23 columns (omitted printing of 14 columns)</p><tr><th>1</th><td>10824.0</td><td>0.0</td><td>18.0</td><td>18.0</td><td>0.0</td><td>0.0</td><td>0.0</td><td>0.0</td><td>2.0</td></tr><tr><th>2</th><td>10824.0</td><td>0.0</td><td>1.0</td><td>1.0</td><td>0.0</td><td>0.0</td><td>0.0</td><td>0.0</td><td>0.0</td></tr><tr><th>3</th><td>10747.0</td><td>0.0</td><td>27.0</td><td>27.0</td><td>0.0</td><td>0.0</td><td>0.0</td><td>0.0</td><td>0.0</td></tr><tr><th>4</th><td>10607.0</td><td>4.0</td><td>9.0</td><td>9.0</td><td>0.0</td><td>0.0</td><td>0.0</td><td>0.0</td><td>0.0</td></tr><tr><th>5</th><td>10831.0</td><td>0.0</td><td>27.0</td><td>27.0</td><td>0.0</td><td>0.0</td><td>0.0</td><td>0.0</td><td>1.0</td></tr><tr><th>6</th><td>10845.0</td><td>0.0</td><td>27.0</td><td>27.0</td><td>1.0</td><td>0.0</td><td>0.0</td><td>0.0</td><td>0.0</td></tr><tr><th>7</th><td>10831.0</td><td>0.0</td><td>9.0</td><td>9.0</td><td>1.0</td><td>0.0</td><td>0.0</td><td>0.0</td><td>1.0</td></tr><tr><th>8</th><td>10859.0</td><td>0.0</td><td>27.0</td><td>27.0</td><td>1.0</td><td>0.0</td><td>0.0</td><td>0.0</td><td>1.0</td></tr><tr><th>9</th><td>10516.0</td><td>0.0</td><td>15.0</td><td>15.0</td><td>1.0</td><td>0.0</td><td>0.0</td><td>0.0</td><td>0.0</td></tr><tr><th>10</th><td>10663.0</td><td>0.0</td><td>28.0</td><td>11.0</td><td>1.0</td><td>0.0</td><td>0.0</td><td>0.0</td><td>0.0</td></tr><tr><th>11</th><td>10747.0</td><td>0.0</td><td>12.0</td><td>12.0</td><td>1.0</td><td>0.0</td><td>0.0</td><td>0.0</td><td>2.0</td></tr><tr><th>12</th><td>10551.0</td><td>4.0</td><td>22.0</td><td>22.0</td><td>1.0</td><td>0.0</td><td>1.0</td><td>0.0</td><td>2.0</td></tr><tr><th>13</th><td>10768.0</td><td>0.0</td><td>18.0</td><td>18.0</td><td>1.0</td><td>0.0</td><td>0.0</td><td>0.0</td><td>0.0</td></tr><tr><th>14</th><td>10537.0</td><td>0.0</td><td>1.0</td><td>1.0</td><td>1.0</td><td>0.0</td><td>0.0</td><td>0.0</td><td>2.0</td></tr><tr><th>15</th><td>10600.0</td><td>4.0</td><td>7.0</td><td>7.0</td><td>1.0</td><td>0.0</td><td>0.0</td><td>0.0</td><td>0.0</td></tr><tr><th>16</th><td>10866.0</td><td>0.0</td><td>18.0</td><td>18.0</td><td>0.0</td><td>0.0</td><td>0.0</td><td>0.0</td><td>0.0</td></tr><tr><th>17</th><td>10572.0</td><td>0.0</td><td>14.0</td><td>14.0</td><td>0.0</td><td>0.0</td><td>0.0</td><td>0.0</td><td>2.0</td></tr><tr><th>18</th><td>10663.0</td><td>0.0</td><td>5.0</td><td>5.0</td><td>0.0</td><td>0.0</td><td>0.0</td><td>0.0</td><td>0.0</td></tr><tr><th>19</th><td>10789.0</td><td>0.0</td><td>9.0</td><td>9.0</td><td>0.0</td><td>0.0</td><td>0.0</td><td>0.0</td><td>0.0</td></tr><tr><th>20</th><td>10768.0</td><td>0.0</td><td>3.0</td><td>3.0</td><td>0.0</td><td>1.0</td><td>0.0</td><td>0.0</td><td>0.0</td></tr></tbody></table>"
      ],
      "text/latex": [
       "\\begin{tabular}{r|cccccccccc}\n",
       "\t& abdt & tg & inuidur1 & inuidur2 & female & black & hispanic & othrace & dep & \\\\\n",
       "\t\\hline\n",
       "\t& Float64 & Float64 & Float64 & Float64 & Float64 & Float64 & Float64 & Float64 & Float64 & \\\\\n",
       "\t\\hline\n",
       "\t1 & 10824.0 & 0.0 & 18.0 & 18.0 & 0.0 & 0.0 & 0.0 & 0.0 & 2.0 & $\\dots$ \\\\\n",
       "\t2 & 10824.0 & 0.0 & 1.0 & 1.0 & 0.0 & 0.0 & 0.0 & 0.0 & 0.0 & $\\dots$ \\\\\n",
       "\t3 & 10747.0 & 0.0 & 27.0 & 27.0 & 0.0 & 0.0 & 0.0 & 0.0 & 0.0 & $\\dots$ \\\\\n",
       "\t4 & 10607.0 & 4.0 & 9.0 & 9.0 & 0.0 & 0.0 & 0.0 & 0.0 & 0.0 & $\\dots$ \\\\\n",
       "\t5 & 10831.0 & 0.0 & 27.0 & 27.0 & 0.0 & 0.0 & 0.0 & 0.0 & 1.0 & $\\dots$ \\\\\n",
       "\t6 & 10845.0 & 0.0 & 27.0 & 27.0 & 1.0 & 0.0 & 0.0 & 0.0 & 0.0 & $\\dots$ \\\\\n",
       "\t7 & 10831.0 & 0.0 & 9.0 & 9.0 & 1.0 & 0.0 & 0.0 & 0.0 & 1.0 & $\\dots$ \\\\\n",
       "\t8 & 10859.0 & 0.0 & 27.0 & 27.0 & 1.0 & 0.0 & 0.0 & 0.0 & 1.0 & $\\dots$ \\\\\n",
       "\t9 & 10516.0 & 0.0 & 15.0 & 15.0 & 1.0 & 0.0 & 0.0 & 0.0 & 0.0 & $\\dots$ \\\\\n",
       "\t10 & 10663.0 & 0.0 & 28.0 & 11.0 & 1.0 & 0.0 & 0.0 & 0.0 & 0.0 & $\\dots$ \\\\\n",
       "\t11 & 10747.0 & 0.0 & 12.0 & 12.0 & 1.0 & 0.0 & 0.0 & 0.0 & 2.0 & $\\dots$ \\\\\n",
       "\t12 & 10551.0 & 4.0 & 22.0 & 22.0 & 1.0 & 0.0 & 1.0 & 0.0 & 2.0 & $\\dots$ \\\\\n",
       "\t13 & 10768.0 & 0.0 & 18.0 & 18.0 & 1.0 & 0.0 & 0.0 & 0.0 & 0.0 & $\\dots$ \\\\\n",
       "\t14 & 10537.0 & 0.0 & 1.0 & 1.0 & 1.0 & 0.0 & 0.0 & 0.0 & 2.0 & $\\dots$ \\\\\n",
       "\t15 & 10600.0 & 4.0 & 7.0 & 7.0 & 1.0 & 0.0 & 0.0 & 0.0 & 0.0 & $\\dots$ \\\\\n",
       "\t16 & 10866.0 & 0.0 & 18.0 & 18.0 & 0.0 & 0.0 & 0.0 & 0.0 & 0.0 & $\\dots$ \\\\\n",
       "\t17 & 10572.0 & 0.0 & 14.0 & 14.0 & 0.0 & 0.0 & 0.0 & 0.0 & 2.0 & $\\dots$ \\\\\n",
       "\t18 & 10663.0 & 0.0 & 5.0 & 5.0 & 0.0 & 0.0 & 0.0 & 0.0 & 0.0 & $\\dots$ \\\\\n",
       "\t19 & 10789.0 & 0.0 & 9.0 & 9.0 & 0.0 & 0.0 & 0.0 & 0.0 & 0.0 & $\\dots$ \\\\\n",
       "\t20 & 10768.0 & 0.0 & 3.0 & 3.0 & 0.0 & 1.0 & 0.0 & 0.0 & 0.0 & $\\dots$ \\\\\n",
       "\\end{tabular}\n"
      ],
      "text/plain": [
       "\u001b[1m20×23 DataFrame\u001b[0m\n",
       "\u001b[1m Row \u001b[0m│\u001b[1m abdt    \u001b[0m\u001b[1m tg      \u001b[0m\u001b[1m inuidur1 \u001b[0m\u001b[1m inuidur2 \u001b[0m\u001b[1m female  \u001b[0m\u001b[1m black   \u001b[0m\u001b[1m hispanic \u001b[0m\u001b[1m othra\u001b[0m ⋯\n",
       "\u001b[1m     \u001b[0m│\u001b[90m Float64 \u001b[0m\u001b[90m Float64 \u001b[0m\u001b[90m Float64  \u001b[0m\u001b[90m Float64  \u001b[0m\u001b[90m Float64 \u001b[0m\u001b[90m Float64 \u001b[0m\u001b[90m Float64  \u001b[0m\u001b[90m Float\u001b[0m ⋯\n",
       "─────┼──────────────────────────────────────────────────────────────────────────\n",
       "   1 │ 10824.0      0.0      18.0      18.0      0.0      0.0       0.0      0 ⋯\n",
       "   2 │ 10824.0      0.0       1.0       1.0      0.0      0.0       0.0      0\n",
       "   3 │ 10747.0      0.0      27.0      27.0      0.0      0.0       0.0      0\n",
       "   4 │ 10607.0      4.0       9.0       9.0      0.0      0.0       0.0      0\n",
       "   5 │ 10831.0      0.0      27.0      27.0      0.0      0.0       0.0      0 ⋯\n",
       "   6 │ 10845.0      0.0      27.0      27.0      1.0      0.0       0.0      0\n",
       "   7 │ 10831.0      0.0       9.0       9.0      1.0      0.0       0.0      0\n",
       "   8 │ 10859.0      0.0      27.0      27.0      1.0      0.0       0.0      0\n",
       "   9 │ 10516.0      0.0      15.0      15.0      1.0      0.0       0.0      0 ⋯\n",
       "  10 │ 10663.0      0.0      28.0      11.0      1.0      0.0       0.0      0\n",
       "  11 │ 10747.0      0.0      12.0      12.0      1.0      0.0       0.0      0\n",
       "  12 │ 10551.0      4.0      22.0      22.0      1.0      0.0       1.0      0\n",
       "  13 │ 10768.0      0.0      18.0      18.0      1.0      0.0       0.0      0 ⋯\n",
       "  14 │ 10537.0      0.0       1.0       1.0      1.0      0.0       0.0      0\n",
       "  15 │ 10600.0      4.0       7.0       7.0      1.0      0.0       0.0      0\n",
       "  16 │ 10866.0      0.0      18.0      18.0      0.0      0.0       0.0      0\n",
       "  17 │ 10572.0      0.0      14.0      14.0      0.0      0.0       0.0      0 ⋯\n",
       "  18 │ 10663.0      0.0       5.0       5.0      0.0      0.0       0.0      0\n",
       "  19 │ 10789.0      0.0       9.0       9.0      0.0      0.0       0.0      0\n",
       "  20 │ 10768.0      0.0       3.0       3.0      0.0      1.0       0.0      0\n",
       "\u001b[36m                                                              16 columns omitted\u001b[0m"
      ]
     },
     "execution_count": 8,
     "metadata": {},
     "output_type": "execute_result"
    }
   ],
   "source": [
    "# Filter control group and just treatment group number 4\n",
    "\n",
    "penn = filter(row -> row[:tg] in [4,0], df)\n",
    "\n",
    "first(penn,20)"
   ]
  },
  {
   "cell_type": "code",
   "execution_count": 9,
   "metadata": {},
   "outputs": [
    {
     "data": {
      "text/html": [
       "<table class=\"data-frame\"><thead><tr><th></th><th>variable</th><th>mean</th><th>min</th><th>median</th><th>max</th><th>nmissing</th><th>eltype</th></tr><tr><th></th><th>Symbol</th><th>Union…</th><th>Any</th><th>Union…</th><th>Any</th><th>Int64</th><th>DataType</th></tr></thead><tbody><p>23 rows × 7 columns</p><tr><th>1</th><td>abdt</td><td>10695.4</td><td>10404.0</td><td>10698.0</td><td>10880.0</td><td>0</td><td>Float64</td></tr><tr><th>2</th><td>T4</td><td>0.342224</td><td>0.0</td><td>0.0</td><td>1.0</td><td>0</td><td>Float64</td></tr><tr><th>3</th><td>inuidur1</td><td>13.053</td><td>1.0</td><td>11.0</td><td>52.0</td><td>0</td><td>Float64</td></tr><tr><th>4</th><td>inuidur2</td><td>12.2812</td><td>0.0</td><td>10.0</td><td>52.0</td><td>0</td><td>Float64</td></tr><tr><th>5</th><td>female</td><td>0.404001</td><td>0.0</td><td>0.0</td><td>1.0</td><td>0</td><td>Float64</td></tr><tr><th>6</th><td>black</td><td>0.121985</td><td>0.0</td><td>0.0</td><td>1.0</td><td>0</td><td>Float64</td></tr><tr><th>7</th><td>hispanic</td><td>0.0325554</td><td>0.0</td><td>0.0</td><td>1.0</td><td>0</td><td>Float64</td></tr><tr><th>8</th><td>othrace</td><td>0.00725632</td><td>0.0</td><td>0.0</td><td>1.0</td><td>0</td><td>Float64</td></tr><tr><th>9</th><td>dep</td><td></td><td>0.0</td><td></td><td>2.0</td><td>0</td><td>CategoricalValue{String, UInt32}</td></tr><tr><th>10</th><td>q1</td><td>0.0127476</td><td>0.0</td><td>0.0</td><td>1.0</td><td>0</td><td>Float64</td></tr><tr><th>11</th><td>q2</td><td>0.203765</td><td>0.0</td><td>0.0</td><td>1.0</td><td>0</td><td>Float64</td></tr><tr><th>12</th><td>q3</td><td>0.235536</td><td>0.0</td><td>0.0</td><td>1.0</td><td>0</td><td>Float64</td></tr><tr><th>13</th><td>q4</td><td>0.225927</td><td>0.0</td><td>0.0</td><td>1.0</td><td>0</td><td>Float64</td></tr><tr><th>14</th><td>q5</td><td>0.25907</td><td>0.0</td><td>0.0</td><td>1.0</td><td>0</td><td>Float64</td></tr><tr><th>15</th><td>q6</td><td>0.0629535</td><td>0.0</td><td>0.0</td><td>1.0</td><td>0</td><td>Float64</td></tr><tr><th>16</th><td>recall</td><td>0.110414</td><td>0.0</td><td>0.0</td><td>1.0</td><td>0</td><td>Float64</td></tr><tr><th>17</th><td>agelt35</td><td>0.545009</td><td>0.0</td><td>1.0</td><td>1.0</td><td>0</td><td>Float64</td></tr><tr><th>18</th><td>agegt54</td><td>0.109433</td><td>0.0</td><td>0.0</td><td>1.0</td><td>0</td><td>Float64</td></tr><tr><th>19</th><td>durable</td><td>0.148068</td><td>0.0</td><td>0.0</td><td>1.0</td><td>0</td><td>Float64</td></tr><tr><th>20</th><td>nondurable</td><td>0.109237</td><td>0.0</td><td>0.0</td><td>1.0</td><td>0</td><td>Float64</td></tr><tr><th>21</th><td>lusd</td><td>0.261032</td><td>0.0</td><td>0.0</td><td>1.0</td><td>0</td><td>Float64</td></tr><tr><th>22</th><td>husd</td><td>0.21867</td><td>0.0</td><td>0.0</td><td>1.0</td><td>0</td><td>Float64</td></tr><tr><th>23</th><td>muld</td><td>0.444205</td><td>0.0</td><td>0.0</td><td>1.0</td><td>0</td><td>Float64</td></tr></tbody></table>"
      ],
      "text/latex": [
       "\\begin{tabular}{r|ccccccc}\n",
       "\t& variable & mean & min & median & max & nmissing & eltype\\\\\n",
       "\t\\hline\n",
       "\t& Symbol & Union… & Any & Union… & Any & Int64 & DataType\\\\\n",
       "\t\\hline\n",
       "\t1 & abdt & 10695.4 & 10404.0 & 10698.0 & 10880.0 & 0 & Float64 \\\\\n",
       "\t2 & T4 & 0.342224 & 0.0 & 0.0 & 1.0 & 0 & Float64 \\\\\n",
       "\t3 & inuidur1 & 13.053 & 1.0 & 11.0 & 52.0 & 0 & Float64 \\\\\n",
       "\t4 & inuidur2 & 12.2812 & 0.0 & 10.0 & 52.0 & 0 & Float64 \\\\\n",
       "\t5 & female & 0.404001 & 0.0 & 0.0 & 1.0 & 0 & Float64 \\\\\n",
       "\t6 & black & 0.121985 & 0.0 & 0.0 & 1.0 & 0 & Float64 \\\\\n",
       "\t7 & hispanic & 0.0325554 & 0.0 & 0.0 & 1.0 & 0 & Float64 \\\\\n",
       "\t8 & othrace & 0.00725632 & 0.0 & 0.0 & 1.0 & 0 & Float64 \\\\\n",
       "\t9 & dep &  & 0.0 &  & 2.0 & 0 & CategoricalValue\\{String, UInt32\\} \\\\\n",
       "\t10 & q1 & 0.0127476 & 0.0 & 0.0 & 1.0 & 0 & Float64 \\\\\n",
       "\t11 & q2 & 0.203765 & 0.0 & 0.0 & 1.0 & 0 & Float64 \\\\\n",
       "\t12 & q3 & 0.235536 & 0.0 & 0.0 & 1.0 & 0 & Float64 \\\\\n",
       "\t13 & q4 & 0.225927 & 0.0 & 0.0 & 1.0 & 0 & Float64 \\\\\n",
       "\t14 & q5 & 0.25907 & 0.0 & 0.0 & 1.0 & 0 & Float64 \\\\\n",
       "\t15 & q6 & 0.0629535 & 0.0 & 0.0 & 1.0 & 0 & Float64 \\\\\n",
       "\t16 & recall & 0.110414 & 0.0 & 0.0 & 1.0 & 0 & Float64 \\\\\n",
       "\t17 & agelt35 & 0.545009 & 0.0 & 1.0 & 1.0 & 0 & Float64 \\\\\n",
       "\t18 & agegt54 & 0.109433 & 0.0 & 0.0 & 1.0 & 0 & Float64 \\\\\n",
       "\t19 & durable & 0.148068 & 0.0 & 0.0 & 1.0 & 0 & Float64 \\\\\n",
       "\t20 & nondurable & 0.109237 & 0.0 & 0.0 & 1.0 & 0 & Float64 \\\\\n",
       "\t21 & lusd & 0.261032 & 0.0 & 0.0 & 1.0 & 0 & Float64 \\\\\n",
       "\t22 & husd & 0.21867 & 0.0 & 0.0 & 1.0 & 0 & Float64 \\\\\n",
       "\t23 & muld & 0.444205 & 0.0 & 0.0 & 1.0 & 0 & Float64 \\\\\n",
       "\\end{tabular}\n"
      ],
      "text/plain": [
       "\u001b[1m23×7 DataFrame\u001b[0m\n",
       "\u001b[1m Row \u001b[0m│\u001b[1m variable   \u001b[0m\u001b[1m mean       \u001b[0m\u001b[1m min     \u001b[0m\u001b[1m median  \u001b[0m\u001b[1m max     \u001b[0m\u001b[1m nmissing \u001b[0m\u001b[1m eltype    \u001b[0m ⋯\n",
       "\u001b[1m     \u001b[0m│\u001b[90m Symbol     \u001b[0m\u001b[90m Union…     \u001b[0m\u001b[90m Any     \u001b[0m\u001b[90m Union…  \u001b[0m\u001b[90m Any     \u001b[0m\u001b[90m Int64    \u001b[0m\u001b[90m DataType  \u001b[0m ⋯\n",
       "─────┼──────────────────────────────────────────────────────────────────────────\n",
       "   1 │ abdt        10695.4     10404.0  10698.0  10880.0         0  Float64    ⋯\n",
       "   2 │ T4          0.342224    0.0      0.0      1.0             0  Float64\n",
       "   3 │ inuidur1    13.053      1.0      11.0     52.0            0  Float64\n",
       "   4 │ inuidur2    12.2812     0.0      10.0     52.0            0  Float64\n",
       "   5 │ female      0.404001    0.0      0.0      1.0             0  Float64    ⋯\n",
       "   6 │ black       0.121985    0.0      0.0      1.0             0  Float64\n",
       "   7 │ hispanic    0.0325554   0.0      0.0      1.0             0  Float64\n",
       "   8 │ othrace     0.00725632  0.0      0.0      1.0             0  Float64\n",
       "   9 │ dep        \u001b[90m            \u001b[0m 0.0     \u001b[90m         \u001b[0m 2.0             0  Categorica ⋯\n",
       "  10 │ q1          0.0127476   0.0      0.0      1.0             0  Float64\n",
       "  11 │ q2          0.203765    0.0      0.0      1.0             0  Float64\n",
       "  ⋮  │     ⋮           ⋮          ⋮        ⋮        ⋮        ⋮                 ⋱\n",
       "  14 │ q5          0.25907     0.0      0.0      1.0             0  Float64\n",
       "  15 │ q6          0.0629535   0.0      0.0      1.0             0  Float64    ⋯\n",
       "  16 │ recall      0.110414    0.0      0.0      1.0             0  Float64\n",
       "  17 │ agelt35     0.545009    0.0      1.0      1.0             0  Float64\n",
       "  18 │ agegt54     0.109433    0.0      0.0      1.0             0  Float64\n",
       "  19 │ durable     0.148068    0.0      0.0      1.0             0  Float64    ⋯\n",
       "  20 │ nondurable  0.109237    0.0      0.0      1.0             0  Float64\n",
       "  21 │ lusd        0.261032    0.0      0.0      1.0             0  Float64\n",
       "  22 │ husd        0.21867     0.0      0.0      1.0             0  Float64\n",
       "  23 │ muld        0.444205    0.0      0.0      1.0             0  Float64    ⋯\n",
       "\u001b[36m                                                     1 column and 2 rows omitted\u001b[0m"
      ]
     },
     "execution_count": 9,
     "metadata": {},
     "output_type": "execute_result"
    }
   ],
   "source": [
    "# Treatment group n°4\n",
    "replace!(penn.tg, 4 => 1)\n",
    "rename!(penn, \"tg\" => \"T4\")\n",
    "\n",
    "\n",
    "# from float to string\n",
    "penn[!,:dep] = string.(penn[!,:dep]) \n",
    "\n",
    "# dep varaible in categorical format \n",
    "penn[!,:dep] = categorical(penn[!,:dep])\n",
    "\n",
    "describe(penn)"
   ]
  },
  {
   "cell_type": "markdown",
   "metadata": {},
   "source": [
    "### Regressions"
   ]
  },
  {
   "cell_type": "markdown",
   "metadata": {},
   "source": [
    "#### Formula"
   ]
  },
  {
   "cell_type": "markdown",
   "metadata": {},
   "source": [
    "For more information [here](https://juliastats.org/StatsModels.jl/stable/internals/)"
   ]
  },
  {
   "cell_type": "code",
   "execution_count": 12,
   "metadata": {},
   "outputs": [
    {
     "data": {
      "text/plain": [
       "FormulaTerm{Term, Term}"
      ]
     },
     "execution_count": 12,
     "metadata": {},
     "output_type": "execute_result"
    }
   ],
   "source": [
    "#to do a formula we have to use some special type of code\n",
    "formula1 = @formula(T4~ female )\n",
    "typeof(formula1) #this has an special type "
   ]
  },
  {
   "cell_type": "code",
   "execution_count": 13,
   "metadata": {},
   "outputs": [
    {
     "data": {
      "text/plain": [
       "FormulaTerm\n",
       "Response:\n",
       "  T4(unknown)\n",
       "Predictors:\n",
       "  female(unknown)\n",
       "  black(unknown)"
      ]
     },
     "execution_count": 13,
     "metadata": {},
     "output_type": "execute_result"
    }
   ],
   "source": [
    "# We can use multiple independent variables b simply separating them with the plus symbol(+)\n",
    "formula2 = @formula(T4 ~ female + black )"
   ]
  },
  {
   "cell_type": "code",
   "execution_count": 14,
   "metadata": {},
   "outputs": [
    {
     "data": {
      "text/plain": [
       "FormulaTerm\n",
       "Response:\n",
       "  T4(unknown)\n",
       "Predictors:\n",
       "  female(unknown)\n",
       "  black(unknown)\n",
       "  dep(unknown)\n",
       "  female(unknown) & black(unknown)"
      ]
     },
     "execution_count": 14,
     "metadata": {},
     "output_type": "execute_result"
    }
   ],
   "source": [
    "formula3  = @formula(T4 ~  female * black + dep )"
   ]
  },
  {
   "cell_type": "markdown",
   "metadata": {},
   "source": [
    "its diferent that we use the symbbol **&** in the formula"
   ]
  },
  {
   "cell_type": "code",
   "execution_count": 15,
   "metadata": {},
   "outputs": [
    {
     "data": {
      "text/plain": [
       "FormulaTerm\n",
       "Response:\n",
       "  T4(unknown)\n",
       "Predictors:\n",
       "  dep(unknown)\n",
       "  female(unknown) & black(unknown)"
      ]
     },
     "execution_count": 15,
     "metadata": {},
     "output_type": "execute_result"
    }
   ],
   "source": [
    "formula4  = @formula(T4 ~  female & black + dep )"
   ]
  },
  {
   "cell_type": "markdown",
   "metadata": {},
   "source": [
    "its important to identify the proper use"
   ]
  },
  {
   "cell_type": "markdown",
   "metadata": {},
   "source": [
    "---"
   ]
  },
  {
   "cell_type": "markdown",
   "metadata": {},
   "source": [
    "#### Regressions Objects"
   ]
  },
  {
   "cell_type": "markdown",
   "metadata": {},
   "source": [
    "To perform regressions we use the package GLM\n",
    "For extra information please, clic [here](https://juliastats.org/GLM.jl/v0.11/)"
   ]
  },
  {
   "cell_type": "code",
   "execution_count": 18,
   "metadata": {},
   "outputs": [
    {
     "name": "stderr",
     "output_type": "stream",
     "text": [
      "\u001b[32m\u001b[1m    Updating\u001b[22m\u001b[39m registry at `C:\\Users\\PC\\.julia\\registries\\General`\n",
      "\u001b[32m\u001b[1m    Updating\u001b[22m\u001b[39m git-repo `https://github.com/JuliaRegistries/General.git`\n",
      "\u001b[32m\u001b[1m   Resolving\u001b[22m\u001b[39m package versions...\n",
      "\u001b[32m\u001b[1m  No Changes\u001b[22m\u001b[39m to `C:\\Users\\PC\\.julia\\environments\\v1.6\\Project.toml`\n",
      "\u001b[32m\u001b[1m  No Changes\u001b[22m\u001b[39m to `C:\\Users\\PC\\.julia\\environments\\v1.6\\Manifest.toml`\n"
     ]
    }
   ],
   "source": [
    "Pkg.add(\"GLM\")\n",
    "using GLM"
   ]
  },
  {
   "cell_type": "code",
   "execution_count": 19,
   "metadata": {},
   "outputs": [
    {
     "data": {
      "text/plain": [
       "StatsModels.TableRegressionModel{LinearModel{GLM.LmResp{Vector{Float64}}, GLM.DensePredChol{Float64, LinearAlgebra.CholeskyPivoted{Float64, Matrix{Float64}}}}, Matrix{Float64}}\n",
       "\n",
       "T4 ~ 1 + female\n",
       "\n",
       "Coefficients:\n",
       "───────────────────────────────────────────────────────────────────────────\n",
       "                  Coef.  Std. Error      t  Pr(>|t|)   Lower 95%  Upper 95%\n",
       "───────────────────────────────────────────────────────────────────────────\n",
       "(Intercept)   0.343534   0.00860819  39.91    <1e-99   0.326658   0.36041\n",
       "female       -0.0032428  0.0135432   -0.24    0.8108  -0.0297932  0.0233076\n",
       "───────────────────────────────────────────────────────────────────────────"
      ]
     },
     "execution_count": 19,
     "metadata": {},
     "output_type": "execute_result"
    }
   ],
   "source": [
    "reg1 = lm(@formula(T4~ female ), penn) #we need the formula and the nameof the database to perform the regession"
   ]
  },
  {
   "cell_type": "code",
   "execution_count": 20,
   "metadata": {},
   "outputs": [
    {
     "data": {
      "text/plain": [
       "StatsModels.TableRegressionModel{LinearModel{GLM.LmResp{Vector{Float64}}, GLM.DensePredChol{Float64, LinearAlgebra.CholeskyPivoted{Float64, Matrix{Float64}}}}, Matrix{Float64}}\n",
       "\n",
       "T4 ~ 1 + female + black + dep + female & black\n",
       "\n",
       "Coefficients:\n",
       "───────────────────────────────────────────────────────────────────────────────\n",
       "                      Coef.  Std. Error      t  Pr(>|t|)   Lower 95%  Upper 95%\n",
       "───────────────────────────────────────────────────────────────────────────────\n",
       "(Intercept)      0.346032     0.0102656  33.71    <1e-99   0.325907   0.366157\n",
       "female          -0.0104088    0.0145404  -0.72    0.4741  -0.0389143  0.0180967\n",
       "black           -0.0210799    0.0268292  -0.79    0.4321  -0.0736766  0.0315168\n",
       "dep: 1.0        -0.00445076   0.021378   -0.21    0.8351  -0.0463608  0.0374592\n",
       "dep: 2.0         0.00231298   0.0182948   0.13    0.8994  -0.0335526  0.0381786\n",
       "female & black   0.0594389    0.0412728   1.44    0.1499  -0.0214735  0.140351\n",
       "───────────────────────────────────────────────────────────────────────────────"
      ]
     },
     "execution_count": 20,
     "metadata": {},
     "output_type": "execute_result"
    }
   ],
   "source": [
    "#also we can create first a formula and then put inside lm(Linear model)\n",
    "formula3  = @formula(T4 ~  female * black + dep )\n",
    "reg2 = lm(formula3, penn)"
   ]
  },
  {
   "cell_type": "code",
   "execution_count": 23,
   "metadata": {},
   "outputs": [
    {
     "data": {
      "text/plain": [
       "StatsModels.TableRegressionModel{LinearModel{GLM.LmResp{Vector{Float64}}, GLM.DensePredChol{Float64, LinearAlgebra.CholeskyPivoted{Float64, Matrix{Float64}}}}, Matrix{Float64}}"
      ]
     },
     "execution_count": 23,
     "metadata": {},
     "output_type": "execute_result"
    }
   ],
   "source": [
    "#the regression also has an special type of\n",
    "typeof(reg1)"
   ]
  },
  {
   "cell_type": "markdown",
   "metadata": {},
   "source": [
    "This is an LinearModel object. This object has methods that can help to analize more and extract specific info from the regression. We can see all the methods with **methodswith()**"
   ]
  },
  {
   "cell_type": "code",
   "execution_count": 24,
   "metadata": {},
   "outputs": [
    {
     "data": {
      "text/html": [
       "17-element Vector{Method}:<ul><li> cholesky(x::<b>LinearModel</b>) in GLM at <a href=\"file://C:/Users/PC/.julia/packages/GLM/gt3bb/src/lm.jl\" target=\"_blank\">C:\\Users\\PC\\.julia\\packages\\GLM\\gt3bb\\src\\lm.jl:117</a><li> adjr2(obj::<b>LinearModel</b>) in GLM at <a href=\"file://C:/Users/PC/.julia/packages/GLM/gt3bb/src/lm.jl\" target=\"_blank\">C:\\Users\\PC\\.julia\\packages\\GLM\\gt3bb\\src\\lm.jl:209</a><li> coeftable(mm::<b>LinearModel</b>; <i>level</i>) in GLM at <a href=\"file://C:/Users/PC/.julia/packages/GLM/gt3bb/src/lm.jl\" target=\"_blank\">C:\\Users\\PC\\.julia\\packages\\GLM\\gt3bb\\src\\lm.jl:221</a><li> confint(obj::<b>LinearModel</b>; <i>level</i>) in GLM at <a href=\"file://C:/Users/PC/.julia/packages/GLM/gt3bb/src/lm.jl\" target=\"_blank\">C:\\Users\\PC\\.julia\\packages\\GLM\\gt3bb\\src\\lm.jl:280</a><li> confint(obj::<b>LinearModel</b>, level::<b>Real</b>) in GLM at <a href=\"file://C:\\Users\\PC\\AppData\\Local\\Programs\\Julia-1.6.5\\share\\julia\\base\\deprecated.jl\" target=\"_blank\">deprecated.jl:70</a><li> cooksdistance(obj::<b>LinearModel</b>) in GLM at <a href=\"file://C:/Users/PC/.julia/packages/GLM/gt3bb/src/lm.jl\" target=\"_blank\">C:\\Users\\PC\\.julia\\packages\\GLM\\gt3bb\\src\\lm.jl:293</a><li> deviance(obj::<b>LinearModel</b>) in GLM at <a href=\"file://C:/Users/PC/.julia/packages/GLM/gt3bb/src/lm.jl\" target=\"_blank\">C:\\Users\\PC\\.julia\\packages\\GLM\\gt3bb\\src\\lm.jl:196</a><li> dof(x::<b>LinearModel</b>) in GLM at <a href=\"file://C:/Users/PC/.julia/packages/GLM/gt3bb/src/lm.jl\" target=\"_blank\">C:\\Users\\PC\\.julia\\packages\\GLM\\gt3bb\\src\\lm.jl:187</a><li> fit!(obj::<b>LinearModel</b>) in GLM at <a href=\"file://C:/Users/PC/.julia/packages/GLM/gt3bb/src/lm.jl\" target=\"_blank\">C:\\Users\\PC\\.julia\\packages\\GLM\\gt3bb\\src\\lm.jl:119</a><li> ftest(mod::<b>LinearModel</b>) in GLM at <a href=\"file://C:/Users/PC/.julia/packages/GLM/gt3bb/src/ftest.jl\" target=\"_blank\">C:\\Users\\PC\\.julia\\packages\\GLM\\gt3bb\\src\\ftest.jl:58</a><li> loglikelihood(obj::<b>LinearModel</b>) in GLM at <a href=\"file://C:/Users/PC/.julia/packages/GLM/gt3bb/src/lm.jl\" target=\"_blank\">C:\\Users\\PC\\.julia\\packages\\GLM\\gt3bb\\src\\lm.jl:204</a><li> nulldeviance(obj::<b>LinearModel</b>) in GLM at <a href=\"file://C:/Users/PC/.julia/packages/GLM/gt3bb/src/lm.jl\" target=\"_blank\">C:\\Users\\PC\\.julia\\packages\\GLM\\gt3bb\\src\\lm.jl:203</a><li> nullloglikelihood(obj::<b>LinearModel</b>) in GLM at <a href=\"file://C:/Users/PC/.julia/packages/GLM/gt3bb/src/lm.jl\" target=\"_blank\">C:\\Users\\PC\\.julia\\packages\\GLM\\gt3bb\\src\\lm.jl:205</a><li> predict(mm::<b>LinearModel</b>, newx::<b>AbstractMatrix{T} where T</b>; <i>interval, level</i>) in GLM at <a href=\"file://C:/Users/PC/.julia/packages/GLM/gt3bb/src/lm.jl\" target=\"_blank\">C:\\Users\\PC\\.julia\\packages\\GLM\\gt3bb\\src\\lm.jl:244</a><li> predict(mm::<b>LinearModel</b>, newx::<b>AbstractMatrix{T} where T</b>, interval::<b>Symbol</b>) in GLM at <a href=\"file://C:\\Users\\PC\\AppData\\Local\\Programs\\Julia-1.6.5\\share\\julia\\base\\deprecated.jl\" target=\"_blank\">deprecated.jl:70</a><li> predict(mm::<b>LinearModel</b>, newx::<b>AbstractMatrix{T} where T</b>, interval::<b>Symbol</b>, level::<b>Real</b>) in GLM at <a href=\"file://C:\\Users\\PC\\AppData\\Local\\Programs\\Julia-1.6.5\\share\\julia\\base\\deprecated.jl\" target=\"_blank\">deprecated.jl:70</a><li> r2(obj::<b>LinearModel</b>) in GLM at <a href=\"file://C:/Users/PC/.julia/packages/GLM/gt3bb/src/lm.jl\" target=\"_blank\">C:\\Users\\PC\\.julia\\packages\\GLM\\gt3bb\\src\\lm.jl:207</a></ul>"
      ],
      "text/plain": [
       "[1] cholesky(x::LinearModel) in GLM at C:\\Users\\PC\\.julia\\packages\\GLM\\gt3bb\\src\\lm.jl:117\n",
       "[2] adjr2(obj::LinearModel) in GLM at C:\\Users\\PC\\.julia\\packages\\GLM\\gt3bb\\src\\lm.jl:209\n",
       "[3] coeftable(mm::LinearModel; level) in GLM at C:\\Users\\PC\\.julia\\packages\\GLM\\gt3bb\\src\\lm.jl:221\n",
       "[4] confint(obj::LinearModel; level) in GLM at C:\\Users\\PC\\.julia\\packages\\GLM\\gt3bb\\src\\lm.jl:280\n",
       "[5] confint(obj::LinearModel, level::Real) in GLM at deprecated.jl:70\n",
       "[6] cooksdistance(obj::LinearModel) in GLM at C:\\Users\\PC\\.julia\\packages\\GLM\\gt3bb\\src\\lm.jl:293\n",
       "[7] deviance(obj::LinearModel) in GLM at C:\\Users\\PC\\.julia\\packages\\GLM\\gt3bb\\src\\lm.jl:196\n",
       "[8] dof(x::LinearModel) in GLM at C:\\Users\\PC\\.julia\\packages\\GLM\\gt3bb\\src\\lm.jl:187\n",
       "[9] fit!(obj::LinearModel) in GLM at C:\\Users\\PC\\.julia\\packages\\GLM\\gt3bb\\src\\lm.jl:119\n",
       "[10] ftest(mod::LinearModel) in GLM at C:\\Users\\PC\\.julia\\packages\\GLM\\gt3bb\\src\\ftest.jl:58\n",
       "[11] loglikelihood(obj::LinearModel) in GLM at C:\\Users\\PC\\.julia\\packages\\GLM\\gt3bb\\src\\lm.jl:204\n",
       "[12] nulldeviance(obj::LinearModel) in GLM at C:\\Users\\PC\\.julia\\packages\\GLM\\gt3bb\\src\\lm.jl:203\n",
       "[13] nullloglikelihood(obj::LinearModel) in GLM at C:\\Users\\PC\\.julia\\packages\\GLM\\gt3bb\\src\\lm.jl:205\n",
       "[14] predict(mm::LinearModel, newx::AbstractMatrix{T} where T; interval, level) in GLM at C:\\Users\\PC\\.julia\\packages\\GLM\\gt3bb\\src\\lm.jl:244\n",
       "[15] predict(mm::LinearModel, newx::AbstractMatrix{T} where T, interval::Symbol) in GLM at deprecated.jl:70\n",
       "[16] predict(mm::LinearModel, newx::AbstractMatrix{T} where T, interval::Symbol, level::Real) in GLM at deprecated.jl:70\n",
       "[17] r2(obj::LinearModel) in GLM at C:\\Users\\PC\\.julia\\packages\\GLM\\gt3bb\\src\\lm.jl:207"
      ]
     },
     "execution_count": 24,
     "metadata": {},
     "output_type": "execute_result"
    }
   ],
   "source": [
    "methodswith(LinearModel)"
   ]
  },
  {
   "cell_type": "code",
   "execution_count": 25,
   "metadata": {},
   "outputs": [
    {
     "data": {
      "text/plain": [
       "1.1248081445258684e-5"
      ]
     },
     "execution_count": 25,
     "metadata": {},
     "output_type": "execute_result"
    }
   ],
   "source": [
    "#we can find the r2 from the reg1 very easy with the correct method\n",
    "r2(reg1) #or another way is GLM.r2(reg1) "
   ]
  },
  {
   "cell_type": "markdown",
   "metadata": {},
   "source": [
    "### If conditions"
   ]
  },
  {
   "cell_type": "markdown",
   "metadata": {},
   "source": [
    "The body of the if condition is excuted if the condition is TRUE. The ouput of the test expression should be a boolean variable."
   ]
  },
  {
   "cell_type": "markdown",
   "metadata": {},
   "source": [
    "![if](https://beginnersbook.com/wp-content/uploads/2017/08/if_statement_flow_diagram-1.jpg)\n",
    "\n",
    "The basic structure of an if statement :\n",
    "```\n",
    "if [condition]\n",
    "    code to execute if the condition is true\n",
    "end\n",
    "``` "
   ]
  },
  {
   "cell_type": "markdown",
   "metadata": {},
   "source": [
    "lets see some basic examples"
   ]
  },
  {
   "cell_type": "code",
   "execution_count": 2,
   "metadata": {},
   "outputs": [
    {
     "name": "stdout",
     "output_type": "stream",
     "text": [
      "x es positivo\n"
     ]
    }
   ],
   "source": [
    "#we create a varaible with the value 2\n",
    "x = 2 \n",
    "if x > 0 #if x is positive so we have to print \"x es positivo\"\n",
    "    println(\"x es positivo\")\n",
    "end"
   ]
  },
  {
   "cell_type": "code",
   "execution_count": 4,
   "metadata": {},
   "outputs": [
    {
     "name": "stdout",
     "output_type": "stream",
     "text": [
      "x es negativo\n"
     ]
    }
   ],
   "source": [
    "x = -1 \n",
    "if x > 0 #if x is positive so we have to print \"x es positivo\"\n",
    "    println(\"x es positivo\")\n",
    "else                            #we can add the other case if the condition is false\n",
    "    println(\"x es negativo\")\n",
    "end"
   ]
  },
  {
   "cell_type": "code",
   "execution_count": 5,
   "metadata": {},
   "outputs": [
    {
     "name": "stdout",
     "output_type": "stream",
     "text": [
      "x es mayor que y\n"
     ]
    }
   ],
   "source": [
    "#also we can create more conditions and \n",
    "x = 5\n",
    "y = 4\n",
    "if x < y\n",
    "    println(\"x es menor que y\")\n",
    "elseif x > y\n",
    "    println(\"x es mayor que y\")\n",
    "else\n",
    "    println(\"x e y son iguales\")\n",
    "end"
   ]
  },
  {
   "cell_type": "markdown",
   "metadata": {},
   "source": [
    "### Loops"
   ]
  },
  {
   "cell_type": "markdown",
   "metadata": {},
   "source": [
    "A for loop is used for iterating over a sequence. It has the following structure:\n",
    "\n",
    "![loop](https://beginnersbook.com/wp-content/uploads/2015/03/for_loop_Java.jpg)\n",
    "\n",
    "\n",
    "#### For\n",
    "the basic struccture for a loop:\n",
    "```\n",
    "for iterator in range\n",
    "    statements(s)\n",
    "end\n",
    "```"
   ]
  },
  {
   "cell_type": "code",
   "execution_count": 6,
   "metadata": {},
   "outputs": [
    {
     "name": "stdout",
     "output_type": "stream",
     "text": [
      "G\n",
      "e\n",
      "e\n",
      "k\n",
      "s\n"
     ]
    }
   ],
   "source": [
    "s = \"Geeks\"\n",
    "for i in s \n",
    "    println(i) \n",
    "end"
   ]
  },
  {
   "cell_type": "code",
   "execution_count": 7,
   "metadata": {},
   "outputs": [
    {
     "name": "stdout",
     "output_type": "stream",
     "text": [
      "10\n",
      "11\n",
      "12\n",
      "13\n",
      "14\n",
      "15\n",
      "16\n",
      "17\n",
      "18\n",
      "19\n",
      "20\n"
     ]
    }
   ],
   "source": [
    "for number in 10:20\n",
    "    println(number)\n",
    "end"
   ]
  },
  {
   "cell_type": "markdown",
   "metadata": {},
   "source": [
    "#### While\n",
    "\n",
    "```\n",
    "while (condition)\n",
    "    statements\n",
    "end\n",
    "```"
   ]
  },
  {
   "cell_type": "code",
   "execution_count": 9,
   "metadata": {},
   "outputs": [
    {
     "name": "stdout",
     "output_type": "stream",
     "text": [
      "4 3 2 1 ¡Despegue!\n"
     ]
    }
   ],
   "source": [
    "n = 4\n",
    "while n > 0\n",
    "    print(n, \" \")\n",
    "    n = n - 1\n",
    "end\n",
    "println(\"¡Despegue!\")"
   ]
  },
  {
   "cell_type": "markdown",
   "metadata": {},
   "source": [
    "### Plots"
   ]
  },
  {
   "cell_type": "markdown",
   "metadata": {},
   "source": [
    "TO plot the basic package is Plots, so we are goint  to install and load into the instance. For more datails please read the documentation of [Plots](https://docs.juliaplots.org/stable/)"
   ]
  },
  {
   "cell_type": "code",
   "execution_count": 35,
   "metadata": {},
   "outputs": [
    {
     "name": "stderr",
     "output_type": "stream",
     "text": [
      "\u001b[32m\u001b[1m   Resolving\u001b[22m\u001b[39m package versions...\n",
      "\u001b[32m\u001b[1m  No Changes\u001b[22m\u001b[39m to `C:\\Users\\PC\\.julia\\environments\\v1.6\\Project.toml`\n",
      "\u001b[32m\u001b[1m  No Changes\u001b[22m\u001b[39m to `C:\\Users\\PC\\.julia\\environments\\v1.6\\Manifest.toml`\n"
     ]
    }
   ],
   "source": [
    "using Pkg\n",
    "Pkg.add(\"Plots\")\n",
    "using Plots"
   ]
  },
  {
   "cell_type": "code",
   "execution_count": 36,
   "metadata": {},
   "outputs": [
    {
     "data": {
      "image/svg+xml": "<?xml version=\"1.0\" encoding=\"utf-8\"?>\n<svg xmlns=\"http://www.w3.org/2000/svg\" xmlns:xlink=\"http://www.w3.org/1999/xlink\" width=\"600\" height=\"400\" viewBox=\"0 0 2400 1600\">\n<defs>\n  <clipPath id=\"clip000\">\n    <rect x=\"0\" y=\"0\" width=\"2400\" height=\"1600\"/>\n  </clipPath>\n</defs>\n<path clip-path=\"url(#clip000)\" d=\"\nM0 1600 L2400 1600 L2400 0 L0 0  Z\n  \" fill=\"#ffffff\" fill-rule=\"evenodd\" fill-opacity=\"1\"/>\n<defs>\n  <clipPath id=\"clip001\">\n    <rect x=\"480\" y=\"0\" width=\"1681\" height=\"1600\"/>\n  </clipPath>\n</defs>\n<path clip-path=\"url(#clip000)\" d=\"\nM156.598 1486.45 L2352.76 1486.45 L2352.76 47.2441 L156.598 47.2441  Z\n  \" fill=\"#ffffff\" fill-rule=\"evenodd\" fill-opacity=\"1\"/>\n<defs>\n  <clipPath id=\"clip002\">\n    <rect x=\"156\" y=\"47\" width=\"2197\" height=\"1440\"/>\n  </clipPath>\n</defs>\n<polyline clip-path=\"url(#clip002)\" style=\"stroke:#000000; stroke-linecap:butt; stroke-linejoin:round; stroke-width:2; stroke-opacity:0.1; fill:none\" points=\"\n  448.959,1486.45 448.959,47.2441 \n  \"/>\n<polyline clip-path=\"url(#clip002)\" style=\"stroke:#000000; stroke-linecap:butt; stroke-linejoin:round; stroke-width:2; stroke-opacity:0.1; fill:none\" points=\"\n  909.369,1486.45 909.369,47.2441 \n  \"/>\n<polyline clip-path=\"url(#clip002)\" style=\"stroke:#000000; stroke-linecap:butt; stroke-linejoin:round; stroke-width:2; stroke-opacity:0.1; fill:none\" points=\"\n  1369.78,1486.45 1369.78,47.2441 \n  \"/>\n<polyline clip-path=\"url(#clip002)\" style=\"stroke:#000000; stroke-linecap:butt; stroke-linejoin:round; stroke-width:2; stroke-opacity:0.1; fill:none\" points=\"\n  1830.19,1486.45 1830.19,47.2441 \n  \"/>\n<polyline clip-path=\"url(#clip002)\" style=\"stroke:#000000; stroke-linecap:butt; stroke-linejoin:round; stroke-width:2; stroke-opacity:0.1; fill:none\" points=\"\n  2290.6,1486.45 2290.6,47.2441 \n  \"/>\n<polyline clip-path=\"url(#clip000)\" style=\"stroke:#000000; stroke-linecap:butt; stroke-linejoin:round; stroke-width:4; stroke-opacity:1; fill:none\" points=\"\n  156.598,1486.45 2352.76,1486.45 \n  \"/>\n<polyline clip-path=\"url(#clip000)\" style=\"stroke:#000000; stroke-linecap:butt; stroke-linejoin:round; stroke-width:4; stroke-opacity:1; fill:none\" points=\"\n  448.959,1486.45 448.959,1467.55 \n  \"/>\n<polyline clip-path=\"url(#clip000)\" style=\"stroke:#000000; stroke-linecap:butt; stroke-linejoin:round; stroke-width:4; stroke-opacity:1; fill:none\" points=\"\n  909.369,1486.45 909.369,1467.55 \n  \"/>\n<polyline clip-path=\"url(#clip000)\" style=\"stroke:#000000; stroke-linecap:butt; stroke-linejoin:round; stroke-width:4; stroke-opacity:1; fill:none\" points=\"\n  1369.78,1486.45 1369.78,1467.55 \n  \"/>\n<polyline clip-path=\"url(#clip000)\" style=\"stroke:#000000; stroke-linecap:butt; stroke-linejoin:round; stroke-width:4; stroke-opacity:1; fill:none\" points=\"\n  1830.19,1486.45 1830.19,1467.55 \n  \"/>\n<polyline clip-path=\"url(#clip000)\" style=\"stroke:#000000; stroke-linecap:butt; stroke-linejoin:round; stroke-width:4; stroke-opacity:1; fill:none\" points=\"\n  2290.6,1486.45 2290.6,1467.55 \n  \"/>\n<path clip-path=\"url(#clip000)\" d=\"M443.612 1544.91 L459.931 1544.91 L459.931 1548.85 L437.987 1548.85 L437.987 1544.91 Q440.649 1542.16 445.232 1537.53 Q449.838 1532.88 451.019 1531.53 Q453.264 1529.01 454.144 1527.27 Q455.047 1525.51 455.047 1523.82 Q455.047 1521.07 453.102 1519.33 Q451.181 1517.6 448.079 1517.6 Q445.88 1517.6 443.426 1518.36 Q440.996 1519.13 438.218 1520.68 L438.218 1515.95 Q441.042 1514.82 443.496 1514.24 Q445.95 1513.66 447.987 1513.66 Q453.357 1513.66 456.551 1516.35 Q459.746 1519.03 459.746 1523.52 Q459.746 1525.65 458.936 1527.57 Q458.149 1529.47 456.042 1532.07 Q455.463 1532.74 452.362 1535.95 Q449.26 1539.15 443.612 1544.91 Z\" fill=\"#000000\" fill-rule=\"evenodd\" fill-opacity=\"1\" /><path clip-path=\"url(#clip000)\" d=\"M912.379 1518.36 L900.573 1536.81 L912.379 1536.81 L912.379 1518.36 M911.152 1514.29 L917.031 1514.29 L917.031 1536.81 L921.962 1536.81 L921.962 1540.7 L917.031 1540.7 L917.031 1548.85 L912.379 1548.85 L912.379 1540.7 L896.777 1540.7 L896.777 1536.19 L911.152 1514.29 Z\" fill=\"#000000\" fill-rule=\"evenodd\" fill-opacity=\"1\" /><path clip-path=\"url(#clip000)\" d=\"M1370.18 1529.7 Q1367.04 1529.7 1365.18 1531.86 Q1363.36 1534.01 1363.36 1537.76 Q1363.36 1541.49 1365.18 1543.66 Q1367.04 1545.82 1370.18 1545.82 Q1373.33 1545.82 1375.16 1543.66 Q1377.01 1541.49 1377.01 1537.76 Q1377.01 1534.01 1375.16 1531.86 Q1373.33 1529.7 1370.18 1529.7 M1379.47 1515.05 L1379.47 1519.31 Q1377.71 1518.48 1375.9 1518.04 Q1374.12 1517.6 1372.36 1517.6 Q1367.73 1517.6 1365.28 1520.72 Q1362.85 1523.85 1362.5 1530.17 Q1363.87 1528.15 1365.93 1527.09 Q1367.99 1526 1370.46 1526 Q1375.67 1526 1378.68 1529.17 Q1381.71 1532.32 1381.71 1537.76 Q1381.71 1543.08 1378.56 1546.3 Q1375.42 1549.52 1370.18 1549.52 Q1364.19 1549.52 1361.02 1544.94 Q1357.85 1540.33 1357.85 1531.6 Q1357.85 1523.41 1361.74 1518.55 Q1365.62 1513.66 1372.18 1513.66 Q1373.93 1513.66 1375.72 1514.01 Q1377.52 1514.36 1379.47 1515.05 Z\" fill=\"#000000\" fill-rule=\"evenodd\" fill-opacity=\"1\" /><path clip-path=\"url(#clip000)\" d=\"M1830.19 1532.44 Q1826.86 1532.44 1824.94 1534.22 Q1823.04 1536 1823.04 1539.13 Q1823.04 1542.25 1824.94 1544.03 Q1826.86 1545.82 1830.19 1545.82 Q1833.52 1545.82 1835.44 1544.03 Q1837.37 1542.23 1837.37 1539.13 Q1837.37 1536 1835.44 1534.22 Q1833.55 1532.44 1830.19 1532.44 M1825.51 1530.45 Q1822.5 1529.7 1820.82 1527.64 Q1819.15 1525.58 1819.15 1522.62 Q1819.15 1518.48 1822.09 1516.07 Q1825.05 1513.66 1830.19 1513.66 Q1835.35 1513.66 1838.29 1516.07 Q1841.23 1518.48 1841.23 1522.62 Q1841.23 1525.58 1839.54 1527.64 Q1837.88 1529.7 1834.89 1530.45 Q1838.27 1531.23 1840.14 1533.52 Q1842.04 1535.82 1842.04 1539.13 Q1842.04 1544.15 1838.96 1546.83 Q1835.91 1549.52 1830.19 1549.52 Q1824.47 1549.52 1821.39 1546.83 Q1818.34 1544.15 1818.34 1539.13 Q1818.34 1535.82 1820.24 1533.52 Q1822.13 1531.23 1825.51 1530.45 M1823.8 1523.06 Q1823.8 1525.75 1825.47 1527.25 Q1827.16 1528.76 1830.19 1528.76 Q1833.2 1528.76 1834.89 1527.25 Q1836.6 1525.75 1836.6 1523.06 Q1836.6 1520.38 1834.89 1518.87 Q1833.2 1517.37 1830.19 1517.37 Q1827.16 1517.37 1825.47 1518.87 Q1823.8 1520.38 1823.8 1523.06 Z\" fill=\"#000000\" fill-rule=\"evenodd\" fill-opacity=\"1\" /><path clip-path=\"url(#clip000)\" d=\"M2265.29 1544.91 L2272.93 1544.91 L2272.93 1518.55 L2264.62 1520.21 L2264.62 1515.95 L2272.88 1514.29 L2277.56 1514.29 L2277.56 1544.91 L2285.2 1544.91 L2285.2 1548.85 L2265.29 1548.85 L2265.29 1544.91 Z\" fill=\"#000000\" fill-rule=\"evenodd\" fill-opacity=\"1\" /><path clip-path=\"url(#clip000)\" d=\"M2304.64 1517.37 Q2301.03 1517.37 2299.2 1520.93 Q2297.39 1524.47 2297.39 1531.6 Q2297.39 1538.71 2299.2 1542.27 Q2301.03 1545.82 2304.64 1545.82 Q2308.27 1545.82 2310.08 1542.27 Q2311.91 1538.71 2311.91 1531.6 Q2311.91 1524.47 2310.08 1520.93 Q2308.27 1517.37 2304.64 1517.37 M2304.64 1513.66 Q2310.45 1513.66 2313.51 1518.27 Q2316.58 1522.85 2316.58 1531.6 Q2316.58 1540.33 2313.51 1544.94 Q2310.45 1549.52 2304.64 1549.52 Q2298.83 1549.52 2295.75 1544.94 Q2292.7 1540.33 2292.7 1531.6 Q2292.7 1522.85 2295.75 1518.27 Q2298.83 1513.66 2304.64 1513.66 Z\" fill=\"#000000\" fill-rule=\"evenodd\" fill-opacity=\"1\" /><polyline clip-path=\"url(#clip002)\" style=\"stroke:#000000; stroke-linecap:butt; stroke-linejoin:round; stroke-width:2; stroke-opacity:0.1; fill:none\" points=\"\n  156.598,1249.19 2352.76,1249.19 \n  \"/>\n<polyline clip-path=\"url(#clip002)\" style=\"stroke:#000000; stroke-linecap:butt; stroke-linejoin:round; stroke-width:2; stroke-opacity:0.1; fill:none\" points=\"\n  156.598,953.02 2352.76,953.02 \n  \"/>\n<polyline clip-path=\"url(#clip002)\" style=\"stroke:#000000; stroke-linecap:butt; stroke-linejoin:round; stroke-width:2; stroke-opacity:0.1; fill:none\" points=\"\n  156.598,656.848 2352.76,656.848 \n  \"/>\n<polyline clip-path=\"url(#clip002)\" style=\"stroke:#000000; stroke-linecap:butt; stroke-linejoin:round; stroke-width:2; stroke-opacity:0.1; fill:none\" points=\"\n  156.598,360.675 2352.76,360.675 \n  \"/>\n<polyline clip-path=\"url(#clip002)\" style=\"stroke:#000000; stroke-linecap:butt; stroke-linejoin:round; stroke-width:2; stroke-opacity:0.1; fill:none\" points=\"\n  156.598,64.5024 2352.76,64.5024 \n  \"/>\n<polyline clip-path=\"url(#clip000)\" style=\"stroke:#000000; stroke-linecap:butt; stroke-linejoin:round; stroke-width:4; stroke-opacity:1; fill:none\" points=\"\n  156.598,1486.45 156.598,47.2441 \n  \"/>\n<polyline clip-path=\"url(#clip000)\" style=\"stroke:#000000; stroke-linecap:butt; stroke-linejoin:round; stroke-width:4; stroke-opacity:1; fill:none\" points=\"\n  156.598,1249.19 175.496,1249.19 \n  \"/>\n<polyline clip-path=\"url(#clip000)\" style=\"stroke:#000000; stroke-linecap:butt; stroke-linejoin:round; stroke-width:4; stroke-opacity:1; fill:none\" points=\"\n  156.598,953.02 175.496,953.02 \n  \"/>\n<polyline clip-path=\"url(#clip000)\" style=\"stroke:#000000; stroke-linecap:butt; stroke-linejoin:round; stroke-width:4; stroke-opacity:1; fill:none\" points=\"\n  156.598,656.848 175.496,656.848 \n  \"/>\n<polyline clip-path=\"url(#clip000)\" style=\"stroke:#000000; stroke-linecap:butt; stroke-linejoin:round; stroke-width:4; stroke-opacity:1; fill:none\" points=\"\n  156.598,360.675 175.496,360.675 \n  \"/>\n<polyline clip-path=\"url(#clip000)\" style=\"stroke:#000000; stroke-linecap:butt; stroke-linejoin:round; stroke-width:4; stroke-opacity:1; fill:none\" points=\"\n  156.598,64.5024 175.496,64.5024 \n  \"/>\n<path clip-path=\"url(#clip000)\" d=\"M65.0198 1234.99 Q61.4087 1234.99 59.58 1238.56 Q57.7745 1242.1 57.7745 1249.23 Q57.7745 1256.33 59.58 1259.9 Q61.4087 1263.44 65.0198 1263.44 Q68.6541 1263.44 70.4596 1259.9 Q72.2883 1256.33 72.2883 1249.23 Q72.2883 1242.1 70.4596 1238.56 Q68.6541 1234.99 65.0198 1234.99 M65.0198 1231.29 Q70.83 1231.29 73.8855 1235.89 Q76.9642 1240.48 76.9642 1249.23 Q76.9642 1257.95 73.8855 1262.56 Q70.83 1267.14 65.0198 1267.14 Q59.2097 1267.14 56.131 1262.56 Q53.0754 1257.95 53.0754 1249.23 Q53.0754 1240.48 56.131 1235.89 Q59.2097 1231.29 65.0198 1231.29 Z\" fill=\"#000000\" fill-rule=\"evenodd\" fill-opacity=\"1\" /><path clip-path=\"url(#clip000)\" d=\"M85.1818 1260.59 L90.066 1260.59 L90.066 1266.47 L85.1818 1266.47 L85.1818 1260.59 Z\" fill=\"#000000\" fill-rule=\"evenodd\" fill-opacity=\"1\" /><path clip-path=\"url(#clip000)\" d=\"M104.279 1262.54 L120.598 1262.54 L120.598 1266.47 L98.6539 1266.47 L98.6539 1262.54 Q101.316 1259.78 105.899 1255.15 Q110.506 1250.5 111.686 1249.16 Q113.932 1246.63 114.811 1244.9 Q115.714 1243.14 115.714 1241.45 Q115.714 1238.7 113.77 1236.96 Q111.848 1235.22 108.746 1235.22 Q106.547 1235.22 104.094 1235.99 Q101.663 1236.75 98.8854 1238.3 L98.8854 1233.58 Q101.709 1232.45 104.163 1231.87 Q106.617 1231.29 108.654 1231.29 Q114.024 1231.29 117.219 1233.97 Q120.413 1236.66 120.413 1241.15 Q120.413 1243.28 119.603 1245.2 Q118.816 1247.1 116.709 1249.69 Q116.131 1250.36 113.029 1253.58 Q109.927 1256.77 104.279 1262.54 Z\" fill=\"#000000\" fill-rule=\"evenodd\" fill-opacity=\"1\" /><path clip-path=\"url(#clip000)\" d=\"M62.9365 938.819 Q59.3254 938.819 57.4967 942.384 Q55.6912 945.925 55.6912 953.055 Q55.6912 960.161 57.4967 963.726 Q59.3254 967.268 62.9365 967.268 Q66.5707 967.268 68.3763 963.726 Q70.205 960.161 70.205 953.055 Q70.205 945.925 68.3763 942.384 Q66.5707 938.819 62.9365 938.819 M62.9365 935.115 Q68.7467 935.115 71.8022 939.722 Q74.8809 944.305 74.8809 953.055 Q74.8809 961.782 71.8022 966.388 Q68.7467 970.971 62.9365 970.971 Q57.1264 970.971 54.0477 966.388 Q50.9921 961.782 50.9921 953.055 Q50.9921 944.305 54.0477 939.722 Q57.1264 935.115 62.9365 935.115 Z\" fill=\"#000000\" fill-rule=\"evenodd\" fill-opacity=\"1\" /><path clip-path=\"url(#clip000)\" d=\"M83.0984 964.421 L87.9827 964.421 L87.9827 970.3 L83.0984 970.3 L83.0984 964.421 Z\" fill=\"#000000\" fill-rule=\"evenodd\" fill-opacity=\"1\" /><path clip-path=\"url(#clip000)\" d=\"M111.015 939.814 L99.2095 958.263 L111.015 958.263 L111.015 939.814 M109.788 935.74 L115.668 935.74 L115.668 958.263 L120.598 958.263 L120.598 962.152 L115.668 962.152 L115.668 970.3 L111.015 970.3 L111.015 962.152 L95.4132 962.152 L95.4132 957.638 L109.788 935.74 Z\" fill=\"#000000\" fill-rule=\"evenodd\" fill-opacity=\"1\" /><path clip-path=\"url(#clip000)\" d=\"M63.2606 642.646 Q59.6495 642.646 57.8208 646.211 Q56.0152 649.753 56.0152 656.882 Q56.0152 663.989 57.8208 667.554 Q59.6495 671.095 63.2606 671.095 Q66.8948 671.095 68.7004 667.554 Q70.5291 663.989 70.5291 656.882 Q70.5291 649.753 68.7004 646.211 Q66.8948 642.646 63.2606 642.646 M63.2606 638.943 Q69.0707 638.943 72.1263 643.549 Q75.205 648.132 75.205 656.882 Q75.205 665.609 72.1263 670.216 Q69.0707 674.799 63.2606 674.799 Q57.4504 674.799 54.3717 670.216 Q51.3162 665.609 51.3162 656.882 Q51.3162 648.132 54.3717 643.549 Q57.4504 638.943 63.2606 638.943 Z\" fill=\"#000000\" fill-rule=\"evenodd\" fill-opacity=\"1\" /><path clip-path=\"url(#clip000)\" d=\"M83.4225 668.248 L88.3067 668.248 L88.3067 674.128 L83.4225 674.128 L83.4225 668.248 Z\" fill=\"#000000\" fill-rule=\"evenodd\" fill-opacity=\"1\" /><path clip-path=\"url(#clip000)\" d=\"M109.071 654.984 Q105.922 654.984 104.071 657.137 Q102.242 659.29 102.242 663.04 Q102.242 666.766 104.071 668.942 Q105.922 671.095 109.071 671.095 Q112.219 671.095 114.047 668.942 Q115.899 666.766 115.899 663.04 Q115.899 659.29 114.047 657.137 Q112.219 654.984 109.071 654.984 M118.353 640.331 L118.353 644.591 Q116.594 643.757 114.788 643.318 Q113.006 642.878 111.246 642.878 Q106.617 642.878 104.163 646.003 Q101.733 649.128 101.385 655.447 Q102.751 653.433 104.811 652.368 Q106.871 651.28 109.348 651.28 Q114.557 651.28 117.566 654.452 Q120.598 657.6 120.598 663.04 Q120.598 668.364 117.45 671.581 Q114.302 674.799 109.071 674.799 Q103.075 674.799 99.9039 670.216 Q96.7326 665.609 96.7326 656.882 Q96.7326 648.688 100.621 643.827 Q104.51 638.943 111.061 638.943 Q112.82 638.943 114.603 639.29 Q116.408 639.637 118.353 640.331 Z\" fill=\"#000000\" fill-rule=\"evenodd\" fill-opacity=\"1\" /><path clip-path=\"url(#clip000)\" d=\"M63.5152 346.474 Q59.9041 346.474 58.0754 350.038 Q56.2699 353.58 56.2699 360.71 Q56.2699 367.816 58.0754 371.381 Q59.9041 374.923 63.5152 374.923 Q67.1494 374.923 68.955 371.381 Q70.7837 367.816 70.7837 360.71 Q70.7837 353.58 68.955 350.038 Q67.1494 346.474 63.5152 346.474 M63.5152 342.77 Q69.3254 342.77 72.3809 347.376 Q75.4596 351.96 75.4596 360.71 Q75.4596 369.436 72.3809 374.043 Q69.3254 378.626 63.5152 378.626 Q57.7051 378.626 54.6264 374.043 Q51.5708 369.436 51.5708 360.71 Q51.5708 351.96 54.6264 347.376 Q57.7051 342.77 63.5152 342.77 Z\" fill=\"#000000\" fill-rule=\"evenodd\" fill-opacity=\"1\" /><path clip-path=\"url(#clip000)\" d=\"M83.6771 372.075 L88.5614 372.075 L88.5614 377.955 L83.6771 377.955 L83.6771 372.075 Z\" fill=\"#000000\" fill-rule=\"evenodd\" fill-opacity=\"1\" /><path clip-path=\"url(#clip000)\" d=\"M108.746 361.543 Q105.413 361.543 103.492 363.325 Q101.594 365.108 101.594 368.233 Q101.594 371.358 103.492 373.14 Q105.413 374.923 108.746 374.923 Q112.08 374.923 114.001 373.14 Q115.922 371.335 115.922 368.233 Q115.922 365.108 114.001 363.325 Q112.103 361.543 108.746 361.543 M104.071 359.552 Q101.061 358.812 99.3715 356.751 Q97.7048 354.691 97.7048 351.728 Q97.7048 347.585 100.645 345.177 Q103.608 342.77 108.746 342.77 Q113.908 342.77 116.848 345.177 Q119.788 347.585 119.788 351.728 Q119.788 354.691 118.098 356.751 Q116.432 358.812 113.445 359.552 Q116.825 360.339 118.7 362.631 Q120.598 364.923 120.598 368.233 Q120.598 373.256 117.52 375.941 Q114.464 378.626 108.746 378.626 Q103.029 378.626 99.9502 375.941 Q96.8947 373.256 96.8947 368.233 Q96.8947 364.923 98.7928 362.631 Q100.691 360.339 104.071 359.552 M102.358 352.168 Q102.358 354.853 104.024 356.358 Q105.714 357.862 108.746 357.862 Q111.756 357.862 113.445 356.358 Q115.158 354.853 115.158 352.168 Q115.158 349.483 113.445 347.978 Q111.756 346.474 108.746 346.474 Q105.714 346.474 104.024 347.978 Q102.358 349.483 102.358 352.168 Z\" fill=\"#000000\" fill-rule=\"evenodd\" fill-opacity=\"1\" /><path clip-path=\"url(#clip000)\" d=\"M54.2328 77.8472 L61.8717 77.8472 L61.8717 51.4816 L53.5616 53.1482 L53.5616 48.889 L61.8254 47.2224 L66.5013 47.2224 L66.5013 77.8472 L74.1402 77.8472 L74.1402 81.7824 L54.2328 81.7824 L54.2328 77.8472 Z\" fill=\"#000000\" fill-rule=\"evenodd\" fill-opacity=\"1\" /><path clip-path=\"url(#clip000)\" d=\"M83.5845 75.9028 L88.4688 75.9028 L88.4688 81.7824 L83.5845 81.7824 L83.5845 75.9028 Z\" fill=\"#000000\" fill-rule=\"evenodd\" fill-opacity=\"1\" /><path clip-path=\"url(#clip000)\" d=\"M108.654 50.301 Q105.043 50.301 103.214 53.8658 Q101.409 57.4075 101.409 64.5371 Q101.409 71.6435 103.214 75.2083 Q105.043 78.75 108.654 78.75 Q112.288 78.75 114.094 75.2083 Q115.922 71.6435 115.922 64.5371 Q115.922 57.4075 114.094 53.8658 Q112.288 50.301 108.654 50.301 M108.654 46.5974 Q114.464 46.5974 117.52 51.2038 Q120.598 55.7871 120.598 64.5371 Q120.598 73.2639 117.52 77.8703 Q114.464 82.4536 108.654 82.4536 Q102.844 82.4536 99.765 77.8703 Q96.7095 73.2639 96.7095 64.5371 Q96.7095 55.7871 99.765 51.2038 Q102.844 46.5974 108.654 46.5974 Z\" fill=\"#000000\" fill-rule=\"evenodd\" fill-opacity=\"1\" /><polyline clip-path=\"url(#clip002)\" style=\"stroke:#009af9; stroke-linecap:butt; stroke-linejoin:round; stroke-width:4; stroke-opacity:1; fill:none\" points=\"\n  218.754,926.856 448.959,87.9763 679.164,682.32 909.369,947.302 1139.57,542.974 1369.78,1111.9 1599.98,414.063 1830.19,1445.72 2060.4,1068.09 2290.6,1377.88 \n  \n  \"/>\n<path clip-path=\"url(#clip000)\" d=\"\nM1987.12 198.898 L2279.55 198.898 L2279.55 95.2176 L1987.12 95.2176  Z\n  \" fill=\"#ffffff\" fill-rule=\"evenodd\" fill-opacity=\"1\"/>\n<polyline clip-path=\"url(#clip000)\" style=\"stroke:#000000; stroke-linecap:butt; stroke-linejoin:round; stroke-width:4; stroke-opacity:1; fill:none\" points=\"\n  1987.12,198.898 2279.55,198.898 2279.55,95.2176 1987.12,95.2176 1987.12,198.898 \n  \"/>\n<polyline clip-path=\"url(#clip000)\" style=\"stroke:#009af9; stroke-linecap:butt; stroke-linejoin:round; stroke-width:4; stroke-opacity:1; fill:none\" points=\"\n  2011.12,147.058 2155.12,147.058 \n  \"/>\n<path clip-path=\"url(#clip000)\" d=\"M2192.96 166.745 Q2191.16 171.375 2189.44 172.787 Q2187.73 174.199 2184.86 174.199 L2181.46 174.199 L2181.46 170.634 L2183.96 170.634 Q2185.72 170.634 2186.69 169.8 Q2187.66 168.967 2188.84 165.865 L2189.61 163.921 L2179.12 138.412 L2183.63 138.412 L2191.74 158.689 L2199.84 138.412 L2204.35 138.412 L2192.96 166.745 Z\" fill=\"#000000\" fill-rule=\"evenodd\" fill-opacity=\"1\" /><path clip-path=\"url(#clip000)\" d=\"M2211.64 160.402 L2219.28 160.402 L2219.28 134.037 L2210.97 135.703 L2210.97 131.444 L2219.24 129.778 L2223.91 129.778 L2223.91 160.402 L2231.55 160.402 L2231.55 164.338 L2211.64 164.338 L2211.64 160.402 Z\" fill=\"#000000\" fill-rule=\"evenodd\" fill-opacity=\"1\" /></svg>\n"
     },
     "execution_count": 36,
     "metadata": {},
     "output_type": "execute_result"
    }
   ],
   "source": [
    "using Plots\n",
    "x = 1:10; y = rand(10); # These are the plotting data\n",
    "plot(x, y)"
   ]
  },
  {
   "cell_type": "code",
   "execution_count": null,
   "metadata": {},
   "outputs": [],
   "source": []
  },
  {
   "cell_type": "markdown",
   "metadata": {},
   "source": [
    "---"
   ]
  },
  {
   "cell_type": "code",
   "execution_count": 37,
   "metadata": {},
   "outputs": [
    {
     "data": {
      "text/plain": [
       "Animation(\"C:\\\\Users\\\\PC\\\\AppData\\\\Local\\\\Temp\\\\jl_kEeqeq\", [\"000001.png\", \"000002.png\", \"000003.png\", \"000004.png\", \"000005.png\", \"000006.png\", \"000007.png\", \"000008.png\", \"000009.png\", \"000010.png\"  …  \"000091.png\", \"000092.png\", \"000093.png\", \"000094.png\", \"000095.png\", \"000096.png\", \"000097.png\", \"000098.png\", \"000099.png\", \"000100.png\"])"
      ]
     },
     "execution_count": 37,
     "metadata": {},
     "output_type": "execute_result"
    }
   ],
   "source": [
    "## Hypocycloid \n",
    "\n",
    "## Lets recreate the gif on the Wiki (https://en.wikipedia.org/wiki/Hypocycloid)\n",
    "\n",
    "r = 1\n",
    "k = 3\n",
    "n = 100\n",
    "\n",
    "th = Array(0:2*pi/100:2*pi+2*pi/100) # theta from 0 to 2pi ( + a little extra)\n",
    "X = r*k*cos.(th)\n",
    "Y = r*k*sin.(th)\n",
    "\n",
    "\n",
    "anim = @animate for i in 1:n\n",
    "    \n",
    "    # initialize plot with 4 series\n",
    "    plt=plot(5,xlim=(-4,4),ylim=(-4,4), c=:red, aspect_ratio=1,legend=false, framestyle=:origin)\n",
    "    \n",
    "    # big circle\n",
    "    plot!(plt, X,Y, c=:blue, legend=false)\n",
    "    \n",
    "    t = th[1:i]\n",
    "    \n",
    "    # the hypocycloid\n",
    "    x = r*(k-1)*cos.(t) + r*cos.((k-1)*t)\n",
    "    y = r*(k-1)*sin.(t) - r*sin.((k-1)*t)\n",
    "    plot!(x,y, c=:red) \n",
    "    \n",
    "    # the small circle\n",
    "    xc = r*(k-1)*cos(t[end]) .+ r*cos.(th)\n",
    "    yc = r*(k-1)*sin(t[end]) .+ r*sin.(th)\n",
    "    plot!(xc,yc,c=:black)\n",
    "    \n",
    "    # line segment\n",
    "    xl = transpose([r*(k-1)*cos(t[end]) x[end]])\n",
    "    yl = transpose([r*(k-1)*sin(t[end]) y[end]])\n",
    "    plot!(xl,yl,markershape=:circle,markersize=4,c=:black)\n",
    "    scatter!([x[end]],[y[end]],c=:red, markerstrokecolor=:red)\n",
    "    \n",
    "\n",
    "end"
   ]
  },
  {
   "cell_type": "code",
   "execution_count": 38,
   "metadata": {},
   "outputs": [
    {
     "name": "stderr",
     "output_type": "stream",
     "text": [
      "┌ Info: Saved animation to \n",
      "│   fn = c:\\Users\\PC\\Documents\\GitHub\\14.38_Causal_ML\\Julia_Notebooks\\tmp.gif\n",
      "└ @ Plots C:\\Users\\PC\\.julia\\packages\\Plots\\LI4FE\\src\\animation.jl:114\n"
     ]
    },
    {
     "data": {
      "text/html": [
       "<img src=\"data:image/gif;base64,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\" />"
      ],
      "text/plain": [
       "Plots.AnimatedGif(\"c:\\\\Users\\\\PC\\\\Documents\\\\GitHub\\\\14.38_Causal_ML\\\\Julia_Notebooks\\\\tmp.gif\")"
      ]
     },
     "execution_count": 38,
     "metadata": {},
     "output_type": "execute_result"
    }
   ],
   "source": [
    "gif(anim)"
   ]
  }
 ],
 "metadata": {
  "kernelspec": {
   "display_name": "Julia 1.6.5",
   "language": "julia",
   "name": "julia-1.6"
  },
  "language_info": {
   "file_extension": ".jl",
   "mimetype": "application/julia",
   "name": "julia",
   "version": "1.6.5"
  },
  "orig_nbformat": 4
 },
 "nbformat": 4,
 "nbformat_minor": 2
}
