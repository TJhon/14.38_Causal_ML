{
 "cells": [
  {
   "cell_type": "markdown",
   "metadata": {},
   "source": [
    "# Julia Basic Tutorial"
   ]
  },
  {
   "cell_type": "markdown",
   "metadata": {},
   "source": [
    "### Assignment"
   ]
  },
  {
   "cell_type": "markdown",
   "metadata": {},
   "source": [
    "Use =, not <-, for assignment  "
   ]
  },
  {
   "cell_type": "code",
   "execution_count": 10,
   "metadata": {},
   "outputs": [
    {
     "data": {
      "text/plain": [
       "3"
      ]
     },
     "execution_count": 10,
     "metadata": {},
     "output_type": "execute_result"
    }
   ],
   "source": [
    "x = 2\n",
    "y = 3"
   ]
  },
  {
   "cell_type": "code",
   "execution_count": 11,
   "metadata": {},
   "outputs": [
    {
     "data": {
      "text/plain": [
       "5"
      ]
     },
     "execution_count": 11,
     "metadata": {},
     "output_type": "execute_result"
    }
   ],
   "source": [
    "x+y"
   ]
  },
  {
   "cell_type": "markdown",
   "metadata": {},
   "source": [
    "we can use sintax from latex to writte variables and assing as a variables"
   ]
  },
  {
   "cell_type": "code",
   "execution_count": 34,
   "metadata": {},
   "outputs": [
    {
     "data": {
      "text/plain": [
       "3.14"
      ]
     },
     "execution_count": 34,
     "metadata": {},
     "output_type": "execute_result"
    }
   ],
   "source": [
    "π = 3.14 #we use \\pi and Tab to call that symbol"
   ]
  },
  {
   "cell_type": "markdown",
   "metadata": {},
   "source": [
    "### Aritmetic Operators"
   ]
  },
  {
   "cell_type": "code",
   "execution_count": 24,
   "metadata": {},
   "outputs": [
    {
     "data": {
      "text/plain": [
       "8"
      ]
     },
     "execution_count": 24,
     "metadata": {},
     "output_type": "execute_result"
    }
   ],
   "source": [
    "#addition\n",
    "3+5"
   ]
  },
  {
   "cell_type": "code",
   "execution_count": 13,
   "metadata": {},
   "outputs": [
    {
     "data": {
      "text/plain": [
       "3"
      ]
     },
     "execution_count": 13,
     "metadata": {},
     "output_type": "execute_result"
    }
   ],
   "source": [
    "#difference\n",
    "5-2"
   ]
  },
  {
   "cell_type": "code",
   "execution_count": 14,
   "metadata": {},
   "outputs": [
    {
     "data": {
      "text/plain": [
       "10"
      ]
     },
     "execution_count": 14,
     "metadata": {},
     "output_type": "execute_result"
    }
   ],
   "source": [
    "#product    \n",
    "5*2"
   ]
  },
  {
   "cell_type": "code",
   "execution_count": 22,
   "metadata": {},
   "outputs": [
    {
     "name": "stdout",
     "output_type": "stream",
     "text": [
      "2.5\n",
      "2\n"
     ]
    }
   ],
   "source": [
    "####there is two types of division in julia\n",
    "#first with the symbol \" / \"\n",
    "println(5/2) \n",
    "\n",
    "#the second is for integer divide \n",
    "println(5÷2) \n"
   ]
  },
  {
   "cell_type": "code",
   "execution_count": 16,
   "metadata": {},
   "outputs": [
    {
     "data": {
      "text/plain": [
       "9"
      ]
     },
     "execution_count": 16,
     "metadata": {},
     "output_type": "execute_result"
    }
   ],
   "source": [
    "#power\n",
    "3^2"
   ]
  },
  {
   "cell_type": "code",
   "execution_count": 25,
   "metadata": {},
   "outputs": [
    {
     "data": {
      "text/plain": [
       "1"
      ]
     },
     "execution_count": 25,
     "metadata": {},
     "output_type": "execute_result"
    }
   ],
   "source": [
    "#remainder\n",
    "5%2"
   ]
  },
  {
   "cell_type": "markdown",
   "metadata": {},
   "source": [
    "### Data Types and variables"
   ]
  },
  {
   "cell_type": "markdown",
   "metadata": {},
   "source": [
    "We can know the data type with the command **\"typeof()\"**"
   ]
  },
  {
   "cell_type": "code",
   "execution_count": 27,
   "metadata": {},
   "outputs": [
    {
     "data": {
      "text/plain": [
       "Int64"
      ]
     },
     "execution_count": 27,
     "metadata": {},
     "output_type": "execute_result"
    }
   ],
   "source": [
    "a = 3 #int data type\n",
    "typeof(a)"
   ]
  },
  {
   "cell_type": "code",
   "execution_count": 29,
   "metadata": {},
   "outputs": [
    {
     "data": {
      "text/plain": [
       "Float64"
      ]
     },
     "execution_count": 29,
     "metadata": {},
     "output_type": "execute_result"
    }
   ],
   "source": [
    "b = 3.2 #float data type\n",
    "typeof(b)"
   ]
  },
  {
   "cell_type": "code",
   "execution_count": 30,
   "metadata": {},
   "outputs": [
    {
     "data": {
      "text/plain": [
       "String"
      ]
     },
     "execution_count": 30,
     "metadata": {},
     "output_type": "execute_result"
    }
   ],
   "source": [
    "c = \"hola mundo\" #string data types\n",
    "typeof(c)"
   ]
  },
  {
   "cell_type": "markdown",
   "metadata": {},
   "source": [
    "its important to know that in Julia to declare a string variable we use the \" \" not the ' '. If we use  ' ' , Julia detect an error"
   ]
  },
  {
   "cell_type": "code",
   "execution_count": 32,
   "metadata": {},
   "outputs": [
    {
     "ename": "LoadError",
     "evalue": "syntax: character literal contains multiple characters",
     "output_type": "error",
     "traceback": [
      "syntax: character literal contains multiple characters",
      "",
      "Stacktrace:",
      " [1] top-level scope",
      "   @ In[32]:1",
      " [2] eval",
      "   @ .\\boot.jl:360 [inlined]",
      " [3] include_string(mapexpr::typeof(REPL.softscope), mod::Module, code::String, filename::String)",
      "   @ Base .\\loading.jl:1116"
     ]
    }
   ],
   "source": [
    "c = 'hola mundo' #string data types\n",
    "typeof(c)"
   ]
  },
  {
   "cell_type": "code",
   "execution_count": 3,
   "metadata": {},
   "outputs": [
    {
     "data": {
      "text/plain": [
       "Float64"
      ]
     },
     "execution_count": 3,
     "metadata": {},
     "output_type": "execute_result"
    }
   ],
   "source": [
    "y = true #boolean data type true or false \n",
    "typeof(20.5)"
   ]
  },
  {
   "cell_type": "markdown",
   "metadata": {},
   "source": [
    "### Vectors and matrix"
   ]
  },
  {
   "cell_type": "code",
   "execution_count": 4,
   "metadata": {},
   "outputs": [
    {
     "data": {
      "text/plain": [
       "Vector{Int64} (alias for Array{Int64, 1})"
      ]
     },
     "execution_count": 4,
     "metadata": {},
     "output_type": "execute_result"
    }
   ],
   "source": [
    "f = [1,2,3,3,4]\n",
    "typeof(f)"
   ]
  },
  {
   "cell_type": "markdown",
   "metadata": {},
   "source": [
    "---"
   ]
  },
  {
   "cell_type": "markdown",
   "metadata": {},
   "source": [
    "### Packages"
   ]
  },
  {
   "cell_type": "markdown",
   "metadata": {},
   "source": [
    "To use packages in Julia, first we need to call the module to import Packages. we can do that with the following code"
   ]
  },
  {
   "cell_type": "code",
   "execution_count": 7,
   "metadata": {},
   "outputs": [],
   "source": [
    "using Pkg #with this code we now able to call other packages like GLM, Plots"
   ]
  },
  {
   "cell_type": "markdown",
   "metadata": {},
   "source": [
    "We can install a package in our instance. We can do this with **Pkg.add()**. Inside the parenthesis with quotation marks me call the packege"
   ]
  },
  {
   "cell_type": "code",
   "execution_count": 7,
   "metadata": {},
   "outputs": [
    {
     "name": "stderr",
     "output_type": "stream",
     "text": [
      "\u001b[32m\u001b[1m    Updating\u001b[22m\u001b[39m registry at `C:\\Users\\PC\\.julia\\registries\\General`\n",
      "\u001b[32m\u001b[1m    Updating\u001b[22m\u001b[39m git-repo `https://github.com/JuliaRegistries/General.git`\n",
      "\u001b[32m\u001b[1m   Resolving\u001b[22m\u001b[39m package versions...\n",
      "\u001b[32m\u001b[1m  No Changes\u001b[22m\u001b[39m to `C:\\Users\\PC\\.julia\\environments\\v1.6\\Project.toml`\n",
      "\u001b[32m\u001b[1m  No Changes\u001b[22m\u001b[39m to `C:\\Users\\PC\\.julia\\environments\\v1.6\\Manifest.toml`\n"
     ]
    }
   ],
   "source": [
    "Pkg.add(\"GLM\")"
   ]
  },
  {
   "cell_type": "markdown",
   "metadata": {},
   "source": [
    "after that we have to load the package into our environment with the word **using**"
   ]
  },
  {
   "cell_type": "code",
   "execution_count": 8,
   "metadata": {},
   "outputs": [],
   "source": [
    "using GLM"
   ]
  },
  {
   "cell_type": "markdown",
   "metadata": {},
   "source": [
    "Now we can use all the functions from that package"
   ]
  },
  {
   "cell_type": "markdown",
   "metadata": {},
   "source": [
    "#### Note"
   ]
  },
  {
   "cell_type": "markdown",
   "metadata": {},
   "source": [
    "The Base and Core modules are always available in Julia. There is a set of standard (or stdlib) modules that are installed with Julia but are not all loaded at the start of a Julia session.\n",
    "\n",
    "If a stdlib module is not already loaded, load them in the usual way, with using or import."
   ]
  },
  {
   "cell_type": "markdown",
   "metadata": {},
   "source": [
    "---"
   ]
  },
  {
   "cell_type": "markdown",
   "metadata": {},
   "source": [
    "### Dataframe"
   ]
  },
  {
   "cell_type": "markdown",
   "metadata": {},
   "source": [
    "This data structure does not require that all members be of the same data type."
   ]
  },
  {
   "cell_type": "code",
   "execution_count": 9,
   "metadata": {},
   "outputs": [],
   "source": [
    "#first we load the module DataFrames to start using this data structure and take advantage of their functions\n",
    "using DataFrames"
   ]
  },
  {
   "cell_type": "code",
   "execution_count": 22,
   "metadata": {},
   "outputs": [
    {
     "data": {
      "text/html": [
       "<table class=\"data-frame\"><thead><tr><th></th><th>students</th><th>Age</th><th>Gender</th><th>GPA</th></tr><tr><th></th><th>String</th><th>Int64</th><th>String</th><th>Float64</th></tr></thead><tbody><p>8 rows × 4 columns</p><tr><th>1</th><td>Amy</td><td>27</td><td>F</td><td>3.26</td></tr><tr><th>2</th><td>Bob</td><td>55</td><td>M</td><td>3.75</td></tr><tr><th>3</th><td>Chuck</td><td>34</td><td>M</td><td>2.98</td></tr><tr><th>4</th><td>Daisy</td><td>42</td><td>F</td><td>3.4</td></tr><tr><th>5</th><td>Ellie</td><td>20</td><td>F</td><td>2.75</td></tr><tr><th>6</th><td>Frank</td><td>27</td><td>M</td><td>3.32</td></tr><tr><th>7</th><td>George</td><td>34</td><td>M</td><td>3.68</td></tr><tr><th>8</th><td>Helen</td><td>42</td><td>F</td><td>3.97</td></tr></tbody></table>"
      ],
      "text/latex": [
       "\\begin{tabular}{r|cccc}\n",
       "\t& students & Age & Gender & GPA\\\\\n",
       "\t\\hline\n",
       "\t& String & Int64 & String & Float64\\\\\n",
       "\t\\hline\n",
       "\t1 & Amy & 27 & F & 3.26 \\\\\n",
       "\t2 & Bob & 55 & M & 3.75 \\\\\n",
       "\t3 & Chuck & 34 & M & 2.98 \\\\\n",
       "\t4 & Daisy & 42 & F & 3.4 \\\\\n",
       "\t5 & Ellie & 20 & F & 2.75 \\\\\n",
       "\t6 & Frank & 27 & M & 3.32 \\\\\n",
       "\t7 & George & 34 & M & 3.68 \\\\\n",
       "\t8 & Helen & 42 & F & 3.97 \\\\\n",
       "\\end{tabular}\n"
      ],
      "text/plain": [
       "\u001b[1m8×4 DataFrame\u001b[0m\n",
       "\u001b[1m Row \u001b[0m│\u001b[1m students \u001b[0m\u001b[1m Age   \u001b[0m\u001b[1m Gender \u001b[0m\u001b[1m GPA     \u001b[0m\n",
       "\u001b[1m     \u001b[0m│\u001b[90m String   \u001b[0m\u001b[90m Int64 \u001b[0m\u001b[90m String \u001b[0m\u001b[90m Float64 \u001b[0m\n",
       "─────┼──────────────────────────────────\n",
       "   1 │ Amy          27  F          3.26\n",
       "   2 │ Bob          55  M          3.75\n",
       "   3 │ Chuck        34  M          2.98\n",
       "   4 │ Daisy        42  F          3.4\n",
       "   5 │ Ellie        20  F          2.75\n",
       "   6 │ Frank        27  M          3.32\n",
       "   7 │ George       34  M          3.68\n",
       "   8 │ Helen        42  F          3.97"
      ]
     },
     "execution_count": 22,
     "metadata": {},
     "output_type": "execute_result"
    }
   ],
   "source": [
    "Student_Name = [\"Amy\", \"Bob\", \"Chuck\", \"Daisy\", \"Ellie\", \"Frank\", \"George\", \"Helen\"]\n",
    "\n",
    "Age = [27, 55, 34, 42, 20, 27, 34, 42]\n",
    "\n",
    "Gender = [\"F\", \"M\", \"M\", \"F\", \"F\", \"M\", \"M\", \"F\"]\n",
    "\n",
    "GPA = [3.26, 3.75, 2.98, 3.40, 2.75, 3.32, 3.68, 3.97]\n",
    "\n",
    "nsc = DataFrame(students = Student_Name, Age = Age, Gender = Gender, GPA = GPA)   # Naming the data frame\n",
    "nsc # Generates the data frame"
   ]
  },
  {
   "cell_type": "code",
   "execution_count": 24,
   "metadata": {},
   "outputs": [
    {
     "data": {
      "text/plain": [
       "4-element Vector{String}:\n",
       " \"students\"\n",
       " \"Age\"\n",
       " \"Gender\"\n",
       " \"GPA\""
      ]
     },
     "execution_count": 24,
     "metadata": {},
     "output_type": "execute_result"
    }
   ],
   "source": [
    "# Lists variables\n",
    "names(nsc)"
   ]
  },
  {
   "cell_type": "code",
   "execution_count": 27,
   "metadata": {},
   "outputs": [
    {
     "data": {
      "text/html": [
       "<table class=\"data-frame\"><thead><tr><th></th><th>students</th><th>Age</th></tr><tr><th></th><th>String</th><th>Int64</th></tr></thead><tbody><p>3 rows × 2 columns</p><tr><th>1</th><td>Amy</td><td>27</td></tr><tr><th>2</th><td>Bob</td><td>55</td></tr><tr><th>3</th><td>Chuck</td><td>34</td></tr></tbody></table>"
      ],
      "text/latex": [
       "\\begin{tabular}{r|cc}\n",
       "\t& students & Age\\\\\n",
       "\t\\hline\n",
       "\t& String & Int64\\\\\n",
       "\t\\hline\n",
       "\t1 & Amy & 27 \\\\\n",
       "\t2 & Bob & 55 \\\\\n",
       "\t3 & Chuck & 34 \\\\\n",
       "\\end{tabular}\n"
      ],
      "text/plain": [
       "\u001b[1m3×2 DataFrame\u001b[0m\n",
       "\u001b[1m Row \u001b[0m│\u001b[1m students \u001b[0m\u001b[1m Age   \u001b[0m\n",
       "\u001b[1m     \u001b[0m│\u001b[90m String   \u001b[0m\u001b[90m Int64 \u001b[0m\n",
       "─────┼─────────────────\n",
       "   1 │ Amy          27\n",
       "   2 │ Bob          55\n",
       "   3 │ Chuck        34"
      ]
     },
     "execution_count": 27,
     "metadata": {},
     "output_type": "execute_result"
    }
   ],
   "source": [
    "nsc[1:3,1:2]"
   ]
  },
  {
   "cell_type": "code",
   "execution_count": 28,
   "metadata": {},
   "outputs": [
    {
     "data": {
      "text/html": [
       "<table class=\"data-frame\"><thead><tr><th></th><th>students</th><th>Gender</th><th>GPA</th></tr><tr><th></th><th>String</th><th>String</th><th>Float64</th></tr></thead><tbody><p>3 rows × 3 columns</p><tr><th>1</th><td>Amy</td><td>F</td><td>3.26</td></tr><tr><th>2</th><td>Bob</td><td>M</td><td>3.75</td></tr><tr><th>3</th><td>Daisy</td><td>F</td><td>3.4</td></tr></tbody></table>"
      ],
      "text/latex": [
       "\\begin{tabular}{r|ccc}\n",
       "\t& students & Gender & GPA\\\\\n",
       "\t\\hline\n",
       "\t& String & String & Float64\\\\\n",
       "\t\\hline\n",
       "\t1 & Amy & F & 3.26 \\\\\n",
       "\t2 & Bob & M & 3.75 \\\\\n",
       "\t3 & Daisy & F & 3.4 \\\\\n",
       "\\end{tabular}\n"
      ],
      "text/plain": [
       "\u001b[1m3×3 DataFrame\u001b[0m\n",
       "\u001b[1m Row \u001b[0m│\u001b[1m students \u001b[0m\u001b[1m Gender \u001b[0m\u001b[1m GPA     \u001b[0m\n",
       "\u001b[1m     \u001b[0m│\u001b[90m String   \u001b[0m\u001b[90m String \u001b[0m\u001b[90m Float64 \u001b[0m\n",
       "─────┼───────────────────────────\n",
       "   1 │ Amy       F          3.26\n",
       "   2 │ Bob       M          3.75\n",
       "   3 │ Daisy     F          3.4"
      ]
     },
     "execution_count": 28,
     "metadata": {},
     "output_type": "execute_result"
    }
   ],
   "source": [
    "nsc[[1,2,4],[1,3,4]]"
   ]
  },
  {
   "cell_type": "code",
   "execution_count": 29,
   "metadata": {},
   "outputs": [
    {
     "data": {
      "text/plain": [
       "8-element Vector{String}:\n",
       " \"F\"\n",
       " \"M\"\n",
       " \"M\"\n",
       " \"F\"\n",
       " \"F\"\n",
       " \"M\"\n",
       " \"M\"\n",
       " \"F\""
      ]
     },
     "execution_count": 29,
     "metadata": {},
     "output_type": "execute_result"
    }
   ],
   "source": [
    "nsc.Gender"
   ]
  },
  {
   "cell_type": "code",
   "execution_count": 35,
   "metadata": {},
   "outputs": [
    {
     "name": "stdout",
     "output_type": "stream",
     "text": [
      "[\"F\", \"M\", \"M\", \"F\", \"F\", \"M\", \"M\", \"F\"]\n",
      "[\"F\", \"M\", \"M\", \"F\", \"F\", \"M\", \"M\", \"F\"]\n"
     ]
    }
   ],
   "source": [
    "#two forms to call a column\n",
    "println(nsc[:,:Gender]) \n",
    "println(nsc[:,\"Gender\"])\n"
   ]
  },
  {
   "cell_type": "markdown",
   "metadata": {},
   "source": [
    "### Working with DataFrames"
   ]
  },
  {
   "cell_type": "code",
   "execution_count": 13,
   "metadata": {},
   "outputs": [
    {
     "data": {
      "text/plain": [
       "\"c:\\\\Users\\\\PC\\\\Documents\\\\GitHub\\\\14.38_Causal_ML\\\\Julia_Notebooks\""
      ]
     },
     "execution_count": 13,
     "metadata": {},
     "output_type": "execute_result"
    }
   ],
   "source": [
    "using DataFrames ,DelimitedFiles\n",
    "pwd()"
   ]
  },
  {
   "cell_type": "code",
   "execution_count": 14,
   "metadata": {},
   "outputs": [
    {
     "data": {
      "text/html": [
       "<table class=\"data-frame\"><thead><tr><th></th><th>variable</th><th>mean</th><th>min</th><th>median</th><th>max</th><th>nmissing</th><th>eltype</th></tr><tr><th></th><th>Symbol</th><th>Float64</th><th>Float64</th><th>Float64</th><th>Float64</th><th>Int64</th><th>DataType</th></tr></thead><tbody><p>23 rows × 7 columns</p><tr><th>1</th><td>abdt</td><td>10693.6</td><td>10404.0</td><td>10691.0</td><td>10880.0</td><td>0</td><td>Float64</td></tr><tr><th>2</th><td>tg</td><td>2.56889</td><td>0.0</td><td>2.0</td><td>6.0</td><td>0</td><td>Float64</td></tr><tr><th>3</th><td>inuidur1</td><td>12.9148</td><td>1.0</td><td>10.0</td><td>52.0</td><td>0</td><td>Float64</td></tr><tr><th>4</th><td>inuidur2</td><td>12.1938</td><td>0.0</td><td>9.0</td><td>52.0</td><td>0</td><td>Float64</td></tr><tr><th>5</th><td>female</td><td>0.402142</td><td>0.0</td><td>0.0</td><td>1.0</td><td>0</td><td>Float64</td></tr><tr><th>6</th><td>black</td><td>0.116653</td><td>0.0</td><td>0.0</td><td>1.0</td><td>0</td><td>Float64</td></tr><tr><th>7</th><td>hispanic</td><td>0.0363689</td><td>0.0</td><td>0.0</td><td>1.0</td><td>0</td><td>Float64</td></tr><tr><th>8</th><td>othrace</td><td>0.00575002</td><td>0.0</td><td>0.0</td><td>1.0</td><td>0</td><td>Float64</td></tr><tr><th>9</th><td>dep</td><td>0.444045</td><td>0.0</td><td>0.0</td><td>2.0</td><td>0</td><td>Float64</td></tr><tr><th>10</th><td>q1</td><td>0.0136563</td><td>0.0</td><td>0.0</td><td>1.0</td><td>0</td><td>Float64</td></tr><tr><th>11</th><td>q2</td><td>0.206498</td><td>0.0</td><td>0.0</td><td>1.0</td><td>0</td><td>Float64</td></tr><tr><th>12</th><td>q3</td><td>0.237691</td><td>0.0</td><td>0.0</td><td>1.0</td><td>0</td><td>Float64</td></tr><tr><th>13</th><td>q4</td><td>0.232229</td><td>0.0</td><td>0.0</td><td>1.0</td><td>0</td><td>Float64</td></tr><tr><th>14</th><td>q5</td><td>0.232948</td><td>0.0</td><td>0.0</td><td>1.0</td><td>0</td><td>Float64</td></tr><tr><th>15</th><td>q6</td><td>0.0769784</td><td>0.0</td><td>0.0</td><td>1.0</td><td>0</td><td>Float64</td></tr><tr><th>16</th><td>recall</td><td>0.108675</td><td>0.0</td><td>0.0</td><td>1.0</td><td>0</td><td>Float64</td></tr><tr><th>17</th><td>agelt35</td><td>0.543089</td><td>0.0</td><td>1.0</td><td>1.0</td><td>0</td><td>Float64</td></tr><tr><th>18</th><td>agegt54</td><td>0.106735</td><td>0.0</td><td>0.0</td><td>1.0</td><td>0</td><td>Float64</td></tr><tr><th>19</th><td>durable</td><td>0.148638</td><td>0.0</td><td>0.0</td><td>1.0</td><td>0</td><td>Float64</td></tr><tr><th>20</th><td>nondurable</td><td>0.10961</td><td>0.0</td><td>0.0</td><td>1.0</td><td>0</td><td>Float64</td></tr><tr><th>21</th><td>lusd</td><td>0.265435</td><td>0.0</td><td>0.0</td><td>1.0</td><td>0</td><td>Float64</td></tr><tr><th>22</th><td>husd</td><td>0.221807</td><td>0.0</td><td>0.0</td><td>1.0</td><td>0</td><td>Float64</td></tr><tr><th>23</th><td>muld</td><td>0.438008</td><td>0.0</td><td>0.0</td><td>1.0</td><td>0</td><td>Float64</td></tr></tbody></table>"
      ],
      "text/latex": [
       "\\begin{tabular}{r|ccccccc}\n",
       "\t& variable & mean & min & median & max & nmissing & eltype\\\\\n",
       "\t\\hline\n",
       "\t& Symbol & Float64 & Float64 & Float64 & Float64 & Int64 & DataType\\\\\n",
       "\t\\hline\n",
       "\t1 & abdt & 10693.6 & 10404.0 & 10691.0 & 10880.0 & 0 & Float64 \\\\\n",
       "\t2 & tg & 2.56889 & 0.0 & 2.0 & 6.0 & 0 & Float64 \\\\\n",
       "\t3 & inuidur1 & 12.9148 & 1.0 & 10.0 & 52.0 & 0 & Float64 \\\\\n",
       "\t4 & inuidur2 & 12.1938 & 0.0 & 9.0 & 52.0 & 0 & Float64 \\\\\n",
       "\t5 & female & 0.402142 & 0.0 & 0.0 & 1.0 & 0 & Float64 \\\\\n",
       "\t6 & black & 0.116653 & 0.0 & 0.0 & 1.0 & 0 & Float64 \\\\\n",
       "\t7 & hispanic & 0.0363689 & 0.0 & 0.0 & 1.0 & 0 & Float64 \\\\\n",
       "\t8 & othrace & 0.00575002 & 0.0 & 0.0 & 1.0 & 0 & Float64 \\\\\n",
       "\t9 & dep & 0.444045 & 0.0 & 0.0 & 2.0 & 0 & Float64 \\\\\n",
       "\t10 & q1 & 0.0136563 & 0.0 & 0.0 & 1.0 & 0 & Float64 \\\\\n",
       "\t11 & q2 & 0.206498 & 0.0 & 0.0 & 1.0 & 0 & Float64 \\\\\n",
       "\t12 & q3 & 0.237691 & 0.0 & 0.0 & 1.0 & 0 & Float64 \\\\\n",
       "\t13 & q4 & 0.232229 & 0.0 & 0.0 & 1.0 & 0 & Float64 \\\\\n",
       "\t14 & q5 & 0.232948 & 0.0 & 0.0 & 1.0 & 0 & Float64 \\\\\n",
       "\t15 & q6 & 0.0769784 & 0.0 & 0.0 & 1.0 & 0 & Float64 \\\\\n",
       "\t16 & recall & 0.108675 & 0.0 & 0.0 & 1.0 & 0 & Float64 \\\\\n",
       "\t17 & agelt35 & 0.543089 & 0.0 & 1.0 & 1.0 & 0 & Float64 \\\\\n",
       "\t18 & agegt54 & 0.106735 & 0.0 & 0.0 & 1.0 & 0 & Float64 \\\\\n",
       "\t19 & durable & 0.148638 & 0.0 & 0.0 & 1.0 & 0 & Float64 \\\\\n",
       "\t20 & nondurable & 0.10961 & 0.0 & 0.0 & 1.0 & 0 & Float64 \\\\\n",
       "\t21 & lusd & 0.265435 & 0.0 & 0.0 & 1.0 & 0 & Float64 \\\\\n",
       "\t22 & husd & 0.221807 & 0.0 & 0.0 & 1.0 & 0 & Float64 \\\\\n",
       "\t23 & muld & 0.438008 & 0.0 & 0.0 & 1.0 & 0 & Float64 \\\\\n",
       "\\end{tabular}\n"
      ],
      "text/plain": [
       "\u001b[1m23×7 DataFrame\u001b[0m\n",
       "\u001b[1m Row \u001b[0m│\u001b[1m variable   \u001b[0m\u001b[1m mean           \u001b[0m\u001b[1m min     \u001b[0m\u001b[1m median  \u001b[0m\u001b[1m max     \u001b[0m\u001b[1m nmissing \u001b[0m\u001b[1m eltype\u001b[0m ⋯\n",
       "\u001b[1m     \u001b[0m│\u001b[90m Symbol     \u001b[0m\u001b[90m Float64        \u001b[0m\u001b[90m Float64 \u001b[0m\u001b[90m Float64 \u001b[0m\u001b[90m Float64 \u001b[0m\u001b[90m Int64    \u001b[0m\u001b[90m DataTy\u001b[0m ⋯\n",
       "─────┼──────────────────────────────────────────────────────────────────────────\n",
       "   1 │ abdt        10693.6         10404.0  10691.0  10880.0         0  Float6 ⋯\n",
       "   2 │ tg              2.56889         0.0      2.0      6.0         0  Float6\n",
       "   3 │ inuidur1       12.9148          1.0     10.0     52.0         0  Float6\n",
       "   4 │ inuidur2       12.1938          0.0      9.0     52.0         0  Float6\n",
       "   5 │ female          0.402142        0.0      0.0      1.0         0  Float6 ⋯\n",
       "   6 │ black           0.116653        0.0      0.0      1.0         0  Float6\n",
       "   7 │ hispanic        0.0363689       0.0      0.0      1.0         0  Float6\n",
       "   8 │ othrace         0.00575002      0.0      0.0      1.0         0  Float6\n",
       "   9 │ dep             0.444045        0.0      0.0      2.0         0  Float6 ⋯\n",
       "  10 │ q1              0.0136563       0.0      0.0      1.0         0  Float6\n",
       "  11 │ q2              0.206498        0.0      0.0      1.0         0  Float6\n",
       "  ⋮  │     ⋮             ⋮            ⋮        ⋮        ⋮        ⋮         ⋮   ⋱\n",
       "  14 │ q5              0.232948        0.0      0.0      1.0         0  Float6\n",
       "  15 │ q6              0.0769784       0.0      0.0      1.0         0  Float6 ⋯\n",
       "  16 │ recall          0.108675        0.0      0.0      1.0         0  Float6\n",
       "  17 │ agelt35         0.543089        0.0      1.0      1.0         0  Float6\n",
       "  18 │ agegt54         0.106735        0.0      0.0      1.0         0  Float6\n",
       "  19 │ durable         0.148638        0.0      0.0      1.0         0  Float6 ⋯\n",
       "  20 │ nondurable      0.10961         0.0      0.0      1.0         0  Float6\n",
       "  21 │ lusd            0.265435        0.0      0.0      1.0         0  Float6\n",
       "  22 │ husd            0.221807        0.0      0.0      1.0         0  Float6\n",
       "  23 │ muld            0.438008        0.0      0.0      1.0         0  Float6 ⋯\n",
       "\u001b[36m                                                     1 column and 2 rows omitted\u001b[0m"
      ]
     },
     "execution_count": 14,
     "metadata": {},
     "output_type": "execute_result"
    }
   ],
   "source": [
    "mat, head = readdlm(\"../data/penn_jae.dat\", header=true, Float64)\n",
    "mat\n",
    "df =DataFrame(mat, vec(head))\n",
    "describe(df)"
   ]
  },
  {
   "cell_type": "code",
   "execution_count": 17,
   "metadata": {},
   "outputs": [
    {
     "name": "stdout",
     "output_type": "stream",
     "text": [
      "Number of rows 13913\n",
      "Number of columns 23\n"
     ]
    }
   ],
   "source": [
    "println(\"Number of rows \", size(df,1))\n",
    "println(\"Number of columns \", size(df,2))"
   ]
  },
  {
   "cell_type": "code",
   "execution_count": 18,
   "metadata": {},
   "outputs": [
    {
     "data": {
      "text/html": [
       "<table class=\"data-frame\"><thead><tr><th></th><th>abdt</th><th>tg</th><th>inuidur1</th><th>inuidur2</th><th>female</th><th>black</th><th>hispanic</th><th>othrace</th><th>dep</th></tr><tr><th></th><th>Float64</th><th>Float64</th><th>Float64</th><th>Float64</th><th>Float64</th><th>Float64</th><th>Float64</th><th>Float64</th><th>Float64</th></tr></thead><tbody><p>20 rows × 23 columns (omitted printing of 14 columns)</p><tr><th>1</th><td>10824.0</td><td>0.0</td><td>18.0</td><td>18.0</td><td>0.0</td><td>0.0</td><td>0.0</td><td>0.0</td><td>2.0</td></tr><tr><th>2</th><td>10824.0</td><td>0.0</td><td>1.0</td><td>1.0</td><td>0.0</td><td>0.0</td><td>0.0</td><td>0.0</td><td>0.0</td></tr><tr><th>3</th><td>10747.0</td><td>0.0</td><td>27.0</td><td>27.0</td><td>0.0</td><td>0.0</td><td>0.0</td><td>0.0</td><td>0.0</td></tr><tr><th>4</th><td>10607.0</td><td>4.0</td><td>9.0</td><td>9.0</td><td>0.0</td><td>0.0</td><td>0.0</td><td>0.0</td><td>0.0</td></tr><tr><th>5</th><td>10831.0</td><td>0.0</td><td>27.0</td><td>27.0</td><td>0.0</td><td>0.0</td><td>0.0</td><td>0.0</td><td>1.0</td></tr><tr><th>6</th><td>10845.0</td><td>0.0</td><td>27.0</td><td>27.0</td><td>1.0</td><td>0.0</td><td>0.0</td><td>0.0</td><td>0.0</td></tr><tr><th>7</th><td>10831.0</td><td>0.0</td><td>9.0</td><td>9.0</td><td>1.0</td><td>0.0</td><td>0.0</td><td>0.0</td><td>1.0</td></tr><tr><th>8</th><td>10859.0</td><td>0.0</td><td>27.0</td><td>27.0</td><td>1.0</td><td>0.0</td><td>0.0</td><td>0.0</td><td>1.0</td></tr><tr><th>9</th><td>10516.0</td><td>0.0</td><td>15.0</td><td>15.0</td><td>1.0</td><td>0.0</td><td>0.0</td><td>0.0</td><td>0.0</td></tr><tr><th>10</th><td>10663.0</td><td>0.0</td><td>28.0</td><td>11.0</td><td>1.0</td><td>0.0</td><td>0.0</td><td>0.0</td><td>0.0</td></tr><tr><th>11</th><td>10747.0</td><td>0.0</td><td>12.0</td><td>12.0</td><td>1.0</td><td>0.0</td><td>0.0</td><td>0.0</td><td>2.0</td></tr><tr><th>12</th><td>10551.0</td><td>4.0</td><td>22.0</td><td>22.0</td><td>1.0</td><td>0.0</td><td>1.0</td><td>0.0</td><td>2.0</td></tr><tr><th>13</th><td>10768.0</td><td>0.0</td><td>18.0</td><td>18.0</td><td>1.0</td><td>0.0</td><td>0.0</td><td>0.0</td><td>0.0</td></tr><tr><th>14</th><td>10537.0</td><td>0.0</td><td>1.0</td><td>1.0</td><td>1.0</td><td>0.0</td><td>0.0</td><td>0.0</td><td>2.0</td></tr><tr><th>15</th><td>10600.0</td><td>4.0</td><td>7.0</td><td>7.0</td><td>1.0</td><td>0.0</td><td>0.0</td><td>0.0</td><td>0.0</td></tr><tr><th>16</th><td>10866.0</td><td>0.0</td><td>18.0</td><td>18.0</td><td>0.0</td><td>0.0</td><td>0.0</td><td>0.0</td><td>0.0</td></tr><tr><th>17</th><td>10572.0</td><td>0.0</td><td>14.0</td><td>14.0</td><td>0.0</td><td>0.0</td><td>0.0</td><td>0.0</td><td>2.0</td></tr><tr><th>18</th><td>10663.0</td><td>0.0</td><td>5.0</td><td>5.0</td><td>0.0</td><td>0.0</td><td>0.0</td><td>0.0</td><td>0.0</td></tr><tr><th>19</th><td>10789.0</td><td>0.0</td><td>9.0</td><td>9.0</td><td>0.0</td><td>0.0</td><td>0.0</td><td>0.0</td><td>0.0</td></tr><tr><th>20</th><td>10768.0</td><td>0.0</td><td>3.0</td><td>3.0</td><td>0.0</td><td>1.0</td><td>0.0</td><td>0.0</td><td>0.0</td></tr></tbody></table>"
      ],
      "text/latex": [
       "\\begin{tabular}{r|cccccccccc}\n",
       "\t& abdt & tg & inuidur1 & inuidur2 & female & black & hispanic & othrace & dep & \\\\\n",
       "\t\\hline\n",
       "\t& Float64 & Float64 & Float64 & Float64 & Float64 & Float64 & Float64 & Float64 & Float64 & \\\\\n",
       "\t\\hline\n",
       "\t1 & 10824.0 & 0.0 & 18.0 & 18.0 & 0.0 & 0.0 & 0.0 & 0.0 & 2.0 & $\\dots$ \\\\\n",
       "\t2 & 10824.0 & 0.0 & 1.0 & 1.0 & 0.0 & 0.0 & 0.0 & 0.0 & 0.0 & $\\dots$ \\\\\n",
       "\t3 & 10747.0 & 0.0 & 27.0 & 27.0 & 0.0 & 0.0 & 0.0 & 0.0 & 0.0 & $\\dots$ \\\\\n",
       "\t4 & 10607.0 & 4.0 & 9.0 & 9.0 & 0.0 & 0.0 & 0.0 & 0.0 & 0.0 & $\\dots$ \\\\\n",
       "\t5 & 10831.0 & 0.0 & 27.0 & 27.0 & 0.0 & 0.0 & 0.0 & 0.0 & 1.0 & $\\dots$ \\\\\n",
       "\t6 & 10845.0 & 0.0 & 27.0 & 27.0 & 1.0 & 0.0 & 0.0 & 0.0 & 0.0 & $\\dots$ \\\\\n",
       "\t7 & 10831.0 & 0.0 & 9.0 & 9.0 & 1.0 & 0.0 & 0.0 & 0.0 & 1.0 & $\\dots$ \\\\\n",
       "\t8 & 10859.0 & 0.0 & 27.0 & 27.0 & 1.0 & 0.0 & 0.0 & 0.0 & 1.0 & $\\dots$ \\\\\n",
       "\t9 & 10516.0 & 0.0 & 15.0 & 15.0 & 1.0 & 0.0 & 0.0 & 0.0 & 0.0 & $\\dots$ \\\\\n",
       "\t10 & 10663.0 & 0.0 & 28.0 & 11.0 & 1.0 & 0.0 & 0.0 & 0.0 & 0.0 & $\\dots$ \\\\\n",
       "\t11 & 10747.0 & 0.0 & 12.0 & 12.0 & 1.0 & 0.0 & 0.0 & 0.0 & 2.0 & $\\dots$ \\\\\n",
       "\t12 & 10551.0 & 4.0 & 22.0 & 22.0 & 1.0 & 0.0 & 1.0 & 0.0 & 2.0 & $\\dots$ \\\\\n",
       "\t13 & 10768.0 & 0.0 & 18.0 & 18.0 & 1.0 & 0.0 & 0.0 & 0.0 & 0.0 & $\\dots$ \\\\\n",
       "\t14 & 10537.0 & 0.0 & 1.0 & 1.0 & 1.0 & 0.0 & 0.0 & 0.0 & 2.0 & $\\dots$ \\\\\n",
       "\t15 & 10600.0 & 4.0 & 7.0 & 7.0 & 1.0 & 0.0 & 0.0 & 0.0 & 0.0 & $\\dots$ \\\\\n",
       "\t16 & 10866.0 & 0.0 & 18.0 & 18.0 & 0.0 & 0.0 & 0.0 & 0.0 & 0.0 & $\\dots$ \\\\\n",
       "\t17 & 10572.0 & 0.0 & 14.0 & 14.0 & 0.0 & 0.0 & 0.0 & 0.0 & 2.0 & $\\dots$ \\\\\n",
       "\t18 & 10663.0 & 0.0 & 5.0 & 5.0 & 0.0 & 0.0 & 0.0 & 0.0 & 0.0 & $\\dots$ \\\\\n",
       "\t19 & 10789.0 & 0.0 & 9.0 & 9.0 & 0.0 & 0.0 & 0.0 & 0.0 & 0.0 & $\\dots$ \\\\\n",
       "\t20 & 10768.0 & 0.0 & 3.0 & 3.0 & 0.0 & 1.0 & 0.0 & 0.0 & 0.0 & $\\dots$ \\\\\n",
       "\\end{tabular}\n"
      ],
      "text/plain": [
       "\u001b[1m20×23 DataFrame\u001b[0m\n",
       "\u001b[1m Row \u001b[0m│\u001b[1m abdt    \u001b[0m\u001b[1m tg      \u001b[0m\u001b[1m inuidur1 \u001b[0m\u001b[1m inuidur2 \u001b[0m\u001b[1m female  \u001b[0m\u001b[1m black   \u001b[0m\u001b[1m hispanic \u001b[0m\u001b[1m othra\u001b[0m ⋯\n",
       "\u001b[1m     \u001b[0m│\u001b[90m Float64 \u001b[0m\u001b[90m Float64 \u001b[0m\u001b[90m Float64  \u001b[0m\u001b[90m Float64  \u001b[0m\u001b[90m Float64 \u001b[0m\u001b[90m Float64 \u001b[0m\u001b[90m Float64  \u001b[0m\u001b[90m Float\u001b[0m ⋯\n",
       "─────┼──────────────────────────────────────────────────────────────────────────\n",
       "   1 │ 10824.0      0.0      18.0      18.0      0.0      0.0       0.0      0 ⋯\n",
       "   2 │ 10824.0      0.0       1.0       1.0      0.0      0.0       0.0      0\n",
       "   3 │ 10747.0      0.0      27.0      27.0      0.0      0.0       0.0      0\n",
       "   4 │ 10607.0      4.0       9.0       9.0      0.0      0.0       0.0      0\n",
       "   5 │ 10831.0      0.0      27.0      27.0      0.0      0.0       0.0      0 ⋯\n",
       "   6 │ 10845.0      0.0      27.0      27.0      1.0      0.0       0.0      0\n",
       "   7 │ 10831.0      0.0       9.0       9.0      1.0      0.0       0.0      0\n",
       "   8 │ 10859.0      0.0      27.0      27.0      1.0      0.0       0.0      0\n",
       "   9 │ 10516.0      0.0      15.0      15.0      1.0      0.0       0.0      0 ⋯\n",
       "  10 │ 10663.0      0.0      28.0      11.0      1.0      0.0       0.0      0\n",
       "  11 │ 10747.0      0.0      12.0      12.0      1.0      0.0       0.0      0\n",
       "  12 │ 10551.0      4.0      22.0      22.0      1.0      0.0       1.0      0\n",
       "  13 │ 10768.0      0.0      18.0      18.0      1.0      0.0       0.0      0 ⋯\n",
       "  14 │ 10537.0      0.0       1.0       1.0      1.0      0.0       0.0      0\n",
       "  15 │ 10600.0      4.0       7.0       7.0      1.0      0.0       0.0      0\n",
       "  16 │ 10866.0      0.0      18.0      18.0      0.0      0.0       0.0      0\n",
       "  17 │ 10572.0      0.0      14.0      14.0      0.0      0.0       0.0      0 ⋯\n",
       "  18 │ 10663.0      0.0       5.0       5.0      0.0      0.0       0.0      0\n",
       "  19 │ 10789.0      0.0       9.0       9.0      0.0      0.0       0.0      0\n",
       "  20 │ 10768.0      0.0       3.0       3.0      0.0      1.0       0.0      0\n",
       "\u001b[36m                                                              16 columns omitted\u001b[0m"
      ]
     },
     "execution_count": 18,
     "metadata": {},
     "output_type": "execute_result"
    }
   ],
   "source": [
    "# Filter control group and just treatment group number 4\n",
    "\n",
    "penn = filter(row -> row[:tg] in [4,0], df)\n",
    "\n",
    "first(penn,20)"
   ]
  },
  {
   "cell_type": "code",
   "execution_count": 21,
   "metadata": {},
   "outputs": [
    {
     "data": {
      "text/html": [
       "<table class=\"data-frame\"><thead><tr><th></th><th>variable</th><th>mean</th><th>min</th><th>median</th><th>max</th><th>nmissing</th><th>eltype</th></tr><tr><th></th><th>Symbol</th><th>Union…</th><th>Any</th><th>Union…</th><th>Any</th><th>Int64</th><th>DataType</th></tr></thead><tbody><p>23 rows × 7 columns</p><tr><th>1</th><td>abdt</td><td>10695.4</td><td>10404.0</td><td>10698.0</td><td>10880.0</td><td>0</td><td>Float64</td></tr><tr><th>2</th><td>T4</td><td>0.342224</td><td>0.0</td><td>0.0</td><td>1.0</td><td>0</td><td>Float64</td></tr><tr><th>3</th><td>inuidur1</td><td>13.053</td><td>1.0</td><td>11.0</td><td>52.0</td><td>0</td><td>Float64</td></tr><tr><th>4</th><td>inuidur2</td><td>12.2812</td><td>0.0</td><td>10.0</td><td>52.0</td><td>0</td><td>Float64</td></tr><tr><th>5</th><td>female</td><td>0.404001</td><td>0.0</td><td>0.0</td><td>1.0</td><td>0</td><td>Float64</td></tr><tr><th>6</th><td>black</td><td>0.121985</td><td>0.0</td><td>0.0</td><td>1.0</td><td>0</td><td>Float64</td></tr><tr><th>7</th><td>hispanic</td><td>0.0325554</td><td>0.0</td><td>0.0</td><td>1.0</td><td>0</td><td>Float64</td></tr><tr><th>8</th><td>othrace</td><td>0.00725632</td><td>0.0</td><td>0.0</td><td>1.0</td><td>0</td><td>Float64</td></tr><tr><th>9</th><td>dep</td><td></td><td>0.0</td><td></td><td>2.0</td><td>0</td><td>CategoricalValue{String, UInt32}</td></tr><tr><th>10</th><td>q1</td><td>0.0127476</td><td>0.0</td><td>0.0</td><td>1.0</td><td>0</td><td>Float64</td></tr><tr><th>11</th><td>q2</td><td>0.203765</td><td>0.0</td><td>0.0</td><td>1.0</td><td>0</td><td>Float64</td></tr><tr><th>12</th><td>q3</td><td>0.235536</td><td>0.0</td><td>0.0</td><td>1.0</td><td>0</td><td>Float64</td></tr><tr><th>13</th><td>q4</td><td>0.225927</td><td>0.0</td><td>0.0</td><td>1.0</td><td>0</td><td>Float64</td></tr><tr><th>14</th><td>q5</td><td>0.25907</td><td>0.0</td><td>0.0</td><td>1.0</td><td>0</td><td>Float64</td></tr><tr><th>15</th><td>q6</td><td>0.0629535</td><td>0.0</td><td>0.0</td><td>1.0</td><td>0</td><td>Float64</td></tr><tr><th>16</th><td>recall</td><td>0.110414</td><td>0.0</td><td>0.0</td><td>1.0</td><td>0</td><td>Float64</td></tr><tr><th>17</th><td>agelt35</td><td>0.545009</td><td>0.0</td><td>1.0</td><td>1.0</td><td>0</td><td>Float64</td></tr><tr><th>18</th><td>agegt54</td><td>0.109433</td><td>0.0</td><td>0.0</td><td>1.0</td><td>0</td><td>Float64</td></tr><tr><th>19</th><td>durable</td><td>0.148068</td><td>0.0</td><td>0.0</td><td>1.0</td><td>0</td><td>Float64</td></tr><tr><th>20</th><td>nondurable</td><td>0.109237</td><td>0.0</td><td>0.0</td><td>1.0</td><td>0</td><td>Float64</td></tr><tr><th>21</th><td>lusd</td><td>0.261032</td><td>0.0</td><td>0.0</td><td>1.0</td><td>0</td><td>Float64</td></tr><tr><th>22</th><td>husd</td><td>0.21867</td><td>0.0</td><td>0.0</td><td>1.0</td><td>0</td><td>Float64</td></tr><tr><th>23</th><td>muld</td><td>0.444205</td><td>0.0</td><td>0.0</td><td>1.0</td><td>0</td><td>Float64</td></tr></tbody></table>"
      ],
      "text/latex": [
       "\\begin{tabular}{r|ccccccc}\n",
       "\t& variable & mean & min & median & max & nmissing & eltype\\\\\n",
       "\t\\hline\n",
       "\t& Symbol & Union… & Any & Union… & Any & Int64 & DataType\\\\\n",
       "\t\\hline\n",
       "\t1 & abdt & 10695.4 & 10404.0 & 10698.0 & 10880.0 & 0 & Float64 \\\\\n",
       "\t2 & T4 & 0.342224 & 0.0 & 0.0 & 1.0 & 0 & Float64 \\\\\n",
       "\t3 & inuidur1 & 13.053 & 1.0 & 11.0 & 52.0 & 0 & Float64 \\\\\n",
       "\t4 & inuidur2 & 12.2812 & 0.0 & 10.0 & 52.0 & 0 & Float64 \\\\\n",
       "\t5 & female & 0.404001 & 0.0 & 0.0 & 1.0 & 0 & Float64 \\\\\n",
       "\t6 & black & 0.121985 & 0.0 & 0.0 & 1.0 & 0 & Float64 \\\\\n",
       "\t7 & hispanic & 0.0325554 & 0.0 & 0.0 & 1.0 & 0 & Float64 \\\\\n",
       "\t8 & othrace & 0.00725632 & 0.0 & 0.0 & 1.0 & 0 & Float64 \\\\\n",
       "\t9 & dep &  & 0.0 &  & 2.0 & 0 & CategoricalValue\\{String, UInt32\\} \\\\\n",
       "\t10 & q1 & 0.0127476 & 0.0 & 0.0 & 1.0 & 0 & Float64 \\\\\n",
       "\t11 & q2 & 0.203765 & 0.0 & 0.0 & 1.0 & 0 & Float64 \\\\\n",
       "\t12 & q3 & 0.235536 & 0.0 & 0.0 & 1.0 & 0 & Float64 \\\\\n",
       "\t13 & q4 & 0.225927 & 0.0 & 0.0 & 1.0 & 0 & Float64 \\\\\n",
       "\t14 & q5 & 0.25907 & 0.0 & 0.0 & 1.0 & 0 & Float64 \\\\\n",
       "\t15 & q6 & 0.0629535 & 0.0 & 0.0 & 1.0 & 0 & Float64 \\\\\n",
       "\t16 & recall & 0.110414 & 0.0 & 0.0 & 1.0 & 0 & Float64 \\\\\n",
       "\t17 & agelt35 & 0.545009 & 0.0 & 1.0 & 1.0 & 0 & Float64 \\\\\n",
       "\t18 & agegt54 & 0.109433 & 0.0 & 0.0 & 1.0 & 0 & Float64 \\\\\n",
       "\t19 & durable & 0.148068 & 0.0 & 0.0 & 1.0 & 0 & Float64 \\\\\n",
       "\t20 & nondurable & 0.109237 & 0.0 & 0.0 & 1.0 & 0 & Float64 \\\\\n",
       "\t21 & lusd & 0.261032 & 0.0 & 0.0 & 1.0 & 0 & Float64 \\\\\n",
       "\t22 & husd & 0.21867 & 0.0 & 0.0 & 1.0 & 0 & Float64 \\\\\n",
       "\t23 & muld & 0.444205 & 0.0 & 0.0 & 1.0 & 0 & Float64 \\\\\n",
       "\\end{tabular}\n"
      ],
      "text/plain": [
       "\u001b[1m23×7 DataFrame\u001b[0m\n",
       "\u001b[1m Row \u001b[0m│\u001b[1m variable   \u001b[0m\u001b[1m mean       \u001b[0m\u001b[1m min     \u001b[0m\u001b[1m median  \u001b[0m\u001b[1m max     \u001b[0m\u001b[1m nmissing \u001b[0m\u001b[1m eltype    \u001b[0m ⋯\n",
       "\u001b[1m     \u001b[0m│\u001b[90m Symbol     \u001b[0m\u001b[90m Union…     \u001b[0m\u001b[90m Any     \u001b[0m\u001b[90m Union…  \u001b[0m\u001b[90m Any     \u001b[0m\u001b[90m Int64    \u001b[0m\u001b[90m DataType  \u001b[0m ⋯\n",
       "─────┼──────────────────────────────────────────────────────────────────────────\n",
       "   1 │ abdt        10695.4     10404.0  10698.0  10880.0         0  Float64    ⋯\n",
       "   2 │ T4          0.342224    0.0      0.0      1.0             0  Float64\n",
       "   3 │ inuidur1    13.053      1.0      11.0     52.0            0  Float64\n",
       "   4 │ inuidur2    12.2812     0.0      10.0     52.0            0  Float64\n",
       "   5 │ female      0.404001    0.0      0.0      1.0             0  Float64    ⋯\n",
       "   6 │ black       0.121985    0.0      0.0      1.0             0  Float64\n",
       "   7 │ hispanic    0.0325554   0.0      0.0      1.0             0  Float64\n",
       "   8 │ othrace     0.00725632  0.0      0.0      1.0             0  Float64\n",
       "   9 │ dep        \u001b[90m            \u001b[0m 0.0     \u001b[90m         \u001b[0m 2.0             0  Categorica ⋯\n",
       "  10 │ q1          0.0127476   0.0      0.0      1.0             0  Float64\n",
       "  11 │ q2          0.203765    0.0      0.0      1.0             0  Float64\n",
       "  ⋮  │     ⋮           ⋮          ⋮        ⋮        ⋮        ⋮                 ⋱\n",
       "  14 │ q5          0.25907     0.0      0.0      1.0             0  Float64\n",
       "  15 │ q6          0.0629535   0.0      0.0      1.0             0  Float64    ⋯\n",
       "  16 │ recall      0.110414    0.0      0.0      1.0             0  Float64\n",
       "  17 │ agelt35     0.545009    0.0      1.0      1.0             0  Float64\n",
       "  18 │ agegt54     0.109433    0.0      0.0      1.0             0  Float64\n",
       "  19 │ durable     0.148068    0.0      0.0      1.0             0  Float64    ⋯\n",
       "  20 │ nondurable  0.109237    0.0      0.0      1.0             0  Float64\n",
       "  21 │ lusd        0.261032    0.0      0.0      1.0             0  Float64\n",
       "  22 │ husd        0.21867     0.0      0.0      1.0             0  Float64\n",
       "  23 │ muld        0.444205    0.0      0.0      1.0             0  Float64    ⋯\n",
       "\u001b[36m                                                     1 column and 2 rows omitted\u001b[0m"
      ]
     },
     "execution_count": 21,
     "metadata": {},
     "output_type": "execute_result"
    }
   ],
   "source": [
    "# Treatment group n°4\n",
    "replace!(penn.tg, 4 => 1)\n",
    "rename!(penn, \"tg\" => \"T4\")\n",
    "\n",
    "\n",
    "# from float to string\n",
    "penn[!,:dep] = string.(penn[!,:dep]) \n",
    "\n",
    "# dep varaible in categorical format \n",
    "penn[!,:dep] = categorical(penn[!,:dep])\n",
    "\n",
    "describe(penn)"
   ]
  },
  {
   "cell_type": "markdown",
   "metadata": {},
   "source": [
    "### Regressions"
   ]
  },
  {
   "cell_type": "markdown",
   "metadata": {},
   "source": [
    "#### Formula"
   ]
  },
  {
   "cell_type": "markdown",
   "metadata": {},
   "source": [
    "For more information [here](https://juliastats.org/StatsModels.jl/stable/internals/)"
   ]
  },
  {
   "cell_type": "markdown",
   "metadata": {},
   "source": []
  }
 ],
 "metadata": {
  "kernelspec": {
   "display_name": "Julia 1.6.5",
   "language": "julia",
   "name": "julia-1.6"
  },
  "language_info": {
   "file_extension": ".jl",
   "mimetype": "application/julia",
   "name": "julia",
   "version": "1.6.5"
  },
  "orig_nbformat": 4
 },
 "nbformat": 4,
 "nbformat_minor": 2
}
