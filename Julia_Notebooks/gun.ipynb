{
 "cells": [
  {
   "cell_type": "markdown",
   "metadata": {},
   "source": [
    "This notebook contains an example for teaching."
   ]
  },
  {
   "cell_type": "markdown",
   "metadata": {},
   "source": [
    "# The Effect of Gun Ownership on Gun-Homicide Rates - proceeding"
   ]
  },
  {
   "cell_type": "markdown",
   "metadata": {},
   "source": [
    "In this lab, we estimate the effect of gun ownership on the homicide rate by a neural network."
   ]
  },
  {
   "cell_type": "code",
   "execution_count": 55,
   "metadata": {},
   "outputs": [
    {
     "name": "stderr",
     "output_type": "stream",
     "text": [
      "\u001b[32m\u001b[1m   Resolving\u001b[22m\u001b[39m package versions...\n",
      "\u001b[32m\u001b[1m  No Changes\u001b[22m\u001b[39m to `C:\\Users\\PC\\.julia\\environments\\v1.6\\Project.toml`\n",
      "\u001b[32m\u001b[1m  No Changes\u001b[22m\u001b[39m to `C:\\Users\\PC\\.julia\\environments\\v1.6\\Manifest.toml`\n",
      "\u001b[32m\u001b[1m   Resolving\u001b[22m\u001b[39m package versions...\n",
      "\u001b[32m\u001b[1m  No Changes\u001b[22m\u001b[39m to `C:\\Users\\PC\\.julia\\environments\\v1.6\\Project.toml`\n",
      "\u001b[32m\u001b[1m  No Changes\u001b[22m\u001b[39m to `C:\\Users\\PC\\.julia\\environments\\v1.6\\Manifest.toml`\n",
      "\u001b[32m\u001b[1m   Resolving\u001b[22m\u001b[39m package versions...\n",
      "\u001b[32m\u001b[1m  No Changes\u001b[22m\u001b[39m to `C:\\Users\\PC\\.julia\\environments\\v1.6\\Project.toml`\n",
      "\u001b[32m\u001b[1m  No Changes\u001b[22m\u001b[39m to `C:\\Users\\PC\\.julia\\environments\\v1.6\\Manifest.toml`\n",
      "\u001b[32m\u001b[1m   Resolving\u001b[22m\u001b[39m package versions...\n",
      "\u001b[32m\u001b[1m  No Changes\u001b[22m\u001b[39m to `C:\\Users\\PC\\.julia\\environments\\v1.6\\Project.toml`\n",
      "\u001b[32m\u001b[1m  No Changes\u001b[22m\u001b[39m to `C:\\Users\\PC\\.julia\\environments\\v1.6\\Manifest.toml`\n",
      "\u001b[32m\u001b[1m   Resolving\u001b[22m\u001b[39m package versions...\n",
      "\u001b[32m\u001b[1m  No Changes\u001b[22m\u001b[39m to `C:\\Users\\PC\\.julia\\environments\\v1.6\\Project.toml`\n",
      "\u001b[32m\u001b[1m  No Changes\u001b[22m\u001b[39m to `C:\\Users\\PC\\.julia\\environments\\v1.6\\Manifest.toml`\n"
     ]
    }
   ],
   "source": [
    "using Pkg\n",
    "Pkg.add(\"CSV\"), using CSV\n",
    "Pkg.add(\"DataFrames\"), using DataFrames\n",
    "Pkg.add(\"StatsModels\"), using StatsModels\n",
    "Pkg.add(\"GLM\"), using GLM\n",
    "Pkg.add(\"Random\"), using Random\n",
    "using Statistics, Plots, FixedEffectModels, MLDataUtils, MLBase"
   ]
  },
  {
   "cell_type": "markdown",
   "metadata": {},
   "source": [
    "First, we need to load and preprocess the data."
   ]
  },
  {
   "cell_type": "code",
   "execution_count": 77,
   "metadata": {},
   "outputs": [
    {
     "name": "stdout",
     "output_type": "stream",
     "text": [
      "Number of rows: 3900\n",
      "Number of columns: 415\n"
     ]
    }
   ],
   "source": [
    "data = CSV.File(\"../data/gun_clean.csv\") |> DataFrame;\n",
    "println(\"Number of rows: \",size(data,1))\n",
    "println(\"Number of columns: \",size(data,2))"
   ]
  },
  {
   "cell_type": "code",
   "execution_count": 78,
   "metadata": {},
   "outputs": [],
   "source": [
    "################################# Create Variables ###############################\n",
    "\n",
    "# Dummy Variables for Year and County Fixed Effects\n",
    "fixed = filter(x->contains(x, \"X_Jfips\"), names(data));\n",
    "year = filter(x->contains(x, \"X_Tyear\"), names(data));"
   ]
  },
  {
   "cell_type": "code",
   "execution_count": 79,
   "metadata": {},
   "outputs": [],
   "source": [
    "census = []\n",
    "census_var = [\"AGE\", \"BN\", \"BP\", \"BZ\", \"ED\", \"EL\", \"HI\", \"HS\", \"INC\", \"LF\", \"LN\", \"PI\", \"PO\", \"PP\", \"PV\", \"SPR\", \"VS\"]\n",
    "\n",
    "for i in 1:size(census_var,1) \n",
    "    append!(census, filter(x->contains(x, census_var[i]), names(data)))\n",
    "end"
   ]
  },
  {
   "cell_type": "code",
   "execution_count": 80,
   "metadata": {},
   "outputs": [],
   "source": [
    "################################ Variables ##################################\n",
    "\n",
    "# Treatment Variable\n",
    "d = [\"logfssl\"];\n",
    "\n",
    "# Outcome Variable\n",
    "y = [\"logghomr\"];\n",
    "\n",
    "# Other Control Variables\n",
    "X1 = [\"logrobr\", \"logburg\", \"burg_missing\", \"robrate_missing\"];\n",
    "X2 = [\"newblack\", \"newfhh\", \"newmove\", \"newdens\", \"newmal\"];"
   ]
  },
  {
   "cell_type": "code",
   "execution_count": 81,
   "metadata": {},
   "outputs": [],
   "source": [
    "#################################  Partial out Fixed Effects ########################\n",
    "\n",
    "# Variables to be Partialled-out\n",
    "variable = [y, d,X1, X2, census]\n",
    "varlis = []\n",
    "\n",
    "# Partial out Variables in varlist from year and county fixed effect\n",
    "for i in variable\n",
    "    append!(varlis,i)\n",
    "end"
   ]
  },
  {
   "cell_type": "code",
   "execution_count": 82,
   "metadata": {},
   "outputs": [],
   "source": [
    "# Running the following lines takes aprox. 10 minutes (depends on your CPU)\n",
    "\n",
    "example = DataFrame(CountyCode = data[:,\"CountyCode\"]);\n",
    "rdata = DataFrame(CountyCode = data[:,\"CountyCode\"]);\n",
    "\n",
    "for i in 1:size(varlis,1)\n",
    "    rdata[!,varlis[i]]= residuals(lm(term(Symbol(varlis[i])) ~ sum(term.(Symbol.(year))) + sum(term.(Symbol.(fixed))), data))\n",
    "end"
   ]
  },
  {
   "cell_type": "markdown",
   "metadata": {},
   "source": [
    "# DML for neural nets\n",
    "\n",
    "The following algorithm comsumes $Y$,$D$ and $Z$, and learns the residuals $\\tilde{Y}$ and $\\tilde{D}$ via a neural network, where the residuals are obtained by cross-validation (cross-fitting). Then, it prints the estimated coefficient β and the clustered standard error from the final OLS regression."
   ]
  },
  {
   "cell_type": "code",
   "execution_count": 67,
   "metadata": {},
   "outputs": [
    {
     "name": "stderr",
     "output_type": "stream",
     "text": [
      "WARNING: using StatsBase.crossentropy in module Main conflicts with an existing identifier.\n"
     ]
    }
   ],
   "source": [
    "using Flux\n",
    "using Flux: crossentropy, @epochs\n",
    "using Flux.Data: DataLoader\n",
    "using Flux: throttle\n",
    "using Flux: onehotbatch, onecold, @epochs\n",
    "using StatsBase"
   ]
  },
  {
   "cell_type": "code",
   "execution_count": 88,
   "metadata": {},
   "outputs": [],
   "source": [
    "mean_1 = mean.(eachcol(Z))\n",
    "    mean_1 = [names(Z) mean_1]\n",
    "\n",
    "    std_1 = std.(eachcol(Z))\n",
    "    std_1 = [names(Z) std_1]\n",
    "\n",
    "    df = DataFrame()\n",
    "    for i in 1:size(Z)[2]\n",
    "        p = (Z[!, i] .- mean_1[i,2]) / std_1[i,2]\n",
    "        colname = names(Z)[i]\n",
    "        df[!,colname] = p\n",
    "    end\n",
    "    Z = df\n",
    "    z = Matrix(Z);"
   ]
  },
  {
   "cell_type": "code",
   "execution_count": 118,
   "metadata": {},
   "outputs": [
    {
     "data": {
      "text/plain": [
       "DML2_for_NN (generic function with 1 method)"
      ]
     },
     "execution_count": 118,
     "metadata": {},
     "output_type": "execute_result"
    }
   ],
   "source": [
    "function DML2_for_NN(z , d , y, nfold, clu, num_epochs)\n",
    "    \n",
    "    # Num ob observations\n",
    "    nobser = size(z,1)\n",
    "    \n",
    "    # Define folds indices \n",
    "    foldid = collect(Kfold(size(z)[1], nfold))\n",
    "    \n",
    "    # Create array to save errors \n",
    "    ytil = ones(nobser)\n",
    "    dtil = ones(nobser)\n",
    "    println(\"Folds: \" )\n",
    "    \n",
    "    # loop to save results\n",
    "    for i in 1:nfold\n",
    "        ##############################################\n",
    "        ################| MODEL D |###################\n",
    "        model_y= Chain(Dense(size(z,2), 16, relu), \n",
    "        Dense(16, 16, relu),\n",
    "        Dense(16, 1))\n",
    "\n",
    "        opt = RMSProp()\n",
    "        loss_y(x, y) = Flux.Losses.mse(model_y(x), y)\n",
    "        metrics_y(x, y) = Flux.mae(model_y(x), y)\n",
    "        ps_y = Flux.params(model_y)\n",
    "\n",
    "        ##############################################\n",
    "        ################| MODEL Y |###################\n",
    "        model_d= Chain(Dense(size(z,2), 16, relu), \n",
    "        Dense(16, 16, relu),\n",
    "        Dense(16, 1))\n",
    "\n",
    "        opt = RMSProp()\n",
    "        loss_d(x, y) = Flux.Losses.mse(model_d(x), y)\n",
    "        metrics_d(x, y) = Flux.mae(model_d(x), y)\n",
    "        ps_d = Flux.params(model_d)\n",
    "\n",
    "        data_d = DataLoader((z[foldid[i],:]', d[foldid[i]]'))\n",
    "        data_y = DataLoader((z[foldid[i],:]', y[foldid[i]]'))\n",
    "\n",
    "    # Lasso regression, excluding folds selected \n",
    "    for epoch in 1:num_epochs\n",
    "        time = @elapsed Flux.train!(loss_y, ps_y, data_y, opt)\n",
    "    end\n",
    "\n",
    "    for epoch in 1:num_epochs\n",
    "        time = @elapsed Flux.train!(loss_d, ps_d, data_d, opt)\n",
    "    end\n",
    "\n",
    "    # Predict estimates using the \n",
    "    yhat = model_y(z[Not(foldid[i]),:]')';\n",
    "    ###############################################################################\n",
    "    dhat = model_d(z[Not(foldid[i]),:]')';\n",
    "    \n",
    "        \n",
    "    # Save errors \n",
    "    dtil[Not(foldid[i])] = (d[Not(foldid[i])] - dhat)\n",
    "    ytil[Not(foldid[i])] = (y[Not(foldid[i])] - yhat)\n",
    "\n",
    "    println(i)\n",
    "    end\n",
    "    \n",
    "    # Create dataframe \n",
    "    data = DataFrame(ytil = ytil, dtil = dtil, clu=clu)\n",
    "    \n",
    "    # OLS clustering at the County level\n",
    "    rfit = reg(data, @formula(ytil ~ dtil +fe(clu)))\n",
    "    coef_est = coef(rfit)[1]\n",
    "    se = FixedEffectModels.coeftable(rfit).cols[2]\n",
    "\n",
    "    println(\" coef (se) = \", coef_est ,\"(\",se,\")\")\n",
    "    \n",
    "    #return rfit, data;\n",
    "    \n",
    "end"
   ]
  },
  {
   "cell_type": "markdown",
   "metadata": {},
   "source": [
    "# Estimating the effect with DLM for neural nets"
   ]
  },
  {
   "cell_type": "code",
   "execution_count": 34,
   "metadata": {},
   "outputs": [],
   "source": [
    "# Treatment variable\n",
    "D = rdata[!,d]\n",
    "\n",
    "# Outcome variable\n",
    "\n",
    "Y = rdata[!,y];\n",
    "\n",
    "# Construct matrix Z\n",
    "Z = rdata[!, varlis[3:end]];\n"
   ]
  },
  {
   "cell_type": "code",
   "execution_count": 103,
   "metadata": {},
   "outputs": [
    {
     "data": {
      "text/html": [
       "<table class=\"data-frame\"><thead><tr><th></th><th>logghomr</th><th>logfssl</th><th>CountyCode</th></tr><tr><th></th><th>Float64</th><th>Float64</th><th>Int64</th></tr></thead><tbody><p>6 rows × 3 columns</p><tr><th>1</th><td>-0.134778</td><td>0.0961271</td><td>1073</td></tr><tr><th>2</th><td>-0.239622</td><td>0.0808094</td><td>1073</td></tr><tr><th>3</th><td>-0.0786772</td><td>0.0573399</td><td>1073</td></tr><tr><th>4</th><td>-0.331465</td><td>0.0816945</td><td>1073</td></tr><tr><th>5</th><td>-0.31664</td><td>0.0253655</td><td>1073</td></tr><tr><th>6</th><td>0.105132</td><td>-0.00677726</td><td>1073</td></tr></tbody></table>"
      ],
      "text/latex": [
       "\\begin{tabular}{r|ccc}\n",
       "\t& logghomr & logfssl & CountyCode\\\\\n",
       "\t\\hline\n",
       "\t& Float64 & Float64 & Int64\\\\\n",
       "\t\\hline\n",
       "\t1 & -0.134778 & 0.0961271 & 1073 \\\\\n",
       "\t2 & -0.239622 & 0.0808094 & 1073 \\\\\n",
       "\t3 & -0.0786772 & 0.0573399 & 1073 \\\\\n",
       "\t4 & -0.331465 & 0.0816945 & 1073 \\\\\n",
       "\t5 & -0.31664 & 0.0253655 & 1073 \\\\\n",
       "\t6 & 0.105132 & -0.00677726 & 1073 \\\\\n",
       "\\end{tabular}\n"
      ],
      "text/plain": [
       "\u001b[1m6×3 DataFrame\u001b[0m\n",
       "\u001b[1m Row \u001b[0m│\u001b[1m logghomr   \u001b[0m\u001b[1m logfssl     \u001b[0m\u001b[1m CountyCode \u001b[0m\n",
       "\u001b[1m     \u001b[0m│\u001b[90m Float64    \u001b[0m\u001b[90m Float64     \u001b[0m\u001b[90m Int64      \u001b[0m\n",
       "─────┼─────────────────────────────────────\n",
       "   1 │ -0.134778    0.0961271         1073\n",
       "   2 │ -0.239622    0.0808094         1073\n",
       "   3 │ -0.0786772   0.0573399         1073\n",
       "   4 │ -0.331465    0.0816945         1073\n",
       "   5 │ -0.31664     0.0253655         1073\n",
       "   6 │  0.105132   -0.00677726        1073"
      ]
     },
     "execution_count": 103,
     "metadata": {},
     "output_type": "execute_result"
    }
   ],
   "source": [
    "# Create main variables\n",
    "z = Matrix(Z);\n",
    "d = D[!,1];\n",
    "y = Y[!,1];\n",
    "clu = rdata[!, :CountyCode];\n",
    "first(DataFrame(logghomr = y,logfssl = d,CountyCode = clu ),6)"
   ]
  },
  {
   "cell_type": "code",
   "execution_count": 119,
   "metadata": {},
   "outputs": [
    {
     "name": "stdout",
     "output_type": "stream",
     "text": [
      "Folds: \n",
      "1\n",
      "2\n",
      "3\n",
      "4\n",
      "5\n",
      "6\n",
      "7\n",
      "8\n",
      "9\n",
      "10\n",
      " coef (se) = -0.09614707348813742([0.05693337462206755])\n"
     ]
    }
   ],
   "source": [
    "DML2_for_NN(z,d,y,10,clu,100)"
   ]
  }
 ],
 "metadata": {
  "kernelspec": {
   "display_name": "Julia 1.6.5",
   "language": "julia",
   "name": "julia-1.6"
  },
  "language_info": {
   "file_extension": ".jl",
   "mimetype": "application/julia",
   "name": "julia",
   "version": "1.6.5"
  },
  "orig_nbformat": 4
 },
 "nbformat": 4,
 "nbformat_minor": 2
}
