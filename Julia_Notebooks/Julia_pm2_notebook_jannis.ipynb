{
 "cells": [
  {
   "cell_type": "markdown",
   "id": "f7fb9f5a",
   "metadata": {},
   "source": [
    "# Testing the Convergence Hypothesis"
   ]
  },
  {
   "cell_type": "markdown",
   "id": "3ffccb5e",
   "metadata": {},
   "source": [
    "## Introduction"
   ]
  },
  {
   "cell_type": "markdown",
   "id": "a0e36013",
   "metadata": {},
   "source": [
    "We provide an additional empirical example of partialling-out with Lasso to estimate the regression coefficient $\\beta_1$ in the high-dimensional linear regression model:\n",
    "  $$\n",
    "  Y = \\beta_1 D +  \\beta_2'W + \\epsilon.\n",
    "  $$\n",
    "  \n",
    "Specifically, we are interested in how the rates  at which economies of different countries grow ($Y$) are related to the initial wealth levels in each country ($D$) controlling for country's institutional, educational, and other similar characteristics ($W$).\n",
    "  \n",
    "The relationship is captured by $\\beta_1$, the *speed of convergence/divergence*, which measures the speed at which poor countries catch up $(\\beta_1< 0)$ or fall behind $(\\beta_1> 0)$ rich countries, after controlling for $W$. Our inference question here is: do poor countries grow faster than rich countries, controlling for educational and other characteristics? In other words, is the speed of convergence negative: $ \\beta_1 <0?$ This is the Convergence Hypothesis predicted by the Solow Growth Model. This is a structural economic model. Under some strong assumptions, that we won't state here, the predictive exercise we are doing here can be given causal interpretation.\n"
   ]
  },
  {
   "cell_type": "markdown",
   "id": "3a89d16b",
   "metadata": {},
   "source": [
    "The outcome $Y$ is the realized annual growth rate of a country's wealth  (Gross Domestic Product per capita). The target regressor ($D$) is the initial level of the country's wealth. The target parameter $\\beta_1$ is the speed of convergence, which measures the speed at which poor countries catch up with rich countries. The controls ($W$) include measures of education levels, quality of institutions, trade openness, and political stability in the country."
   ]
  },
  {
   "cell_type": "markdown",
   "id": "6aea68c8",
   "metadata": {},
   "source": [
    "## Data analysis\n"
   ]
  },
  {
   "cell_type": "markdown",
   "id": "3a6f4fd0",
   "metadata": {},
   "source": [
    "We consider the data set GrowthData which is included in the package *hdm*. First, let us load the data set to get familiar with the data."
   ]
  },
  {
   "cell_type": "code",
<<<<<<< Updated upstream
   "execution_count": 36,
=======
   "execution_count": 74,
>>>>>>> Stashed changes
   "id": "cd4ece42",
   "metadata": {
    "scrolled": true
   },
   "outputs": [
    {
     "name": "stderr",
     "output_type": "stream",
     "text": [
      "\u001b[32m\u001b[1m   Resolving\u001b[22m\u001b[39m package versions...\n",
      "\u001b[32m\u001b[1m  No Changes\u001b[22m\u001b[39m to `C:\\Users\\Roberto\\.julia\\environments\\v1.7\\Project.toml`\n",
      "\u001b[32m\u001b[1m  No Changes\u001b[22m\u001b[39m to `C:\\Users\\Roberto\\.julia\\environments\\v1.7\\Manifest.toml`\n"
     ]
    }
   ],
   "source": [
    "#import Pkg\n",
    "\n",
    "#Pkg.add(\"RData\")\n",
    "#Pkg.add(\"CodecBzip2\")\n",
    "#Pkg.add(\"DataStructures\")\n",
    "#Pkg.add(\"NamedArrays\")\n",
    "#Pkg.add(\"PrettyTables\")\n",
    "#Pkg.add(\"Lasso\")\n",
    "#Pkg.add(\"DataFrames\")\n",
    "#Pkg.add(\"GLM\")\n",
    "#Pkg.add(\"Distributions\")\n",
    "#Pkg.add(\"TableOperations\")\n",
    "#Pkg.add(\"StatsBase\")\n",
    "Pkg.add(\"FreqTables\")"
   ]
  },
  {
   "cell_type": "code",
<<<<<<< Updated upstream
   "execution_count": 1,
=======
   "execution_count": 77,
>>>>>>> Stashed changes
   "id": "440c8831",
   "metadata": {},
   "outputs": [],
   "source": [
    "using RData, LinearAlgebra, GLM, DataFrames, Statistics, Random, Distributions, DataStructures, NamedArrays, PrettyTables, StatsBase \n",
    "import CodecBzip2"
   ]
  },
  {
   "cell_type": "code",
   "execution_count": 38,
   "id": "54e810e9",
   "metadata": {},
   "outputs": [
    {
     "data": {
      "text/plain": [
       "Dict{String, Any} with 1 entry:\n",
       "  \"GrowthData\" => \u001b[1m90×63 DataFrame\u001b[0m…"
      ]
     },
     "execution_count": 38,
     "metadata": {},
     "output_type": "execute_result"
    }
   ],
   "source": [
    "# Importing .Rdata file\n",
    "growth_read = load(\"../data/GrowthData.RData\")"
   ]
  },
  {
   "cell_type": "code",
<<<<<<< Updated upstream
   "execution_count": 39,
=======
   "execution_count": 8,
>>>>>>> Stashed changes
   "id": "a6196632",
   "metadata": {},
   "outputs": [
    {
     "data": {
      "text/plain": [
       "true"
      ]
     },
<<<<<<< Updated upstream
     "execution_count": 39,
=======
     "execution_count": 8,
>>>>>>> Stashed changes
     "metadata": {},
     "output_type": "execute_result"
    }
   ],
   "source": [
    "# Since growth_read is a dictionary, we check if there is a key called \"GrowthData\", the one we need for our analyze\n",
    "haskey(growth_read, \"GrowthData\")"
   ]
  },
  {
   "cell_type": "code",
<<<<<<< Updated upstream
   "execution_count": 40,
=======
   "execution_count": 9,
>>>>>>> Stashed changes
   "id": "f4679d81",
   "metadata": {},
   "outputs": [
    {
     "data": {
      "text/plain": [
       "63-element Vector{String}:\n",
       " \"Outcome\"\n",
       " \"intercept\"\n",
       " \"gdpsh465\"\n",
       " \"bmp1l\"\n",
       " \"freeop\"\n",
       " \"freetar\"\n",
       " \"h65\"\n",
       " \"hm65\"\n",
       " \"hf65\"\n",
       " \"p65\"\n",
       " \"pm65\"\n",
       " \"pf65\"\n",
       " \"s65\"\n",
       " ⋮\n",
       " \"secc65\"\n",
       " \"seccm65\"\n",
       " \"seccf65\"\n",
       " \"syr65\"\n",
       " \"syrm65\"\n",
       " \"syrf65\"\n",
       " \"teapri65\"\n",
       " \"teasec65\"\n",
       " \"ex1\"\n",
       " \"im1\"\n",
       " \"xr65\"\n",
       " \"tot1\""
      ]
     },
<<<<<<< Updated upstream
     "execution_count": 40,
=======
     "execution_count": 9,
>>>>>>> Stashed changes
     "metadata": {},
     "output_type": "execute_result"
    }
   ],
   "source": [
    "# Now we save that dataframe with a new name\n",
    "growth = growth_read[\"GrowthData\"]\n",
    "names(growth)"
   ]
  },
  {
   "cell_type": "markdown",
   "id": "13948ee4",
   "metadata": {},
   "source": [
    "We determine the type and the dimension of our data set."
   ]
  },
  {
   "cell_type": "code",
<<<<<<< Updated upstream
   "execution_count": 41,
=======
   "execution_count": 10,
>>>>>>> Stashed changes
   "id": "cdb0dece",
   "metadata": {},
   "outputs": [
    {
     "data": {
      "text/plain": [
       "(DataFrame, (90, 63))"
      ]
     },
<<<<<<< Updated upstream
     "execution_count": 41,
=======
     "execution_count": 10,
>>>>>>> Stashed changes
     "metadata": {},
     "output_type": "execute_result"
    }
   ],
   "source": [
    "typeof(growth), size(growth)"
   ]
  },
  {
   "cell_type": "markdown",
   "id": "4e881de0",
   "metadata": {
    "papermill": {
     "duration": 0.025013,
     "end_time": "2021-01-20T08:46:45.109042",
     "exception": false,
     "start_time": "2021-01-20T08:46:45.084029",
     "status": "completed"
    },
    "tags": []
   },
   "source": [
    "The sample contains $90$ countries and $63$ controls. Thus $p \\approx 60$, $n=90$ and $p/n$ is not small. We expect the least squares method to provide a poor estimate of $\\beta_1$.  We expect the method based on partialling-out with Lasso to provide a high quality estimate of $\\beta_1$."
   ]
  },
  {
   "cell_type": "markdown",
   "id": "28cc1025",
   "metadata": {
    "papermill": {
     "duration": 0.024124,
     "end_time": "2021-01-20T08:46:45.157510",
     "exception": false,
     "start_time": "2021-01-20T08:46:45.133386",
     "status": "completed"
    },
    "tags": []
   },
   "source": [
    "To check this hypothesis, we analyze the relation between the output variable $Y$ and the other country's characteristics by running a linear regression in the first step."
   ]
  },
  {
   "cell_type": "code",
<<<<<<< Updated upstream
   "execution_count": 42,
=======
   "execution_count": 11,
>>>>>>> Stashed changes
   "id": "d7e2eaec",
   "metadata": {},
   "outputs": [
    {
     "data": {
      "text/html": [
       "<div class=\"data-frame\"><p>90 rows × 1 columns</p><table class=\"data-frame\"><thead><tr><th></th><th>y</th></tr><tr><th></th><th title=\"Float64\">Float64</th></tr></thead><tbody><tr><th>1</th><td>-0.0243358</td></tr><tr><th>2</th><td>0.100473</td></tr><tr><th>3</th><td>0.0670515</td></tr><tr><th>4</th><td>0.0640892</td></tr><tr><th>5</th><td>0.0279295</td></tr><tr><th>6</th><td>0.0464074</td></tr><tr><th>7</th><td>0.0673323</td></tr><tr><th>8</th><td>0.0209777</td></tr><tr><th>9</th><td>0.0335512</td></tr><tr><th>10</th><td>0.0391465</td></tr><tr><th>11</th><td>0.0761265</td></tr><tr><th>12</th><td>0.127951</td></tr><tr><th>13</th><td>-0.0243261</td></tr><tr><th>14</th><td>0.0782934</td></tr><tr><th>15</th><td>0.112912</td></tr><tr><th>16</th><td>0.0523082</td></tr><tr><th>17</th><td>0.0363909</td></tr><tr><th>18</th><td>0.0297382</td></tr><tr><th>19</th><td>-0.0566436</td></tr><tr><th>20</th><td>0.0192048</td></tr><tr><th>21</th><td>0.085206</td></tr><tr><th>22</th><td>0.133982</td></tr><tr><th>23</th><td>0.173025</td></tr><tr><th>24</th><td>0.109699</td></tr><tr><th>25</th><td>0.0159899</td></tr><tr><th>26</th><td>0.0622498</td></tr><tr><th>27</th><td>0.109871</td></tr><tr><th>28</th><td>0.0921063</td></tr><tr><th>29</th><td>0.083376</td></tr><tr><th>30</th><td>0.0762335</td></tr><tr><th>&vellip;</th><td>&vellip;</td></tr></tbody></table></div>"
      ],
      "text/latex": [
       "\\begin{tabular}{r|c}\n",
       "\t& y\\\\\n",
       "\t\\hline\n",
       "\t& Float64\\\\\n",
       "\t\\hline\n",
       "\t1 & -0.0243358 \\\\\n",
       "\t2 & 0.100473 \\\\\n",
       "\t3 & 0.0670515 \\\\\n",
       "\t4 & 0.0640892 \\\\\n",
       "\t5 & 0.0279295 \\\\\n",
       "\t6 & 0.0464074 \\\\\n",
       "\t7 & 0.0673323 \\\\\n",
       "\t8 & 0.0209777 \\\\\n",
       "\t9 & 0.0335512 \\\\\n",
       "\t10 & 0.0391465 \\\\\n",
       "\t11 & 0.0761265 \\\\\n",
       "\t12 & 0.127951 \\\\\n",
       "\t13 & -0.0243261 \\\\\n",
       "\t14 & 0.0782934 \\\\\n",
       "\t15 & 0.112912 \\\\\n",
       "\t16 & 0.0523082 \\\\\n",
       "\t17 & 0.0363909 \\\\\n",
       "\t18 & 0.0297382 \\\\\n",
       "\t19 & -0.0566436 \\\\\n",
       "\t20 & 0.0192048 \\\\\n",
       "\t21 & 0.085206 \\\\\n",
       "\t22 & 0.133982 \\\\\n",
       "\t23 & 0.173025 \\\\\n",
       "\t24 & 0.109699 \\\\\n",
       "\t25 & 0.0159899 \\\\\n",
       "\t26 & 0.0622498 \\\\\n",
       "\t27 & 0.109871 \\\\\n",
       "\t28 & 0.0921063 \\\\\n",
       "\t29 & 0.083376 \\\\\n",
       "\t30 & 0.0762335 \\\\\n",
       "\t$\\dots$ & $\\dots$ \\\\\n",
       "\\end{tabular}\n"
      ],
      "text/plain": [
       "\u001b[1m90×1 DataFrame\u001b[0m\n",
       "\u001b[1m Row \u001b[0m│\u001b[1m y          \u001b[0m\n",
       "\u001b[1m     \u001b[0m│\u001b[90m Float64    \u001b[0m\n",
       "─────┼────────────\n",
       "   1 │ -0.0243358\n",
       "   2 │  0.100473\n",
       "   3 │  0.0670515\n",
       "   4 │  0.0640892\n",
       "   5 │  0.0279295\n",
       "   6 │  0.0464074\n",
       "   7 │  0.0673323\n",
       "   8 │  0.0209777\n",
       "   9 │  0.0335512\n",
       "  10 │  0.0391465\n",
       "  11 │  0.0761265\n",
       "  ⋮  │     ⋮\n",
       "  81 │  0.038095\n",
       "  82 │  0.034213\n",
       "  83 │  0.0527591\n",
       "  84 │  0.0384156\n",
       "  85 │  0.0318948\n",
       "  86 │  0.031196\n",
       "  87 │  0.0340957\n",
       "  88 │  0.0469005\n",
       "  89 │  0.0397734\n",
       "  90 │  0.0406415\n",
       "\u001b[36m   69 rows omitted\u001b[0m"
      ]
     },
<<<<<<< Updated upstream
     "execution_count": 42,
=======
     "execution_count": 11,
>>>>>>> Stashed changes
     "metadata": {},
     "output_type": "execute_result"
    }
   ],
   "source": [
    "y = growth[!, \"Outcome\"]\n",
    "y = DataFrame([y], [:y])"
   ]
  },
  {
   "cell_type": "code",
<<<<<<< Updated upstream
   "execution_count": 43,
=======
   "execution_count": 12,
>>>>>>> Stashed changes
   "id": "62da68ba",
   "metadata": {},
   "outputs": [
    {
     "data": {
      "text/html": [
       "<div class=\"data-frame\"><p>90 rows × 62 columns (omitted printing of 53 columns)</p><table class=\"data-frame\"><thead><tr><th></th><th>intercept</th><th>gdpsh465</th><th>bmp1l</th><th>freeop</th><th>freetar</th><th>h65</th><th>hm65</th><th>hf65</th><th>p65</th></tr><tr><th></th><th title=\"Int32\">Int32</th><th title=\"Float64\">Float64</th><th title=\"Float64\">Float64</th><th title=\"Float64\">Float64</th><th title=\"Float64\">Float64</th><th title=\"Float64\">Float64</th><th title=\"Float64\">Float64</th><th title=\"Float64\">Float64</th><th title=\"Float64\">Float64</th></tr></thead><tbody><tr><th>1</th><td>1</td><td>6.59167</td><td>0.2837</td><td>0.153491</td><td>0.043888</td><td>0.007</td><td>0.013</td><td>0.001</td><td>0.29</td></tr><tr><th>2</th><td>1</td><td>6.82979</td><td>0.6141</td><td>0.313509</td><td>0.061827</td><td>0.019</td><td>0.032</td><td>0.007</td><td>0.91</td></tr><tr><th>3</th><td>1</td><td>8.89508</td><td>0.0</td><td>0.204244</td><td>0.009186</td><td>0.26</td><td>0.325</td><td>0.201</td><td>1.0</td></tr><tr><th>4</th><td>1</td><td>7.56528</td><td>0.1997</td><td>0.248714</td><td>0.03627</td><td>0.061</td><td>0.07</td><td>0.051</td><td>1.0</td></tr><tr><th>5</th><td>1</td><td>7.1624</td><td>0.174</td><td>0.299252</td><td>0.037367</td><td>0.017</td><td>0.027</td><td>0.007</td><td>0.82</td></tr><tr><th>6</th><td>1</td><td>7.21891</td><td>0.0</td><td>0.258865</td><td>0.02088</td><td>0.023</td><td>0.038</td><td>0.006</td><td>0.5</td></tr><tr><th>7</th><td>1</td><td>7.8536</td><td>0.0</td><td>0.182525</td><td>0.014385</td><td>0.039</td><td>0.063</td><td>0.014</td><td>0.92</td></tr><tr><th>8</th><td>1</td><td>7.70391</td><td>0.2776</td><td>0.215275</td><td>0.029713</td><td>0.024</td><td>0.035</td><td>0.013</td><td>0.69</td></tr><tr><th>9</th><td>1</td><td>9.06346</td><td>0.0</td><td>0.109614</td><td>0.002171</td><td>0.402</td><td>0.488</td><td>0.314</td><td>1.0</td></tr><tr><th>10</th><td>1</td><td>8.15191</td><td>0.1484</td><td>0.110885</td><td>0.028579</td><td>0.145</td><td>0.173</td><td>0.114</td><td>1.0</td></tr><tr><th>11</th><td>1</td><td>6.92952</td><td>0.0296</td><td>0.165784</td><td>0.020115</td><td>0.046</td><td>0.066</td><td>0.025</td><td>0.73</td></tr><tr><th>12</th><td>1</td><td>7.23778</td><td>0.2151</td><td>0.078488</td><td>0.011581</td><td>0.022</td><td>0.031</td><td>0.014</td><td>1.0</td></tr><tr><th>13</th><td>1</td><td>8.11582</td><td>0.4318</td><td>0.137482</td><td>0.026547</td><td>0.059</td><td>0.073</td><td>0.045</td><td>1.0</td></tr><tr><th>14</th><td>1</td><td>7.2717</td><td>0.1689</td><td>0.164598</td><td>0.044446</td><td>0.029</td><td>0.045</td><td>0.013</td><td>0.84</td></tr><tr><th>15</th><td>1</td><td>7.12125</td><td>0.1832</td><td>0.188016</td><td>0.045678</td><td>0.033</td><td>0.051</td><td>0.015</td><td>0.91</td></tr><tr><th>16</th><td>1</td><td>6.97728</td><td>0.0962</td><td>0.204611</td><td>0.077852</td><td>0.037</td><td>0.043</td><td>0.03</td><td>1.0</td></tr><tr><th>17</th><td>1</td><td>7.64969</td><td>0.0227</td><td>0.136287</td><td>0.04673</td><td>0.081</td><td>0.105</td><td>0.056</td><td>0.99</td></tr><tr><th>18</th><td>1</td><td>8.05674</td><td>0.0208</td><td>0.197853</td><td>0.037224</td><td>0.083</td><td>0.097</td><td>0.069</td><td>1.0</td></tr><tr><th>19</th><td>1</td><td>8.78094</td><td>0.2654</td><td>0.189867</td><td>0.031747</td><td>0.068</td><td>0.089</td><td>0.046</td><td>0.94</td></tr><tr><th>20</th><td>1</td><td>6.28786</td><td>0.4207</td><td>0.130682</td><td>0.109921</td><td>0.053</td><td>0.039</td><td>0.011</td><td>0.74</td></tr><tr><th>21</th><td>1</td><td>6.13773</td><td>0.1371</td><td>0.123818</td><td>0.015897</td><td>0.028</td><td>0.025</td><td>0.007</td><td>0.72</td></tr><tr><th>22</th><td>1</td><td>8.12888</td><td>0.0</td><td>0.16721</td><td>0.003311</td><td>0.129</td><td>0.196</td><td>0.063</td><td>1.0</td></tr><tr><th>23</th><td>1</td><td>6.68085</td><td>0.4713</td><td>0.228424</td><td>0.029328</td><td>0.062</td><td>0.09</td><td>0.032</td><td>1.0</td></tr><tr><th>24</th><td>1</td><td>7.17702</td><td>0.0178</td><td>0.18524</td><td>0.015453</td><td>0.02</td><td>0.026</td><td>0.013</td><td>0.9</td></tr><tr><th>25</th><td>1</td><td>6.64898</td><td>0.4762</td><td>0.171181</td><td>0.058937</td><td>0.018</td><td>0.028</td><td>0.007</td><td>0.4</td></tr><tr><th>26</th><td>1</td><td>6.87936</td><td>0.2927</td><td>0.179508</td><td>0.035842</td><td>0.188</td><td>0.169</td><td>0.208</td><td>1.0</td></tr><tr><th>27</th><td>1</td><td>7.3473</td><td>0.1017</td><td>0.247626</td><td>0.037392</td><td>0.08</td><td>0.133</td><td>0.027</td><td>0.78</td></tr><tr><th>28</th><td>1</td><td>6.72503</td><td>0.0266</td><td>0.179933</td><td>0.046376</td><td>0.015</td><td>0.02</td><td>0.01</td><td>0.78</td></tr><tr><th>29</th><td>1</td><td>8.45105</td><td>0.0</td><td>0.358556</td><td>0.016468</td><td>0.09</td><td>0.133</td><td>0.044</td><td>1.0</td></tr><tr><th>30</th><td>1</td><td>8.60245</td><td>0.0</td><td>0.416234</td><td>0.014721</td><td>0.148</td><td>0.194</td><td>0.1</td><td>1.0</td></tr><tr><th>&vellip;</th><td>&vellip;</td><td>&vellip;</td><td>&vellip;</td><td>&vellip;</td><td>&vellip;</td><td>&vellip;</td><td>&vellip;</td><td>&vellip;</td><td>&vellip;</td></tr></tbody></table></div>"
      ],
      "text/latex": [
       "\\begin{tabular}{r|cccccccccc}\n",
       "\t& intercept & gdpsh465 & bmp1l & freeop & freetar & h65 & hm65 & hf65 & p65 & \\\\\n",
       "\t\\hline\n",
       "\t& Int32 & Float64 & Float64 & Float64 & Float64 & Float64 & Float64 & Float64 & Float64 & \\\\\n",
       "\t\\hline\n",
       "\t1 & 1 & 6.59167 & 0.2837 & 0.153491 & 0.043888 & 0.007 & 0.013 & 0.001 & 0.29 & $\\dots$ \\\\\n",
       "\t2 & 1 & 6.82979 & 0.6141 & 0.313509 & 0.061827 & 0.019 & 0.032 & 0.007 & 0.91 & $\\dots$ \\\\\n",
       "\t3 & 1 & 8.89508 & 0.0 & 0.204244 & 0.009186 & 0.26 & 0.325 & 0.201 & 1.0 & $\\dots$ \\\\\n",
       "\t4 & 1 & 7.56528 & 0.1997 & 0.248714 & 0.03627 & 0.061 & 0.07 & 0.051 & 1.0 & $\\dots$ \\\\\n",
       "\t5 & 1 & 7.1624 & 0.174 & 0.299252 & 0.037367 & 0.017 & 0.027 & 0.007 & 0.82 & $\\dots$ \\\\\n",
       "\t6 & 1 & 7.21891 & 0.0 & 0.258865 & 0.02088 & 0.023 & 0.038 & 0.006 & 0.5 & $\\dots$ \\\\\n",
       "\t7 & 1 & 7.8536 & 0.0 & 0.182525 & 0.014385 & 0.039 & 0.063 & 0.014 & 0.92 & $\\dots$ \\\\\n",
       "\t8 & 1 & 7.70391 & 0.2776 & 0.215275 & 0.029713 & 0.024 & 0.035 & 0.013 & 0.69 & $\\dots$ \\\\\n",
       "\t9 & 1 & 9.06346 & 0.0 & 0.109614 & 0.002171 & 0.402 & 0.488 & 0.314 & 1.0 & $\\dots$ \\\\\n",
       "\t10 & 1 & 8.15191 & 0.1484 & 0.110885 & 0.028579 & 0.145 & 0.173 & 0.114 & 1.0 & $\\dots$ \\\\\n",
       "\t11 & 1 & 6.92952 & 0.0296 & 0.165784 & 0.020115 & 0.046 & 0.066 & 0.025 & 0.73 & $\\dots$ \\\\\n",
       "\t12 & 1 & 7.23778 & 0.2151 & 0.078488 & 0.011581 & 0.022 & 0.031 & 0.014 & 1.0 & $\\dots$ \\\\\n",
       "\t13 & 1 & 8.11582 & 0.4318 & 0.137482 & 0.026547 & 0.059 & 0.073 & 0.045 & 1.0 & $\\dots$ \\\\\n",
       "\t14 & 1 & 7.2717 & 0.1689 & 0.164598 & 0.044446 & 0.029 & 0.045 & 0.013 & 0.84 & $\\dots$ \\\\\n",
       "\t15 & 1 & 7.12125 & 0.1832 & 0.188016 & 0.045678 & 0.033 & 0.051 & 0.015 & 0.91 & $\\dots$ \\\\\n",
       "\t16 & 1 & 6.97728 & 0.0962 & 0.204611 & 0.077852 & 0.037 & 0.043 & 0.03 & 1.0 & $\\dots$ \\\\\n",
       "\t17 & 1 & 7.64969 & 0.0227 & 0.136287 & 0.04673 & 0.081 & 0.105 & 0.056 & 0.99 & $\\dots$ \\\\\n",
       "\t18 & 1 & 8.05674 & 0.0208 & 0.197853 & 0.037224 & 0.083 & 0.097 & 0.069 & 1.0 & $\\dots$ \\\\\n",
       "\t19 & 1 & 8.78094 & 0.2654 & 0.189867 & 0.031747 & 0.068 & 0.089 & 0.046 & 0.94 & $\\dots$ \\\\\n",
       "\t20 & 1 & 6.28786 & 0.4207 & 0.130682 & 0.109921 & 0.053 & 0.039 & 0.011 & 0.74 & $\\dots$ \\\\\n",
       "\t21 & 1 & 6.13773 & 0.1371 & 0.123818 & 0.015897 & 0.028 & 0.025 & 0.007 & 0.72 & $\\dots$ \\\\\n",
       "\t22 & 1 & 8.12888 & 0.0 & 0.16721 & 0.003311 & 0.129 & 0.196 & 0.063 & 1.0 & $\\dots$ \\\\\n",
       "\t23 & 1 & 6.68085 & 0.4713 & 0.228424 & 0.029328 & 0.062 & 0.09 & 0.032 & 1.0 & $\\dots$ \\\\\n",
       "\t24 & 1 & 7.17702 & 0.0178 & 0.18524 & 0.015453 & 0.02 & 0.026 & 0.013 & 0.9 & $\\dots$ \\\\\n",
       "\t25 & 1 & 6.64898 & 0.4762 & 0.171181 & 0.058937 & 0.018 & 0.028 & 0.007 & 0.4 & $\\dots$ \\\\\n",
       "\t26 & 1 & 6.87936 & 0.2927 & 0.179508 & 0.035842 & 0.188 & 0.169 & 0.208 & 1.0 & $\\dots$ \\\\\n",
       "\t27 & 1 & 7.3473 & 0.1017 & 0.247626 & 0.037392 & 0.08 & 0.133 & 0.027 & 0.78 & $\\dots$ \\\\\n",
       "\t28 & 1 & 6.72503 & 0.0266 & 0.179933 & 0.046376 & 0.015 & 0.02 & 0.01 & 0.78 & $\\dots$ \\\\\n",
       "\t29 & 1 & 8.45105 & 0.0 & 0.358556 & 0.016468 & 0.09 & 0.133 & 0.044 & 1.0 & $\\dots$ \\\\\n",
       "\t30 & 1 & 8.60245 & 0.0 & 0.416234 & 0.014721 & 0.148 & 0.194 & 0.1 & 1.0 & $\\dots$ \\\\\n",
       "\t$\\dots$ & $\\dots$ & $\\dots$ & $\\dots$ & $\\dots$ & $\\dots$ & $\\dots$ & $\\dots$ & $\\dots$ & $\\dots$ &  \\\\\n",
       "\\end{tabular}\n"
      ],
      "text/plain": [
       "\u001b[1m90×62 DataFrame\u001b[0m\n",
       "\u001b[1m Row \u001b[0m│\u001b[1m intercept \u001b[0m\u001b[1m gdpsh465 \u001b[0m\u001b[1m bmp1l   \u001b[0m\u001b[1m freeop   \u001b[0m\u001b[1m freetar  \u001b[0m\u001b[1m h65     \u001b[0m\u001b[1m hm65    \u001b[0m\u001b[1m hf6\u001b[0m ⋯\n",
       "\u001b[1m     \u001b[0m│\u001b[90m Int32     \u001b[0m\u001b[90m Float64  \u001b[0m\u001b[90m Float64 \u001b[0m\u001b[90m Float64  \u001b[0m\u001b[90m Float64  \u001b[0m\u001b[90m Float64 \u001b[0m\u001b[90m Float64 \u001b[0m\u001b[90m Flo\u001b[0m ⋯\n",
       "─────┼──────────────────────────────────────────────────────────────────────────\n",
       "   1 │         1   6.59167   0.2837  0.153491  0.043888    0.007    0.013    0 ⋯\n",
       "   2 │         1   6.82979   0.6141  0.313509  0.061827    0.019    0.032    0\n",
       "   3 │         1   8.89508   0.0     0.204244  0.009186    0.26     0.325    0\n",
       "   4 │         1   7.56528   0.1997  0.248714  0.03627     0.061    0.07     0\n",
       "   5 │         1   7.1624    0.174   0.299252  0.037367    0.017    0.027    0 ⋯\n",
       "   6 │         1   7.21891   0.0     0.258865  0.02088     0.023    0.038    0\n",
       "   7 │         1   7.8536    0.0     0.182525  0.014385    0.039    0.063    0\n",
       "   8 │         1   7.70391   0.2776  0.215275  0.029713    0.024    0.035    0\n",
       "   9 │         1   9.06346   0.0     0.109614  0.002171    0.402    0.488    0 ⋯\n",
       "  10 │         1   8.15191   0.1484  0.110885  0.028579    0.145    0.173    0\n",
       "  11 │         1   6.92952   0.0296  0.165784  0.020115    0.046    0.066    0\n",
       "  ⋮  │     ⋮         ⋮         ⋮        ⋮         ⋮         ⋮        ⋮         ⋱\n",
       "  81 │         1   9.03097   0.0     0.293138  0.005517    0.245    0.251    0\n",
       "  82 │         1   8.99554   0.0     0.30472   0.011658    0.246    0.26     0 ⋯\n",
       "  83 │         1   8.23483   0.0363  0.288405  0.011589    0.183    0.222    0\n",
       "  84 │         1   8.33255   0.0     0.345485  0.006503    0.188    0.248    0\n",
       "  85 │         1   8.64559   0.0     0.28844   0.005995    0.256    0.301    0\n",
       "  86 │         1   8.99106   0.0     0.371898  0.014586    0.255    0.336    0 ⋯\n",
       "  87 │         1   8.02519   0.005   0.296437  0.013615    0.108    0.117    0\n",
       "  88 │         1   9.03014   0.0     0.265778  0.008629    0.288    0.337    0\n",
       "  89 │         1   8.86531   0.0     0.282939  0.005048    0.188    0.236    0\n",
       "  90 │         1   8.91234   0.0     0.150366  0.024377    0.257    0.338    0 ⋯\n",
       "\u001b[36m                                                  55 columns and 69 rows omitted\u001b[0m"
      ]
     },
<<<<<<< Updated upstream
     "execution_count": 43,
=======
     "execution_count": 12,
>>>>>>> Stashed changes
     "metadata": {},
     "output_type": "execute_result"
    }
   ],
   "source": [
    "X = select(growth, Not([\"Outcome\"]))"
   ]
  },
  {
   "cell_type": "code",
<<<<<<< Updated upstream
   "execution_count": 44,
=======
   "execution_count": 13,
>>>>>>> Stashed changes
   "id": "3787ad6d",
   "metadata": {},
   "outputs": [
    {
     "data": {
      "text/plain": [
       "(90, 62)"
      ]
     },
<<<<<<< Updated upstream
     "execution_count": 44,
=======
     "execution_count": 13,
>>>>>>> Stashed changes
     "metadata": {},
     "output_type": "execute_result"
    }
   ],
   "source": [
    "size(X)"
   ]
  },
  {
   "cell_type": "code",
<<<<<<< Updated upstream
   "execution_count": 45,
=======
   "execution_count": 14,
>>>>>>> Stashed changes
   "id": "df53af79",
   "metadata": {},
   "outputs": [
    {
     "data": {
      "text/plain": [
       "(DataFrame, DataFrame)"
      ]
     },
<<<<<<< Updated upstream
     "execution_count": 45,
=======
     "execution_count": 14,
>>>>>>> Stashed changes
     "metadata": {},
     "output_type": "execute_result"
    }
   ],
   "source": [
    "typeof(y), typeof(X)"
   ]
  },
  {
   "cell_type": "code",
<<<<<<< Updated upstream
   "execution_count": 46,
=======
   "execution_count": 15,
>>>>>>> Stashed changes
   "id": "27eb647a",
   "metadata": {},
   "outputs": [
    {
     "data": {
      "text/html": [
       "<div class=\"data-frame\"><p>90 rows × 63 columns (omitted printing of 55 columns)</p><table class=\"data-frame\"><thead><tr><th></th><th>y</th><th>intercept</th><th>gdpsh465</th><th>bmp1l</th><th>freeop</th><th>freetar</th><th>h65</th><th>hm65</th></tr><tr><th></th><th title=\"Float64\">Float64</th><th title=\"Int32\">Int32</th><th title=\"Float64\">Float64</th><th title=\"Float64\">Float64</th><th title=\"Float64\">Float64</th><th title=\"Float64\">Float64</th><th title=\"Float64\">Float64</th><th title=\"Float64\">Float64</th></tr></thead><tbody><tr><th>1</th><td>-0.0243358</td><td>1</td><td>6.59167</td><td>0.2837</td><td>0.153491</td><td>0.043888</td><td>0.007</td><td>0.013</td></tr><tr><th>2</th><td>0.100473</td><td>1</td><td>6.82979</td><td>0.6141</td><td>0.313509</td><td>0.061827</td><td>0.019</td><td>0.032</td></tr><tr><th>3</th><td>0.0670515</td><td>1</td><td>8.89508</td><td>0.0</td><td>0.204244</td><td>0.009186</td><td>0.26</td><td>0.325</td></tr><tr><th>4</th><td>0.0640892</td><td>1</td><td>7.56528</td><td>0.1997</td><td>0.248714</td><td>0.03627</td><td>0.061</td><td>0.07</td></tr><tr><th>5</th><td>0.0279295</td><td>1</td><td>7.1624</td><td>0.174</td><td>0.299252</td><td>0.037367</td><td>0.017</td><td>0.027</td></tr><tr><th>6</th><td>0.0464074</td><td>1</td><td>7.21891</td><td>0.0</td><td>0.258865</td><td>0.02088</td><td>0.023</td><td>0.038</td></tr><tr><th>7</th><td>0.0673323</td><td>1</td><td>7.8536</td><td>0.0</td><td>0.182525</td><td>0.014385</td><td>0.039</td><td>0.063</td></tr><tr><th>8</th><td>0.0209777</td><td>1</td><td>7.70391</td><td>0.2776</td><td>0.215275</td><td>0.029713</td><td>0.024</td><td>0.035</td></tr><tr><th>9</th><td>0.0335512</td><td>1</td><td>9.06346</td><td>0.0</td><td>0.109614</td><td>0.002171</td><td>0.402</td><td>0.488</td></tr><tr><th>10</th><td>0.0391465</td><td>1</td><td>8.15191</td><td>0.1484</td><td>0.110885</td><td>0.028579</td><td>0.145</td><td>0.173</td></tr><tr><th>11</th><td>0.0761265</td><td>1</td><td>6.92952</td><td>0.0296</td><td>0.165784</td><td>0.020115</td><td>0.046</td><td>0.066</td></tr><tr><th>12</th><td>0.127951</td><td>1</td><td>7.23778</td><td>0.2151</td><td>0.078488</td><td>0.011581</td><td>0.022</td><td>0.031</td></tr><tr><th>13</th><td>-0.0243261</td><td>1</td><td>8.11582</td><td>0.4318</td><td>0.137482</td><td>0.026547</td><td>0.059</td><td>0.073</td></tr><tr><th>14</th><td>0.0782934</td><td>1</td><td>7.2717</td><td>0.1689</td><td>0.164598</td><td>0.044446</td><td>0.029</td><td>0.045</td></tr><tr><th>15</th><td>0.112912</td><td>1</td><td>7.12125</td><td>0.1832</td><td>0.188016</td><td>0.045678</td><td>0.033</td><td>0.051</td></tr><tr><th>16</th><td>0.0523082</td><td>1</td><td>6.97728</td><td>0.0962</td><td>0.204611</td><td>0.077852</td><td>0.037</td><td>0.043</td></tr><tr><th>17</th><td>0.0363909</td><td>1</td><td>7.64969</td><td>0.0227</td><td>0.136287</td><td>0.04673</td><td>0.081</td><td>0.105</td></tr><tr><th>18</th><td>0.0297382</td><td>1</td><td>8.05674</td><td>0.0208</td><td>0.197853</td><td>0.037224</td><td>0.083</td><td>0.097</td></tr><tr><th>19</th><td>-0.0566436</td><td>1</td><td>8.78094</td><td>0.2654</td><td>0.189867</td><td>0.031747</td><td>0.068</td><td>0.089</td></tr><tr><th>20</th><td>0.0192048</td><td>1</td><td>6.28786</td><td>0.4207</td><td>0.130682</td><td>0.109921</td><td>0.053</td><td>0.039</td></tr><tr><th>21</th><td>0.085206</td><td>1</td><td>6.13773</td><td>0.1371</td><td>0.123818</td><td>0.015897</td><td>0.028</td><td>0.025</td></tr><tr><th>22</th><td>0.133982</td><td>1</td><td>8.12888</td><td>0.0</td><td>0.16721</td><td>0.003311</td><td>0.129</td><td>0.196</td></tr><tr><th>23</th><td>0.173025</td><td>1</td><td>6.68085</td><td>0.4713</td><td>0.228424</td><td>0.029328</td><td>0.062</td><td>0.09</td></tr><tr><th>24</th><td>0.109699</td><td>1</td><td>7.17702</td><td>0.0178</td><td>0.18524</td><td>0.015453</td><td>0.02</td><td>0.026</td></tr><tr><th>25</th><td>0.0159899</td><td>1</td><td>6.64898</td><td>0.4762</td><td>0.171181</td><td>0.058937</td><td>0.018</td><td>0.028</td></tr><tr><th>26</th><td>0.0622498</td><td>1</td><td>6.87936</td><td>0.2927</td><td>0.179508</td><td>0.035842</td><td>0.188</td><td>0.169</td></tr><tr><th>27</th><td>0.109871</td><td>1</td><td>7.3473</td><td>0.1017</td><td>0.247626</td><td>0.037392</td><td>0.08</td><td>0.133</td></tr><tr><th>28</th><td>0.0921063</td><td>1</td><td>6.72503</td><td>0.0266</td><td>0.179933</td><td>0.046376</td><td>0.015</td><td>0.02</td></tr><tr><th>29</th><td>0.083376</td><td>1</td><td>8.45105</td><td>0.0</td><td>0.358556</td><td>0.016468</td><td>0.09</td><td>0.133</td></tr><tr><th>30</th><td>0.0762335</td><td>1</td><td>8.60245</td><td>0.0</td><td>0.416234</td><td>0.014721</td><td>0.148</td><td>0.194</td></tr><tr><th>&vellip;</th><td>&vellip;</td><td>&vellip;</td><td>&vellip;</td><td>&vellip;</td><td>&vellip;</td><td>&vellip;</td><td>&vellip;</td><td>&vellip;</td></tr></tbody></table></div>"
      ],
      "text/latex": [
       "\\begin{tabular}{r|ccccccccc}\n",
       "\t& y & intercept & gdpsh465 & bmp1l & freeop & freetar & h65 & hm65 & \\\\\n",
       "\t\\hline\n",
       "\t& Float64 & Int32 & Float64 & Float64 & Float64 & Float64 & Float64 & Float64 & \\\\\n",
       "\t\\hline\n",
       "\t1 & -0.0243358 & 1 & 6.59167 & 0.2837 & 0.153491 & 0.043888 & 0.007 & 0.013 & $\\dots$ \\\\\n",
       "\t2 & 0.100473 & 1 & 6.82979 & 0.6141 & 0.313509 & 0.061827 & 0.019 & 0.032 & $\\dots$ \\\\\n",
       "\t3 & 0.0670515 & 1 & 8.89508 & 0.0 & 0.204244 & 0.009186 & 0.26 & 0.325 & $\\dots$ \\\\\n",
       "\t4 & 0.0640892 & 1 & 7.56528 & 0.1997 & 0.248714 & 0.03627 & 0.061 & 0.07 & $\\dots$ \\\\\n",
       "\t5 & 0.0279295 & 1 & 7.1624 & 0.174 & 0.299252 & 0.037367 & 0.017 & 0.027 & $\\dots$ \\\\\n",
       "\t6 & 0.0464074 & 1 & 7.21891 & 0.0 & 0.258865 & 0.02088 & 0.023 & 0.038 & $\\dots$ \\\\\n",
       "\t7 & 0.0673323 & 1 & 7.8536 & 0.0 & 0.182525 & 0.014385 & 0.039 & 0.063 & $\\dots$ \\\\\n",
       "\t8 & 0.0209777 & 1 & 7.70391 & 0.2776 & 0.215275 & 0.029713 & 0.024 & 0.035 & $\\dots$ \\\\\n",
       "\t9 & 0.0335512 & 1 & 9.06346 & 0.0 & 0.109614 & 0.002171 & 0.402 & 0.488 & $\\dots$ \\\\\n",
       "\t10 & 0.0391465 & 1 & 8.15191 & 0.1484 & 0.110885 & 0.028579 & 0.145 & 0.173 & $\\dots$ \\\\\n",
       "\t11 & 0.0761265 & 1 & 6.92952 & 0.0296 & 0.165784 & 0.020115 & 0.046 & 0.066 & $\\dots$ \\\\\n",
       "\t12 & 0.127951 & 1 & 7.23778 & 0.2151 & 0.078488 & 0.011581 & 0.022 & 0.031 & $\\dots$ \\\\\n",
       "\t13 & -0.0243261 & 1 & 8.11582 & 0.4318 & 0.137482 & 0.026547 & 0.059 & 0.073 & $\\dots$ \\\\\n",
       "\t14 & 0.0782934 & 1 & 7.2717 & 0.1689 & 0.164598 & 0.044446 & 0.029 & 0.045 & $\\dots$ \\\\\n",
       "\t15 & 0.112912 & 1 & 7.12125 & 0.1832 & 0.188016 & 0.045678 & 0.033 & 0.051 & $\\dots$ \\\\\n",
       "\t16 & 0.0523082 & 1 & 6.97728 & 0.0962 & 0.204611 & 0.077852 & 0.037 & 0.043 & $\\dots$ \\\\\n",
       "\t17 & 0.0363909 & 1 & 7.64969 & 0.0227 & 0.136287 & 0.04673 & 0.081 & 0.105 & $\\dots$ \\\\\n",
       "\t18 & 0.0297382 & 1 & 8.05674 & 0.0208 & 0.197853 & 0.037224 & 0.083 & 0.097 & $\\dots$ \\\\\n",
       "\t19 & -0.0566436 & 1 & 8.78094 & 0.2654 & 0.189867 & 0.031747 & 0.068 & 0.089 & $\\dots$ \\\\\n",
       "\t20 & 0.0192048 & 1 & 6.28786 & 0.4207 & 0.130682 & 0.109921 & 0.053 & 0.039 & $\\dots$ \\\\\n",
       "\t21 & 0.085206 & 1 & 6.13773 & 0.1371 & 0.123818 & 0.015897 & 0.028 & 0.025 & $\\dots$ \\\\\n",
       "\t22 & 0.133982 & 1 & 8.12888 & 0.0 & 0.16721 & 0.003311 & 0.129 & 0.196 & $\\dots$ \\\\\n",
       "\t23 & 0.173025 & 1 & 6.68085 & 0.4713 & 0.228424 & 0.029328 & 0.062 & 0.09 & $\\dots$ \\\\\n",
       "\t24 & 0.109699 & 1 & 7.17702 & 0.0178 & 0.18524 & 0.015453 & 0.02 & 0.026 & $\\dots$ \\\\\n",
       "\t25 & 0.0159899 & 1 & 6.64898 & 0.4762 & 0.171181 & 0.058937 & 0.018 & 0.028 & $\\dots$ \\\\\n",
       "\t26 & 0.0622498 & 1 & 6.87936 & 0.2927 & 0.179508 & 0.035842 & 0.188 & 0.169 & $\\dots$ \\\\\n",
       "\t27 & 0.109871 & 1 & 7.3473 & 0.1017 & 0.247626 & 0.037392 & 0.08 & 0.133 & $\\dots$ \\\\\n",
       "\t28 & 0.0921063 & 1 & 6.72503 & 0.0266 & 0.179933 & 0.046376 & 0.015 & 0.02 & $\\dots$ \\\\\n",
       "\t29 & 0.083376 & 1 & 8.45105 & 0.0 & 0.358556 & 0.016468 & 0.09 & 0.133 & $\\dots$ \\\\\n",
       "\t30 & 0.0762335 & 1 & 8.60245 & 0.0 & 0.416234 & 0.014721 & 0.148 & 0.194 & $\\dots$ \\\\\n",
       "\t$\\dots$ & $\\dots$ & $\\dots$ & $\\dots$ & $\\dots$ & $\\dots$ & $\\dots$ & $\\dots$ & $\\dots$ &  \\\\\n",
       "\\end{tabular}\n"
      ],
      "text/plain": [
       "\u001b[1m90×63 DataFrame\u001b[0m\n",
       "\u001b[1m Row \u001b[0m│\u001b[1m y          \u001b[0m\u001b[1m intercept \u001b[0m\u001b[1m gdpsh465 \u001b[0m\u001b[1m bmp1l   \u001b[0m\u001b[1m freeop   \u001b[0m\u001b[1m freetar  \u001b[0m\u001b[1m h65     \u001b[0m\u001b[1m \u001b[0m ⋯\n",
       "\u001b[1m     \u001b[0m│\u001b[90m Float64    \u001b[0m\u001b[90m Int32     \u001b[0m\u001b[90m Float64  \u001b[0m\u001b[90m Float64 \u001b[0m\u001b[90m Float64  \u001b[0m\u001b[90m Float64  \u001b[0m\u001b[90m Float64 \u001b[0m\u001b[90m \u001b[0m ⋯\n",
       "─────┼──────────────────────────────────────────────────────────────────────────\n",
       "   1 │ -0.0243358          1   6.59167   0.2837  0.153491  0.043888    0.007   ⋯\n",
       "   2 │  0.100473           1   6.82979   0.6141  0.313509  0.061827    0.019\n",
       "   3 │  0.0670515          1   8.89508   0.0     0.204244  0.009186    0.26\n",
       "   4 │  0.0640892          1   7.56528   0.1997  0.248714  0.03627     0.061\n",
       "   5 │  0.0279295          1   7.1624    0.174   0.299252  0.037367    0.017   ⋯\n",
       "   6 │  0.0464074          1   7.21891   0.0     0.258865  0.02088     0.023\n",
       "   7 │  0.0673323          1   7.8536    0.0     0.182525  0.014385    0.039\n",
       "   8 │  0.0209777          1   7.70391   0.2776  0.215275  0.029713    0.024\n",
       "   9 │  0.0335512          1   9.06346   0.0     0.109614  0.002171    0.402   ⋯\n",
       "  10 │  0.0391465          1   8.15191   0.1484  0.110885  0.028579    0.145\n",
       "  11 │  0.0761265          1   6.92952   0.0296  0.165784  0.020115    0.046\n",
       "  ⋮  │     ⋮           ⋮         ⋮         ⋮        ⋮         ⋮         ⋮      ⋱\n",
       "  81 │  0.038095           1   9.03097   0.0     0.293138  0.005517    0.245\n",
       "  82 │  0.034213           1   8.99554   0.0     0.30472   0.011658    0.246   ⋯\n",
       "  83 │  0.0527591          1   8.23483   0.0363  0.288405  0.011589    0.183\n",
       "  84 │  0.0384156          1   8.33255   0.0     0.345485  0.006503    0.188\n",
       "  85 │  0.0318948          1   8.64559   0.0     0.28844   0.005995    0.256\n",
       "  86 │  0.031196           1   8.99106   0.0     0.371898  0.014586    0.255   ⋯\n",
       "  87 │  0.0340957          1   8.02519   0.005   0.296437  0.013615    0.108\n",
       "  88 │  0.0469005          1   9.03014   0.0     0.265778  0.008629    0.288\n",
       "  89 │  0.0397734          1   8.86531   0.0     0.282939  0.005048    0.188\n",
       "  90 │  0.0406415          1   8.91234   0.0     0.150366  0.024377    0.257   ⋯\n",
       "\u001b[36m                                                  56 columns and 69 rows omitted\u001b[0m"
      ]
     },
<<<<<<< Updated upstream
     "execution_count": 46,
=======
     "execution_count": 15,
>>>>>>> Stashed changes
     "metadata": {},
     "output_type": "execute_result"
    }
   ],
   "source": [
    "data = [y X]"
   ]
  },
  {
   "cell_type": "code",
<<<<<<< Updated upstream
   "execution_count": 14,
   "id": "44007a64",
   "metadata": {},
   "outputs": [
    {
     "data": {
      "text/plain": [
       "63-element Vector{String}:\n",
       " \"y\"\n",
       " \"intercept\"\n",
       " \"gdpsh465\"\n",
       " \"bmp1l\"\n",
       " \"freeop\"\n",
       " \"freetar\"\n",
       " \"h65\"\n",
       " \"hm65\"\n",
       " \"hf65\"\n",
       " \"p65\"\n",
       " \"pm65\"\n",
       " \"pf65\"\n",
       " \"s65\"\n",
       " ⋮\n",
       " \"secc65\"\n",
       " \"seccm65\"\n",
       " \"seccf65\"\n",
       " \"syr65\"\n",
       " \"syrm65\"\n",
       " \"syrf65\"\n",
       " \"teapri65\"\n",
       " \"teasec65\"\n",
       " \"ex1\"\n",
       " \"im1\"\n",
       " \"xr65\"\n",
       " \"tot1\""
      ]
     },
     "execution_count": 14,
     "metadata": {},
     "output_type": "execute_result"
    }
   ],
   "source": [
    "names(data)"
   ]
  },
  {
   "cell_type": "code",
   "execution_count": 18,
   "id": "6e3b470a",
   "metadata": {},
   "outputs": [
    {
     "data": {
      "text/plain": [
       "StatsModels.TableRegressionModel{LinearModel{GLM.LmResp{Vector{Float64}}, GLM.DensePredChol{Float64, Cholesky{Float64, Matrix{Float64}}}}, Matrix{Float64}}\n",
       "\n",
       "Outcome ~ 1 + gdpsh465 + bmp1l + freeop + freetar + h65 + hm65 + hf65 + p65 + pm65 + pf65 + s65 + sm65 + sf65 + fert65 + mort65 + lifee065 + gpop1 + fert1 + mort1 + invsh41 + geetot1 + geerec1 + gde1 + govwb1 + govsh41 + gvxdxe41 + high65 + highm65 + highf65 + highc65 + highcm65 + highcf65 + human65 + humanm65 + humanf65 + hyr65 + hyrm65 + hyrf65 + no65 + nom65 + nof65 + pinstab1 + pop65 + worker65 + pop1565 + pop6565 + sec65 + secm65 + secf65 + secc65 + seccm65 + seccf65 + syr65 + syrm65 + syrf65 + teapri65 + teasec65 + ex1 + im1 + xr65 + tot1\n",
       "\n",
       "Coefficients:\n",
       "─────────────────────────────────────────────────────────────────────────────────────\n",
       "                    Coef.    Std. Error      t  Pr(>|t|)      Lower 95%     Upper 95%\n",
       "─────────────────────────────────────────────────────────────────────────────────────\n",
       "(Intercept)   0.247161      0.784502      0.32    0.7551   -1.35982        1.85414\n",
       "gdpsh465     -0.00937799    0.0298877    -0.31    0.7560   -0.0706002      0.0518442\n",
       "bmp1l        -0.0688627     0.0325307    -2.12    0.0433   -0.135499      -0.00222666\n",
       "freeop        0.080069      0.207864      0.39    0.7030   -0.345721       0.505859\n",
       "freetar      -0.488963      0.418163     -1.17    0.2521   -1.34553        0.367605\n",
       "h65          -2.3621        0.857292     -2.76    0.0102   -4.11818       -0.606016\n",
       "hm65          0.707143      0.523145      1.35    0.1873   -0.364471       1.77876\n",
       "hf65          1.69345       0.503189      3.37    0.0022    0.662713       2.72418\n",
       "p65           0.265527      0.164294      1.62    0.1173   -0.0710144      0.602068\n",
       "pm65          0.136953      0.151217      0.91    0.3728   -0.172802       0.446708\n",
       "pf65         -0.331267      0.165123     -2.01    0.0546   -0.669506       0.00697217\n",
       "s65           0.0390793     0.185522      0.21    0.8347   -0.340946       0.419105\n",
       "sm65         -0.0306685     0.116794     -0.26    0.7948   -0.26991        0.208573\n",
       "sf65         -0.179917      0.118099     -1.52    0.1389   -0.421832       0.0619974\n",
       "fert65        0.00688083    0.0270514     0.25    0.8011   -0.0485315      0.0622932\n",
       "mort65       -0.233455      0.817422     -0.29    0.7773   -1.90787        1.44096\n",
       "lifee065     -0.0149145     0.193336     -0.08    0.9391   -0.410944       0.381116\n",
       "gpop1         0.970185      1.81221       0.54    0.5966   -2.74196        4.68233\n",
       "fert1         0.00883819    0.0350415     0.25    0.8027   -0.062941       0.0806174\n",
       "mort1         0.0665629     0.68481       0.10    0.9233   -1.33621        1.46933\n",
       "invsh41       0.0744611     0.108447      0.69    0.4980   -0.147682       0.296605\n",
       "geetot1      -0.715105      1.68014      -0.43    0.6736   -4.15671        2.7265\n",
       "geerec1       0.630005      2.44738       0.26    0.7987   -4.38322        5.64323\n",
       "gde1         -0.443575      1.67121      -0.27    0.7926   -3.86689        2.97974\n",
       "govwb1        0.337452      0.437987      0.77    0.4475   -0.559723       1.23463\n",
       "govsh41       0.463175      1.92544       0.24    0.8117   -3.4809         4.40725\n",
       "gvxdxe41     -0.793382      2.0594       -0.39    0.7030   -5.01187        3.4251\n",
       "high65       -0.752484      0.905722     -0.83    0.4131   -2.60777        1.1028\n",
       "highm65      -0.390262      0.681249     -0.57    0.5713   -1.78574        1.00521\n",
       "highf65      -0.417749      0.56149      -0.74    0.4631   -1.56791        0.732412\n",
       "highc65      -2.21579       1.48081      -1.50    0.1458   -5.24909        0.817506\n",
       "highcm65      0.279718      0.658239      0.42    0.6741   -1.06862        1.62806\n",
       "highcf65      0.392077      0.766025      0.51    0.6128   -1.17705        1.96121\n",
       "human65       2.33727       3.30727       0.71    0.4856   -4.43736        9.1119\n",
       "humanm65     -1.20925       1.61852      -0.75    0.4612   -4.52463        2.10613\n",
       "humanf65     -1.10395       1.68469      -0.66    0.5176   -4.55489        2.34699\n",
       "hyr65        54.9139       23.8873        2.30    0.0292    5.98298      103.845\n",
       "hyrm65       12.935        23.1714        0.56    0.5811  -34.5295        60.3996\n",
       "hyrf65        9.09258      17.6696        0.51    0.6109  -27.1019        45.2871\n",
       "no65          0.0372099     0.131973      0.28    0.7801   -0.233125       0.307545\n",
       "nom65        -0.0211977     0.0649598    -0.33    0.7466   -0.154262       0.111866\n",
       "nof65        -0.0168578     0.0670026    -0.25    0.8032   -0.154106       0.120391\n",
       "pinstab1     -0.0499711     0.0309208    -1.62    0.1173   -0.11331        0.0133673\n",
       "pop65         1.0318e-7     1.31795e-7    0.78    0.4403   -1.6679e-7      3.7315e-7\n",
       "worker65      0.034079      0.156191      0.22    0.8289   -0.285864       0.354022\n",
       "pop1565      -0.465535      0.471334     -0.99    0.3318   -1.43102        0.499949\n",
       "pop6565      -1.35745       0.634942     -2.14    0.0414   -2.65807       -0.0568295\n",
       "sec65        -0.0108928     0.307662     -0.04    0.9720   -0.641109       0.619324\n",
       "secm65        0.00334366    0.151192      0.02    0.9825   -0.30636        0.313047\n",
       "secf65       -0.00230433    0.157972     -0.01    0.9885   -0.325894       0.321286\n",
       "secc65       -0.491528      0.729041     -0.67    0.5057   -1.9849         1.00184\n",
       "seccm65       0.259602      0.355653      0.73    0.4715   -0.468921       0.988124\n",
       "seccf65       0.220652      0.373333      0.59    0.5592   -0.544086       0.985391\n",
       "syr65        -0.755581      7.97676      -0.09    0.9252  -17.0952        15.5841\n",
       "syrm65        0.310901      3.89673       0.08    0.9370   -7.67119        8.29299\n",
       "syrf65        0.759281      4.11063       0.18    0.8548   -7.66097        9.17953\n",
       "teapri65      3.95452e-5    0.000770041   0.05    0.9594   -0.00153781     0.0016169\n",
       "teasec65      0.000249667   0.00117123    0.21    0.8327   -0.00214949     0.00264882\n",
       "ex1          -0.580408      0.241847     -2.40    0.0233   -1.07581       -0.0850066\n",
       "im1           0.591445      0.250298      2.36    0.0253    0.0787333      1.10416\n",
       "xr65         -0.000103777   5.41676e-5   -1.92    0.0656   -0.000214734    7.18049e-6\n",
       "tot1         -0.127901      0.112595     -1.14    0.2656   -0.358542       0.10274\n",
       "─────────────────────────────────────────────────────────────────────────────────────"
      ]
     },
     "execution_count": 18,
     "metadata": {},
     "output_type": "execute_result"
    }
   ],
   "source": [
    "# OLS regression\n",
    "reg_ols  = lm(term(:Outcome) ~ sum(term.(names(growth[!, Not([\"Outcome\", \"intercept\"])]))), growth, dropcollinear=false)"
   ]
  },
  {
   "cell_type": "code",
   "execution_count": 12,
=======
   "execution_count": 16,
>>>>>>> Stashed changes
   "id": "5501c282",
   "metadata": {
    "scrolled": false
   },
   "outputs": [
    {
     "data": {
      "text/plain": [
       "StatsModels.TableRegressionModel{LinearModel{GLM.LmResp{Vector{Float64}}, GLM.DensePredChol{Float64, Cholesky{Float64, Matrix{Float64}}}}, Matrix{Float64}}\n",
       "\n",
       "y ~ 1 + gdpsh465 + bmp1l + freeop + freetar + h65 + hm65 + hf65 + p65 + pm65 + pf65 + s65 + sm65 + sf65 + fert65 + mort65 + lifee065 + gpop1 + fert1 + mort1 + invsh41 + geetot1 + geerec1 + gde1 + govwb1 + govsh41 + gvxdxe41 + high65 + highm65 + highf65 + highc65 + highcm65 + highcf65 + human65 + humanm65 + humanf65 + hyr65 + hyrm65 + hyrf65 + no65 + nom65 + nof65 + pinstab1 + pop65 + worker65 + pop1565 + pop6565 + sec65 + secm65 + secf65 + secc65 + seccm65 + seccf65 + syr65 + syrm65 + syrf65 + teapri65 + teasec65 + ex1 + im1 + xr65 + tot1\n",
       "\n",
       "Coefficients:\n",
       "─────────────────────────────────────────────────────────────────────────────────────\n",
       "                    Coef.    Std. Error      t  Pr(>|t|)      Lower 95%     Upper 95%\n",
       "─────────────────────────────────────────────────────────────────────────────────────\n",
       "(Intercept)   0.247161      0.784502      0.32    0.7551   -1.35982        1.85414\n",
       "gdpsh465     -0.00937799    0.0298877    -0.31    0.7560   -0.0706002      0.0518442\n",
       "bmp1l        -0.0688627     0.0325307    -2.12    0.0433   -0.135499      -0.00222666\n",
       "freeop        0.080069      0.207864      0.39    0.7030   -0.345721       0.505859\n",
       "freetar      -0.488963      0.418163     -1.17    0.2521   -1.34553        0.367605\n",
       "h65          -2.3621        0.857292     -2.76    0.0102   -4.11818       -0.606016\n",
       "hm65          0.707143      0.523145      1.35    0.1873   -0.364471       1.77876\n",
       "hf65          1.69345       0.503189      3.37    0.0022    0.662713       2.72418\n",
       "p65           0.265527      0.164294      1.62    0.1173   -0.0710144      0.602068\n",
       "pm65          0.136953      0.151217      0.91    0.3728   -0.172802       0.446708\n",
       "pf65         -0.331267      0.165123     -2.01    0.0546   -0.669506       0.00697217\n",
       "s65           0.0390793     0.185522      0.21    0.8347   -0.340946       0.419105\n",
       "sm65         -0.0306685     0.116794     -0.26    0.7948   -0.26991        0.208573\n",
       "sf65         -0.179917      0.118099     -1.52    0.1389   -0.421832       0.0619974\n",
       "fert65        0.00688083    0.0270514     0.25    0.8011   -0.0485315      0.0622932\n",
       "mort65       -0.233455      0.817422     -0.29    0.7773   -1.90787        1.44096\n",
       "lifee065     -0.0149145     0.193336     -0.08    0.9391   -0.410944       0.381116\n",
       "gpop1         0.970185      1.81221       0.54    0.5966   -2.74196        4.68233\n",
       "fert1         0.00883819    0.0350415     0.25    0.8027   -0.062941       0.0806174\n",
       "mort1         0.0665629     0.68481       0.10    0.9233   -1.33621        1.46933\n",
       "invsh41       0.0744611     0.108447      0.69    0.4980   -0.147682       0.296605\n",
       "geetot1      -0.715105      1.68014      -0.43    0.6736   -4.15671        2.7265\n",
       "geerec1       0.630005      2.44738       0.26    0.7987   -4.38322        5.64323\n",
       "gde1         -0.443575      1.67121      -0.27    0.7926   -3.86689        2.97974\n",
       "govwb1        0.337452      0.437987      0.77    0.4475   -0.559723       1.23463\n",
       "govsh41       0.463175      1.92544       0.24    0.8117   -3.4809         4.40725\n",
       "gvxdxe41     -0.793382      2.0594       -0.39    0.7030   -5.01187        3.4251\n",
       "high65       -0.752484      0.905722     -0.83    0.4131   -2.60777        1.1028\n",
       "highm65      -0.390262      0.681249     -0.57    0.5713   -1.78574        1.00521\n",
       "highf65      -0.417749      0.56149      -0.74    0.4631   -1.56791        0.732412\n",
       "highc65      -2.21579       1.48081      -1.50    0.1458   -5.24909        0.817506\n",
       "highcm65      0.279718      0.658239      0.42    0.6741   -1.06862        1.62806\n",
       "highcf65      0.392077      0.766025      0.51    0.6128   -1.17705        1.96121\n",
       "human65       2.33727       3.30727       0.71    0.4856   -4.43736        9.1119\n",
       "humanm65     -1.20925       1.61852      -0.75    0.4612   -4.52463        2.10613\n",
       "humanf65     -1.10395       1.68469      -0.66    0.5176   -4.55489        2.34699\n",
       "hyr65        54.9139       23.8873        2.30    0.0292    5.98298      103.845\n",
       "hyrm65       12.935        23.1714        0.56    0.5811  -34.5295        60.3996\n",
       "hyrf65        9.09258      17.6696        0.51    0.6109  -27.1019        45.2871\n",
       "no65          0.0372099     0.131973      0.28    0.7801   -0.233125       0.307545\n",
       "nom65        -0.0211977     0.0649598    -0.33    0.7466   -0.154262       0.111866\n",
       "nof65        -0.0168578     0.0670026    -0.25    0.8032   -0.154106       0.120391\n",
       "pinstab1     -0.0499711     0.0309208    -1.62    0.1173   -0.11331        0.0133673\n",
       "pop65         1.0318e-7     1.31795e-7    0.78    0.4403   -1.6679e-7      3.7315e-7\n",
       "worker65      0.034079      0.156191      0.22    0.8289   -0.285864       0.354022\n",
       "pop1565      -0.465535      0.471334     -0.99    0.3318   -1.43102        0.499949\n",
       "pop6565      -1.35745       0.634942     -2.14    0.0414   -2.65807       -0.0568295\n",
       "sec65        -0.0108928     0.307662     -0.04    0.9720   -0.641109       0.619324\n",
       "secm65        0.00334366    0.151192      0.02    0.9825   -0.30636        0.313047\n",
       "secf65       -0.00230433    0.157972     -0.01    0.9885   -0.325894       0.321286\n",
       "secc65       -0.491528      0.729041     -0.67    0.5057   -1.9849         1.00184\n",
       "seccm65       0.259602      0.355653      0.73    0.4715   -0.468921       0.988124\n",
       "seccf65       0.220652      0.373333      0.59    0.5592   -0.544086       0.985391\n",
       "syr65        -0.755581      7.97676      -0.09    0.9252  -17.0952        15.5841\n",
       "syrm65        0.310901      3.89673       0.08    0.9370   -7.67119        8.29299\n",
       "syrf65        0.759281      4.11063       0.18    0.8548   -7.66097        9.17953\n",
       "teapri65      3.95452e-5    0.000770041   0.05    0.9594   -0.00153781     0.0016169\n",
       "teasec65      0.000249667   0.00117123    0.21    0.8327   -0.00214949     0.00264882\n",
       "ex1          -0.580408      0.241847     -2.40    0.0233   -1.07581       -0.0850066\n",
       "im1           0.591445      0.250298      2.36    0.0253    0.0787333      1.10416\n",
       "xr65         -0.000103777   5.41676e-5   -1.92    0.0656   -0.000214734    7.18049e-6\n",
       "tot1         -0.127901      0.112595     -1.14    0.2656   -0.358542       0.10274\n",
       "─────────────────────────────────────────────────────────────────────────────────────"
      ]
     },
<<<<<<< Updated upstream
     "execution_count": 47,
=======
     "execution_count": 16,
>>>>>>> Stashed changes
     "metadata": {},
     "output_type": "execute_result"
    }
   ],
   "source": [
    "# OLS regression\n",
    "reg_ols  = lm(term(:y) ~ sum(term.(names(data[!, Not([\"y\", \"intercept\"])]))), data, dropcollinear=false)"
   ]
  },
  {
   "cell_type": "code",
<<<<<<< Updated upstream
   "execution_count": 48,
=======
   "execution_count": 78,
>>>>>>> Stashed changes
   "id": "c2f39850",
   "metadata": {},
   "outputs": [
    {
<<<<<<< Updated upstream
     "data": {
      "text/plain": [
       "0.05184424349589355"
      ]
     },
     "execution_count": 48,
     "metadata": {},
     "output_type": "execute_result"
=======
     "ename": "LoadError",
     "evalue": "UndefVarError: coeftable not defined",
     "output_type": "error",
     "traceback": [
      "UndefVarError: coeftable not defined",
      "",
      "Stacktrace:",
      " [1] top-level scope",
      "   @ In[78]:8",
      " [2] eval",
      "   @ .\\boot.jl:373 [inlined]",
      " [3] include_string(mapexpr::typeof(REPL.softscope), mod::Module, code::String, filename::String)",
      "   @ Base .\\loading.jl:1196"
     ]
>>>>>>> Stashed changes
    }
   ],
   "source": [
    "# output: estimated regression coefficient corresponding to the target regressor\n",
    "est_ols = coef(reg_ols)[2]\n",
    "\n",
    "# output: std. error\n",
    "std_ols = stderror(reg_ols)[2]\n",
    "\n",
    "# output: 95% confidence interval\n",
    "lower_ci = coeftable(reg_ols).cols[5][2]\n",
    "upper_ci = coeftable(reg_ols).cols[6][2]"
   ]
  },
  {
   "cell_type": "markdown",
   "id": "bee36b6c",
   "metadata": {},
   "source": [
    "## Summarize OLS results"
   ]
  },
  {
   "cell_type": "code",
<<<<<<< Updated upstream
   "execution_count": 49,
=======
   "execution_count": 18,
>>>>>>> Stashed changes
   "id": "c3a91073",
   "metadata": {},
   "outputs": [
    {
     "data": {
      "text/plain": [
       "1×4 Named Matrix{Float64}\n",
       "A ╲ B │   1    2    3    4\n",
       "──────┼───────────────────\n",
       "OLS   │ 0.0  0.0  0.0  0.0"
      ]
     },
<<<<<<< Updated upstream
     "execution_count": 49,
=======
     "execution_count": 18,
>>>>>>> Stashed changes
     "metadata": {},
     "output_type": "execute_result"
    }
   ],
   "source": [
    "table_1 = NamedArray(zeros(1, 4))\n",
    "setnames!(table_1, [\"OLS\"], 1)\n",
    "table_1"
   ]
  },
  {
   "cell_type": "code",
<<<<<<< Updated upstream
   "execution_count": 50,
=======
   "execution_count": 19,
>>>>>>> Stashed changes
   "id": "6363c6eb",
   "metadata": {},
   "outputs": [
    {
<<<<<<< Updated upstream
     "data": {
      "text/plain": [
       "1×4 Named Matrix{Float64}\n",
       "A ╲ B │           1            2            3            4\n",
       "──────┼───────────────────────────────────────────────────\n",
       "OLS   │ -0.00937799    0.0298877   -0.0706002    0.0518442"
      ]
     },
     "execution_count": 50,
     "metadata": {},
     "output_type": "execute_result"
=======
     "ename": "LoadError",
     "evalue": "UndefVarError: lower_ci not defined",
     "output_type": "error",
     "traceback": [
      "UndefVarError: lower_ci not defined",
      "",
      "Stacktrace:",
      " [1] top-level scope",
      "   @ In[19]:3",
      " [2] eval",
      "   @ .\\boot.jl:373 [inlined]",
      " [3] include_string(mapexpr::typeof(REPL.softscope), mod::Module, code::String, filename::String)",
      "   @ Base .\\loading.jl:1196"
     ]
>>>>>>> Stashed changes
    }
   ],
   "source": [
    "table_1[1] = est_ols\n",
    "table_1[2] = std_ols   \n",
    "table_1[3] = lower_ci\n",
    "table_1[4] = upper_ci    \n",
    " \n",
    "table_1"
   ]
  },
  {
   "cell_type": "code",
<<<<<<< Updated upstream
   "execution_count": 51,
=======
   "execution_count": 20,
>>>>>>> Stashed changes
   "id": "40a73199",
   "metadata": {},
   "outputs": [
    {
     "data": {
      "text/html": [
       "<div class=\"data-frame\"><p>1 rows × 5 columns</p><table class=\"data-frame\"><thead><tr><th></th><th>model</th><th>Estimator</th><th>Std. Error</th><th>lower bound CI</th><th>upper bound CI</th></tr><tr><th></th><th title=\"String\">String</th><th title=\"Float64\">Float64</th><th title=\"Float64\">Float64</th><th title=\"Float64\">Float64</th><th title=\"Float64\">Float64</th></tr></thead><tbody><tr><th>1</th><td>OLS</td><td>-0.00937799</td><td>0.0298877</td><td>0.0</td><td>0.0</td></tr></tbody></table></div>"
      ],
      "text/latex": [
       "\\begin{tabular}{r|ccccc}\n",
       "\t& model & Estimator & Std. Error & lower bound CI & upper bound CI\\\\\n",
       "\t\\hline\n",
       "\t& String & Float64 & Float64 & Float64 & Float64\\\\\n",
       "\t\\hline\n",
       "\t1 & OLS & -0.00937799 & 0.0298877 & 0.0 & 0.0 \\\\\n",
       "\\end{tabular}\n"
      ],
      "text/plain": [
       "\u001b[1m1×5 DataFrame\u001b[0m\n",
       "\u001b[1m Row \u001b[0m│\u001b[1m model  \u001b[0m\u001b[1m Estimator   \u001b[0m\u001b[1m Std. Error \u001b[0m\u001b[1m lower bound CI \u001b[0m\u001b[1m upper bound CI \u001b[0m\n",
       "\u001b[1m     \u001b[0m│\u001b[90m String \u001b[0m\u001b[90m Float64     \u001b[0m\u001b[90m Float64    \u001b[0m\u001b[90m Float64        \u001b[0m\u001b[90m Float64        \u001b[0m\n",
       "─────┼─────────────────────────────────────────────────────────────────\n",
       "   1 │ OLS     -0.00937799   0.0298877             0.0             0.0"
      ]
     },
<<<<<<< Updated upstream
     "execution_count": 51,
=======
     "execution_count": 20,
>>>>>>> Stashed changes
     "metadata": {},
     "output_type": "execute_result"
    }
   ],
   "source": [
    "table_1_pandas = DataFrame( table_1, [ :\"Estimator\", :\"Std. Error\", :\"lower bound CI\", :\"upper bound CI\"])\n",
    "model_1 = DataFrame(model = [\"OLS\"])\n",
    "table_1_pandas = hcat(model_1,table_1_pandas)\n",
    "table_1_pandas"
   ]
  },
  {
   "cell_type": "code",
<<<<<<< Updated upstream
   "execution_count": 52,
=======
   "execution_count": 21,
>>>>>>> Stashed changes
   "id": "76208f5c",
   "metadata": {},
   "outputs": [
    {
     "data": {
      "text/html": [
       "<!DOCTYPE html>\n",
       "<html>\n",
       "<meta charset=\"UTF-8\">\n",
       "<style>\n",
       "  table, td, th {\n",
       "      border-collapse: collapse;\n",
       "      font-family: sans-serif;\n",
       "  }\n",
       "\n",
       "  td, th {\n",
       "      border-bottom: 0;\n",
       "      padding: 4px\n",
       "  }\n",
       "\n",
       "  tr:nth-child(odd) {\n",
       "      background: #eee;\n",
       "  }\n",
       "\n",
       "  tr:nth-child(even) {\n",
       "      background: #fff;\n",
       "  }\n",
       "\n",
       "  tr.header {\n",
       "      background: navy !important;\n",
       "      color: white;\n",
       "      font-weight: bold;\n",
       "  }\n",
       "\n",
       "  tr.subheader {\n",
       "      background: lightgray !important;\n",
       "      color: black;\n",
       "  }\n",
       "\n",
       "  tr.headerLastRow {\n",
       "      border-bottom: 2px solid black;\n",
       "  }\n",
       "\n",
       "  th.rowNumber, td.rowNumber {\n",
       "      text-align: right;\n",
       "  }\n",
       "\n",
       "</style>\n",
       "<body>\n",
       "<table>\n",
       "  <thead>\n",
       "    <tr class = \"header headerLastRow\">\n",
       "      <th style = \"text-align: center;\">Model</th>\n",
       "      <th style = \"text-align: center;\">Estimator</th>\n",
       "      <th style = \"text-align: center;\">Std. Error</th>\n",
       "      <th style = \"text-align: center;\">lower bound CI</th>\n",
       "      <th style = \"text-align: center;\">upper bound CI</th>\n",
       "    </tr>\n",
       "  </thead>\n",
       "  <tbody>\n",
       "    <tr>\n",
       "      <td style = \"text-align: center;\">OLS</td>\n",
       "      <td style = \"text-align: center;\">-0.009378</td>\n",
       "      <td style = \"text-align: center;\">0.029888</td>\n",
       "      <td style = \"text-align: center;\">0.0</td>\n",
       "      <td style = \"text-align: center;\">0.0</td>\n",
       "    </tr>\n",
       "  </tbody>\n",
       "</table>\n",
       "</body>\n",
       "</html>\n"
      ]
     },
     "metadata": {},
     "output_type": "display_data"
    }
   ],
   "source": [
    "header = ([\"Model\", \"Estimator\", \"Std. Error\", \"lower bound CI\", \"upper bound CI\"])\n",
    "pretty_table(table_1_pandas; backend = Val(:html), header = header, formatters=ft_round(6), alignment=:c)"
   ]
  },
  {
   "cell_type": "markdown",
   "id": "b21b9560",
   "metadata": {},
   "source": [
    "Least squares provides a rather noisy estimate (high standard error) of the\n",
    "speed of convergence, and does not allow us to answer the question\n",
    "about the convergence hypothesis since the confidence interval includes zero.\n",
    "\n",
    "In contrast, we can use the partialling-out approach based on lasso regression (\"Double Lasso\")."
   ]
  },
  {
   "cell_type": "code",
<<<<<<< Updated upstream
   "execution_count": 53,
=======
   "execution_count": 22,
>>>>>>> Stashed changes
   "id": "1c2dbfc2",
   "metadata": {},
   "outputs": [
    {
     "data": {
      "text/html": [
       "<div class=\"data-frame\"><p>90 rows × 62 columns (omitted printing of 53 columns)</p><table class=\"data-frame\"><thead><tr><th></th><th>Y</th><th>D</th><th>bmp1l</th><th>freeop</th><th>freetar</th><th>h65</th><th>hm65</th><th>hf65</th><th>p65</th></tr><tr><th></th><th title=\"Float64\">Float64</th><th title=\"Float64\">Float64</th><th title=\"Float64\">Float64</th><th title=\"Float64\">Float64</th><th title=\"Float64\">Float64</th><th title=\"Float64\">Float64</th><th title=\"Float64\">Float64</th><th title=\"Float64\">Float64</th><th title=\"Float64\">Float64</th></tr></thead><tbody><tr><th>1</th><td>-0.0243358</td><td>6.59167</td><td>0.2837</td><td>0.153491</td><td>0.043888</td><td>0.007</td><td>0.013</td><td>0.001</td><td>0.29</td></tr><tr><th>2</th><td>0.100473</td><td>6.82979</td><td>0.6141</td><td>0.313509</td><td>0.061827</td><td>0.019</td><td>0.032</td><td>0.007</td><td>0.91</td></tr><tr><th>3</th><td>0.0670515</td><td>8.89508</td><td>0.0</td><td>0.204244</td><td>0.009186</td><td>0.26</td><td>0.325</td><td>0.201</td><td>1.0</td></tr><tr><th>4</th><td>0.0640892</td><td>7.56528</td><td>0.1997</td><td>0.248714</td><td>0.03627</td><td>0.061</td><td>0.07</td><td>0.051</td><td>1.0</td></tr><tr><th>5</th><td>0.0279295</td><td>7.1624</td><td>0.174</td><td>0.299252</td><td>0.037367</td><td>0.017</td><td>0.027</td><td>0.007</td><td>0.82</td></tr><tr><th>6</th><td>0.0464074</td><td>7.21891</td><td>0.0</td><td>0.258865</td><td>0.02088</td><td>0.023</td><td>0.038</td><td>0.006</td><td>0.5</td></tr><tr><th>7</th><td>0.0673323</td><td>7.8536</td><td>0.0</td><td>0.182525</td><td>0.014385</td><td>0.039</td><td>0.063</td><td>0.014</td><td>0.92</td></tr><tr><th>8</th><td>0.0209777</td><td>7.70391</td><td>0.2776</td><td>0.215275</td><td>0.029713</td><td>0.024</td><td>0.035</td><td>0.013</td><td>0.69</td></tr><tr><th>9</th><td>0.0335512</td><td>9.06346</td><td>0.0</td><td>0.109614</td><td>0.002171</td><td>0.402</td><td>0.488</td><td>0.314</td><td>1.0</td></tr><tr><th>10</th><td>0.0391465</td><td>8.15191</td><td>0.1484</td><td>0.110885</td><td>0.028579</td><td>0.145</td><td>0.173</td><td>0.114</td><td>1.0</td></tr><tr><th>11</th><td>0.0761265</td><td>6.92952</td><td>0.0296</td><td>0.165784</td><td>0.020115</td><td>0.046</td><td>0.066</td><td>0.025</td><td>0.73</td></tr><tr><th>12</th><td>0.127951</td><td>7.23778</td><td>0.2151</td><td>0.078488</td><td>0.011581</td><td>0.022</td><td>0.031</td><td>0.014</td><td>1.0</td></tr><tr><th>13</th><td>-0.0243261</td><td>8.11582</td><td>0.4318</td><td>0.137482</td><td>0.026547</td><td>0.059</td><td>0.073</td><td>0.045</td><td>1.0</td></tr><tr><th>14</th><td>0.0782934</td><td>7.2717</td><td>0.1689</td><td>0.164598</td><td>0.044446</td><td>0.029</td><td>0.045</td><td>0.013</td><td>0.84</td></tr><tr><th>15</th><td>0.112912</td><td>7.12125</td><td>0.1832</td><td>0.188016</td><td>0.045678</td><td>0.033</td><td>0.051</td><td>0.015</td><td>0.91</td></tr><tr><th>16</th><td>0.0523082</td><td>6.97728</td><td>0.0962</td><td>0.204611</td><td>0.077852</td><td>0.037</td><td>0.043</td><td>0.03</td><td>1.0</td></tr><tr><th>17</th><td>0.0363909</td><td>7.64969</td><td>0.0227</td><td>0.136287</td><td>0.04673</td><td>0.081</td><td>0.105</td><td>0.056</td><td>0.99</td></tr><tr><th>18</th><td>0.0297382</td><td>8.05674</td><td>0.0208</td><td>0.197853</td><td>0.037224</td><td>0.083</td><td>0.097</td><td>0.069</td><td>1.0</td></tr><tr><th>19</th><td>-0.0566436</td><td>8.78094</td><td>0.2654</td><td>0.189867</td><td>0.031747</td><td>0.068</td><td>0.089</td><td>0.046</td><td>0.94</td></tr><tr><th>20</th><td>0.0192048</td><td>6.28786</td><td>0.4207</td><td>0.130682</td><td>0.109921</td><td>0.053</td><td>0.039</td><td>0.011</td><td>0.74</td></tr><tr><th>21</th><td>0.085206</td><td>6.13773</td><td>0.1371</td><td>0.123818</td><td>0.015897</td><td>0.028</td><td>0.025</td><td>0.007</td><td>0.72</td></tr><tr><th>22</th><td>0.133982</td><td>8.12888</td><td>0.0</td><td>0.16721</td><td>0.003311</td><td>0.129</td><td>0.196</td><td>0.063</td><td>1.0</td></tr><tr><th>23</th><td>0.173025</td><td>6.68085</td><td>0.4713</td><td>0.228424</td><td>0.029328</td><td>0.062</td><td>0.09</td><td>0.032</td><td>1.0</td></tr><tr><th>24</th><td>0.109699</td><td>7.17702</td><td>0.0178</td><td>0.18524</td><td>0.015453</td><td>0.02</td><td>0.026</td><td>0.013</td><td>0.9</td></tr><tr><th>25</th><td>0.0159899</td><td>6.64898</td><td>0.4762</td><td>0.171181</td><td>0.058937</td><td>0.018</td><td>0.028</td><td>0.007</td><td>0.4</td></tr><tr><th>26</th><td>0.0622498</td><td>6.87936</td><td>0.2927</td><td>0.179508</td><td>0.035842</td><td>0.188</td><td>0.169</td><td>0.208</td><td>1.0</td></tr><tr><th>27</th><td>0.109871</td><td>7.3473</td><td>0.1017</td><td>0.247626</td><td>0.037392</td><td>0.08</td><td>0.133</td><td>0.027</td><td>0.78</td></tr><tr><th>28</th><td>0.0921063</td><td>6.72503</td><td>0.0266</td><td>0.179933</td><td>0.046376</td><td>0.015</td><td>0.02</td><td>0.01</td><td>0.78</td></tr><tr><th>29</th><td>0.083376</td><td>8.45105</td><td>0.0</td><td>0.358556</td><td>0.016468</td><td>0.09</td><td>0.133</td><td>0.044</td><td>1.0</td></tr><tr><th>30</th><td>0.0762335</td><td>8.60245</td><td>0.0</td><td>0.416234</td><td>0.014721</td><td>0.148</td><td>0.194</td><td>0.1</td><td>1.0</td></tr><tr><th>&vellip;</th><td>&vellip;</td><td>&vellip;</td><td>&vellip;</td><td>&vellip;</td><td>&vellip;</td><td>&vellip;</td><td>&vellip;</td><td>&vellip;</td><td>&vellip;</td></tr></tbody></table></div>"
      ],
      "text/latex": [
       "\\begin{tabular}{r|cccccccccc}\n",
       "\t& Y & D & bmp1l & freeop & freetar & h65 & hm65 & hf65 & p65 & \\\\\n",
       "\t\\hline\n",
       "\t& Float64 & Float64 & Float64 & Float64 & Float64 & Float64 & Float64 & Float64 & Float64 & \\\\\n",
       "\t\\hline\n",
       "\t1 & -0.0243358 & 6.59167 & 0.2837 & 0.153491 & 0.043888 & 0.007 & 0.013 & 0.001 & 0.29 & $\\dots$ \\\\\n",
       "\t2 & 0.100473 & 6.82979 & 0.6141 & 0.313509 & 0.061827 & 0.019 & 0.032 & 0.007 & 0.91 & $\\dots$ \\\\\n",
       "\t3 & 0.0670515 & 8.89508 & 0.0 & 0.204244 & 0.009186 & 0.26 & 0.325 & 0.201 & 1.0 & $\\dots$ \\\\\n",
       "\t4 & 0.0640892 & 7.56528 & 0.1997 & 0.248714 & 0.03627 & 0.061 & 0.07 & 0.051 & 1.0 & $\\dots$ \\\\\n",
       "\t5 & 0.0279295 & 7.1624 & 0.174 & 0.299252 & 0.037367 & 0.017 & 0.027 & 0.007 & 0.82 & $\\dots$ \\\\\n",
       "\t6 & 0.0464074 & 7.21891 & 0.0 & 0.258865 & 0.02088 & 0.023 & 0.038 & 0.006 & 0.5 & $\\dots$ \\\\\n",
       "\t7 & 0.0673323 & 7.8536 & 0.0 & 0.182525 & 0.014385 & 0.039 & 0.063 & 0.014 & 0.92 & $\\dots$ \\\\\n",
       "\t8 & 0.0209777 & 7.70391 & 0.2776 & 0.215275 & 0.029713 & 0.024 & 0.035 & 0.013 & 0.69 & $\\dots$ \\\\\n",
       "\t9 & 0.0335512 & 9.06346 & 0.0 & 0.109614 & 0.002171 & 0.402 & 0.488 & 0.314 & 1.0 & $\\dots$ \\\\\n",
       "\t10 & 0.0391465 & 8.15191 & 0.1484 & 0.110885 & 0.028579 & 0.145 & 0.173 & 0.114 & 1.0 & $\\dots$ \\\\\n",
       "\t11 & 0.0761265 & 6.92952 & 0.0296 & 0.165784 & 0.020115 & 0.046 & 0.066 & 0.025 & 0.73 & $\\dots$ \\\\\n",
       "\t12 & 0.127951 & 7.23778 & 0.2151 & 0.078488 & 0.011581 & 0.022 & 0.031 & 0.014 & 1.0 & $\\dots$ \\\\\n",
       "\t13 & -0.0243261 & 8.11582 & 0.4318 & 0.137482 & 0.026547 & 0.059 & 0.073 & 0.045 & 1.0 & $\\dots$ \\\\\n",
       "\t14 & 0.0782934 & 7.2717 & 0.1689 & 0.164598 & 0.044446 & 0.029 & 0.045 & 0.013 & 0.84 & $\\dots$ \\\\\n",
       "\t15 & 0.112912 & 7.12125 & 0.1832 & 0.188016 & 0.045678 & 0.033 & 0.051 & 0.015 & 0.91 & $\\dots$ \\\\\n",
       "\t16 & 0.0523082 & 6.97728 & 0.0962 & 0.204611 & 0.077852 & 0.037 & 0.043 & 0.03 & 1.0 & $\\dots$ \\\\\n",
       "\t17 & 0.0363909 & 7.64969 & 0.0227 & 0.136287 & 0.04673 & 0.081 & 0.105 & 0.056 & 0.99 & $\\dots$ \\\\\n",
       "\t18 & 0.0297382 & 8.05674 & 0.0208 & 0.197853 & 0.037224 & 0.083 & 0.097 & 0.069 & 1.0 & $\\dots$ \\\\\n",
       "\t19 & -0.0566436 & 8.78094 & 0.2654 & 0.189867 & 0.031747 & 0.068 & 0.089 & 0.046 & 0.94 & $\\dots$ \\\\\n",
       "\t20 & 0.0192048 & 6.28786 & 0.4207 & 0.130682 & 0.109921 & 0.053 & 0.039 & 0.011 & 0.74 & $\\dots$ \\\\\n",
       "\t21 & 0.085206 & 6.13773 & 0.1371 & 0.123818 & 0.015897 & 0.028 & 0.025 & 0.007 & 0.72 & $\\dots$ \\\\\n",
       "\t22 & 0.133982 & 8.12888 & 0.0 & 0.16721 & 0.003311 & 0.129 & 0.196 & 0.063 & 1.0 & $\\dots$ \\\\\n",
       "\t23 & 0.173025 & 6.68085 & 0.4713 & 0.228424 & 0.029328 & 0.062 & 0.09 & 0.032 & 1.0 & $\\dots$ \\\\\n",
       "\t24 & 0.109699 & 7.17702 & 0.0178 & 0.18524 & 0.015453 & 0.02 & 0.026 & 0.013 & 0.9 & $\\dots$ \\\\\n",
       "\t25 & 0.0159899 & 6.64898 & 0.4762 & 0.171181 & 0.058937 & 0.018 & 0.028 & 0.007 & 0.4 & $\\dots$ \\\\\n",
       "\t26 & 0.0622498 & 6.87936 & 0.2927 & 0.179508 & 0.035842 & 0.188 & 0.169 & 0.208 & 1.0 & $\\dots$ \\\\\n",
       "\t27 & 0.109871 & 7.3473 & 0.1017 & 0.247626 & 0.037392 & 0.08 & 0.133 & 0.027 & 0.78 & $\\dots$ \\\\\n",
       "\t28 & 0.0921063 & 6.72503 & 0.0266 & 0.179933 & 0.046376 & 0.015 & 0.02 & 0.01 & 0.78 & $\\dots$ \\\\\n",
       "\t29 & 0.083376 & 8.45105 & 0.0 & 0.358556 & 0.016468 & 0.09 & 0.133 & 0.044 & 1.0 & $\\dots$ \\\\\n",
       "\t30 & 0.0762335 & 8.60245 & 0.0 & 0.416234 & 0.014721 & 0.148 & 0.194 & 0.1 & 1.0 & $\\dots$ \\\\\n",
       "\t$\\dots$ & $\\dots$ & $\\dots$ & $\\dots$ & $\\dots$ & $\\dots$ & $\\dots$ & $\\dots$ & $\\dots$ & $\\dots$ &  \\\\\n",
       "\\end{tabular}\n"
      ],
      "text/plain": [
       "\u001b[1m90×62 DataFrame\u001b[0m\n",
       "\u001b[1m Row \u001b[0m│\u001b[1m Y          \u001b[0m\u001b[1m D       \u001b[0m\u001b[1m bmp1l   \u001b[0m\u001b[1m freeop   \u001b[0m\u001b[1m freetar  \u001b[0m\u001b[1m h65     \u001b[0m\u001b[1m hm65    \u001b[0m\u001b[1m hf6\u001b[0m ⋯\n",
       "\u001b[1m     \u001b[0m│\u001b[90m Float64    \u001b[0m\u001b[90m Float64 \u001b[0m\u001b[90m Float64 \u001b[0m\u001b[90m Float64  \u001b[0m\u001b[90m Float64  \u001b[0m\u001b[90m Float64 \u001b[0m\u001b[90m Float64 \u001b[0m\u001b[90m Flo\u001b[0m ⋯\n",
       "─────┼──────────────────────────────────────────────────────────────────────────\n",
       "   1 │ -0.0243358  6.59167   0.2837  0.153491  0.043888    0.007    0.013    0 ⋯\n",
       "   2 │  0.100473   6.82979   0.6141  0.313509  0.061827    0.019    0.032    0\n",
       "   3 │  0.0670515  8.89508   0.0     0.204244  0.009186    0.26     0.325    0\n",
       "   4 │  0.0640892  7.56528   0.1997  0.248714  0.03627     0.061    0.07     0\n",
       "   5 │  0.0279295  7.1624    0.174   0.299252  0.037367    0.017    0.027    0 ⋯\n",
       "   6 │  0.0464074  7.21891   0.0     0.258865  0.02088     0.023    0.038    0\n",
       "   7 │  0.0673323  7.8536    0.0     0.182525  0.014385    0.039    0.063    0\n",
       "   8 │  0.0209777  7.70391   0.2776  0.215275  0.029713    0.024    0.035    0\n",
       "   9 │  0.0335512  9.06346   0.0     0.109614  0.002171    0.402    0.488    0 ⋯\n",
       "  10 │  0.0391465  8.15191   0.1484  0.110885  0.028579    0.145    0.173    0\n",
       "  11 │  0.0761265  6.92952   0.0296  0.165784  0.020115    0.046    0.066    0\n",
       "  ⋮  │     ⋮          ⋮        ⋮        ⋮         ⋮         ⋮        ⋮         ⋱\n",
       "  81 │  0.038095   9.03097   0.0     0.293138  0.005517    0.245    0.251    0\n",
       "  82 │  0.034213   8.99554   0.0     0.30472   0.011658    0.246    0.26     0 ⋯\n",
       "  83 │  0.0527591  8.23483   0.0363  0.288405  0.011589    0.183    0.222    0\n",
       "  84 │  0.0384156  8.33255   0.0     0.345485  0.006503    0.188    0.248    0\n",
       "  85 │  0.0318948  8.64559   0.0     0.28844   0.005995    0.256    0.301    0\n",
       "  86 │  0.031196   8.99106   0.0     0.371898  0.014586    0.255    0.336    0 ⋯\n",
       "  87 │  0.0340957  8.02519   0.005   0.296437  0.013615    0.108    0.117    0\n",
       "  88 │  0.0469005  9.03014   0.0     0.265778  0.008629    0.288    0.337    0\n",
       "  89 │  0.0397734  8.86531   0.0     0.282939  0.005048    0.188    0.236    0\n",
       "  90 │  0.0406415  8.91234   0.0     0.150366  0.024377    0.257    0.338    0 ⋯\n",
       "\u001b[36m                                                  55 columns and 69 rows omitted\u001b[0m"
      ]
     },
<<<<<<< Updated upstream
     "execution_count": 53,
=======
     "execution_count": 22,
>>>>>>> Stashed changes
     "metadata": {},
     "output_type": "execute_result"
    }
   ],
   "source": [
    "# Importing .Rdata file\n",
    "growth_read = load(\"../data/GrowthData.RData\")\n",
    "# Now we save that dataframe with a new name\n",
    "growth = growth_read[\"GrowthData\"]\n",
    "\n",
    "# Create main variables\n",
    "Y = growth[!, \"Outcome\"]\n",
    "Y = DataFrame([Y], [:Y])\n",
    "D = growth[!, \"gdpsh465\"]\n",
    "D = DataFrame([D], [:D])\n",
    "W = select(growth, Not([\"Outcome\", \"intercept\", \"gdpsh465\"]))\n",
    "data = [Y D W]"
   ]
  },
  {
   "cell_type": "markdown",
   "id": "4dae6e61",
   "metadata": {},
   "source": [
    "## Method 1 - Using Lasso"
   ]
  },
  {
   "cell_type": "code",
<<<<<<< Updated upstream
   "execution_count": 54,
=======
   "execution_count": 23,
>>>>>>> Stashed changes
   "id": "c0449dc1",
   "metadata": {
    "scrolled": true
   },
   "outputs": [],
   "source": [
    "using Lasso, GLM"
   ]
  },
  {
   "cell_type": "code",
<<<<<<< Updated upstream
   "execution_count": 55,
=======
   "execution_count": 24,
>>>>>>> Stashed changes
   "id": "48763755",
   "metadata": {},
   "outputs": [
    {
     "data": {
      "text/plain": [
       "StatsModels.TableRegressionModel{LinearModel{GLM.LmResp{Vector{Float64}}, GLM.DensePredChol{Float64, CholeskyPivoted{Float64, Matrix{Float64}}}}, Matrix{Float64}}\n",
       "\n",
       "r_Y ~ 1 + r_D\n",
       "\n",
       "Coefficients:\n",
       "────────────────────────────────────────────────────────────────────────────────\n",
       "                    Coef.  Std. Error      t  Pr(>|t|)    Lower 95%    Upper 95%\n",
       "────────────────────────────────────────────────────────────────────────────────\n",
       "(Intercept)  -2.96067e-18  0.00417979  -0.00    1.0000  -0.00830646   0.00830646\n",
       "r_D          -0.0500007    0.0152165   -3.29    0.0015  -0.0802403   -0.0197611\n",
       "────────────────────────────────────────────────────────────────────────────────"
      ]
     },
<<<<<<< Updated upstream
     "execution_count": 55,
=======
     "execution_count": 24,
>>>>>>> Stashed changes
     "metadata": {},
     "output_type": "execute_result"
    }
   ],
   "source": [
    "# Seat values for Lasso\n",
    "\n",
    "lasso_model = fit(LassoModel, term(:Y) ~  sum(term.(names(data[!, Not([\"Y\", \"D\"])]))), data; α = 0.8)\n",
    "r_Y = residuals(lasso_model)\n",
    "r_Y = DataFrame([r_Y], [:r_Y])\n",
    "\n",
    "# Part. out d\n",
    "\n",
    "lasso_model = fit(LassoModel, term(:D) ~  sum(term.(names(data[!, Not([\"Y\", \"D\"])]))), data;  α = 0.8)\n",
    "r_D = residuals(lasso_model)\n",
    "r_D = DataFrame([r_D], [:r_D])\n",
    "\n",
    "# ols \n",
    "data_aux = [r_Y r_D]\n",
    "fm_1 = @formula(r_Y ~ r_D)\n",
    "partial_lasso_fit = lm(fm_1, data_aux)"
   ]
  },
  {
   "cell_type": "code",
<<<<<<< Updated upstream
   "execution_count": 56,
=======
   "execution_count": 25,
>>>>>>> Stashed changes
   "id": "47debbc4",
   "metadata": {},
   "outputs": [
    {
<<<<<<< Updated upstream
     "data": {
      "text/plain": [
       "-0.01976108418900318"
      ]
     },
     "execution_count": 56,
     "metadata": {},
     "output_type": "execute_result"
=======
     "ename": "LoadError",
     "evalue": "UndefVarError: coeftable not defined",
     "output_type": "error",
     "traceback": [
      "UndefVarError: coeftable not defined",
      "",
      "Stacktrace:",
      " [1] top-level scope",
      "   @ In[25]:8",
      " [2] eval",
      "   @ .\\boot.jl:373 [inlined]",
      " [3] include_string(mapexpr::typeof(REPL.softscope), mod::Module, code::String, filename::String)",
      "   @ Base .\\loading.jl:1196"
     ]
>>>>>>> Stashed changes
    }
   ],
   "source": [
    "# output: estimated regression coefficient corresponding to the target regressor\n",
    "est_lasso = coef(partial_lasso_fit)[2]\n",
    "\n",
    "# output: std. error\n",
    "std_lasso = stderror(partial_lasso_fit)[2]\n",
    "\n",
    "# output: 95% confidence interval\n",
    "lower_ci_lasso = coeftable(partial_lasso_fit).cols[5][2]\n",
    "upper_ci_lasso = coeftable(partial_lasso_fit).cols[6][2]"
   ]
  },
  {
   "cell_type": "code",
<<<<<<< Updated upstream
   "execution_count": 57,
=======
   "execution_count": 71,
   "id": "533fadcd",
   "metadata": {},
   "outputs": [
    {
     "ename": "LoadError",
     "evalue": "UndefVarError: coeftable not defined",
     "output_type": "error",
     "traceback": [
      "UndefVarError: coeftable not defined",
      "",
      "Stacktrace:",
      " [1] top-level scope",
      "   @ In[71]:1",
      " [2] eval",
      "   @ .\\boot.jl:373 [inlined]",
      " [3] include_string(mapexpr::typeof(REPL.softscope), mod::Module, code::String, filename::String)",
      "   @ Base .\\loading.jl:1196"
     ]
    }
   ],
   "source": [
    " coeftable(partial_lasso_fit)"
   ]
  },
  {
   "cell_type": "code",
   "execution_count": 26,
>>>>>>> Stashed changes
   "id": "c4e19d41",
   "metadata": {},
   "outputs": [
    {
     "name": "stdout",
     "output_type": "stream",
     "text": [
      "Coefficient for D via partialling-out using lasso is: -0.050000699175125084\n"
     ]
    }
   ],
   "source": [
    "# Regress residuales\n",
    "partial_lasso_fit = lm(fm_1, data_aux)\n",
    "partial_lasso_est = coef(partial_lasso_fit)[2]\n",
    "\n",
    "println(\"Coefficient for D via partialling-out using lasso is: \", partial_lasso_est )"
   ]
  },
  {
   "cell_type": "markdown",
   "id": "5ace0fea",
   "metadata": {},
   "source": [
    "## Summary LASSO results\n"
   ]
  },
  {
   "cell_type": "markdown",
   "id": "e29f0edc",
   "metadata": {},
   "source": [
    "Finally, let us have a look at the results."
   ]
  },
  {
   "cell_type": "code",
<<<<<<< Updated upstream
   "execution_count": 58,
=======
   "execution_count": 27,
>>>>>>> Stashed changes
   "id": "cd77ef49",
   "metadata": {},
   "outputs": [
    {
     "data": {
      "text/plain": [
       "1×4 Named Matrix{Float64}\n",
       "       A ╲ B │   1    2    3    4\n",
       "─────────────┼───────────────────\n",
       "DOUBLE LASSO │ 0.0  0.0  0.0  0.0"
      ]
     },
<<<<<<< Updated upstream
     "execution_count": 58,
=======
     "execution_count": 27,
>>>>>>> Stashed changes
     "metadata": {},
     "output_type": "execute_result"
    }
   ],
   "source": [
    "table_2 = NamedArray(zeros(1, 4))\n",
    "setnames!(table_2, [\"DOUBLE LASSO\"], 1)\n",
    "table_2"
   ]
  },
  {
   "cell_type": "code",
<<<<<<< Updated upstream
   "execution_count": 59,
=======
   "execution_count": 28,
>>>>>>> Stashed changes
   "id": "17fbb3c1",
   "metadata": {},
   "outputs": [
    {
<<<<<<< Updated upstream
     "data": {
      "text/plain": [
       "1×4 Named Matrix{Float64}\n",
       "       A ╲ B │          1           2           3           4\n",
       "─────────────┼───────────────────────────────────────────────\n",
       "DOUBLE LASSO │ -0.0500007   0.0152165  -0.0802403  -0.0197611"
      ]
     },
     "execution_count": 59,
     "metadata": {},
     "output_type": "execute_result"
=======
     "ename": "LoadError",
     "evalue": "UndefVarError: lower_ci_lasso not defined",
     "output_type": "error",
     "traceback": [
      "UndefVarError: lower_ci_lasso not defined",
      "",
      "Stacktrace:",
      " [1] top-level scope",
      "   @ In[28]:3",
      " [2] eval",
      "   @ .\\boot.jl:373 [inlined]",
      " [3] include_string(mapexpr::typeof(REPL.softscope), mod::Module, code::String, filename::String)",
      "   @ Base .\\loading.jl:1196"
     ]
>>>>>>> Stashed changes
    }
   ],
   "source": [
    "table_2[1] = est_lasso\n",
    "table_2[2] = std_lasso   \n",
    "table_2[3] = lower_ci_lasso\n",
    "table_2[4] = upper_ci_lasso    \n",
    " \n",
    "table_2"
   ]
  },
  {
   "cell_type": "code",
<<<<<<< Updated upstream
   "execution_count": 60,
=======
   "execution_count": 29,
>>>>>>> Stashed changes
   "id": "0aad650b",
   "metadata": {},
   "outputs": [
    {
     "data": {
      "text/html": [
       "<div class=\"data-frame\"><p>1 rows × 5 columns</p><table class=\"data-frame\"><thead><tr><th></th><th>model</th><th>Estimator</th><th>Std. Error</th><th>lower bound CI</th><th>upper bound CI</th></tr><tr><th></th><th title=\"String\">String</th><th title=\"Float64\">Float64</th><th title=\"Float64\">Float64</th><th title=\"Float64\">Float64</th><th title=\"Float64\">Float64</th></tr></thead><tbody><tr><th>1</th><td>DOUBLE LASSO</td><td>-0.0500007</td><td>0.0152165</td><td>0.0</td><td>0.0</td></tr></tbody></table></div>"
      ],
      "text/latex": [
       "\\begin{tabular}{r|ccccc}\n",
       "\t& model & Estimator & Std. Error & lower bound CI & upper bound CI\\\\\n",
       "\t\\hline\n",
       "\t& String & Float64 & Float64 & Float64 & Float64\\\\\n",
       "\t\\hline\n",
       "\t1 & DOUBLE LASSO & -0.0500007 & 0.0152165 & 0.0 & 0.0 \\\\\n",
       "\\end{tabular}\n"
      ],
      "text/plain": [
       "\u001b[1m1×5 DataFrame\u001b[0m\n",
       "\u001b[1m Row \u001b[0m│\u001b[1m model        \u001b[0m\u001b[1m Estimator  \u001b[0m\u001b[1m Std. Error \u001b[0m\u001b[1m lower bound CI \u001b[0m\u001b[1m upper bound CI \u001b[0m\n",
       "\u001b[1m     \u001b[0m│\u001b[90m String       \u001b[0m\u001b[90m Float64    \u001b[0m\u001b[90m Float64    \u001b[0m\u001b[90m Float64        \u001b[0m\u001b[90m Float64        \u001b[0m\n",
       "─────┼──────────────────────────────────────────────────────────────────────\n",
       "   1 │ DOUBLE LASSO  -0.0500007   0.0152165             0.0             0.0"
      ]
     },
<<<<<<< Updated upstream
     "execution_count": 60,
=======
     "execution_count": 29,
>>>>>>> Stashed changes
     "metadata": {},
     "output_type": "execute_result"
    }
   ],
   "source": [
    "table_2_pandas = DataFrame( table_2, [ :\"Estimator\", :\"Std. Error\", :\"lower bound CI\", :\"upper bound CI\"])\n",
    "model_2 = DataFrame(model = [\"DOUBLE LASSO\"])\n",
    "table_2_pandas = hcat(model_2,table_2_pandas)\n",
    "table_2_pandas"
   ]
  },
  {
   "cell_type": "code",
<<<<<<< Updated upstream
   "execution_count": 61,
=======
   "execution_count": 30,
>>>>>>> Stashed changes
   "id": "c1caa31d",
   "metadata": {},
   "outputs": [
    {
     "data": {
      "text/html": [
       "<!DOCTYPE html>\n",
       "<html>\n",
       "<meta charset=\"UTF-8\">\n",
       "<style>\n",
       "  table, td, th {\n",
       "      border-collapse: collapse;\n",
       "      font-family: sans-serif;\n",
       "  }\n",
       "\n",
       "  td, th {\n",
       "      border-bottom: 0;\n",
       "      padding: 4px\n",
       "  }\n",
       "\n",
       "  tr:nth-child(odd) {\n",
       "      background: #eee;\n",
       "  }\n",
       "\n",
       "  tr:nth-child(even) {\n",
       "      background: #fff;\n",
       "  }\n",
       "\n",
       "  tr.header {\n",
       "      background: navy !important;\n",
       "      color: white;\n",
       "      font-weight: bold;\n",
       "  }\n",
       "\n",
       "  tr.subheader {\n",
       "      background: lightgray !important;\n",
       "      color: black;\n",
       "  }\n",
       "\n",
       "  tr.headerLastRow {\n",
       "      border-bottom: 2px solid black;\n",
       "  }\n",
       "\n",
       "  th.rowNumber, td.rowNumber {\n",
       "      text-align: right;\n",
       "  }\n",
       "\n",
       "</style>\n",
       "<body>\n",
       "<table>\n",
       "  <thead>\n",
       "    <tr class = \"header headerLastRow\">\n",
       "      <th style = \"text-align: center;\">Model</th>\n",
       "      <th style = \"text-align: center;\">Estimator</th>\n",
       "      <th style = \"text-align: center;\">Std. Error</th>\n",
       "      <th style = \"text-align: center;\">lower bound CI</th>\n",
       "      <th style = \"text-align: center;\">upper bound CI</th>\n",
       "    </tr>\n",
       "  </thead>\n",
       "  <tbody>\n",
       "    <tr>\n",
       "      <td style = \"text-align: center;\">DOUBLE LASSO</td>\n",
       "      <td style = \"text-align: center;\">-0.050001</td>\n",
       "      <td style = \"text-align: center;\">0.015217</td>\n",
       "      <td style = \"text-align: center;\">0.0</td>\n",
       "      <td style = \"text-align: center;\">0.0</td>\n",
       "    </tr>\n",
       "  </tbody>\n",
       "</table>\n",
       "</body>\n",
       "</html>\n"
      ]
     },
     "metadata": {},
     "output_type": "display_data"
    }
   ],
   "source": [
    "header = ([\"Model\", \"Estimator\", \"Std. Error\", \"lower bound CI\", \"upper bound CI\"])\n",
    "pretty_table(table_2_pandas; backend = Val(:html), header = header, formatters=ft_round(6), alignment=:c)"
   ]
  },
  {
   "cell_type": "code",
<<<<<<< Updated upstream
   "execution_count": 62,
=======
   "execution_count": 31,
>>>>>>> Stashed changes
   "id": "56ba8e89",
   "metadata": {},
   "outputs": [
    {
     "data": {
      "text/plain": [
       "2×4 Named Matrix{Float64}\n",
       "    vcat ╲ B │           1            2            3            4\n",
       "─────────────┼───────────────────────────────────────────────────\n",
       "OLS          │ -0.00937799    0.0298877          0.0          0.0\n",
       "DOUBLE LASSO │  -0.0500007    0.0152165          0.0          0.0"
      ]
     },
<<<<<<< Updated upstream
     "execution_count": 62,
=======
     "execution_count": 31,
>>>>>>> Stashed changes
     "metadata": {},
     "output_type": "execute_result"
    }
   ],
   "source": [
    "table_3 = vcat(table_1, table_2)\n",
    "setnames!(table_3, [\"OLS\", \"DOUBLE LASSO\"], 1)\n",
    "table_3"
   ]
  },
  {
   "cell_type": "code",
<<<<<<< Updated upstream
   "execution_count": 63,
=======
   "execution_count": 32,
>>>>>>> Stashed changes
   "id": "7e2da03c",
   "metadata": {},
   "outputs": [
    {
     "data": {
      "text/html": [
       "<div class=\"data-frame\"><p>2 rows × 5 columns</p><table class=\"data-frame\"><thead><tr><th></th><th>model</th><th>Estimator</th><th>Std. Error</th><th>lower bound CI</th><th>upper bound CI</th></tr><tr><th></th><th title=\"String\">String</th><th title=\"Float64\">Float64</th><th title=\"Float64\">Float64</th><th title=\"Float64\">Float64</th><th title=\"Float64\">Float64</th></tr></thead><tbody><tr><th>1</th><td>OLS</td><td>-0.00937799</td><td>0.0298877</td><td>0.0</td><td>0.0</td></tr><tr><th>2</th><td>DOUBLE LASSO</td><td>-0.0500007</td><td>0.0152165</td><td>0.0</td><td>0.0</td></tr></tbody></table></div>"
      ],
      "text/latex": [
       "\\begin{tabular}{r|ccccc}\n",
       "\t& model & Estimator & Std. Error & lower bound CI & upper bound CI\\\\\n",
       "\t\\hline\n",
       "\t& String & Float64 & Float64 & Float64 & Float64\\\\\n",
       "\t\\hline\n",
       "\t1 & OLS & -0.00937799 & 0.0298877 & 0.0 & 0.0 \\\\\n",
       "\t2 & DOUBLE LASSO & -0.0500007 & 0.0152165 & 0.0 & 0.0 \\\\\n",
       "\\end{tabular}\n"
      ],
      "text/plain": [
       "\u001b[1m2×5 DataFrame\u001b[0m\n",
       "\u001b[1m Row \u001b[0m│\u001b[1m model        \u001b[0m\u001b[1m Estimator   \u001b[0m\u001b[1m Std. Error \u001b[0m\u001b[1m lower bound CI \u001b[0m\u001b[1m upper bound CI \u001b[0m\n",
       "\u001b[1m     \u001b[0m│\u001b[90m String       \u001b[0m\u001b[90m Float64     \u001b[0m\u001b[90m Float64    \u001b[0m\u001b[90m Float64        \u001b[0m\u001b[90m Float64        \u001b[0m\n",
       "─────┼───────────────────────────────────────────────────────────────────────\n",
       "   1 │ OLS           -0.00937799   0.0298877             0.0             0.0\n",
       "   2 │ DOUBLE LASSO  -0.0500007    0.0152165             0.0             0.0"
      ]
     },
<<<<<<< Updated upstream
     "execution_count": 63,
=======
     "execution_count": 32,
>>>>>>> Stashed changes
     "metadata": {},
     "output_type": "execute_result"
    }
   ],
   "source": [
    "table_3_pandas = DataFrame( table_3, [ :\"Estimator\", :\"Std. Error\", :\"lower bound CI\", :\"upper bound CI\"])\n",
    "model_3 = DataFrame(model = [\"OLS\", \"DOUBLE LASSO\"])\n",
    "table_3_pandas = hcat(model_3, table_3_pandas)\n",
    "table_3_pandas"
   ]
  },
  {
   "cell_type": "code",
<<<<<<< Updated upstream
   "execution_count": 64,
=======
   "execution_count": 33,
>>>>>>> Stashed changes
   "id": "855d2f2f",
   "metadata": {},
   "outputs": [
    {
     "data": {
      "text/html": [
       "<!DOCTYPE html>\n",
       "<html>\n",
       "<meta charset=\"UTF-8\">\n",
       "<style>\n",
       "  table, td, th {\n",
       "      border-collapse: collapse;\n",
       "      font-family: sans-serif;\n",
       "  }\n",
       "\n",
       "  td, th {\n",
       "      border-bottom: 0;\n",
       "      padding: 4px\n",
       "  }\n",
       "\n",
       "  tr:nth-child(odd) {\n",
       "      background: #eee;\n",
       "  }\n",
       "\n",
       "  tr:nth-child(even) {\n",
       "      background: #fff;\n",
       "  }\n",
       "\n",
       "  tr.header {\n",
       "      background: navy !important;\n",
       "      color: white;\n",
       "      font-weight: bold;\n",
       "  }\n",
       "\n",
       "  tr.subheader {\n",
       "      background: lightgray !important;\n",
       "      color: black;\n",
       "  }\n",
       "\n",
       "  tr.headerLastRow {\n",
       "      border-bottom: 2px solid black;\n",
       "  }\n",
       "\n",
       "  th.rowNumber, td.rowNumber {\n",
       "      text-align: right;\n",
       "  }\n",
       "\n",
       "</style>\n",
       "<body>\n",
       "<table>\n",
       "  <thead>\n",
       "    <tr class = \"header headerLastRow\">\n",
       "      <th style = \"text-align: center;\">Model</th>\n",
       "      <th style = \"text-align: center;\">Estimator</th>\n",
       "      <th style = \"text-align: center;\">Std. Error</th>\n",
       "      <th style = \"text-align: center;\">lower bound CI</th>\n",
       "      <th style = \"text-align: center;\">upper bound CI</th>\n",
       "    </tr>\n",
       "  </thead>\n",
       "  <tbody>\n",
       "    <tr>\n",
       "      <td style = \"text-align: center;\">OLS</td>\n",
       "      <td style = \"text-align: center;\">-0.009378</td>\n",
       "      <td style = \"text-align: center;\">0.029888</td>\n",
       "      <td style = \"text-align: center;\">0.0</td>\n",
       "      <td style = \"text-align: center;\">0.0</td>\n",
       "    </tr>\n",
       "    <tr>\n",
       "      <td style = \"text-align: center;\">DOUBLE LASSO</td>\n",
       "      <td style = \"text-align: center;\">-0.050001</td>\n",
       "      <td style = \"text-align: center;\">0.015217</td>\n",
       "      <td style = \"text-align: center;\">0.0</td>\n",
       "      <td style = \"text-align: center;\">0.0</td>\n",
       "    </tr>\n",
       "  </tbody>\n",
       "</table>\n",
       "</body>\n",
       "</html>\n"
      ]
     },
     "metadata": {},
     "output_type": "display_data"
    }
   ],
   "source": [
    "header = ([\"Model\", \"Estimator\", \"Std. Error\", \"lower bound CI\", \"upper bound CI\"])\n",
    "pretty_table(table_3_pandas; backend = Val(:html), header = header, formatters=ft_round(6), alignment=:c)"
   ]
  },
  {
   "cell_type": "markdown",
   "id": "433a7412",
   "metadata": {},
   "source": [
    "The least square method provides a rather noisy estimate of the speed of convergence. We can not answer the question if poor countries grow faster than rich countries. The least square method does not work when the ratio $p/n$ is large.\n",
    "\n",
    "In sharp contrast, partialling-out via Lasso provides a more precise estimate. The Lasso based point estimate is $-5\\%$ and the $95\\%$ confidence interval for the (annual) rate of convergence $[-8\\%,-1.9\\%]$ only includes negative numbers. This empirical evidence does support the convergence hypothesis."
   ]
  },
  {
   "cell_type": "markdown",
   "id": "714d864a",
   "metadata": {},
   "source": [
    "<table border=\"1\" class=\"dataframe\">\n",
    "  <thead>\n",
    "    <tr style=\"text-align: right;\">\n",
    "      <th></th>\n",
    "      <th>Estimator</th>\n",
    "      <th>Std. Error</th>\n",
    "      <th>lower bound CI</th>\n",
    "      <th>upper bound CI</th>\n",
    "    </tr>\n",
    "  </thead>\n",
    "  <tbody>\n",
    "    <tr>\n",
    "      <th>OLS</th>\n",
    "      <td>-0.009378</td>\n",
    "      <td>0.029888</td>\n",
    "      <td>-0.070600</td>\n",
    "      <td>0.051844</td>\n",
    "    </tr>\n",
    "    <tr>\n",
    "      <th>DOUBLE LASSO</th>\n",
    "      <td>-0.050001</td>\n",
    "      <td>0.015217</td>\n",
    "      <td>-0.08024</td>\n",
    "      <td>-0.019761</td>\n",
    "    </tr>\n",
    "  </tbody>\n",
    "</table>"
   ]
  },
  {
   "cell_type": "code",
<<<<<<< Updated upstream
   "execution_count": 65,
   "id": "f8f788f2",
   "metadata": {},
   "outputs": [],
=======
   "execution_count": 47,
   "id": "16fd7cc0",
   "metadata": {},
   "outputs": [
    {
     "name": "stderr",
     "output_type": "stream",
     "text": [
      "\u001b[32m\u001b[1m   Resolving\u001b[22m\u001b[39m package versions...\n",
      "\u001b[32m\u001b[1m   Installed\u001b[22m\u001b[39m Opus_jll ───────────────────── v1.3.2+0\n",
      "\u001b[32m\u001b[1m   Installed\u001b[22m\u001b[39m LERC_jll ───────────────────── v3.0.0+1\n",
      "\u001b[32m\u001b[1m   Installed\u001b[22m\u001b[39m x265_jll ───────────────────── v3.5.0+0\n",
      "\u001b[32m\u001b[1m   Installed\u001b[22m\u001b[39m Libmount_jll ───────────────── v2.35.0+0\n",
      "\u001b[32m\u001b[1m   Installed\u001b[22m\u001b[39m GR_jll ─────────────────────── v0.64.2+0\n",
      "\u001b[32m\u001b[1m   Installed\u001b[22m\u001b[39m libfdk_aac_jll ─────────────── v2.0.2+0\n",
      "\u001b[32m\u001b[1m   Installed\u001b[22m\u001b[39m JpegTurbo_jll ──────────────── v2.1.2+0\n",
      "\u001b[32m\u001b[1m   Installed\u001b[22m\u001b[39m Xorg_xkbcomp_jll ───────────── v1.4.2+4\n",
      "\u001b[32m\u001b[1m   Installed\u001b[22m\u001b[39m Measures ───────────────────── v0.3.1\n",
      "\u001b[32m\u001b[1m   Installed\u001b[22m\u001b[39m RelocatableFolders ─────────── v0.1.3\n",
      "\u001b[32m\u001b[1m   Installed\u001b[22m\u001b[39m EarCut_jll ─────────────────── v2.2.3+0\n",
      "\u001b[32m\u001b[1m   Installed\u001b[22m\u001b[39m Xorg_xcb_util_wm_jll ───────── v0.4.1+1\n",
      "\u001b[32m\u001b[1m   Installed\u001b[22m\u001b[39m Grisu ──────────────────────── v1.0.2\n",
      "\u001b[32m\u001b[1m   Installed\u001b[22m\u001b[39m Xorg_xcb_util_image_jll ────── v0.4.0+1\n",
      "\u001b[32m\u001b[1m   Installed\u001b[22m\u001b[39m PlotUtils ──────────────────── v1.2.0\n",
      "\u001b[32m\u001b[1m   Installed\u001b[22m\u001b[39m StaticArrays ───────────────── v1.4.3\n",
      "\u001b[32m\u001b[1m   Installed\u001b[22m\u001b[39m Contour ────────────────────── v0.5.7\n",
      "\u001b[32m\u001b[1m   Installed\u001b[22m\u001b[39m Xorg_xcb_util_jll ──────────── v0.4.0+1\n",
      "\u001b[32m\u001b[1m   Installed\u001b[22m\u001b[39m Xorg_libpthread_stubs_jll ──── v0.1.0+3\n",
      "\u001b[32m\u001b[1m   Installed\u001b[22m\u001b[39m Cairo_jll ──────────────────── v1.16.1+1\n",
      "\u001b[32m\u001b[1m   Installed\u001b[22m\u001b[39m Fontconfig_jll ─────────────── v2.13.93+0\n",
      "\u001b[32m\u001b[1m   Installed\u001b[22m\u001b[39m RecipesPipeline ────────────── v0.5.2\n",
      "\u001b[32m\u001b[1m   Installed\u001b[22m\u001b[39m HTTP ───────────────────────── v0.9.17\n",
      "\u001b[32m\u001b[1m   Installed\u001b[22m\u001b[39m Libgpg_error_jll ───────────── v1.42.0+0\n",
      "\u001b[32m\u001b[1m   Installed\u001b[22m\u001b[39m Xorg_libXau_jll ────────────── v1.0.9+4\n",
      "\u001b[32m\u001b[1m   Installed\u001b[22m\u001b[39m Xorg_libXinerama_jll ───────── v1.1.4+4\n",
      "\u001b[32m\u001b[1m   Installed\u001b[22m\u001b[39m Xorg_libxkbfile_jll ────────── v1.1.0+4\n",
      "\u001b[32m\u001b[1m   Installed\u001b[22m\u001b[39m FFMPEG ─────────────────────── v0.4.1\n",
      "\u001b[32m\u001b[1m   Installed\u001b[22m\u001b[39m Showoff ────────────────────── v1.0.3\n",
      "\u001b[32m\u001b[1m   Installed\u001b[22m\u001b[39m Xorg_xcb_util_keysyms_jll ──── v0.4.0+1\n",
      "\u001b[32m\u001b[1m   Installed\u001b[22m\u001b[39m xkbcommon_jll ──────────────── v0.9.1+5\n",
      "\u001b[32m\u001b[1m   Installed\u001b[22m\u001b[39m HarfBuzz_jll ───────────────── v2.8.1+1\n",
      "\u001b[32m\u001b[1m   Installed\u001b[22m\u001b[39m Qt5Base_jll ────────────────── v5.15.3+0\n",
      "\u001b[32m\u001b[1m   Installed\u001b[22m\u001b[39m NaNMath ────────────────────── v1.0.0\n",
      "\u001b[32m\u001b[1m   Installed\u001b[22m\u001b[39m PlotThemes ─────────────────── v3.0.0\n",
      "\u001b[32m\u001b[1m   Installed\u001b[22m\u001b[39m GR ─────────────────────────── v0.64.2\n",
      "\u001b[32m\u001b[1m   Installed\u001b[22m\u001b[39m LZO_jll ────────────────────── v2.10.1+0\n",
      "\u001b[32m\u001b[1m   Installed\u001b[22m\u001b[39m GLFW_jll ───────────────────── v3.3.6+0\n",
      "\u001b[32m\u001b[1m   Installed\u001b[22m\u001b[39m x264_jll ───────────────────── v2021.5.5+0\n",
      "\u001b[32m\u001b[1m   Installed\u001b[22m\u001b[39m UnicodeFun ─────────────────── v0.4.1\n",
      "\u001b[32m\u001b[1m   Installed\u001b[22m\u001b[39m FriBidi_jll ────────────────── v1.0.10+0\n",
      "\u001b[32m\u001b[1m   Installed\u001b[22m\u001b[39m FreeType2_jll ──────────────── v2.10.4+0\n",
      "\u001b[32m\u001b[1m   Installed\u001b[22m\u001b[39m Xorg_libxcb_jll ────────────── v1.13.0+3\n",
      "\u001b[32m\u001b[1m   Installed\u001b[22m\u001b[39m libpng_jll ─────────────────── v1.6.38+0\n",
      "\u001b[32m\u001b[1m   Installed\u001b[22m\u001b[39m Scratch ────────────────────── v1.1.0\n",
      "\u001b[32m\u001b[1m   Installed\u001b[22m\u001b[39m ColorSchemes ───────────────── v3.17.1\n",
      "\u001b[32m\u001b[1m   Installed\u001b[22m\u001b[39m Colors ─────────────────────── v0.12.8\n",
      "\u001b[32m\u001b[1m   Installed\u001b[22m\u001b[39m ColorTypes ─────────────────── v0.11.0\n",
      "\u001b[32m\u001b[1m   Installed\u001b[22m\u001b[39m Plots ──────────────────────── v1.27.6\n",
      "\u001b[32m\u001b[1m   Installed\u001b[22m\u001b[39m Zstd_jll ───────────────────── v1.5.2+0\n",
      "\u001b[32m\u001b[1m   Installed\u001b[22m\u001b[39m Expat_jll ──────────────────── v2.4.8+0\n",
      "\u001b[32m\u001b[1m   Installed\u001b[22m\u001b[39m Libtiff_jll ────────────────── v4.3.0+1\n",
      "\u001b[32m\u001b[1m   Installed\u001b[22m\u001b[39m PCRE_jll ───────────────────── v8.44.0+0\n",
      "\u001b[32m\u001b[1m   Installed\u001b[22m\u001b[39m Libffi_jll ─────────────────── v3.2.2+1\n",
      "\u001b[32m\u001b[1m   Installed\u001b[22m\u001b[39m Xorg_libXrender_jll ────────── v0.9.10+4\n",
      "\u001b[32m\u001b[1m   Installed\u001b[22m\u001b[39m Ogg_jll ────────────────────── v1.3.5+1\n",
      "\u001b[32m\u001b[1m   Installed\u001b[22m\u001b[39m Xorg_libXi_jll ─────────────── v1.7.10+4\n",
      "\u001b[32m\u001b[1m   Installed\u001b[22m\u001b[39m XSLT_jll ───────────────────── v1.1.34+0\n",
      "\u001b[32m\u001b[1m   Installed\u001b[22m\u001b[39m Xorg_libXcursor_jll ────────── v1.2.0+4\n",
      "\u001b[32m\u001b[1m   Installed\u001b[22m\u001b[39m MacroTools ─────────────────── v0.5.9\n",
      "\u001b[32m\u001b[1m   Installed\u001b[22m\u001b[39m Wayland_protocols_jll ──────── v1.25.0+0\n",
      "\u001b[32m\u001b[1m   Installed\u001b[22m\u001b[39m Graphite2_jll ──────────────── v1.3.14+0\n",
      "\u001b[32m\u001b[1m   Installed\u001b[22m\u001b[39m Libuuid_jll ────────────────── v2.36.0+0\n",
      "\u001b[32m\u001b[1m   Installed\u001b[22m\u001b[39m Adapt ──────────────────────── v3.3.3\n",
      "\u001b[32m\u001b[1m   Installed\u001b[22m\u001b[39m Xorg_xcb_util_renderutil_jll ─ v0.3.9+1\n",
      "\u001b[32m\u001b[1m   Installed\u001b[22m\u001b[39m libass_jll ─────────────────── v0.15.1+0\n",
      "\u001b[32m\u001b[1m   Installed\u001b[22m\u001b[39m XML2_jll ───────────────────── v2.9.12+0\n",
      "\u001b[32m\u001b[1m   Installed\u001b[22m\u001b[39m Xorg_xtrans_jll ────────────── v1.4.0+3\n",
      "\u001b[32m\u001b[1m   Installed\u001b[22m\u001b[39m Pixman_jll ─────────────────── v0.40.1+0\n",
      "\u001b[32m\u001b[1m   Installed\u001b[22m\u001b[39m Wayland_jll ────────────────── v1.19.0+0\n",
      "\u001b[32m\u001b[1m   Installed\u001b[22m\u001b[39m Gettext_jll ────────────────── v0.21.0+0\n",
      "\u001b[32m\u001b[1m   Installed\u001b[22m\u001b[39m OpenSSL_jll ────────────────── v1.1.14+0\n",
      "\u001b[32m\u001b[1m   Installed\u001b[22m\u001b[39m Latexify ───────────────────── v0.15.14\n",
      "\u001b[32m\u001b[1m   Installed\u001b[22m\u001b[39m FFMPEG_jll ─────────────────── v4.4.0+0\n",
      "\u001b[32m\u001b[1m   Installed\u001b[22m\u001b[39m Libgcrypt_jll ──────────────── v1.8.7+0\n",
      "\u001b[32m\u001b[1m   Installed\u001b[22m\u001b[39m Xorg_xkeyboard_config_jll ──── v2.27.0+4\n",
      "\u001b[32m\u001b[1m   Installed\u001b[22m\u001b[39m Xorg_libXrandr_jll ─────────── v1.5.2+4\n",
      "\u001b[32m\u001b[1m   Installed\u001b[22m\u001b[39m Xorg_libXfixes_jll ─────────── v5.0.3+4\n",
      "\u001b[32m\u001b[1m   Installed\u001b[22m\u001b[39m FixedPointNumbers ──────────── v0.8.4\n",
      "\u001b[32m\u001b[1m   Installed\u001b[22m\u001b[39m LAME_jll ───────────────────── v3.100.1+0\n",
      "\u001b[32m\u001b[1m   Installed\u001b[22m\u001b[39m GeometryBasics ─────────────── v0.4.2\n",
      "\u001b[32m\u001b[1m   Installed\u001b[22m\u001b[39m Libiconv_jll ───────────────── v1.16.1+1\n",
      "\u001b[32m\u001b[1m   Installed\u001b[22m\u001b[39m IniFile ────────────────────── v0.5.1\n",
      "\u001b[32m\u001b[1m   Installed\u001b[22m\u001b[39m Glib_jll ───────────────────── v2.68.3+2\n",
      "\u001b[32m\u001b[1m   Installed\u001b[22m\u001b[39m URIs ───────────────────────── v1.3.0\n",
      "\u001b[32m\u001b[1m   Installed\u001b[22m\u001b[39m LaTeXStrings ───────────────── v1.3.0\n",
      "\u001b[32m\u001b[1m   Installed\u001b[22m\u001b[39m libvorbis_jll ──────────────── v1.3.7+1\n",
      "\u001b[32m\u001b[1m   Installed\u001b[22m\u001b[39m Libglvnd_jll ───────────────── v1.3.0+3\n",
      "\u001b[32m\u001b[1m   Installed\u001b[22m\u001b[39m StructArrays ───────────────── v0.6.5\n",
      "\u001b[32m\u001b[1m   Installed\u001b[22m\u001b[39m Xorg_libX11_jll ────────────── v1.6.9+4\n",
      "\u001b[32m\u001b[1m   Installed\u001b[22m\u001b[39m Xorg_libXdmcp_jll ──────────── v1.1.3+4\n",
      "\u001b[32m\u001b[1m   Installed\u001b[22m\u001b[39m Unzip ──────────────────────── v0.1.2\n",
      "\u001b[32m\u001b[1m   Installed\u001b[22m\u001b[39m Xorg_libXext_jll ───────────── v1.3.4+4\n",
      "\u001b[32m\u001b[1m    Updating\u001b[22m\u001b[39m `C:\\Users\\Roberto\\.julia\\environments\\v1.7\\Project.toml`\n",
      " \u001b[90m [91a5bcdd] \u001b[39m\u001b[92m+ Plots v1.27.6\u001b[39m\n",
      "\u001b[32m\u001b[1m    Updating\u001b[22m\u001b[39m `C:\\Users\\Roberto\\.julia\\environments\\v1.7\\Manifest.toml`\n",
      " \u001b[90m [79e6a3ab] \u001b[39m\u001b[92m+ Adapt v3.3.3\u001b[39m\n",
      " \u001b[90m [35d6a980] \u001b[39m\u001b[92m+ ColorSchemes v3.17.1\u001b[39m\n",
      " \u001b[90m [3da002f7] \u001b[39m\u001b[92m+ ColorTypes v0.11.0\u001b[39m\n",
      " \u001b[90m [5ae59095] \u001b[39m\u001b[92m+ Colors v0.12.8\u001b[39m\n",
      " \u001b[90m [d38c429a] \u001b[39m\u001b[92m+ Contour v0.5.7\u001b[39m\n",
      " \u001b[90m [c87230d0] \u001b[39m\u001b[92m+ FFMPEG v0.4.1\u001b[39m\n",
      " \u001b[90m [53c48c17] \u001b[39m\u001b[92m+ FixedPointNumbers v0.8.4\u001b[39m\n",
      " \u001b[90m [28b8d3ca] \u001b[39m\u001b[92m+ GR v0.64.2\u001b[39m\n",
      " \u001b[90m [5c1252a2] \u001b[39m\u001b[92m+ GeometryBasics v0.4.2\u001b[39m\n",
      " \u001b[90m [42e2da0e] \u001b[39m\u001b[92m+ Grisu v1.0.2\u001b[39m\n",
      " \u001b[90m [cd3eb016] \u001b[39m\u001b[92m+ HTTP v0.9.17\u001b[39m\n",
      " \u001b[90m [83e8ac13] \u001b[39m\u001b[92m+ IniFile v0.5.1\u001b[39m\n",
      " \u001b[90m [b964fa9f] \u001b[39m\u001b[92m+ LaTeXStrings v1.3.0\u001b[39m\n",
      " \u001b[90m [23fbe1c1] \u001b[39m\u001b[92m+ Latexify v0.15.14\u001b[39m\n",
      " \u001b[90m [1914dd2f] \u001b[39m\u001b[92m+ MacroTools v0.5.9\u001b[39m\n",
      " \u001b[90m [442fdcdd] \u001b[39m\u001b[92m+ Measures v0.3.1\u001b[39m\n",
      " \u001b[90m [77ba4419] \u001b[39m\u001b[92m+ NaNMath v1.0.0\u001b[39m\n",
      " \u001b[90m [ccf2f8ad] \u001b[39m\u001b[92m+ PlotThemes v3.0.0\u001b[39m\n",
      " \u001b[90m [995b91a9] \u001b[39m\u001b[92m+ PlotUtils v1.2.0\u001b[39m\n",
      " \u001b[90m [91a5bcdd] \u001b[39m\u001b[92m+ Plots v1.27.6\u001b[39m\n",
      " \u001b[90m [01d81517] \u001b[39m\u001b[92m+ RecipesPipeline v0.5.2\u001b[39m\n",
      " \u001b[90m [05181044] \u001b[39m\u001b[92m+ RelocatableFolders v0.1.3\u001b[39m\n",
      " \u001b[90m [6c6a2e73] \u001b[39m\u001b[92m+ Scratch v1.1.0\u001b[39m\n",
      " \u001b[90m [992d4aef] \u001b[39m\u001b[92m+ Showoff v1.0.3\u001b[39m\n",
      " \u001b[90m [90137ffa] \u001b[39m\u001b[92m+ StaticArrays v1.4.3\u001b[39m\n",
      " \u001b[90m [09ab397b] \u001b[39m\u001b[92m+ StructArrays v0.6.5\u001b[39m\n",
      " \u001b[90m [5c2747f8] \u001b[39m\u001b[92m+ URIs v1.3.0\u001b[39m\n",
      " \u001b[90m [1cfade01] \u001b[39m\u001b[92m+ UnicodeFun v0.4.1\u001b[39m\n",
      " \u001b[90m [41fe7b60] \u001b[39m\u001b[92m+ Unzip v0.1.2\u001b[39m\n",
      " \u001b[90m [83423d85] \u001b[39m\u001b[92m+ Cairo_jll v1.16.1+1\u001b[39m\n",
      " \u001b[90m [5ae413db] \u001b[39m\u001b[92m+ EarCut_jll v2.2.3+0\u001b[39m\n",
      " \u001b[90m [2e619515] \u001b[39m\u001b[92m+ Expat_jll v2.4.8+0\u001b[39m\n",
      " \u001b[90m [b22a6f82] \u001b[39m\u001b[92m+ FFMPEG_jll v4.4.0+0\u001b[39m\n",
      " \u001b[90m [a3f928ae] \u001b[39m\u001b[92m+ Fontconfig_jll v2.13.93+0\u001b[39m\n",
      " \u001b[90m [d7e528f0] \u001b[39m\u001b[92m+ FreeType2_jll v2.10.4+0\u001b[39m\n",
      " \u001b[90m [559328eb] \u001b[39m\u001b[92m+ FriBidi_jll v1.0.10+0\u001b[39m\n",
      " \u001b[90m [0656b61e] \u001b[39m\u001b[92m+ GLFW_jll v3.3.6+0\u001b[39m\n",
      " \u001b[90m [d2c73de3] \u001b[39m\u001b[92m+ GR_jll v0.64.2+0\u001b[39m\n",
      " \u001b[90m [78b55507] \u001b[39m\u001b[92m+ Gettext_jll v0.21.0+0\u001b[39m\n",
      " \u001b[90m [7746bdde] \u001b[39m\u001b[92m+ Glib_jll v2.68.3+2\u001b[39m\n",
      " \u001b[90m [3b182d85] \u001b[39m\u001b[92m+ Graphite2_jll v1.3.14+0\u001b[39m\n",
      " \u001b[90m [2e76f6c2] \u001b[39m\u001b[92m+ HarfBuzz_jll v2.8.1+1\u001b[39m\n",
      " \u001b[90m [aacddb02] \u001b[39m\u001b[92m+ JpegTurbo_jll v2.1.2+0\u001b[39m\n",
      " \u001b[90m [c1c5ebd0] \u001b[39m\u001b[92m+ LAME_jll v3.100.1+0\u001b[39m\n",
      " \u001b[90m [88015f11] \u001b[39m\u001b[92m+ LERC_jll v3.0.0+1\u001b[39m\n",
      " \u001b[90m [dd4b983a] \u001b[39m\u001b[92m+ LZO_jll v2.10.1+0\u001b[39m\n",
      " \u001b[90m [e9f186c6] \u001b[39m\u001b[92m+ Libffi_jll v3.2.2+1\u001b[39m\n",
      " \u001b[90m [d4300ac3] \u001b[39m\u001b[92m+ Libgcrypt_jll v1.8.7+0\u001b[39m\n",
      " \u001b[90m [7e76a0d4] \u001b[39m\u001b[92m+ Libglvnd_jll v1.3.0+3\u001b[39m\n",
      " \u001b[90m [7add5ba3] \u001b[39m\u001b[92m+ Libgpg_error_jll v1.42.0+0\u001b[39m\n",
      " \u001b[90m [94ce4f54] \u001b[39m\u001b[92m+ Libiconv_jll v1.16.1+1\u001b[39m\n",
      " \u001b[90m [4b2f31a3] \u001b[39m\u001b[92m+ Libmount_jll v2.35.0+0\u001b[39m\n",
      " \u001b[90m [89763e89] \u001b[39m\u001b[92m+ Libtiff_jll v4.3.0+1\u001b[39m\n",
      " \u001b[90m [38a345b3] \u001b[39m\u001b[92m+ Libuuid_jll v2.36.0+0\u001b[39m\n",
      " \u001b[90m [e7412a2a] \u001b[39m\u001b[92m+ Ogg_jll v1.3.5+1\u001b[39m\n",
      " \u001b[90m [458c3c95] \u001b[39m\u001b[92m+ OpenSSL_jll v1.1.14+0\u001b[39m\n",
      " \u001b[90m [91d4177d] \u001b[39m\u001b[92m+ Opus_jll v1.3.2+0\u001b[39m\n",
      " \u001b[90m [2f80f16e] \u001b[39m\u001b[92m+ PCRE_jll v8.44.0+0\u001b[39m\n",
      " \u001b[90m [30392449] \u001b[39m\u001b[92m+ Pixman_jll v0.40.1+0\u001b[39m\n",
      " \u001b[90m [ea2cea3b] \u001b[39m\u001b[92m+ Qt5Base_jll v5.15.3+0\u001b[39m\n",
      " \u001b[90m [a2964d1f] \u001b[39m\u001b[92m+ Wayland_jll v1.19.0+0\u001b[39m\n",
      " \u001b[90m [2381bf8a] \u001b[39m\u001b[92m+ Wayland_protocols_jll v1.25.0+0\u001b[39m\n",
      " \u001b[90m [02c8fc9c] \u001b[39m\u001b[92m+ XML2_jll v2.9.12+0\u001b[39m\n",
      " \u001b[90m [aed1982a] \u001b[39m\u001b[92m+ XSLT_jll v1.1.34+0\u001b[39m\n",
      " \u001b[90m [4f6342f7] \u001b[39m\u001b[92m+ Xorg_libX11_jll v1.6.9+4\u001b[39m\n",
      " \u001b[90m [0c0b7dd1] \u001b[39m\u001b[92m+ Xorg_libXau_jll v1.0.9+4\u001b[39m\n",
      " \u001b[90m [935fb764] \u001b[39m\u001b[92m+ Xorg_libXcursor_jll v1.2.0+4\u001b[39m\n",
      " \u001b[90m [a3789734] \u001b[39m\u001b[92m+ Xorg_libXdmcp_jll v1.1.3+4\u001b[39m\n",
      " \u001b[90m [1082639a] \u001b[39m\u001b[92m+ Xorg_libXext_jll v1.3.4+4\u001b[39m\n",
      " \u001b[90m [d091e8ba] \u001b[39m\u001b[92m+ Xorg_libXfixes_jll v5.0.3+4\u001b[39m\n",
      " \u001b[90m [a51aa0fd] \u001b[39m\u001b[92m+ Xorg_libXi_jll v1.7.10+4\u001b[39m\n",
      " \u001b[90m [d1454406] \u001b[39m\u001b[92m+ Xorg_libXinerama_jll v1.1.4+4\u001b[39m\n",
      " \u001b[90m [ec84b674] \u001b[39m\u001b[92m+ Xorg_libXrandr_jll v1.5.2+4\u001b[39m\n",
      " \u001b[90m [ea2f1a96] \u001b[39m\u001b[92m+ Xorg_libXrender_jll v0.9.10+4\u001b[39m\n",
      " \u001b[90m [14d82f49] \u001b[39m\u001b[92m+ Xorg_libpthread_stubs_jll v0.1.0+3\u001b[39m\n",
      " \u001b[90m [c7cfdc94] \u001b[39m\u001b[92m+ Xorg_libxcb_jll v1.13.0+3\u001b[39m\n",
      " \u001b[90m [cc61e674] \u001b[39m\u001b[92m+ Xorg_libxkbfile_jll v1.1.0+4\u001b[39m\n",
      " \u001b[90m [12413925] \u001b[39m\u001b[92m+ Xorg_xcb_util_image_jll v0.4.0+1\u001b[39m\n",
      " \u001b[90m [2def613f] \u001b[39m\u001b[92m+ Xorg_xcb_util_jll v0.4.0+1\u001b[39m\n",
      " \u001b[90m [975044d2] \u001b[39m\u001b[92m+ Xorg_xcb_util_keysyms_jll v0.4.0+1\u001b[39m\n",
      " \u001b[90m [0d47668e] \u001b[39m\u001b[92m+ Xorg_xcb_util_renderutil_jll v0.3.9+1\u001b[39m\n",
      " \u001b[90m [c22f9ab0] \u001b[39m\u001b[92m+ Xorg_xcb_util_wm_jll v0.4.1+1\u001b[39m\n",
      " \u001b[90m [35661453] \u001b[39m\u001b[92m+ Xorg_xkbcomp_jll v1.4.2+4\u001b[39m\n",
      " \u001b[90m [33bec58e] \u001b[39m\u001b[92m+ Xorg_xkeyboard_config_jll v2.27.0+4\u001b[39m\n",
      " \u001b[90m [c5fb5394] \u001b[39m\u001b[92m+ Xorg_xtrans_jll v1.4.0+3\u001b[39m\n",
      " \u001b[90m [3161d3a3] \u001b[39m\u001b[92m+ Zstd_jll v1.5.2+0\u001b[39m\n",
      " \u001b[90m [0ac62f75] \u001b[39m\u001b[92m+ libass_jll v0.15.1+0\u001b[39m\n",
      " \u001b[90m [f638f0a6] \u001b[39m\u001b[92m+ libfdk_aac_jll v2.0.2+0\u001b[39m\n",
      " \u001b[90m [b53b4c65] \u001b[39m\u001b[92m+ libpng_jll v1.6.38+0\u001b[39m\n",
      " \u001b[90m [f27f6e37] \u001b[39m\u001b[92m+ libvorbis_jll v1.3.7+1\u001b[39m\n",
      " \u001b[90m [1270edf5] \u001b[39m\u001b[92m+ x264_jll v2021.5.5+0\u001b[39m\n",
      " \u001b[90m [dfaa095f] \u001b[39m\u001b[92m+ x265_jll v3.5.0+0\u001b[39m\n",
      " \u001b[90m [d8fb68d0] \u001b[39m\u001b[92m+ xkbcommon_jll v0.9.1+5\u001b[39m\n",
      "\u001b[32m\u001b[1m    Building\u001b[22m\u001b[39m GR → `C:\\Users\\Roberto\\.julia\\scratchspaces\\44cfe95a-1eb2-52ea-b672-e2afdf69b78f\\af237c08bda486b74318c8070adb96efa6952530\\build.log`\n",
      "\u001b[32m\u001b[1mPrecompiling\u001b[22m\u001b[39m project...\n",
      "\u001b[32m  ✓ \u001b[39m\u001b[90mLaTeXStrings\u001b[39m\n",
      "\u001b[32m  ✓ \u001b[39m\u001b[90mMeasures\u001b[39m\n",
      "\u001b[32m  ✓ \u001b[39m\u001b[90mUnzip\u001b[39m\n",
      "\u001b[32m  ✓ \u001b[39m\u001b[90mIniFile\u001b[39m\n",
      "\u001b[32m  ✓ \u001b[39m\u001b[90mURIs\u001b[39m\n",
      "\u001b[32m  ✓ \u001b[39m\u001b[90mNaNMath\u001b[39m\n",
      "\u001b[32m  ✓ \u001b[39m\u001b[90mGrisu\u001b[39m\n",
      "\u001b[32m  ✓ \u001b[39m\u001b[90mScratch\u001b[39m\n",
      "\u001b[32m  ✓ \u001b[39m\u001b[90mAdapt\u001b[39m\n",
      "\u001b[32m  ✓ \u001b[39m\u001b[90mUnicodeFun\u001b[39m\n",
      "\u001b[32m  ✓ \u001b[39m\u001b[90mLibmount_jll\u001b[39m\n",
      "\u001b[32m  ✓ \u001b[39m\u001b[90mOpenSSL_jll\u001b[39m\n",
      "\u001b[32m  ✓ \u001b[39m\u001b[90mGraphite2_jll\u001b[39m\n",
      "\u001b[32m  ✓ \u001b[39m\u001b[90mXorg_libXau_jll\u001b[39m\n",
      "\u001b[32m  ✓ \u001b[39m\u001b[90mFixedPointNumbers\u001b[39m\n",
      "\u001b[32m  ✓ \u001b[39m\u001b[90mlibpng_jll\u001b[39m\n",
      "\u001b[32m  ✓ \u001b[39m\u001b[90mMacroTools\u001b[39m\n",
      "\u001b[32m  ✓ \u001b[39m\u001b[90mlibfdk_aac_jll\u001b[39m\n",
      "\u001b[32m  ✓ \u001b[39m\u001b[90mPixman_jll\u001b[39m\n",
      "\u001b[32m  ✓ \u001b[39m\u001b[90mLAME_jll\u001b[39m\n",
      "\u001b[32m  ✓ \u001b[39m\u001b[90mEarCut_jll\u001b[39m\n",
      "\u001b[32m  ✓ \u001b[39m\u001b[90mLERC_jll\u001b[39m\n",
      "\u001b[32m  ✓ \u001b[39m\u001b[90mJpegTurbo_jll\u001b[39m\n",
      "\u001b[32m  ✓ \u001b[39m\u001b[90mOgg_jll\u001b[39m\n",
      "\u001b[32m  ✓ \u001b[39m\u001b[90mXorg_libXdmcp_jll\u001b[39m\n",
      "\u001b[32m  ✓ \u001b[39m\u001b[90mx265_jll\u001b[39m\n",
      "\u001b[32m  ✓ \u001b[39m\u001b[90mx264_jll\u001b[39m\n",
      "\u001b[32m  ✓ \u001b[39m\u001b[90mZstd_jll\u001b[39m\n",
      "\u001b[32m  ✓ \u001b[39m\u001b[90mExpat_jll\u001b[39m\n",
      "\u001b[32m  ✓ \u001b[39m\u001b[90mXorg_xtrans_jll\u001b[39m\n",
      "\u001b[32m  ✓ \u001b[39m\u001b[90mLZO_jll\u001b[39m\n",
      "\u001b[32m  ✓ \u001b[39m\u001b[90mOpus_jll\u001b[39m\n",
      "\u001b[32m  ✓ \u001b[39m\u001b[90mPCRE_jll\u001b[39m\n",
      "\u001b[32m  ✓ \u001b[39m\u001b[90mLibiconv_jll\u001b[39m\n",
      "\u001b[32m  ✓ \u001b[39m\u001b[90mWayland_protocols_jll\u001b[39m\n",
      "\u001b[32m  ✓ \u001b[39m\u001b[90mLibffi_jll\u001b[39m\n",
      "\u001b[32m  ✓ \u001b[39m\u001b[90mLibgpg_error_jll\u001b[39m\n",
      "\u001b[32m  ✓ \u001b[39m\u001b[90mXorg_libpthread_stubs_jll\u001b[39m\n",
      "\u001b[32m  ✓ \u001b[39m\u001b[90mShowoff\u001b[39m\n",
      "\u001b[32m  ✓ \u001b[39m\u001b[90mLibuuid_jll\u001b[39m\n",
      "\u001b[32m  ✓ \u001b[39m\u001b[90mFriBidi_jll\u001b[39m\n",
      "\u001b[32m  ✓ \u001b[39m\u001b[90mRelocatableFolders\u001b[39m\n",
      "\u001b[32m  ✓ \u001b[39m\u001b[90mFreeType2_jll\u001b[39m\n",
      "\u001b[32m  ✓ \u001b[39m\u001b[90mlibvorbis_jll\u001b[39m\n",
      "\u001b[32m  ✓ \u001b[39m\u001b[90mXML2_jll\u001b[39m\n",
      "\u001b[32m  ✓ \u001b[39m\u001b[90mLibtiff_jll\u001b[39m\n",
      "\u001b[32m  ✓ \u001b[39m\u001b[90mLibgcrypt_jll\u001b[39m\n",
      "\u001b[32m  ✓ \u001b[39m\u001b[90mLatexify\u001b[39m\n",
      "\u001b[32m  ✓ \u001b[39m\u001b[90mStaticArrays\u001b[39m\n",
      "\u001b[32m  ✓ \u001b[39m\u001b[90mWayland_jll\u001b[39m\n",
      "\u001b[32m  ✓ \u001b[39m\u001b[90mHTTP\u001b[39m\n",
      "\u001b[32m  ✓ \u001b[39m\u001b[90mXSLT_jll\u001b[39m\n",
      "\u001b[32m  ✓ \u001b[39m\u001b[90mGettext_jll\u001b[39m\n",
      "\u001b[32m  ✓ \u001b[39m\u001b[90mFontconfig_jll\u001b[39m\n",
      "\u001b[32m  ✓ \u001b[39m\u001b[90mContour\u001b[39m\n",
      "\u001b[32m  ✓ \u001b[39m\u001b[90mXorg_libxcb_jll\u001b[39m\n",
      "\u001b[32m  ✓ \u001b[39m\u001b[90mStructArrays\u001b[39m\n",
      "\u001b[32m  ✓ \u001b[39m\u001b[90mGlib_jll\u001b[39m\n",
      "\u001b[32m  ✓ \u001b[39m\u001b[90mXorg_libX11_jll\u001b[39m\n",
      "\u001b[32m  ✓ \u001b[39m\u001b[90mXorg_xcb_util_jll\u001b[39m\n",
      "\u001b[32m  ✓ \u001b[39m\u001b[90mXorg_libXext_jll\u001b[39m\n",
      "\u001b[32m  ✓ \u001b[39m\u001b[90mXorg_libXrender_jll\u001b[39m\n",
      "\u001b[32m  ✓ \u001b[39m\u001b[90mXorg_libXfixes_jll\u001b[39m\n",
      "\u001b[32m  ✓ \u001b[39m\u001b[90mXorg_libxkbfile_jll\u001b[39m\n",
      "\u001b[32m  ✓ \u001b[39m\u001b[90mXorg_xcb_util_image_jll\u001b[39m\n",
      "\u001b[32m  ✓ \u001b[39m\u001b[90mXorg_xcb_util_renderutil_jll\u001b[39m\n",
      "\u001b[32m  ✓ \u001b[39m\u001b[90mXorg_xcb_util_keysyms_jll\u001b[39m\n",
      "\u001b[32m  ✓ \u001b[39m\u001b[90mLibglvnd_jll\u001b[39m\n",
      "\u001b[32m  ✓ \u001b[39m\u001b[90mXorg_xcb_util_wm_jll\u001b[39m\n",
      "\u001b[32m  ✓ \u001b[39m\u001b[90mXorg_libXinerama_jll\u001b[39m\n",
      "\u001b[32m  ✓ \u001b[39m\u001b[90mXorg_libXrandr_jll\u001b[39m\n",
      "\u001b[32m  ✓ \u001b[39m\u001b[90mXorg_libXi_jll\u001b[39m\n",
      "\u001b[32m  ✓ \u001b[39m\u001b[90mXorg_libXcursor_jll\u001b[39m\n",
      "\u001b[32m  ✓ \u001b[39m\u001b[90mXorg_xkbcomp_jll\u001b[39m\n",
      "\u001b[32m  ✓ \u001b[39m\u001b[90mCairo_jll\u001b[39m\n",
      "\u001b[32m  ✓ \u001b[39m\u001b[90mGLFW_jll\u001b[39m\n",
      "\u001b[32m  ✓ \u001b[39m\u001b[90mXorg_xkeyboard_config_jll\u001b[39m\n",
      "\u001b[32m  ✓ \u001b[39m\u001b[90mHarfBuzz_jll\u001b[39m\n",
      "\u001b[32m  ✓ \u001b[39m\u001b[90mxkbcommon_jll\u001b[39m\n",
      "\u001b[32m  ✓ \u001b[39m\u001b[90mlibass_jll\u001b[39m\n",
      "\u001b[32m  ✓ \u001b[39m\u001b[90mColorTypes\u001b[39m\n",
      "\u001b[32m  ✓ \u001b[39m\u001b[90mQt5Base_jll\u001b[39m\n",
      "\u001b[32m  ✓ \u001b[39m\u001b[90mGeometryBasics\u001b[39m\n",
      "\u001b[32m  ✓ \u001b[39m\u001b[90mFFMPEG_jll\u001b[39m\n",
      "\u001b[32m  ✓ \u001b[39m\u001b[90mFFMPEG\u001b[39m\n",
      "\u001b[32m  ✓ \u001b[39m\u001b[90mGR_jll\u001b[39m\n",
      "\u001b[32m  ✓ \u001b[39m\u001b[90mColors\u001b[39m\n",
      "\u001b[32m  ✓ \u001b[39m\u001b[90mGR\u001b[39m\n",
      "\u001b[32m  ✓ \u001b[39m\u001b[90mColorSchemes\u001b[39m\n",
      "\u001b[32m  ✓ \u001b[39m\u001b[90mPlotUtils\u001b[39m\n",
      "\u001b[32m  ✓ \u001b[39m\u001b[90mRecipesPipeline\u001b[39m\n",
      "\u001b[32m  ✓ \u001b[39m\u001b[90mPlotThemes\u001b[39m\n",
      "\u001b[32m  ✓ \u001b[39mPlots\n",
      "  93 dependencies successfully precompiled in 80 seconds (83 already precompiled)\n",
      "\u001b[32m\u001b[1m   Resolving\u001b[22m\u001b[39m package versions...\n",
      "\u001b[32m\u001b[1m    Updating\u001b[22m\u001b[39m `C:\\Users\\Roberto\\.julia\\environments\\v1.7\\Project.toml`\n",
      " \u001b[90m [bd369af6] \u001b[39m\u001b[92m+ Tables v1.7.0\u001b[39m\n",
      "\u001b[32m\u001b[1m  No Changes\u001b[22m\u001b[39m to `C:\\Users\\Roberto\\.julia\\environments\\v1.7\\Manifest.toml`\n"
     ]
    }
   ],
>>>>>>> Stashed changes
   "source": [
    "#Pkg.add(\"Plots\")\n",
    "#Pkg.add(\"Tables\")"
   ]
  },
  {
   "cell_type": "code",
<<<<<<< Updated upstream
   "execution_count": 66,
=======
   "execution_count": 48,
   "id": "f8f788f2",
   "metadata": {},
   "outputs": [],
   "source": [
    "using Plots, Tables"
   ]
  },
  {
   "cell_type": "code",
   "execution_count": 49,
>>>>>>> Stashed changes
   "id": "929f3c89",
   "metadata": {},
   "outputs": [
    {
     "data": {
      "text/plain": [
       "2-element Named Vector{Float64}\n",
       "vcat         │ \n",
       "─────────────┼────────────\n",
       "OLS          │ -0.00937799\n",
       "DOUBLE LASSO │  -0.0500007"
      ]
     },
<<<<<<< Updated upstream
     "execution_count": 66,
=======
     "execution_count": 49,
>>>>>>> Stashed changes
     "metadata": {},
     "output_type": "execute_result"
    }
   ],
   "source": [
    "xerror = table_3_pandas[!,2] .- table_3_pandas[!,4]"
   ]
  },
  {
   "cell_type": "code",
<<<<<<< Updated upstream
   "execution_count": 67,
=======
   "execution_count": 50,
>>>>>>> Stashed changes
   "id": "43d14dd3",
   "metadata": {},
   "outputs": [
    {
     "data": {
      "image/svg+xml": [
       "<?xml version=\"1.0\" encoding=\"utf-8\"?>\n",
       "<svg xmlns=\"http://www.w3.org/2000/svg\" xmlns:xlink=\"http://www.w3.org/1999/xlink\" width=\"950\" height=\"400\" viewBox=\"0 0 3800 1600\">\n",
       "<defs>\n",
<<<<<<< Updated upstream
       "  <clipPath id=\"clip860\">\n",
       "    <rect x=\"0\" y=\"0\" width=\"3800\" height=\"1600\"/>\n",
       "  </clipPath>\n",
       "</defs>\n",
       "<path clip-path=\"url(#clip860)\" d=\"\n",
       "M0 1600 L3800 1600 L3800 0 L0 0  Z\n",
       "  \" fill=\"#ffffff\" fill-rule=\"evenodd\" fill-opacity=\"1\"/>\n",
       "<defs>\n",
       "  <clipPath id=\"clip861\">\n",
       "    <rect x=\"760\" y=\"0\" width=\"2661\" height=\"1600\"/>\n",
       "  </clipPath>\n",
       "</defs>\n",
       "<path clip-path=\"url(#clip860)\" d=\"\n",
       "M410.666 1499.18 L3752.76 1499.18 L3752.76 47.2441 L410.666 47.2441  Z\n",
       "  \" fill=\"#ffffff\" fill-rule=\"evenodd\" fill-opacity=\"1\"/>\n",
       "<defs>\n",
       "  <clipPath id=\"clip862\">\n",
       "    <rect x=\"410\" y=\"47\" width=\"3343\" height=\"1453\"/>\n",
       "  </clipPath>\n",
       "</defs>\n",
       "<polyline clip-path=\"url(#clip862)\" style=\"stroke:#000000; stroke-linecap:butt; stroke-linejoin:round; stroke-width:2; stroke-opacity:0.1; fill:none\" points=\"\n",
       "  510.99,1499.18 510.99,47.2441 \n",
       "  \"/>\n",
       "<polyline clip-path=\"url(#clip862)\" style=\"stroke:#000000; stroke-linecap:butt; stroke-linejoin:round; stroke-width:2; stroke-opacity:0.1; fill:none\" points=\"\n",
       "  701.954,1499.18 701.954,47.2441 \n",
       "  \"/>\n",
       "<polyline clip-path=\"url(#clip862)\" style=\"stroke:#000000; stroke-linecap:butt; stroke-linejoin:round; stroke-width:2; stroke-opacity:0.1; fill:none\" points=\"\n",
       "  892.917,1499.18 892.917,47.2441 \n",
       "  \"/>\n",
       "<polyline clip-path=\"url(#clip862)\" style=\"stroke:#000000; stroke-linecap:butt; stroke-linejoin:round; stroke-width:2; stroke-opacity:0.1; fill:none\" points=\"\n",
       "  1083.88,1499.18 1083.88,47.2441 \n",
       "  \"/>\n",
       "<polyline clip-path=\"url(#clip862)\" style=\"stroke:#000000; stroke-linecap:butt; stroke-linejoin:round; stroke-width:2; stroke-opacity:0.1; fill:none\" points=\"\n",
       "  1274.84,1499.18 1274.84,47.2441 \n",
       "  \"/>\n",
       "<polyline clip-path=\"url(#clip862)\" style=\"stroke:#000000; stroke-linecap:butt; stroke-linejoin:round; stroke-width:2; stroke-opacity:0.1; fill:none\" points=\"\n",
       "  1465.81,1499.18 1465.81,47.2441 \n",
       "  \"/>\n",
       "<polyline clip-path=\"url(#clip862)\" style=\"stroke:#000000; stroke-linecap:butt; stroke-linejoin:round; stroke-width:2; stroke-opacity:0.1; fill:none\" points=\"\n",
       "  1656.77,1499.18 1656.77,47.2441 \n",
       "  \"/>\n",
       "<polyline clip-path=\"url(#clip862)\" style=\"stroke:#000000; stroke-linecap:butt; stroke-linejoin:round; stroke-width:2; stroke-opacity:0.1; fill:none\" points=\"\n",
       "  1847.73,1499.18 1847.73,47.2441 \n",
       "  \"/>\n",
       "<polyline clip-path=\"url(#clip862)\" style=\"stroke:#000000; stroke-linecap:butt; stroke-linejoin:round; stroke-width:2; stroke-opacity:0.1; fill:none\" points=\"\n",
       "  2038.7,1499.18 2038.7,47.2441 \n",
       "  \"/>\n",
       "<polyline clip-path=\"url(#clip862)\" style=\"stroke:#000000; stroke-linecap:butt; stroke-linejoin:round; stroke-width:2; stroke-opacity:0.1; fill:none\" points=\"\n",
       "  2229.66,1499.18 2229.66,47.2441 \n",
       "  \"/>\n",
       "<polyline clip-path=\"url(#clip862)\" style=\"stroke:#000000; stroke-linecap:butt; stroke-linejoin:round; stroke-width:2; stroke-opacity:0.1; fill:none\" points=\"\n",
       "  2420.62,1499.18 2420.62,47.2441 \n",
       "  \"/>\n",
       "<polyline clip-path=\"url(#clip862)\" style=\"stroke:#000000; stroke-linecap:butt; stroke-linejoin:round; stroke-width:2; stroke-opacity:0.1; fill:none\" points=\"\n",
       "  2611.59,1499.18 2611.59,47.2441 \n",
       "  \"/>\n",
       "<polyline clip-path=\"url(#clip862)\" style=\"stroke:#000000; stroke-linecap:butt; stroke-linejoin:round; stroke-width:2; stroke-opacity:0.1; fill:none\" points=\"\n",
       "  2802.55,1499.18 2802.55,47.2441 \n",
       "  \"/>\n",
       "<polyline clip-path=\"url(#clip862)\" style=\"stroke:#000000; stroke-linecap:butt; stroke-linejoin:round; stroke-width:2; stroke-opacity:0.1; fill:none\" points=\"\n",
       "  2993.51,1499.18 2993.51,47.2441 \n",
       "  \"/>\n",
       "<polyline clip-path=\"url(#clip862)\" style=\"stroke:#000000; stroke-linecap:butt; stroke-linejoin:round; stroke-width:2; stroke-opacity:0.1; fill:none\" points=\"\n",
       "  3184.48,1499.18 3184.48,47.2441 \n",
       "  \"/>\n",
       "<polyline clip-path=\"url(#clip862)\" style=\"stroke:#000000; stroke-linecap:butt; stroke-linejoin:round; stroke-width:2; stroke-opacity:0.1; fill:none\" points=\"\n",
       "  3375.44,1499.18 3375.44,47.2441 \n",
       "  \"/>\n",
       "<polyline clip-path=\"url(#clip862)\" style=\"stroke:#000000; stroke-linecap:butt; stroke-linejoin:round; stroke-width:2; stroke-opacity:0.1; fill:none\" points=\"\n",
       "  3566.4,1499.18 3566.4,47.2441 \n",
       "  \"/>\n",
       "<polyline clip-path=\"url(#clip860)\" style=\"stroke:#000000; stroke-linecap:butt; stroke-linejoin:round; stroke-width:4; stroke-opacity:1; fill:none\" points=\"\n",
       "  410.666,1499.18 3752.76,1499.18 \n",
       "  \"/>\n",
       "<polyline clip-path=\"url(#clip860)\" style=\"stroke:#000000; stroke-linecap:butt; stroke-linejoin:round; stroke-width:4; stroke-opacity:1; fill:none\" points=\"\n",
       "  510.99,1499.18 510.99,1480.28 \n",
       "  \"/>\n",
       "<polyline clip-path=\"url(#clip860)\" style=\"stroke:#000000; stroke-linecap:butt; stroke-linejoin:round; stroke-width:4; stroke-opacity:1; fill:none\" points=\"\n",
       "  701.954,1499.18 701.954,1480.28 \n",
       "  \"/>\n",
       "<polyline clip-path=\"url(#clip860)\" style=\"stroke:#000000; stroke-linecap:butt; stroke-linejoin:round; stroke-width:4; stroke-opacity:1; fill:none\" points=\"\n",
       "  892.917,1499.18 892.917,1480.28 \n",
       "  \"/>\n",
       "<polyline clip-path=\"url(#clip860)\" style=\"stroke:#000000; stroke-linecap:butt; stroke-linejoin:round; stroke-width:4; stroke-opacity:1; fill:none\" points=\"\n",
       "  1083.88,1499.18 1083.88,1480.28 \n",
       "  \"/>\n",
       "<polyline clip-path=\"url(#clip860)\" style=\"stroke:#000000; stroke-linecap:butt; stroke-linejoin:round; stroke-width:4; stroke-opacity:1; fill:none\" points=\"\n",
       "  1274.84,1499.18 1274.84,1480.28 \n",
       "  \"/>\n",
       "<polyline clip-path=\"url(#clip860)\" style=\"stroke:#000000; stroke-linecap:butt; stroke-linejoin:round; stroke-width:4; stroke-opacity:1; fill:none\" points=\"\n",
       "  1465.81,1499.18 1465.81,1480.28 \n",
       "  \"/>\n",
       "<polyline clip-path=\"url(#clip860)\" style=\"stroke:#000000; stroke-linecap:butt; stroke-linejoin:round; stroke-width:4; stroke-opacity:1; fill:none\" points=\"\n",
       "  1656.77,1499.18 1656.77,1480.28 \n",
       "  \"/>\n",
       "<polyline clip-path=\"url(#clip860)\" style=\"stroke:#000000; stroke-linecap:butt; stroke-linejoin:round; stroke-width:4; stroke-opacity:1; fill:none\" points=\"\n",
       "  1847.73,1499.18 1847.73,1480.28 \n",
       "  \"/>\n",
       "<polyline clip-path=\"url(#clip860)\" style=\"stroke:#000000; stroke-linecap:butt; stroke-linejoin:round; stroke-width:4; stroke-opacity:1; fill:none\" points=\"\n",
       "  2038.7,1499.18 2038.7,1480.28 \n",
       "  \"/>\n",
       "<polyline clip-path=\"url(#clip860)\" style=\"stroke:#000000; stroke-linecap:butt; stroke-linejoin:round; stroke-width:4; stroke-opacity:1; fill:none\" points=\"\n",
       "  2229.66,1499.18 2229.66,1480.28 \n",
       "  \"/>\n",
       "<polyline clip-path=\"url(#clip860)\" style=\"stroke:#000000; stroke-linecap:butt; stroke-linejoin:round; stroke-width:4; stroke-opacity:1; fill:none\" points=\"\n",
       "  2420.62,1499.18 2420.62,1480.28 \n",
       "  \"/>\n",
       "<polyline clip-path=\"url(#clip860)\" style=\"stroke:#000000; stroke-linecap:butt; stroke-linejoin:round; stroke-width:4; stroke-opacity:1; fill:none\" points=\"\n",
       "  2611.59,1499.18 2611.59,1480.28 \n",
       "  \"/>\n",
       "<polyline clip-path=\"url(#clip860)\" style=\"stroke:#000000; stroke-linecap:butt; stroke-linejoin:round; stroke-width:4; stroke-opacity:1; fill:none\" points=\"\n",
       "  2802.55,1499.18 2802.55,1480.28 \n",
       "  \"/>\n",
       "<polyline clip-path=\"url(#clip860)\" style=\"stroke:#000000; stroke-linecap:butt; stroke-linejoin:round; stroke-width:4; stroke-opacity:1; fill:none\" points=\"\n",
       "  2993.51,1499.18 2993.51,1480.28 \n",
       "  \"/>\n",
       "<polyline clip-path=\"url(#clip860)\" style=\"stroke:#000000; stroke-linecap:butt; stroke-linejoin:round; stroke-width:4; stroke-opacity:1; fill:none\" points=\"\n",
       "  3184.48,1499.18 3184.48,1480.28 \n",
       "  \"/>\n",
       "<polyline clip-path=\"url(#clip860)\" style=\"stroke:#000000; stroke-linecap:butt; stroke-linejoin:round; stroke-width:4; stroke-opacity:1; fill:none\" points=\"\n",
       "  3375.44,1499.18 3375.44,1480.28 \n",
       "  \"/>\n",
       "<polyline clip-path=\"url(#clip860)\" style=\"stroke:#000000; stroke-linecap:butt; stroke-linejoin:round; stroke-width:4; stroke-opacity:1; fill:none\" points=\"\n",
       "  3566.4,1499.18 3566.4,1480.28 \n",
       "  \"/>\n",
       "<path clip-path=\"url(#clip860)\" d=\"M427.356 1555.95 L457.032 1555.95 L457.032 1559.89 L427.356 1559.89 L427.356 1555.95 Z\" fill=\"#000000\" fill-rule=\"evenodd\" fill-opacity=\"1\" /><path clip-path=\"url(#clip860)\" d=\"M477.125 1541.3 Q473.514 1541.3 471.685 1544.86 Q469.879 1548.41 469.879 1555.54 Q469.879 1562.64 471.685 1566.21 Q473.514 1569.75 477.125 1569.75 Q480.759 1569.75 482.564 1566.21 Q484.393 1562.64 484.393 1555.54 Q484.393 1548.41 482.564 1544.86 Q480.759 1541.3 477.125 1541.3 M477.125 1537.6 Q482.935 1537.6 485.99 1542.2 Q489.069 1546.79 489.069 1555.54 Q489.069 1564.26 485.99 1568.87 Q482.935 1573.45 477.125 1573.45 Q471.315 1573.45 468.236 1568.87 Q465.18 1564.26 465.18 1555.54 Q465.18 1546.79 468.236 1542.2 Q471.315 1537.6 477.125 1537.6 Z\" fill=\"#000000\" fill-rule=\"evenodd\" fill-opacity=\"1\" /><path clip-path=\"url(#clip860)\" d=\"M497.287 1566.9 L502.171 1566.9 L502.171 1572.78 L497.287 1572.78 L497.287 1566.9 Z\" fill=\"#000000\" fill-rule=\"evenodd\" fill-opacity=\"1\" /><path clip-path=\"url(#clip860)\" d=\"M522.356 1541.3 Q518.745 1541.3 516.916 1544.86 Q515.111 1548.41 515.111 1555.54 Q515.111 1562.64 516.916 1566.21 Q518.745 1569.75 522.356 1569.75 Q525.99 1569.75 527.796 1566.21 Q529.624 1562.64 529.624 1555.54 Q529.624 1548.41 527.796 1544.86 Q525.99 1541.3 522.356 1541.3 M522.356 1537.6 Q528.166 1537.6 531.222 1542.2 Q534.3 1546.79 534.3 1555.54 Q534.3 1564.26 531.222 1568.87 Q528.166 1573.45 522.356 1573.45 Q516.546 1573.45 513.467 1568.87 Q510.412 1564.26 510.412 1555.54 Q510.412 1546.79 513.467 1542.2 Q516.546 1537.6 522.356 1537.6 Z\" fill=\"#000000\" fill-rule=\"evenodd\" fill-opacity=\"1\" /><path clip-path=\"url(#clip860)\" d=\"M552.518 1556.37 Q549.184 1556.37 547.263 1558.15 Q545.365 1559.93 545.365 1563.06 Q545.365 1566.18 547.263 1567.97 Q549.184 1569.75 552.518 1569.75 Q555.851 1569.75 557.772 1567.97 Q559.694 1566.16 559.694 1563.06 Q559.694 1559.93 557.772 1558.15 Q555.874 1556.37 552.518 1556.37 M547.842 1554.38 Q544.833 1553.64 543.143 1551.58 Q541.476 1549.52 541.476 1546.55 Q541.476 1542.41 544.416 1540 Q547.379 1537.6 552.518 1537.6 Q557.68 1537.6 560.62 1540 Q563.559 1542.41 563.559 1546.55 Q563.559 1549.52 561.87 1551.58 Q560.203 1553.64 557.217 1554.38 Q560.596 1555.16 562.471 1557.46 Q564.37 1559.75 564.37 1563.06 Q564.37 1568.08 561.291 1570.77 Q558.235 1573.45 552.518 1573.45 Q546.8 1573.45 543.722 1570.77 Q540.666 1568.08 540.666 1563.06 Q540.666 1559.75 542.564 1557.46 Q544.462 1555.16 547.842 1554.38 M546.129 1546.99 Q546.129 1549.68 547.796 1551.18 Q549.485 1552.69 552.518 1552.69 Q555.527 1552.69 557.217 1551.18 Q558.93 1549.68 558.93 1546.99 Q558.93 1544.31 557.217 1542.8 Q555.527 1541.3 552.518 1541.3 Q549.485 1541.3 547.796 1542.8 Q546.129 1544.31 546.129 1546.99 Z\" fill=\"#000000\" fill-rule=\"evenodd\" fill-opacity=\"1\" /><path clip-path=\"url(#clip860)\" d=\"M582.68 1541.3 Q579.069 1541.3 577.24 1544.86 Q575.434 1548.41 575.434 1555.54 Q575.434 1562.64 577.24 1566.21 Q579.069 1569.75 582.68 1569.75 Q586.314 1569.75 588.119 1566.21 Q589.948 1562.64 589.948 1555.54 Q589.948 1548.41 588.119 1544.86 Q586.314 1541.3 582.68 1541.3 M582.68 1537.6 Q588.49 1537.6 591.545 1542.2 Q594.624 1546.79 594.624 1555.54 Q594.624 1564.26 591.545 1568.87 Q588.49 1573.45 582.68 1573.45 Q576.87 1573.45 573.791 1568.87 Q570.735 1564.26 570.735 1555.54 Q570.735 1546.79 573.791 1542.2 Q576.87 1537.6 582.68 1537.6 Z\" fill=\"#000000\" fill-rule=\"evenodd\" fill-opacity=\"1\" /><path clip-path=\"url(#clip860)\" d=\"M619.118 1555.95 L648.794 1555.95 L648.794 1559.89 L619.118 1559.89 L619.118 1555.95 Z\" fill=\"#000000\" fill-rule=\"evenodd\" fill-opacity=\"1\" /><path clip-path=\"url(#clip860)\" d=\"M668.887 1541.3 Q665.276 1541.3 663.447 1544.86 Q661.641 1548.41 661.641 1555.54 Q661.641 1562.64 663.447 1566.21 Q665.276 1569.75 668.887 1569.75 Q672.521 1569.75 674.326 1566.21 Q676.155 1562.64 676.155 1555.54 Q676.155 1548.41 674.326 1544.86 Q672.521 1541.3 668.887 1541.3 M668.887 1537.6 Q674.697 1537.6 677.752 1542.2 Q680.831 1546.79 680.831 1555.54 Q680.831 1564.26 677.752 1568.87 Q674.697 1573.45 668.887 1573.45 Q663.077 1573.45 659.998 1568.87 Q656.942 1564.26 656.942 1555.54 Q656.942 1546.79 659.998 1542.2 Q663.077 1537.6 668.887 1537.6 Z\" fill=\"#000000\" fill-rule=\"evenodd\" fill-opacity=\"1\" /><path clip-path=\"url(#clip860)\" d=\"M689.049 1566.9 L693.933 1566.9 L693.933 1572.78 L689.049 1572.78 L689.049 1566.9 Z\" fill=\"#000000\" fill-rule=\"evenodd\" fill-opacity=\"1\" /><path clip-path=\"url(#clip860)\" d=\"M714.118 1541.3 Q710.507 1541.3 708.678 1544.86 Q706.873 1548.41 706.873 1555.54 Q706.873 1562.64 708.678 1566.21 Q710.507 1569.75 714.118 1569.75 Q717.752 1569.75 719.558 1566.21 Q721.386 1562.64 721.386 1555.54 Q721.386 1548.41 719.558 1544.86 Q717.752 1541.3 714.118 1541.3 M714.118 1537.6 Q719.928 1537.6 722.984 1542.2 Q726.062 1546.79 726.062 1555.54 Q726.062 1564.26 722.984 1568.87 Q719.928 1573.45 714.118 1573.45 Q708.308 1573.45 705.229 1568.87 Q702.174 1564.26 702.174 1555.54 Q702.174 1546.79 705.229 1542.2 Q708.308 1537.6 714.118 1537.6 Z\" fill=\"#000000\" fill-rule=\"evenodd\" fill-opacity=\"1\" /><path clip-path=\"url(#clip860)\" d=\"M733.099 1538.22 L755.321 1538.22 L755.321 1540.21 L742.775 1572.78 L737.891 1572.78 L749.696 1542.16 L733.099 1542.16 L733.099 1538.22 Z\" fill=\"#000000\" fill-rule=\"evenodd\" fill-opacity=\"1\" /><path clip-path=\"url(#clip860)\" d=\"M768.469 1568.85 L784.789 1568.85 L784.789 1572.78 L762.845 1572.78 L762.845 1568.85 Q765.507 1566.09 770.09 1561.46 Q774.696 1556.81 775.877 1555.47 Q778.122 1552.94 779.002 1551.21 Q779.905 1549.45 779.905 1547.76 Q779.905 1545 777.96 1543.27 Q776.039 1541.53 772.937 1541.53 Q770.738 1541.53 768.284 1542.29 Q765.854 1543.06 763.076 1544.61 L763.076 1539.89 Q765.9 1538.75 768.354 1538.17 Q770.807 1537.6 772.844 1537.6 Q778.215 1537.6 781.409 1540.28 Q784.604 1542.97 784.604 1547.46 Q784.604 1549.59 783.793 1551.51 Q783.006 1553.41 780.9 1556 Q780.321 1556.67 777.219 1559.89 Q774.118 1563.08 768.469 1568.85 Z\" fill=\"#000000\" fill-rule=\"evenodd\" fill-opacity=\"1\" /><path clip-path=\"url(#clip860)\" d=\"M809.04 1555.95 L838.716 1555.95 L838.716 1559.89 L809.04 1559.89 L809.04 1555.95 Z\" fill=\"#000000\" fill-rule=\"evenodd\" fill-opacity=\"1\" /><path clip-path=\"url(#clip860)\" d=\"M858.808 1541.3 Q855.197 1541.3 853.369 1544.86 Q851.563 1548.41 851.563 1555.54 Q851.563 1562.64 853.369 1566.21 Q855.197 1569.75 858.808 1569.75 Q862.443 1569.75 864.248 1566.21 Q866.077 1562.64 866.077 1555.54 Q866.077 1548.41 864.248 1544.86 Q862.443 1541.3 858.808 1541.3 M858.808 1537.6 Q864.619 1537.6 867.674 1542.2 Q870.753 1546.79 870.753 1555.54 Q870.753 1564.26 867.674 1568.87 Q864.619 1573.45 858.808 1573.45 Q852.998 1573.45 849.92 1568.87 Q846.864 1564.26 846.864 1555.54 Q846.864 1546.79 849.92 1542.2 Q852.998 1537.6 858.808 1537.6 Z\" fill=\"#000000\" fill-rule=\"evenodd\" fill-opacity=\"1\" /><path clip-path=\"url(#clip860)\" d=\"M878.97 1566.9 L883.855 1566.9 L883.855 1572.78 L878.97 1572.78 L878.97 1566.9 Z\" fill=\"#000000\" fill-rule=\"evenodd\" fill-opacity=\"1\" /><path clip-path=\"url(#clip860)\" d=\"M904.04 1541.3 Q900.429 1541.3 898.6 1544.86 Q896.794 1548.41 896.794 1555.54 Q896.794 1562.64 898.6 1566.21 Q900.429 1569.75 904.04 1569.75 Q907.674 1569.75 909.479 1566.21 Q911.308 1562.64 911.308 1555.54 Q911.308 1548.41 909.479 1544.86 Q907.674 1541.3 904.04 1541.3 M904.04 1537.6 Q909.85 1537.6 912.905 1542.2 Q915.984 1546.79 915.984 1555.54 Q915.984 1564.26 912.905 1568.87 Q909.85 1573.45 904.04 1573.45 Q898.23 1573.45 895.151 1568.87 Q892.095 1564.26 892.095 1555.54 Q892.095 1546.79 895.151 1542.2 Q898.23 1537.6 904.04 1537.6 Z\" fill=\"#000000\" fill-rule=\"evenodd\" fill-opacity=\"1\" /><path clip-path=\"url(#clip860)\" d=\"M934.78 1553.64 Q931.632 1553.64 929.78 1555.79 Q927.952 1557.94 927.952 1561.69 Q927.952 1565.42 929.78 1567.6 Q931.632 1569.75 934.78 1569.75 Q937.928 1569.75 939.757 1567.6 Q941.609 1565.42 941.609 1561.69 Q941.609 1557.94 939.757 1555.79 Q937.928 1553.64 934.78 1553.64 M944.063 1538.98 L944.063 1543.24 Q942.303 1542.41 940.498 1541.97 Q938.715 1541.53 936.956 1541.53 Q932.327 1541.53 929.873 1544.66 Q927.442 1547.78 927.095 1554.1 Q928.461 1552.09 930.521 1551.02 Q932.581 1549.93 935.058 1549.93 Q940.266 1549.93 943.276 1553.1 Q946.308 1556.25 946.308 1561.69 Q946.308 1567.02 943.16 1570.23 Q940.012 1573.45 934.78 1573.45 Q928.785 1573.45 925.614 1568.87 Q922.442 1564.26 922.442 1555.54 Q922.442 1547.34 926.331 1542.48 Q930.22 1537.6 936.771 1537.6 Q938.53 1537.6 940.313 1537.94 Q942.118 1538.29 944.063 1538.98 Z\" fill=\"#000000\" fill-rule=\"evenodd\" fill-opacity=\"1\" /><path clip-path=\"url(#clip860)\" d=\"M967.211 1542.29 L955.405 1560.74 L967.211 1560.74 L967.211 1542.29 M965.984 1538.22 L971.863 1538.22 L971.863 1560.74 L976.794 1560.74 L976.794 1564.63 L971.863 1564.63 L971.863 1572.78 L967.211 1572.78 L967.211 1564.63 L951.609 1564.63 L951.609 1560.12 L965.984 1538.22 Z\" fill=\"#000000\" fill-rule=\"evenodd\" fill-opacity=\"1\" /><path clip-path=\"url(#clip860)\" d=\"M1000.17 1555.95 L1029.84 1555.95 L1029.84 1559.89 L1000.17 1559.89 L1000.17 1555.95 Z\" fill=\"#000000\" fill-rule=\"evenodd\" fill-opacity=\"1\" /><path clip-path=\"url(#clip860)\" d=\"M1049.93 1541.3 Q1046.32 1541.3 1044.49 1544.86 Q1042.69 1548.41 1042.69 1555.54 Q1042.69 1562.64 1044.49 1566.21 Q1046.32 1569.75 1049.93 1569.75 Q1053.57 1569.75 1055.37 1566.21 Q1057.2 1562.64 1057.2 1555.54 Q1057.2 1548.41 1055.37 1544.86 Q1053.57 1541.3 1049.93 1541.3 M1049.93 1537.6 Q1055.74 1537.6 1058.8 1542.2 Q1061.88 1546.79 1061.88 1555.54 Q1061.88 1564.26 1058.8 1568.87 Q1055.74 1573.45 1049.93 1573.45 Q1044.12 1573.45 1041.05 1568.87 Q1037.99 1564.26 1037.99 1555.54 Q1037.99 1546.79 1041.05 1542.2 Q1044.12 1537.6 1049.93 1537.6 Z\" fill=\"#000000\" fill-rule=\"evenodd\" fill-opacity=\"1\" /><path clip-path=\"url(#clip860)\" d=\"M1070.1 1566.9 L1074.98 1566.9 L1074.98 1572.78 L1070.1 1572.78 L1070.1 1566.9 Z\" fill=\"#000000\" fill-rule=\"evenodd\" fill-opacity=\"1\" /><path clip-path=\"url(#clip860)\" d=\"M1095.17 1541.3 Q1091.55 1541.3 1089.73 1544.86 Q1087.92 1548.41 1087.92 1555.54 Q1087.92 1562.64 1089.73 1566.21 Q1091.55 1569.75 1095.17 1569.75 Q1098.8 1569.75 1100.6 1566.21 Q1102.43 1562.64 1102.43 1555.54 Q1102.43 1548.41 1100.6 1544.86 Q1098.8 1541.3 1095.17 1541.3 M1095.17 1537.6 Q1100.98 1537.6 1104.03 1542.2 Q1107.11 1546.79 1107.11 1555.54 Q1107.11 1564.26 1104.03 1568.87 Q1100.98 1573.45 1095.17 1573.45 Q1089.35 1573.45 1086.28 1568.87 Q1083.22 1564.26 1083.22 1555.54 Q1083.22 1546.79 1086.28 1542.2 Q1089.35 1537.6 1095.17 1537.6 Z\" fill=\"#000000\" fill-rule=\"evenodd\" fill-opacity=\"1\" /><path clip-path=\"url(#clip860)\" d=\"M1115.37 1538.22 L1133.73 1538.22 L1133.73 1542.16 L1119.66 1542.16 L1119.66 1550.63 Q1120.67 1550.28 1121.69 1550.12 Q1122.71 1549.93 1123.73 1549.93 Q1129.52 1549.93 1132.9 1553.1 Q1136.28 1556.28 1136.28 1561.69 Q1136.28 1567.27 1132.8 1570.37 Q1129.33 1573.45 1123.01 1573.45 Q1120.84 1573.45 1118.57 1573.08 Q1116.32 1572.71 1113.92 1571.97 L1113.92 1567.27 Q1116 1568.41 1118.22 1568.96 Q1120.44 1569.52 1122.92 1569.52 Q1126.92 1569.52 1129.26 1567.41 Q1131.6 1565.3 1131.6 1561.69 Q1131.6 1558.08 1129.26 1555.98 Q1126.92 1553.87 1122.92 1553.87 Q1121.04 1553.87 1119.17 1554.29 Q1117.32 1554.7 1115.37 1555.58 L1115.37 1538.22 Z\" fill=\"#000000\" fill-rule=\"evenodd\" fill-opacity=\"1\" /><path clip-path=\"url(#clip860)\" d=\"M1156.07 1553.64 Q1152.92 1553.64 1151.07 1555.79 Q1149.24 1557.94 1149.24 1561.69 Q1149.24 1565.42 1151.07 1567.6 Q1152.92 1569.75 1156.07 1569.75 Q1159.22 1569.75 1161.04 1567.6 Q1162.9 1565.42 1162.9 1561.69 Q1162.9 1557.94 1161.04 1555.79 Q1159.22 1553.64 1156.07 1553.64 M1165.35 1538.98 L1165.35 1543.24 Q1163.59 1542.41 1161.79 1541.97 Q1160 1541.53 1158.24 1541.53 Q1153.61 1541.53 1151.16 1544.66 Q1148.73 1547.78 1148.38 1554.1 Q1149.75 1552.09 1151.81 1551.02 Q1153.87 1549.93 1156.35 1549.93 Q1161.55 1549.93 1164.56 1553.1 Q1167.6 1556.25 1167.6 1561.69 Q1167.6 1567.02 1164.45 1570.23 Q1161.3 1573.45 1156.07 1573.45 Q1150.07 1573.45 1146.9 1568.87 Q1143.73 1564.26 1143.73 1555.54 Q1143.73 1547.34 1147.62 1542.48 Q1151.51 1537.6 1158.06 1537.6 Q1159.82 1537.6 1161.6 1537.94 Q1163.41 1538.29 1165.35 1538.98 Z\" fill=\"#000000\" fill-rule=\"evenodd\" fill-opacity=\"1\" /><path clip-path=\"url(#clip860)\" d=\"M1191.26 1555.95 L1220.93 1555.95 L1220.93 1559.89 L1191.26 1559.89 L1191.26 1555.95 Z\" fill=\"#000000\" fill-rule=\"evenodd\" fill-opacity=\"1\" /><path clip-path=\"url(#clip860)\" d=\"M1241.02 1541.3 Q1237.41 1541.3 1235.58 1544.86 Q1233.78 1548.41 1233.78 1555.54 Q1233.78 1562.64 1235.58 1566.21 Q1237.41 1569.75 1241.02 1569.75 Q1244.66 1569.75 1246.46 1566.21 Q1248.29 1562.64 1248.29 1555.54 Q1248.29 1548.41 1246.46 1544.86 Q1244.66 1541.3 1241.02 1541.3 M1241.02 1537.6 Q1246.83 1537.6 1249.89 1542.2 Q1252.97 1546.79 1252.97 1555.54 Q1252.97 1564.26 1249.89 1568.87 Q1246.83 1573.45 1241.02 1573.45 Q1235.21 1573.45 1232.14 1568.87 Q1229.08 1564.26 1229.08 1555.54 Q1229.08 1546.79 1232.14 1542.2 Q1235.21 1537.6 1241.02 1537.6 Z\" fill=\"#000000\" fill-rule=\"evenodd\" fill-opacity=\"1\" /><path clip-path=\"url(#clip860)\" d=\"M1261.19 1566.9 L1266.07 1566.9 L1266.07 1572.78 L1261.19 1572.78 L1261.19 1566.9 Z\" fill=\"#000000\" fill-rule=\"evenodd\" fill-opacity=\"1\" /><path clip-path=\"url(#clip860)\" d=\"M1286.26 1541.3 Q1282.64 1541.3 1280.82 1544.86 Q1279.01 1548.41 1279.01 1555.54 Q1279.01 1562.64 1280.82 1566.21 Q1282.64 1569.75 1286.26 1569.75 Q1289.89 1569.75 1291.7 1566.21 Q1293.52 1562.64 1293.52 1555.54 Q1293.52 1548.41 1291.7 1544.86 Q1289.89 1541.3 1286.26 1541.3 M1286.26 1537.6 Q1292.07 1537.6 1295.12 1542.2 Q1298.2 1546.79 1298.2 1555.54 Q1298.2 1564.26 1295.12 1568.87 Q1292.07 1573.45 1286.26 1573.45 Q1280.45 1573.45 1277.37 1568.87 Q1274.31 1564.26 1274.31 1555.54 Q1274.31 1546.79 1277.37 1542.2 Q1280.45 1537.6 1286.26 1537.6 Z\" fill=\"#000000\" fill-rule=\"evenodd\" fill-opacity=\"1\" /><path clip-path=\"url(#clip860)\" d=\"M1319.26 1542.29 L1307.46 1560.74 L1319.26 1560.74 L1319.26 1542.29 M1318.04 1538.22 L1323.92 1538.22 L1323.92 1560.74 L1328.85 1560.74 L1328.85 1564.63 L1323.92 1564.63 L1323.92 1572.78 L1319.26 1572.78 L1319.26 1564.63 L1303.66 1564.63 L1303.66 1560.12 L1318.04 1538.22 Z\" fill=\"#000000\" fill-rule=\"evenodd\" fill-opacity=\"1\" /><path clip-path=\"url(#clip860)\" d=\"M1346.58 1556.37 Q1343.25 1556.37 1341.32 1558.15 Q1339.43 1559.93 1339.43 1563.06 Q1339.43 1566.18 1341.32 1567.97 Q1343.25 1569.75 1346.58 1569.75 Q1349.91 1569.75 1351.83 1567.97 Q1353.76 1566.16 1353.76 1563.06 Q1353.76 1559.93 1351.83 1558.15 Q1349.94 1556.37 1346.58 1556.37 M1341.9 1554.38 Q1338.89 1553.64 1337.2 1551.58 Q1335.54 1549.52 1335.54 1546.55 Q1335.54 1542.41 1338.48 1540 Q1341.44 1537.6 1346.58 1537.6 Q1351.74 1537.6 1354.68 1540 Q1357.62 1542.41 1357.62 1546.55 Q1357.62 1549.52 1355.93 1551.58 Q1354.26 1553.64 1351.28 1554.38 Q1354.66 1555.16 1356.53 1557.46 Q1358.43 1559.75 1358.43 1563.06 Q1358.43 1568.08 1355.35 1570.77 Q1352.3 1573.45 1346.58 1573.45 Q1340.86 1573.45 1337.78 1570.77 Q1334.73 1568.08 1334.73 1563.06 Q1334.73 1559.75 1336.63 1557.46 Q1338.52 1555.16 1341.9 1554.38 M1340.19 1546.99 Q1340.19 1549.68 1341.86 1551.18 Q1343.55 1552.69 1346.58 1552.69 Q1349.59 1552.69 1351.28 1551.18 Q1352.99 1549.68 1352.99 1546.99 Q1352.99 1544.31 1351.28 1542.8 Q1349.59 1541.3 1346.58 1541.3 Q1343.55 1541.3 1341.86 1542.8 Q1340.19 1544.31 1340.19 1546.99 Z\" fill=\"#000000\" fill-rule=\"evenodd\" fill-opacity=\"1\" /><path clip-path=\"url(#clip860)\" d=\"M1382.17 1555.95 L1411.85 1555.95 L1411.85 1559.89 L1382.17 1559.89 L1382.17 1555.95 Z\" fill=\"#000000\" fill-rule=\"evenodd\" fill-opacity=\"1\" /><path clip-path=\"url(#clip860)\" d=\"M1431.94 1541.3 Q1428.33 1541.3 1426.5 1544.86 Q1424.7 1548.41 1424.7 1555.54 Q1424.7 1562.64 1426.5 1566.21 Q1428.33 1569.75 1431.94 1569.75 Q1435.58 1569.75 1437.38 1566.21 Q1439.21 1562.64 1439.21 1555.54 Q1439.21 1548.41 1437.38 1544.86 Q1435.58 1541.3 1431.94 1541.3 M1431.94 1537.6 Q1437.75 1537.6 1440.81 1542.2 Q1443.89 1546.79 1443.89 1555.54 Q1443.89 1564.26 1440.81 1568.87 Q1437.75 1573.45 1431.94 1573.45 Q1426.13 1573.45 1423.05 1568.87 Q1420 1564.26 1420 1555.54 Q1420 1546.79 1423.05 1542.2 Q1426.13 1537.6 1431.94 1537.6 Z\" fill=\"#000000\" fill-rule=\"evenodd\" fill-opacity=\"1\" /><path clip-path=\"url(#clip860)\" d=\"M1452.1 1566.9 L1456.99 1566.9 L1456.99 1572.78 L1452.1 1572.78 L1452.1 1566.9 Z\" fill=\"#000000\" fill-rule=\"evenodd\" fill-opacity=\"1\" /><path clip-path=\"url(#clip860)\" d=\"M1477.17 1541.3 Q1473.56 1541.3 1471.73 1544.86 Q1469.93 1548.41 1469.93 1555.54 Q1469.93 1562.64 1471.73 1566.21 Q1473.56 1569.75 1477.17 1569.75 Q1480.81 1569.75 1482.61 1566.21 Q1484.44 1562.64 1484.44 1555.54 Q1484.44 1548.41 1482.61 1544.86 Q1480.81 1541.3 1477.17 1541.3 M1477.17 1537.6 Q1482.98 1537.6 1486.04 1542.2 Q1489.12 1546.79 1489.12 1555.54 Q1489.12 1564.26 1486.04 1568.87 Q1482.98 1573.45 1477.17 1573.45 Q1471.36 1573.45 1468.28 1568.87 Q1465.23 1564.26 1465.23 1555.54 Q1465.23 1546.79 1468.28 1542.2 Q1471.36 1537.6 1477.17 1537.6 Z\" fill=\"#000000\" fill-rule=\"evenodd\" fill-opacity=\"1\" /><path clip-path=\"url(#clip860)\" d=\"M1510.18 1542.29 L1498.38 1560.74 L1510.18 1560.74 L1510.18 1542.29 M1508.96 1538.22 L1514.83 1538.22 L1514.83 1560.74 L1519.77 1560.74 L1519.77 1564.63 L1514.83 1564.63 L1514.83 1572.78 L1510.18 1572.78 L1510.18 1564.63 L1494.58 1564.63 L1494.58 1560.12 L1508.96 1538.22 Z\" fill=\"#000000\" fill-rule=\"evenodd\" fill-opacity=\"1\" /><path clip-path=\"url(#clip860)\" d=\"M1537.5 1541.3 Q1533.89 1541.3 1532.06 1544.86 Q1530.25 1548.41 1530.25 1555.54 Q1530.25 1562.64 1532.06 1566.21 Q1533.89 1569.75 1537.5 1569.75 Q1541.13 1569.75 1542.94 1566.21 Q1544.77 1562.64 1544.77 1555.54 Q1544.77 1548.41 1542.94 1544.86 Q1541.13 1541.3 1537.5 1541.3 M1537.5 1537.6 Q1543.31 1537.6 1546.36 1542.2 Q1549.44 1546.79 1549.44 1555.54 Q1549.44 1564.26 1546.36 1568.87 Q1543.31 1573.45 1537.5 1573.45 Q1531.69 1573.45 1528.61 1568.87 Q1525.55 1564.26 1525.55 1555.54 Q1525.55 1546.79 1528.61 1542.2 Q1531.69 1537.6 1537.5 1537.6 Z\" fill=\"#000000\" fill-rule=\"evenodd\" fill-opacity=\"1\" /><path clip-path=\"url(#clip860)\" d=\"M1573.94 1555.95 L1603.61 1555.95 L1603.61 1559.89 L1573.94 1559.89 L1573.94 1555.95 Z\" fill=\"#000000\" fill-rule=\"evenodd\" fill-opacity=\"1\" /><path clip-path=\"url(#clip860)\" d=\"M1623.7 1541.3 Q1620.09 1541.3 1618.26 1544.86 Q1616.46 1548.41 1616.46 1555.54 Q1616.46 1562.64 1618.26 1566.21 Q1620.09 1569.75 1623.7 1569.75 Q1627.34 1569.75 1629.14 1566.21 Q1630.97 1562.64 1630.97 1555.54 Q1630.97 1548.41 1629.14 1544.86 Q1627.34 1541.3 1623.7 1541.3 M1623.7 1537.6 Q1629.51 1537.6 1632.57 1542.2 Q1635.65 1546.79 1635.65 1555.54 Q1635.65 1564.26 1632.57 1568.87 Q1629.51 1573.45 1623.7 1573.45 Q1617.89 1573.45 1614.81 1568.87 Q1611.76 1564.26 1611.76 1555.54 Q1611.76 1546.79 1614.81 1542.2 Q1617.89 1537.6 1623.7 1537.6 Z\" fill=\"#000000\" fill-rule=\"evenodd\" fill-opacity=\"1\" /><path clip-path=\"url(#clip860)\" d=\"M1643.87 1566.9 L1648.75 1566.9 L1648.75 1572.78 L1643.87 1572.78 L1643.87 1566.9 Z\" fill=\"#000000\" fill-rule=\"evenodd\" fill-opacity=\"1\" /><path clip-path=\"url(#clip860)\" d=\"M1668.93 1541.3 Q1665.32 1541.3 1663.5 1544.86 Q1661.69 1548.41 1661.69 1555.54 Q1661.69 1562.64 1663.5 1566.21 Q1665.32 1569.75 1668.93 1569.75 Q1672.57 1569.75 1674.37 1566.21 Q1676.2 1562.64 1676.2 1555.54 Q1676.2 1548.41 1674.37 1544.86 Q1672.57 1541.3 1668.93 1541.3 M1668.93 1537.6 Q1674.75 1537.6 1677.8 1542.2 Q1680.88 1546.79 1680.88 1555.54 Q1680.88 1564.26 1677.8 1568.87 Q1674.75 1573.45 1668.93 1573.45 Q1663.12 1573.45 1660.05 1568.87 Q1656.99 1564.26 1656.99 1555.54 Q1656.99 1546.79 1660.05 1542.2 Q1663.12 1537.6 1668.93 1537.6 Z\" fill=\"#000000\" fill-rule=\"evenodd\" fill-opacity=\"1\" /><path clip-path=\"url(#clip860)\" d=\"M1703.26 1554.15 Q1706.62 1554.86 1708.49 1557.13 Q1710.39 1559.4 1710.39 1562.73 Q1710.39 1567.85 1706.87 1570.65 Q1703.36 1573.45 1696.87 1573.45 Q1694.7 1573.45 1692.38 1573.01 Q1690.09 1572.6 1687.64 1571.74 L1687.64 1567.22 Q1689.58 1568.36 1691.9 1568.94 Q1694.21 1569.52 1696.74 1569.52 Q1701.13 1569.52 1703.43 1567.78 Q1705.74 1566.04 1705.74 1562.73 Q1705.74 1559.68 1703.59 1557.97 Q1701.46 1556.23 1697.64 1556.23 L1693.61 1556.23 L1693.61 1552.39 L1697.82 1552.39 Q1701.27 1552.39 1703.1 1551.02 Q1704.93 1549.63 1704.93 1547.04 Q1704.93 1544.38 1703.03 1542.97 Q1701.16 1541.53 1697.64 1541.53 Q1695.72 1541.53 1693.52 1541.95 Q1691.32 1542.36 1688.68 1543.24 L1688.68 1539.08 Q1691.34 1538.34 1693.66 1537.97 Q1695.99 1537.6 1698.06 1537.6 Q1703.38 1537.6 1706.48 1540.03 Q1709.58 1542.43 1709.58 1546.55 Q1709.58 1549.42 1707.94 1551.41 Q1706.3 1553.38 1703.26 1554.15 Z\" fill=\"#000000\" fill-rule=\"evenodd\" fill-opacity=\"1\" /><path clip-path=\"url(#clip860)\" d=\"M1723.29 1568.85 L1739.61 1568.85 L1739.61 1572.78 L1717.66 1572.78 L1717.66 1568.85 Q1720.32 1566.09 1724.91 1561.46 Q1729.51 1556.81 1730.69 1555.47 Q1732.94 1552.94 1733.82 1551.21 Q1734.72 1549.45 1734.72 1547.76 Q1734.72 1545 1732.78 1543.27 Q1730.86 1541.53 1727.75 1541.53 Q1725.56 1541.53 1723.1 1542.29 Q1720.67 1543.06 1717.89 1544.61 L1717.89 1539.89 Q1720.72 1538.75 1723.17 1538.17 Q1725.62 1537.6 1727.66 1537.6 Q1733.03 1537.6 1736.23 1540.28 Q1739.42 1542.97 1739.42 1547.46 Q1739.42 1549.59 1738.61 1551.51 Q1737.82 1553.41 1735.72 1556 Q1735.14 1556.67 1732.04 1559.89 Q1728.93 1563.08 1723.29 1568.85 Z\" fill=\"#000000\" fill-rule=\"evenodd\" fill-opacity=\"1\" /><path clip-path=\"url(#clip860)\" d=\"M1763.86 1555.95 L1793.53 1555.95 L1793.53 1559.89 L1763.86 1559.89 L1763.86 1555.95 Z\" fill=\"#000000\" fill-rule=\"evenodd\" fill-opacity=\"1\" /><path clip-path=\"url(#clip860)\" d=\"M1813.63 1541.3 Q1810.01 1541.3 1808.19 1544.86 Q1806.38 1548.41 1806.38 1555.54 Q1806.38 1562.64 1808.19 1566.21 Q1810.01 1569.75 1813.63 1569.75 Q1817.26 1569.75 1819.07 1566.21 Q1820.89 1562.64 1820.89 1555.54 Q1820.89 1548.41 1819.07 1544.86 Q1817.26 1541.3 1813.63 1541.3 M1813.63 1537.6 Q1819.44 1537.6 1822.49 1542.2 Q1825.57 1546.79 1825.57 1555.54 Q1825.57 1564.26 1822.49 1568.87 Q1819.44 1573.45 1813.63 1573.45 Q1807.82 1573.45 1804.74 1568.87 Q1801.68 1564.26 1801.68 1555.54 Q1801.68 1546.79 1804.74 1542.2 Q1807.82 1537.6 1813.63 1537.6 Z\" fill=\"#000000\" fill-rule=\"evenodd\" fill-opacity=\"1\" /><path clip-path=\"url(#clip860)\" d=\"M1833.79 1566.9 L1838.67 1566.9 L1838.67 1572.78 L1833.79 1572.78 L1833.79 1566.9 Z\" fill=\"#000000\" fill-rule=\"evenodd\" fill-opacity=\"1\" /><path clip-path=\"url(#clip860)\" d=\"M1858.86 1541.3 Q1855.25 1541.3 1853.42 1544.86 Q1851.61 1548.41 1851.61 1555.54 Q1851.61 1562.64 1853.42 1566.21 Q1855.25 1569.75 1858.86 1569.75 Q1862.49 1569.75 1864.3 1566.21 Q1866.13 1562.64 1866.13 1555.54 Q1866.13 1548.41 1864.3 1544.86 Q1862.49 1541.3 1858.86 1541.3 M1858.86 1537.6 Q1864.67 1537.6 1867.72 1542.2 Q1870.8 1546.79 1870.8 1555.54 Q1870.8 1564.26 1867.72 1568.87 Q1864.67 1573.45 1858.86 1573.45 Q1853.05 1573.45 1849.97 1568.87 Q1846.91 1564.26 1846.91 1555.54 Q1846.91 1546.79 1849.97 1542.2 Q1853.05 1537.6 1858.86 1537.6 Z\" fill=\"#000000\" fill-rule=\"evenodd\" fill-opacity=\"1\" /><path clip-path=\"url(#clip860)\" d=\"M1883.05 1568.85 L1899.37 1568.85 L1899.37 1572.78 L1877.42 1572.78 L1877.42 1568.85 Q1880.08 1566.09 1884.67 1561.46 Q1889.27 1556.81 1890.45 1555.47 Q1892.7 1552.94 1893.58 1551.21 Q1894.48 1549.45 1894.48 1547.76 Q1894.48 1545 1892.54 1543.27 Q1890.62 1541.53 1887.51 1541.53 Q1885.31 1541.53 1882.86 1542.29 Q1880.43 1543.06 1877.65 1544.61 L1877.65 1539.89 Q1880.48 1538.75 1882.93 1538.17 Q1885.38 1537.6 1887.42 1537.6 Q1892.79 1537.6 1895.99 1540.28 Q1899.18 1542.97 1899.18 1547.46 Q1899.18 1549.59 1898.37 1551.51 Q1897.58 1553.41 1895.48 1556 Q1894.9 1556.67 1891.8 1559.89 Q1888.69 1563.08 1883.05 1568.85 Z\" fill=\"#000000\" fill-rule=\"evenodd\" fill-opacity=\"1\" /><path clip-path=\"url(#clip860)\" d=\"M1922.03 1542.29 L1910.22 1560.74 L1922.03 1560.74 L1922.03 1542.29 M1920.8 1538.22 L1926.68 1538.22 L1926.68 1560.74 L1931.61 1560.74 L1931.61 1564.63 L1926.68 1564.63 L1926.68 1572.78 L1922.03 1572.78 L1922.03 1564.63 L1906.43 1564.63 L1906.43 1560.12 L1920.8 1538.22 Z\" fill=\"#000000\" fill-rule=\"evenodd\" fill-opacity=\"1\" /><path clip-path=\"url(#clip860)\" d=\"M1954.98 1555.95 L1984.66 1555.95 L1984.66 1559.89 L1954.98 1559.89 L1954.98 1555.95 Z\" fill=\"#000000\" fill-rule=\"evenodd\" fill-opacity=\"1\" /><path clip-path=\"url(#clip860)\" d=\"M2004.75 1541.3 Q2001.14 1541.3 1999.31 1544.86 Q1997.51 1548.41 1997.51 1555.54 Q1997.51 1562.64 1999.31 1566.21 Q2001.14 1569.75 2004.75 1569.75 Q2008.39 1569.75 2010.19 1566.21 Q2012.02 1562.64 2012.02 1555.54 Q2012.02 1548.41 2010.19 1544.86 Q2008.39 1541.3 2004.75 1541.3 M2004.75 1537.6 Q2010.56 1537.6 2013.62 1542.2 Q2016.7 1546.79 2016.7 1555.54 Q2016.7 1564.26 2013.62 1568.87 Q2010.56 1573.45 2004.75 1573.45 Q1998.94 1573.45 1995.86 1568.87 Q1992.81 1564.26 1992.81 1555.54 Q1992.81 1546.79 1995.86 1542.2 Q1998.94 1537.6 2004.75 1537.6 Z\" fill=\"#000000\" fill-rule=\"evenodd\" fill-opacity=\"1\" /><path clip-path=\"url(#clip860)\" d=\"M2024.91 1566.9 L2029.8 1566.9 L2029.8 1572.78 L2024.91 1572.78 L2024.91 1566.9 Z\" fill=\"#000000\" fill-rule=\"evenodd\" fill-opacity=\"1\" /><path clip-path=\"url(#clip860)\" d=\"M2049.98 1541.3 Q2046.37 1541.3 2044.54 1544.86 Q2042.74 1548.41 2042.74 1555.54 Q2042.74 1562.64 2044.54 1566.21 Q2046.37 1569.75 2049.98 1569.75 Q2053.62 1569.75 2055.42 1566.21 Q2057.25 1562.64 2057.25 1555.54 Q2057.25 1548.41 2055.42 1544.86 Q2053.62 1541.3 2049.98 1541.3 M2049.98 1537.6 Q2055.79 1537.6 2058.85 1542.2 Q2061.93 1546.79 2061.93 1555.54 Q2061.93 1564.26 2058.85 1568.87 Q2055.79 1573.45 2049.98 1573.45 Q2044.17 1573.45 2041.09 1568.87 Q2038.04 1564.26 2038.04 1555.54 Q2038.04 1546.79 2041.09 1542.2 Q2044.17 1537.6 2049.98 1537.6 Z\" fill=\"#000000\" fill-rule=\"evenodd\" fill-opacity=\"1\" /><path clip-path=\"url(#clip860)\" d=\"M2070.95 1568.85 L2078.59 1568.85 L2078.59 1542.48 L2070.28 1544.15 L2070.28 1539.89 L2078.55 1538.22 L2083.22 1538.22 L2083.22 1568.85 L2090.86 1568.85 L2090.86 1572.78 L2070.95 1572.78 L2070.95 1568.85 Z\" fill=\"#000000\" fill-rule=\"evenodd\" fill-opacity=\"1\" /><path clip-path=\"url(#clip860)\" d=\"M2110.88 1553.64 Q2107.74 1553.64 2105.88 1555.79 Q2104.06 1557.94 2104.06 1561.69 Q2104.06 1565.42 2105.88 1567.6 Q2107.74 1569.75 2110.88 1569.75 Q2114.03 1569.75 2115.86 1567.6 Q2117.71 1565.42 2117.71 1561.69 Q2117.71 1557.94 2115.86 1555.79 Q2114.03 1553.64 2110.88 1553.64 M2120.17 1538.98 L2120.17 1543.24 Q2118.41 1542.41 2116.6 1541.97 Q2114.82 1541.53 2113.06 1541.53 Q2108.43 1541.53 2105.98 1544.66 Q2103.55 1547.78 2103.2 1554.1 Q2104.57 1552.09 2106.63 1551.02 Q2108.69 1549.93 2111.16 1549.93 Q2116.37 1549.93 2119.38 1553.1 Q2122.41 1556.25 2122.41 1561.69 Q2122.41 1567.02 2119.26 1570.23 Q2116.12 1573.45 2110.88 1573.45 Q2104.89 1573.45 2101.72 1568.87 Q2098.55 1564.26 2098.55 1555.54 Q2098.55 1547.34 2102.44 1542.48 Q2106.32 1537.6 2112.88 1537.6 Q2114.63 1537.6 2116.42 1537.94 Q2118.22 1538.29 2120.17 1538.98 Z\" fill=\"#000000\" fill-rule=\"evenodd\" fill-opacity=\"1\" /><path clip-path=\"url(#clip860)\" d=\"M2146.07 1555.95 L2175.75 1555.95 L2175.75 1559.89 L2146.07 1559.89 L2146.07 1555.95 Z\" fill=\"#000000\" fill-rule=\"evenodd\" fill-opacity=\"1\" /><path clip-path=\"url(#clip860)\" d=\"M2195.84 1541.3 Q2192.23 1541.3 2190.4 1544.86 Q2188.6 1548.41 2188.6 1555.54 Q2188.6 1562.64 2190.4 1566.21 Q2192.23 1569.75 2195.84 1569.75 Q2199.48 1569.75 2201.28 1566.21 Q2203.11 1562.64 2203.11 1555.54 Q2203.11 1548.41 2201.28 1544.86 Q2199.48 1541.3 2195.84 1541.3 M2195.84 1537.6 Q2201.65 1537.6 2204.71 1542.2 Q2207.79 1546.79 2207.79 1555.54 Q2207.79 1564.26 2204.71 1568.87 Q2201.65 1573.45 2195.84 1573.45 Q2190.03 1573.45 2186.95 1568.87 Q2183.9 1564.26 2183.9 1555.54 Q2183.9 1546.79 2186.95 1542.2 Q2190.03 1537.6 2195.84 1537.6 Z\" fill=\"#000000\" fill-rule=\"evenodd\" fill-opacity=\"1\" /><path clip-path=\"url(#clip860)\" d=\"M2216 1566.9 L2220.89 1566.9 L2220.89 1572.78 L2216 1572.78 L2216 1566.9 Z\" fill=\"#000000\" fill-rule=\"evenodd\" fill-opacity=\"1\" /><path clip-path=\"url(#clip860)\" d=\"M2241.07 1541.3 Q2237.46 1541.3 2235.63 1544.86 Q2233.83 1548.41 2233.83 1555.54 Q2233.83 1562.64 2235.63 1566.21 Q2237.46 1569.75 2241.07 1569.75 Q2244.71 1569.75 2246.51 1566.21 Q2248.34 1562.64 2248.34 1555.54 Q2248.34 1548.41 2246.51 1544.86 Q2244.71 1541.3 2241.07 1541.3 M2241.07 1537.6 Q2246.88 1537.6 2249.94 1542.2 Q2253.02 1546.79 2253.02 1555.54 Q2253.02 1564.26 2249.94 1568.87 Q2246.88 1573.45 2241.07 1573.45 Q2235.26 1573.45 2232.18 1568.87 Q2229.13 1564.26 2229.13 1555.54 Q2229.13 1546.79 2232.18 1542.2 Q2235.26 1537.6 2241.07 1537.6 Z\" fill=\"#000000\" fill-rule=\"evenodd\" fill-opacity=\"1\" /><path clip-path=\"url(#clip860)\" d=\"M2271.23 1541.3 Q2267.62 1541.3 2265.79 1544.86 Q2263.99 1548.41 2263.99 1555.54 Q2263.99 1562.64 2265.79 1566.21 Q2267.62 1569.75 2271.23 1569.75 Q2274.87 1569.75 2276.67 1566.21 Q2278.5 1562.64 2278.5 1555.54 Q2278.5 1548.41 2276.67 1544.86 Q2274.87 1541.3 2271.23 1541.3 M2271.23 1537.6 Q2277.04 1537.6 2280.1 1542.2 Q2283.18 1546.79 2283.18 1555.54 Q2283.18 1564.26 2280.1 1568.87 Q2277.04 1573.45 2271.23 1573.45 Q2265.42 1573.45 2262.35 1568.87 Q2259.29 1564.26 2259.29 1555.54 Q2259.29 1546.79 2262.35 1542.2 Q2265.42 1537.6 2271.23 1537.6 Z\" fill=\"#000000\" fill-rule=\"evenodd\" fill-opacity=\"1\" /><path clip-path=\"url(#clip860)\" d=\"M2301.4 1556.37 Q2298.06 1556.37 2296.14 1558.15 Q2294.24 1559.93 2294.24 1563.06 Q2294.24 1566.18 2296.14 1567.97 Q2298.06 1569.75 2301.4 1569.75 Q2304.73 1569.75 2306.65 1567.97 Q2308.57 1566.16 2308.57 1563.06 Q2308.57 1559.93 2306.65 1558.15 Q2304.75 1556.37 2301.4 1556.37 M2296.72 1554.38 Q2293.71 1553.64 2292.02 1551.58 Q2290.36 1549.52 2290.36 1546.55 Q2290.36 1542.41 2293.29 1540 Q2296.26 1537.6 2301.4 1537.6 Q2306.56 1537.6 2309.5 1540 Q2312.44 1542.41 2312.44 1546.55 Q2312.44 1549.52 2310.75 1551.58 Q2309.08 1553.64 2306.1 1554.38 Q2309.48 1555.16 2311.35 1557.46 Q2313.25 1559.75 2313.25 1563.06 Q2313.25 1568.08 2310.17 1570.77 Q2307.11 1573.45 2301.4 1573.45 Q2295.68 1573.45 2292.6 1570.77 Q2289.54 1568.08 2289.54 1563.06 Q2289.54 1559.75 2291.44 1557.46 Q2293.34 1555.16 2296.72 1554.38 M2295.01 1546.99 Q2295.01 1549.68 2296.67 1551.18 Q2298.36 1552.69 2301.4 1552.69 Q2304.41 1552.69 2306.1 1551.18 Q2307.81 1549.68 2307.81 1546.99 Q2307.81 1544.31 2306.1 1542.8 Q2304.41 1541.3 2301.4 1541.3 Q2298.36 1541.3 2296.67 1542.8 Q2295.01 1544.31 2295.01 1546.99 Z\" fill=\"#000000\" fill-rule=\"evenodd\" fill-opacity=\"1\" /><path clip-path=\"url(#clip860)\" d=\"M2367.85 1541.3 Q2364.24 1541.3 2362.41 1544.86 Q2360.6 1548.41 2360.6 1555.54 Q2360.6 1562.64 2362.41 1566.21 Q2364.24 1569.75 2367.85 1569.75 Q2371.48 1569.75 2373.29 1566.21 Q2375.12 1562.64 2375.12 1555.54 Q2375.12 1548.41 2373.29 1544.86 Q2371.48 1541.3 2367.85 1541.3 M2367.85 1537.6 Q2373.66 1537.6 2376.71 1542.2 Q2379.79 1546.79 2379.79 1555.54 Q2379.79 1564.26 2376.71 1568.87 Q2373.66 1573.45 2367.85 1573.45 Q2362.04 1573.45 2358.96 1568.87 Q2355.9 1564.26 2355.9 1555.54 Q2355.9 1546.79 2358.96 1542.2 Q2362.04 1537.6 2367.85 1537.6 Z\" fill=\"#000000\" fill-rule=\"evenodd\" fill-opacity=\"1\" /><path clip-path=\"url(#clip860)\" d=\"M2388.01 1566.9 L2392.89 1566.9 L2392.89 1572.78 L2388.01 1572.78 L2388.01 1566.9 Z\" fill=\"#000000\" fill-rule=\"evenodd\" fill-opacity=\"1\" /><path clip-path=\"url(#clip860)\" d=\"M2413.08 1541.3 Q2409.47 1541.3 2407.64 1544.86 Q2405.83 1548.41 2405.83 1555.54 Q2405.83 1562.64 2407.64 1566.21 Q2409.47 1569.75 2413.08 1569.75 Q2416.71 1569.75 2418.52 1566.21 Q2420.35 1562.64 2420.35 1555.54 Q2420.35 1548.41 2418.52 1544.86 Q2416.71 1541.3 2413.08 1541.3 M2413.08 1537.6 Q2418.89 1537.6 2421.94 1542.2 Q2425.02 1546.79 2425.02 1555.54 Q2425.02 1564.26 2421.94 1568.87 Q2418.89 1573.45 2413.08 1573.45 Q2407.27 1573.45 2404.19 1568.87 Q2401.13 1564.26 2401.13 1555.54 Q2401.13 1546.79 2404.19 1542.2 Q2407.27 1537.6 2413.08 1537.6 Z\" fill=\"#000000\" fill-rule=\"evenodd\" fill-opacity=\"1\" /><path clip-path=\"url(#clip860)\" d=\"M2443.24 1541.3 Q2439.63 1541.3 2437.8 1544.86 Q2435.99 1548.41 2435.99 1555.54 Q2435.99 1562.64 2437.8 1566.21 Q2439.63 1569.75 2443.24 1569.75 Q2446.87 1569.75 2448.68 1566.21 Q2450.51 1562.64 2450.51 1555.54 Q2450.51 1548.41 2448.68 1544.86 Q2446.87 1541.3 2443.24 1541.3 M2443.24 1537.6 Q2449.05 1537.6 2452.11 1542.2 Q2455.18 1546.79 2455.18 1555.54 Q2455.18 1564.26 2452.11 1568.87 Q2449.05 1573.45 2443.24 1573.45 Q2437.43 1573.45 2434.35 1568.87 Q2431.3 1564.26 2431.3 1555.54 Q2431.3 1546.79 2434.35 1542.2 Q2437.43 1537.6 2443.24 1537.6 Z\" fill=\"#000000\" fill-rule=\"evenodd\" fill-opacity=\"1\" /><path clip-path=\"url(#clip860)\" d=\"M2473.4 1541.3 Q2469.79 1541.3 2467.96 1544.86 Q2466.16 1548.41 2466.16 1555.54 Q2466.16 1562.64 2467.96 1566.21 Q2469.79 1569.75 2473.4 1569.75 Q2477.04 1569.75 2478.84 1566.21 Q2480.67 1562.64 2480.67 1555.54 Q2480.67 1548.41 2478.84 1544.86 Q2477.04 1541.3 2473.4 1541.3 M2473.4 1537.6 Q2479.21 1537.6 2482.27 1542.2 Q2485.35 1546.79 2485.35 1555.54 Q2485.35 1564.26 2482.27 1568.87 Q2479.21 1573.45 2473.4 1573.45 Q2467.59 1573.45 2464.51 1568.87 Q2461.46 1564.26 2461.46 1555.54 Q2461.46 1546.79 2464.51 1542.2 Q2467.59 1537.6 2473.4 1537.6 Z\" fill=\"#000000\" fill-rule=\"evenodd\" fill-opacity=\"1\" /><path clip-path=\"url(#clip860)\" d=\"M2558.86 1541.3 Q2555.25 1541.3 2553.42 1544.86 Q2551.61 1548.41 2551.61 1555.54 Q2551.61 1562.64 2553.42 1566.21 Q2555.25 1569.75 2558.86 1569.75 Q2562.49 1569.75 2564.3 1566.21 Q2566.12 1562.64 2566.12 1555.54 Q2566.12 1548.41 2564.3 1544.86 Q2562.49 1541.3 2558.86 1541.3 M2558.86 1537.6 Q2564.67 1537.6 2567.72 1542.2 Q2570.8 1546.79 2570.8 1555.54 Q2570.8 1564.26 2567.72 1568.87 Q2564.67 1573.45 2558.86 1573.45 Q2553.05 1573.45 2549.97 1568.87 Q2546.91 1564.26 2546.91 1555.54 Q2546.91 1546.79 2549.97 1542.2 Q2553.05 1537.6 2558.86 1537.6 Z\" fill=\"#000000\" fill-rule=\"evenodd\" fill-opacity=\"1\" /><path clip-path=\"url(#clip860)\" d=\"M2579.02 1566.9 L2583.9 1566.9 L2583.9 1572.78 L2579.02 1572.78 L2579.02 1566.9 Z\" fill=\"#000000\" fill-rule=\"evenodd\" fill-opacity=\"1\" /><path clip-path=\"url(#clip860)\" d=\"M2604.09 1541.3 Q2600.48 1541.3 2598.65 1544.86 Q2596.84 1548.41 2596.84 1555.54 Q2596.84 1562.64 2598.65 1566.21 Q2600.48 1569.75 2604.09 1569.75 Q2607.72 1569.75 2609.53 1566.21 Q2611.36 1562.64 2611.36 1555.54 Q2611.36 1548.41 2609.53 1544.86 Q2607.72 1541.3 2604.09 1541.3 M2604.09 1537.6 Q2609.9 1537.6 2612.95 1542.2 Q2616.03 1546.79 2616.03 1555.54 Q2616.03 1564.26 2612.95 1568.87 Q2609.9 1573.45 2604.09 1573.45 Q2598.28 1573.45 2595.2 1568.87 Q2592.14 1564.26 2592.14 1555.54 Q2592.14 1546.79 2595.2 1542.2 Q2598.28 1537.6 2604.09 1537.6 Z\" fill=\"#000000\" fill-rule=\"evenodd\" fill-opacity=\"1\" /><path clip-path=\"url(#clip860)\" d=\"M2634.25 1541.3 Q2630.64 1541.3 2628.81 1544.86 Q2627 1548.41 2627 1555.54 Q2627 1562.64 2628.81 1566.21 Q2630.64 1569.75 2634.25 1569.75 Q2637.88 1569.75 2639.69 1566.21 Q2641.52 1562.64 2641.52 1555.54 Q2641.52 1548.41 2639.69 1544.86 Q2637.88 1541.3 2634.25 1541.3 M2634.25 1537.6 Q2640.06 1537.6 2643.12 1542.2 Q2646.19 1546.79 2646.19 1555.54 Q2646.19 1564.26 2643.12 1568.87 Q2640.06 1573.45 2634.25 1573.45 Q2628.44 1573.45 2625.36 1568.87 Q2622.31 1564.26 2622.31 1555.54 Q2622.31 1546.79 2625.36 1542.2 Q2628.44 1537.6 2634.25 1537.6 Z\" fill=\"#000000\" fill-rule=\"evenodd\" fill-opacity=\"1\" /><path clip-path=\"url(#clip860)\" d=\"M2664.41 1556.37 Q2661.08 1556.37 2659.16 1558.15 Q2657.26 1559.93 2657.26 1563.06 Q2657.26 1566.18 2659.16 1567.97 Q2661.08 1569.75 2664.41 1569.75 Q2667.74 1569.75 2669.67 1567.97 Q2671.59 1566.16 2671.59 1563.06 Q2671.59 1559.93 2669.67 1558.15 Q2667.77 1556.37 2664.41 1556.37 M2659.74 1554.38 Q2656.73 1553.64 2655.04 1551.58 Q2653.37 1549.52 2653.37 1546.55 Q2653.37 1542.41 2656.31 1540 Q2659.27 1537.6 2664.41 1537.6 Q2669.57 1537.6 2672.51 1540 Q2675.45 1542.41 2675.45 1546.55 Q2675.45 1549.52 2673.76 1551.58 Q2672.1 1553.64 2669.11 1554.38 Q2672.49 1555.16 2674.37 1557.46 Q2676.26 1559.75 2676.26 1563.06 Q2676.26 1568.08 2673.18 1570.77 Q2670.13 1573.45 2664.41 1573.45 Q2658.69 1573.45 2655.62 1570.77 Q2652.56 1568.08 2652.56 1563.06 Q2652.56 1559.75 2654.46 1557.46 Q2656.36 1555.16 2659.74 1554.38 M2658.02 1546.99 Q2658.02 1549.68 2659.69 1551.18 Q2661.38 1552.69 2664.41 1552.69 Q2667.42 1552.69 2669.11 1551.18 Q2670.82 1549.68 2670.82 1546.99 Q2670.82 1544.31 2669.11 1542.8 Q2667.42 1541.3 2664.41 1541.3 Q2661.38 1541.3 2659.69 1542.8 Q2658.02 1544.31 2658.02 1546.99 Z\" fill=\"#000000\" fill-rule=\"evenodd\" fill-opacity=\"1\" /><path clip-path=\"url(#clip860)\" d=\"M2749.69 1541.3 Q2746.08 1541.3 2744.25 1544.86 Q2742.45 1548.41 2742.45 1555.54 Q2742.45 1562.64 2744.25 1566.21 Q2746.08 1569.75 2749.69 1569.75 Q2753.33 1569.75 2755.13 1566.21 Q2756.96 1562.64 2756.96 1555.54 Q2756.96 1548.41 2755.13 1544.86 Q2753.33 1541.3 2749.69 1541.3 M2749.69 1537.6 Q2755.5 1537.6 2758.56 1542.2 Q2761.64 1546.79 2761.64 1555.54 Q2761.64 1564.26 2758.56 1568.87 Q2755.5 1573.45 2749.69 1573.45 Q2743.88 1573.45 2740.8 1568.87 Q2737.75 1564.26 2737.75 1555.54 Q2737.75 1546.79 2740.8 1542.2 Q2743.88 1537.6 2749.69 1537.6 Z\" fill=\"#000000\" fill-rule=\"evenodd\" fill-opacity=\"1\" /><path clip-path=\"url(#clip860)\" d=\"M2769.85 1566.9 L2774.74 1566.9 L2774.74 1572.78 L2769.85 1572.78 L2769.85 1566.9 Z\" fill=\"#000000\" fill-rule=\"evenodd\" fill-opacity=\"1\" /><path clip-path=\"url(#clip860)\" d=\"M2794.92 1541.3 Q2791.31 1541.3 2789.48 1544.86 Q2787.68 1548.41 2787.68 1555.54 Q2787.68 1562.64 2789.48 1566.21 Q2791.31 1569.75 2794.92 1569.75 Q2798.56 1569.75 2800.36 1566.21 Q2802.19 1562.64 2802.19 1555.54 Q2802.19 1548.41 2800.36 1544.86 Q2798.56 1541.3 2794.92 1541.3 M2794.92 1537.6 Q2800.73 1537.6 2803.79 1542.2 Q2806.87 1546.79 2806.87 1555.54 Q2806.87 1564.26 2803.79 1568.87 Q2800.73 1573.45 2794.92 1573.45 Q2789.11 1573.45 2786.03 1568.87 Q2782.98 1564.26 2782.98 1555.54 Q2782.98 1546.79 2786.03 1542.2 Q2789.11 1537.6 2794.92 1537.6 Z\" fill=\"#000000\" fill-rule=\"evenodd\" fill-opacity=\"1\" /><path clip-path=\"url(#clip860)\" d=\"M2815.9 1568.85 L2823.53 1568.85 L2823.53 1542.48 L2815.22 1544.15 L2815.22 1539.89 L2823.49 1538.22 L2828.16 1538.22 L2828.16 1568.85 L2835.8 1568.85 L2835.8 1572.78 L2815.9 1572.78 L2815.9 1568.85 Z\" fill=\"#000000\" fill-rule=\"evenodd\" fill-opacity=\"1\" /><path clip-path=\"url(#clip860)\" d=\"M2855.83 1553.64 Q2852.68 1553.64 2850.83 1555.79 Q2849 1557.94 2849 1561.69 Q2849 1565.42 2850.83 1567.6 Q2852.68 1569.75 2855.83 1569.75 Q2858.97 1569.75 2860.8 1567.6 Q2862.65 1565.42 2862.65 1561.69 Q2862.65 1557.94 2860.8 1555.79 Q2858.97 1553.64 2855.83 1553.64 M2865.11 1538.98 L2865.11 1543.24 Q2863.35 1542.41 2861.54 1541.97 Q2859.76 1541.53 2858 1541.53 Q2853.37 1541.53 2850.92 1544.66 Q2848.49 1547.78 2848.14 1554.1 Q2849.51 1552.09 2851.57 1551.02 Q2853.63 1549.93 2856.1 1549.93 Q2861.31 1549.93 2864.32 1553.1 Q2867.35 1556.25 2867.35 1561.69 Q2867.35 1567.02 2864.21 1570.23 Q2861.06 1573.45 2855.83 1573.45 Q2849.83 1573.45 2846.66 1568.87 Q2843.49 1564.26 2843.49 1555.54 Q2843.49 1547.34 2847.38 1542.48 Q2851.27 1537.6 2857.82 1537.6 Q2859.58 1537.6 2861.36 1537.94 Q2863.16 1538.29 2865.11 1538.98 Z\" fill=\"#000000\" fill-rule=\"evenodd\" fill-opacity=\"1\" /><path clip-path=\"url(#clip860)\" d=\"M2940.49 1541.3 Q2936.88 1541.3 2935.05 1544.86 Q2933.25 1548.41 2933.25 1555.54 Q2933.25 1562.64 2935.05 1566.21 Q2936.88 1569.75 2940.49 1569.75 Q2944.13 1569.75 2945.93 1566.21 Q2947.76 1562.64 2947.76 1555.54 Q2947.76 1548.41 2945.93 1544.86 Q2944.13 1541.3 2940.49 1541.3 M2940.49 1537.6 Q2946.3 1537.6 2949.36 1542.2 Q2952.44 1546.79 2952.44 1555.54 Q2952.44 1564.26 2949.36 1568.87 Q2946.3 1573.45 2940.49 1573.45 Q2934.68 1573.45 2931.61 1568.87 Q2928.55 1564.26 2928.55 1555.54 Q2928.55 1546.79 2931.61 1542.2 Q2934.68 1537.6 2940.49 1537.6 Z\" fill=\"#000000\" fill-rule=\"evenodd\" fill-opacity=\"1\" /><path clip-path=\"url(#clip860)\" d=\"M2960.66 1566.9 L2965.54 1566.9 L2965.54 1572.78 L2960.66 1572.78 L2960.66 1566.9 Z\" fill=\"#000000\" fill-rule=\"evenodd\" fill-opacity=\"1\" /><path clip-path=\"url(#clip860)\" d=\"M2985.73 1541.3 Q2982.11 1541.3 2980.29 1544.86 Q2978.48 1548.41 2978.48 1555.54 Q2978.48 1562.64 2980.29 1566.21 Q2982.11 1569.75 2985.73 1569.75 Q2989.36 1569.75 2991.16 1566.21 Q2992.99 1562.64 2992.99 1555.54 Q2992.99 1548.41 2991.16 1544.86 Q2989.36 1541.3 2985.73 1541.3 M2985.73 1537.6 Q2991.54 1537.6 2994.59 1542.2 Q2997.67 1546.79 2997.67 1555.54 Q2997.67 1564.26 2994.59 1568.87 Q2991.54 1573.45 2985.73 1573.45 Q2979.92 1573.45 2976.84 1568.87 Q2973.78 1564.26 2973.78 1555.54 Q2973.78 1546.79 2976.84 1542.2 Q2979.92 1537.6 2985.73 1537.6 Z\" fill=\"#000000\" fill-rule=\"evenodd\" fill-opacity=\"1\" /><path clip-path=\"url(#clip860)\" d=\"M3009.91 1568.85 L3026.23 1568.85 L3026.23 1572.78 L3004.29 1572.78 L3004.29 1568.85 Q3006.95 1566.09 3011.54 1561.46 Q3016.14 1556.81 3017.32 1555.47 Q3019.57 1552.94 3020.45 1551.21 Q3021.35 1549.45 3021.35 1547.76 Q3021.35 1545 3019.41 1543.27 Q3017.48 1541.53 3014.38 1541.53 Q3012.18 1541.53 3009.73 1542.29 Q3007.3 1543.06 3004.52 1544.61 L3004.52 1539.89 Q3007.35 1538.75 3009.8 1538.17 Q3012.25 1537.6 3014.29 1537.6 Q3019.66 1537.6 3022.85 1540.28 Q3026.05 1542.97 3026.05 1547.46 Q3026.05 1549.59 3025.24 1551.51 Q3024.45 1553.41 3022.35 1556 Q3021.77 1556.67 3018.66 1559.89 Q3015.56 1563.08 3009.91 1568.85 Z\" fill=\"#000000\" fill-rule=\"evenodd\" fill-opacity=\"1\" /><path clip-path=\"url(#clip860)\" d=\"M3048.9 1542.29 L3037.09 1560.74 L3048.9 1560.74 L3048.9 1542.29 M3047.67 1538.22 L3053.55 1538.22 L3053.55 1560.74 L3058.48 1560.74 L3058.48 1564.63 L3053.55 1564.63 L3053.55 1572.78 L3048.9 1572.78 L3048.9 1564.63 L3033.29 1564.63 L3033.29 1560.12 L3047.67 1538.22 Z\" fill=\"#000000\" fill-rule=\"evenodd\" fill-opacity=\"1\" /><path clip-path=\"url(#clip860)\" d=\"M3132.5 1541.3 Q3128.89 1541.3 3127.06 1544.86 Q3125.25 1548.41 3125.25 1555.54 Q3125.25 1562.64 3127.06 1566.21 Q3128.89 1569.75 3132.5 1569.75 Q3136.13 1569.75 3137.94 1566.21 Q3139.77 1562.64 3139.77 1555.54 Q3139.77 1548.41 3137.94 1544.86 Q3136.13 1541.3 3132.5 1541.3 M3132.5 1537.6 Q3138.31 1537.6 3141.36 1542.2 Q3144.44 1546.79 3144.44 1555.54 Q3144.44 1564.26 3141.36 1568.87 Q3138.31 1573.45 3132.5 1573.45 Q3126.69 1573.45 3123.61 1568.87 Q3120.55 1564.26 3120.55 1555.54 Q3120.55 1546.79 3123.61 1542.2 Q3126.69 1537.6 3132.5 1537.6 Z\" fill=\"#000000\" fill-rule=\"evenodd\" fill-opacity=\"1\" /><path clip-path=\"url(#clip860)\" d=\"M3152.66 1566.9 L3157.55 1566.9 L3157.55 1572.78 L3152.66 1572.78 L3152.66 1566.9 Z\" fill=\"#000000\" fill-rule=\"evenodd\" fill-opacity=\"1\" /><path clip-path=\"url(#clip860)\" d=\"M3177.73 1541.3 Q3174.12 1541.3 3172.29 1544.86 Q3170.48 1548.41 3170.48 1555.54 Q3170.48 1562.64 3172.29 1566.21 Q3174.12 1569.75 3177.73 1569.75 Q3181.36 1569.75 3183.17 1566.21 Q3185 1562.64 3185 1555.54 Q3185 1548.41 3183.17 1544.86 Q3181.36 1541.3 3177.73 1541.3 M3177.73 1537.6 Q3183.54 1537.6 3186.6 1542.2 Q3189.67 1546.79 3189.67 1555.54 Q3189.67 1564.26 3186.6 1568.87 Q3183.54 1573.45 3177.73 1573.45 Q3171.92 1573.45 3168.84 1568.87 Q3165.79 1564.26 3165.79 1555.54 Q3165.79 1546.79 3168.84 1542.2 Q3171.92 1537.6 3177.73 1537.6 Z\" fill=\"#000000\" fill-rule=\"evenodd\" fill-opacity=\"1\" /><path clip-path=\"url(#clip860)\" d=\"M3212.06 1554.15 Q3215.42 1554.86 3217.29 1557.13 Q3219.19 1559.4 3219.19 1562.73 Q3219.19 1567.85 3215.67 1570.65 Q3212.15 1573.45 3205.67 1573.45 Q3203.49 1573.45 3201.18 1573.01 Q3198.89 1572.6 3196.43 1571.74 L3196.43 1567.22 Q3198.38 1568.36 3200.69 1568.94 Q3203.01 1569.52 3205.53 1569.52 Q3209.93 1569.52 3212.22 1567.78 Q3214.54 1566.04 3214.54 1562.73 Q3214.54 1559.68 3212.38 1557.97 Q3210.25 1556.23 3206.43 1556.23 L3202.41 1556.23 L3202.41 1552.39 L3206.62 1552.39 Q3210.07 1552.39 3211.9 1551.02 Q3213.73 1549.63 3213.73 1547.04 Q3213.73 1544.38 3211.83 1542.97 Q3209.95 1541.53 3206.43 1541.53 Q3204.51 1541.53 3202.31 1541.95 Q3200.11 1542.36 3197.48 1543.24 L3197.48 1539.08 Q3200.14 1538.34 3202.45 1537.97 Q3204.79 1537.6 3206.85 1537.6 Q3212.17 1537.6 3215.28 1540.03 Q3218.38 1542.43 3218.38 1546.55 Q3218.38 1549.42 3216.73 1551.41 Q3215.09 1553.38 3212.06 1554.15 Z\" fill=\"#000000\" fill-rule=\"evenodd\" fill-opacity=\"1\" /><path clip-path=\"url(#clip860)\" d=\"M3232.08 1568.85 L3248.4 1568.85 L3248.4 1572.78 L3226.46 1572.78 L3226.46 1568.85 Q3229.12 1566.09 3233.7 1561.46 Q3238.31 1556.81 3239.49 1555.47 Q3241.73 1552.94 3242.61 1551.21 Q3243.52 1549.45 3243.52 1547.76 Q3243.52 1545 3241.57 1543.27 Q3239.65 1541.53 3236.55 1541.53 Q3234.35 1541.53 3231.9 1542.29 Q3229.47 1543.06 3226.69 1544.61 L3226.69 1539.89 Q3229.51 1538.75 3231.97 1538.17 Q3234.42 1537.6 3236.46 1537.6 Q3241.83 1537.6 3245.02 1540.28 Q3248.22 1542.97 3248.22 1547.46 Q3248.22 1549.59 3247.41 1551.51 Q3246.62 1553.41 3244.51 1556 Q3243.93 1556.67 3240.83 1559.89 Q3237.73 1563.08 3232.08 1568.85 Z\" fill=\"#000000\" fill-rule=\"evenodd\" fill-opacity=\"1\" /><path clip-path=\"url(#clip860)\" d=\"M3322.66 1541.3 Q3319.05 1541.3 3317.22 1544.86 Q3315.42 1548.41 3315.42 1555.54 Q3315.42 1562.64 3317.22 1566.21 Q3319.05 1569.75 3322.66 1569.75 Q3326.3 1569.75 3328.1 1566.21 Q3329.93 1562.64 3329.93 1555.54 Q3329.93 1548.41 3328.1 1544.86 Q3326.3 1541.3 3322.66 1541.3 M3322.66 1537.6 Q3328.47 1537.6 3331.53 1542.2 Q3334.61 1546.79 3334.61 1555.54 Q3334.61 1564.26 3331.53 1568.87 Q3328.47 1573.45 3322.66 1573.45 Q3316.85 1573.45 3313.77 1568.87 Q3310.72 1564.26 3310.72 1555.54 Q3310.72 1546.79 3313.77 1542.2 Q3316.85 1537.6 3322.66 1537.6 Z\" fill=\"#000000\" fill-rule=\"evenodd\" fill-opacity=\"1\" /><path clip-path=\"url(#clip860)\" d=\"M3342.83 1566.9 L3347.71 1566.9 L3347.71 1572.78 L3342.83 1572.78 L3342.83 1566.9 Z\" fill=\"#000000\" fill-rule=\"evenodd\" fill-opacity=\"1\" /><path clip-path=\"url(#clip860)\" d=\"M3367.9 1541.3 Q3364.28 1541.3 3362.46 1544.86 Q3360.65 1548.41 3360.65 1555.54 Q3360.65 1562.64 3362.46 1566.21 Q3364.28 1569.75 3367.9 1569.75 Q3371.53 1569.75 3373.33 1566.21 Q3375.16 1562.64 3375.16 1555.54 Q3375.16 1548.41 3373.33 1544.86 Q3371.53 1541.3 3367.9 1541.3 M3367.9 1537.6 Q3373.71 1537.6 3376.76 1542.2 Q3379.84 1546.79 3379.84 1555.54 Q3379.84 1564.26 3376.76 1568.87 Q3373.71 1573.45 3367.9 1573.45 Q3362.08 1573.45 3359.01 1568.87 Q3355.95 1564.26 3355.95 1555.54 Q3355.95 1546.79 3359.01 1542.2 Q3362.08 1537.6 3367.9 1537.6 Z\" fill=\"#000000\" fill-rule=\"evenodd\" fill-opacity=\"1\" /><path clip-path=\"url(#clip860)\" d=\"M3400.9 1542.29 L3389.1 1560.74 L3400.9 1560.74 L3400.9 1542.29 M3399.68 1538.22 L3405.56 1538.22 L3405.56 1560.74 L3410.49 1560.74 L3410.49 1564.63 L3405.56 1564.63 L3405.56 1572.78 L3400.9 1572.78 L3400.9 1564.63 L3385.3 1564.63 L3385.3 1560.12 L3399.68 1538.22 Z\" fill=\"#000000\" fill-rule=\"evenodd\" fill-opacity=\"1\" /><path clip-path=\"url(#clip860)\" d=\"M3428.22 1541.3 Q3424.61 1541.3 3422.78 1544.86 Q3420.97 1548.41 3420.97 1555.54 Q3420.97 1562.64 3422.78 1566.21 Q3424.61 1569.75 3428.22 1569.75 Q3431.85 1569.75 3433.66 1566.21 Q3435.49 1562.64 3435.49 1555.54 Q3435.49 1548.41 3433.66 1544.86 Q3431.85 1541.3 3428.22 1541.3 M3428.22 1537.6 Q3434.03 1537.6 3437.08 1542.2 Q3440.16 1546.79 3440.16 1555.54 Q3440.16 1564.26 3437.08 1568.87 Q3434.03 1573.45 3428.22 1573.45 Q3422.41 1573.45 3419.33 1568.87 Q3416.27 1564.26 3416.27 1555.54 Q3416.27 1546.79 3419.33 1542.2 Q3422.41 1537.6 3428.22 1537.6 Z\" fill=\"#000000\" fill-rule=\"evenodd\" fill-opacity=\"1\" /><path clip-path=\"url(#clip860)\" d=\"M3513.67 1541.3 Q3510.06 1541.3 3508.23 1544.86 Q3506.43 1548.41 3506.43 1555.54 Q3506.43 1562.64 3508.23 1566.21 Q3510.06 1569.75 3513.67 1569.75 Q3517.31 1569.75 3519.11 1566.21 Q3520.94 1562.64 3520.94 1555.54 Q3520.94 1548.41 3519.11 1544.86 Q3517.31 1541.3 3513.67 1541.3 M3513.67 1537.6 Q3519.48 1537.6 3522.54 1542.2 Q3525.62 1546.79 3525.62 1555.54 Q3525.62 1564.26 3522.54 1568.87 Q3519.48 1573.45 3513.67 1573.45 Q3507.86 1573.45 3504.78 1568.87 Q3501.73 1564.26 3501.73 1555.54 Q3501.73 1546.79 3504.78 1542.2 Q3507.86 1537.6 3513.67 1537.6 Z\" fill=\"#000000\" fill-rule=\"evenodd\" fill-opacity=\"1\" /><path clip-path=\"url(#clip860)\" d=\"M3533.84 1566.9 L3538.72 1566.9 L3538.72 1572.78 L3533.84 1572.78 L3533.84 1566.9 Z\" fill=\"#000000\" fill-rule=\"evenodd\" fill-opacity=\"1\" /><path clip-path=\"url(#clip860)\" d=\"M3558.9 1541.3 Q3555.29 1541.3 3553.46 1544.86 Q3551.66 1548.41 3551.66 1555.54 Q3551.66 1562.64 3553.46 1566.21 Q3555.29 1569.75 3558.9 1569.75 Q3562.54 1569.75 3564.34 1566.21 Q3566.17 1562.64 3566.17 1555.54 Q3566.17 1548.41 3564.34 1544.86 Q3562.54 1541.3 3558.9 1541.3 M3558.9 1537.6 Q3564.71 1537.6 3567.77 1542.2 Q3570.85 1546.79 3570.85 1555.54 Q3570.85 1564.26 3567.77 1568.87 Q3564.71 1573.45 3558.9 1573.45 Q3553.09 1573.45 3550.02 1568.87 Q3546.96 1564.26 3546.96 1555.54 Q3546.96 1546.79 3550.02 1542.2 Q3553.09 1537.6 3558.9 1537.6 Z\" fill=\"#000000\" fill-rule=\"evenodd\" fill-opacity=\"1\" /><path clip-path=\"url(#clip860)\" d=\"M3591.91 1542.29 L3580.11 1560.74 L3591.91 1560.74 L3591.91 1542.29 M3590.69 1538.22 L3596.57 1538.22 L3596.57 1560.74 L3601.5 1560.74 L3601.5 1564.63 L3596.57 1564.63 L3596.57 1572.78 L3591.91 1572.78 L3591.91 1564.63 L3576.31 1564.63 L3576.31 1560.12 L3590.69 1538.22 Z\" fill=\"#000000\" fill-rule=\"evenodd\" fill-opacity=\"1\" /><path clip-path=\"url(#clip860)\" d=\"M3619.23 1556.37 Q3615.9 1556.37 3613.97 1558.15 Q3612.08 1559.93 3612.08 1563.06 Q3612.08 1566.18 3613.97 1567.97 Q3615.9 1569.75 3619.23 1569.75 Q3622.56 1569.75 3624.48 1567.97 Q3626.4 1566.16 3626.4 1563.06 Q3626.4 1559.93 3624.48 1558.15 Q3622.58 1556.37 3619.23 1556.37 M3614.55 1554.38 Q3611.54 1553.64 3609.85 1551.58 Q3608.19 1549.52 3608.19 1546.55 Q3608.19 1542.41 3611.13 1540 Q3614.09 1537.6 3619.23 1537.6 Q3624.39 1537.6 3627.33 1540 Q3630.27 1542.41 3630.27 1546.55 Q3630.27 1549.52 3628.58 1551.58 Q3626.91 1553.64 3623.93 1554.38 Q3627.31 1555.16 3629.18 1557.46 Q3631.08 1559.75 3631.08 1563.06 Q3631.08 1568.08 3628 1570.77 Q3624.95 1573.45 3619.23 1573.45 Q3613.51 1573.45 3610.43 1570.77 Q3607.38 1568.08 3607.38 1563.06 Q3607.38 1559.75 3609.27 1557.46 Q3611.17 1555.16 3614.55 1554.38 M3612.84 1546.99 Q3612.84 1549.68 3614.51 1551.18 Q3616.2 1552.69 3619.23 1552.69 Q3622.24 1552.69 3623.93 1551.18 Q3625.64 1549.68 3625.64 1546.99 Q3625.64 1544.31 3623.93 1542.8 Q3622.24 1541.3 3619.23 1541.3 Q3616.2 1541.3 3614.51 1542.8 Q3612.84 1544.31 3612.84 1546.99 Z\" fill=\"#000000\" fill-rule=\"evenodd\" fill-opacity=\"1\" /><polyline clip-path=\"url(#clip862)\" style=\"stroke:#000000; stroke-linecap:butt; stroke-linejoin:round; stroke-width:2; stroke-opacity:0.1; fill:none\" points=\"\n",
       "  410.666,1458.09 3752.76,1458.09 \n",
       "  \"/>\n",
       "<polyline clip-path=\"url(#clip862)\" style=\"stroke:#000000; stroke-linecap:butt; stroke-linejoin:round; stroke-width:2; stroke-opacity:0.1; fill:none\" points=\"\n",
       "  410.666,88.3366 3752.76,88.3366 \n",
       "  \"/>\n",
       "<polyline clip-path=\"url(#clip860)\" style=\"stroke:#000000; stroke-linecap:butt; stroke-linejoin:round; stroke-width:4; stroke-opacity:1; fill:none\" points=\"\n",
       "  410.666,1499.18 410.666,47.2441 \n",
       "  \"/>\n",
       "<polyline clip-path=\"url(#clip860)\" style=\"stroke:#000000; stroke-linecap:butt; stroke-linejoin:round; stroke-width:4; stroke-opacity:1; fill:none\" points=\"\n",
       "  410.666,1458.09 429.564,1458.09 \n",
       "  \"/>\n",
       "<polyline clip-path=\"url(#clip860)\" style=\"stroke:#000000; stroke-linecap:butt; stroke-linejoin:round; stroke-width:4; stroke-opacity:1; fill:none\" points=\"\n",
       "  410.666,88.3366 429.564,88.3366 \n",
       "  \"/>\n",
       "<path clip-path=\"url(#clip860)\" d=\"M281.167 1443.98 Q276.074 1443.98 273.065 1447.78 Q270.079 1451.57 270.079 1458.12 Q270.079 1464.65 273.065 1468.45 Q276.074 1472.24 281.167 1472.24 Q286.259 1472.24 289.222 1468.45 Q292.208 1464.65 292.208 1458.12 Q292.208 1451.57 289.222 1447.78 Q286.259 1443.98 281.167 1443.98 M281.167 1440.18 Q288.435 1440.18 292.787 1445.07 Q297.139 1449.93 297.139 1458.12 Q297.139 1466.29 292.787 1471.18 Q288.435 1476.04 281.167 1476.04 Q273.875 1476.04 269.5 1471.18 Q265.148 1466.32 265.148 1458.12 Q265.148 1449.93 269.5 1445.07 Q273.875 1440.18 281.167 1440.18 Z\" fill=\"#000000\" fill-rule=\"evenodd\" fill-opacity=\"1\" /><path clip-path=\"url(#clip860)\" d=\"M304.454 1440.81 L309.13 1440.81 L309.13 1471.43 L325.958 1471.43 L325.958 1475.37 L304.454 1475.37 L304.454 1440.81 Z\" fill=\"#000000\" fill-rule=\"evenodd\" fill-opacity=\"1\" /><path clip-path=\"url(#clip860)\" d=\"M351.583 1441.94 L351.583 1446.5 Q348.921 1445.23 346.56 1444.6 Q344.199 1443.98 342 1443.98 Q338.18 1443.98 336.097 1445.46 Q334.037 1446.94 334.037 1449.67 Q334.037 1451.97 335.403 1453.15 Q336.791 1454.3 340.634 1455.02 L343.458 1455.6 Q348.69 1456.59 351.166 1459.12 Q353.666 1461.62 353.666 1465.83 Q353.666 1470.85 350.287 1473.45 Q346.93 1476.04 340.426 1476.04 Q337.972 1476.04 335.194 1475.48 Q332.44 1474.93 329.477 1473.84 L329.477 1469.03 Q332.324 1470.62 335.055 1471.43 Q337.787 1472.24 340.426 1472.24 Q344.43 1472.24 346.606 1470.67 Q348.782 1469.09 348.782 1466.18 Q348.782 1463.63 347.208 1462.2 Q345.657 1460.76 342.092 1460.04 L339.245 1459.49 Q334.014 1458.45 331.676 1456.22 Q329.338 1454 329.338 1450.04 Q329.338 1445.46 332.555 1442.82 Q335.796 1440.18 341.467 1440.18 Q343.898 1440.18 346.421 1440.62 Q348.944 1441.06 351.583 1441.94 Z\" fill=\"#000000\" fill-rule=\"evenodd\" fill-opacity=\"1\" /><path clip-path=\"url(#clip860)\" d=\"M48.668 74.8992 L48.668 101.774 L54.3161 101.774 Q61.4689 101.774 64.7791 98.5333 Q68.1124 95.2926 68.1124 88.3019 Q68.1124 81.3575 64.7791 78.1399 Q61.4689 74.8992 54.3161 74.8992 L48.668 74.8992 M43.9921 71.0566 L53.5986 71.0566 Q63.6448 71.0566 68.3438 75.2464 Q73.0429 79.4131 73.0429 88.3019 Q73.0429 97.237 68.3207 101.427 Q63.5985 105.617 53.5986 105.617 L43.9921 105.617 L43.9921 71.0566 Z\" fill=\"#000000\" fill-rule=\"evenodd\" fill-opacity=\"1\" /><path clip-path=\"url(#clip860)\" d=\"M90.3576 82.6769 Q86.9317 82.6769 84.941 85.3621 Q82.9503 88.0241 82.9503 92.6769 Q82.9503 97.3296 84.9178 100.015 Q86.9086 102.677 90.3576 102.677 Q93.7604 102.677 95.7511 99.9917 Q97.7418 97.3065 97.7418 92.6769 Q97.7418 88.0704 95.7511 85.3853 Q93.7604 82.6769 90.3576 82.6769 M90.3576 79.0659 Q95.9131 79.0659 99.0844 82.6769 Q102.256 86.288 102.256 92.6769 Q102.256 99.0426 99.0844 102.677 Q95.9131 106.288 90.3576 106.288 Q84.7789 106.288 81.6077 102.677 Q78.4595 99.0426 78.4595 92.6769 Q78.4595 86.288 81.6077 82.6769 Q84.7789 79.0659 90.3576 79.0659 Z\" fill=\"#000000\" fill-rule=\"evenodd\" fill-opacity=\"1\" /><path clip-path=\"url(#clip860)\" d=\"M108.876 95.3852 L108.876 79.6908 L113.135 79.6908 L113.135 95.2232 Q113.135 98.9037 114.57 100.756 Q116.006 102.584 118.876 102.584 Q122.325 102.584 124.316 100.385 Q126.33 98.1861 126.33 94.3898 L126.33 79.6908 L130.589 79.6908 L130.589 105.617 L126.33 105.617 L126.33 101.635 Q124.779 103.996 122.719 105.154 Q120.682 106.288 117.973 106.288 Q113.506 106.288 111.191 103.51 Q108.876 100.732 108.876 95.3852 M119.594 79.0659 L119.594 79.0659 Z\" fill=\"#000000\" fill-rule=\"evenodd\" fill-opacity=\"1\" /><path clip-path=\"url(#clip860)\" d=\"M157.973 92.6769 Q157.973 87.9778 156.029 85.3158 Q154.107 82.6306 150.728 82.6306 Q147.348 82.6306 145.404 85.3158 Q143.482 87.9778 143.482 92.6769 Q143.482 97.3759 145.404 100.061 Q147.348 102.723 150.728 102.723 Q154.107 102.723 156.029 100.061 Q157.973 97.3759 157.973 92.6769 M143.482 83.626 Q144.825 81.3112 146.862 80.2001 Q148.922 79.0659 151.769 79.0659 Q156.492 79.0659 159.431 82.8158 Q162.394 86.5658 162.394 92.6769 Q162.394 98.788 159.431 102.538 Q156.492 106.288 151.769 106.288 Q148.922 106.288 146.862 105.177 Q144.825 104.043 143.482 101.728 L143.482 105.617 L139.2 105.617 L139.2 69.5983 L143.482 69.5983 L143.482 83.626 Z\" fill=\"#000000\" fill-rule=\"evenodd\" fill-opacity=\"1\" /><path clip-path=\"url(#clip860)\" d=\"M169.454 69.5983 L173.714 69.5983 L173.714 105.617 L169.454 105.617 L169.454 69.5983 Z\" fill=\"#000000\" fill-rule=\"evenodd\" fill-opacity=\"1\" /><path clip-path=\"url(#clip860)\" d=\"M204.801 91.5889 L204.801 93.6723 L185.218 93.6723 Q185.496 98.0704 187.857 100.385 Q190.241 102.677 194.477 102.677 Q196.931 102.677 199.223 102.075 Q201.538 101.473 203.806 100.269 L203.806 104.297 Q201.514 105.269 199.107 105.779 Q196.7 106.288 194.223 106.288 Q188.019 106.288 184.385 102.677 Q180.774 99.0657 180.774 92.9084 Q180.774 86.5427 184.2 82.8158 Q187.649 79.0659 193.482 79.0659 Q198.714 79.0659 201.746 82.4455 Q204.801 85.8019 204.801 91.5889 M200.542 90.3389 Q200.496 86.8436 198.575 84.7603 Q196.676 82.6769 193.528 82.6769 Q189.964 82.6769 187.811 84.6908 Q185.681 86.7047 185.357 90.3621 L200.542 90.3389 Z\" fill=\"#000000\" fill-rule=\"evenodd\" fill-opacity=\"1\" /><path clip-path=\"url(#clip860)\" d=\"M227.047 71.0566 L231.723 71.0566 L231.723 101.681 L248.551 101.681 L248.551 105.617 L227.047 105.617 L227.047 71.0566 Z\" fill=\"#000000\" fill-rule=\"evenodd\" fill-opacity=\"1\" /><path clip-path=\"url(#clip860)\" d=\"M265.056 92.5843 Q259.894 92.5843 257.903 93.7648 Q255.912 94.9454 255.912 97.7926 Q255.912 100.061 257.394 101.404 Q258.898 102.723 261.468 102.723 Q265.009 102.723 267.139 100.223 Q269.292 97.7 269.292 93.5334 L269.292 92.5843 L265.056 92.5843 M273.551 90.825 L273.551 105.617 L269.292 105.617 L269.292 101.681 Q267.834 104.043 265.658 105.177 Q263.482 106.288 260.334 106.288 Q256.352 106.288 253.991 104.066 Q251.653 101.82 251.653 98.0704 Q251.653 93.6954 254.57 91.4732 Q257.51 89.251 263.32 89.251 L269.292 89.251 L269.292 88.8343 Q269.292 85.8945 267.347 84.2973 Q265.426 82.6769 261.931 82.6769 Q259.709 82.6769 257.602 83.2093 Q255.496 83.7418 253.551 84.8066 L253.551 80.8714 Q255.889 79.9686 258.088 79.5288 Q260.287 79.0659 262.371 79.0659 Q267.996 79.0659 270.773 81.9825 Q273.551 84.8992 273.551 90.825 Z\" fill=\"#000000\" fill-rule=\"evenodd\" fill-opacity=\"1\" /><path clip-path=\"url(#clip860)\" d=\"M298.852 80.4547 L298.852 84.4825 Q297.046 83.5566 295.102 83.0936 Q293.157 82.6306 291.074 82.6306 Q287.903 82.6306 286.306 83.6029 Q284.732 84.5751 284.732 86.5195 Q284.732 88.001 285.866 88.8575 Q287 89.6908 290.426 90.4547 L291.884 90.7788 Q296.421 91.751 298.319 93.5334 Q300.241 95.2926 300.241 98.4639 Q300.241 102.075 297.37 104.181 Q294.523 106.288 289.523 106.288 Q287.44 106.288 285.171 105.871 Q282.926 105.478 280.426 104.668 L280.426 100.269 Q282.787 101.496 285.079 102.121 Q287.37 102.723 289.616 102.723 Q292.625 102.723 294.245 101.705 Q295.866 100.663 295.866 98.788 Q295.866 97.0519 294.685 96.1259 Q293.528 95.2 289.57 94.3435 L288.088 93.9963 Q284.13 93.163 282.37 91.45 Q280.611 89.7139 280.611 86.7047 Q280.611 83.0473 283.204 81.0566 Q285.796 79.0659 290.565 79.0659 Q292.926 79.0659 295.009 79.4131 Q297.093 79.7603 298.852 80.4547 Z\" fill=\"#000000\" fill-rule=\"evenodd\" fill-opacity=\"1\" /><path clip-path=\"url(#clip860)\" d=\"M323.551 80.4547 L323.551 84.4825 Q321.745 83.5566 319.801 83.0936 Q317.856 82.6306 315.773 82.6306 Q312.602 82.6306 311.005 83.6029 Q309.431 84.5751 309.431 86.5195 Q309.431 88.001 310.565 88.8575 Q311.699 89.6908 315.125 90.4547 L316.583 90.7788 Q321.12 91.751 323.018 93.5334 Q324.94 95.2926 324.94 98.4639 Q324.94 102.075 322.069 104.181 Q319.222 106.288 314.222 106.288 Q312.139 106.288 309.87 105.871 Q307.625 105.478 305.125 104.668 L305.125 100.269 Q307.486 101.496 309.778 102.121 Q312.069 102.723 314.315 102.723 Q317.324 102.723 318.944 101.705 Q320.565 100.663 320.565 98.788 Q320.565 97.0519 319.384 96.1259 Q318.227 95.2 314.268 94.3435 L312.787 93.9963 Q308.829 93.163 307.069 91.45 Q305.31 89.7139 305.31 86.7047 Q305.31 83.0473 307.903 81.0566 Q310.495 79.0659 315.264 79.0659 Q317.625 79.0659 319.708 79.4131 Q321.792 79.7603 323.551 80.4547 Z\" fill=\"#000000\" fill-rule=\"evenodd\" fill-opacity=\"1\" /><path clip-path=\"url(#clip860)\" d=\"M341.768 82.6769 Q338.342 82.6769 336.352 85.3621 Q334.361 88.0241 334.361 92.6769 Q334.361 97.3296 336.329 100.015 Q338.319 102.677 341.768 102.677 Q345.171 102.677 347.162 99.9917 Q349.153 97.3065 349.153 92.6769 Q349.153 88.0704 347.162 85.3853 Q345.171 82.6769 341.768 82.6769 M341.768 79.0659 Q347.324 79.0659 350.495 82.6769 Q353.666 86.288 353.666 92.6769 Q353.666 99.0426 350.495 102.677 Q347.324 106.288 341.768 106.288 Q336.19 106.288 333.018 102.677 Q329.87 99.0426 329.87 92.6769 Q329.87 86.288 333.018 82.6769 Q336.19 79.0659 341.768 79.0659 Z\" fill=\"#000000\" fill-rule=\"evenodd\" fill-opacity=\"1\" /><polyline clip-path=\"url(#clip862)\" style=\"stroke:#000000; stroke-linecap:butt; stroke-linejoin:round; stroke-width:4; stroke-opacity:1; fill:none\" stroke-dasharray=\"16, 10\" points=\"\n",
       "  735.367,1458.09 3658.17,1458.09 \n",
       "  \"/>\n",
       "<polyline clip-path=\"url(#clip862)\" style=\"stroke:#000000; stroke-linecap:butt; stroke-linejoin:round; stroke-width:4; stroke-opacity:1; fill:none\" stroke-dasharray=\"16, 10\" points=\"\n",
       "  505.254,88.3366 1948.92,88.3366 \n",
       "  \"/>\n",
       "<line clip-path=\"url(#clip862)\" x1=\"735.367\" y1=\"1474.09\" x2=\"735.367\" y2=\"1442.09\" style=\"stroke:#000000; stroke-width:3.2; stroke-opacity:1\"/>\n",
       "<line clip-path=\"url(#clip862)\" x1=\"3658.17\" y1=\"1474.09\" x2=\"3658.17\" y2=\"1442.09\" style=\"stroke:#000000; stroke-width:3.2; stroke-opacity:1\"/>\n",
       "<line clip-path=\"url(#clip862)\" x1=\"505.254\" y1=\"104.337\" x2=\"505.254\" y2=\"72.3366\" style=\"stroke:#000000; stroke-width:3.2; stroke-opacity:1\"/>\n",
       "<line clip-path=\"url(#clip862)\" x1=\"1948.92\" y1=\"104.337\" x2=\"1948.92\" y2=\"72.3366\" style=\"stroke:#000000; stroke-width:3.2; stroke-opacity:1\"/>\n",
       "<circle clip-path=\"url(#clip862)\" cx=\"2196.77\" cy=\"1458.09\" r=\"14\" fill=\"#ffa500\" fill-rule=\"evenodd\" fill-opacity=\"1\" stroke=\"#000000\" stroke-opacity=\"1\" stroke-width=\"3.2\"/>\n",
       "<circle clip-path=\"url(#clip862)\" cx=\"1227.09\" cy=\"88.3366\" r=\"14\" fill=\"#ffa500\" fill-rule=\"evenodd\" fill-opacity=\"1\" stroke=\"#000000\" stroke-opacity=\"1\" stroke-width=\"3.2\"/>\n",
       "<path clip-path=\"url(#clip860)\" d=\"\n",
       "M3045.94 199.322 L3641.35 199.322 L3641.35 95.642 L3045.94 95.642  Z\n",
       "  \" fill=\"#ffffff\" fill-rule=\"evenodd\" fill-opacity=\"1\"/>\n",
       "<polyline clip-path=\"url(#clip860)\" style=\"stroke:#000000; stroke-linecap:butt; stroke-linejoin:round; stroke-width:4; stroke-opacity:1; fill:none\" points=\"\n",
       "  3045.94,199.322 3641.35,199.322 3641.35,95.642 3045.94,95.642 3045.94,199.322 \n",
       "  \"/>\n",
       "<circle clip-path=\"url(#clip860)\" cx=\"3194.47\" cy=\"147.482\" r=\"23\" fill=\"#ffa500\" fill-rule=\"evenodd\" fill-opacity=\"1\" stroke=\"#000000\" stroke-opacity=\"1\" stroke-width=\"5.12\"/>\n",
       "<path clip-path=\"url(#clip860)\" d=\"M3343.01 130.202 L3364.86 130.202 L3364.86 134.137 L3347.69 134.137 L3347.69 144.369 L3364.15 144.369 L3364.15 148.304 L3347.69 148.304 L3347.69 160.827 L3365.28 160.827 L3365.28 164.762 L3343.01 164.762 L3343.01 130.202 Z\" fill=\"#000000\" fill-rule=\"evenodd\" fill-opacity=\"1\" /><path clip-path=\"url(#clip860)\" d=\"M3389.31 139.6 L3389.31 143.628 Q3387.5 142.702 3385.56 142.239 Q3383.61 141.776 3381.53 141.776 Q3378.36 141.776 3376.76 142.748 Q3375.19 143.72 3375.19 145.665 Q3375.19 147.146 3376.32 148.003 Q3377.46 148.836 3380.88 149.6 L3382.34 149.924 Q3386.88 150.896 3388.78 152.679 Q3390.7 154.438 3390.7 157.609 Q3390.7 161.22 3387.83 163.327 Q3384.98 165.433 3379.98 165.433 Q3377.9 165.433 3375.63 165.017 Q3373.38 164.623 3370.88 163.813 L3370.88 159.415 Q3373.24 160.642 3375.53 161.267 Q3377.83 161.868 3380.07 161.868 Q3383.08 161.868 3384.7 160.85 Q3386.32 159.808 3386.32 157.933 Q3386.32 156.197 3385.14 155.271 Q3383.98 154.345 3380.03 153.489 L3378.54 153.142 Q3374.59 152.308 3372.83 150.595 Q3371.07 148.859 3371.07 145.85 Q3371.07 142.193 3373.66 140.202 Q3376.25 138.211 3381.02 138.211 Q3383.38 138.211 3385.46 138.558 Q3387.55 138.906 3389.31 139.6 Z\" fill=\"#000000\" fill-rule=\"evenodd\" fill-opacity=\"1\" /><path clip-path=\"url(#clip860)\" d=\"M3401.69 131.475 L3401.69 138.836 L3410.46 138.836 L3410.46 142.146 L3401.69 142.146 L3401.69 156.22 Q3401.69 159.392 3402.55 160.294 Q3403.43 161.197 3406.09 161.197 L3410.46 161.197 L3410.46 164.762 L3406.09 164.762 Q3401.16 164.762 3399.28 162.933 Q3397.41 161.081 3397.41 156.22 L3397.41 142.146 L3394.28 142.146 L3394.28 138.836 L3397.41 138.836 L3397.41 131.475 L3401.69 131.475 Z\" fill=\"#000000\" fill-rule=\"evenodd\" fill-opacity=\"1\" /><path clip-path=\"url(#clip860)\" d=\"M3416.07 138.836 L3420.33 138.836 L3420.33 164.762 L3416.07 164.762 L3416.07 138.836 M3416.07 128.744 L3420.33 128.744 L3420.33 134.137 L3416.07 134.137 L3416.07 128.744 Z\" fill=\"#000000\" fill-rule=\"evenodd\" fill-opacity=\"1\" /><path clip-path=\"url(#clip860)\" d=\"M3449.42 143.813 Q3451.02 140.943 3453.24 139.577 Q3455.46 138.211 3458.47 138.211 Q3462.52 138.211 3464.72 141.058 Q3466.92 143.882 3466.92 149.114 L3466.92 164.762 L3462.64 164.762 L3462.64 149.253 Q3462.64 145.526 3461.32 143.72 Q3460 141.915 3457.29 141.915 Q3453.98 141.915 3452.06 144.114 Q3450.14 146.313 3450.14 150.109 L3450.14 164.762 L3445.86 164.762 L3445.86 149.253 Q3445.86 145.503 3444.54 143.72 Q3443.22 141.915 3440.46 141.915 Q3437.2 141.915 3435.28 144.137 Q3433.36 146.336 3433.36 150.109 L3433.36 164.762 L3429.08 164.762 L3429.08 138.836 L3433.36 138.836 L3433.36 142.864 Q3434.82 140.48 3436.85 139.345 Q3438.89 138.211 3441.69 138.211 Q3444.52 138.211 3446.48 139.646 Q3448.47 141.082 3449.42 143.813 Z\" fill=\"#000000\" fill-rule=\"evenodd\" fill-opacity=\"1\" /><path clip-path=\"url(#clip860)\" d=\"M3487.2 151.73 Q3482.04 151.73 3480.05 152.91 Q3478.06 154.091 3478.06 156.938 Q3478.06 159.206 3479.54 160.549 Q3481.04 161.868 3483.61 161.868 Q3487.15 161.868 3489.28 159.368 Q3491.44 156.845 3491.44 152.679 L3491.44 151.73 L3487.2 151.73 M3495.7 149.97 L3495.7 164.762 L3491.44 164.762 L3491.44 160.827 Q3489.98 163.188 3487.8 164.322 Q3485.63 165.433 3482.48 165.433 Q3478.5 165.433 3476.14 163.211 Q3473.8 160.966 3473.8 157.216 Q3473.8 152.841 3476.71 150.619 Q3479.65 148.396 3485.46 148.396 L3491.44 148.396 L3491.44 147.98 Q3491.44 145.04 3489.49 143.443 Q3487.57 141.822 3484.08 141.822 Q3481.85 141.822 3479.75 142.355 Q3477.64 142.887 3475.7 143.952 L3475.7 140.017 Q3478.03 139.114 3480.23 138.674 Q3482.43 138.211 3484.52 138.211 Q3490.14 138.211 3492.92 141.128 Q3495.7 144.044 3495.7 149.97 Z\" fill=\"#000000\" fill-rule=\"evenodd\" fill-opacity=\"1\" /><path clip-path=\"url(#clip860)\" d=\"M3508.68 131.475 L3508.68 138.836 L3517.45 138.836 L3517.45 142.146 L3508.68 142.146 L3508.68 156.22 Q3508.68 159.392 3509.54 160.294 Q3510.42 161.197 3513.08 161.197 L3517.45 161.197 L3517.45 164.762 L3513.08 164.762 Q3508.15 164.762 3506.27 162.933 Q3504.4 161.081 3504.4 156.22 L3504.4 142.146 L3501.27 142.146 L3501.27 138.836 L3504.4 138.836 L3504.4 131.475 L3508.68 131.475 Z\" fill=\"#000000\" fill-rule=\"evenodd\" fill-opacity=\"1\" /><path clip-path=\"url(#clip860)\" d=\"M3533.1 141.822 Q3529.68 141.822 3527.69 144.507 Q3525.7 147.169 3525.7 151.822 Q3525.7 156.475 3527.66 159.16 Q3529.65 161.822 3533.1 161.822 Q3536.51 161.822 3538.5 159.137 Q3540.49 156.452 3540.49 151.822 Q3540.49 147.216 3538.5 144.531 Q3536.51 141.822 3533.1 141.822 M3533.1 138.211 Q3538.66 138.211 3541.83 141.822 Q3545 145.433 3545 151.822 Q3545 158.188 3541.83 161.822 Q3538.66 165.433 3533.1 165.433 Q3527.52 165.433 3524.35 161.822 Q3521.2 158.188 3521.2 151.822 Q3521.2 145.433 3524.35 141.822 Q3527.52 138.211 3533.1 138.211 Z\" fill=\"#000000\" fill-rule=\"evenodd\" fill-opacity=\"1\" /><path clip-path=\"url(#clip860)\" d=\"M3567.08 142.818 Q3566.37 142.401 3565.51 142.216 Q3564.68 142.007 3563.66 142.007 Q3560.05 142.007 3558.1 144.369 Q3556.18 146.707 3556.18 151.105 L3556.18 164.762 L3551.9 164.762 L3551.9 138.836 L3556.18 138.836 L3556.18 142.864 Q3557.52 140.503 3559.68 139.369 Q3561.83 138.211 3564.91 138.211 Q3565.35 138.211 3565.88 138.281 Q3566.41 138.327 3567.06 138.443 L3567.08 142.818 Z\" fill=\"#000000\" fill-rule=\"evenodd\" fill-opacity=\"1\" /></svg>\n"
      ]
     },
     "execution_count": 67,
=======
       "  <clipPath id=\"clip760\">\n",
       "    <rect x=\"0\" y=\"0\" width=\"3800\" height=\"1600\"/>\n",
       "  </clipPath>\n",
       "</defs>\n",
       "<path clip-path=\"url(#clip760)\" d=\"\n",
       "M0 1600 L3800 1600 L3800 0 L0 0  Z\n",
       "  \" fill=\"#ffffff\" fill-rule=\"evenodd\" fill-opacity=\"1\"/>\n",
       "<defs>\n",
       "  <clipPath id=\"clip761\">\n",
       "    <rect x=\"760\" y=\"0\" width=\"2661\" height=\"1600\"/>\n",
       "  </clipPath>\n",
       "</defs>\n",
       "<path clip-path=\"url(#clip760)\" d=\"\n",
       "M410.666 1499.18 L3752.76 1499.18 L3752.76 47.2441 L410.666 47.2441  Z\n",
       "  \" fill=\"#ffffff\" fill-rule=\"evenodd\" fill-opacity=\"1\"/>\n",
       "<defs>\n",
       "  <clipPath id=\"clip762\">\n",
       "    <rect x=\"410\" y=\"47\" width=\"3343\" height=\"1453\"/>\n",
       "  </clipPath>\n",
       "</defs>\n",
       "<polyline clip-path=\"url(#clip762)\" style=\"stroke:#000000; stroke-linecap:butt; stroke-linejoin:round; stroke-width:2; stroke-opacity:0.1; fill:none\" points=\"\n",
       "  631.413,1499.18 631.413,47.2441 \n",
       "  \"/>\n",
       "<polyline clip-path=\"url(#clip762)\" style=\"stroke:#000000; stroke-linecap:butt; stroke-linejoin:round; stroke-width:2; stroke-opacity:0.1; fill:none\" points=\"\n",
       "  883.642,1499.18 883.642,47.2441 \n",
       "  \"/>\n",
       "<polyline clip-path=\"url(#clip762)\" style=\"stroke:#000000; stroke-linecap:butt; stroke-linejoin:round; stroke-width:2; stroke-opacity:0.1; fill:none\" points=\"\n",
       "  1135.87,1499.18 1135.87,47.2441 \n",
       "  \"/>\n",
       "<polyline clip-path=\"url(#clip762)\" style=\"stroke:#000000; stroke-linecap:butt; stroke-linejoin:round; stroke-width:2; stroke-opacity:0.1; fill:none\" points=\"\n",
       "  1388.1,1499.18 1388.1,47.2441 \n",
       "  \"/>\n",
       "<polyline clip-path=\"url(#clip762)\" style=\"stroke:#000000; stroke-linecap:butt; stroke-linejoin:round; stroke-width:2; stroke-opacity:0.1; fill:none\" points=\"\n",
       "  1640.33,1499.18 1640.33,47.2441 \n",
       "  \"/>\n",
       "<polyline clip-path=\"url(#clip762)\" style=\"stroke:#000000; stroke-linecap:butt; stroke-linejoin:round; stroke-width:2; stroke-opacity:0.1; fill:none\" points=\"\n",
       "  1892.56,1499.18 1892.56,47.2441 \n",
       "  \"/>\n",
       "<polyline clip-path=\"url(#clip762)\" style=\"stroke:#000000; stroke-linecap:butt; stroke-linejoin:round; stroke-width:2; stroke-opacity:0.1; fill:none\" points=\"\n",
       "  2144.79,1499.18 2144.79,47.2441 \n",
       "  \"/>\n",
       "<polyline clip-path=\"url(#clip762)\" style=\"stroke:#000000; stroke-linecap:butt; stroke-linejoin:round; stroke-width:2; stroke-opacity:0.1; fill:none\" points=\"\n",
       "  2397.02,1499.18 2397.02,47.2441 \n",
       "  \"/>\n",
       "<polyline clip-path=\"url(#clip762)\" style=\"stroke:#000000; stroke-linecap:butt; stroke-linejoin:round; stroke-width:2; stroke-opacity:0.1; fill:none\" points=\"\n",
       "  2649.25,1499.18 2649.25,47.2441 \n",
       "  \"/>\n",
       "<polyline clip-path=\"url(#clip762)\" style=\"stroke:#000000; stroke-linecap:butt; stroke-linejoin:round; stroke-width:2; stroke-opacity:0.1; fill:none\" points=\"\n",
       "  2901.48,1499.18 2901.48,47.2441 \n",
       "  \"/>\n",
       "<polyline clip-path=\"url(#clip762)\" style=\"stroke:#000000; stroke-linecap:butt; stroke-linejoin:round; stroke-width:2; stroke-opacity:0.1; fill:none\" points=\"\n",
       "  3153.71,1499.18 3153.71,47.2441 \n",
       "  \"/>\n",
       "<polyline clip-path=\"url(#clip762)\" style=\"stroke:#000000; stroke-linecap:butt; stroke-linejoin:round; stroke-width:2; stroke-opacity:0.1; fill:none\" points=\"\n",
       "  3405.94,1499.18 3405.94,47.2441 \n",
       "  \"/>\n",
       "<polyline clip-path=\"url(#clip762)\" style=\"stroke:#000000; stroke-linecap:butt; stroke-linejoin:round; stroke-width:2; stroke-opacity:0.1; fill:none\" points=\"\n",
       "  3658.17,1499.18 3658.17,47.2441 \n",
       "  \"/>\n",
       "<polyline clip-path=\"url(#clip760)\" style=\"stroke:#000000; stroke-linecap:butt; stroke-linejoin:round; stroke-width:4; stroke-opacity:1; fill:none\" points=\"\n",
       "  410.666,1499.18 3752.76,1499.18 \n",
       "  \"/>\n",
       "<polyline clip-path=\"url(#clip760)\" style=\"stroke:#000000; stroke-linecap:butt; stroke-linejoin:round; stroke-width:4; stroke-opacity:1; fill:none\" points=\"\n",
       "  631.413,1499.18 631.413,1480.28 \n",
       "  \"/>\n",
       "<polyline clip-path=\"url(#clip760)\" style=\"stroke:#000000; stroke-linecap:butt; stroke-linejoin:round; stroke-width:4; stroke-opacity:1; fill:none\" points=\"\n",
       "  883.642,1499.18 883.642,1480.28 \n",
       "  \"/>\n",
       "<polyline clip-path=\"url(#clip760)\" style=\"stroke:#000000; stroke-linecap:butt; stroke-linejoin:round; stroke-width:4; stroke-opacity:1; fill:none\" points=\"\n",
       "  1135.87,1499.18 1135.87,1480.28 \n",
       "  \"/>\n",
       "<polyline clip-path=\"url(#clip760)\" style=\"stroke:#000000; stroke-linecap:butt; stroke-linejoin:round; stroke-width:4; stroke-opacity:1; fill:none\" points=\"\n",
       "  1388.1,1499.18 1388.1,1480.28 \n",
       "  \"/>\n",
       "<polyline clip-path=\"url(#clip760)\" style=\"stroke:#000000; stroke-linecap:butt; stroke-linejoin:round; stroke-width:4; stroke-opacity:1; fill:none\" points=\"\n",
       "  1640.33,1499.18 1640.33,1480.28 \n",
       "  \"/>\n",
       "<polyline clip-path=\"url(#clip760)\" style=\"stroke:#000000; stroke-linecap:butt; stroke-linejoin:round; stroke-width:4; stroke-opacity:1; fill:none\" points=\"\n",
       "  1892.56,1499.18 1892.56,1480.28 \n",
       "  \"/>\n",
       "<polyline clip-path=\"url(#clip760)\" style=\"stroke:#000000; stroke-linecap:butt; stroke-linejoin:round; stroke-width:4; stroke-opacity:1; fill:none\" points=\"\n",
       "  2144.79,1499.18 2144.79,1480.28 \n",
       "  \"/>\n",
       "<polyline clip-path=\"url(#clip760)\" style=\"stroke:#000000; stroke-linecap:butt; stroke-linejoin:round; stroke-width:4; stroke-opacity:1; fill:none\" points=\"\n",
       "  2397.02,1499.18 2397.02,1480.28 \n",
       "  \"/>\n",
       "<polyline clip-path=\"url(#clip760)\" style=\"stroke:#000000; stroke-linecap:butt; stroke-linejoin:round; stroke-width:4; stroke-opacity:1; fill:none\" points=\"\n",
       "  2649.25,1499.18 2649.25,1480.28 \n",
       "  \"/>\n",
       "<polyline clip-path=\"url(#clip760)\" style=\"stroke:#000000; stroke-linecap:butt; stroke-linejoin:round; stroke-width:4; stroke-opacity:1; fill:none\" points=\"\n",
       "  2901.48,1499.18 2901.48,1480.28 \n",
       "  \"/>\n",
       "<polyline clip-path=\"url(#clip760)\" style=\"stroke:#000000; stroke-linecap:butt; stroke-linejoin:round; stroke-width:4; stroke-opacity:1; fill:none\" points=\"\n",
       "  3153.71,1499.18 3153.71,1480.28 \n",
       "  \"/>\n",
       "<polyline clip-path=\"url(#clip760)\" style=\"stroke:#000000; stroke-linecap:butt; stroke-linejoin:round; stroke-width:4; stroke-opacity:1; fill:none\" points=\"\n",
       "  3405.94,1499.18 3405.94,1480.28 \n",
       "  \"/>\n",
       "<polyline clip-path=\"url(#clip760)\" style=\"stroke:#000000; stroke-linecap:butt; stroke-linejoin:round; stroke-width:4; stroke-opacity:1; fill:none\" points=\"\n",
       "  3658.17,1499.18 3658.17,1480.28 \n",
       "  \"/>\n",
       "<path clip-path=\"url(#clip760)\" d=\"M547.698 1555.95 L577.374 1555.95 L577.374 1559.89 L547.698 1559.89 L547.698 1555.95 Z\" fill=\"#000000\" fill-rule=\"evenodd\" fill-opacity=\"1\" /><path clip-path=\"url(#clip760)\" d=\"M597.466 1541.3 Q593.855 1541.3 592.026 1544.86 Q590.221 1548.41 590.221 1555.54 Q590.221 1562.64 592.026 1566.21 Q593.855 1569.75 597.466 1569.75 Q601.1 1569.75 602.906 1566.21 Q604.735 1562.64 604.735 1555.54 Q604.735 1548.41 602.906 1544.86 Q601.1 1541.3 597.466 1541.3 M597.466 1537.6 Q603.276 1537.6 606.332 1542.2 Q609.411 1546.79 609.411 1555.54 Q609.411 1564.26 606.332 1568.87 Q603.276 1573.45 597.466 1573.45 Q591.656 1573.45 588.577 1568.87 Q585.522 1564.26 585.522 1555.54 Q585.522 1546.79 588.577 1542.2 Q591.656 1537.6 597.466 1537.6 Z\" fill=\"#000000\" fill-rule=\"evenodd\" fill-opacity=\"1\" /><path clip-path=\"url(#clip760)\" d=\"M617.628 1566.9 L622.512 1566.9 L622.512 1572.78 L617.628 1572.78 L617.628 1566.9 Z\" fill=\"#000000\" fill-rule=\"evenodd\" fill-opacity=\"1\" /><path clip-path=\"url(#clip760)\" d=\"M642.697 1541.3 Q639.086 1541.3 637.258 1544.86 Q635.452 1548.41 635.452 1555.54 Q635.452 1562.64 637.258 1566.21 Q639.086 1569.75 642.697 1569.75 Q646.332 1569.75 648.137 1566.21 Q649.966 1562.64 649.966 1555.54 Q649.966 1548.41 648.137 1544.86 Q646.332 1541.3 642.697 1541.3 M642.697 1537.6 Q648.508 1537.6 651.563 1542.2 Q654.642 1546.79 654.642 1555.54 Q654.642 1564.26 651.563 1568.87 Q648.508 1573.45 642.697 1573.45 Q636.887 1573.45 633.809 1568.87 Q630.753 1564.26 630.753 1555.54 Q630.753 1546.79 633.809 1542.2 Q636.887 1537.6 642.697 1537.6 Z\" fill=\"#000000\" fill-rule=\"evenodd\" fill-opacity=\"1\" /><path clip-path=\"url(#clip760)\" d=\"M662.998 1572.06 L662.998 1567.8 Q664.757 1568.64 666.563 1569.08 Q668.369 1569.52 670.105 1569.52 Q674.734 1569.52 677.165 1566.41 Q679.619 1563.29 679.966 1556.95 Q678.623 1558.94 676.563 1560 Q674.503 1561.07 672.003 1561.07 Q666.818 1561.07 663.785 1557.94 Q660.776 1554.79 660.776 1549.35 Q660.776 1544.03 663.924 1540.81 Q667.072 1537.6 672.304 1537.6 Q678.299 1537.6 681.447 1542.2 Q684.618 1546.79 684.618 1555.54 Q684.618 1563.71 680.73 1568.59 Q676.864 1573.45 670.313 1573.45 Q668.554 1573.45 666.748 1573.1 Q664.943 1572.76 662.998 1572.06 M672.304 1557.41 Q675.452 1557.41 677.281 1555.26 Q679.132 1553.1 679.132 1549.35 Q679.132 1545.63 677.281 1543.48 Q675.452 1541.3 672.304 1541.3 Q669.156 1541.3 667.304 1543.48 Q665.475 1545.63 665.475 1549.35 Q665.475 1553.1 667.304 1555.26 Q669.156 1557.41 672.304 1557.41 Z\" fill=\"#000000\" fill-rule=\"evenodd\" fill-opacity=\"1\" /><path clip-path=\"url(#clip760)\" d=\"M703.6 1553.64 Q700.452 1553.64 698.6 1555.79 Q696.771 1557.94 696.771 1561.69 Q696.771 1565.42 698.6 1567.6 Q700.452 1569.75 703.6 1569.75 Q706.748 1569.75 708.577 1567.6 Q710.429 1565.42 710.429 1561.69 Q710.429 1557.94 708.577 1555.79 Q706.748 1553.64 703.6 1553.64 M712.882 1538.98 L712.882 1543.24 Q711.123 1542.41 709.317 1541.97 Q707.535 1541.53 705.776 1541.53 Q701.146 1541.53 698.692 1544.66 Q696.262 1547.78 695.915 1554.1 Q697.28 1552.09 699.341 1551.02 Q701.401 1549.93 703.878 1549.93 Q709.086 1549.93 712.095 1553.1 Q715.128 1556.25 715.128 1561.69 Q715.128 1567.02 711.979 1570.23 Q708.831 1573.45 703.6 1573.45 Q697.605 1573.45 694.433 1568.87 Q691.262 1564.26 691.262 1555.54 Q691.262 1547.34 695.151 1542.48 Q699.04 1537.6 705.591 1537.6 Q707.35 1537.6 709.132 1537.94 Q710.938 1538.29 712.882 1538.98 Z\" fill=\"#000000\" fill-rule=\"evenodd\" fill-opacity=\"1\" /><path clip-path=\"url(#clip760)\" d=\"M800.055 1555.95 L829.731 1555.95 L829.731 1559.89 L800.055 1559.89 L800.055 1555.95 Z\" fill=\"#000000\" fill-rule=\"evenodd\" fill-opacity=\"1\" /><path clip-path=\"url(#clip760)\" d=\"M849.823 1541.3 Q846.212 1541.3 844.383 1544.86 Q842.578 1548.41 842.578 1555.54 Q842.578 1562.64 844.383 1566.21 Q846.212 1569.75 849.823 1569.75 Q853.457 1569.75 855.263 1566.21 Q857.092 1562.64 857.092 1555.54 Q857.092 1548.41 855.263 1544.86 Q853.457 1541.3 849.823 1541.3 M849.823 1537.6 Q855.633 1537.6 858.689 1542.2 Q861.768 1546.79 861.768 1555.54 Q861.768 1564.26 858.689 1568.87 Q855.633 1573.45 849.823 1573.45 Q844.013 1573.45 840.934 1568.87 Q837.879 1564.26 837.879 1555.54 Q837.879 1546.79 840.934 1542.2 Q844.013 1537.6 849.823 1537.6 Z\" fill=\"#000000\" fill-rule=\"evenodd\" fill-opacity=\"1\" /><path clip-path=\"url(#clip760)\" d=\"M869.985 1566.9 L874.869 1566.9 L874.869 1572.78 L869.985 1572.78 L869.985 1566.9 Z\" fill=\"#000000\" fill-rule=\"evenodd\" fill-opacity=\"1\" /><path clip-path=\"url(#clip760)\" d=\"M895.054 1541.3 Q891.443 1541.3 889.615 1544.86 Q887.809 1548.41 887.809 1555.54 Q887.809 1562.64 889.615 1566.21 Q891.443 1569.75 895.054 1569.75 Q898.689 1569.75 900.494 1566.21 Q902.323 1562.64 902.323 1555.54 Q902.323 1548.41 900.494 1544.86 Q898.689 1541.3 895.054 1541.3 M895.054 1537.6 Q900.865 1537.6 903.92 1542.2 Q906.999 1546.79 906.999 1555.54 Q906.999 1564.26 903.92 1568.87 Q900.865 1573.45 895.054 1573.45 Q889.244 1573.45 886.166 1568.87 Q883.11 1564.26 883.11 1555.54 Q883.11 1546.79 886.166 1542.2 Q889.244 1537.6 895.054 1537.6 Z\" fill=\"#000000\" fill-rule=\"evenodd\" fill-opacity=\"1\" /><path clip-path=\"url(#clip760)\" d=\"M925.216 1556.37 Q921.883 1556.37 919.962 1558.15 Q918.063 1559.93 918.063 1563.06 Q918.063 1566.18 919.962 1567.97 Q921.883 1569.75 925.216 1569.75 Q928.55 1569.75 930.471 1567.97 Q932.392 1566.16 932.392 1563.06 Q932.392 1559.93 930.471 1558.15 Q928.573 1556.37 925.216 1556.37 M920.54 1554.38 Q917.531 1553.64 915.841 1551.58 Q914.175 1549.52 914.175 1546.55 Q914.175 1542.41 917.114 1540 Q920.077 1537.6 925.216 1537.6 Q930.378 1537.6 933.318 1540 Q936.258 1542.41 936.258 1546.55 Q936.258 1549.52 934.568 1551.58 Q932.901 1553.64 929.915 1554.38 Q933.295 1555.16 935.17 1557.46 Q937.068 1559.75 937.068 1563.06 Q937.068 1568.08 933.989 1570.77 Q930.934 1573.45 925.216 1573.45 Q919.499 1573.45 916.42 1570.77 Q913.364 1568.08 913.364 1563.06 Q913.364 1559.75 915.263 1557.46 Q917.161 1555.16 920.54 1554.38 M918.827 1546.99 Q918.827 1549.68 920.494 1551.18 Q922.184 1552.69 925.216 1552.69 Q928.225 1552.69 929.915 1551.18 Q931.628 1549.68 931.628 1546.99 Q931.628 1544.31 929.915 1542.8 Q928.225 1541.3 925.216 1541.3 Q922.184 1541.3 920.494 1542.8 Q918.827 1544.31 918.827 1546.99 Z\" fill=\"#000000\" fill-rule=\"evenodd\" fill-opacity=\"1\" /><path clip-path=\"url(#clip760)\" d=\"M955.378 1556.37 Q952.045 1556.37 950.124 1558.15 Q948.225 1559.93 948.225 1563.06 Q948.225 1566.18 950.124 1567.97 Q952.045 1569.75 955.378 1569.75 Q958.711 1569.75 960.633 1567.97 Q962.554 1566.16 962.554 1563.06 Q962.554 1559.93 960.633 1558.15 Q958.735 1556.37 955.378 1556.37 M950.702 1554.38 Q947.693 1553.64 946.003 1551.58 Q944.337 1549.52 944.337 1546.55 Q944.337 1542.41 947.276 1540 Q950.239 1537.6 955.378 1537.6 Q960.54 1537.6 963.48 1540 Q966.42 1542.41 966.42 1546.55 Q966.42 1549.52 964.73 1551.58 Q963.063 1553.64 960.077 1554.38 Q963.457 1555.16 965.332 1557.46 Q967.23 1559.75 967.23 1563.06 Q967.23 1568.08 964.151 1570.77 Q961.096 1573.45 955.378 1573.45 Q949.661 1573.45 946.582 1570.77 Q943.526 1568.08 943.526 1563.06 Q943.526 1559.75 945.424 1557.46 Q947.323 1555.16 950.702 1554.38 M948.989 1546.99 Q948.989 1549.68 950.656 1551.18 Q952.346 1552.69 955.378 1552.69 Q958.387 1552.69 960.077 1551.18 Q961.79 1549.68 961.79 1546.99 Q961.79 1544.31 960.077 1542.8 Q958.387 1541.3 955.378 1541.3 Q952.346 1541.3 950.656 1542.8 Q948.989 1544.31 948.989 1546.99 Z\" fill=\"#000000\" fill-rule=\"evenodd\" fill-opacity=\"1\" /><path clip-path=\"url(#clip760)\" d=\"M1052.24 1555.95 L1081.91 1555.95 L1081.91 1559.89 L1052.24 1559.89 L1052.24 1555.95 Z\" fill=\"#000000\" fill-rule=\"evenodd\" fill-opacity=\"1\" /><path clip-path=\"url(#clip760)\" d=\"M1102.01 1541.3 Q1098.4 1541.3 1096.57 1544.86 Q1094.76 1548.41 1094.76 1555.54 Q1094.76 1562.64 1096.57 1566.21 Q1098.4 1569.75 1102.01 1569.75 Q1105.64 1569.75 1107.45 1566.21 Q1109.27 1562.64 1109.27 1555.54 Q1109.27 1548.41 1107.45 1544.86 Q1105.64 1541.3 1102.01 1541.3 M1102.01 1537.6 Q1107.82 1537.6 1110.87 1542.2 Q1113.95 1546.79 1113.95 1555.54 Q1113.95 1564.26 1110.87 1568.87 Q1107.82 1573.45 1102.01 1573.45 Q1096.2 1573.45 1093.12 1568.87 Q1090.06 1564.26 1090.06 1555.54 Q1090.06 1546.79 1093.12 1542.2 Q1096.2 1537.6 1102.01 1537.6 Z\" fill=\"#000000\" fill-rule=\"evenodd\" fill-opacity=\"1\" /><path clip-path=\"url(#clip760)\" d=\"M1122.17 1566.9 L1127.05 1566.9 L1127.05 1572.78 L1122.17 1572.78 L1122.17 1566.9 Z\" fill=\"#000000\" fill-rule=\"evenodd\" fill-opacity=\"1\" /><path clip-path=\"url(#clip760)\" d=\"M1147.24 1541.3 Q1143.63 1541.3 1141.8 1544.86 Q1139.99 1548.41 1139.99 1555.54 Q1139.99 1562.64 1141.8 1566.21 Q1143.63 1569.75 1147.24 1569.75 Q1150.87 1569.75 1152.68 1566.21 Q1154.51 1562.64 1154.51 1555.54 Q1154.51 1548.41 1152.68 1544.86 Q1150.87 1541.3 1147.24 1541.3 M1147.24 1537.6 Q1153.05 1537.6 1156.1 1542.2 Q1159.18 1546.79 1159.18 1555.54 Q1159.18 1564.26 1156.1 1568.87 Q1153.05 1573.45 1147.24 1573.45 Q1141.43 1573.45 1138.35 1568.87 Q1135.29 1564.26 1135.29 1555.54 Q1135.29 1546.79 1138.35 1542.2 Q1141.43 1537.6 1147.24 1537.6 Z\" fill=\"#000000\" fill-rule=\"evenodd\" fill-opacity=\"1\" /><path clip-path=\"url(#clip760)\" d=\"M1177.4 1556.37 Q1174.07 1556.37 1172.14 1558.15 Q1170.25 1559.93 1170.25 1563.06 Q1170.25 1566.18 1172.14 1567.97 Q1174.07 1569.75 1177.4 1569.75 Q1180.73 1569.75 1182.65 1567.97 Q1184.58 1566.16 1184.58 1563.06 Q1184.58 1559.93 1182.65 1558.15 Q1180.76 1556.37 1177.4 1556.37 M1172.72 1554.38 Q1169.71 1553.64 1168.02 1551.58 Q1166.36 1549.52 1166.36 1546.55 Q1166.36 1542.41 1169.3 1540 Q1172.26 1537.6 1177.4 1537.6 Q1182.56 1537.6 1185.5 1540 Q1188.44 1542.41 1188.44 1546.55 Q1188.44 1549.52 1186.75 1551.58 Q1185.08 1553.64 1182.1 1554.38 Q1185.48 1555.16 1187.35 1557.46 Q1189.25 1559.75 1189.25 1563.06 Q1189.25 1568.08 1186.17 1570.77 Q1183.12 1573.45 1177.4 1573.45 Q1171.68 1573.45 1168.6 1570.77 Q1165.55 1568.08 1165.55 1563.06 Q1165.55 1559.75 1167.45 1557.46 Q1169.34 1555.16 1172.72 1554.38 M1171.01 1546.99 Q1171.01 1549.68 1172.68 1551.18 Q1174.37 1552.69 1177.4 1552.69 Q1180.41 1552.69 1182.1 1551.18 Q1183.81 1549.68 1183.81 1546.99 Q1183.81 1544.31 1182.1 1542.8 Q1180.41 1541.3 1177.4 1541.3 Q1174.37 1541.3 1172.68 1542.8 Q1171.01 1544.31 1171.01 1546.99 Z\" fill=\"#000000\" fill-rule=\"evenodd\" fill-opacity=\"1\" /><path clip-path=\"url(#clip760)\" d=\"M1207.56 1541.3 Q1203.95 1541.3 1202.12 1544.86 Q1200.32 1548.41 1200.32 1555.54 Q1200.32 1562.64 1202.12 1566.21 Q1203.95 1569.75 1207.56 1569.75 Q1211.2 1569.75 1213 1566.21 Q1214.83 1562.64 1214.83 1555.54 Q1214.83 1548.41 1213 1544.86 Q1211.2 1541.3 1207.56 1541.3 M1207.56 1537.6 Q1213.37 1537.6 1216.43 1542.2 Q1219.51 1546.79 1219.51 1555.54 Q1219.51 1564.26 1216.43 1568.87 Q1213.37 1573.45 1207.56 1573.45 Q1201.75 1573.45 1198.67 1568.87 Q1195.62 1564.26 1195.62 1555.54 Q1195.62 1546.79 1198.67 1542.2 Q1201.75 1537.6 1207.56 1537.6 Z\" fill=\"#000000\" fill-rule=\"evenodd\" fill-opacity=\"1\" /><path clip-path=\"url(#clip760)\" d=\"M1305.27 1555.95 L1334.94 1555.95 L1334.94 1559.89 L1305.27 1559.89 L1305.27 1555.95 Z\" fill=\"#000000\" fill-rule=\"evenodd\" fill-opacity=\"1\" /><path clip-path=\"url(#clip760)\" d=\"M1355.03 1541.3 Q1351.42 1541.3 1349.59 1544.86 Q1347.79 1548.41 1347.79 1555.54 Q1347.79 1562.64 1349.59 1566.21 Q1351.42 1569.75 1355.03 1569.75 Q1358.67 1569.75 1360.47 1566.21 Q1362.3 1562.64 1362.3 1555.54 Q1362.3 1548.41 1360.47 1544.86 Q1358.67 1541.3 1355.03 1541.3 M1355.03 1537.6 Q1360.84 1537.6 1363.9 1542.2 Q1366.98 1546.79 1366.98 1555.54 Q1366.98 1564.26 1363.9 1568.87 Q1360.84 1573.45 1355.03 1573.45 Q1349.22 1573.45 1346.15 1568.87 Q1343.09 1564.26 1343.09 1555.54 Q1343.09 1546.79 1346.15 1542.2 Q1349.22 1537.6 1355.03 1537.6 Z\" fill=\"#000000\" fill-rule=\"evenodd\" fill-opacity=\"1\" /><path clip-path=\"url(#clip760)\" d=\"M1375.2 1566.9 L1380.08 1566.9 L1380.08 1572.78 L1375.2 1572.78 L1375.2 1566.9 Z\" fill=\"#000000\" fill-rule=\"evenodd\" fill-opacity=\"1\" /><path clip-path=\"url(#clip760)\" d=\"M1400.27 1541.3 Q1396.65 1541.3 1394.83 1544.86 Q1393.02 1548.41 1393.02 1555.54 Q1393.02 1562.64 1394.83 1566.21 Q1396.65 1569.75 1400.27 1569.75 Q1403.9 1569.75 1405.71 1566.21 Q1407.53 1562.64 1407.53 1555.54 Q1407.53 1548.41 1405.71 1544.86 Q1403.9 1541.3 1400.27 1541.3 M1400.27 1537.6 Q1406.08 1537.6 1409.13 1542.2 Q1412.21 1546.79 1412.21 1555.54 Q1412.21 1564.26 1409.13 1568.87 Q1406.08 1573.45 1400.27 1573.45 Q1394.46 1573.45 1391.38 1568.87 Q1388.32 1564.26 1388.32 1555.54 Q1388.32 1546.79 1391.38 1542.2 Q1394.46 1537.6 1400.27 1537.6 Z\" fill=\"#000000\" fill-rule=\"evenodd\" fill-opacity=\"1\" /><path clip-path=\"url(#clip760)\" d=\"M1419.25 1538.22 L1441.47 1538.22 L1441.47 1540.21 L1428.92 1572.78 L1424.04 1572.78 L1435.84 1542.16 L1419.25 1542.16 L1419.25 1538.22 Z\" fill=\"#000000\" fill-rule=\"evenodd\" fill-opacity=\"1\" /><path clip-path=\"url(#clip760)\" d=\"M1454.62 1568.85 L1470.94 1568.85 L1470.94 1572.78 L1448.99 1572.78 L1448.99 1568.85 Q1451.65 1566.09 1456.24 1561.46 Q1460.84 1556.81 1462.02 1555.47 Q1464.27 1552.94 1465.15 1551.21 Q1466.05 1549.45 1466.05 1547.76 Q1466.05 1545 1464.11 1543.27 Q1462.19 1541.53 1459.09 1541.53 Q1456.89 1541.53 1454.43 1542.29 Q1452 1543.06 1449.22 1544.61 L1449.22 1539.89 Q1452.05 1538.75 1454.5 1538.17 Q1456.96 1537.6 1458.99 1537.6 Q1464.36 1537.6 1467.56 1540.28 Q1470.75 1542.97 1470.75 1547.46 Q1470.75 1549.59 1469.94 1551.51 Q1469.15 1553.41 1467.05 1556 Q1466.47 1556.67 1463.37 1559.89 Q1460.27 1563.08 1454.62 1568.85 Z\" fill=\"#000000\" fill-rule=\"evenodd\" fill-opacity=\"1\" /><path clip-path=\"url(#clip760)\" d=\"M1556.45 1555.95 L1586.13 1555.95 L1586.13 1559.89 L1556.45 1559.89 L1556.45 1555.95 Z\" fill=\"#000000\" fill-rule=\"evenodd\" fill-opacity=\"1\" /><path clip-path=\"url(#clip760)\" d=\"M1606.22 1541.3 Q1602.61 1541.3 1600.78 1544.86 Q1598.98 1548.41 1598.98 1555.54 Q1598.98 1562.64 1600.78 1566.21 Q1602.61 1569.75 1606.22 1569.75 Q1609.86 1569.75 1611.66 1566.21 Q1613.49 1562.64 1613.49 1555.54 Q1613.49 1548.41 1611.66 1544.86 Q1609.86 1541.3 1606.22 1541.3 M1606.22 1537.6 Q1612.03 1537.6 1615.09 1542.2 Q1618.17 1546.79 1618.17 1555.54 Q1618.17 1564.26 1615.09 1568.87 Q1612.03 1573.45 1606.22 1573.45 Q1600.41 1573.45 1597.33 1568.87 Q1594.28 1564.26 1594.28 1555.54 Q1594.28 1546.79 1597.33 1542.2 Q1600.41 1537.6 1606.22 1537.6 Z\" fill=\"#000000\" fill-rule=\"evenodd\" fill-opacity=\"1\" /><path clip-path=\"url(#clip760)\" d=\"M1626.38 1566.9 L1631.27 1566.9 L1631.27 1572.78 L1626.38 1572.78 L1626.38 1566.9 Z\" fill=\"#000000\" fill-rule=\"evenodd\" fill-opacity=\"1\" /><path clip-path=\"url(#clip760)\" d=\"M1651.45 1541.3 Q1647.84 1541.3 1646.01 1544.86 Q1644.21 1548.41 1644.21 1555.54 Q1644.21 1562.64 1646.01 1566.21 Q1647.84 1569.75 1651.45 1569.75 Q1655.09 1569.75 1656.89 1566.21 Q1658.72 1562.64 1658.72 1555.54 Q1658.72 1548.41 1656.89 1544.86 Q1655.09 1541.3 1651.45 1541.3 M1651.45 1537.6 Q1657.26 1537.6 1660.32 1542.2 Q1663.4 1546.79 1663.4 1555.54 Q1663.4 1564.26 1660.32 1568.87 Q1657.26 1573.45 1651.45 1573.45 Q1645.64 1573.45 1642.57 1568.87 Q1639.51 1564.26 1639.51 1555.54 Q1639.51 1546.79 1642.57 1542.2 Q1645.64 1537.6 1651.45 1537.6 Z\" fill=\"#000000\" fill-rule=\"evenodd\" fill-opacity=\"1\" /><path clip-path=\"url(#clip760)\" d=\"M1682.19 1553.64 Q1679.05 1553.64 1677.19 1555.79 Q1675.37 1557.94 1675.37 1561.69 Q1675.37 1565.42 1677.19 1567.6 Q1679.05 1569.75 1682.19 1569.75 Q1685.34 1569.75 1687.17 1567.6 Q1689.02 1565.42 1689.02 1561.69 Q1689.02 1557.94 1687.17 1555.79 Q1685.34 1553.64 1682.19 1553.64 M1691.48 1538.98 L1691.48 1543.24 Q1689.72 1542.41 1687.91 1541.97 Q1686.13 1541.53 1684.37 1541.53 Q1679.74 1541.53 1677.29 1544.66 Q1674.86 1547.78 1674.51 1554.1 Q1675.88 1552.09 1677.94 1551.02 Q1680 1549.93 1682.47 1549.93 Q1687.68 1549.93 1690.69 1553.1 Q1693.72 1556.25 1693.72 1561.69 Q1693.72 1567.02 1690.57 1570.23 Q1687.43 1573.45 1682.19 1573.45 Q1676.2 1573.45 1673.03 1568.87 Q1669.86 1564.26 1669.86 1555.54 Q1669.86 1547.34 1673.75 1542.48 Q1677.63 1537.6 1684.19 1537.6 Q1685.94 1537.6 1687.73 1537.94 Q1689.53 1538.29 1691.48 1538.98 Z\" fill=\"#000000\" fill-rule=\"evenodd\" fill-opacity=\"1\" /><path clip-path=\"url(#clip760)\" d=\"M1714.62 1542.29 L1702.82 1560.74 L1714.62 1560.74 L1714.62 1542.29 M1713.4 1538.22 L1719.28 1538.22 L1719.28 1560.74 L1724.21 1560.74 L1724.21 1564.63 L1719.28 1564.63 L1719.28 1572.78 L1714.62 1572.78 L1714.62 1564.63 L1699.02 1564.63 L1699.02 1560.12 L1713.4 1538.22 Z\" fill=\"#000000\" fill-rule=\"evenodd\" fill-opacity=\"1\" /><path clip-path=\"url(#clip760)\" d=\"M1808.85 1555.95 L1838.52 1555.95 L1838.52 1559.89 L1808.85 1559.89 L1808.85 1555.95 Z\" fill=\"#000000\" fill-rule=\"evenodd\" fill-opacity=\"1\" /><path clip-path=\"url(#clip760)\" d=\"M1858.61 1541.3 Q1855 1541.3 1853.17 1544.86 Q1851.37 1548.41 1851.37 1555.54 Q1851.37 1562.64 1853.17 1566.21 Q1855 1569.75 1858.61 1569.75 Q1862.25 1569.75 1864.05 1566.21 Q1865.88 1562.64 1865.88 1555.54 Q1865.88 1548.41 1864.05 1544.86 Q1862.25 1541.3 1858.61 1541.3 M1858.61 1537.6 Q1864.42 1537.6 1867.48 1542.2 Q1870.56 1546.79 1870.56 1555.54 Q1870.56 1564.26 1867.48 1568.87 Q1864.42 1573.45 1858.61 1573.45 Q1852.8 1573.45 1849.73 1568.87 Q1846.67 1564.26 1846.67 1555.54 Q1846.67 1546.79 1849.73 1542.2 Q1852.8 1537.6 1858.61 1537.6 Z\" fill=\"#000000\" fill-rule=\"evenodd\" fill-opacity=\"1\" /><path clip-path=\"url(#clip760)\" d=\"M1878.78 1566.9 L1883.66 1566.9 L1883.66 1572.78 L1878.78 1572.78 L1878.78 1566.9 Z\" fill=\"#000000\" fill-rule=\"evenodd\" fill-opacity=\"1\" /><path clip-path=\"url(#clip760)\" d=\"M1903.85 1541.3 Q1900.23 1541.3 1898.41 1544.86 Q1896.6 1548.41 1896.6 1555.54 Q1896.6 1562.64 1898.41 1566.21 Q1900.23 1569.75 1903.85 1569.75 Q1907.48 1569.75 1909.29 1566.21 Q1911.11 1562.64 1911.11 1555.54 Q1911.11 1548.41 1909.29 1544.86 Q1907.48 1541.3 1903.85 1541.3 M1903.85 1537.6 Q1909.66 1537.6 1912.71 1542.2 Q1915.79 1546.79 1915.79 1555.54 Q1915.79 1564.26 1912.71 1568.87 Q1909.66 1573.45 1903.85 1573.45 Q1898.04 1573.45 1894.96 1568.87 Q1891.9 1564.26 1891.9 1555.54 Q1891.9 1546.79 1894.96 1542.2 Q1898.04 1537.6 1903.85 1537.6 Z\" fill=\"#000000\" fill-rule=\"evenodd\" fill-opacity=\"1\" /><path clip-path=\"url(#clip760)\" d=\"M1924.05 1538.22 L1942.41 1538.22 L1942.41 1542.16 L1928.34 1542.16 L1928.34 1550.63 Q1929.35 1550.28 1930.37 1550.12 Q1931.39 1549.93 1932.41 1549.93 Q1938.2 1549.93 1941.58 1553.1 Q1944.96 1556.28 1944.96 1561.69 Q1944.96 1567.27 1941.48 1570.37 Q1938.01 1573.45 1931.69 1573.45 Q1929.52 1573.45 1927.25 1573.08 Q1925 1572.71 1922.6 1571.97 L1922.6 1567.27 Q1924.68 1568.41 1926.9 1568.96 Q1929.12 1569.52 1931.6 1569.52 Q1935.6 1569.52 1937.94 1567.41 Q1940.28 1565.3 1940.28 1561.69 Q1940.28 1558.08 1937.94 1555.98 Q1935.6 1553.87 1931.6 1553.87 Q1929.73 1553.87 1927.85 1554.29 Q1926 1554.7 1924.05 1555.58 L1924.05 1538.22 Z\" fill=\"#000000\" fill-rule=\"evenodd\" fill-opacity=\"1\" /><path clip-path=\"url(#clip760)\" d=\"M1964.75 1553.64 Q1961.6 1553.64 1959.75 1555.79 Q1957.92 1557.94 1957.92 1561.69 Q1957.92 1565.42 1959.75 1567.6 Q1961.6 1569.75 1964.75 1569.75 Q1967.9 1569.75 1969.72 1567.6 Q1971.58 1565.42 1971.58 1561.69 Q1971.58 1557.94 1969.72 1555.79 Q1967.9 1553.64 1964.75 1553.64 M1974.03 1538.98 L1974.03 1543.24 Q1972.27 1542.41 1970.47 1541.97 Q1968.68 1541.53 1966.92 1541.53 Q1962.29 1541.53 1959.84 1544.66 Q1957.41 1547.78 1957.06 1554.1 Q1958.43 1552.09 1960.49 1551.02 Q1962.55 1549.93 1965.03 1549.93 Q1970.23 1549.93 1973.24 1553.1 Q1976.28 1556.25 1976.28 1561.69 Q1976.28 1567.02 1973.13 1570.23 Q1969.98 1573.45 1964.75 1573.45 Q1958.75 1573.45 1955.58 1568.87 Q1952.41 1564.26 1952.41 1555.54 Q1952.41 1547.34 1956.3 1542.48 Q1960.19 1537.6 1966.74 1537.6 Q1968.5 1537.6 1970.28 1537.94 Q1972.09 1538.29 1974.03 1538.98 Z\" fill=\"#000000\" fill-rule=\"evenodd\" fill-opacity=\"1\" /><path clip-path=\"url(#clip760)\" d=\"M2061.2 1555.95 L2090.88 1555.95 L2090.88 1559.89 L2061.2 1559.89 L2061.2 1555.95 Z\" fill=\"#000000\" fill-rule=\"evenodd\" fill-opacity=\"1\" /><path clip-path=\"url(#clip760)\" d=\"M2110.97 1541.3 Q2107.36 1541.3 2105.53 1544.86 Q2103.73 1548.41 2103.73 1555.54 Q2103.73 1562.64 2105.53 1566.21 Q2107.36 1569.75 2110.97 1569.75 Q2114.61 1569.75 2116.41 1566.21 Q2118.24 1562.64 2118.24 1555.54 Q2118.24 1548.41 2116.41 1544.86 Q2114.61 1541.3 2110.97 1541.3 M2110.97 1537.6 Q2116.78 1537.6 2119.84 1542.2 Q2122.92 1546.79 2122.92 1555.54 Q2122.92 1564.26 2119.84 1568.87 Q2116.78 1573.45 2110.97 1573.45 Q2105.16 1573.45 2102.08 1568.87 Q2099.03 1564.26 2099.03 1555.54 Q2099.03 1546.79 2102.08 1542.2 Q2105.16 1537.6 2110.97 1537.6 Z\" fill=\"#000000\" fill-rule=\"evenodd\" fill-opacity=\"1\" /><path clip-path=\"url(#clip760)\" d=\"M2131.13 1566.9 L2136.02 1566.9 L2136.02 1572.78 L2131.13 1572.78 L2131.13 1566.9 Z\" fill=\"#000000\" fill-rule=\"evenodd\" fill-opacity=\"1\" /><path clip-path=\"url(#clip760)\" d=\"M2156.2 1541.3 Q2152.59 1541.3 2150.76 1544.86 Q2148.96 1548.41 2148.96 1555.54 Q2148.96 1562.64 2150.76 1566.21 Q2152.59 1569.75 2156.2 1569.75 Q2159.84 1569.75 2161.64 1566.21 Q2163.47 1562.64 2163.47 1555.54 Q2163.47 1548.41 2161.64 1544.86 Q2159.84 1541.3 2156.2 1541.3 M2156.2 1537.6 Q2162.01 1537.6 2165.07 1542.2 Q2168.15 1546.79 2168.15 1555.54 Q2168.15 1564.26 2165.07 1568.87 Q2162.01 1573.45 2156.2 1573.45 Q2150.39 1573.45 2147.31 1568.87 Q2144.26 1564.26 2144.26 1555.54 Q2144.26 1546.79 2147.31 1542.2 Q2150.39 1537.6 2156.2 1537.6 Z\" fill=\"#000000\" fill-rule=\"evenodd\" fill-opacity=\"1\" /><path clip-path=\"url(#clip760)\" d=\"M2189.21 1542.29 L2177.41 1560.74 L2189.21 1560.74 L2189.21 1542.29 M2187.98 1538.22 L2193.86 1538.22 L2193.86 1560.74 L2198.79 1560.74 L2198.79 1564.63 L2193.86 1564.63 L2193.86 1572.78 L2189.21 1572.78 L2189.21 1564.63 L2173.61 1564.63 L2173.61 1560.12 L2187.98 1538.22 Z\" fill=\"#000000\" fill-rule=\"evenodd\" fill-opacity=\"1\" /><path clip-path=\"url(#clip760)\" d=\"M2216.53 1556.37 Q2213.19 1556.37 2211.27 1558.15 Q2209.37 1559.93 2209.37 1563.06 Q2209.37 1566.18 2211.27 1567.97 Q2213.19 1569.75 2216.53 1569.75 Q2219.86 1569.75 2221.78 1567.97 Q2223.7 1566.16 2223.7 1563.06 Q2223.7 1559.93 2221.78 1558.15 Q2219.88 1556.37 2216.53 1556.37 M2211.85 1554.38 Q2208.84 1553.64 2207.15 1551.58 Q2205.48 1549.52 2205.48 1546.55 Q2205.48 1542.41 2208.42 1540 Q2211.39 1537.6 2216.53 1537.6 Q2221.69 1537.6 2224.63 1540 Q2227.57 1542.41 2227.57 1546.55 Q2227.57 1549.52 2225.88 1551.58 Q2224.21 1553.64 2221.23 1554.38 Q2224.6 1555.16 2226.48 1557.46 Q2228.38 1559.75 2228.38 1563.06 Q2228.38 1568.08 2225.3 1570.77 Q2222.24 1573.45 2216.53 1573.45 Q2210.81 1573.45 2207.73 1570.77 Q2204.67 1568.08 2204.67 1563.06 Q2204.67 1559.75 2206.57 1557.46 Q2208.47 1555.16 2211.85 1554.38 M2210.14 1546.99 Q2210.14 1549.68 2211.8 1551.18 Q2213.49 1552.69 2216.53 1552.69 Q2219.54 1552.69 2221.23 1551.18 Q2222.94 1549.68 2222.94 1546.99 Q2222.94 1544.31 2221.23 1542.8 Q2219.54 1541.3 2216.53 1541.3 Q2213.49 1541.3 2211.8 1542.8 Q2210.14 1544.31 2210.14 1546.99 Z\" fill=\"#000000\" fill-rule=\"evenodd\" fill-opacity=\"1\" /><path clip-path=\"url(#clip760)\" d=\"M2313.39 1555.95 L2343.06 1555.95 L2343.06 1559.89 L2313.39 1559.89 L2313.39 1555.95 Z\" fill=\"#000000\" fill-rule=\"evenodd\" fill-opacity=\"1\" /><path clip-path=\"url(#clip760)\" d=\"M2363.15 1541.3 Q2359.54 1541.3 2357.71 1544.86 Q2355.91 1548.41 2355.91 1555.54 Q2355.91 1562.64 2357.71 1566.21 Q2359.54 1569.75 2363.15 1569.75 Q2366.79 1569.75 2368.59 1566.21 Q2370.42 1562.64 2370.42 1555.54 Q2370.42 1548.41 2368.59 1544.86 Q2366.79 1541.3 2363.15 1541.3 M2363.15 1537.6 Q2368.96 1537.6 2372.02 1542.2 Q2375.1 1546.79 2375.1 1555.54 Q2375.1 1564.26 2372.02 1568.87 Q2368.96 1573.45 2363.15 1573.45 Q2357.34 1573.45 2354.27 1568.87 Q2351.21 1564.26 2351.21 1555.54 Q2351.21 1546.79 2354.27 1542.2 Q2357.34 1537.6 2363.15 1537.6 Z\" fill=\"#000000\" fill-rule=\"evenodd\" fill-opacity=\"1\" /><path clip-path=\"url(#clip760)\" d=\"M2383.32 1566.9 L2388.2 1566.9 L2388.2 1572.78 L2383.32 1572.78 L2383.32 1566.9 Z\" fill=\"#000000\" fill-rule=\"evenodd\" fill-opacity=\"1\" /><path clip-path=\"url(#clip760)\" d=\"M2408.39 1541.3 Q2404.77 1541.3 2402.95 1544.86 Q2401.14 1548.41 2401.14 1555.54 Q2401.14 1562.64 2402.95 1566.21 Q2404.77 1569.75 2408.39 1569.75 Q2412.02 1569.75 2413.83 1566.21 Q2415.65 1562.64 2415.65 1555.54 Q2415.65 1548.41 2413.83 1544.86 Q2412.02 1541.3 2408.39 1541.3 M2408.39 1537.6 Q2414.2 1537.6 2417.25 1542.2 Q2420.33 1546.79 2420.33 1555.54 Q2420.33 1564.26 2417.25 1568.87 Q2414.2 1573.45 2408.39 1573.45 Q2402.58 1573.45 2399.5 1568.87 Q2396.44 1564.26 2396.44 1555.54 Q2396.44 1546.79 2399.5 1542.2 Q2402.58 1537.6 2408.39 1537.6 Z\" fill=\"#000000\" fill-rule=\"evenodd\" fill-opacity=\"1\" /><path clip-path=\"url(#clip760)\" d=\"M2441.4 1542.29 L2429.59 1560.74 L2441.4 1560.74 L2441.4 1542.29 M2440.17 1538.22 L2446.05 1538.22 L2446.05 1560.74 L2450.98 1560.74 L2450.98 1564.63 L2446.05 1564.63 L2446.05 1572.78 L2441.4 1572.78 L2441.4 1564.63 L2425.79 1564.63 L2425.79 1560.12 L2440.17 1538.22 Z\" fill=\"#000000\" fill-rule=\"evenodd\" fill-opacity=\"1\" /><path clip-path=\"url(#clip760)\" d=\"M2468.71 1541.3 Q2465.1 1541.3 2463.27 1544.86 Q2461.46 1548.41 2461.46 1555.54 Q2461.46 1562.64 2463.27 1566.21 Q2465.1 1569.75 2468.71 1569.75 Q2472.34 1569.75 2474.15 1566.21 Q2475.98 1562.64 2475.98 1555.54 Q2475.98 1548.41 2474.15 1544.86 Q2472.34 1541.3 2468.71 1541.3 M2468.71 1537.6 Q2474.52 1537.6 2477.58 1542.2 Q2480.65 1546.79 2480.65 1555.54 Q2480.65 1564.26 2477.58 1568.87 Q2474.52 1573.45 2468.71 1573.45 Q2462.9 1573.45 2459.82 1568.87 Q2456.77 1564.26 2456.77 1555.54 Q2456.77 1546.79 2459.82 1542.2 Q2462.9 1537.6 2468.71 1537.6 Z\" fill=\"#000000\" fill-rule=\"evenodd\" fill-opacity=\"1\" /><path clip-path=\"url(#clip760)\" d=\"M2566.41 1555.95 L2596.09 1555.95 L2596.09 1559.89 L2566.41 1559.89 L2566.41 1555.95 Z\" fill=\"#000000\" fill-rule=\"evenodd\" fill-opacity=\"1\" /><path clip-path=\"url(#clip760)\" d=\"M2616.18 1541.3 Q2612.57 1541.3 2610.74 1544.86 Q2608.94 1548.41 2608.94 1555.54 Q2608.94 1562.64 2610.74 1566.21 Q2612.57 1569.75 2616.18 1569.75 Q2619.82 1569.75 2621.62 1566.21 Q2623.45 1562.64 2623.45 1555.54 Q2623.45 1548.41 2621.62 1544.86 Q2619.82 1541.3 2616.18 1541.3 M2616.18 1537.6 Q2621.99 1537.6 2625.05 1542.2 Q2628.13 1546.79 2628.13 1555.54 Q2628.13 1564.26 2625.05 1568.87 Q2621.99 1573.45 2616.18 1573.45 Q2610.37 1573.45 2607.29 1568.87 Q2604.24 1564.26 2604.24 1555.54 Q2604.24 1546.79 2607.29 1542.2 Q2610.37 1537.6 2616.18 1537.6 Z\" fill=\"#000000\" fill-rule=\"evenodd\" fill-opacity=\"1\" /><path clip-path=\"url(#clip760)\" d=\"M2636.34 1566.9 L2641.23 1566.9 L2641.23 1572.78 L2636.34 1572.78 L2636.34 1566.9 Z\" fill=\"#000000\" fill-rule=\"evenodd\" fill-opacity=\"1\" /><path clip-path=\"url(#clip760)\" d=\"M2661.41 1541.3 Q2657.8 1541.3 2655.97 1544.86 Q2654.17 1548.41 2654.17 1555.54 Q2654.17 1562.64 2655.97 1566.21 Q2657.8 1569.75 2661.41 1569.75 Q2665.05 1569.75 2666.85 1566.21 Q2668.68 1562.64 2668.68 1555.54 Q2668.68 1548.41 2666.85 1544.86 Q2665.05 1541.3 2661.41 1541.3 M2661.41 1537.6 Q2667.22 1537.6 2670.28 1542.2 Q2673.36 1546.79 2673.36 1555.54 Q2673.36 1564.26 2670.28 1568.87 Q2667.22 1573.45 2661.41 1573.45 Q2655.6 1573.45 2652.53 1568.87 Q2649.47 1564.26 2649.47 1555.54 Q2649.47 1546.79 2652.53 1542.2 Q2655.6 1537.6 2661.41 1537.6 Z\" fill=\"#000000\" fill-rule=\"evenodd\" fill-opacity=\"1\" /><path clip-path=\"url(#clip760)\" d=\"M2695.74 1554.15 Q2699.1 1554.86 2700.97 1557.13 Q2702.87 1559.4 2702.87 1562.73 Q2702.87 1567.85 2699.35 1570.65 Q2695.84 1573.45 2689.35 1573.45 Q2687.18 1573.45 2684.86 1573.01 Q2682.57 1572.6 2680.12 1571.74 L2680.12 1567.22 Q2682.06 1568.36 2684.38 1568.94 Q2686.69 1569.52 2689.21 1569.52 Q2693.61 1569.52 2695.9 1567.78 Q2698.22 1566.04 2698.22 1562.73 Q2698.22 1559.68 2696.07 1557.97 Q2693.94 1556.23 2690.12 1556.23 L2686.09 1556.23 L2686.09 1552.39 L2690.3 1552.39 Q2693.75 1552.39 2695.58 1551.02 Q2697.41 1549.63 2697.41 1547.04 Q2697.41 1544.38 2695.51 1542.97 Q2693.64 1541.53 2690.12 1541.53 Q2688.2 1541.53 2686 1541.95 Q2683.8 1542.36 2681.16 1543.24 L2681.16 1539.08 Q2683.82 1538.34 2686.14 1537.97 Q2688.47 1537.6 2690.53 1537.6 Q2695.86 1537.6 2698.96 1540.03 Q2702.06 1542.43 2702.06 1546.55 Q2702.06 1549.42 2700.42 1551.41 Q2698.78 1553.38 2695.74 1554.15 Z\" fill=\"#000000\" fill-rule=\"evenodd\" fill-opacity=\"1\" /><path clip-path=\"url(#clip760)\" d=\"M2715.77 1568.85 L2732.09 1568.85 L2732.09 1572.78 L2710.14 1572.78 L2710.14 1568.85 Q2712.8 1566.09 2717.39 1561.46 Q2721.99 1556.81 2723.17 1555.47 Q2725.42 1552.94 2726.3 1551.21 Q2727.2 1549.45 2727.2 1547.76 Q2727.2 1545 2725.26 1543.27 Q2723.34 1541.53 2720.23 1541.53 Q2718.03 1541.53 2715.58 1542.29 Q2713.15 1543.06 2710.37 1544.61 L2710.37 1539.89 Q2713.2 1538.75 2715.65 1538.17 Q2718.1 1537.6 2720.14 1537.6 Q2725.51 1537.6 2728.71 1540.28 Q2731.9 1542.97 2731.9 1547.46 Q2731.9 1549.59 2731.09 1551.51 Q2730.3 1553.41 2728.2 1556 Q2727.62 1556.67 2724.52 1559.89 Q2721.41 1563.08 2715.77 1568.85 Z\" fill=\"#000000\" fill-rule=\"evenodd\" fill-opacity=\"1\" /><path clip-path=\"url(#clip760)\" d=\"M2817.6 1555.95 L2847.28 1555.95 L2847.28 1559.89 L2817.6 1559.89 L2817.6 1555.95 Z\" fill=\"#000000\" fill-rule=\"evenodd\" fill-opacity=\"1\" /><path clip-path=\"url(#clip760)\" d=\"M2867.37 1541.3 Q2863.76 1541.3 2861.93 1544.86 Q2860.13 1548.41 2860.13 1555.54 Q2860.13 1562.64 2861.93 1566.21 Q2863.76 1569.75 2867.37 1569.75 Q2871.01 1569.75 2872.81 1566.21 Q2874.64 1562.64 2874.64 1555.54 Q2874.64 1548.41 2872.81 1544.86 Q2871.01 1541.3 2867.37 1541.3 M2867.37 1537.6 Q2873.18 1537.6 2876.24 1542.2 Q2879.32 1546.79 2879.32 1555.54 Q2879.32 1564.26 2876.24 1568.87 Q2873.18 1573.45 2867.37 1573.45 Q2861.56 1573.45 2858.48 1568.87 Q2855.43 1564.26 2855.43 1555.54 Q2855.43 1546.79 2858.48 1542.2 Q2861.56 1537.6 2867.37 1537.6 Z\" fill=\"#000000\" fill-rule=\"evenodd\" fill-opacity=\"1\" /><path clip-path=\"url(#clip760)\" d=\"M2887.53 1566.9 L2892.42 1566.9 L2892.42 1572.78 L2887.53 1572.78 L2887.53 1566.9 Z\" fill=\"#000000\" fill-rule=\"evenodd\" fill-opacity=\"1\" /><path clip-path=\"url(#clip760)\" d=\"M2912.6 1541.3 Q2908.99 1541.3 2907.16 1544.86 Q2905.36 1548.41 2905.36 1555.54 Q2905.36 1562.64 2907.16 1566.21 Q2908.99 1569.75 2912.6 1569.75 Q2916.24 1569.75 2918.04 1566.21 Q2919.87 1562.64 2919.87 1555.54 Q2919.87 1548.41 2918.04 1544.86 Q2916.24 1541.3 2912.6 1541.3 M2912.6 1537.6 Q2918.41 1537.6 2921.47 1542.2 Q2924.55 1546.79 2924.55 1555.54 Q2924.55 1564.26 2921.47 1568.87 Q2918.41 1573.45 2912.6 1573.45 Q2906.79 1573.45 2903.71 1568.87 Q2900.66 1564.26 2900.66 1555.54 Q2900.66 1546.79 2903.71 1542.2 Q2906.79 1537.6 2912.6 1537.6 Z\" fill=\"#000000\" fill-rule=\"evenodd\" fill-opacity=\"1\" /><path clip-path=\"url(#clip760)\" d=\"M2936.79 1568.85 L2953.11 1568.85 L2953.11 1572.78 L2931.17 1572.78 L2931.17 1568.85 Q2933.83 1566.09 2938.41 1561.46 Q2943.02 1556.81 2944.2 1555.47 Q2946.44 1552.94 2947.32 1551.21 Q2948.23 1549.45 2948.23 1547.76 Q2948.23 1545 2946.28 1543.27 Q2944.36 1541.53 2941.26 1541.53 Q2939.06 1541.53 2936.61 1542.29 Q2934.18 1543.06 2931.4 1544.61 L2931.4 1539.89 Q2934.22 1538.75 2936.68 1538.17 Q2939.13 1537.6 2941.17 1537.6 Q2946.54 1537.6 2949.73 1540.28 Q2952.93 1542.97 2952.93 1547.46 Q2952.93 1549.59 2952.12 1551.51 Q2951.33 1553.41 2949.22 1556 Q2948.64 1556.67 2945.54 1559.89 Q2942.44 1563.08 2936.79 1568.85 Z\" fill=\"#000000\" fill-rule=\"evenodd\" fill-opacity=\"1\" /><path clip-path=\"url(#clip760)\" d=\"M2975.77 1542.29 L2963.97 1560.74 L2975.77 1560.74 L2975.77 1542.29 M2974.55 1538.22 L2980.43 1538.22 L2980.43 1560.74 L2985.36 1560.74 L2985.36 1564.63 L2980.43 1564.63 L2980.43 1572.78 L2975.77 1572.78 L2975.77 1564.63 L2960.17 1564.63 L2960.17 1560.12 L2974.55 1538.22 Z\" fill=\"#000000\" fill-rule=\"evenodd\" fill-opacity=\"1\" /><path clip-path=\"url(#clip760)\" d=\"M3069.99 1555.95 L3099.67 1555.95 L3099.67 1559.89 L3069.99 1559.89 L3069.99 1555.95 Z\" fill=\"#000000\" fill-rule=\"evenodd\" fill-opacity=\"1\" /><path clip-path=\"url(#clip760)\" d=\"M3119.76 1541.3 Q3116.15 1541.3 3114.32 1544.86 Q3112.52 1548.41 3112.52 1555.54 Q3112.52 1562.64 3114.32 1566.21 Q3116.15 1569.75 3119.76 1569.75 Q3123.4 1569.75 3125.2 1566.21 Q3127.03 1562.64 3127.03 1555.54 Q3127.03 1548.41 3125.2 1544.86 Q3123.4 1541.3 3119.76 1541.3 M3119.76 1537.6 Q3125.57 1537.6 3128.63 1542.2 Q3131.71 1546.79 3131.71 1555.54 Q3131.71 1564.26 3128.63 1568.87 Q3125.57 1573.45 3119.76 1573.45 Q3113.95 1573.45 3110.87 1568.87 Q3107.82 1564.26 3107.82 1555.54 Q3107.82 1546.79 3110.87 1542.2 Q3113.95 1537.6 3119.76 1537.6 Z\" fill=\"#000000\" fill-rule=\"evenodd\" fill-opacity=\"1\" /><path clip-path=\"url(#clip760)\" d=\"M3139.92 1566.9 L3144.81 1566.9 L3144.81 1572.78 L3139.92 1572.78 L3139.92 1566.9 Z\" fill=\"#000000\" fill-rule=\"evenodd\" fill-opacity=\"1\" /><path clip-path=\"url(#clip760)\" d=\"M3164.99 1541.3 Q3161.38 1541.3 3159.55 1544.86 Q3157.75 1548.41 3157.75 1555.54 Q3157.75 1562.64 3159.55 1566.21 Q3161.38 1569.75 3164.99 1569.75 Q3168.63 1569.75 3170.43 1566.21 Q3172.26 1562.64 3172.26 1555.54 Q3172.26 1548.41 3170.43 1544.86 Q3168.63 1541.3 3164.99 1541.3 M3164.99 1537.6 Q3170.8 1537.6 3173.86 1542.2 Q3176.94 1546.79 3176.94 1555.54 Q3176.94 1564.26 3173.86 1568.87 Q3170.8 1573.45 3164.99 1573.45 Q3159.18 1573.45 3156.1 1568.87 Q3153.05 1564.26 3153.05 1555.54 Q3153.05 1546.79 3156.1 1542.2 Q3159.18 1537.6 3164.99 1537.6 Z\" fill=\"#000000\" fill-rule=\"evenodd\" fill-opacity=\"1\" /><path clip-path=\"url(#clip760)\" d=\"M3185.97 1568.85 L3193.6 1568.85 L3193.6 1542.48 L3185.29 1544.15 L3185.29 1539.89 L3193.56 1538.22 L3198.23 1538.22 L3198.23 1568.85 L3205.87 1568.85 L3205.87 1572.78 L3185.97 1572.78 L3185.97 1568.85 Z\" fill=\"#000000\" fill-rule=\"evenodd\" fill-opacity=\"1\" /><path clip-path=\"url(#clip760)\" d=\"M3225.9 1553.64 Q3222.75 1553.64 3220.9 1555.79 Q3219.07 1557.94 3219.07 1561.69 Q3219.07 1565.42 3220.9 1567.6 Q3222.75 1569.75 3225.9 1569.75 Q3229.04 1569.75 3230.87 1567.6 Q3232.72 1565.42 3232.72 1561.69 Q3232.72 1557.94 3230.87 1555.79 Q3229.04 1553.64 3225.9 1553.64 M3235.18 1538.98 L3235.18 1543.24 Q3233.42 1542.41 3231.61 1541.97 Q3229.83 1541.53 3228.07 1541.53 Q3223.44 1541.53 3220.99 1544.66 Q3218.56 1547.78 3218.21 1554.1 Q3219.58 1552.09 3221.64 1551.02 Q3223.7 1549.93 3226.17 1549.93 Q3231.38 1549.93 3234.39 1553.1 Q3237.42 1556.25 3237.42 1561.69 Q3237.42 1567.02 3234.28 1570.23 Q3231.13 1573.45 3225.9 1573.45 Q3219.9 1573.45 3216.73 1568.87 Q3213.56 1564.26 3213.56 1555.54 Q3213.56 1547.34 3217.45 1542.48 Q3221.34 1537.6 3227.89 1537.6 Q3229.65 1537.6 3231.43 1537.94 Q3233.23 1538.29 3235.18 1538.98 Z\" fill=\"#000000\" fill-rule=\"evenodd\" fill-opacity=\"1\" /><path clip-path=\"url(#clip760)\" d=\"M3322.35 1555.95 L3352.03 1555.95 L3352.03 1559.89 L3322.35 1559.89 L3322.35 1555.95 Z\" fill=\"#000000\" fill-rule=\"evenodd\" fill-opacity=\"1\" /><path clip-path=\"url(#clip760)\" d=\"M3372.12 1541.3 Q3368.51 1541.3 3366.68 1544.86 Q3364.87 1548.41 3364.87 1555.54 Q3364.87 1562.64 3366.68 1566.21 Q3368.51 1569.75 3372.12 1569.75 Q3375.75 1569.75 3377.56 1566.21 Q3379.39 1562.64 3379.39 1555.54 Q3379.39 1548.41 3377.56 1544.86 Q3375.75 1541.3 3372.12 1541.3 M3372.12 1537.6 Q3377.93 1537.6 3380.99 1542.2 Q3384.06 1546.79 3384.06 1555.54 Q3384.06 1564.26 3380.99 1568.87 Q3377.93 1573.45 3372.12 1573.45 Q3366.31 1573.45 3363.23 1568.87 Q3360.18 1564.26 3360.18 1555.54 Q3360.18 1546.79 3363.23 1542.2 Q3366.31 1537.6 3372.12 1537.6 Z\" fill=\"#000000\" fill-rule=\"evenodd\" fill-opacity=\"1\" /><path clip-path=\"url(#clip760)\" d=\"M3392.28 1566.9 L3397.17 1566.9 L3397.17 1572.78 L3392.28 1572.78 L3392.28 1566.9 Z\" fill=\"#000000\" fill-rule=\"evenodd\" fill-opacity=\"1\" /><path clip-path=\"url(#clip760)\" d=\"M3417.35 1541.3 Q3413.74 1541.3 3411.91 1544.86 Q3410.11 1548.41 3410.11 1555.54 Q3410.11 1562.64 3411.91 1566.21 Q3413.74 1569.75 3417.35 1569.75 Q3420.99 1569.75 3422.79 1566.21 Q3424.62 1562.64 3424.62 1555.54 Q3424.62 1548.41 3422.79 1544.86 Q3420.99 1541.3 3417.35 1541.3 M3417.35 1537.6 Q3423.16 1537.6 3426.22 1542.2 Q3429.3 1546.79 3429.3 1555.54 Q3429.3 1564.26 3426.22 1568.87 Q3423.16 1573.45 3417.35 1573.45 Q3411.54 1573.45 3408.46 1568.87 Q3405.41 1564.26 3405.41 1555.54 Q3405.41 1546.79 3408.46 1542.2 Q3411.54 1537.6 3417.35 1537.6 Z\" fill=\"#000000\" fill-rule=\"evenodd\" fill-opacity=\"1\" /><path clip-path=\"url(#clip760)\" d=\"M3447.51 1541.3 Q3443.9 1541.3 3442.07 1544.86 Q3440.27 1548.41 3440.27 1555.54 Q3440.27 1562.64 3442.07 1566.21 Q3443.9 1569.75 3447.51 1569.75 Q3451.15 1569.75 3452.95 1566.21 Q3454.78 1562.64 3454.78 1555.54 Q3454.78 1548.41 3452.95 1544.86 Q3451.15 1541.3 3447.51 1541.3 M3447.51 1537.6 Q3453.32 1537.6 3456.38 1542.2 Q3459.46 1546.79 3459.46 1555.54 Q3459.46 1564.26 3456.38 1568.87 Q3453.32 1573.45 3447.51 1573.45 Q3441.7 1573.45 3438.62 1568.87 Q3435.57 1564.26 3435.57 1555.54 Q3435.57 1546.79 3438.62 1542.2 Q3441.7 1537.6 3447.51 1537.6 Z\" fill=\"#000000\" fill-rule=\"evenodd\" fill-opacity=\"1\" /><path clip-path=\"url(#clip760)\" d=\"M3477.67 1556.37 Q3474.34 1556.37 3472.42 1558.15 Q3470.52 1559.93 3470.52 1563.06 Q3470.52 1566.18 3472.42 1567.97 Q3474.34 1569.75 3477.67 1569.75 Q3481.01 1569.75 3482.93 1567.97 Q3484.85 1566.16 3484.85 1563.06 Q3484.85 1559.93 3482.93 1558.15 Q3481.03 1556.37 3477.67 1556.37 M3473 1554.38 Q3469.99 1553.64 3468.3 1551.58 Q3466.63 1549.52 3466.63 1546.55 Q3466.63 1542.41 3469.57 1540 Q3472.54 1537.6 3477.67 1537.6 Q3482.84 1537.6 3485.78 1540 Q3488.72 1542.41 3488.72 1546.55 Q3488.72 1549.52 3487.03 1551.58 Q3485.36 1553.64 3482.37 1554.38 Q3485.75 1555.16 3487.63 1557.46 Q3489.53 1559.75 3489.53 1563.06 Q3489.53 1568.08 3486.45 1570.77 Q3483.39 1573.45 3477.67 1573.45 Q3471.96 1573.45 3468.88 1570.77 Q3465.82 1568.08 3465.82 1563.06 Q3465.82 1559.75 3467.72 1557.46 Q3469.62 1555.16 3473 1554.38 M3471.29 1546.99 Q3471.29 1549.68 3472.95 1551.18 Q3474.64 1552.69 3477.67 1552.69 Q3480.68 1552.69 3482.37 1551.18 Q3484.09 1549.68 3484.09 1546.99 Q3484.09 1544.31 3482.37 1542.8 Q3480.68 1541.3 3477.67 1541.3 Q3474.64 1541.3 3472.95 1542.8 Q3471.29 1544.31 3471.29 1546.99 Z\" fill=\"#000000\" fill-rule=\"evenodd\" fill-opacity=\"1\" /><path clip-path=\"url(#clip760)\" d=\"M3605.39 1541.3 Q3601.78 1541.3 3599.95 1544.86 Q3598.15 1548.41 3598.15 1555.54 Q3598.15 1562.64 3599.95 1566.21 Q3601.78 1569.75 3605.39 1569.75 Q3609.03 1569.75 3610.83 1566.21 Q3612.66 1562.64 3612.66 1555.54 Q3612.66 1548.41 3610.83 1544.86 Q3609.03 1541.3 3605.39 1541.3 M3605.39 1537.6 Q3611.2 1537.6 3614.26 1542.2 Q3617.34 1546.79 3617.34 1555.54 Q3617.34 1564.26 3614.26 1568.87 Q3611.2 1573.45 3605.39 1573.45 Q3599.58 1573.45 3596.5 1568.87 Q3593.45 1564.26 3593.45 1555.54 Q3593.45 1546.79 3596.5 1542.2 Q3599.58 1537.6 3605.39 1537.6 Z\" fill=\"#000000\" fill-rule=\"evenodd\" fill-opacity=\"1\" /><path clip-path=\"url(#clip760)\" d=\"M3625.55 1566.9 L3630.44 1566.9 L3630.44 1572.78 L3625.55 1572.78 L3625.55 1566.9 Z\" fill=\"#000000\" fill-rule=\"evenodd\" fill-opacity=\"1\" /><path clip-path=\"url(#clip760)\" d=\"M3650.62 1541.3 Q3647.01 1541.3 3645.18 1544.86 Q3643.38 1548.41 3643.38 1555.54 Q3643.38 1562.64 3645.18 1566.21 Q3647.01 1569.75 3650.62 1569.75 Q3654.26 1569.75 3656.06 1566.21 Q3657.89 1562.64 3657.89 1555.54 Q3657.89 1548.41 3656.06 1544.86 Q3654.26 1541.3 3650.62 1541.3 M3650.62 1537.6 Q3656.43 1537.6 3659.49 1542.2 Q3662.57 1546.79 3662.57 1555.54 Q3662.57 1564.26 3659.49 1568.87 Q3656.43 1573.45 3650.62 1573.45 Q3644.81 1573.45 3641.73 1568.87 Q3638.68 1564.26 3638.68 1555.54 Q3638.68 1546.79 3641.73 1542.2 Q3644.81 1537.6 3650.62 1537.6 Z\" fill=\"#000000\" fill-rule=\"evenodd\" fill-opacity=\"1\" /><path clip-path=\"url(#clip760)\" d=\"M3680.78 1541.3 Q3677.17 1541.3 3675.34 1544.86 Q3673.54 1548.41 3673.54 1555.54 Q3673.54 1562.64 3675.34 1566.21 Q3677.17 1569.75 3680.78 1569.75 Q3684.42 1569.75 3686.22 1566.21 Q3688.05 1562.64 3688.05 1555.54 Q3688.05 1548.41 3686.22 1544.86 Q3684.42 1541.3 3680.78 1541.3 M3680.78 1537.6 Q3686.59 1537.6 3689.65 1542.2 Q3692.73 1546.79 3692.73 1555.54 Q3692.73 1564.26 3689.65 1568.87 Q3686.59 1573.45 3680.78 1573.45 Q3674.97 1573.45 3671.9 1568.87 Q3668.84 1564.26 3668.84 1555.54 Q3668.84 1546.79 3671.9 1542.2 Q3674.97 1537.6 3680.78 1537.6 Z\" fill=\"#000000\" fill-rule=\"evenodd\" fill-opacity=\"1\" /><path clip-path=\"url(#clip760)\" d=\"M3710.95 1541.3 Q3707.33 1541.3 3705.51 1544.86 Q3703.7 1548.41 3703.7 1555.54 Q3703.7 1562.64 3705.51 1566.21 Q3707.33 1569.75 3710.95 1569.75 Q3714.58 1569.75 3716.39 1566.21 Q3718.21 1562.64 3718.21 1555.54 Q3718.21 1548.41 3716.39 1544.86 Q3714.58 1541.3 3710.95 1541.3 M3710.95 1537.6 Q3716.76 1537.6 3719.81 1542.2 Q3722.89 1546.79 3722.89 1555.54 Q3722.89 1564.26 3719.81 1568.87 Q3716.76 1573.45 3710.95 1573.45 Q3705.14 1573.45 3702.06 1568.87 Q3699 1564.26 3699 1555.54 Q3699 1546.79 3702.06 1542.2 Q3705.14 1537.6 3710.95 1537.6 Z\" fill=\"#000000\" fill-rule=\"evenodd\" fill-opacity=\"1\" /><polyline clip-path=\"url(#clip762)\" style=\"stroke:#000000; stroke-linecap:butt; stroke-linejoin:round; stroke-width:2; stroke-opacity:0.1; fill:none\" points=\"\n",
       "  410.666,1458.09 3752.76,1458.09 \n",
       "  \"/>\n",
       "<polyline clip-path=\"url(#clip762)\" style=\"stroke:#000000; stroke-linecap:butt; stroke-linejoin:round; stroke-width:2; stroke-opacity:0.1; fill:none\" points=\"\n",
       "  410.666,88.3366 3752.76,88.3366 \n",
       "  \"/>\n",
       "<polyline clip-path=\"url(#clip760)\" style=\"stroke:#000000; stroke-linecap:butt; stroke-linejoin:round; stroke-width:4; stroke-opacity:1; fill:none\" points=\"\n",
       "  410.666,1499.18 410.666,47.2441 \n",
       "  \"/>\n",
       "<polyline clip-path=\"url(#clip760)\" style=\"stroke:#000000; stroke-linecap:butt; stroke-linejoin:round; stroke-width:4; stroke-opacity:1; fill:none\" points=\"\n",
       "  410.666,1458.09 429.564,1458.09 \n",
       "  \"/>\n",
       "<polyline clip-path=\"url(#clip760)\" style=\"stroke:#000000; stroke-linecap:butt; stroke-linejoin:round; stroke-width:4; stroke-opacity:1; fill:none\" points=\"\n",
       "  410.666,88.3366 429.564,88.3366 \n",
       "  \"/>\n",
       "<path clip-path=\"url(#clip760)\" d=\"M281.167 1443.98 Q276.074 1443.98 273.065 1447.78 Q270.079 1451.57 270.079 1458.12 Q270.079 1464.65 273.065 1468.45 Q276.074 1472.24 281.167 1472.24 Q286.259 1472.24 289.222 1468.45 Q292.208 1464.65 292.208 1458.12 Q292.208 1451.57 289.222 1447.78 Q286.259 1443.98 281.167 1443.98 M281.167 1440.18 Q288.435 1440.18 292.787 1445.07 Q297.139 1449.93 297.139 1458.12 Q297.139 1466.29 292.787 1471.18 Q288.435 1476.04 281.167 1476.04 Q273.875 1476.04 269.5 1471.18 Q265.148 1466.32 265.148 1458.12 Q265.148 1449.93 269.5 1445.07 Q273.875 1440.18 281.167 1440.18 Z\" fill=\"#000000\" fill-rule=\"evenodd\" fill-opacity=\"1\" /><path clip-path=\"url(#clip760)\" d=\"M304.454 1440.81 L309.13 1440.81 L309.13 1471.43 L325.958 1471.43 L325.958 1475.37 L304.454 1475.37 L304.454 1440.81 Z\" fill=\"#000000\" fill-rule=\"evenodd\" fill-opacity=\"1\" /><path clip-path=\"url(#clip760)\" d=\"M351.583 1441.94 L351.583 1446.5 Q348.921 1445.23 346.56 1444.6 Q344.199 1443.98 342 1443.98 Q338.18 1443.98 336.097 1445.46 Q334.037 1446.94 334.037 1449.67 Q334.037 1451.97 335.403 1453.15 Q336.791 1454.3 340.634 1455.02 L343.458 1455.6 Q348.69 1456.59 351.166 1459.12 Q353.666 1461.62 353.666 1465.83 Q353.666 1470.85 350.287 1473.45 Q346.93 1476.04 340.426 1476.04 Q337.972 1476.04 335.194 1475.48 Q332.44 1474.93 329.477 1473.84 L329.477 1469.03 Q332.324 1470.62 335.055 1471.43 Q337.787 1472.24 340.426 1472.24 Q344.43 1472.24 346.606 1470.67 Q348.782 1469.09 348.782 1466.18 Q348.782 1463.63 347.208 1462.2 Q345.657 1460.76 342.092 1460.04 L339.245 1459.49 Q334.014 1458.45 331.676 1456.22 Q329.338 1454 329.338 1450.04 Q329.338 1445.46 332.555 1442.82 Q335.796 1440.18 341.467 1440.18 Q343.898 1440.18 346.421 1440.62 Q348.944 1441.06 351.583 1441.94 Z\" fill=\"#000000\" fill-rule=\"evenodd\" fill-opacity=\"1\" /><path clip-path=\"url(#clip760)\" d=\"M48.668 74.8992 L48.668 101.774 L54.3161 101.774 Q61.4689 101.774 64.7791 98.5333 Q68.1124 95.2926 68.1124 88.3019 Q68.1124 81.3575 64.7791 78.1399 Q61.4689 74.8992 54.3161 74.8992 L48.668 74.8992 M43.9921 71.0566 L53.5986 71.0566 Q63.6448 71.0566 68.3438 75.2464 Q73.0429 79.4131 73.0429 88.3019 Q73.0429 97.237 68.3207 101.427 Q63.5985 105.617 53.5986 105.617 L43.9921 105.617 L43.9921 71.0566 Z\" fill=\"#000000\" fill-rule=\"evenodd\" fill-opacity=\"1\" /><path clip-path=\"url(#clip760)\" d=\"M90.3576 82.6769 Q86.9317 82.6769 84.941 85.3621 Q82.9503 88.0241 82.9503 92.6769 Q82.9503 97.3296 84.9178 100.015 Q86.9086 102.677 90.3576 102.677 Q93.7604 102.677 95.7511 99.9917 Q97.7418 97.3065 97.7418 92.6769 Q97.7418 88.0704 95.7511 85.3853 Q93.7604 82.6769 90.3576 82.6769 M90.3576 79.0659 Q95.9131 79.0659 99.0844 82.6769 Q102.256 86.288 102.256 92.6769 Q102.256 99.0426 99.0844 102.677 Q95.9131 106.288 90.3576 106.288 Q84.7789 106.288 81.6077 102.677 Q78.4595 99.0426 78.4595 92.6769 Q78.4595 86.288 81.6077 82.6769 Q84.7789 79.0659 90.3576 79.0659 Z\" fill=\"#000000\" fill-rule=\"evenodd\" fill-opacity=\"1\" /><path clip-path=\"url(#clip760)\" d=\"M108.876 95.3852 L108.876 79.6908 L113.135 79.6908 L113.135 95.2232 Q113.135 98.9037 114.57 100.756 Q116.006 102.584 118.876 102.584 Q122.325 102.584 124.316 100.385 Q126.33 98.1861 126.33 94.3898 L126.33 79.6908 L130.589 79.6908 L130.589 105.617 L126.33 105.617 L126.33 101.635 Q124.779 103.996 122.719 105.154 Q120.682 106.288 117.973 106.288 Q113.506 106.288 111.191 103.51 Q108.876 100.732 108.876 95.3852 M119.594 79.0659 L119.594 79.0659 Z\" fill=\"#000000\" fill-rule=\"evenodd\" fill-opacity=\"1\" /><path clip-path=\"url(#clip760)\" d=\"M157.973 92.6769 Q157.973 87.9778 156.029 85.3158 Q154.107 82.6306 150.728 82.6306 Q147.348 82.6306 145.404 85.3158 Q143.482 87.9778 143.482 92.6769 Q143.482 97.3759 145.404 100.061 Q147.348 102.723 150.728 102.723 Q154.107 102.723 156.029 100.061 Q157.973 97.3759 157.973 92.6769 M143.482 83.626 Q144.825 81.3112 146.862 80.2001 Q148.922 79.0659 151.769 79.0659 Q156.492 79.0659 159.431 82.8158 Q162.394 86.5658 162.394 92.6769 Q162.394 98.788 159.431 102.538 Q156.492 106.288 151.769 106.288 Q148.922 106.288 146.862 105.177 Q144.825 104.043 143.482 101.728 L143.482 105.617 L139.2 105.617 L139.2 69.5983 L143.482 69.5983 L143.482 83.626 Z\" fill=\"#000000\" fill-rule=\"evenodd\" fill-opacity=\"1\" /><path clip-path=\"url(#clip760)\" d=\"M169.454 69.5983 L173.714 69.5983 L173.714 105.617 L169.454 105.617 L169.454 69.5983 Z\" fill=\"#000000\" fill-rule=\"evenodd\" fill-opacity=\"1\" /><path clip-path=\"url(#clip760)\" d=\"M204.801 91.5889 L204.801 93.6723 L185.218 93.6723 Q185.496 98.0704 187.857 100.385 Q190.241 102.677 194.477 102.677 Q196.931 102.677 199.223 102.075 Q201.538 101.473 203.806 100.269 L203.806 104.297 Q201.514 105.269 199.107 105.779 Q196.7 106.288 194.223 106.288 Q188.019 106.288 184.385 102.677 Q180.774 99.0657 180.774 92.9084 Q180.774 86.5427 184.2 82.8158 Q187.649 79.0659 193.482 79.0659 Q198.714 79.0659 201.746 82.4455 Q204.801 85.8019 204.801 91.5889 M200.542 90.3389 Q200.496 86.8436 198.575 84.7603 Q196.676 82.6769 193.528 82.6769 Q189.964 82.6769 187.811 84.6908 Q185.681 86.7047 185.357 90.3621 L200.542 90.3389 Z\" fill=\"#000000\" fill-rule=\"evenodd\" fill-opacity=\"1\" /><path clip-path=\"url(#clip760)\" d=\"M227.047 71.0566 L231.723 71.0566 L231.723 101.681 L248.551 101.681 L248.551 105.617 L227.047 105.617 L227.047 71.0566 Z\" fill=\"#000000\" fill-rule=\"evenodd\" fill-opacity=\"1\" /><path clip-path=\"url(#clip760)\" d=\"M265.056 92.5843 Q259.894 92.5843 257.903 93.7648 Q255.912 94.9454 255.912 97.7926 Q255.912 100.061 257.394 101.404 Q258.898 102.723 261.468 102.723 Q265.009 102.723 267.139 100.223 Q269.292 97.7 269.292 93.5334 L269.292 92.5843 L265.056 92.5843 M273.551 90.825 L273.551 105.617 L269.292 105.617 L269.292 101.681 Q267.834 104.043 265.658 105.177 Q263.482 106.288 260.334 106.288 Q256.352 106.288 253.991 104.066 Q251.653 101.82 251.653 98.0704 Q251.653 93.6954 254.57 91.4732 Q257.51 89.251 263.32 89.251 L269.292 89.251 L269.292 88.8343 Q269.292 85.8945 267.347 84.2973 Q265.426 82.6769 261.931 82.6769 Q259.709 82.6769 257.602 83.2093 Q255.496 83.7418 253.551 84.8066 L253.551 80.8714 Q255.889 79.9686 258.088 79.5288 Q260.287 79.0659 262.371 79.0659 Q267.996 79.0659 270.773 81.9825 Q273.551 84.8992 273.551 90.825 Z\" fill=\"#000000\" fill-rule=\"evenodd\" fill-opacity=\"1\" /><path clip-path=\"url(#clip760)\" d=\"M298.852 80.4547 L298.852 84.4825 Q297.046 83.5566 295.102 83.0936 Q293.157 82.6306 291.074 82.6306 Q287.903 82.6306 286.306 83.6029 Q284.732 84.5751 284.732 86.5195 Q284.732 88.001 285.866 88.8575 Q287 89.6908 290.426 90.4547 L291.884 90.7788 Q296.421 91.751 298.319 93.5334 Q300.241 95.2926 300.241 98.4639 Q300.241 102.075 297.37 104.181 Q294.523 106.288 289.523 106.288 Q287.44 106.288 285.171 105.871 Q282.926 105.478 280.426 104.668 L280.426 100.269 Q282.787 101.496 285.079 102.121 Q287.37 102.723 289.616 102.723 Q292.625 102.723 294.245 101.705 Q295.866 100.663 295.866 98.788 Q295.866 97.0519 294.685 96.1259 Q293.528 95.2 289.57 94.3435 L288.088 93.9963 Q284.13 93.163 282.37 91.45 Q280.611 89.7139 280.611 86.7047 Q280.611 83.0473 283.204 81.0566 Q285.796 79.0659 290.565 79.0659 Q292.926 79.0659 295.009 79.4131 Q297.093 79.7603 298.852 80.4547 Z\" fill=\"#000000\" fill-rule=\"evenodd\" fill-opacity=\"1\" /><path clip-path=\"url(#clip760)\" d=\"M323.551 80.4547 L323.551 84.4825 Q321.745 83.5566 319.801 83.0936 Q317.856 82.6306 315.773 82.6306 Q312.602 82.6306 311.005 83.6029 Q309.431 84.5751 309.431 86.5195 Q309.431 88.001 310.565 88.8575 Q311.699 89.6908 315.125 90.4547 L316.583 90.7788 Q321.12 91.751 323.018 93.5334 Q324.94 95.2926 324.94 98.4639 Q324.94 102.075 322.069 104.181 Q319.222 106.288 314.222 106.288 Q312.139 106.288 309.87 105.871 Q307.625 105.478 305.125 104.668 L305.125 100.269 Q307.486 101.496 309.778 102.121 Q312.069 102.723 314.315 102.723 Q317.324 102.723 318.944 101.705 Q320.565 100.663 320.565 98.788 Q320.565 97.0519 319.384 96.1259 Q318.227 95.2 314.268 94.3435 L312.787 93.9963 Q308.829 93.163 307.069 91.45 Q305.31 89.7139 305.31 86.7047 Q305.31 83.0473 307.903 81.0566 Q310.495 79.0659 315.264 79.0659 Q317.625 79.0659 319.708 79.4131 Q321.792 79.7603 323.551 80.4547 Z\" fill=\"#000000\" fill-rule=\"evenodd\" fill-opacity=\"1\" /><path clip-path=\"url(#clip760)\" d=\"M341.768 82.6769 Q338.342 82.6769 336.352 85.3621 Q334.361 88.0241 334.361 92.6769 Q334.361 97.3296 336.329 100.015 Q338.319 102.677 341.768 102.677 Q345.171 102.677 347.162 99.9917 Q349.153 97.3065 349.153 92.6769 Q349.153 88.0704 347.162 85.3853 Q345.171 82.6769 341.768 82.6769 M341.768 79.0659 Q347.324 79.0659 350.495 82.6769 Q353.666 86.288 353.666 92.6769 Q353.666 99.0426 350.495 102.677 Q347.324 106.288 341.768 106.288 Q336.19 106.288 333.018 102.677 Q329.87 99.0426 329.87 92.6769 Q329.87 86.288 333.018 82.6769 Q336.19 79.0659 341.768 79.0659 Z\" fill=\"#000000\" fill-rule=\"evenodd\" fill-opacity=\"1\" /><polyline clip-path=\"url(#clip762)\" style=\"stroke:#000000; stroke-linecap:butt; stroke-linejoin:round; stroke-width:4; stroke-opacity:1; fill:none\" stroke-dasharray=\"16, 10\" points=\"\n",
       "  3658.17,1458.09 3066.82,1458.09 \n",
       "  \"/>\n",
       "<polyline clip-path=\"url(#clip762)\" style=\"stroke:#000000; stroke-linecap:butt; stroke-linejoin:round; stroke-width:4; stroke-opacity:1; fill:none\" stroke-dasharray=\"16, 10\" points=\"\n",
       "  3658.17,88.3366 505.254,88.3366 \n",
       "  \"/>\n",
       "<line clip-path=\"url(#clip762)\" x1=\"3658.17\" y1=\"1474.09\" x2=\"3658.17\" y2=\"1442.09\" style=\"stroke:#000000; stroke-width:3.2; stroke-opacity:1\"/>\n",
       "<line clip-path=\"url(#clip762)\" x1=\"3066.82\" y1=\"1474.09\" x2=\"3066.82\" y2=\"1442.09\" style=\"stroke:#000000; stroke-width:3.2; stroke-opacity:1\"/>\n",
       "<line clip-path=\"url(#clip762)\" x1=\"3658.17\" y1=\"104.337\" x2=\"3658.17\" y2=\"72.3366\" style=\"stroke:#000000; stroke-width:3.2; stroke-opacity:1\"/>\n",
       "<line clip-path=\"url(#clip762)\" x1=\"505.254\" y1=\"104.337\" x2=\"505.254\" y2=\"72.3366\" style=\"stroke:#000000; stroke-width:3.2; stroke-opacity:1\"/>\n",
       "<circle clip-path=\"url(#clip762)\" cx=\"3362.49\" cy=\"1458.09\" r=\"14\" fill=\"#ffa500\" fill-rule=\"evenodd\" fill-opacity=\"1\" stroke=\"#000000\" stroke-opacity=\"1\" stroke-width=\"3.2\"/>\n",
       "<circle clip-path=\"url(#clip762)\" cx=\"2081.71\" cy=\"88.3366\" r=\"14\" fill=\"#ffa500\" fill-rule=\"evenodd\" fill-opacity=\"1\" stroke=\"#000000\" stroke-opacity=\"1\" stroke-width=\"3.2\"/>\n",
       "<path clip-path=\"url(#clip760)\" d=\"\n",
       "M3045.94 199.322 L3641.35 199.322 L3641.35 95.642 L3045.94 95.642  Z\n",
       "  \" fill=\"#ffffff\" fill-rule=\"evenodd\" fill-opacity=\"1\"/>\n",
       "<polyline clip-path=\"url(#clip760)\" style=\"stroke:#000000; stroke-linecap:butt; stroke-linejoin:round; stroke-width:4; stroke-opacity:1; fill:none\" points=\"\n",
       "  3045.94,199.322 3641.35,199.322 3641.35,95.642 3045.94,95.642 3045.94,199.322 \n",
       "  \"/>\n",
       "<circle clip-path=\"url(#clip760)\" cx=\"3194.47\" cy=\"147.482\" r=\"23\" fill=\"#ffa500\" fill-rule=\"evenodd\" fill-opacity=\"1\" stroke=\"#000000\" stroke-opacity=\"1\" stroke-width=\"5.12\"/>\n",
       "<path clip-path=\"url(#clip760)\" d=\"M3343.01 130.202 L3364.86 130.202 L3364.86 134.137 L3347.69 134.137 L3347.69 144.369 L3364.15 144.369 L3364.15 148.304 L3347.69 148.304 L3347.69 160.827 L3365.28 160.827 L3365.28 164.762 L3343.01 164.762 L3343.01 130.202 Z\" fill=\"#000000\" fill-rule=\"evenodd\" fill-opacity=\"1\" /><path clip-path=\"url(#clip760)\" d=\"M3389.31 139.6 L3389.31 143.628 Q3387.5 142.702 3385.56 142.239 Q3383.61 141.776 3381.53 141.776 Q3378.36 141.776 3376.76 142.748 Q3375.19 143.72 3375.19 145.665 Q3375.19 147.146 3376.32 148.003 Q3377.46 148.836 3380.88 149.6 L3382.34 149.924 Q3386.88 150.896 3388.78 152.679 Q3390.7 154.438 3390.7 157.609 Q3390.7 161.22 3387.83 163.327 Q3384.98 165.433 3379.98 165.433 Q3377.9 165.433 3375.63 165.017 Q3373.38 164.623 3370.88 163.813 L3370.88 159.415 Q3373.24 160.642 3375.53 161.267 Q3377.83 161.868 3380.07 161.868 Q3383.08 161.868 3384.7 160.85 Q3386.32 159.808 3386.32 157.933 Q3386.32 156.197 3385.14 155.271 Q3383.98 154.345 3380.03 153.489 L3378.54 153.142 Q3374.59 152.308 3372.83 150.595 Q3371.07 148.859 3371.07 145.85 Q3371.07 142.193 3373.66 140.202 Q3376.25 138.211 3381.02 138.211 Q3383.38 138.211 3385.46 138.558 Q3387.55 138.906 3389.31 139.6 Z\" fill=\"#000000\" fill-rule=\"evenodd\" fill-opacity=\"1\" /><path clip-path=\"url(#clip760)\" d=\"M3401.69 131.475 L3401.69 138.836 L3410.46 138.836 L3410.46 142.146 L3401.69 142.146 L3401.69 156.22 Q3401.69 159.392 3402.55 160.294 Q3403.43 161.197 3406.09 161.197 L3410.46 161.197 L3410.46 164.762 L3406.09 164.762 Q3401.16 164.762 3399.28 162.933 Q3397.41 161.081 3397.41 156.22 L3397.41 142.146 L3394.28 142.146 L3394.28 138.836 L3397.41 138.836 L3397.41 131.475 L3401.69 131.475 Z\" fill=\"#000000\" fill-rule=\"evenodd\" fill-opacity=\"1\" /><path clip-path=\"url(#clip760)\" d=\"M3416.07 138.836 L3420.33 138.836 L3420.33 164.762 L3416.07 164.762 L3416.07 138.836 M3416.07 128.744 L3420.33 128.744 L3420.33 134.137 L3416.07 134.137 L3416.07 128.744 Z\" fill=\"#000000\" fill-rule=\"evenodd\" fill-opacity=\"1\" /><path clip-path=\"url(#clip760)\" d=\"M3449.42 143.813 Q3451.02 140.943 3453.24 139.577 Q3455.46 138.211 3458.47 138.211 Q3462.52 138.211 3464.72 141.058 Q3466.92 143.882 3466.92 149.114 L3466.92 164.762 L3462.64 164.762 L3462.64 149.253 Q3462.64 145.526 3461.32 143.72 Q3460 141.915 3457.29 141.915 Q3453.98 141.915 3452.06 144.114 Q3450.14 146.313 3450.14 150.109 L3450.14 164.762 L3445.86 164.762 L3445.86 149.253 Q3445.86 145.503 3444.54 143.72 Q3443.22 141.915 3440.46 141.915 Q3437.2 141.915 3435.28 144.137 Q3433.36 146.336 3433.36 150.109 L3433.36 164.762 L3429.08 164.762 L3429.08 138.836 L3433.36 138.836 L3433.36 142.864 Q3434.82 140.48 3436.85 139.345 Q3438.89 138.211 3441.69 138.211 Q3444.52 138.211 3446.48 139.646 Q3448.47 141.082 3449.42 143.813 Z\" fill=\"#000000\" fill-rule=\"evenodd\" fill-opacity=\"1\" /><path clip-path=\"url(#clip760)\" d=\"M3487.2 151.73 Q3482.04 151.73 3480.05 152.91 Q3478.06 154.091 3478.06 156.938 Q3478.06 159.206 3479.54 160.549 Q3481.04 161.868 3483.61 161.868 Q3487.15 161.868 3489.28 159.368 Q3491.44 156.845 3491.44 152.679 L3491.44 151.73 L3487.2 151.73 M3495.7 149.97 L3495.7 164.762 L3491.44 164.762 L3491.44 160.827 Q3489.98 163.188 3487.8 164.322 Q3485.63 165.433 3482.48 165.433 Q3478.5 165.433 3476.14 163.211 Q3473.8 160.966 3473.8 157.216 Q3473.8 152.841 3476.71 150.619 Q3479.65 148.396 3485.46 148.396 L3491.44 148.396 L3491.44 147.98 Q3491.44 145.04 3489.49 143.443 Q3487.57 141.822 3484.08 141.822 Q3481.85 141.822 3479.75 142.355 Q3477.64 142.887 3475.7 143.952 L3475.7 140.017 Q3478.03 139.114 3480.23 138.674 Q3482.43 138.211 3484.52 138.211 Q3490.14 138.211 3492.92 141.128 Q3495.7 144.044 3495.7 149.97 Z\" fill=\"#000000\" fill-rule=\"evenodd\" fill-opacity=\"1\" /><path clip-path=\"url(#clip760)\" d=\"M3508.68 131.475 L3508.68 138.836 L3517.45 138.836 L3517.45 142.146 L3508.68 142.146 L3508.68 156.22 Q3508.68 159.392 3509.54 160.294 Q3510.42 161.197 3513.08 161.197 L3517.45 161.197 L3517.45 164.762 L3513.08 164.762 Q3508.15 164.762 3506.27 162.933 Q3504.4 161.081 3504.4 156.22 L3504.4 142.146 L3501.27 142.146 L3501.27 138.836 L3504.4 138.836 L3504.4 131.475 L3508.68 131.475 Z\" fill=\"#000000\" fill-rule=\"evenodd\" fill-opacity=\"1\" /><path clip-path=\"url(#clip760)\" d=\"M3533.1 141.822 Q3529.68 141.822 3527.69 144.507 Q3525.7 147.169 3525.7 151.822 Q3525.7 156.475 3527.66 159.16 Q3529.65 161.822 3533.1 161.822 Q3536.51 161.822 3538.5 159.137 Q3540.49 156.452 3540.49 151.822 Q3540.49 147.216 3538.5 144.531 Q3536.51 141.822 3533.1 141.822 M3533.1 138.211 Q3538.66 138.211 3541.83 141.822 Q3545 145.433 3545 151.822 Q3545 158.188 3541.83 161.822 Q3538.66 165.433 3533.1 165.433 Q3527.52 165.433 3524.35 161.822 Q3521.2 158.188 3521.2 151.822 Q3521.2 145.433 3524.35 141.822 Q3527.52 138.211 3533.1 138.211 Z\" fill=\"#000000\" fill-rule=\"evenodd\" fill-opacity=\"1\" /><path clip-path=\"url(#clip760)\" d=\"M3567.08 142.818 Q3566.37 142.401 3565.51 142.216 Q3564.68 142.007 3563.66 142.007 Q3560.05 142.007 3558.1 144.369 Q3556.18 146.707 3556.18 151.105 L3556.18 164.762 L3551.9 164.762 L3551.9 138.836 L3556.18 138.836 L3556.18 142.864 Q3557.52 140.503 3559.68 139.369 Q3561.83 138.211 3564.91 138.211 Q3565.35 138.211 3565.88 138.281 Q3566.41 138.327 3567.06 138.443 L3567.08 142.818 Z\" fill=\"#000000\" fill-rule=\"evenodd\" fill-opacity=\"1\" /></svg>\n"
      ]
     },
     "execution_count": 50,
>>>>>>> Stashed changes
     "metadata": {},
     "output_type": "execute_result"
    }
   ],
   "source": [
    "scatter(table_3_pandas[!,2], [\"OLS\", \"Double Lasso\"], label = \"Estimator\", xerrors = xerror, \n",
    "        xtick = -1:0.008:1, linestyle = :dash, seriescolor=:orange)\n",
    "plot!(size=(950,400))"
   ]
  },
  {
   "cell_type": "markdown",
   "id": "41c26f64",
   "metadata": {},
   "source": [
    "# Using HDMJL"
   ]
  },
  {
   "cell_type": "markdown",
   "id": "98f11258",
   "metadata": {},
   "source": [
    "### First we need to call hdmjl.jl script to use all the functions, mainly rlasso function"
   ]
  },
  {
   "cell_type": "code",
<<<<<<< Updated upstream
   "execution_count": 68,
=======
   "execution_count": 63,
>>>>>>> Stashed changes
   "id": "b6c18566",
   "metadata": {},
   "outputs": [],
   "source": [
    "include(\"hdmjl/hdmjl.jl\")"
   ]
  },
  {
   "cell_type": "markdown",
   "id": "e9cff8c9",
   "metadata": {},
   "source": [
    "### You use the **rlasso_arg** to declare the parameters that we use and the matrixes need.  You only need to change the first two arguments! "
   ]
  },
  {
   "cell_type": "code",
<<<<<<< Updated upstream
   "execution_count": 69,
=======
   "execution_count": 64,
>>>>>>> Stashed changes
   "id": "a9145440",
   "metadata": {},
   "outputs": [
    {
     "data": {
      "text/plain": [
       "rlasso_arg(\u001b[1m90×60 DataFrame\u001b[0m\n",
       "\u001b[1m Row \u001b[0m│\u001b[1m bmp1l   \u001b[0m\u001b[1m freeop   \u001b[0m\u001b[1m freetar  \u001b[0m\u001b[1m h65     \u001b[0m\u001b[1m hm65    \u001b[0m\u001b[1m hf65    \u001b[0m\u001b[1m p65     \u001b[0m\u001b[1m pm65  \u001b[0m ⋯\n",
       "\u001b[1m     \u001b[0m│\u001b[90m Float64 \u001b[0m\u001b[90m Float64  \u001b[0m\u001b[90m Float64  \u001b[0m\u001b[90m Float64 \u001b[0m\u001b[90m Float64 \u001b[0m\u001b[90m Float64 \u001b[0m\u001b[90m Float64 \u001b[0m\u001b[90m Float6\u001b[0m ⋯\n",
       "─────┼──────────────────────────────────────────────────────────────────────────\n",
       "   1 │  0.2837  0.153491  0.043888    0.007    0.013    0.001     0.29     0.3 ⋯\n",
       "   2 │  0.6141  0.313509  0.061827    0.019    0.032    0.007     0.91     1.0\n",
       "   3 │  0.0     0.204244  0.009186    0.26     0.325    0.201     1.0      1.0\n",
       "   4 │  0.1997  0.248714  0.03627     0.061    0.07     0.051     1.0      1.0\n",
       "   5 │  0.174   0.299252  0.037367    0.017    0.027    0.007     0.82     0.8 ⋯\n",
       "   6 │  0.0     0.258865  0.02088     0.023    0.038    0.006     0.5      0.5\n",
       "   7 │  0.0     0.182525  0.014385    0.039    0.063    0.014     0.92     0.9\n",
       "   8 │  0.2776  0.215275  0.029713    0.024    0.035    0.013     0.69     0.6\n",
       "   9 │  0.0     0.109614  0.002171    0.402    0.488    0.314     1.0      1.0 ⋯\n",
       "  10 │  0.1484  0.110885  0.028579    0.145    0.173    0.114     1.0      1.0\n",
       "  11 │  0.0296  0.165784  0.020115    0.046    0.066    0.025     0.73     0.8\n",
       "  ⋮  │    ⋮        ⋮         ⋮         ⋮        ⋮        ⋮        ⋮        ⋮   ⋱\n",
       "  81 │  0.0     0.293138  0.005517    0.245    0.251    0.238     1.0      1.0\n",
       "  82 │  0.0     0.30472   0.011658    0.246    0.26     0.19      1.0      1.0 ⋯\n",
       "  83 │  0.0363  0.288405  0.011589    0.183    0.222    0.142     1.0      1.0\n",
       "  84 │  0.0     0.345485  0.006503    0.188    0.248    0.136     1.0      1.0\n",
       "  85 │  0.0     0.28844   0.005995    0.256    0.301    0.199     1.0      1.0\n",
       "  86 │  0.0     0.371898  0.014586    0.255    0.336    0.17      0.98     0.9 ⋯\n",
       "  87 │  0.005   0.296437  0.013615    0.108    0.117    0.093     1.0      1.0\n",
       "  88 │  0.0     0.265778  0.008629    0.288    0.337    0.237     1.0      1.0\n",
       "  89 │  0.0     0.282939  0.005048    0.188    0.236    0.139     1.0      1.0\n",
       "  90 │  0.0     0.150366  0.024377    0.257    0.338    0.215     1.0      1.0 ⋯\n",
       "\u001b[36m                                                  53 columns and 69 rows omitted\u001b[0m, \u001b[1m90×1 DataFrame\u001b[0m\n",
       "\u001b[1m Row \u001b[0m│\u001b[1m Y          \u001b[0m\n",
       "\u001b[1m     \u001b[0m│\u001b[90m Float64    \u001b[0m\n",
       "─────┼────────────\n",
       "   1 │ -0.0243358\n",
       "   2 │  0.100473\n",
       "   3 │  0.0670515\n",
       "   4 │  0.0640892\n",
       "   5 │  0.0279295\n",
       "   6 │  0.0464074\n",
       "   7 │  0.0673323\n",
       "   8 │  0.0209777\n",
       "   9 │  0.0335512\n",
       "  10 │  0.0391465\n",
       "  11 │  0.0761265\n",
       "  ⋮  │     ⋮\n",
       "  81 │  0.038095\n",
       "  82 │  0.034213\n",
       "  83 │  0.0527591\n",
       "  84 │  0.0384156\n",
       "  85 │  0.0318948\n",
       "  86 │  0.031196\n",
       "  87 │  0.0340957\n",
       "  88 │  0.0469005\n",
       "  89 │  0.0397734\n",
       "  90 │  0.0406415\n",
       "\u001b[36m   69 rows omitted\u001b[0m, nothing, true, true, true, false, false, nothing, 1.1, nothing, 5000, 15, 1.0000000000000003e-5, -Inf, true, Inf, true)"
      ]
     },
<<<<<<< Updated upstream
     "execution_count": 69,
=======
     "execution_count": 64,
>>>>>>> Stashed changes
     "metadata": {},
     "output_type": "execute_result"
    }
   ],
   "source": [
    "res_Y_0 = rlasso_arg( W, Y, nothing, true, true, true, false, false, \n",
    "                    nothing, 1.1, nothing, 5000, 15, 10^(-5), -Inf, true, Inf, true )"
   ]
  },
  {
   "cell_type": "markdown",
   "id": "0e448287",
   "metadata": {},
   "source": [
    "### Then we need to use the rlasso function including the arguments declared above "
   ]
  },
  {
   "cell_type": "code",
<<<<<<< Updated upstream
   "execution_count": 70,
=======
   "execution_count": 65,
>>>>>>> Stashed changes
   "id": "947b512e",
   "metadata": {},
   "outputs": [
    {
     "data": {
      "text/plain": [
       "Dict{String, Any} with 19 entries:\n",
       "  \"tss\"          => 0.23435\n",
       "  \"dev\"          => [-0.0696852, 0.0551231, 0.021702, 0.0187397, -0.0174199, 0.…\n",
       "  \"model\"        => [0.114953 -0.0666109 … -42.3159 -0.023963; 0.445353 0.09340…\n",
       "  \"loadings\"     => [0.0105688 0.00313556 … 6.58751 0.00342864]\n",
       "  \"sigma\"        => [0.0477366]\n",
       "  \"lambda0\"      => 74.3078\n",
       "  \"lambda\"       => \u001b[1m60×2 DataFrame\u001b[0m…\n",
       "  \"intercept\"    => 0.0581009\n",
       "  \"Xy\"           => [-0.417365, 0.0764848, -0.0198564, -0.0288688, -0.00603343,…\n",
       "  \"iter\"         => 4\n",
       "  \"residuals\"    => [-0.0609987, 0.0887764, 0.00895057, 0.0210787, -0.017023, -…\n",
       "  \"rss\"          => 0.23435\n",
       "  \"index\"        => Bool[1, 0, 0, 0, 0, 0, 0, 0, 0, 0  …  0, 0, 0, 0, 0, 0, 0, …\n",
       "  \"beta\"         => \u001b[1m60×2 DataFrame\u001b[0m…\n",
       "  \"options\"      => Dict{String, Any}(\"intercept\"=>true, \"post\"=>true, \"meanx\"=…\n",
       "  \"x1\"           => [0.114953; 0.445353; … ; -0.168747; -0.168747;;]\n",
       "  \"pen\"          => Dict{String, Any}(\"lambda0\"=>74.3078, \"lambda\"=>[0.786932; …\n",
       "  \"startingval\"  => [-0.0364456, 0.0729772, 0.0168573, 0.0172799, -0.0214212, 0…\n",
       "  \"coefficients\" => \u001b[1m61×2 DataFrame\u001b[0m…"
      ]
     },
<<<<<<< Updated upstream
     "execution_count": 70,
=======
     "execution_count": 65,
>>>>>>> Stashed changes
     "metadata": {},
     "output_type": "execute_result"
    }
   ],
   "source": [
    "res_Y = rlasso(res_Y_0)"
   ]
  },
  {
   "cell_type": "markdown",
   "id": "dbf584e0",
   "metadata": {},
   "source": [
    "### The output is a dictionary, so you can access using the main keys. In our case we need the residuals"
   ]
  },
  {
   "cell_type": "code",
<<<<<<< Updated upstream
   "execution_count": 71,
=======
   "execution_count": 66,
>>>>>>> Stashed changes
   "id": "db8d6a3c",
   "metadata": {},
   "outputs": [
    {
     "data": {
      "text/plain": [
       "90-element Vector{Float64}:\n",
       " -0.06099874009956701\n",
       "  0.08877641223870311\n",
       "  0.008950566442299697\n",
       "  0.021078676644940578\n",
       " -0.017022974171323174\n",
       " -0.011693476557700297\n",
       "  0.009231424442299706\n",
       " -0.01614625852288254\n",
       " -0.0245496795577003\n",
       " -0.007740475439663712\n",
       "  0.02026232962756845\n",
       "  0.08610442802511419\n",
       " -0.04979783062530005\n",
       "  ⋮\n",
       "  0.04302905133674367\n",
       "  0.007127644442299706\n",
       " -0.0200058925577003\n",
       " -0.0238879135577003\n",
       " -0.002598750661576797\n",
       " -0.019685277557700297\n",
       " -0.0262061255577003\n",
       " -0.0269049305577003\n",
       " -0.023627432161540035\n",
       " -0.011200453557700302\n",
       " -0.018327543557700297\n",
       " -0.0174593775577003"
      ]
     },
<<<<<<< Updated upstream
     "execution_count": 71,
=======
     "execution_count": 66,
>>>>>>> Stashed changes
     "metadata": {},
     "output_type": "execute_result"
    }
   ],
   "source": [
    "res_Y = res_Y[\"residuals\"]"
   ]
  },
  {
   "cell_type": "markdown",
   "id": "bf74e53f",
   "metadata": {},
   "source": [
    "### We do the same for the second equation"
   ]
  },
  {
   "cell_type": "code",
<<<<<<< Updated upstream
   "execution_count": 72,
=======
   "execution_count": 67,
>>>>>>> Stashed changes
   "id": "0ea7e3ec",
   "metadata": {},
   "outputs": [
    {
     "data": {
      "text/plain": [
       "90×1 Matrix{Float64}:\n",
       "  0.5222476356191383\n",
       "  0.13027816139145787\n",
       "  0.07232102747813007\n",
       " -0.13196899833674824\n",
       "  0.09840468850707951\n",
       "  0.35730568468428503\n",
       "  0.2940976463777745\n",
       "  0.7977842044326772\n",
       " -0.012818468998378796\n",
       "  0.0894831204466463\n",
       "  0.2479204691420016\n",
       " -0.15386797901857718\n",
       "  0.519165734469782\n",
       "  ⋮\n",
       "  0.3977750029233086\n",
       " -0.21166662271143571\n",
       "  0.32571865064338956\n",
       "  0.18176367161336326\n",
       " -0.3787033106715221\n",
       " -0.30497902649692843\n",
       " -0.11113678995670373\n",
       "  0.11492064458763807\n",
       " -0.08623958408114252\n",
       " -0.013143270340858715\n",
       "  0.08676507620589669\n",
       "  0.08653048463271396"
      ]
     },
<<<<<<< Updated upstream
     "execution_count": 72,
=======
     "execution_count": 67,
>>>>>>> Stashed changes
     "metadata": {},
     "output_type": "execute_result"
    }
   ],
   "source": [
    "res_D_0 = rlasso_arg( W, D, nothing, true, true, true, false, false, \n",
    "                    nothing, 1.1, nothing, 5000, 15, 10^(-5), -Inf, true, Inf, true )\n",
    "res_D = rlasso(res_D_0)[\"residuals\"]\n",
    "# We need to convert the vector into matrix because the lm function requires \"X\" to be matrix \n",
    "res_D = reshape(res_D, length(res_D), 1)"
   ]
  },
  {
   "cell_type": "markdown",
   "id": "babe22a1",
   "metadata": {},
   "source": [
    "### Regress errors "
   ]
  },
  {
   "cell_type": "code",
<<<<<<< Updated upstream
   "execution_count": 73,
=======
   "execution_count": 68,
>>>>>>> Stashed changes
   "id": "9d34b7e0",
   "metadata": {},
   "outputs": [
    {
     "data": {
      "text/plain": [
       "LinearModel{GLM.LmResp{Vector{Float64}}, GLM.DensePredChol{Float64, CholeskyPivoted{Float64, Matrix{Float64}}}}:\n",
       "\n",
       "Coefficients:\n",
       "───────────────────────────────────────────────────────────────────\n",
       "         Coef.  Std. Error      t  Pr(>|t|)   Lower 95%   Upper 95%\n",
       "───────────────────────────────────────────────────────────────────\n",
       "x1  -0.0498115   0.0138578  -3.59    0.0005  -0.0773467  -0.0222762\n",
       "───────────────────────────────────────────────────────────────────\n"
      ]
     },
<<<<<<< Updated upstream
     "execution_count": 73,
=======
     "execution_count": 68,
>>>>>>> Stashed changes
     "metadata": {},
     "output_type": "execute_result"
    }
   ],
   "source": [
    "lm(res_D, res_Y)"
   ]
  },
  {
   "cell_type": "code",
   "execution_count": null,
   "id": "2cff2aa0",
   "metadata": {},
   "outputs": [],
   "source": []
  },
  {
   "cell_type": "code",
   "execution_count": null,
   "id": "4b02a9bb",
   "metadata": {},
   "outputs": [],
   "source": []
  }
 ],
 "metadata": {
  "kernelspec": {
   "display_name": "Julia 1.7.2",
   "language": "julia",
   "name": "julia-1.7"
  },
  "language_info": {
   "file_extension": ".jl",
   "mimetype": "application/julia",
   "name": "julia",
   "version": "1.7.2"
  }
 },
 "nbformat": 4,
 "nbformat_minor": 5
}
