{
 "cells": [
  {
   "cell_type": "code",
   "execution_count": 3,
   "id": "a91ee55a",
   "metadata": {},
   "outputs": [],
   "source": [
    "# import Pkg; Pkg.add(\"CSV\")\n",
    "# import Pkg; Pkg.add(\"Grep\")\n",
    "# import Pkg; Pkg.add(\"FixedEffectModels\")"
   ]
  },
  {
   "cell_type": "code",
   "execution_count": 4,
   "id": "71ba78e9",
   "metadata": {},
   "outputs": [],
   "source": [
    "using CSV, DataFrames, Grep\n",
    "using RData, LinearAlgebra, GLM, DataFrames, Statistics, Random, Distributions, DataStructures, NamedArrays, PrettyTables\n",
    "import CodecBzip2\n"
   ]
  },
  {
   "cell_type": "markdown",
   "id": "d5a9019a",
   "metadata": {
    "papermill": {
     "duration": 0.018414,
     "end_time": "2021-02-13T17:30:13.212232",
     "exception": false,
     "start_time": "2021-02-13T17:30:13.193818",
     "status": "completed"
    },
    "tags": []
   },
   "source": [
    "This notebook contains an example for teaching."
   ]
  },
  {
   "cell_type": "markdown",
   "id": "014f8774",
   "metadata": {
    "papermill": {
     "duration": 0.016442,
     "end_time": "2021-02-13T17:30:13.246048",
     "exception": false,
     "start_time": "2021-02-13T17:30:13.229606",
     "status": "completed"
    },
    "tags": []
   },
   "source": [
    "# A Case Study: The Effect of Gun Ownership on Gun-Homicide Rates"
   ]
  },
  {
   "cell_type": "markdown",
   "id": "93683e92",
   "metadata": {
    "papermill": {
     "duration": 0.017996,
     "end_time": "2021-02-13T17:30:13.281738",
     "exception": false,
     "start_time": "2021-02-13T17:30:13.263742",
     "status": "completed"
    },
    "tags": []
   },
   "source": [
    "We consider the problem of estimating the effect of gun\n",
    "ownership on the homicide rate. For this purpose, we estimate the following partially\n",
    "linear model\n",
    "\n",
    "$$\n",
    " Y_{j,t} = \\beta D_{j,(t-1)} + g(Z_{j,t}) + \\epsilon_{j,t}.\n",
    "$$"
   ]
  },
  {
   "cell_type": "markdown",
   "id": "74c82719",
   "metadata": {
    "papermill": {
     "duration": 0.016649,
     "end_time": "2021-02-13T17:30:13.315270",
     "exception": false,
     "start_time": "2021-02-13T17:30:13.298621",
     "status": "completed"
    },
    "tags": []
   },
   "source": [
    "## Data"
   ]
  },
  {
   "cell_type": "markdown",
   "id": "d508d891",
   "metadata": {
    "papermill": {
     "duration": 0.018756,
     "end_time": "2021-02-13T17:30:13.351290",
     "exception": false,
     "start_time": "2021-02-13T17:30:13.332534",
     "status": "completed"
    },
    "tags": []
   },
   "source": [
    "$Y_{j,t}$ is log homicide rate in county $j$ at time $t$, $D_{j, t-1}$ is log  fraction of suicides committed with a firearm in county $j$ at time $t-1$, which we use as a proxy for gun ownership,  and  $Z_{j,t}$ is a set of demographic and economic characteristics of county $j$ at time $t$. The parameter $\\beta$ is the effect of gun ownership on the\n",
    "homicide rates, controlling for county-level demographic and economic characteristics. \n",
    "\n",
    "The sample covers 195 large United States counties between the years 1980 through 1999, giving us 3900 observations."
   ]
  },
  {
   "cell_type": "code",
   "execution_count": 646,
   "id": "9f67a6d2",
   "metadata": {
    "execution": {
     "iopub.execute_input": "2021-02-13T17:30:13.420018Z",
     "iopub.status.busy": "2021-02-13T17:30:13.417784Z",
     "iopub.status.idle": "2021-02-13T17:30:14.397557Z",
     "shell.execute_reply": "2021-02-13T17:30:14.396020Z"
    },
    "papermill": {
     "duration": 1.027605,
     "end_time": "2021-02-13T17:30:14.397806",
     "exception": false,
     "start_time": "2021-02-13T17:30:13.370201",
     "status": "completed"
    },
    "tags": []
   },
   "outputs": [
    {
     "data": {
      "text/plain": [
       "(3900, 415)"
      ]
     },
     "execution_count": 646,
     "metadata": {},
     "output_type": "execute_result"
    }
   ],
   "source": [
    "data = CSV.File(\"../data/gun_clean.csv\") |> DataFrame\n",
    "size(data)"
   ]
  },
  {
   "cell_type": "markdown",
   "id": "8d60316c",
   "metadata": {
    "papermill": {
     "duration": 0.017216,
     "end_time": "2021-02-13T17:30:14.432656",
     "exception": false,
     "start_time": "2021-02-13T17:30:14.415440",
     "status": "completed"
    },
    "tags": []
   },
   "source": [
    "### Preprocessing"
   ]
  },
  {
   "cell_type": "markdown",
   "id": "7168761a",
   "metadata": {
    "papermill": {
     "duration": 0.017212,
     "end_time": "2021-02-13T17:30:14.467075",
     "exception": false,
     "start_time": "2021-02-13T17:30:14.449863",
     "status": "completed"
    },
    "tags": []
   },
   "source": [
    "To account for heterogeneity across counties and time trends in  all variables, we remove from them county-specific and time-specific effects in the following preprocessing."
   ]
  },
  {
   "cell_type": "code",
   "execution_count": 6,
   "id": "906e37eb",
   "metadata": {
    "execution": {
     "iopub.execute_input": "2021-02-13T17:30:14.549368Z",
     "iopub.status.busy": "2021-02-13T17:30:14.504714Z",
     "iopub.status.idle": "2021-02-13T17:30:38.894116Z",
     "shell.execute_reply": "2021-02-13T17:30:38.893545Z"
    },
    "papermill": {
     "duration": 24.410531,
     "end_time": "2021-02-13T17:30:38.894264",
     "exception": false,
     "start_time": "2021-02-13T17:30:14.483733",
     "status": "completed"
    },
    "tags": []
   },
   "outputs": [],
   "source": [
    "# #################################  Find Variable Names from Dataset ########################\n",
    "\n",
    "# varlist <- function (df=NULL,type=c(\"numeric\",\"factor\",\"character\"), pattern=\"\", exclude=NULL) {\n",
    "#   vars <- character(0)\n",
    "#   if (any(type %in% \"numeric\")) {\n",
    "#     vars <- c(vars,names(df)[sapply(df,is.numeric)])\n",
    "#   }\n",
    "#   if (any(type %in% \"factor\")) {\n",
    "#     vars <- c(vars,names(df)[sapply(df,is.factor)])\n",
    "#   }  \n",
    "#   if (any(type %in% \"character\")) {\n",
    "#     vars <- c(vars,names(df)[sapply(df,is.character)])\n",
    "#   }  \n",
    "#   vars[(!vars %in% exclude) & grepl(vars,pattern=pattern)]\n",
    "# }"
   ]
  },
  {
   "cell_type": "code",
   "execution_count": 7,
   "id": "eb776019",
   "metadata": {},
   "outputs": [
    {
     "name": "stdout",
     "output_type": "stream",
     "text": [
      "Variable: <<Fixed>> has 195 features\n",
      "Variable: <<Year>> has 21 outcomes\n",
      "Variable: <<Census>> has 186 features\n"
     ]
    }
   ],
   "source": [
    "################################# Create Variables ###############################\n",
    "\n",
    "\n",
    "# Dummy Variables for Year and County Fixed Effects\n",
    "R = r\"X_Jfips\"\n",
    "fixed = grep(R, names(data))\n",
    "year = grep(\"X_Tyear\", names(data))\n",
    "println(\"Variable: <<Fixed>> has \", length(fixed), \" features\")\n",
    "println(\"Variable: <<Year>> has \", length(year), \" outcomes\")\n",
    "\n",
    "# Census Control Variables\n",
    "\n",
    "census = []\n",
    "census_var = [\"AGE\", \"BN\", \"BP\", \"BZ\", \"ED\", \"EL\", \"HI\", \"HS\", \"INC\", \"LF\", \"LN\", \"PI\", \"PO\", \"PP\", \"PV\", \"SPR\", \"VS\"]\n",
    "\n",
    "for i in 1:size(census_var, 1) \n",
    "    append!(census, grep(census_var[i], names(data)))\n",
    "end\n",
    "\n",
    "println(\"Variable: <<Census>> has \", length(census), \" features\")\n"
   ]
  },
  {
   "cell_type": "code",
   "execution_count": 8,
   "id": "f3405966",
   "metadata": {
    "execution": {
     "iopub.execute_input": "2021-02-13T17:30:14.549368Z",
     "iopub.status.busy": "2021-02-13T17:30:14.504714Z",
     "iopub.status.idle": "2021-02-13T17:30:38.894116Z",
     "shell.execute_reply": "2021-02-13T17:30:38.893545Z"
    },
    "papermill": {
     "duration": 24.410531,
     "end_time": "2021-02-13T17:30:38.894264",
     "exception": false,
     "start_time": "2021-02-13T17:30:14.483733",
     "status": "completed"
    },
    "scrolled": true,
    "tags": []
   },
   "outputs": [
    {
     "name": "stdout",
     "output_type": "stream",
     "text": [
      "Variable: <<varlist2>> has 197 features\n"
     ]
    },
    {
     "data": {
      "text/html": [
       "<div class=\"data-frame\"><p>3,900 rows × 198 columns (omitted printing of 191 columns)</p><table class=\"data-frame\"><thead><tr><th></th><th>CountyCode</th><th>logghomr</th><th>logfssl</th><th>logrobr</th><th>logburg</th><th>burg_missing</th><th>robrate_missing</th></tr><tr><th></th><th title=\"Int64\">Int64</th><th title=\"Float64\">Float64</th><th title=\"Float64\">Float64</th><th title=\"Float64\">Float64</th><th title=\"Float64\">Float64</th><th title=\"Float64\">Float64</th><th title=\"Float64\">Float64</th></tr></thead><tbody><tr><th>1</th><td>1073</td><td>-0.134778</td><td>0.0961271</td><td>0.150893</td><td>-0.124395</td><td>0.0104613</td><td>-0.021229</td></tr><tr><th>2</th><td>1073</td><td>-0.239622</td><td>0.0808094</td><td>0.0401683</td><td>-0.134781</td><td>0.0104613</td><td>-0.0194181</td></tr><tr><th>3</th><td>1073</td><td>-0.0786772</td><td>0.0573399</td><td>-0.017679</td><td>-0.167909</td><td>0.0104613</td><td>-0.0220374</td></tr><tr><th>4</th><td>1073</td><td>-0.331465</td><td>0.0816945</td><td>-0.00963344</td><td>-0.22925</td><td>0.0104613</td><td>-0.0194181</td></tr><tr><th>5</th><td>1073</td><td>-0.31664</td><td>0.0253655</td><td>-0.0267151</td><td>-0.176635</td><td>0.00324793</td><td>-0.0208037</td></tr><tr><th>6</th><td>1073</td><td>0.105132</td><td>-0.00677726</td><td>-0.151487</td><td>-0.189069</td><td>0.0104613</td><td>0.016953</td></tr><tr><th>7</th><td>1073</td><td>-0.0373401</td><td>0.0773061</td><td>-0.166729</td><td>-0.117739</td><td>0.0104613</td><td>0.0245505</td></tr><tr><th>8</th><td>1073</td><td>-0.0520609</td><td>-0.108433</td><td>-0.0996453</td><td>-0.0833094</td><td>0.00448964</td><td>0.021457</td></tr><tr><th>9</th><td>1073</td><td>0.0547007</td><td>-0.0340988</td><td>0.151557</td><td>0.319282</td><td>-0.0448348</td><td>-0.0366629</td></tr><tr><th>10</th><td>1073</td><td>0.122094</td><td>-0.0824292</td><td>0.0476034</td><td>-0.0144728</td><td>-0.00233214</td><td>0.00765442</td></tr><tr><th>11</th><td>1073</td><td>0.110314</td><td>-0.0243444</td><td>0.00814297</td><td>-0.0349694</td><td>0.0104613</td><td>0.0101673</td></tr><tr><th>12</th><td>1073</td><td>0.256268</td><td>0.0634195</td><td>-0.0811847</td><td>0.0441466</td><td>0.00848568</td><td>0.0169169</td></tr><tr><th>13</th><td>1073</td><td>0.079057</td><td>0.00661864</td><td>-0.153504</td><td>0.393015</td><td>-0.0484441</td><td>0.0230577</td></tr><tr><th>14</th><td>1073</td><td>-0.0133902</td><td>-0.0132008</td><td>-0.148069</td><td>-0.0146316</td><td>0.00886135</td><td>0.0161103</td></tr><tr><th>15</th><td>1073</td><td>0.0277005</td><td>-0.0806736</td><td>0.0247091</td><td>0.0531618</td><td>0.00677168</td><td>0.0155368</td></tr><tr><th>16</th><td>1073</td><td>0.0707179</td><td>-0.104579</td><td>0.235093</td><td>0.178299</td><td>-0.00374318</td><td>0.000594213</td></tr><tr><th>17</th><td>1073</td><td>0.22407</td><td>0.0292543</td><td>0.294984</td><td>0.146047</td><td>-0.00460173</td><td>-0.0205562</td></tr><tr><th>18</th><td>1073</td><td>0.154477</td><td>-0.0506763</td><td>0.0237644</td><td>0.0162414</td><td>0.00588019</td><td>0.00584345</td></tr><tr><th>19</th><td>1073</td><td>0.0420251</td><td>-0.00620195</td><td>-0.116843</td><td>-0.0173146</td><td>0.00543154</td><td>0.0053948</td></tr><tr><th>20</th><td>1073</td><td>-0.0425827</td><td>-0.00652045</td><td>-0.00542654</td><td>0.154285</td><td>-0.0124411</td><td>-0.00411101</td></tr><tr><th>21</th><td>1097</td><td>0.267062</td><td>0.0433706</td><td>0.106903</td><td>-0.117615</td><td>0.00797198</td><td>-0.0161775</td></tr><tr><th>22</th><td>1097</td><td>0.286461</td><td>0.115747</td><td>0.0906478</td><td>-0.0953381</td><td>0.00797198</td><td>-0.0147974</td></tr><tr><th>23</th><td>1097</td><td>0.0824029</td><td>-0.0144649</td><td>0.0844482</td><td>-0.115481</td><td>0.00797198</td><td>-0.0167935</td></tr><tr><th>24</th><td>1097</td><td>-0.248465</td><td>0.0497808</td><td>0.0297359</td><td>-0.187202</td><td>0.00797198</td><td>-0.0147974</td></tr><tr><th>25</th><td>1097</td><td>-0.0636725</td><td>0.0128667</td><td>-0.0270093</td><td>-0.187794</td><td>0.00247507</td><td>-0.0158534</td></tr><tr><th>26</th><td>1097</td><td>-0.284223</td><td>0.0837605</td><td>-0.220044</td><td>-0.148477</td><td>0.00797198</td><td>0.0129189</td></tr><tr><th>27</th><td>1097</td><td>-0.143405</td><td>-0.0139795</td><td>-0.2442</td><td>-0.0289042</td><td>0.00797198</td><td>0.0187086</td></tr><tr><th>28</th><td>1097</td><td>-0.217032</td><td>0.02018</td><td>-0.217045</td><td>0.127496</td><td>0.00342131</td><td>0.0163512</td></tr><tr><th>29</th><td>1097</td><td>0.139978</td><td>0.0450422</td><td>0.10424</td><td>0.393619</td><td>-0.0341662</td><td>-0.0279388</td></tr><tr><th>30</th><td>1097</td><td>-0.0775231</td><td>-0.077206</td><td>-0.172381</td><td>-0.00919521</td><td>-0.0017772</td><td>0.00583301</td></tr><tr><th>&vellip;</th><td>&vellip;</td><td>&vellip;</td><td>&vellip;</td><td>&vellip;</td><td>&vellip;</td><td>&vellip;</td><td>&vellip;</td></tr></tbody></table></div>"
      ],
      "text/latex": [
       "\\begin{tabular}{r|cccccccc}\n",
       "\t& CountyCode & logghomr & logfssl & logrobr & logburg & burg\\_missing & robrate\\_missing & \\\\\n",
       "\t\\hline\n",
       "\t& Int64 & Float64 & Float64 & Float64 & Float64 & Float64 & Float64 & \\\\\n",
       "\t\\hline\n",
       "\t1 & 1073 & -0.134778 & 0.0961271 & 0.150893 & -0.124395 & 0.0104613 & -0.021229 & $\\dots$ \\\\\n",
       "\t2 & 1073 & -0.239622 & 0.0808094 & 0.0401683 & -0.134781 & 0.0104613 & -0.0194181 & $\\dots$ \\\\\n",
       "\t3 & 1073 & -0.0786772 & 0.0573399 & -0.017679 & -0.167909 & 0.0104613 & -0.0220374 & $\\dots$ \\\\\n",
       "\t4 & 1073 & -0.331465 & 0.0816945 & -0.00963344 & -0.22925 & 0.0104613 & -0.0194181 & $\\dots$ \\\\\n",
       "\t5 & 1073 & -0.31664 & 0.0253655 & -0.0267151 & -0.176635 & 0.00324793 & -0.0208037 & $\\dots$ \\\\\n",
       "\t6 & 1073 & 0.105132 & -0.00677726 & -0.151487 & -0.189069 & 0.0104613 & 0.016953 & $\\dots$ \\\\\n",
       "\t7 & 1073 & -0.0373401 & 0.0773061 & -0.166729 & -0.117739 & 0.0104613 & 0.0245505 & $\\dots$ \\\\\n",
       "\t8 & 1073 & -0.0520609 & -0.108433 & -0.0996453 & -0.0833094 & 0.00448964 & 0.021457 & $\\dots$ \\\\\n",
       "\t9 & 1073 & 0.0547007 & -0.0340988 & 0.151557 & 0.319282 & -0.0448348 & -0.0366629 & $\\dots$ \\\\\n",
       "\t10 & 1073 & 0.122094 & -0.0824292 & 0.0476034 & -0.0144728 & -0.00233214 & 0.00765442 & $\\dots$ \\\\\n",
       "\t11 & 1073 & 0.110314 & -0.0243444 & 0.00814297 & -0.0349694 & 0.0104613 & 0.0101673 & $\\dots$ \\\\\n",
       "\t12 & 1073 & 0.256268 & 0.0634195 & -0.0811847 & 0.0441466 & 0.00848568 & 0.0169169 & $\\dots$ \\\\\n",
       "\t13 & 1073 & 0.079057 & 0.00661864 & -0.153504 & 0.393015 & -0.0484441 & 0.0230577 & $\\dots$ \\\\\n",
       "\t14 & 1073 & -0.0133902 & -0.0132008 & -0.148069 & -0.0146316 & 0.00886135 & 0.0161103 & $\\dots$ \\\\\n",
       "\t15 & 1073 & 0.0277005 & -0.0806736 & 0.0247091 & 0.0531618 & 0.00677168 & 0.0155368 & $\\dots$ \\\\\n",
       "\t16 & 1073 & 0.0707179 & -0.104579 & 0.235093 & 0.178299 & -0.00374318 & 0.000594213 & $\\dots$ \\\\\n",
       "\t17 & 1073 & 0.22407 & 0.0292543 & 0.294984 & 0.146047 & -0.00460173 & -0.0205562 & $\\dots$ \\\\\n",
       "\t18 & 1073 & 0.154477 & -0.0506763 & 0.0237644 & 0.0162414 & 0.00588019 & 0.00584345 & $\\dots$ \\\\\n",
       "\t19 & 1073 & 0.0420251 & -0.00620195 & -0.116843 & -0.0173146 & 0.00543154 & 0.0053948 & $\\dots$ \\\\\n",
       "\t20 & 1073 & -0.0425827 & -0.00652045 & -0.00542654 & 0.154285 & -0.0124411 & -0.00411101 & $\\dots$ \\\\\n",
       "\t21 & 1097 & 0.267062 & 0.0433706 & 0.106903 & -0.117615 & 0.00797198 & -0.0161775 & $\\dots$ \\\\\n",
       "\t22 & 1097 & 0.286461 & 0.115747 & 0.0906478 & -0.0953381 & 0.00797198 & -0.0147974 & $\\dots$ \\\\\n",
       "\t23 & 1097 & 0.0824029 & -0.0144649 & 0.0844482 & -0.115481 & 0.00797198 & -0.0167935 & $\\dots$ \\\\\n",
       "\t24 & 1097 & -0.248465 & 0.0497808 & 0.0297359 & -0.187202 & 0.00797198 & -0.0147974 & $\\dots$ \\\\\n",
       "\t25 & 1097 & -0.0636725 & 0.0128667 & -0.0270093 & -0.187794 & 0.00247507 & -0.0158534 & $\\dots$ \\\\\n",
       "\t26 & 1097 & -0.284223 & 0.0837605 & -0.220044 & -0.148477 & 0.00797198 & 0.0129189 & $\\dots$ \\\\\n",
       "\t27 & 1097 & -0.143405 & -0.0139795 & -0.2442 & -0.0289042 & 0.00797198 & 0.0187086 & $\\dots$ \\\\\n",
       "\t28 & 1097 & -0.217032 & 0.02018 & -0.217045 & 0.127496 & 0.00342131 & 0.0163512 & $\\dots$ \\\\\n",
       "\t29 & 1097 & 0.139978 & 0.0450422 & 0.10424 & 0.393619 & -0.0341662 & -0.0279388 & $\\dots$ \\\\\n",
       "\t30 & 1097 & -0.0775231 & -0.077206 & -0.172381 & -0.00919521 & -0.0017772 & 0.00583301 & $\\dots$ \\\\\n",
       "\t$\\dots$ & $\\dots$ & $\\dots$ & $\\dots$ & $\\dots$ & $\\dots$ & $\\dots$ & $\\dots$ &  \\\\\n",
       "\\end{tabular}\n"
      ],
      "text/plain": [
       "\u001b[1m3900×198 DataFrame\u001b[0m\n",
       "\u001b[1m  Row \u001b[0m│\u001b[1m CountyCode \u001b[0m\u001b[1m logghomr   \u001b[0m\u001b[1m logfssl     \u001b[0m\u001b[1m logrobr     \u001b[0m\u001b[1m logburg     \u001b[0m\u001b[1m burg_mi\u001b[0m ⋯\n",
       "\u001b[1m      \u001b[0m│\u001b[90m Int64      \u001b[0m\u001b[90m Float64    \u001b[0m\u001b[90m Float64     \u001b[0m\u001b[90m Float64     \u001b[0m\u001b[90m Float64     \u001b[0m\u001b[90m Float64\u001b[0m ⋯\n",
       "──────┼─────────────────────────────────────────────────────────────────────────\n",
       "    1 │       1073  -0.134778    0.0961271    0.150893    -0.124395      0.010 ⋯\n",
       "    2 │       1073  -0.239622    0.0808094    0.0401683   -0.134781      0.010\n",
       "    3 │       1073  -0.0786772   0.0573399   -0.017679    -0.167909      0.010\n",
       "    4 │       1073  -0.331465    0.0816945   -0.00963344  -0.22925       0.010\n",
       "    5 │       1073  -0.31664     0.0253655   -0.0267151   -0.176635      0.003 ⋯\n",
       "    6 │       1073   0.105132   -0.00677726  -0.151487    -0.189069      0.010\n",
       "    7 │       1073  -0.0373401   0.0773061   -0.166729    -0.117739      0.010\n",
       "    8 │       1073  -0.0520609  -0.108433    -0.0996453   -0.0833094     0.004\n",
       "    9 │       1073   0.0547007  -0.0340988    0.151557     0.319282     -0.044 ⋯\n",
       "   10 │       1073   0.122094   -0.0824292    0.0476034   -0.0144728    -0.002\n",
       "   11 │       1073   0.110314   -0.0243444    0.00814297  -0.0349694     0.010\n",
       "  ⋮   │     ⋮           ⋮            ⋮            ⋮            ⋮            ⋮  ⋱\n",
       " 3891 │      55133  -0.54942    -0.00681523   0.0786474    0.13458      -0.020\n",
       " 3892 │      55133  -0.660408    0.135748     0.0561803    0.134567     -0.021 ⋯\n",
       " 3893 │      55133  -0.676525   -0.0223923    0.209323     0.390146     -0.060\n",
       " 3894 │      55133  -0.697525    0.0405164   -0.0858534    0.15756      -0.021\n",
       " 3895 │      55133  -0.0384095  -0.058838    -0.0983204    0.126737     -0.023\n",
       " 3896 │      55133   0.0280962   0.0407888    0.0182247    0.107714     -0.030 ⋯\n",
       " 3897 │      55133   0.0801447   0.208251     0.251402     0.151313     -0.030\n",
       " 3898 │      55133   0.497987    0.177444     0.179985     0.116497     -0.023\n",
       " 3899 │      55133   0.568542   -0.0971269   -1.3754      -3.02227       0.530\n",
       " 3900 │      55133   0.609022    0.274062     0.336788     0.171876     -0.036 ⋯\n",
       "\u001b[36m                                               193 columns and 3879 rows omitted\u001b[0m"
      ]
     },
     "execution_count": 8,
     "metadata": {},
     "output_type": "execute_result"
    }
   ],
   "source": [
    "################################ Variables ##################################\n",
    "# Treatment Variable\n",
    "d = \"logfssl\"\n",
    "\n",
    "# Outcome Variable\n",
    "y = \"logghomr\"\n",
    "\n",
    "# Other Control Variables\n",
    "X1 = [\"logrobr\", \"logburg\", \"burg_missing\", \"robrate_missing\"]\n",
    "X2 = [\"newblack\", \"newfhh\", \"newmove\", \"newdens\", \"newmal\"]\n",
    "\n",
    "\n",
    "\n",
    "#################################  Partial out Fixed Effects ########################\n",
    "\n",
    "# New Dataset for Partiled-out Variables\n",
    "rdata = DataFrame(CountyCode = data[:,\"CountyCode\"])\n",
    "\n",
    "# Variables to be Partialled-out\n",
    "varlist2 = vcat(y, d, X1, X2, census)\n",
    "println(\"Variable: <<varlist2>> has \", length(varlist2), \" features\")\n",
    "\n",
    "form = []\n",
    "\n",
    "# Partial out Variables in varlist from year and county fixed effect\n",
    "for i in 1:size(varlist2, 1)\n",
    "    append!(form, [term.(varlist2[i]) ~ sum(term.(vcat(year, fixed)))])\n",
    "    rdata[!, varlist2[i]] = residuals(lm(form[i], data))\n",
    "end\n",
    "\n",
    "rdata"
   ]
  },
  {
   "cell_type": "code",
   "execution_count": 9,
   "id": "93ed7cfb",
   "metadata": {},
   "outputs": [
    {
     "data": {
      "text/plain": [
       "3900"
      ]
     },
     "execution_count": 9,
     "metadata": {},
     "output_type": "execute_result"
    }
   ],
   "source": [
    "# load dataset\n",
    "rdata_read = CSV.File(\"../data/gun_clean2.csv\") |> DataFrame\n",
    "data = rdata_read[!, names(rdata)]\n",
    "n = size(data,1)"
   ]
  },
  {
   "cell_type": "code",
   "execution_count": 10,
   "id": "52ea8d63",
   "metadata": {},
   "outputs": [
    {
     "data": {
      "text/plain": [
       "198-element Vector{String}:\n",
       " \"CountyCode\"\n",
       " \"logghomr\"\n",
       " \"logfssl\"\n",
       " \"logrobr\"\n",
       " \"logburg\"\n",
       " \"burg_missing\"\n",
       " \"robrate_missing\"\n",
       " \"newblack\"\n",
       " \"newfhh\"\n",
       " \"newmove\"\n",
       " \"newdens\"\n",
       " \"newmal\"\n",
       " \"AGE010D\"\n",
       " ⋮\n",
       " \"PVY020D\"\n",
       " \"PVY120D\"\n",
       " \"PVY210D\"\n",
       " \"PVY310D\"\n",
       " \"PVY420D\"\n",
       " \"PVY520D\"\n",
       " \"SPR030D\"\n",
       " \"SPR130D\"\n",
       " \"SPR230D\"\n",
       " \"SPR330D\"\n",
       " \"SPR440D\"\n",
       " \"VST020D\""
      ]
     },
     "execution_count": 10,
     "metadata": {},
     "output_type": "execute_result"
    }
   ],
   "source": [
    "column_names = names(data)"
   ]
  },
  {
   "cell_type": "code",
   "execution_count": 11,
   "id": "3d1143f0",
   "metadata": {},
   "outputs": [
    {
     "name": "stdout",
     "output_type": "stream",
     "text": [
      "Column CountyCode are equal at 6 decimals\n",
      "Column logghomr are equal at 6 decimals\n",
      "Column logfssl are equal at 6 decimals\n",
      "Column logrobr are equal at 6 decimals\n",
      "Column logburg are equal at 6 decimals\n",
      "Column burg_missing are equal at 6 decimals\n",
      "Column robrate_missing are equal at 6 decimals\n",
      "Column newblack are equal at 6 decimals\n",
      "Column newfhh are equal at 6 decimals\n",
      "Column newmove are equal at 6 decimals\n",
      "Column newdens are equal at 6 decimals\n",
      "Column newmal are equal at 6 decimals\n",
      "Column AGE010D are equal at 6 decimals\n",
      "Column AGE050D are equal at 6 decimals\n",
      "Column AGE110D are equal at 6 decimals\n",
      "Column AGE170D are equal at 6 decimals\n",
      "Column AGE180D are equal at 6 decimals\n",
      "Column AGE270D are equal at 6 decimals\n",
      "Column AGE310D are equal at 6 decimals\n",
      "Column AGE320D are equal at 6 decimals\n",
      "Column AGE350D are equal at 6 decimals\n",
      "Column AGE380D are equal at 6 decimals\n",
      "Column AGE410D are equal at 6 decimals\n",
      "Column AGE470D are equal at 6 decimals\n",
      "Column AGE570D are equal at 6 decimals\n",
      "Column AGE640D are equal at 6 decimals\n",
      "Column AGE670D are equal at 6 decimals\n",
      "Column AGE760D are equal at 6 decimals\n",
      "Column BNK010D are equal at 6 decimals\n",
      "Column BNK050D are equal at 6 decimals\n",
      "Column BPS030D are equal at 6 decimals\n",
      "Column BPS130D are equal at 6 decimals\n",
      "Column BPS230D are equal at 6 decimals\n",
      "Column BPS020D are equal at 6 decimals\n",
      "Column BPS120D are equal at 6 decimals\n",
      "Column BPS220D are equal at 6 decimals\n",
      "Column BPS820D are equal at 6 decimals\n",
      "Column BZA010D are equal at 6 decimals\n",
      "Column BZA110D are equal at 6 decimals\n",
      "Column BZA210D are equal at 6 decimals\n",
      "Column EDU100D are equal at 6 decimals\n",
      "Column EDU200D are equal at 6 decimals\n",
      "Column EDU600D are equal at 6 decimals\n",
      "Column EDU610D are equal at 6 decimals\n",
      "Column EDU620D are equal at 6 decimals\n",
      "Column EDU630D are equal at 6 decimals\n",
      "Column EDU635D are equal at 6 decimals\n",
      "Column EDU640D are equal at 6 decimals\n",
      "Column EDU650D are equal at 6 decimals\n",
      "Column EDU680D are equal at 6 decimals\n",
      "Column EDU685D are equal at 6 decimals\n",
      "Column ELE010D are equal at 6 decimals\n",
      "Column ELE020D are equal at 6 decimals\n",
      "Column ELE025D are equal at 6 decimals\n",
      "Column ELE030D are equal at 6 decimals\n",
      "Column ELE035D are equal at 6 decimals\n",
      "Column ELE060D are equal at 6 decimals\n",
      "Column ELE065D are equal at 6 decimals\n",
      "Column ELE210D are equal at 6 decimals\n",
      "Column ELE220D are equal at 6 decimals\n",
      "Column HIS010D are equal at 6 decimals\n",
      "Column HIS020D are equal at 6 decimals\n",
      "Column HIS030D are equal at 6 decimals\n",
      "Column HIS040D are equal at 6 decimals\n",
      "Column HIS110D are equal at 6 decimals\n",
      "Column HIS120D are equal at 6 decimals\n",
      "Column HIS130D are equal at 6 decimals\n",
      "Column HIS140D are equal at 6 decimals\n",
      "Column HIS200D are equal at 6 decimals\n",
      "Column HIS300D are equal at 6 decimals\n",
      "Column HIS500D are equal at 6 decimals\n",
      "Column HIS700D are equal at 6 decimals\n",
      "Column HSD010D are equal at 6 decimals\n",
      "Column HSD020D are equal at 6 decimals\n",
      "Column HSD030D are equal at 6 decimals\n",
      "Column HSD110D are equal at 6 decimals\n",
      "Column HSD120D are equal at 6 decimals\n",
      "Column HSD130D are equal at 6 decimals\n",
      "Column HSD140D are equal at 6 decimals\n",
      "Column HSD150D are equal at 6 decimals\n",
      "Column HSD170D are equal at 6 decimals\n",
      "Column HSD200D are equal at 6 decimals\n",
      "Column HSD210D are equal at 6 decimals\n",
      "Column HSD230D are equal at 6 decimals\n",
      "Column HSD300D are equal at 6 decimals\n",
      "Column HSD310D are equal at 6 decimals\n",
      "Column HSG030D are equal at 6 decimals\n",
      "Column HSG195D are equal at 6 decimals\n",
      "Column HSG200D are equal at 6 decimals\n",
      "Column HSG220D are equal at 6 decimals\n",
      "Column HSG440D are equal at 6 decimals\n",
      "Column HSG445D are equal at 6 decimals\n",
      "Column HSG460D are equal at 6 decimals\n",
      "Column HSG680D are equal at 6 decimals\n",
      "Column HSG700D are equal at 6 decimals\n",
      "Column HSD410D are equal at 6 decimals\n",
      "Column HSD500D are equal at 6 decimals\n",
      "Column HSD510D are equal at 6 decimals\n",
      "Column HSD520D are equal at 6 decimals\n",
      "Column HSD530D are equal at 6 decimals\n",
      "Column HSD540D are equal at 6 decimals\n",
      "Column HSD550D are equal at 6 decimals\n",
      "Column HSD560D are equal at 6 decimals\n",
      "Column HSD570D are equal at 6 decimals\n",
      "Column HSD580D are equal at 6 decimals\n",
      "Column HSD590D are equal at 6 decimals\n",
      "Column HSD610D are equal at 6 decimals\n",
      "Column HSD620D are equal at 6 decimals\n",
      "Column HSD710D are equal at 6 decimals\n",
      "Column HSD720D are equal at 6 decimals\n",
      "Column HSD730D are equal at 6 decimals\n",
      "Column HSD740D are equal at 6 decimals\n",
      "Column HSD750D are equal at 6 decimals\n",
      "Column HSD760D are equal at 6 decimals\n",
      "Column HSD770D are equal at 6 decimals\n",
      "Column HSD780D are equal at 6 decimals\n",
      "Column HSG040D are equal at 6 decimals\n",
      "Column HSG045D are equal at 6 decimals\n",
      "Column HSG050D are equal at 6 decimals\n",
      "Column HSG182D are equal at 6 decimals\n",
      "Column HSG210D are equal at 6 decimals\n",
      "Column HSG230D are equal at 6 decimals\n",
      "Column HSG240D are equal at 6 decimals\n",
      "Column HSG250D are equal at 6 decimals\n",
      "Column HSG310D are equal at 6 decimals\n",
      "Column HSG315D are equal at 6 decimals\n",
      "Column HSG320D are equal at 6 decimals\n",
      "Column HSG325D are equal at 6 decimals\n",
      "Column HSG335D are equal at 6 decimals\n",
      "Column HSG350D are equal at 6 decimals\n",
      "Column HSG370D are equal at 6 decimals\n",
      "Column HSG375D are equal at 6 decimals\n",
      "Column HSG380D are equal at 6 decimals\n",
      "Column HSG450D are equal at 6 decimals\n",
      "Column HSG490D are equal at 6 decimals\n",
      "Column HSG500D are equal at 6 decimals\n",
      "Column HSG510D are equal at 6 decimals\n",
      "Column HSG520D are equal at 6 decimals\n",
      "Column HSG530D are equal at 6 decimals\n",
      "Column HSG540D are equal at 6 decimals\n",
      "Column HSG550D are equal at 6 decimals\n",
      "Column HSG560D are equal at 6 decimals\n",
      "Column HSG570D are equal at 6 decimals\n",
      "Column HSG650D are equal at 6 decimals\n",
      "Column HSG690D are equal at 6 decimals\n",
      "Column HSG710D are equal at 6 decimals\n",
      "Column HSG730D are equal at 6 decimals\n",
      "Column INC110D are equal at 6 decimals\n",
      "Column INC650D are equal at 6 decimals\n",
      "Column INC670D are equal at 6 decimals\n",
      "Column INC680D are equal at 6 decimals\n",
      "Column INC690D are equal at 6 decimals\n",
      "Column INC700D are equal at 6 decimals\n",
      "Column INC710D are equal at 6 decimals\n",
      "Column INC720D are equal at 6 decimals\n",
      "Column INC730D are equal at 6 decimals\n",
      "Column INC760D are equal at 6 decimals\n",
      "Column INC790D are equal at 6 decimals\n",
      "Column LFE020D are equal at 6 decimals\n",
      "Column LFE023D are equal at 6 decimals\n",
      "Column LFE030D are equal at 6 decimals\n",
      "Column LFE080D are equal at 6 decimals\n",
      "Column LFE090D are equal at 6 decimals\n",
      "Column LFE210D are equal at 6 decimals\n",
      "Column LFE220D are equal at 6 decimals\n",
      "Column LND110D are equal at 6 decimals\n",
      "Column PIN020D are equal at 6 decimals\n",
      "Column POP110D are equal at 6 decimals\n",
      "Column POP210D are equal at 6 decimals\n",
      "Column POP240D are equal at 6 decimals\n",
      "Column POP440D are equal at 6 decimals\n",
      "Column POP450D are equal at 6 decimals\n",
      "Column POP470D are equal at 6 decimals\n",
      "Column POP480D are equal at 6 decimals\n",
      "Column POP540D are equal at 6 decimals\n",
      "Column POP550D are equal at 6 decimals\n",
      "Column POP570D are equal at 6 decimals\n",
      "Column POP580D are equal at 6 decimals\n",
      "Column POP700D are equal at 6 decimals\n",
      "Column POP710D are equal at 6 decimals\n",
      "Column POP720D are equal at 6 decimals\n",
      "Column POP740D are equal at 6 decimals\n",
      "Column PPQ010D are equal at 6 decimals\n",
      "Column PPQ100D are equal at 6 decimals\n",
      "Column PPQ110D are equal at 6 decimals\n",
      "Column PPQ120D are equal at 6 decimals\n",
      "Column PVY020D are equal at 6 decimals\n",
      "Column PVY120D are equal at 6 decimals\n",
      "Column PVY210D are equal at 6 decimals\n",
      "Column PVY310D are equal at 6 decimals\n",
      "Column PVY420D are equal at 6 decimals\n",
      "Column PVY520D are equal at 6 decimals\n",
      "Column SPR030D are equal at 6 decimals\n",
      "Column SPR130D are equal at 6 decimals\n",
      "Column SPR230D are equal at 6 decimals\n",
      "Column SPR330D are equal at 6 decimals\n",
      "Column SPR440D are equal at 6 decimals\n",
      "Column VST020D are equal at 6 decimals\n"
     ]
    }
   ],
   "source": [
    "result = []\n",
    "\n",
    "for i in 1:size(data,1)\n",
    "    for j in 1:size(data,2)\n",
    "        data[i,j] = round(data[i,j], digits=6)\n",
    "        rdata[i,j] = round(rdata[i,j], digits=6)\n",
    "    end\n",
    "end\n",
    "\n",
    "for col in column_names\n",
    "    result = sum(data[!,col] .== rdata[!,col])\n",
    "\n",
    "    if result .== 3900\n",
    "        println(\"Column \", col,  \" are equal at 6 decimals\")\n",
    "    else\n",
    "        println(\"Column \", col,  \" are not equal at 6 decimals\")\n",
    "    end\n",
    "\n",
    "end"
   ]
  },
  {
   "cell_type": "markdown",
   "id": "fd6557ff",
   "metadata": {
    "papermill": {
     "duration": 0.016789,
     "end_time": "2021-02-13T17:30:38.928857",
     "exception": false,
     "start_time": "2021-02-13T17:30:38.912068",
     "status": "completed"
    },
    "tags": []
   },
   "source": [
    "Now, we can construct the treatment variable, the outcome variable and the matrix $Z$ that includes the control variables."
   ]
  },
  {
   "cell_type": "code",
   "execution_count": 12,
   "id": "3247d3ea",
   "metadata": {
    "execution": {
     "iopub.execute_input": "2021-02-13T17:30:38.968895Z",
     "iopub.status.busy": "2021-02-13T17:30:38.967511Z",
     "iopub.status.idle": "2021-02-13T17:30:38.988737Z",
     "shell.execute_reply": "2021-02-13T17:30:38.987198Z"
    },
    "papermill": {
     "duration": 0.042922,
     "end_time": "2021-02-13T17:30:38.988875",
     "exception": false,
     "start_time": "2021-02-13T17:30:38.945953",
     "status": "completed"
    },
    "tags": []
   },
   "outputs": [
    {
     "name": "stdout",
     "output_type": "stream",
     "text": [
      "Variable: <<D>> has (3900,) outcomes\n",
      "Variable: <<Y>> has (3900,) outcomes\n",
      "Variable: <<Z>> has (3900, 195) outcomes\n"
     ]
    }
   ],
   "source": [
    "# Treatment Variable\n",
    "D = rdata[!, d]\n",
    "println(\"Variable: <<D>> has \", size(D), \" outcomes\")\n",
    "\n",
    "# Outcome Variable\n",
    "Y = rdata[!, y]\n",
    "println(\"Variable: <<Y>> has \", size(Y), \" outcomes\")\n",
    "\n",
    "# Construct matrix Z\n",
    "Z = rdata[!, vcat(X1, X2, census)]\n",
    "println(\"Variable: <<Z>> has \", size(Z), \" outcomes\")"
   ]
  },
  {
   "cell_type": "markdown",
   "id": "cd5a8e0c",
   "metadata": {
    "papermill": {
     "duration": 0.01807,
     "end_time": "2021-02-13T17:30:39.025018",
     "exception": false,
     "start_time": "2021-02-13T17:30:39.006948",
     "status": "completed"
    },
    "tags": []
   },
   "source": [
    "We have in total 195 control variables. The control variables $Z_{j,t}$ are from the U.S. Census Bureau and  contain demographic and economic characteristics of the counties such as  the age distribution, the income distribution, crime rates, federal spending, home ownership rates, house prices, educational attainment, voting paterns, employment statistics, and migration rates. "
   ]
  },
  {
   "cell_type": "code",
   "execution_count": 13,
   "id": "0530550c",
   "metadata": {
    "execution": {
     "iopub.execute_input": "2021-02-13T17:30:39.065511Z",
     "iopub.status.busy": "2021-02-13T17:30:39.064293Z",
     "iopub.status.idle": "2021-02-13T17:30:39.078277Z",
     "shell.execute_reply": "2021-02-13T17:30:39.077071Z"
    },
    "papermill": {
     "duration": 0.035747,
     "end_time": "2021-02-13T17:30:39.078439",
     "exception": false,
     "start_time": "2021-02-13T17:30:39.042692",
     "status": "completed"
    },
    "tags": []
   },
   "outputs": [
    {
     "data": {
      "text/plain": [
       "3900-element Vector{Int64}:\n",
       "  1073\n",
       "  1073\n",
       "  1073\n",
       "  1073\n",
       "  1073\n",
       "  1073\n",
       "  1073\n",
       "  1073\n",
       "  1073\n",
       "  1073\n",
       "  1073\n",
       "  1073\n",
       "  1073\n",
       "     ⋮\n",
       " 55133\n",
       " 55133\n",
       " 55133\n",
       " 55133\n",
       " 55133\n",
       " 55133\n",
       " 55133\n",
       " 55133\n",
       " 55133\n",
       " 55133\n",
       " 55133\n",
       " 55133"
      ]
     },
     "execution_count": 13,
     "metadata": {},
     "output_type": "execute_result"
    }
   ],
   "source": [
    "clu = rdata[!, \"CountyCode\"] #for clustering the standard errors"
   ]
  },
  {
   "cell_type": "code",
   "execution_count": 14,
   "id": "376116dd",
   "metadata": {
    "execution": {
     "iopub.execute_input": "2021-02-13T17:30:39.065511Z",
     "iopub.status.busy": "2021-02-13T17:30:39.064293Z",
     "iopub.status.idle": "2021-02-13T17:30:39.078277Z",
     "shell.execute_reply": "2021-02-13T17:30:39.077071Z"
    },
    "papermill": {
     "duration": 0.035747,
     "end_time": "2021-02-13T17:30:39.078439",
     "exception": false,
     "start_time": "2021-02-13T17:30:39.042692",
     "status": "completed"
    },
    "tags": []
   },
   "outputs": [
    {
     "data": {
      "text/html": [
       "<div class=\"data-frame\"><p>3,900 rows × 198 columns (omitted printing of 191 columns)</p><table class=\"data-frame\"><thead><tr><th></th><th>CountyCode</th><th>logghomr</th><th>logfssl</th><th>logrobr</th><th>logburg</th><th>burg_missing</th><th>robrate_missing</th></tr><tr><th></th><th title=\"Float64\">Float64</th><th title=\"Float64\">Float64</th><th title=\"Float64\">Float64</th><th title=\"Float64\">Float64</th><th title=\"Float64\">Float64</th><th title=\"Float64\">Float64</th><th title=\"Float64\">Float64</th></tr></thead><tbody><tr><th>1</th><td>1073.0</td><td>-0.134778</td><td>0.096127</td><td>0.150893</td><td>-0.124395</td><td>0.010461</td><td>-0.021229</td></tr><tr><th>2</th><td>1073.0</td><td>-0.239622</td><td>0.080809</td><td>0.040168</td><td>-0.134781</td><td>0.010461</td><td>-0.019418</td></tr><tr><th>3</th><td>1073.0</td><td>-0.078677</td><td>0.05734</td><td>-0.017679</td><td>-0.167909</td><td>0.010461</td><td>-0.022037</td></tr><tr><th>4</th><td>1073.0</td><td>-0.331465</td><td>0.081694</td><td>-0.009633</td><td>-0.22925</td><td>0.010461</td><td>-0.019418</td></tr><tr><th>5</th><td>1073.0</td><td>-0.31664</td><td>0.025366</td><td>-0.026715</td><td>-0.176635</td><td>0.003248</td><td>-0.020804</td></tr><tr><th>6</th><td>1073.0</td><td>0.105132</td><td>-0.006777</td><td>-0.151487</td><td>-0.189069</td><td>0.010461</td><td>0.016953</td></tr><tr><th>7</th><td>1073.0</td><td>-0.03734</td><td>0.077306</td><td>-0.166729</td><td>-0.117739</td><td>0.010461</td><td>0.02455</td></tr><tr><th>8</th><td>1073.0</td><td>-0.052061</td><td>-0.108433</td><td>-0.099645</td><td>-0.083309</td><td>0.00449</td><td>0.021457</td></tr><tr><th>9</th><td>1073.0</td><td>0.054701</td><td>-0.034099</td><td>0.151557</td><td>0.319282</td><td>-0.044835</td><td>-0.036663</td></tr><tr><th>10</th><td>1073.0</td><td>0.122094</td><td>-0.082429</td><td>0.047603</td><td>-0.014473</td><td>-0.002332</td><td>0.007654</td></tr><tr><th>11</th><td>1073.0</td><td>0.110314</td><td>-0.024344</td><td>0.008143</td><td>-0.034969</td><td>0.010461</td><td>0.010167</td></tr><tr><th>12</th><td>1073.0</td><td>0.256268</td><td>0.06342</td><td>-0.081185</td><td>0.044147</td><td>0.008486</td><td>0.016917</td></tr><tr><th>13</th><td>1073.0</td><td>0.079057</td><td>0.006619</td><td>-0.153504</td><td>0.393015</td><td>-0.048444</td><td>0.023058</td></tr><tr><th>14</th><td>1073.0</td><td>-0.01339</td><td>-0.013201</td><td>-0.148069</td><td>-0.014632</td><td>0.008861</td><td>0.01611</td></tr><tr><th>15</th><td>1073.0</td><td>0.027701</td><td>-0.080674</td><td>0.024709</td><td>0.053162</td><td>0.006772</td><td>0.015537</td></tr><tr><th>16</th><td>1073.0</td><td>0.070718</td><td>-0.104579</td><td>0.235093</td><td>0.178299</td><td>-0.003743</td><td>0.000594</td></tr><tr><th>17</th><td>1073.0</td><td>0.22407</td><td>0.029254</td><td>0.294984</td><td>0.146047</td><td>-0.004602</td><td>-0.020556</td></tr><tr><th>18</th><td>1073.0</td><td>0.154477</td><td>-0.050676</td><td>0.023764</td><td>0.016241</td><td>0.00588</td><td>0.005843</td></tr><tr><th>19</th><td>1073.0</td><td>0.042025</td><td>-0.006202</td><td>-0.116843</td><td>-0.017315</td><td>0.005432</td><td>0.005395</td></tr><tr><th>20</th><td>1073.0</td><td>-0.042583</td><td>-0.00652</td><td>-0.005427</td><td>0.154285</td><td>-0.012441</td><td>-0.004111</td></tr><tr><th>21</th><td>1097.0</td><td>0.267062</td><td>0.043371</td><td>0.106903</td><td>-0.117615</td><td>0.007972</td><td>-0.016177</td></tr><tr><th>22</th><td>1097.0</td><td>0.286461</td><td>0.115747</td><td>0.090648</td><td>-0.095338</td><td>0.007972</td><td>-0.014797</td></tr><tr><th>23</th><td>1097.0</td><td>0.082403</td><td>-0.014465</td><td>0.084448</td><td>-0.115481</td><td>0.007972</td><td>-0.016793</td></tr><tr><th>24</th><td>1097.0</td><td>-0.248465</td><td>0.049781</td><td>0.029736</td><td>-0.187202</td><td>0.007972</td><td>-0.014797</td></tr><tr><th>25</th><td>1097.0</td><td>-0.063673</td><td>0.012867</td><td>-0.027009</td><td>-0.187794</td><td>0.002475</td><td>-0.015853</td></tr><tr><th>26</th><td>1097.0</td><td>-0.284223</td><td>0.083761</td><td>-0.220044</td><td>-0.148477</td><td>0.007972</td><td>0.012919</td></tr><tr><th>27</th><td>1097.0</td><td>-0.143405</td><td>-0.013979</td><td>-0.2442</td><td>-0.028904</td><td>0.007972</td><td>0.018709</td></tr><tr><th>28</th><td>1097.0</td><td>-0.217032</td><td>0.02018</td><td>-0.217045</td><td>0.127496</td><td>0.003421</td><td>0.016351</td></tr><tr><th>29</th><td>1097.0</td><td>0.139978</td><td>0.045042</td><td>0.10424</td><td>0.393619</td><td>-0.034166</td><td>-0.027939</td></tr><tr><th>30</th><td>1097.0</td><td>-0.077523</td><td>-0.077206</td><td>-0.172381</td><td>-0.009195</td><td>-0.001777</td><td>0.005833</td></tr><tr><th>&vellip;</th><td>&vellip;</td><td>&vellip;</td><td>&vellip;</td><td>&vellip;</td><td>&vellip;</td><td>&vellip;</td><td>&vellip;</td></tr></tbody></table></div>"
      ],
      "text/latex": [
       "\\begin{tabular}{r|cccccccc}\n",
       "\t& CountyCode & logghomr & logfssl & logrobr & logburg & burg\\_missing & robrate\\_missing & \\\\\n",
       "\t\\hline\n",
       "\t& Float64 & Float64 & Float64 & Float64 & Float64 & Float64 & Float64 & \\\\\n",
       "\t\\hline\n",
       "\t1 & 1073.0 & -0.134778 & 0.096127 & 0.150893 & -0.124395 & 0.010461 & -0.021229 & $\\dots$ \\\\\n",
       "\t2 & 1073.0 & -0.239622 & 0.080809 & 0.040168 & -0.134781 & 0.010461 & -0.019418 & $\\dots$ \\\\\n",
       "\t3 & 1073.0 & -0.078677 & 0.05734 & -0.017679 & -0.167909 & 0.010461 & -0.022037 & $\\dots$ \\\\\n",
       "\t4 & 1073.0 & -0.331465 & 0.081694 & -0.009633 & -0.22925 & 0.010461 & -0.019418 & $\\dots$ \\\\\n",
       "\t5 & 1073.0 & -0.31664 & 0.025366 & -0.026715 & -0.176635 & 0.003248 & -0.020804 & $\\dots$ \\\\\n",
       "\t6 & 1073.0 & 0.105132 & -0.006777 & -0.151487 & -0.189069 & 0.010461 & 0.016953 & $\\dots$ \\\\\n",
       "\t7 & 1073.0 & -0.03734 & 0.077306 & -0.166729 & -0.117739 & 0.010461 & 0.02455 & $\\dots$ \\\\\n",
       "\t8 & 1073.0 & -0.052061 & -0.108433 & -0.099645 & -0.083309 & 0.00449 & 0.021457 & $\\dots$ \\\\\n",
       "\t9 & 1073.0 & 0.054701 & -0.034099 & 0.151557 & 0.319282 & -0.044835 & -0.036663 & $\\dots$ \\\\\n",
       "\t10 & 1073.0 & 0.122094 & -0.082429 & 0.047603 & -0.014473 & -0.002332 & 0.007654 & $\\dots$ \\\\\n",
       "\t11 & 1073.0 & 0.110314 & -0.024344 & 0.008143 & -0.034969 & 0.010461 & 0.010167 & $\\dots$ \\\\\n",
       "\t12 & 1073.0 & 0.256268 & 0.06342 & -0.081185 & 0.044147 & 0.008486 & 0.016917 & $\\dots$ \\\\\n",
       "\t13 & 1073.0 & 0.079057 & 0.006619 & -0.153504 & 0.393015 & -0.048444 & 0.023058 & $\\dots$ \\\\\n",
       "\t14 & 1073.0 & -0.01339 & -0.013201 & -0.148069 & -0.014632 & 0.008861 & 0.01611 & $\\dots$ \\\\\n",
       "\t15 & 1073.0 & 0.027701 & -0.080674 & 0.024709 & 0.053162 & 0.006772 & 0.015537 & $\\dots$ \\\\\n",
       "\t16 & 1073.0 & 0.070718 & -0.104579 & 0.235093 & 0.178299 & -0.003743 & 0.000594 & $\\dots$ \\\\\n",
       "\t17 & 1073.0 & 0.22407 & 0.029254 & 0.294984 & 0.146047 & -0.004602 & -0.020556 & $\\dots$ \\\\\n",
       "\t18 & 1073.0 & 0.154477 & -0.050676 & 0.023764 & 0.016241 & 0.00588 & 0.005843 & $\\dots$ \\\\\n",
       "\t19 & 1073.0 & 0.042025 & -0.006202 & -0.116843 & -0.017315 & 0.005432 & 0.005395 & $\\dots$ \\\\\n",
       "\t20 & 1073.0 & -0.042583 & -0.00652 & -0.005427 & 0.154285 & -0.012441 & -0.004111 & $\\dots$ \\\\\n",
       "\t21 & 1097.0 & 0.267062 & 0.043371 & 0.106903 & -0.117615 & 0.007972 & -0.016177 & $\\dots$ \\\\\n",
       "\t22 & 1097.0 & 0.286461 & 0.115747 & 0.090648 & -0.095338 & 0.007972 & -0.014797 & $\\dots$ \\\\\n",
       "\t23 & 1097.0 & 0.082403 & -0.014465 & 0.084448 & -0.115481 & 0.007972 & -0.016793 & $\\dots$ \\\\\n",
       "\t24 & 1097.0 & -0.248465 & 0.049781 & 0.029736 & -0.187202 & 0.007972 & -0.014797 & $\\dots$ \\\\\n",
       "\t25 & 1097.0 & -0.063673 & 0.012867 & -0.027009 & -0.187794 & 0.002475 & -0.015853 & $\\dots$ \\\\\n",
       "\t26 & 1097.0 & -0.284223 & 0.083761 & -0.220044 & -0.148477 & 0.007972 & 0.012919 & $\\dots$ \\\\\n",
       "\t27 & 1097.0 & -0.143405 & -0.013979 & -0.2442 & -0.028904 & 0.007972 & 0.018709 & $\\dots$ \\\\\n",
       "\t28 & 1097.0 & -0.217032 & 0.02018 & -0.217045 & 0.127496 & 0.003421 & 0.016351 & $\\dots$ \\\\\n",
       "\t29 & 1097.0 & 0.139978 & 0.045042 & 0.10424 & 0.393619 & -0.034166 & -0.027939 & $\\dots$ \\\\\n",
       "\t30 & 1097.0 & -0.077523 & -0.077206 & -0.172381 & -0.009195 & -0.001777 & 0.005833 & $\\dots$ \\\\\n",
       "\t$\\dots$ & $\\dots$ & $\\dots$ & $\\dots$ & $\\dots$ & $\\dots$ & $\\dots$ & $\\dots$ &  \\\\\n",
       "\\end{tabular}\n"
      ],
      "text/plain": [
       "\u001b[1m3900×198 DataFrame\u001b[0m\n",
       "\u001b[1m  Row \u001b[0m│\u001b[1m CountyCode \u001b[0m\u001b[1m logghomr  \u001b[0m\u001b[1m logfssl   \u001b[0m\u001b[1m logrobr   \u001b[0m\u001b[1m logburg   \u001b[0m\u001b[1m burg_missing \u001b[0m\u001b[1m \u001b[0m ⋯\n",
       "\u001b[1m      \u001b[0m│\u001b[90m Float64    \u001b[0m\u001b[90m Float64   \u001b[0m\u001b[90m Float64   \u001b[0m\u001b[90m Float64   \u001b[0m\u001b[90m Float64   \u001b[0m\u001b[90m Float64      \u001b[0m\u001b[90m \u001b[0m ⋯\n",
       "──────┼─────────────────────────────────────────────────────────────────────────\n",
       "    1 │     1073.0  -0.134778   0.096127   0.150893  -0.124395      0.010461   ⋯\n",
       "    2 │     1073.0  -0.239622   0.080809   0.040168  -0.134781      0.010461\n",
       "    3 │     1073.0  -0.078677   0.05734   -0.017679  -0.167909      0.010461\n",
       "    4 │     1073.0  -0.331465   0.081694  -0.009633  -0.22925       0.010461\n",
       "    5 │     1073.0  -0.31664    0.025366  -0.026715  -0.176635      0.003248   ⋯\n",
       "    6 │     1073.0   0.105132  -0.006777  -0.151487  -0.189069      0.010461\n",
       "    7 │     1073.0  -0.03734    0.077306  -0.166729  -0.117739      0.010461\n",
       "    8 │     1073.0  -0.052061  -0.108433  -0.099645  -0.083309      0.00449\n",
       "    9 │     1073.0   0.054701  -0.034099   0.151557   0.319282     -0.044835   ⋯\n",
       "   10 │     1073.0   0.122094  -0.082429   0.047603  -0.014473     -0.002332\n",
       "   11 │     1073.0   0.110314  -0.024344   0.008143  -0.034969      0.010461\n",
       "  ⋮   │     ⋮           ⋮          ⋮          ⋮          ⋮           ⋮         ⋱\n",
       " 3891 │    55133.0  -0.54942   -0.006815   0.078647   0.13458      -0.020588\n",
       " 3892 │    55133.0  -0.660408   0.135748   0.05618    0.134567     -0.021935   ⋯\n",
       " 3893 │    55133.0  -0.676525  -0.022392   0.209323   0.390146     -0.06076\n",
       " 3894 │    55133.0  -0.697525   0.040516  -0.085853   0.15756      -0.021679\n",
       " 3895 │    55133.0  -0.03841   -0.058838  -0.09832    0.126737     -0.023104\n",
       " 3896 │    55133.0   0.028096   0.040789   0.018225   0.107714     -0.030275   ⋯\n",
       " 3897 │    55133.0   0.080145   0.208251   0.251402   0.151313     -0.030861\n",
       " 3898 │    55133.0   0.497987   0.177444   0.179985   0.116497     -0.023712\n",
       " 3899 │    55133.0   0.568542  -0.097127  -1.3754    -3.02228       0.530429\n",
       " 3900 │    55133.0   0.609022   0.274062   0.336788   0.171876     -0.036207   ⋯\n",
       "\u001b[36m                                               192 columns and 3879 rows omitted\u001b[0m"
      ]
     },
     "execution_count": 14,
     "metadata": {},
     "output_type": "execute_result"
    }
   ],
   "source": [
    "data = DataFrame(hcat(clu, Y, D), [:CountyCode, :logghomr, :logfssl])\n",
    "data = [data Z]"
   ]
  },
  {
   "cell_type": "code",
   "execution_count": 15,
   "id": "21471589",
   "metadata": {},
   "outputs": [],
   "source": [
    "# CSV.write(\"../data/gun_clean2.csv\", data)"
   ]
  },
  {
   "cell_type": "markdown",
   "id": "6899157b",
   "metadata": {
    "papermill": {
     "duration": 0.01855,
     "end_time": "2021-02-13T17:30:40.260049",
     "exception": false,
     "start_time": "2021-02-13T17:30:40.241499",
     "status": "completed"
    },
    "tags": []
   },
   "source": [
    "## The effect of gun ownership"
   ]
  },
  {
   "cell_type": "markdown",
   "id": "2d83c14d",
   "metadata": {
    "papermill": {
     "duration": 0.018478,
     "end_time": "2021-02-13T17:30:40.297035",
     "exception": false,
     "start_time": "2021-02-13T17:30:40.278557",
     "status": "completed"
    },
    "tags": []
   },
   "source": [
    "### OLS"
   ]
  },
  {
   "cell_type": "markdown",
   "id": "04da83d9",
   "metadata": {
    "papermill": {
     "duration": 0.018386,
     "end_time": "2021-02-13T17:30:40.333613",
     "exception": false,
     "start_time": "2021-02-13T17:30:40.315227",
     "status": "completed"
    },
    "tags": []
   },
   "source": [
    "After preprocessing the data, we first look at simple regression of $Y_{j,t}$ on $D_{j,t-1}$ without controls as a baseline model."
   ]
  },
  {
   "cell_type": "code",
   "execution_count": 16,
   "id": "a39b06f8",
   "metadata": {
    "execution": {
     "iopub.execute_input": "2021-02-13T17:30:40.378059Z",
     "iopub.status.busy": "2021-02-13T17:30:40.375375Z",
     "iopub.status.idle": "2021-02-13T17:30:40.488189Z",
     "shell.execute_reply": "2021-02-13T17:30:40.485758Z"
    },
    "papermill": {
     "duration": 0.136101,
     "end_time": "2021-02-13T17:30:40.488367",
     "exception": false,
     "start_time": "2021-02-13T17:30:40.352266",
     "status": "completed"
    },
    "tags": []
   },
   "outputs": [],
   "source": [
    "# # Run this line to avoid all the lines of code above\n",
    "# data = CSV.File(\"../data/gun_clean2.csv\") |> DataFrame"
   ]
  },
  {
   "cell_type": "code",
   "execution_count": 17,
   "id": "220e6911",
   "metadata": {},
   "outputs": [],
   "source": [
    "using FixedEffectModels"
   ]
  },
  {
   "cell_type": "code",
   "execution_count": 18,
   "id": "0f3cb51f",
   "metadata": {
    "execution": {
     "iopub.execute_input": "2021-02-13T17:30:40.378059Z",
     "iopub.status.busy": "2021-02-13T17:30:40.375375Z",
     "iopub.status.idle": "2021-02-13T17:30:40.488189Z",
     "shell.execute_reply": "2021-02-13T17:30:40.485758Z"
    },
    "papermill": {
     "duration": 0.136101,
     "end_time": "2021-02-13T17:30:40.488367",
     "exception": false,
     "start_time": "2021-02-13T17:30:40.352266",
     "status": "completed"
    },
    "tags": []
   },
   "outputs": [
    {
     "data": {
      "text/plain": [
       "                        Fixed Effect Model                        \n",
       "==================================================================\n",
       "Number of obs:              3900  Degrees of freedom:            2\n",
       "R2:                        0.006  R2 Adjusted:               0.006\n",
       "F-Stat:                  18.9732  p-value:                   0.000\n",
       "R2 within:                 0.006  Iterations:                    1\n",
       "==================================================================\n",
       "logghomr | Estimate Std.Error t value Pr(>|t|) Lower 95% Upper 95%\n",
       "------------------------------------------------------------------\n",
       "logfssl  | 0.282304 0.0648108 4.35582    0.000  0.155238   0.40937\n",
       "==================================================================\n"
      ]
     },
     "execution_count": 18,
     "metadata": {},
     "output_type": "execute_result"
    }
   ],
   "source": [
    "#baseline_formula <- as.formula(paste(y, \"~\", d ))\n",
    "#baseline.ols <- lm(baseline_formula,data=rdata)\n",
    "\n",
    "fm_1 = @formula(logghomr ~ 0 + logfssl + fe(CountyCode))\n",
    "baseline_ols = reg(data, fm_1, Vcov.cluster(:CountyCode))"
   ]
  },
  {
   "cell_type": "code",
   "execution_count": 19,
   "id": "50a98300",
   "metadata": {},
   "outputs": [
    {
     "name": "stdout",
     "output_type": "stream",
     "text": [
      "2.5% : [0.15523789539597105]\n",
      "97.5% : [0.4093704387686366]\n",
      "Estimate: [0.2823041670823038]\n",
      "Cluster s.e. : 0.006193251272214595\n",
      "T-value : [4.355820406592104]\n",
      "Pr(>|t|) : [1.3597928318408193e-5]\n"
     ]
    }
   ],
   "source": [
    "println(\"2.5% : \", coeftable(baseline_ols).cols[5])\n",
    "println(\"97.5% : \" , coeftable(baseline_ols).cols[6])\n",
    "println(\"Estimate: \", coeftable(baseline_ols).cols[1])\n",
    "println(\"Cluster s.e. : \" , r2(baseline_ols))\n",
    "println(\"T-value : \", coeftable(baseline_ols).cols[3])\n",
    "println(\"Pr(>|t|) : \" , coeftable(baseline_ols).cols[4])"
   ]
  },
  {
   "cell_type": "markdown",
   "id": "7fb5d8bb",
   "metadata": {
    "papermill": {
     "duration": 0.019514,
     "end_time": "2021-02-13T17:30:40.528479",
     "exception": false,
     "start_time": "2021-02-13T17:30:40.508965",
     "status": "completed"
    },
    "tags": []
   },
   "source": [
    "The point estimate is $0.282$ with the confidence interval ranging from 0.155 to 0.41. This\n",
    "suggests that increases in gun ownership rates are related to gun homicide rates - if gun ownership increases by 1% relative\n",
    "to a trend then the predicted gun homicide rate goes up by 0.28%, without controlling for counties' characteristics.\n",
    "\n",
    "Since our goal is to estimate the effect of gun ownership after controlling for a rich set county characteristics we next include the controls. First, we estimate the model by ols and then by an array of the modern regression methods using the double machine learning approach."
   ]
  },
  {
   "cell_type": "code",
   "execution_count": 20,
   "id": "e9a62679",
   "metadata": {},
   "outputs": [
    {
     "data": {
      "text/html": [
       "<div class=\"data-frame\"><p>3,900 rows × 196 columns (omitted printing of 189 columns)</p><table class=\"data-frame\"><thead><tr><th></th><th>logfssl</th><th>logrobr</th><th>logburg</th><th>burg_missing</th><th>robrate_missing</th><th>newblack</th><th>newfhh</th></tr><tr><th></th><th title=\"Float64\">Float64</th><th title=\"Float64\">Float64</th><th title=\"Float64\">Float64</th><th title=\"Float64\">Float64</th><th title=\"Float64\">Float64</th><th title=\"Float64\">Float64</th><th title=\"Float64\">Float64</th></tr></thead><tbody><tr><th>1</th><td>0.096127</td><td>0.150893</td><td>-0.124395</td><td>0.010461</td><td>-0.021229</td><td>0.030947</td><td>-0.020483</td></tr><tr><th>2</th><td>0.080809</td><td>0.040168</td><td>-0.134781</td><td>0.010461</td><td>-0.019418</td><td>0.030947</td><td>-0.020483</td></tr><tr><th>3</th><td>0.05734</td><td>-0.017679</td><td>-0.167909</td><td>0.010461</td><td>-0.022037</td><td>0.030947</td><td>-0.020483</td></tr><tr><th>4</th><td>0.081694</td><td>-0.009633</td><td>-0.22925</td><td>0.010461</td><td>-0.019418</td><td>0.030947</td><td>-0.020483</td></tr><tr><th>5</th><td>0.025366</td><td>-0.026715</td><td>-0.176635</td><td>0.003248</td><td>-0.020804</td><td>0.030947</td><td>-0.020483</td></tr><tr><th>6</th><td>-0.006777</td><td>-0.151487</td><td>-0.189069</td><td>0.010461</td><td>0.016953</td><td>0.030947</td><td>-0.020483</td></tr><tr><th>7</th><td>0.077306</td><td>-0.166729</td><td>-0.117739</td><td>0.010461</td><td>0.02455</td><td>0.030947</td><td>-0.020483</td></tr><tr><th>8</th><td>-0.108433</td><td>-0.099645</td><td>-0.083309</td><td>0.00449</td><td>0.021457</td><td>0.030947</td><td>-0.020483</td></tr><tr><th>9</th><td>-0.034099</td><td>0.151557</td><td>0.319282</td><td>-0.044835</td><td>-0.036663</td><td>0.030947</td><td>-0.020483</td></tr><tr><th>10</th><td>-0.082429</td><td>0.047603</td><td>-0.014473</td><td>-0.002332</td><td>0.007654</td><td>0.030947</td><td>-0.020483</td></tr><tr><th>11</th><td>-0.024344</td><td>0.008143</td><td>-0.034969</td><td>0.010461</td><td>0.010167</td><td>-0.030947</td><td>0.020483</td></tr><tr><th>12</th><td>0.06342</td><td>-0.081185</td><td>0.044147</td><td>0.008486</td><td>0.016917</td><td>-0.030947</td><td>0.020483</td></tr><tr><th>13</th><td>0.006619</td><td>-0.153504</td><td>0.393015</td><td>-0.048444</td><td>0.023058</td><td>-0.030947</td><td>0.020483</td></tr><tr><th>14</th><td>-0.013201</td><td>-0.148069</td><td>-0.014632</td><td>0.008861</td><td>0.01611</td><td>-0.030947</td><td>0.020483</td></tr><tr><th>15</th><td>-0.080674</td><td>0.024709</td><td>0.053162</td><td>0.006772</td><td>0.015537</td><td>-0.030947</td><td>0.020483</td></tr><tr><th>16</th><td>-0.104579</td><td>0.235093</td><td>0.178299</td><td>-0.003743</td><td>0.000594</td><td>-0.030947</td><td>0.020483</td></tr><tr><th>17</th><td>0.029254</td><td>0.294984</td><td>0.146047</td><td>-0.004602</td><td>-0.020556</td><td>-0.030947</td><td>0.020483</td></tr><tr><th>18</th><td>-0.050676</td><td>0.023764</td><td>0.016241</td><td>0.00588</td><td>0.005843</td><td>-0.030947</td><td>0.020483</td></tr><tr><th>19</th><td>-0.006202</td><td>-0.116843</td><td>-0.017315</td><td>0.005432</td><td>0.005395</td><td>-0.030947</td><td>0.020483</td></tr><tr><th>20</th><td>-0.00652</td><td>-0.005427</td><td>0.154285</td><td>-0.012441</td><td>-0.004111</td><td>-0.030947</td><td>0.020483</td></tr><tr><th>21</th><td>0.043371</td><td>0.106903</td><td>-0.117615</td><td>0.007972</td><td>-0.016177</td><td>0.042549</td><td>-0.022225</td></tr><tr><th>22</th><td>0.115747</td><td>0.090648</td><td>-0.095338</td><td>0.007972</td><td>-0.014797</td><td>0.042549</td><td>-0.022225</td></tr><tr><th>23</th><td>-0.014465</td><td>0.084448</td><td>-0.115481</td><td>0.007972</td><td>-0.016793</td><td>0.042549</td><td>-0.022225</td></tr><tr><th>24</th><td>0.049781</td><td>0.029736</td><td>-0.187202</td><td>0.007972</td><td>-0.014797</td><td>0.042549</td><td>-0.022225</td></tr><tr><th>25</th><td>0.012867</td><td>-0.027009</td><td>-0.187794</td><td>0.002475</td><td>-0.015853</td><td>0.042549</td><td>-0.022225</td></tr><tr><th>26</th><td>0.083761</td><td>-0.220044</td><td>-0.148477</td><td>0.007972</td><td>0.012919</td><td>0.042549</td><td>-0.022225</td></tr><tr><th>27</th><td>-0.013979</td><td>-0.2442</td><td>-0.028904</td><td>0.007972</td><td>0.018709</td><td>0.042549</td><td>-0.022225</td></tr><tr><th>28</th><td>0.02018</td><td>-0.217045</td><td>0.127496</td><td>0.003421</td><td>0.016351</td><td>0.042549</td><td>-0.022225</td></tr><tr><th>29</th><td>0.045042</td><td>0.10424</td><td>0.393619</td><td>-0.034166</td><td>-0.027939</td><td>0.042549</td><td>-0.022225</td></tr><tr><th>30</th><td>-0.077206</td><td>-0.172381</td><td>-0.009195</td><td>-0.001777</td><td>0.005833</td><td>0.042549</td><td>-0.022225</td></tr><tr><th>&vellip;</th><td>&vellip;</td><td>&vellip;</td><td>&vellip;</td><td>&vellip;</td><td>&vellip;</td><td>&vellip;</td><td>&vellip;</td></tr></tbody></table></div>"
      ],
      "text/latex": [
       "\\begin{tabular}{r|cccccccc}\n",
       "\t& logfssl & logrobr & logburg & burg\\_missing & robrate\\_missing & newblack & newfhh & \\\\\n",
       "\t\\hline\n",
       "\t& Float64 & Float64 & Float64 & Float64 & Float64 & Float64 & Float64 & \\\\\n",
       "\t\\hline\n",
       "\t1 & 0.096127 & 0.150893 & -0.124395 & 0.010461 & -0.021229 & 0.030947 & -0.020483 & $\\dots$ \\\\\n",
       "\t2 & 0.080809 & 0.040168 & -0.134781 & 0.010461 & -0.019418 & 0.030947 & -0.020483 & $\\dots$ \\\\\n",
       "\t3 & 0.05734 & -0.017679 & -0.167909 & 0.010461 & -0.022037 & 0.030947 & -0.020483 & $\\dots$ \\\\\n",
       "\t4 & 0.081694 & -0.009633 & -0.22925 & 0.010461 & -0.019418 & 0.030947 & -0.020483 & $\\dots$ \\\\\n",
       "\t5 & 0.025366 & -0.026715 & -0.176635 & 0.003248 & -0.020804 & 0.030947 & -0.020483 & $\\dots$ \\\\\n",
       "\t6 & -0.006777 & -0.151487 & -0.189069 & 0.010461 & 0.016953 & 0.030947 & -0.020483 & $\\dots$ \\\\\n",
       "\t7 & 0.077306 & -0.166729 & -0.117739 & 0.010461 & 0.02455 & 0.030947 & -0.020483 & $\\dots$ \\\\\n",
       "\t8 & -0.108433 & -0.099645 & -0.083309 & 0.00449 & 0.021457 & 0.030947 & -0.020483 & $\\dots$ \\\\\n",
       "\t9 & -0.034099 & 0.151557 & 0.319282 & -0.044835 & -0.036663 & 0.030947 & -0.020483 & $\\dots$ \\\\\n",
       "\t10 & -0.082429 & 0.047603 & -0.014473 & -0.002332 & 0.007654 & 0.030947 & -0.020483 & $\\dots$ \\\\\n",
       "\t11 & -0.024344 & 0.008143 & -0.034969 & 0.010461 & 0.010167 & -0.030947 & 0.020483 & $\\dots$ \\\\\n",
       "\t12 & 0.06342 & -0.081185 & 0.044147 & 0.008486 & 0.016917 & -0.030947 & 0.020483 & $\\dots$ \\\\\n",
       "\t13 & 0.006619 & -0.153504 & 0.393015 & -0.048444 & 0.023058 & -0.030947 & 0.020483 & $\\dots$ \\\\\n",
       "\t14 & -0.013201 & -0.148069 & -0.014632 & 0.008861 & 0.01611 & -0.030947 & 0.020483 & $\\dots$ \\\\\n",
       "\t15 & -0.080674 & 0.024709 & 0.053162 & 0.006772 & 0.015537 & -0.030947 & 0.020483 & $\\dots$ \\\\\n",
       "\t16 & -0.104579 & 0.235093 & 0.178299 & -0.003743 & 0.000594 & -0.030947 & 0.020483 & $\\dots$ \\\\\n",
       "\t17 & 0.029254 & 0.294984 & 0.146047 & -0.004602 & -0.020556 & -0.030947 & 0.020483 & $\\dots$ \\\\\n",
       "\t18 & -0.050676 & 0.023764 & 0.016241 & 0.00588 & 0.005843 & -0.030947 & 0.020483 & $\\dots$ \\\\\n",
       "\t19 & -0.006202 & -0.116843 & -0.017315 & 0.005432 & 0.005395 & -0.030947 & 0.020483 & $\\dots$ \\\\\n",
       "\t20 & -0.00652 & -0.005427 & 0.154285 & -0.012441 & -0.004111 & -0.030947 & 0.020483 & $\\dots$ \\\\\n",
       "\t21 & 0.043371 & 0.106903 & -0.117615 & 0.007972 & -0.016177 & 0.042549 & -0.022225 & $\\dots$ \\\\\n",
       "\t22 & 0.115747 & 0.090648 & -0.095338 & 0.007972 & -0.014797 & 0.042549 & -0.022225 & $\\dots$ \\\\\n",
       "\t23 & -0.014465 & 0.084448 & -0.115481 & 0.007972 & -0.016793 & 0.042549 & -0.022225 & $\\dots$ \\\\\n",
       "\t24 & 0.049781 & 0.029736 & -0.187202 & 0.007972 & -0.014797 & 0.042549 & -0.022225 & $\\dots$ \\\\\n",
       "\t25 & 0.012867 & -0.027009 & -0.187794 & 0.002475 & -0.015853 & 0.042549 & -0.022225 & $\\dots$ \\\\\n",
       "\t26 & 0.083761 & -0.220044 & -0.148477 & 0.007972 & 0.012919 & 0.042549 & -0.022225 & $\\dots$ \\\\\n",
       "\t27 & -0.013979 & -0.2442 & -0.028904 & 0.007972 & 0.018709 & 0.042549 & -0.022225 & $\\dots$ \\\\\n",
       "\t28 & 0.02018 & -0.217045 & 0.127496 & 0.003421 & 0.016351 & 0.042549 & -0.022225 & $\\dots$ \\\\\n",
       "\t29 & 0.045042 & 0.10424 & 0.393619 & -0.034166 & -0.027939 & 0.042549 & -0.022225 & $\\dots$ \\\\\n",
       "\t30 & -0.077206 & -0.172381 & -0.009195 & -0.001777 & 0.005833 & 0.042549 & -0.022225 & $\\dots$ \\\\\n",
       "\t$\\dots$ & $\\dots$ & $\\dots$ & $\\dots$ & $\\dots$ & $\\dots$ & $\\dots$ & $\\dots$ &  \\\\\n",
       "\\end{tabular}\n"
      ],
      "text/plain": [
       "\u001b[1m3900×196 DataFrame\u001b[0m\n",
       "\u001b[1m  Row \u001b[0m│\u001b[1m logfssl   \u001b[0m\u001b[1m logrobr   \u001b[0m\u001b[1m logburg   \u001b[0m\u001b[1m burg_missing \u001b[0m\u001b[1m robrate_missing \u001b[0m\u001b[1m newbla\u001b[0m ⋯\n",
       "\u001b[1m      \u001b[0m│\u001b[90m Float64   \u001b[0m\u001b[90m Float64   \u001b[0m\u001b[90m Float64   \u001b[0m\u001b[90m Float64      \u001b[0m\u001b[90m Float64         \u001b[0m\u001b[90m Float6\u001b[0m ⋯\n",
       "──────┼─────────────────────────────────────────────────────────────────────────\n",
       "    1 │  0.096127   0.150893  -0.124395      0.010461        -0.021229   0.030 ⋯\n",
       "    2 │  0.080809   0.040168  -0.134781      0.010461        -0.019418   0.030\n",
       "    3 │  0.05734   -0.017679  -0.167909      0.010461        -0.022037   0.030\n",
       "    4 │  0.081694  -0.009633  -0.22925       0.010461        -0.019418   0.030\n",
       "    5 │  0.025366  -0.026715  -0.176635      0.003248        -0.020804   0.030 ⋯\n",
       "    6 │ -0.006777  -0.151487  -0.189069      0.010461         0.016953   0.030\n",
       "    7 │  0.077306  -0.166729  -0.117739      0.010461         0.02455    0.030\n",
       "    8 │ -0.108433  -0.099645  -0.083309      0.00449          0.021457   0.030\n",
       "    9 │ -0.034099   0.151557   0.319282     -0.044835        -0.036663   0.030 ⋯\n",
       "   10 │ -0.082429   0.047603  -0.014473     -0.002332         0.007654   0.030\n",
       "   11 │ -0.024344   0.008143  -0.034969      0.010461         0.010167  -0.030\n",
       "  ⋮   │     ⋮          ⋮          ⋮           ⋮               ⋮             ⋮  ⋱\n",
       " 3891 │ -0.006815   0.078647   0.13458      -0.020588        -0.020788   0.053\n",
       " 3892 │  0.135748   0.05618    0.134567     -0.021935        -0.016185   0.053 ⋯\n",
       " 3893 │ -0.022392   0.209323   0.390146     -0.06076         -0.011997   0.053\n",
       " 3894 │  0.040516  -0.085853   0.15756      -0.021679        -0.016735   0.053\n",
       " 3895 │ -0.058838  -0.09832    0.126737     -0.023104        -0.017127   0.053\n",
       " 3896 │  0.040789   0.018225   0.107714     -0.030275        -0.027317   0.053 ⋯\n",
       " 3897 │  0.208251   0.251402   0.151313     -0.030861        -0.041741   0.053\n",
       " 3898 │  0.177444   0.179985   0.116497     -0.023712        -0.023737   0.053\n",
       " 3899 │ -0.097127  -1.3754    -3.02228       0.530429         0.530404   0.053\n",
       " 3900 │  0.274062   0.336788   0.171876     -0.036207        -0.030526   0.053 ⋯\n",
       "\u001b[36m                                               191 columns and 3879 rows omitted\u001b[0m"
      ]
     },
     "execution_count": 20,
     "metadata": {},
     "output_type": "execute_result"
    }
   ],
   "source": [
    "# define the variables\n",
    "y = \"logghomr\"\n",
    "\n",
    "data_columns = names(data)\n",
    "no_relev_col = [\"CountyCode\", \"logghomr\"]\n",
    "\n",
    "# This gives us: new_list = ['carrot' , 'lemon']\n",
    "z = data[!,Not(no_relev_col)]"
   ]
  },
  {
   "cell_type": "code",
   "execution_count": 26,
   "id": "f5c972e3",
   "metadata": {},
   "outputs": [
    {
     "data": {
      "text/plain": [
       "63-element Vector{Symbol}:\n",
       " Symbol(\"@formula\")\n",
       " :AbstractContrasts\n",
       " :AbstractTerm\n",
       " :CategoricalTerm\n",
       " :ConstantTerm\n",
       " :ContinuousTerm\n",
       " :ContrastsCoding\n",
       " :DummyCoding\n",
       " :EffectsCoding\n",
       " :FixedEffectModel\n",
       " :FixedEffectModels\n",
       " :FormulaTerm\n",
       " :FunctionTerm\n",
       " ⋮\n",
       " :reg\n",
       " :residuals\n",
       " :response\n",
       " :responsename\n",
       " :rss\n",
       " :schema\n",
       " :setcontrasts!\n",
       " :stderror\n",
       " :term\n",
       " :terms\n",
       " :vcov\n",
       " :width"
      ]
     },
     "execution_count": 26,
     "metadata": {},
     "output_type": "execute_result"
    }
   ],
   "source": [
    "names(FixedEffectModels)"
   ]
  },
  {
   "cell_type": "code",
   "execution_count": 27,
   "id": "ac565ce8",
   "metadata": {},
   "outputs": [
    {
     "data": {
      "text/plain": [
       "FormulaTerm\n",
       "Response:\n",
       "  logghomr(unknown)\n",
       "Predictors:\n",
       "  logfssl(unknown)\n",
       "  logrobr(unknown)\n",
       "  logburg(unknown)\n",
       "  burg_missing(unknown)\n",
       "  robrate_missing(unknown)\n",
       "  newblack(unknown)\n",
       "  newfhh(unknown)\n",
       "  newmove(unknown)\n",
       "  newdens(unknown)\n",
       "  newmal(unknown)\n",
       "  AGE010D(unknown)\n",
       "  AGE050D(unknown)\n",
       "  AGE110D(unknown)\n",
       "  AGE170D(unknown)\n",
       "  AGE180D(unknown)\n",
       "  AGE270D(unknown)\n",
       "  AGE310D(unknown)\n",
       "  AGE320D(unknown)\n",
       "  AGE350D(unknown)\n",
       "  AGE380D(unknown)\n",
       "  AGE410D(unknown)\n",
       "  AGE470D(unknown)\n",
       "  AGE570D(unknown)\n",
       "  AGE640D(unknown)\n",
       "  AGE670D(unknown)\n",
       "  AGE760D(unknown)\n",
       "  BNK010D(unknown)\n",
       "  BNK050D(unknown)\n",
       "  BPS030D(unknown)\n",
       "  BPS130D(unknown)\n",
       "  BPS230D(unknown)\n",
       "  BPS020D(unknown)\n",
       "  BPS120D(unknown)\n",
       "  BPS220D(unknown)\n",
       "  BPS820D(unknown)\n",
       "  BZA010D(unknown)\n",
       "  BZA110D(unknown)\n",
       "  BZA210D(unknown)\n",
       "  EDU100D(unknown)\n",
       "  EDU200D(unknown)\n",
       "  EDU600D(unknown)\n",
       "  EDU610D(unknown)\n",
       "  EDU620D(unknown)\n",
       "  EDU630D(unknown)\n",
       "  EDU635D(unknown)\n",
       "  EDU640D(unknown)\n",
       "  EDU650D(unknown)\n",
       "  EDU680D(unknown)\n",
       "  EDU685D(unknown)\n",
       "  ELE010D(unknown)\n",
       "  ELE020D(unknown)\n",
       "  ELE025D(unknown)\n",
       "  ELE030D(unknown)\n",
       "  ELE035D(unknown)\n",
       "  ELE060D(unknown)\n",
       "  ELE065D(unknown)\n",
       "  ELE210D(unknown)\n",
       "  ELE220D(unknown)\n",
       "  HIS010D(unknown)\n",
       "  HIS020D(unknown)\n",
       "  HIS030D(unknown)\n",
       "  HIS040D(unknown)\n",
       "  HIS110D(unknown)\n",
       "  HIS120D(unknown)\n",
       "  HIS130D(unknown)\n",
       "  HIS140D(unknown)\n",
       "  HIS200D(unknown)\n",
       "  HIS300D(unknown)\n",
       "  HIS500D(unknown)\n",
       "  HIS700D(unknown)\n",
       "  HSD010D(unknown)\n",
       "  HSD020D(unknown)\n",
       "  HSD030D(unknown)\n",
       "  HSD110D(unknown)\n",
       "  HSD120D(unknown)\n",
       "  HSD130D(unknown)\n",
       "  HSD140D(unknown)\n",
       "  HSD150D(unknown)\n",
       "  HSD170D(unknown)\n",
       "  HSD200D(unknown)\n",
       "  HSD210D(unknown)\n",
       "  HSD230D(unknown)\n",
       "  HSD300D(unknown)\n",
       "  HSD310D(unknown)\n",
       "  HSG030D(unknown)\n",
       "  HSG195D(unknown)\n",
       "  HSG200D(unknown)\n",
       "  HSG220D(unknown)\n",
       "  HSG440D(unknown)\n",
       "  HSG445D(unknown)\n",
       "  HSG460D(unknown)\n",
       "  HSG680D(unknown)\n",
       "  HSG700D(unknown)\n",
       "  HSD410D(unknown)\n",
       "  HSD500D(unknown)\n",
       "  HSD510D(unknown)\n",
       "  HSD520D(unknown)\n",
       "  HSD530D(unknown)\n",
       "  HSD540D(unknown)\n",
       "  HSD550D(unknown)\n",
       "  HSD560D(unknown)\n",
       "  HSD570D(unknown)\n",
       "  HSD580D(unknown)\n",
       "  HSD590D(unknown)\n",
       "  HSD610D(unknown)\n",
       "  HSD620D(unknown)\n",
       "  HSD710D(unknown)\n",
       "  HSD720D(unknown)\n",
       "  HSD730D(unknown)\n",
       "  HSD740D(unknown)\n",
       "  HSD750D(unknown)\n",
       "  HSD760D(unknown)\n",
       "  HSD770D(unknown)\n",
       "  HSD780D(unknown)\n",
       "  HSG040D(unknown)\n",
       "  HSG045D(unknown)\n",
       "  HSG050D(unknown)\n",
       "  HSG182D(unknown)\n",
       "  HSG210D(unknown)\n",
       "  HSG230D(unknown)\n",
       "  HSG240D(unknown)\n",
       "  HSG250D(unknown)\n",
       "  HSG310D(unknown)\n",
       "  HSG315D(unknown)\n",
       "  HSG320D(unknown)\n",
       "  HSG325D(unknown)\n",
       "  HSG335D(unknown)\n",
       "  HSG350D(unknown)\n",
       "  HSG370D(unknown)\n",
       "  HSG375D(unknown)\n",
       "  HSG380D(unknown)\n",
       "  HSG450D(unknown)\n",
       "  HSG490D(unknown)\n",
       "  HSG500D(unknown)\n",
       "  HSG510D(unknown)\n",
       "  HSG520D(unknown)\n",
       "  HSG530D(unknown)\n",
       "  HSG540D(unknown)\n",
       "  HSG550D(unknown)\n",
       "  HSG560D(unknown)\n",
       "  HSG570D(unknown)\n",
       "  HSG650D(unknown)\n",
       "  HSG690D(unknown)\n",
       "  HSG710D(unknown)\n",
       "  HSG730D(unknown)\n",
       "  INC110D(unknown)\n",
       "  INC650D(unknown)\n",
       "  INC670D(unknown)\n",
       "  INC680D(unknown)\n",
       "  INC690D(unknown)\n",
       "  INC700D(unknown)\n",
       "  INC710D(unknown)\n",
       "  INC720D(unknown)\n",
       "  INC730D(unknown)\n",
       "  INC760D(unknown)\n",
       "  INC790D(unknown)\n",
       "  LFE020D(unknown)\n",
       "  LFE023D(unknown)\n",
       "  LFE030D(unknown)\n",
       "  LFE080D(unknown)\n",
       "  LFE090D(unknown)\n",
       "  LFE210D(unknown)\n",
       "  LFE220D(unknown)\n",
       "  LND110D(unknown)\n",
       "  PIN020D(unknown)\n",
       "  POP110D(unknown)\n",
       "  POP210D(unknown)\n",
       "  POP240D(unknown)\n",
       "  POP440D(unknown)\n",
       "  POP450D(unknown)\n",
       "  POP470D(unknown)\n",
       "  POP480D(unknown)\n",
       "  POP540D(unknown)\n",
       "  POP550D(unknown)\n",
       "  POP570D(unknown)\n",
       "  POP580D(unknown)\n",
       "  POP700D(unknown)\n",
       "  POP710D(unknown)\n",
       "  POP720D(unknown)\n",
       "  POP740D(unknown)\n",
       "  PPQ010D(unknown)\n",
       "  PPQ100D(unknown)\n",
       "  PPQ110D(unknown)\n",
       "  PPQ120D(unknown)\n",
       "  PVY020D(unknown)\n",
       "  PVY120D(unknown)\n",
       "  PVY210D(unknown)\n",
       "  PVY310D(unknown)\n",
       "  PVY420D(unknown)\n",
       "  PVY520D(unknown)\n",
       "  SPR030D(unknown)\n",
       "  SPR130D(unknown)\n",
       "  SPR230D(unknown)\n",
       "  SPR330D(unknown)\n",
       "  SPR440D(unknown)\n",
       "  VST020D(unknown)"
      ]
     },
     "execution_count": 27,
     "metadata": {},
     "output_type": "execute_result"
    }
   ],
   "source": [
    "# control_formula = term(:logghomr) ~ sum(term.(names(z)[1:end])) + fe(:CountyCode)\n",
    "control_formula = term(:logghomr) ~ sum(term.(names(z)[1:end]))"
   ]
  },
  {
   "cell_type": "code",
   "execution_count": 28,
   "id": "7614ddef",
   "metadata": {},
   "outputs": [
    {
     "name": "stderr",
     "output_type": "stream",
     "text": [
      "┌ Warning: estimated covariance matrix of moment conditions not of full rank.\n",
      "│                  model tests should be interpreted with caution.\n",
      "└ @ Vcov C:\\Users\\sandr\\.julia\\packages\\Vcov\\8Fkqk\\src\\utils.jl:5\n"
     ]
    },
    {
     "data": {
      "text/plain": [
       "                                   Linear Model                                   \n",
       "===================================================================================\n",
       "Number of obs:                      3900   Degrees of freedom:                  181\n",
       "R2:                                0.203   R2 Adjusted:                       0.164\n",
       "F-Stat:                       2.71826e18   p-value:                           0.000\n",
       "===================================================================================\n",
       "logghomr        |    Estimate   Std.Error      t value Pr(>|t|) Lower 95% Upper 95%\n",
       "-----------------------------------------------------------------------------------\n",
       "logfssl         |    0.190671 0.000214096      890.584    0.000  0.190251   0.19109\n",
       "logrobr         |     0.18903     9.74947    0.0193888    0.985  -18.9258   19.3039\n",
       "logburg         |    0.219294     4.47891    0.0489614    0.961  -8.56206   9.00065\n",
       "burg_missing    |      1.5298     7.52835     0.203205    0.839  -13.2303   16.2899\n",
       "robrate_missing |     1.13297     7.26053     0.156044    0.876  -13.1021    15.368\n",
       "newblack        |    -4.34682     6.62062    -0.656558    0.512  -17.3272   8.63359\n",
       "newfhh          |     7.80009     13.0739     0.596614    0.551  -17.8327   33.4329\n",
       "newmove         |     42.2304     9.63096      4.38486    0.000   23.3479   61.1129\n",
       "newdens         |    -2.40914     6.17962    -0.389853    0.697  -14.5249   9.70663\n",
       "newmal          |    0.612434     11.4751    0.0533708    0.957  -21.8856   23.1105\n",
       "AGE010D         |    -31.0129     6.62327     -4.68242    0.000  -43.9985  -18.0273\n",
       "AGE050D         |      10.436     16.0935     0.648461    0.517   -21.117    41.989\n",
       "AGE110D         |    -6.47538      11.045    -0.586274    0.558  -28.1302   15.1794\n",
       "AGE170D         |    -6.46665     15.2532    -0.423952    0.672  -36.3722   23.4389\n",
       "AGE180D         |    -11.5616     9.75542     -1.18515    0.236  -30.6881    7.5649\n",
       "AGE270D         |     35.7176     6.39689      5.58359    0.000   23.1758   48.2593\n",
       "AGE310D         |     19.3671     26.5513      0.72942    0.466  -32.6895   71.4237\n",
       "AGE320D         |     1.58143     19.4842    0.0811649    0.935  -36.6193   39.7821\n",
       "AGE350D         |     -9.2839     15.6737    -0.592324    0.554  -40.0137   21.4459\n",
       "AGE380D         |     27.0533      33.048     0.818607    0.413  -37.7406   91.8473\n",
       "AGE410D         |    -9.22949     18.4743    -0.499584    0.617  -45.4503   26.9913\n",
       "AGE470D         |     5.17333     9.77121     0.529446    0.597  -13.9841   24.3308\n",
       "AGE570D         |     3.81493     9.60652     0.397119    0.691  -15.0196   22.6495\n",
       "AGE640D         |     1.96683     31.9771    0.0615074    0.951  -60.7275   64.6611\n",
       "AGE670D         |    -1.73173     70.8358   -0.0244471    0.980  -140.613   137.149\n",
       "AGE760D         |     0.81316     16.3585    0.0497087    0.960  -31.2594   32.8857\n",
       "BNK010D         |  -0.0757231     18.9656  -0.00399266    0.997  -37.2597   37.1083\n",
       "BNK050D         |    0.018521      28.166  0.000657565    0.999  -55.2039   55.2409\n",
       "BPS030D         |   -0.066928      33.439  -0.00200149    0.998  -65.6275   65.4936\n",
       "BPS130D         |   0.0280607     23.6935   0.00118432    0.999  -46.4254   46.4816\n",
       "BPS230D         |  -0.0730004     22.4671  -0.00324921    0.997   -44.122    43.976\n",
       "BPS020D         |  -0.0832063     21.0792  -0.00394731    0.997  -41.4112   41.2448\n",
       "BPS120D         |    0.035453     27.9521   0.00126835    0.999  -54.7674   54.8383\n",
       "BPS220D         |   0.0676791     17.9183    0.0037771    0.997  -35.0629   35.1983\n",
       "BPS820D         |    0.031421     35.7467  0.000878988    0.999  -70.0537   70.1165\n",
       "BZA010D         |    0.341567     20.1161    0.0169798    0.986   -39.098   39.7812\n",
       "BZA110D         |   -0.135707     29.4969  -0.00460073    0.996  -57.9674    57.696\n",
       "BZA210D         |  -0.0975973     39.4977  -0.00247096    0.998  -77.5368   77.3416\n",
       "EDU100D         |         0.0         NaN          NaN      NaN       NaN       NaN\n",
       "EDU200D         |         0.0         NaN          NaN      NaN       NaN       NaN\n",
       "EDU600D         |    -51.0255     20.6684     -2.46877    0.014   -91.548   -10.503\n",
       "EDU610D         |   -0.428712     22.4278   -0.0191152    0.985  -44.4008   43.5433\n",
       "EDU620D         |     1.09965     47.5008    0.0231501    0.982  -92.0306   94.2298\n",
       "EDU630D         |     28.8101     48.8008     0.590361    0.555  -66.8688   124.489\n",
       "EDU635D         |    -23.0591     29.6519    -0.777659    0.437  -81.1947   35.0765\n",
       "EDU640D         |    -1.00045     22.8867   -0.0437131    0.965  -45.8722   43.8713\n",
       "EDU650D         |     -2.0153     26.3831   -0.0763858    0.939  -53.7422   49.7116\n",
       "EDU680D         |    -8.01946     25.7158     -0.31185    0.755  -58.4378   42.3989\n",
       "EDU685D         |     7.19363     27.8687     0.258126    0.796  -47.4457    61.833\n",
       "ELE010D         |     16.0876     33.4329     0.481189    0.630  -49.4611   81.6363\n",
       "ELE020D         |       2.217     41.5456    0.0533629    0.957  -79.2375   83.6715\n",
       "ELE025D         |    -2.54703     102.971   -0.0247355    0.980  -204.431   199.337\n",
       "ELE030D         |    -18.6818     56.3919    -0.331286    0.740  -129.244   91.8803\n",
       "ELE035D         |      18.695     20.0371      0.93302    0.351  -20.5898   57.9798\n",
       "ELE060D         |  0.00555918     21.1584  0.000262741    1.000  -41.4776   41.4887\n",
       "ELE065D         |  -0.0142989     51.2883 -0.000278794    1.000   -100.57   100.542\n",
       "ELE210D         |   -0.329741     23.1815   -0.0142243    0.989  -45.7795     45.12\n",
       "ELE220D         |  -0.0028114     67.0818  -4.19099e-5    1.000  -131.524   131.518\n",
       "HIS010D         |         0.0         NaN          NaN      NaN       NaN       NaN\n",
       "HIS020D         |     18.9964     61.7135     0.307817    0.758  -101.999   139.992\n",
       "HIS030D         |    -9.14996     112.974   -0.0809917    0.935  -230.647   212.347\n",
       "HIS040D         |    -9.47229     38.5549    -0.245683    0.806  -85.0632   66.1186\n",
       "HIS110D         |   -0.834092     40.6227   -0.0205327    0.984  -80.4789   78.8108\n",
       "HIS120D         |   0.0635037     56.3278   0.00112739    0.999  -110.373     110.5\n",
       "HIS130D         |  -0.0266082     40.5374 -0.000656386    0.999  -79.5043   79.4511\n",
       "HIS140D         |   -0.143874     64.4741   -0.0022315    0.998  -126.552   126.264\n",
       "HIS200D         |         0.0         NaN          NaN      NaN       NaN       NaN\n",
       "HIS300D         |         0.0         NaN          NaN      NaN       NaN       NaN\n",
       "HIS500D         |         0.0         NaN          NaN      NaN       NaN       NaN\n",
       "HIS700D         |         0.0         NaN          NaN      NaN       NaN       NaN\n",
       "HSD010D         |     74.7136     23.6437      3.15997    0.002   28.3576    121.07\n",
       "HSD020D         |   -0.153163     34.7658  -0.00440556    0.996  -68.3151   68.0087\n",
       "HSD030D         |     5.62845     47.8234     0.117692    0.906  -88.1342   99.3911\n",
       "HSD110D         |     77.9393     40.8245      1.90913    0.056  -2.10121    157.98\n",
       "HSD120D         |    -17.7825     37.3449    -0.476168    0.634   -91.001   55.4361\n",
       "HSD130D         |    -78.6351     55.8223     -1.40867    0.159   -188.08   30.8101\n",
       "HSD140D         |     12.5451     56.1625     0.223372    0.823  -97.5672   122.657\n",
       "HSD150D         |    -2.98228     29.6002    -0.100752    0.920  -61.0164   55.0519\n",
       "HSD170D         |    -6.87859     53.7638    -0.127941    0.898  -112.288   98.5309\n",
       "HSD200D         |    -58.7677      43.671     -1.34569    0.178  -144.389   26.8537\n",
       "HSD210D         |     33.4792     77.2607     0.433327    0.665  -117.998   184.957\n",
       "HSD230D         |    -3.21019     56.7019   -0.0566152    0.955   -114.38    107.96\n",
       "HSD300D         |     12.9237     33.5919     0.384727    0.700  -52.9367   78.7841\n",
       "HSD310D         |    -20.5243      58.665    -0.349856    0.726  -135.543   94.4944\n",
       "HSG030D         |    -66.4703     37.8977     -1.75394    0.080  -140.773   7.83204\n",
       "HSG195D         |  -0.0669171     76.6731 -0.000872758    0.999  -150.392   150.259\n",
       "HSG200D         |         0.0         NaN          NaN      NaN       NaN       NaN\n",
       "HSG220D         |    -1.34903     73.1982   -0.0184298    0.985  -144.862   142.163\n",
       "HSG440D         |     -395.28     64.5812     -6.12067    0.000  -521.898  -268.662\n",
       "HSG445D         |     63.9775     40.5805      1.57656    0.115  -15.5847    143.54\n",
       "HSG460D         |    0.387424     61.5724   0.00629217    0.995  -120.331   121.106\n",
       "HSG680D         |     -80.298     52.4362     -1.53135    0.126  -183.104   22.5085\n",
       "HSG700D         |     1.19125     58.2251    0.0204594    0.984  -112.965   115.347\n",
       "HSD410D         |    -32.8443     67.9369    -0.483452    0.629  -166.042   100.353\n",
       "HSD500D         |    -87.7911     47.1387      -1.8624    0.063  -180.211   4.62906\n",
       "HSD510D         |     97.0692     63.9917       1.5169    0.129  -28.3932   222.531\n",
       "HSD520D         |    -8.15462     42.3201    -0.192689    0.847  -91.1275   74.8183\n",
       "HSD530D         |    -0.76657     36.0432   -0.0212681    0.983  -71.4329   69.8997\n",
       "HSD540D         |     4.75311     22.3637     0.212537    0.832  -39.0932   48.5995\n",
       "HSD550D         |   -0.831879     55.1121   -0.0150943    0.988  -108.885   107.221\n",
       "HSD560D         |   -0.336192     39.8481  -0.00843684    0.993  -78.4625   77.7901\n",
       "HSD570D         |         0.0         NaN          NaN      NaN       NaN       NaN\n",
       "HSD580D         |     2.33012     41.3347    0.0563721    0.955  -78.7108    83.371\n",
       "HSD590D         |     2.70812     52.8678    0.0512244    0.959  -100.945   106.361\n",
       "HSD610D         |     28.0312     73.0452     0.383751    0.701  -115.181   171.244\n",
       "HSD620D         |     -31.376     60.8209    -0.515875    0.606  -150.622   87.8696\n",
       "HSD710D         |     40.5412     46.2607     0.876363    0.381  -50.1577    131.24\n",
       "HSD720D         |         0.0         NaN          NaN      NaN       NaN       NaN\n",
       "HSD730D         |    -7.48619     43.9602    -0.170295    0.865  -93.6746   78.7022\n",
       "HSD740D         |    -14.6966     51.2588    -0.286713    0.774  -115.195   85.8015\n",
       "HSD750D         |    0.864033     26.2398    0.0329284    0.974  -50.5817   52.3098\n",
       "HSD760D         |     12.9187     50.4934     0.255848    0.798  -86.0789   111.916\n",
       "HSD770D         |     14.3445     44.9934     0.318813    0.750  -73.8697   102.559\n",
       "HSD780D         |     -2.0194     27.5663    -0.073256    0.942   -56.066   52.0272\n",
       "HSG040D         |     60.4532     33.5345      1.80272    0.072  -5.29454   126.201\n",
       "HSG045D         |    0.225893     29.7109   0.00760303    0.994  -58.0253   58.4771\n",
       "HSG050D         |         0.0         NaN          NaN      NaN       NaN       NaN\n",
       "HSG182D         |     329.057     46.6127      7.05938    0.000   237.668   420.446\n",
       "HSG210D         |     5.42263     41.3462     0.131152    0.896  -75.6408   86.4861\n",
       "HSG230D         |         0.0         NaN          NaN      NaN       NaN       NaN\n",
       "HSG240D         |     13.3743     34.0665     0.392593    0.695  -53.4166   80.1651\n",
       "HSG250D         |    0.116296      27.281   0.00426289    0.997  -53.3709   53.6034\n",
       "HSG310D         |    0.182972     25.8291   0.00708395    0.994  -50.4575   50.8235\n",
       "HSG315D         |   0.0783068      14.086   0.00555918    0.996  -27.5388   27.6954\n",
       "HSG320D         |    0.179122     16.9822    0.0105476    0.992  -33.1163   33.4746\n",
       "HSG325D         |  -0.0160598     25.0279 -0.000641677    0.999  -49.0858   49.0537\n",
       "HSG335D         |   0.0767097     17.4276   0.00440162    0.996  -34.0919   34.2453\n",
       "HSG350D         |   0.0525682     15.4804    0.0033958    0.997  -30.2983   30.4034\n",
       "HSG370D         |     -1.0667     27.5813   -0.0386746    0.969  -55.1426   53.0092\n",
       "HSG375D         |   -0.840496     35.1387   -0.0239194    0.981  -69.7334   68.0524\n",
       "HSG380D         |    -2.11185     42.9202    -0.049204    0.961  -86.2613   82.0376\n",
       "HSG450D         |    0.204103     12.6328    0.0161566    0.987  -24.5638    24.972\n",
       "HSG490D         |    0.713268     49.0652    0.0145371    0.988  -95.4841   96.9107\n",
       "HSG500D         |   0.0763035     46.4996   0.00164095    0.999  -91.0909   91.2435\n",
       "HSG510D         |  -0.0543293     17.4683  -0.00311017    0.998  -34.3027    34.194\n",
       "HSG520D         |    0.338498     27.0793    0.0125003    0.990  -52.7532   53.4302\n",
       "HSG530D         |   -0.488831     8.73493   -0.0559628    0.955  -17.6146   16.6369\n",
       "HSG540D         |    0.390977     21.2081    0.0184352    0.985  -41.1897   41.9717\n",
       "HSG550D         |   -0.177963     18.7648  -0.00948388    0.992  -36.9683   36.6123\n",
       "HSG560D         |   0.0427851     18.1363   0.00235908    0.998  -35.5154   35.6009\n",
       "HSG570D         |  -0.0291685     17.6112  -0.00165625    0.999  -34.5576   34.4993\n",
       "HSG650D         |     0.67878     15.2931    0.0443848    0.965  -29.3048   30.6624\n",
       "HSG690D         |   -0.449311     28.6457   -0.0156851    0.987  -56.6122   55.7135\n",
       "HSG710D         |     78.9608     20.7325      3.80855    0.000   38.3126   119.609\n",
       "HSG730D         |   -0.924762     16.4187   -0.0563237    0.955  -33.1153   31.2658\n",
       "INC110D         |    -1.23486     31.8027   -0.0388289    0.969  -63.5873   61.1176\n",
       "INC650D         |   -0.644575     15.2188   -0.0423539    0.966  -30.4826   29.1934\n",
       "INC670D         |   -0.170094     12.1891   -0.0139547    0.989   -24.068   23.7278\n",
       "INC680D         |   -0.592061     10.3888   -0.0569904    0.955  -20.9603   19.7762\n",
       "INC690D         |     0.58468     12.8054    0.0456588    0.964  -24.5216    25.691\n",
       "INC700D         |    0.116918      9.0499    0.0129193    0.990  -17.6263   17.8602\n",
       "INC710D         |    0.347385     14.7361    0.0235737    0.981  -28.5443   29.2391\n",
       "INC720D         |    -1.70833     7.16143    -0.238547    0.811   -15.749   12.3324\n",
       "INC730D         |    0.148578     11.3087    0.0131384    0.990  -22.0233   22.3205\n",
       "INC760D         |     1.01708       7.038     0.144513    0.885  -12.7816   14.8158\n",
       "INC790D         |   -0.665111     27.0275   -0.0246087    0.980  -53.6553   52.3251\n",
       "LFE020D         |    -11.1075     9.82446      -1.1306    0.258  -30.3694   8.15433\n",
       "LFE023D         |     5.51498     6.48105     0.850938    0.395  -7.19179   18.2217\n",
       "LFE030D         |    0.192547     6.22749    0.0309188    0.975  -12.0171   12.4022\n",
       "LFE080D         |   -0.190895     4.65034   -0.0410496    0.967  -9.30837   8.92658\n",
       "LFE090D         |    0.991377     5.03544      0.19688    0.844  -8.88112   10.8639\n",
       "LFE210D         |       2.536     7.95795     0.318675    0.750  -13.0664   18.1384\n",
       "LFE220D         |    0.194703     5.10593    0.0381327    0.970  -9.81599   10.2054\n",
       "LND110D         |   -0.957567     4.80606    -0.199242    0.842  -10.3803    8.4652\n",
       "PIN020D         |    0.238782     5.02133    0.0475534    0.962  -9.60605   10.0836\n",
       "POP110D         |         0.0         NaN          NaN      NaN       NaN       NaN\n",
       "POP210D         |   -0.973626     6.01445    -0.161881    0.871  -12.7656   10.8183\n",
       "POP240D         |         0.0         NaN          NaN      NaN       NaN       NaN\n",
       "POP440D         |    -3.88742     4.05933    -0.957651    0.338  -11.8462   4.07131\n",
       "POP450D         |     11.6002     4.89479       2.3699    0.018   2.00343   21.1969\n",
       "POP470D         |    -3.54817     2.73121     -1.29912    0.194  -8.90298   1.80665\n",
       "POP480D         |    -1.77516      2.8413    -0.624772    0.532  -7.34583    3.7955\n",
       "POP540D         |    -1.49392     3.59838    -0.415166    0.678  -8.54892   5.56107\n",
       "POP550D         |    -28.2174     3.40836     -8.27887    0.000  -34.8998  -21.5349\n",
       "POP570D         |    0.166053     5.84647    0.0284022    0.977  -11.2966   11.6287\n",
       "POP580D         |      2.2468     2.83125     0.793572    0.427  -3.30415   7.79774\n",
       "POP700D         |     44.3309     5.35979      8.27101    0.000   33.8225   54.8393\n",
       "POP710D         |    -13.1519     4.58404     -2.86907    0.004  -22.1394  -4.16445\n",
       "POP720D         |     0.89423     2.04728     0.436788    0.662  -3.11968   4.90814\n",
       "POP740D         |    0.408881     1.18831     0.344086    0.731  -1.92092   2.73869\n",
       "PPQ010D         |   -0.313905     4.31414   -0.0727619    0.942  -8.77222   8.14441\n",
       "PPQ100D         |     0.49144     2.23937     0.219454    0.826  -3.89908   4.88196\n",
       "PPQ110D         |         0.0         NaN          NaN      NaN       NaN       NaN\n",
       "PPQ120D         |         0.0         NaN          NaN      NaN       NaN       NaN\n",
       "PVY020D         |    -1.14767     1.52342    -0.753353    0.451  -4.13448   1.83914\n",
       "PVY120D         |     2.03167     3.28006     0.619401    0.536  -4.39922   8.46257\n",
       "PVY210D         |    0.307108     6.07648    0.0505404    0.960  -11.6065   12.2207\n",
       "PVY310D         |   -0.428608     2.26751    -0.189021    0.850   -4.8743   4.01708\n",
       "PVY420D         |    0.612425     7.16864    0.0854311    0.932  -13.4424   14.6673\n",
       "PVY520D         |   -0.326862     2.40232    -0.136061    0.892  -5.03686   4.38313\n",
       "SPR030D         |   -0.500299     1.35536    -0.369127    0.712  -3.15762   2.15702\n",
       "SPR130D         |    -1.65654    0.554668     -2.98655    0.003  -2.74403 -0.569061\n",
       "SPR230D         |     1.44786     1.40932      1.02734    0.304  -1.31526   4.21098\n",
       "SPR330D         |  -0.0339982    0.658178    -0.051655    0.959  -1.32442   1.25643\n",
       "SPR440D         |   -0.431514    0.422872     -1.02044    0.308   -1.2606   0.39757\n",
       "VST020D         |    0.532223     0.59105     0.900471    0.368  -0.62659   1.69104\n",
       "(Intercept)     | -3.47047e-7     15.4392  -2.24783e-8    1.000  -30.2702   30.2702\n",
       "===================================================================================\n"
      ]
     },
     "execution_count": 28,
     "metadata": {},
     "output_type": "execute_result"
    }
   ],
   "source": [
    "control_ols = reg(data, control_formula, Vcov.cluster(:CountyCode))"
   ]
  },
  {
   "cell_type": "code",
   "execution_count": 29,
   "id": "62b5261b",
   "metadata": {
    "execution": {
     "iopub.execute_input": "2021-02-13T17:30:40.575465Z",
     "iopub.status.busy": "2021-02-13T17:30:40.573798Z",
     "iopub.status.idle": "2021-02-13T17:30:40.777165Z",
     "shell.execute_reply": "2021-02-13T17:30:40.774926Z"
    },
    "papermill": {
     "duration": 0.229579,
     "end_time": "2021-02-13T17:30:40.777425",
     "exception": false,
     "start_time": "2021-02-13T17:30:40.547846",
     "status": "completed"
    },
    "tags": []
   },
   "outputs": [
    {
     "name": "stdout",
     "output_type": "stream",
     "text": [
      "For <<logfssl>> variable: \n",
      "2.5% : 0.19025077455652542\n",
      "97.5% : 0.19109028864460129\n",
      "Estimate: 0.19067053160056335\n",
      "Cluster s.e. : 0.20296178713656843\n",
      "T-value : 890.5843124451466\n",
      "Pr(>|t|) : 0.0\n"
     ]
    }
   ],
   "source": [
    "println(\"For <<logfssl>> variable: \")\n",
    "println(\"2.5% : \", coeftable(control_ols).cols[5][1])\n",
    "println(\"97.5% : \" , coeftable(control_ols).cols[6][1])\n",
    "println(\"Estimate: \", coeftable(control_ols).cols[1][1])\n",
    "println(\"Cluster s.e. : \" , r2(control_ols))\n",
    "println(\"T-value : \", coeftable(control_ols).cols[3][1])\n",
    "println(\"Pr(>|t|) : \" , coeftable(control_ols).cols[4][1])"
   ]
  },
  {
   "cell_type": "markdown",
   "id": "09318c93",
   "metadata": {
    "papermill": {
     "duration": 0.039309,
     "end_time": "2021-02-13T17:30:40.858783",
     "exception": false,
     "start_time": "2021-02-13T17:30:40.819474",
     "status": "completed"
    },
    "tags": []
   },
   "source": [
    "After controlling for a rich set of characteristics, the point estimate of gun ownership reduces to $0.19$."
   ]
  },
  {
   "cell_type": "markdown",
   "id": "c396769c",
   "metadata": {
    "papermill": {
     "duration": 0.022083,
     "end_time": "2021-02-13T17:30:40.902070",
     "exception": false,
     "start_time": "2021-02-13T17:30:40.879987",
     "status": "completed"
    },
    "tags": []
   },
   "source": [
    "# DML algorithm\n",
    "\n",
    "Here we perform inference of the predictive coefficient $\\beta$ in our partially linear statistical model, \n",
    "\n",
    "$$\n",
    "Y = D\\beta + g(Z) + \\epsilon, \\quad E (\\epsilon | D, Z) = 0,\n",
    "$$\n",
    "\n",
    "using the **double machine learning** approach. \n",
    "\n",
    "For $\\tilde Y = Y- E(Y|Z)$ and $\\tilde D= D- E(D|Z)$, we can write\n",
    "$$\n",
    "\\tilde Y = \\alpha \\tilde D + \\epsilon, \\quad E (\\epsilon |\\tilde D) =0.\n",
    "$$\n",
    "\n",
    "Using cross-fitting, we employ modern regression methods\n",
    "to build estimators $\\hat \\ell(Z)$ and $\\hat m(Z)$ of $\\ell(Z):=E(Y|Z)$ and $m(Z):=E(D|Z)$ to obtain the estimates of the residualized quantities:\n",
    "\n",
    "$$\n",
    "\\tilde Y_i = Y_i  - \\hat \\ell (Z_i),   \\quad \\tilde D_i = D_i - \\hat m(Z_i), \\quad \\text{ for each } i = 1,\\dots,n.\n",
    "$$\n",
    "\n",
    "Finally, using ordinary least squares of $\\tilde Y_i$ on $\\tilde D_i$, we obtain the \n",
    "estimate of $\\beta$."
   ]
  },
  {
   "cell_type": "markdown",
   "id": "b5472f12",
   "metadata": {
    "papermill": {
     "duration": 0.021101,
     "end_time": "2021-02-13T17:30:40.944373",
     "exception": false,
     "start_time": "2021-02-13T17:30:40.923272",
     "status": "completed"
    },
    "tags": []
   },
   "source": [
    "The following algorithm comsumes $Y, D, Z$, and a machine learning method for learning the residuals $\\tilde Y$ and $\\tilde D$, where the residuals are obtained by cross-validation (cross-fitting). Then, it prints the estimated coefficient $\\beta$ and the corresponding standard error from the final OLS regression."
   ]
  },
  {
   "cell_type": "code",
   "execution_count": 994,
   "id": "cabf82e2",
   "metadata": {},
   "outputs": [],
   "source": [
    "# import Pkg; Pkg.add(\"MLDataUtils\")\n",
    "# import Pkg; Pkg.add(\"MLBase\")"
   ]
  },
  {
   "cell_type": "code",
   "execution_count": null,
   "id": "d7e5c138",
   "metadata": {},
   "outputs": [],
   "source": [
    "using  MLDataUtils, MLBase"
   ]
  },
  {
   "cell_type": "code",
   "execution_count": 1016,
   "id": "4cb19d77",
   "metadata": {
    "execution": {
     "iopub.execute_input": "2021-02-13T17:30:41.049917Z",
     "iopub.status.busy": "2021-02-13T17:30:41.048343Z",
     "iopub.status.idle": "2021-02-13T17:30:41.060452Z",
     "shell.execute_reply": "2021-02-13T17:30:41.059555Z"
    },
    "papermill": {
     "duration": 0.095479,
     "end_time": "2021-02-13T17:30:41.060587",
     "exception": false,
     "start_time": "2021-02-13T17:30:40.965108",
     "status": "completed"
    },
    "tags": []
   },
   "outputs": [
    {
     "data": {
      "text/plain": [
       "DML2_for_PLM (generic function with 1 method)"
      ]
     },
     "execution_count": 1016,
     "metadata": {},
     "output_type": "execute_result"
    }
   ],
   "source": [
    "function DML2_for_PLM(z, d, y, dreg, yreg, nfold, clu) \n",
    "    \n",
    "    # Num observations\n",
    "    nobser = size(z,1)\n",
    "    \n",
    "    # Define folds indices \n",
    "    list_1 = repeat(collect(1:1:nfold), nobser)\n",
    "    samplea = randperm(nobser)\n",
    "    foldid = [list_1[i] for i in samplea]\n",
    "\n",
    "    println(\"Folds: \" )\n",
    "    \n",
    "    # Create split function(similar to R)\n",
    "    function split(f, n)\n",
    "        a = []\n",
    "        for i in 1:n\n",
    "            push!(a ,findall(x -> x == i, f))\n",
    "        end\n",
    "        a\n",
    "    end \n",
    "\n",
    "    # Split observation indices into folds \n",
    "    I = split(foldid, nfold)\n",
    "     \n",
    "    # Create array to save errors \n",
    "    ytil = ones(nobser)\n",
    "    dtil = ones(nobser)\n",
    "\n",
    "    # loop to save results\n",
    "    for i in 1:nfold \n",
    "        dfit = dreg(Z, D, rdata_1[Not(I[i]),:])\n",
    "        yfit = yreg(Z, Y, rdata_1[Not(I[i]),:])\n",
    "        dhat = predict(dfit, Z[(I[i]),:])\n",
    "        yhat = predict(yfit, Z[(I[i]),:])\n",
    "        dtil[(I[i]),:] .= (D[(I[i]),:] .- dhat)\n",
    "        ytil[(I[i]),:] .= (Y[(I[i]),:] .- yhat)\n",
    "        println(i)\n",
    "    end\n",
    "    \n",
    "    data = DataFrame(ytil = ytil, dtil = dtil, clu = clu)\n",
    "    rfit = reg(data, @formula(ytil ~ dtil + fe(clu)))\n",
    "    coef_est = coef(rfit)[1]\n",
    "    se = FixedEffectModels.coeftable(rfit).cols[2]\n",
    "    \n",
    "    println(\" coef (se) = \", coef_est ,\"(\",se,\")\")\n",
    "    \n",
    "end"
   ]
  },
  {
   "cell_type": "markdown",
   "id": "3428361b",
   "metadata": {
    "papermill": {
     "duration": 0.020604,
     "end_time": "2021-02-13T17:30:41.102146",
     "exception": false,
     "start_time": "2021-02-13T17:30:41.081542",
     "status": "completed"
    },
    "tags": []
   },
   "source": [
    "Now, we apply the Double Machine Learning (DML) approach with different machine learning methods. First, we load the relevant libraries."
   ]
  },
  {
   "cell_type": "markdown",
   "id": "cb5e503e",
   "metadata": {
    "papermill": {
     "duration": 0.022531,
     "end_time": "2021-02-13T17:30:41.655799",
     "exception": false,
     "start_time": "2021-02-13T17:30:41.633268",
     "status": "completed"
    },
    "tags": []
   },
   "source": [
    "Let us, construct the input matrices."
   ]
  },
  {
   "cell_type": "code",
   "execution_count": 742,
   "id": "8407e8d0",
   "metadata": {
    "execution": {
     "iopub.execute_input": "2021-02-13T17:30:41.706539Z",
     "iopub.status.busy": "2021-02-13T17:30:41.705289Z",
     "iopub.status.idle": "2021-02-13T17:30:41.750368Z",
     "shell.execute_reply": "2021-02-13T17:30:41.749361Z"
    },
    "papermill": {
     "duration": 0.071827,
     "end_time": "2021-02-13T17:30:41.750537",
     "exception": false,
     "start_time": "2021-02-13T17:30:41.678710",
     "status": "completed"
    },
    "tags": []
   },
   "outputs": [
    {
     "data": {
      "text/html": [
       "<div class=\"data-frame\"><p>6 rows × 3 columns</p><table class=\"data-frame\"><thead><tr><th></th><th>Y</th><th>D</th><th>CountyCode</th></tr><tr><th></th><th title=\"Float64\">Float64</th><th title=\"Float64\">Float64</th><th title=\"Int64\">Int64</th></tr></thead><tbody><tr><th>1</th><td>-0.134778</td><td>0.096127</td><td>1073</td></tr><tr><th>2</th><td>-0.239622</td><td>0.080809</td><td>1073</td></tr><tr><th>3</th><td>-0.078677</td><td>0.05734</td><td>1073</td></tr><tr><th>4</th><td>-0.331465</td><td>0.081694</td><td>1073</td></tr><tr><th>5</th><td>-0.31664</td><td>0.025366</td><td>1073</td></tr><tr><th>6</th><td>0.105132</td><td>-0.006777</td><td>1073</td></tr></tbody></table></div>"
      ],
      "text/latex": [
       "\\begin{tabular}{r|ccc}\n",
       "\t& Y & D & CountyCode\\\\\n",
       "\t\\hline\n",
       "\t& Float64 & Float64 & Int64\\\\\n",
       "\t\\hline\n",
       "\t1 & -0.134778 & 0.096127 & 1073 \\\\\n",
       "\t2 & -0.239622 & 0.080809 & 1073 \\\\\n",
       "\t3 & -0.078677 & 0.05734 & 1073 \\\\\n",
       "\t4 & -0.331465 & 0.081694 & 1073 \\\\\n",
       "\t5 & -0.31664 & 0.025366 & 1073 \\\\\n",
       "\t6 & 0.105132 & -0.006777 & 1073 \\\\\n",
       "\\end{tabular}\n"
      ],
      "text/plain": [
       "\u001b[1m6×3 DataFrame\u001b[0m\n",
       "\u001b[1m Row \u001b[0m│\u001b[1m Y         \u001b[0m\u001b[1m D         \u001b[0m\u001b[1m CountyCode \u001b[0m\n",
       "\u001b[1m     \u001b[0m│\u001b[90m Float64   \u001b[0m\u001b[90m Float64   \u001b[0m\u001b[90m Int64      \u001b[0m\n",
       "─────┼──────────────────────────────────\n",
       "   1 │ -0.134778   0.096127        1073\n",
       "   2 │ -0.239622   0.080809        1073\n",
       "   3 │ -0.078677   0.05734         1073\n",
       "   4 │ -0.331465   0.081694        1073\n",
       "   5 │ -0.31664    0.025366        1073\n",
       "   6 │  0.105132  -0.006777        1073"
      ]
     },
     "execution_count": 742,
     "metadata": {},
     "output_type": "execute_result"
    }
   ],
   "source": [
    "# Create main variables\n",
    "Y = rdata[!, \"logghomr\"]\n",
    "Y = DataFrame([Y], [:Y])\n",
    "\n",
    "D = rdata[!, \"logfssl\"]\n",
    "D = DataFrame([D], [:D])\n",
    "\n",
    "clu = rdata[!, \"CountyCode\"]\n",
    "clu = DataFrame([clu], [:CountyCode])\n",
    "\n",
    "Z = select(rdata, Not([\"logghomr\", \"logfssl\", \"CountyCode\"]))\n",
    "\n",
    "rdata_1 = [Y D Z]\n",
    "\n",
    "first(DataFrame([Y D clu]), 6)\n",
    "# first(DataFrame(logghomr = y,logfssl = d,CountyCode = clu ),6)"
   ]
  },
  {
   "cell_type": "markdown",
   "id": "8d63b332",
   "metadata": {
    "papermill": {
     "duration": 0.022813,
     "end_time": "2021-02-13T17:30:41.796577",
     "exception": false,
     "start_time": "2021-02-13T17:30:41.773764",
     "status": "completed"
    },
    "tags": []
   },
   "source": [
    "In the following, we apply the DML approach with the differnt versions of lasso.\n"
   ]
  },
  {
   "cell_type": "markdown",
   "id": "bd5bd389",
   "metadata": {
    "papermill": {
     "duration": 0.02306,
     "end_time": "2021-02-13T17:30:41.843131",
     "exception": false,
     "start_time": "2021-02-13T17:30:41.820071",
     "status": "completed"
    },
    "tags": []
   },
   "source": [
    "## Lasso"
   ]
  },
  {
   "cell_type": "code",
   "execution_count": 854,
   "id": "24868fa4",
   "metadata": {},
   "outputs": [
    {
     "name": "stderr",
     "output_type": "stream",
     "text": [
      "WARNING: using GLMNet.coef in module Main conflicts with an existing identifier.\n",
      "WARNING: using GLMNet.predict in module Main conflicts with an existing identifier.\n"
     ]
    }
   ],
   "source": [
    "using Lasso, GLMNet"
   ]
  },
  {
   "cell_type": "code",
   "execution_count": 1017,
   "id": "7a23aec7",
   "metadata": {},
   "outputs": [
    {
     "name": "stdout",
     "output_type": "stream",
     "text": [
      "Folds: \n",
      "1\n",
      "2\n",
      "3\n",
      "4\n",
      "5\n",
      "6\n",
      "7\n",
      "8\n",
      "9\n",
      "10\n",
      " coef (se) = 0.2114887327350614([0.055559216760055416])\n"
     ]
    }
   ],
   "source": [
    "# DML with Lasso:\n",
    "\n",
    "Random.seed!(123)\n",
    "\n",
    "function dreg(Z, D, rdata_1)\n",
    "    fit(LassoModel, term(:D) ~  sum(term.(names(Z))), rdata_1; α = 0.8, standardize = false)\n",
    "end\n",
    "\n",
    "############################\n",
    "\n",
    "function yreg(Z, Y, rdata_1)\n",
    "    fit(LassoModel, term(:Y) ~  sum(term.(names(Z))), rdata_1; α = 0.8, standardize = false)\n",
    "end\n",
    "\n",
    "DML2_for_PLM(z, d, y, dreg, yreg, 10, clu)"
   ]
  },
  {
   "cell_type": "code",
   "execution_count": null,
   "id": "20c1a362",
   "metadata": {},
   "outputs": [],
   "source": [
    "# # DML with Post-Lasso:\n",
    "\n",
    "# Random.seed!(123)\n",
    "\n",
    "# function dreg(Z, D, rdata_1)\n",
    "#     a = fit(LassoModel, term(:D) ~  sum(term.(names(Z))), rdata_1; α = 0.8, standardize = false)\n",
    "#     new_d = DataFrame([coef(a)], [:new_d])\n",
    "# end\n",
    "\n",
    "# ############################\n",
    "\n",
    "# function yreg(Z, Y, rdata_1)\n",
    "#     fit(LassoModel, term(:Y) ~  sum(term.(names(Z))), rdata_1; α = 0.8, standardize = false)\n",
    "# end\n",
    "\n",
    "# DML2_for_PLM(z, d, y, dreg, yreg, 10, clu)"
   ]
  },
  {
   "cell_type": "code",
   "execution_count": 856,
   "id": "a40b4208",
   "metadata": {},
   "outputs": [
    {
     "data": {
      "text/plain": [
       "12-element Vector{Symbol}:\n",
       " :CompressedPredictorMatrix\n",
       " :CoxPH\n",
       " :GLMNet\n",
       " :GLMNetCrossValidation\n",
       " :GLMNetPath\n",
       " :coef\n",
       " :glmnet\n",
       " :glmnet!\n",
       " :glmnetcv\n",
       " :lambdamin\n",
       " :nactive\n",
       " :predict"
      ]
     },
     "execution_count": 856,
     "metadata": {},
     "output_type": "execute_result"
    }
   ],
   "source": [
    "# DML with cross-validated Lasso:\n",
    "names(GLMNet)"
   ]
  },
  {
   "cell_type": "code",
   "execution_count": 1048,
   "id": "dfa80976",
   "metadata": {},
   "outputs": [
    {
     "data": {
      "text/plain": [
       "5"
      ]
     },
     "execution_count": 1048,
     "metadata": {},
     "output_type": "execute_result"
    }
   ],
   "source": [
    "nobser = 10\n",
    "nfold = 5"
   ]
  },
  {
   "cell_type": "code",
   "execution_count": 1047,
   "id": "5357ccf6",
   "metadata": {},
   "outputs": [
    {
     "data": {
      "text/plain": [
       "1-element Vector{Any}:\n",
       " [1, 2, 3, 4, 5, 8, 9, 10]"
      ]
     },
     "execution_count": 1047,
     "metadata": {},
     "output_type": "execute_result"
    }
   ],
   "source": [
    "foldid[1,:]"
   ]
  },
  {
   "cell_type": "code",
   "execution_count": 1045,
   "id": "906842f1",
   "metadata": {},
   "outputs": [
    {
     "data": {
      "text/plain": [
       "5-element Vector{Any}:\n",
       " [1, 2, 3, 4, 5, 8, 9, 10]\n",
       " [1, 3, 4, 6, 7, 8, 9, 10]\n",
       " [2, 3, 5, 6, 7, 8, 9, 10]\n",
       " [1, 2, 4, 5, 6, 7, 9, 10]\n",
       " [1, 2, 3, 4, 5, 6, 7, 8]"
      ]
     },
     "execution_count": 1045,
     "metadata": {},
     "output_type": "execute_result"
    }
   ],
   "source": [
    "foldid = collect(Kfold(nobser, nfold))"
   ]
  },
  {
   "cell_type": "code",
   "execution_count": null,
   "id": "dff392f0",
   "metadata": {},
   "outputs": [],
   "source": [
    "nobser = 10\n",
    "nfold = 5"
   ]
  },
  {
   "cell_type": "code",
   "execution_count": 1049,
   "id": "6f294c5e",
   "metadata": {},
   "outputs": [
    {
     "name": "stdout",
     "output_type": "stream",
     "text": [
      "Folds: \n"
     ]
    },
    {
     "data": {
      "text/plain": [
       "5-element Vector{Any}:\n",
       " [2, 10]\n",
       " [5, 9]\n",
       " [4, 6]\n",
       " [7, 8]\n",
       " [1, 3]"
      ]
     },
     "execution_count": 1049,
     "metadata": {},
     "output_type": "execute_result"
    }
   ],
   "source": [
    "\n",
    "\n",
    "    # Define folds indices \n",
    "    list_1 = repeat(collect(1:1:nfold), nobser)\n",
    "    samplea = randperm(nobser)\n",
    "    foldid = [list_1[i] for i in samplea]\n",
    "\n",
    "    println(\"Folds: \" )\n",
    "    \n",
    "    # Create split function(similar to R)\n",
    "    function split(f, n)\n",
    "        a = []\n",
    "        for i in 1:n\n",
    "            push!(a ,findall(x -> x == i, f))\n",
    "        end\n",
    "        a\n",
    "    end \n",
    "\n",
    "    # Split observation indices into folds \n",
    "    I = split(foldid, nfold)\n",
    "     "
   ]
  },
  {
   "cell_type": "code",
   "execution_count": null,
   "id": "e3f06dc8",
   "metadata": {},
   "outputs": [],
   "source": [
    "    ytil = ones(nobser)\n",
    "    dtil = ones(nobser)\n",
    "    println(\"Folds: \" )"
   ]
  },
  {
   "cell_type": "code",
   "execution_count": null,
   "id": "c62061a7",
   "metadata": {},
   "outputs": [],
   "source": [
    "function DML2_lasso_cv(z, d, y, dreg, yreg, nfold, clu) \n",
    "    \n",
    "    # Num observations\n",
    "    nobser = size(z,1)\n",
    "    \n",
    "    # Define folds indices \n",
    "    list_1 = repeat(collect(1:1:nfold), nobser)\n",
    "    samplea = randperm(nobser)\n",
    "    foldid = [list_1[i] for i in samplea]\n",
    "\n",
    "    println(\"Folds: \" )\n",
    "    \n",
    "    # Create split function(similar to R)\n",
    "    function split(f, n)\n",
    "        a = []\n",
    "        for i in 1:n\n",
    "            push!(a ,findall(x -> x == i, f))\n",
    "        end\n",
    "        a\n",
    "    end \n",
    "\n",
    "    # Split observation indices into folds \n",
    "    I = split(foldid, nfold)\n",
    "     \n",
    "    # Create array to save errors \n",
    "    ytil = ones(nobser)\n",
    "    dtil = ones(nobser)\n",
    "\n",
    "    # loop to save results\n",
    "    for i in 1:nfold \n",
    "        dfit = dreg(Z, D, rdata_1[Not(I[i]),:])\n",
    "        yfit = yreg(Z, Y, rdata_1[Not(I[i]),:])\n",
    "        dhat = predict(dfit, Z[(I[i]),:])\n",
    "        yhat = predict(yfit, Z[(I[i]),:])\n",
    "        dtil[(I[i]),:] .= (D[(I[i]),:] .- dhat)\n",
    "        ytil[(I[i]),:] .= (Y[(I[i]),:] .- yhat)\n",
    "        println(i)\n",
    "    end\n",
    "    \n",
    "    data = DataFrame(ytil = ytil, dtil = dtil, clu = clu)\n",
    "    rfit = reg(data, @formula(ytil ~ dtil + fe(clu)))\n",
    "    coef_est = coef(rfit)[1]\n",
    "    se = FixedEffectModels.coeftable(rfit).cols[2]\n",
    "    \n",
    "    println(\" coef (se) = \", coef_est ,\"(\",se,\")\")\n",
    "    \n",
    "end"
   ]
  },
  {
   "cell_type": "code",
   "execution_count": 942,
   "id": "6c1a99b8",
   "metadata": {},
   "outputs": [
    {
     "data": {
      "text/plain": [
       "yreg (generic function with 2 methods)"
      ]
     },
     "execution_count": 942,
     "metadata": {},
     "output_type": "execute_result"
    }
   ],
   "source": [
    "function dreg(z,d)\n",
    "    glmnetcv(z,d, alpha = 1)    \n",
    "end\n",
    "function yreg(z,y)\n",
    "    glmnetcv(z,y, alpha = 1)    \n",
    "end"
   ]
  },
  {
   "cell_type": "code",
   "execution_count": 941,
   "id": "b9c68699",
   "metadata": {},
   "outputs": [
    {
     "data": {
      "text/plain": [
       "DML2_lasso_cv (generic function with 1 method)"
      ]
     },
     "execution_count": 941,
     "metadata": {},
     "output_type": "execute_result"
    }
   ],
   "source": [
    "function DML2_lasso_cv(z, d, y, dreg, yreg, nfold, clu)\n",
    "    nobser = size(z,1) #number of observations\n",
    "    foldid = collect(Kfold(size(z)[1], nfold))\n",
    "    ytil = ones(nobser)\n",
    "    dtil = ones(nobser)\n",
    "    println(\"Folds: \" )\n",
    "    for i in 1:nfold\n",
    "        dfit = dreg(z[foldid[i],:], d[foldid[i]])\n",
    "        yfit = yreg(z[foldid[i],:], y[foldid[i]])\n",
    "        dhat = GLMNet.predict(dfit, z[Not(foldid[i]),:])\n",
    "        yhat = GLMNet.predict(yfit, z[Not(foldid[i]),:])\n",
    "        dtil[Not(foldid[i])]   = (d[Not(foldid[i])] - dhat)\n",
    "        ytil[Not(foldid[i])]   = (y[Not(foldid[i])] - yhat)\n",
    "        println(i)\n",
    "    end\n",
    "    \n",
    "    data = DataFrame(ytil = ytil, dtil = dtil, clu=clu)\n",
    "    rfit = reg(data, @formula(ytil ~ dtil +fe(clu)))\n",
    "    coef_est = coef(rfit)[1]\n",
    "    se = FixedEffectModels.coeftable(rfit).cols[2]\n",
    "\n",
    "    println(\" coef (se) = \", coef_est ,\"(\",se,\")\")\n",
    "    \n",
    "end"
   ]
  },
  {
   "cell_type": "code",
   "execution_count": 944,
   "id": "878e0978",
   "metadata": {},
   "outputs": [
    {
     "name": "stdout",
     "output_type": "stream",
     "text": [
      "Folds: \n",
      "1\n",
      "2\n",
      "3\n",
      "4\n",
      "5\n",
      " coef (se) = 0.20397859201961707([0.055608594106786605])\n"
     ]
    }
   ],
   "source": [
    "\n",
    "DML2_lasso_cv(z,d,y,dreg,yreg,5,clu)"
   ]
  },
  {
   "cell_type": "code",
   "execution_count": 947,
   "id": "a5f92680",
   "metadata": {},
   "outputs": [
    {
     "data": {
      "text/plain": [
       "3900-element Vector{Float64}:\n",
       " -0.134778\n",
       " -0.239622\n",
       " -0.078677\n",
       " -0.331465\n",
       " -0.31664\n",
       "  0.105132\n",
       " -0.03734\n",
       " -0.052061\n",
       "  0.054701\n",
       "  0.122094\n",
       "  0.110314\n",
       "  0.256268\n",
       "  0.079057\n",
       "  ⋮\n",
       "  0.214936\n",
       " -0.490341\n",
       " -0.54942\n",
       " -0.660408\n",
       " -0.676525\n",
       " -0.697525\n",
       " -0.03841\n",
       "  0.028096\n",
       "  0.080145\n",
       "  0.497987\n",
       "  0.568542\n",
       "  0.609022"
      ]
     },
     "execution_count": 947,
     "metadata": {},
     "output_type": "execute_result"
    }
   ],
   "source": [
    "z = Matrix(Z)\n",
    "d = D[!,1]\n",
    "y = Y[!,1]"
   ]
  },
  {
   "cell_type": "code",
   "execution_count": 948,
   "id": "7ab06dc3",
   "metadata": {},
   "outputs": [
    {
     "data": {
      "text/plain": [
       "Least Squares GLMNet Cross Validation\n",
       "100 models for 195 predictors in 10 folds\n",
       "Best λ 0.002 (mean loss 0.013, std 0.001)"
      ]
     },
     "execution_count": 948,
     "metadata": {},
     "output_type": "execute_result"
    }
   ],
   "source": [
    " a = glmnetcv(z, d, alpha = 1)"
   ]
  },
  {
   "cell_type": "code",
   "execution_count": 969,
   "id": "a23c01b0",
   "metadata": {},
   "outputs": [
    {
     "ename": "LoadError",
     "evalue": "UndefVarError: row not defined",
     "output_type": "error",
     "traceback": [
      "UndefVarError: row not defined",
      "",
      "Stacktrace:",
      " [1] top-level scope",
      "   @ In[969]:1",
      " [2] eval",
      "   @ .\\boot.jl:360 [inlined]",
      " [3] include_string(mapexpr::typeof(REPL.softscope), mod::Module, code::String, filename::String)",
      "   @ Base .\\loading.jl:1116"
     ]
    }
   ],
   "source": [
    "row.index(rdata_1[I[1],:])"
   ]
  },
  {
   "cell_type": "code",
   "execution_count": 988,
   "id": "ccb3b4f6",
   "metadata": {},
   "outputs": [
    {
     "data": {
      "text/plain": [
       "Least Squares GLMNet Cross Validation\n",
       "100 models for 195 predictors in 10 folds\n",
       "Best λ 0.002 (mean loss 0.013, std 0.001)"
      ]
     },
     "execution_count": 988,
     "metadata": {},
     "output_type": "execute_result"
    }
   ],
   "source": [
    "a = glmnetcv(z, d, alpha = 1)"
   ]
  },
  {
   "cell_type": "code",
   "execution_count": 1031,
   "id": "d676aaa0",
   "metadata": {},
   "outputs": [
    {
     "data": {
      "text/plain": [
       "2×195 Matrix{Float64}:\n",
       " 0.150893  -0.124395  0.010461  -0.021229  …  0.026761  -0.040704  0.077142\n",
       " 0.040168  -0.134781  0.010461  -0.019418     0.026761  -0.040704  0.077142"
      ]
     },
     "execution_count": 1031,
     "metadata": {},
     "output_type": "execute_result"
    }
   ],
   "source": [
    "z[[1,2],:]"
   ]
  },
  {
   "cell_type": "code",
   "execution_count": 1032,
   "id": "052f583a",
   "metadata": {},
   "outputs": [
    {
     "data": {
      "text/plain": [
       "2×195 Matrix{Float64}:\n",
       " 0.150893  -0.124395  0.010461  -0.021229  …  0.026761  -0.040704  0.077142\n",
       " 0.040168  -0.134781  0.010461  -0.019418     0.026761  -0.040704  0.077142"
      ]
     },
     "execution_count": 1032,
     "metadata": {},
     "output_type": "execute_result"
    }
   ],
   "source": [
    "Matrix(z[[1,2],:])"
   ]
  },
  {
   "cell_type": "code",
   "execution_count": 1036,
   "id": "c4765e7b",
   "metadata": {},
   "outputs": [
    {
     "ename": "LoadError",
     "evalue": "DivideError: integer division error",
     "output_type": "error",
     "traceback": [
      "DivideError: integer division error",
      "",
      "Stacktrace:",
      " [1] div",
      "   @ .\\int.jl:261 [inlined]",
      " [2] divrem",
      "   @ .\\div.jl:124 [inlined]",
      " [3] divrem",
      "   @ .\\div.jl:120 [inlined]",
      " [4] dreg(z::Matrix{Float64}, d::Matrix{Float64})",
      "   @ Main .\\In[942]:2",
      " [5] top-level scope",
      "   @ In[1036]:1",
      " [6] eval",
      "   @ .\\boot.jl:360 [inlined]",
      " [7] include_string(mapexpr::typeof(REPL.softscope), mod::Module, code::String, filename::String)",
      "   @ Base .\\loading.jl:1116"
     ]
    }
   ],
   "source": [
    "dreg(z[[1,2],:], d[[1,2],:])"
   ]
  },
  {
   "cell_type": "code",
   "execution_count": 1034,
   "id": "a30d8907",
   "metadata": {},
   "outputs": [
    {
     "ename": "LoadError",
     "evalue": "DivideError: integer division error",
     "output_type": "error",
     "traceback": [
      "DivideError: integer division error",
      "",
      "Stacktrace:",
      " [1] div",
      "   @ .\\int.jl:261 [inlined]",
      " [2] divrem",
      "   @ .\\div.jl:124 [inlined]",
      " [3] divrem",
      "   @ .\\div.jl:120 [inlined]",
      " [4] top-level scope",
      "   @ In[1034]:1",
      " [5] eval",
      "   @ .\\boot.jl:360 [inlined]",
      " [6] include_string(mapexpr::typeof(REPL.softscope), mod::Module, code::String, filename::String)",
      "   @ Base .\\loading.jl:1116"
     ]
    }
   ],
   "source": [
    "a = glmnetcv(z[[1,2],:], d[[1,2],], alpha = 1)"
   ]
  },
  {
   "cell_type": "code",
   "execution_count": 1035,
   "id": "16d692b1",
   "metadata": {},
   "outputs": [
    {
     "data": {
      "text/plain": [
       "dreg (generic function with 2 methods)"
      ]
     },
     "execution_count": 1035,
     "metadata": {},
     "output_type": "execute_result"
    }
   ],
   "source": [
    "function dreg(z,d,subset)\n",
    "    a = glmnetcv(z, d, alpha = 1)\n",
    "    return GLMNet.coef(a)\n",
    "end"
   ]
  },
  {
   "cell_type": "code",
   "execution_count": 1021,
   "id": "b7caab31",
   "metadata": {},
   "outputs": [
    {
     "ename": "LoadError",
     "evalue": "MethodError: no method matching glmnetcv(::DataFrame, ::DataFrame; alpha=1)\n\u001b[0mClosest candidates are:\n\u001b[0m  glmnetcv(\u001b[91m::AbstractMatrix{T} where T\u001b[39m, ::Any; kw...) at C:\\Users\\sandr\\.julia\\packages\\GLMNet\\C8WKF\\src\\Multinomial.jl:205",
     "output_type": "error",
     "traceback": [
      "MethodError: no method matching glmnetcv(::DataFrame, ::DataFrame; alpha=1)\n\u001b[0mClosest candidates are:\n\u001b[0m  glmnetcv(\u001b[91m::AbstractMatrix{T} where T\u001b[39m, ::Any; kw...) at C:\\Users\\sandr\\.julia\\packages\\GLMNet\\C8WKF\\src\\Multinomial.jl:205",
      "",
      "Stacktrace:",
      " [1] dreg(z::DataFrame, d::DataFrame)",
      "   @ Main .\\In[942]:2",
      " [2] top-level scope",
      "   @ In[1021]:1",
      " [3] eval",
      "   @ .\\boot.jl:360 [inlined]",
      " [4] include_string(mapexpr::typeof(REPL.softscope), mod::Module, code::String, filename::String)",
      "   @ Base .\\loading.jl:1116"
     ]
    }
   ],
   "source": [
    "dfit = dreg(Z, D)"
   ]
  },
  {
   "cell_type": "code",
   "execution_count": 1020,
   "id": "cb7996fc",
   "metadata": {},
   "outputs": [
    {
     "ename": "LoadError",
     "evalue": "UndefVarError: i not defined",
     "output_type": "error",
     "traceback": [
      "UndefVarError: i not defined",
      "",
      "Stacktrace:",
      " [1] top-level scope",
      "   @ In[1020]:1",
      " [2] eval",
      "   @ .\\boot.jl:360 [inlined]",
      " [3] include_string(mapexpr::typeof(REPL.softscope), mod::Module, code::String, filename::String)",
      "   @ Base .\\loading.jl:1116"
     ]
    }
   ],
   "source": [
    "dfit = dreg(Z, D, rdata_1[Not(I[i]),:])"
   ]
  },
  {
   "cell_type": "code",
   "execution_count": null,
   "id": "fc152612",
   "metadata": {},
   "outputs": [],
   "source": [
    "yfit = yreg(Z, Y, rdata_1[Not(I[i]),:])"
   ]
  },
  {
   "cell_type": "code",
   "execution_count": null,
   "id": "505123a5",
   "metadata": {},
   "outputs": [],
   "source": [
    "dhat = predict(dfit, Z[(I[i]),:])\n",
    "yhat = predict(yfit, Z[(I[i]),:])\n",
    "dtil[(I[i]),:] .= (D[(I[i]),:] .- dhat)\n",
    "ytil[(I[i]),:] .= (Y[(I[i]),:] .- yhat)\n",
    "println(i)"
   ]
  },
  {
   "cell_type": "code",
   "execution_count": 976,
   "id": "61bd85e0",
   "metadata": {},
   "outputs": [
    {
     "data": {
      "text/plain": [
       "2-element Vector{Float64}:\n",
       " -0.05695885579177813\n",
       "  0.0"
      ]
     },
     "execution_count": 976,
     "metadata": {},
     "output_type": "execute_result"
    }
   ],
   "source": [
    "dfit = dreg(z,d,I[2])"
   ]
  },
  {
   "cell_type": "code",
   "execution_count": 993,
   "id": "0dc4424d",
   "metadata": {},
   "outputs": [
    {
     "data": {
      "text/plain": [
       "195-element Vector{Float64}:\n",
       "  0.008180988198113932\n",
       "  0.0\n",
       "  0.0\n",
       "  0.0\n",
       "  0.0\n",
       "  0.0\n",
       "  0.0\n",
       " -0.08586749450375761\n",
       " -0.03297444162310575\n",
       "  0.0\n",
       " -0.2743304944607936\n",
       "  0.0\n",
       "  0.0\n",
       "  ⋮\n",
       "  0.0\n",
       "  0.0\n",
       "  0.0\n",
       "  0.0\n",
       "  0.0\n",
       "  0.0\n",
       "  0.0\n",
       "  0.0\n",
       "  0.0\n",
       "  0.0\n",
       "  0.0\n",
       "  0.04747464058243396"
      ]
     },
     "execution_count": 993,
     "metadata": {},
     "output_type": "execute_result"
    }
   ],
   "source": [
    "bb = GLMNet.coef(a)"
   ]
  },
  {
   "cell_type": "code",
   "execution_count": 982,
   "id": "e0c8d580",
   "metadata": {},
   "outputs": [
    {
     "data": {
      "text/plain": [
       "12-element Vector{Symbol}:\n",
       " :CompressedPredictorMatrix\n",
       " :CoxPH\n",
       " :GLMNet\n",
       " :GLMNetCrossValidation\n",
       " :GLMNetPath\n",
       " :coef\n",
       " :glmnet\n",
       " :glmnet!\n",
       " :glmnetcv\n",
       " :lambdamin\n",
       " :nactive\n",
       " :predict"
      ]
     },
     "execution_count": 982,
     "metadata": {},
     "output_type": "execute_result"
    }
   ],
   "source": [
    "names(GLMNet)"
   ]
  },
  {
   "cell_type": "code",
   "execution_count": 991,
   "id": "6a0be29d",
   "metadata": {},
   "outputs": [
    {
     "data": {
      "text/plain": [
       "3897×195 Matrix{Float64}:\n",
       "  0.150893  -0.124395   0.010461  …   0.026761  -0.040704   0.077142\n",
       "  0.040168  -0.134781   0.010461      0.026761  -0.040704   0.077142\n",
       " -0.017679  -0.167909   0.010461      0.026761  -0.040704   0.077142\n",
       " -0.009633  -0.22925    0.010461      0.026761  -0.040704   0.077142\n",
       " -0.026715  -0.176635   0.003248      0.026761  -0.040704   0.077142\n",
       " -0.151487  -0.189069   0.010461  …   0.026761  -0.040704  -0.00456\n",
       " -0.166729  -0.117739   0.010461      0.026761  -0.040704  -0.00456\n",
       " -0.099645  -0.083309   0.00449       0.026761  -0.040704  -0.00456\n",
       "  0.047603  -0.014473  -0.002332      0.026761  -0.040704  -0.00456\n",
       "  0.008143  -0.034969   0.010461      0.026761  -0.040704  -0.058292\n",
       " -0.081185   0.044147   0.008486  …  -0.009951  -0.006583  -0.055527\n",
       " -0.153504   0.393015  -0.048444     -0.021438   0.071247  -0.062605\n",
       "  0.024709   0.053162   0.006772     -0.036801   0.061972  -0.05856\n",
       "  ⋮                               ⋱                        \n",
       " -0.118829   0.299746  -0.058299  …  -0.002787   0.007606   0.003668\n",
       " -0.022018   0.137069  -0.029313     -0.002787   0.007606   0.003668\n",
       "  0.078647   0.13458   -0.020588     -0.002787   0.007606  -0.043101\n",
       "  0.05618    0.134567  -0.021935      0.010012  -0.000598  -0.039556\n",
       "  0.209323   0.390146  -0.06076       0.012543   0.022556  -0.043289\n",
       " -0.085853   0.15756   -0.021679  …   0.003123   0.08695   -0.045466\n",
       " -0.09832    0.126737  -0.023104      0.004925   0.011861  -0.022537\n",
       "  0.018225   0.107714  -0.030275     -0.003211   0.047573  -0.015327\n",
       "  0.251402   0.151313  -0.030861      0.008974  -0.052501  -0.009248\n",
       "  0.179985   0.116497  -0.023712      0.003332  -0.077932  -0.008176\n",
       " -1.3754    -3.02228    0.530429  …  -0.006835  -0.053421  -0.017525\n",
       "  0.336788   0.171876  -0.036207     -0.002201  -0.068159   0.001396"
      ]
     },
     "execution_count": 991,
     "metadata": {},
     "output_type": "execute_result"
    }
   ],
   "source": [
    "z[Not(I[1]),:]"
   ]
  },
  {
   "cell_type": "code",
   "execution_count": 992,
   "id": "238a61aa",
   "metadata": {},
   "outputs": [
    {
     "data": {
      "text/plain": [
       "Least Squares GLMNet Cross Validation\n",
       "100 models for 195 predictors in 10 folds\n",
       "Best λ 0.002 (mean loss 0.013, std 0.001)"
      ]
     },
     "execution_count": 992,
     "metadata": {},
     "output_type": "execute_result"
    }
   ],
   "source": [
    "a"
   ]
  },
  {
   "cell_type": "code",
   "execution_count": 990,
   "id": "4b1a9503",
   "metadata": {
    "scrolled": true
   },
   "outputs": [
    {
     "ename": "LoadError",
     "evalue": "MethodError: no method matching predict(::GLMNetPath{Normal{Float64}, Vector{Float64}, CompressedPredictorMatrix}, ::Matrix{Float64}, ::Int64; outtype=:link, alpha=1)\n\u001b[0mClosest candidates are:\n\u001b[0m  predict(::GLMNetPath, ::AbstractMatrix{T} where T, ::Union{Int64, AbstractVector{Int64}}; outtype, offsets) at C:\\Users\\sandr\\.julia\\packages\\GLMNet\\C8WKF\\src\\GLMNet.jl:105\u001b[91m got unsupported keyword argument \"alpha\"\u001b[39m\n\u001b[0m  predict(\u001b[91m::GLMNetPath{var\"#s85\", A, B} where {var\"#s85\"<:Multinomial, A<:AbstractArray, B<:AbstractArray}\u001b[39m, ::AbstractMatrix{T} where T, ::Union{Int64, AbstractVector{Int64}}; outtype, offsets) at C:\\Users\\sandr\\.julia\\packages\\GLMNet\\C8WKF\\src\\Multinomial.jl:12\u001b[91m got unsupported keyword argument \"alpha\"\u001b[39m\n\u001b[0m  predict(\u001b[91m::GLMNetPath{var\"#s88\", A, B} where {var\"#s88\"<:CoxPH, A<:AbstractArray, B<:AbstractArray}\u001b[39m, ::AbstractMatrix{T} where T, ::Union{Int64, AbstractVector{Int64}}; outtype, offsets) at C:\\Users\\sandr\\.julia\\packages\\GLMNet\\C8WKF\\src\\CoxNet.jl:30\u001b[91m got unsupported keyword argument \"alpha\"\u001b[39m\n\u001b[0m  ...",
     "output_type": "error",
     "traceback": [
      "MethodError: no method matching predict(::GLMNetPath{Normal{Float64}, Vector{Float64}, CompressedPredictorMatrix}, ::Matrix{Float64}, ::Int64; outtype=:link, alpha=1)\n\u001b[0mClosest candidates are:\n\u001b[0m  predict(::GLMNetPath, ::AbstractMatrix{T} where T, ::Union{Int64, AbstractVector{Int64}}; outtype, offsets) at C:\\Users\\sandr\\.julia\\packages\\GLMNet\\C8WKF\\src\\GLMNet.jl:105\u001b[91m got unsupported keyword argument \"alpha\"\u001b[39m\n\u001b[0m  predict(\u001b[91m::GLMNetPath{var\"#s85\", A, B} where {var\"#s85\"<:Multinomial, A<:AbstractArray, B<:AbstractArray}\u001b[39m, ::AbstractMatrix{T} where T, ::Union{Int64, AbstractVector{Int64}}; outtype, offsets) at C:\\Users\\sandr\\.julia\\packages\\GLMNet\\C8WKF\\src\\Multinomial.jl:12\u001b[91m got unsupported keyword argument \"alpha\"\u001b[39m\n\u001b[0m  predict(\u001b[91m::GLMNetPath{var\"#s88\", A, B} where {var\"#s88\"<:CoxPH, A<:AbstractArray, B<:AbstractArray}\u001b[39m, ::AbstractMatrix{T} where T, ::Union{Int64, AbstractVector{Int64}}; outtype, offsets) at C:\\Users\\sandr\\.julia\\packages\\GLMNet\\C8WKF\\src\\CoxNet.jl:30\u001b[91m got unsupported keyword argument \"alpha\"\u001b[39m\n\u001b[0m  ...",
      "",
      "Stacktrace:",
      " [1] kwerr(::NamedTuple{(:outtype, :alpha), Tuple{Symbol, Int64}}, ::Function, ::GLMNetPath{Normal{Float64}, Vector{Float64}, CompressedPredictorMatrix}, ::Matrix{Float64}, ::Int64)",
      "   @ Base .\\error.jl:157",
      " [2] predict(pathcv::GLMNetCrossValidation, X::Matrix{Float64}; outtype::Symbol, kw::Base.Iterators.Pairs{Symbol, Int64, Tuple{Symbol}, NamedTuple{(:alpha,), Tuple{Int64}}})",
      "   @ GLMNet C:\\Users\\sandr\\.julia\\packages\\GLMNet\\C8WKF\\src\\CoxNet.jl:169",
      " [3] top-level scope",
      "   @ In[990]:1",
      " [4] eval",
      "   @ .\\boot.jl:360 [inlined]",
      " [5] include_string(mapexpr::typeof(REPL.softscope), mod::Module, code::String, filename::String)",
      "   @ Base .\\loading.jl:1116"
     ]
    }
   ],
   "source": [
    "GLMNet.predict(a,z[Not(I[1]),:],alpha=1)"
   ]
  },
  {
   "cell_type": "code",
   "execution_count": 978,
   "id": "11321b9b",
   "metadata": {},
   "outputs": [
    {
     "ename": "LoadError",
     "evalue": "MethodError: no method matching predict(::Matrix{Float64}, ::Vector{Float64}, ::Vector{Int64})\n\u001b[0mClosest candidates are:\n\u001b[0m  predict(\u001b[91m::GLMNetPath{var\"#s85\", A, B} where {var\"#s85\"<:Multinomial, A<:AbstractArray, B<:AbstractArray}\u001b[39m, \u001b[91m::AbstractMatrix{T} where T\u001b[39m, ::Union{Int64, AbstractVector{Int64}}; outtype, offsets) at C:\\Users\\sandr\\.julia\\packages\\GLMNet\\C8WKF\\src\\Multinomial.jl:12\n\u001b[0m  predict(\u001b[91m::GLMNetPath{var\"#s88\", A, B} where {var\"#s88\"<:CoxPH, A<:AbstractArray, B<:AbstractArray}\u001b[39m, \u001b[91m::AbstractMatrix{T} where T\u001b[39m, ::Union{Int64, AbstractVector{Int64}}; outtype, offsets) at C:\\Users\\sandr\\.julia\\packages\\GLMNet\\C8WKF\\src\\CoxNet.jl:30\n\u001b[0m  predict(\u001b[91m::GLMNetPath\u001b[39m, \u001b[91m::AbstractMatrix{T} where T\u001b[39m, ::Union{Int64, AbstractVector{Int64}}; outtype, offsets) at C:\\Users\\sandr\\.julia\\packages\\GLMNet\\C8WKF\\src\\GLMNet.jl:105",
     "output_type": "error",
     "traceback": [
      "MethodError: no method matching predict(::Matrix{Float64}, ::Vector{Float64}, ::Vector{Int64})\n\u001b[0mClosest candidates are:\n\u001b[0m  predict(\u001b[91m::GLMNetPath{var\"#s85\", A, B} where {var\"#s85\"<:Multinomial, A<:AbstractArray, B<:AbstractArray}\u001b[39m, \u001b[91m::AbstractMatrix{T} where T\u001b[39m, ::Union{Int64, AbstractVector{Int64}}; outtype, offsets) at C:\\Users\\sandr\\.julia\\packages\\GLMNet\\C8WKF\\src\\Multinomial.jl:12\n\u001b[0m  predict(\u001b[91m::GLMNetPath{var\"#s88\", A, B} where {var\"#s88\"<:CoxPH, A<:AbstractArray, B<:AbstractArray}\u001b[39m, \u001b[91m::AbstractMatrix{T} where T\u001b[39m, ::Union{Int64, AbstractVector{Int64}}; outtype, offsets) at C:\\Users\\sandr\\.julia\\packages\\GLMNet\\C8WKF\\src\\CoxNet.jl:30\n\u001b[0m  predict(\u001b[91m::GLMNetPath\u001b[39m, \u001b[91m::AbstractMatrix{T} where T\u001b[39m, ::Union{Int64, AbstractVector{Int64}}; outtype, offsets) at C:\\Users\\sandr\\.julia\\packages\\GLMNet\\C8WKF\\src\\GLMNet.jl:105",
      "",
      "Stacktrace:",
      " [1] top-level scope",
      "   @ In[978]:1",
      " [2] eval",
      "   @ .\\boot.jl:360 [inlined]",
      " [3] include_string(mapexpr::typeof(REPL.softscope), mod::Module, code::String, filename::String)",
      "   @ Base .\\loading.jl:1116"
     ]
    }
   ],
   "source": [
    "        dhat = GLMNet.predict(z, dfit, I[2] )"
   ]
  },
  {
   "cell_type": "code",
   "execution_count": 965,
   "id": "ad8b9eaf",
   "metadata": {},
   "outputs": [
    {
     "ename": "LoadError",
     "evalue": "DivideError: integer division error",
     "output_type": "error",
     "traceback": [
      "DivideError: integer division error",
      "",
      "Stacktrace:",
      " [1] div",
      "   @ .\\int.jl:261 [inlined]",
      " [2] divrem",
      "   @ .\\div.jl:124 [inlined]",
      " [3] divrem",
      "   @ .\\div.jl:120 [inlined]",
      " [4] dreg(z::Matrix{Float64}, d::Vector{Float64}, subset::Function)",
      "   @ Main .\\In[951]:2",
      " [5] top-level scope",
      "   @ In[965]:1",
      " [6] eval",
      "   @ .\\boot.jl:360 [inlined]",
      " [7] include_string(mapexpr::typeof(REPL.softscope), mod::Module, code::String, filename::String)",
      "   @ Base .\\loading.jl:1116"
     ]
    }
   ],
   "source": [
    "a = dreg(z[I[4],:],d[I[4]],subset)"
   ]
  },
  {
   "cell_type": "code",
   "execution_count": 945,
   "id": "5530f63f",
   "metadata": {},
   "outputs": [
    {
     "data": {
      "text/plain": [
       "3-element Vector{Float64}:\n",
       " -0.031184368871806183\n",
       "  0.0\n",
       "  0.0"
      ]
     },
     "execution_count": 945,
     "metadata": {},
     "output_type": "execute_result"
    }
   ],
   "source": [
    "    GLMNet.coef(a)[I[1]]"
   ]
  },
  {
   "cell_type": "code",
   "execution_count": 946,
   "id": "4239756f",
   "metadata": {},
   "outputs": [
    {
     "ename": "LoadError",
     "evalue": "MethodError: no method matching predict(::GLMNetCrossValidation)\n\u001b[0mClosest candidates are:\n\u001b[0m  predict(::GLMNetCrossValidation, \u001b[91m::AbstractMatrix{T} where T\u001b[39m; outtype, kw...) at C:\\Users\\sandr\\.julia\\packages\\GLMNet\\C8WKF\\src\\CoxNet.jl:167\n\u001b[0m  predict(\u001b[91m::GLMNetPath{var\"#s86\", A, B} where {var\"#s86\"<:Multinomial, A<:AbstractArray, B<:AbstractArray}\u001b[39m, \u001b[91m::AbstractMatrix{T} where T\u001b[39m) at C:\\Users\\sandr\\.julia\\packages\\GLMNet\\C8WKF\\src\\Multinomial.jl:12\n\u001b[0m  predict(\u001b[91m::GLMNetPath{var\"#s85\", A, B} where {var\"#s85\"<:Multinomial, A<:AbstractArray, B<:AbstractArray}\u001b[39m, \u001b[91m::AbstractMatrix{T} where T\u001b[39m, \u001b[91m::Union{Int64, AbstractVector{Int64}}\u001b[39m; outtype, offsets) at C:\\Users\\sandr\\.julia\\packages\\GLMNet\\C8WKF\\src\\Multinomial.jl:12\n\u001b[0m  ...",
     "output_type": "error",
     "traceback": [
      "MethodError: no method matching predict(::GLMNetCrossValidation)\n\u001b[0mClosest candidates are:\n\u001b[0m  predict(::GLMNetCrossValidation, \u001b[91m::AbstractMatrix{T} where T\u001b[39m; outtype, kw...) at C:\\Users\\sandr\\.julia\\packages\\GLMNet\\C8WKF\\src\\CoxNet.jl:167\n\u001b[0m  predict(\u001b[91m::GLMNetPath{var\"#s86\", A, B} where {var\"#s86\"<:Multinomial, A<:AbstractArray, B<:AbstractArray}\u001b[39m, \u001b[91m::AbstractMatrix{T} where T\u001b[39m) at C:\\Users\\sandr\\.julia\\packages\\GLMNet\\C8WKF\\src\\Multinomial.jl:12\n\u001b[0m  predict(\u001b[91m::GLMNetPath{var\"#s85\", A, B} where {var\"#s85\"<:Multinomial, A<:AbstractArray, B<:AbstractArray}\u001b[39m, \u001b[91m::AbstractMatrix{T} where T\u001b[39m, \u001b[91m::Union{Int64, AbstractVector{Int64}}\u001b[39m; outtype, offsets) at C:\\Users\\sandr\\.julia\\packages\\GLMNet\\C8WKF\\src\\Multinomial.jl:12\n\u001b[0m  ...",
      "",
      "Stacktrace:",
      " [1] top-level scope",
      "   @ In[946]:1",
      " [2] eval",
      "   @ .\\boot.jl:360 [inlined]",
      " [3] include_string(mapexpr::typeof(REPL.softscope), mod::Module, code::String, filename::String)",
      "   @ Base .\\loading.jl:1116"
     ]
    }
   ],
   "source": [
    "    GLMNet.predict(a)[I[1]]"
   ]
  },
  {
   "cell_type": "code",
   "execution_count": 917,
   "id": "a53da1be",
   "metadata": {},
   "outputs": [
    {
     "data": {
      "text/plain": [
       "2×195 Matrix{Float64}:\n",
       " -0.166729  -0.117739  0.010461  0.02455   …  0.026761  -0.040704  -0.00456\n",
       "  0.008143  -0.034969  0.010461  0.010167     0.026761  -0.040704  -0.058292"
      ]
     },
     "execution_count": 917,
     "metadata": {},
     "output_type": "execute_result"
    }
   ],
   "source": [
    "zz .= Matrix(Z[I[3],:])"
   ]
  },
  {
   "cell_type": "code",
   "execution_count": 915,
   "id": "0e63f0c7",
   "metadata": {},
   "outputs": [
    {
     "data": {
      "text/plain": [
       "2-element Vector{Float64}:\n",
       "  0.077306\n",
       " -0.024344"
      ]
     },
     "execution_count": 915,
     "metadata": {},
     "output_type": "execute_result"
    }
   ],
   "source": [
    "dd.=D[I[3],1]"
   ]
  },
  {
   "cell_type": "code",
   "execution_count": 918,
   "id": "2c0f2a5f",
   "metadata": {},
   "outputs": [
    {
     "ename": "LoadError",
     "evalue": "DivideError: integer division error",
     "output_type": "error",
     "traceback": [
      "DivideError: integer division error",
      "",
      "Stacktrace:",
      " [1] div",
      "   @ .\\int.jl:261 [inlined]",
      " [2] divrem",
      "   @ .\\div.jl:124 [inlined]",
      " [3] divrem",
      "   @ .\\div.jl:120 [inlined]",
      " [4] glmnetcv(X::Matrix{Float64}, y::Vector{Float64}, family::Normal{Float64})",
      "   @ GLMNet C:\\Users\\sandr\\.julia\\packages\\GLMNet\\C8WKF\\src\\GLMNet.jl:526",
      " [5] glmnetcv(X::Matrix{Float64}, y::Vector{Float64})",
      "   @ GLMNet C:\\Users\\sandr\\.julia\\packages\\GLMNet\\C8WKF\\src\\GLMNet.jl:532",
      " [6] top-level scope",
      "   @ In[918]:1",
      " [7] eval",
      "   @ .\\boot.jl:360 [inlined]",
      " [8] include_string(mapexpr::typeof(REPL.softscope), mod::Module, code::String, filename::String)",
      "   @ Base .\\loading.jl:1116"
     ]
    }
   ],
   "source": [
    "a = glmnetcv(zz, dd)"
   ]
  },
  {
   "cell_type": "code",
   "execution_count": 875,
   "id": "ba9fa52c",
   "metadata": {},
   "outputs": [
    {
     "ename": "LoadError",
     "evalue": "MethodError: no method matching GLMNetCrossValidation(::GLMNetCrossValidation)\n\u001b[0mClosest candidates are:\n\u001b[0m  GLMNetCrossValidation(::Any, \u001b[91m::Int64\u001b[39m, \u001b[91m::Vector{Float64}\u001b[39m, \u001b[91m::Vector{Float64}\u001b[39m, \u001b[91m::Vector{Float64}\u001b[39m, \u001b[91m::Vector{Vector{Float64}}\u001b[39m) at C:\\Users\\sandr\\.julia\\packages\\GLMNet\\C8WKF\\src\\GLMNet.jl:499\n\u001b[0m  GLMNetCrossValidation(::Any, \u001b[91m::Any\u001b[39m, \u001b[91m::Any\u001b[39m, \u001b[91m::Any\u001b[39m, \u001b[91m::Any\u001b[39m, \u001b[91m::Any\u001b[39m) at C:\\Users\\sandr\\.julia\\packages\\GLMNet\\C8WKF\\src\\GLMNet.jl:499",
     "output_type": "error",
     "traceback": [
      "MethodError: no method matching GLMNetCrossValidation(::GLMNetCrossValidation)\n\u001b[0mClosest candidates are:\n\u001b[0m  GLMNetCrossValidation(::Any, \u001b[91m::Int64\u001b[39m, \u001b[91m::Vector{Float64}\u001b[39m, \u001b[91m::Vector{Float64}\u001b[39m, \u001b[91m::Vector{Float64}\u001b[39m, \u001b[91m::Vector{Vector{Float64}}\u001b[39m) at C:\\Users\\sandr\\.julia\\packages\\GLMNet\\C8WKF\\src\\GLMNet.jl:499\n\u001b[0m  GLMNetCrossValidation(::Any, \u001b[91m::Any\u001b[39m, \u001b[91m::Any\u001b[39m, \u001b[91m::Any\u001b[39m, \u001b[91m::Any\u001b[39m, \u001b[91m::Any\u001b[39m) at C:\\Users\\sandr\\.julia\\packages\\GLMNet\\C8WKF\\src\\GLMNet.jl:499",
      "",
      "Stacktrace:",
      " [1] top-level scope",
      "   @ In[875]:1",
      " [2] eval",
      "   @ .\\boot.jl:360 [inlined]",
      " [3] include_string(mapexpr::typeof(REPL.softscope), mod::Module, code::String, filename::String)",
      "   @ Base .\\loading.jl:1116"
     ]
    }
   ],
   "source": [
    "GLMNetCrossValidation(a)"
   ]
  },
  {
   "cell_type": "code",
   "execution_count": null,
   "id": "e54b5dd1",
   "metadata": {},
   "outputs": [],
   "source": [
    "function dreg(z,d, rdata_1)\n",
    "    glmnetcv(Z,D, rdata_1, alpha = 1)    \n",
    "end\n",
    "function yreg(z,y)\n",
    "    glmnetcv(z,y, rdata_1, alpha = 1)    \n",
    "end"
   ]
  },
  {
   "cell_type": "code",
   "execution_count": 94,
   "id": "b35464fb",
   "metadata": {
    "execution": {
     "iopub.execute_input": "2021-02-13T17:31:33.387359Z",
     "iopub.status.busy": "2021-02-13T17:31:33.386570Z",
     "iopub.status.idle": "2021-02-13T17:35:07.561791Z",
     "shell.execute_reply": "2021-02-13T17:35:07.562608Z"
    },
    "papermill": {
     "duration": 214.221131,
     "end_time": "2021-02-13T17:35:07.562866",
     "exception": false,
     "start_time": "2021-02-13T17:31:33.341735",
     "status": "completed"
    },
    "tags": []
   },
   "outputs": [
    {
     "name": "stdout",
     "output_type": "stream",
     "text": [
      "fold: 1  2  3  4  5  \n",
      "coef (se) = 0.194926 (0.0569378)\n",
      "fold: 1  2  3  4  5  \n",
      "coef (se) = 0.208474 (0.0600804)\n",
      "fold: 1  2  3  4  5  \n",
      "coef (se) = 0.200234 (0.0598422)\n"
     ]
    }
   ],
   "source": [
    "#DML with cross-validated Lasso:\n",
    "dreg <- function(z,d){ cv.glmnet(z,d,family=\"gaussian\", alpha=1) } #ML method = lasso from glmnet \n",
    "yreg <- function(z,y){ cv.glmnet(z,y,family=\"gaussian\", alpha=1) }  #ML method = lasso from glmnet \n",
    "DML2.lasso.cv = DML2.for.PLM(z, d, y, dreg, yreg, nfold=5, clu)\n",
    "\n",
    "dreg <- function(z,d){ cv.glmnet(z,d,family=\"gaussian\", alpha=0.5) } #ML method = elastic net from glmnet \n",
    "yreg <- function(z,y){ cv.glmnet(z,y,family=\"gaussian\", alpha=0.5) }  #ML method = elastic net from glmnet \n",
    "DML2.elnet = DML2.for.PLM(z, d, y, dreg, yreg, nfold=5, clu)\n",
    "\n",
    "dreg <- function(z,d){ cv.glmnet(z,d,family=\"gaussian\", alpha=0) } #ML method = ridge from glmnet \n",
    "yreg <- function(z,y){ cv.glmnet(z,y,family=\"gaussian\", alpha=0) }  #ML method = ridge from glmnet \n",
    "DML2.ridge = DML2.for.PLM(z, d, y, dreg, yreg, nfold=5, clu)"
   ]
  },
  {
   "cell_type": "markdown",
   "id": "d01f7054",
   "metadata": {
    "papermill": {
     "duration": 0.025906,
     "end_time": "2021-02-13T17:35:07.615290",
     "exception": false,
     "start_time": "2021-02-13T17:35:07.589384",
     "status": "completed"
    },
    "tags": []
   },
   "source": [
    "Here we also compute DML with OLS used as the ML method"
   ]
  },
  {
   "cell_type": "code",
   "execution_count": 95,
   "id": "81bfe06c",
   "metadata": {
    "execution": {
     "iopub.execute_input": "2021-02-13T17:35:07.679348Z",
     "iopub.status.busy": "2021-02-13T17:35:07.678603Z",
     "iopub.status.idle": "2021-02-13T17:35:14.164446Z",
     "shell.execute_reply": "2021-02-13T17:35:14.163551Z"
    },
    "papermill": {
     "duration": 6.523989,
     "end_time": "2021-02-13T17:35:14.164734",
     "exception": false,
     "start_time": "2021-02-13T17:35:07.640745",
     "status": "completed"
    },
    "tags": []
   },
   "outputs": [
    {
     "name": "stdout",
     "output_type": "stream",
     "text": [
      "fold: 1  2  3  4  5  6  7  8  9  10  \n",
      "coef (se) = 0.203079 (0.051136)\n"
     ]
    }
   ],
   "source": [
    "dreg <- function(z,d){  glmnet(z,d,family=\"gaussian\", lambda=0) } #ML method = ols from glmnet \n",
    "yreg <- function(z,y){  glmnet(z,y,family=\"gaussian\", lambda=0) }  #ML method = ols from glmnet \n",
    "DML2.ols = DML2.for.PLM(z, d, y, dreg, yreg, nfold=10, clu)"
   ]
  },
  {
   "cell_type": "markdown",
   "id": "10dcb91a",
   "metadata": {
    "papermill": {
     "duration": 0.024512,
     "end_time": "2021-02-13T17:35:14.215612",
     "exception": false,
     "start_time": "2021-02-13T17:35:14.191100",
     "status": "completed"
    },
    "tags": []
   },
   "source": [
    "Next, we also apply Random Forest for comparison purposes."
   ]
  },
  {
   "cell_type": "markdown",
   "id": "5b2b0da5",
   "metadata": {
    "papermill": {
     "duration": 0.025256,
     "end_time": "2021-02-13T17:35:14.266042",
     "exception": false,
     "start_time": "2021-02-13T17:35:14.240786",
     "status": "completed"
    },
    "tags": []
   },
   "source": [
    "### Random Forest\n"
   ]
  },
  {
   "cell_type": "code",
   "execution_count": 66,
   "id": "46d6cd87",
   "metadata": {
    "execution": {
     "iopub.execute_input": "2021-02-13T17:35:14.320437Z",
     "iopub.status.busy": "2021-02-13T17:35:14.319294Z",
     "iopub.status.idle": "2021-02-13T17:40:48.550498Z",
     "shell.execute_reply": "2021-02-13T17:40:48.551323Z"
    },
    "papermill": {
     "duration": 334.261061,
     "end_time": "2021-02-13T17:40:48.551591",
     "exception": false,
     "start_time": "2021-02-13T17:35:14.290530",
     "status": "completed"
    },
    "scrolled": false,
    "tags": []
   },
   "outputs": [
    {
     "name": "stdout",
     "output_type": "stream",
     "text": [
      "fold: 1  2  \n",
      "coef (se) = 0.153017 (0.0605311)\n"
     ]
    }
   ],
   "source": [
    "#DML with Random Forest:\n",
    "dreg <- function(z,d){ randomForest(z, d) } #ML method=Forest \n",
    "yreg <- function(z,y){ randomForest(z, y) } #ML method=Forest\n",
    "set.seed(1)\n",
    "DML2.RF = DML2.for.PLM(z, d, y, dreg, yreg, nfold=2, clu) # set to 2 due to computation time"
   ]
  },
  {
   "cell_type": "code",
   "execution_count": 91,
   "id": "06e5607a",
   "metadata": {},
   "outputs": [
    {
     "data": {
      "text/html": [
       "65"
      ],
      "text/latex": [
       "65"
      ],
      "text/markdown": [
       "65"
      ],
      "text/plain": [
       "[1] 65"
      ]
     },
     "metadata": {},
     "output_type": "display_data"
    }
   ],
   "source": [
    "if (!is.null(d) && !is.factor(d))\n",
    "             max(floor(ncol(z)/3), 1) else floor(sqrt(ncol(z)))"
   ]
  },
  {
   "cell_type": "code",
   "execution_count": 92,
   "id": "56ed7cc7",
   "metadata": {},
   "outputs": [
    {
     "data": {
      "text/html": [
       "5"
      ],
      "text/latex": [
       "5"
      ],
      "text/markdown": [
       "5"
      ],
      "text/plain": [
       "[1] 5"
      ]
     },
     "metadata": {},
     "output_type": "display_data"
    }
   ],
   "source": [
    "if (!is.null(d) && !is.factor(d)) 5 else 1"
   ]
  },
  {
   "cell_type": "markdown",
   "id": "0b3a5a93",
   "metadata": {
    "papermill": {
     "duration": 0.024871,
     "end_time": "2021-02-13T17:40:48.605021",
     "exception": false,
     "start_time": "2021-02-13T17:40:48.580150",
     "status": "completed"
    },
    "tags": []
   },
   "source": [
    "We conclude that the gun ownership rates are related to gun homicide rates - if gun ownership increases by 1% relative\n",
    "to a trend then the predicted gun homicide rate goes up by about 0.20% controlling for counties' characteristics."
   ]
  },
  {
   "cell_type": "markdown",
   "id": "9e77b714",
   "metadata": {
    "papermill": {
     "duration": 0.027238,
     "end_time": "2021-02-13T17:40:48.657096",
     "exception": false,
     "start_time": "2021-02-13T17:40:48.629858",
     "status": "completed"
    },
    "tags": []
   },
   "source": [
    "Finally, let's see which method is actually better. We compute RMSE for predicting D and Y, and see which\n",
    "of the methods works better.\n"
   ]
  },
  {
   "cell_type": "code",
   "execution_count": 96,
   "id": "d34c2d53",
   "metadata": {
    "execution": {
     "iopub.execute_input": "2021-02-13T17:40:48.735660Z",
     "iopub.status.busy": "2021-02-13T17:40:48.733563Z",
     "iopub.status.idle": "2021-02-13T17:40:48.775290Z",
     "shell.execute_reply": "2021-02-13T17:40:48.773348Z"
    },
    "papermill": {
     "duration": 0.087953,
     "end_time": "2021-02-13T17:40:48.775469",
     "exception": false,
     "start_time": "2021-02-13T17:40:48.687516",
     "status": "completed"
    },
    "tags": []
   },
   "outputs": [
    {
     "name": "stdout",
     "output_type": "stream",
     "text": [
      "               OLS       Lasso  Post-Lasso    CV Lasso    CV Ridge    CV Elnet\n",
      "RMSE D 0.000407561 3.25471e-05 1.32656e-04 0.000376929 7.24337e-04 9.66559e-04\n",
      "RMSE Y 0.000134575 3.35791e-05 6.89649e-05 0.000044933 8.41741e-05 5.80479e-19\n",
      "               RF\n",
      "RMSE D 0.01086246\n",
      "RMSE Y 0.00152755\n"
     ]
    }
   ],
   "source": [
    "mods<- list(DML2.ols, DML2.lasso, DML2.post, DML2.lasso.cv, DML2.ridge, DML2.elnet, DML2.RF)\n",
    "\n",
    "RMSE.mdl<- function(mdl) {\n",
    "RMSEY <- sqrt(mean(mdl$ytil)^2) \n",
    "RMSED <- sqrt(mean(mdl$dtil)^2) \n",
    "return( list(RMSEY=RMSEY, RMSED=RMSED))\n",
    "}\n",
    "\n",
    "#RMSE.mdl(DML2.lasso)\n",
    "\n",
    "#DML2.lasso$ytil\n",
    "\n",
    "Res<- lapply(mods, RMSE.mdl)\n",
    "\n",
    "\n",
    "prRes.Y<- c( Res[[1]]$RMSEY,Res[[2]]$RMSEY, Res[[3]]$RMSEY, Res[[4]]$RMSEY, Res[[5]]$RMSEY,  Res[[6]]$RMSEY, Res[[7]]$RMSEY)\n",
    "prRes.D<- c( Res[[1]]$RMSED,Res[[2]]$RMSED, Res[[3]]$RMSED, Res[[4]]$RMSED, Res[[5]]$RMSED, Res[[6]]$RMSED, Res[[7]]$RMSED)\n",
    "\n",
    "prRes<- rbind(prRes.Y, prRes.D); \n",
    "rownames(prRes)<- c(\"RMSE D\", \"RMSE Y\");\n",
    "colnames(prRes)<- c(\"OLS\", \"Lasso\", \"Post-Lasso\", \"CV Lasso\", \"CV Ridge\", \"CV Elnet\", \"RF\")\n",
    "print(prRes,digit=6)"
   ]
  },
  {
   "cell_type": "markdown",
   "id": "8a350f0d",
   "metadata": {
    "papermill": {
     "duration": 0.027155,
     "end_time": "2021-02-13T17:40:48.832101",
     "exception": false,
     "start_time": "2021-02-13T17:40:48.804946",
     "status": "completed"
    },
    "tags": []
   },
   "source": [
    "It looks like the best method for predicting D is Lasso, and the best method for predicting Y is CV Ridge.\n"
   ]
  },
  {
   "cell_type": "code",
   "execution_count": 97,
   "id": "87e3ea49",
   "metadata": {
    "execution": {
     "iopub.execute_input": "2021-02-13T17:40:48.887079Z",
     "iopub.status.busy": "2021-02-13T17:40:48.885820Z",
     "iopub.status.idle": "2021-02-13T17:41:18.806979Z",
     "shell.execute_reply": "2021-02-13T17:41:18.805624Z"
    },
    "papermill": {
     "duration": 29.950099,
     "end_time": "2021-02-13T17:41:18.807192",
     "exception": false,
     "start_time": "2021-02-13T17:40:48.857093",
     "status": "completed"
    },
    "tags": []
   },
   "outputs": [
    {
     "name": "stdout",
     "output_type": "stream",
     "text": [
      "fold: 1  2  3  4  5  6  7  8  9  10  \n",
      "coef (se) = 0.222066 (0.0565614)\n"
     ]
    }
   ],
   "source": [
    "dreg <- function(z,d){ rlasso(z,d, post=T) } #ML method= lasso from hdm \n",
    "yreg <- function(z,y){ cv.glmnet(z,y,family=\"gaussian\", alpha=0) }  #ML method = ridge from glmnet \n",
    "DML2.best= DML2.for.PLM(z, d, y, dreg, yreg, nfold=10, clu)"
   ]
  },
  {
   "cell_type": "markdown",
   "id": "237204cc",
   "metadata": {
    "papermill": {
     "duration": 0.034891,
     "end_time": "2021-02-13T17:41:18.892429",
     "exception": false,
     "start_time": "2021-02-13T17:41:18.857538",
     "status": "completed"
    },
    "tags": []
   },
   "source": [
    "Let's organize the results in a table."
   ]
  },
  {
   "cell_type": "code",
   "execution_count": 84,
   "id": "cdc1a64e",
   "metadata": {},
   "outputs": [
    {
     "data": {
      "text/html": [
       "<style>\n",
       ".dl-inline {width: auto; margin:0; padding: 0}\n",
       ".dl-inline>dt, .dl-inline>dd {float: none; width: auto; display: inline-block}\n",
       ".dl-inline>dt::after {content: \":\\0020\"; padding-right: .5ex}\n",
       ".dl-inline>dt:not(:first-of-type) {padding-left: .5ex}\n",
       "</style><dl class=dl-inline><dt>Estimate</dt><dd>0.282304466633205</dd><dt>Cluster s.e.</dt><dd>0.0648107978379264</dd><dt>t value</dt><dd>4.35582458557552</dd><dt>Pr(&gt;|t|)</dt><dd>1.35976701238427e-05</dd></dl>\n"
      ],
      "text/latex": [
       "\\begin{description*}\n",
       "\\item[Estimate] 0.282304466633205\n",
       "\\item[Cluster s.e.] 0.0648107978379264\n",
       "\\item[t value] 4.35582458557552\n",
       "\\item[Pr(>\\textbackslash{}textbar\\{\\}t\\textbackslash{}textbar\\{\\})] 1.35976701238427e-05\n",
       "\\end{description*}\n"
      ],
      "text/markdown": [
       "Estimate\n",
       ":   0.282304466633205Cluster s.e.\n",
       ":   0.0648107978379264t value\n",
       ":   4.35582458557552Pr(&amp;gt;|t|)\n",
       ":   1.35976701238427e-05\n",
       "\n"
      ],
      "text/plain": [
       "    Estimate Cluster s.e.      t value     Pr(>|t|) \n",
       "2.823045e-01 6.481080e-02 4.355825e+00 1.359767e-05 "
      ]
     },
     "metadata": {},
     "output_type": "display_data"
    }
   ],
   "source": [
    "est_baseline"
   ]
  },
  {
   "cell_type": "code",
   "execution_count": 18,
   "id": "1078e698",
   "metadata": {
    "execution": {
     "iopub.execute_input": "2021-02-13T17:41:18.948154Z",
     "iopub.status.busy": "2021-02-13T17:41:18.946908Z",
     "iopub.status.idle": "2021-02-13T17:41:19.006359Z",
     "shell.execute_reply": "2021-02-13T17:41:19.005308Z"
    },
    "papermill": {
     "duration": 0.088669,
     "end_time": "2021-02-13T17:41:19.006521",
     "exception": false,
     "start_time": "2021-02-13T17:41:18.917852",
     "status": "completed"
    },
    "tags": []
   },
   "outputs": [
    {
     "data": {
      "text/html": [
       "<table class=\"dataframe\">\n",
       "<caption>A matrix: 9 × 2 of type dbl</caption>\n",
       "<thead>\n",
       "\t<tr><th></th><th scope=col>Estimate</th><th scope=col>Standard Error</th></tr>\n",
       "</thead>\n",
       "<tbody>\n",
       "\t<tr><th scope=row>Baseline OLS</th><td>0.2823045</td><td>0.06481080</td></tr>\n",
       "\t<tr><th scope=row>Least Squares with controls</th><td>0.1906447</td><td>0.05244756</td></tr>\n",
       "\t<tr><th scope=row>Lasso</th><td>0.2228074</td><td>0.05702673</td></tr>\n",
       "\t<tr><th scope=row>Post-Lasso</th><td>0.2269338</td><td>0.05619181</td></tr>\n",
       "\t<tr><th scope=row>CV Lasso</th><td>0.2004742</td><td>0.05764115</td></tr>\n",
       "\t<tr><th scope=row>CV Elnet</th><td>0.2061170</td><td>0.05746222</td></tr>\n",
       "\t<tr><th scope=row>CV Ridge</th><td>0.2013789</td><td>0.05790663</td></tr>\n",
       "\t<tr><th scope=row>Random Forest</th><td>0.1921739</td><td>0.05814101</td></tr>\n",
       "\t<tr><th scope=row>Best</th><td>0.2190048</td><td>0.05721956</td></tr>\n",
       "</tbody>\n",
       "</table>\n"
      ],
      "text/latex": [
       "A matrix: 9 × 2 of type dbl\n",
       "\\begin{tabular}{r|ll}\n",
       "  & Estimate & Standard Error\\\\\n",
       "\\hline\n",
       "\tBaseline OLS & 0.2823045 & 0.06481080\\\\\n",
       "\tLeast Squares with controls & 0.1906447 & 0.05244756\\\\\n",
       "\tLasso & 0.2228074 & 0.05702673\\\\\n",
       "\tPost-Lasso & 0.2269338 & 0.05619181\\\\\n",
       "\tCV Lasso & 0.2004742 & 0.05764115\\\\\n",
       "\tCV Elnet & 0.2061170 & 0.05746222\\\\\n",
       "\tCV Ridge & 0.2013789 & 0.05790663\\\\\n",
       "\tRandom Forest & 0.1921739 & 0.05814101\\\\\n",
       "\tBest & 0.2190048 & 0.05721956\\\\\n",
       "\\end{tabular}\n"
      ],
      "text/markdown": [
       "\n",
       "A matrix: 9 × 2 of type dbl\n",
       "\n",
       "| <!--/--> | Estimate | Standard Error |\n",
       "|---|---|---|\n",
       "| Baseline OLS | 0.2823045 | 0.06481080 |\n",
       "| Least Squares with controls | 0.1906447 | 0.05244756 |\n",
       "| Lasso | 0.2228074 | 0.05702673 |\n",
       "| Post-Lasso | 0.2269338 | 0.05619181 |\n",
       "| CV Lasso | 0.2004742 | 0.05764115 |\n",
       "| CV Elnet | 0.2061170 | 0.05746222 |\n",
       "| CV Ridge | 0.2013789 | 0.05790663 |\n",
       "| Random Forest | 0.1921739 | 0.05814101 |\n",
       "| Best | 0.2190048 | 0.05721956 |\n",
       "\n"
      ],
      "text/plain": [
       "                            Estimate  Standard Error\n",
       "Baseline OLS                0.2823045 0.06481080    \n",
       "Least Squares with controls 0.1906447 0.05244756    \n",
       "Lasso                       0.2228074 0.05702673    \n",
       "Post-Lasso                  0.2269338 0.05619181    \n",
       "CV Lasso                    0.2004742 0.05764115    \n",
       "CV Elnet                    0.2061170 0.05746222    \n",
       "CV Ridge                    0.2013789 0.05790663    \n",
       "Random Forest               0.1921739 0.05814101    \n",
       "Best                        0.2190048 0.05721956    "
      ]
     },
     "metadata": {},
     "output_type": "display_data"
    }
   ],
   "source": [
    "library(xtable)\n",
    "\n",
    "table <- matrix(0,9,2)\n",
    "table[1,1] <- as.numeric(est_baseline[1])\n",
    "table[2,1] <- as.numeric(est_ols[1])\n",
    "table[3,1]   <- as.numeric(DML2.lasso$coef.est)\n",
    "table[4,1]   <- as.numeric(DML2.post$coef.est)\n",
    "table[5,1]  <-as.numeric(DML2.lasso.cv$coef.est)\n",
    "table[6,1] <-as.numeric(DML2.elnet$coef.est)\n",
    "table[7,1] <-as.numeric(DML2.ridge$coef.est)\n",
    "table[8,1] <-as.numeric(DML2.RF$coef.est)\n",
    "table[9,1] <-as.numeric(DML2.best$coef.est)\n",
    "table[1,2] <- as.numeric(est_baseline[2])\n",
    "table[2,2] <- as.numeric(est_ols[2])\n",
    "table[3,2]   <- as.numeric(DML2.lasso$se)\n",
    "table[4,2]   <- as.numeric(DML2.post$se)\n",
    "table[5,2]  <-as.numeric(DML2.lasso.cv$se)\n",
    "table[6,2] <-as.numeric(DML2.elnet$se)\n",
    "table[7,2] <-as.numeric(DML2.ridge$se)\n",
    "table[8,2] <-as.numeric(DML2.RF$se)\n",
    "table[9,2] <-as.numeric(DML2.best$se)\n",
    "\n",
    "\n",
    "\n",
    "\n",
    "################################# Print Results #################################\n",
    "\n",
    "colnames(table) <- c(\"Estimate\",\"Standard Error\")\n",
    "rownames(table) <- c(\"Baseline OLS\", \"Least Squares with controls\", \"Lasso\", \"Post-Lasso\", \"CV Lasso\",\"CV Elnet\", \"CV Ridge\", \"Random Forest\", \n",
    "                     \"Best\")\n",
    "\n",
    "table"
   ]
  },
  {
   "cell_type": "code",
   "execution_count": 19,
   "id": "556978a3",
   "metadata": {
    "execution": {
     "iopub.execute_input": "2021-02-13T17:41:19.063047Z",
     "iopub.status.busy": "2021-02-13T17:41:19.062074Z",
     "iopub.status.idle": "2021-02-13T17:41:19.075566Z",
     "shell.execute_reply": "2021-02-13T17:41:19.074278Z"
    },
    "papermill": {
     "duration": 0.043017,
     "end_time": "2021-02-13T17:41:19.075707",
     "exception": false,
     "start_time": "2021-02-13T17:41:19.032690",
     "status": "completed"
    },
    "tags": []
   },
   "outputs": [
    {
     "name": "stdout",
     "output_type": "stream",
     "text": [
      "                            Estimate Standard Error\n",
      "Baseline OLS                   0.282         0.0648\n",
      "Least Squares with controls    0.191         0.0524\n",
      "Lasso                          0.223         0.0570\n",
      "Post-Lasso                     0.227         0.0562\n",
      "CV Lasso                       0.200         0.0576\n",
      "CV Elnet                       0.206         0.0575\n",
      "CV Ridge                       0.201         0.0579\n",
      "Random Forest                  0.192         0.0581\n",
      "Best                           0.219         0.0572\n"
     ]
    }
   ],
   "source": [
    "print(table, digit=3)\n"
   ]
  },
  {
   "cell_type": "code",
   "execution_count": 20,
   "id": "076a1652",
   "metadata": {
    "execution": {
     "iopub.execute_input": "2021-02-13T17:41:19.135002Z",
     "iopub.status.busy": "2021-02-13T17:41:19.134319Z",
     "iopub.status.idle": "2021-02-13T17:41:19.154458Z",
     "shell.execute_reply": "2021-02-13T17:41:19.152712Z"
    },
    "papermill": {
     "duration": 0.052331,
     "end_time": "2021-02-13T17:41:19.154690",
     "exception": false,
     "start_time": "2021-02-13T17:41:19.102359",
     "status": "completed"
    },
    "tags": []
   },
   "outputs": [
    {
     "name": "stdout",
     "output_type": "stream",
     "text": [
      "% latex table generated in R 3.6.3 by xtable 1.8-4 package\n",
      "% Sat Feb 13 17:41:19 2021\n",
      "\\begin{table}[ht]\n",
      "\\centering\n",
      "\\begin{tabular}{rrr}\n",
      "  \\hline\n",
      " & Estimate & Standard Error \\\\ \n",
      "  \\hline\n",
      "Baseline OLS & 0.282 & 0.065 \\\\ \n",
      "  Least Squares with controls & 0.191 & 0.052 \\\\ \n",
      "  Lasso & 0.223 & 0.057 \\\\ \n",
      "  Post-Lasso & 0.227 & 0.056 \\\\ \n",
      "  CV Lasso & 0.200 & 0.058 \\\\ \n",
      "  CV Elnet & 0.206 & 0.057 \\\\ \n",
      "  CV Ridge & 0.201 & 0.058 \\\\ \n",
      "  Random Forest & 0.192 & 0.058 \\\\ \n",
      "  Best & 0.219 & 0.057 \\\\ \n",
      "   \\hline\n",
      "\\end{tabular}\n",
      "\\end{table}\n"
     ]
    }
   ],
   "source": [
    "tab<- xtable(table, digits=3)\n",
    "print(tab, type=\"latex\")"
   ]
  },
  {
   "cell_type": "code",
   "execution_count": null,
   "id": "bd247f61",
   "metadata": {},
   "outputs": [],
   "source": []
  }
 ],
 "metadata": {
  "kernelspec": {
   "display_name": "Julia 1.6.5",
   "language": "julia",
   "name": "julia-1.6"
  },
  "language_info": {
   "file_extension": ".jl",
   "mimetype": "application/julia",
   "name": "julia",
   "version": "1.6.5"
  }
 },
 "nbformat": 4,
 "nbformat_minor": 5
}
