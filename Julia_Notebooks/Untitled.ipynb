{
 "cells": [
  {
   "cell_type": "code",
   "execution_count": 1,
   "id": "50903c68",
   "metadata": {},
   "outputs": [
    {
     "data": {
      "text/plain": [
       "(x = [1.849399785088361, 1.0805343163783885, -0.6304925413613067, -0.6920644688186596, 0.270406943790535, 1.872286932542604, -0.3718031186803632, 0.13460254512686753, 0.34370306515477417, -0.11414787529876254  …  1.0447152733147553, 0.45294267914611597, 0.6784823039405918, 0.7057752093866282, 0.5181587260772056, 0.5815211392764982, 0.0030123586705395255, -0.37285916147211906, 0.20585696090605443, -0.22135878781363902], v = [1.978310300899033, 0.789257467303089, -0.44147343840964237, -0.6697392309512689, 0.009821959002910441, 2.1301231153414077, -0.2866196065488114, 0.06354484914539779, 0.13562749058057386, -0.053636296587986645  …  0.9837466731906284, 0.34392495191057887, 0.26460073159273595, 0.4413105589937123, 0.7614970238092088, 0.32024653558167937, 0.19621707419587298, -0.3634888869615789, 0.18025862076698704, -0.5568201639273278], w = [1.5316282203147467, 1.342205877288502, -0.3706225167937369, -0.5464913833508198, -0.15606782682184261, 2.1325547210274083, -0.4422755431733666, -0.26315650289757747, 0.20801390493349972, -0.19159250714012083  …  1.2672321455359994, 0.20292717607359123, 1.1183321178726013, 0.7785892932974094, 0.5179188606316656, 1.0223491080147207, -0.1160788887291817, -0.5329073539384722, 0.3510547878286041, -0.16969854488998112], z = [3.4933174925028307, 2.5260712835261283, -0.29792203619142765, -1.311009430234066, 0.13132683738190298, 4.171765056527702, -0.7419956999432981, 0.007456015227105484, 0.34583317700154204, -0.575118218635946  …  2.0100303955182555, 0.8769257613897179, 1.626401553239432, 1.436155223606881, 1.2369123787844087, 1.4733035646334631, 0.15310562285820312, -0.8500332727823865, 0.42545486775826713, -0.6861307518080864], s = [3.4662966621785944, 2.9608004353703734, -0.5347437739970863, -1.089685530346877, 0.18115524368583474, 3.808186526142344, -0.7186470311138449, -0.3686337208715425, 0.46727213073460133, -0.43803303636140545  …  2.205837221218608, 0.6147061507025853, 1.2580656760717648, 1.1591349262932442, 1.7123556712507664, 1.1956575735925326, 0.13499677281325814, -0.6951009692827895, 0.4387335978357713, -0.34037245569601005])"
      ]
     },
     "execution_count": 1,
     "metadata": {},
     "output_type": "execute_result"
    }
   ],
   "source": [
    "# Generate some sample data to use with the PC algorithm\n",
    "\n",
    "N = 1000 # number of data points\n",
    "\n",
    "# define simple linear model with added noise\n",
    "x = randn(N)\n",
    "v = x + randn(N)*0.25\n",
    "w = x + randn(N)*0.25\n",
    "z = v + w + randn(N)*0.25\n",
    "s = z + randn(N)*0.25\n",
    "\n",
    "df = (x=x, v=v, w=w, z=z, s=s)"
   ]
  },
  {
   "cell_type": "code",
   "execution_count": 5,
   "id": "a1b00433",
   "metadata": {},
   "outputs": [
    {
     "name": "stderr",
     "output_type": "stream",
     "text": [
      "\u001b[32m\u001b[1m    Updating\u001b[22m\u001b[39m registry at `C:\\Users\\Roberto\\.julia\\registries\\General.toml`\n",
      "\u001b[32m\u001b[1m   Resolving\u001b[22m\u001b[39m package versions...\n",
      "\u001b[32m\u001b[1m   Installed\u001b[22m\u001b[39m TikzGraphs ────── v1.3.0\n",
      "\u001b[32m\u001b[1m   Installed\u001b[22m\u001b[39m LittleCMS_jll ─── v2.12.0+0\n",
      "\u001b[32m\u001b[1m   Installed\u001b[22m\u001b[39m Tectonic ──────── v0.8.0\n",
      "\u001b[32m\u001b[1m   Installed\u001b[22m\u001b[39m Poppler_jll ───── v0.87.0+2\n",
      "\u001b[32m\u001b[1m   Installed\u001b[22m\u001b[39m OpenJpeg_jll ──── v2.4.0+0\n",
      "\u001b[32m\u001b[1m   Installed\u001b[22m\u001b[39m TikzPictures ──── v3.4.2\n",
      "\u001b[32m\u001b[1m   Installed\u001b[22m\u001b[39m CausalInference ─ v0.8.0\n",
      "\u001b[32m\u001b[1m    Updating\u001b[22m\u001b[39m `C:\\Users\\Roberto\\.julia\\environments\\v1.7\\Project.toml`\n",
      " \u001b[90m [8e462317] \u001b[39m\u001b[92m+ CausalInference v0.8.0\u001b[39m\n",
      "\u001b[32m\u001b[1m    Updating\u001b[22m\u001b[39m `C:\\Users\\Roberto\\.julia\\environments\\v1.7\\Manifest.toml`\n",
      " \u001b[90m [8e462317] \u001b[39m\u001b[92m+ CausalInference v0.8.0\u001b[39m\n",
      " \u001b[90m [9ac5f52a] \u001b[39m\u001b[92m+ Tectonic v0.8.0\u001b[39m\n",
      " \u001b[90m [b4f28e30] \u001b[39m\u001b[92m+ TikzGraphs v1.3.0\u001b[39m\n",
      " \u001b[90m [37f6aa50] \u001b[39m\u001b[92m+ TikzPictures v3.4.2\u001b[39m\n",
      " \u001b[90m [d3a379c0] \u001b[39m\u001b[92m+ LittleCMS_jll v2.12.0+0\u001b[39m\n",
      " \u001b[90m [643b3616] \u001b[39m\u001b[92m+ OpenJpeg_jll v2.4.0+0\u001b[39m\n",
      " \u001b[90m [9c32591e] \u001b[39m\u001b[92m+ Poppler_jll v0.87.0+2\u001b[39m\n",
      "\u001b[32m\u001b[1mPrecompiling\u001b[22m\u001b[39m project...\n",
      "\u001b[32m  ✓ \u001b[39m\u001b[90mTectonic\u001b[39m\n",
      "\u001b[32m  ✓ \u001b[39m\u001b[90mLittleCMS_jll\u001b[39m\n",
      "\u001b[32m  ✓ \u001b[39m\u001b[90mOpenJpeg_jll\u001b[39m\n",
      "\u001b[32m  ✓ \u001b[39m\u001b[90mPoppler_jll\u001b[39m\n",
      "\u001b[32m  ✓ \u001b[39m\u001b[90mTikzPictures\u001b[39m\n",
      "\u001b[32m  ✓ \u001b[39m\u001b[90mTikzGraphs\u001b[39m\n",
      "\u001b[32m  ✓ \u001b[39mCausalInference\n",
      "  7 dependencies successfully precompiled in 10 seconds (337 already precompiled)\n"
     ]
    }
   ],
   "source": [
    "import Pkg\n",
    "\n",
    "Pkg.add(\"CausalInference\")"
   ]
  },
  {
   "cell_type": "code",
   "execution_count": 6,
   "id": "84b2caaf",
   "metadata": {},
   "outputs": [
    {
     "ename": "LoadError",
     "evalue": "UndefVarError: pcalg not defined",
     "output_type": "error",
     "traceback": [
      "UndefVarError: pcalg not defined",
      "",
      "Stacktrace:",
      " [1] top-level scope",
      "   @ In[6]:1",
      " [2] eval",
      "   @ .\\boot.jl:373 [inlined]",
      " [3] include_string(mapexpr::typeof(REPL.softscope), mod::Module, code::String, filename::String)",
      "   @ Base .\\loading.jl:1196"
     ]
    }
   ],
   "source": [
    "est_g = pcalg(df, 0.01, gausscitest)"
   ]
  },
  {
   "cell_type": "code",
   "execution_count": 7,
   "id": "a6a105a1",
   "metadata": {},
   "outputs": [
    {
     "ename": "LoadError",
     "evalue": "UndefVarError: plot_pc_dag not defined",
     "output_type": "error",
     "traceback": [
      "UndefVarError: plot_pc_dag not defined",
      "",
      "Stacktrace:",
      " [1] top-level scope",
      "   @ In[7]:1",
      " [2] eval",
      "   @ .\\boot.jl:373 [inlined]",
      " [3] include_string(mapexpr::typeof(REPL.softscope), mod::Module, code::String, filename::String)",
      "   @ Base .\\loading.jl:1196"
     ]
    }
   ],
   "source": [
    "plot_pc_dag(est_g, [String(k) for k in keys(df)])"
   ]
  }
 ],
 "metadata": {
  "kernelspec": {
   "display_name": "Julia 1.7.2",
   "language": "julia",
   "name": "julia-1.7"
  },
  "language_info": {
   "file_extension": ".jl",
   "mimetype": "application/julia",
   "name": "julia",
   "version": "1.7.2"
  }
 },
 "nbformat": 4,
 "nbformat_minor": 5
}
