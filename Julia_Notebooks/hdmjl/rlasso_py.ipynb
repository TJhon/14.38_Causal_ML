{
 "cells": [
  {
   "cell_type": "code",
   "execution_count": 1,
   "id": "f249e962",
   "metadata": {},
   "outputs": [],
   "source": [
    "################################################################################\n",
    "### Python port of rlasso.R\n",
    "### https://github.com/cran/hdm/blob/master/R/rlasso.R\n",
    "################################################################################\n",
    "\n",
    "################################################################################\n",
    "### 1: Load modules\n",
    "################################################################################\n",
    "\n",
    "# Standard Python modules\n",
    "import joblib as jbl\n",
    "import multiprocess as mp\n",
    "import numpy as np\n",
    "import pandas as pd\n",
    "from scipy.stats import norm\n",
    "from sklearn.linear_model import LinearRegression as lm\n",
    "\n",
    "# Other parts of hdmpy\n",
    "from hdmpy.help_functions import cvec, init_values\n",
    "from hdmpy.LassoShooting_fit import LassoShooting_fit"
   ]
  },
  {
   "cell_type": "code",
   "execution_count": 2,
   "id": "ec43d1d7",
   "metadata": {},
   "outputs": [],
   "source": [
    "################################################################################\n",
    "### 2: Define functions\n",
    "################################################################################\n",
    "\n",
    "################################################################################\n",
    "### 2.1: Functions which are not in the original R package\n",
    "###      These are generally helper functions to allow an implementation which\n",
    "###      reads as closely to the original R code as possible, and to ease a\n",
    "###      Python implementation, including parallelizing the code\n",
    "################################################################################\n",
    "\n",
    "\n",
    "# Define a function to simulate distributions needed for calculating X-dependent\n",
    "# penalty terms\n",
    "def simul_pen(n, p, W, seed=0, fix_seed=True):\n",
    "    # Check whether the seed needs to be fixed\n",
    "    if fix_seed:\n",
    "        # Simulate with provided seed\n",
    "        g = norm.rvs(size=(n,1), random_state=seed) @ np.ones(shape=(1,p))\n",
    "    else:\n",
    "        # Simulate using whatever state the RNG is currently in\n",
    "        g = norm.rvs(size=(n,1)) @ np.ones(shape=(1,p))\n",
    "\n",
    "    # Calculate element of the distribution for the current draw of g\n",
    "    s = n * np.amax(2 * np.abs(np.mean(W * g, axis=0)))\n",
    "\n",
    "    # Return the result\n",
    "    return s"
   ]
  },
  {
   "cell_type": "code",
   "execution_count": 3,
   "id": "fb12ca49",
   "metadata": {},
   "outputs": [],
   "source": [
    "################################################################################\n",
    "### 2.2: Functions which are in the original R package\n",
    "################################################################################\n",
    "\n",
    "\n",
    "def lambdaCalculation(homoskedastic=False, X_dependent_lambda=False,\n",
    "                      lambda_start=None, c=1.1, gamma=0.1, numSim=5000, y=None,\n",
    "                      x=None, par=True, corecap=np.inf, fix_seed=True):\n",
    "    # Get number of observations n and number of variables p\n",
    "    n, p = x.shape\n",
    "\n",
    "    # Get number of simulations to use (if simulations are necessary)\n",
    "    R = numSim\n",
    "\n",
    "    # Go through all possible combinations of homoskedasticy/heteroskedasticity\n",
    "    # and X-dependent or independent error terms. The first two cases are\n",
    "    # special cases: Handling the case there homoskedastic was set to None, and\n",
    "    # where lambda_start was provided.\n",
    "    #\n",
    "    # 1) If homoskedastic was set to None (special case)\n",
    "    if homoskedastic is None:\n",
    "        # Initialize lambda\n",
    "        lmbda0 = lambda_start\n",
    "\n",
    "        Ups0 = (1 / np.sqrt(n)) * np.sqrt((y**2).T @ (x**2)).T\n",
    "\n",
    "        # Calculate the final vector of penalty terms\n",
    "        lmbda = lmbda0 * Ups0\n",
    "\n",
    "    # 2) If lambda_start was provided (special case)\n",
    "    elif lambda_start is not None:\n",
    "        # Check whether a homogeneous penalty term was provided (a scalar)\n",
    "        if np.amax(cvec(lambda_start).shape) == 1:\n",
    "            # If so, repeat that p times as the penalty term\n",
    "            lmbda = np.ones(shape=(p,1)) * lambda_start\n",
    "        else:\n",
    "            # Otherwise, use the provided vector of penalty terms as is\n",
    "            lmbda = lambda_start\n",
    "\n",
    "    # 3) Homoskedastic and X-independent\n",
    "    elif (homoskedastic == True) and (X_dependent_lambda == False):\n",
    "        # Initilaize lambda\n",
    "        lmbda0 = 2 * c * np.sqrt(n) * norm.ppf(1 - gamma/(2*p))\n",
    "\n",
    "        # Use ddof=1 to be consistent with R's var() function\n",
    "        Ups0 = np.sqrt(np.var(y, axis=0, ddof=1))\n",
    "\n",
    "        # Calculate the final vector of penalty terms\n",
    "        lmbda = np.zeros(shape=(p,1)) + lmbda0 * Ups0\n",
    "\n",
    "    # 4) Homoskedastic and X-dependent\n",
    "    elif (homoskedastic == True) and (X_dependent_lambda == True):\n",
    "        psi = cvec((x**2).mean(axis=0))\n",
    "\n",
    "        tXtpsi = (x.T / np.sqrt(psi)).T\n",
    "\n",
    "        # Check whether to use parallel processing\n",
    "        if par == True:\n",
    "            # If so, get the number of cores to use\n",
    "            cores = np.int(np.amin([mp.cpu_count(), corecap]))\n",
    "        else:\n",
    "            # Otherwise, use only one core (i.e. run sequentially)\n",
    "            cores = 1\n",
    "\n",
    "        # Get simulated distribution\n",
    "        sim = jbl.Parallel(n_jobs=cores)(\n",
    "            jbl.delayed(simul_pen)(\n",
    "                n, p, tXtpsi, seed=l*20, fix_seed=fix_seed\n",
    "            ) for l in np.arange(R)\n",
    "        )\n",
    "\n",
    "        # Convert it to a proper column vector\n",
    "        sim = cvec(sim)\n",
    "\n",
    "        # Initialize lambda based on the simulated quantiles\n",
    "        lmbda0 = c * np.quantile(sim, q=1-gamma, axis=0)\n",
    "\n",
    "        Ups0 = np.sqrt(np.var(y, axis=0, ddof=1))\n",
    "\n",
    "        # Calculate the final vector of penalty terms\n",
    "        lmbda = np.zeros(shape=(p,1)) + lmbda0 * Ups0\n",
    "\n",
    "    # 5) Heteroskedastic and X-independent\n",
    "    elif (homoskedastic == False) and (X_dependent_lambda == False):\n",
    "        # The original includes the comment, \"1=num endogenous variables\"\n",
    "        lmbda0 = 2 * c * np.sqrt(n) * norm.ppf(1 - gamma/(2*p*1))\n",
    "\n",
    "        Ups0 = (1 / np.sqrt(n)) * np.sqrt((y**2).T @ (x**2)).T\n",
    "\n",
    "        lmbda = lmbda0 * Ups0\n",
    "\n",
    "    # 6) Heteroskedastic and X-dependent\n",
    "    elif (homoskedastic == False) and (X_dependent_lambda == True):\n",
    "        eh = y\n",
    "\n",
    "        ehat = eh @ np.ones(shape=(1,p))\n",
    "\n",
    "        xehat = x * ehat\n",
    "\n",
    "        psi = cvec((xehat**2).mean(axis=0)).T\n",
    "\n",
    "        tXehattpsi = (xehat / ( np.ones(shape=(n,1)) @ np.sqrt(psi) ))\n",
    "\n",
    "        # Check whether to use parallel processing\n",
    "        if par == True:\n",
    "            # If so, get the number of cores to use\n",
    "            cores = np.int(np.amin([mp.cpu_count(), corecap]))\n",
    "        else:\n",
    "            # Otherwise, use only one core (i.e. run sequentially)\n",
    "            cores = 1\n",
    "\n",
    "        # Get simulated distribution\n",
    "        sim = jbl.Parallel(n_jobs=cores)(\n",
    "            jbl.delayed(simul_pen)(\n",
    "                n, p, tXehattpsi, seed=l*20, fix_seed=fix_seed\n",
    "            ) for l in np.arange(R)\n",
    "        )\n",
    "\n",
    "        # Convert it to a proper column vector\n",
    "        sim = cvec(sim)\n",
    "\n",
    "        # Initialize lambda based on the simulated quantiles\n",
    "        lmbda0 = c * np.quantile(sim, q=1-gamma, axis=0)\n",
    "\n",
    "        Ups0 = (1 / np.sqrt(n)) * np.sqrt((y**2).T @ (x**2)).T\n",
    "\n",
    "        # Calculate the final vector of penalty terms\n",
    "        lmbda = lmbda0 * Ups0\n",
    "\n",
    "    # Return results\n",
    "    return {'lambda0': lmbda0, 'lambda': lmbda, 'Ups0': Ups0}"
   ]
  },
  {
   "cell_type": "code",
   "execution_count": 51,
   "id": "ddbdadfb",
   "metadata": {},
   "outputs": [
    {
     "name": "stdout",
     "output_type": "stream",
     "text": [
      "0.5714025946899135\n"
     ]
    }
   ],
   "source": [
    "import numpy as np\n",
    "import random\n",
    "import statsmodels.api as sm\n",
    "# Set Seed\n",
    "random.seed(10)\n",
    "print(random.random())\n",
    "\n",
    "n = 10\n",
    "p = n//2\n",
    "x = np.random.normal(0, 1, size=(n, p))\n",
    "y = np.random.normal(0, 1,n)\n",
    "beta = np.random.normal(0, 1,n)\n",
    "lmbda = np.random.normal(0, 1,n)\n",
    "gamma = 0.1"
   ]
  },
  {
   "cell_type": "code",
   "execution_count": 65,
   "id": "7be84bbc",
   "metadata": {},
   "outputs": [
    {
     "ename": "ValueError",
     "evalue": "matmul: Input operand 1 has a mismatch in its core dimension 0, with gufunc signature (n?,k),(k,m?)->(n?,m?) (size 1 is different from 10)",
     "output_type": "error",
     "traceback": [
      "\u001b[1;31m---------------------------------------------------------------------------\u001b[0m",
      "\u001b[1;31mValueError\u001b[0m                                Traceback (most recent call last)",
      "\u001b[1;32mC:\\Users\\ALEXAN~1\\AppData\\Local\\Temp/ipykernel_37364/936109490.py\u001b[0m in \u001b[0;36m<module>\u001b[1;34m\u001b[0m\n\u001b[0;32m      1\u001b[0m \u001b[0meh\u001b[0m \u001b[1;33m=\u001b[0m \u001b[0my\u001b[0m\u001b[1;33m\u001b[0m\u001b[1;33m\u001b[0m\u001b[0m\n\u001b[0;32m      2\u001b[0m \u001b[1;33m\u001b[0m\u001b[0m\n\u001b[1;32m----> 3\u001b[1;33m \u001b[0mehat\u001b[0m \u001b[1;33m=\u001b[0m \u001b[0meh\u001b[0m \u001b[1;33m@\u001b[0m \u001b[0mnp\u001b[0m\u001b[1;33m.\u001b[0m\u001b[0mones\u001b[0m\u001b[1;33m(\u001b[0m\u001b[0mshape\u001b[0m\u001b[1;33m=\u001b[0m\u001b[1;33m(\u001b[0m\u001b[1;36m1\u001b[0m\u001b[1;33m,\u001b[0m\u001b[0mp\u001b[0m\u001b[1;33m)\u001b[0m\u001b[1;33m)\u001b[0m\u001b[1;33m\u001b[0m\u001b[1;33m\u001b[0m\u001b[0m\n\u001b[0m\u001b[0;32m      4\u001b[0m \u001b[1;33m\u001b[0m\u001b[0m\n\u001b[0;32m      5\u001b[0m \u001b[0mxehat\u001b[0m \u001b[1;33m=\u001b[0m \u001b[0mx\u001b[0m \u001b[1;33m*\u001b[0m \u001b[0mehat\u001b[0m\u001b[1;33m\u001b[0m\u001b[1;33m\u001b[0m\u001b[0m\n",
      "\u001b[1;31mValueError\u001b[0m: matmul: Input operand 1 has a mismatch in its core dimension 0, with gufunc signature (n?,k),(k,m?)->(n?,m?) (size 1 is different from 10)"
     ]
    }
   ],
   "source": [
    "eh = y\n",
    "\n",
    "ehat = eh @ np.ones(shape=(1,p))\n",
    "\n",
    "xehat = x * ehat\n",
    "psi = cvec((x**2).mean(axis=0)).T"
   ]
  },
  {
   "cell_type": "code",
   "execution_count": 74,
   "id": "1ba319e7",
   "metadata": {},
   "outputs": [
    {
     "data": {
      "text/plain": [
       "array([[2.34724855e+00, 1.36356347e+00, 1.66189173e-01, 2.43429083e-01,\n",
       "        1.24474439e-01],\n",
       "       [5.18480261e-01, 1.01976076e+00, 4.90345817e-01, 1.19571643e+00,\n",
       "        1.21579329e-01],\n",
       "       [2.35859450e+00, 3.31353285e-01, 1.22411472e+00, 1.62233802e-01,\n",
       "        8.59500523e-03],\n",
       "       [2.79668010e+00, 1.55676322e+00, 1.74243937e-01, 3.74456482e-01,\n",
       "        7.07361957e-01],\n",
       "       [2.42399123e+00, 1.21865079e+00, 1.34357160e+00, 2.29378517e-01,\n",
       "        1.28580135e+00],\n",
       "       [2.68158478e-04, 5.98564374e-02, 2.31068255e-01, 1.69459892e+00,\n",
       "        2.56037183e-03],\n",
       "       [1.47232806e-02, 6.82367293e-03, 4.92728420e-01, 2.68761196e+00,\n",
       "        4.44376419e-01],\n",
       "       [2.07423209e-03, 1.95706270e-01, 1.15283212e+00, 3.27670432e-01,\n",
       "        8.67918348e-01],\n",
       "       [2.04074501e+00, 8.00075899e-01, 6.73538133e-02, 1.97217549e+00,\n",
       "        1.24392572e+00],\n",
       "       [2.09500055e-02, 1.44509447e-01, 1.98782585e+00, 2.42599422e-01,\n",
       "        7.94955236e-01]])"
      ]
     },
     "execution_count": 74,
     "metadata": {},
     "output_type": "execute_result"
    }
   ],
   "source": [
    "a = x**2\n",
    "a.shape\n",
    "a"
   ]
  },
  {
   "cell_type": "code",
   "execution_count": 67,
   "id": "5f539bec",
   "metadata": {},
   "outputs": [
    {
     "data": {
      "text/plain": [
       "array([[1.25237553, 0.66970632, 0.73302737, 0.91298705, 0.56015482]])"
      ]
     },
     "execution_count": 67,
     "metadata": {},
     "output_type": "execute_result"
    }
   ],
   "source": [
    "psi = cvec((x**2).mean(axis=0)).T\n",
    "psi"
   ]
  },
  {
   "cell_type": "code",
   "execution_count": 61,
   "id": "c1235caa",
   "metadata": {},
   "outputs": [
    {
     "ename": "ValueError",
     "evalue": "matmul: Input operand 1 has a mismatch in its core dimension 0, with gufunc signature (n?,k),(k,m?)->(n?,m?) (size 1 is different from 10)",
     "output_type": "error",
     "traceback": [
      "\u001b[1;31m---------------------------------------------------------------------------\u001b[0m",
      "\u001b[1;31mValueError\u001b[0m                                Traceback (most recent call last)",
      "\u001b[1;32mC:\\Users\\ALEXAN~1\\AppData\\Local\\Temp/ipykernel_37364/3572183170.py\u001b[0m in \u001b[0;36m<module>\u001b[1;34m\u001b[0m\n\u001b[1;32m----> 1\u001b[1;33m \u001b[0my\u001b[0m\u001b[1;33m.\u001b[0m\u001b[0mT\u001b[0m\u001b[1;33m@\u001b[0m\u001b[0mnp\u001b[0m\u001b[1;33m.\u001b[0m\u001b[0mones\u001b[0m\u001b[1;33m(\u001b[0m\u001b[0mshape\u001b[0m\u001b[1;33m=\u001b[0m\u001b[1;33m(\u001b[0m\u001b[1;36m1\u001b[0m\u001b[1;33m,\u001b[0m\u001b[0mp\u001b[0m\u001b[1;33m)\u001b[0m\u001b[1;33m)\u001b[0m\u001b[1;33m\u001b[0m\u001b[1;33m\u001b[0m\u001b[0m\n\u001b[0m",
      "\u001b[1;31mValueError\u001b[0m: matmul: Input operand 1 has a mismatch in its core dimension 0, with gufunc signature (n?,k),(k,m?)->(n?,m?) (size 1 is different from 10)"
     ]
    }
   ],
   "source": [
    "y.T@np.ones(shape=(1,p))"
   ]
  },
  {
   "cell_type": "code",
   "execution_count": 63,
   "id": "d894543d",
   "metadata": {},
   "outputs": [
    {
     "data": {
      "text/plain": [
       "(1, 5)"
      ]
     },
     "execution_count": 63,
     "metadata": {},
     "output_type": "execute_result"
    }
   ],
   "source": [
    "np.ones(shape=(1,p)).shape"
   ]
  },
  {
   "cell_type": "code",
   "execution_count": 55,
   "id": "c170fd7d",
   "metadata": {},
   "outputs": [
    {
     "ename": "ValueError",
     "evalue": "matmul: Input operand 1 has a mismatch in its core dimension 0, with gufunc signature (n?,k),(k,m?)->(n?,m?) (size 1 is different from 10)",
     "output_type": "error",
     "traceback": [
      "\u001b[1;31m---------------------------------------------------------------------------\u001b[0m",
      "\u001b[1;31mValueError\u001b[0m                                Traceback (most recent call last)",
      "\u001b[1;32mC:\\Users\\ALEXAN~1\\AppData\\Local\\Temp/ipykernel_37364/2237490073.py\u001b[0m in \u001b[0;36m<module>\u001b[1;34m\u001b[0m\n\u001b[0;32m      1\u001b[0m \u001b[0meh\u001b[0m \u001b[1;33m=\u001b[0m \u001b[0my\u001b[0m\u001b[1;33m\u001b[0m\u001b[1;33m\u001b[0m\u001b[0m\n\u001b[0;32m      2\u001b[0m \u001b[1;33m\u001b[0m\u001b[0m\n\u001b[1;32m----> 3\u001b[1;33m \u001b[0mehat\u001b[0m \u001b[1;33m=\u001b[0m \u001b[0meh\u001b[0m \u001b[1;33m@\u001b[0m \u001b[0mnp\u001b[0m\u001b[1;33m.\u001b[0m\u001b[0mones\u001b[0m\u001b[1;33m(\u001b[0m\u001b[0mshape\u001b[0m\u001b[1;33m=\u001b[0m\u001b[1;33m(\u001b[0m\u001b[1;36m1\u001b[0m\u001b[1;33m,\u001b[0m\u001b[0mp\u001b[0m\u001b[1;33m)\u001b[0m\u001b[1;33m)\u001b[0m\u001b[1;33m\u001b[0m\u001b[1;33m\u001b[0m\u001b[0m\n\u001b[0m",
      "\u001b[1;31mValueError\u001b[0m: matmul: Input operand 1 has a mismatch in its core dimension 0, with gufunc signature (n?,k),(k,m?)->(n?,m?) (size 1 is different from 10)"
     ]
    }
   ],
   "source": [
    "eh = y\n",
    "\n",
    "ehat = eh @ np.ones(shape=(1,p))\n"
   ]
  },
  {
   "cell_type": "code",
   "execution_count": 33,
   "id": "20094b89",
   "metadata": {},
   "outputs": [
    {
     "data": {
      "text/plain": [
       "array([0.81457888, 0.65552213, 0.60191268, 0.57792912, 0.4829452 ])"
      ]
     },
     "execution_count": 33,
     "metadata": {},
     "output_type": "execute_result"
    }
   ],
   "source": [
    "Ups0 = (1 / np.sqrt(n)) * np.sqrt((y**2).T @ (x**2)).T\n",
    "Ups0 "
   ]
  },
  {
   "cell_type": "code",
   "execution_count": 48,
   "id": "cd4e872a",
   "metadata": {},
   "outputs": [
    {
     "data": {
      "text/plain": [
       "array([0.49171182, 0.94548481, 0.01558194, 1.84153318, 0.84980063,\n",
       "       3.00381569, 1.99125034, 0.16976616, 1.14532861, 0.43418689])"
      ]
     },
     "execution_count": 48,
     "metadata": {},
     "output_type": "execute_result"
    }
   ],
   "source": [
    "(y**2).T"
   ]
  },
  {
   "cell_type": "code",
   "execution_count": 49,
   "id": "789e8314",
   "metadata": {},
   "outputs": [
    {
     "data": {
      "text/plain": [
       "array([[6.15788567e+00, 2.55424923e-01, 3.40205674e-01, 1.00682747e-01,\n",
       "        1.68222923e-02],\n",
       "       [8.00701969e-03, 1.25809884e-02, 1.54341064e+00, 6.75475165e-04,\n",
       "        9.10582869e-02],\n",
       "       [1.93417152e-03, 1.70433556e+00, 6.48904756e-02, 1.14931201e-01,\n",
       "        1.01984279e+00],\n",
       "       [6.59905614e-02, 3.35087475e-03, 1.13937828e-01, 1.57711249e+00,\n",
       "        6.71238125e-02],\n",
       "       [1.98694748e+00, 5.81559443e-02, 4.71941855e-01, 1.18352967e-02,\n",
       "        1.18606333e+00],\n",
       "       [1.10453769e-01, 3.30866043e-01, 1.89609280e-01, 4.24622093e-02,\n",
       "        2.61452307e-03],\n",
       "       [3.94392899e-02, 2.69787922e-01, 1.50322613e-01, 4.33688332e-04,\n",
       "        4.53770598e-04],\n",
       "       [2.25404625e+00, 7.67283484e-01, 3.63627244e-01, 1.07145069e-01,\n",
       "        1.57573180e+00],\n",
       "       [5.97077619e-01, 3.37930771e-01, 2.04918178e-01, 1.24099439e-01,\n",
       "        1.19920320e-01],\n",
       "       [7.20937188e-01, 4.67328041e+00, 5.04931981e-01, 1.95734138e-01,\n",
       "        1.55915405e+00]])"
      ]
     },
     "execution_count": 49,
     "metadata": {},
     "output_type": "execute_result"
    }
   ],
   "source": [
    "(x**2)"
   ]
  },
  {
   "cell_type": "code",
   "execution_count": 38,
   "id": "de382105",
   "metadata": {},
   "outputs": [
    {
     "data": {
      "text/plain": [
       "array([6.63538744, 4.29709269, 3.62298875, 3.34002071, 2.33236064])"
      ]
     },
     "execution_count": 38,
     "metadata": {},
     "output_type": "execute_result"
    }
   ],
   "source": [
    "(y**2).T@ (x**2)"
   ]
  },
  {
   "cell_type": "code",
   "execution_count": 31,
   "id": "f1bef2f6",
   "metadata": {},
   "outputs": [
    {
     "data": {
      "text/plain": [
       "0.9919856597827262"
      ]
     },
     "execution_count": 31,
     "metadata": {},
     "output_type": "execute_result"
    }
   ],
   "source": [
    "Ups0 = np.sqrt(np.var(y, axis=0, ddof=1))\n",
    "Ups0"
   ]
  },
  {
   "cell_type": "code",
   "execution_count": 27,
   "id": "ad7b391b",
   "metadata": {},
   "outputs": [
    {
     "data": {
      "text/plain": [
       "2.3263478740408408"
      ]
     },
     "execution_count": 27,
     "metadata": {},
     "output_type": "execute_result"
    }
   ],
   "source": [
    "norm.ppf(1 - gamma/(2*p))"
   ]
  },
  {
   "cell_type": "code",
   "execution_count": 16,
   "id": "4b71acc7",
   "metadata": {},
   "outputs": [],
   "source": [
    "from scipy.stats import norm\n",
    "import matplotlib.pyplot as plt"
   ]
  },
  {
   "cell_type": "code",
   "execution_count": 18,
   "id": "e32b2e49",
   "metadata": {},
   "outputs": [
    {
     "data": {
      "image/png": "[encoded data removed]",
      "text/plain": [
       "<Figure size 432x288 with 1 Axes>"
      ]
     },
     "metadata": {
      "needs_background": "light"
     },
     "output_type": "display_data"
    }
   ],
   "source": [
    "fig, ax = plt.subplots(1, 1)\n",
    "mean, var, skew, kurt = norm.stats(moments='mvsk')"
   ]
  },
  {
   "cell_type": "code",
   "execution_count": 23,
   "id": "e8caabe7",
   "metadata": {},
   "outputs": [
    {
     "data": {
      "text/plain": [
       "[<matplotlib.lines.Line2D at 0x218cf0dfac0>,\n",
       " <matplotlib.lines.Line2D at 0x218cf0dff70>,\n",
       " <matplotlib.lines.Line2D at 0x218cf0dfd90>,\n",
       " <matplotlib.lines.Line2D at 0x218cf0dfc70>,\n",
       " <matplotlib.lines.Line2D at 0x218cf0dfb50>]"
      ]
     },
     "execution_count": 23,
     "metadata": {},
     "output_type": "execute_result"
    }
   ],
   "source": [
    "rv = norm()\n",
    "ax.plot(x, rv.pdf(x), 'k-', lw=2, label='frozen pdf')"
   ]
  },
  {
   "cell_type": "code",
   "execution_count": 24,
   "id": "64c3c2cb",
   "metadata": {},
   "outputs": [
    {
     "data": {
      "text/plain": [
       "1.6448536269514722"
      ]
     },
     "execution_count": 24,
     "metadata": {},
     "output_type": "execute_result"
    }
   ],
   "source": [
    "norm.ppf(0.95, loc=0, scale=1)"
   ]
  },
  {
   "cell_type": "code",
   "execution_count": 8,
   "id": "12e8e8a6",
   "metadata": {},
   "outputs": [
    {
     "data": {
      "text/plain": [
       "array([0.72570517, 0.46446458, 0.83128209, 1.036849  , 1.09542523])"
      ]
     },
     "execution_count": 8,
     "metadata": {},
     "output_type": "execute_result"
    }
   ],
   "source": [
    "Ups0 = (1 / np.sqrt(n)) * np.sqrt((y**2).T @ (x**2)).T\n",
    "Ups0"
   ]
  },
  {
   "cell_type": "code",
   "execution_count": 4,
   "id": "7f8b8e0f",
   "metadata": {},
   "outputs": [
    {
     "data": {
      "text/plain": [
       "100"
      ]
     },
     "execution_count": 4,
     "metadata": {},
     "output_type": "execute_result"
    }
   ],
   "source": [
    "class MyClass(object):\n",
    "\n",
    "    def __init__(self, foo, bar):\n",
    "        self.foo = foo\n",
    "        self.bar = bar\n",
    "\n",
    "    def do_something(self):\n",
    "        return self.foo + self.bar\n",
    "\n",
    "    def do_something_else(self, num):\n",
    "        return num * self.bar\n",
    "\n",
    "\n",
    "my_class = MyClass(1, 10)\n",
    "my_class.do_something()  # returns 11\n",
    "my_class.do_something_else(10)  # returns 100\n"
   ]
  },
  {
   "cell_type": "code",
   "execution_count": 1,
   "id": "bbf84213",
   "metadata": {},
   "outputs": [],
   "source": [
    "################################################################################\n",
    "### 3: Define classes\n",
    "################################################################################\n",
    "\n",
    "class rlasso:\n",
    "    # Initialize gamma to None to get gamma=.1/log(n)\n",
    "    def __init__(self, x, y, colnames=None, post=True, intercept=True,\n",
    "                 model=True, homoskedastic=False, X_dependent_lambda=False,\n",
    "                 lambda_start=None, c=1.1, gamma=None, numSim=5000, numIter=15,\n",
    "                 tol=10**(-5), threshold=-np.inf, par=True, corecap=np.inf,\n",
    "                 fix_seed=True):\n",
    "        # Initialize internal variables\n",
    "        if isinstance(x, pd.DataFrame) and colnames is None:\n",
    "            colnames = x.columns\n",
    "\n",
    "        self.x = np.array(x).astype(np.float32)\n",
    "        self.y = cvec(y).astype(np.float32)\n",
    "\n",
    "        self.n, self.p = self.x.shape\n",
    "\n",
    "        if colnames is None:\n",
    "            self.colnames = ['V' + str(i+1) for i in np.arange(self.p)]\n",
    "        else:\n",
    "            self.colnames = colnames\n",
    "\n",
    "        # Unused line in the original code\n",
    "        # ind_names = np.arange(self.p) + 1\n",
    "\n",
    "        self.post = post\n",
    "        self.intercept = intercept\n",
    "        self.model = model\n",
    "        self.homoskedastic = homoskedastic\n",
    "        self.X_dependent_lambda = X_dependent_lambda\n",
    "        self.lambda_start = lambda_start\n",
    "        self.c = c\n",
    "\n",
    "        if gamma is None:\n",
    "            self.gamma = .1 / np.log(self.n)\n",
    "        else:\n",
    "            self.gamma = gamma\n",
    "\n",
    "        self.numSim = numSim\n",
    "        self.numIter = numIter\n",
    "        self.tol = tol\n",
    "        self.threshold = threshold\n",
    "\n",
    "        self.par = par\n",
    "        self.corecap = corecap\n",
    "        self.fix_seed = fix_seed\n",
    "\n",
    "        if (self.post == False) and (self.c is None):\n",
    "            self.c = .5\n",
    "\n",
    "        if (\n",
    "                (self.post == False) and (self.homoskedastic == False)\n",
    "                and (self.X_dependent_lambda == False)\n",
    "                and (self.lambda_start == None) and (self.c == 1.1)\n",
    "                and (self.gamma == .1 / np.log(self.n))\n",
    "        ):\n",
    "            self.c = .5\n",
    "\n",
    "        # For now, instantiate estimate as None\n",
    "        self.est = None\n",
    "\n",
    "        # Calculate robust LASSO coefficients\n",
    "        if self.intercept == True:\n",
    "            meanx = cvec(self.x.mean(axis=0))\n",
    "\n",
    "            self.x = self.x - np.ones(shape=(self.n,1)) @ meanx.T\n",
    "\n",
    "            mu = self.y.mean()\n",
    "\n",
    "            self.y = self.y - mu\n",
    "        else:\n",
    "            meanx = np.zeros(shape=(self.p,1))\n",
    "\n",
    "            mu = 0\n",
    "\n",
    "        normx = np.sqrt(np.var(self.x, axis=1, ddof=1))\n",
    "\n",
    "        Psi = cvec(np.mean(self.x**2, axis=0))\n",
    "\n",
    "        ind = np.zeros(shape=(self.p,1)).astype(bool)\n",
    "\n",
    "        XX = self.x.T @ self.x\n",
    "\n",
    "        Xy = self.x.T @ self.y\n",
    "\n",
    "        startingval = init_values(self.x, self.y)['residuals']\n",
    "\n",
    "        pen = lambdaCalculation(homoskedastic=self.homoskedastic,\n",
    "                                X_dependent_lambda=self.X_dependent_lambda,\n",
    "                                lambda_start=self.lambda_start, c=self.c,\n",
    "                                gamma=self.gamma, numSim=self.numSim,\n",
    "                                y=startingval, x=self.x, par=self.par,\n",
    "                                corecap=self.corecap, fix_seed=self.fix_seed)\n",
    "\n",
    "        lmbda = pen['lambda']\n",
    "        Ups0 = Ups1 = pen['Ups0']\n",
    "        lmbda0 = pen['lambda0']\n",
    "\n",
    "        mm = 1\n",
    "        s0 = np.sqrt(np.var(y, axis=0, ddof=1))\n",
    "\n",
    "        while mm <= self.numIter:\n",
    "            if (mm == 1) and self.post:\n",
    "                coefTemp = (\n",
    "                    LassoShooting_fit(self.x, self.y, lmbda/2, XX=XX,\n",
    "                                      Xy=Xy)['coefficients']\n",
    "                )\n",
    "            else:\n",
    "                coefTemp = (\n",
    "                    LassoShooting_fit(self.x, self.y, lmbda, XX=XX,\n",
    "                                      Xy=Xy)['coefficients']\n",
    "                )\n",
    "\n",
    "            coefTemp[np.isnan(coefTemp)] = 0\n",
    "\n",
    "            ind1 = (np.abs(coefTemp) > 0)\n",
    "\n",
    "            x1 = self.x[:, ind1[:,0]]\n",
    "\n",
    "            if x1.shape[1] == 0:\n",
    "                if self.intercept:\n",
    "                    intercept_value = np.mean(self.y + mu)\n",
    "\n",
    "                    coef = np.zeros(shape=(self.p+1,1))\n",
    "\n",
    "                    coef = (\n",
    "                        pd.DataFrame(coef,\n",
    "                                     index=['(Intercept)']+list(self.colnames))\n",
    "                    )\n",
    "                else:\n",
    "                    intercept_value = np.mean(self.y)\n",
    "\n",
    "                    coef = np.zeros(shape=(self.p,1))\n",
    "\n",
    "                    coef = pd.DataFrame(coef, index=self.colnames)\n",
    "\n",
    "                self.est = {\n",
    "                    'coefficients': coef,\n",
    "                    'beta': np.zeros(shape=(self.p,1)),\n",
    "                    'intercept': intercept_value,\n",
    "                    'index': pd.DataFrame(np.zeros(shape=(self.p,1)).astype(\n",
    "                        bool),\n",
    "                                          index=self.colnames),\n",
    "                    'lambda': lmbda,\n",
    "                    'lambda0': lmbda0,\n",
    "                    'loadings': Ups0,\n",
    "                    'residuals': self.y - np.mean(self.y),\n",
    "                    'sigma': np.var(self.y, axis=0, ddof=1),\n",
    "                    'iter': mm,\n",
    "                    #'call': Not a Python option\n",
    "                    'options': {'post': self.post, 'intercept': self.intercept,\n",
    "                                'ind.scale': ind, 'mu': mu, 'meanx': meanx}\n",
    "                }\n",
    "\n",
    "                if self.model:\n",
    "                    self.est['model'] = self.x\n",
    "                else:\n",
    "                    self.est['model'] = None\n",
    "\n",
    "                self.est['tss'] = self.est['rss'] = (\n",
    "                    ((self.y - np.mean(self.y))**2).sum()\n",
    "                )\n",
    "\n",
    "                self.est['dev']: self.y - np.mean(self.y)\n",
    "                # In R, return() breaks while loops\n",
    "                return\n",
    "\n",
    "            # Refinement variance estimation\n",
    "            if self.post:\n",
    "                reg = lm(fit_intercept=False).fit(x1, self.y)\n",
    "\n",
    "                coefT = reg.coef_.T\n",
    "\n",
    "                coefT[np.isnan(coefT)] = 0\n",
    "\n",
    "                e1 = self.y - x1 @ coefT\n",
    "\n",
    "                coefTemp[ind1[:,0]] = coefT\n",
    "            else:\n",
    "                e1 = self.y - x1@ coefTemp[ind1[:,0]]\n",
    "\n",
    "            s1 = np.sqrt(np.var(e1, ddof=1))\n",
    "\n",
    "            # Homoskedastic and X-independent\n",
    "            if (\n",
    "                    (self.homoskedastic == True)\n",
    "                    and (self.X_dependent_lambda == False)\n",
    "            ):\n",
    "                Ups1 = s1 * Psi\n",
    "\n",
    "                lmbda = pen['lambda0'] * Ups1\n",
    "\n",
    "            # Homoskedastic and X-dependent\n",
    "            elif (\n",
    "                    (self.homoskedastic == True)\n",
    "                    and (self.X_dependent_lambda == True)\n",
    "            ):\n",
    "                Ups1 = s1 * Psi\n",
    "\n",
    "                lmbda = pen['lambda0'] * Ups1\n",
    "\n",
    "            # Heteroskedastic and X-independent\n",
    "            elif (\n",
    "                    (self.homoskedastic == False)\n",
    "                    and (self.X_dependent_lambda == False)\n",
    "            ):\n",
    "                Ups1 = (\n",
    "                    (1/np.sqrt(self.n)) * np.sqrt((e1**2).T @ self.x**2).T\n",
    "                )\n",
    "\n",
    "                lmbda = pen['lambda0'] * Ups1\n",
    "\n",
    "            # Heteroskedastic and X-dependent\n",
    "            elif (\n",
    "                    (self.homoskedastic == False)\n",
    "                    and (self.X_dependent_lambda == True)\n",
    "            ):\n",
    "                lc = lambdaCalculation(homoskedastic=self.homoskedastic,\n",
    "                                       X_dependent_lambda=\n",
    "                                       self.X_dependent_lambda,\n",
    "                                       lambda_start=self.lambda_start,\n",
    "                                       c=self.c, gamma=self.gamma,\n",
    "                                       numSim=self.numSim, y=e1, x=self.x,\n",
    "                                       par=self.par, corecap=self.corecap,\n",
    "                                       fix_seed=self.fix_seed)\n",
    "\n",
    "                Ups1 = lc['Ups0']\n",
    "\n",
    "                lmbda = lc['lambda']\n",
    "\n",
    "            # If homoskedastic is set to None\n",
    "            elif self.homoskedastic is None:\n",
    "                Ups1 = (\n",
    "                    (1/np.sqrt(self.n)) * np.sqrt((e1**2).T @ self.x**2).T\n",
    "                )\n",
    "\n",
    "                lmbda = pen['lambda0'] * Ups1\n",
    "\n",
    "            mm = mm + 1\n",
    "\n",
    "            if np.abs(s0 - s1) < self.tol:\n",
    "                break\n",
    "\n",
    "            s0 = s1\n",
    "\n",
    "        if x1.shape[1] == 0:\n",
    "            #coefTemp = None\n",
    "            ind1 = np.zeros(shape=(self.p,1))\n",
    "\n",
    "        coefTemp = cvec(coefTemp)\n",
    "\n",
    "        coefTemp[np.abs(coefTemp) < self.threshold] = 0\n",
    "\n",
    "        coefTemp = pd.DataFrame(coefTemp, index=self.colnames)\n",
    "\n",
    "        ind1 = cvec(ind1)\n",
    "\n",
    "        ind1 = pd.DataFrame(ind1, index=self.colnames)\n",
    "\n",
    "        if self.intercept:\n",
    "            if mu is None:\n",
    "                mu = 0\n",
    "            if meanx is None:\n",
    "                meanx = np.zeros(shape=(coefTemp.shape[0],1))\n",
    "            if ind.sum() == 0:\n",
    "                intercept_value = mu - (meanx * coefTemp).sum()\n",
    "            else:\n",
    "                intercept_value = mu - (meanx * coefTemp).sum()\n",
    "        else:\n",
    "            intercept_value = np.nan\n",
    "\n",
    "        if self.intercept:\n",
    "            beta = (\n",
    "                np.concatenate([cvec(intercept_value), coefTemp.values], axis=0)\n",
    "            )\n",
    "\n",
    "            beta = pd.DataFrame(beta, index=['(Intercept)']+list(self.colnames))\n",
    "        else:\n",
    "            beta = coefTemp\n",
    "\n",
    "        s1 = np.sqrt(np.var(e1, ddof=1))\n",
    "\n",
    "        self.est = {\n",
    "            'coefficients': beta,\n",
    "            'beta': pd.DataFrame(coefTemp, index=self.colnames),\n",
    "            'intercept': intercept_value,\n",
    "            'index': ind1,\n",
    "            'lambda': pd.DataFrame(lmbda, index=self.colnames),\n",
    "            'lambda0': lmbda0,\n",
    "            'loadings': Ups1,\n",
    "            'residuals': cvec(e1),\n",
    "            'sigma': s1,\n",
    "            'iter': mm,\n",
    "            #'call': Not a Python option\n",
    "            'options': {'post': self.post, 'intercept': self.intercept,\n",
    "                        'ind.scale': ind, 'mu': mu, 'meanx': meanx},\n",
    "            'model': model\n",
    "        }\n",
    "\n",
    "        if model:\n",
    "            self.x = self.x + np.ones(shape=(self.n,1)) @ meanx.T\n",
    "\n",
    "            self.est['model'] = self.x\n",
    "        else:\n",
    "            self.est['model'] = None\n",
    "\n",
    "        self.est['tss'] = ((self.y - np.mean(self.y))**2).sum()\n",
    "        self.est['rss'] = (self.est['residuals']**2).sum()\n",
    "        self.est['dev'] = self.y - np.mean(self.y)"
   ]
  },
  {
   "cell_type": "code",
   "execution_count": null,
   "id": "569823e1",
   "metadata": {},
   "outputs": [],
   "source": []
  }
 ],
 "metadata": {
  "kernelspec": {
   "display_name": "Python 3 (ipykernel)",
   "language": "python",
   "name": "python3"
  },
  "language_info": {
   "codemirror_mode": {
    "name": "ipython",
    "version": 3
   },
   "file_extension": ".py",
   "mimetype": "text/x-python",
   "name": "python",
   "nbconvert_exporter": "python",
   "pygments_lexer": "ipython3",
   "version": "3.9.7"
  }
 },
 "nbformat": 4,
 "nbformat_minor": 5
}
