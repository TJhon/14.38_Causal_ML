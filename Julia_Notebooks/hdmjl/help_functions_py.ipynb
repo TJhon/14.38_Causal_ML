{
 "cells": [
  {
   "cell_type": "code",
   "execution_count": 13,
   "id": "7d535b7f",
   "metadata": {},
   "outputs": [],
   "source": [
    "################################################################################\n",
    "### Python port of help_functions.R\n",
    "### https://github.com/cran/hdm/blob/master/R/help_functions.R\n",
    "################################################################################\n",
    "\n",
    "################################################################################\n",
    "### 1: Load modules\n",
    "################################################################################\n",
    "\n",
    "# Standard Python modules\n",
    "import numpy as np\n",
    "from sklearn.linear_model import LinearRegression as lm\n",
    "\n",
    "################################################################################\n",
    "### 2: Define functions\n",
    "################################################################################\n",
    "\n",
    "################################################################################\n",
    "### 2.1: Functions which are not in the original R package\n",
    "###      These are generally helper functions to allow an implementation which\n",
    "###      reads as closely to the original R code as possible, and to ease a\n",
    "###      Python implementation\n",
    "################################################################################\n",
    "\n",
    "\n",
    "# Define a function which turn a list or vector-like object into a proper two\n",
    "# dimensional column vector\n",
    "def cvec(a):\n",
    "    \"\"\" Turn a list or vector-like object into a proper column vector\n",
    "    Input\n",
    "    a: List or vector-like object, has to be a potential input for np.array()\n",
    "    Output\n",
    "    vec: two dimensional NumPy array, with the first dimension weakly greater\n",
    "         than the second (resulting in a column vector for a vector-like input)\n",
    "    \"\"\"\n",
    "    # Conver input into a two dimensional NumPy array\n",
    "    vec = np.array(a, ndmin=2)\n",
    "\n",
    "    # Check whether the second dimension is strictly greater than the first\n",
    "    # (remembering Python's zero indexing)\n",
    "    if vec.shape[0] < vec.shape[1]:\n",
    "        # If so, transpose the input vector\n",
    "        vec = vec.T\n",
    "\n",
    "    # Return the column vector\n",
    "    return vec\n",
    "\n",
    "\n",
    "# Define a function to mimic R's cor() function, which can take two matrices and\n",
    "# return the correlation coefficients between the columns of the first and the\n",
    "# columns of the second matrix\n",
    "def cor(y, X):\n",
    "    \"\"\" Return correlation coefficients between columns of matrices\n",
    "    Inputs\n",
    "    y: n by 1 NumPy array\n",
    "    X: n by k NumPy array\n",
    "    Outputs\n",
    "    corr: list of length k, where the k-th element is the correlation\n",
    "          coefficient between y and the k-th column of X\n",
    "    \"\"\"\n",
    "    # Concatenate y and X into a single NumPy array\n",
    "    yX = np.concatenate([y, X], axis=1)\n",
    "\n",
    "    # Get the correlation coefficients between all columns of that array\n",
    "    corr = np.corrcoef(yX, rowvar=False)\n",
    "\n",
    "    # Get the first row, starting at the first off-diagonal element (these are\n",
    "    # the correlation coefficients between y and each column of X\n",
    "    corr = corr[0,1:]\n",
    "\n",
    "    # Return the result\n",
    "    return corr"
   ]
  },
  {
   "cell_type": "code",
   "execution_count": 14,
   "id": "01a98c9a",
   "metadata": {},
   "outputs": [],
   "source": [
    "################################################################################\n",
    "### 2.2: Functions which are in the original R package\n",
    "################################################################################\n",
    "\n",
    "\n",
    "# Define a function which returns initial parameter guesses\n",
    "def init_values(X, y, number=5, intercept=True):\n",
    "    \"\"\" Return an initial parameter guess for a LASSO model\n",
    "    Inputs\n",
    "    y: n by 1 NumPy array, outcome variable\n",
    "    X: n by k NumPy array, RHS variables\n",
    "    Outputs\n",
    "    residuals: n ny 1 NumPy array, residuals for initial parameter guess\n",
    "    coefficients: k by 1 NumPy array, initial coefficient values\n",
    "    \"\"\"\n",
    "    # Make sure y is a proper column vector\n",
    "    y = cvec(y)\n",
    "\n",
    "    # Get the absolute value of correlations between y and X\n",
    "    corr = np.abs(cor(y, X))\n",
    "\n",
    "    # Get the number of columns of X\n",
    "    kx = X.shape[1]\n",
    "\n",
    "    # Make an index selecting the five columns of X which are most correlated\n",
    "    # with y (since .argsort() always sorts in increasing order, selecting from\n",
    "    # the back gets the most highly correlated columns)\n",
    "    index = corr.argsort()[-np.amin([number, kx]):]\n",
    "\n",
    "    # Set up an array of coefficient guesses\n",
    "    coefficients = np.zeros(shape=(kx, 1))\n",
    "\n",
    "    # Regress y on the five most correlated columns of X, including an intercept\n",
    "    # if desired\n",
    "    reg = lm(fit_intercept=intercept).fit(X[:, index], y)\n",
    "\n",
    "    # Replace the guesses for the estimated coefficients (note that .coef_ does\n",
    "    # not return the estimated intercept, if one was included in the model)\n",
    "    coefficients[index, :] = reg.coef_.T\n",
    "\n",
    "    # Replace any NANs as zeros\n",
    "    coefficients[np.isnan(coefficients)] = 0\n",
    "\n",
    "    # Get the regression residuals\n",
    "    residuals = y - reg.predict(X[:, index])\n",
    "\n",
    "    # Return the residuals and coefficients\n",
    "    return {'residuals': residuals, 'coefficients': coefficients}"
   ]
  },
  {
   "cell_type": "code",
   "execution_count": 41,
   "id": "aa25d9d9",
   "metadata": {},
   "outputs": [],
   "source": [
    "X = np.array([1, 2, 3, 4]).reshape(4,1)\n",
    "y = np.array( [[1, 2, 5, 6], [1, 4, 8, 6]]).reshape(4,2)\n",
    "#a3D = np.array([[[1, 2], [3, 4]], [[5, 6], [7, 8]]])"
   ]
  },
  {
   "cell_type": "code",
   "execution_count": 42,
   "id": "89a14549",
   "metadata": {},
   "outputs": [
    {
     "data": {
      "text/plain": [
       "(4, 2)"
      ]
     },
     "execution_count": 42,
     "metadata": {},
     "output_type": "execute_result"
    }
   ],
   "source": [
    "y.shape"
   ]
  },
  {
   "cell_type": "code",
   "execution_count": 43,
   "id": "fe242aa7",
   "metadata": {},
   "outputs": [
    {
     "data": {
      "text/plain": [
       "array([0.84393733, 0.64484676])"
      ]
     },
     "execution_count": 43,
     "metadata": {},
     "output_type": "execute_result"
    }
   ],
   "source": [
    "cor(y, X)"
   ]
  },
  {
   "cell_type": "code",
   "execution_count": 49,
   "id": "f85d09c5",
   "metadata": {},
   "outputs": [
    {
     "data": {
      "text/plain": [
       "array([0], dtype=int64)"
      ]
     },
     "execution_count": 49,
     "metadata": {},
     "output_type": "execute_result"
    }
   ],
   "source": [
    "corr = np.abs(cor(y, X))\n",
    "kx = X.shape[1]\n",
    "index = corr.argsort()[-np.amin([5, kx]):]\n",
    "index"
   ]
  },
  {
   "cell_type": "code",
   "execution_count": 53,
   "id": "19093397",
   "metadata": {},
   "outputs": [
    {
     "data": {
      "text/plain": [
       "array([0.84393733, 0.64484676])"
      ]
     },
     "execution_count": 53,
     "metadata": {},
     "output_type": "execute_result"
    }
   ],
   "source": [
    "corr"
   ]
  },
  {
   "cell_type": "code",
   "execution_count": 50,
   "id": "88019f63",
   "metadata": {},
   "outputs": [
    {
     "data": {
      "text/plain": [
       "array([1, 0], dtype=int64)"
      ]
     },
     "execution_count": 50,
     "metadata": {},
     "output_type": "execute_result"
    }
   ],
   "source": [
    "corr.argsort()"
   ]
  },
  {
   "cell_type": "code",
   "execution_count": 52,
   "id": "db9e2dc1",
   "metadata": {},
   "outputs": [
    {
     "data": {
      "text/plain": [
       "array([1, 0], dtype=int64)"
      ]
     },
     "execution_count": 52,
     "metadata": {},
     "output_type": "execute_result"
    }
   ],
   "source": [
    "corr.argsort()"
   ]
  },
  {
   "cell_type": "code",
   "execution_count": null,
   "id": "de36800c",
   "metadata": {},
   "outputs": [],
   "source": []
  }
 ],
 "metadata": {
  "kernelspec": {
   "display_name": "Python 3 (ipykernel)",
   "language": "python",
   "name": "python3"
  },
  "language_info": {
   "codemirror_mode": {
    "name": "ipython",
    "version": 3
   },
   "file_extension": ".py",
   "mimetype": "text/x-python",
   "name": "python",
   "nbconvert_exporter": "python",
   "pygments_lexer": "ipython3",
   "version": "3.9.7"
  }
 },
 "nbformat": 4,
 "nbformat_minor": 5
}
