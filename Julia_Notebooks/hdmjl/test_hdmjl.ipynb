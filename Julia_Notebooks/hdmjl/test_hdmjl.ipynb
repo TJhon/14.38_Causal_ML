{
 "cells": [
  {
   "cell_type": "code",
   "execution_count": 1,
   "id": "92162901",
   "metadata": {},
   "outputs": [],
   "source": [
    "# Import relevant packages for splitting data\n",
    "using LinearAlgebra, GLM, DataFrames, Statistics, Random, Distributions, Tables, TableOperations, StatsBase, FreqTables, DataFrames"
   ]
  },
  {
   "cell_type": "code",
   "execution_count": 2,
   "id": "8bf7bd44",
   "metadata": {},
   "outputs": [
    {
     "data": {
      "text/plain": [
       "cvec (generic function with 1 method)"
      ]
     },
     "execution_count": 2,
     "metadata": {},
     "output_type": "execute_result"
    }
   ],
   "source": [
    "# Define a function which turn a list or vector-like object into a proper two\n",
    "# dimensional column vector\n",
    "\n",
    "function cvec(a)\n",
    "    \"\"\" Turn a list or vector-like object into a proper column vector\n",
    "    Input\n",
    "    a: List or vector-like object, has to be a potential input for np.array()\n",
    "    Output\n",
    "    vec: two dimensional NumPy array, with the first dimension weakly greater\n",
    "         than the second (resulting in a column vector for a vector-like input)\n",
    "    \"\"\"\n",
    "    \n",
    "    # Conver input into a two dimensional NumPy array\n",
    "    vec = cat([a], dims = 2) \n",
    "\n",
    "    # Check whether the second dimension is strictly greater than the first\n",
    "    # (remembering Python's zero indexing)\n",
    "    \n",
    "    if size(vec)[1] < size(vec)[2]\n",
    "        # If so, transpose the input vector\n",
    "        vec = transpose(vec)\n",
    "    end\n",
    "   \n",
    "    # Return the column vector\n",
    "    return vec\n",
    "\n",
    "end\n",
    "    "
   ]
  },
  {
   "cell_type": "code",
   "execution_count": 3,
   "id": "cd830368",
   "metadata": {},
   "outputs": [
    {
     "data": {
      "text/plain": [
       "corre (generic function with 1 method)"
      ]
     },
     "execution_count": 3,
     "metadata": {},
     "output_type": "execute_result"
    }
   ],
   "source": [
    "import Statistics.cor\n",
    "function corre(y, X)\n",
    "    \n",
    "    \"\"\" Return correlation coefficients between columns of matrices\n",
    "    Inputs\n",
    "    y: n by 1 NumPy array\n",
    "    X: n by k NumPy array\n",
    "    Outputs\n",
    "    corr: list of length k, where the k-th element is the correlation\n",
    "          coefficient between y and the k-th column of X\n",
    "    \"\"\"\n",
    "    # Concatenate y and X into a single NumPy array\n",
    "    yX = hcat(y, X)\n",
    "    \n",
    "    # Get the correlation coefficients between all columns of that array\n",
    "    corr = cor(yX)\n",
    "    \n",
    "    # Get the first row, starting at the first off-diagonal element (these are\n",
    "    # the correlation coefficients between y and each column of X\n",
    "    corr = corr[1, :] \n",
    "    \n",
    "    # Return the result\n",
    "    return corr\n",
    "\n",
    "end"
   ]
  },
  {
   "cell_type": "code",
   "execution_count": 4,
   "id": "cb4657a2",
   "metadata": {},
   "outputs": [
    {
     "data": {
      "text/plain": [
       "init_values (generic function with 3 methods)"
      ]
     },
     "execution_count": 4,
     "metadata": {},
     "output_type": "execute_result"
    }
   ],
   "source": [
    "function init_values(X, y, number::Int64=5, intercetp::Bool=true)\n",
    "    \"\"\" Return an initial parameter guess for a LASSO model\n",
    "    Inputs\n",
    "    y: n by 1 NumPy array, outcome variable\n",
    "    X: n by k NumPy array, RHS variables\n",
    "    Outputs\n",
    "    residuals: n ny 1 NumPy array, residuals for initial parameter guess\n",
    "    coefficients: k by 1 NumPy array, initial coefficient values\n",
    "    \"\"\"\n",
    "    # Make sure y is a proper column vector\n",
    "    #y = cvec(y)\n",
    "    \n",
    "    # Get the absolute value of correlations between y and X\n",
    "    corr = broadcast(abs, cor(y, X)[1, :])\n",
    "    \n",
    "    # Get the number of columns of X\n",
    "    kx = size(X)[2]\n",
    "    \n",
    "    # Make an index selecting the five columns of X which are most correlated\n",
    "    # with y (since .argsort() always sorts in increasing order, selecting from\n",
    "    # the back gets the most highly correlated columns)\n",
    "    index = sortperm(corr, rev=true)[1: min(number, kx)]\n",
    "    \n",
    "    # Set up an array of coefficient guesses\n",
    "    coefficients = zeros(kx)\n",
    "    \n",
    "    # Regress y on the five most correlated columns of X, including an intercept\n",
    "    # if desired\n",
    "   reg = lm(X[:, index], y)\n",
    "    \n",
    "    # Replace the guesses for the estimated coefficients (note that .coef_ does\n",
    "    # not return the estimated intercept, if one was included in the model)\n",
    "    \n",
    "    coefficients[index] = GLM.coef(reg)\n",
    "    \n",
    "    # Replace any NANs as zeros\n",
    "    replace!(coefficients, NaN=>0)\n",
    "    \n",
    "    # Get the regression residuals\n",
    "    residuals = y - predict(reg, X[:, index])\n",
    "    \n",
    "    return residuals, reg, index, coefficients, corr\n",
    "    return index\n",
    "    \n",
    "end\n"
   ]
  },
  {
   "cell_type": "code",
   "execution_count": 5,
   "id": "66b7e664",
   "metadata": {},
   "outputs": [],
   "source": [
    "# function LassoShooting_fit( x, y, lmbda, maxIter::Int = 1000, optTol::Float64 = 10^(-5), zeroThreshold::Float64 = 10^(-6),\n",
    "#                             XX = nothing, Xy = nothing, beta_start = nothing)"
   ]
  },
  {
   "cell_type": "code",
   "execution_count": 6,
   "id": "70384342",
   "metadata": {},
   "outputs": [
    {
     "data": {
      "text/plain": [
       "LassoShooting_fit (generic function with 7 methods)"
      ]
     },
     "execution_count": 6,
     "metadata": {},
     "output_type": "execute_result"
    }
   ],
   "source": [
    "# function LassoShooting_fit( x, y, lmbda, control::control, \n",
    "#                             XX = nothing, Xy = nothing, beta_start = nothing)\n",
    "\n",
    "function LassoShooting_fit( x, y, lmbda, maxIter::Int = 1000, optTol::Float64 = 10^(-5), zeroThreshold::Float64 = 10^(-6),\n",
    "                            XX = nothing, Xy = nothing, beta_start = nothing)\n",
    "        \n",
    "     \"\"\" Shooting LASSO algorithm with variable dependent penalty weights\n",
    "    Inputs\n",
    "    x: n by p NumPy array, RHS variables\n",
    "    y: n by 1 NumPy array, outcome variable\n",
    "    lmbda: p by 1 NumPy array, variable dependent penalty terms. The j-th\n",
    "           element is the penalty term for the j-th RHS variable.\n",
    "    maxIter: integer, maximum number of shooting LASSO updated\n",
    "    optTol: scalar, algorithm terminated once the sum of absolute differences\n",
    "            between the updated and current weights is below optTol\n",
    "    zeroThreshold: scalar, if any final weights are below zeroThreshold, they\n",
    "                   will be set to zero instead\n",
    "    XX: k by k NumPy array, pre-calculated version of x'x\n",
    "    Xy: k by 1 NumPy array, pre-calculated version of x'y\n",
    "    beta_start: k by 1 NumPy array, initial weights\n",
    "    Outputs\n",
    "    w: k by 1 NumPy array, final weights\n",
    "    wp: k by m + 1 NumPy array, where m is the number of iterations the\n",
    "        algorithm took. History of weight updates, starting with the initial\n",
    "        weights.\n",
    "    m: integer, number of iterations the algorithm took\n",
    "    \"\"\"\n",
    "    n = size(x)[1]\n",
    "    p = size(x)[2]\n",
    "    \n",
    "    # Check whether XX and Xy were provided, calculate them if not\n",
    "    if (isnothing(XX))\n",
    "        XX = x'*x\n",
    "    end\n",
    "\n",
    "    if (isnothing(Xy))\n",
    "        Xy = x'*y\n",
    "    end\n",
    "\n",
    "    # Check whether an initial value for the intercept was provided\n",
    "\n",
    "    if (isnothing(beta_start))\n",
    "        # If not, use init_values from help_functions, which will return\n",
    "        # regression estimates for the five variables in x which are most\n",
    "        # correlated with y, and initialize all other coefficients as zero\n",
    "        beta = init_values(x, y)[4]\n",
    "\n",
    "    else\n",
    "        # Otherwise, use the provided initial weights\n",
    "        beta = beta_start\n",
    "    end\n",
    "\n",
    "    # Set up a history of weights over time, starting with the initial ones\n",
    "    wp = beta\n",
    "\n",
    "    # Keep track of the number of iterations\n",
    "    m = 1\n",
    "\n",
    "    # Create versions of XX and Xy which are just those matrices times two\n",
    "    XX2 = XX * 2\n",
    "    Xy2 = Xy * 2\n",
    "\n",
    "    #@unpack maxIter, optTol, zeroThreshold = control()\n",
    "\n",
    "    # Go through all iteration\n",
    "    while m<maxIter\n",
    "\n",
    "        # Save the last set of weights (the .copy() is important, otherwise\n",
    "        # beta_old will be updated every time beta is changed during the\n",
    "        # following loop)\n",
    "        beta_old = copy(beta)\n",
    "\n",
    "        # Go through all parameters\n",
    "        for j in 1:p\n",
    "            \n",
    "            # Calculate the shoot\n",
    "            S0 = sum( XX2[j, :].*beta ) - XX2[j, j].*beta[j] - Xy2[j]\n",
    "\n",
    "            # Update the weights\n",
    "            if sum(isnothing(XX)) >= 1\n",
    "                beta[j] = 0\n",
    "\n",
    "            elseif S0 >lmbda[j]\n",
    "                beta[j] = (lmbda[j] - S0) / XX2[j,j]\n",
    "\n",
    "            elseif S0 < -lmbda[j]\n",
    "                beta[j] = (-lmbda[j] - S0) / XX2[j,j]\n",
    "\n",
    "            elseif broadcast(abs, S0) <= lmbda[j]\n",
    "                beta[j] = 0\n",
    "\n",
    "            end\n",
    "        end\n",
    "\n",
    "        # Add the updated weights to the history of weights\n",
    "        wp = hcat(wp, beta)\n",
    "\n",
    "        # Check whether the weights are within tolerance\n",
    "        if sum(broadcast(abs, beta - beta_old)) < optTol\n",
    "            # If so, break the while loop\n",
    "            break\n",
    "        end\n",
    "\n",
    "        # Increase the iteration counter\n",
    "        m = m + 1\n",
    "    end\n",
    "\n",
    "    # Set the final weights to the last updated weights\n",
    "    w = beta   \n",
    "\n",
    "    # Set weights which are within zeroThreshold to zero\n",
    "    w[broadcast(abs, w) .< zeroThreshold] .= 0\n",
    "    \n",
    "    #return beta,  w\n",
    "    return Dict(\"coefficients\" => w, \"coef_list\" => wp, \"num_it\" => m)\n",
    "    return w, wp, m\n",
    "    #return XX2, Xy2\n",
    "    \n",
    "\n",
    "end\n",
    "        "
   ]
  },
  {
   "cell_type": "markdown",
   "id": "4beccfb0",
   "metadata": {},
   "source": [
    "# Test 1 "
   ]
  },
  {
   "cell_type": "code",
   "execution_count": 7,
   "id": "0db3cacc",
   "metadata": {},
   "outputs": [
    {
     "data": {
      "text/plain": [
       "10-element Vector{Float64}:\n",
       " -0.2568680898870918\n",
       "  0.27995341717389755\n",
       "  0.5841303002261958\n",
       "  0.12104219332168611\n",
       " -0.24617948897107803\n",
       " -0.9064860212129372\n",
       " -1.0382922158735532\n",
       " -0.7820541793330622\n",
       "  1.4371870265428164\n",
       " -1.330092605439802"
      ]
     },
     "execution_count": 7,
     "metadata": {},
     "output_type": "execute_result"
    }
   ],
   "source": [
    "# We have to make sure that both variables are the same type (Integers or floats) to avoid errors when running the regression\n",
    "n = 10\n",
    "p = Int(n/2)\n",
    "\n",
    "X = randn(n, p)\n",
    "beta = randn(p)\n",
    "lmbda = randn(p)\n",
    "Y = randn(n)"
   ]
  },
  {
   "cell_type": "code",
   "execution_count": 8,
   "id": "f6312f6b",
   "metadata": {},
   "outputs": [
    {
     "data": {
      "text/plain": [
       "10-element Vector{Float64}:\n",
       " -0.2568680898870918\n",
       "  0.27995341717389755\n",
       "  0.5841303002261958\n",
       "  0.12104219332168611\n",
       " -0.24617948897107803\n",
       " -0.9064860212129372\n",
       " -1.0382922158735532\n",
       " -0.7820541793330622\n",
       "  1.4371870265428164\n",
       " -1.330092605439802"
      ]
     },
     "execution_count": 8,
     "metadata": {},
     "output_type": "execute_result"
    }
   ],
   "source": [
    "Y"
   ]
  },
  {
   "cell_type": "code",
   "execution_count": 9,
   "id": "d75d93e7",
   "metadata": {},
   "outputs": [
    {
     "data": {
      "text/plain": [
       "LinearModel{GLM.LmResp{Vector{Float64}}, GLM.DensePredChol{Float64, CholeskyPivoted{Float64, Matrix{Float64}}}}:\n",
       "\n",
       "Coefficients:\n",
       "─────────────────────────────────────────────────────────────────\n",
       "         Coef.  Std. Error      t  Pr(>|t|)  Lower 95%  Upper 95%\n",
       "─────────────────────────────────────────────────────────────────\n",
       "x1  -0.340826     0.199567  -1.71    0.1484  -0.853829   0.172177\n",
       "x2   0.0278204    0.385424   0.07    0.9453  -0.962944   1.01858\n",
       "x3   0.149146     0.337878   0.44    0.6773  -0.719397   1.01769\n",
       "x4   0.283065     0.283483   1.00    0.3639  -0.445653   1.01178\n",
       "x5   0.32713      0.264828   1.24    0.2716  -0.353631   1.00789\n",
       "─────────────────────────────────────────────────────────────────\n"
      ]
     },
     "execution_count": 9,
     "metadata": {},
     "output_type": "execute_result"
    }
   ],
   "source": [
    "lm(X, Y)"
   ]
  },
  {
   "cell_type": "code",
   "execution_count": 10,
   "id": "622d7573",
   "metadata": {},
   "outputs": [
    {
     "data": {
      "text/plain": [
       "([-0.13399061240200094, 0.7351124116919241, 0.9079991999088363, 0.11287806607115711, 0.11788449416064653, 0.2265934992376083, -0.12817677633495028, -0.46934818556002667, 0.879496174638273, -0.1309568822832714], LinearModel{GLM.LmResp{Vector{Float64}}, GLM.DensePredChol{Float64, CholeskyPivoted{Float64, Matrix{Float64}}}}:\n",
       "\n",
       "Coefficients:\n",
       "─────────────────────────────────────────────────────────────────\n",
       "         Coef.  Std. Error      t  Pr(>|t|)  Lower 95%  Upper 95%\n",
       "─────────────────────────────────────────────────────────────────\n",
       "x1   0.32713      0.264828   1.24    0.2716  -0.353631   1.00789\n",
       "x2  -0.340826     0.199567  -1.71    0.1484  -0.853829   0.172177\n",
       "x3   0.0278204    0.385424   0.07    0.9453  -0.962944   1.01858\n",
       "x4   0.283065     0.283483   1.00    0.3639  -0.445653   1.01178\n",
       "x5   0.149146     0.337878   0.44    0.6773  -0.719397   1.01769\n",
       "─────────────────────────────────────────────────────────────────\n",
       ", [5, 1, 2, 4, 3], [-0.3408259898803487, 0.02782043029355669, 0.14914631355729696, 0.28306461251951665, 0.32713044133782465], [0.4971349650857146, 0.38590097239878435, 0.038964334815206184, 0.37171154525347394, 0.5016345104480944])"
      ]
     },
     "execution_count": 10,
     "metadata": {},
     "output_type": "execute_result"
    }
   ],
   "source": [
    "init_values(X, Y)\n",
    "#"
   ]
  },
  {
   "cell_type": "code",
   "execution_count": 11,
   "id": "b61ed30f",
   "metadata": {},
   "outputs": [
    {
     "data": {
      "text/plain": [
       "Dict{String, Any} with 3 entries:\n",
       "  \"coef_list\"    => [-0.361246 -0.361246 … -0.35562 -0.35562; -0.056243 -0.0562…\n",
       "  \"num_it\"       => 19\n",
       "  \"coefficients\" => [-0.35562, -0.211748, 0.065043, 0.242178, 0.17185]"
      ]
     },
     "execution_count": 11,
     "metadata": {},
     "output_type": "execute_result"
    }
   ],
   "source": [
    "LassoShooting_fit(X, Y, lmbda)"
   ]
  },
  {
   "cell_type": "markdown",
   "id": "28a7993d",
   "metadata": {},
   "source": [
    "# Test 2"
   ]
  },
  {
   "cell_type": "code",
   "execution_count": 12,
   "id": "e6b8db28",
   "metadata": {},
   "outputs": [],
   "source": [
    "using RData, LinearAlgebra, GLM, DataFrames, Statistics, Random, Distributions, DataStructures, NamedArrays, PrettyTables"
   ]
  },
  {
   "cell_type": "code",
   "execution_count": 13,
   "id": "50e79d20",
   "metadata": {},
   "outputs": [
    {
     "data": {
      "text/plain": [
       "LinearModel{GLM.LmResp{Vector{Float64}}, GLM.DensePredChol{Float64, CholeskyPivoted{Float64, Matrix{Float64}}}}:\n",
       "\n",
       "Coefficients:\n",
       "──────────────────────────────────────────────────────────────────────\n",
       "          Coef.  Std. Error      t  Pr(>|t|)    Lower 95%    Upper 95%\n",
       "──────────────────────────────────────────────────────────────────────\n",
       "x1   0.00289408  0.00239153   1.21    0.2295  -0.00186013   0.00764829\n",
       "x2  -0.0572642   0.023258    -2.46    0.0158  -0.1035      -0.0110289\n",
       "x3   0.132428    0.0744655    1.78    0.0789  -0.015604     0.280461\n",
       "x4   0.0845833   0.246612     0.34    0.7324  -0.405665     0.574832\n",
       "──────────────────────────────────────────────────────────────────────\n"
      ]
     },
     "execution_count": 13,
     "metadata": {},
     "output_type": "execute_result"
    }
   ],
   "source": [
    "# Importing .Rdata file\n",
    "growth_read = load(\"../../data/GrowthData.RData\")\n",
    "\n",
    "# Since growth_read is a dictionary, we check if there is a key called \"GrowthData\", the one we need for our analyze\n",
    "haskey(growth_read, \"GrowthData\")\n",
    "# Now we save that dataframe with a new name\n",
    "growth = growth_read[\"GrowthData\"]\n",
    "names(growth)\n",
    "\n",
    "Y = growth[!, \"Outcome\"]\n",
    "X_2 = select(growth, Not([\"Outcome\"]))\n",
    "X_2 = convert(Matrix, Matrix(X_2[:, 2:5]))\n",
    "lmbda = randn(size(X_2)[2])\n",
    "lm(X_2, Y)"
   ]
  },
  {
   "cell_type": "code",
   "execution_count": 14,
   "id": "a1414bb3",
   "metadata": {},
   "outputs": [
    {
     "data": {
      "text/plain": [
       "4-element Vector{Float64}:\n",
       " -0.004679457919545483\n",
       " -0.1293718715001274\n",
       "  0.557765308642275\n",
       " -0.8442619960488519"
      ]
     },
     "execution_count": 14,
     "metadata": {},
     "output_type": "execute_result"
    }
   ],
   "source": [
    "LassoShooting_fit(X_2, Y, lmbda)[\"coefficients\"]"
   ]
  },
  {
   "cell_type": "markdown",
   "id": "e017ea17",
   "metadata": {},
   "source": [
    "# Test 3"
   ]
  },
  {
   "cell_type": "code",
   "execution_count": 15,
   "id": "f4e02fac",
   "metadata": {},
   "outputs": [],
   "source": [
    "# using Pkg\n",
    "# Pkg.add(\"CSV\")\n",
    "# Pkg.add(\"DataFrames\")\n",
    "# Pkg.add(\"Dates\")\n",
    "# Pkg.add(\"Plots\")\n",
    "using CSV\n",
    "using DataFrames\n",
    "using Dates\n",
    "#using Plots"
   ]
  },
  {
   "cell_type": "code",
   "execution_count": 16,
   "id": "fae15314",
   "metadata": {},
   "outputs": [
    {
     "name": "stdout",
     "output_type": "stream",
     "text": [
      "Number of Rows : 5150\n",
      "Number of Columns : 21\n"
     ]
    },
    {
     "data": {
      "text/plain": [
       "5-element Vector{Float64}:\n",
       " 0.1\n",
       " 0.2\n",
       " 0.3\n",
       " 0.4\n",
       " 0.5"
      ]
     },
     "execution_count": 16,
     "metadata": {},
     "output_type": "execute_result"
    }
   ],
   "source": [
    "#Reading the CSV file into a DataFrame\n",
    "#We have to set the category type for some variable\n",
    "data = CSV.File(\"../../data/wage2015_subsample_inference.csv\"; types = Dict(\"occ\" => String,\"occ2\"=> String,\"ind\"=>String,\"ind2\"=>String)) |> DataFrame\n",
    "println(\"Number of Rows : \", size(data)[1],\"\\n\",\"Number of Columns : \", size(data)[2],) #rows\n",
    "[eltype(col) for col = eachcol(data)]\n",
    "n = size(data)[1]\n",
    "z = select(data, Not([:rownames, :lwage, :wage]))\n",
    "p = size(z)[2]\n",
    "# remember y has to be a vector\n",
    "y = data[!, \"lwage\"]\n",
    "\n",
    "X_3 = convert(Matrix, Matrix(z[:, 1:5]))\n",
    "Y_3 = y\n",
    "lambda_3 = [0.1, 0.2, 0.3, 0.4, 0.5]\n",
    "#lmbda = randn(size(X_3)[2])"
   ]
  },
  {
   "cell_type": "code",
   "execution_count": 17,
   "id": "649377b3",
   "metadata": {},
   "outputs": [
    {
     "data": {
      "text/plain": [
       "5-element Vector{Float64}:\n",
       " 0.8225235638719542\n",
       " 2.4302250366825917\n",
       " 2.455801713293631\n",
       " 2.473843233955627\n",
       " 2.7338192867069036"
      ]
     },
     "execution_count": 17,
     "metadata": {},
     "output_type": "execute_result"
    }
   ],
   "source": [
    "LassoShooting_fit(X_3, Y_3, lambda_3)[\"coefficients\"]"
   ]
  },
  {
   "cell_type": "markdown",
   "id": "3a2a86bf",
   "metadata": {},
   "source": [
    "# lambdaCalculation "
   ]
  },
  {
   "cell_type": "code",
   "execution_count": 18,
   "id": "b90829a4",
   "metadata": {},
   "outputs": [
    {
     "data": {
      "text/plain": [
       "lambdaCalculation (generic function with 7 methods)"
      ]
     },
     "execution_count": 18,
     "metadata": {},
     "output_type": "execute_result"
    }
   ],
   "source": [
    "function lambdaCalculation( x, y, lmbda, maxIter::Int = 1000, optTol::Float64 = 10^(-5), zeroThreshold::Float64 = 10^(-6),\n",
    "                            XX = nothing, Xy = nothing, beta_start = nothing)\n",
    "\n",
    "end "
   ]
  },
  {
   "cell_type": "code",
   "execution_count": 19,
   "id": "4cfc4392",
   "metadata": {},
   "outputs": [
    {
     "data": {
      "text/plain": [
       "lambdaCalculation (generic function with 19 methods)"
      ]
     },
     "execution_count": 19,
     "metadata": {},
     "output_type": "execute_result"
    }
   ],
   "source": [
    "function lambdaCalculation(     homoskedastic::Bool=false, X_dependent_lambda::Bool=false,\n",
    "                                lambda_start=nothing, c::Float64=1.1, gamma::Float64=0.1, \n",
    "                                numSim::Int=5000, y=nothing, x=nothing, par::Bool=true, \n",
    "                                corecap::Float64=Inf, fix_seed::Bool=true)\n",
    "end"
   ]
  },
  {
   "cell_type": "code",
   "execution_count": 20,
   "id": "bf340765",
   "metadata": {},
   "outputs": [
    {
     "data": {
      "text/plain": [
       "lambdaCalculation (generic function with 19 methods)"
      ]
     },
     "execution_count": 20,
     "metadata": {},
     "output_type": "execute_result"
    }
   ],
   "source": [
    "function lambdaCalculation(     homoskedastic::Bool=false, X_dependent_lambda::Bool=false,\n",
    "                                lambda_start=nothing, c::Float64=1.1, gamma::Float64=0.1, \n",
    "                                numSim::Int=5000, y=nothing, x=nothing, par::Bool=true, \n",
    "                                corecap::Float64=Inf, fix_seed::Bool=true)\n",
    "    # Get number of observations n and number of variables p\n",
    "    n, p = size(X)\n",
    "\n",
    "    # Get number of simulations to use (if simulations are necessary)\n",
    "    R = numSim\n",
    "\n",
    "    # Go through all possible combinations of homoskedasticy/heteroskedasticity\n",
    "    # and X-dependent or independent error terms. The first two cases are\n",
    "    # special cases: Handling the case there homoskedastic was set to None, and\n",
    "    # where lambda_start was provided.\n",
    "    #\n",
    "\n",
    "    # 1) If homoskedastic was set to None (special case)\n",
    "    if (isnothing(homoskedastic))\n",
    "\n",
    "        # Initialize lambda\n",
    "            lmbda0 = lambda_start\n",
    "\n",
    "        Ups0 = (1 /sqrt(n)) * sqrt.((y.^2)'*(x.^2))\n",
    "\n",
    "        # Calculate the final vector of penalty terms\n",
    "            lmbda = lmbda0 * Ups0\n",
    "\n",
    "    # 2) If lambda_start was provided (special case)\n",
    "    elseif (isnothing(lambda_start)) == 0\n",
    "            # Check whether a homogeneous penalty term was provided (a scalar)\n",
    "            if maximum(size(lambda_start)) == 1\n",
    "                # If so, repeat that p times as the penalty term\n",
    "                lmbda = ones(p,1).*lambda_start\n",
    "\n",
    "            else\n",
    "                # Otherwise, use the provided vector of penalty terms as is\n",
    "                lmbda = lambda_start\n",
    "            end\n",
    "\n",
    "    # 3) Homoskedastic and X-independent\n",
    "    elseif homoskedastic == true &  X_dependent_lambda == false\n",
    "\n",
    "            # Initilaize lambda\n",
    "            lmbda0 = 2 * c * sqrt(n) * quantile(Normal(0.0, 1.0),1 - gamma/(2*p))\n",
    "\n",
    "            # Use ddof=1(corrected = true in Julia) to be consistent with R's var() function (in Julia by defaul the DDF is N-1)\n",
    "            Ups0 = sqrt(var(y, corrected = true))\n",
    "\n",
    "            # Calculate the final vector of penalty terms\n",
    "            lmbda = zeros(p,1) .+ lmbda0 * Ups0\n",
    "\n",
    "    # 4) Homoskedastic and X-dependent\n",
    "    elseif homoskedastic == true & X_dependent_lambda == true\n",
    "\n",
    "            psi = mean.(eachcol(x.^2))\n",
    "            tXtpsi = (x' ./ sqrt(psi))'\n",
    "\n",
    "            R = 5000\n",
    "            sim = zeros(R,1)\n",
    "\n",
    "            for l in 1:R\n",
    "                    g = reshape(repeat(randn(n), inner = p),(p, n))'\n",
    "                    sim[l] = n * maximum(2*abs.(mean.(eachcol(tXtpsi.* g))))\n",
    "            end\n",
    "\n",
    "            # Initialize lambda based on the simulated quantiles\n",
    "            lambda0 = c*quantile(vec(sim), 1 - gamma)\n",
    "\n",
    "            Ups0 = sqrt(var(y, corrected = true))\n",
    "\n",
    "            # Calculate the final vector of penalty terms\n",
    "            lmbda = zeros(p,1) .+ lmbda0 * Ups0\n",
    "\n",
    "    # 5) Heteroskedastic and X-independent\n",
    "    elseif homoskedastic == false &  X_dependent_lambda == false\n",
    "\n",
    "            # The original includes the comment, \"1=num endogenous variables\"\n",
    "            lmbda0 = 2 * c * sqrt(n) * quantile(Normal(0.0, 1.0),1 - gamma/(2*p*1))\n",
    "\n",
    "            Ups0 = (1 /sqrt(n)) * sqrt.((y.^2)'*(x.^2))\n",
    "            lmbda = lmbda0 * Ups0\n",
    "\n",
    "    # 6) Heteroskedastic and X-dependent\n",
    "    elseif homoskedastic == false &  X_dependent_lambda == true\n",
    "\n",
    "            eh = y\n",
    "            ehat = reshape(repeat(eh, inner = p),(p, n))'\n",
    "\n",
    "            xehat = x.*ehat\n",
    "            psi = mean.(eachcol(xehat.^2))'\n",
    "            tXehattpsi = (xehat./sqrt.(psi))\n",
    "\n",
    "            R = 5000\n",
    "            sim = zeros(R,1)\n",
    "\n",
    "            for l in 1:R\n",
    "                    g = reshape(repeat(randn(n), inner = p),(p, n))'\n",
    "                    sim[l] = n * maximum(2*abs.(mean.(eachcol(tXtpsi.* g))))\n",
    "            end\n",
    "\n",
    "            # Initialize lambda based on the simulated quantiles\n",
    "            lambda0 = c*quantile(vec(sim), 1 - gamma)\n",
    "\n",
    "            Ups0 = (1 /sqrt(n)) * sqrt.((y.^2)'*(x.^2))\n",
    "\n",
    "            lmbda = lmbda0 * Ups0\n",
    "\n",
    "    return Dict(\"lambda0\" => lmbda0, \"lambda\" => lmbda, \"Ups0\" => Ups0) \n",
    "    end\n",
    "end"
   ]
  },
  {
   "cell_type": "code",
   "execution_count": 169,
   "id": "f379dced",
   "metadata": {},
   "outputs": [
    {
     "data": {
      "text/plain": [
       "10×5 Matrix{Float64}:\n",
       "  2.41485    0.110211   0.577757    1.03164    -0.669994\n",
       "  0.272156  -2.09978   -2.37812    -2.44758    -0.251323\n",
       "  0.516117  -0.839626  -0.0697467  -0.288397   -0.0163569\n",
       "  0.129216  -0.638389  -1.36361    -0.1055      0.0612663\n",
       "  0.660068   0.2317     1.35678    -0.893214   -0.916824\n",
       "  1.49419    0.103511   0.0508912   0.093249    2.70922\n",
       " -0.636928  -1.19961   -0.369506    0.56272     0.424792\n",
       " -0.459297   0.618394   0.259876    0.0936285  -0.10345\n",
       " -0.475957  -0.485315   0.268583   -0.509746    0.0808326\n",
       "  0.547602  -1.53129    0.163746    1.20787     1.05157"
      ]
     },
     "execution_count": 169,
     "metadata": {},
     "output_type": "execute_result"
    }
   ],
   "source": [
    "y\n",
    "eh = y\n",
    "ehat = reshape(repeat(eh, inner = p),(p, n))'\n",
    "xehat = x.*ehat\n",
    "psi = mean.(eachcol(xehat.^2))'\n",
    "tXehattpsi = (xehat./sqrt.(psi))"
   ]
  },
  {
   "cell_type": "markdown",
   "id": "0040b38c",
   "metadata": {},
   "source": [
    "# How to translate Python Class to Julia Function"
   ]
  },
  {
   "cell_type": "code",
   "execution_count": 27,
   "id": "df203f97",
   "metadata": {},
   "outputs": [
    {
     "data": {
      "text/plain": [
       "100.0"
      ]
     },
     "execution_count": 27,
     "metadata": {},
     "output_type": "execute_result"
    }
   ],
   "source": [
    "mutable struct State\n",
    "    foo::Int\n",
    "    bar::Float64\n",
    "end\n",
    "\n",
    "function dosomething(s::State)\n",
    "    s.foo + s.bar\n",
    "end\n",
    "\n",
    "function dosomethingelse(s::State, n::Int)\n",
    "    n * s.bar\n",
    "end\n",
    "\n",
    "\n",
    "s = State(1, 10)\n",
    "dosomething(s)  # returns 11\n",
    "dosomethingelse(s, 10)  # returns 100"
   ]
  },
  {
   "cell_type": "code",
   "execution_count": 28,
   "id": "a65b2796",
   "metadata": {},
   "outputs": [
    {
     "ename": "LoadError",
     "evalue": "syntax: \"colnames = nothing\" inside type definition is reserved around In[28]:1",
     "output_type": "error",
     "traceback": [
      "syntax: \"colnames = nothing\" inside type definition is reserved around In[28]:1",
      "",
      "Stacktrace:",
      " [1] top-level scope",
      "   @ In[28]:1",
      " [2] eval",
      "   @ .\\boot.jl:373 [inlined]",
      " [3] include_string(mapexpr::typeof(REPL.softscope), mod::Module, code::String, filename::String)",
      "   @ Base .\\loading.jl:1196"
     ]
    }
   ],
   "source": [
    "mutable struct State\n",
    "    \n",
    "    colnames=nothing\n",
    "    post::Bool=true\n",
    "    intercept::Bool=true\n",
    "    model::Bool=true\n",
    "    homoskedastic::Bool=false\n",
    "    X_dependent_lambda::Bool=false\n",
    "    lambda_start=nothing\n",
    "    c::Float64=1.1\n",
    "    gamma=nothing\n",
    "    numSim::Int=5000\n",
    "    numIter::Int=15\n",
    "    numIter::Int=15\n",
    "    tol::Float64 = 10^(-5)\n",
    "    threshold::Float64=-Inf\n",
    "    par::Bool=true\n",
    "    corecap::Float64=Inf\n",
    "    fix_seed::Bool=true\n",
    "    \n",
    "end\n",
    "\n",
    "\n",
    "\n",
    "\n",
    "\n",
    "function lambdaCalculation(     homoskedastic::Bool=false, X_dependent_lambda::Bool=false,\n",
    "                                lambda_start=nothing, c::Float64=1.1, gamma::Float64=0.1, \n",
    "                                numSim::Int=5000, y=nothing, x=nothing, par::Bool=true, \n",
    "                                corecap::Float64=Inf, fix_seed::Bool=true)"
   ]
  },
  {
   "cell_type": "code",
   "execution_count": 23,
   "id": "fd93c3ac",
   "metadata": {},
   "outputs": [
    {
     "ename": "LoadError",
     "evalue": "syntax: extra token \"State\" after end of expression",
     "output_type": "error",
     "traceback": [
      "syntax: extra token \"State\" after end of expression",
      "",
      "Stacktrace:",
      " [1] top-level scope",
      "   @ In[23]:1",
      " [2] eval",
      "   @ .\\boot.jl:373 [inlined]",
      " [3] include_string(mapexpr::typeof(REPL.softscope), mod::Module, code::String, filename::String)",
      "   @ Base .\\loading.jl:1196"
     ]
    }
   ],
   "source": [
    "    def __init__(self, x, y, colnames=None, post=True, intercept=True,\n",
    "                 model=True, homoskedastic=False, X_dependent_lambda=False,\n",
    "                 lambda_start=None, c=1.1, gamma=None, numSim=5000, numIter=15,\n",
    "                 tol=10**(-5), threshold=-np.inf, par=True, corecap=np.inf,\n",
    "                 fix_seed=True):"
   ]
  },
  {
   "cell_type": "code",
   "execution_count": null,
   "id": "808b35a1",
   "metadata": {},
   "outputs": [],
   "source": []
  },
  {
   "cell_type": "code",
   "execution_count": null,
   "id": "b3f92a16",
   "metadata": {},
   "outputs": [],
   "source": []
  },
  {
   "cell_type": "code",
   "execution_count": null,
   "id": "982308bf",
   "metadata": {},
   "outputs": [],
   "source": []
  },
  {
   "cell_type": "code",
   "execution_count": null,
   "id": "0d088905",
   "metadata": {},
   "outputs": [],
   "source": []
  },
  {
   "cell_type": "code",
   "execution_count": null,
   "id": "0e7978bb",
   "metadata": {},
   "outputs": [],
   "source": []
  },
  {
   "cell_type": "code",
   "execution_count": null,
   "id": "bfa8c0ef",
   "metadata": {},
   "outputs": [],
   "source": []
  },
  {
   "cell_type": "code",
   "execution_count": null,
   "id": "0e04ea03",
   "metadata": {},
   "outputs": [],
   "source": []
  },
  {
   "cell_type": "code",
   "execution_count": 154,
   "id": "0881b41f",
   "metadata": {},
   "outputs": [
    {
     "data": {
      "text/plain": [
       "5×5 Matrix{Float64}:\n",
       "  9.39943    9.39943    9.39943    9.39943    9.39943\n",
       " 17.3247    17.3247    17.3247    17.3247    17.3247\n",
       "  0.211723   0.211723   0.211723   0.211723   0.211723\n",
       "  1.00107    1.00107    1.00107    1.00107    1.00107\n",
       "  5.10129    5.10129    5.10129    5.10129    5.10129"
      ]
     },
     "execution_count": 154,
     "metadata": {},
     "output_type": "execute_result"
    }
   ],
   "source": [
    "xehat.^2"
   ]
  },
  {
   "cell_type": "code",
   "execution_count": 143,
   "id": "0cb9d941",
   "metadata": {},
   "outputs": [
    {
     "data": {
      "text/plain": [
       "5×5 Matrix{Float64}:\n",
       "  3.06585    3.06585    3.06585    3.06585    3.06585\n",
       " -4.16229   -4.16229   -4.16229   -4.16229   -4.16229\n",
       " -0.460134  -0.460134  -0.460134  -0.460134  -0.460134\n",
       " -1.00054   -1.00054   -1.00054   -1.00054   -1.00054\n",
       "  2.2586     2.2586     2.2586     2.2586     2.2586"
      ]
     },
     "execution_count": 143,
     "metadata": {},
     "output_type": "execute_result"
    }
   ],
   "source": [
    "xehat"
   ]
  },
  {
   "cell_type": "code",
   "execution_count": 147,
   "id": "54e2b235",
   "metadata": {},
   "outputs": [
    {
     "data": {
      "text/plain": [
       "1×5 Matrix{Float64}:\n",
       " 2.57053  2.57053  2.57053  2.57053  2.57053"
      ]
     },
     "execution_count": 147,
     "metadata": {},
     "output_type": "execute_result"
    }
   ],
   "source": [
    "sqrt.(psi)"
   ]
  },
  {
   "cell_type": "code",
   "execution_count": 136,
   "id": "d4b57a04",
   "metadata": {},
   "outputs": [
    {
     "data": {
      "text/plain": [
       "5×5 Matrix{Float64}:\n",
       "  3.06585    3.06585    3.06585    3.06585    3.06585\n",
       " -4.16229   -4.16229   -4.16229   -4.16229   -4.16229\n",
       " -0.460134  -0.460134  -0.460134  -0.460134  -0.460134\n",
       " -1.00054   -1.00054   -1.00054   -1.00054   -1.00054\n",
       "  2.2586     2.2586     2.2586     2.2586     2.2586"
      ]
     },
     "execution_count": 136,
     "metadata": {},
     "output_type": "execute_result"
    }
   ],
   "source": [
    "xehat"
   ]
  },
  {
   "cell_type": "code",
   "execution_count": 135,
   "id": "3b1a9a97",
   "metadata": {},
   "outputs": [
    {
     "data": {
      "text/plain": [
       "1×5 adjoint(::Vector{Float64}) with eltype Float64:\n",
       " -0.0597025  -0.0597025  -0.0597025  -0.0597025  -0.0597025"
      ]
     },
     "execution_count": 135,
     "metadata": {},
     "output_type": "execute_result"
    }
   ],
   "source": [
    "psi"
   ]
  },
  {
   "cell_type": "code",
   "execution_count": 134,
   "id": "a5e63747",
   "metadata": {},
   "outputs": [
    {
     "ename": "LoadError",
     "evalue": "MethodError: no method matching sqrt(::Adjoint{Float64, Vector{Float64}})\n\u001b[0mClosest candidates are:\n\u001b[0m  sqrt(\u001b[91m::Union{Float32, Float64}\u001b[39m) at C:\\Users\\Alexander\\AppData\\Local\\Programs\\Julia-1.7.2\\share\\julia\\base\\math.jl:566\n\u001b[0m  sqrt(\u001b[91m::StridedMatrix{T}\u001b[39m) where T<:Union{Real, Complex} at C:\\Users\\Alexander\\AppData\\Local\\Programs\\Julia-1.7.2\\share\\julia\\stdlib\\v1.7\\LinearAlgebra\\src\\dense.jl:836\n\u001b[0m  sqrt(\u001b[91m::Diagonal\u001b[39m) at C:\\Users\\Alexander\\AppData\\Local\\Programs\\Julia-1.7.2\\share\\julia\\stdlib\\v1.7\\LinearAlgebra\\src\\diagonal.jl:592\n\u001b[0m  ...",
     "output_type": "error",
     "traceback": [
      "MethodError: no method matching sqrt(::Adjoint{Float64, Vector{Float64}})\n\u001b[0mClosest candidates are:\n\u001b[0m  sqrt(\u001b[91m::Union{Float32, Float64}\u001b[39m) at C:\\Users\\Alexander\\AppData\\Local\\Programs\\Julia-1.7.2\\share\\julia\\base\\math.jl:566\n\u001b[0m  sqrt(\u001b[91m::StridedMatrix{T}\u001b[39m) where T<:Union{Real, Complex} at C:\\Users\\Alexander\\AppData\\Local\\Programs\\Julia-1.7.2\\share\\julia\\stdlib\\v1.7\\LinearAlgebra\\src\\dense.jl:836\n\u001b[0m  sqrt(\u001b[91m::Diagonal\u001b[39m) at C:\\Users\\Alexander\\AppData\\Local\\Programs\\Julia-1.7.2\\share\\julia\\stdlib\\v1.7\\LinearAlgebra\\src\\diagonal.jl:592\n\u001b[0m  ...",
      "",
      "Stacktrace:",
      " [1] top-level scope",
      "   @ In[134]:1",
      " [2] eval",
      "   @ .\\boot.jl:373 [inlined]",
      " [3] include_string(mapexpr::typeof(REPL.softscope), mod::Module, code::String, filename::String)",
      "   @ Base .\\loading.jl:1196"
     ]
    }
   ],
   "source": [
    "sqrt(psi)"
   ]
  },
  {
   "cell_type": "code",
   "execution_count": 128,
   "id": "216796c8",
   "metadata": {},
   "outputs": [
    {
     "data": {
      "text/plain": [
       "1×5 adjoint(::Vector{Float64}) with eltype Float64:\n",
       " -0.0597025  -0.0597025  -0.0597025  -0.0597025  -0.0597025"
      ]
     },
     "execution_count": 128,
     "metadata": {},
     "output_type": "execute_result"
    }
   ],
   "source": [
    "psi = mean.(eachcol(xehat))'"
   ]
  },
  {
   "cell_type": "code",
   "execution_count": 116,
   "id": "873e78ed",
   "metadata": {},
   "outputs": [
    {
     "data": {
      "text/plain": [
       "10×5 Matrix{Float64}:\n",
       "  0.638277   0.638277   0.638277   0.638277   0.638277\n",
       " -0.805969  -0.805969  -0.805969  -0.805969  -0.805969\n",
       " -0.399263  -0.399263  -0.399263  -0.399263  -0.399263\n",
       "  0.203019   0.203019   0.203019   0.203019   0.203019\n",
       "  0.46159    0.46159    0.46159    0.46159    0.46159\n",
       "  1.1679     1.1679     1.1679     1.1679     1.1679\n",
       "  0.561702   0.561702   0.561702   0.561702   0.561702\n",
       "  0.737444   0.737444   0.737444   0.737444   0.737444\n",
       "  0.224127   0.224127   0.224127   0.224127   0.224127\n",
       "  0.584296   0.584296   0.584296   0.584296   0.584296"
      ]
     },
     "execution_count": 116,
     "metadata": {},
     "output_type": "execute_result"
    }
   ],
   "source": [
    "y*ones(1, p)"
   ]
  },
  {
   "cell_type": "code",
   "execution_count": 112,
   "id": "cedd58c6",
   "metadata": {},
   "outputs": [
    {
     "ename": "LoadError",
     "evalue": "DimensionMismatch(\"arrays could not be broadcast to a common size; got a dimension with lengths 10 and 5\")",
     "output_type": "error",
     "traceback": [
      "DimensionMismatch(\"arrays could not be broadcast to a common size; got a dimension with lengths 10 and 5\")",
      "",
      "Stacktrace:",
      " [1] _bcs1",
      "   @ .\\broadcast.jl:516 [inlined]",
      " [2] _bcs",
      "   @ .\\broadcast.jl:510 [inlined]",
      " [3] broadcast_shape",
      "   @ .\\broadcast.jl:504 [inlined]",
      " [4] combine_axes",
      "   @ .\\broadcast.jl:499 [inlined]",
      " [5] instantiate",
      "   @ .\\broadcast.jl:281 [inlined]",
      " [6] materialize(bc::Base.Broadcast.Broadcasted{Base.Broadcast.DefaultArrayStyle{2}, Nothing, typeof(*), Tuple{Vector{Float64}, Matrix{Float64}}})",
      "   @ Base.Broadcast .\\broadcast.jl:860",
      " [7] top-level scope",
      "   @ In[112]:1",
      " [8] eval",
      "   @ .\\boot.jl:373 [inlined]",
      " [9] include_string(mapexpr::typeof(REPL.softscope), mod::Module, code::String, filename::String)",
      "   @ Base .\\loading.jl:1196"
     ]
    }
   ],
   "source": [
    "y.*ones(p,1)"
   ]
  },
  {
   "cell_type": "code",
   "execution_count": 126,
   "id": "fdb1d70a",
   "metadata": {},
   "outputs": [
    {
     "data": {
      "text/plain": [
       "10×5 Matrix{Float64}:\n",
       " 6.75773    0.015731    0.0767582    1.65955     1.00093\n",
       " 0.0538316  3.58128     0.815611     5.85853     0.0883306\n",
       " 0.788887   2.33335     0.00285879   0.331446    0.00152463\n",
       " 0.191249   5.21704     4.22627      0.171546    0.0827277\n",
       " 0.965387   0.132943    0.809392     2.37874     3.58377\n",
       " 0.772758   0.00414472  0.000177881  0.00404976  4.88835\n",
       " 0.607025   2.40655     0.04054      0.637564    0.519543\n",
       " 0.183133   0.371022    0.0116339    0.0102402   0.0178766\n",
       " 2.12905    2.47393     0.134531     3.28602     0.118159\n",
       " 0.414669   3.62391     0.00735741   2.71472     2.94232"
      ]
     },
     "execution_count": 126,
     "metadata": {},
     "output_type": "execute_result"
    }
   ],
   "source": [
    "x.^2"
   ]
  },
  {
   "cell_type": "code",
   "execution_count": 125,
   "id": "1df0a9c3",
   "metadata": {},
   "outputs": [
    {
     "data": {
      "text/plain": [
       "1.3888938829818727"
      ]
     },
     "execution_count": 125,
     "metadata": {},
     "output_type": "execute_result"
    }
   ],
   "source": [
    "psi = mean(x.^2)"
   ]
  },
  {
   "cell_type": "code",
   "execution_count": 109,
   "id": "4c103c30",
   "metadata": {},
   "outputs": [
    {
     "data": {
      "text/plain": [
       "1×5 Matrix{Float64}:\n",
       " 0.687098  0.726379  0.306074  0.79703  0.953105"
      ]
     },
     "execution_count": 109,
     "metadata": {},
     "output_type": "execute_result"
    }
   ],
   "source": [
    "Ups0 = (1 /sqrt(n)) * sqrt.((y.^2)'*(x.^2))"
   ]
  },
  {
   "cell_type": "code",
   "execution_count": null,
   "id": "5284f449",
   "metadata": {},
   "outputs": [],
   "source": [
    "Ups0 <- 1/sqrt(n) * sqrt(t(t(y^2) %*% (x^2)))"
   ]
  },
  {
   "cell_type": "code",
   "execution_count": null,
   "id": "7c0c019a",
   "metadata": {},
   "outputs": [],
   "source": [
    "Ups0 <- sqrt(var(y))"
   ]
  },
  {
   "cell_type": "code",
   "execution_count": 75,
   "id": "785baa06",
   "metadata": {},
   "outputs": [
    {
     "data": {
      "text/plain": [
       "50-element Vector{Float64}:\n",
       " -0.5426606288066931\n",
       " -0.5426606288066931\n",
       " -0.5426606288066931\n",
       " -0.5426606288066931\n",
       " -0.5426606288066931\n",
       "  1.2813129314021943\n",
       "  1.2813129314021943\n",
       "  1.2813129314021943\n",
       "  1.2813129314021943\n",
       "  1.2813129314021943\n",
       " -1.4541396281032473\n",
       " -1.4541396281032473\n",
       " -1.4541396281032473\n",
       "  ⋮\n",
       " -0.537725859397369\n",
       " -0.537725859397369\n",
       "  0.6457751734360266\n",
       "  0.6457751734360266\n",
       "  0.6457751734360266\n",
       "  0.6457751734360266\n",
       "  0.6457751734360266\n",
       " -0.40593715325349267\n",
       " -0.40593715325349267\n",
       " -0.40593715325349267\n",
       " -0.40593715325349267\n",
       " -0.40593715325349267"
      ]
     },
     "execution_count": 75,
     "metadata": {},
     "output_type": "execute_result"
    }
   ],
   "source": [
    "repeat(randn(10), inner = p)"
   ]
  },
  {
   "cell_type": "code",
   "execution_count": 78,
   "id": "be263a3a",
   "metadata": {},
   "outputs": [
    {
     "data": {
      "text/plain": [
       "10×5 adjoint(::Matrix{Float64}) with eltype Float64:\n",
       "  0.705075   0.705075   0.705075   0.705075   0.705075\n",
       "  1.51667    1.51667    1.51667    1.51667    1.51667\n",
       " -0.728552  -0.728552  -0.728552  -0.728552  -0.728552\n",
       "  0.125279   0.125279   0.125279   0.125279   0.125279\n",
       "  1.42334    1.42334    1.42334    1.42334    1.42334\n",
       " -0.600246  -0.600246  -0.600246  -0.600246  -0.600246\n",
       " -0.893547  -0.893547  -0.893547  -0.893547  -0.893547\n",
       "  0.236745   0.236745   0.236745   0.236745   0.236745\n",
       " -0.789944  -0.789944  -0.789944  -0.789944  -0.789944\n",
       " -0.147113  -0.147113  -0.147113  -0.147113  -0.147113"
      ]
     },
     "execution_count": 78,
     "metadata": {},
     "output_type": "execute_result"
    }
   ],
   "source": [
    "g = reshape(repeat(randn(10), inner = p),(5, 10))'"
   ]
  },
  {
   "cell_type": "code",
   "execution_count": 74,
   "id": "54581330",
   "metadata": {},
   "outputs": [
    {
     "ename": "LoadError",
     "evalue": "UndefVarError: matrix not defined",
     "output_type": "error",
     "traceback": [
      "UndefVarError: matrix not defined",
      "",
      "Stacktrace:",
      " [1] top-level scope",
      "   @ In[74]:1",
      " [2] eval",
      "   @ .\\boot.jl:373 [inlined]",
      " [3] include_string(mapexpr::typeof(REPL.softscope), mod::Module, code::String, filename::String)",
      "   @ Base .\\loading.jl:1196"
     ]
    }
   ],
   "source": [
    "matrix(repeat(randn(10), inner = p))"
   ]
  },
  {
   "cell_type": "code",
   "execution_count": 97,
   "id": "c99fa28c",
   "metadata": {},
   "outputs": [],
   "source": [
    "R = 100\n",
    "sim = zeros(R,1)\n",
    "for l in 1:R\n",
    "    g = reshape(repeat(randn(10), inner = p),(5, 10))'\n",
    "    sim[l] = maximum(2*abs.(mean.(eachcol(tXtpsi.* g))))\n",
    "end\n",
    "\n",
    "\n"
   ]
  },
  {
   "cell_type": "code",
   "execution_count": null,
   "id": "3c05b24d",
   "metadata": {},
   "outputs": [],
   "source": [
    "lambda0 = c*quantile(vec(sim), 1 - gamma)"
   ]
  },
  {
   "cell_type": "code",
   "execution_count": 81,
   "id": "c1cdecca",
   "metadata": {},
   "outputs": [
    {
     "data": {
      "text/plain": [
       "10×5 adjoint(::Matrix{Float64}) with eltype Float64:\n",
       " -0.651544  -0.651544  -0.651544  -0.651544  -0.651544\n",
       " -0.449609  -0.449609  -0.449609  -0.449609  -0.449609\n",
       " -1.22734   -1.22734   -1.22734   -1.22734   -1.22734\n",
       " -0.939588  -0.939588  -0.939588  -0.939588  -0.939588\n",
       "  0.87259    0.87259    0.87259    0.87259    0.87259\n",
       " -0.557327  -0.557327  -0.557327  -0.557327  -0.557327\n",
       " -0.232092  -0.232092  -0.232092  -0.232092  -0.232092\n",
       "  0.523636   0.523636   0.523636   0.523636   0.523636\n",
       " -0.377307  -0.377307  -0.377307  -0.377307  -0.377307\n",
       "  1.73438    1.73438    1.73438    1.73438    1.73438"
      ]
     },
     "execution_count": 81,
     "metadata": {},
     "output_type": "execute_result"
    }
   ],
   "source": [
    "g = reshape(repeat(randn(10), inner = p),(5, 10))'"
   ]
  },
  {
   "cell_type": "code",
   "execution_count": 103,
   "id": "f23f0510",
   "metadata": {},
   "outputs": [
    {
     "data": {
      "text/plain": [
       "100-element Vector{Float64}:\n",
       " 0.9058930636221756\n",
       " 0.9974339887492555\n",
       " 0.8915361518976817\n",
       " 0.4059838910163601\n",
       " 0.7794933188038025\n",
       " 0.744080936762073\n",
       " 0.4901078406889143\n",
       " 1.604911856999283\n",
       " 0.5387011545821052\n",
       " 1.8805858054106046\n",
       " 1.1352847145790745\n",
       " 0.6435084321974089\n",
       " 0.6898252417611304\n",
       " ⋮\n",
       " 0.8961491292420162\n",
       " 0.842828918284426\n",
       " 1.2523321965848266\n",
       " 1.2214504204417402\n",
       " 0.5665618497153938\n",
       " 0.7392078708070684\n",
       " 1.1226014126091135\n",
       " 1.1197690588942042\n",
       " 0.8127075867966795\n",
       " 0.4388331744185597\n",
       " 0.6802999047321783\n",
       " 0.9591691065536855"
      ]
     },
     "execution_count": 103,
     "metadata": {},
     "output_type": "execute_result"
    }
   ],
   "source": []
  },
  {
   "cell_type": "code",
   "execution_count": 104,
   "id": "822b968e",
   "metadata": {},
   "outputs": [
    {
     "data": {
      "text/plain": [
       "0.9904178448293439"
      ]
     },
     "execution_count": 104,
     "metadata": {},
     "output_type": "execute_result"
    }
   ],
   "source": [
    "quantile(vec(sim), 0.5)"
   ]
  },
  {
   "cell_type": "code",
   "execution_count": 106,
   "id": "2dfa34bb",
   "metadata": {},
   "outputs": [
    {
     "data": {
      "text/plain": [
       "6-element Vector{Float64}:\n",
       " 6.52276955293844\n",
       " 6.210569320588091\n",
       " 4.7864301479581\n",
       " 9.1187992502725\n",
       " 8.42000515087866\n",
       " 6.17048265730705"
      ]
     },
     "execution_count": 106,
     "metadata": {},
     "output_type": "execute_result"
    }
   ],
   "source": [
    "vector = [6.52276955293844, 6.210569320588091, 4.7864301479581, 9.1187992502725, 8.42000515087866, 6.17048265730705]"
   ]
  },
  {
   "cell_type": "code",
   "execution_count": 108,
   "id": "e4ef8294",
   "metadata": {},
   "outputs": [
    {
     "data": {
      "text/plain": [
       "8.76940220057558"
      ]
     },
     "execution_count": 108,
     "metadata": {},
     "output_type": "execute_result"
    }
   ],
   "source": [
    "quantile(vector, 1 - gamma)"
   ]
  },
  {
   "cell_type": "code",
   "execution_count": 72,
   "id": "e8c48d66",
   "metadata": {},
   "outputs": [
    {
     "data": {
      "text/plain": [
       "10×5 adjoint(::Matrix{Float64}) with eltype Float64:\n",
       "  2.2058     0.106425    0.235087    1.0931     -0.848923\n",
       " -0.196872   1.60577     0.766314    2.05381     0.252186\n",
       " -0.753655   1.29615     0.0453687   0.488508    0.033132\n",
       "  0.371078  -1.93811    -1.74439    -0.351444    0.244057\n",
       "  0.833712   0.309384    0.763387   -1.3087     -1.60633\n",
       "  0.745911   0.0546277   0.011317    0.0539983   1.87606\n",
       " -0.661103  -1.31632    -0.170847    0.677528    0.611613\n",
       " -0.363119   0.516851    0.0915226   0.0858657  -0.113451\n",
       " -1.23811   -1.33463     0.311227   -1.53816     0.291675\n",
       "  0.546407  -1.6153      0.0727827   1.39807     1.45549"
      ]
     },
     "execution_count": 72,
     "metadata": {},
     "output_type": "execute_result"
    }
   ],
   "source": [
    "n * max(2 * abs(colMeans(tXtpsi * g)))"
   ]
  },
  {
   "cell_type": "code",
   "execution_count": 86,
   "id": "7bf3280c",
   "metadata": {},
   "outputs": [
    {
     "data": {
      "text/plain": [
       "10×5 adjoint(::Matrix{Float64}) with eltype Float64:\n",
       "  2.2058     0.106425    0.235087    1.0931     -0.848923\n",
       " -0.196872   1.60577     0.766314    2.05381     0.252186\n",
       " -0.753655   1.29615     0.0453687   0.488508    0.033132\n",
       "  0.371078  -1.93811    -1.74439    -0.351444    0.244057\n",
       "  0.833712   0.309384    0.763387   -1.3087     -1.60633\n",
       "  0.745911   0.0546277   0.011317    0.0539983   1.87606\n",
       " -0.661103  -1.31632    -0.170847    0.677528    0.611613\n",
       " -0.363119   0.516851    0.0915226   0.0858657  -0.113451\n",
       " -1.23811   -1.33463     0.311227   -1.53816     0.291675\n",
       "  0.546407  -1.6153      0.0727827   1.39807     1.45549"
      ]
     },
     "execution_count": 86,
     "metadata": {},
     "output_type": "execute_result"
    }
   ],
   "source": [
    "tXtpsi"
   ]
  },
  {
   "cell_type": "code",
   "execution_count": 95,
   "id": "0650deaf",
   "metadata": {},
   "outputs": [
    {
     "data": {
      "text/plain": [
       "0.40868440531922995"
      ]
     },
     "execution_count": 95,
     "metadata": {},
     "output_type": "execute_result"
    }
   ],
   "source": []
  },
  {
   "cell_type": "code",
   "execution_count": 93,
   "id": "4eb5a490",
   "metadata": {},
   "outputs": [
    {
     "data": {
      "text/plain": [
       "5-element Vector{Float64}:\n",
       "  0.09175619074607241\n",
       " -0.20434220265961497\n",
       "  0.18418159031061226\n",
       " -0.01841595885434937\n",
       " -0.006452323111749836"
      ]
     },
     "execution_count": 93,
     "metadata": {},
     "output_type": "execute_result"
    }
   ],
   "source": [
    "mean.(eachcol(tXtpsi.* g))"
   ]
  },
  {
   "cell_type": "code",
   "execution_count": 58,
   "id": "0b993dde",
   "metadata": {},
   "outputs": [
    {
     "data": {
      "text/plain": [
       "0.5723082480468004"
      ]
     },
     "execution_count": 58,
     "metadata": {},
     "output_type": "execute_result"
    }
   ],
   "source": [
    "Ups0 = sqrt(var(y, corrected = true))"
   ]
  },
  {
   "cell_type": "code",
   "execution_count": 45,
   "id": "ffc58e53",
   "metadata": {},
   "outputs": [
    {
     "data": {
      "text/plain": [
       "45"
      ]
     },
     "execution_count": 45,
     "metadata": {},
     "output_type": "execute_result"
    }
   ],
   "source": [
    "alex = 45\n",
    "mute = alex"
   ]
  },
  {
   "cell_type": "code",
   "execution_count": 48,
   "id": "ac5edc3c",
   "metadata": {},
   "outputs": [
    {
     "name": "stdout",
     "output_type": "stream",
     "text": [
      "45\n"
     ]
    }
   ],
   "source": [
    "if (isnothing(mute))  == 0\n",
    "    println(alex)\n",
    "end "
   ]
  },
  {
   "cell_type": "code",
   "execution_count": 47,
   "id": "7954e6b1",
   "metadata": {},
   "outputs": [
    {
     "data": {
      "text/plain": [
       "false"
      ]
     },
     "execution_count": 47,
     "metadata": {},
     "output_type": "execute_result"
    }
   ],
   "source": [
    "isnothing(mute)"
   ]
  },
  {
   "cell_type": "code",
   "execution_count": 4,
   "id": "3a068456",
   "metadata": {},
   "outputs": [
    {
     "data": {
      "text/plain": [
       "1.1"
      ]
     },
     "execution_count": 4,
     "metadata": {},
     "output_type": "execute_result"
    }
   ],
   "source": [
    "# We have to make sure that both variables are the same type (Integers or floats) to avoid errors when running the regression\n",
    "n = 10\n",
    "p = Int(n/2)\n",
    "\n",
    "x = randn(n, p)\n",
    "beta = randn(p)\n",
    "lmbda = randn(p)\n",
    "y = randn(n)\n",
    "gamma = 0.1\n",
    "c = 1.1\n"
   ]
  },
  {
   "cell_type": "code",
   "execution_count": 9,
   "id": "ea0f0a62",
   "metadata": {},
   "outputs": [
    {
     "data": {
      "text/plain": [
       "10×5 adjoint(::Matrix{Float64}) with eltype Float64:\n",
       " -0.276339    0.638309    0.44012    -1.99609    -0.696107\n",
       " -0.930588   -0.792754    1.56848     1.2595     -0.37923\n",
       "  0.559535   -0.345888   -1.43638    -0.323765   -0.636522\n",
       "  0.286299   -0.313657   -1.47366     0.0882716  -1.68812\n",
       "  1.16986     0.0302914  -0.349372    1.23167     1.11022\n",
       " -2.53313     2.02852    -1.46518    -0.828138   -0.438008\n",
       "  0.0846915  -0.327124   -0.641858    0.886998    0.800242\n",
       "  0.814653   -0.0714077   0.302399    0.539086    0.211448\n",
       "  0.210722    0.221536    0.0479571  -1.01492    -1.73667\n",
       " -0.402537    2.11403     0.580321   -0.0798286   0.99555"
      ]
     },
     "execution_count": 9,
     "metadata": {},
     "output_type": "execute_result"
    }
   ],
   "source": [
    "psi = mean.(eachcol(x.^2))\n",
    "\n",
    "\n",
    "\n",
    "tXtpsi = (x' ./ sqrt.(psi))'"
   ]
  },
  {
   "cell_type": "code",
   "execution_count": 85,
   "id": "96fdd045",
   "metadata": {},
   "outputs": [
    {
     "data": {
      "text/plain": [
       "10×5 adjoint(::Matrix{Float64}) with eltype Float64:\n",
       "  2.2058     0.106425    0.235087    1.0931     -0.848923\n",
       " -0.196872   1.60577     0.766314    2.05381     0.252186\n",
       " -0.753655   1.29615     0.0453687   0.488508    0.033132\n",
       "  0.371078  -1.93811    -1.74439    -0.351444    0.244057\n",
       "  0.833712   0.309384    0.763387   -1.3087     -1.60633\n",
       "  0.745911   0.0546277   0.011317    0.0539983   1.87606\n",
       " -0.661103  -1.31632    -0.170847    0.677528    0.611613\n",
       " -0.363119   0.516851    0.0915226   0.0858657  -0.113451\n",
       " -1.23811   -1.33463     0.311227   -1.53816     0.291675\n",
       "  0.546407  -1.6153      0.0727827   1.39807     1.45549"
      ]
     },
     "execution_count": 85,
     "metadata": {},
     "output_type": "execute_result"
    }
   ],
   "source": [
    "tXtpsi = (x' ./ sqrt(psi))'"
   ]
  },
  {
   "cell_type": "code",
   "execution_count": 54,
   "id": "36e018b4",
   "metadata": {},
   "outputs": [
    {
     "data": {
      "text/plain": [
       "2.326347874040846"
      ]
     },
     "execution_count": 54,
     "metadata": {},
     "output_type": "execute_result"
    }
   ],
   "source": [
    "quantile(Normal(0.0, 1.0),1 - gamma/(2*p))"
   ]
  },
  {
   "cell_type": "code",
   "execution_count": 55,
   "id": "a3192d6b",
   "metadata": {},
   "outputs": [
    {
     "data": {
      "text/plain": [
       "16.184427406091057"
      ]
     },
     "execution_count": 55,
     "metadata": {},
     "output_type": "execute_result"
    }
   ],
   "source": [
    "# Initilaize lambda\n",
    "lmbda0 = 2 * c * sqrt(n) * quantile(Normal(0.0, 1.0),1 - gamma/(2*p))"
   ]
  },
  {
   "cell_type": "code",
   "execution_count": 32,
   "id": "d6bf9841",
   "metadata": {},
   "outputs": [
    {
     "ename": "LoadError",
     "evalue": "MethodError: no method matching sqrt(::Adjoint{Float64, Vector{Float64}})\n\u001b[0mClosest candidates are:\n\u001b[0m  sqrt(\u001b[91m::Union{Float32, Float64}\u001b[39m) at C:\\Users\\Alexander\\AppData\\Local\\Programs\\Julia-1.7.2\\share\\julia\\base\\math.jl:566\n\u001b[0m  sqrt(\u001b[91m::StridedMatrix{T}\u001b[39m) where T<:Union{Real, Complex} at C:\\Users\\Alexander\\AppData\\Local\\Programs\\Julia-1.7.2\\share\\julia\\stdlib\\v1.7\\LinearAlgebra\\src\\dense.jl:836\n\u001b[0m  sqrt(\u001b[91m::Diagonal\u001b[39m) at C:\\Users\\Alexander\\AppData\\Local\\Programs\\Julia-1.7.2\\share\\julia\\stdlib\\v1.7\\LinearAlgebra\\src\\diagonal.jl:592\n\u001b[0m  ...",
     "output_type": "error",
     "traceback": [
      "MethodError: no method matching sqrt(::Adjoint{Float64, Vector{Float64}})\n\u001b[0mClosest candidates are:\n\u001b[0m  sqrt(\u001b[91m::Union{Float32, Float64}\u001b[39m) at C:\\Users\\Alexander\\AppData\\Local\\Programs\\Julia-1.7.2\\share\\julia\\base\\math.jl:566\n\u001b[0m  sqrt(\u001b[91m::StridedMatrix{T}\u001b[39m) where T<:Union{Real, Complex} at C:\\Users\\Alexander\\AppData\\Local\\Programs\\Julia-1.7.2\\share\\julia\\stdlib\\v1.7\\LinearAlgebra\\src\\dense.jl:836\n\u001b[0m  sqrt(\u001b[91m::Diagonal\u001b[39m) at C:\\Users\\Alexander\\AppData\\Local\\Programs\\Julia-1.7.2\\share\\julia\\stdlib\\v1.7\\LinearAlgebra\\src\\diagonal.jl:592\n\u001b[0m  ...",
      "",
      "Stacktrace:",
      " [1] top-level scope",
      "   @ In[32]:1",
      " [2] eval",
      "   @ .\\boot.jl:373 [inlined]",
      " [3] include_string(mapexpr::typeof(REPL.softscope), mod::Module, code::String, filename::String)",
      "   @ Base .\\loading.jl:1196"
     ]
    }
   ],
   "source": [
    "sqrt((y.^2.0)'*(x.^2.0))"
   ]
  },
  {
   "cell_type": "code",
   "execution_count": null,
   "id": "506e4a52",
   "metadata": {},
   "outputs": [],
   "source": [
    "Ups0 = (1 / np.sqrt(n)) * np.sqrt((y**2).T @ (x**2)).T"
   ]
  },
  {
   "cell_type": "code",
   "execution_count": null,
   "id": "9f8ee425",
   "metadata": {},
   "outputs": [],
   "source": [
    "lambda0 <- 2 * penalty$c * sqrt(n) * qnorm(1 - penalty$gamma/(2 *p))"
   ]
  },
  {
   "cell_type": "code",
   "execution_count": null,
   "id": "b9704396",
   "metadata": {},
   "outputs": [],
   "source": [
    "intercetp::Bool=true"
   ]
  },
  {
   "cell_type": "code",
   "execution_count": null,
   "id": "ef89e629",
   "metadata": {},
   "outputs": [],
   "source": [
    "LassoShooting_fit(X, Y, lmbda)"
   ]
  },
  {
   "cell_type": "code",
   "execution_count": null,
   "id": "db8c4842",
   "metadata": {},
   "outputs": [],
   "source": [
    "init_values(X, Y)[4]"
   ]
  },
  {
   "cell_type": "code",
   "execution_count": null,
   "id": "3c7f1bc5",
   "metadata": {},
   "outputs": [],
   "source": [
    "reg = lm(X, Y)"
   ]
  },
  {
   "cell_type": "code",
   "execution_count": null,
   "id": "d1b2f82c",
   "metadata": {},
   "outputs": [],
   "source": [
    "homoskedastic=False, X_dependent_lambda=False,\n",
    "                      lambda_start=None, c=1.1, gamma=0.1, numSim=5000, y=None,\n",
    "                      x=None, par=True, corecap=np.inf, fix_seed=True"
   ]
  },
  {
   "cell_type": "code",
   "execution_count": null,
   "id": "5a19f929",
   "metadata": {},
   "outputs": [],
   "source": [
    "init_values(X, Y)"
   ]
  },
  {
   "cell_type": "code",
   "execution_count": null,
   "id": "aa7d0575",
   "metadata": {},
   "outputs": [],
   "source": [
    "X"
   ]
  },
  {
   "cell_type": "code",
   "execution_count": 1,
   "id": "2550fe68",
   "metadata": {},
   "outputs": [
    {
     "name": "stderr",
     "output_type": "stream",
     "text": [
      "\u001b[32m\u001b[1m    Updating\u001b[22m\u001b[39m registry at `C:\\Users\\Alexander\\.julia\\registries\\General.toml`\n",
      "┌ Warning: could not download https://pkg.julialang.org/registries\n",
      "│   exception = Downloads.RequestError(\"https://pkg.julialang.org/registries\", 35, \"schannel: failed to receive handshake, SSL/TLS connection failed\", Downloads.Response(\"https\", \"https://sa.pkg.julialang.org/registries\", 301, \"HTTP/1.1 301 SA internal redirect trigger\", [\"connection\" => \"close\", \"content-length\" => \"0\", \"server\" => \"Varnish\", \"retry-after\" => \"0\", \"location\" => \"https://sa.pkg.julialang.org/registries\", \"x-geo-continent\" => \"SA\", \"x-geo-country\" => \"PE\", \"x-geo-region\" => \"CAL\", \"accept-ranges\" => \"bytes\", \"date\" => \"Sun, 13 Mar 2022 15:56:16 GMT\", \"via\" => \"1.1 varnish\", \"x-served-by\" => \"cache-lim12125-LIM\", \"x-cache\" => \"HIT\", \"x-cache-hits\" => \"0\", \"x-timer\" => \"S1647186976.287239,VS0,VE0\"]))\n",
      "└ @ Pkg.Registry C:\\buildbot\\worker\\package_win64\\build\\usr\\share\\julia\\stdlib\\v1.7\\Pkg\\src\\Registry\\Registry.jl:82\n",
      "\u001b[32m\u001b[1m   Resolving\u001b[22m\u001b[39m package versions...\n",
      "\u001b[32m\u001b[1m  No Changes\u001b[22m\u001b[39m to `C:\\Users\\Alexander\\.julia\\environments\\v1.7\\Project.toml`\n",
      "\u001b[32m\u001b[1m  No Changes\u001b[22m\u001b[39m to `C:\\Users\\Alexander\\.julia\\environments\\v1.7\\Manifest.toml`\n",
      "\u001b[32m\u001b[1m   Resolving\u001b[22m\u001b[39m package versions...\n"
     ]
    },
    {
     "ename": "LoadError",
     "evalue": "Unable to automatically install 'Bzip2' from 'C:\\Users\\Alexander\\.julia\\packages\\Bzip2_jll\\iOonP\\Artifacts.toml'",
     "output_type": "error",
     "traceback": [
      "Unable to automatically install 'Bzip2' from 'C:\\Users\\Alexander\\.julia\\packages\\Bzip2_jll\\iOonP\\Artifacts.toml'",
      "",
      "Stacktrace:",
      "  [1] error(s::String)",
      "    @ Base .\\error.jl:33",
      "  [2] ensure_artifact_installed(name::String, meta::Dict{String, Any}, artifacts_toml::String; platform::Base.BinaryPlatforms.Platform, verbose::Bool, quiet_download::Bool, io::IJulia.IJuliaStdio{Base.PipeEndpoint})",
      "    @ Pkg.Artifacts C:\\Users\\Alexander\\AppData\\Local\\Programs\\Julia-1.7.2\\share\\julia\\stdlib\\v1.7\\Pkg\\src\\Artifacts.jl:441",
      "  [3] download_artifacts(env::Pkg.Types.EnvCache; platform::Base.BinaryPlatforms.Platform, julia_version::VersionNumber, verbose::Bool, io::IJulia.IJuliaStdio{Base.PipeEndpoint})",
      "    @ Pkg.Operations C:\\Users\\Alexander\\AppData\\Local\\Programs\\Julia-1.7.2\\share\\julia\\stdlib\\v1.7\\Pkg\\src\\Operations.jl:617",
      "  [4] add(ctx::Pkg.Types.Context, pkgs::Vector{Pkg.Types.PackageSpec}, new_git::Set{Base.UUID}; preserve::Pkg.Types.PreserveLevel, platform::Base.BinaryPlatforms.Platform)",
      "    @ Pkg.Operations C:\\Users\\Alexander\\AppData\\Local\\Programs\\Julia-1.7.2\\share\\julia\\stdlib\\v1.7\\Pkg\\src\\Operations.jl:1182",
      "  [5] add(ctx::Pkg.Types.Context, pkgs::Vector{Pkg.Types.PackageSpec}; preserve::Pkg.Types.PreserveLevel, platform::Base.BinaryPlatforms.Platform, kwargs::Base.Pairs{Symbol, IJulia.IJuliaStdio{Base.PipeEndpoint}, Tuple{Symbol}, NamedTuple{(:io,), Tuple{IJulia.IJuliaStdio{Base.PipeEndpoint}}}})",
      "    @ Pkg.API C:\\Users\\Alexander\\AppData\\Local\\Programs\\Julia-1.7.2\\share\\julia\\stdlib\\v1.7\\Pkg\\src\\API.jl:268",
      "  [6] add(pkgs::Vector{Pkg.Types.PackageSpec}; io::IJulia.IJuliaStdio{Base.PipeEndpoint}, kwargs::Base.Pairs{Symbol, Union{}, Tuple{}, NamedTuple{(), Tuple{}}})",
      "    @ Pkg.API C:\\Users\\Alexander\\AppData\\Local\\Programs\\Julia-1.7.2\\share\\julia\\stdlib\\v1.7\\Pkg\\src\\API.jl:149",
      "  [7] add(pkgs::Vector{Pkg.Types.PackageSpec})",
      "    @ Pkg.API C:\\Users\\Alexander\\AppData\\Local\\Programs\\Julia-1.7.2\\share\\julia\\stdlib\\v1.7\\Pkg\\src\\API.jl:144",
      "  [8] #add#27",
      "    @ C:\\Users\\Alexander\\AppData\\Local\\Programs\\Julia-1.7.2\\share\\julia\\stdlib\\v1.7\\Pkg\\src\\API.jl:142 [inlined]",
      "  [9] add",
      "    @ C:\\Users\\Alexander\\AppData\\Local\\Programs\\Julia-1.7.2\\share\\julia\\stdlib\\v1.7\\Pkg\\src\\API.jl:142 [inlined]",
      " [10] #add#26",
      "    @ C:\\Users\\Alexander\\AppData\\Local\\Programs\\Julia-1.7.2\\share\\julia\\stdlib\\v1.7\\Pkg\\src\\API.jl:141 [inlined]",
      " [11] add(pkg::String)",
      "    @ Pkg.API C:\\Users\\Alexander\\AppData\\Local\\Programs\\Julia-1.7.2\\share\\julia\\stdlib\\v1.7\\Pkg\\src\\API.jl:141",
      " [12] top-level scope",
      "    @ In[1]:2",
      " [13] eval",
      "    @ .\\boot.jl:373 [inlined]",
      " [14] include_string(mapexpr::typeof(REPL.softscope), mod::Module, code::String, filename::String)",
      "    @ Base .\\loading.jl:1196"
     ]
    }
   ],
   "source": [
    "import Pkg; Pkg.add(\"RData\")\n",
    "import Pkg; Pkg.add(\"CodecBzip2\")\n",
    "import Pkg; Pkg.add(\"DataStructures\")\n",
    "import Pkg; Pkg.add(\"NamedArrays\")\n",
    "import Pkg; Pkg.add(\"PrettyTables\")\n",
    "import Pkg; Pkg.add(\"Lasso\")"
   ]
  },
  {
   "cell_type": "code",
   "execution_count": 2,
   "id": "0530072f",
   "metadata": {},
   "outputs": [
    {
     "ename": "LoadError",
     "evalue": "HTTP/1.1 302 Found (Send failure: Connection was reset) while requesting https://github.com/JuliaBinaryWrappers/MKL_jll.jl/releases/download/MKL-v2020.0.166%2B0/MKL.v2020.0.166.x86_64-apple-darwin14.tar.gz",
     "output_type": "error",
     "traceback": [
      "HTTP/1.1 302 Found (Send failure: Connection was reset) while requesting https://github.com/JuliaBinaryWrappers/MKL_jll.jl/releases/download/MKL-v2020.0.166%2B0/MKL.v2020.0.166.x86_64-apple-darwin14.tar.gz",
      "",
      "Stacktrace:",
      "  [1] (::Downloads.var\"#9#18\"{IOStream, Base.DevNull, Nothing, Vector{Pair{String, String}}, Float64, Downloads.var\"#24#27\"{Pkg.PlatformEngines.var\"#16#18\"}, Bool, Bool, String, Int64, Bool, Bool})(easy::Downloads.Curl.Easy)",
      "    @ Downloads C:\\Users\\Alexander\\AppData\\Local\\Programs\\Julia-1.7.2\\share\\julia\\stdlib\\v1.7\\Downloads\\src\\Downloads.jl:369",
      "  [2] with_handle(f::Downloads.var\"#9#18\"{IOStream, Base.DevNull, Nothing, Vector{Pair{String, String}}, Float64, Downloads.var\"#24#27\"{Pkg.PlatformEngines.var\"#16#18\"}, Bool, Bool, String, Int64, Bool, Bool}, handle::Downloads.Curl.Easy)",
      "    @ Downloads.Curl C:\\Users\\Alexander\\AppData\\Local\\Programs\\Julia-1.7.2\\share\\julia\\stdlib\\v1.7\\Downloads\\src\\Curl\\Curl.jl:64",
      "  [3] #8",
      "    @ C:\\Users\\Alexander\\AppData\\Local\\Programs\\Julia-1.7.2\\share\\julia\\stdlib\\v1.7\\Downloads\\src\\Downloads.jl:311 [inlined]",
      "  [4] arg_write(f::Downloads.var\"#8#17\"{Base.DevNull, Nothing, Vector{Pair{String, String}}, Float64, Downloads.var\"#24#27\"{Pkg.PlatformEngines.var\"#16#18\"}, Bool, Bool, String, Int64, Bool, Bool}, arg::IOStream)",
      "    @ ArgTools C:\\Users\\Alexander\\AppData\\Local\\Programs\\Julia-1.7.2\\share\\julia\\stdlib\\v1.7\\ArgTools\\src\\ArgTools.jl:112",
      "  [5] #7",
      "    @ C:\\Users\\Alexander\\AppData\\Local\\Programs\\Julia-1.7.2\\share\\julia\\stdlib\\v1.7\\Downloads\\src\\Downloads.jl:310 [inlined]",
      "  [6] arg_read(f::Downloads.var\"#7#16\"{IOStream, Nothing, Vector{Pair{String, String}}, Float64, Downloads.var\"#24#27\"{Pkg.PlatformEngines.var\"#16#18\"}, Bool, Bool, String, Int64, Bool, Bool}, arg::Base.DevNull)",
      "    @ ArgTools C:\\Users\\Alexander\\AppData\\Local\\Programs\\Julia-1.7.2\\share\\julia\\stdlib\\v1.7\\ArgTools\\src\\ArgTools.jl:61",
      "  [7] request(url::String; input::Nothing, output::IOStream, method::Nothing, headers::Vector{Pair{String, String}}, timeout::Float64, progress::Pkg.PlatformEngines.var\"#16#18\", verbose::Bool, throw::Bool, downloader::Nothing)",
      "    @ Downloads C:\\Users\\Alexander\\AppData\\Local\\Programs\\Julia-1.7.2\\share\\julia\\stdlib\\v1.7\\Downloads\\src\\Downloads.jl:309",
      "  [8] #3",
      "    @ C:\\Users\\Alexander\\AppData\\Local\\Programs\\Julia-1.7.2\\share\\julia\\stdlib\\v1.7\\Downloads\\src\\Downloads.jl:222 [inlined]",
      "  [9] open(f::Downloads.var\"#3#4\"{Nothing, Vector{Pair{String, String}}, Float64, Pkg.PlatformEngines.var\"#16#18\", Bool, Nothing, String}, args::String; kwargs::Base.Pairs{Symbol, Bool, Tuple{Symbol}, NamedTuple{(:write,), Tuple{Bool}}})",
      "    @ Base .\\io.jl:330",
      " [10] arg_write(f::Function, arg::String)",
      "    @ ArgTools C:\\Users\\Alexander\\AppData\\Local\\Programs\\Julia-1.7.2\\share\\julia\\stdlib\\v1.7\\ArgTools\\src\\ArgTools.jl:86",
      " [11] #download#2",
      "    @ C:\\Users\\Alexander\\AppData\\Local\\Programs\\Julia-1.7.2\\share\\julia\\stdlib\\v1.7\\Downloads\\src\\Downloads.jl:221 [inlined]",
      " [12] download(url::String, dest::String; verbose::Bool, headers::Vector{Pair{String, String}}, auth_header::Nothing, io::IJulia.IJuliaStdio{Base.PipeEndpoint})",
      "    @ Pkg.PlatformEngines C:\\Users\\Alexander\\AppData\\Local\\Programs\\Julia-1.7.2\\share\\julia\\stdlib\\v1.7\\Pkg\\src\\PlatformEngines.jl:282",
      " [13] top-level scope",
      "    @ In[2]:5",
      " [14] eval",
      "    @ .\\boot.jl:373 [inlined]",
      " [15] include_string(mapexpr::typeof(REPL.softscope), mod::Module, code::String, filename::String)",
      "    @ Base .\\loading.jl:1196"
     ]
    }
   ],
   "source": [
    "using Pkg\n",
    "\n",
    "Pkg.PlatformEngines.probe_platform_engines!()\n",
    "\n",
    "Pkg.PlatformEngines.download(\"https://github.com/JuliaBinaryWrappers/MKL_jll.jl/releases/download/MKL-v2020.0.166%2B0/MKL.v2020.0.166.x86_64-apple-darwin14.tar.gz\", \"MKL_jll.tar.gz\"; verbose=true)"
   ]
  },
  {
   "cell_type": "code",
   "execution_count": 3,
   "id": "7de78db5",
   "metadata": {},
   "outputs": [
    {
     "ename": "LoadError",
     "evalue": "syntax: invalid operator \"--\"",
     "output_type": "error",
     "traceback": [
      "syntax: invalid operator \"--\"",
      "",
      "Stacktrace:",
      " [1] top-level scope",
      "   @ In[3]:1",
      " [2] eval",
      "   @ .\\boot.jl:373 [inlined]",
      " [3] include_string(mapexpr::typeof(REPL.softscope), mod::Module, code::String, filename::String)",
      "   @ Base .\\loading.jl:1196"
     ]
    }
   ],
   "source": [
    "curl --version"
   ]
  },
  {
   "cell_type": "code",
   "execution_count": 5,
   "id": "29a4d1fe",
   "metadata": {},
   "outputs": [],
   "source": [
    "using RData, LinearAlgebra, GLM, DataFrames, Statistics, Random, Distributions, DataStructures, NamedArrays, PrettyTables"
   ]
  },
  {
   "cell_type": "code",
   "execution_count": 13,
   "id": "8eb05ff7",
   "metadata": {},
   "outputs": [
    {
     "data": {
      "text/plain": [
       "Dict{String, Any} with 1 entry:\n",
       "  \"GrowthData\" => \u001b[1m90×63 DataFrame\u001b[0m…"
      ]
     },
     "execution_count": 13,
     "metadata": {},
     "output_type": "execute_result"
    }
   ],
   "source": [
    "# Importing .Rdata file\n",
    "growth_read = load(\"../../data/GrowthData.RData\")\n",
    "\n",
    "# Since growth_read is a dictionary, we check if there is a key called \"GrowthData\", the one we need for our analyze\n",
    "haskey(growth_read, \"GrowthData\")\n",
    "# Now we save that dataframe with a new name\n",
    "growth = growth_read[\"GrowthData\"]\n",
    "names(growth)\n",
    "\n",
    "Y = growth[!, \"Outcome\"]\n",
    "Y_2 = DataFrame([Y], [:Y])\n",
    "X_2 = select(growth, Not([\"Outcome\"]))"
   ]
  },
  {
   "cell_type": "code",
   "execution_count": 35,
   "id": "e009ad01",
   "metadata": {},
   "outputs": [
    {
     "data": {
      "text/html": [
       "<div class=\"data-frame\"><p>90 rows × 62 columns (omitted printing of 53 columns)</p><table class=\"data-frame\"><thead><tr><th></th><th>intercept</th><th>gdpsh465</th><th>bmp1l</th><th>freeop</th><th>freetar</th><th>h65</th><th>hm65</th><th>hf65</th><th>p65</th></tr><tr><th></th><th title=\"Int32\">Int32</th><th title=\"Float64\">Float64</th><th title=\"Float64\">Float64</th><th title=\"Float64\">Float64</th><th title=\"Float64\">Float64</th><th title=\"Float64\">Float64</th><th title=\"Float64\">Float64</th><th title=\"Float64\">Float64</th><th title=\"Float64\">Float64</th></tr></thead><tbody><tr><th>1</th><td>1</td><td>6.59167</td><td>0.2837</td><td>0.153491</td><td>0.043888</td><td>0.007</td><td>0.013</td><td>0.001</td><td>0.29</td></tr><tr><th>2</th><td>1</td><td>6.82979</td><td>0.6141</td><td>0.313509</td><td>0.061827</td><td>0.019</td><td>0.032</td><td>0.007</td><td>0.91</td></tr><tr><th>3</th><td>1</td><td>8.89508</td><td>0.0</td><td>0.204244</td><td>0.009186</td><td>0.26</td><td>0.325</td><td>0.201</td><td>1.0</td></tr><tr><th>4</th><td>1</td><td>7.56528</td><td>0.1997</td><td>0.248714</td><td>0.03627</td><td>0.061</td><td>0.07</td><td>0.051</td><td>1.0</td></tr><tr><th>5</th><td>1</td><td>7.1624</td><td>0.174</td><td>0.299252</td><td>0.037367</td><td>0.017</td><td>0.027</td><td>0.007</td><td>0.82</td></tr><tr><th>6</th><td>1</td><td>7.21891</td><td>0.0</td><td>0.258865</td><td>0.02088</td><td>0.023</td><td>0.038</td><td>0.006</td><td>0.5</td></tr><tr><th>7</th><td>1</td><td>7.8536</td><td>0.0</td><td>0.182525</td><td>0.014385</td><td>0.039</td><td>0.063</td><td>0.014</td><td>0.92</td></tr><tr><th>8</th><td>1</td><td>7.70391</td><td>0.2776</td><td>0.215275</td><td>0.029713</td><td>0.024</td><td>0.035</td><td>0.013</td><td>0.69</td></tr><tr><th>9</th><td>1</td><td>9.06346</td><td>0.0</td><td>0.109614</td><td>0.002171</td><td>0.402</td><td>0.488</td><td>0.314</td><td>1.0</td></tr><tr><th>10</th><td>1</td><td>8.15191</td><td>0.1484</td><td>0.110885</td><td>0.028579</td><td>0.145</td><td>0.173</td><td>0.114</td><td>1.0</td></tr><tr><th>11</th><td>1</td><td>6.92952</td><td>0.0296</td><td>0.165784</td><td>0.020115</td><td>0.046</td><td>0.066</td><td>0.025</td><td>0.73</td></tr><tr><th>12</th><td>1</td><td>7.23778</td><td>0.2151</td><td>0.078488</td><td>0.011581</td><td>0.022</td><td>0.031</td><td>0.014</td><td>1.0</td></tr><tr><th>13</th><td>1</td><td>8.11582</td><td>0.4318</td><td>0.137482</td><td>0.026547</td><td>0.059</td><td>0.073</td><td>0.045</td><td>1.0</td></tr><tr><th>14</th><td>1</td><td>7.2717</td><td>0.1689</td><td>0.164598</td><td>0.044446</td><td>0.029</td><td>0.045</td><td>0.013</td><td>0.84</td></tr><tr><th>15</th><td>1</td><td>7.12125</td><td>0.1832</td><td>0.188016</td><td>0.045678</td><td>0.033</td><td>0.051</td><td>0.015</td><td>0.91</td></tr><tr><th>16</th><td>1</td><td>6.97728</td><td>0.0962</td><td>0.204611</td><td>0.077852</td><td>0.037</td><td>0.043</td><td>0.03</td><td>1.0</td></tr><tr><th>17</th><td>1</td><td>7.64969</td><td>0.0227</td><td>0.136287</td><td>0.04673</td><td>0.081</td><td>0.105</td><td>0.056</td><td>0.99</td></tr><tr><th>18</th><td>1</td><td>8.05674</td><td>0.0208</td><td>0.197853</td><td>0.037224</td><td>0.083</td><td>0.097</td><td>0.069</td><td>1.0</td></tr><tr><th>19</th><td>1</td><td>8.78094</td><td>0.2654</td><td>0.189867</td><td>0.031747</td><td>0.068</td><td>0.089</td><td>0.046</td><td>0.94</td></tr><tr><th>20</th><td>1</td><td>6.28786</td><td>0.4207</td><td>0.130682</td><td>0.109921</td><td>0.053</td><td>0.039</td><td>0.011</td><td>0.74</td></tr><tr><th>21</th><td>1</td><td>6.13773</td><td>0.1371</td><td>0.123818</td><td>0.015897</td><td>0.028</td><td>0.025</td><td>0.007</td><td>0.72</td></tr><tr><th>22</th><td>1</td><td>8.12888</td><td>0.0</td><td>0.16721</td><td>0.003311</td><td>0.129</td><td>0.196</td><td>0.063</td><td>1.0</td></tr><tr><th>23</th><td>1</td><td>6.68085</td><td>0.4713</td><td>0.228424</td><td>0.029328</td><td>0.062</td><td>0.09</td><td>0.032</td><td>1.0</td></tr><tr><th>24</th><td>1</td><td>7.17702</td><td>0.0178</td><td>0.18524</td><td>0.015453</td><td>0.02</td><td>0.026</td><td>0.013</td><td>0.9</td></tr><tr><th>25</th><td>1</td><td>6.64898</td><td>0.4762</td><td>0.171181</td><td>0.058937</td><td>0.018</td><td>0.028</td><td>0.007</td><td>0.4</td></tr><tr><th>26</th><td>1</td><td>6.87936</td><td>0.2927</td><td>0.179508</td><td>0.035842</td><td>0.188</td><td>0.169</td><td>0.208</td><td>1.0</td></tr><tr><th>27</th><td>1</td><td>7.3473</td><td>0.1017</td><td>0.247626</td><td>0.037392</td><td>0.08</td><td>0.133</td><td>0.027</td><td>0.78</td></tr><tr><th>28</th><td>1</td><td>6.72503</td><td>0.0266</td><td>0.179933</td><td>0.046376</td><td>0.015</td><td>0.02</td><td>0.01</td><td>0.78</td></tr><tr><th>29</th><td>1</td><td>8.45105</td><td>0.0</td><td>0.358556</td><td>0.016468</td><td>0.09</td><td>0.133</td><td>0.044</td><td>1.0</td></tr><tr><th>30</th><td>1</td><td>8.60245</td><td>0.0</td><td>0.416234</td><td>0.014721</td><td>0.148</td><td>0.194</td><td>0.1</td><td>1.0</td></tr><tr><th>&vellip;</th><td>&vellip;</td><td>&vellip;</td><td>&vellip;</td><td>&vellip;</td><td>&vellip;</td><td>&vellip;</td><td>&vellip;</td><td>&vellip;</td><td>&vellip;</td></tr></tbody></table></div>"
      ],
      "text/latex": [
       "\\begin{tabular}{r|cccccccccc}\n",
       "\t& intercept & gdpsh465 & bmp1l & freeop & freetar & h65 & hm65 & hf65 & p65 & \\\\\n",
       "\t\\hline\n",
       "\t& Int32 & Float64 & Float64 & Float64 & Float64 & Float64 & Float64 & Float64 & Float64 & \\\\\n",
       "\t\\hline\n",
       "\t1 & 1 & 6.59167 & 0.2837 & 0.153491 & 0.043888 & 0.007 & 0.013 & 0.001 & 0.29 & $\\dots$ \\\\\n",
       "\t2 & 1 & 6.82979 & 0.6141 & 0.313509 & 0.061827 & 0.019 & 0.032 & 0.007 & 0.91 & $\\dots$ \\\\\n",
       "\t3 & 1 & 8.89508 & 0.0 & 0.204244 & 0.009186 & 0.26 & 0.325 & 0.201 & 1.0 & $\\dots$ \\\\\n",
       "\t4 & 1 & 7.56528 & 0.1997 & 0.248714 & 0.03627 & 0.061 & 0.07 & 0.051 & 1.0 & $\\dots$ \\\\\n",
       "\t5 & 1 & 7.1624 & 0.174 & 0.299252 & 0.037367 & 0.017 & 0.027 & 0.007 & 0.82 & $\\dots$ \\\\\n",
       "\t6 & 1 & 7.21891 & 0.0 & 0.258865 & 0.02088 & 0.023 & 0.038 & 0.006 & 0.5 & $\\dots$ \\\\\n",
       "\t7 & 1 & 7.8536 & 0.0 & 0.182525 & 0.014385 & 0.039 & 0.063 & 0.014 & 0.92 & $\\dots$ \\\\\n",
       "\t8 & 1 & 7.70391 & 0.2776 & 0.215275 & 0.029713 & 0.024 & 0.035 & 0.013 & 0.69 & $\\dots$ \\\\\n",
       "\t9 & 1 & 9.06346 & 0.0 & 0.109614 & 0.002171 & 0.402 & 0.488 & 0.314 & 1.0 & $\\dots$ \\\\\n",
       "\t10 & 1 & 8.15191 & 0.1484 & 0.110885 & 0.028579 & 0.145 & 0.173 & 0.114 & 1.0 & $\\dots$ \\\\\n",
       "\t11 & 1 & 6.92952 & 0.0296 & 0.165784 & 0.020115 & 0.046 & 0.066 & 0.025 & 0.73 & $\\dots$ \\\\\n",
       "\t12 & 1 & 7.23778 & 0.2151 & 0.078488 & 0.011581 & 0.022 & 0.031 & 0.014 & 1.0 & $\\dots$ \\\\\n",
       "\t13 & 1 & 8.11582 & 0.4318 & 0.137482 & 0.026547 & 0.059 & 0.073 & 0.045 & 1.0 & $\\dots$ \\\\\n",
       "\t14 & 1 & 7.2717 & 0.1689 & 0.164598 & 0.044446 & 0.029 & 0.045 & 0.013 & 0.84 & $\\dots$ \\\\\n",
       "\t15 & 1 & 7.12125 & 0.1832 & 0.188016 & 0.045678 & 0.033 & 0.051 & 0.015 & 0.91 & $\\dots$ \\\\\n",
       "\t16 & 1 & 6.97728 & 0.0962 & 0.204611 & 0.077852 & 0.037 & 0.043 & 0.03 & 1.0 & $\\dots$ \\\\\n",
       "\t17 & 1 & 7.64969 & 0.0227 & 0.136287 & 0.04673 & 0.081 & 0.105 & 0.056 & 0.99 & $\\dots$ \\\\\n",
       "\t18 & 1 & 8.05674 & 0.0208 & 0.197853 & 0.037224 & 0.083 & 0.097 & 0.069 & 1.0 & $\\dots$ \\\\\n",
       "\t19 & 1 & 8.78094 & 0.2654 & 0.189867 & 0.031747 & 0.068 & 0.089 & 0.046 & 0.94 & $\\dots$ \\\\\n",
       "\t20 & 1 & 6.28786 & 0.4207 & 0.130682 & 0.109921 & 0.053 & 0.039 & 0.011 & 0.74 & $\\dots$ \\\\\n",
       "\t21 & 1 & 6.13773 & 0.1371 & 0.123818 & 0.015897 & 0.028 & 0.025 & 0.007 & 0.72 & $\\dots$ \\\\\n",
       "\t22 & 1 & 8.12888 & 0.0 & 0.16721 & 0.003311 & 0.129 & 0.196 & 0.063 & 1.0 & $\\dots$ \\\\\n",
       "\t23 & 1 & 6.68085 & 0.4713 & 0.228424 & 0.029328 & 0.062 & 0.09 & 0.032 & 1.0 & $\\dots$ \\\\\n",
       "\t24 & 1 & 7.17702 & 0.0178 & 0.18524 & 0.015453 & 0.02 & 0.026 & 0.013 & 0.9 & $\\dots$ \\\\\n",
       "\t25 & 1 & 6.64898 & 0.4762 & 0.171181 & 0.058937 & 0.018 & 0.028 & 0.007 & 0.4 & $\\dots$ \\\\\n",
       "\t26 & 1 & 6.87936 & 0.2927 & 0.179508 & 0.035842 & 0.188 & 0.169 & 0.208 & 1.0 & $\\dots$ \\\\\n",
       "\t27 & 1 & 7.3473 & 0.1017 & 0.247626 & 0.037392 & 0.08 & 0.133 & 0.027 & 0.78 & $\\dots$ \\\\\n",
       "\t28 & 1 & 6.72503 & 0.0266 & 0.179933 & 0.046376 & 0.015 & 0.02 & 0.01 & 0.78 & $\\dots$ \\\\\n",
       "\t29 & 1 & 8.45105 & 0.0 & 0.358556 & 0.016468 & 0.09 & 0.133 & 0.044 & 1.0 & $\\dots$ \\\\\n",
       "\t30 & 1 & 8.60245 & 0.0 & 0.416234 & 0.014721 & 0.148 & 0.194 & 0.1 & 1.0 & $\\dots$ \\\\\n",
       "\t$\\dots$ & $\\dots$ & $\\dots$ & $\\dots$ & $\\dots$ & $\\dots$ & $\\dots$ & $\\dots$ & $\\dots$ & $\\dots$ &  \\\\\n",
       "\\end{tabular}\n"
      ],
      "text/plain": [
       "\u001b[1m90×62 DataFrame\u001b[0m\n",
       "\u001b[1m Row \u001b[0m│\u001b[1m intercept \u001b[0m\u001b[1m gdpsh465 \u001b[0m\u001b[1m bmp1l   \u001b[0m\u001b[1m freeop   \u001b[0m\u001b[1m freetar  \u001b[0m\u001b[1m h65     \u001b[0m\u001b[1m hm65    \u001b[0m\u001b[1m hf6\u001b[0m ⋯\n",
       "\u001b[1m     \u001b[0m│\u001b[90m Int32     \u001b[0m\u001b[90m Float64  \u001b[0m\u001b[90m Float64 \u001b[0m\u001b[90m Float64  \u001b[0m\u001b[90m Float64  \u001b[0m\u001b[90m Float64 \u001b[0m\u001b[90m Float64 \u001b[0m\u001b[90m Flo\u001b[0m ⋯\n",
       "─────┼──────────────────────────────────────────────────────────────────────────\n",
       "   1 │         1   6.59167   0.2837  0.153491  0.043888    0.007    0.013    0 ⋯\n",
       "   2 │         1   6.82979   0.6141  0.313509  0.061827    0.019    0.032    0\n",
       "   3 │         1   8.89508   0.0     0.204244  0.009186    0.26     0.325    0\n",
       "   4 │         1   7.56528   0.1997  0.248714  0.03627     0.061    0.07     0\n",
       "   5 │         1   7.1624    0.174   0.299252  0.037367    0.017    0.027    0 ⋯\n",
       "   6 │         1   7.21891   0.0     0.258865  0.02088     0.023    0.038    0\n",
       "   7 │         1   7.8536    0.0     0.182525  0.014385    0.039    0.063    0\n",
       "   8 │         1   7.70391   0.2776  0.215275  0.029713    0.024    0.035    0\n",
       "   9 │         1   9.06346   0.0     0.109614  0.002171    0.402    0.488    0 ⋯\n",
       "  10 │         1   8.15191   0.1484  0.110885  0.028579    0.145    0.173    0\n",
       "  11 │         1   6.92952   0.0296  0.165784  0.020115    0.046    0.066    0\n",
       "  ⋮  │     ⋮         ⋮         ⋮        ⋮         ⋮         ⋮        ⋮         ⋱\n",
       "  81 │         1   9.03097   0.0     0.293138  0.005517    0.245    0.251    0\n",
       "  82 │         1   8.99554   0.0     0.30472   0.011658    0.246    0.26     0 ⋯\n",
       "  83 │         1   8.23483   0.0363  0.288405  0.011589    0.183    0.222    0\n",
       "  84 │         1   8.33255   0.0     0.345485  0.006503    0.188    0.248    0\n",
       "  85 │         1   8.64559   0.0     0.28844   0.005995    0.256    0.301    0\n",
       "  86 │         1   8.99106   0.0     0.371898  0.014586    0.255    0.336    0 ⋯\n",
       "  87 │         1   8.02519   0.005   0.296437  0.013615    0.108    0.117    0\n",
       "  88 │         1   9.03014   0.0     0.265778  0.008629    0.288    0.337    0\n",
       "  89 │         1   8.86531   0.0     0.282939  0.005048    0.188    0.236    0\n",
       "  90 │         1   8.91234   0.0     0.150366  0.024377    0.257    0.338    0 ⋯\n",
       "\u001b[36m                                                  55 columns and 69 rows omitted\u001b[0m"
      ]
     },
     "execution_count": 35,
     "metadata": {},
     "output_type": "execute_result"
    }
   ],
   "source": []
  },
  {
   "cell_type": "code",
   "execution_count": 28,
   "id": "edbdadb9",
   "metadata": {},
   "outputs": [
    {
     "data": {
      "text/plain": [
       "4-element Vector{Float64}:\n",
       "  0.2453949358186934\n",
       " -0.08642608748746254\n",
       " -0.6178751708887436\n",
       " -0.23957066264789037"
      ]
     },
     "execution_count": 28,
     "metadata": {},
     "output_type": "execute_result"
    }
   ],
   "source": [
    "X_2 = convert(Matrix, Matrix(X_2[:, 2:5]))\n",
    "Y_2 = convert(Matrix, Matrix(Y_2))\n",
    "lmbda = randn(size(X_2)[2])"
   ]
  },
  {
   "cell_type": "code",
   "execution_count": 29,
   "id": "f2609e24",
   "metadata": {},
   "outputs": [
    {
     "ename": "LoadError",
     "evalue": "MethodError: no method matching fit(::Type{LinearModel}, ::Matrix{Float64}, ::Matrix{Float64}, ::Nothing)\n\u001b[0mClosest candidates are:\n\u001b[0m  fit(::Type{LinearModel}, ::AbstractMatrix{<:Real}, \u001b[91m::AbstractVector{<:Real}\u001b[39m, ::Union{Nothing, Bool}; wts, dropcollinear) at C:\\Users\\Alexander\\.julia\\packages\\GLM\\gt3bb\\src\\lm.jl:161\n\u001b[0m  fit(\u001b[91m::Type{StatsBase.Histogram}\u001b[39m, ::Any...; kwargs...) at C:\\Users\\Alexander\\.julia\\packages\\StatsBase\\pJqvO\\src\\hist.jl:383\n\u001b[0m  fit(::Type{T}, \u001b[91m::FormulaTerm\u001b[39m, ::Any, ::Any...; contrasts, kwargs...) where T<:RegressionModel at C:\\Users\\Alexander\\.julia\\packages\\StatsModels\\57Kc9\\src\\statsmodel.jl:78\n\u001b[0m  ...",
     "output_type": "error",
     "traceback": [
      "MethodError: no method matching fit(::Type{LinearModel}, ::Matrix{Float64}, ::Matrix{Float64}, ::Nothing)\n\u001b[0mClosest candidates are:\n\u001b[0m  fit(::Type{LinearModel}, ::AbstractMatrix{<:Real}, \u001b[91m::AbstractVector{<:Real}\u001b[39m, ::Union{Nothing, Bool}; wts, dropcollinear) at C:\\Users\\Alexander\\.julia\\packages\\GLM\\gt3bb\\src\\lm.jl:161\n\u001b[0m  fit(\u001b[91m::Type{StatsBase.Histogram}\u001b[39m, ::Any...; kwargs...) at C:\\Users\\Alexander\\.julia\\packages\\StatsBase\\pJqvO\\src\\hist.jl:383\n\u001b[0m  fit(::Type{T}, \u001b[91m::FormulaTerm\u001b[39m, ::Any, ::Any...; contrasts, kwargs...) where T<:RegressionModel at C:\\Users\\Alexander\\.julia\\packages\\StatsModels\\57Kc9\\src\\statsmodel.jl:78\n\u001b[0m  ...",
      "",
      "Stacktrace:",
      " [1] lm(X::Matrix{Float64}, y::Matrix{Float64}, allowrankdeficient_dep::Nothing; kwargs::Base.Pairs{Symbol, Union{}, Tuple{}, NamedTuple{(), Tuple{}}})",
      "   @ GLM C:\\Users\\Alexander\\.julia\\packages\\GLM\\gt3bb\\src\\lm.jl:184",
      " [2] lm(X::Matrix{Float64}, y::Matrix{Float64}, allowrankdeficient_dep::Nothing) (repeats 2 times)",
      "   @ GLM C:\\Users\\Alexander\\.julia\\packages\\GLM\\gt3bb\\src\\lm.jl:184",
      " [3] top-level scope",
      "   @ In[29]:1",
      " [4] eval",
      "   @ .\\boot.jl:373 [inlined]",
      " [5] include_string(mapexpr::typeof(REPL.softscope), mod::Module, code::String, filename::String)",
      "   @ Base .\\loading.jl:1196"
     ]
    }
   ],
   "source": [
    "lm(X_2, Y_2)"
   ]
  },
  {
   "cell_type": "code",
   "execution_count": 30,
   "id": "942fbc5c",
   "metadata": {},
   "outputs": [
    {
     "data": {
      "text/plain": [
       "90×4 Matrix{Float64}:\n",
       " 6.59167  0.2837  0.153491  0.043888\n",
       " 6.82979  0.6141  0.313509  0.061827\n",
       " 8.89508  0.0     0.204244  0.009186\n",
       " 7.56528  0.1997  0.248714  0.03627\n",
       " 7.1624   0.174   0.299252  0.037367\n",
       " 7.21891  0.0     0.258865  0.02088\n",
       " 7.8536   0.0     0.182525  0.014385\n",
       " 7.70391  0.2776  0.215275  0.029713\n",
       " 9.06346  0.0     0.109614  0.002171\n",
       " 8.15191  0.1484  0.110885  0.028579\n",
       " 6.92952  0.0296  0.165784  0.020115\n",
       " 7.23778  0.2151  0.078488  0.011581\n",
       " 8.11582  0.4318  0.137482  0.026547\n",
       " ⋮                          \n",
       " 7.89469  0.1062  0.247626  0.037392\n",
       " 7.17549  0.0     0.179933  0.046376\n",
       " 9.03097  0.0     0.293138  0.005517\n",
       " 8.99554  0.0     0.30472   0.011658\n",
       " 8.23483  0.0363  0.288405  0.011589\n",
       " 8.33255  0.0     0.345485  0.006503\n",
       " 8.64559  0.0     0.28844   0.005995\n",
       " 8.99106  0.0     0.371898  0.014586\n",
       " 8.02519  0.005   0.296437  0.013615\n",
       " 9.03014  0.0     0.265778  0.008629\n",
       " 8.86531  0.0     0.282939  0.005048\n",
       " 8.91234  0.0     0.150366  0.024377"
      ]
     },
     "execution_count": 30,
     "metadata": {},
     "output_type": "execute_result"
    }
   ],
   "source": [
    "X_2"
   ]
  },
  {
   "cell_type": "code",
   "execution_count": null,
   "id": "337b9750",
   "metadata": {},
   "outputs": [],
   "source": []
  },
  {
   "cell_type": "code",
   "execution_count": 172,
   "id": "fdede0f0",
   "metadata": {},
   "outputs": [
    {
     "ename": "LoadError",
     "evalue": "UndefVarError: numSim not defined",
     "output_type": "error",
     "traceback": [
      "UndefVarError: numSim not defined",
      "",
      "Stacktrace:",
      " [1] top-level scope",
      "   @ In[172]:5",
      " [2] eval",
      "   @ .\\boot.jl:373 [inlined]",
      " [3] include_string(mapexpr::typeof(REPL.softscope), mod::Module, code::String, filename::String)",
      "   @ Base .\\loading.jl:1196"
     ]
    }
   ],
   "source": [
    "# # Get number of observations n and number of variables p\n",
    "# n, p = size(X)\n",
    "\n",
    "# # Get number of simulations to use (if simulations are necessary)\n",
    "# R = numSim\n",
    "\n",
    "# # Go through all possible combinations of homoskedasticy/heteroskedasticity\n",
    "# # and X-dependent or independent error terms. The first two cases are\n",
    "# # special cases: Handling the case there homoskedastic was set to None, and\n",
    "# # where lambda_start was provided.\n",
    "# #\n",
    "\n",
    "# # 1) If homoskedastic was set to None (special case)\n",
    "# if (isnothing(homoskedastic))\n",
    "    \n",
    "#     # Initialize lambda\n",
    "#         lmbda0 = lambda_start\n",
    "    \n",
    "#     Ups0 = (1 /sqrt(n)) * sqrt.((y.^2)'*(x.^2))\n",
    "            \n",
    "#     # Calculate the final vector of penalty terms\n",
    "#         lmbda = lmbda0 * Ups0\n",
    "    \n",
    "# # 2) If lambda_start was provided (special case)\n",
    "# elseif (isnothing(lambda_start)) == 0\n",
    "    \n",
    "#     # Check whether a homogeneous penalty term was provided (a scalar)\n",
    "#     if maximum(size(lambda_start)) == 1\n",
    "#         # If so, repeat that p times as the penalty term\n",
    "#         lmbda = ones(p,1).*lambda_start\n",
    "    \n",
    "#     else:\n",
    "#         # Otherwise, use the provided vector of penalty terms as is\n",
    "#         lmbda = lambda_start\n",
    "#     end\n",
    "        \n",
    "# # 3) Homoskedastic and X-independent\n",
    "# elseif homoskedastic == true &  X_dependent_lambda == false\n",
    "    \n",
    "#     # Initilaize lambda\n",
    "#     lmbda0 = 2 * c * sqrt(n) * quantile(Normal(0.0, 1.0),1 - gamma/(2*p))\n",
    "    \n",
    "#     # Use ddof=1(corrected = true in Julia) to be consistent with R's var() function (in Julia by defaul the DDF is N-1)\n",
    "#     Ups0 = sqrt(var(y, corrected = true))\n",
    "    \n",
    "#     # Calculate the final vector of penalty terms\n",
    "#     lmbda = zeros(p,1) .+ lmbda0 * Ups0\n",
    "\n",
    "# # 4) Homoskedastic and X-dependent\n",
    "# elseif homoskedastic == true & X_dependent_lambda == true\n",
    "#     psi = mean.(eachcol(x.^2))\n",
    "#     tXtpsi = (x' ./ sqrt.(psi))'\n",
    "    \n",
    "#     R = 5000\n",
    "#     sim = zeros(R,1)\n",
    "    \n",
    "#     for l in 1:R\n",
    "#         g = reshape(repeat(randn(10), inner = p),(p, n))'\n",
    "#         sim[l] = n * maximum(2*abs.(mean.(eachcol(tXtpsi.* g))))\n",
    "#     end\n",
    "    \n",
    "#     # Initialize lambda based on the simulated quantiles\n",
    "#     lambda0 = c*quantile(vec(sim), 1 - gamma)\n",
    "    \n",
    "#     Ups0 = sqrt(var(y, corrected = true))\n",
    "    \n",
    "#     # Calculate the final vector of penalty terms\n",
    "#     lmbda = zeros(p,1) .+ lmbda0 * Ups0\n",
    " \n",
    "# # 5) Heteroskedastic and X-independent\n",
    "# elseif homoskedastic == false &  X_dependent_lambda == false\n",
    "    \n",
    "#     # The original includes the comment, \"1=num endogenous variables\"\n",
    "#     lmbda0 = 2 * c * sqrt(n) * quantile(Normal(0.0, 1.0),1 - gamma/(2*p*1))\n",
    "    \n",
    "#     Ups0 = (1 /sqrt(n)) * sqrt.((y.^2)'*(x.^2))\n",
    "#     lmbda = lmbda0 * Ups0\n",
    "\n",
    "# # 6) Heteroskedastic and X-dependent\n",
    "# elseif homoskedastic == false &  X_dependent_lambda == true\n",
    "    \n",
    "#     eh = y\n",
    "#     ehat = reshape(repeat(eh, inner = p),(p, n))'\n",
    "    \n",
    "#     xehat = x.*ehat\n",
    "#     psi = mean.(eachcol(xehat.^2))'\n",
    "#     tXehattpsi = (xehat./sqrt.(psi))\n",
    "    \n",
    "#     R = 5000\n",
    "#     sim = zeros(R,1)\n",
    "    \n",
    "#     for l in 1:R\n",
    "#         g = reshape(repeat(randn(10), inner = p),(p, n))'\n",
    "#         sim[l] = n * maximum(2*abs.(mean.(eachcol(tXtpsi.* g))))\n",
    "#     end\n",
    "    \n",
    "#     # Initialize lambda based on the simulated quantiles\n",
    "#     lambda0 = c*quantile(vec(sim), 1 - gamma)\n",
    "    \n",
    "#     Ups0 = (1 /sqrt(n)) * sqrt.((y.^2)'*(x.^2))\n",
    "    \n",
    "#     lmbda = lmbda0 * Ups0\n",
    "\n",
    "# return Dict(\"lambda0\" => lmbda0, \"lambda\" => lmbda, \"Ups0\" => Ups0) \n",
    "    \n",
    "# end"
   ]
  }
 ],
 "metadata": {
  "kernelspec": {
   "display_name": "Julia 1.7.2",
   "language": "julia",
   "name": "julia-1.7"
  },
  "language_info": {
   "file_extension": ".jl",
   "mimetype": "application/julia",
   "name": "julia",
   "version": "1.7.2"
  }
 },
 "nbformat": 4,
 "nbformat_minor": 5
}
