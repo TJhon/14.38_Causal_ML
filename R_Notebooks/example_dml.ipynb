{
 "cells": [
  {
   "cell_type": "code",
   "execution_count": 6,
   "id": "bc6ef81f",
   "metadata": {},
   "outputs": [
    {
     "ename": "ERROR",
     "evalue": "Error in Image(filename = PATH + \"example.png\", width = 100, height = 100): could not find function \"Image\"\n",
     "output_type": "error",
     "traceback": [
      "Error in Image(filename = PATH + \"example.png\", width = 100, height = 100): could not find function \"Image\"\nTraceback:\n"
     ]
    }
   ],
   "source": [
    "PATH = \"C:/Users/Alexander/Documents/GitHub/14.38_Causal_ML/R_Notebooks/\"\n",
    "Image(filename = PATH + \"example.png\", width=100, height=100)"
   ]
  },
  {
   "cell_type": "code",
   "execution_count": 3,
   "id": "2bb35fb7",
   "metadata": {},
   "outputs": [
    {
     "name": "stderr",
     "output_type": "stream",
     "text": [
      "Warning message:\n",
      "\"package 'randomForest' was built under R version 4.1.3\"\n",
      "randomForest 4.7-1\n",
      "\n",
      "Type rfNews() to see new features/changes/bug fixes.\n",
      "\n"
     ]
    }
   ],
   "source": [
    "library(clusterGeneration)\n",
    "library(mvtnorm)\n",
    "library(randomForest)\n",
    "\n",
    "set.seed(123) # = Seed for Replication = #\n",
    "N=500 # = Number of observations = #\n",
    "k=10 # = Number of variables in z = #\n",
    "theta=0.5\n",
    "b=1/(1:k)\n",
    "\n",
    "# = Generate covariance matrix of z = #\n",
    "sigma=genPositiveDefMat(k,\"unifcorrmat\")$Sigma\n",
    "sigma=cov2cor(sigma)"
   ]
  },
  {
   "cell_type": "code",
   "execution_count": 4,
   "id": "215836fe",
   "metadata": {},
   "outputs": [
    {
     "data": {
      "text/html": [
       "<style>\n",
       ".dl-inline {width: auto; margin:0; padding: 0}\n",
       ".dl-inline>dt, .dl-inline>dd {float: none; width: auto; display: inline-block}\n",
       ".dl-inline>dt::after {content: \":\\0020\"; padding-right: .5ex}\n",
       ".dl-inline>dt:not(:first-of-type) {padding-left: .5ex}\n",
       "</style><dl class=dl-inline><dt>OLS</dt><dd>0.546720169552394</dd><dt>Naive DML</dt><dd>0.41867258463917</dd><dt>Cross-fiting DML</dt><dd>0.511539793693694</dd></dl>\n"
      ],
      "text/latex": [
       "\\begin{description*}\n",
       "\\item[OLS] 0.546720169552394\n",
       "\\item[Naive DML] 0.41867258463917\n",
       "\\item[Cross-fiting DML] 0.511539793693694\n",
       "\\end{description*}\n"
      ],
      "text/markdown": [
       "OLS\n",
       ":   0.546720169552394Naive DML\n",
       ":   0.41867258463917Cross-fiting DML\n",
       ":   0.511539793693694\n",
       "\n"
      ],
      "text/plain": [
       "             OLS        Naive DML Cross-fiting DML \n",
       "       0.5467202        0.4186726        0.5115398 "
      ]
     },
     "metadata": {},
     "output_type": "display_data"
    },
    {
     "data": {
      "image/png": "[encoded data removed]",
      "text/plain": [
       "Plot with title \"density.default(x = thetahat[, 1])\""
      ]
     },
     "metadata": {
      "image/png": {
       "height": 420,
       "width": 420
      }
     },
     "output_type": "display_data"
    }
   ],
   "source": [
    "set.seed(123)\n",
    "M=50 # = Number of Simumations = #\n",
    "\n",
    "# = Matrix to store results = #\n",
    "thetahat=matrix(NA,M,3)\n",
    "colnames(thetahat)=c(\"OLS\",\"Naive DML\",\"Cross-fiting DML\")\n",
    "\n",
    "for(i in 1:M){\n",
    "  z=rmvnorm(N,sigma=sigma) # = Generate z = #\n",
    "  g=as.vector(cos(z%*%b)^2) # = Generate the function g = #\n",
    "  m=as.vector(sin(z%*%b)+cos(z%*%b)) # = Generate the function m = #\n",
    "  d=m+rnorm(N) # = Generate d = #\n",
    "  y=theta*d+g+rnorm(N) # = Generate y = #\n",
    "\n",
    "  # = OLS estimate = #\n",
    "  OLS=coef(lm(y~d))[2]\n",
    "  thetahat[i,1]=OLS\n",
    "\n",
    "  # = Naive DML = #\n",
    "  # = Compute ghat = #\n",
    "  model=randomForest(z,y,maxnodes = 20)\n",
    "  G=predict(model,z)\n",
    "  # = Compute mhat = #\n",
    "  modeld=randomForest(z,d,maxnodes = 20)\n",
    "  M=predict(modeld,z)\n",
    "  # = compute vhat as the residuals of the second model = #\n",
    "  V=d-M\n",
    "  # = Compute DML theta = #\n",
    "  theta_nv=mean(V*(y-G))/mean(V*d)\n",
    "  thetahat[i,2]=theta_nv\n",
    "\n",
    "  # = Cross-fitting DML = #\n",
    "  # = Split sample = #\n",
    "  I=sort(sample(1:N,N/2))\n",
    "  IC=setdiff(1:N,I)\n",
    "  # = compute ghat on both sample = #\n",
    "  model1=randomForest(z[IC,],y[IC],maxnodes = 10)\n",
    "  model2=randomForest(z[I,],y[I], maxnodes = 10)\n",
    "  G1=predict(model1,z[I,])\n",
    "  G2=predict(model2,z[IC,])\n",
    "\n",
    "  # = Compute mhat and vhat on both samples = #\n",
    "  modeld1=randomForest(z[IC,],d[IC],maxnodes = 10)\n",
    "  modeld2=randomForest(z[I,],d[I],maxnodes = 10)\n",
    "  M1=predict(modeld1,z[I,])\n",
    "  M2=predict(modeld2,z[IC,])\n",
    "  V1=d[I]-M1\n",
    "  V2=d[IC]-M2\n",
    "\n",
    "  # = Compute Cross-Fitting DML theta\n",
    "  theta1=mean(V1*(y[I]-G1))/mean(V1*d[I])\n",
    "  theta2=mean(V2*(y[IC]-G2))/mean(V2*d[IC])\n",
    "  theta_cf=mean(c(theta1,theta2))\n",
    "  thetahat[i,3]=theta_cf\n",
    "\n",
    "}\n",
    "\n",
    "colMeans(thetahat) # = check the average theta for all models = #\n",
    "\n",
    "##              OLS        Naive DML Cross-fiting DML\n",
    "##        0.5465718        0.4155583        0.5065751\n",
    "\n",
    "# = plot distributions = #\n",
    "plot(density(thetahat[,1]),xlim=c(0.3,0.7),ylim=c(0,14))\n",
    "lines(density(thetahat[,2]),col=2)\n",
    "lines(density(thetahat[,3]),col=4)\n",
    "abline(v=0.5,lty=2,col=3)\n",
    "legend(\"topleft\",legend=c(\"OLS\",\"Naive DML\",\"Cross-fiting DML\"),col=c(1,2,4),lty=1,cex=0.7,seg.len = 0.7,bty=\"n\")"
   ]
  },
  {
   "cell_type": "code",
   "execution_count": null,
   "id": "b426a085",
   "metadata": {},
   "outputs": [],
   "source": []
  }
 ],
 "metadata": {
  "kernelspec": {
   "display_name": "R",
   "language": "R",
   "name": "ir"
  },
  "language_info": {
   "codemirror_mode": "r",
   "file_extension": ".r",
   "mimetype": "text/x-r-source",
   "name": "R",
   "pygments_lexer": "r",
   "version": "4.1.2"
  }
 },
 "nbformat": 4,
 "nbformat_minor": 5
}
